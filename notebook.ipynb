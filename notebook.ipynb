{
 "cells": [
  {
   "cell_type": "markdown",
   "metadata": {},
   "source": [
    "\n",
    "    \n",
    "    \n",
    "## <H2 align=\"center\"> <font color='white'> **MAF1731B**: Microstructure and Trading Systems </H2>\n",
    "\n",
    "### <H3 align=\"center\"> <font color='white'> **Laboratory 4**: Market Microstructure </H3>\n",
    "\n",
    " <H5 align=\"center\"> <em> Professor: Villalobos Ramos Omar Antonio <em>\n",
    "\n",
    " <p align=\"center\"> <img style=\" margin: 30px 15px 15px 15px;\" src=\"https://pngimage.net/wp-content/uploads/2018/06/logo-iteso-png-5.png\" width=\"350\" height=\"150\" /> \n",
    "\n",
    " <strong> <H5 align=\"left\"> Student:\n",
    "Esteban Marquez Delgado <strong>\n",
    "\n",
    " *Registry*:\n",
    "if700637: https://github.com/EstebanMqz/MyST_LAB_4\n",
    "\n",
    " <center> <font color= #555555> <font size = 4> November 2022 </a> <font color= #555555> <font size = 4> </a></font>"
   ]
  },
  {
   "cell_type": "markdown",
   "metadata": {},
   "source": [
    "<hr style=\"border:0.02in solid gray\"> </hr>"
   ]
  },
  {
   "cell_type": "markdown",
   "metadata": {},
   "source": [
    "<center> <font color= #555555> <font size = 6> Laboratory 4 </font> <br> <br> <font color= #555555> <font size = 5> Market Microstructure  </font>"
   ]
  },
  {
   "cell_type": "markdown",
   "metadata": {},
   "source": [
    "<hr style=\"border:0.02in solid gray\"> </hr>"
   ]
  },
  {
   "cell_type": "markdown",
   "metadata": {},
   "source": [
    "### <font color= #555555> <font size = 4> Abstract </font>"
   ]
  },
  {
   "cell_type": "markdown",
   "metadata": {},
   "source": [
    "This document was prepared as delivery for Laboratory 4 of Microstructure and Trading Systems - MAF1731B class during the Autumn 2022 course at ITESO for the Bachelor of Financial Engineering. In order to analyze the market microstructure in criptocurrencies markets containing the following 3 sections:\n",
    "\n",
    "1. **Consume CCXT data**: Download Criptocurrencies Order Books from exchanges (kraken, ftx, currencycom, coinmate, etc).\n",
    "\n",
    "2. **Microstructure Visualization**: Build Time Series using the Order Books obtained in the previous point from the following elements of the Market Microstructure for each asset and exchange (Levels, Bid Volume, Ask Volume, Total Volume, Mid Price, VWAP.)\n",
    "\n",
    "3. **Microstructure Modeling**: Estimation of Roll Effective Spread using the lagged series at t-5.\n",
    "\n"
   ]
  },
  {
   "cell_type": "markdown",
   "metadata": {},
   "source": [
    "<font color= lightblue> <font size = 4> 0. Libraries and Dependencies: </font>\n",
    "\n",
    "<font color= gray>\n",
    "\n",
    "**Note**: To run this notebook it is necessary to have the following libraries contained in the [requirements.txt](https://github.com/EstebanMqz/MyST_LAB_4/blob/main/requirements.txt) script of this project.\n",
    "\n",
    "To install the libraries in the script run the following cell:"
   ]
  },
  {
   "cell_type": "code",
   "execution_count": 1,
   "metadata": {},
   "outputs": [
    {
     "name": "stdout",
     "output_type": "stream",
     "text": [
      "Requirement already satisfied: pandas>=1.3.4 in c:\\programdata\\anaconda3\\lib\\site-packages (from -r requirements.txt (line 9)) (1.4.4)\n",
      "Requirement already satisfied: numpy>=1.19.1 in c:\\programdata\\anaconda3\\lib\\site-packages (from -r requirements.txt (line 10)) (1.21.5)\n",
      "Requirement already satisfied: jupyter>=1.0.0 in c:\\programdata\\anaconda3\\lib\\site-packages (from -r requirements.txt (line 11)) (1.0.0)\n",
      "Requirement already satisfied: chart_studio>=1.1 in c:\\programdata\\anaconda3\\lib\\site-packages (from -r requirements.txt (line 12)) (1.1.0)\n",
      "Requirement already satisfied: plotly>=4.14 in c:\\programdata\\anaconda3\\lib\\site-packages (from -r requirements.txt (line 13)) (5.6.0)\n",
      "Requirement already satisfied: datetime>=4.7 in c:\\programdata\\anaconda3\\lib\\site-packages (from -r requirements.txt (line 14)) (4.7)\n",
      "Requirement already satisfied: pandas_datareader>=0.10.0 in c:\\programdata\\anaconda3\\lib\\site-packages (from -r requirements.txt (line 15)) (0.10.0)\n",
      "Requirement already satisfied: tk>=0.1.0 in c:\\programdata\\anaconda3\\lib\\site-packages (from -r requirements.txt (line 16)) (0.1.0)\n",
      "Requirement already satisfied: yahoofinancials>=1.6 in c:\\programdata\\anaconda3\\lib\\site-packages (from -r requirements.txt (line 18)) (1.6)\n",
      "Requirement already satisfied: scipy>=1.7.3 in c:\\programdata\\anaconda3\\lib\\site-packages (from -r requirements.txt (line 19)) (1.7.3)\n",
      "Requirement already satisfied: regex>=2022.3.15 in c:\\programdata\\anaconda3\\lib\\site-packages (from -r requirements.txt (line 20)) (2022.3.15)\n",
      "Requirement already satisfied: matplotlib>=3.5.1 in c:\\programdata\\anaconda3\\lib\\site-packages (from -r requirements.txt (line 21)) (3.5.3)\n",
      "Requirement already satisfied: fire>=0.4.0 in c:\\programdata\\anaconda3\\lib\\site-packages (from -r requirements.txt (line 22)) (0.4.0)\n",
      "Requirement already satisfied: python-dateutil>=2.8.1 in c:\\programdata\\anaconda3\\lib\\site-packages (from pandas>=1.3.4->-r requirements.txt (line 9)) (2.8.2)\n",
      "Requirement already satisfied: pytz>=2020.1 in c:\\programdata\\anaconda3\\lib\\site-packages (from pandas>=1.3.4->-r requirements.txt (line 9)) (2021.3)\n",
      "Requirement already satisfied: ipykernel in c:\\programdata\\anaconda3\\lib\\site-packages (from jupyter>=1.0.0->-r requirements.txt (line 11)) (6.9.1)\n",
      "Requirement already satisfied: jupyter-console in c:\\programdata\\anaconda3\\lib\\site-packages (from jupyter>=1.0.0->-r requirements.txt (line 11)) (6.4.0)\n",
      "Requirement already satisfied: notebook in c:\\programdata\\anaconda3\\lib\\site-packages (from jupyter>=1.0.0->-r requirements.txt (line 11)) (6.4.8)\n",
      "Requirement already satisfied: qtconsole in c:\\programdata\\anaconda3\\lib\\site-packages (from jupyter>=1.0.0->-r requirements.txt (line 11)) (5.3.0)\n",
      "Requirement already satisfied: ipywidgets in c:\\programdata\\anaconda3\\lib\\site-packages (from jupyter>=1.0.0->-r requirements.txt (line 11)) (7.6.5)\n",
      "Requirement already satisfied: nbconvert in c:\\programdata\\anaconda3\\lib\\site-packages (from jupyter>=1.0.0->-r requirements.txt (line 11)) (6.4.4)\n",
      "Requirement already satisfied: retrying>=1.3.3 in c:\\programdata\\anaconda3\\lib\\site-packages (from chart_studio>=1.1->-r requirements.txt (line 12)) (1.3.3)\n",
      "Requirement already satisfied: six in c:\\programdata\\anaconda3\\lib\\site-packages (from chart_studio>=1.1->-r requirements.txt (line 12)) (1.16.0)\n",
      "Requirement already satisfied: requests in c:\\programdata\\anaconda3\\lib\\site-packages (from chart_studio>=1.1->-r requirements.txt (line 12)) (2.28.1)\n",
      "Requirement already satisfied: tenacity>=6.2.0 in c:\\programdata\\anaconda3\\lib\\site-packages (from plotly>=4.14->-r requirements.txt (line 13)) (8.0.1)\n",
      "Requirement already satisfied: zope.interface in c:\\programdata\\anaconda3\\lib\\site-packages (from datetime>=4.7->-r requirements.txt (line 14)) (5.4.0)\n",
      "Requirement already satisfied: lxml in c:\\programdata\\anaconda3\\lib\\site-packages (from pandas_datareader>=0.10.0->-r requirements.txt (line 15)) (4.8.0)\n",
      "Requirement already satisfied: beautifulsoup4 in c:\\programdata\\anaconda3\\lib\\site-packages (from yahoofinancials>=1.6->-r requirements.txt (line 18)) (4.11.1)\n",
      "Requirement already satisfied: pillow>=6.2.0 in c:\\programdata\\anaconda3\\lib\\site-packages (from matplotlib>=3.5.1->-r requirements.txt (line 21)) (9.0.1)\n",
      "Requirement already satisfied: packaging>=20.0 in c:\\programdata\\anaconda3\\lib\\site-packages (from matplotlib>=3.5.1->-r requirements.txt (line 21)) (21.3)\n",
      "Requirement already satisfied: fonttools>=4.22.0 in c:\\programdata\\anaconda3\\lib\\site-packages (from matplotlib>=3.5.1->-r requirements.txt (line 21)) (4.25.0)\n",
      "Requirement already satisfied: pyparsing>=2.2.1 in c:\\programdata\\anaconda3\\lib\\site-packages (from matplotlib>=3.5.1->-r requirements.txt (line 21)) (3.0.4)\n",
      "Requirement already satisfied: cycler>=0.10 in c:\\programdata\\anaconda3\\lib\\site-packages (from matplotlib>=3.5.1->-r requirements.txt (line 21)) (0.11.0)\n",
      "Requirement already satisfied: kiwisolver>=1.0.1 in c:\\programdata\\anaconda3\\lib\\site-packages (from matplotlib>=3.5.1->-r requirements.txt (line 21)) (1.3.2)\n",
      "Requirement already satisfied: termcolor in c:\\programdata\\anaconda3\\lib\\site-packages (from fire>=0.4.0->-r requirements.txt (line 22)) (1.1.0)\n",
      "Requirement already satisfied: idna<4,>=2.5 in c:\\programdata\\anaconda3\\lib\\site-packages (from requests->chart_studio>=1.1->-r requirements.txt (line 12)) (3.3)\n",
      "Requirement already satisfied: urllib3<1.27,>=1.21.1 in c:\\programdata\\anaconda3\\lib\\site-packages (from requests->chart_studio>=1.1->-r requirements.txt (line 12)) (1.26.9)\n",
      "Requirement already satisfied: certifi>=2017.4.17 in c:\\programdata\\anaconda3\\lib\\site-packages (from requests->chart_studio>=1.1->-r requirements.txt (line 12)) (2021.10.8)\n",
      "Requirement already satisfied: charset-normalizer<3,>=2 in c:\\programdata\\anaconda3\\lib\\site-packages (from requests->chart_studio>=1.1->-r requirements.txt (line 12)) (2.0.4)\n",
      "Requirement already satisfied: soupsieve>1.2 in c:\\programdata\\anaconda3\\lib\\site-packages (from beautifulsoup4->yahoofinancials>=1.6->-r requirements.txt (line 18)) (2.3.1)\n",
      "Requirement already satisfied: traitlets<6.0,>=5.1.0 in c:\\programdata\\anaconda3\\lib\\site-packages (from ipykernel->jupyter>=1.0.0->-r requirements.txt (line 11)) (5.1.1)\n",
      "Requirement already satisfied: jupyter-client<8.0 in c:\\programdata\\anaconda3\\lib\\site-packages (from ipykernel->jupyter>=1.0.0->-r requirements.txt (line 11)) (6.1.12)\n",
      "Requirement already satisfied: matplotlib-inline<0.2.0,>=0.1.0 in c:\\programdata\\anaconda3\\lib\\site-packages (from ipykernel->jupyter>=1.0.0->-r requirements.txt (line 11)) (0.1.2)\n",
      "Requirement already satisfied: ipython>=7.23.1 in c:\\programdata\\anaconda3\\lib\\site-packages (from ipykernel->jupyter>=1.0.0->-r requirements.txt (line 11)) (8.2.0)\n",
      "Requirement already satisfied: nest-asyncio in c:\\programdata\\anaconda3\\lib\\site-packages (from ipykernel->jupyter>=1.0.0->-r requirements.txt (line 11)) (1.5.5)\n",
      "Requirement already satisfied: debugpy<2.0,>=1.0.0 in c:\\programdata\\anaconda3\\lib\\site-packages (from ipykernel->jupyter>=1.0.0->-r requirements.txt (line 11)) (1.5.1)\n",
      "Requirement already satisfied: tornado<7.0,>=4.2 in c:\\programdata\\anaconda3\\lib\\site-packages (from ipykernel->jupyter>=1.0.0->-r requirements.txt (line 11)) (6.1)\n",
      "Requirement already satisfied: prompt-toolkit!=3.0.0,!=3.0.1,<3.1.0,>=2.0.0 in c:\\programdata\\anaconda3\\lib\\site-packages (from ipython>=7.23.1->ipykernel->jupyter>=1.0.0->-r requirements.txt (line 11)) (3.0.20)\n",
      "Requirement already satisfied: pickleshare in c:\\programdata\\anaconda3\\lib\\site-packages (from ipython>=7.23.1->ipykernel->jupyter>=1.0.0->-r requirements.txt (line 11)) (0.7.5)\n",
      "Requirement already satisfied: stack-data in c:\\programdata\\anaconda3\\lib\\site-packages (from ipython>=7.23.1->ipykernel->jupyter>=1.0.0->-r requirements.txt (line 11)) (0.2.0)\n",
      "Requirement already satisfied: colorama in c:\\programdata\\anaconda3\\lib\\site-packages (from ipython>=7.23.1->ipykernel->jupyter>=1.0.0->-r requirements.txt (line 11)) (0.4.4)\n",
      "Requirement already satisfied: jedi>=0.16 in c:\\programdata\\anaconda3\\lib\\site-packages (from ipython>=7.23.1->ipykernel->jupyter>=1.0.0->-r requirements.txt (line 11)) (0.18.1)\n",
      "Requirement already satisfied: decorator in c:\\programdata\\anaconda3\\lib\\site-packages (from ipython>=7.23.1->ipykernel->jupyter>=1.0.0->-r requirements.txt (line 11)) (5.1.1)\n",
      "Requirement already satisfied: setuptools>=18.5 in c:\\programdata\\anaconda3\\lib\\site-packages (from ipython>=7.23.1->ipykernel->jupyter>=1.0.0->-r requirements.txt (line 11)) (61.2.0)\n",
      "Requirement already satisfied: backcall in c:\\programdata\\anaconda3\\lib\\site-packages (from ipython>=7.23.1->ipykernel->jupyter>=1.0.0->-r requirements.txt (line 11)) (0.2.0)\n",
      "Requirement already satisfied: pygments>=2.4.0 in c:\\programdata\\anaconda3\\lib\\site-packages (from ipython>=7.23.1->ipykernel->jupyter>=1.0.0->-r requirements.txt (line 11)) (2.11.2)\n",
      "Requirement already satisfied: parso<0.9.0,>=0.8.0 in c:\\programdata\\anaconda3\\lib\\site-packages (from jedi>=0.16->ipython>=7.23.1->ipykernel->jupyter>=1.0.0->-r requirements.txt (line 11)) (0.8.3)\n",
      "Requirement already satisfied: jupyter-core>=4.6.0 in c:\\programdata\\anaconda3\\lib\\site-packages (from jupyter-client<8.0->ipykernel->jupyter>=1.0.0->-r requirements.txt (line 11)) (4.9.2)\n",
      "Requirement already satisfied: pyzmq>=13 in c:\\programdata\\anaconda3\\lib\\site-packages (from jupyter-client<8.0->ipykernel->jupyter>=1.0.0->-r requirements.txt (line 11)) (22.3.0)\n",
      "Requirement already satisfied: pywin32>=1.0 in c:\\programdata\\anaconda3\\lib\\site-packages (from jupyter-core>=4.6.0->jupyter-client<8.0->ipykernel->jupyter>=1.0.0->-r requirements.txt (line 11)) (302)\n",
      "Requirement already satisfied: wcwidth in c:\\programdata\\anaconda3\\lib\\site-packages (from prompt-toolkit!=3.0.0,!=3.0.1,<3.1.0,>=2.0.0->ipython>=7.23.1->ipykernel->jupyter>=1.0.0->-r requirements.txt (line 11)) (0.2.5)\n",
      "Requirement already satisfied: widgetsnbextension~=3.5.0 in c:\\programdata\\anaconda3\\lib\\site-packages (from ipywidgets->jupyter>=1.0.0->-r requirements.txt (line 11)) (3.5.2)\n",
      "Requirement already satisfied: jupyterlab-widgets>=1.0.0 in c:\\programdata\\anaconda3\\lib\\site-packages (from ipywidgets->jupyter>=1.0.0->-r requirements.txt (line 11)) (1.0.0)\n",
      "Requirement already satisfied: nbformat>=4.2.0 in c:\\programdata\\anaconda3\\lib\\site-packages (from ipywidgets->jupyter>=1.0.0->-r requirements.txt (line 11)) (5.3.0)\n",
      "Requirement already satisfied: ipython-genutils~=0.2.0 in c:\\programdata\\anaconda3\\lib\\site-packages (from ipywidgets->jupyter>=1.0.0->-r requirements.txt (line 11)) (0.2.0)\n",
      "Requirement already satisfied: fastjsonschema in c:\\programdata\\anaconda3\\lib\\site-packages (from nbformat>=4.2.0->ipywidgets->jupyter>=1.0.0->-r requirements.txt (line 11)) (2.15.1)\n",
      "Requirement already satisfied: jsonschema>=2.6 in c:\\programdata\\anaconda3\\lib\\site-packages (from nbformat>=4.2.0->ipywidgets->jupyter>=1.0.0->-r requirements.txt (line 11)) (4.4.0)\n",
      "Requirement already satisfied: importlib-resources>=1.4.0 in c:\\programdata\\anaconda3\\lib\\site-packages (from jsonschema>=2.6->nbformat>=4.2.0->ipywidgets->jupyter>=1.0.0->-r requirements.txt (line 11)) (5.2.0)\n",
      "Requirement already satisfied: pyrsistent!=0.17.0,!=0.17.1,!=0.17.2,>=0.14.0 in c:\\programdata\\anaconda3\\lib\\site-packages (from jsonschema>=2.6->nbformat>=4.2.0->ipywidgets->jupyter>=1.0.0->-r requirements.txt (line 11)) (0.18.0)\n",
      "Requirement already satisfied: attrs>=17.4.0 in c:\\programdata\\anaconda3\\lib\\site-packages (from jsonschema>=2.6->nbformat>=4.2.0->ipywidgets->jupyter>=1.0.0->-r requirements.txt (line 11)) (21.4.0)\n",
      "Requirement already satisfied: zipp>=3.1.0 in c:\\programdata\\anaconda3\\lib\\site-packages (from importlib-resources>=1.4.0->jsonschema>=2.6->nbformat>=4.2.0->ipywidgets->jupyter>=1.0.0->-r requirements.txt (line 11)) (3.7.0)\n",
      "Requirement already satisfied: Send2Trash>=1.8.0 in c:\\programdata\\anaconda3\\lib\\site-packages (from notebook->jupyter>=1.0.0->-r requirements.txt (line 11)) (1.8.0)\n",
      "Requirement already satisfied: terminado>=0.8.3 in c:\\programdata\\anaconda3\\lib\\site-packages (from notebook->jupyter>=1.0.0->-r requirements.txt (line 11)) (0.13.1)\n",
      "Requirement already satisfied: prometheus-client in c:\\programdata\\anaconda3\\lib\\site-packages (from notebook->jupyter>=1.0.0->-r requirements.txt (line 11)) (0.13.1)\n",
      "Requirement already satisfied: argon2-cffi in c:\\programdata\\anaconda3\\lib\\site-packages (from notebook->jupyter>=1.0.0->-r requirements.txt (line 11)) (21.3.0)\n",
      "Requirement already satisfied: jinja2 in c:\\programdata\\anaconda3\\lib\\site-packages (from notebook->jupyter>=1.0.0->-r requirements.txt (line 11)) (2.11.3)\n",
      "Requirement already satisfied: pywinpty>=1.1.0 in c:\\programdata\\anaconda3\\lib\\site-packages (from terminado>=0.8.3->notebook->jupyter>=1.0.0->-r requirements.txt (line 11)) (2.0.2)\n",
      "Requirement already satisfied: argon2-cffi-bindings in c:\\programdata\\anaconda3\\lib\\site-packages (from argon2-cffi->notebook->jupyter>=1.0.0->-r requirements.txt (line 11)) (21.2.0)\n",
      "Requirement already satisfied: cffi>=1.0.1 in c:\\programdata\\anaconda3\\lib\\site-packages (from argon2-cffi-bindings->argon2-cffi->notebook->jupyter>=1.0.0->-r requirements.txt (line 11)) (1.15.0)\n",
      "Requirement already satisfied: pycparser in c:\\programdata\\anaconda3\\lib\\site-packages (from cffi>=1.0.1->argon2-cffi-bindings->argon2-cffi->notebook->jupyter>=1.0.0->-r requirements.txt (line 11)) (2.21)\n",
      "Requirement already satisfied: MarkupSafe>=0.23 in c:\\programdata\\anaconda3\\lib\\site-packages (from jinja2->notebook->jupyter>=1.0.0->-r requirements.txt (line 11)) (2.0.1)\n",
      "Requirement already satisfied: entrypoints>=0.2.2 in c:\\programdata\\anaconda3\\lib\\site-packages (from nbconvert->jupyter>=1.0.0->-r requirements.txt (line 11)) (0.4)\n",
      "Requirement already satisfied: jupyterlab-pygments in c:\\programdata\\anaconda3\\lib\\site-packages (from nbconvert->jupyter>=1.0.0->-r requirements.txt (line 11)) (0.1.2)\n",
      "Requirement already satisfied: testpath in c:\\programdata\\anaconda3\\lib\\site-packages (from nbconvert->jupyter>=1.0.0->-r requirements.txt (line 11)) (0.5.0)\n",
      "Requirement already satisfied: nbclient<0.6.0,>=0.5.0 in c:\\programdata\\anaconda3\\lib\\site-packages (from nbconvert->jupyter>=1.0.0->-r requirements.txt (line 11)) (0.5.13)\n",
      "Requirement already satisfied: bleach in c:\\programdata\\anaconda3\\lib\\site-packages (from nbconvert->jupyter>=1.0.0->-r requirements.txt (line 11)) (4.1.0)\n",
      "Requirement already satisfied: pandocfilters>=1.4.1 in c:\\programdata\\anaconda3\\lib\\site-packages (from nbconvert->jupyter>=1.0.0->-r requirements.txt (line 11)) (1.5.0)\n",
      "Requirement already satisfied: defusedxml in c:\\programdata\\anaconda3\\lib\\site-packages (from nbconvert->jupyter>=1.0.0->-r requirements.txt (line 11)) (0.7.1)\n",
      "Requirement already satisfied: mistune<2,>=0.8.1 in c:\\programdata\\anaconda3\\lib\\site-packages (from nbconvert->jupyter>=1.0.0->-r requirements.txt (line 11)) (0.8.4)\n",
      "Requirement already satisfied: webencodings in c:\\programdata\\anaconda3\\lib\\site-packages (from bleach->nbconvert->jupyter>=1.0.0->-r requirements.txt (line 11)) (0.5.1)\n",
      "Requirement already satisfied: qtpy>=2.0.1 in c:\\programdata\\anaconda3\\lib\\site-packages (from qtconsole->jupyter>=1.0.0->-r requirements.txt (line 11)) (2.0.1)\n",
      "Requirement already satisfied: pure-eval in c:\\programdata\\anaconda3\\lib\\site-packages (from stack-data->ipython>=7.23.1->ipykernel->jupyter>=1.0.0->-r requirements.txt (line 11)) (0.2.2)\n",
      "Requirement already satisfied: executing in c:\\programdata\\anaconda3\\lib\\site-packages (from stack-data->ipython>=7.23.1->ipykernel->jupyter>=1.0.0->-r requirements.txt (line 11)) (0.8.3)\n",
      "Requirement already satisfied: asttokens in c:\\programdata\\anaconda3\\lib\\site-packages (from stack-data->ipython>=7.23.1->ipykernel->jupyter>=1.0.0->-r requirements.txt (line 11)) (2.0.5)\n"
     ]
    },
    {
     "name": "stderr",
     "output_type": "stream",
     "text": [
      "WARNING: Ignoring invalid distribution -inance (c:\\programdata\\anaconda3\\lib\\site-packages)\n",
      "WARNING: Ignoring invalid distribution -ywinpty (c:\\programdata\\anaconda3\\lib\\site-packages)\n",
      "WARNING: Ignoring invalid distribution -finance (c:\\programdata\\anaconda3\\lib\\site-packages)\n",
      "WARNING: Ignoring invalid distribution - (c:\\programdata\\anaconda3\\lib\\site-packages)\n",
      "WARNING: Ignoring invalid distribution -inance (c:\\programdata\\anaconda3\\lib\\site-packages)\n",
      "WARNING: Ignoring invalid distribution -ywinpty (c:\\programdata\\anaconda3\\lib\\site-packages)\n",
      "WARNING: Ignoring invalid distribution -finance (c:\\programdata\\anaconda3\\lib\\site-packages)\n",
      "WARNING: Ignoring invalid distribution - (c:\\programdata\\anaconda3\\lib\\site-packages)\n",
      "WARNING: Ignoring invalid distribution -inance (c:\\programdata\\anaconda3\\lib\\site-packages)\n",
      "WARNING: Ignoring invalid distribution -ywinpty (c:\\programdata\\anaconda3\\lib\\site-packages)\n",
      "WARNING: Ignoring invalid distribution -finance (c:\\programdata\\anaconda3\\lib\\site-packages)\n",
      "WARNING: Ignoring invalid distribution - (c:\\programdata\\anaconda3\\lib\\site-packages)\n",
      "WARNING: Ignoring invalid distribution -inance (c:\\programdata\\anaconda3\\lib\\site-packages)\n",
      "WARNING: Ignoring invalid distribution -ywinpty (c:\\programdata\\anaconda3\\lib\\site-packages)\n",
      "WARNING: Ignoring invalid distribution -finance (c:\\programdata\\anaconda3\\lib\\site-packages)\n",
      "WARNING: Ignoring invalid distribution - (c:\\programdata\\anaconda3\\lib\\site-packages)\n",
      "WARNING: Ignoring invalid distribution -inance (c:\\programdata\\anaconda3\\lib\\site-packages)\n",
      "WARNING: Ignoring invalid distribution -ywinpty (c:\\programdata\\anaconda3\\lib\\site-packages)\n",
      "WARNING: Ignoring invalid distribution -finance (c:\\programdata\\anaconda3\\lib\\site-packages)\n",
      "WARNING: Ignoring invalid distribution - (c:\\programdata\\anaconda3\\lib\\site-packages)\n",
      "WARNING: Ignoring invalid distribution -inance (c:\\programdata\\anaconda3\\lib\\site-packages)\n",
      "WARNING: Ignoring invalid distribution -ywinpty (c:\\programdata\\anaconda3\\lib\\site-packages)\n",
      "WARNING: Ignoring invalid distribution -finance (c:\\programdata\\anaconda3\\lib\\site-packages)\n",
      "WARNING: Ignoring invalid distribution - (c:\\programdata\\anaconda3\\lib\\site-packages)\n"
     ]
    }
   ],
   "source": [
    "!pip install -r requirements.txt"
   ]
  },
  {
   "cell_type": "markdown",
   "metadata": {},
   "source": [
    "If you prefer, manual installation can be done with the individual installation of the following libraries:\n",
    "\n",
    "<font color= lightblue> <font size = 1> \n",
    "+ pandas>=1.3.4\n",
    "+ numpy>=1.19.1\n",
    "+ jupyter>=1.0.0\n",
    "+ chart_studio>=1.1\n",
    "+ plotly>=4.14\n",
    "+ datetime>=4.7\n",
    "+ pandas_datareader>=0.10.0\n",
    "+ tk>=0.10\n",
    "+ plotly>=5.60\n",
    "+ yahoofinancials>=1.60\n",
    "+ scipy>=1.7.3\n",
    "+ regex>=2022.3.15\n",
    "+ matplotlib>=3.5.1\n",
    "+ fire>=0.4.0"
   ]
  },
  {
   "cell_type": "markdown",
   "metadata": {},
   "source": [
    "### <font color= lightblue> <font size = 4> 0.1 Introduction: </font>\n",
    "In this laboratory we will use information from the Cryptocurrency Order Book of various international exchanges, with the primary objective of visualizing and modeling the microstructure of the market through the behavior of the Order Book and its characteristics such as; Matching Engine, Levels, Ask-Bid Volumes, etc.\n",
    "<font color= gray>\n",
    "\n",
    "\n"
   ]
  },
  {
   "cell_type": "markdown",
   "metadata": {},
   "source": [
    "##### *General help:*\n",
    "In order, to retrieve specific help from the scripts tree in the project execute the help function on the script or in specific modules from the following:\n",
    "+ [data.py](https://github.com/EstebanMqz/MyST_LAB_4/blob/main/data.py)\n",
    "+ [functions.py](https://github.com/EstebanMqz/MyST_LAB_4/blob/main/functions.py)\n",
    "+ [visualizations.py](https://github.com/EstebanMqz/MyST_LAB_4/blob/main/visualizations.py)"
   ]
  },
  {
   "cell_type": "code",
   "execution_count": 2,
   "metadata": {},
   "outputs": [],
   "source": [
    "## Libraries\n",
    "import pandas as pd # Analysis and data management\n",
    "import pandas_datareader as pdr\n",
    "import pandas_datareader.data as web #Data extraction from the web\n",
    "import numpy as np\n",
    "from datetime import datetime, timedelta, date\n",
    "from tkinter.ttk import Style\n",
    "from tkinter import Y\n",
    "import plotly.graph_objects as go #Plotly\n",
    "import plotly.express as px\n",
    "import warnings\n",
    "from yahoofinancials import YahooFinancials # Yfinance \n",
    "import yfinance as yf\n",
    "from scipy.optimize import minimize # Optimization \n",
    "from collections import Counter #Counter\n",
    "import re\n",
    "import io \n",
    "import glob\n",
    "import os\n",
    "#.Py archives in repo\n",
    "import functions as fn \n",
    "import visualizations as vs\n",
    "import data as dt\n",
    "from os import path\n",
    "import fire\n",
    "%matplotlib inline"
   ]
  },
  {
   "cell_type": "markdown",
   "metadata": {},
   "source": [
    "<font color= lightblue> <font size = 4> 1. Consume CCXT data: </font>\n",
    "\n",
    "\n",
    "<font color= gray>\n"
   ]
  },
  {
   "cell_type": "code",
   "execution_count": 3,
   "metadata": {},
   "outputs": [
    {
     "name": "stdout",
     "output_type": "stream",
     "text": [
      "Help on function f_leer_archivo in module functions:\n",
      "\n",
      "f_leer_archivo(param_archivo)\n",
      "    Function that reads csv files and returns a dataframe of its content.\n",
      "    \n",
      "        Parameters\n",
      "        ----------\n",
      "        param_archivo: csv data.\n",
      "        Returns\n",
      "        -------\n",
      "        data: pd.DataFrame(param_archivo)\n",
      "\n"
     ]
    }
   ],
   "source": [
    "help(fn.f_leer_archivo)"
   ]
  },
  {
   "cell_type": "markdown",
   "metadata": {},
   "source": [
    "<font color= lightblue> <font size = 4> 2. Microstructure Visualization: </font>"
   ]
  },
  {
   "cell_type": "markdown",
   "metadata": {},
   "source": [
    "<font color= lightblue> <font size = 4> 3. Microstructure Modelling: </font>"
   ]
  },
  {
   "cell_type": "markdown",
   "metadata": {},
   "source": [
    "### <font color= lightblue> <font size = 4> 4. Bibliography: </font>\n",
    "\n",
    "<font color= lightblue>\n",
    "\n",
    "Villalobos, O, 2021. **Python Project Template**. Available at: https://github.com/OmarVillalobos/python-project. \n",
    "(Accessed: November 5, 2022). \n",
    "\n",
    "Financial Engineering, **Marketmicrostructure.pptx**. ITESO -  Microstructure and Trading Systems (ITE1731 - DMAF). \n",
    "Available at: https://docs.google.com/presentation/d/1uYyMERKKGeZ0MPqbJ3bcir9lfpzbeAH9ZMmxbYysokQ/edit?usp=sharing (Accessed: November 5, 2022). \n",
    "\n",
    "Muñoz E., J **Roll Model** *(spanish)*. ITESO - (ITE1731 - DMAF) Available at: https://github.com/EstebanMqz/MyST_LAB_4/blob/main/Roll%20.pdf (Accessed: November 5, 2022).\n",
    "\n",
    "Muñoz E., J **Asset Pricing Theory** *(spanish)*. ITESO - (ITE1731 - DMAF) Available at: https://github.com/EstebanMqz/MyST_LAB_4/blob/main/APT.pdf (Accessed: November 5, 2022). "
   ]
  }
 ],
 "metadata": {
  "kernelspec": {
   "display_name": "base",
   "language": "python",
   "name": "python3"
  },
  "language_info": {
   "codemirror_mode": {
    "name": "ipython",
    "version": 3
   },
   "file_extension": ".py",
   "mimetype": "text/x-python",
   "name": "python",
   "nbconvert_exporter": "python",
   "pygments_lexer": "ipython3",
   "version": "3.8.13"
  },
  "toc": {
   "base_numbering": 1,
   "nav_menu": {},
   "number_sections": true,
   "sideBar": true,
   "skip_h1_title": false,
   "title_cell": "Table of Contents",
   "title_sidebar": "Contents",
   "toc_cell": false,
   "toc_position": {},
   "toc_section_display": true,
   "toc_window_display": false
  },
  "vscode": {
   "interpreter": {
    "hash": "ad2bdc8ecc057115af97d19610ffacc2b4e99fae6737bb82f5d7fb13d2f2c186"
   }
  }
 },
 "nbformat": 4,
 "nbformat_minor": 2
}
