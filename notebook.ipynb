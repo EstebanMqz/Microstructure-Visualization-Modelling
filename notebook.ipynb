{
 "cells": [
  {
   "cell_type": "markdown",
   "metadata": {},
   "source": [
    "\n",
    "    \n",
    "    \n",
    "## <H2 align=\"center\"> <font color='white'> **MAF1731B**: Microstructure and Trading Systems </H2>\n",
    "\n",
    "### <H3 align=\"center\"> <font color='white'> **Laboratory 4**: Market Microstructure </H3>\n",
    "\n",
    " <H5 align=\"center\"> <em> Professor: Villalobos Ramos Omar Antonio <em>\n",
    "\n",
    " <p align=\"center\"> <img style=\" margin: 30px 15px 15px 15px;\" src=\"https://pngimage.net/wp-content/uploads/2018/06/logo-iteso-png-5.png\" width=\"350\" height=\"150\" /> \n",
    "\n",
    " <strong> <H5 align=\"left\"> Student:\n",
    "Esteban Márquez Delgado <strong>\n",
    "\n",
    " *Registry*:\n",
    "if700637: https://github.com/EstebanMqz/MyST_LAB_4\n",
    "\n",
    " <center> <font color= #555555> <font size = 4> November 2022 </a> <font color= #555555> <font size = 4> </a></font>"
   ]
  },
  {
   "cell_type": "markdown",
   "metadata": {},
   "source": [
    "<hr style=\"border:0.02in solid gray\"> </hr>"
   ]
  },
  {
   "cell_type": "markdown",
   "metadata": {},
   "source": [
    "<center> <font color= #555555> <font size = 6> Laboratory 4 </font> <br> <br> <font color= #555555> <font size = 5> Market Microstructure  </font>"
   ]
  },
  {
   "cell_type": "markdown",
   "metadata": {},
   "source": [
    "<hr style=\"border:0.02in solid gray\"> </hr>"
   ]
  },
  {
   "cell_type": "markdown",
   "metadata": {},
   "source": [
    "### <font color= #555555> <font size = 4> Abstract </font>"
   ]
  },
  {
   "cell_type": "markdown",
   "metadata": {},
   "source": [
    "This document was prepared as delivery for Laboratory 4 of Microstructure and Trading Systems - MAF1731B class during the Autumn 2022 course at ITESO for the Bachelor of Financial Engineering. In order to analyze the market microstructure in criptocurrencies markets containing the following 3 sections:\n",
    "\n",
    "1. **Consume CCXT data**: Download Criptocurrencies Order Books from exchanges (kraken, ftx, currencycom, coinmate, etc).\n",
    "\n",
    "2. **Microstructure Visualization**: Build Time Series using the Order Books obtained in the previous point from the following elements of the Market Microstructure for each asset and exchange (Levels, Bid Volume, Ask Volume, Total Volume, Mid Price, VWAP.)\n",
    "\n",
    "3. **Microstructure Modeling**: Estimation of Roll Effective Spread using the lagged series at t-5.\n",
    "\n"
   ]
  },
  {
   "cell_type": "markdown",
   "metadata": {},
   "source": [
    "<font color= lightblue> <font size = 4> 0. Libraries and Dependencies: </font>\n",
    "\n",
    "<font color= gray>\n",
    "\n",
    "**Note**: To run this notebook it is necessary to have the following libraries contained in the [requirements.txt](https://github.com/EstebanMqz/MyST_LAB_4/blob/main/requirements.txt) script of this project.\n",
    "\n",
    "To install the libraries in the script run the following cell:"
   ]
  },
  {
   "cell_type": "code",
   "execution_count": 1,
   "metadata": {},
   "outputs": [
    {
     "name": "stderr",
     "output_type": "stream",
     "text": [
      "WARNING: Ignoring invalid distribution -rl (c:\\programdata\\anaconda3\\lib\\site-packages)\n",
      "WARNING: Ignoring invalid distribution -inance (c:\\programdata\\anaconda3\\lib\\site-packages)\n",
      "WARNING: Ignoring invalid distribution -ywinpty (c:\\programdata\\anaconda3\\lib\\site-packages)\n",
      "WARNING: Ignoring invalid distribution -rl (c:\\programdata\\anaconda3\\lib\\site-packages)\n",
      "WARNING: Ignoring invalid distribution -finance (c:\\programdata\\anaconda3\\lib\\site-packages)\n",
      "WARNING: Ignoring invalid distribution - (c:\\programdata\\anaconda3\\lib\\site-packages)\n",
      "WARNING: Ignoring invalid distribution -arl (c:\\programdata\\anaconda3\\lib\\site-packages)\n",
      "ERROR: Invalid requirement: '\"\"\"' (from line 1 of requirements.txt)\n",
      "WARNING: Ignoring invalid distribution -rl (c:\\programdata\\anaconda3\\lib\\site-packages)\n",
      "WARNING: Ignoring invalid distribution -inance (c:\\programdata\\anaconda3\\lib\\site-packages)\n",
      "WARNING: Ignoring invalid distribution -ywinpty (c:\\programdata\\anaconda3\\lib\\site-packages)\n",
      "WARNING: Ignoring invalid distribution -rl (c:\\programdata\\anaconda3\\lib\\site-packages)\n",
      "WARNING: Ignoring invalid distribution -finance (c:\\programdata\\anaconda3\\lib\\site-packages)\n",
      "WARNING: Ignoring invalid distribution - (c:\\programdata\\anaconda3\\lib\\site-packages)\n",
      "WARNING: Ignoring invalid distribution -arl (c:\\programdata\\anaconda3\\lib\\site-packages)\n",
      "WARNING: Ignoring invalid distribution -rl (c:\\programdata\\anaconda3\\lib\\site-packages)\n",
      "WARNING: Ignoring invalid distribution -inance (c:\\programdata\\anaconda3\\lib\\site-packages)\n",
      "WARNING: Ignoring invalid distribution -ywinpty (c:\\programdata\\anaconda3\\lib\\site-packages)\n",
      "WARNING: Ignoring invalid distribution -rl (c:\\programdata\\anaconda3\\lib\\site-packages)\n",
      "WARNING: Ignoring invalid distribution -finance (c:\\programdata\\anaconda3\\lib\\site-packages)\n",
      "WARNING: Ignoring invalid distribution - (c:\\programdata\\anaconda3\\lib\\site-packages)\n",
      "WARNING: Ignoring invalid distribution -arl (c:\\programdata\\anaconda3\\lib\\site-packages)\n",
      "WARNING: Ignoring invalid distribution -rl (c:\\programdata\\anaconda3\\lib\\site-packages)\n",
      "WARNING: Ignoring invalid distribution -inance (c:\\programdata\\anaconda3\\lib\\site-packages)\n",
      "WARNING: Ignoring invalid distribution -ywinpty (c:\\programdata\\anaconda3\\lib\\site-packages)\n",
      "WARNING: Ignoring invalid distribution -rl (c:\\programdata\\anaconda3\\lib\\site-packages)\n",
      "WARNING: Ignoring invalid distribution -finance (c:\\programdata\\anaconda3\\lib\\site-packages)\n",
      "WARNING: Ignoring invalid distribution - (c:\\programdata\\anaconda3\\lib\\site-packages)\n",
      "WARNING: Ignoring invalid distribution -arl (c:\\programdata\\anaconda3\\lib\\site-packages)\n"
     ]
    }
   ],
   "source": [
    "!pip install -r requirements.txt"
   ]
  },
  {
   "cell_type": "markdown",
   "metadata": {},
   "source": [
    "If you prefer, manual installation can be done with the individual installation of the following libraries:\n",
    "\n",
    "<font color= lightblue> <font size = 1> \n",
    "+ pandas >= 1.3.4\n",
    "+ numpy >= 1.19.1\n",
    "+ jupyter >= 1.0.0\n",
    "+ chart_studio >= 1.1\n",
    "+ plotly >= 4.14\n",
    "+ logging >= 3.11\n",
    "+ datetime >= 4.7\n",
    "+ pandas_datareader >= 0.10.0\n",
    "+ tk >= 0.10\n",
    "+ random >= 3.11\n",
    "+ plotly >= 5.60\n",
    "+ yahoofinancials >= 1.60\n",
    "+ scipy >= 1.7.3\n",
    "+ regex >= 2022.3.15\n",
    "+ matplotlib >= 3.5.1\n",
    "+ fire >= 0.4.0\n",
    "+ ccxt >= 2.1.33\n",
    "+ time >= 3.11 \n"
   ]
  },
  {
   "cell_type": "markdown",
   "metadata": {},
   "source": [
    "### <font color= lightblue> <font size = 4> 0.1 Introduction: </font>\n",
    "In this laboratory we will use information from the Cryptocurrency Order Book of various international exchanges, with the primary objective of visualizing and modeling the microstructure of the market through the behavior of the Order Book and its characteristics such as; Matching Engine, Levels, Ask-Bid Volumes, etc.\n",
    "<font color= gray>\n",
    "\n",
    "\n"
   ]
  },
  {
   "cell_type": "markdown",
   "metadata": {},
   "source": [
    "##### *General help:*\n",
    "<font color= lightgreen> **Note**: Progress checks at the end of each section are highlighted. <font color= white>\n",
    "\n",
    "In order, to retrieve specific help from the scripts tree in the project execute the help function on the script or in specific modules from the following:\n",
    "+ [data.py](https://github.com/EstebanMqz/MyST_LAB_4/blob/main/data.py)\n",
    "+ [functions.py](https://github.com/EstebanMqz/MyST_LAB_4/blob/main/functions.py)\n",
    "+ [visualizations.py](https://github.com/EstebanMqz/MyST_LAB_4/blob/main/visualizations.py)"
   ]
  },
  {
   "cell_type": "code",
   "execution_count": 2,
   "metadata": {},
   "outputs": [],
   "source": [
    "## Libraries\n",
    "import pandas as pd # Analysis and data management\n",
    "import pandas_datareader as pdr\n",
    "import pandas_datareader.data as web #Data extraction from the web\n",
    "import numpy as np\n",
    "from datetime import datetime, timedelta, date\n",
    "from tkinter.ttk import Style\n",
    "from tkinter import Y\n",
    "import random as rand\n",
    "import plotly.graph_objects as go #Plotly\n",
    "import plotly.express as px\n",
    "import warnings\n",
    "from yahoofinancials import YahooFinancials # Yfinance \n",
    "import yfinance as yf\n",
    "import ccxt #Criptocurrencies\n",
    "import logging as log #Exchanges \n",
    "from scipy.optimize import minimize # Optimization \n",
    "from collections import Counter #Counter\n",
    "import time\n",
    "import re\n",
    "import io \n",
    "import glob\n",
    "import os\n",
    "#.Py archives in repo\n",
    "import functions as fn \n",
    "import visualizations as vs\n",
    "import data as dt\n",
    "from os import path\n",
    "import fire\n",
    "%matplotlib inline"
   ]
  },
  {
   "cell_type": "markdown",
   "metadata": {},
   "source": [
    "<font color= orange> <font size = 5> 1. Consume CCXT data: </font>"
   ]
  },
  {
   "cell_type": "markdown",
   "metadata": {},
   "source": [
    "In order to know the exchanges avaliable in CCTX module in Python for Criptocurrencies data download, the following getattr function *find_exchanges* is executed:"
   ]
  },
  {
   "cell_type": "code",
   "execution_count": 3,
   "metadata": {},
   "outputs": [
    {
     "name": "stdout",
     "output_type": "stream",
     "text": [
      "Help on function find_exchanges in module functions:\n",
      "\n",
      "find_exchanges(features=None, is_authenticated=False)\n",
      "    Function that returns avaliable cryptocurrencies exchanges in Python for CCTX module.\n",
      "    \n",
      "        Parameters:\n",
      "        ----------\n",
      "        features: None \n",
      "        is_authenticated: None \n",
      "    \n",
      "        Returns:\n",
      "        -------\n",
      "        exchange_names: Array of authenticated exchanges avaliable in CCTX.\n",
      "\n"
     ]
    }
   ],
   "source": [
    "help(fn.find_exchanges)"
   ]
  },
  {
   "cell_type": "markdown",
   "metadata": {},
   "source": [
    "From all the 120 exchanges avaliable we pick **binance**, **ftx** and **bytetrade** because of their fast fetching."
   ]
  },
  {
   "cell_type": "code",
   "execution_count": 4,
   "metadata": {},
   "outputs": [
    {
     "data": {
      "text/plain": [
       "['aax',\n",
       " 'alpaca',\n",
       " 'ascendex',\n",
       " 'bequant',\n",
       " 'bibox',\n",
       " 'bigone',\n",
       " 'binance',\n",
       " 'binancecoinm',\n",
       " 'binanceus',\n",
       " 'binanceusdm',\n",
       " 'bit2c',\n",
       " 'bitbank',\n",
       " 'bitbay',\n",
       " 'bitbns',\n",
       " 'bitcoincom',\n",
       " 'bitfinex',\n",
       " 'bitfinex2',\n",
       " 'bitflyer',\n",
       " 'bitforex',\n",
       " 'bitget',\n",
       " 'bithumb',\n",
       " 'bitmart',\n",
       " 'bitmex',\n",
       " 'bitopro',\n",
       " 'bitpanda',\n",
       " 'bitrue',\n",
       " 'bitso',\n",
       " 'bitstamp',\n",
       " 'bitstamp1',\n",
       " 'bittrex',\n",
       " 'bitvavo',\n",
       " 'bkex',\n",
       " 'bl3p',\n",
       " 'blockchaincom',\n",
       " 'btcalpha',\n",
       " 'btcbox',\n",
       " 'btcex',\n",
       " 'btcmarkets',\n",
       " 'btctradeua',\n",
       " 'btcturk',\n",
       " 'buda',\n",
       " 'bw',\n",
       " 'bybit',\n",
       " 'bytetrade',\n",
       " 'cex',\n",
       " 'coinbase',\n",
       " 'coinbaseprime',\n",
       " 'coinbasepro',\n",
       " 'coincheck',\n",
       " 'coinex',\n",
       " 'coinfalcon',\n",
       " 'coinmate',\n",
       " 'coinone',\n",
       " 'coinspot',\n",
       " 'crex24',\n",
       " 'cryptocom',\n",
       " 'currencycom',\n",
       " 'delta',\n",
       " 'deribit',\n",
       " 'digifinex',\n",
       " 'exmo',\n",
       " 'flowbtc',\n",
       " 'fmfwio',\n",
       " 'ftx',\n",
       " 'ftxus',\n",
       " 'gate',\n",
       " 'gateio',\n",
       " 'gemini',\n",
       " 'hitbtc',\n",
       " 'hitbtc3',\n",
       " 'hollaex',\n",
       " 'huobi',\n",
       " 'huobijp',\n",
       " 'huobipro',\n",
       " 'idex',\n",
       " 'independentreserve',\n",
       " 'indodax',\n",
       " 'itbit',\n",
       " 'kraken',\n",
       " 'kucoin',\n",
       " 'kucoinfutures',\n",
       " 'kuna',\n",
       " 'latoken',\n",
       " 'lbank',\n",
       " 'lbank2',\n",
       " 'liquid',\n",
       " 'luno',\n",
       " 'lykke',\n",
       " 'mercado',\n",
       " 'mexc',\n",
       " 'mexc3',\n",
       " 'ndax',\n",
       " 'novadax',\n",
       " 'oceanex',\n",
       " 'okcoin',\n",
       " 'okex',\n",
       " 'okex5',\n",
       " 'okx',\n",
       " 'paymium',\n",
       " 'phemex',\n",
       " 'poloniex',\n",
       " 'probit',\n",
       " 'qtrade',\n",
       " 'ripio',\n",
       " 'stex',\n",
       " 'therock',\n",
       " 'tidebit',\n",
       " 'tidex',\n",
       " 'timex',\n",
       " 'tokocrypto',\n",
       " 'upbit',\n",
       " 'wavesexchange',\n",
       " 'wazirx',\n",
       " 'whitebit',\n",
       " 'woo',\n",
       " 'yobit',\n",
       " 'zaif',\n",
       " 'zb',\n",
       " 'zipmex',\n",
       " 'zonda']"
      ]
     },
     "execution_count": 4,
     "metadata": {},
     "output_type": "execute_result"
    }
   ],
   "source": [
    "#Available exchanges in CCTX\n",
    "fn.find_exchanges()[:] #len 120"
   ]
  },
  {
   "cell_type": "markdown",
   "metadata": {},
   "source": [
    "Now that we have selected the exchanges, we pick random criptocurrencies and verify that they are all avaliable in their platform."
   ]
  },
  {
   "cell_type": "code",
   "execution_count": 5,
   "metadata": {},
   "outputs": [],
   "source": [
    "exchanges= ['binance','ftx', 'bytetrade'] #Selected exchanges from list (can't modify because of fn and vs .py)\n",
    "criptos = ['BTC/USDT','ETH/USDT','XRP/USDT'] #Criptos OBs (modify tickers here)"
   ]
  },
  {
   "cell_type": "markdown",
   "metadata": {},
   "source": [
    "<font color= lightblue> <font size = 4> Order Book Levels & OHLCV for 3 exchanges and Criptos: </font>"
   ]
  },
  {
   "cell_type": "markdown",
   "metadata": {},
   "source": [
    "Now we proceed to download data from exchanges for all criptocurrencies."
   ]
  },
  {
   "cell_type": "code",
   "execution_count": 6,
   "metadata": {},
   "outputs": [
    {
     "name": "stdout",
     "output_type": "stream",
     "text": [
      "Help on function cctx_download in module visualizations:\n",
      "\n",
      "cctx_download(lvls, cripto, exchange)\n",
      "    Function that returns prices and quantities of given levels (as integer) Bids & Asks in an Orderbook\n",
      "    for the specified criptocurrency ('BTC/USDT','ETH/USDT','XRP/USDT', or others) and\n",
      "    from the following exchanges: binance, ftx or ascendex (as string).\n",
      "    \n",
      "        Parameters:\n",
      "        ----------\n",
      "        lvls: Levels of bids/asks in the Order Book (int).\n",
      "        cripto: Criptocurrency downloadable ticker (str).\n",
      "        exchanges: Criptocurrency downloadable Exchange (str).\n",
      "    \n",
      "        Returns:\n",
      "        -------\n",
      "        levels_ob_bid: Prices and Quantities of Bids (pos [0]) and Asks (pos [1]) as dataframes.\n",
      "\n"
     ]
    }
   ],
   "source": [
    "help(vs.cctx_download)"
   ]
  },
  {
   "cell_type": "markdown",
   "metadata": {},
   "source": [
    "We get n=25 levels for each OB, and proceed to download combinations from criptos and exchanges from their lists [0:2] (9).\n",
    "\n",
    "We will start with binance and BTC/USDT."
   ]
  },
  {
   "cell_type": "code",
   "execution_count": 7,
   "metadata": {},
   "outputs": [
    {
     "data": {
      "text/plain": [
       "(25, 'BTC/USDT', 'binance')"
      ]
     },
     "execution_count": 7,
     "metadata": {},
     "output_type": "execute_result"
    }
   ],
   "source": [
    "params= 25, criptos[0], exchanges[0]\n",
    "params"
   ]
  },
  {
   "cell_type": "markdown",
   "metadata": {},
   "source": [
    "+ <font color= lightgray> <font size = 2> *Bids*: </font>"
   ]
  },
  {
   "cell_type": "code",
   "execution_count": 8,
   "metadata": {},
   "outputs": [
    {
     "data": {
      "text/html": [
       "<div>\n",
       "<style scoped>\n",
       "    .dataframe tbody tr th:only-of-type {\n",
       "        vertical-align: middle;\n",
       "    }\n",
       "\n",
       "    .dataframe tbody tr th {\n",
       "        vertical-align: top;\n",
       "    }\n",
       "\n",
       "    .dataframe thead th {\n",
       "        text-align: right;\n",
       "    }\n",
       "</style>\n",
       "<table border=\"1\" class=\"dataframe\">\n",
       "  <thead>\n",
       "    <tr style=\"text-align: right;\">\n",
       "      <th></th>\n",
       "      <th>price</th>\n",
       "      <th>quantity</th>\n",
       "    </tr>\n",
       "    <tr>\n",
       "      <th>Bid_Lvl</th>\n",
       "      <th></th>\n",
       "      <th></th>\n",
       "    </tr>\n",
       "  </thead>\n",
       "  <tbody>\n",
       "    <tr>\n",
       "      <th>0</th>\n",
       "      <td>16108.13</td>\n",
       "      <td>0.01862</td>\n",
       "    </tr>\n",
       "    <tr>\n",
       "      <th>1</th>\n",
       "      <td>16108.08</td>\n",
       "      <td>0.39692</td>\n",
       "    </tr>\n",
       "    <tr>\n",
       "      <th>2</th>\n",
       "      <td>16107.98</td>\n",
       "      <td>0.08057</td>\n",
       "    </tr>\n",
       "    <tr>\n",
       "      <th>3</th>\n",
       "      <td>16106.44</td>\n",
       "      <td>0.00100</td>\n",
       "    </tr>\n",
       "    <tr>\n",
       "      <th>4</th>\n",
       "      <td>16106.43</td>\n",
       "      <td>0.10849</td>\n",
       "    </tr>\n",
       "  </tbody>\n",
       "</table>\n",
       "</div>"
      ],
      "text/plain": [
       "            price  quantity\n",
       "Bid_Lvl                    \n",
       "0        16108.13   0.01862\n",
       "1        16108.08   0.39692\n",
       "2        16107.98   0.08057\n",
       "3        16106.44   0.00100\n",
       "4        16106.43   0.10849"
      ]
     },
     "execution_count": 8,
     "metadata": {},
     "output_type": "execute_result"
    }
   ],
   "source": [
    "ob_lvls=vs.cctx_download(params[0],params[1], params[2])\n",
    "ob_lvls[0].head()"
   ]
  },
  {
   "cell_type": "markdown",
   "metadata": {},
   "source": [
    "+ <font color= lightgray> <font size = 2> *Asks*: </font>"
   ]
  },
  {
   "cell_type": "code",
   "execution_count": 9,
   "metadata": {},
   "outputs": [
    {
     "data": {
      "text/html": [
       "<div>\n",
       "<style scoped>\n",
       "    .dataframe tbody tr th:only-of-type {\n",
       "        vertical-align: middle;\n",
       "    }\n",
       "\n",
       "    .dataframe tbody tr th {\n",
       "        vertical-align: top;\n",
       "    }\n",
       "\n",
       "    .dataframe thead th {\n",
       "        text-align: right;\n",
       "    }\n",
       "</style>\n",
       "<table border=\"1\" class=\"dataframe\">\n",
       "  <thead>\n",
       "    <tr style=\"text-align: right;\">\n",
       "      <th></th>\n",
       "      <th>price</th>\n",
       "      <th>quantity</th>\n",
       "    </tr>\n",
       "    <tr>\n",
       "      <th>Ask_Lvl</th>\n",
       "      <th></th>\n",
       "      <th></th>\n",
       "    </tr>\n",
       "  </thead>\n",
       "  <tbody>\n",
       "    <tr>\n",
       "      <th>0</th>\n",
       "      <td>16110.40</td>\n",
       "      <td>0.00588</td>\n",
       "    </tr>\n",
       "    <tr>\n",
       "      <th>1</th>\n",
       "      <td>16110.41</td>\n",
       "      <td>0.33933</td>\n",
       "    </tr>\n",
       "    <tr>\n",
       "      <th>2</th>\n",
       "      <td>16110.42</td>\n",
       "      <td>0.00118</td>\n",
       "    </tr>\n",
       "    <tr>\n",
       "      <th>3</th>\n",
       "      <td>16111.08</td>\n",
       "      <td>0.00247</td>\n",
       "    </tr>\n",
       "    <tr>\n",
       "      <th>4</th>\n",
       "      <td>16111.09</td>\n",
       "      <td>0.00703</td>\n",
       "    </tr>\n",
       "  </tbody>\n",
       "</table>\n",
       "</div>"
      ],
      "text/plain": [
       "            price  quantity\n",
       "Ask_Lvl                    \n",
       "0        16110.40   0.00588\n",
       "1        16110.41   0.33933\n",
       "2        16110.42   0.00118\n",
       "3        16111.08   0.00247\n",
       "4        16111.09   0.00703"
      ]
     },
     "execution_count": 9,
     "metadata": {},
     "output_type": "execute_result"
    }
   ],
   "source": [
    "ob_lvls[1].head()"
   ]
  },
  {
   "cell_type": "code",
   "execution_count": 10,
   "metadata": {},
   "outputs": [
    {
     "data": {
      "text/html": [
       "<div>\n",
       "<style scoped>\n",
       "    .dataframe tbody tr th:only-of-type {\n",
       "        vertical-align: middle;\n",
       "    }\n",
       "\n",
       "    .dataframe tbody tr th {\n",
       "        vertical-align: top;\n",
       "    }\n",
       "\n",
       "    .dataframe thead th {\n",
       "        text-align: right;\n",
       "    }\n",
       "</style>\n",
       "<table border=\"1\" class=\"dataframe\">\n",
       "  <thead>\n",
       "    <tr style=\"text-align: right;\">\n",
       "      <th></th>\n",
       "      <th>exchange</th>\n",
       "      <th>timestamp</th>\n",
       "      <th>open</th>\n",
       "      <th>high</th>\n",
       "      <th>low</th>\n",
       "      <th>close</th>\n",
       "      <th>volume</th>\n",
       "    </tr>\n",
       "    <tr>\n",
       "      <th>OHLCV</th>\n",
       "      <th></th>\n",
       "      <th></th>\n",
       "      <th></th>\n",
       "      <th></th>\n",
       "      <th></th>\n",
       "      <th></th>\n",
       "      <th></th>\n",
       "    </tr>\n",
       "  </thead>\n",
       "  <tbody>\n",
       "    <tr>\n",
       "      <th>0</th>\n",
       "      <td>binance</td>\n",
       "      <td>2022-11-09T21:06:49.125Z</td>\n",
       "      <td>16544.97</td>\n",
       "      <td>16585.43</td>\n",
       "      <td>16499.99</td>\n",
       "      <td>16523.76</td>\n",
       "      <td>915.70192</td>\n",
       "    </tr>\n",
       "  </tbody>\n",
       "</table>\n",
       "</div>"
      ],
      "text/plain": [
       "      exchange                 timestamp      open      high       low  \\\n",
       "OHLCV                                                                    \n",
       "0      binance  2022-11-09T21:06:49.125Z  16544.97  16585.43  16499.99   \n",
       "\n",
       "          close     volume  \n",
       "OHLCV                       \n",
       "0      16523.76  915.70192  "
      ]
     },
     "execution_count": 10,
     "metadata": {},
     "output_type": "execute_result"
    }
   ],
   "source": [
    "ob_lvls[2]"
   ]
  },
  {
   "cell_type": "markdown",
   "metadata": {},
   "source": [
    "We plot the results for the first combination of ticker and exchanges with the visualization *OBLvls*."
   ]
  },
  {
   "cell_type": "code",
   "execution_count": 11,
   "metadata": {},
   "outputs": [
    {
     "name": "stdout",
     "output_type": "stream",
     "text": [
      "Help on function OBLvls_hist in module visualizations:\n",
      "\n",
      "OBLvls_hist(lvls, cripto, exchange)\n",
      "    Function that plots an horizontal histogram in plotly for CriptoCurrencies OB/\n",
      "    \n",
      "        Parameters\n",
      "        ----------\n",
      "        lvls: Levels of bids/asks in the Order Book (int).\n",
      "        cripto: Criptocurrency downloadable ticker (str).\n",
      "        exchanges: Criptocurrency downloadable Exchange (str).\n",
      "    \n",
      "        x: Quantity (col) of the given cripto (str) for given lvls (int) in Order Book.\n",
      "        y: Prices (col) of the given cripto (str) for given lvls (int) in Order Book.\n",
      "    \n",
      "        Returns\n",
      "        -------\n",
      "        Histogram of Order Book prices and quantities for n given lvls.\n",
      "\n"
     ]
    }
   ],
   "source": [
    "help(vs.OBLvls_hist)"
   ]
  },
  {
   "cell_type": "code",
   "execution_count": 12,
   "metadata": {},
   "outputs": [
    {
     "data": {
      "application/vnd.plotly.v1+json": {
       "config": {
        "plotlyServerURL": "https://plot.ly"
       },
       "data": [
        {
         "orientation": "h",
         "type": "bar",
         "x": [
          0.02996,
          0.03666,
          0.07333,
          0.14666,
          0.05866,
          0.00168,
          0.0045,
          0.08148,
          0.04727,
          0.18605,
          0.02196,
          0.08518,
          0.00186,
          0.35712,
          0.13684,
          0.27367,
          0.00185,
          0.00372,
          0.02243,
          0.0747,
          0.01736,
          0.01225,
          0.1859,
          0.09762,
          0.00263
         ],
         "y": [
          "16126.23",
          "16128.89",
          "16128.9",
          "16128.91",
          "16128.92",
          "16128.93",
          "16129.95",
          "16130.35",
          "16130.36",
          "16130.81",
          "16130.88",
          "16131.16",
          "16131.21",
          "16131.28",
          "16131.29",
          "16131.3",
          "16131.32",
          "16131.33",
          "16131.34",
          "16131.37",
          "16131.72",
          "16132.51",
          "16132.65",
          "16133.61",
          "16134.33"
         ]
        },
        {
         "orientation": "h",
         "type": "bar",
         "x": [
          0.00935,
          0.00443,
          0.22113,
          0.00652,
          0.099,
          0.0062,
          0.02145,
          0.155,
          0.00198,
          0.0272,
          0.00465,
          0.00343,
          0.1,
          0.01099,
          0.008,
          0.001,
          0.0099,
          0.43566,
          0.3185,
          0.02409,
          0.09417,
          0.00074,
          0.0112,
          0.06234,
          0.00093
         ],
         "y": [
          "16125.58",
          "16125.56",
          "16125.55",
          "16125.1",
          "16124.65",
          "16124.23",
          "16123.72",
          "16123.71",
          "16123.7",
          "16123.59",
          "16123.23",
          "16122.68",
          "16122.59",
          "16122.58",
          "16122.5",
          "16122.38",
          "16122.37",
          "16122.2",
          "16122.13",
          "16122.1",
          "16122.06",
          "16121.97",
          "16121.9",
          "16121.69",
          "16121.61"
         ]
        }
       ],
       "layout": {
        "template": {
         "data": {
          "bar": [
           {
            "error_x": {
             "color": "#2a3f5f"
            },
            "error_y": {
             "color": "#2a3f5f"
            },
            "marker": {
             "line": {
              "color": "#E5ECF6",
              "width": 0.5
             },
             "pattern": {
              "fillmode": "overlay",
              "size": 10,
              "solidity": 0.2
             }
            },
            "type": "bar"
           }
          ],
          "barpolar": [
           {
            "marker": {
             "line": {
              "color": "#E5ECF6",
              "width": 0.5
             },
             "pattern": {
              "fillmode": "overlay",
              "size": 10,
              "solidity": 0.2
             }
            },
            "type": "barpolar"
           }
          ],
          "carpet": [
           {
            "aaxis": {
             "endlinecolor": "#2a3f5f",
             "gridcolor": "white",
             "linecolor": "white",
             "minorgridcolor": "white",
             "startlinecolor": "#2a3f5f"
            },
            "baxis": {
             "endlinecolor": "#2a3f5f",
             "gridcolor": "white",
             "linecolor": "white",
             "minorgridcolor": "white",
             "startlinecolor": "#2a3f5f"
            },
            "type": "carpet"
           }
          ],
          "choropleth": [
           {
            "colorbar": {
             "outlinewidth": 0,
             "ticks": ""
            },
            "type": "choropleth"
           }
          ],
          "contour": [
           {
            "colorbar": {
             "outlinewidth": 0,
             "ticks": ""
            },
            "colorscale": [
             [
              0,
              "#0d0887"
             ],
             [
              0.1111111111111111,
              "#46039f"
             ],
             [
              0.2222222222222222,
              "#7201a8"
             ],
             [
              0.3333333333333333,
              "#9c179e"
             ],
             [
              0.4444444444444444,
              "#bd3786"
             ],
             [
              0.5555555555555556,
              "#d8576b"
             ],
             [
              0.6666666666666666,
              "#ed7953"
             ],
             [
              0.7777777777777778,
              "#fb9f3a"
             ],
             [
              0.8888888888888888,
              "#fdca26"
             ],
             [
              1,
              "#f0f921"
             ]
            ],
            "type": "contour"
           }
          ],
          "contourcarpet": [
           {
            "colorbar": {
             "outlinewidth": 0,
             "ticks": ""
            },
            "type": "contourcarpet"
           }
          ],
          "heatmap": [
           {
            "colorbar": {
             "outlinewidth": 0,
             "ticks": ""
            },
            "colorscale": [
             [
              0,
              "#0d0887"
             ],
             [
              0.1111111111111111,
              "#46039f"
             ],
             [
              0.2222222222222222,
              "#7201a8"
             ],
             [
              0.3333333333333333,
              "#9c179e"
             ],
             [
              0.4444444444444444,
              "#bd3786"
             ],
             [
              0.5555555555555556,
              "#d8576b"
             ],
             [
              0.6666666666666666,
              "#ed7953"
             ],
             [
              0.7777777777777778,
              "#fb9f3a"
             ],
             [
              0.8888888888888888,
              "#fdca26"
             ],
             [
              1,
              "#f0f921"
             ]
            ],
            "type": "heatmap"
           }
          ],
          "heatmapgl": [
           {
            "colorbar": {
             "outlinewidth": 0,
             "ticks": ""
            },
            "colorscale": [
             [
              0,
              "#0d0887"
             ],
             [
              0.1111111111111111,
              "#46039f"
             ],
             [
              0.2222222222222222,
              "#7201a8"
             ],
             [
              0.3333333333333333,
              "#9c179e"
             ],
             [
              0.4444444444444444,
              "#bd3786"
             ],
             [
              0.5555555555555556,
              "#d8576b"
             ],
             [
              0.6666666666666666,
              "#ed7953"
             ],
             [
              0.7777777777777778,
              "#fb9f3a"
             ],
             [
              0.8888888888888888,
              "#fdca26"
             ],
             [
              1,
              "#f0f921"
             ]
            ],
            "type": "heatmapgl"
           }
          ],
          "histogram": [
           {
            "marker": {
             "pattern": {
              "fillmode": "overlay",
              "size": 10,
              "solidity": 0.2
             }
            },
            "type": "histogram"
           }
          ],
          "histogram2d": [
           {
            "colorbar": {
             "outlinewidth": 0,
             "ticks": ""
            },
            "colorscale": [
             [
              0,
              "#0d0887"
             ],
             [
              0.1111111111111111,
              "#46039f"
             ],
             [
              0.2222222222222222,
              "#7201a8"
             ],
             [
              0.3333333333333333,
              "#9c179e"
             ],
             [
              0.4444444444444444,
              "#bd3786"
             ],
             [
              0.5555555555555556,
              "#d8576b"
             ],
             [
              0.6666666666666666,
              "#ed7953"
             ],
             [
              0.7777777777777778,
              "#fb9f3a"
             ],
             [
              0.8888888888888888,
              "#fdca26"
             ],
             [
              1,
              "#f0f921"
             ]
            ],
            "type": "histogram2d"
           }
          ],
          "histogram2dcontour": [
           {
            "colorbar": {
             "outlinewidth": 0,
             "ticks": ""
            },
            "colorscale": [
             [
              0,
              "#0d0887"
             ],
             [
              0.1111111111111111,
              "#46039f"
             ],
             [
              0.2222222222222222,
              "#7201a8"
             ],
             [
              0.3333333333333333,
              "#9c179e"
             ],
             [
              0.4444444444444444,
              "#bd3786"
             ],
             [
              0.5555555555555556,
              "#d8576b"
             ],
             [
              0.6666666666666666,
              "#ed7953"
             ],
             [
              0.7777777777777778,
              "#fb9f3a"
             ],
             [
              0.8888888888888888,
              "#fdca26"
             ],
             [
              1,
              "#f0f921"
             ]
            ],
            "type": "histogram2dcontour"
           }
          ],
          "mesh3d": [
           {
            "colorbar": {
             "outlinewidth": 0,
             "ticks": ""
            },
            "type": "mesh3d"
           }
          ],
          "parcoords": [
           {
            "line": {
             "colorbar": {
              "outlinewidth": 0,
              "ticks": ""
             }
            },
            "type": "parcoords"
           }
          ],
          "pie": [
           {
            "automargin": true,
            "type": "pie"
           }
          ],
          "scatter": [
           {
            "marker": {
             "colorbar": {
              "outlinewidth": 0,
              "ticks": ""
             }
            },
            "type": "scatter"
           }
          ],
          "scatter3d": [
           {
            "line": {
             "colorbar": {
              "outlinewidth": 0,
              "ticks": ""
             }
            },
            "marker": {
             "colorbar": {
              "outlinewidth": 0,
              "ticks": ""
             }
            },
            "type": "scatter3d"
           }
          ],
          "scattercarpet": [
           {
            "marker": {
             "colorbar": {
              "outlinewidth": 0,
              "ticks": ""
             }
            },
            "type": "scattercarpet"
           }
          ],
          "scattergeo": [
           {
            "marker": {
             "colorbar": {
              "outlinewidth": 0,
              "ticks": ""
             }
            },
            "type": "scattergeo"
           }
          ],
          "scattergl": [
           {
            "marker": {
             "colorbar": {
              "outlinewidth": 0,
              "ticks": ""
             }
            },
            "type": "scattergl"
           }
          ],
          "scattermapbox": [
           {
            "marker": {
             "colorbar": {
              "outlinewidth": 0,
              "ticks": ""
             }
            },
            "type": "scattermapbox"
           }
          ],
          "scatterpolar": [
           {
            "marker": {
             "colorbar": {
              "outlinewidth": 0,
              "ticks": ""
             }
            },
            "type": "scatterpolar"
           }
          ],
          "scatterpolargl": [
           {
            "marker": {
             "colorbar": {
              "outlinewidth": 0,
              "ticks": ""
             }
            },
            "type": "scatterpolargl"
           }
          ],
          "scatterternary": [
           {
            "marker": {
             "colorbar": {
              "outlinewidth": 0,
              "ticks": ""
             }
            },
            "type": "scatterternary"
           }
          ],
          "surface": [
           {
            "colorbar": {
             "outlinewidth": 0,
             "ticks": ""
            },
            "colorscale": [
             [
              0,
              "#0d0887"
             ],
             [
              0.1111111111111111,
              "#46039f"
             ],
             [
              0.2222222222222222,
              "#7201a8"
             ],
             [
              0.3333333333333333,
              "#9c179e"
             ],
             [
              0.4444444444444444,
              "#bd3786"
             ],
             [
              0.5555555555555556,
              "#d8576b"
             ],
             [
              0.6666666666666666,
              "#ed7953"
             ],
             [
              0.7777777777777778,
              "#fb9f3a"
             ],
             [
              0.8888888888888888,
              "#fdca26"
             ],
             [
              1,
              "#f0f921"
             ]
            ],
            "type": "surface"
           }
          ],
          "table": [
           {
            "cells": {
             "fill": {
              "color": "#EBF0F8"
             },
             "line": {
              "color": "white"
             }
            },
            "header": {
             "fill": {
              "color": "#C8D4E3"
             },
             "line": {
              "color": "white"
             }
            },
            "type": "table"
           }
          ]
         },
         "layout": {
          "annotationdefaults": {
           "arrowcolor": "#2a3f5f",
           "arrowhead": 0,
           "arrowwidth": 1
          },
          "autotypenumbers": "strict",
          "coloraxis": {
           "colorbar": {
            "outlinewidth": 0,
            "ticks": ""
           }
          },
          "colorscale": {
           "diverging": [
            [
             0,
             "#8e0152"
            ],
            [
             0.1,
             "#c51b7d"
            ],
            [
             0.2,
             "#de77ae"
            ],
            [
             0.3,
             "#f1b6da"
            ],
            [
             0.4,
             "#fde0ef"
            ],
            [
             0.5,
             "#f7f7f7"
            ],
            [
             0.6,
             "#e6f5d0"
            ],
            [
             0.7,
             "#b8e186"
            ],
            [
             0.8,
             "#7fbc41"
            ],
            [
             0.9,
             "#4d9221"
            ],
            [
             1,
             "#276419"
            ]
           ],
           "sequential": [
            [
             0,
             "#0d0887"
            ],
            [
             0.1111111111111111,
             "#46039f"
            ],
            [
             0.2222222222222222,
             "#7201a8"
            ],
            [
             0.3333333333333333,
             "#9c179e"
            ],
            [
             0.4444444444444444,
             "#bd3786"
            ],
            [
             0.5555555555555556,
             "#d8576b"
            ],
            [
             0.6666666666666666,
             "#ed7953"
            ],
            [
             0.7777777777777778,
             "#fb9f3a"
            ],
            [
             0.8888888888888888,
             "#fdca26"
            ],
            [
             1,
             "#f0f921"
            ]
           ],
           "sequentialminus": [
            [
             0,
             "#0d0887"
            ],
            [
             0.1111111111111111,
             "#46039f"
            ],
            [
             0.2222222222222222,
             "#7201a8"
            ],
            [
             0.3333333333333333,
             "#9c179e"
            ],
            [
             0.4444444444444444,
             "#bd3786"
            ],
            [
             0.5555555555555556,
             "#d8576b"
            ],
            [
             0.6666666666666666,
             "#ed7953"
            ],
            [
             0.7777777777777778,
             "#fb9f3a"
            ],
            [
             0.8888888888888888,
             "#fdca26"
            ],
            [
             1,
             "#f0f921"
            ]
           ]
          },
          "colorway": [
           "#636efa",
           "#EF553B",
           "#00cc96",
           "#ab63fa",
           "#FFA15A",
           "#19d3f3",
           "#FF6692",
           "#B6E880",
           "#FF97FF",
           "#FECB52"
          ],
          "font": {
           "color": "#2a3f5f"
          },
          "geo": {
           "bgcolor": "white",
           "lakecolor": "white",
           "landcolor": "#E5ECF6",
           "showlakes": true,
           "showland": true,
           "subunitcolor": "white"
          },
          "hoverlabel": {
           "align": "left"
          },
          "hovermode": "closest",
          "mapbox": {
           "style": "light"
          },
          "paper_bgcolor": "white",
          "plot_bgcolor": "#E5ECF6",
          "polar": {
           "angularaxis": {
            "gridcolor": "white",
            "linecolor": "white",
            "ticks": ""
           },
           "bgcolor": "#E5ECF6",
           "radialaxis": {
            "gridcolor": "white",
            "linecolor": "white",
            "ticks": ""
           }
          },
          "scene": {
           "xaxis": {
            "backgroundcolor": "#E5ECF6",
            "gridcolor": "white",
            "gridwidth": 2,
            "linecolor": "white",
            "showbackground": true,
            "ticks": "",
            "zerolinecolor": "white"
           },
           "yaxis": {
            "backgroundcolor": "#E5ECF6",
            "gridcolor": "white",
            "gridwidth": 2,
            "linecolor": "white",
            "showbackground": true,
            "ticks": "",
            "zerolinecolor": "white"
           },
           "zaxis": {
            "backgroundcolor": "#E5ECF6",
            "gridcolor": "white",
            "gridwidth": 2,
            "linecolor": "white",
            "showbackground": true,
            "ticks": "",
            "zerolinecolor": "white"
           }
          },
          "shapedefaults": {
           "line": {
            "color": "#2a3f5f"
           }
          },
          "ternary": {
           "aaxis": {
            "gridcolor": "white",
            "linecolor": "white",
            "ticks": ""
           },
           "baxis": {
            "gridcolor": "white",
            "linecolor": "white",
            "ticks": ""
           },
           "bgcolor": "#E5ECF6",
           "caxis": {
            "gridcolor": "white",
            "linecolor": "white",
            "ticks": ""
           }
          },
          "title": {
           "x": 0.05
          },
          "xaxis": {
           "automargin": true,
           "gridcolor": "white",
           "linecolor": "white",
           "ticks": "",
           "title": {
            "standoff": 15
           },
           "zerolinecolor": "white",
           "zerolinewidth": 2
          },
          "yaxis": {
           "automargin": true,
           "gridcolor": "white",
           "linecolor": "white",
           "ticks": "",
           "title": {
            "standoff": 15
           },
           "zerolinecolor": "white",
           "zerolinewidth": 2
          }
         }
        },
        "title": {
         "font": {
          "size": 15
         },
         "text": "OB Asks vs Bids. Mid-Price: 16125.905, binance: BTC/USDT"
        },
        "xaxis": {
         "range": [
          0,
          10
         ]
        }
       }
      }
     },
     "metadata": {},
     "output_type": "display_data"
    }
   ],
   "source": [
    "vs.OBLvls_hist(params[0],params[1], params[2])"
   ]
  },
  {
   "cell_type": "markdown",
   "metadata": {},
   "source": [
    "We will proceed for binance and ETH/USDT."
   ]
  },
  {
   "cell_type": "code",
   "execution_count": 13,
   "metadata": {},
   "outputs": [
    {
     "data": {
      "text/plain": [
       "(25, 'ETH/USDT', 'binance')"
      ]
     },
     "execution_count": 13,
     "metadata": {},
     "output_type": "execute_result"
    }
   ],
   "source": [
    "params= 25, criptos[1], exchanges[0]\n",
    "params"
   ]
  },
  {
   "cell_type": "code",
   "execution_count": 14,
   "metadata": {},
   "outputs": [
    {
     "data": {
      "text/html": [
       "<div>\n",
       "<style scoped>\n",
       "    .dataframe tbody tr th:only-of-type {\n",
       "        vertical-align: middle;\n",
       "    }\n",
       "\n",
       "    .dataframe tbody tr th {\n",
       "        vertical-align: top;\n",
       "    }\n",
       "\n",
       "    .dataframe thead th {\n",
       "        text-align: right;\n",
       "    }\n",
       "</style>\n",
       "<table border=\"1\" class=\"dataframe\">\n",
       "  <thead>\n",
       "    <tr style=\"text-align: right;\">\n",
       "      <th></th>\n",
       "      <th>price</th>\n",
       "      <th>quantity</th>\n",
       "    </tr>\n",
       "    <tr>\n",
       "      <th>Bid_Lvl</th>\n",
       "      <th></th>\n",
       "      <th></th>\n",
       "    </tr>\n",
       "  </thead>\n",
       "  <tbody>\n",
       "    <tr>\n",
       "      <th>0</th>\n",
       "      <td>1153.45</td>\n",
       "      <td>1.1762</td>\n",
       "    </tr>\n",
       "    <tr>\n",
       "      <th>1</th>\n",
       "      <td>1153.43</td>\n",
       "      <td>0.1596</td>\n",
       "    </tr>\n",
       "    <tr>\n",
       "      <th>2</th>\n",
       "      <td>1153.29</td>\n",
       "      <td>3.2112</td>\n",
       "    </tr>\n",
       "    <tr>\n",
       "      <th>3</th>\n",
       "      <td>1153.23</td>\n",
       "      <td>0.1000</td>\n",
       "    </tr>\n",
       "    <tr>\n",
       "      <th>4</th>\n",
       "      <td>1153.20</td>\n",
       "      <td>0.2484</td>\n",
       "    </tr>\n",
       "  </tbody>\n",
       "</table>\n",
       "</div>"
      ],
      "text/plain": [
       "           price  quantity\n",
       "Bid_Lvl                   \n",
       "0        1153.45    1.1762\n",
       "1        1153.43    0.1596\n",
       "2        1153.29    3.2112\n",
       "3        1153.23    0.1000\n",
       "4        1153.20    0.2484"
      ]
     },
     "execution_count": 14,
     "metadata": {},
     "output_type": "execute_result"
    }
   ],
   "source": [
    "ob_lvls=vs.cctx_download(params[0],params[1], params[2])\n",
    "ob_lvls[0].head()"
   ]
  },
  {
   "cell_type": "code",
   "execution_count": 15,
   "metadata": {},
   "outputs": [
    {
     "data": {
      "text/html": [
       "<div>\n",
       "<style scoped>\n",
       "    .dataframe tbody tr th:only-of-type {\n",
       "        vertical-align: middle;\n",
       "    }\n",
       "\n",
       "    .dataframe tbody tr th {\n",
       "        vertical-align: top;\n",
       "    }\n",
       "\n",
       "    .dataframe thead th {\n",
       "        text-align: right;\n",
       "    }\n",
       "</style>\n",
       "<table border=\"1\" class=\"dataframe\">\n",
       "  <thead>\n",
       "    <tr style=\"text-align: right;\">\n",
       "      <th></th>\n",
       "      <th>price</th>\n",
       "      <th>quantity</th>\n",
       "    </tr>\n",
       "    <tr>\n",
       "      <th>Ask_Lvl</th>\n",
       "      <th></th>\n",
       "      <th></th>\n",
       "    </tr>\n",
       "  </thead>\n",
       "  <tbody>\n",
       "    <tr>\n",
       "      <th>0</th>\n",
       "      <td>1153.46</td>\n",
       "      <td>2.1393</td>\n",
       "    </tr>\n",
       "    <tr>\n",
       "      <th>1</th>\n",
       "      <td>1153.76</td>\n",
       "      <td>0.0344</td>\n",
       "    </tr>\n",
       "    <tr>\n",
       "      <th>2</th>\n",
       "      <td>1153.77</td>\n",
       "      <td>0.0172</td>\n",
       "    </tr>\n",
       "    <tr>\n",
       "      <th>3</th>\n",
       "      <td>1154.23</td>\n",
       "      <td>0.0596</td>\n",
       "    </tr>\n",
       "    <tr>\n",
       "      <th>4</th>\n",
       "      <td>1154.29</td>\n",
       "      <td>0.8700</td>\n",
       "    </tr>\n",
       "  </tbody>\n",
       "</table>\n",
       "</div>"
      ],
      "text/plain": [
       "           price  quantity\n",
       "Ask_Lvl                   \n",
       "0        1153.46    2.1393\n",
       "1        1153.76    0.0344\n",
       "2        1153.77    0.0172\n",
       "3        1154.23    0.0596\n",
       "4        1154.29    0.8700"
      ]
     },
     "execution_count": 15,
     "metadata": {},
     "output_type": "execute_result"
    }
   ],
   "source": [
    "ob_lvls[1].head()"
   ]
  },
  {
   "cell_type": "code",
   "execution_count": 16,
   "metadata": {},
   "outputs": [
    {
     "data": {
      "text/html": [
       "<div>\n",
       "<style scoped>\n",
       "    .dataframe tbody tr th:only-of-type {\n",
       "        vertical-align: middle;\n",
       "    }\n",
       "\n",
       "    .dataframe tbody tr th {\n",
       "        vertical-align: top;\n",
       "    }\n",
       "\n",
       "    .dataframe thead th {\n",
       "        text-align: right;\n",
       "    }\n",
       "</style>\n",
       "<table border=\"1\" class=\"dataframe\">\n",
       "  <thead>\n",
       "    <tr style=\"text-align: right;\">\n",
       "      <th></th>\n",
       "      <th>exchange</th>\n",
       "      <th>timestamp</th>\n",
       "      <th>open</th>\n",
       "      <th>high</th>\n",
       "      <th>low</th>\n",
       "      <th>close</th>\n",
       "      <th>volume</th>\n",
       "    </tr>\n",
       "    <tr>\n",
       "      <th>OHLCV</th>\n",
       "      <th></th>\n",
       "      <th></th>\n",
       "      <th></th>\n",
       "      <th></th>\n",
       "      <th></th>\n",
       "      <th></th>\n",
       "      <th></th>\n",
       "    </tr>\n",
       "  </thead>\n",
       "  <tbody>\n",
       "    <tr>\n",
       "      <th>0</th>\n",
       "      <td>binance</td>\n",
       "      <td>2022-11-09T21:07:09.419Z</td>\n",
       "      <td>1170.48</td>\n",
       "      <td>1170.72</td>\n",
       "      <td>1157.18</td>\n",
       "      <td>1159.91</td>\n",
       "      <td>4682.6933</td>\n",
       "    </tr>\n",
       "  </tbody>\n",
       "</table>\n",
       "</div>"
      ],
      "text/plain": [
       "      exchange                 timestamp     open     high      low    close  \\\n",
       "OHLCV                                                                          \n",
       "0      binance  2022-11-09T21:07:09.419Z  1170.48  1170.72  1157.18  1159.91   \n",
       "\n",
       "          volume  \n",
       "OHLCV             \n",
       "0      4682.6933  "
      ]
     },
     "execution_count": 16,
     "metadata": {},
     "output_type": "execute_result"
    }
   ],
   "source": [
    "ob_lvls[2]"
   ]
  },
  {
   "cell_type": "code",
   "execution_count": 17,
   "metadata": {},
   "outputs": [
    {
     "data": {
      "application/vnd.plotly.v1+json": {
       "config": {
        "plotlyServerURL": "https://plot.ly"
       },
       "data": [
        {
         "orientation": "h",
         "type": "bar",
         "x": [
          0.0124,
          1.9467,
          0.1,
          1.37,
          1.2241,
          0.5,
          2.1393,
          0.1,
          0.4401,
          1.7391,
          2.1393,
          1.8506,
          5.881,
          1.2241,
          0.4262,
          0.1552,
          0.2423,
          0.5,
          2.1393,
          0.1464,
          1.0427,
          3.3634,
          2.3081,
          0.8,
          5.551
         ],
         "y": [
          "1151.5",
          "1151.63",
          "1151.65",
          "1152.01",
          "1152.06",
          "1152.14",
          "1152.15",
          "1152.17",
          "1152.24",
          "1152.27",
          "1152.36",
          "1152.43",
          "1152.5",
          "1152.52",
          "1152.61",
          "1152.62",
          "1152.65",
          "1152.86",
          "1152.87",
          "1152.93",
          "1152.97",
          "1152.98",
          "1153.0",
          "1153.13",
          "1153.14"
         ]
        },
        {
         "orientation": "h",
         "type": "bar",
         "x": [
          3.142,
          3.0366,
          0.185,
          0.5244,
          23.3173,
          13.1,
          0.5,
          10.2496,
          2.1712,
          6.6011,
          0.1966,
          3.3002,
          0.868,
          6.2,
          0.5,
          6.6618,
          0.5,
          2.4317,
          0.5,
          0.1552,
          0.5,
          0.5,
          1.2241,
          2.1393,
          5.881
         ],
         "y": [
          "1151.49",
          "1151.46",
          "1151.4",
          "1151.31",
          "1151.16",
          "1150.98",
          "1150.97",
          "1150.84",
          "1150.77",
          "1150.67",
          "1150.66",
          "1150.62",
          "1150.5",
          "1150.45",
          "1150.44",
          "1150.4",
          "1150.39",
          "1150.38",
          "1150.37",
          "1150.3",
          "1150.27",
          "1150.24",
          "1150.23",
          "1150.22",
          "1150.13"
         ]
        }
       ],
       "layout": {
        "template": {
         "data": {
          "bar": [
           {
            "error_x": {
             "color": "#2a3f5f"
            },
            "error_y": {
             "color": "#2a3f5f"
            },
            "marker": {
             "line": {
              "color": "#E5ECF6",
              "width": 0.5
             },
             "pattern": {
              "fillmode": "overlay",
              "size": 10,
              "solidity": 0.2
             }
            },
            "type": "bar"
           }
          ],
          "barpolar": [
           {
            "marker": {
             "line": {
              "color": "#E5ECF6",
              "width": 0.5
             },
             "pattern": {
              "fillmode": "overlay",
              "size": 10,
              "solidity": 0.2
             }
            },
            "type": "barpolar"
           }
          ],
          "carpet": [
           {
            "aaxis": {
             "endlinecolor": "#2a3f5f",
             "gridcolor": "white",
             "linecolor": "white",
             "minorgridcolor": "white",
             "startlinecolor": "#2a3f5f"
            },
            "baxis": {
             "endlinecolor": "#2a3f5f",
             "gridcolor": "white",
             "linecolor": "white",
             "minorgridcolor": "white",
             "startlinecolor": "#2a3f5f"
            },
            "type": "carpet"
           }
          ],
          "choropleth": [
           {
            "colorbar": {
             "outlinewidth": 0,
             "ticks": ""
            },
            "type": "choropleth"
           }
          ],
          "contour": [
           {
            "colorbar": {
             "outlinewidth": 0,
             "ticks": ""
            },
            "colorscale": [
             [
              0,
              "#0d0887"
             ],
             [
              0.1111111111111111,
              "#46039f"
             ],
             [
              0.2222222222222222,
              "#7201a8"
             ],
             [
              0.3333333333333333,
              "#9c179e"
             ],
             [
              0.4444444444444444,
              "#bd3786"
             ],
             [
              0.5555555555555556,
              "#d8576b"
             ],
             [
              0.6666666666666666,
              "#ed7953"
             ],
             [
              0.7777777777777778,
              "#fb9f3a"
             ],
             [
              0.8888888888888888,
              "#fdca26"
             ],
             [
              1,
              "#f0f921"
             ]
            ],
            "type": "contour"
           }
          ],
          "contourcarpet": [
           {
            "colorbar": {
             "outlinewidth": 0,
             "ticks": ""
            },
            "type": "contourcarpet"
           }
          ],
          "heatmap": [
           {
            "colorbar": {
             "outlinewidth": 0,
             "ticks": ""
            },
            "colorscale": [
             [
              0,
              "#0d0887"
             ],
             [
              0.1111111111111111,
              "#46039f"
             ],
             [
              0.2222222222222222,
              "#7201a8"
             ],
             [
              0.3333333333333333,
              "#9c179e"
             ],
             [
              0.4444444444444444,
              "#bd3786"
             ],
             [
              0.5555555555555556,
              "#d8576b"
             ],
             [
              0.6666666666666666,
              "#ed7953"
             ],
             [
              0.7777777777777778,
              "#fb9f3a"
             ],
             [
              0.8888888888888888,
              "#fdca26"
             ],
             [
              1,
              "#f0f921"
             ]
            ],
            "type": "heatmap"
           }
          ],
          "heatmapgl": [
           {
            "colorbar": {
             "outlinewidth": 0,
             "ticks": ""
            },
            "colorscale": [
             [
              0,
              "#0d0887"
             ],
             [
              0.1111111111111111,
              "#46039f"
             ],
             [
              0.2222222222222222,
              "#7201a8"
             ],
             [
              0.3333333333333333,
              "#9c179e"
             ],
             [
              0.4444444444444444,
              "#bd3786"
             ],
             [
              0.5555555555555556,
              "#d8576b"
             ],
             [
              0.6666666666666666,
              "#ed7953"
             ],
             [
              0.7777777777777778,
              "#fb9f3a"
             ],
             [
              0.8888888888888888,
              "#fdca26"
             ],
             [
              1,
              "#f0f921"
             ]
            ],
            "type": "heatmapgl"
           }
          ],
          "histogram": [
           {
            "marker": {
             "pattern": {
              "fillmode": "overlay",
              "size": 10,
              "solidity": 0.2
             }
            },
            "type": "histogram"
           }
          ],
          "histogram2d": [
           {
            "colorbar": {
             "outlinewidth": 0,
             "ticks": ""
            },
            "colorscale": [
             [
              0,
              "#0d0887"
             ],
             [
              0.1111111111111111,
              "#46039f"
             ],
             [
              0.2222222222222222,
              "#7201a8"
             ],
             [
              0.3333333333333333,
              "#9c179e"
             ],
             [
              0.4444444444444444,
              "#bd3786"
             ],
             [
              0.5555555555555556,
              "#d8576b"
             ],
             [
              0.6666666666666666,
              "#ed7953"
             ],
             [
              0.7777777777777778,
              "#fb9f3a"
             ],
             [
              0.8888888888888888,
              "#fdca26"
             ],
             [
              1,
              "#f0f921"
             ]
            ],
            "type": "histogram2d"
           }
          ],
          "histogram2dcontour": [
           {
            "colorbar": {
             "outlinewidth": 0,
             "ticks": ""
            },
            "colorscale": [
             [
              0,
              "#0d0887"
             ],
             [
              0.1111111111111111,
              "#46039f"
             ],
             [
              0.2222222222222222,
              "#7201a8"
             ],
             [
              0.3333333333333333,
              "#9c179e"
             ],
             [
              0.4444444444444444,
              "#bd3786"
             ],
             [
              0.5555555555555556,
              "#d8576b"
             ],
             [
              0.6666666666666666,
              "#ed7953"
             ],
             [
              0.7777777777777778,
              "#fb9f3a"
             ],
             [
              0.8888888888888888,
              "#fdca26"
             ],
             [
              1,
              "#f0f921"
             ]
            ],
            "type": "histogram2dcontour"
           }
          ],
          "mesh3d": [
           {
            "colorbar": {
             "outlinewidth": 0,
             "ticks": ""
            },
            "type": "mesh3d"
           }
          ],
          "parcoords": [
           {
            "line": {
             "colorbar": {
              "outlinewidth": 0,
              "ticks": ""
             }
            },
            "type": "parcoords"
           }
          ],
          "pie": [
           {
            "automargin": true,
            "type": "pie"
           }
          ],
          "scatter": [
           {
            "marker": {
             "colorbar": {
              "outlinewidth": 0,
              "ticks": ""
             }
            },
            "type": "scatter"
           }
          ],
          "scatter3d": [
           {
            "line": {
             "colorbar": {
              "outlinewidth": 0,
              "ticks": ""
             }
            },
            "marker": {
             "colorbar": {
              "outlinewidth": 0,
              "ticks": ""
             }
            },
            "type": "scatter3d"
           }
          ],
          "scattercarpet": [
           {
            "marker": {
             "colorbar": {
              "outlinewidth": 0,
              "ticks": ""
             }
            },
            "type": "scattercarpet"
           }
          ],
          "scattergeo": [
           {
            "marker": {
             "colorbar": {
              "outlinewidth": 0,
              "ticks": ""
             }
            },
            "type": "scattergeo"
           }
          ],
          "scattergl": [
           {
            "marker": {
             "colorbar": {
              "outlinewidth": 0,
              "ticks": ""
             }
            },
            "type": "scattergl"
           }
          ],
          "scattermapbox": [
           {
            "marker": {
             "colorbar": {
              "outlinewidth": 0,
              "ticks": ""
             }
            },
            "type": "scattermapbox"
           }
          ],
          "scatterpolar": [
           {
            "marker": {
             "colorbar": {
              "outlinewidth": 0,
              "ticks": ""
             }
            },
            "type": "scatterpolar"
           }
          ],
          "scatterpolargl": [
           {
            "marker": {
             "colorbar": {
              "outlinewidth": 0,
              "ticks": ""
             }
            },
            "type": "scatterpolargl"
           }
          ],
          "scatterternary": [
           {
            "marker": {
             "colorbar": {
              "outlinewidth": 0,
              "ticks": ""
             }
            },
            "type": "scatterternary"
           }
          ],
          "surface": [
           {
            "colorbar": {
             "outlinewidth": 0,
             "ticks": ""
            },
            "colorscale": [
             [
              0,
              "#0d0887"
             ],
             [
              0.1111111111111111,
              "#46039f"
             ],
             [
              0.2222222222222222,
              "#7201a8"
             ],
             [
              0.3333333333333333,
              "#9c179e"
             ],
             [
              0.4444444444444444,
              "#bd3786"
             ],
             [
              0.5555555555555556,
              "#d8576b"
             ],
             [
              0.6666666666666666,
              "#ed7953"
             ],
             [
              0.7777777777777778,
              "#fb9f3a"
             ],
             [
              0.8888888888888888,
              "#fdca26"
             ],
             [
              1,
              "#f0f921"
             ]
            ],
            "type": "surface"
           }
          ],
          "table": [
           {
            "cells": {
             "fill": {
              "color": "#EBF0F8"
             },
             "line": {
              "color": "white"
             }
            },
            "header": {
             "fill": {
              "color": "#C8D4E3"
             },
             "line": {
              "color": "white"
             }
            },
            "type": "table"
           }
          ]
         },
         "layout": {
          "annotationdefaults": {
           "arrowcolor": "#2a3f5f",
           "arrowhead": 0,
           "arrowwidth": 1
          },
          "autotypenumbers": "strict",
          "coloraxis": {
           "colorbar": {
            "outlinewidth": 0,
            "ticks": ""
           }
          },
          "colorscale": {
           "diverging": [
            [
             0,
             "#8e0152"
            ],
            [
             0.1,
             "#c51b7d"
            ],
            [
             0.2,
             "#de77ae"
            ],
            [
             0.3,
             "#f1b6da"
            ],
            [
             0.4,
             "#fde0ef"
            ],
            [
             0.5,
             "#f7f7f7"
            ],
            [
             0.6,
             "#e6f5d0"
            ],
            [
             0.7,
             "#b8e186"
            ],
            [
             0.8,
             "#7fbc41"
            ],
            [
             0.9,
             "#4d9221"
            ],
            [
             1,
             "#276419"
            ]
           ],
           "sequential": [
            [
             0,
             "#0d0887"
            ],
            [
             0.1111111111111111,
             "#46039f"
            ],
            [
             0.2222222222222222,
             "#7201a8"
            ],
            [
             0.3333333333333333,
             "#9c179e"
            ],
            [
             0.4444444444444444,
             "#bd3786"
            ],
            [
             0.5555555555555556,
             "#d8576b"
            ],
            [
             0.6666666666666666,
             "#ed7953"
            ],
            [
             0.7777777777777778,
             "#fb9f3a"
            ],
            [
             0.8888888888888888,
             "#fdca26"
            ],
            [
             1,
             "#f0f921"
            ]
           ],
           "sequentialminus": [
            [
             0,
             "#0d0887"
            ],
            [
             0.1111111111111111,
             "#46039f"
            ],
            [
             0.2222222222222222,
             "#7201a8"
            ],
            [
             0.3333333333333333,
             "#9c179e"
            ],
            [
             0.4444444444444444,
             "#bd3786"
            ],
            [
             0.5555555555555556,
             "#d8576b"
            ],
            [
             0.6666666666666666,
             "#ed7953"
            ],
            [
             0.7777777777777778,
             "#fb9f3a"
            ],
            [
             0.8888888888888888,
             "#fdca26"
            ],
            [
             1,
             "#f0f921"
            ]
           ]
          },
          "colorway": [
           "#636efa",
           "#EF553B",
           "#00cc96",
           "#ab63fa",
           "#FFA15A",
           "#19d3f3",
           "#FF6692",
           "#B6E880",
           "#FF97FF",
           "#FECB52"
          ],
          "font": {
           "color": "#2a3f5f"
          },
          "geo": {
           "bgcolor": "white",
           "lakecolor": "white",
           "landcolor": "#E5ECF6",
           "showlakes": true,
           "showland": true,
           "subunitcolor": "white"
          },
          "hoverlabel": {
           "align": "left"
          },
          "hovermode": "closest",
          "mapbox": {
           "style": "light"
          },
          "paper_bgcolor": "white",
          "plot_bgcolor": "#E5ECF6",
          "polar": {
           "angularaxis": {
            "gridcolor": "white",
            "linecolor": "white",
            "ticks": ""
           },
           "bgcolor": "#E5ECF6",
           "radialaxis": {
            "gridcolor": "white",
            "linecolor": "white",
            "ticks": ""
           }
          },
          "scene": {
           "xaxis": {
            "backgroundcolor": "#E5ECF6",
            "gridcolor": "white",
            "gridwidth": 2,
            "linecolor": "white",
            "showbackground": true,
            "ticks": "",
            "zerolinecolor": "white"
           },
           "yaxis": {
            "backgroundcolor": "#E5ECF6",
            "gridcolor": "white",
            "gridwidth": 2,
            "linecolor": "white",
            "showbackground": true,
            "ticks": "",
            "zerolinecolor": "white"
           },
           "zaxis": {
            "backgroundcolor": "#E5ECF6",
            "gridcolor": "white",
            "gridwidth": 2,
            "linecolor": "white",
            "showbackground": true,
            "ticks": "",
            "zerolinecolor": "white"
           }
          },
          "shapedefaults": {
           "line": {
            "color": "#2a3f5f"
           }
          },
          "ternary": {
           "aaxis": {
            "gridcolor": "white",
            "linecolor": "white",
            "ticks": ""
           },
           "baxis": {
            "gridcolor": "white",
            "linecolor": "white",
            "ticks": ""
           },
           "bgcolor": "#E5ECF6",
           "caxis": {
            "gridcolor": "white",
            "linecolor": "white",
            "ticks": ""
           }
          },
          "title": {
           "x": 0.05
          },
          "xaxis": {
           "automargin": true,
           "gridcolor": "white",
           "linecolor": "white",
           "ticks": "",
           "title": {
            "standoff": 15
           },
           "zerolinecolor": "white",
           "zerolinewidth": 2
          },
          "yaxis": {
           "automargin": true,
           "gridcolor": "white",
           "linecolor": "white",
           "ticks": "",
           "title": {
            "standoff": 15
           },
           "zerolinecolor": "white",
           "zerolinewidth": 2
          }
         }
        },
        "title": {
         "font": {
          "size": 15
         },
         "text": "OB Asks vs Bids. Mid-Price: 1151.495, binance: ETH/USDT"
        },
        "xaxis": {
         "range": [
          0,
          10
         ]
        }
       }
      }
     },
     "metadata": {},
     "output_type": "display_data"
    }
   ],
   "source": [
    "vs.OBLvls_hist(params[0],params[1], params[2])"
   ]
  },
  {
   "cell_type": "markdown",
   "metadata": {},
   "source": [
    "We continue with the exchange binance and XRP/USDT."
   ]
  },
  {
   "cell_type": "code",
   "execution_count": 18,
   "metadata": {},
   "outputs": [
    {
     "data": {
      "text/plain": [
       "(25, 'XRP/USDT', 'binance')"
      ]
     },
     "execution_count": 18,
     "metadata": {},
     "output_type": "execute_result"
    }
   ],
   "source": [
    "params= 25, criptos[2], exchanges[0]\n",
    "params"
   ]
  },
  {
   "cell_type": "code",
   "execution_count": 19,
   "metadata": {},
   "outputs": [
    {
     "data": {
      "text/html": [
       "<div>\n",
       "<style scoped>\n",
       "    .dataframe tbody tr th:only-of-type {\n",
       "        vertical-align: middle;\n",
       "    }\n",
       "\n",
       "    .dataframe tbody tr th {\n",
       "        vertical-align: top;\n",
       "    }\n",
       "\n",
       "    .dataframe thead th {\n",
       "        text-align: right;\n",
       "    }\n",
       "</style>\n",
       "<table border=\"1\" class=\"dataframe\">\n",
       "  <thead>\n",
       "    <tr style=\"text-align: right;\">\n",
       "      <th></th>\n",
       "      <th>price</th>\n",
       "      <th>quantity</th>\n",
       "    </tr>\n",
       "    <tr>\n",
       "      <th>Bid_Lvl</th>\n",
       "      <th></th>\n",
       "      <th></th>\n",
       "    </tr>\n",
       "  </thead>\n",
       "  <tbody>\n",
       "    <tr>\n",
       "      <th>0</th>\n",
       "      <td>0.3447</td>\n",
       "      <td>749.0</td>\n",
       "    </tr>\n",
       "    <tr>\n",
       "      <th>1</th>\n",
       "      <td>0.3446</td>\n",
       "      <td>450.0</td>\n",
       "    </tr>\n",
       "    <tr>\n",
       "      <th>2</th>\n",
       "      <td>0.3445</td>\n",
       "      <td>28397.0</td>\n",
       "    </tr>\n",
       "    <tr>\n",
       "      <th>3</th>\n",
       "      <td>0.3444</td>\n",
       "      <td>519385.0</td>\n",
       "    </tr>\n",
       "    <tr>\n",
       "      <th>4</th>\n",
       "      <td>0.3443</td>\n",
       "      <td>23088.0</td>\n",
       "    </tr>\n",
       "  </tbody>\n",
       "</table>\n",
       "</div>"
      ],
      "text/plain": [
       "          price  quantity\n",
       "Bid_Lvl                  \n",
       "0        0.3447     749.0\n",
       "1        0.3446     450.0\n",
       "2        0.3445   28397.0\n",
       "3        0.3444  519385.0\n",
       "4        0.3443   23088.0"
      ]
     },
     "execution_count": 19,
     "metadata": {},
     "output_type": "execute_result"
    }
   ],
   "source": [
    "ob_lvls=vs.cctx_download(params[0],params[1], params[2])\n",
    "ob_lvls[0].head()"
   ]
  },
  {
   "cell_type": "code",
   "execution_count": 20,
   "metadata": {},
   "outputs": [
    {
     "data": {
      "text/html": [
       "<div>\n",
       "<style scoped>\n",
       "    .dataframe tbody tr th:only-of-type {\n",
       "        vertical-align: middle;\n",
       "    }\n",
       "\n",
       "    .dataframe tbody tr th {\n",
       "        vertical-align: top;\n",
       "    }\n",
       "\n",
       "    .dataframe thead th {\n",
       "        text-align: right;\n",
       "    }\n",
       "</style>\n",
       "<table border=\"1\" class=\"dataframe\">\n",
       "  <thead>\n",
       "    <tr style=\"text-align: right;\">\n",
       "      <th></th>\n",
       "      <th>price</th>\n",
       "      <th>quantity</th>\n",
       "    </tr>\n",
       "    <tr>\n",
       "      <th>Ask_Lvl</th>\n",
       "      <th></th>\n",
       "      <th></th>\n",
       "    </tr>\n",
       "  </thead>\n",
       "  <tbody>\n",
       "    <tr>\n",
       "      <th>0</th>\n",
       "      <td>0.3448</td>\n",
       "      <td>309.0</td>\n",
       "    </tr>\n",
       "    <tr>\n",
       "      <th>1</th>\n",
       "      <td>0.3449</td>\n",
       "      <td>1391.0</td>\n",
       "    </tr>\n",
       "    <tr>\n",
       "      <th>2</th>\n",
       "      <td>0.3450</td>\n",
       "      <td>7538.0</td>\n",
       "    </tr>\n",
       "    <tr>\n",
       "      <th>3</th>\n",
       "      <td>0.3451</td>\n",
       "      <td>21923.0</td>\n",
       "    </tr>\n",
       "    <tr>\n",
       "      <th>4</th>\n",
       "      <td>0.3452</td>\n",
       "      <td>13678.0</td>\n",
       "    </tr>\n",
       "  </tbody>\n",
       "</table>\n",
       "</div>"
      ],
      "text/plain": [
       "          price  quantity\n",
       "Ask_Lvl                  \n",
       "0        0.3448     309.0\n",
       "1        0.3449    1391.0\n",
       "2        0.3450    7538.0\n",
       "3        0.3451   21923.0\n",
       "4        0.3452   13678.0"
      ]
     },
     "execution_count": 20,
     "metadata": {},
     "output_type": "execute_result"
    }
   ],
   "source": [
    "ob_lvls[1].head()"
   ]
  },
  {
   "cell_type": "code",
   "execution_count": 21,
   "metadata": {},
   "outputs": [
    {
     "data": {
      "text/html": [
       "<div>\n",
       "<style scoped>\n",
       "    .dataframe tbody tr th:only-of-type {\n",
       "        vertical-align: middle;\n",
       "    }\n",
       "\n",
       "    .dataframe tbody tr th {\n",
       "        vertical-align: top;\n",
       "    }\n",
       "\n",
       "    .dataframe thead th {\n",
       "        text-align: right;\n",
       "    }\n",
       "</style>\n",
       "<table border=\"1\" class=\"dataframe\">\n",
       "  <thead>\n",
       "    <tr style=\"text-align: right;\">\n",
       "      <th></th>\n",
       "      <th>exchange</th>\n",
       "      <th>timestamp</th>\n",
       "      <th>open</th>\n",
       "      <th>high</th>\n",
       "      <th>low</th>\n",
       "      <th>close</th>\n",
       "      <th>volume</th>\n",
       "    </tr>\n",
       "    <tr>\n",
       "      <th>OHLCV</th>\n",
       "      <th></th>\n",
       "      <th></th>\n",
       "      <th></th>\n",
       "      <th></th>\n",
       "      <th></th>\n",
       "      <th></th>\n",
       "      <th></th>\n",
       "    </tr>\n",
       "  </thead>\n",
       "  <tbody>\n",
       "    <tr>\n",
       "      <th>0</th>\n",
       "      <td>binance</td>\n",
       "      <td>2022-11-09T21:07:27.065Z</td>\n",
       "      <td>0.3522</td>\n",
       "      <td>0.3524</td>\n",
       "      <td>0.3486</td>\n",
       "      <td>0.3495</td>\n",
       "      <td>1324857.0</td>\n",
       "    </tr>\n",
       "  </tbody>\n",
       "</table>\n",
       "</div>"
      ],
      "text/plain": [
       "      exchange                 timestamp    open    high     low   close  \\\n",
       "OHLCV                                                                      \n",
       "0      binance  2022-11-09T21:07:27.065Z  0.3522  0.3524  0.3486  0.3495   \n",
       "\n",
       "          volume  \n",
       "OHLCV             \n",
       "0      1324857.0  "
      ]
     },
     "execution_count": 21,
     "metadata": {},
     "output_type": "execute_result"
    }
   ],
   "source": [
    "ob_lvls[2]"
   ]
  },
  {
   "cell_type": "code",
   "execution_count": 22,
   "metadata": {},
   "outputs": [
    {
     "data": {
      "application/vnd.plotly.v1+json": {
       "config": {
        "plotlyServerURL": "https://plot.ly"
       },
       "data": [
        {
         "orientation": "h",
         "type": "bar",
         "x": [
          3744,
          3368,
          2631,
          29346,
          27189,
          635,
          5641,
          30772,
          18529,
          55700,
          11286,
          39554,
          6034,
          625,
          19655,
          25795,
          349,
          4031,
          20000,
          32164,
          14793,
          349,
          43408,
          14496,
          11276
         ],
         "y": [
          "0.3445",
          "0.3446",
          "0.3447",
          "0.3448",
          "0.3449",
          "0.345",
          "0.3451",
          "0.3452",
          "0.3453",
          "0.3454",
          "0.3455",
          "0.3456",
          "0.3457",
          "0.3458",
          "0.3459",
          "0.346",
          "0.3461",
          "0.3462",
          "0.3463",
          "0.3464",
          "0.3465",
          "0.3466",
          "0.3467",
          "0.3468",
          "0.3469"
         ]
        },
        {
         "orientation": "h",
         "type": "bar",
         "x": [
          429777,
          2733,
          30,
          961,
          12028,
          48999,
          92518,
          109273,
          203743,
          67827,
          4515,
          16507,
          2185,
          18291,
          110667,
          3306,
          10598,
          107,
          725,
          1230,
          10607,
          91,
          306621,
          4488,
          12845
         ],
         "y": [
          "0.3444",
          "0.3443",
          "0.3442",
          "0.3441",
          "0.344",
          "0.3439",
          "0.3438",
          "0.3437",
          "0.3436",
          "0.3435",
          "0.3434",
          "0.3433",
          "0.3432",
          "0.3431",
          "0.343",
          "0.3429",
          "0.3428",
          "0.3427",
          "0.3426",
          "0.3425",
          "0.3424",
          "0.3423",
          "0.3422",
          "0.3421",
          "0.342"
         ]
        }
       ],
       "layout": {
        "template": {
         "data": {
          "bar": [
           {
            "error_x": {
             "color": "#2a3f5f"
            },
            "error_y": {
             "color": "#2a3f5f"
            },
            "marker": {
             "line": {
              "color": "#E5ECF6",
              "width": 0.5
             },
             "pattern": {
              "fillmode": "overlay",
              "size": 10,
              "solidity": 0.2
             }
            },
            "type": "bar"
           }
          ],
          "barpolar": [
           {
            "marker": {
             "line": {
              "color": "#E5ECF6",
              "width": 0.5
             },
             "pattern": {
              "fillmode": "overlay",
              "size": 10,
              "solidity": 0.2
             }
            },
            "type": "barpolar"
           }
          ],
          "carpet": [
           {
            "aaxis": {
             "endlinecolor": "#2a3f5f",
             "gridcolor": "white",
             "linecolor": "white",
             "minorgridcolor": "white",
             "startlinecolor": "#2a3f5f"
            },
            "baxis": {
             "endlinecolor": "#2a3f5f",
             "gridcolor": "white",
             "linecolor": "white",
             "minorgridcolor": "white",
             "startlinecolor": "#2a3f5f"
            },
            "type": "carpet"
           }
          ],
          "choropleth": [
           {
            "colorbar": {
             "outlinewidth": 0,
             "ticks": ""
            },
            "type": "choropleth"
           }
          ],
          "contour": [
           {
            "colorbar": {
             "outlinewidth": 0,
             "ticks": ""
            },
            "colorscale": [
             [
              0,
              "#0d0887"
             ],
             [
              0.1111111111111111,
              "#46039f"
             ],
             [
              0.2222222222222222,
              "#7201a8"
             ],
             [
              0.3333333333333333,
              "#9c179e"
             ],
             [
              0.4444444444444444,
              "#bd3786"
             ],
             [
              0.5555555555555556,
              "#d8576b"
             ],
             [
              0.6666666666666666,
              "#ed7953"
             ],
             [
              0.7777777777777778,
              "#fb9f3a"
             ],
             [
              0.8888888888888888,
              "#fdca26"
             ],
             [
              1,
              "#f0f921"
             ]
            ],
            "type": "contour"
           }
          ],
          "contourcarpet": [
           {
            "colorbar": {
             "outlinewidth": 0,
             "ticks": ""
            },
            "type": "contourcarpet"
           }
          ],
          "heatmap": [
           {
            "colorbar": {
             "outlinewidth": 0,
             "ticks": ""
            },
            "colorscale": [
             [
              0,
              "#0d0887"
             ],
             [
              0.1111111111111111,
              "#46039f"
             ],
             [
              0.2222222222222222,
              "#7201a8"
             ],
             [
              0.3333333333333333,
              "#9c179e"
             ],
             [
              0.4444444444444444,
              "#bd3786"
             ],
             [
              0.5555555555555556,
              "#d8576b"
             ],
             [
              0.6666666666666666,
              "#ed7953"
             ],
             [
              0.7777777777777778,
              "#fb9f3a"
             ],
             [
              0.8888888888888888,
              "#fdca26"
             ],
             [
              1,
              "#f0f921"
             ]
            ],
            "type": "heatmap"
           }
          ],
          "heatmapgl": [
           {
            "colorbar": {
             "outlinewidth": 0,
             "ticks": ""
            },
            "colorscale": [
             [
              0,
              "#0d0887"
             ],
             [
              0.1111111111111111,
              "#46039f"
             ],
             [
              0.2222222222222222,
              "#7201a8"
             ],
             [
              0.3333333333333333,
              "#9c179e"
             ],
             [
              0.4444444444444444,
              "#bd3786"
             ],
             [
              0.5555555555555556,
              "#d8576b"
             ],
             [
              0.6666666666666666,
              "#ed7953"
             ],
             [
              0.7777777777777778,
              "#fb9f3a"
             ],
             [
              0.8888888888888888,
              "#fdca26"
             ],
             [
              1,
              "#f0f921"
             ]
            ],
            "type": "heatmapgl"
           }
          ],
          "histogram": [
           {
            "marker": {
             "pattern": {
              "fillmode": "overlay",
              "size": 10,
              "solidity": 0.2
             }
            },
            "type": "histogram"
           }
          ],
          "histogram2d": [
           {
            "colorbar": {
             "outlinewidth": 0,
             "ticks": ""
            },
            "colorscale": [
             [
              0,
              "#0d0887"
             ],
             [
              0.1111111111111111,
              "#46039f"
             ],
             [
              0.2222222222222222,
              "#7201a8"
             ],
             [
              0.3333333333333333,
              "#9c179e"
             ],
             [
              0.4444444444444444,
              "#bd3786"
             ],
             [
              0.5555555555555556,
              "#d8576b"
             ],
             [
              0.6666666666666666,
              "#ed7953"
             ],
             [
              0.7777777777777778,
              "#fb9f3a"
             ],
             [
              0.8888888888888888,
              "#fdca26"
             ],
             [
              1,
              "#f0f921"
             ]
            ],
            "type": "histogram2d"
           }
          ],
          "histogram2dcontour": [
           {
            "colorbar": {
             "outlinewidth": 0,
             "ticks": ""
            },
            "colorscale": [
             [
              0,
              "#0d0887"
             ],
             [
              0.1111111111111111,
              "#46039f"
             ],
             [
              0.2222222222222222,
              "#7201a8"
             ],
             [
              0.3333333333333333,
              "#9c179e"
             ],
             [
              0.4444444444444444,
              "#bd3786"
             ],
             [
              0.5555555555555556,
              "#d8576b"
             ],
             [
              0.6666666666666666,
              "#ed7953"
             ],
             [
              0.7777777777777778,
              "#fb9f3a"
             ],
             [
              0.8888888888888888,
              "#fdca26"
             ],
             [
              1,
              "#f0f921"
             ]
            ],
            "type": "histogram2dcontour"
           }
          ],
          "mesh3d": [
           {
            "colorbar": {
             "outlinewidth": 0,
             "ticks": ""
            },
            "type": "mesh3d"
           }
          ],
          "parcoords": [
           {
            "line": {
             "colorbar": {
              "outlinewidth": 0,
              "ticks": ""
             }
            },
            "type": "parcoords"
           }
          ],
          "pie": [
           {
            "automargin": true,
            "type": "pie"
           }
          ],
          "scatter": [
           {
            "marker": {
             "colorbar": {
              "outlinewidth": 0,
              "ticks": ""
             }
            },
            "type": "scatter"
           }
          ],
          "scatter3d": [
           {
            "line": {
             "colorbar": {
              "outlinewidth": 0,
              "ticks": ""
             }
            },
            "marker": {
             "colorbar": {
              "outlinewidth": 0,
              "ticks": ""
             }
            },
            "type": "scatter3d"
           }
          ],
          "scattercarpet": [
           {
            "marker": {
             "colorbar": {
              "outlinewidth": 0,
              "ticks": ""
             }
            },
            "type": "scattercarpet"
           }
          ],
          "scattergeo": [
           {
            "marker": {
             "colorbar": {
              "outlinewidth": 0,
              "ticks": ""
             }
            },
            "type": "scattergeo"
           }
          ],
          "scattergl": [
           {
            "marker": {
             "colorbar": {
              "outlinewidth": 0,
              "ticks": ""
             }
            },
            "type": "scattergl"
           }
          ],
          "scattermapbox": [
           {
            "marker": {
             "colorbar": {
              "outlinewidth": 0,
              "ticks": ""
             }
            },
            "type": "scattermapbox"
           }
          ],
          "scatterpolar": [
           {
            "marker": {
             "colorbar": {
              "outlinewidth": 0,
              "ticks": ""
             }
            },
            "type": "scatterpolar"
           }
          ],
          "scatterpolargl": [
           {
            "marker": {
             "colorbar": {
              "outlinewidth": 0,
              "ticks": ""
             }
            },
            "type": "scatterpolargl"
           }
          ],
          "scatterternary": [
           {
            "marker": {
             "colorbar": {
              "outlinewidth": 0,
              "ticks": ""
             }
            },
            "type": "scatterternary"
           }
          ],
          "surface": [
           {
            "colorbar": {
             "outlinewidth": 0,
             "ticks": ""
            },
            "colorscale": [
             [
              0,
              "#0d0887"
             ],
             [
              0.1111111111111111,
              "#46039f"
             ],
             [
              0.2222222222222222,
              "#7201a8"
             ],
             [
              0.3333333333333333,
              "#9c179e"
             ],
             [
              0.4444444444444444,
              "#bd3786"
             ],
             [
              0.5555555555555556,
              "#d8576b"
             ],
             [
              0.6666666666666666,
              "#ed7953"
             ],
             [
              0.7777777777777778,
              "#fb9f3a"
             ],
             [
              0.8888888888888888,
              "#fdca26"
             ],
             [
              1,
              "#f0f921"
             ]
            ],
            "type": "surface"
           }
          ],
          "table": [
           {
            "cells": {
             "fill": {
              "color": "#EBF0F8"
             },
             "line": {
              "color": "white"
             }
            },
            "header": {
             "fill": {
              "color": "#C8D4E3"
             },
             "line": {
              "color": "white"
             }
            },
            "type": "table"
           }
          ]
         },
         "layout": {
          "annotationdefaults": {
           "arrowcolor": "#2a3f5f",
           "arrowhead": 0,
           "arrowwidth": 1
          },
          "autotypenumbers": "strict",
          "coloraxis": {
           "colorbar": {
            "outlinewidth": 0,
            "ticks": ""
           }
          },
          "colorscale": {
           "diverging": [
            [
             0,
             "#8e0152"
            ],
            [
             0.1,
             "#c51b7d"
            ],
            [
             0.2,
             "#de77ae"
            ],
            [
             0.3,
             "#f1b6da"
            ],
            [
             0.4,
             "#fde0ef"
            ],
            [
             0.5,
             "#f7f7f7"
            ],
            [
             0.6,
             "#e6f5d0"
            ],
            [
             0.7,
             "#b8e186"
            ],
            [
             0.8,
             "#7fbc41"
            ],
            [
             0.9,
             "#4d9221"
            ],
            [
             1,
             "#276419"
            ]
           ],
           "sequential": [
            [
             0,
             "#0d0887"
            ],
            [
             0.1111111111111111,
             "#46039f"
            ],
            [
             0.2222222222222222,
             "#7201a8"
            ],
            [
             0.3333333333333333,
             "#9c179e"
            ],
            [
             0.4444444444444444,
             "#bd3786"
            ],
            [
             0.5555555555555556,
             "#d8576b"
            ],
            [
             0.6666666666666666,
             "#ed7953"
            ],
            [
             0.7777777777777778,
             "#fb9f3a"
            ],
            [
             0.8888888888888888,
             "#fdca26"
            ],
            [
             1,
             "#f0f921"
            ]
           ],
           "sequentialminus": [
            [
             0,
             "#0d0887"
            ],
            [
             0.1111111111111111,
             "#46039f"
            ],
            [
             0.2222222222222222,
             "#7201a8"
            ],
            [
             0.3333333333333333,
             "#9c179e"
            ],
            [
             0.4444444444444444,
             "#bd3786"
            ],
            [
             0.5555555555555556,
             "#d8576b"
            ],
            [
             0.6666666666666666,
             "#ed7953"
            ],
            [
             0.7777777777777778,
             "#fb9f3a"
            ],
            [
             0.8888888888888888,
             "#fdca26"
            ],
            [
             1,
             "#f0f921"
            ]
           ]
          },
          "colorway": [
           "#636efa",
           "#EF553B",
           "#00cc96",
           "#ab63fa",
           "#FFA15A",
           "#19d3f3",
           "#FF6692",
           "#B6E880",
           "#FF97FF",
           "#FECB52"
          ],
          "font": {
           "color": "#2a3f5f"
          },
          "geo": {
           "bgcolor": "white",
           "lakecolor": "white",
           "landcolor": "#E5ECF6",
           "showlakes": true,
           "showland": true,
           "subunitcolor": "white"
          },
          "hoverlabel": {
           "align": "left"
          },
          "hovermode": "closest",
          "mapbox": {
           "style": "light"
          },
          "paper_bgcolor": "white",
          "plot_bgcolor": "#E5ECF6",
          "polar": {
           "angularaxis": {
            "gridcolor": "white",
            "linecolor": "white",
            "ticks": ""
           },
           "bgcolor": "#E5ECF6",
           "radialaxis": {
            "gridcolor": "white",
            "linecolor": "white",
            "ticks": ""
           }
          },
          "scene": {
           "xaxis": {
            "backgroundcolor": "#E5ECF6",
            "gridcolor": "white",
            "gridwidth": 2,
            "linecolor": "white",
            "showbackground": true,
            "ticks": "",
            "zerolinecolor": "white"
           },
           "yaxis": {
            "backgroundcolor": "#E5ECF6",
            "gridcolor": "white",
            "gridwidth": 2,
            "linecolor": "white",
            "showbackground": true,
            "ticks": "",
            "zerolinecolor": "white"
           },
           "zaxis": {
            "backgroundcolor": "#E5ECF6",
            "gridcolor": "white",
            "gridwidth": 2,
            "linecolor": "white",
            "showbackground": true,
            "ticks": "",
            "zerolinecolor": "white"
           }
          },
          "shapedefaults": {
           "line": {
            "color": "#2a3f5f"
           }
          },
          "ternary": {
           "aaxis": {
            "gridcolor": "white",
            "linecolor": "white",
            "ticks": ""
           },
           "baxis": {
            "gridcolor": "white",
            "linecolor": "white",
            "ticks": ""
           },
           "bgcolor": "#E5ECF6",
           "caxis": {
            "gridcolor": "white",
            "linecolor": "white",
            "ticks": ""
           }
          },
          "title": {
           "x": 0.05
          },
          "xaxis": {
           "automargin": true,
           "gridcolor": "white",
           "linecolor": "white",
           "ticks": "",
           "title": {
            "standoff": 15
           },
           "zerolinecolor": "white",
           "zerolinewidth": 2
          },
          "yaxis": {
           "automargin": true,
           "gridcolor": "white",
           "linecolor": "white",
           "ticks": "",
           "title": {
            "standoff": 15
           },
           "zerolinecolor": "white",
           "zerolinewidth": 2
          }
         }
        },
        "title": {
         "font": {
          "size": 15
         },
         "text": "OB Asks vs Bids. Mid-Price: 0.34445, binance: XRP/USDT"
        },
        "xaxis": {
         "range": [
          0,
          10
         ]
        }
       }
      }
     },
     "metadata": {},
     "output_type": "display_data"
    }
   ],
   "source": [
    "vs.OBLvls_hist(params[0],params[1], params[2])"
   ]
  },
  {
   "cell_type": "markdown",
   "metadata": {},
   "source": [
    "We could retrieve criptocurrencies with any of the 3 exchanges declared in our list *exchanges* but to avoid being repetitive we will make one more random example and we will conclude with a dataframe. For section section **2.** *Microstructure Visualization* a dataframe with different cols and plots that allow us to compare differences between exchanges will be created."
   ]
  },
  {
   "cell_type": "code",
   "execution_count": 23,
   "metadata": {},
   "outputs": [
    {
     "data": {
      "text/plain": [
       "(25, 'BTC/USDT', 'bytetrade')"
      ]
     },
     "execution_count": 23,
     "metadata": {},
     "output_type": "execute_result"
    }
   ],
   "source": [
    "params= 25, criptos[rand.randint(0,2)], exchanges[rand.randint(0,2)]\n",
    "params"
   ]
  },
  {
   "cell_type": "code",
   "execution_count": 24,
   "metadata": {},
   "outputs": [],
   "source": [
    "ob_lvls=vs.cctx_download(params[0],params[1], params[2])"
   ]
  },
  {
   "cell_type": "code",
   "execution_count": 25,
   "metadata": {},
   "outputs": [
    {
     "data": {
      "application/vnd.plotly.v1+json": {
       "config": {
        "plotlyServerURL": "https://plot.ly"
       },
       "data": [
        {
         "orientation": "h",
         "type": "bar",
         "x": [
          0.02316,
          0.02627,
          0.2083,
          0.40923,
          0.107,
          0.06392,
          0.26571,
          0.09653,
          0.3332,
          0.11105,
          0.14661,
          0.17434,
          0.13932,
          0.15648,
          0.00029,
          0.12205,
          0.28119,
          0.00085,
          0.40028,
          0.00101,
          0.0846,
          0.0016,
          0.21841,
          0.20565,
          0.06323
         ],
         "y": [
          "16253.2",
          "16369.7",
          "16406.9",
          "16415.5",
          "16601.3",
          "16663.0",
          "16733.7",
          "16902.2",
          "17193.8",
          "17210.4",
          "17781.0",
          "18052.6",
          "18202.6",
          "18508.5",
          "19150.0",
          "20820.0",
          "21630.8",
          "22751.8",
          "22791.6",
          "24000.0",
          "28346.0",
          "32055.7",
          "34993.3",
          "35740.3",
          "47965.0"
         ]
        },
        {
         "orientation": "h",
         "type": "bar",
         "x": [
          0.00052,
          0.00039,
          0.01807,
          0.00789,
          0.01515,
          0.03241,
          0.01398,
          0.09177,
          0.13242,
          0.06448,
          0.06899,
          0.05213,
          0.0223,
          0.04005,
          0.04595,
          0.02322,
          0.02031,
          0.06335,
          0.04395,
          0.01154,
          0.16955,
          0.01358,
          0.000493,
          0.01,
          2
         ],
         "y": [
          "15983.6",
          "15981.2",
          "15867.7",
          "15836.2",
          "15791.5",
          "15734.5",
          "15597.6",
          "15477.9",
          "15370.0",
          "15314.3",
          "15270.3",
          "15104.2",
          "14638.7",
          "14354.7",
          "13844.2",
          "13707.6",
          "12183.0",
          "11017.1",
          "9825.9",
          "7656.2",
          "7647.6",
          "7011.0",
          "4300.0",
          "1.2",
          "1.0"
         ]
        }
       ],
       "layout": {
        "template": {
         "data": {
          "bar": [
           {
            "error_x": {
             "color": "#2a3f5f"
            },
            "error_y": {
             "color": "#2a3f5f"
            },
            "marker": {
             "line": {
              "color": "#E5ECF6",
              "width": 0.5
             },
             "pattern": {
              "fillmode": "overlay",
              "size": 10,
              "solidity": 0.2
             }
            },
            "type": "bar"
           }
          ],
          "barpolar": [
           {
            "marker": {
             "line": {
              "color": "#E5ECF6",
              "width": 0.5
             },
             "pattern": {
              "fillmode": "overlay",
              "size": 10,
              "solidity": 0.2
             }
            },
            "type": "barpolar"
           }
          ],
          "carpet": [
           {
            "aaxis": {
             "endlinecolor": "#2a3f5f",
             "gridcolor": "white",
             "linecolor": "white",
             "minorgridcolor": "white",
             "startlinecolor": "#2a3f5f"
            },
            "baxis": {
             "endlinecolor": "#2a3f5f",
             "gridcolor": "white",
             "linecolor": "white",
             "minorgridcolor": "white",
             "startlinecolor": "#2a3f5f"
            },
            "type": "carpet"
           }
          ],
          "choropleth": [
           {
            "colorbar": {
             "outlinewidth": 0,
             "ticks": ""
            },
            "type": "choropleth"
           }
          ],
          "contour": [
           {
            "colorbar": {
             "outlinewidth": 0,
             "ticks": ""
            },
            "colorscale": [
             [
              0,
              "#0d0887"
             ],
             [
              0.1111111111111111,
              "#46039f"
             ],
             [
              0.2222222222222222,
              "#7201a8"
             ],
             [
              0.3333333333333333,
              "#9c179e"
             ],
             [
              0.4444444444444444,
              "#bd3786"
             ],
             [
              0.5555555555555556,
              "#d8576b"
             ],
             [
              0.6666666666666666,
              "#ed7953"
             ],
             [
              0.7777777777777778,
              "#fb9f3a"
             ],
             [
              0.8888888888888888,
              "#fdca26"
             ],
             [
              1,
              "#f0f921"
             ]
            ],
            "type": "contour"
           }
          ],
          "contourcarpet": [
           {
            "colorbar": {
             "outlinewidth": 0,
             "ticks": ""
            },
            "type": "contourcarpet"
           }
          ],
          "heatmap": [
           {
            "colorbar": {
             "outlinewidth": 0,
             "ticks": ""
            },
            "colorscale": [
             [
              0,
              "#0d0887"
             ],
             [
              0.1111111111111111,
              "#46039f"
             ],
             [
              0.2222222222222222,
              "#7201a8"
             ],
             [
              0.3333333333333333,
              "#9c179e"
             ],
             [
              0.4444444444444444,
              "#bd3786"
             ],
             [
              0.5555555555555556,
              "#d8576b"
             ],
             [
              0.6666666666666666,
              "#ed7953"
             ],
             [
              0.7777777777777778,
              "#fb9f3a"
             ],
             [
              0.8888888888888888,
              "#fdca26"
             ],
             [
              1,
              "#f0f921"
             ]
            ],
            "type": "heatmap"
           }
          ],
          "heatmapgl": [
           {
            "colorbar": {
             "outlinewidth": 0,
             "ticks": ""
            },
            "colorscale": [
             [
              0,
              "#0d0887"
             ],
             [
              0.1111111111111111,
              "#46039f"
             ],
             [
              0.2222222222222222,
              "#7201a8"
             ],
             [
              0.3333333333333333,
              "#9c179e"
             ],
             [
              0.4444444444444444,
              "#bd3786"
             ],
             [
              0.5555555555555556,
              "#d8576b"
             ],
             [
              0.6666666666666666,
              "#ed7953"
             ],
             [
              0.7777777777777778,
              "#fb9f3a"
             ],
             [
              0.8888888888888888,
              "#fdca26"
             ],
             [
              1,
              "#f0f921"
             ]
            ],
            "type": "heatmapgl"
           }
          ],
          "histogram": [
           {
            "marker": {
             "pattern": {
              "fillmode": "overlay",
              "size": 10,
              "solidity": 0.2
             }
            },
            "type": "histogram"
           }
          ],
          "histogram2d": [
           {
            "colorbar": {
             "outlinewidth": 0,
             "ticks": ""
            },
            "colorscale": [
             [
              0,
              "#0d0887"
             ],
             [
              0.1111111111111111,
              "#46039f"
             ],
             [
              0.2222222222222222,
              "#7201a8"
             ],
             [
              0.3333333333333333,
              "#9c179e"
             ],
             [
              0.4444444444444444,
              "#bd3786"
             ],
             [
              0.5555555555555556,
              "#d8576b"
             ],
             [
              0.6666666666666666,
              "#ed7953"
             ],
             [
              0.7777777777777778,
              "#fb9f3a"
             ],
             [
              0.8888888888888888,
              "#fdca26"
             ],
             [
              1,
              "#f0f921"
             ]
            ],
            "type": "histogram2d"
           }
          ],
          "histogram2dcontour": [
           {
            "colorbar": {
             "outlinewidth": 0,
             "ticks": ""
            },
            "colorscale": [
             [
              0,
              "#0d0887"
             ],
             [
              0.1111111111111111,
              "#46039f"
             ],
             [
              0.2222222222222222,
              "#7201a8"
             ],
             [
              0.3333333333333333,
              "#9c179e"
             ],
             [
              0.4444444444444444,
              "#bd3786"
             ],
             [
              0.5555555555555556,
              "#d8576b"
             ],
             [
              0.6666666666666666,
              "#ed7953"
             ],
             [
              0.7777777777777778,
              "#fb9f3a"
             ],
             [
              0.8888888888888888,
              "#fdca26"
             ],
             [
              1,
              "#f0f921"
             ]
            ],
            "type": "histogram2dcontour"
           }
          ],
          "mesh3d": [
           {
            "colorbar": {
             "outlinewidth": 0,
             "ticks": ""
            },
            "type": "mesh3d"
           }
          ],
          "parcoords": [
           {
            "line": {
             "colorbar": {
              "outlinewidth": 0,
              "ticks": ""
             }
            },
            "type": "parcoords"
           }
          ],
          "pie": [
           {
            "automargin": true,
            "type": "pie"
           }
          ],
          "scatter": [
           {
            "marker": {
             "colorbar": {
              "outlinewidth": 0,
              "ticks": ""
             }
            },
            "type": "scatter"
           }
          ],
          "scatter3d": [
           {
            "line": {
             "colorbar": {
              "outlinewidth": 0,
              "ticks": ""
             }
            },
            "marker": {
             "colorbar": {
              "outlinewidth": 0,
              "ticks": ""
             }
            },
            "type": "scatter3d"
           }
          ],
          "scattercarpet": [
           {
            "marker": {
             "colorbar": {
              "outlinewidth": 0,
              "ticks": ""
             }
            },
            "type": "scattercarpet"
           }
          ],
          "scattergeo": [
           {
            "marker": {
             "colorbar": {
              "outlinewidth": 0,
              "ticks": ""
             }
            },
            "type": "scattergeo"
           }
          ],
          "scattergl": [
           {
            "marker": {
             "colorbar": {
              "outlinewidth": 0,
              "ticks": ""
             }
            },
            "type": "scattergl"
           }
          ],
          "scattermapbox": [
           {
            "marker": {
             "colorbar": {
              "outlinewidth": 0,
              "ticks": ""
             }
            },
            "type": "scattermapbox"
           }
          ],
          "scatterpolar": [
           {
            "marker": {
             "colorbar": {
              "outlinewidth": 0,
              "ticks": ""
             }
            },
            "type": "scatterpolar"
           }
          ],
          "scatterpolargl": [
           {
            "marker": {
             "colorbar": {
              "outlinewidth": 0,
              "ticks": ""
             }
            },
            "type": "scatterpolargl"
           }
          ],
          "scatterternary": [
           {
            "marker": {
             "colorbar": {
              "outlinewidth": 0,
              "ticks": ""
             }
            },
            "type": "scatterternary"
           }
          ],
          "surface": [
           {
            "colorbar": {
             "outlinewidth": 0,
             "ticks": ""
            },
            "colorscale": [
             [
              0,
              "#0d0887"
             ],
             [
              0.1111111111111111,
              "#46039f"
             ],
             [
              0.2222222222222222,
              "#7201a8"
             ],
             [
              0.3333333333333333,
              "#9c179e"
             ],
             [
              0.4444444444444444,
              "#bd3786"
             ],
             [
              0.5555555555555556,
              "#d8576b"
             ],
             [
              0.6666666666666666,
              "#ed7953"
             ],
             [
              0.7777777777777778,
              "#fb9f3a"
             ],
             [
              0.8888888888888888,
              "#fdca26"
             ],
             [
              1,
              "#f0f921"
             ]
            ],
            "type": "surface"
           }
          ],
          "table": [
           {
            "cells": {
             "fill": {
              "color": "#EBF0F8"
             },
             "line": {
              "color": "white"
             }
            },
            "header": {
             "fill": {
              "color": "#C8D4E3"
             },
             "line": {
              "color": "white"
             }
            },
            "type": "table"
           }
          ]
         },
         "layout": {
          "annotationdefaults": {
           "arrowcolor": "#2a3f5f",
           "arrowhead": 0,
           "arrowwidth": 1
          },
          "autotypenumbers": "strict",
          "coloraxis": {
           "colorbar": {
            "outlinewidth": 0,
            "ticks": ""
           }
          },
          "colorscale": {
           "diverging": [
            [
             0,
             "#8e0152"
            ],
            [
             0.1,
             "#c51b7d"
            ],
            [
             0.2,
             "#de77ae"
            ],
            [
             0.3,
             "#f1b6da"
            ],
            [
             0.4,
             "#fde0ef"
            ],
            [
             0.5,
             "#f7f7f7"
            ],
            [
             0.6,
             "#e6f5d0"
            ],
            [
             0.7,
             "#b8e186"
            ],
            [
             0.8,
             "#7fbc41"
            ],
            [
             0.9,
             "#4d9221"
            ],
            [
             1,
             "#276419"
            ]
           ],
           "sequential": [
            [
             0,
             "#0d0887"
            ],
            [
             0.1111111111111111,
             "#46039f"
            ],
            [
             0.2222222222222222,
             "#7201a8"
            ],
            [
             0.3333333333333333,
             "#9c179e"
            ],
            [
             0.4444444444444444,
             "#bd3786"
            ],
            [
             0.5555555555555556,
             "#d8576b"
            ],
            [
             0.6666666666666666,
             "#ed7953"
            ],
            [
             0.7777777777777778,
             "#fb9f3a"
            ],
            [
             0.8888888888888888,
             "#fdca26"
            ],
            [
             1,
             "#f0f921"
            ]
           ],
           "sequentialminus": [
            [
             0,
             "#0d0887"
            ],
            [
             0.1111111111111111,
             "#46039f"
            ],
            [
             0.2222222222222222,
             "#7201a8"
            ],
            [
             0.3333333333333333,
             "#9c179e"
            ],
            [
             0.4444444444444444,
             "#bd3786"
            ],
            [
             0.5555555555555556,
             "#d8576b"
            ],
            [
             0.6666666666666666,
             "#ed7953"
            ],
            [
             0.7777777777777778,
             "#fb9f3a"
            ],
            [
             0.8888888888888888,
             "#fdca26"
            ],
            [
             1,
             "#f0f921"
            ]
           ]
          },
          "colorway": [
           "#636efa",
           "#EF553B",
           "#00cc96",
           "#ab63fa",
           "#FFA15A",
           "#19d3f3",
           "#FF6692",
           "#B6E880",
           "#FF97FF",
           "#FECB52"
          ],
          "font": {
           "color": "#2a3f5f"
          },
          "geo": {
           "bgcolor": "white",
           "lakecolor": "white",
           "landcolor": "#E5ECF6",
           "showlakes": true,
           "showland": true,
           "subunitcolor": "white"
          },
          "hoverlabel": {
           "align": "left"
          },
          "hovermode": "closest",
          "mapbox": {
           "style": "light"
          },
          "paper_bgcolor": "white",
          "plot_bgcolor": "#E5ECF6",
          "polar": {
           "angularaxis": {
            "gridcolor": "white",
            "linecolor": "white",
            "ticks": ""
           },
           "bgcolor": "#E5ECF6",
           "radialaxis": {
            "gridcolor": "white",
            "linecolor": "white",
            "ticks": ""
           }
          },
          "scene": {
           "xaxis": {
            "backgroundcolor": "#E5ECF6",
            "gridcolor": "white",
            "gridwidth": 2,
            "linecolor": "white",
            "showbackground": true,
            "ticks": "",
            "zerolinecolor": "white"
           },
           "yaxis": {
            "backgroundcolor": "#E5ECF6",
            "gridcolor": "white",
            "gridwidth": 2,
            "linecolor": "white",
            "showbackground": true,
            "ticks": "",
            "zerolinecolor": "white"
           },
           "zaxis": {
            "backgroundcolor": "#E5ECF6",
            "gridcolor": "white",
            "gridwidth": 2,
            "linecolor": "white",
            "showbackground": true,
            "ticks": "",
            "zerolinecolor": "white"
           }
          },
          "shapedefaults": {
           "line": {
            "color": "#2a3f5f"
           }
          },
          "ternary": {
           "aaxis": {
            "gridcolor": "white",
            "linecolor": "white",
            "ticks": ""
           },
           "baxis": {
            "gridcolor": "white",
            "linecolor": "white",
            "ticks": ""
           },
           "bgcolor": "#E5ECF6",
           "caxis": {
            "gridcolor": "white",
            "linecolor": "white",
            "ticks": ""
           }
          },
          "title": {
           "x": 0.05
          },
          "xaxis": {
           "automargin": true,
           "gridcolor": "white",
           "linecolor": "white",
           "ticks": "",
           "title": {
            "standoff": 15
           },
           "zerolinecolor": "white",
           "zerolinewidth": 2
          },
          "yaxis": {
           "automargin": true,
           "gridcolor": "white",
           "linecolor": "white",
           "ticks": "",
           "title": {
            "standoff": 15
           },
           "zerolinecolor": "white",
           "zerolinewidth": 2
          }
         }
        },
        "title": {
         "font": {
          "size": 15
         },
         "text": "OB Asks vs Bids. Mid-Price: 16118.4, bytetrade: BTC/USDT"
        },
        "xaxis": {
         "range": [
          0,
          10
         ]
        }
       }
      }
     },
     "metadata": {},
     "output_type": "display_data"
    }
   ],
   "source": [
    "vs.OBLvls_hist(params[0],params[1], params[2])"
   ]
  },
  {
   "cell_type": "code",
   "execution_count": 26,
   "metadata": {},
   "outputs": [
    {
     "data": {
      "text/plain": [
       "((25, 'BTC/USDT', 'binance'),\n",
       " (25, 'BTC/USDT', 'ftx'),\n",
       " (25, 'BTC/USDT', 'bytetrade'))"
      ]
     },
     "execution_count": 26,
     "metadata": {},
     "output_type": "execute_result"
    }
   ],
   "source": [
    "v_params0= 25, criptos[0], exchanges[0]\n",
    "v_params1= 25, criptos[0], exchanges[1]\n",
    "v_params2= 25, criptos[0], exchanges[2]\n",
    "v_params0, v_params1, v_params2"
   ]
  },
  {
   "cell_type": "markdown",
   "metadata": {},
   "source": [
    "<strong> \n",
    "<font color= lightgreen> <font size = 3> Progress check </font>"
   ]
  },
  {
   "cell_type": "code",
   "execution_count": 28,
   "metadata": {},
   "outputs": [
    {
     "name": "stdout",
     "output_type": "stream",
     "text": [
      "Help on function verif_ex1 in module visualizations:\n",
      "\n",
      "verif_ex1(lvls, cripto, exchange, n)\n",
      "    Function that returns Verif 1 for i levels (as integer) n times \n",
      "    from specified criptocurrency ('BTC/USDT','ETH/USDT','XRP/USDT', or others) and the \n",
      "    following exchanges: binance, ftx or bytetrade (as string).\n",
      "    \n",
      "    Parameters:\n",
      "    ----------\n",
      "    lvls: Levels of bids/asks in the Order Book (int).\n",
      "    cripto: Criptocurrency downloadable ticker (str).\n",
      "    exchanges: Criptocurrency downloadable Exchange (str).\n",
      "    n: Data retrieval per exchange (int).\n",
      "    \n",
      "    Returns:\n",
      "    -------\n",
      "    df1 = Section 1 Verification.\n",
      "    df2 = OHLCV.\n",
      "\n"
     ]
    }
   ],
   "source": [
    "help(vs.verif_ex1)"
   ]
  },
  {
   "cell_type": "code",
   "execution_count": 29,
   "metadata": {},
   "outputs": [],
   "source": [
    "n=20\n",
    "verif_0_B = vs.verif_ex1(v_params0[0],v_params0[1], v_params0[2], n)\n",
    "verif_1_B = vs.verif_ex1(v_params1[0],v_params1[1], v_params1[2], n)\n",
    "verif_2_B = vs.verif_ex1(v_params2[0],v_params2[1], v_params2[2], n)"
   ]
  },
  {
   "cell_type": "markdown",
   "metadata": {},
   "source": [
    "Some differences between criptocurrencies within exchanges can be appreciated. Now we can realize which exchange from the sample can provide us with the lowest spread and best liquidity which is binance in this case. \n",
    "\n",
    "Clearly, prices are the most important factor for investments and that's why Mid-Price is going to be analyzed in the plots of section *2° (Microstructure Visualization)*. "
   ]
  },
  {
   "cell_type": "markdown",
   "metadata": {},
   "source": [
    "<font color= lightblue> <font size = 2> Verification BTC </font>"
   ]
  },
  {
   "cell_type": "code",
   "execution_count": 30,
   "metadata": {},
   "outputs": [
    {
     "data": {
      "text/html": [
       "<div>\n",
       "<style scoped>\n",
       "    .dataframe tbody tr th:only-of-type {\n",
       "        vertical-align: middle;\n",
       "    }\n",
       "\n",
       "    .dataframe tbody tr th {\n",
       "        vertical-align: top;\n",
       "    }\n",
       "\n",
       "    .dataframe thead th {\n",
       "        text-align: right;\n",
       "    }\n",
       "</style>\n",
       "<table border=\"1\" class=\"dataframe\">\n",
       "  <thead>\n",
       "    <tr style=\"text-align: right;\">\n",
       "      <th></th>\n",
       "      <th>exchange</th>\n",
       "      <th>timestamp</th>\n",
       "      <th>ask</th>\n",
       "      <th>bid</th>\n",
       "      <th>ask_volume</th>\n",
       "      <th>bid_volume</th>\n",
       "      <th>spread</th>\n",
       "      <th>close_price</th>\n",
       "    </tr>\n",
       "  </thead>\n",
       "  <tbody>\n",
       "    <tr>\n",
       "      <th>0</th>\n",
       "      <td>binance</td>\n",
       "      <td>2022-11-09T21:08:28.778</td>\n",
       "      <td>16103.93</td>\n",
       "      <td>16101.24</td>\n",
       "      <td>3.52827</td>\n",
       "      <td>2.806260</td>\n",
       "      <td>2.69</td>\n",
       "      <td>16102.43</td>\n",
       "    </tr>\n",
       "    <tr>\n",
       "      <th>1</th>\n",
       "      <td>binance</td>\n",
       "      <td>2022-11-09T21:08:31.328</td>\n",
       "      <td>16108.42</td>\n",
       "      <td>16104.63</td>\n",
       "      <td>1.35223</td>\n",
       "      <td>2.621970</td>\n",
       "      <td>3.79</td>\n",
       "      <td>16104.40</td>\n",
       "    </tr>\n",
       "    <tr>\n",
       "      <th>2</th>\n",
       "      <td>binance</td>\n",
       "      <td>2022-11-09T21:08:33.862</td>\n",
       "      <td>16097.19</td>\n",
       "      <td>16094.05</td>\n",
       "      <td>3.00281</td>\n",
       "      <td>1.776850</td>\n",
       "      <td>3.14</td>\n",
       "      <td>16094.18</td>\n",
       "    </tr>\n",
       "    <tr>\n",
       "      <th>3</th>\n",
       "      <td>binance</td>\n",
       "      <td>2022-11-09T21:08:36.546</td>\n",
       "      <td>16091.50</td>\n",
       "      <td>16086.99</td>\n",
       "      <td>2.18451</td>\n",
       "      <td>1.328340</td>\n",
       "      <td>4.51</td>\n",
       "      <td>16086.97</td>\n",
       "    </tr>\n",
       "    <tr>\n",
       "      <th>4</th>\n",
       "      <td>binance</td>\n",
       "      <td>2022-11-09T21:08:39.638</td>\n",
       "      <td>16073.72</td>\n",
       "      <td>16070.57</td>\n",
       "      <td>2.42195</td>\n",
       "      <td>4.752510</td>\n",
       "      <td>3.15</td>\n",
       "      <td>16073.97</td>\n",
       "    </tr>\n",
       "    <tr>\n",
       "      <th>5</th>\n",
       "      <td>binance</td>\n",
       "      <td>2022-11-09T21:08:42.777</td>\n",
       "      <td>16092.75</td>\n",
       "      <td>16089.71</td>\n",
       "      <td>2.06922</td>\n",
       "      <td>4.319100</td>\n",
       "      <td>3.04</td>\n",
       "      <td>16086.04</td>\n",
       "    </tr>\n",
       "    <tr>\n",
       "      <th>6</th>\n",
       "      <td>binance</td>\n",
       "      <td>2022-11-09T21:08:45.301</td>\n",
       "      <td>16101.29</td>\n",
       "      <td>16098.92</td>\n",
       "      <td>2.93113</td>\n",
       "      <td>1.810290</td>\n",
       "      <td>2.37</td>\n",
       "      <td>16100.33</td>\n",
       "    </tr>\n",
       "    <tr>\n",
       "      <th>7</th>\n",
       "      <td>binance</td>\n",
       "      <td>2022-11-09T21:08:47.937</td>\n",
       "      <td>16090.43</td>\n",
       "      <td>16088.77</td>\n",
       "      <td>3.76930</td>\n",
       "      <td>4.553870</td>\n",
       "      <td>1.66</td>\n",
       "      <td>16091.13</td>\n",
       "    </tr>\n",
       "    <tr>\n",
       "      <th>8</th>\n",
       "      <td>binance</td>\n",
       "      <td>2022-11-09T21:08:51.211</td>\n",
       "      <td>16096.38</td>\n",
       "      <td>16093.85</td>\n",
       "      <td>1.27687</td>\n",
       "      <td>4.310430</td>\n",
       "      <td>2.53</td>\n",
       "      <td>16092.15</td>\n",
       "    </tr>\n",
       "    <tr>\n",
       "      <th>9</th>\n",
       "      <td>binance</td>\n",
       "      <td>2022-11-09T21:08:53.802</td>\n",
       "      <td>16105.84</td>\n",
       "      <td>16103.03</td>\n",
       "      <td>3.49916</td>\n",
       "      <td>2.949850</td>\n",
       "      <td>2.81</td>\n",
       "      <td>16102.97</td>\n",
       "    </tr>\n",
       "    <tr>\n",
       "      <th>10</th>\n",
       "      <td>binance</td>\n",
       "      <td>2022-11-09T21:08:56.357</td>\n",
       "      <td>16089.83</td>\n",
       "      <td>16087.81</td>\n",
       "      <td>4.21067</td>\n",
       "      <td>1.070000</td>\n",
       "      <td>2.02</td>\n",
       "      <td>16094.94</td>\n",
       "    </tr>\n",
       "    <tr>\n",
       "      <th>11</th>\n",
       "      <td>binance</td>\n",
       "      <td>2022-11-09T21:08:59.255</td>\n",
       "      <td>16109.70</td>\n",
       "      <td>16107.05</td>\n",
       "      <td>1.94694</td>\n",
       "      <td>2.384110</td>\n",
       "      <td>2.65</td>\n",
       "      <td>16108.43</td>\n",
       "    </tr>\n",
       "    <tr>\n",
       "      <th>12</th>\n",
       "      <td>binance</td>\n",
       "      <td>2022-11-09T21:09:02.277</td>\n",
       "      <td>16111.16</td>\n",
       "      <td>16107.59</td>\n",
       "      <td>3.23440</td>\n",
       "      <td>2.268770</td>\n",
       "      <td>3.57</td>\n",
       "      <td>16109.98</td>\n",
       "    </tr>\n",
       "    <tr>\n",
       "      <th>13</th>\n",
       "      <td>binance</td>\n",
       "      <td>2022-11-09T21:09:05.095</td>\n",
       "      <td>16124.98</td>\n",
       "      <td>16123.56</td>\n",
       "      <td>1.09878</td>\n",
       "      <td>2.727700</td>\n",
       "      <td>1.42</td>\n",
       "      <td>16122.43</td>\n",
       "    </tr>\n",
       "    <tr>\n",
       "      <th>14</th>\n",
       "      <td>binance</td>\n",
       "      <td>2022-11-09T21:09:07.855</td>\n",
       "      <td>16129.04</td>\n",
       "      <td>16127.31</td>\n",
       "      <td>2.20695</td>\n",
       "      <td>2.037300</td>\n",
       "      <td>1.73</td>\n",
       "      <td>16129.39</td>\n",
       "    </tr>\n",
       "    <tr>\n",
       "      <th>15</th>\n",
       "      <td>binance</td>\n",
       "      <td>2022-11-09T21:09:10.479</td>\n",
       "      <td>16138.35</td>\n",
       "      <td>16136.61</td>\n",
       "      <td>3.03240</td>\n",
       "      <td>1.889720</td>\n",
       "      <td>1.74</td>\n",
       "      <td>16136.61</td>\n",
       "    </tr>\n",
       "    <tr>\n",
       "      <th>16</th>\n",
       "      <td>binance</td>\n",
       "      <td>2022-11-09T21:09:12.960</td>\n",
       "      <td>16145.37</td>\n",
       "      <td>16142.44</td>\n",
       "      <td>5.32228</td>\n",
       "      <td>1.751600</td>\n",
       "      <td>2.93</td>\n",
       "      <td>16145.00</td>\n",
       "    </tr>\n",
       "    <tr>\n",
       "      <th>17</th>\n",
       "      <td>binance</td>\n",
       "      <td>2022-11-09T21:09:15.417</td>\n",
       "      <td>16147.33</td>\n",
       "      <td>16144.58</td>\n",
       "      <td>4.33423</td>\n",
       "      <td>2.966380</td>\n",
       "      <td>2.75</td>\n",
       "      <td>16147.32</td>\n",
       "    </tr>\n",
       "    <tr>\n",
       "      <th>18</th>\n",
       "      <td>binance</td>\n",
       "      <td>2022-11-09T21:09:17.940</td>\n",
       "      <td>16150.22</td>\n",
       "      <td>16147.00</td>\n",
       "      <td>7.57717</td>\n",
       "      <td>2.436870</td>\n",
       "      <td>3.22</td>\n",
       "      <td>16143.62</td>\n",
       "    </tr>\n",
       "    <tr>\n",
       "      <th>19</th>\n",
       "      <td>binance</td>\n",
       "      <td>2022-11-09T21:09:20.441</td>\n",
       "      <td>16138.96</td>\n",
       "      <td>16138.63</td>\n",
       "      <td>3.05510</td>\n",
       "      <td>1.064530</td>\n",
       "      <td>0.33</td>\n",
       "      <td>16136.51</td>\n",
       "    </tr>\n",
       "    <tr>\n",
       "      <th>20</th>\n",
       "      <td>ftx</td>\n",
       "      <td>2022-11-09T21:09:24.228</td>\n",
       "      <td>16037.00</td>\n",
       "      <td>15991.00</td>\n",
       "      <td>0.51040</td>\n",
       "      <td>7.141300</td>\n",
       "      <td>46.00</td>\n",
       "      <td>16002.00</td>\n",
       "    </tr>\n",
       "    <tr>\n",
       "      <th>21</th>\n",
       "      <td>ftx</td>\n",
       "      <td>2022-11-09T21:09:27.119</td>\n",
       "      <td>16018.00</td>\n",
       "      <td>15998.00</td>\n",
       "      <td>0.33400</td>\n",
       "      <td>15.178600</td>\n",
       "      <td>20.00</td>\n",
       "      <td>16018.00</td>\n",
       "    </tr>\n",
       "    <tr>\n",
       "      <th>22</th>\n",
       "      <td>ftx</td>\n",
       "      <td>2022-11-09T21:09:30.184</td>\n",
       "      <td>16032.00</td>\n",
       "      <td>15994.00</td>\n",
       "      <td>0.45660</td>\n",
       "      <td>14.153600</td>\n",
       "      <td>38.00</td>\n",
       "      <td>16016.00</td>\n",
       "    </tr>\n",
       "    <tr>\n",
       "      <th>23</th>\n",
       "      <td>ftx</td>\n",
       "      <td>2022-11-09T21:09:32.888</td>\n",
       "      <td>16023.00</td>\n",
       "      <td>16004.00</td>\n",
       "      <td>0.75010</td>\n",
       "      <td>16.756400</td>\n",
       "      <td>19.00</td>\n",
       "      <td>16023.00</td>\n",
       "    </tr>\n",
       "    <tr>\n",
       "      <th>24</th>\n",
       "      <td>ftx</td>\n",
       "      <td>2022-11-09T21:09:35.348</td>\n",
       "      <td>16023.00</td>\n",
       "      <td>16010.00</td>\n",
       "      <td>0.33250</td>\n",
       "      <td>16.728000</td>\n",
       "      <td>13.00</td>\n",
       "      <td>16023.00</td>\n",
       "    </tr>\n",
       "    <tr>\n",
       "      <th>25</th>\n",
       "      <td>ftx</td>\n",
       "      <td>2022-11-09T21:09:38.159</td>\n",
       "      <td>16037.00</td>\n",
       "      <td>16006.00</td>\n",
       "      <td>0.46370</td>\n",
       "      <td>18.605200</td>\n",
       "      <td>31.00</td>\n",
       "      <td>16025.00</td>\n",
       "    </tr>\n",
       "    <tr>\n",
       "      <th>26</th>\n",
       "      <td>ftx</td>\n",
       "      <td>2022-11-09T21:09:42.504</td>\n",
       "      <td>16031.00</td>\n",
       "      <td>16014.00</td>\n",
       "      <td>0.61490</td>\n",
       "      <td>10.144400</td>\n",
       "      <td>17.00</td>\n",
       "      <td>16014.00</td>\n",
       "    </tr>\n",
       "    <tr>\n",
       "      <th>27</th>\n",
       "      <td>ftx</td>\n",
       "      <td>2022-11-09T21:09:45.802</td>\n",
       "      <td>16031.00</td>\n",
       "      <td>15995.00</td>\n",
       "      <td>0.68110</td>\n",
       "      <td>11.926400</td>\n",
       "      <td>36.00</td>\n",
       "      <td>16031.00</td>\n",
       "    </tr>\n",
       "    <tr>\n",
       "      <th>28</th>\n",
       "      <td>ftx</td>\n",
       "      <td>2022-11-09T21:09:48.739</td>\n",
       "      <td>16014.00</td>\n",
       "      <td>15995.00</td>\n",
       "      <td>0.84250</td>\n",
       "      <td>11.926400</td>\n",
       "      <td>19.00</td>\n",
       "      <td>16014.00</td>\n",
       "    </tr>\n",
       "    <tr>\n",
       "      <th>29</th>\n",
       "      <td>ftx</td>\n",
       "      <td>2022-11-09T21:09:51.619</td>\n",
       "      <td>16030.00</td>\n",
       "      <td>16012.00</td>\n",
       "      <td>0.35890</td>\n",
       "      <td>12.204100</td>\n",
       "      <td>18.00</td>\n",
       "      <td>16030.00</td>\n",
       "    </tr>\n",
       "    <tr>\n",
       "      <th>30</th>\n",
       "      <td>ftx</td>\n",
       "      <td>2022-11-09T21:09:54.315</td>\n",
       "      <td>16030.00</td>\n",
       "      <td>16012.00</td>\n",
       "      <td>0.38050</td>\n",
       "      <td>11.827200</td>\n",
       "      <td>18.00</td>\n",
       "      <td>16030.00</td>\n",
       "    </tr>\n",
       "    <tr>\n",
       "      <th>31</th>\n",
       "      <td>ftx</td>\n",
       "      <td>2022-11-09T21:09:57.170</td>\n",
       "      <td>16030.00</td>\n",
       "      <td>16022.00</td>\n",
       "      <td>0.45370</td>\n",
       "      <td>11.585300</td>\n",
       "      <td>8.00</td>\n",
       "      <td>16030.00</td>\n",
       "    </tr>\n",
       "    <tr>\n",
       "      <th>32</th>\n",
       "      <td>ftx</td>\n",
       "      <td>2022-11-09T21:09:59.794</td>\n",
       "      <td>16030.00</td>\n",
       "      <td>15999.00</td>\n",
       "      <td>0.26180</td>\n",
       "      <td>16.091100</td>\n",
       "      <td>31.00</td>\n",
       "      <td>16020.00</td>\n",
       "    </tr>\n",
       "    <tr>\n",
       "      <th>33</th>\n",
       "      <td>ftx</td>\n",
       "      <td>2022-11-09T21:10:03.315</td>\n",
       "      <td>16030.00</td>\n",
       "      <td>16006.00</td>\n",
       "      <td>0.60800</td>\n",
       "      <td>11.824700</td>\n",
       "      <td>24.00</td>\n",
       "      <td>16020.00</td>\n",
       "    </tr>\n",
       "    <tr>\n",
       "      <th>34</th>\n",
       "      <td>ftx</td>\n",
       "      <td>2022-11-09T21:10:06.855</td>\n",
       "      <td>16030.00</td>\n",
       "      <td>16012.00</td>\n",
       "      <td>0.60750</td>\n",
       "      <td>12.952000</td>\n",
       "      <td>18.00</td>\n",
       "      <td>16030.00</td>\n",
       "    </tr>\n",
       "    <tr>\n",
       "      <th>35</th>\n",
       "      <td>ftx</td>\n",
       "      <td>2022-11-09T21:10:10.040</td>\n",
       "      <td>16028.00</td>\n",
       "      <td>15994.00</td>\n",
       "      <td>0.91150</td>\n",
       "      <td>15.564100</td>\n",
       "      <td>34.00</td>\n",
       "      <td>15997.00</td>\n",
       "    </tr>\n",
       "    <tr>\n",
       "      <th>36</th>\n",
       "      <td>ftx</td>\n",
       "      <td>2022-11-09T21:10:13.140</td>\n",
       "      <td>16024.00</td>\n",
       "      <td>15999.00</td>\n",
       "      <td>1.24470</td>\n",
       "      <td>11.896900</td>\n",
       "      <td>25.00</td>\n",
       "      <td>15999.00</td>\n",
       "    </tr>\n",
       "    <tr>\n",
       "      <th>37</th>\n",
       "      <td>ftx</td>\n",
       "      <td>2022-11-09T21:10:16.811</td>\n",
       "      <td>16026.00</td>\n",
       "      <td>16005.00</td>\n",
       "      <td>0.46850</td>\n",
       "      <td>14.502900</td>\n",
       "      <td>21.00</td>\n",
       "      <td>16016.00</td>\n",
       "    </tr>\n",
       "    <tr>\n",
       "      <th>38</th>\n",
       "      <td>ftx</td>\n",
       "      <td>2022-11-09T21:10:20.555</td>\n",
       "      <td>16037.00</td>\n",
       "      <td>15998.00</td>\n",
       "      <td>0.78420</td>\n",
       "      <td>16.832400</td>\n",
       "      <td>39.00</td>\n",
       "      <td>16011.00</td>\n",
       "    </tr>\n",
       "    <tr>\n",
       "      <th>39</th>\n",
       "      <td>ftx</td>\n",
       "      <td>2022-11-09T21:10:23.977</td>\n",
       "      <td>16037.00</td>\n",
       "      <td>16020.00</td>\n",
       "      <td>0.31700</td>\n",
       "      <td>14.085000</td>\n",
       "      <td>17.00</td>\n",
       "      <td>16035.00</td>\n",
       "    </tr>\n",
       "    <tr>\n",
       "      <th>40</th>\n",
       "      <td>bytetrade</td>\n",
       "      <td>2022-11-09T21:10:27.223</td>\n",
       "      <td>16254.30</td>\n",
       "      <td>16036.00</td>\n",
       "      <td>3.58920</td>\n",
       "      <td>2.970173</td>\n",
       "      <td>218.30</td>\n",
       "      <td>16154.50</td>\n",
       "    </tr>\n",
       "    <tr>\n",
       "      <th>41</th>\n",
       "      <td>bytetrade</td>\n",
       "      <td>2022-11-09T21:10:30.220</td>\n",
       "      <td>16254.30</td>\n",
       "      <td>16036.00</td>\n",
       "      <td>3.58920</td>\n",
       "      <td>2.970173</td>\n",
       "      <td>218.30</td>\n",
       "      <td>16156.20</td>\n",
       "    </tr>\n",
       "    <tr>\n",
       "      <th>42</th>\n",
       "      <td>bytetrade</td>\n",
       "      <td>2022-11-09T21:10:33.983</td>\n",
       "      <td>16282.30</td>\n",
       "      <td>16083.10</td>\n",
       "      <td>3.59444</td>\n",
       "      <td>0.967653</td>\n",
       "      <td>199.20</td>\n",
       "      <td>16144.10</td>\n",
       "    </tr>\n",
       "    <tr>\n",
       "      <th>43</th>\n",
       "      <td>bytetrade</td>\n",
       "      <td>2022-11-09T21:10:37.520</td>\n",
       "      <td>16282.30</td>\n",
       "      <td>16083.10</td>\n",
       "      <td>3.59444</td>\n",
       "      <td>0.967653</td>\n",
       "      <td>199.20</td>\n",
       "      <td>16174.50</td>\n",
       "    </tr>\n",
       "    <tr>\n",
       "      <th>44</th>\n",
       "      <td>bytetrade</td>\n",
       "      <td>2022-11-09T21:10:40.235</td>\n",
       "      <td>16252.20</td>\n",
       "      <td>16036.00</td>\n",
       "      <td>3.58162</td>\n",
       "      <td>2.960193</td>\n",
       "      <td>216.20</td>\n",
       "      <td>16151.20</td>\n",
       "    </tr>\n",
       "    <tr>\n",
       "      <th>45</th>\n",
       "      <td>bytetrade</td>\n",
       "      <td>2022-11-09T21:10:42.877</td>\n",
       "      <td>16252.20</td>\n",
       "      <td>16036.00</td>\n",
       "      <td>3.58162</td>\n",
       "      <td>2.960193</td>\n",
       "      <td>216.20</td>\n",
       "      <td>16136.80</td>\n",
       "    </tr>\n",
       "    <tr>\n",
       "      <th>46</th>\n",
       "      <td>bytetrade</td>\n",
       "      <td>2022-11-09T21:10:45.630</td>\n",
       "      <td>16258.50</td>\n",
       "      <td>16091.50</td>\n",
       "      <td>3.59053</td>\n",
       "      <td>2.960763</td>\n",
       "      <td>167.00</td>\n",
       "      <td>16196.90</td>\n",
       "    </tr>\n",
       "    <tr>\n",
       "      <th>47</th>\n",
       "      <td>bytetrade</td>\n",
       "      <td>2022-11-09T21:10:48.304</td>\n",
       "      <td>16258.50</td>\n",
       "      <td>16091.50</td>\n",
       "      <td>3.59053</td>\n",
       "      <td>2.960763</td>\n",
       "      <td>167.00</td>\n",
       "      <td>16196.90</td>\n",
       "    </tr>\n",
       "    <tr>\n",
       "      <th>48</th>\n",
       "      <td>bytetrade</td>\n",
       "      <td>2022-11-09T21:10:51.849</td>\n",
       "      <td>16287.70</td>\n",
       "      <td>16091.50</td>\n",
       "      <td>3.58822</td>\n",
       "      <td>2.960763</td>\n",
       "      <td>196.20</td>\n",
       "      <td>16174.00</td>\n",
       "    </tr>\n",
       "    <tr>\n",
       "      <th>49</th>\n",
       "      <td>bytetrade</td>\n",
       "      <td>2022-11-09T21:10:55.431</td>\n",
       "      <td>16287.70</td>\n",
       "      <td>16091.50</td>\n",
       "      <td>3.58822</td>\n",
       "      <td>2.960763</td>\n",
       "      <td>196.20</td>\n",
       "      <td>16192.10</td>\n",
       "    </tr>\n",
       "    <tr>\n",
       "      <th>50</th>\n",
       "      <td>bytetrade</td>\n",
       "      <td>2022-11-09T21:10:58.210</td>\n",
       "      <td>16287.70</td>\n",
       "      <td>16027.80</td>\n",
       "      <td>3.58822</td>\n",
       "      <td>2.961143</td>\n",
       "      <td>259.90</td>\n",
       "      <td>16192.10</td>\n",
       "    </tr>\n",
       "    <tr>\n",
       "      <th>51</th>\n",
       "      <td>bytetrade</td>\n",
       "      <td>2022-11-09T21:11:00.760</td>\n",
       "      <td>16287.70</td>\n",
       "      <td>16027.80</td>\n",
       "      <td>3.58822</td>\n",
       "      <td>2.961143</td>\n",
       "      <td>259.90</td>\n",
       "      <td>16192.10</td>\n",
       "    </tr>\n",
       "    <tr>\n",
       "      <th>52</th>\n",
       "      <td>bytetrade</td>\n",
       "      <td>2022-11-09T21:11:03.561</td>\n",
       "      <td>16250.40</td>\n",
       "      <td>16027.80</td>\n",
       "      <td>3.41113</td>\n",
       "      <td>2.961143</td>\n",
       "      <td>222.60</td>\n",
       "      <td>16152.30</td>\n",
       "    </tr>\n",
       "    <tr>\n",
       "      <th>53</th>\n",
       "      <td>bytetrade</td>\n",
       "      <td>2022-11-09T21:11:05.977</td>\n",
       "      <td>16250.40</td>\n",
       "      <td>16027.80</td>\n",
       "      <td>3.41113</td>\n",
       "      <td>2.961143</td>\n",
       "      <td>222.60</td>\n",
       "      <td>16159.20</td>\n",
       "    </tr>\n",
       "    <tr>\n",
       "      <th>54</th>\n",
       "      <td>bytetrade</td>\n",
       "      <td>2022-11-09T21:11:08.677</td>\n",
       "      <td>16250.40</td>\n",
       "      <td>16027.80</td>\n",
       "      <td>3.41113</td>\n",
       "      <td>2.961143</td>\n",
       "      <td>222.60</td>\n",
       "      <td>16142.00</td>\n",
       "    </tr>\n",
       "    <tr>\n",
       "      <th>55</th>\n",
       "      <td>bytetrade</td>\n",
       "      <td>2022-11-09T21:11:11.153</td>\n",
       "      <td>16250.40</td>\n",
       "      <td>16027.80</td>\n",
       "      <td>3.41113</td>\n",
       "      <td>2.961143</td>\n",
       "      <td>222.60</td>\n",
       "      <td>16128.80</td>\n",
       "    </tr>\n",
       "    <tr>\n",
       "      <th>56</th>\n",
       "      <td>bytetrade</td>\n",
       "      <td>2022-11-09T21:11:13.980</td>\n",
       "      <td>16250.40</td>\n",
       "      <td>16027.80</td>\n",
       "      <td>3.41113</td>\n",
       "      <td>2.961143</td>\n",
       "      <td>222.60</td>\n",
       "      <td>16153.50</td>\n",
       "    </tr>\n",
       "    <tr>\n",
       "      <th>57</th>\n",
       "      <td>bytetrade</td>\n",
       "      <td>2022-11-09T21:11:16.490</td>\n",
       "      <td>16250.40</td>\n",
       "      <td>16027.80</td>\n",
       "      <td>3.41113</td>\n",
       "      <td>2.961143</td>\n",
       "      <td>222.60</td>\n",
       "      <td>16133.30</td>\n",
       "    </tr>\n",
       "    <tr>\n",
       "      <th>58</th>\n",
       "      <td>bytetrade</td>\n",
       "      <td>2022-11-09T21:11:20.049</td>\n",
       "      <td>16250.40</td>\n",
       "      <td>16027.80</td>\n",
       "      <td>3.58889</td>\n",
       "      <td>2.961143</td>\n",
       "      <td>222.60</td>\n",
       "      <td>16149.00</td>\n",
       "    </tr>\n",
       "    <tr>\n",
       "      <th>59</th>\n",
       "      <td>bytetrade</td>\n",
       "      <td>2022-11-09T21:11:22.855</td>\n",
       "      <td>16250.40</td>\n",
       "      <td>16027.80</td>\n",
       "      <td>3.58889</td>\n",
       "      <td>2.961143</td>\n",
       "      <td>222.60</td>\n",
       "      <td>16134.50</td>\n",
       "    </tr>\n",
       "  </tbody>\n",
       "</table>\n",
       "</div>"
      ],
      "text/plain": [
       "     exchange                timestamp       ask       bid  ask_volume  \\\n",
       "0     binance  2022-11-09T21:08:28.778  16103.93  16101.24     3.52827   \n",
       "1     binance  2022-11-09T21:08:31.328  16108.42  16104.63     1.35223   \n",
       "2     binance  2022-11-09T21:08:33.862  16097.19  16094.05     3.00281   \n",
       "3     binance  2022-11-09T21:08:36.546  16091.50  16086.99     2.18451   \n",
       "4     binance  2022-11-09T21:08:39.638  16073.72  16070.57     2.42195   \n",
       "5     binance  2022-11-09T21:08:42.777  16092.75  16089.71     2.06922   \n",
       "6     binance  2022-11-09T21:08:45.301  16101.29  16098.92     2.93113   \n",
       "7     binance  2022-11-09T21:08:47.937  16090.43  16088.77     3.76930   \n",
       "8     binance  2022-11-09T21:08:51.211  16096.38  16093.85     1.27687   \n",
       "9     binance  2022-11-09T21:08:53.802  16105.84  16103.03     3.49916   \n",
       "10    binance  2022-11-09T21:08:56.357  16089.83  16087.81     4.21067   \n",
       "11    binance  2022-11-09T21:08:59.255  16109.70  16107.05     1.94694   \n",
       "12    binance  2022-11-09T21:09:02.277  16111.16  16107.59     3.23440   \n",
       "13    binance  2022-11-09T21:09:05.095  16124.98  16123.56     1.09878   \n",
       "14    binance  2022-11-09T21:09:07.855  16129.04  16127.31     2.20695   \n",
       "15    binance  2022-11-09T21:09:10.479  16138.35  16136.61     3.03240   \n",
       "16    binance  2022-11-09T21:09:12.960  16145.37  16142.44     5.32228   \n",
       "17    binance  2022-11-09T21:09:15.417  16147.33  16144.58     4.33423   \n",
       "18    binance  2022-11-09T21:09:17.940  16150.22  16147.00     7.57717   \n",
       "19    binance  2022-11-09T21:09:20.441  16138.96  16138.63     3.05510   \n",
       "20        ftx  2022-11-09T21:09:24.228  16037.00  15991.00     0.51040   \n",
       "21        ftx  2022-11-09T21:09:27.119  16018.00  15998.00     0.33400   \n",
       "22        ftx  2022-11-09T21:09:30.184  16032.00  15994.00     0.45660   \n",
       "23        ftx  2022-11-09T21:09:32.888  16023.00  16004.00     0.75010   \n",
       "24        ftx  2022-11-09T21:09:35.348  16023.00  16010.00     0.33250   \n",
       "25        ftx  2022-11-09T21:09:38.159  16037.00  16006.00     0.46370   \n",
       "26        ftx  2022-11-09T21:09:42.504  16031.00  16014.00     0.61490   \n",
       "27        ftx  2022-11-09T21:09:45.802  16031.00  15995.00     0.68110   \n",
       "28        ftx  2022-11-09T21:09:48.739  16014.00  15995.00     0.84250   \n",
       "29        ftx  2022-11-09T21:09:51.619  16030.00  16012.00     0.35890   \n",
       "30        ftx  2022-11-09T21:09:54.315  16030.00  16012.00     0.38050   \n",
       "31        ftx  2022-11-09T21:09:57.170  16030.00  16022.00     0.45370   \n",
       "32        ftx  2022-11-09T21:09:59.794  16030.00  15999.00     0.26180   \n",
       "33        ftx  2022-11-09T21:10:03.315  16030.00  16006.00     0.60800   \n",
       "34        ftx  2022-11-09T21:10:06.855  16030.00  16012.00     0.60750   \n",
       "35        ftx  2022-11-09T21:10:10.040  16028.00  15994.00     0.91150   \n",
       "36        ftx  2022-11-09T21:10:13.140  16024.00  15999.00     1.24470   \n",
       "37        ftx  2022-11-09T21:10:16.811  16026.00  16005.00     0.46850   \n",
       "38        ftx  2022-11-09T21:10:20.555  16037.00  15998.00     0.78420   \n",
       "39        ftx  2022-11-09T21:10:23.977  16037.00  16020.00     0.31700   \n",
       "40  bytetrade  2022-11-09T21:10:27.223  16254.30  16036.00     3.58920   \n",
       "41  bytetrade  2022-11-09T21:10:30.220  16254.30  16036.00     3.58920   \n",
       "42  bytetrade  2022-11-09T21:10:33.983  16282.30  16083.10     3.59444   \n",
       "43  bytetrade  2022-11-09T21:10:37.520  16282.30  16083.10     3.59444   \n",
       "44  bytetrade  2022-11-09T21:10:40.235  16252.20  16036.00     3.58162   \n",
       "45  bytetrade  2022-11-09T21:10:42.877  16252.20  16036.00     3.58162   \n",
       "46  bytetrade  2022-11-09T21:10:45.630  16258.50  16091.50     3.59053   \n",
       "47  bytetrade  2022-11-09T21:10:48.304  16258.50  16091.50     3.59053   \n",
       "48  bytetrade  2022-11-09T21:10:51.849  16287.70  16091.50     3.58822   \n",
       "49  bytetrade  2022-11-09T21:10:55.431  16287.70  16091.50     3.58822   \n",
       "50  bytetrade  2022-11-09T21:10:58.210  16287.70  16027.80     3.58822   \n",
       "51  bytetrade  2022-11-09T21:11:00.760  16287.70  16027.80     3.58822   \n",
       "52  bytetrade  2022-11-09T21:11:03.561  16250.40  16027.80     3.41113   \n",
       "53  bytetrade  2022-11-09T21:11:05.977  16250.40  16027.80     3.41113   \n",
       "54  bytetrade  2022-11-09T21:11:08.677  16250.40  16027.80     3.41113   \n",
       "55  bytetrade  2022-11-09T21:11:11.153  16250.40  16027.80     3.41113   \n",
       "56  bytetrade  2022-11-09T21:11:13.980  16250.40  16027.80     3.41113   \n",
       "57  bytetrade  2022-11-09T21:11:16.490  16250.40  16027.80     3.41113   \n",
       "58  bytetrade  2022-11-09T21:11:20.049  16250.40  16027.80     3.58889   \n",
       "59  bytetrade  2022-11-09T21:11:22.855  16250.40  16027.80     3.58889   \n",
       "\n",
       "    bid_volume  spread  close_price  \n",
       "0     2.806260    2.69     16102.43  \n",
       "1     2.621970    3.79     16104.40  \n",
       "2     1.776850    3.14     16094.18  \n",
       "3     1.328340    4.51     16086.97  \n",
       "4     4.752510    3.15     16073.97  \n",
       "5     4.319100    3.04     16086.04  \n",
       "6     1.810290    2.37     16100.33  \n",
       "7     4.553870    1.66     16091.13  \n",
       "8     4.310430    2.53     16092.15  \n",
       "9     2.949850    2.81     16102.97  \n",
       "10    1.070000    2.02     16094.94  \n",
       "11    2.384110    2.65     16108.43  \n",
       "12    2.268770    3.57     16109.98  \n",
       "13    2.727700    1.42     16122.43  \n",
       "14    2.037300    1.73     16129.39  \n",
       "15    1.889720    1.74     16136.61  \n",
       "16    1.751600    2.93     16145.00  \n",
       "17    2.966380    2.75     16147.32  \n",
       "18    2.436870    3.22     16143.62  \n",
       "19    1.064530    0.33     16136.51  \n",
       "20    7.141300   46.00     16002.00  \n",
       "21   15.178600   20.00     16018.00  \n",
       "22   14.153600   38.00     16016.00  \n",
       "23   16.756400   19.00     16023.00  \n",
       "24   16.728000   13.00     16023.00  \n",
       "25   18.605200   31.00     16025.00  \n",
       "26   10.144400   17.00     16014.00  \n",
       "27   11.926400   36.00     16031.00  \n",
       "28   11.926400   19.00     16014.00  \n",
       "29   12.204100   18.00     16030.00  \n",
       "30   11.827200   18.00     16030.00  \n",
       "31   11.585300    8.00     16030.00  \n",
       "32   16.091100   31.00     16020.00  \n",
       "33   11.824700   24.00     16020.00  \n",
       "34   12.952000   18.00     16030.00  \n",
       "35   15.564100   34.00     15997.00  \n",
       "36   11.896900   25.00     15999.00  \n",
       "37   14.502900   21.00     16016.00  \n",
       "38   16.832400   39.00     16011.00  \n",
       "39   14.085000   17.00     16035.00  \n",
       "40    2.970173  218.30     16154.50  \n",
       "41    2.970173  218.30     16156.20  \n",
       "42    0.967653  199.20     16144.10  \n",
       "43    0.967653  199.20     16174.50  \n",
       "44    2.960193  216.20     16151.20  \n",
       "45    2.960193  216.20     16136.80  \n",
       "46    2.960763  167.00     16196.90  \n",
       "47    2.960763  167.00     16196.90  \n",
       "48    2.960763  196.20     16174.00  \n",
       "49    2.960763  196.20     16192.10  \n",
       "50    2.961143  259.90     16192.10  \n",
       "51    2.961143  259.90     16192.10  \n",
       "52    2.961143  222.60     16152.30  \n",
       "53    2.961143  222.60     16159.20  \n",
       "54    2.961143  222.60     16142.00  \n",
       "55    2.961143  222.60     16128.80  \n",
       "56    2.961143  222.60     16153.50  \n",
       "57    2.961143  222.60     16133.30  \n",
       "58    2.961143  222.60     16149.00  \n",
       "59    2.961143  222.60     16134.50  "
      ]
     },
     "execution_count": 30,
     "metadata": {},
     "output_type": "execute_result"
    }
   ],
   "source": [
    "verif_df1 = fn.concatenate(verif_0_B[0], verif_1_B[0], verif_2_B[0], n)\n",
    "verif_df1"
   ]
  },
  {
   "cell_type": "markdown",
   "metadata": {},
   "source": [
    "<font color= lightblue> <font size = 2> OHLCV BTC </font>"
   ]
  },
  {
   "cell_type": "markdown",
   "metadata": {},
   "source": [
    "For each timeframe a candle is formed and it illustrates how much Volatility every timestamp shows within exchanges and this is important to know in algorithmic trading. Not to mention the fact that stock exchanges do not provide candle data in ms for many reasons."
   ]
  },
  {
   "cell_type": "code",
   "execution_count": 31,
   "metadata": {},
   "outputs": [
    {
     "data": {
      "text/html": [
       "<div>\n",
       "<style scoped>\n",
       "    .dataframe tbody tr th:only-of-type {\n",
       "        vertical-align: middle;\n",
       "    }\n",
       "\n",
       "    .dataframe tbody tr th {\n",
       "        vertical-align: top;\n",
       "    }\n",
       "\n",
       "    .dataframe thead th {\n",
       "        text-align: right;\n",
       "    }\n",
       "</style>\n",
       "<table border=\"1\" class=\"dataframe\">\n",
       "  <thead>\n",
       "    <tr style=\"text-align: right;\">\n",
       "      <th></th>\n",
       "      <th>exchange</th>\n",
       "      <th>timestamp</th>\n",
       "      <th>open</th>\n",
       "      <th>high</th>\n",
       "      <th>low</th>\n",
       "      <th>close</th>\n",
       "      <th>volume</th>\n",
       "    </tr>\n",
       "  </thead>\n",
       "  <tbody>\n",
       "    <tr>\n",
       "      <th>0</th>\n",
       "      <td>binance</td>\n",
       "      <td>2022-11-09T21:08:28.778</td>\n",
       "      <td>16091.68</td>\n",
       "      <td>16118.31</td>\n",
       "      <td>16070.02</td>\n",
       "      <td>16102.43</td>\n",
       "      <td>185.54006</td>\n",
       "    </tr>\n",
       "    <tr>\n",
       "      <th>1</th>\n",
       "      <td>binance</td>\n",
       "      <td>2022-11-09T21:08:31.328</td>\n",
       "      <td>16091.68</td>\n",
       "      <td>16118.31</td>\n",
       "      <td>16070.02</td>\n",
       "      <td>16104.40</td>\n",
       "      <td>196.91117</td>\n",
       "    </tr>\n",
       "    <tr>\n",
       "      <th>2</th>\n",
       "      <td>binance</td>\n",
       "      <td>2022-11-09T21:08:33.862</td>\n",
       "      <td>16091.68</td>\n",
       "      <td>16118.31</td>\n",
       "      <td>16070.02</td>\n",
       "      <td>16094.18</td>\n",
       "      <td>216.29950</td>\n",
       "    </tr>\n",
       "    <tr>\n",
       "      <th>3</th>\n",
       "      <td>binance</td>\n",
       "      <td>2022-11-09T21:08:36.546</td>\n",
       "      <td>16091.68</td>\n",
       "      <td>16118.31</td>\n",
       "      <td>16070.02</td>\n",
       "      <td>16086.97</td>\n",
       "      <td>235.45948</td>\n",
       "    </tr>\n",
       "    <tr>\n",
       "      <th>4</th>\n",
       "      <td>binance</td>\n",
       "      <td>2022-11-09T21:08:39.638</td>\n",
       "      <td>16091.68</td>\n",
       "      <td>16118.31</td>\n",
       "      <td>16070.00</td>\n",
       "      <td>16073.97</td>\n",
       "      <td>271.87917</td>\n",
       "    </tr>\n",
       "    <tr>\n",
       "      <th>5</th>\n",
       "      <td>binance</td>\n",
       "      <td>2022-11-09T21:08:42.777</td>\n",
       "      <td>16091.68</td>\n",
       "      <td>16118.31</td>\n",
       "      <td>16070.00</td>\n",
       "      <td>16086.04</td>\n",
       "      <td>288.64869</td>\n",
       "    </tr>\n",
       "    <tr>\n",
       "      <th>6</th>\n",
       "      <td>binance</td>\n",
       "      <td>2022-11-09T21:08:45.301</td>\n",
       "      <td>16091.68</td>\n",
       "      <td>16118.31</td>\n",
       "      <td>16070.00</td>\n",
       "      <td>16100.33</td>\n",
       "      <td>309.87142</td>\n",
       "    </tr>\n",
       "    <tr>\n",
       "      <th>7</th>\n",
       "      <td>binance</td>\n",
       "      <td>2022-11-09T21:08:47.937</td>\n",
       "      <td>16091.68</td>\n",
       "      <td>16118.31</td>\n",
       "      <td>16070.00</td>\n",
       "      <td>16091.13</td>\n",
       "      <td>325.50124</td>\n",
       "    </tr>\n",
       "    <tr>\n",
       "      <th>8</th>\n",
       "      <td>binance</td>\n",
       "      <td>2022-11-09T21:08:51.211</td>\n",
       "      <td>16091.68</td>\n",
       "      <td>16118.31</td>\n",
       "      <td>16070.00</td>\n",
       "      <td>16092.15</td>\n",
       "      <td>333.22215</td>\n",
       "    </tr>\n",
       "    <tr>\n",
       "      <th>9</th>\n",
       "      <td>binance</td>\n",
       "      <td>2022-11-09T21:08:53.802</td>\n",
       "      <td>16091.68</td>\n",
       "      <td>16118.31</td>\n",
       "      <td>16070.00</td>\n",
       "      <td>16102.97</td>\n",
       "      <td>351.33733</td>\n",
       "    </tr>\n",
       "    <tr>\n",
       "      <th>10</th>\n",
       "      <td>binance</td>\n",
       "      <td>2022-11-09T21:08:56.357</td>\n",
       "      <td>16091.68</td>\n",
       "      <td>16118.31</td>\n",
       "      <td>16070.00</td>\n",
       "      <td>16094.94</td>\n",
       "      <td>376.70601</td>\n",
       "    </tr>\n",
       "    <tr>\n",
       "      <th>11</th>\n",
       "      <td>binance</td>\n",
       "      <td>2022-11-09T21:08:59.255</td>\n",
       "      <td>16091.68</td>\n",
       "      <td>16118.31</td>\n",
       "      <td>16070.00</td>\n",
       "      <td>16108.43</td>\n",
       "      <td>392.27753</td>\n",
       "    </tr>\n",
       "    <tr>\n",
       "      <th>12</th>\n",
       "      <td>binance</td>\n",
       "      <td>2022-11-09T21:09:02.277</td>\n",
       "      <td>16111.90</td>\n",
       "      <td>16113.44</td>\n",
       "      <td>16107.33</td>\n",
       "      <td>16109.98</td>\n",
       "      <td>1.01082</td>\n",
       "    </tr>\n",
       "    <tr>\n",
       "      <th>13</th>\n",
       "      <td>binance</td>\n",
       "      <td>2022-11-09T21:09:05.095</td>\n",
       "      <td>16111.90</td>\n",
       "      <td>16126.32</td>\n",
       "      <td>16107.33</td>\n",
       "      <td>16122.43</td>\n",
       "      <td>26.65502</td>\n",
       "    </tr>\n",
       "    <tr>\n",
       "      <th>14</th>\n",
       "      <td>binance</td>\n",
       "      <td>2022-11-09T21:09:07.855</td>\n",
       "      <td>16111.90</td>\n",
       "      <td>16130.00</td>\n",
       "      <td>16107.33</td>\n",
       "      <td>16129.39</td>\n",
       "      <td>47.92856</td>\n",
       "    </tr>\n",
       "    <tr>\n",
       "      <th>15</th>\n",
       "      <td>binance</td>\n",
       "      <td>2022-11-09T21:09:10.479</td>\n",
       "      <td>16111.90</td>\n",
       "      <td>16150.00</td>\n",
       "      <td>16107.33</td>\n",
       "      <td>16136.61</td>\n",
       "      <td>96.35505</td>\n",
       "    </tr>\n",
       "    <tr>\n",
       "      <th>16</th>\n",
       "      <td>binance</td>\n",
       "      <td>2022-11-09T21:09:12.960</td>\n",
       "      <td>16111.90</td>\n",
       "      <td>16150.00</td>\n",
       "      <td>16107.33</td>\n",
       "      <td>16145.00</td>\n",
       "      <td>114.54632</td>\n",
       "    </tr>\n",
       "    <tr>\n",
       "      <th>17</th>\n",
       "      <td>binance</td>\n",
       "      <td>2022-11-09T21:09:15.417</td>\n",
       "      <td>16111.90</td>\n",
       "      <td>16150.00</td>\n",
       "      <td>16107.33</td>\n",
       "      <td>16147.32</td>\n",
       "      <td>123.41440</td>\n",
       "    </tr>\n",
       "    <tr>\n",
       "      <th>18</th>\n",
       "      <td>binance</td>\n",
       "      <td>2022-11-09T21:09:17.940</td>\n",
       "      <td>16111.90</td>\n",
       "      <td>16157.01</td>\n",
       "      <td>16107.33</td>\n",
       "      <td>16143.62</td>\n",
       "      <td>144.18603</td>\n",
       "    </tr>\n",
       "    <tr>\n",
       "      <th>19</th>\n",
       "      <td>binance</td>\n",
       "      <td>2022-11-09T21:09:20.441</td>\n",
       "      <td>16111.90</td>\n",
       "      <td>16157.01</td>\n",
       "      <td>16107.33</td>\n",
       "      <td>16136.51</td>\n",
       "      <td>153.31912</td>\n",
       "    </tr>\n",
       "    <tr>\n",
       "      <th>20</th>\n",
       "      <td>ftx</td>\n",
       "      <td>2022-11-09T21:09:24.228</td>\n",
       "      <td>15967.00</td>\n",
       "      <td>16039.00</td>\n",
       "      <td>15967.00</td>\n",
       "      <td>16002.00</td>\n",
       "      <td>19554.46450</td>\n",
       "    </tr>\n",
       "    <tr>\n",
       "      <th>21</th>\n",
       "      <td>ftx</td>\n",
       "      <td>2022-11-09T21:09:27.119</td>\n",
       "      <td>15967.00</td>\n",
       "      <td>16039.00</td>\n",
       "      <td>15967.00</td>\n",
       "      <td>16018.00</td>\n",
       "      <td>24495.97600</td>\n",
       "    </tr>\n",
       "    <tr>\n",
       "      <th>22</th>\n",
       "      <td>ftx</td>\n",
       "      <td>2022-11-09T21:09:30.184</td>\n",
       "      <td>15967.00</td>\n",
       "      <td>16039.00</td>\n",
       "      <td>15967.00</td>\n",
       "      <td>16016.00</td>\n",
       "      <td>24508.79790</td>\n",
       "    </tr>\n",
       "    <tr>\n",
       "      <th>23</th>\n",
       "      <td>ftx</td>\n",
       "      <td>2022-11-09T21:09:32.888</td>\n",
       "      <td>15967.00</td>\n",
       "      <td>16039.00</td>\n",
       "      <td>15967.00</td>\n",
       "      <td>16023.00</td>\n",
       "      <td>24542.45040</td>\n",
       "    </tr>\n",
       "    <tr>\n",
       "      <th>24</th>\n",
       "      <td>ftx</td>\n",
       "      <td>2022-11-09T21:09:35.348</td>\n",
       "      <td>15967.00</td>\n",
       "      <td>16039.00</td>\n",
       "      <td>15967.00</td>\n",
       "      <td>16023.00</td>\n",
       "      <td>24542.45040</td>\n",
       "    </tr>\n",
       "    <tr>\n",
       "      <th>25</th>\n",
       "      <td>ftx</td>\n",
       "      <td>2022-11-09T21:09:38.159</td>\n",
       "      <td>15967.00</td>\n",
       "      <td>16039.00</td>\n",
       "      <td>15967.00</td>\n",
       "      <td>16025.00</td>\n",
       "      <td>24542.45040</td>\n",
       "    </tr>\n",
       "    <tr>\n",
       "      <th>26</th>\n",
       "      <td>ftx</td>\n",
       "      <td>2022-11-09T21:09:42.504</td>\n",
       "      <td>15967.00</td>\n",
       "      <td>16039.00</td>\n",
       "      <td>15967.00</td>\n",
       "      <td>16014.00</td>\n",
       "      <td>27641.40500</td>\n",
       "    </tr>\n",
       "    <tr>\n",
       "      <th>27</th>\n",
       "      <td>ftx</td>\n",
       "      <td>2022-11-09T21:09:45.802</td>\n",
       "      <td>15967.00</td>\n",
       "      <td>16039.00</td>\n",
       "      <td>15967.00</td>\n",
       "      <td>16031.00</td>\n",
       "      <td>29188.30000</td>\n",
       "    </tr>\n",
       "    <tr>\n",
       "      <th>28</th>\n",
       "      <td>ftx</td>\n",
       "      <td>2022-11-09T21:09:48.739</td>\n",
       "      <td>15967.00</td>\n",
       "      <td>16039.00</td>\n",
       "      <td>15967.00</td>\n",
       "      <td>16014.00</td>\n",
       "      <td>29188.30000</td>\n",
       "    </tr>\n",
       "    <tr>\n",
       "      <th>29</th>\n",
       "      <td>ftx</td>\n",
       "      <td>2022-11-09T21:09:51.619</td>\n",
       "      <td>15967.00</td>\n",
       "      <td>16039.00</td>\n",
       "      <td>15967.00</td>\n",
       "      <td>16030.00</td>\n",
       "      <td>29188.30000</td>\n",
       "    </tr>\n",
       "    <tr>\n",
       "      <th>30</th>\n",
       "      <td>ftx</td>\n",
       "      <td>2022-11-09T21:09:54.315</td>\n",
       "      <td>15967.00</td>\n",
       "      <td>16039.00</td>\n",
       "      <td>15967.00</td>\n",
       "      <td>16030.00</td>\n",
       "      <td>31254.67090</td>\n",
       "    </tr>\n",
       "    <tr>\n",
       "      <th>31</th>\n",
       "      <td>ftx</td>\n",
       "      <td>2022-11-09T21:09:57.170</td>\n",
       "      <td>15967.00</td>\n",
       "      <td>16039.00</td>\n",
       "      <td>15967.00</td>\n",
       "      <td>16030.00</td>\n",
       "      <td>34124.16880</td>\n",
       "    </tr>\n",
       "    <tr>\n",
       "      <th>32</th>\n",
       "      <td>ftx</td>\n",
       "      <td>2022-11-09T21:09:59.794</td>\n",
       "      <td>15967.00</td>\n",
       "      <td>16039.00</td>\n",
       "      <td>15967.00</td>\n",
       "      <td>16020.00</td>\n",
       "      <td>34124.16880</td>\n",
       "    </tr>\n",
       "    <tr>\n",
       "      <th>33</th>\n",
       "      <td>ftx</td>\n",
       "      <td>2022-11-09T21:10:03.315</td>\n",
       "      <td>16020.00</td>\n",
       "      <td>16020.00</td>\n",
       "      <td>16020.00</td>\n",
       "      <td>16020.00</td>\n",
       "      <td>0.00000</td>\n",
       "    </tr>\n",
       "    <tr>\n",
       "      <th>34</th>\n",
       "      <td>ftx</td>\n",
       "      <td>2022-11-09T21:10:06.855</td>\n",
       "      <td>16020.00</td>\n",
       "      <td>16030.00</td>\n",
       "      <td>16020.00</td>\n",
       "      <td>16030.00</td>\n",
       "      <td>11.22100</td>\n",
       "    </tr>\n",
       "    <tr>\n",
       "      <th>35</th>\n",
       "      <td>ftx</td>\n",
       "      <td>2022-11-09T21:10:10.040</td>\n",
       "      <td>16020.00</td>\n",
       "      <td>16030.00</td>\n",
       "      <td>15994.00</td>\n",
       "      <td>15997.00</td>\n",
       "      <td>24.01620</td>\n",
       "    </tr>\n",
       "    <tr>\n",
       "      <th>36</th>\n",
       "      <td>ftx</td>\n",
       "      <td>2022-11-09T21:10:13.140</td>\n",
       "      <td>16020.00</td>\n",
       "      <td>16030.00</td>\n",
       "      <td>15994.00</td>\n",
       "      <td>15999.00</td>\n",
       "      <td>44.81490</td>\n",
       "    </tr>\n",
       "    <tr>\n",
       "      <th>37</th>\n",
       "      <td>ftx</td>\n",
       "      <td>2022-11-09T21:10:16.811</td>\n",
       "      <td>16020.00</td>\n",
       "      <td>16030.00</td>\n",
       "      <td>15994.00</td>\n",
       "      <td>16016.00</td>\n",
       "      <td>4961.72690</td>\n",
       "    </tr>\n",
       "    <tr>\n",
       "      <th>38</th>\n",
       "      <td>ftx</td>\n",
       "      <td>2022-11-09T21:10:20.555</td>\n",
       "      <td>16020.00</td>\n",
       "      <td>16030.00</td>\n",
       "      <td>15994.00</td>\n",
       "      <td>16011.00</td>\n",
       "      <td>4969.73210</td>\n",
       "    </tr>\n",
       "    <tr>\n",
       "      <th>39</th>\n",
       "      <td>ftx</td>\n",
       "      <td>2022-11-09T21:10:23.977</td>\n",
       "      <td>16020.00</td>\n",
       "      <td>16037.00</td>\n",
       "      <td>15994.00</td>\n",
       "      <td>16035.00</td>\n",
       "      <td>4990.58020</td>\n",
       "    </tr>\n",
       "    <tr>\n",
       "      <th>40</th>\n",
       "      <td>bytetrade</td>\n",
       "      <td>2022-11-09T21:10:27.223</td>\n",
       "      <td>16130.30</td>\n",
       "      <td>16160.50</td>\n",
       "      <td>16129.30</td>\n",
       "      <td>16154.50</td>\n",
       "      <td>0.01896</td>\n",
       "    </tr>\n",
       "    <tr>\n",
       "      <th>41</th>\n",
       "      <td>bytetrade</td>\n",
       "      <td>2022-11-09T21:10:30.220</td>\n",
       "      <td>16130.30</td>\n",
       "      <td>16160.50</td>\n",
       "      <td>16129.30</td>\n",
       "      <td>16156.20</td>\n",
       "      <td>0.03217</td>\n",
       "    </tr>\n",
       "    <tr>\n",
       "      <th>42</th>\n",
       "      <td>bytetrade</td>\n",
       "      <td>2022-11-09T21:10:33.983</td>\n",
       "      <td>16130.30</td>\n",
       "      <td>16160.50</td>\n",
       "      <td>16129.30</td>\n",
       "      <td>16144.10</td>\n",
       "      <td>0.04075</td>\n",
       "    </tr>\n",
       "    <tr>\n",
       "      <th>43</th>\n",
       "      <td>bytetrade</td>\n",
       "      <td>2022-11-09T21:10:37.520</td>\n",
       "      <td>16130.30</td>\n",
       "      <td>16174.50</td>\n",
       "      <td>16129.30</td>\n",
       "      <td>16174.50</td>\n",
       "      <td>0.05693</td>\n",
       "    </tr>\n",
       "    <tr>\n",
       "      <th>44</th>\n",
       "      <td>bytetrade</td>\n",
       "      <td>2022-11-09T21:10:40.235</td>\n",
       "      <td>16130.30</td>\n",
       "      <td>16174.50</td>\n",
       "      <td>16129.30</td>\n",
       "      <td>16151.20</td>\n",
       "      <td>0.06635</td>\n",
       "    </tr>\n",
       "    <tr>\n",
       "      <th>45</th>\n",
       "      <td>bytetrade</td>\n",
       "      <td>2022-11-09T21:10:42.877</td>\n",
       "      <td>16130.30</td>\n",
       "      <td>16174.50</td>\n",
       "      <td>16129.30</td>\n",
       "      <td>16136.80</td>\n",
       "      <td>0.07035</td>\n",
       "    </tr>\n",
       "    <tr>\n",
       "      <th>46</th>\n",
       "      <td>bytetrade</td>\n",
       "      <td>2022-11-09T21:10:45.630</td>\n",
       "      <td>16130.30</td>\n",
       "      <td>16196.90</td>\n",
       "      <td>16129.30</td>\n",
       "      <td>16196.90</td>\n",
       "      <td>0.08474</td>\n",
       "    </tr>\n",
       "    <tr>\n",
       "      <th>47</th>\n",
       "      <td>bytetrade</td>\n",
       "      <td>2022-11-09T21:10:48.304</td>\n",
       "      <td>16130.30</td>\n",
       "      <td>16196.90</td>\n",
       "      <td>16129.30</td>\n",
       "      <td>16196.90</td>\n",
       "      <td>0.08474</td>\n",
       "    </tr>\n",
       "    <tr>\n",
       "      <th>48</th>\n",
       "      <td>bytetrade</td>\n",
       "      <td>2022-11-09T21:10:51.849</td>\n",
       "      <td>16130.30</td>\n",
       "      <td>16196.90</td>\n",
       "      <td>16129.30</td>\n",
       "      <td>16174.00</td>\n",
       "      <td>0.10588</td>\n",
       "    </tr>\n",
       "    <tr>\n",
       "      <th>49</th>\n",
       "      <td>bytetrade</td>\n",
       "      <td>2022-11-09T21:10:55.431</td>\n",
       "      <td>16130.30</td>\n",
       "      <td>16196.90</td>\n",
       "      <td>16129.30</td>\n",
       "      <td>16192.10</td>\n",
       "      <td>0.10618</td>\n",
       "    </tr>\n",
       "    <tr>\n",
       "      <th>50</th>\n",
       "      <td>bytetrade</td>\n",
       "      <td>2022-11-09T21:10:58.210</td>\n",
       "      <td>16130.30</td>\n",
       "      <td>16196.90</td>\n",
       "      <td>16129.30</td>\n",
       "      <td>16192.10</td>\n",
       "      <td>0.10618</td>\n",
       "    </tr>\n",
       "    <tr>\n",
       "      <th>51</th>\n",
       "      <td>bytetrade</td>\n",
       "      <td>2022-11-09T21:11:00.760</td>\n",
       "      <td>16130.30</td>\n",
       "      <td>16196.90</td>\n",
       "      <td>16129.30</td>\n",
       "      <td>16192.10</td>\n",
       "      <td>0.10618</td>\n",
       "    </tr>\n",
       "    <tr>\n",
       "      <th>52</th>\n",
       "      <td>bytetrade</td>\n",
       "      <td>2022-11-09T21:11:03.561</td>\n",
       "      <td>16152.30</td>\n",
       "      <td>16152.30</td>\n",
       "      <td>16152.30</td>\n",
       "      <td>16152.30</td>\n",
       "      <td>0.00227</td>\n",
       "    </tr>\n",
       "    <tr>\n",
       "      <th>53</th>\n",
       "      <td>bytetrade</td>\n",
       "      <td>2022-11-09T21:11:05.977</td>\n",
       "      <td>16152.30</td>\n",
       "      <td>16164.30</td>\n",
       "      <td>16152.30</td>\n",
       "      <td>16159.20</td>\n",
       "      <td>0.01004</td>\n",
       "    </tr>\n",
       "    <tr>\n",
       "      <th>54</th>\n",
       "      <td>bytetrade</td>\n",
       "      <td>2022-11-09T21:11:08.677</td>\n",
       "      <td>16152.30</td>\n",
       "      <td>16164.30</td>\n",
       "      <td>16142.00</td>\n",
       "      <td>16142.00</td>\n",
       "      <td>0.01115</td>\n",
       "    </tr>\n",
       "    <tr>\n",
       "      <th>55</th>\n",
       "      <td>bytetrade</td>\n",
       "      <td>2022-11-09T21:11:11.153</td>\n",
       "      <td>16152.30</td>\n",
       "      <td>16164.30</td>\n",
       "      <td>16128.80</td>\n",
       "      <td>16128.80</td>\n",
       "      <td>0.01181</td>\n",
       "    </tr>\n",
       "    <tr>\n",
       "      <th>56</th>\n",
       "      <td>bytetrade</td>\n",
       "      <td>2022-11-09T21:11:13.980</td>\n",
       "      <td>16152.30</td>\n",
       "      <td>16164.30</td>\n",
       "      <td>16128.80</td>\n",
       "      <td>16153.50</td>\n",
       "      <td>0.01314</td>\n",
       "    </tr>\n",
       "    <tr>\n",
       "      <th>57</th>\n",
       "      <td>bytetrade</td>\n",
       "      <td>2022-11-09T21:11:16.490</td>\n",
       "      <td>16152.30</td>\n",
       "      <td>16164.30</td>\n",
       "      <td>16128.80</td>\n",
       "      <td>16133.30</td>\n",
       "      <td>0.01423</td>\n",
       "    </tr>\n",
       "    <tr>\n",
       "      <th>58</th>\n",
       "      <td>bytetrade</td>\n",
       "      <td>2022-11-09T21:11:20.049</td>\n",
       "      <td>16152.30</td>\n",
       "      <td>16164.30</td>\n",
       "      <td>16128.80</td>\n",
       "      <td>16149.00</td>\n",
       "      <td>0.01755</td>\n",
       "    </tr>\n",
       "    <tr>\n",
       "      <th>59</th>\n",
       "      <td>bytetrade</td>\n",
       "      <td>2022-11-09T21:11:22.855</td>\n",
       "      <td>16152.30</td>\n",
       "      <td>16164.30</td>\n",
       "      <td>16128.80</td>\n",
       "      <td>16134.50</td>\n",
       "      <td>0.01907</td>\n",
       "    </tr>\n",
       "  </tbody>\n",
       "</table>\n",
       "</div>"
      ],
      "text/plain": [
       "     exchange                timestamp      open      high       low  \\\n",
       "0     binance  2022-11-09T21:08:28.778  16091.68  16118.31  16070.02   \n",
       "1     binance  2022-11-09T21:08:31.328  16091.68  16118.31  16070.02   \n",
       "2     binance  2022-11-09T21:08:33.862  16091.68  16118.31  16070.02   \n",
       "3     binance  2022-11-09T21:08:36.546  16091.68  16118.31  16070.02   \n",
       "4     binance  2022-11-09T21:08:39.638  16091.68  16118.31  16070.00   \n",
       "5     binance  2022-11-09T21:08:42.777  16091.68  16118.31  16070.00   \n",
       "6     binance  2022-11-09T21:08:45.301  16091.68  16118.31  16070.00   \n",
       "7     binance  2022-11-09T21:08:47.937  16091.68  16118.31  16070.00   \n",
       "8     binance  2022-11-09T21:08:51.211  16091.68  16118.31  16070.00   \n",
       "9     binance  2022-11-09T21:08:53.802  16091.68  16118.31  16070.00   \n",
       "10    binance  2022-11-09T21:08:56.357  16091.68  16118.31  16070.00   \n",
       "11    binance  2022-11-09T21:08:59.255  16091.68  16118.31  16070.00   \n",
       "12    binance  2022-11-09T21:09:02.277  16111.90  16113.44  16107.33   \n",
       "13    binance  2022-11-09T21:09:05.095  16111.90  16126.32  16107.33   \n",
       "14    binance  2022-11-09T21:09:07.855  16111.90  16130.00  16107.33   \n",
       "15    binance  2022-11-09T21:09:10.479  16111.90  16150.00  16107.33   \n",
       "16    binance  2022-11-09T21:09:12.960  16111.90  16150.00  16107.33   \n",
       "17    binance  2022-11-09T21:09:15.417  16111.90  16150.00  16107.33   \n",
       "18    binance  2022-11-09T21:09:17.940  16111.90  16157.01  16107.33   \n",
       "19    binance  2022-11-09T21:09:20.441  16111.90  16157.01  16107.33   \n",
       "20        ftx  2022-11-09T21:09:24.228  15967.00  16039.00  15967.00   \n",
       "21        ftx  2022-11-09T21:09:27.119  15967.00  16039.00  15967.00   \n",
       "22        ftx  2022-11-09T21:09:30.184  15967.00  16039.00  15967.00   \n",
       "23        ftx  2022-11-09T21:09:32.888  15967.00  16039.00  15967.00   \n",
       "24        ftx  2022-11-09T21:09:35.348  15967.00  16039.00  15967.00   \n",
       "25        ftx  2022-11-09T21:09:38.159  15967.00  16039.00  15967.00   \n",
       "26        ftx  2022-11-09T21:09:42.504  15967.00  16039.00  15967.00   \n",
       "27        ftx  2022-11-09T21:09:45.802  15967.00  16039.00  15967.00   \n",
       "28        ftx  2022-11-09T21:09:48.739  15967.00  16039.00  15967.00   \n",
       "29        ftx  2022-11-09T21:09:51.619  15967.00  16039.00  15967.00   \n",
       "30        ftx  2022-11-09T21:09:54.315  15967.00  16039.00  15967.00   \n",
       "31        ftx  2022-11-09T21:09:57.170  15967.00  16039.00  15967.00   \n",
       "32        ftx  2022-11-09T21:09:59.794  15967.00  16039.00  15967.00   \n",
       "33        ftx  2022-11-09T21:10:03.315  16020.00  16020.00  16020.00   \n",
       "34        ftx  2022-11-09T21:10:06.855  16020.00  16030.00  16020.00   \n",
       "35        ftx  2022-11-09T21:10:10.040  16020.00  16030.00  15994.00   \n",
       "36        ftx  2022-11-09T21:10:13.140  16020.00  16030.00  15994.00   \n",
       "37        ftx  2022-11-09T21:10:16.811  16020.00  16030.00  15994.00   \n",
       "38        ftx  2022-11-09T21:10:20.555  16020.00  16030.00  15994.00   \n",
       "39        ftx  2022-11-09T21:10:23.977  16020.00  16037.00  15994.00   \n",
       "40  bytetrade  2022-11-09T21:10:27.223  16130.30  16160.50  16129.30   \n",
       "41  bytetrade  2022-11-09T21:10:30.220  16130.30  16160.50  16129.30   \n",
       "42  bytetrade  2022-11-09T21:10:33.983  16130.30  16160.50  16129.30   \n",
       "43  bytetrade  2022-11-09T21:10:37.520  16130.30  16174.50  16129.30   \n",
       "44  bytetrade  2022-11-09T21:10:40.235  16130.30  16174.50  16129.30   \n",
       "45  bytetrade  2022-11-09T21:10:42.877  16130.30  16174.50  16129.30   \n",
       "46  bytetrade  2022-11-09T21:10:45.630  16130.30  16196.90  16129.30   \n",
       "47  bytetrade  2022-11-09T21:10:48.304  16130.30  16196.90  16129.30   \n",
       "48  bytetrade  2022-11-09T21:10:51.849  16130.30  16196.90  16129.30   \n",
       "49  bytetrade  2022-11-09T21:10:55.431  16130.30  16196.90  16129.30   \n",
       "50  bytetrade  2022-11-09T21:10:58.210  16130.30  16196.90  16129.30   \n",
       "51  bytetrade  2022-11-09T21:11:00.760  16130.30  16196.90  16129.30   \n",
       "52  bytetrade  2022-11-09T21:11:03.561  16152.30  16152.30  16152.30   \n",
       "53  bytetrade  2022-11-09T21:11:05.977  16152.30  16164.30  16152.30   \n",
       "54  bytetrade  2022-11-09T21:11:08.677  16152.30  16164.30  16142.00   \n",
       "55  bytetrade  2022-11-09T21:11:11.153  16152.30  16164.30  16128.80   \n",
       "56  bytetrade  2022-11-09T21:11:13.980  16152.30  16164.30  16128.80   \n",
       "57  bytetrade  2022-11-09T21:11:16.490  16152.30  16164.30  16128.80   \n",
       "58  bytetrade  2022-11-09T21:11:20.049  16152.30  16164.30  16128.80   \n",
       "59  bytetrade  2022-11-09T21:11:22.855  16152.30  16164.30  16128.80   \n",
       "\n",
       "       close       volume  \n",
       "0   16102.43    185.54006  \n",
       "1   16104.40    196.91117  \n",
       "2   16094.18    216.29950  \n",
       "3   16086.97    235.45948  \n",
       "4   16073.97    271.87917  \n",
       "5   16086.04    288.64869  \n",
       "6   16100.33    309.87142  \n",
       "7   16091.13    325.50124  \n",
       "8   16092.15    333.22215  \n",
       "9   16102.97    351.33733  \n",
       "10  16094.94    376.70601  \n",
       "11  16108.43    392.27753  \n",
       "12  16109.98      1.01082  \n",
       "13  16122.43     26.65502  \n",
       "14  16129.39     47.92856  \n",
       "15  16136.61     96.35505  \n",
       "16  16145.00    114.54632  \n",
       "17  16147.32    123.41440  \n",
       "18  16143.62    144.18603  \n",
       "19  16136.51    153.31912  \n",
       "20  16002.00  19554.46450  \n",
       "21  16018.00  24495.97600  \n",
       "22  16016.00  24508.79790  \n",
       "23  16023.00  24542.45040  \n",
       "24  16023.00  24542.45040  \n",
       "25  16025.00  24542.45040  \n",
       "26  16014.00  27641.40500  \n",
       "27  16031.00  29188.30000  \n",
       "28  16014.00  29188.30000  \n",
       "29  16030.00  29188.30000  \n",
       "30  16030.00  31254.67090  \n",
       "31  16030.00  34124.16880  \n",
       "32  16020.00  34124.16880  \n",
       "33  16020.00      0.00000  \n",
       "34  16030.00     11.22100  \n",
       "35  15997.00     24.01620  \n",
       "36  15999.00     44.81490  \n",
       "37  16016.00   4961.72690  \n",
       "38  16011.00   4969.73210  \n",
       "39  16035.00   4990.58020  \n",
       "40  16154.50      0.01896  \n",
       "41  16156.20      0.03217  \n",
       "42  16144.10      0.04075  \n",
       "43  16174.50      0.05693  \n",
       "44  16151.20      0.06635  \n",
       "45  16136.80      0.07035  \n",
       "46  16196.90      0.08474  \n",
       "47  16196.90      0.08474  \n",
       "48  16174.00      0.10588  \n",
       "49  16192.10      0.10618  \n",
       "50  16192.10      0.10618  \n",
       "51  16192.10      0.10618  \n",
       "52  16152.30      0.00227  \n",
       "53  16159.20      0.01004  \n",
       "54  16142.00      0.01115  \n",
       "55  16128.80      0.01181  \n",
       "56  16153.50      0.01314  \n",
       "57  16133.30      0.01423  \n",
       "58  16149.00      0.01755  \n",
       "59  16134.50      0.01907  "
      ]
     },
     "execution_count": 31,
     "metadata": {},
     "output_type": "execute_result"
    }
   ],
   "source": [
    "verif_df1_OH = fn.concatenate(verif_0_B[1], verif_1_B[1], verif_2_B[1], n)\n",
    "verif_df1_OH"
   ]
  },
  {
   "cell_type": "markdown",
   "metadata": {},
   "source": [
    "<font color= lightblue> <font size = 2> Verification ETH </font>"
   ]
  },
  {
   "cell_type": "code",
   "execution_count": 33,
   "metadata": {},
   "outputs": [
    {
     "data": {
      "text/plain": [
       "((25, 'ETH/USDT', 'binance'),\n",
       " (25, 'ETH/USDT', 'ftx'),\n",
       " (25, 'ETH/USDT', 'bytetrade'))"
      ]
     },
     "execution_count": 33,
     "metadata": {},
     "output_type": "execute_result"
    }
   ],
   "source": [
    "v_params0= 25, criptos[1], exchanges[0]\n",
    "v_params1= 25, criptos[1], exchanges[1]\n",
    "v_params2= 25, criptos[1], exchanges[2]\n",
    "v_params0, v_params1, v_params2"
   ]
  },
  {
   "cell_type": "code",
   "execution_count": 34,
   "metadata": {},
   "outputs": [],
   "source": [
    "n=20\n",
    "verif_0_E = vs.verif_ex1(v_params0[0],v_params0[1], v_params0[2], n)\n",
    "verif_1_E = vs.verif_ex1(v_params1[0],v_params1[1], v_params1[2], n)\n",
    "verif_2_E = vs.verif_ex1(v_params2[0],v_params2[1], v_params2[2], n)"
   ]
  },
  {
   "cell_type": "code",
   "execution_count": 35,
   "metadata": {},
   "outputs": [
    {
     "data": {
      "text/html": [
       "<div>\n",
       "<style scoped>\n",
       "    .dataframe tbody tr th:only-of-type {\n",
       "        vertical-align: middle;\n",
       "    }\n",
       "\n",
       "    .dataframe tbody tr th {\n",
       "        vertical-align: top;\n",
       "    }\n",
       "\n",
       "    .dataframe thead th {\n",
       "        text-align: right;\n",
       "    }\n",
       "</style>\n",
       "<table border=\"1\" class=\"dataframe\">\n",
       "  <thead>\n",
       "    <tr style=\"text-align: right;\">\n",
       "      <th></th>\n",
       "      <th>exchange</th>\n",
       "      <th>timestamp</th>\n",
       "      <th>ask</th>\n",
       "      <th>bid</th>\n",
       "      <th>ask_volume</th>\n",
       "      <th>bid_volume</th>\n",
       "      <th>spread</th>\n",
       "      <th>close_price</th>\n",
       "    </tr>\n",
       "  </thead>\n",
       "  <tbody>\n",
       "    <tr>\n",
       "      <th>0</th>\n",
       "      <td>binance</td>\n",
       "      <td>2022-11-09T21:14:00.755</td>\n",
       "      <td>1153.76</td>\n",
       "      <td>1153.75</td>\n",
       "      <td>33.8743</td>\n",
       "      <td>59.8397</td>\n",
       "      <td>0.01</td>\n",
       "      <td>1153.76</td>\n",
       "    </tr>\n",
       "    <tr>\n",
       "      <th>1</th>\n",
       "      <td>binance</td>\n",
       "      <td>2022-11-09T21:14:03.422</td>\n",
       "      <td>1155.40</td>\n",
       "      <td>1155.39</td>\n",
       "      <td>46.4509</td>\n",
       "      <td>32.4389</td>\n",
       "      <td>0.01</td>\n",
       "      <td>1155.10</td>\n",
       "    </tr>\n",
       "    <tr>\n",
       "      <th>2</th>\n",
       "      <td>binance</td>\n",
       "      <td>2022-11-09T21:14:06.016</td>\n",
       "      <td>1153.90</td>\n",
       "      <td>1153.60</td>\n",
       "      <td>37.2692</td>\n",
       "      <td>135.7212</td>\n",
       "      <td>0.30</td>\n",
       "      <td>1153.60</td>\n",
       "    </tr>\n",
       "    <tr>\n",
       "      <th>3</th>\n",
       "      <td>binance</td>\n",
       "      <td>2022-11-09T21:14:08.639</td>\n",
       "      <td>1154.36</td>\n",
       "      <td>1154.35</td>\n",
       "      <td>43.2427</td>\n",
       "      <td>31.7348</td>\n",
       "      <td>0.01</td>\n",
       "      <td>1154.22</td>\n",
       "    </tr>\n",
       "    <tr>\n",
       "      <th>4</th>\n",
       "      <td>binance</td>\n",
       "      <td>2022-11-09T21:14:11.166</td>\n",
       "      <td>1154.32</td>\n",
       "      <td>1154.15</td>\n",
       "      <td>114.6540</td>\n",
       "      <td>65.0012</td>\n",
       "      <td>0.17</td>\n",
       "      <td>1154.29</td>\n",
       "    </tr>\n",
       "    <tr>\n",
       "      <th>5</th>\n",
       "      <td>binance</td>\n",
       "      <td>2022-11-09T21:14:13.687</td>\n",
       "      <td>1153.44</td>\n",
       "      <td>1153.43</td>\n",
       "      <td>106.1127</td>\n",
       "      <td>64.5498</td>\n",
       "      <td>0.01</td>\n",
       "      <td>1153.58</td>\n",
       "    </tr>\n",
       "    <tr>\n",
       "      <th>6</th>\n",
       "      <td>binance</td>\n",
       "      <td>2022-11-09T21:14:16.324</td>\n",
       "      <td>1153.58</td>\n",
       "      <td>1153.57</td>\n",
       "      <td>29.5727</td>\n",
       "      <td>54.9679</td>\n",
       "      <td>0.01</td>\n",
       "      <td>1153.58</td>\n",
       "    </tr>\n",
       "    <tr>\n",
       "      <th>7</th>\n",
       "      <td>binance</td>\n",
       "      <td>2022-11-09T21:14:19.363</td>\n",
       "      <td>1153.49</td>\n",
       "      <td>1153.48</td>\n",
       "      <td>61.0482</td>\n",
       "      <td>58.8651</td>\n",
       "      <td>0.01</td>\n",
       "      <td>1153.49</td>\n",
       "    </tr>\n",
       "    <tr>\n",
       "      <th>8</th>\n",
       "      <td>binance</td>\n",
       "      <td>2022-11-09T21:14:21.979</td>\n",
       "      <td>1152.11</td>\n",
       "      <td>1151.94</td>\n",
       "      <td>55.6483</td>\n",
       "      <td>26.7995</td>\n",
       "      <td>0.17</td>\n",
       "      <td>1151.89</td>\n",
       "    </tr>\n",
       "    <tr>\n",
       "      <th>9</th>\n",
       "      <td>binance</td>\n",
       "      <td>2022-11-09T21:14:24.535</td>\n",
       "      <td>1151.97</td>\n",
       "      <td>1151.72</td>\n",
       "      <td>69.4939</td>\n",
       "      <td>38.2516</td>\n",
       "      <td>0.25</td>\n",
       "      <td>1151.89</td>\n",
       "    </tr>\n",
       "    <tr>\n",
       "      <th>10</th>\n",
       "      <td>binance</td>\n",
       "      <td>2022-11-09T21:14:27.181</td>\n",
       "      <td>1154.07</td>\n",
       "      <td>1153.29</td>\n",
       "      <td>107.7358</td>\n",
       "      <td>49.5149</td>\n",
       "      <td>0.78</td>\n",
       "      <td>1153.32</td>\n",
       "    </tr>\n",
       "    <tr>\n",
       "      <th>11</th>\n",
       "      <td>binance</td>\n",
       "      <td>2022-11-09T21:14:29.687</td>\n",
       "      <td>1153.75</td>\n",
       "      <td>1153.52</td>\n",
       "      <td>98.7997</td>\n",
       "      <td>40.1705</td>\n",
       "      <td>0.23</td>\n",
       "      <td>1154.04</td>\n",
       "    </tr>\n",
       "    <tr>\n",
       "      <th>12</th>\n",
       "      <td>binance</td>\n",
       "      <td>2022-11-09T21:14:32.164</td>\n",
       "      <td>1153.91</td>\n",
       "      <td>1153.90</td>\n",
       "      <td>96.9132</td>\n",
       "      <td>86.5323</td>\n",
       "      <td>0.01</td>\n",
       "      <td>1153.90</td>\n",
       "    </tr>\n",
       "    <tr>\n",
       "      <th>13</th>\n",
       "      <td>binance</td>\n",
       "      <td>2022-11-09T21:14:34.686</td>\n",
       "      <td>1153.69</td>\n",
       "      <td>1153.40</td>\n",
       "      <td>73.7331</td>\n",
       "      <td>51.2914</td>\n",
       "      <td>0.29</td>\n",
       "      <td>1153.39</td>\n",
       "    </tr>\n",
       "    <tr>\n",
       "      <th>14</th>\n",
       "      <td>binance</td>\n",
       "      <td>2022-11-09T21:14:37.249</td>\n",
       "      <td>1154.97</td>\n",
       "      <td>1154.96</td>\n",
       "      <td>26.8678</td>\n",
       "      <td>91.6895</td>\n",
       "      <td>0.01</td>\n",
       "      <td>1155.24</td>\n",
       "    </tr>\n",
       "    <tr>\n",
       "      <th>15</th>\n",
       "      <td>binance</td>\n",
       "      <td>2022-11-09T21:14:39.722</td>\n",
       "      <td>1155.24</td>\n",
       "      <td>1155.23</td>\n",
       "      <td>32.1864</td>\n",
       "      <td>55.3756</td>\n",
       "      <td>0.01</td>\n",
       "      <td>1154.80</td>\n",
       "    </tr>\n",
       "    <tr>\n",
       "      <th>16</th>\n",
       "      <td>binance</td>\n",
       "      <td>2022-11-09T21:14:42.689</td>\n",
       "      <td>1155.03</td>\n",
       "      <td>1155.02</td>\n",
       "      <td>23.7800</td>\n",
       "      <td>96.8500</td>\n",
       "      <td>0.01</td>\n",
       "      <td>1155.21</td>\n",
       "    </tr>\n",
       "    <tr>\n",
       "      <th>17</th>\n",
       "      <td>binance</td>\n",
       "      <td>2022-11-09T21:14:45.391</td>\n",
       "      <td>1154.51</td>\n",
       "      <td>1154.37</td>\n",
       "      <td>30.6849</td>\n",
       "      <td>40.5068</td>\n",
       "      <td>0.14</td>\n",
       "      <td>1154.37</td>\n",
       "    </tr>\n",
       "    <tr>\n",
       "      <th>18</th>\n",
       "      <td>binance</td>\n",
       "      <td>2022-11-09T21:14:47.859</td>\n",
       "      <td>1154.60</td>\n",
       "      <td>1154.59</td>\n",
       "      <td>28.5201</td>\n",
       "      <td>47.2602</td>\n",
       "      <td>0.01</td>\n",
       "      <td>1154.59</td>\n",
       "    </tr>\n",
       "    <tr>\n",
       "      <th>19</th>\n",
       "      <td>binance</td>\n",
       "      <td>2022-11-09T21:14:50.753</td>\n",
       "      <td>1154.27</td>\n",
       "      <td>1154.26</td>\n",
       "      <td>32.2499</td>\n",
       "      <td>46.6618</td>\n",
       "      <td>0.01</td>\n",
       "      <td>1154.31</td>\n",
       "    </tr>\n",
       "    <tr>\n",
       "      <th>20</th>\n",
       "      <td>ftx</td>\n",
       "      <td>2022-11-09T21:14:53.790</td>\n",
       "      <td>1208.00</td>\n",
       "      <td>1206.40</td>\n",
       "      <td>5.0600</td>\n",
       "      <td>0.5120</td>\n",
       "      <td>1.60</td>\n",
       "      <td>1207.90</td>\n",
       "    </tr>\n",
       "    <tr>\n",
       "      <th>21</th>\n",
       "      <td>ftx</td>\n",
       "      <td>2022-11-09T21:14:56.761</td>\n",
       "      <td>1208.50</td>\n",
       "      <td>1206.40</td>\n",
       "      <td>5.1580</td>\n",
       "      <td>0.5110</td>\n",
       "      <td>2.10</td>\n",
       "      <td>1208.50</td>\n",
       "    </tr>\n",
       "    <tr>\n",
       "      <th>22</th>\n",
       "      <td>ftx</td>\n",
       "      <td>2022-11-09T21:15:00.863</td>\n",
       "      <td>1208.50</td>\n",
       "      <td>1206.40</td>\n",
       "      <td>9.6850</td>\n",
       "      <td>0.5110</td>\n",
       "      <td>2.10</td>\n",
       "      <td>1208.50</td>\n",
       "    </tr>\n",
       "    <tr>\n",
       "      <th>23</th>\n",
       "      <td>ftx</td>\n",
       "      <td>2022-11-09T21:15:05.350</td>\n",
       "      <td>1208.50</td>\n",
       "      <td>1206.40</td>\n",
       "      <td>21.2600</td>\n",
       "      <td>0.4120</td>\n",
       "      <td>2.10</td>\n",
       "      <td>1208.50</td>\n",
       "    </tr>\n",
       "    <tr>\n",
       "      <th>24</th>\n",
       "      <td>ftx</td>\n",
       "      <td>2022-11-09T21:15:08.450</td>\n",
       "      <td>1208.50</td>\n",
       "      <td>1206.40</td>\n",
       "      <td>9.6860</td>\n",
       "      <td>0.4120</td>\n",
       "      <td>2.10</td>\n",
       "      <td>1207.70</td>\n",
       "    </tr>\n",
       "    <tr>\n",
       "      <th>25</th>\n",
       "      <td>ftx</td>\n",
       "      <td>2022-11-09T21:15:12.234</td>\n",
       "      <td>1209.50</td>\n",
       "      <td>1206.40</td>\n",
       "      <td>5.0580</td>\n",
       "      <td>0.4120</td>\n",
       "      <td>3.10</td>\n",
       "      <td>1209.30</td>\n",
       "    </tr>\n",
       "    <tr>\n",
       "      <th>26</th>\n",
       "      <td>ftx</td>\n",
       "      <td>2022-11-09T21:15:17.032</td>\n",
       "      <td>1209.50</td>\n",
       "      <td>1206.40</td>\n",
       "      <td>5.0580</td>\n",
       "      <td>0.4120</td>\n",
       "      <td>3.10</td>\n",
       "      <td>1206.40</td>\n",
       "    </tr>\n",
       "    <tr>\n",
       "      <th>27</th>\n",
       "      <td>ftx</td>\n",
       "      <td>2022-11-09T21:15:20.832</td>\n",
       "      <td>1208.50</td>\n",
       "      <td>1204.90</td>\n",
       "      <td>5.3910</td>\n",
       "      <td>0.5900</td>\n",
       "      <td>3.60</td>\n",
       "      <td>1204.90</td>\n",
       "    </tr>\n",
       "    <tr>\n",
       "      <th>28</th>\n",
       "      <td>ftx</td>\n",
       "      <td>2022-11-09T21:15:26.770</td>\n",
       "      <td>1207.70</td>\n",
       "      <td>1203.30</td>\n",
       "      <td>10.0970</td>\n",
       "      <td>0.3520</td>\n",
       "      <td>4.40</td>\n",
       "      <td>1203.30</td>\n",
       "    </tr>\n",
       "    <tr>\n",
       "      <th>29</th>\n",
       "      <td>ftx</td>\n",
       "      <td>2022-11-09T21:15:30.419</td>\n",
       "      <td>1203.20</td>\n",
       "      <td>1198.90</td>\n",
       "      <td>2.5260</td>\n",
       "      <td>9.7760</td>\n",
       "      <td>4.30</td>\n",
       "      <td>1198.90</td>\n",
       "    </tr>\n",
       "    <tr>\n",
       "      <th>30</th>\n",
       "      <td>ftx</td>\n",
       "      <td>2022-11-09T21:15:33.283</td>\n",
       "      <td>1203.10</td>\n",
       "      <td>1201.10</td>\n",
       "      <td>7.1570</td>\n",
       "      <td>5.1350</td>\n",
       "      <td>2.00</td>\n",
       "      <td>1202.20</td>\n",
       "    </tr>\n",
       "    <tr>\n",
       "      <th>31</th>\n",
       "      <td>ftx</td>\n",
       "      <td>2022-11-09T21:15:36.869</td>\n",
       "      <td>1203.10</td>\n",
       "      <td>1201.10</td>\n",
       "      <td>7.1570</td>\n",
       "      <td>5.2390</td>\n",
       "      <td>2.00</td>\n",
       "      <td>1202.20</td>\n",
       "    </tr>\n",
       "    <tr>\n",
       "      <th>32</th>\n",
       "      <td>ftx</td>\n",
       "      <td>2022-11-09T21:15:40.886</td>\n",
       "      <td>1203.10</td>\n",
       "      <td>1200.00</td>\n",
       "      <td>2.4320</td>\n",
       "      <td>5.2530</td>\n",
       "      <td>3.10</td>\n",
       "      <td>1200.10</td>\n",
       "    </tr>\n",
       "    <tr>\n",
       "      <th>33</th>\n",
       "      <td>ftx</td>\n",
       "      <td>2022-11-09T21:15:45.299</td>\n",
       "      <td>1205.20</td>\n",
       "      <td>1202.90</td>\n",
       "      <td>15.4340</td>\n",
       "      <td>5.2090</td>\n",
       "      <td>2.30</td>\n",
       "      <td>1205.40</td>\n",
       "    </tr>\n",
       "    <tr>\n",
       "      <th>34</th>\n",
       "      <td>ftx</td>\n",
       "      <td>2022-11-09T21:15:49.053</td>\n",
       "      <td>1205.50</td>\n",
       "      <td>1202.20</td>\n",
       "      <td>13.0770</td>\n",
       "      <td>5.2140</td>\n",
       "      <td>3.30</td>\n",
       "      <td>1202.90</td>\n",
       "    </tr>\n",
       "    <tr>\n",
       "      <th>35</th>\n",
       "      <td>ftx</td>\n",
       "      <td>2022-11-09T21:15:52.707</td>\n",
       "      <td>1204.00</td>\n",
       "      <td>1200.20</td>\n",
       "      <td>2.7580</td>\n",
       "      <td>0.8830</td>\n",
       "      <td>3.80</td>\n",
       "      <td>1203.80</td>\n",
       "    </tr>\n",
       "    <tr>\n",
       "      <th>36</th>\n",
       "      <td>ftx</td>\n",
       "      <td>2022-11-09T21:15:55.187</td>\n",
       "      <td>1204.00</td>\n",
       "      <td>1202.90</td>\n",
       "      <td>2.5540</td>\n",
       "      <td>1.1110</td>\n",
       "      <td>1.10</td>\n",
       "      <td>1200.20</td>\n",
       "    </tr>\n",
       "    <tr>\n",
       "      <th>37</th>\n",
       "      <td>ftx</td>\n",
       "      <td>2022-11-09T21:16:00.510</td>\n",
       "      <td>1202.80</td>\n",
       "      <td>1200.20</td>\n",
       "      <td>2.6800</td>\n",
       "      <td>2.8110</td>\n",
       "      <td>2.60</td>\n",
       "      <td>1202.80</td>\n",
       "    </tr>\n",
       "    <tr>\n",
       "      <th>38</th>\n",
       "      <td>ftx</td>\n",
       "      <td>2022-11-09T21:16:04.615</td>\n",
       "      <td>1202.90</td>\n",
       "      <td>1200.30</td>\n",
       "      <td>4.0930</td>\n",
       "      <td>9.8340</td>\n",
       "      <td>2.60</td>\n",
       "      <td>1202.90</td>\n",
       "    </tr>\n",
       "    <tr>\n",
       "      <th>39</th>\n",
       "      <td>ftx</td>\n",
       "      <td>2022-11-09T21:16:09.959</td>\n",
       "      <td>1199.20</td>\n",
       "      <td>1198.20</td>\n",
       "      <td>1.4940</td>\n",
       "      <td>2.8110</td>\n",
       "      <td>1.00</td>\n",
       "      <td>1199.20</td>\n",
       "    </tr>\n",
       "    <tr>\n",
       "      <th>40</th>\n",
       "      <td>bytetrade</td>\n",
       "      <td>2022-11-09T21:16:13.413</td>\n",
       "      <td>1158.69</td>\n",
       "      <td>1139.57</td>\n",
       "      <td>15.8084</td>\n",
       "      <td>61.4549</td>\n",
       "      <td>19.12</td>\n",
       "      <td>1150.21</td>\n",
       "    </tr>\n",
       "    <tr>\n",
       "      <th>41</th>\n",
       "      <td>bytetrade</td>\n",
       "      <td>2022-11-09T21:16:16.260</td>\n",
       "      <td>1158.69</td>\n",
       "      <td>1139.57</td>\n",
       "      <td>15.8084</td>\n",
       "      <td>61.4549</td>\n",
       "      <td>19.12</td>\n",
       "      <td>1149.02</td>\n",
       "    </tr>\n",
       "    <tr>\n",
       "      <th>42</th>\n",
       "      <td>bytetrade</td>\n",
       "      <td>2022-11-09T21:16:20.105</td>\n",
       "      <td>1156.44</td>\n",
       "      <td>1139.57</td>\n",
       "      <td>13.8048</td>\n",
       "      <td>161.3332</td>\n",
       "      <td>16.87</td>\n",
       "      <td>1149.02</td>\n",
       "    </tr>\n",
       "    <tr>\n",
       "      <th>43</th>\n",
       "      <td>bytetrade</td>\n",
       "      <td>2022-11-09T21:16:22.863</td>\n",
       "      <td>1156.44</td>\n",
       "      <td>1139.57</td>\n",
       "      <td>13.8048</td>\n",
       "      <td>161.3332</td>\n",
       "      <td>16.87</td>\n",
       "      <td>1148.40</td>\n",
       "    </tr>\n",
       "    <tr>\n",
       "      <th>44</th>\n",
       "      <td>bytetrade</td>\n",
       "      <td>2022-11-09T21:16:25.824</td>\n",
       "      <td>1151.75</td>\n",
       "      <td>1136.50</td>\n",
       "      <td>14.0974</td>\n",
       "      <td>161.4200</td>\n",
       "      <td>15.25</td>\n",
       "      <td>1144.58</td>\n",
       "    </tr>\n",
       "    <tr>\n",
       "      <th>45</th>\n",
       "      <td>bytetrade</td>\n",
       "      <td>2022-11-09T21:16:28.718</td>\n",
       "      <td>1151.75</td>\n",
       "      <td>1136.50</td>\n",
       "      <td>14.0974</td>\n",
       "      <td>161.4200</td>\n",
       "      <td>15.25</td>\n",
       "      <td>1143.05</td>\n",
       "    </tr>\n",
       "    <tr>\n",
       "      <th>46</th>\n",
       "      <td>bytetrade</td>\n",
       "      <td>2022-11-09T21:16:31.428</td>\n",
       "      <td>1151.75</td>\n",
       "      <td>1136.50</td>\n",
       "      <td>13.9908</td>\n",
       "      <td>61.4223</td>\n",
       "      <td>15.25</td>\n",
       "      <td>1143.26</td>\n",
       "    </tr>\n",
       "    <tr>\n",
       "      <th>47</th>\n",
       "      <td>bytetrade</td>\n",
       "      <td>2022-11-09T21:16:35.053</td>\n",
       "      <td>1151.85</td>\n",
       "      <td>1136.50</td>\n",
       "      <td>13.8191</td>\n",
       "      <td>161.4200</td>\n",
       "      <td>15.35</td>\n",
       "      <td>1143.26</td>\n",
       "    </tr>\n",
       "    <tr>\n",
       "      <th>48</th>\n",
       "      <td>bytetrade</td>\n",
       "      <td>2022-11-09T21:16:37.687</td>\n",
       "      <td>1151.85</td>\n",
       "      <td>1136.50</td>\n",
       "      <td>13.8191</td>\n",
       "      <td>161.4200</td>\n",
       "      <td>15.35</td>\n",
       "      <td>1143.26</td>\n",
       "    </tr>\n",
       "    <tr>\n",
       "      <th>49</th>\n",
       "      <td>bytetrade</td>\n",
       "      <td>2022-11-09T21:16:41.229</td>\n",
       "      <td>1150.67</td>\n",
       "      <td>1131.11</td>\n",
       "      <td>13.9037</td>\n",
       "      <td>161.4181</td>\n",
       "      <td>19.56</td>\n",
       "      <td>1144.79</td>\n",
       "    </tr>\n",
       "    <tr>\n",
       "      <th>50</th>\n",
       "      <td>bytetrade</td>\n",
       "      <td>2022-11-09T21:16:44.219</td>\n",
       "      <td>1150.67</td>\n",
       "      <td>1131.11</td>\n",
       "      <td>13.9037</td>\n",
       "      <td>161.4181</td>\n",
       "      <td>19.56</td>\n",
       "      <td>1143.60</td>\n",
       "    </tr>\n",
       "    <tr>\n",
       "      <th>51</th>\n",
       "      <td>bytetrade</td>\n",
       "      <td>2022-11-09T21:16:47.235</td>\n",
       "      <td>1150.67</td>\n",
       "      <td>1128.50</td>\n",
       "      <td>13.9037</td>\n",
       "      <td>161.3821</td>\n",
       "      <td>22.17</td>\n",
       "      <td>1140.38</td>\n",
       "    </tr>\n",
       "    <tr>\n",
       "      <th>52</th>\n",
       "      <td>bytetrade</td>\n",
       "      <td>2022-11-09T21:16:50.032</td>\n",
       "      <td>1150.67</td>\n",
       "      <td>1128.50</td>\n",
       "      <td>13.9037</td>\n",
       "      <td>161.3821</td>\n",
       "      <td>22.17</td>\n",
       "      <td>1140.38</td>\n",
       "    </tr>\n",
       "    <tr>\n",
       "      <th>53</th>\n",
       "      <td>bytetrade</td>\n",
       "      <td>2022-11-09T21:16:52.851</td>\n",
       "      <td>1150.67</td>\n",
       "      <td>1132.49</td>\n",
       "      <td>13.9037</td>\n",
       "      <td>161.3932</td>\n",
       "      <td>18.18</td>\n",
       "      <td>1139.40</td>\n",
       "    </tr>\n",
       "    <tr>\n",
       "      <th>54</th>\n",
       "      <td>bytetrade</td>\n",
       "      <td>2022-11-09T21:16:55.371</td>\n",
       "      <td>1150.67</td>\n",
       "      <td>1132.49</td>\n",
       "      <td>13.9037</td>\n",
       "      <td>161.3932</td>\n",
       "      <td>18.18</td>\n",
       "      <td>1139.40</td>\n",
       "    </tr>\n",
       "    <tr>\n",
       "      <th>55</th>\n",
       "      <td>bytetrade</td>\n",
       "      <td>2022-11-09T21:16:58.242</td>\n",
       "      <td>1150.67</td>\n",
       "      <td>1132.49</td>\n",
       "      <td>13.9037</td>\n",
       "      <td>161.4075</td>\n",
       "      <td>18.18</td>\n",
       "      <td>1141.54</td>\n",
       "    </tr>\n",
       "    <tr>\n",
       "      <th>56</th>\n",
       "      <td>bytetrade</td>\n",
       "      <td>2022-11-09T21:17:01.133</td>\n",
       "      <td>1150.67</td>\n",
       "      <td>1132.49</td>\n",
       "      <td>13.9037</td>\n",
       "      <td>161.4075</td>\n",
       "      <td>18.18</td>\n",
       "      <td>1141.55</td>\n",
       "    </tr>\n",
       "    <tr>\n",
       "      <th>57</th>\n",
       "      <td>bytetrade</td>\n",
       "      <td>2022-11-09T21:17:03.978</td>\n",
       "      <td>1150.67</td>\n",
       "      <td>1132.03</td>\n",
       "      <td>13.9037</td>\n",
       "      <td>161.4070</td>\n",
       "      <td>18.64</td>\n",
       "      <td>1141.55</td>\n",
       "    </tr>\n",
       "    <tr>\n",
       "      <th>58</th>\n",
       "      <td>bytetrade</td>\n",
       "      <td>2022-11-09T21:17:06.716</td>\n",
       "      <td>1150.67</td>\n",
       "      <td>1132.03</td>\n",
       "      <td>13.9037</td>\n",
       "      <td>161.4070</td>\n",
       "      <td>18.64</td>\n",
       "      <td>1141.79</td>\n",
       "    </tr>\n",
       "    <tr>\n",
       "      <th>59</th>\n",
       "      <td>bytetrade</td>\n",
       "      <td>2022-11-09T21:17:10.381</td>\n",
       "      <td>1150.67</td>\n",
       "      <td>1132.03</td>\n",
       "      <td>13.9037</td>\n",
       "      <td>161.3927</td>\n",
       "      <td>18.64</td>\n",
       "      <td>1141.66</td>\n",
       "    </tr>\n",
       "  </tbody>\n",
       "</table>\n",
       "</div>"
      ],
      "text/plain": [
       "     exchange                timestamp      ask      bid  ask_volume  \\\n",
       "0     binance  2022-11-09T21:14:00.755  1153.76  1153.75     33.8743   \n",
       "1     binance  2022-11-09T21:14:03.422  1155.40  1155.39     46.4509   \n",
       "2     binance  2022-11-09T21:14:06.016  1153.90  1153.60     37.2692   \n",
       "3     binance  2022-11-09T21:14:08.639  1154.36  1154.35     43.2427   \n",
       "4     binance  2022-11-09T21:14:11.166  1154.32  1154.15    114.6540   \n",
       "5     binance  2022-11-09T21:14:13.687  1153.44  1153.43    106.1127   \n",
       "6     binance  2022-11-09T21:14:16.324  1153.58  1153.57     29.5727   \n",
       "7     binance  2022-11-09T21:14:19.363  1153.49  1153.48     61.0482   \n",
       "8     binance  2022-11-09T21:14:21.979  1152.11  1151.94     55.6483   \n",
       "9     binance  2022-11-09T21:14:24.535  1151.97  1151.72     69.4939   \n",
       "10    binance  2022-11-09T21:14:27.181  1154.07  1153.29    107.7358   \n",
       "11    binance  2022-11-09T21:14:29.687  1153.75  1153.52     98.7997   \n",
       "12    binance  2022-11-09T21:14:32.164  1153.91  1153.90     96.9132   \n",
       "13    binance  2022-11-09T21:14:34.686  1153.69  1153.40     73.7331   \n",
       "14    binance  2022-11-09T21:14:37.249  1154.97  1154.96     26.8678   \n",
       "15    binance  2022-11-09T21:14:39.722  1155.24  1155.23     32.1864   \n",
       "16    binance  2022-11-09T21:14:42.689  1155.03  1155.02     23.7800   \n",
       "17    binance  2022-11-09T21:14:45.391  1154.51  1154.37     30.6849   \n",
       "18    binance  2022-11-09T21:14:47.859  1154.60  1154.59     28.5201   \n",
       "19    binance  2022-11-09T21:14:50.753  1154.27  1154.26     32.2499   \n",
       "20        ftx  2022-11-09T21:14:53.790  1208.00  1206.40      5.0600   \n",
       "21        ftx  2022-11-09T21:14:56.761  1208.50  1206.40      5.1580   \n",
       "22        ftx  2022-11-09T21:15:00.863  1208.50  1206.40      9.6850   \n",
       "23        ftx  2022-11-09T21:15:05.350  1208.50  1206.40     21.2600   \n",
       "24        ftx  2022-11-09T21:15:08.450  1208.50  1206.40      9.6860   \n",
       "25        ftx  2022-11-09T21:15:12.234  1209.50  1206.40      5.0580   \n",
       "26        ftx  2022-11-09T21:15:17.032  1209.50  1206.40      5.0580   \n",
       "27        ftx  2022-11-09T21:15:20.832  1208.50  1204.90      5.3910   \n",
       "28        ftx  2022-11-09T21:15:26.770  1207.70  1203.30     10.0970   \n",
       "29        ftx  2022-11-09T21:15:30.419  1203.20  1198.90      2.5260   \n",
       "30        ftx  2022-11-09T21:15:33.283  1203.10  1201.10      7.1570   \n",
       "31        ftx  2022-11-09T21:15:36.869  1203.10  1201.10      7.1570   \n",
       "32        ftx  2022-11-09T21:15:40.886  1203.10  1200.00      2.4320   \n",
       "33        ftx  2022-11-09T21:15:45.299  1205.20  1202.90     15.4340   \n",
       "34        ftx  2022-11-09T21:15:49.053  1205.50  1202.20     13.0770   \n",
       "35        ftx  2022-11-09T21:15:52.707  1204.00  1200.20      2.7580   \n",
       "36        ftx  2022-11-09T21:15:55.187  1204.00  1202.90      2.5540   \n",
       "37        ftx  2022-11-09T21:16:00.510  1202.80  1200.20      2.6800   \n",
       "38        ftx  2022-11-09T21:16:04.615  1202.90  1200.30      4.0930   \n",
       "39        ftx  2022-11-09T21:16:09.959  1199.20  1198.20      1.4940   \n",
       "40  bytetrade  2022-11-09T21:16:13.413  1158.69  1139.57     15.8084   \n",
       "41  bytetrade  2022-11-09T21:16:16.260  1158.69  1139.57     15.8084   \n",
       "42  bytetrade  2022-11-09T21:16:20.105  1156.44  1139.57     13.8048   \n",
       "43  bytetrade  2022-11-09T21:16:22.863  1156.44  1139.57     13.8048   \n",
       "44  bytetrade  2022-11-09T21:16:25.824  1151.75  1136.50     14.0974   \n",
       "45  bytetrade  2022-11-09T21:16:28.718  1151.75  1136.50     14.0974   \n",
       "46  bytetrade  2022-11-09T21:16:31.428  1151.75  1136.50     13.9908   \n",
       "47  bytetrade  2022-11-09T21:16:35.053  1151.85  1136.50     13.8191   \n",
       "48  bytetrade  2022-11-09T21:16:37.687  1151.85  1136.50     13.8191   \n",
       "49  bytetrade  2022-11-09T21:16:41.229  1150.67  1131.11     13.9037   \n",
       "50  bytetrade  2022-11-09T21:16:44.219  1150.67  1131.11     13.9037   \n",
       "51  bytetrade  2022-11-09T21:16:47.235  1150.67  1128.50     13.9037   \n",
       "52  bytetrade  2022-11-09T21:16:50.032  1150.67  1128.50     13.9037   \n",
       "53  bytetrade  2022-11-09T21:16:52.851  1150.67  1132.49     13.9037   \n",
       "54  bytetrade  2022-11-09T21:16:55.371  1150.67  1132.49     13.9037   \n",
       "55  bytetrade  2022-11-09T21:16:58.242  1150.67  1132.49     13.9037   \n",
       "56  bytetrade  2022-11-09T21:17:01.133  1150.67  1132.49     13.9037   \n",
       "57  bytetrade  2022-11-09T21:17:03.978  1150.67  1132.03     13.9037   \n",
       "58  bytetrade  2022-11-09T21:17:06.716  1150.67  1132.03     13.9037   \n",
       "59  bytetrade  2022-11-09T21:17:10.381  1150.67  1132.03     13.9037   \n",
       "\n",
       "    bid_volume  spread  close_price  \n",
       "0      59.8397    0.01      1153.76  \n",
       "1      32.4389    0.01      1155.10  \n",
       "2     135.7212    0.30      1153.60  \n",
       "3      31.7348    0.01      1154.22  \n",
       "4      65.0012    0.17      1154.29  \n",
       "5      64.5498    0.01      1153.58  \n",
       "6      54.9679    0.01      1153.58  \n",
       "7      58.8651    0.01      1153.49  \n",
       "8      26.7995    0.17      1151.89  \n",
       "9      38.2516    0.25      1151.89  \n",
       "10     49.5149    0.78      1153.32  \n",
       "11     40.1705    0.23      1154.04  \n",
       "12     86.5323    0.01      1153.90  \n",
       "13     51.2914    0.29      1153.39  \n",
       "14     91.6895    0.01      1155.24  \n",
       "15     55.3756    0.01      1154.80  \n",
       "16     96.8500    0.01      1155.21  \n",
       "17     40.5068    0.14      1154.37  \n",
       "18     47.2602    0.01      1154.59  \n",
       "19     46.6618    0.01      1154.31  \n",
       "20      0.5120    1.60      1207.90  \n",
       "21      0.5110    2.10      1208.50  \n",
       "22      0.5110    2.10      1208.50  \n",
       "23      0.4120    2.10      1208.50  \n",
       "24      0.4120    2.10      1207.70  \n",
       "25      0.4120    3.10      1209.30  \n",
       "26      0.4120    3.10      1206.40  \n",
       "27      0.5900    3.60      1204.90  \n",
       "28      0.3520    4.40      1203.30  \n",
       "29      9.7760    4.30      1198.90  \n",
       "30      5.1350    2.00      1202.20  \n",
       "31      5.2390    2.00      1202.20  \n",
       "32      5.2530    3.10      1200.10  \n",
       "33      5.2090    2.30      1205.40  \n",
       "34      5.2140    3.30      1202.90  \n",
       "35      0.8830    3.80      1203.80  \n",
       "36      1.1110    1.10      1200.20  \n",
       "37      2.8110    2.60      1202.80  \n",
       "38      9.8340    2.60      1202.90  \n",
       "39      2.8110    1.00      1199.20  \n",
       "40     61.4549   19.12      1150.21  \n",
       "41     61.4549   19.12      1149.02  \n",
       "42    161.3332   16.87      1149.02  \n",
       "43    161.3332   16.87      1148.40  \n",
       "44    161.4200   15.25      1144.58  \n",
       "45    161.4200   15.25      1143.05  \n",
       "46     61.4223   15.25      1143.26  \n",
       "47    161.4200   15.35      1143.26  \n",
       "48    161.4200   15.35      1143.26  \n",
       "49    161.4181   19.56      1144.79  \n",
       "50    161.4181   19.56      1143.60  \n",
       "51    161.3821   22.17      1140.38  \n",
       "52    161.3821   22.17      1140.38  \n",
       "53    161.3932   18.18      1139.40  \n",
       "54    161.3932   18.18      1139.40  \n",
       "55    161.4075   18.18      1141.54  \n",
       "56    161.4075   18.18      1141.55  \n",
       "57    161.4070   18.64      1141.55  \n",
       "58    161.4070   18.64      1141.79  \n",
       "59    161.3927   18.64      1141.66  "
      ]
     },
     "execution_count": 35,
     "metadata": {},
     "output_type": "execute_result"
    }
   ],
   "source": [
    "verif_df2 = fn.concatenate(verif_0_E[0], verif_1_E[0], verif_2_E[0], n)\n",
    "verif_df2"
   ]
  },
  {
   "cell_type": "markdown",
   "metadata": {},
   "source": [
    "<font color= lightblue> <font size = 2> OHLCV ETH </font>"
   ]
  },
  {
   "cell_type": "code",
   "execution_count": 36,
   "metadata": {},
   "outputs": [
    {
     "data": {
      "text/html": [
       "<div>\n",
       "<style scoped>\n",
       "    .dataframe tbody tr th:only-of-type {\n",
       "        vertical-align: middle;\n",
       "    }\n",
       "\n",
       "    .dataframe tbody tr th {\n",
       "        vertical-align: top;\n",
       "    }\n",
       "\n",
       "    .dataframe thead th {\n",
       "        text-align: right;\n",
       "    }\n",
       "</style>\n",
       "<table border=\"1\" class=\"dataframe\">\n",
       "  <thead>\n",
       "    <tr style=\"text-align: right;\">\n",
       "      <th></th>\n",
       "      <th>exchange</th>\n",
       "      <th>timestamp</th>\n",
       "      <th>open</th>\n",
       "      <th>high</th>\n",
       "      <th>low</th>\n",
       "      <th>close</th>\n",
       "      <th>volume</th>\n",
       "    </tr>\n",
       "  </thead>\n",
       "  <tbody>\n",
       "    <tr>\n",
       "      <th>0</th>\n",
       "      <td>binance</td>\n",
       "      <td>2022-11-09T21:14:00.755</td>\n",
       "      <td>1148.57</td>\n",
       "      <td>1157.91</td>\n",
       "      <td>1147.49</td>\n",
       "      <td>1153.76</td>\n",
       "      <td>1841.2213</td>\n",
       "    </tr>\n",
       "    <tr>\n",
       "      <th>1</th>\n",
       "      <td>binance</td>\n",
       "      <td>2022-11-09T21:14:03.422</td>\n",
       "      <td>1155.11</td>\n",
       "      <td>1155.75</td>\n",
       "      <td>1154.37</td>\n",
       "      <td>1155.10</td>\n",
       "      <td>9.5498</td>\n",
       "    </tr>\n",
       "    <tr>\n",
       "      <th>2</th>\n",
       "      <td>binance</td>\n",
       "      <td>2022-11-09T21:14:06.016</td>\n",
       "      <td>1155.11</td>\n",
       "      <td>1155.75</td>\n",
       "      <td>1151.61</td>\n",
       "      <td>1153.60</td>\n",
       "      <td>213.4811</td>\n",
       "    </tr>\n",
       "    <tr>\n",
       "      <th>3</th>\n",
       "      <td>binance</td>\n",
       "      <td>2022-11-09T21:14:08.639</td>\n",
       "      <td>1155.11</td>\n",
       "      <td>1155.75</td>\n",
       "      <td>1151.61</td>\n",
       "      <td>1154.22</td>\n",
       "      <td>226.8846</td>\n",
       "    </tr>\n",
       "    <tr>\n",
       "      <th>4</th>\n",
       "      <td>binance</td>\n",
       "      <td>2022-11-09T21:14:11.166</td>\n",
       "      <td>1155.11</td>\n",
       "      <td>1155.75</td>\n",
       "      <td>1151.61</td>\n",
       "      <td>1154.29</td>\n",
       "      <td>235.7805</td>\n",
       "    </tr>\n",
       "    <tr>\n",
       "      <th>5</th>\n",
       "      <td>binance</td>\n",
       "      <td>2022-11-09T21:14:13.687</td>\n",
       "      <td>1155.11</td>\n",
       "      <td>1155.75</td>\n",
       "      <td>1151.61</td>\n",
       "      <td>1153.58</td>\n",
       "      <td>251.8282</td>\n",
       "    </tr>\n",
       "    <tr>\n",
       "      <th>6</th>\n",
       "      <td>binance</td>\n",
       "      <td>2022-11-09T21:14:16.324</td>\n",
       "      <td>1155.11</td>\n",
       "      <td>1155.75</td>\n",
       "      <td>1151.61</td>\n",
       "      <td>1153.58</td>\n",
       "      <td>325.9377</td>\n",
       "    </tr>\n",
       "    <tr>\n",
       "      <th>7</th>\n",
       "      <td>binance</td>\n",
       "      <td>2022-11-09T21:14:19.363</td>\n",
       "      <td>1155.11</td>\n",
       "      <td>1155.75</td>\n",
       "      <td>1151.61</td>\n",
       "      <td>1153.49</td>\n",
       "      <td>343.8879</td>\n",
       "    </tr>\n",
       "    <tr>\n",
       "      <th>8</th>\n",
       "      <td>binance</td>\n",
       "      <td>2022-11-09T21:14:21.979</td>\n",
       "      <td>1155.11</td>\n",
       "      <td>1155.75</td>\n",
       "      <td>1151.61</td>\n",
       "      <td>1151.89</td>\n",
       "      <td>391.6930</td>\n",
       "    </tr>\n",
       "    <tr>\n",
       "      <th>9</th>\n",
       "      <td>binance</td>\n",
       "      <td>2022-11-09T21:14:24.535</td>\n",
       "      <td>1155.11</td>\n",
       "      <td>1155.75</td>\n",
       "      <td>1151.50</td>\n",
       "      <td>1151.89</td>\n",
       "      <td>429.3198</td>\n",
       "    </tr>\n",
       "    <tr>\n",
       "      <th>10</th>\n",
       "      <td>binance</td>\n",
       "      <td>2022-11-09T21:14:27.181</td>\n",
       "      <td>1155.11</td>\n",
       "      <td>1155.75</td>\n",
       "      <td>1151.50</td>\n",
       "      <td>1153.32</td>\n",
       "      <td>629.9072</td>\n",
       "    </tr>\n",
       "    <tr>\n",
       "      <th>11</th>\n",
       "      <td>binance</td>\n",
       "      <td>2022-11-09T21:14:29.687</td>\n",
       "      <td>1155.11</td>\n",
       "      <td>1155.75</td>\n",
       "      <td>1151.50</td>\n",
       "      <td>1154.04</td>\n",
       "      <td>648.1265</td>\n",
       "    </tr>\n",
       "    <tr>\n",
       "      <th>12</th>\n",
       "      <td>binance</td>\n",
       "      <td>2022-11-09T21:14:32.164</td>\n",
       "      <td>1155.11</td>\n",
       "      <td>1155.75</td>\n",
       "      <td>1151.50</td>\n",
       "      <td>1153.90</td>\n",
       "      <td>660.2530</td>\n",
       "    </tr>\n",
       "    <tr>\n",
       "      <th>13</th>\n",
       "      <td>binance</td>\n",
       "      <td>2022-11-09T21:14:34.686</td>\n",
       "      <td>1155.11</td>\n",
       "      <td>1155.75</td>\n",
       "      <td>1151.50</td>\n",
       "      <td>1153.39</td>\n",
       "      <td>679.1303</td>\n",
       "    </tr>\n",
       "    <tr>\n",
       "      <th>14</th>\n",
       "      <td>binance</td>\n",
       "      <td>2022-11-09T21:14:37.249</td>\n",
       "      <td>1155.11</td>\n",
       "      <td>1155.75</td>\n",
       "      <td>1151.50</td>\n",
       "      <td>1155.24</td>\n",
       "      <td>771.4870</td>\n",
       "    </tr>\n",
       "    <tr>\n",
       "      <th>15</th>\n",
       "      <td>binance</td>\n",
       "      <td>2022-11-09T21:14:39.722</td>\n",
       "      <td>1155.11</td>\n",
       "      <td>1155.75</td>\n",
       "      <td>1151.50</td>\n",
       "      <td>1154.80</td>\n",
       "      <td>791.3709</td>\n",
       "    </tr>\n",
       "    <tr>\n",
       "      <th>16</th>\n",
       "      <td>binance</td>\n",
       "      <td>2022-11-09T21:14:42.689</td>\n",
       "      <td>1155.11</td>\n",
       "      <td>1155.75</td>\n",
       "      <td>1151.50</td>\n",
       "      <td>1155.21</td>\n",
       "      <td>819.1369</td>\n",
       "    </tr>\n",
       "    <tr>\n",
       "      <th>17</th>\n",
       "      <td>binance</td>\n",
       "      <td>2022-11-09T21:14:45.391</td>\n",
       "      <td>1155.11</td>\n",
       "      <td>1155.75</td>\n",
       "      <td>1151.50</td>\n",
       "      <td>1154.37</td>\n",
       "      <td>836.5794</td>\n",
       "    </tr>\n",
       "    <tr>\n",
       "      <th>18</th>\n",
       "      <td>binance</td>\n",
       "      <td>2022-11-09T21:14:47.859</td>\n",
       "      <td>1155.11</td>\n",
       "      <td>1155.75</td>\n",
       "      <td>1151.50</td>\n",
       "      <td>1154.59</td>\n",
       "      <td>841.4500</td>\n",
       "    </tr>\n",
       "    <tr>\n",
       "      <th>19</th>\n",
       "      <td>binance</td>\n",
       "      <td>2022-11-09T21:14:50.753</td>\n",
       "      <td>1155.11</td>\n",
       "      <td>1155.75</td>\n",
       "      <td>1151.50</td>\n",
       "      <td>1154.31</td>\n",
       "      <td>853.9241</td>\n",
       "    </tr>\n",
       "    <tr>\n",
       "      <th>20</th>\n",
       "      <td>ftx</td>\n",
       "      <td>2022-11-09T21:14:53.790</td>\n",
       "      <td>1210.60</td>\n",
       "      <td>1213.00</td>\n",
       "      <td>1204.90</td>\n",
       "      <td>1207.90</td>\n",
       "      <td>13082.3863</td>\n",
       "    </tr>\n",
       "    <tr>\n",
       "      <th>21</th>\n",
       "      <td>ftx</td>\n",
       "      <td>2022-11-09T21:14:56.761</td>\n",
       "      <td>1210.60</td>\n",
       "      <td>1213.00</td>\n",
       "      <td>1204.90</td>\n",
       "      <td>1208.50</td>\n",
       "      <td>13082.3863</td>\n",
       "    </tr>\n",
       "    <tr>\n",
       "      <th>22</th>\n",
       "      <td>ftx</td>\n",
       "      <td>2022-11-09T21:15:00.863</td>\n",
       "      <td>1210.60</td>\n",
       "      <td>1213.00</td>\n",
       "      <td>1204.90</td>\n",
       "      <td>1208.50</td>\n",
       "      <td>13082.3863</td>\n",
       "    </tr>\n",
       "    <tr>\n",
       "      <th>23</th>\n",
       "      <td>ftx</td>\n",
       "      <td>2022-11-09T21:15:05.350</td>\n",
       "      <td>1208.50</td>\n",
       "      <td>1208.50</td>\n",
       "      <td>1208.50</td>\n",
       "      <td>1208.50</td>\n",
       "      <td>0.0000</td>\n",
       "    </tr>\n",
       "    <tr>\n",
       "      <th>24</th>\n",
       "      <td>ftx</td>\n",
       "      <td>2022-11-09T21:15:08.450</td>\n",
       "      <td>1208.50</td>\n",
       "      <td>1208.50</td>\n",
       "      <td>1207.70</td>\n",
       "      <td>1207.70</td>\n",
       "      <td>12.0770</td>\n",
       "    </tr>\n",
       "    <tr>\n",
       "      <th>25</th>\n",
       "      <td>ftx</td>\n",
       "      <td>2022-11-09T21:15:12.234</td>\n",
       "      <td>1208.50</td>\n",
       "      <td>1209.30</td>\n",
       "      <td>1207.70</td>\n",
       "      <td>1209.30</td>\n",
       "      <td>15.7033</td>\n",
       "    </tr>\n",
       "    <tr>\n",
       "      <th>26</th>\n",
       "      <td>ftx</td>\n",
       "      <td>2022-11-09T21:15:17.032</td>\n",
       "      <td>1208.50</td>\n",
       "      <td>1209.30</td>\n",
       "      <td>1206.40</td>\n",
       "      <td>1206.40</td>\n",
       "      <td>19.3225</td>\n",
       "    </tr>\n",
       "    <tr>\n",
       "      <th>27</th>\n",
       "      <td>ftx</td>\n",
       "      <td>2022-11-09T21:15:20.832</td>\n",
       "      <td>1208.50</td>\n",
       "      <td>1209.30</td>\n",
       "      <td>1204.90</td>\n",
       "      <td>1204.90</td>\n",
       "      <td>26.5544</td>\n",
       "    </tr>\n",
       "    <tr>\n",
       "      <th>28</th>\n",
       "      <td>ftx</td>\n",
       "      <td>2022-11-09T21:15:26.770</td>\n",
       "      <td>1208.50</td>\n",
       "      <td>1209.30</td>\n",
       "      <td>1202.90</td>\n",
       "      <td>1203.30</td>\n",
       "      <td>289.1713</td>\n",
       "    </tr>\n",
       "    <tr>\n",
       "      <th>29</th>\n",
       "      <td>ftx</td>\n",
       "      <td>2022-11-09T21:15:30.419</td>\n",
       "      <td>1208.50</td>\n",
       "      <td>1209.30</td>\n",
       "      <td>1198.70</td>\n",
       "      <td>1198.90</td>\n",
       "      <td>721.6393</td>\n",
       "    </tr>\n",
       "    <tr>\n",
       "      <th>30</th>\n",
       "      <td>ftx</td>\n",
       "      <td>2022-11-09T21:15:33.283</td>\n",
       "      <td>1208.50</td>\n",
       "      <td>1209.30</td>\n",
       "      <td>1198.70</td>\n",
       "      <td>1202.20</td>\n",
       "      <td>727.6502</td>\n",
       "    </tr>\n",
       "    <tr>\n",
       "      <th>31</th>\n",
       "      <td>ftx</td>\n",
       "      <td>2022-11-09T21:15:36.869</td>\n",
       "      <td>1208.50</td>\n",
       "      <td>1209.30</td>\n",
       "      <td>1198.70</td>\n",
       "      <td>1202.20</td>\n",
       "      <td>728.8513</td>\n",
       "    </tr>\n",
       "    <tr>\n",
       "      <th>32</th>\n",
       "      <td>ftx</td>\n",
       "      <td>2022-11-09T21:15:40.886</td>\n",
       "      <td>1208.50</td>\n",
       "      <td>1209.30</td>\n",
       "      <td>1198.70</td>\n",
       "      <td>1200.10</td>\n",
       "      <td>1260.6185</td>\n",
       "    </tr>\n",
       "    <tr>\n",
       "      <th>33</th>\n",
       "      <td>ftx</td>\n",
       "      <td>2022-11-09T21:15:45.299</td>\n",
       "      <td>1208.50</td>\n",
       "      <td>1209.30</td>\n",
       "      <td>1198.70</td>\n",
       "      <td>1205.40</td>\n",
       "      <td>6850.7645</td>\n",
       "    </tr>\n",
       "    <tr>\n",
       "      <th>34</th>\n",
       "      <td>ftx</td>\n",
       "      <td>2022-11-09T21:15:49.053</td>\n",
       "      <td>1208.50</td>\n",
       "      <td>1209.30</td>\n",
       "      <td>1198.70</td>\n",
       "      <td>1202.90</td>\n",
       "      <td>6854.3736</td>\n",
       "    </tr>\n",
       "    <tr>\n",
       "      <th>35</th>\n",
       "      <td>ftx</td>\n",
       "      <td>2022-11-09T21:15:52.707</td>\n",
       "      <td>1208.50</td>\n",
       "      <td>1209.30</td>\n",
       "      <td>1198.70</td>\n",
       "      <td>1203.80</td>\n",
       "      <td>11634.4375</td>\n",
       "    </tr>\n",
       "    <tr>\n",
       "      <th>36</th>\n",
       "      <td>ftx</td>\n",
       "      <td>2022-11-09T21:15:55.187</td>\n",
       "      <td>1208.50</td>\n",
       "      <td>1209.30</td>\n",
       "      <td>1198.20</td>\n",
       "      <td>1200.20</td>\n",
       "      <td>12879.2077</td>\n",
       "    </tr>\n",
       "    <tr>\n",
       "      <th>37</th>\n",
       "      <td>ftx</td>\n",
       "      <td>2022-11-09T21:16:00.510</td>\n",
       "      <td>1208.50</td>\n",
       "      <td>1209.30</td>\n",
       "      <td>1198.20</td>\n",
       "      <td>1202.80</td>\n",
       "      <td>15326.2681</td>\n",
       "    </tr>\n",
       "    <tr>\n",
       "      <th>38</th>\n",
       "      <td>ftx</td>\n",
       "      <td>2022-11-09T21:16:04.615</td>\n",
       "      <td>1202.80</td>\n",
       "      <td>1202.90</td>\n",
       "      <td>1198.20</td>\n",
       "      <td>1202.90</td>\n",
       "      <td>4071.1198</td>\n",
       "    </tr>\n",
       "    <tr>\n",
       "      <th>39</th>\n",
       "      <td>ftx</td>\n",
       "      <td>2022-11-09T21:16:09.959</td>\n",
       "      <td>1202.80</td>\n",
       "      <td>1202.90</td>\n",
       "      <td>1194.00</td>\n",
       "      <td>1199.20</td>\n",
       "      <td>7350.0178</td>\n",
       "    </tr>\n",
       "    <tr>\n",
       "      <th>40</th>\n",
       "      <td>bytetrade</td>\n",
       "      <td>2022-11-09T21:16:13.413</td>\n",
       "      <td>1148.92</td>\n",
       "      <td>1150.21</td>\n",
       "      <td>1148.92</td>\n",
       "      <td>1150.21</td>\n",
       "      <td>0.0363</td>\n",
       "    </tr>\n",
       "    <tr>\n",
       "      <th>41</th>\n",
       "      <td>bytetrade</td>\n",
       "      <td>2022-11-09T21:16:16.260</td>\n",
       "      <td>1148.92</td>\n",
       "      <td>1150.21</td>\n",
       "      <td>1148.92</td>\n",
       "      <td>1149.02</td>\n",
       "      <td>0.0438</td>\n",
       "    </tr>\n",
       "    <tr>\n",
       "      <th>42</th>\n",
       "      <td>bytetrade</td>\n",
       "      <td>2022-11-09T21:16:20.105</td>\n",
       "      <td>1148.92</td>\n",
       "      <td>1150.21</td>\n",
       "      <td>1148.92</td>\n",
       "      <td>1149.02</td>\n",
       "      <td>0.0438</td>\n",
       "    </tr>\n",
       "    <tr>\n",
       "      <th>43</th>\n",
       "      <td>bytetrade</td>\n",
       "      <td>2022-11-09T21:16:22.863</td>\n",
       "      <td>1148.92</td>\n",
       "      <td>1150.21</td>\n",
       "      <td>1148.40</td>\n",
       "      <td>1148.40</td>\n",
       "      <td>0.0555</td>\n",
       "    </tr>\n",
       "    <tr>\n",
       "      <th>44</th>\n",
       "      <td>bytetrade</td>\n",
       "      <td>2022-11-09T21:16:25.824</td>\n",
       "      <td>1148.92</td>\n",
       "      <td>1150.21</td>\n",
       "      <td>1144.58</td>\n",
       "      <td>1144.58</td>\n",
       "      <td>0.0608</td>\n",
       "    </tr>\n",
       "    <tr>\n",
       "      <th>45</th>\n",
       "      <td>bytetrade</td>\n",
       "      <td>2022-11-09T21:16:28.718</td>\n",
       "      <td>1148.92</td>\n",
       "      <td>1150.21</td>\n",
       "      <td>1143.05</td>\n",
       "      <td>1143.05</td>\n",
       "      <td>0.0933</td>\n",
       "    </tr>\n",
       "    <tr>\n",
       "      <th>46</th>\n",
       "      <td>bytetrade</td>\n",
       "      <td>2022-11-09T21:16:31.428</td>\n",
       "      <td>1148.92</td>\n",
       "      <td>1150.21</td>\n",
       "      <td>1143.05</td>\n",
       "      <td>1143.26</td>\n",
       "      <td>0.1130</td>\n",
       "    </tr>\n",
       "    <tr>\n",
       "      <th>47</th>\n",
       "      <td>bytetrade</td>\n",
       "      <td>2022-11-09T21:16:35.053</td>\n",
       "      <td>1148.92</td>\n",
       "      <td>1150.21</td>\n",
       "      <td>1143.05</td>\n",
       "      <td>1143.26</td>\n",
       "      <td>0.1130</td>\n",
       "    </tr>\n",
       "    <tr>\n",
       "      <th>48</th>\n",
       "      <td>bytetrade</td>\n",
       "      <td>2022-11-09T21:16:37.687</td>\n",
       "      <td>1148.92</td>\n",
       "      <td>1150.21</td>\n",
       "      <td>1143.05</td>\n",
       "      <td>1143.26</td>\n",
       "      <td>0.1130</td>\n",
       "    </tr>\n",
       "    <tr>\n",
       "      <th>49</th>\n",
       "      <td>bytetrade</td>\n",
       "      <td>2022-11-09T21:16:41.229</td>\n",
       "      <td>1148.92</td>\n",
       "      <td>1150.21</td>\n",
       "      <td>1143.05</td>\n",
       "      <td>1144.79</td>\n",
       "      <td>0.1309</td>\n",
       "    </tr>\n",
       "    <tr>\n",
       "      <th>50</th>\n",
       "      <td>bytetrade</td>\n",
       "      <td>2022-11-09T21:16:44.219</td>\n",
       "      <td>1148.92</td>\n",
       "      <td>1150.21</td>\n",
       "      <td>1143.05</td>\n",
       "      <td>1143.60</td>\n",
       "      <td>0.1386</td>\n",
       "    </tr>\n",
       "    <tr>\n",
       "      <th>51</th>\n",
       "      <td>bytetrade</td>\n",
       "      <td>2022-11-09T21:16:47.235</td>\n",
       "      <td>1148.92</td>\n",
       "      <td>1150.21</td>\n",
       "      <td>1140.38</td>\n",
       "      <td>1140.38</td>\n",
       "      <td>0.1647</td>\n",
       "    </tr>\n",
       "    <tr>\n",
       "      <th>52</th>\n",
       "      <td>bytetrade</td>\n",
       "      <td>2022-11-09T21:16:50.032</td>\n",
       "      <td>1148.92</td>\n",
       "      <td>1150.21</td>\n",
       "      <td>1140.38</td>\n",
       "      <td>1140.38</td>\n",
       "      <td>0.1647</td>\n",
       "    </tr>\n",
       "    <tr>\n",
       "      <th>53</th>\n",
       "      <td>bytetrade</td>\n",
       "      <td>2022-11-09T21:16:52.851</td>\n",
       "      <td>1148.92</td>\n",
       "      <td>1150.21</td>\n",
       "      <td>1139.40</td>\n",
       "      <td>1139.40</td>\n",
       "      <td>0.1672</td>\n",
       "    </tr>\n",
       "    <tr>\n",
       "      <th>54</th>\n",
       "      <td>bytetrade</td>\n",
       "      <td>2022-11-09T21:16:55.371</td>\n",
       "      <td>1148.92</td>\n",
       "      <td>1150.21</td>\n",
       "      <td>1139.40</td>\n",
       "      <td>1139.40</td>\n",
       "      <td>0.1672</td>\n",
       "    </tr>\n",
       "    <tr>\n",
       "      <th>55</th>\n",
       "      <td>bytetrade</td>\n",
       "      <td>2022-11-09T21:16:58.242</td>\n",
       "      <td>1148.92</td>\n",
       "      <td>1150.21</td>\n",
       "      <td>1139.40</td>\n",
       "      <td>1141.54</td>\n",
       "      <td>0.1701</td>\n",
       "    </tr>\n",
       "    <tr>\n",
       "      <th>56</th>\n",
       "      <td>bytetrade</td>\n",
       "      <td>2022-11-09T21:17:01.133</td>\n",
       "      <td>1148.92</td>\n",
       "      <td>1150.21</td>\n",
       "      <td>1139.40</td>\n",
       "      <td>1141.55</td>\n",
       "      <td>0.1786</td>\n",
       "    </tr>\n",
       "    <tr>\n",
       "      <th>57</th>\n",
       "      <td>bytetrade</td>\n",
       "      <td>2022-11-09T21:17:03.978</td>\n",
       "      <td>1141.55</td>\n",
       "      <td>1141.55</td>\n",
       "      <td>1141.55</td>\n",
       "      <td>1141.55</td>\n",
       "      <td>0.0000</td>\n",
       "    </tr>\n",
       "    <tr>\n",
       "      <th>58</th>\n",
       "      <td>bytetrade</td>\n",
       "      <td>2022-11-09T21:17:06.716</td>\n",
       "      <td>1141.79</td>\n",
       "      <td>1141.79</td>\n",
       "      <td>1141.79</td>\n",
       "      <td>1141.79</td>\n",
       "      <td>0.0292</td>\n",
       "    </tr>\n",
       "    <tr>\n",
       "      <th>59</th>\n",
       "      <td>bytetrade</td>\n",
       "      <td>2022-11-09T21:17:10.381</td>\n",
       "      <td>1141.79</td>\n",
       "      <td>1141.79</td>\n",
       "      <td>1141.66</td>\n",
       "      <td>1141.66</td>\n",
       "      <td>0.0488</td>\n",
       "    </tr>\n",
       "  </tbody>\n",
       "</table>\n",
       "</div>"
      ],
      "text/plain": [
       "     exchange                timestamp     open     high      low    close  \\\n",
       "0     binance  2022-11-09T21:14:00.755  1148.57  1157.91  1147.49  1153.76   \n",
       "1     binance  2022-11-09T21:14:03.422  1155.11  1155.75  1154.37  1155.10   \n",
       "2     binance  2022-11-09T21:14:06.016  1155.11  1155.75  1151.61  1153.60   \n",
       "3     binance  2022-11-09T21:14:08.639  1155.11  1155.75  1151.61  1154.22   \n",
       "4     binance  2022-11-09T21:14:11.166  1155.11  1155.75  1151.61  1154.29   \n",
       "5     binance  2022-11-09T21:14:13.687  1155.11  1155.75  1151.61  1153.58   \n",
       "6     binance  2022-11-09T21:14:16.324  1155.11  1155.75  1151.61  1153.58   \n",
       "7     binance  2022-11-09T21:14:19.363  1155.11  1155.75  1151.61  1153.49   \n",
       "8     binance  2022-11-09T21:14:21.979  1155.11  1155.75  1151.61  1151.89   \n",
       "9     binance  2022-11-09T21:14:24.535  1155.11  1155.75  1151.50  1151.89   \n",
       "10    binance  2022-11-09T21:14:27.181  1155.11  1155.75  1151.50  1153.32   \n",
       "11    binance  2022-11-09T21:14:29.687  1155.11  1155.75  1151.50  1154.04   \n",
       "12    binance  2022-11-09T21:14:32.164  1155.11  1155.75  1151.50  1153.90   \n",
       "13    binance  2022-11-09T21:14:34.686  1155.11  1155.75  1151.50  1153.39   \n",
       "14    binance  2022-11-09T21:14:37.249  1155.11  1155.75  1151.50  1155.24   \n",
       "15    binance  2022-11-09T21:14:39.722  1155.11  1155.75  1151.50  1154.80   \n",
       "16    binance  2022-11-09T21:14:42.689  1155.11  1155.75  1151.50  1155.21   \n",
       "17    binance  2022-11-09T21:14:45.391  1155.11  1155.75  1151.50  1154.37   \n",
       "18    binance  2022-11-09T21:14:47.859  1155.11  1155.75  1151.50  1154.59   \n",
       "19    binance  2022-11-09T21:14:50.753  1155.11  1155.75  1151.50  1154.31   \n",
       "20        ftx  2022-11-09T21:14:53.790  1210.60  1213.00  1204.90  1207.90   \n",
       "21        ftx  2022-11-09T21:14:56.761  1210.60  1213.00  1204.90  1208.50   \n",
       "22        ftx  2022-11-09T21:15:00.863  1210.60  1213.00  1204.90  1208.50   \n",
       "23        ftx  2022-11-09T21:15:05.350  1208.50  1208.50  1208.50  1208.50   \n",
       "24        ftx  2022-11-09T21:15:08.450  1208.50  1208.50  1207.70  1207.70   \n",
       "25        ftx  2022-11-09T21:15:12.234  1208.50  1209.30  1207.70  1209.30   \n",
       "26        ftx  2022-11-09T21:15:17.032  1208.50  1209.30  1206.40  1206.40   \n",
       "27        ftx  2022-11-09T21:15:20.832  1208.50  1209.30  1204.90  1204.90   \n",
       "28        ftx  2022-11-09T21:15:26.770  1208.50  1209.30  1202.90  1203.30   \n",
       "29        ftx  2022-11-09T21:15:30.419  1208.50  1209.30  1198.70  1198.90   \n",
       "30        ftx  2022-11-09T21:15:33.283  1208.50  1209.30  1198.70  1202.20   \n",
       "31        ftx  2022-11-09T21:15:36.869  1208.50  1209.30  1198.70  1202.20   \n",
       "32        ftx  2022-11-09T21:15:40.886  1208.50  1209.30  1198.70  1200.10   \n",
       "33        ftx  2022-11-09T21:15:45.299  1208.50  1209.30  1198.70  1205.40   \n",
       "34        ftx  2022-11-09T21:15:49.053  1208.50  1209.30  1198.70  1202.90   \n",
       "35        ftx  2022-11-09T21:15:52.707  1208.50  1209.30  1198.70  1203.80   \n",
       "36        ftx  2022-11-09T21:15:55.187  1208.50  1209.30  1198.20  1200.20   \n",
       "37        ftx  2022-11-09T21:16:00.510  1208.50  1209.30  1198.20  1202.80   \n",
       "38        ftx  2022-11-09T21:16:04.615  1202.80  1202.90  1198.20  1202.90   \n",
       "39        ftx  2022-11-09T21:16:09.959  1202.80  1202.90  1194.00  1199.20   \n",
       "40  bytetrade  2022-11-09T21:16:13.413  1148.92  1150.21  1148.92  1150.21   \n",
       "41  bytetrade  2022-11-09T21:16:16.260  1148.92  1150.21  1148.92  1149.02   \n",
       "42  bytetrade  2022-11-09T21:16:20.105  1148.92  1150.21  1148.92  1149.02   \n",
       "43  bytetrade  2022-11-09T21:16:22.863  1148.92  1150.21  1148.40  1148.40   \n",
       "44  bytetrade  2022-11-09T21:16:25.824  1148.92  1150.21  1144.58  1144.58   \n",
       "45  bytetrade  2022-11-09T21:16:28.718  1148.92  1150.21  1143.05  1143.05   \n",
       "46  bytetrade  2022-11-09T21:16:31.428  1148.92  1150.21  1143.05  1143.26   \n",
       "47  bytetrade  2022-11-09T21:16:35.053  1148.92  1150.21  1143.05  1143.26   \n",
       "48  bytetrade  2022-11-09T21:16:37.687  1148.92  1150.21  1143.05  1143.26   \n",
       "49  bytetrade  2022-11-09T21:16:41.229  1148.92  1150.21  1143.05  1144.79   \n",
       "50  bytetrade  2022-11-09T21:16:44.219  1148.92  1150.21  1143.05  1143.60   \n",
       "51  bytetrade  2022-11-09T21:16:47.235  1148.92  1150.21  1140.38  1140.38   \n",
       "52  bytetrade  2022-11-09T21:16:50.032  1148.92  1150.21  1140.38  1140.38   \n",
       "53  bytetrade  2022-11-09T21:16:52.851  1148.92  1150.21  1139.40  1139.40   \n",
       "54  bytetrade  2022-11-09T21:16:55.371  1148.92  1150.21  1139.40  1139.40   \n",
       "55  bytetrade  2022-11-09T21:16:58.242  1148.92  1150.21  1139.40  1141.54   \n",
       "56  bytetrade  2022-11-09T21:17:01.133  1148.92  1150.21  1139.40  1141.55   \n",
       "57  bytetrade  2022-11-09T21:17:03.978  1141.55  1141.55  1141.55  1141.55   \n",
       "58  bytetrade  2022-11-09T21:17:06.716  1141.79  1141.79  1141.79  1141.79   \n",
       "59  bytetrade  2022-11-09T21:17:10.381  1141.79  1141.79  1141.66  1141.66   \n",
       "\n",
       "        volume  \n",
       "0    1841.2213  \n",
       "1       9.5498  \n",
       "2     213.4811  \n",
       "3     226.8846  \n",
       "4     235.7805  \n",
       "5     251.8282  \n",
       "6     325.9377  \n",
       "7     343.8879  \n",
       "8     391.6930  \n",
       "9     429.3198  \n",
       "10    629.9072  \n",
       "11    648.1265  \n",
       "12    660.2530  \n",
       "13    679.1303  \n",
       "14    771.4870  \n",
       "15    791.3709  \n",
       "16    819.1369  \n",
       "17    836.5794  \n",
       "18    841.4500  \n",
       "19    853.9241  \n",
       "20  13082.3863  \n",
       "21  13082.3863  \n",
       "22  13082.3863  \n",
       "23      0.0000  \n",
       "24     12.0770  \n",
       "25     15.7033  \n",
       "26     19.3225  \n",
       "27     26.5544  \n",
       "28    289.1713  \n",
       "29    721.6393  \n",
       "30    727.6502  \n",
       "31    728.8513  \n",
       "32   1260.6185  \n",
       "33   6850.7645  \n",
       "34   6854.3736  \n",
       "35  11634.4375  \n",
       "36  12879.2077  \n",
       "37  15326.2681  \n",
       "38   4071.1198  \n",
       "39   7350.0178  \n",
       "40      0.0363  \n",
       "41      0.0438  \n",
       "42      0.0438  \n",
       "43      0.0555  \n",
       "44      0.0608  \n",
       "45      0.0933  \n",
       "46      0.1130  \n",
       "47      0.1130  \n",
       "48      0.1130  \n",
       "49      0.1309  \n",
       "50      0.1386  \n",
       "51      0.1647  \n",
       "52      0.1647  \n",
       "53      0.1672  \n",
       "54      0.1672  \n",
       "55      0.1701  \n",
       "56      0.1786  \n",
       "57      0.0000  \n",
       "58      0.0292  \n",
       "59      0.0488  "
      ]
     },
     "execution_count": 36,
     "metadata": {},
     "output_type": "execute_result"
    }
   ],
   "source": [
    "verif_df2_OH = fn.concatenate(verif_0_E[1], verif_1_E[1], verif_2_E[1], n)\n",
    "verif_df2_OH"
   ]
  },
  {
   "cell_type": "markdown",
   "metadata": {},
   "source": [
    "<font color= lightblue> <font size = 2> Verification XRP </font>"
   ]
  },
  {
   "cell_type": "code",
   "execution_count": 37,
   "metadata": {},
   "outputs": [
    {
     "data": {
      "text/plain": [
       "((25, 'XRP/USDT', 'binance'),\n",
       " (25, 'XRP/USDT', 'ftx'),\n",
       " (25, 'XRP/USDT', 'bytetrade'))"
      ]
     },
     "execution_count": 37,
     "metadata": {},
     "output_type": "execute_result"
    }
   ],
   "source": [
    "v_params0= 25, criptos[2], exchanges[0]\n",
    "v_params1= 25, criptos[2], exchanges[1]\n",
    "v_params2= 25, criptos[2], exchanges[2]\n",
    "v_params0, v_params1, v_params2"
   ]
  },
  {
   "cell_type": "code",
   "execution_count": 41,
   "metadata": {},
   "outputs": [],
   "source": [
    "n=20\n",
    "verif_0_X = vs.verif_ex1(v_params0[0],v_params0[1], v_params0[2], n)\n",
    "verif_1_X = vs.verif_ex1(v_params1[0],v_params1[1], v_params1[2], n)\n",
    "verif_2_X = vs.verif_ex1(v_params2[0],v_params2[1], v_params2[2], n)"
   ]
  },
  {
   "cell_type": "code",
   "execution_count": 42,
   "metadata": {},
   "outputs": [
    {
     "data": {
      "text/html": [
       "<div>\n",
       "<style scoped>\n",
       "    .dataframe tbody tr th:only-of-type {\n",
       "        vertical-align: middle;\n",
       "    }\n",
       "\n",
       "    .dataframe tbody tr th {\n",
       "        vertical-align: top;\n",
       "    }\n",
       "\n",
       "    .dataframe thead th {\n",
       "        text-align: right;\n",
       "    }\n",
       "</style>\n",
       "<table border=\"1\" class=\"dataframe\">\n",
       "  <thead>\n",
       "    <tr style=\"text-align: right;\">\n",
       "      <th></th>\n",
       "      <th>exchange</th>\n",
       "      <th>timestamp</th>\n",
       "      <th>ask</th>\n",
       "      <th>bid</th>\n",
       "      <th>ask_volume</th>\n",
       "      <th>bid_volume</th>\n",
       "      <th>spread</th>\n",
       "      <th>close_price</th>\n",
       "    </tr>\n",
       "  </thead>\n",
       "  <tbody>\n",
       "    <tr>\n",
       "      <th>0</th>\n",
       "      <td>binance</td>\n",
       "      <td>2022-11-09T21:20:10.820</td>\n",
       "      <td>0.338400</td>\n",
       "      <td>0.337700</td>\n",
       "      <td>398347.000000</td>\n",
       "      <td>1.641913e+06</td>\n",
       "      <td>0.000700</td>\n",
       "      <td>0.337500</td>\n",
       "    </tr>\n",
       "    <tr>\n",
       "      <th>1</th>\n",
       "      <td>binance</td>\n",
       "      <td>2022-11-09T21:20:13.180</td>\n",
       "      <td>0.338000</td>\n",
       "      <td>0.337900</td>\n",
       "      <td>388503.000000</td>\n",
       "      <td>1.820410e+06</td>\n",
       "      <td>0.000100</td>\n",
       "      <td>0.337900</td>\n",
       "    </tr>\n",
       "    <tr>\n",
       "      <th>2</th>\n",
       "      <td>binance</td>\n",
       "      <td>2022-11-09T21:20:16.793</td>\n",
       "      <td>0.338000</td>\n",
       "      <td>0.337700</td>\n",
       "      <td>429096.000000</td>\n",
       "      <td>1.643038e+06</td>\n",
       "      <td>0.000300</td>\n",
       "      <td>0.337800</td>\n",
       "    </tr>\n",
       "    <tr>\n",
       "      <th>3</th>\n",
       "      <td>binance</td>\n",
       "      <td>2022-11-09T21:20:19.707</td>\n",
       "      <td>0.338000</td>\n",
       "      <td>0.337800</td>\n",
       "      <td>377075.000000</td>\n",
       "      <td>1.730288e+06</td>\n",
       "      <td>0.000200</td>\n",
       "      <td>0.337900</td>\n",
       "    </tr>\n",
       "    <tr>\n",
       "      <th>4</th>\n",
       "      <td>binance</td>\n",
       "      <td>2022-11-09T21:20:22.205</td>\n",
       "      <td>0.337800</td>\n",
       "      <td>0.337700</td>\n",
       "      <td>402211.000000</td>\n",
       "      <td>1.820201e+06</td>\n",
       "      <td>0.000100</td>\n",
       "      <td>0.337700</td>\n",
       "    </tr>\n",
       "    <tr>\n",
       "      <th>5</th>\n",
       "      <td>binance</td>\n",
       "      <td>2022-11-09T21:20:24.685</td>\n",
       "      <td>0.337400</td>\n",
       "      <td>0.337200</td>\n",
       "      <td>363172.000000</td>\n",
       "      <td>3.858636e+06</td>\n",
       "      <td>0.000200</td>\n",
       "      <td>0.337100</td>\n",
       "    </tr>\n",
       "    <tr>\n",
       "      <th>6</th>\n",
       "      <td>binance</td>\n",
       "      <td>2022-11-09T21:20:27.202</td>\n",
       "      <td>0.338000</td>\n",
       "      <td>0.337800</td>\n",
       "      <td>395261.000000</td>\n",
       "      <td>1.532947e+06</td>\n",
       "      <td>0.000200</td>\n",
       "      <td>0.337900</td>\n",
       "    </tr>\n",
       "    <tr>\n",
       "      <th>7</th>\n",
       "      <td>binance</td>\n",
       "      <td>2022-11-09T21:20:29.697</td>\n",
       "      <td>0.337900</td>\n",
       "      <td>0.337700</td>\n",
       "      <td>382131.000000</td>\n",
       "      <td>1.510881e+06</td>\n",
       "      <td>0.000200</td>\n",
       "      <td>0.337800</td>\n",
       "    </tr>\n",
       "    <tr>\n",
       "      <th>8</th>\n",
       "      <td>binance</td>\n",
       "      <td>2022-11-09T21:20:32.344</td>\n",
       "      <td>0.337900</td>\n",
       "      <td>0.337800</td>\n",
       "      <td>379385.000000</td>\n",
       "      <td>1.696193e+06</td>\n",
       "      <td>0.000100</td>\n",
       "      <td>0.337800</td>\n",
       "    </tr>\n",
       "    <tr>\n",
       "      <th>9</th>\n",
       "      <td>binance</td>\n",
       "      <td>2022-11-09T21:20:35.015</td>\n",
       "      <td>0.338100</td>\n",
       "      <td>0.338000</td>\n",
       "      <td>408767.000000</td>\n",
       "      <td>1.612673e+06</td>\n",
       "      <td>0.000100</td>\n",
       "      <td>0.338100</td>\n",
       "    </tr>\n",
       "    <tr>\n",
       "      <th>10</th>\n",
       "      <td>binance</td>\n",
       "      <td>2022-11-09T21:20:37.565</td>\n",
       "      <td>0.338000</td>\n",
       "      <td>0.337900</td>\n",
       "      <td>388005.000000</td>\n",
       "      <td>1.568537e+06</td>\n",
       "      <td>0.000100</td>\n",
       "      <td>0.337900</td>\n",
       "    </tr>\n",
       "    <tr>\n",
       "      <th>11</th>\n",
       "      <td>binance</td>\n",
       "      <td>2022-11-09T21:20:40.343</td>\n",
       "      <td>0.338000</td>\n",
       "      <td>0.337900</td>\n",
       "      <td>423964.000000</td>\n",
       "      <td>1.793980e+06</td>\n",
       "      <td>0.000100</td>\n",
       "      <td>0.337900</td>\n",
       "    </tr>\n",
       "    <tr>\n",
       "      <th>12</th>\n",
       "      <td>binance</td>\n",
       "      <td>2022-11-09T21:20:42.843</td>\n",
       "      <td>0.338000</td>\n",
       "      <td>0.337900</td>\n",
       "      <td>401033.000000</td>\n",
       "      <td>1.884353e+06</td>\n",
       "      <td>0.000100</td>\n",
       "      <td>0.337900</td>\n",
       "    </tr>\n",
       "    <tr>\n",
       "      <th>13</th>\n",
       "      <td>binance</td>\n",
       "      <td>2022-11-09T21:20:46.069</td>\n",
       "      <td>0.338000</td>\n",
       "      <td>0.337900</td>\n",
       "      <td>461645.000000</td>\n",
       "      <td>1.929779e+06</td>\n",
       "      <td>0.000100</td>\n",
       "      <td>0.338000</td>\n",
       "    </tr>\n",
       "    <tr>\n",
       "      <th>14</th>\n",
       "      <td>binance</td>\n",
       "      <td>2022-11-09T21:20:48.823</td>\n",
       "      <td>0.337800</td>\n",
       "      <td>0.337700</td>\n",
       "      <td>448011.000000</td>\n",
       "      <td>1.722727e+06</td>\n",
       "      <td>0.000100</td>\n",
       "      <td>0.337600</td>\n",
       "    </tr>\n",
       "    <tr>\n",
       "      <th>15</th>\n",
       "      <td>binance</td>\n",
       "      <td>2022-11-09T21:20:51.573</td>\n",
       "      <td>0.337800</td>\n",
       "      <td>0.337600</td>\n",
       "      <td>455927.000000</td>\n",
       "      <td>2.613205e+06</td>\n",
       "      <td>0.000200</td>\n",
       "      <td>0.337800</td>\n",
       "    </tr>\n",
       "    <tr>\n",
       "      <th>16</th>\n",
       "      <td>binance</td>\n",
       "      <td>2022-11-09T21:20:54.238</td>\n",
       "      <td>0.337400</td>\n",
       "      <td>0.337300</td>\n",
       "      <td>218221.000000</td>\n",
       "      <td>4.094091e+06</td>\n",
       "      <td>0.000100</td>\n",
       "      <td>0.337200</td>\n",
       "    </tr>\n",
       "    <tr>\n",
       "      <th>17</th>\n",
       "      <td>binance</td>\n",
       "      <td>2022-11-09T21:20:56.691</td>\n",
       "      <td>0.337300</td>\n",
       "      <td>0.337200</td>\n",
       "      <td>250031.000000</td>\n",
       "      <td>4.078049e+06</td>\n",
       "      <td>0.000100</td>\n",
       "      <td>0.337200</td>\n",
       "    </tr>\n",
       "    <tr>\n",
       "      <th>18</th>\n",
       "      <td>binance</td>\n",
       "      <td>2022-11-09T21:20:59.214</td>\n",
       "      <td>0.337200</td>\n",
       "      <td>0.337100</td>\n",
       "      <td>257187.000000</td>\n",
       "      <td>2.019450e+06</td>\n",
       "      <td>0.000100</td>\n",
       "      <td>0.337100</td>\n",
       "    </tr>\n",
       "    <tr>\n",
       "      <th>19</th>\n",
       "      <td>binance</td>\n",
       "      <td>2022-11-09T21:21:01.813</td>\n",
       "      <td>0.337100</td>\n",
       "      <td>0.337000</td>\n",
       "      <td>275697.000000</td>\n",
       "      <td>1.676762e+06</td>\n",
       "      <td>0.000100</td>\n",
       "      <td>0.337100</td>\n",
       "    </tr>\n",
       "    <tr>\n",
       "      <th>20</th>\n",
       "      <td>ftx</td>\n",
       "      <td>2022-11-09T21:21:04.599</td>\n",
       "      <td>0.337450</td>\n",
       "      <td>0.336950</td>\n",
       "      <td>156099.000000</td>\n",
       "      <td>9.045450e+05</td>\n",
       "      <td>0.000500</td>\n",
       "      <td>0.337450</td>\n",
       "    </tr>\n",
       "    <tr>\n",
       "      <th>21</th>\n",
       "      <td>ftx</td>\n",
       "      <td>2022-11-09T21:21:08.451</td>\n",
       "      <td>0.337375</td>\n",
       "      <td>0.336550</td>\n",
       "      <td>147575.000000</td>\n",
       "      <td>8.956340e+05</td>\n",
       "      <td>0.000825</td>\n",
       "      <td>0.336575</td>\n",
       "    </tr>\n",
       "    <tr>\n",
       "      <th>22</th>\n",
       "      <td>ftx</td>\n",
       "      <td>2022-11-09T21:21:12.141</td>\n",
       "      <td>0.337025</td>\n",
       "      <td>0.336425</td>\n",
       "      <td>155146.000000</td>\n",
       "      <td>8.894290e+05</td>\n",
       "      <td>0.000600</td>\n",
       "      <td>0.336425</td>\n",
       "    </tr>\n",
       "    <tr>\n",
       "      <th>23</th>\n",
       "      <td>ftx</td>\n",
       "      <td>2022-11-09T21:21:15.903</td>\n",
       "      <td>0.336900</td>\n",
       "      <td>0.336425</td>\n",
       "      <td>148166.000000</td>\n",
       "      <td>8.892070e+05</td>\n",
       "      <td>0.000475</td>\n",
       "      <td>0.336425</td>\n",
       "    </tr>\n",
       "    <tr>\n",
       "      <th>24</th>\n",
       "      <td>ftx</td>\n",
       "      <td>2022-11-09T21:21:19.012</td>\n",
       "      <td>0.336675</td>\n",
       "      <td>0.336450</td>\n",
       "      <td>143177.000000</td>\n",
       "      <td>8.843400e+05</td>\n",
       "      <td>0.000225</td>\n",
       "      <td>0.336425</td>\n",
       "    </tr>\n",
       "    <tr>\n",
       "      <th>25</th>\n",
       "      <td>ftx</td>\n",
       "      <td>2022-11-09T21:21:22.116</td>\n",
       "      <td>0.337275</td>\n",
       "      <td>0.336750</td>\n",
       "      <td>149292.000000</td>\n",
       "      <td>9.018260e+05</td>\n",
       "      <td>0.000525</td>\n",
       "      <td>0.336675</td>\n",
       "    </tr>\n",
       "    <tr>\n",
       "      <th>26</th>\n",
       "      <td>ftx</td>\n",
       "      <td>2022-11-09T21:21:24.970</td>\n",
       "      <td>0.337300</td>\n",
       "      <td>0.336475</td>\n",
       "      <td>149283.000000</td>\n",
       "      <td>8.705420e+05</td>\n",
       "      <td>0.000825</td>\n",
       "      <td>0.336925</td>\n",
       "    </tr>\n",
       "    <tr>\n",
       "      <th>27</th>\n",
       "      <td>ftx</td>\n",
       "      <td>2022-11-09T21:21:27.845</td>\n",
       "      <td>0.337150</td>\n",
       "      <td>0.336500</td>\n",
       "      <td>99720.000000</td>\n",
       "      <td>8.646430e+05</td>\n",
       "      <td>0.000650</td>\n",
       "      <td>0.336925</td>\n",
       "    </tr>\n",
       "    <tr>\n",
       "      <th>28</th>\n",
       "      <td>ftx</td>\n",
       "      <td>2022-11-09T21:21:31.475</td>\n",
       "      <td>0.337100</td>\n",
       "      <td>0.336550</td>\n",
       "      <td>99721.000000</td>\n",
       "      <td>8.646450e+05</td>\n",
       "      <td>0.000550</td>\n",
       "      <td>0.336925</td>\n",
       "    </tr>\n",
       "    <tr>\n",
       "      <th>29</th>\n",
       "      <td>ftx</td>\n",
       "      <td>2022-11-09T21:21:34.295</td>\n",
       "      <td>0.337050</td>\n",
       "      <td>0.336600</td>\n",
       "      <td>72124.000000</td>\n",
       "      <td>8.646430e+05</td>\n",
       "      <td>0.000450</td>\n",
       "      <td>0.336925</td>\n",
       "    </tr>\n",
       "    <tr>\n",
       "      <th>30</th>\n",
       "      <td>ftx</td>\n",
       "      <td>2022-11-09T21:21:38.230</td>\n",
       "      <td>0.337325</td>\n",
       "      <td>0.336900</td>\n",
       "      <td>153525.000000</td>\n",
       "      <td>8.900660e+05</td>\n",
       "      <td>0.000425</td>\n",
       "      <td>0.336925</td>\n",
       "    </tr>\n",
       "    <tr>\n",
       "      <th>31</th>\n",
       "      <td>ftx</td>\n",
       "      <td>2022-11-09T21:21:41.040</td>\n",
       "      <td>0.337525</td>\n",
       "      <td>0.337175</td>\n",
       "      <td>148160.000000</td>\n",
       "      <td>9.050360e+05</td>\n",
       "      <td>0.000350</td>\n",
       "      <td>0.337525</td>\n",
       "    </tr>\n",
       "    <tr>\n",
       "      <th>32</th>\n",
       "      <td>ftx</td>\n",
       "      <td>2022-11-09T21:21:43.884</td>\n",
       "      <td>0.338475</td>\n",
       "      <td>0.338050</td>\n",
       "      <td>147000.000000</td>\n",
       "      <td>9.406360e+05</td>\n",
       "      <td>0.000425</td>\n",
       "      <td>0.337975</td>\n",
       "    </tr>\n",
       "    <tr>\n",
       "      <th>33</th>\n",
       "      <td>ftx</td>\n",
       "      <td>2022-11-09T21:21:47.028</td>\n",
       "      <td>0.338325</td>\n",
       "      <td>0.336925</td>\n",
       "      <td>182132.000000</td>\n",
       "      <td>9.029790e+05</td>\n",
       "      <td>0.001400</td>\n",
       "      <td>0.337875</td>\n",
       "    </tr>\n",
       "    <tr>\n",
       "      <th>34</th>\n",
       "      <td>ftx</td>\n",
       "      <td>2022-11-09T21:21:50.314</td>\n",
       "      <td>0.338275</td>\n",
       "      <td>0.337300</td>\n",
       "      <td>173678.000000</td>\n",
       "      <td>9.026110e+05</td>\n",
       "      <td>0.000975</td>\n",
       "      <td>0.337875</td>\n",
       "    </tr>\n",
       "    <tr>\n",
       "      <th>35</th>\n",
       "      <td>ftx</td>\n",
       "      <td>2022-11-09T21:21:53.143</td>\n",
       "      <td>0.338075</td>\n",
       "      <td>0.336900</td>\n",
       "      <td>182212.000000</td>\n",
       "      <td>8.905660e+05</td>\n",
       "      <td>0.001175</td>\n",
       "      <td>0.337875</td>\n",
       "    </tr>\n",
       "    <tr>\n",
       "      <th>36</th>\n",
       "      <td>ftx</td>\n",
       "      <td>2022-11-09T21:21:56.182</td>\n",
       "      <td>0.337775</td>\n",
       "      <td>0.336875</td>\n",
       "      <td>168734.000000</td>\n",
       "      <td>8.851060e+05</td>\n",
       "      <td>0.000900</td>\n",
       "      <td>0.337725</td>\n",
       "    </tr>\n",
       "    <tr>\n",
       "      <th>37</th>\n",
       "      <td>ftx</td>\n",
       "      <td>2022-11-09T21:21:59.746</td>\n",
       "      <td>0.337475</td>\n",
       "      <td>0.336800</td>\n",
       "      <td>176894.000000</td>\n",
       "      <td>8.680230e+05</td>\n",
       "      <td>0.000675</td>\n",
       "      <td>0.337475</td>\n",
       "    </tr>\n",
       "    <tr>\n",
       "      <th>38</th>\n",
       "      <td>ftx</td>\n",
       "      <td>2022-11-09T21:22:02.647</td>\n",
       "      <td>0.337375</td>\n",
       "      <td>0.336575</td>\n",
       "      <td>175144.000000</td>\n",
       "      <td>8.676920e+05</td>\n",
       "      <td>0.000800</td>\n",
       "      <td>0.336800</td>\n",
       "    </tr>\n",
       "    <tr>\n",
       "      <th>39</th>\n",
       "      <td>ftx</td>\n",
       "      <td>2022-11-09T21:22:05.980</td>\n",
       "      <td>0.337175</td>\n",
       "      <td>0.336575</td>\n",
       "      <td>169031.000000</td>\n",
       "      <td>8.769650e+05</td>\n",
       "      <td>0.000600</td>\n",
       "      <td>0.336575</td>\n",
       "    </tr>\n",
       "    <tr>\n",
       "      <th>40</th>\n",
       "      <td>bytetrade</td>\n",
       "      <td>2022-11-09T21:22:08.911</td>\n",
       "      <td>0.356217</td>\n",
       "      <td>0.319295</td>\n",
       "      <td>153.893353</td>\n",
       "      <td>2.624030e+03</td>\n",
       "      <td>0.036922</td>\n",
       "      <td>0.337673</td>\n",
       "    </tr>\n",
       "    <tr>\n",
       "      <th>41</th>\n",
       "      <td>bytetrade</td>\n",
       "      <td>2022-11-09T21:22:11.816</td>\n",
       "      <td>0.356217</td>\n",
       "      <td>0.319295</td>\n",
       "      <td>153.893353</td>\n",
       "      <td>2.624030e+03</td>\n",
       "      <td>0.036922</td>\n",
       "      <td>0.337970</td>\n",
       "    </tr>\n",
       "    <tr>\n",
       "      <th>42</th>\n",
       "      <td>bytetrade</td>\n",
       "      <td>2022-11-09T21:22:15.535</td>\n",
       "      <td>0.356217</td>\n",
       "      <td>0.319295</td>\n",
       "      <td>153.893353</td>\n",
       "      <td>2.623961e+03</td>\n",
       "      <td>0.036922</td>\n",
       "      <td>0.337596</td>\n",
       "    </tr>\n",
       "    <tr>\n",
       "      <th>43</th>\n",
       "      <td>bytetrade</td>\n",
       "      <td>2022-11-09T21:22:18.226</td>\n",
       "      <td>0.356217</td>\n",
       "      <td>0.319295</td>\n",
       "      <td>153.893353</td>\n",
       "      <td>2.623961e+03</td>\n",
       "      <td>0.036922</td>\n",
       "      <td>0.337596</td>\n",
       "    </tr>\n",
       "    <tr>\n",
       "      <th>44</th>\n",
       "      <td>bytetrade</td>\n",
       "      <td>2022-11-09T21:22:21.239</td>\n",
       "      <td>0.356217</td>\n",
       "      <td>0.319295</td>\n",
       "      <td>153.893353</td>\n",
       "      <td>2.670299e+03</td>\n",
       "      <td>0.036922</td>\n",
       "      <td>0.337918</td>\n",
       "    </tr>\n",
       "    <tr>\n",
       "      <th>45</th>\n",
       "      <td>bytetrade</td>\n",
       "      <td>2022-11-09T21:22:23.837</td>\n",
       "      <td>0.356217</td>\n",
       "      <td>0.319295</td>\n",
       "      <td>153.893353</td>\n",
       "      <td>2.670299e+03</td>\n",
       "      <td>0.036922</td>\n",
       "      <td>0.338072</td>\n",
       "    </tr>\n",
       "    <tr>\n",
       "      <th>46</th>\n",
       "      <td>bytetrade</td>\n",
       "      <td>2022-11-09T21:22:26.549</td>\n",
       "      <td>0.356217</td>\n",
       "      <td>0.319295</td>\n",
       "      <td>153.893353</td>\n",
       "      <td>2.623960e+03</td>\n",
       "      <td>0.036922</td>\n",
       "      <td>0.338072</td>\n",
       "    </tr>\n",
       "    <tr>\n",
       "      <th>47</th>\n",
       "      <td>bytetrade</td>\n",
       "      <td>2022-11-09T21:22:29.947</td>\n",
       "      <td>0.356217</td>\n",
       "      <td>0.319295</td>\n",
       "      <td>153.893353</td>\n",
       "      <td>2.670202e+03</td>\n",
       "      <td>0.036922</td>\n",
       "      <td>0.337667</td>\n",
       "    </tr>\n",
       "    <tr>\n",
       "      <th>48</th>\n",
       "      <td>bytetrade</td>\n",
       "      <td>2022-11-09T21:22:32.579</td>\n",
       "      <td>0.356217</td>\n",
       "      <td>0.319295</td>\n",
       "      <td>153.893353</td>\n",
       "      <td>2.670202e+03</td>\n",
       "      <td>0.036922</td>\n",
       "      <td>0.337815</td>\n",
       "    </tr>\n",
       "    <tr>\n",
       "      <th>49</th>\n",
       "      <td>bytetrade</td>\n",
       "      <td>2022-11-09T21:22:35.282</td>\n",
       "      <td>0.356217</td>\n",
       "      <td>0.319295</td>\n",
       "      <td>153.893353</td>\n",
       "      <td>2.670202e+03</td>\n",
       "      <td>0.036922</td>\n",
       "      <td>0.337815</td>\n",
       "    </tr>\n",
       "    <tr>\n",
       "      <th>50</th>\n",
       "      <td>bytetrade</td>\n",
       "      <td>2022-11-09T21:22:38.159</td>\n",
       "      <td>0.356217</td>\n",
       "      <td>0.319295</td>\n",
       "      <td>153.893353</td>\n",
       "      <td>2.623870e+03</td>\n",
       "      <td>0.036922</td>\n",
       "      <td>0.337815</td>\n",
       "    </tr>\n",
       "    <tr>\n",
       "      <th>51</th>\n",
       "      <td>bytetrade</td>\n",
       "      <td>2022-11-09T21:22:40.749</td>\n",
       "      <td>0.356217</td>\n",
       "      <td>0.319295</td>\n",
       "      <td>153.893353</td>\n",
       "      <td>2.623870e+03</td>\n",
       "      <td>0.036922</td>\n",
       "      <td>0.337815</td>\n",
       "    </tr>\n",
       "    <tr>\n",
       "      <th>52</th>\n",
       "      <td>bytetrade</td>\n",
       "      <td>2022-11-09T21:22:43.412</td>\n",
       "      <td>0.356217</td>\n",
       "      <td>0.319295</td>\n",
       "      <td>153.893353</td>\n",
       "      <td>2.670745e+03</td>\n",
       "      <td>0.036922</td>\n",
       "      <td>0.337707</td>\n",
       "    </tr>\n",
       "    <tr>\n",
       "      <th>53</th>\n",
       "      <td>bytetrade</td>\n",
       "      <td>2022-11-09T21:22:46.188</td>\n",
       "      <td>0.356217</td>\n",
       "      <td>0.319295</td>\n",
       "      <td>153.893353</td>\n",
       "      <td>2.670745e+03</td>\n",
       "      <td>0.036922</td>\n",
       "      <td>0.337707</td>\n",
       "    </tr>\n",
       "    <tr>\n",
       "      <th>54</th>\n",
       "      <td>bytetrade</td>\n",
       "      <td>2022-11-09T21:22:48.822</td>\n",
       "      <td>0.356217</td>\n",
       "      <td>0.319295</td>\n",
       "      <td>153.893353</td>\n",
       "      <td>2.717076e+03</td>\n",
       "      <td>0.036922</td>\n",
       "      <td>0.337686</td>\n",
       "    </tr>\n",
       "    <tr>\n",
       "      <th>55</th>\n",
       "      <td>bytetrade</td>\n",
       "      <td>2022-11-09T21:22:51.906</td>\n",
       "      <td>0.356217</td>\n",
       "      <td>0.319295</td>\n",
       "      <td>153.893353</td>\n",
       "      <td>2.717076e+03</td>\n",
       "      <td>0.036922</td>\n",
       "      <td>0.337919</td>\n",
       "    </tr>\n",
       "    <tr>\n",
       "      <th>56</th>\n",
       "      <td>bytetrade</td>\n",
       "      <td>2022-11-09T21:22:54.677</td>\n",
       "      <td>0.356217</td>\n",
       "      <td>0.319295</td>\n",
       "      <td>153.893353</td>\n",
       "      <td>2.480732e+03</td>\n",
       "      <td>0.036922</td>\n",
       "      <td>0.337644</td>\n",
       "    </tr>\n",
       "    <tr>\n",
       "      <th>57</th>\n",
       "      <td>bytetrade</td>\n",
       "      <td>2022-11-09T21:22:57.432</td>\n",
       "      <td>0.356217</td>\n",
       "      <td>0.319295</td>\n",
       "      <td>153.893353</td>\n",
       "      <td>2.480732e+03</td>\n",
       "      <td>0.036922</td>\n",
       "      <td>0.337644</td>\n",
       "    </tr>\n",
       "    <tr>\n",
       "      <th>58</th>\n",
       "      <td>bytetrade</td>\n",
       "      <td>2022-11-09T21:23:00.090</td>\n",
       "      <td>0.356217</td>\n",
       "      <td>0.319295</td>\n",
       "      <td>153.893353</td>\n",
       "      <td>2.474307e+03</td>\n",
       "      <td>0.036922</td>\n",
       "      <td>0.337728</td>\n",
       "    </tr>\n",
       "    <tr>\n",
       "      <th>59</th>\n",
       "      <td>bytetrade</td>\n",
       "      <td>2022-11-09T21:23:02.422</td>\n",
       "      <td>0.356217</td>\n",
       "      <td>0.319295</td>\n",
       "      <td>153.893353</td>\n",
       "      <td>2.474307e+03</td>\n",
       "      <td>0.036922</td>\n",
       "      <td>0.337728</td>\n",
       "    </tr>\n",
       "  </tbody>\n",
       "</table>\n",
       "</div>"
      ],
      "text/plain": [
       "     exchange                timestamp       ask       bid     ask_volume  \\\n",
       "0     binance  2022-11-09T21:20:10.820  0.338400  0.337700  398347.000000   \n",
       "1     binance  2022-11-09T21:20:13.180  0.338000  0.337900  388503.000000   \n",
       "2     binance  2022-11-09T21:20:16.793  0.338000  0.337700  429096.000000   \n",
       "3     binance  2022-11-09T21:20:19.707  0.338000  0.337800  377075.000000   \n",
       "4     binance  2022-11-09T21:20:22.205  0.337800  0.337700  402211.000000   \n",
       "5     binance  2022-11-09T21:20:24.685  0.337400  0.337200  363172.000000   \n",
       "6     binance  2022-11-09T21:20:27.202  0.338000  0.337800  395261.000000   \n",
       "7     binance  2022-11-09T21:20:29.697  0.337900  0.337700  382131.000000   \n",
       "8     binance  2022-11-09T21:20:32.344  0.337900  0.337800  379385.000000   \n",
       "9     binance  2022-11-09T21:20:35.015  0.338100  0.338000  408767.000000   \n",
       "10    binance  2022-11-09T21:20:37.565  0.338000  0.337900  388005.000000   \n",
       "11    binance  2022-11-09T21:20:40.343  0.338000  0.337900  423964.000000   \n",
       "12    binance  2022-11-09T21:20:42.843  0.338000  0.337900  401033.000000   \n",
       "13    binance  2022-11-09T21:20:46.069  0.338000  0.337900  461645.000000   \n",
       "14    binance  2022-11-09T21:20:48.823  0.337800  0.337700  448011.000000   \n",
       "15    binance  2022-11-09T21:20:51.573  0.337800  0.337600  455927.000000   \n",
       "16    binance  2022-11-09T21:20:54.238  0.337400  0.337300  218221.000000   \n",
       "17    binance  2022-11-09T21:20:56.691  0.337300  0.337200  250031.000000   \n",
       "18    binance  2022-11-09T21:20:59.214  0.337200  0.337100  257187.000000   \n",
       "19    binance  2022-11-09T21:21:01.813  0.337100  0.337000  275697.000000   \n",
       "20        ftx  2022-11-09T21:21:04.599  0.337450  0.336950  156099.000000   \n",
       "21        ftx  2022-11-09T21:21:08.451  0.337375  0.336550  147575.000000   \n",
       "22        ftx  2022-11-09T21:21:12.141  0.337025  0.336425  155146.000000   \n",
       "23        ftx  2022-11-09T21:21:15.903  0.336900  0.336425  148166.000000   \n",
       "24        ftx  2022-11-09T21:21:19.012  0.336675  0.336450  143177.000000   \n",
       "25        ftx  2022-11-09T21:21:22.116  0.337275  0.336750  149292.000000   \n",
       "26        ftx  2022-11-09T21:21:24.970  0.337300  0.336475  149283.000000   \n",
       "27        ftx  2022-11-09T21:21:27.845  0.337150  0.336500   99720.000000   \n",
       "28        ftx  2022-11-09T21:21:31.475  0.337100  0.336550   99721.000000   \n",
       "29        ftx  2022-11-09T21:21:34.295  0.337050  0.336600   72124.000000   \n",
       "30        ftx  2022-11-09T21:21:38.230  0.337325  0.336900  153525.000000   \n",
       "31        ftx  2022-11-09T21:21:41.040  0.337525  0.337175  148160.000000   \n",
       "32        ftx  2022-11-09T21:21:43.884  0.338475  0.338050  147000.000000   \n",
       "33        ftx  2022-11-09T21:21:47.028  0.338325  0.336925  182132.000000   \n",
       "34        ftx  2022-11-09T21:21:50.314  0.338275  0.337300  173678.000000   \n",
       "35        ftx  2022-11-09T21:21:53.143  0.338075  0.336900  182212.000000   \n",
       "36        ftx  2022-11-09T21:21:56.182  0.337775  0.336875  168734.000000   \n",
       "37        ftx  2022-11-09T21:21:59.746  0.337475  0.336800  176894.000000   \n",
       "38        ftx  2022-11-09T21:22:02.647  0.337375  0.336575  175144.000000   \n",
       "39        ftx  2022-11-09T21:22:05.980  0.337175  0.336575  169031.000000   \n",
       "40  bytetrade  2022-11-09T21:22:08.911  0.356217  0.319295     153.893353   \n",
       "41  bytetrade  2022-11-09T21:22:11.816  0.356217  0.319295     153.893353   \n",
       "42  bytetrade  2022-11-09T21:22:15.535  0.356217  0.319295     153.893353   \n",
       "43  bytetrade  2022-11-09T21:22:18.226  0.356217  0.319295     153.893353   \n",
       "44  bytetrade  2022-11-09T21:22:21.239  0.356217  0.319295     153.893353   \n",
       "45  bytetrade  2022-11-09T21:22:23.837  0.356217  0.319295     153.893353   \n",
       "46  bytetrade  2022-11-09T21:22:26.549  0.356217  0.319295     153.893353   \n",
       "47  bytetrade  2022-11-09T21:22:29.947  0.356217  0.319295     153.893353   \n",
       "48  bytetrade  2022-11-09T21:22:32.579  0.356217  0.319295     153.893353   \n",
       "49  bytetrade  2022-11-09T21:22:35.282  0.356217  0.319295     153.893353   \n",
       "50  bytetrade  2022-11-09T21:22:38.159  0.356217  0.319295     153.893353   \n",
       "51  bytetrade  2022-11-09T21:22:40.749  0.356217  0.319295     153.893353   \n",
       "52  bytetrade  2022-11-09T21:22:43.412  0.356217  0.319295     153.893353   \n",
       "53  bytetrade  2022-11-09T21:22:46.188  0.356217  0.319295     153.893353   \n",
       "54  bytetrade  2022-11-09T21:22:48.822  0.356217  0.319295     153.893353   \n",
       "55  bytetrade  2022-11-09T21:22:51.906  0.356217  0.319295     153.893353   \n",
       "56  bytetrade  2022-11-09T21:22:54.677  0.356217  0.319295     153.893353   \n",
       "57  bytetrade  2022-11-09T21:22:57.432  0.356217  0.319295     153.893353   \n",
       "58  bytetrade  2022-11-09T21:23:00.090  0.356217  0.319295     153.893353   \n",
       "59  bytetrade  2022-11-09T21:23:02.422  0.356217  0.319295     153.893353   \n",
       "\n",
       "      bid_volume    spread  close_price  \n",
       "0   1.641913e+06  0.000700     0.337500  \n",
       "1   1.820410e+06  0.000100     0.337900  \n",
       "2   1.643038e+06  0.000300     0.337800  \n",
       "3   1.730288e+06  0.000200     0.337900  \n",
       "4   1.820201e+06  0.000100     0.337700  \n",
       "5   3.858636e+06  0.000200     0.337100  \n",
       "6   1.532947e+06  0.000200     0.337900  \n",
       "7   1.510881e+06  0.000200     0.337800  \n",
       "8   1.696193e+06  0.000100     0.337800  \n",
       "9   1.612673e+06  0.000100     0.338100  \n",
       "10  1.568537e+06  0.000100     0.337900  \n",
       "11  1.793980e+06  0.000100     0.337900  \n",
       "12  1.884353e+06  0.000100     0.337900  \n",
       "13  1.929779e+06  0.000100     0.338000  \n",
       "14  1.722727e+06  0.000100     0.337600  \n",
       "15  2.613205e+06  0.000200     0.337800  \n",
       "16  4.094091e+06  0.000100     0.337200  \n",
       "17  4.078049e+06  0.000100     0.337200  \n",
       "18  2.019450e+06  0.000100     0.337100  \n",
       "19  1.676762e+06  0.000100     0.337100  \n",
       "20  9.045450e+05  0.000500     0.337450  \n",
       "21  8.956340e+05  0.000825     0.336575  \n",
       "22  8.894290e+05  0.000600     0.336425  \n",
       "23  8.892070e+05  0.000475     0.336425  \n",
       "24  8.843400e+05  0.000225     0.336425  \n",
       "25  9.018260e+05  0.000525     0.336675  \n",
       "26  8.705420e+05  0.000825     0.336925  \n",
       "27  8.646430e+05  0.000650     0.336925  \n",
       "28  8.646450e+05  0.000550     0.336925  \n",
       "29  8.646430e+05  0.000450     0.336925  \n",
       "30  8.900660e+05  0.000425     0.336925  \n",
       "31  9.050360e+05  0.000350     0.337525  \n",
       "32  9.406360e+05  0.000425     0.337975  \n",
       "33  9.029790e+05  0.001400     0.337875  \n",
       "34  9.026110e+05  0.000975     0.337875  \n",
       "35  8.905660e+05  0.001175     0.337875  \n",
       "36  8.851060e+05  0.000900     0.337725  \n",
       "37  8.680230e+05  0.000675     0.337475  \n",
       "38  8.676920e+05  0.000800     0.336800  \n",
       "39  8.769650e+05  0.000600     0.336575  \n",
       "40  2.624030e+03  0.036922     0.337673  \n",
       "41  2.624030e+03  0.036922     0.337970  \n",
       "42  2.623961e+03  0.036922     0.337596  \n",
       "43  2.623961e+03  0.036922     0.337596  \n",
       "44  2.670299e+03  0.036922     0.337918  \n",
       "45  2.670299e+03  0.036922     0.338072  \n",
       "46  2.623960e+03  0.036922     0.338072  \n",
       "47  2.670202e+03  0.036922     0.337667  \n",
       "48  2.670202e+03  0.036922     0.337815  \n",
       "49  2.670202e+03  0.036922     0.337815  \n",
       "50  2.623870e+03  0.036922     0.337815  \n",
       "51  2.623870e+03  0.036922     0.337815  \n",
       "52  2.670745e+03  0.036922     0.337707  \n",
       "53  2.670745e+03  0.036922     0.337707  \n",
       "54  2.717076e+03  0.036922     0.337686  \n",
       "55  2.717076e+03  0.036922     0.337919  \n",
       "56  2.480732e+03  0.036922     0.337644  \n",
       "57  2.480732e+03  0.036922     0.337644  \n",
       "58  2.474307e+03  0.036922     0.337728  \n",
       "59  2.474307e+03  0.036922     0.337728  "
      ]
     },
     "execution_count": 42,
     "metadata": {},
     "output_type": "execute_result"
    }
   ],
   "source": [
    "verif_df3 = fn.concatenate(verif_0_X[0], verif_1_X[0], verif_2_X[0], n)\n",
    "verif_df3"
   ]
  },
  {
   "cell_type": "markdown",
   "metadata": {},
   "source": [
    "<font color= lightblue> <font size = 2> OHLCV XRP </font>"
   ]
  },
  {
   "cell_type": "code",
   "execution_count": 43,
   "metadata": {},
   "outputs": [
    {
     "data": {
      "text/html": [
       "<div>\n",
       "<style scoped>\n",
       "    .dataframe tbody tr th:only-of-type {\n",
       "        vertical-align: middle;\n",
       "    }\n",
       "\n",
       "    .dataframe tbody tr th {\n",
       "        vertical-align: top;\n",
       "    }\n",
       "\n",
       "    .dataframe thead th {\n",
       "        text-align: right;\n",
       "    }\n",
       "</style>\n",
       "<table border=\"1\" class=\"dataframe\">\n",
       "  <thead>\n",
       "    <tr style=\"text-align: right;\">\n",
       "      <th></th>\n",
       "      <th>exchange</th>\n",
       "      <th>timestamp</th>\n",
       "      <th>open</th>\n",
       "      <th>high</th>\n",
       "      <th>low</th>\n",
       "      <th>close</th>\n",
       "      <th>volume</th>\n",
       "    </tr>\n",
       "  </thead>\n",
       "  <tbody>\n",
       "    <tr>\n",
       "      <th>0</th>\n",
       "      <td>binance</td>\n",
       "      <td>2022-11-09T21:20:10.820</td>\n",
       "      <td>0.337700</td>\n",
       "      <td>0.338000</td>\n",
       "      <td>0.337100</td>\n",
       "      <td>0.337500</td>\n",
       "      <td>88493.000000</td>\n",
       "    </tr>\n",
       "    <tr>\n",
       "      <th>1</th>\n",
       "      <td>binance</td>\n",
       "      <td>2022-11-09T21:20:13.180</td>\n",
       "      <td>0.337700</td>\n",
       "      <td>0.338300</td>\n",
       "      <td>0.337100</td>\n",
       "      <td>0.337900</td>\n",
       "      <td>100567.000000</td>\n",
       "    </tr>\n",
       "    <tr>\n",
       "      <th>2</th>\n",
       "      <td>binance</td>\n",
       "      <td>2022-11-09T21:20:16.793</td>\n",
       "      <td>0.337700</td>\n",
       "      <td>0.338300</td>\n",
       "      <td>0.337100</td>\n",
       "      <td>0.337800</td>\n",
       "      <td>114224.000000</td>\n",
       "    </tr>\n",
       "    <tr>\n",
       "      <th>3</th>\n",
       "      <td>binance</td>\n",
       "      <td>2022-11-09T21:20:19.707</td>\n",
       "      <td>0.337700</td>\n",
       "      <td>0.338300</td>\n",
       "      <td>0.337100</td>\n",
       "      <td>0.337900</td>\n",
       "      <td>122114.000000</td>\n",
       "    </tr>\n",
       "    <tr>\n",
       "      <th>4</th>\n",
       "      <td>binance</td>\n",
       "      <td>2022-11-09T21:20:22.205</td>\n",
       "      <td>0.337700</td>\n",
       "      <td>0.338300</td>\n",
       "      <td>0.337100</td>\n",
       "      <td>0.337700</td>\n",
       "      <td>130254.000000</td>\n",
       "    </tr>\n",
       "    <tr>\n",
       "      <th>5</th>\n",
       "      <td>binance</td>\n",
       "      <td>2022-11-09T21:20:24.685</td>\n",
       "      <td>0.337700</td>\n",
       "      <td>0.338300</td>\n",
       "      <td>0.337100</td>\n",
       "      <td>0.337100</td>\n",
       "      <td>183343.000000</td>\n",
       "    </tr>\n",
       "    <tr>\n",
       "      <th>6</th>\n",
       "      <td>binance</td>\n",
       "      <td>2022-11-09T21:20:27.202</td>\n",
       "      <td>0.337700</td>\n",
       "      <td>0.338300</td>\n",
       "      <td>0.337100</td>\n",
       "      <td>0.337900</td>\n",
       "      <td>215625.000000</td>\n",
       "    </tr>\n",
       "    <tr>\n",
       "      <th>7</th>\n",
       "      <td>binance</td>\n",
       "      <td>2022-11-09T21:20:29.697</td>\n",
       "      <td>0.337700</td>\n",
       "      <td>0.338300</td>\n",
       "      <td>0.337100</td>\n",
       "      <td>0.337800</td>\n",
       "      <td>230245.000000</td>\n",
       "    </tr>\n",
       "    <tr>\n",
       "      <th>8</th>\n",
       "      <td>binance</td>\n",
       "      <td>2022-11-09T21:20:32.344</td>\n",
       "      <td>0.337700</td>\n",
       "      <td>0.338300</td>\n",
       "      <td>0.337100</td>\n",
       "      <td>0.337800</td>\n",
       "      <td>239147.000000</td>\n",
       "    </tr>\n",
       "    <tr>\n",
       "      <th>9</th>\n",
       "      <td>binance</td>\n",
       "      <td>2022-11-09T21:20:35.015</td>\n",
       "      <td>0.337700</td>\n",
       "      <td>0.338300</td>\n",
       "      <td>0.337100</td>\n",
       "      <td>0.338100</td>\n",
       "      <td>257489.000000</td>\n",
       "    </tr>\n",
       "    <tr>\n",
       "      <th>10</th>\n",
       "      <td>binance</td>\n",
       "      <td>2022-11-09T21:20:37.565</td>\n",
       "      <td>0.337700</td>\n",
       "      <td>0.338300</td>\n",
       "      <td>0.337100</td>\n",
       "      <td>0.337900</td>\n",
       "      <td>274982.000000</td>\n",
       "    </tr>\n",
       "    <tr>\n",
       "      <th>11</th>\n",
       "      <td>binance</td>\n",
       "      <td>2022-11-09T21:20:40.343</td>\n",
       "      <td>0.337700</td>\n",
       "      <td>0.338300</td>\n",
       "      <td>0.337100</td>\n",
       "      <td>0.337900</td>\n",
       "      <td>330937.000000</td>\n",
       "    </tr>\n",
       "    <tr>\n",
       "      <th>12</th>\n",
       "      <td>binance</td>\n",
       "      <td>2022-11-09T21:20:42.843</td>\n",
       "      <td>0.337700</td>\n",
       "      <td>0.338300</td>\n",
       "      <td>0.337100</td>\n",
       "      <td>0.337900</td>\n",
       "      <td>331270.000000</td>\n",
       "    </tr>\n",
       "    <tr>\n",
       "      <th>13</th>\n",
       "      <td>binance</td>\n",
       "      <td>2022-11-09T21:20:46.069</td>\n",
       "      <td>0.337700</td>\n",
       "      <td>0.338300</td>\n",
       "      <td>0.337100</td>\n",
       "      <td>0.338000</td>\n",
       "      <td>344512.000000</td>\n",
       "    </tr>\n",
       "    <tr>\n",
       "      <th>14</th>\n",
       "      <td>binance</td>\n",
       "      <td>2022-11-09T21:20:48.823</td>\n",
       "      <td>0.337700</td>\n",
       "      <td>0.338300</td>\n",
       "      <td>0.337100</td>\n",
       "      <td>0.337600</td>\n",
       "      <td>366780.000000</td>\n",
       "    </tr>\n",
       "    <tr>\n",
       "      <th>15</th>\n",
       "      <td>binance</td>\n",
       "      <td>2022-11-09T21:20:51.573</td>\n",
       "      <td>0.337700</td>\n",
       "      <td>0.338300</td>\n",
       "      <td>0.337100</td>\n",
       "      <td>0.337800</td>\n",
       "      <td>373172.000000</td>\n",
       "    </tr>\n",
       "    <tr>\n",
       "      <th>16</th>\n",
       "      <td>binance</td>\n",
       "      <td>2022-11-09T21:20:54.238</td>\n",
       "      <td>0.337700</td>\n",
       "      <td>0.338300</td>\n",
       "      <td>0.337100</td>\n",
       "      <td>0.337200</td>\n",
       "      <td>388168.000000</td>\n",
       "    </tr>\n",
       "    <tr>\n",
       "      <th>17</th>\n",
       "      <td>binance</td>\n",
       "      <td>2022-11-09T21:20:56.691</td>\n",
       "      <td>0.337700</td>\n",
       "      <td>0.338300</td>\n",
       "      <td>0.337100</td>\n",
       "      <td>0.337200</td>\n",
       "      <td>482487.000000</td>\n",
       "    </tr>\n",
       "    <tr>\n",
       "      <th>18</th>\n",
       "      <td>binance</td>\n",
       "      <td>2022-11-09T21:20:59.214</td>\n",
       "      <td>0.337700</td>\n",
       "      <td>0.338300</td>\n",
       "      <td>0.337100</td>\n",
       "      <td>0.337100</td>\n",
       "      <td>496903.000000</td>\n",
       "    </tr>\n",
       "    <tr>\n",
       "      <th>19</th>\n",
       "      <td>binance</td>\n",
       "      <td>2022-11-09T21:21:01.813</td>\n",
       "      <td>0.337100</td>\n",
       "      <td>0.337100</td>\n",
       "      <td>0.337100</td>\n",
       "      <td>0.337100</td>\n",
       "      <td>502.000000</td>\n",
       "    </tr>\n",
       "    <tr>\n",
       "      <th>20</th>\n",
       "      <td>ftx</td>\n",
       "      <td>2022-11-09T21:21:04.599</td>\n",
       "      <td>0.337550</td>\n",
       "      <td>0.337550</td>\n",
       "      <td>0.337450</td>\n",
       "      <td>0.337450</td>\n",
       "      <td>0.000000</td>\n",
       "    </tr>\n",
       "    <tr>\n",
       "      <th>21</th>\n",
       "      <td>ftx</td>\n",
       "      <td>2022-11-09T21:21:08.451</td>\n",
       "      <td>0.337550</td>\n",
       "      <td>0.337550</td>\n",
       "      <td>0.336575</td>\n",
       "      <td>0.336575</td>\n",
       "      <td>2757.592650</td>\n",
       "    </tr>\n",
       "    <tr>\n",
       "      <th>22</th>\n",
       "      <td>ftx</td>\n",
       "      <td>2022-11-09T21:21:12.141</td>\n",
       "      <td>0.337550</td>\n",
       "      <td>0.337550</td>\n",
       "      <td>0.336425</td>\n",
       "      <td>0.336425</td>\n",
       "      <td>4925.897825</td>\n",
       "    </tr>\n",
       "    <tr>\n",
       "      <th>23</th>\n",
       "      <td>ftx</td>\n",
       "      <td>2022-11-09T21:21:15.903</td>\n",
       "      <td>0.337550</td>\n",
       "      <td>0.337550</td>\n",
       "      <td>0.336425</td>\n",
       "      <td>0.336425</td>\n",
       "      <td>4925.897825</td>\n",
       "    </tr>\n",
       "    <tr>\n",
       "      <th>24</th>\n",
       "      <td>ftx</td>\n",
       "      <td>2022-11-09T21:21:19.012</td>\n",
       "      <td>0.337550</td>\n",
       "      <td>0.337550</td>\n",
       "      <td>0.336425</td>\n",
       "      <td>0.336425</td>\n",
       "      <td>9857.888325</td>\n",
       "    </tr>\n",
       "    <tr>\n",
       "      <th>25</th>\n",
       "      <td>ftx</td>\n",
       "      <td>2022-11-09T21:21:22.116</td>\n",
       "      <td>0.337550</td>\n",
       "      <td>0.337550</td>\n",
       "      <td>0.336425</td>\n",
       "      <td>0.336675</td>\n",
       "      <td>15623.497425</td>\n",
       "    </tr>\n",
       "    <tr>\n",
       "      <th>26</th>\n",
       "      <td>ftx</td>\n",
       "      <td>2022-11-09T21:21:24.970</td>\n",
       "      <td>0.337550</td>\n",
       "      <td>0.337550</td>\n",
       "      <td>0.336425</td>\n",
       "      <td>0.336925</td>\n",
       "      <td>15717.810175</td>\n",
       "    </tr>\n",
       "    <tr>\n",
       "      <th>27</th>\n",
       "      <td>ftx</td>\n",
       "      <td>2022-11-09T21:21:27.845</td>\n",
       "      <td>0.337550</td>\n",
       "      <td>0.337550</td>\n",
       "      <td>0.336425</td>\n",
       "      <td>0.336925</td>\n",
       "      <td>15717.810175</td>\n",
       "    </tr>\n",
       "    <tr>\n",
       "      <th>28</th>\n",
       "      <td>ftx</td>\n",
       "      <td>2022-11-09T21:21:31.475</td>\n",
       "      <td>0.337550</td>\n",
       "      <td>0.337550</td>\n",
       "      <td>0.336425</td>\n",
       "      <td>0.336925</td>\n",
       "      <td>15717.810175</td>\n",
       "    </tr>\n",
       "    <tr>\n",
       "      <th>29</th>\n",
       "      <td>ftx</td>\n",
       "      <td>2022-11-09T21:21:34.295</td>\n",
       "      <td>0.337550</td>\n",
       "      <td>0.337550</td>\n",
       "      <td>0.336425</td>\n",
       "      <td>0.336925</td>\n",
       "      <td>15717.810175</td>\n",
       "    </tr>\n",
       "    <tr>\n",
       "      <th>30</th>\n",
       "      <td>ftx</td>\n",
       "      <td>2022-11-09T21:21:38.230</td>\n",
       "      <td>0.337550</td>\n",
       "      <td>0.337550</td>\n",
       "      <td>0.336425</td>\n",
       "      <td>0.336925</td>\n",
       "      <td>15717.810175</td>\n",
       "    </tr>\n",
       "    <tr>\n",
       "      <th>31</th>\n",
       "      <td>ftx</td>\n",
       "      <td>2022-11-09T21:21:41.040</td>\n",
       "      <td>0.337550</td>\n",
       "      <td>0.337650</td>\n",
       "      <td>0.336425</td>\n",
       "      <td>0.337525</td>\n",
       "      <td>15825.774825</td>\n",
       "    </tr>\n",
       "    <tr>\n",
       "      <th>32</th>\n",
       "      <td>ftx</td>\n",
       "      <td>2022-11-09T21:21:43.884</td>\n",
       "      <td>0.337550</td>\n",
       "      <td>0.337975</td>\n",
       "      <td>0.336425</td>\n",
       "      <td>0.337975</td>\n",
       "      <td>15857.511175</td>\n",
       "    </tr>\n",
       "    <tr>\n",
       "      <th>33</th>\n",
       "      <td>ftx</td>\n",
       "      <td>2022-11-09T21:21:47.028</td>\n",
       "      <td>0.337550</td>\n",
       "      <td>0.338100</td>\n",
       "      <td>0.336425</td>\n",
       "      <td>0.337875</td>\n",
       "      <td>15857.511175</td>\n",
       "    </tr>\n",
       "    <tr>\n",
       "      <th>34</th>\n",
       "      <td>ftx</td>\n",
       "      <td>2022-11-09T21:21:50.314</td>\n",
       "      <td>0.337550</td>\n",
       "      <td>0.338100</td>\n",
       "      <td>0.336425</td>\n",
       "      <td>0.337875</td>\n",
       "      <td>15857.511175</td>\n",
       "    </tr>\n",
       "    <tr>\n",
       "      <th>35</th>\n",
       "      <td>ftx</td>\n",
       "      <td>2022-11-09T21:21:53.143</td>\n",
       "      <td>0.337550</td>\n",
       "      <td>0.338100</td>\n",
       "      <td>0.336425</td>\n",
       "      <td>0.337875</td>\n",
       "      <td>15857.511175</td>\n",
       "    </tr>\n",
       "    <tr>\n",
       "      <th>36</th>\n",
       "      <td>ftx</td>\n",
       "      <td>2022-11-09T21:21:56.182</td>\n",
       "      <td>0.337550</td>\n",
       "      <td>0.338100</td>\n",
       "      <td>0.336425</td>\n",
       "      <td>0.337725</td>\n",
       "      <td>15857.511175</td>\n",
       "    </tr>\n",
       "    <tr>\n",
       "      <th>37</th>\n",
       "      <td>ftx</td>\n",
       "      <td>2022-11-09T21:21:59.746</td>\n",
       "      <td>0.337550</td>\n",
       "      <td>0.338100</td>\n",
       "      <td>0.336425</td>\n",
       "      <td>0.337475</td>\n",
       "      <td>15857.511175</td>\n",
       "    </tr>\n",
       "    <tr>\n",
       "      <th>38</th>\n",
       "      <td>ftx</td>\n",
       "      <td>2022-11-09T21:22:02.647</td>\n",
       "      <td>0.336800</td>\n",
       "      <td>0.336800</td>\n",
       "      <td>0.336800</td>\n",
       "      <td>0.336800</td>\n",
       "      <td>0.000000</td>\n",
       "    </tr>\n",
       "    <tr>\n",
       "      <th>39</th>\n",
       "      <td>ftx</td>\n",
       "      <td>2022-11-09T21:22:05.980</td>\n",
       "      <td>0.336800</td>\n",
       "      <td>0.336800</td>\n",
       "      <td>0.336575</td>\n",
       "      <td>0.336575</td>\n",
       "      <td>3.029175</td>\n",
       "    </tr>\n",
       "    <tr>\n",
       "      <th>40</th>\n",
       "      <td>bytetrade</td>\n",
       "      <td>2022-11-09T21:22:08.911</td>\n",
       "      <td>0.337673</td>\n",
       "      <td>0.337673</td>\n",
       "      <td>0.337673</td>\n",
       "      <td>0.337673</td>\n",
       "      <td>0.031300</td>\n",
       "    </tr>\n",
       "    <tr>\n",
       "      <th>41</th>\n",
       "      <td>bytetrade</td>\n",
       "      <td>2022-11-09T21:22:11.816</td>\n",
       "      <td>0.337673</td>\n",
       "      <td>0.337970</td>\n",
       "      <td>0.337673</td>\n",
       "      <td>0.337970</td>\n",
       "      <td>0.042300</td>\n",
       "    </tr>\n",
       "    <tr>\n",
       "      <th>42</th>\n",
       "      <td>bytetrade</td>\n",
       "      <td>2022-11-09T21:22:15.535</td>\n",
       "      <td>0.337673</td>\n",
       "      <td>0.337970</td>\n",
       "      <td>0.337596</td>\n",
       "      <td>0.337596</td>\n",
       "      <td>0.045300</td>\n",
       "    </tr>\n",
       "    <tr>\n",
       "      <th>43</th>\n",
       "      <td>bytetrade</td>\n",
       "      <td>2022-11-09T21:22:18.226</td>\n",
       "      <td>0.337673</td>\n",
       "      <td>0.337970</td>\n",
       "      <td>0.337596</td>\n",
       "      <td>0.337596</td>\n",
       "      <td>0.045300</td>\n",
       "    </tr>\n",
       "    <tr>\n",
       "      <th>44</th>\n",
       "      <td>bytetrade</td>\n",
       "      <td>2022-11-09T21:22:21.239</td>\n",
       "      <td>0.337673</td>\n",
       "      <td>0.337970</td>\n",
       "      <td>0.337596</td>\n",
       "      <td>0.337918</td>\n",
       "      <td>0.084400</td>\n",
       "    </tr>\n",
       "    <tr>\n",
       "      <th>45</th>\n",
       "      <td>bytetrade</td>\n",
       "      <td>2022-11-09T21:22:23.837</td>\n",
       "      <td>0.337673</td>\n",
       "      <td>0.338072</td>\n",
       "      <td>0.337596</td>\n",
       "      <td>0.338072</td>\n",
       "      <td>0.102100</td>\n",
       "    </tr>\n",
       "    <tr>\n",
       "      <th>46</th>\n",
       "      <td>bytetrade</td>\n",
       "      <td>2022-11-09T21:22:26.549</td>\n",
       "      <td>0.337673</td>\n",
       "      <td>0.338072</td>\n",
       "      <td>0.337596</td>\n",
       "      <td>0.338072</td>\n",
       "      <td>0.102100</td>\n",
       "    </tr>\n",
       "    <tr>\n",
       "      <th>47</th>\n",
       "      <td>bytetrade</td>\n",
       "      <td>2022-11-09T21:22:29.947</td>\n",
       "      <td>0.337673</td>\n",
       "      <td>0.338072</td>\n",
       "      <td>0.337596</td>\n",
       "      <td>0.337667</td>\n",
       "      <td>0.123400</td>\n",
       "    </tr>\n",
       "    <tr>\n",
       "      <th>48</th>\n",
       "      <td>bytetrade</td>\n",
       "      <td>2022-11-09T21:22:32.579</td>\n",
       "      <td>0.337673</td>\n",
       "      <td>0.338072</td>\n",
       "      <td>0.337596</td>\n",
       "      <td>0.337815</td>\n",
       "      <td>0.147200</td>\n",
       "    </tr>\n",
       "    <tr>\n",
       "      <th>49</th>\n",
       "      <td>bytetrade</td>\n",
       "      <td>2022-11-09T21:22:35.282</td>\n",
       "      <td>0.337673</td>\n",
       "      <td>0.338072</td>\n",
       "      <td>0.337596</td>\n",
       "      <td>0.337815</td>\n",
       "      <td>0.147200</td>\n",
       "    </tr>\n",
       "    <tr>\n",
       "      <th>50</th>\n",
       "      <td>bytetrade</td>\n",
       "      <td>2022-11-09T21:22:38.159</td>\n",
       "      <td>0.337673</td>\n",
       "      <td>0.338072</td>\n",
       "      <td>0.337596</td>\n",
       "      <td>0.337815</td>\n",
       "      <td>0.147200</td>\n",
       "    </tr>\n",
       "    <tr>\n",
       "      <th>51</th>\n",
       "      <td>bytetrade</td>\n",
       "      <td>2022-11-09T21:22:40.749</td>\n",
       "      <td>0.337673</td>\n",
       "      <td>0.338072</td>\n",
       "      <td>0.337596</td>\n",
       "      <td>0.337815</td>\n",
       "      <td>0.147200</td>\n",
       "    </tr>\n",
       "    <tr>\n",
       "      <th>52</th>\n",
       "      <td>bytetrade</td>\n",
       "      <td>2022-11-09T21:22:43.412</td>\n",
       "      <td>0.337673</td>\n",
       "      <td>0.338072</td>\n",
       "      <td>0.337596</td>\n",
       "      <td>0.337707</td>\n",
       "      <td>0.157700</td>\n",
       "    </tr>\n",
       "    <tr>\n",
       "      <th>53</th>\n",
       "      <td>bytetrade</td>\n",
       "      <td>2022-11-09T21:22:46.188</td>\n",
       "      <td>0.337673</td>\n",
       "      <td>0.338072</td>\n",
       "      <td>0.337596</td>\n",
       "      <td>0.337707</td>\n",
       "      <td>0.157700</td>\n",
       "    </tr>\n",
       "    <tr>\n",
       "      <th>54</th>\n",
       "      <td>bytetrade</td>\n",
       "      <td>2022-11-09T21:22:48.822</td>\n",
       "      <td>0.337673</td>\n",
       "      <td>0.338072</td>\n",
       "      <td>0.337596</td>\n",
       "      <td>0.337686</td>\n",
       "      <td>0.166900</td>\n",
       "    </tr>\n",
       "    <tr>\n",
       "      <th>55</th>\n",
       "      <td>bytetrade</td>\n",
       "      <td>2022-11-09T21:22:51.906</td>\n",
       "      <td>0.337673</td>\n",
       "      <td>0.338072</td>\n",
       "      <td>0.337596</td>\n",
       "      <td>0.337919</td>\n",
       "      <td>0.187300</td>\n",
       "    </tr>\n",
       "    <tr>\n",
       "      <th>56</th>\n",
       "      <td>bytetrade</td>\n",
       "      <td>2022-11-09T21:22:54.677</td>\n",
       "      <td>0.337673</td>\n",
       "      <td>0.338072</td>\n",
       "      <td>0.337596</td>\n",
       "      <td>0.337644</td>\n",
       "      <td>0.203700</td>\n",
       "    </tr>\n",
       "    <tr>\n",
       "      <th>57</th>\n",
       "      <td>bytetrade</td>\n",
       "      <td>2022-11-09T21:22:57.432</td>\n",
       "      <td>0.337673</td>\n",
       "      <td>0.338072</td>\n",
       "      <td>0.337596</td>\n",
       "      <td>0.337644</td>\n",
       "      <td>0.203700</td>\n",
       "    </tr>\n",
       "    <tr>\n",
       "      <th>58</th>\n",
       "      <td>bytetrade</td>\n",
       "      <td>2022-11-09T21:23:00.090</td>\n",
       "      <td>0.337673</td>\n",
       "      <td>0.338072</td>\n",
       "      <td>0.337596</td>\n",
       "      <td>0.337728</td>\n",
       "      <td>0.250400</td>\n",
       "    </tr>\n",
       "    <tr>\n",
       "      <th>59</th>\n",
       "      <td>bytetrade</td>\n",
       "      <td>2022-11-09T21:23:02.422</td>\n",
       "      <td>0.337728</td>\n",
       "      <td>0.337728</td>\n",
       "      <td>0.337728</td>\n",
       "      <td>0.337728</td>\n",
       "      <td>0.000000</td>\n",
       "    </tr>\n",
       "  </tbody>\n",
       "</table>\n",
       "</div>"
      ],
      "text/plain": [
       "     exchange                timestamp      open      high       low  \\\n",
       "0     binance  2022-11-09T21:20:10.820  0.337700  0.338000  0.337100   \n",
       "1     binance  2022-11-09T21:20:13.180  0.337700  0.338300  0.337100   \n",
       "2     binance  2022-11-09T21:20:16.793  0.337700  0.338300  0.337100   \n",
       "3     binance  2022-11-09T21:20:19.707  0.337700  0.338300  0.337100   \n",
       "4     binance  2022-11-09T21:20:22.205  0.337700  0.338300  0.337100   \n",
       "5     binance  2022-11-09T21:20:24.685  0.337700  0.338300  0.337100   \n",
       "6     binance  2022-11-09T21:20:27.202  0.337700  0.338300  0.337100   \n",
       "7     binance  2022-11-09T21:20:29.697  0.337700  0.338300  0.337100   \n",
       "8     binance  2022-11-09T21:20:32.344  0.337700  0.338300  0.337100   \n",
       "9     binance  2022-11-09T21:20:35.015  0.337700  0.338300  0.337100   \n",
       "10    binance  2022-11-09T21:20:37.565  0.337700  0.338300  0.337100   \n",
       "11    binance  2022-11-09T21:20:40.343  0.337700  0.338300  0.337100   \n",
       "12    binance  2022-11-09T21:20:42.843  0.337700  0.338300  0.337100   \n",
       "13    binance  2022-11-09T21:20:46.069  0.337700  0.338300  0.337100   \n",
       "14    binance  2022-11-09T21:20:48.823  0.337700  0.338300  0.337100   \n",
       "15    binance  2022-11-09T21:20:51.573  0.337700  0.338300  0.337100   \n",
       "16    binance  2022-11-09T21:20:54.238  0.337700  0.338300  0.337100   \n",
       "17    binance  2022-11-09T21:20:56.691  0.337700  0.338300  0.337100   \n",
       "18    binance  2022-11-09T21:20:59.214  0.337700  0.338300  0.337100   \n",
       "19    binance  2022-11-09T21:21:01.813  0.337100  0.337100  0.337100   \n",
       "20        ftx  2022-11-09T21:21:04.599  0.337550  0.337550  0.337450   \n",
       "21        ftx  2022-11-09T21:21:08.451  0.337550  0.337550  0.336575   \n",
       "22        ftx  2022-11-09T21:21:12.141  0.337550  0.337550  0.336425   \n",
       "23        ftx  2022-11-09T21:21:15.903  0.337550  0.337550  0.336425   \n",
       "24        ftx  2022-11-09T21:21:19.012  0.337550  0.337550  0.336425   \n",
       "25        ftx  2022-11-09T21:21:22.116  0.337550  0.337550  0.336425   \n",
       "26        ftx  2022-11-09T21:21:24.970  0.337550  0.337550  0.336425   \n",
       "27        ftx  2022-11-09T21:21:27.845  0.337550  0.337550  0.336425   \n",
       "28        ftx  2022-11-09T21:21:31.475  0.337550  0.337550  0.336425   \n",
       "29        ftx  2022-11-09T21:21:34.295  0.337550  0.337550  0.336425   \n",
       "30        ftx  2022-11-09T21:21:38.230  0.337550  0.337550  0.336425   \n",
       "31        ftx  2022-11-09T21:21:41.040  0.337550  0.337650  0.336425   \n",
       "32        ftx  2022-11-09T21:21:43.884  0.337550  0.337975  0.336425   \n",
       "33        ftx  2022-11-09T21:21:47.028  0.337550  0.338100  0.336425   \n",
       "34        ftx  2022-11-09T21:21:50.314  0.337550  0.338100  0.336425   \n",
       "35        ftx  2022-11-09T21:21:53.143  0.337550  0.338100  0.336425   \n",
       "36        ftx  2022-11-09T21:21:56.182  0.337550  0.338100  0.336425   \n",
       "37        ftx  2022-11-09T21:21:59.746  0.337550  0.338100  0.336425   \n",
       "38        ftx  2022-11-09T21:22:02.647  0.336800  0.336800  0.336800   \n",
       "39        ftx  2022-11-09T21:22:05.980  0.336800  0.336800  0.336575   \n",
       "40  bytetrade  2022-11-09T21:22:08.911  0.337673  0.337673  0.337673   \n",
       "41  bytetrade  2022-11-09T21:22:11.816  0.337673  0.337970  0.337673   \n",
       "42  bytetrade  2022-11-09T21:22:15.535  0.337673  0.337970  0.337596   \n",
       "43  bytetrade  2022-11-09T21:22:18.226  0.337673  0.337970  0.337596   \n",
       "44  bytetrade  2022-11-09T21:22:21.239  0.337673  0.337970  0.337596   \n",
       "45  bytetrade  2022-11-09T21:22:23.837  0.337673  0.338072  0.337596   \n",
       "46  bytetrade  2022-11-09T21:22:26.549  0.337673  0.338072  0.337596   \n",
       "47  bytetrade  2022-11-09T21:22:29.947  0.337673  0.338072  0.337596   \n",
       "48  bytetrade  2022-11-09T21:22:32.579  0.337673  0.338072  0.337596   \n",
       "49  bytetrade  2022-11-09T21:22:35.282  0.337673  0.338072  0.337596   \n",
       "50  bytetrade  2022-11-09T21:22:38.159  0.337673  0.338072  0.337596   \n",
       "51  bytetrade  2022-11-09T21:22:40.749  0.337673  0.338072  0.337596   \n",
       "52  bytetrade  2022-11-09T21:22:43.412  0.337673  0.338072  0.337596   \n",
       "53  bytetrade  2022-11-09T21:22:46.188  0.337673  0.338072  0.337596   \n",
       "54  bytetrade  2022-11-09T21:22:48.822  0.337673  0.338072  0.337596   \n",
       "55  bytetrade  2022-11-09T21:22:51.906  0.337673  0.338072  0.337596   \n",
       "56  bytetrade  2022-11-09T21:22:54.677  0.337673  0.338072  0.337596   \n",
       "57  bytetrade  2022-11-09T21:22:57.432  0.337673  0.338072  0.337596   \n",
       "58  bytetrade  2022-11-09T21:23:00.090  0.337673  0.338072  0.337596   \n",
       "59  bytetrade  2022-11-09T21:23:02.422  0.337728  0.337728  0.337728   \n",
       "\n",
       "       close         volume  \n",
       "0   0.337500   88493.000000  \n",
       "1   0.337900  100567.000000  \n",
       "2   0.337800  114224.000000  \n",
       "3   0.337900  122114.000000  \n",
       "4   0.337700  130254.000000  \n",
       "5   0.337100  183343.000000  \n",
       "6   0.337900  215625.000000  \n",
       "7   0.337800  230245.000000  \n",
       "8   0.337800  239147.000000  \n",
       "9   0.338100  257489.000000  \n",
       "10  0.337900  274982.000000  \n",
       "11  0.337900  330937.000000  \n",
       "12  0.337900  331270.000000  \n",
       "13  0.338000  344512.000000  \n",
       "14  0.337600  366780.000000  \n",
       "15  0.337800  373172.000000  \n",
       "16  0.337200  388168.000000  \n",
       "17  0.337200  482487.000000  \n",
       "18  0.337100  496903.000000  \n",
       "19  0.337100     502.000000  \n",
       "20  0.337450       0.000000  \n",
       "21  0.336575    2757.592650  \n",
       "22  0.336425    4925.897825  \n",
       "23  0.336425    4925.897825  \n",
       "24  0.336425    9857.888325  \n",
       "25  0.336675   15623.497425  \n",
       "26  0.336925   15717.810175  \n",
       "27  0.336925   15717.810175  \n",
       "28  0.336925   15717.810175  \n",
       "29  0.336925   15717.810175  \n",
       "30  0.336925   15717.810175  \n",
       "31  0.337525   15825.774825  \n",
       "32  0.337975   15857.511175  \n",
       "33  0.337875   15857.511175  \n",
       "34  0.337875   15857.511175  \n",
       "35  0.337875   15857.511175  \n",
       "36  0.337725   15857.511175  \n",
       "37  0.337475   15857.511175  \n",
       "38  0.336800       0.000000  \n",
       "39  0.336575       3.029175  \n",
       "40  0.337673       0.031300  \n",
       "41  0.337970       0.042300  \n",
       "42  0.337596       0.045300  \n",
       "43  0.337596       0.045300  \n",
       "44  0.337918       0.084400  \n",
       "45  0.338072       0.102100  \n",
       "46  0.338072       0.102100  \n",
       "47  0.337667       0.123400  \n",
       "48  0.337815       0.147200  \n",
       "49  0.337815       0.147200  \n",
       "50  0.337815       0.147200  \n",
       "51  0.337815       0.147200  \n",
       "52  0.337707       0.157700  \n",
       "53  0.337707       0.157700  \n",
       "54  0.337686       0.166900  \n",
       "55  0.337919       0.187300  \n",
       "56  0.337644       0.203700  \n",
       "57  0.337644       0.203700  \n",
       "58  0.337728       0.250400  \n",
       "59  0.337728       0.000000  "
      ]
     },
     "execution_count": 43,
     "metadata": {},
     "output_type": "execute_result"
    }
   ],
   "source": [
    "verif_df3_OH = fn.concatenate(verif_0_X[1], verif_1_X[1], verif_2_X[1], n)\n",
    "verif_df3_OH"
   ]
  },
  {
   "cell_type": "markdown",
   "metadata": {},
   "source": [
    "<font color= orange> <font size = 5> 2. Microstructure Visualization </font>"
   ]
  },
  {
   "cell_type": "markdown",
   "metadata": {},
   "source": [
    "Now we are going to obtain the total_volume, mid_price and VWAP for criptocurrencies in every exchange."
   ]
  },
  {
   "cell_type": "code",
   "execution_count": 58,
   "metadata": {},
   "outputs": [
    {
     "name": "stdout",
     "output_type": "stream",
     "text": [
      "Help on function Micro in module visualizations:\n",
      "\n",
      "Micro(lvls, cripto, exchange, n, ts)\n",
      "    Function that returns Microstructure OB and OHLCV for i levels (as integer) n times \n",
      "    from specified criptocurrency ('BTC/USDT','ETH/USDT','XRP/USDT', or others) and the \n",
      "    following exchanges: binance, ftx or bytetrade (as string).\n",
      "    \n",
      "    Parameters:\n",
      "    ----------\n",
      "    lvls: Levels of bids/asks in the Order Book (int).\n",
      "    cripto: Criptocurrency downloadable ticker (str).\n",
      "    exchanges: Criptocurrency downloadable Exchange (str).\n",
      "    n: Data retrieval per exchange (int).\n",
      "    ts: timesleep (s) required in between data retrieval.\n",
      "    \n",
      "    Returns:\n",
      "    -------\n",
      "    Micro[0]: Order Books Data.\n",
      "    Micro[1]: OHLCV Data.\n",
      "\n"
     ]
    }
   ],
   "source": [
    "help(vs.Micro)"
   ]
  },
  {
   "cell_type": "code",
   "execution_count": 59,
   "metadata": {},
   "outputs": [
    {
     "data": {
      "text/plain": [
       "((25, 'BTC/USDT', 'binance'),\n",
       " (25, 'BTC/USDT', 'ftx'),\n",
       " (25, 'BTC/USDT', 'bytetrade'))"
      ]
     },
     "execution_count": 59,
     "metadata": {},
     "output_type": "execute_result"
    }
   ],
   "source": [
    "params0= 25, criptos[0], exchanges[0]\n",
    "params1= 25, criptos[0], exchanges[1]\n",
    "params2= 25, criptos[0], exchanges[2]\n",
    "params0,params1,params2"
   ]
  },
  {
   "cell_type": "markdown",
   "metadata": {},
   "source": [
    "<strong> \n",
    "<font color= lightgreen> <font size = 3> Progress check 2.1 </font>"
   ]
  },
  {
   "cell_type": "code",
   "execution_count": 61,
   "metadata": {},
   "outputs": [],
   "source": [
    "n=20\n",
    "MS_0 = vs.Micro(params0[0],params0[1], params0[2], n, .01)\n",
    "MS_1 = vs.Micro(params1[0],params1[1], params1[2], n, .01)\n",
    "MS_2 = vs.Micro(params2[0],params2[1], params2[2], n, .01)"
   ]
  },
  {
   "cell_type": "markdown",
   "metadata": {},
   "source": [
    "Bid and Asks Volumes in the Microstructure determine the demand and it's a factor for price movements. This is also true for the VWAP which is a trend detector by reflecting the price adjusted by its volume."
   ]
  },
  {
   "cell_type": "code",
   "execution_count": 62,
   "metadata": {},
   "outputs": [
    {
     "data": {
      "text/html": [
       "<div>\n",
       "<style scoped>\n",
       "    .dataframe tbody tr th:only-of-type {\n",
       "        vertical-align: middle;\n",
       "    }\n",
       "\n",
       "    .dataframe tbody tr th {\n",
       "        vertical-align: top;\n",
       "    }\n",
       "\n",
       "    .dataframe thead th {\n",
       "        text-align: right;\n",
       "    }\n",
       "</style>\n",
       "<table border=\"1\" class=\"dataframe\">\n",
       "  <thead>\n",
       "    <tr style=\"text-align: right;\">\n",
       "      <th></th>\n",
       "      <th>exchange</th>\n",
       "      <th>timestamp</th>\n",
       "      <th>level</th>\n",
       "      <th>ask_volume</th>\n",
       "      <th>bid_volume</th>\n",
       "      <th>total_volume</th>\n",
       "      <th>mid_price</th>\n",
       "      <th>vwap</th>\n",
       "    </tr>\n",
       "  </thead>\n",
       "  <tbody>\n",
       "    <tr>\n",
       "      <th>0</th>\n",
       "      <td>binance</td>\n",
       "      <td>2022-11-09T21:36:09.888</td>\n",
       "      <td>25</td>\n",
       "      <td>6.95810</td>\n",
       "      <td>2.056230</td>\n",
       "      <td>9.014330</td>\n",
       "      <td>16145.545</td>\n",
       "      <td>17935.304575</td>\n",
       "    </tr>\n",
       "    <tr>\n",
       "      <th>1</th>\n",
       "      <td>binance</td>\n",
       "      <td>2022-11-09T21:36:11.431</td>\n",
       "      <td>25</td>\n",
       "      <td>7.92624</td>\n",
       "      <td>2.806930</td>\n",
       "      <td>10.733170</td>\n",
       "      <td>16142.890</td>\n",
       "      <td>17646.718415</td>\n",
       "    </tr>\n",
       "    <tr>\n",
       "      <th>2</th>\n",
       "      <td>binance</td>\n",
       "      <td>2022-11-09T21:36:13.083</td>\n",
       "      <td>25</td>\n",
       "      <td>3.04364</td>\n",
       "      <td>3.836780</td>\n",
       "      <td>6.880420</td>\n",
       "      <td>16137.950</td>\n",
       "      <td>18483.199779</td>\n",
       "    </tr>\n",
       "    <tr>\n",
       "      <th>3</th>\n",
       "      <td>binance</td>\n",
       "      <td>2022-11-09T21:36:14.509</td>\n",
       "      <td>25</td>\n",
       "      <td>2.01445</td>\n",
       "      <td>0.993180</td>\n",
       "      <td>3.007630</td>\n",
       "      <td>16133.380</td>\n",
       "      <td>21497.043227</td>\n",
       "    </tr>\n",
       "    <tr>\n",
       "      <th>4</th>\n",
       "      <td>binance</td>\n",
       "      <td>2022-11-09T21:36:15.872</td>\n",
       "      <td>25</td>\n",
       "      <td>2.43277</td>\n",
       "      <td>0.829020</td>\n",
       "      <td>3.261790</td>\n",
       "      <td>16123.580</td>\n",
       "      <td>21066.478808</td>\n",
       "    </tr>\n",
       "    <tr>\n",
       "      <th>5</th>\n",
       "      <td>binance</td>\n",
       "      <td>2022-11-09T21:36:17.590</td>\n",
       "      <td>25</td>\n",
       "      <td>3.71112</td>\n",
       "      <td>1.232510</td>\n",
       "      <td>4.943630</td>\n",
       "      <td>16125.975</td>\n",
       "      <td>19387.502721</td>\n",
       "    </tr>\n",
       "    <tr>\n",
       "      <th>6</th>\n",
       "      <td>binance</td>\n",
       "      <td>2022-11-09T21:36:19.240</td>\n",
       "      <td>25</td>\n",
       "      <td>2.19635</td>\n",
       "      <td>2.108630</td>\n",
       "      <td>4.304980</td>\n",
       "      <td>16131.920</td>\n",
       "      <td>19877.830593</td>\n",
       "    </tr>\n",
       "    <tr>\n",
       "      <th>7</th>\n",
       "      <td>binance</td>\n",
       "      <td>2022-11-09T21:36:20.746</td>\n",
       "      <td>25</td>\n",
       "      <td>2.19647</td>\n",
       "      <td>1.324380</td>\n",
       "      <td>3.520850</td>\n",
       "      <td>16125.100</td>\n",
       "      <td>20704.744947</td>\n",
       "    </tr>\n",
       "    <tr>\n",
       "      <th>8</th>\n",
       "      <td>binance</td>\n",
       "      <td>2022-11-09T21:36:22.140</td>\n",
       "      <td>25</td>\n",
       "      <td>1.96892</td>\n",
       "      <td>1.854620</td>\n",
       "      <td>3.823540</td>\n",
       "      <td>16120.755</td>\n",
       "      <td>20336.937094</td>\n",
       "    </tr>\n",
       "    <tr>\n",
       "      <th>9</th>\n",
       "      <td>binance</td>\n",
       "      <td>2022-11-09T21:36:23.567</td>\n",
       "      <td>25</td>\n",
       "      <td>1.56081</td>\n",
       "      <td>1.564200</td>\n",
       "      <td>3.125010</td>\n",
       "      <td>16117.685</td>\n",
       "      <td>21274.181894</td>\n",
       "    </tr>\n",
       "    <tr>\n",
       "      <th>10</th>\n",
       "      <td>binance</td>\n",
       "      <td>2022-11-09T21:36:25.084</td>\n",
       "      <td>25</td>\n",
       "      <td>0.80988</td>\n",
       "      <td>1.666370</td>\n",
       "      <td>2.476250</td>\n",
       "      <td>16117.115</td>\n",
       "      <td>22625.104876</td>\n",
       "    </tr>\n",
       "    <tr>\n",
       "      <th>11</th>\n",
       "      <td>binance</td>\n",
       "      <td>2022-11-09T21:36:26.567</td>\n",
       "      <td>25</td>\n",
       "      <td>1.37449</td>\n",
       "      <td>1.195000</td>\n",
       "      <td>2.569490</td>\n",
       "      <td>16109.075</td>\n",
       "      <td>22378.182086</td>\n",
       "    </tr>\n",
       "    <tr>\n",
       "      <th>12</th>\n",
       "      <td>binance</td>\n",
       "      <td>2022-11-09T21:36:28.381</td>\n",
       "      <td>25</td>\n",
       "      <td>1.36978</td>\n",
       "      <td>1.508300</td>\n",
       "      <td>2.878080</td>\n",
       "      <td>16109.665</td>\n",
       "      <td>21705.088933</td>\n",
       "    </tr>\n",
       "    <tr>\n",
       "      <th>13</th>\n",
       "      <td>binance</td>\n",
       "      <td>2022-11-09T21:36:29.746</td>\n",
       "      <td>25</td>\n",
       "      <td>2.88765</td>\n",
       "      <td>1.758010</td>\n",
       "      <td>4.645660</td>\n",
       "      <td>16095.295</td>\n",
       "      <td>19559.132947</td>\n",
       "    </tr>\n",
       "    <tr>\n",
       "      <th>14</th>\n",
       "      <td>binance</td>\n",
       "      <td>2022-11-09T21:36:31.740</td>\n",
       "      <td>25</td>\n",
       "      <td>1.96091</td>\n",
       "      <td>1.497010</td>\n",
       "      <td>3.457920</td>\n",
       "      <td>16088.890</td>\n",
       "      <td>20740.553493</td>\n",
       "    </tr>\n",
       "    <tr>\n",
       "      <th>15</th>\n",
       "      <td>binance</td>\n",
       "      <td>2022-11-09T21:36:33.223</td>\n",
       "      <td>25</td>\n",
       "      <td>1.50013</td>\n",
       "      <td>1.794850</td>\n",
       "      <td>3.294980</td>\n",
       "      <td>16105.040</td>\n",
       "      <td>20991.585498</td>\n",
       "    </tr>\n",
       "    <tr>\n",
       "      <th>16</th>\n",
       "      <td>binance</td>\n",
       "      <td>2022-11-09T21:36:34.908</td>\n",
       "      <td>25</td>\n",
       "      <td>0.85810</td>\n",
       "      <td>2.241520</td>\n",
       "      <td>3.099620</td>\n",
       "      <td>16094.940</td>\n",
       "      <td>21287.004922</td>\n",
       "    </tr>\n",
       "    <tr>\n",
       "      <th>17</th>\n",
       "      <td>binance</td>\n",
       "      <td>2022-11-09T21:36:36.388</td>\n",
       "      <td>25</td>\n",
       "      <td>1.68727</td>\n",
       "      <td>2.232070</td>\n",
       "      <td>3.919340</td>\n",
       "      <td>16098.605</td>\n",
       "      <td>20205.446704</td>\n",
       "    </tr>\n",
       "    <tr>\n",
       "      <th>18</th>\n",
       "      <td>binance</td>\n",
       "      <td>2022-11-09T21:36:37.946</td>\n",
       "      <td>25</td>\n",
       "      <td>2.45489</td>\n",
       "      <td>1.357760</td>\n",
       "      <td>3.812650</td>\n",
       "      <td>16101.785</td>\n",
       "      <td>20324.532521</td>\n",
       "    </tr>\n",
       "    <tr>\n",
       "      <th>19</th>\n",
       "      <td>binance</td>\n",
       "      <td>2022-11-09T21:36:39.421</td>\n",
       "      <td>25</td>\n",
       "      <td>0.90260</td>\n",
       "      <td>8.649120</td>\n",
       "      <td>9.551720</td>\n",
       "      <td>16107.575</td>\n",
       "      <td>17792.822644</td>\n",
       "    </tr>\n",
       "    <tr>\n",
       "      <th>20</th>\n",
       "      <td>ftx</td>\n",
       "      <td>2022-11-09T21:36:41.267</td>\n",
       "      <td>25</td>\n",
       "      <td>3.18040</td>\n",
       "      <td>9.931800</td>\n",
       "      <td>13.112200</td>\n",
       "      <td>15981.500</td>\n",
       "      <td>17179.542701</td>\n",
       "    </tr>\n",
       "    <tr>\n",
       "      <th>21</th>\n",
       "      <td>ftx</td>\n",
       "      <td>2022-11-09T21:36:42.585</td>\n",
       "      <td>25</td>\n",
       "      <td>3.35060</td>\n",
       "      <td>16.691200</td>\n",
       "      <td>20.041800</td>\n",
       "      <td>15980.500</td>\n",
       "      <td>16757.431279</td>\n",
       "    </tr>\n",
       "    <tr>\n",
       "      <th>22</th>\n",
       "      <td>ftx</td>\n",
       "      <td>2022-11-09T21:36:43.809</td>\n",
       "      <td>25</td>\n",
       "      <td>3.18730</td>\n",
       "      <td>10.061400</td>\n",
       "      <td>13.248700</td>\n",
       "      <td>15979.000</td>\n",
       "      <td>17166.590179</td>\n",
       "    </tr>\n",
       "    <tr>\n",
       "      <th>23</th>\n",
       "      <td>ftx</td>\n",
       "      <td>2022-11-09T21:36:45.246</td>\n",
       "      <td>25</td>\n",
       "      <td>7.13960</td>\n",
       "      <td>9.919500</td>\n",
       "      <td>17.059100</td>\n",
       "      <td>15977.500</td>\n",
       "      <td>16896.681355</td>\n",
       "    </tr>\n",
       "    <tr>\n",
       "      <th>24</th>\n",
       "      <td>ftx</td>\n",
       "      <td>2022-11-09T21:36:46.958</td>\n",
       "      <td>25</td>\n",
       "      <td>7.85570</td>\n",
       "      <td>9.858000</td>\n",
       "      <td>17.713700</td>\n",
       "      <td>15973.000</td>\n",
       "      <td>16861.521777</td>\n",
       "    </tr>\n",
       "    <tr>\n",
       "      <th>25</th>\n",
       "      <td>ftx</td>\n",
       "      <td>2022-11-09T21:36:49.087</td>\n",
       "      <td>25</td>\n",
       "      <td>11.94020</td>\n",
       "      <td>0.050200</td>\n",
       "      <td>11.990400</td>\n",
       "      <td>15963.000</td>\n",
       "      <td>17279.649453</td>\n",
       "    </tr>\n",
       "    <tr>\n",
       "      <th>26</th>\n",
       "      <td>ftx</td>\n",
       "      <td>2022-11-09T21:36:50.833</td>\n",
       "      <td>25</td>\n",
       "      <td>10.42420</td>\n",
       "      <td>0.065100</td>\n",
       "      <td>10.489300</td>\n",
       "      <td>15958.000</td>\n",
       "      <td>17463.980561</td>\n",
       "    </tr>\n",
       "    <tr>\n",
       "      <th>27</th>\n",
       "      <td>ftx</td>\n",
       "      <td>2022-11-09T21:36:52.953</td>\n",
       "      <td>25</td>\n",
       "      <td>3.80700</td>\n",
       "      <td>0.193600</td>\n",
       "      <td>4.000600</td>\n",
       "      <td>15948.000</td>\n",
       "      <td>19917.901215</td>\n",
       "    </tr>\n",
       "    <tr>\n",
       "      <th>28</th>\n",
       "      <td>ftx</td>\n",
       "      <td>2022-11-09T21:36:54.212</td>\n",
       "      <td>25</td>\n",
       "      <td>6.45780</td>\n",
       "      <td>0.428400</td>\n",
       "      <td>6.886200</td>\n",
       "      <td>15945.500</td>\n",
       "      <td>18240.131016</td>\n",
       "    </tr>\n",
       "    <tr>\n",
       "      <th>29</th>\n",
       "      <td>ftx</td>\n",
       "      <td>2022-11-09T21:36:56.367</td>\n",
       "      <td>25</td>\n",
       "      <td>5.75880</td>\n",
       "      <td>0.442700</td>\n",
       "      <td>6.201500</td>\n",
       "      <td>15945.500</td>\n",
       "      <td>18496.183423</td>\n",
       "    </tr>\n",
       "    <tr>\n",
       "      <th>30</th>\n",
       "      <td>ftx</td>\n",
       "      <td>2022-11-09T21:36:59.287</td>\n",
       "      <td>25</td>\n",
       "      <td>5.87310</td>\n",
       "      <td>1.328700</td>\n",
       "      <td>7.201800</td>\n",
       "      <td>15940.000</td>\n",
       "      <td>18136.973784</td>\n",
       "    </tr>\n",
       "    <tr>\n",
       "      <th>31</th>\n",
       "      <td>ftx</td>\n",
       "      <td>2022-11-09T21:37:00.687</td>\n",
       "      <td>25</td>\n",
       "      <td>11.85270</td>\n",
       "      <td>1.198400</td>\n",
       "      <td>13.051100</td>\n",
       "      <td>15940.000</td>\n",
       "      <td>17143.808805</td>\n",
       "    </tr>\n",
       "    <tr>\n",
       "      <th>32</th>\n",
       "      <td>ftx</td>\n",
       "      <td>2022-11-09T21:37:03.010</td>\n",
       "      <td>25</td>\n",
       "      <td>6.41070</td>\n",
       "      <td>3.086800</td>\n",
       "      <td>9.497500</td>\n",
       "      <td>15938.000</td>\n",
       "      <td>17600.915767</td>\n",
       "    </tr>\n",
       "    <tr>\n",
       "      <th>33</th>\n",
       "      <td>ftx</td>\n",
       "      <td>2022-11-09T21:37:04.446</td>\n",
       "      <td>25</td>\n",
       "      <td>5.96890</td>\n",
       "      <td>14.375000</td>\n",
       "      <td>20.343900</td>\n",
       "      <td>15938.500</td>\n",
       "      <td>16705.313725</td>\n",
       "    </tr>\n",
       "    <tr>\n",
       "      <th>34</th>\n",
       "      <td>ftx</td>\n",
       "      <td>2022-11-09T21:37:06.435</td>\n",
       "      <td>25</td>\n",
       "      <td>6.10690</td>\n",
       "      <td>10.146600</td>\n",
       "      <td>16.253500</td>\n",
       "      <td>15938.000</td>\n",
       "      <td>16902.634725</td>\n",
       "    </tr>\n",
       "    <tr>\n",
       "      <th>35</th>\n",
       "      <td>ftx</td>\n",
       "      <td>2022-11-09T21:37:08.162</td>\n",
       "      <td>25</td>\n",
       "      <td>6.12320</td>\n",
       "      <td>12.383200</td>\n",
       "      <td>18.506400</td>\n",
       "      <td>15938.000</td>\n",
       "      <td>16783.134181</td>\n",
       "    </tr>\n",
       "    <tr>\n",
       "      <th>36</th>\n",
       "      <td>ftx</td>\n",
       "      <td>2022-11-09T21:37:10.288</td>\n",
       "      <td>25</td>\n",
       "      <td>6.08190</td>\n",
       "      <td>11.216400</td>\n",
       "      <td>17.298300</td>\n",
       "      <td>15937.000</td>\n",
       "      <td>16843.229352</td>\n",
       "    </tr>\n",
       "    <tr>\n",
       "      <th>37</th>\n",
       "      <td>ftx</td>\n",
       "      <td>2022-11-09T21:37:12.043</td>\n",
       "      <td>25</td>\n",
       "      <td>5.78540</td>\n",
       "      <td>10.145100</td>\n",
       "      <td>15.930500</td>\n",
       "      <td>15937.000</td>\n",
       "      <td>16922.412385</td>\n",
       "    </tr>\n",
       "    <tr>\n",
       "      <th>38</th>\n",
       "      <td>ftx</td>\n",
       "      <td>2022-11-09T21:37:14.360</td>\n",
       "      <td>25</td>\n",
       "      <td>7.45170</td>\n",
       "      <td>10.142700</td>\n",
       "      <td>17.594400</td>\n",
       "      <td>15937.000</td>\n",
       "      <td>16827.708953</td>\n",
       "    </tr>\n",
       "    <tr>\n",
       "      <th>39</th>\n",
       "      <td>ftx</td>\n",
       "      <td>2022-11-09T21:37:17.967</td>\n",
       "      <td>25</td>\n",
       "      <td>5.42270</td>\n",
       "      <td>13.006700</td>\n",
       "      <td>18.429400</td>\n",
       "      <td>15944.500</td>\n",
       "      <td>16787.441664</td>\n",
       "    </tr>\n",
       "    <tr>\n",
       "      <th>40</th>\n",
       "      <td>bytetrade</td>\n",
       "      <td>2022-11-09T21:37:19.866</td>\n",
       "      <td>25</td>\n",
       "      <td>3.27354</td>\n",
       "      <td>3.024723</td>\n",
       "      <td>6.298263</td>\n",
       "      <td>16078.000</td>\n",
       "      <td>18526.034681</td>\n",
       "    </tr>\n",
       "    <tr>\n",
       "      <th>41</th>\n",
       "      <td>bytetrade</td>\n",
       "      <td>2022-11-09T21:37:21.738</td>\n",
       "      <td>25</td>\n",
       "      <td>3.27354</td>\n",
       "      <td>3.024723</td>\n",
       "      <td>6.298263</td>\n",
       "      <td>16078.000</td>\n",
       "      <td>18526.034681</td>\n",
       "    </tr>\n",
       "    <tr>\n",
       "      <th>42</th>\n",
       "      <td>bytetrade</td>\n",
       "      <td>2022-11-09T21:37:23.343</td>\n",
       "      <td>25</td>\n",
       "      <td>3.27354</td>\n",
       "      <td>3.024723</td>\n",
       "      <td>6.298263</td>\n",
       "      <td>16078.000</td>\n",
       "      <td>18526.034681</td>\n",
       "    </tr>\n",
       "    <tr>\n",
       "      <th>43</th>\n",
       "      <td>bytetrade</td>\n",
       "      <td>2022-11-09T21:37:25.151</td>\n",
       "      <td>25</td>\n",
       "      <td>3.27354</td>\n",
       "      <td>2.907263</td>\n",
       "      <td>6.180803</td>\n",
       "      <td>16097.150</td>\n",
       "      <td>18613.223139</td>\n",
       "    </tr>\n",
       "    <tr>\n",
       "      <th>44</th>\n",
       "      <td>bytetrade</td>\n",
       "      <td>2022-11-09T21:37:26.940</td>\n",
       "      <td>25</td>\n",
       "      <td>3.27354</td>\n",
       "      <td>2.907263</td>\n",
       "      <td>6.180803</td>\n",
       "      <td>16097.150</td>\n",
       "      <td>18613.223139</td>\n",
       "    </tr>\n",
       "    <tr>\n",
       "      <th>45</th>\n",
       "      <td>bytetrade</td>\n",
       "      <td>2022-11-09T21:37:28.419</td>\n",
       "      <td>25</td>\n",
       "      <td>3.27354</td>\n",
       "      <td>2.907263</td>\n",
       "      <td>6.180803</td>\n",
       "      <td>16097.150</td>\n",
       "      <td>18613.223139</td>\n",
       "    </tr>\n",
       "    <tr>\n",
       "      <th>46</th>\n",
       "      <td>bytetrade</td>\n",
       "      <td>2022-11-09T21:37:29.912</td>\n",
       "      <td>25</td>\n",
       "      <td>3.27354</td>\n",
       "      <td>2.907263</td>\n",
       "      <td>6.180803</td>\n",
       "      <td>16097.150</td>\n",
       "      <td>18613.223139</td>\n",
       "    </tr>\n",
       "    <tr>\n",
       "      <th>47</th>\n",
       "      <td>bytetrade</td>\n",
       "      <td>2022-11-09T21:37:31.681</td>\n",
       "      <td>25</td>\n",
       "      <td>3.27354</td>\n",
       "      <td>3.022663</td>\n",
       "      <td>6.296203</td>\n",
       "      <td>16097.150</td>\n",
       "      <td>18565.176367</td>\n",
       "    </tr>\n",
       "    <tr>\n",
       "      <th>48</th>\n",
       "      <td>bytetrade</td>\n",
       "      <td>2022-11-09T21:37:33.188</td>\n",
       "      <td>25</td>\n",
       "      <td>3.27354</td>\n",
       "      <td>3.022663</td>\n",
       "      <td>6.296203</td>\n",
       "      <td>16097.150</td>\n",
       "      <td>18565.176367</td>\n",
       "    </tr>\n",
       "    <tr>\n",
       "      <th>49</th>\n",
       "      <td>bytetrade</td>\n",
       "      <td>2022-11-09T21:37:35.020</td>\n",
       "      <td>25</td>\n",
       "      <td>3.27354</td>\n",
       "      <td>3.022663</td>\n",
       "      <td>6.296203</td>\n",
       "      <td>16097.150</td>\n",
       "      <td>18565.176367</td>\n",
       "    </tr>\n",
       "    <tr>\n",
       "      <th>50</th>\n",
       "      <td>bytetrade</td>\n",
       "      <td>2022-11-09T21:37:36.785</td>\n",
       "      <td>25</td>\n",
       "      <td>3.27354</td>\n",
       "      <td>3.022663</td>\n",
       "      <td>6.296203</td>\n",
       "      <td>16097.150</td>\n",
       "      <td>18565.176367</td>\n",
       "    </tr>\n",
       "    <tr>\n",
       "      <th>51</th>\n",
       "      <td>bytetrade</td>\n",
       "      <td>2022-11-09T21:37:38.588</td>\n",
       "      <td>25</td>\n",
       "      <td>3.27354</td>\n",
       "      <td>3.022663</td>\n",
       "      <td>6.296203</td>\n",
       "      <td>16097.150</td>\n",
       "      <td>18565.176367</td>\n",
       "    </tr>\n",
       "    <tr>\n",
       "      <th>52</th>\n",
       "      <td>bytetrade</td>\n",
       "      <td>2022-11-09T21:37:40.367</td>\n",
       "      <td>25</td>\n",
       "      <td>3.27354</td>\n",
       "      <td>3.022663</td>\n",
       "      <td>6.296203</td>\n",
       "      <td>16097.150</td>\n",
       "      <td>18565.176367</td>\n",
       "    </tr>\n",
       "    <tr>\n",
       "      <th>53</th>\n",
       "      <td>bytetrade</td>\n",
       "      <td>2022-11-09T21:37:42.163</td>\n",
       "      <td>25</td>\n",
       "      <td>3.10664</td>\n",
       "      <td>3.026903</td>\n",
       "      <td>6.133543</td>\n",
       "      <td>16067.900</td>\n",
       "      <td>18601.704440</td>\n",
       "    </tr>\n",
       "    <tr>\n",
       "      <th>54</th>\n",
       "      <td>bytetrade</td>\n",
       "      <td>2022-11-09T21:37:44.664</td>\n",
       "      <td>25</td>\n",
       "      <td>3.10664</td>\n",
       "      <td>3.026903</td>\n",
       "      <td>6.133543</td>\n",
       "      <td>16067.900</td>\n",
       "      <td>18601.704440</td>\n",
       "    </tr>\n",
       "    <tr>\n",
       "      <th>55</th>\n",
       "      <td>bytetrade</td>\n",
       "      <td>2022-11-09T21:37:46.411</td>\n",
       "      <td>25</td>\n",
       "      <td>3.27354</td>\n",
       "      <td>3.023313</td>\n",
       "      <td>6.296853</td>\n",
       "      <td>16066.500</td>\n",
       "      <td>18503.610727</td>\n",
       "    </tr>\n",
       "    <tr>\n",
       "      <th>56</th>\n",
       "      <td>bytetrade</td>\n",
       "      <td>2022-11-09T21:37:47.973</td>\n",
       "      <td>25</td>\n",
       "      <td>3.27354</td>\n",
       "      <td>3.023313</td>\n",
       "      <td>6.296853</td>\n",
       "      <td>16066.500</td>\n",
       "      <td>18503.610727</td>\n",
       "    </tr>\n",
       "    <tr>\n",
       "      <th>57</th>\n",
       "      <td>bytetrade</td>\n",
       "      <td>2022-11-09T21:37:49.746</td>\n",
       "      <td>25</td>\n",
       "      <td>3.27354</td>\n",
       "      <td>3.021963</td>\n",
       "      <td>6.295503</td>\n",
       "      <td>16096.100</td>\n",
       "      <td>18563.362502</td>\n",
       "    </tr>\n",
       "    <tr>\n",
       "      <th>58</th>\n",
       "      <td>bytetrade</td>\n",
       "      <td>2022-11-09T21:37:51.336</td>\n",
       "      <td>25</td>\n",
       "      <td>3.27354</td>\n",
       "      <td>3.021963</td>\n",
       "      <td>6.295503</td>\n",
       "      <td>16096.100</td>\n",
       "      <td>18563.362502</td>\n",
       "    </tr>\n",
       "    <tr>\n",
       "      <th>59</th>\n",
       "      <td>bytetrade</td>\n",
       "      <td>2022-11-09T21:37:53.109</td>\n",
       "      <td>25</td>\n",
       "      <td>3.27354</td>\n",
       "      <td>3.021963</td>\n",
       "      <td>6.295503</td>\n",
       "      <td>16096.100</td>\n",
       "      <td>18563.362502</td>\n",
       "    </tr>\n",
       "  </tbody>\n",
       "</table>\n",
       "</div>"
      ],
      "text/plain": [
       "     exchange                timestamp  level  ask_volume  bid_volume  \\\n",
       "0     binance  2022-11-09T21:36:09.888     25     6.95810    2.056230   \n",
       "1     binance  2022-11-09T21:36:11.431     25     7.92624    2.806930   \n",
       "2     binance  2022-11-09T21:36:13.083     25     3.04364    3.836780   \n",
       "3     binance  2022-11-09T21:36:14.509     25     2.01445    0.993180   \n",
       "4     binance  2022-11-09T21:36:15.872     25     2.43277    0.829020   \n",
       "5     binance  2022-11-09T21:36:17.590     25     3.71112    1.232510   \n",
       "6     binance  2022-11-09T21:36:19.240     25     2.19635    2.108630   \n",
       "7     binance  2022-11-09T21:36:20.746     25     2.19647    1.324380   \n",
       "8     binance  2022-11-09T21:36:22.140     25     1.96892    1.854620   \n",
       "9     binance  2022-11-09T21:36:23.567     25     1.56081    1.564200   \n",
       "10    binance  2022-11-09T21:36:25.084     25     0.80988    1.666370   \n",
       "11    binance  2022-11-09T21:36:26.567     25     1.37449    1.195000   \n",
       "12    binance  2022-11-09T21:36:28.381     25     1.36978    1.508300   \n",
       "13    binance  2022-11-09T21:36:29.746     25     2.88765    1.758010   \n",
       "14    binance  2022-11-09T21:36:31.740     25     1.96091    1.497010   \n",
       "15    binance  2022-11-09T21:36:33.223     25     1.50013    1.794850   \n",
       "16    binance  2022-11-09T21:36:34.908     25     0.85810    2.241520   \n",
       "17    binance  2022-11-09T21:36:36.388     25     1.68727    2.232070   \n",
       "18    binance  2022-11-09T21:36:37.946     25     2.45489    1.357760   \n",
       "19    binance  2022-11-09T21:36:39.421     25     0.90260    8.649120   \n",
       "20        ftx  2022-11-09T21:36:41.267     25     3.18040    9.931800   \n",
       "21        ftx  2022-11-09T21:36:42.585     25     3.35060   16.691200   \n",
       "22        ftx  2022-11-09T21:36:43.809     25     3.18730   10.061400   \n",
       "23        ftx  2022-11-09T21:36:45.246     25     7.13960    9.919500   \n",
       "24        ftx  2022-11-09T21:36:46.958     25     7.85570    9.858000   \n",
       "25        ftx  2022-11-09T21:36:49.087     25    11.94020    0.050200   \n",
       "26        ftx  2022-11-09T21:36:50.833     25    10.42420    0.065100   \n",
       "27        ftx  2022-11-09T21:36:52.953     25     3.80700    0.193600   \n",
       "28        ftx  2022-11-09T21:36:54.212     25     6.45780    0.428400   \n",
       "29        ftx  2022-11-09T21:36:56.367     25     5.75880    0.442700   \n",
       "30        ftx  2022-11-09T21:36:59.287     25     5.87310    1.328700   \n",
       "31        ftx  2022-11-09T21:37:00.687     25    11.85270    1.198400   \n",
       "32        ftx  2022-11-09T21:37:03.010     25     6.41070    3.086800   \n",
       "33        ftx  2022-11-09T21:37:04.446     25     5.96890   14.375000   \n",
       "34        ftx  2022-11-09T21:37:06.435     25     6.10690   10.146600   \n",
       "35        ftx  2022-11-09T21:37:08.162     25     6.12320   12.383200   \n",
       "36        ftx  2022-11-09T21:37:10.288     25     6.08190   11.216400   \n",
       "37        ftx  2022-11-09T21:37:12.043     25     5.78540   10.145100   \n",
       "38        ftx  2022-11-09T21:37:14.360     25     7.45170   10.142700   \n",
       "39        ftx  2022-11-09T21:37:17.967     25     5.42270   13.006700   \n",
       "40  bytetrade  2022-11-09T21:37:19.866     25     3.27354    3.024723   \n",
       "41  bytetrade  2022-11-09T21:37:21.738     25     3.27354    3.024723   \n",
       "42  bytetrade  2022-11-09T21:37:23.343     25     3.27354    3.024723   \n",
       "43  bytetrade  2022-11-09T21:37:25.151     25     3.27354    2.907263   \n",
       "44  bytetrade  2022-11-09T21:37:26.940     25     3.27354    2.907263   \n",
       "45  bytetrade  2022-11-09T21:37:28.419     25     3.27354    2.907263   \n",
       "46  bytetrade  2022-11-09T21:37:29.912     25     3.27354    2.907263   \n",
       "47  bytetrade  2022-11-09T21:37:31.681     25     3.27354    3.022663   \n",
       "48  bytetrade  2022-11-09T21:37:33.188     25     3.27354    3.022663   \n",
       "49  bytetrade  2022-11-09T21:37:35.020     25     3.27354    3.022663   \n",
       "50  bytetrade  2022-11-09T21:37:36.785     25     3.27354    3.022663   \n",
       "51  bytetrade  2022-11-09T21:37:38.588     25     3.27354    3.022663   \n",
       "52  bytetrade  2022-11-09T21:37:40.367     25     3.27354    3.022663   \n",
       "53  bytetrade  2022-11-09T21:37:42.163     25     3.10664    3.026903   \n",
       "54  bytetrade  2022-11-09T21:37:44.664     25     3.10664    3.026903   \n",
       "55  bytetrade  2022-11-09T21:37:46.411     25     3.27354    3.023313   \n",
       "56  bytetrade  2022-11-09T21:37:47.973     25     3.27354    3.023313   \n",
       "57  bytetrade  2022-11-09T21:37:49.746     25     3.27354    3.021963   \n",
       "58  bytetrade  2022-11-09T21:37:51.336     25     3.27354    3.021963   \n",
       "59  bytetrade  2022-11-09T21:37:53.109     25     3.27354    3.021963   \n",
       "\n",
       "    total_volume  mid_price          vwap  \n",
       "0       9.014330  16145.545  17935.304575  \n",
       "1      10.733170  16142.890  17646.718415  \n",
       "2       6.880420  16137.950  18483.199779  \n",
       "3       3.007630  16133.380  21497.043227  \n",
       "4       3.261790  16123.580  21066.478808  \n",
       "5       4.943630  16125.975  19387.502721  \n",
       "6       4.304980  16131.920  19877.830593  \n",
       "7       3.520850  16125.100  20704.744947  \n",
       "8       3.823540  16120.755  20336.937094  \n",
       "9       3.125010  16117.685  21274.181894  \n",
       "10      2.476250  16117.115  22625.104876  \n",
       "11      2.569490  16109.075  22378.182086  \n",
       "12      2.878080  16109.665  21705.088933  \n",
       "13      4.645660  16095.295  19559.132947  \n",
       "14      3.457920  16088.890  20740.553493  \n",
       "15      3.294980  16105.040  20991.585498  \n",
       "16      3.099620  16094.940  21287.004922  \n",
       "17      3.919340  16098.605  20205.446704  \n",
       "18      3.812650  16101.785  20324.532521  \n",
       "19      9.551720  16107.575  17792.822644  \n",
       "20     13.112200  15981.500  17179.542701  \n",
       "21     20.041800  15980.500  16757.431279  \n",
       "22     13.248700  15979.000  17166.590179  \n",
       "23     17.059100  15977.500  16896.681355  \n",
       "24     17.713700  15973.000  16861.521777  \n",
       "25     11.990400  15963.000  17279.649453  \n",
       "26     10.489300  15958.000  17463.980561  \n",
       "27      4.000600  15948.000  19917.901215  \n",
       "28      6.886200  15945.500  18240.131016  \n",
       "29      6.201500  15945.500  18496.183423  \n",
       "30      7.201800  15940.000  18136.973784  \n",
       "31     13.051100  15940.000  17143.808805  \n",
       "32      9.497500  15938.000  17600.915767  \n",
       "33     20.343900  15938.500  16705.313725  \n",
       "34     16.253500  15938.000  16902.634725  \n",
       "35     18.506400  15938.000  16783.134181  \n",
       "36     17.298300  15937.000  16843.229352  \n",
       "37     15.930500  15937.000  16922.412385  \n",
       "38     17.594400  15937.000  16827.708953  \n",
       "39     18.429400  15944.500  16787.441664  \n",
       "40      6.298263  16078.000  18526.034681  \n",
       "41      6.298263  16078.000  18526.034681  \n",
       "42      6.298263  16078.000  18526.034681  \n",
       "43      6.180803  16097.150  18613.223139  \n",
       "44      6.180803  16097.150  18613.223139  \n",
       "45      6.180803  16097.150  18613.223139  \n",
       "46      6.180803  16097.150  18613.223139  \n",
       "47      6.296203  16097.150  18565.176367  \n",
       "48      6.296203  16097.150  18565.176367  \n",
       "49      6.296203  16097.150  18565.176367  \n",
       "50      6.296203  16097.150  18565.176367  \n",
       "51      6.296203  16097.150  18565.176367  \n",
       "52      6.296203  16097.150  18565.176367  \n",
       "53      6.133543  16067.900  18601.704440  \n",
       "54      6.133543  16067.900  18601.704440  \n",
       "55      6.296853  16066.500  18503.610727  \n",
       "56      6.296853  16066.500  18503.610727  \n",
       "57      6.295503  16096.100  18563.362502  \n",
       "58      6.295503  16096.100  18563.362502  \n",
       "59      6.295503  16096.100  18563.362502  "
      ]
     },
     "execution_count": 62,
     "metadata": {},
     "output_type": "execute_result"
    }
   ],
   "source": [
    "MSob_df = fn.concatenate(MS_0[0], MS_1[0], MS_2[0], n)\n",
    "MSob_df"
   ]
  },
  {
   "cell_type": "code",
   "execution_count": 63,
   "metadata": {},
   "outputs": [
    {
     "data": {
      "text/html": [
       "<div>\n",
       "<style scoped>\n",
       "    .dataframe tbody tr th:only-of-type {\n",
       "        vertical-align: middle;\n",
       "    }\n",
       "\n",
       "    .dataframe tbody tr th {\n",
       "        vertical-align: top;\n",
       "    }\n",
       "\n",
       "    .dataframe thead th {\n",
       "        text-align: right;\n",
       "    }\n",
       "</style>\n",
       "<table border=\"1\" class=\"dataframe\">\n",
       "  <thead>\n",
       "    <tr style=\"text-align: right;\">\n",
       "      <th></th>\n",
       "      <th>exchange</th>\n",
       "      <th>timestamp</th>\n",
       "      <th>open</th>\n",
       "      <th>high</th>\n",
       "      <th>low</th>\n",
       "      <th>close</th>\n",
       "      <th>volume</th>\n",
       "    </tr>\n",
       "  </thead>\n",
       "  <tbody>\n",
       "    <tr>\n",
       "      <th>0</th>\n",
       "      <td>binance</td>\n",
       "      <td>2022-11-09T21:36:09.888</td>\n",
       "      <td>16137.66</td>\n",
       "      <td>16149.86</td>\n",
       "      <td>16130.00</td>\n",
       "      <td>16144.06</td>\n",
       "      <td>35.15998</td>\n",
       "    </tr>\n",
       "    <tr>\n",
       "      <th>1</th>\n",
       "      <td>binance</td>\n",
       "      <td>2022-11-09T21:36:11.431</td>\n",
       "      <td>16137.66</td>\n",
       "      <td>16149.86</td>\n",
       "      <td>16130.00</td>\n",
       "      <td>16145.33</td>\n",
       "      <td>42.81799</td>\n",
       "    </tr>\n",
       "    <tr>\n",
       "      <th>2</th>\n",
       "      <td>binance</td>\n",
       "      <td>2022-11-09T21:36:13.083</td>\n",
       "      <td>16137.66</td>\n",
       "      <td>16149.86</td>\n",
       "      <td>16130.00</td>\n",
       "      <td>16130.13</td>\n",
       "      <td>52.52006</td>\n",
       "    </tr>\n",
       "    <tr>\n",
       "      <th>3</th>\n",
       "      <td>binance</td>\n",
       "      <td>2022-11-09T21:36:14.509</td>\n",
       "      <td>16137.66</td>\n",
       "      <td>16150.00</td>\n",
       "      <td>16129.13</td>\n",
       "      <td>16136.16</td>\n",
       "      <td>81.45285</td>\n",
       "    </tr>\n",
       "    <tr>\n",
       "      <th>4</th>\n",
       "      <td>binance</td>\n",
       "      <td>2022-11-09T21:36:15.872</td>\n",
       "      <td>16137.66</td>\n",
       "      <td>16150.00</td>\n",
       "      <td>16124.13</td>\n",
       "      <td>16124.26</td>\n",
       "      <td>94.45078</td>\n",
       "    </tr>\n",
       "    <tr>\n",
       "      <th>5</th>\n",
       "      <td>binance</td>\n",
       "      <td>2022-11-09T21:36:17.590</td>\n",
       "      <td>16137.66</td>\n",
       "      <td>16150.00</td>\n",
       "      <td>16123.14</td>\n",
       "      <td>16126.04</td>\n",
       "      <td>100.84773</td>\n",
       "    </tr>\n",
       "    <tr>\n",
       "      <th>6</th>\n",
       "      <td>binance</td>\n",
       "      <td>2022-11-09T21:36:19.240</td>\n",
       "      <td>16137.66</td>\n",
       "      <td>16150.00</td>\n",
       "      <td>16120.61</td>\n",
       "      <td>16134.93</td>\n",
       "      <td>116.29978</td>\n",
       "    </tr>\n",
       "    <tr>\n",
       "      <th>7</th>\n",
       "      <td>binance</td>\n",
       "      <td>2022-11-09T21:36:20.746</td>\n",
       "      <td>16137.66</td>\n",
       "      <td>16150.00</td>\n",
       "      <td>16117.59</td>\n",
       "      <td>16125.42</td>\n",
       "      <td>120.68978</td>\n",
       "    </tr>\n",
       "    <tr>\n",
       "      <th>8</th>\n",
       "      <td>binance</td>\n",
       "      <td>2022-11-09T21:36:22.140</td>\n",
       "      <td>16137.66</td>\n",
       "      <td>16150.00</td>\n",
       "      <td>16116.49</td>\n",
       "      <td>16122.34</td>\n",
       "      <td>135.31651</td>\n",
       "    </tr>\n",
       "    <tr>\n",
       "      <th>9</th>\n",
       "      <td>binance</td>\n",
       "      <td>2022-11-09T21:36:23.567</td>\n",
       "      <td>16137.66</td>\n",
       "      <td>16150.00</td>\n",
       "      <td>16114.54</td>\n",
       "      <td>16118.80</td>\n",
       "      <td>138.43121</td>\n",
       "    </tr>\n",
       "    <tr>\n",
       "      <th>10</th>\n",
       "      <td>binance</td>\n",
       "      <td>2022-11-09T21:36:25.084</td>\n",
       "      <td>16137.66</td>\n",
       "      <td>16150.00</td>\n",
       "      <td>16114.54</td>\n",
       "      <td>16116.23</td>\n",
       "      <td>142.27698</td>\n",
       "    </tr>\n",
       "    <tr>\n",
       "      <th>11</th>\n",
       "      <td>binance</td>\n",
       "      <td>2022-11-09T21:36:26.567</td>\n",
       "      <td>16137.66</td>\n",
       "      <td>16150.00</td>\n",
       "      <td>16103.29</td>\n",
       "      <td>16107.08</td>\n",
       "      <td>159.39446</td>\n",
       "    </tr>\n",
       "    <tr>\n",
       "      <th>12</th>\n",
       "      <td>binance</td>\n",
       "      <td>2022-11-09T21:36:28.381</td>\n",
       "      <td>16137.66</td>\n",
       "      <td>16150.00</td>\n",
       "      <td>16101.00</td>\n",
       "      <td>16113.13</td>\n",
       "      <td>167.78633</td>\n",
       "    </tr>\n",
       "    <tr>\n",
       "      <th>13</th>\n",
       "      <td>binance</td>\n",
       "      <td>2022-11-09T21:36:29.746</td>\n",
       "      <td>16137.66</td>\n",
       "      <td>16150.00</td>\n",
       "      <td>16093.06</td>\n",
       "      <td>16096.36</td>\n",
       "      <td>183.59653</td>\n",
       "    </tr>\n",
       "    <tr>\n",
       "      <th>14</th>\n",
       "      <td>binance</td>\n",
       "      <td>2022-11-09T21:36:31.740</td>\n",
       "      <td>16137.66</td>\n",
       "      <td>16150.00</td>\n",
       "      <td>16086.45</td>\n",
       "      <td>16088.55</td>\n",
       "      <td>205.38708</td>\n",
       "    </tr>\n",
       "    <tr>\n",
       "      <th>15</th>\n",
       "      <td>binance</td>\n",
       "      <td>2022-11-09T21:36:33.223</td>\n",
       "      <td>16137.66</td>\n",
       "      <td>16150.00</td>\n",
       "      <td>16086.45</td>\n",
       "      <td>16101.51</td>\n",
       "      <td>220.86319</td>\n",
       "    </tr>\n",
       "    <tr>\n",
       "      <th>16</th>\n",
       "      <td>binance</td>\n",
       "      <td>2022-11-09T21:36:34.908</td>\n",
       "      <td>16137.66</td>\n",
       "      <td>16150.00</td>\n",
       "      <td>16086.45</td>\n",
       "      <td>16095.97</td>\n",
       "      <td>229.86235</td>\n",
       "    </tr>\n",
       "    <tr>\n",
       "      <th>17</th>\n",
       "      <td>binance</td>\n",
       "      <td>2022-11-09T21:36:36.388</td>\n",
       "      <td>16137.66</td>\n",
       "      <td>16150.00</td>\n",
       "      <td>16086.45</td>\n",
       "      <td>16095.65</td>\n",
       "      <td>239.56930</td>\n",
       "    </tr>\n",
       "    <tr>\n",
       "      <th>18</th>\n",
       "      <td>binance</td>\n",
       "      <td>2022-11-09T21:36:37.946</td>\n",
       "      <td>16137.66</td>\n",
       "      <td>16150.00</td>\n",
       "      <td>16086.45</td>\n",
       "      <td>16095.59</td>\n",
       "      <td>244.22014</td>\n",
       "    </tr>\n",
       "    <tr>\n",
       "      <th>19</th>\n",
       "      <td>binance</td>\n",
       "      <td>2022-11-09T21:36:39.421</td>\n",
       "      <td>16137.66</td>\n",
       "      <td>16150.00</td>\n",
       "      <td>16086.45</td>\n",
       "      <td>16108.83</td>\n",
       "      <td>252.83665</td>\n",
       "    </tr>\n",
       "    <tr>\n",
       "      <th>20</th>\n",
       "      <td>ftx</td>\n",
       "      <td>2022-11-09T21:36:41.267</td>\n",
       "      <td>16004.00</td>\n",
       "      <td>16038.00</td>\n",
       "      <td>15959.00</td>\n",
       "      <td>15959.00</td>\n",
       "      <td>13587.54200</td>\n",
       "    </tr>\n",
       "    <tr>\n",
       "      <th>21</th>\n",
       "      <td>ftx</td>\n",
       "      <td>2022-11-09T21:36:42.585</td>\n",
       "      <td>16004.00</td>\n",
       "      <td>16038.00</td>\n",
       "      <td>15959.00</td>\n",
       "      <td>15959.00</td>\n",
       "      <td>13587.54200</td>\n",
       "    </tr>\n",
       "    <tr>\n",
       "      <th>22</th>\n",
       "      <td>ftx</td>\n",
       "      <td>2022-11-09T21:36:43.809</td>\n",
       "      <td>16004.00</td>\n",
       "      <td>16038.00</td>\n",
       "      <td>15959.00</td>\n",
       "      <td>15959.00</td>\n",
       "      <td>13587.54200</td>\n",
       "    </tr>\n",
       "    <tr>\n",
       "      <th>23</th>\n",
       "      <td>ftx</td>\n",
       "      <td>2022-11-09T21:36:45.246</td>\n",
       "      <td>16004.00</td>\n",
       "      <td>16038.00</td>\n",
       "      <td>15959.00</td>\n",
       "      <td>15995.00</td>\n",
       "      <td>14524.34640</td>\n",
       "    </tr>\n",
       "    <tr>\n",
       "      <th>24</th>\n",
       "      <td>ftx</td>\n",
       "      <td>2022-11-09T21:36:46.958</td>\n",
       "      <td>16004.00</td>\n",
       "      <td>16038.00</td>\n",
       "      <td>15959.00</td>\n",
       "      <td>15959.00</td>\n",
       "      <td>16088.32840</td>\n",
       "    </tr>\n",
       "    <tr>\n",
       "      <th>25</th>\n",
       "      <td>ftx</td>\n",
       "      <td>2022-11-09T21:36:49.087</td>\n",
       "      <td>16004.00</td>\n",
       "      <td>16038.00</td>\n",
       "      <td>15947.00</td>\n",
       "      <td>15947.00</td>\n",
       "      <td>36462.52640</td>\n",
       "    </tr>\n",
       "    <tr>\n",
       "      <th>26</th>\n",
       "      <td>ftx</td>\n",
       "      <td>2022-11-09T21:36:50.833</td>\n",
       "      <td>16004.00</td>\n",
       "      <td>16038.00</td>\n",
       "      <td>15940.00</td>\n",
       "      <td>15976.00</td>\n",
       "      <td>36813.95540</td>\n",
       "    </tr>\n",
       "    <tr>\n",
       "      <th>27</th>\n",
       "      <td>ftx</td>\n",
       "      <td>2022-11-09T21:36:52.953</td>\n",
       "      <td>16004.00</td>\n",
       "      <td>16038.00</td>\n",
       "      <td>15926.00</td>\n",
       "      <td>15939.00</td>\n",
       "      <td>36868.14320</td>\n",
       "    </tr>\n",
       "    <tr>\n",
       "      <th>28</th>\n",
       "      <td>ftx</td>\n",
       "      <td>2022-11-09T21:36:54.212</td>\n",
       "      <td>16004.00</td>\n",
       "      <td>16038.00</td>\n",
       "      <td>15921.00</td>\n",
       "      <td>15970.00</td>\n",
       "      <td>40993.72750</td>\n",
       "    </tr>\n",
       "    <tr>\n",
       "      <th>29</th>\n",
       "      <td>ftx</td>\n",
       "      <td>2022-11-09T21:36:56.367</td>\n",
       "      <td>16004.00</td>\n",
       "      <td>16038.00</td>\n",
       "      <td>15921.00</td>\n",
       "      <td>15921.00</td>\n",
       "      <td>41019.20110</td>\n",
       "    </tr>\n",
       "    <tr>\n",
       "      <th>30</th>\n",
       "      <td>ftx</td>\n",
       "      <td>2022-11-09T21:36:59.287</td>\n",
       "      <td>16004.00</td>\n",
       "      <td>16038.00</td>\n",
       "      <td>15921.00</td>\n",
       "      <td>15921.00</td>\n",
       "      <td>41167.62130</td>\n",
       "    </tr>\n",
       "    <tr>\n",
       "      <th>31</th>\n",
       "      <td>ftx</td>\n",
       "      <td>2022-11-09T21:37:00.687</td>\n",
       "      <td>16004.00</td>\n",
       "      <td>16038.00</td>\n",
       "      <td>15921.00</td>\n",
       "      <td>15921.00</td>\n",
       "      <td>41183.54230</td>\n",
       "    </tr>\n",
       "    <tr>\n",
       "      <th>32</th>\n",
       "      <td>ftx</td>\n",
       "      <td>2022-11-09T21:37:03.010</td>\n",
       "      <td>15921.00</td>\n",
       "      <td>15921.00</td>\n",
       "      <td>15921.00</td>\n",
       "      <td>15921.00</td>\n",
       "      <td>12.73680</td>\n",
       "    </tr>\n",
       "    <tr>\n",
       "      <th>33</th>\n",
       "      <td>ftx</td>\n",
       "      <td>2022-11-09T21:37:04.446</td>\n",
       "      <td>15921.00</td>\n",
       "      <td>15921.00</td>\n",
       "      <td>15921.00</td>\n",
       "      <td>15921.00</td>\n",
       "      <td>15.92100</td>\n",
       "    </tr>\n",
       "    <tr>\n",
       "      <th>34</th>\n",
       "      <td>ftx</td>\n",
       "      <td>2022-11-09T21:37:06.435</td>\n",
       "      <td>15921.00</td>\n",
       "      <td>15955.00</td>\n",
       "      <td>15921.00</td>\n",
       "      <td>15955.00</td>\n",
       "      <td>23.88490</td>\n",
       "    </tr>\n",
       "    <tr>\n",
       "      <th>35</th>\n",
       "      <td>ftx</td>\n",
       "      <td>2022-11-09T21:37:08.162</td>\n",
       "      <td>15921.00</td>\n",
       "      <td>15955.00</td>\n",
       "      <td>15921.00</td>\n",
       "      <td>15921.00</td>\n",
       "      <td>30.25330</td>\n",
       "    </tr>\n",
       "    <tr>\n",
       "      <th>36</th>\n",
       "      <td>ftx</td>\n",
       "      <td>2022-11-09T21:37:10.288</td>\n",
       "      <td>15921.00</td>\n",
       "      <td>15955.00</td>\n",
       "      <td>15921.00</td>\n",
       "      <td>15921.00</td>\n",
       "      <td>33.43750</td>\n",
       "    </tr>\n",
       "    <tr>\n",
       "      <th>37</th>\n",
       "      <td>ftx</td>\n",
       "      <td>2022-11-09T21:37:12.043</td>\n",
       "      <td>15921.00</td>\n",
       "      <td>15955.00</td>\n",
       "      <td>15921.00</td>\n",
       "      <td>15921.00</td>\n",
       "      <td>55.72690</td>\n",
       "    </tr>\n",
       "    <tr>\n",
       "      <th>38</th>\n",
       "      <td>ftx</td>\n",
       "      <td>2022-11-09T21:37:14.360</td>\n",
       "      <td>15921.00</td>\n",
       "      <td>15955.00</td>\n",
       "      <td>15921.00</td>\n",
       "      <td>15921.00</td>\n",
       "      <td>148.06870</td>\n",
       "    </tr>\n",
       "    <tr>\n",
       "      <th>39</th>\n",
       "      <td>ftx</td>\n",
       "      <td>2022-11-09T21:37:17.967</td>\n",
       "      <td>15921.00</td>\n",
       "      <td>15970.00</td>\n",
       "      <td>15921.00</td>\n",
       "      <td>15921.00</td>\n",
       "      <td>11776.21420</td>\n",
       "    </tr>\n",
       "    <tr>\n",
       "      <th>40</th>\n",
       "      <td>bytetrade</td>\n",
       "      <td>2022-11-09T21:37:19.866</td>\n",
       "      <td>16088.60</td>\n",
       "      <td>16102.30</td>\n",
       "      <td>16059.70</td>\n",
       "      <td>16062.00</td>\n",
       "      <td>0.07029</td>\n",
       "    </tr>\n",
       "    <tr>\n",
       "      <th>41</th>\n",
       "      <td>bytetrade</td>\n",
       "      <td>2022-11-09T21:37:21.738</td>\n",
       "      <td>16088.60</td>\n",
       "      <td>16102.30</td>\n",
       "      <td>16049.00</td>\n",
       "      <td>16074.20</td>\n",
       "      <td>0.07602</td>\n",
       "    </tr>\n",
       "    <tr>\n",
       "      <th>42</th>\n",
       "      <td>bytetrade</td>\n",
       "      <td>2022-11-09T21:37:23.343</td>\n",
       "      <td>16088.60</td>\n",
       "      <td>16102.30</td>\n",
       "      <td>16049.00</td>\n",
       "      <td>16074.20</td>\n",
       "      <td>0.07602</td>\n",
       "    </tr>\n",
       "    <tr>\n",
       "      <th>43</th>\n",
       "      <td>bytetrade</td>\n",
       "      <td>2022-11-09T21:37:25.151</td>\n",
       "      <td>16088.60</td>\n",
       "      <td>16102.30</td>\n",
       "      <td>16049.00</td>\n",
       "      <td>16102.10</td>\n",
       "      <td>0.07637</td>\n",
       "    </tr>\n",
       "    <tr>\n",
       "      <th>44</th>\n",
       "      <td>bytetrade</td>\n",
       "      <td>2022-11-09T21:37:26.940</td>\n",
       "      <td>16088.60</td>\n",
       "      <td>16102.30</td>\n",
       "      <td>16049.00</td>\n",
       "      <td>16102.10</td>\n",
       "      <td>0.07637</td>\n",
       "    </tr>\n",
       "    <tr>\n",
       "      <th>45</th>\n",
       "      <td>bytetrade</td>\n",
       "      <td>2022-11-09T21:37:28.419</td>\n",
       "      <td>16088.60</td>\n",
       "      <td>16102.30</td>\n",
       "      <td>16049.00</td>\n",
       "      <td>16102.10</td>\n",
       "      <td>0.07637</td>\n",
       "    </tr>\n",
       "    <tr>\n",
       "      <th>46</th>\n",
       "      <td>bytetrade</td>\n",
       "      <td>2022-11-09T21:37:29.912</td>\n",
       "      <td>16088.60</td>\n",
       "      <td>16102.30</td>\n",
       "      <td>16049.00</td>\n",
       "      <td>16102.10</td>\n",
       "      <td>0.07637</td>\n",
       "    </tr>\n",
       "    <tr>\n",
       "      <th>47</th>\n",
       "      <td>bytetrade</td>\n",
       "      <td>2022-11-09T21:37:31.681</td>\n",
       "      <td>16088.60</td>\n",
       "      <td>16102.30</td>\n",
       "      <td>16049.00</td>\n",
       "      <td>16102.10</td>\n",
       "      <td>0.07637</td>\n",
       "    </tr>\n",
       "    <tr>\n",
       "      <th>48</th>\n",
       "      <td>bytetrade</td>\n",
       "      <td>2022-11-09T21:37:33.188</td>\n",
       "      <td>16088.60</td>\n",
       "      <td>16102.30</td>\n",
       "      <td>16049.00</td>\n",
       "      <td>16101.50</td>\n",
       "      <td>0.08557</td>\n",
       "    </tr>\n",
       "    <tr>\n",
       "      <th>49</th>\n",
       "      <td>bytetrade</td>\n",
       "      <td>2022-11-09T21:37:35.020</td>\n",
       "      <td>16088.60</td>\n",
       "      <td>16102.30</td>\n",
       "      <td>16049.00</td>\n",
       "      <td>16087.10</td>\n",
       "      <td>0.09173</td>\n",
       "    </tr>\n",
       "    <tr>\n",
       "      <th>50</th>\n",
       "      <td>bytetrade</td>\n",
       "      <td>2022-11-09T21:37:36.785</td>\n",
       "      <td>16088.60</td>\n",
       "      <td>16104.40</td>\n",
       "      <td>16049.00</td>\n",
       "      <td>16104.40</td>\n",
       "      <td>0.09469</td>\n",
       "    </tr>\n",
       "    <tr>\n",
       "      <th>51</th>\n",
       "      <td>bytetrade</td>\n",
       "      <td>2022-11-09T21:37:38.588</td>\n",
       "      <td>16088.60</td>\n",
       "      <td>16104.40</td>\n",
       "      <td>16049.00</td>\n",
       "      <td>16089.80</td>\n",
       "      <td>0.09973</td>\n",
       "    </tr>\n",
       "    <tr>\n",
       "      <th>52</th>\n",
       "      <td>bytetrade</td>\n",
       "      <td>2022-11-09T21:37:40.367</td>\n",
       "      <td>16088.60</td>\n",
       "      <td>16104.40</td>\n",
       "      <td>16049.00</td>\n",
       "      <td>16089.80</td>\n",
       "      <td>0.09973</td>\n",
       "    </tr>\n",
       "    <tr>\n",
       "      <th>53</th>\n",
       "      <td>bytetrade</td>\n",
       "      <td>2022-11-09T21:37:42.163</td>\n",
       "      <td>16088.60</td>\n",
       "      <td>16104.40</td>\n",
       "      <td>16049.00</td>\n",
       "      <td>16052.40</td>\n",
       "      <td>0.10808</td>\n",
       "    </tr>\n",
       "    <tr>\n",
       "      <th>54</th>\n",
       "      <td>bytetrade</td>\n",
       "      <td>2022-11-09T21:37:44.664</td>\n",
       "      <td>16088.60</td>\n",
       "      <td>16104.40</td>\n",
       "      <td>16049.00</td>\n",
       "      <td>16073.10</td>\n",
       "      <td>0.11893</td>\n",
       "    </tr>\n",
       "    <tr>\n",
       "      <th>55</th>\n",
       "      <td>bytetrade</td>\n",
       "      <td>2022-11-09T21:37:46.411</td>\n",
       "      <td>16088.60</td>\n",
       "      <td>16104.40</td>\n",
       "      <td>16049.00</td>\n",
       "      <td>16051.00</td>\n",
       "      <td>0.11932</td>\n",
       "    </tr>\n",
       "    <tr>\n",
       "      <th>56</th>\n",
       "      <td>bytetrade</td>\n",
       "      <td>2022-11-09T21:37:47.973</td>\n",
       "      <td>16088.60</td>\n",
       "      <td>16104.40</td>\n",
       "      <td>16049.00</td>\n",
       "      <td>16068.40</td>\n",
       "      <td>0.11995</td>\n",
       "    </tr>\n",
       "    <tr>\n",
       "      <th>57</th>\n",
       "      <td>bytetrade</td>\n",
       "      <td>2022-11-09T21:37:49.746</td>\n",
       "      <td>16088.60</td>\n",
       "      <td>16104.40</td>\n",
       "      <td>16049.00</td>\n",
       "      <td>16068.40</td>\n",
       "      <td>0.11995</td>\n",
       "    </tr>\n",
       "    <tr>\n",
       "      <th>58</th>\n",
       "      <td>bytetrade</td>\n",
       "      <td>2022-11-09T21:37:51.336</td>\n",
       "      <td>16088.60</td>\n",
       "      <td>16104.40</td>\n",
       "      <td>16049.00</td>\n",
       "      <td>16068.40</td>\n",
       "      <td>0.11995</td>\n",
       "    </tr>\n",
       "    <tr>\n",
       "      <th>59</th>\n",
       "      <td>bytetrade</td>\n",
       "      <td>2022-11-09T21:37:53.109</td>\n",
       "      <td>16088.60</td>\n",
       "      <td>16104.40</td>\n",
       "      <td>16049.00</td>\n",
       "      <td>16068.60</td>\n",
       "      <td>0.12068</td>\n",
       "    </tr>\n",
       "  </tbody>\n",
       "</table>\n",
       "</div>"
      ],
      "text/plain": [
       "     exchange                timestamp      open      high       low  \\\n",
       "0     binance  2022-11-09T21:36:09.888  16137.66  16149.86  16130.00   \n",
       "1     binance  2022-11-09T21:36:11.431  16137.66  16149.86  16130.00   \n",
       "2     binance  2022-11-09T21:36:13.083  16137.66  16149.86  16130.00   \n",
       "3     binance  2022-11-09T21:36:14.509  16137.66  16150.00  16129.13   \n",
       "4     binance  2022-11-09T21:36:15.872  16137.66  16150.00  16124.13   \n",
       "5     binance  2022-11-09T21:36:17.590  16137.66  16150.00  16123.14   \n",
       "6     binance  2022-11-09T21:36:19.240  16137.66  16150.00  16120.61   \n",
       "7     binance  2022-11-09T21:36:20.746  16137.66  16150.00  16117.59   \n",
       "8     binance  2022-11-09T21:36:22.140  16137.66  16150.00  16116.49   \n",
       "9     binance  2022-11-09T21:36:23.567  16137.66  16150.00  16114.54   \n",
       "10    binance  2022-11-09T21:36:25.084  16137.66  16150.00  16114.54   \n",
       "11    binance  2022-11-09T21:36:26.567  16137.66  16150.00  16103.29   \n",
       "12    binance  2022-11-09T21:36:28.381  16137.66  16150.00  16101.00   \n",
       "13    binance  2022-11-09T21:36:29.746  16137.66  16150.00  16093.06   \n",
       "14    binance  2022-11-09T21:36:31.740  16137.66  16150.00  16086.45   \n",
       "15    binance  2022-11-09T21:36:33.223  16137.66  16150.00  16086.45   \n",
       "16    binance  2022-11-09T21:36:34.908  16137.66  16150.00  16086.45   \n",
       "17    binance  2022-11-09T21:36:36.388  16137.66  16150.00  16086.45   \n",
       "18    binance  2022-11-09T21:36:37.946  16137.66  16150.00  16086.45   \n",
       "19    binance  2022-11-09T21:36:39.421  16137.66  16150.00  16086.45   \n",
       "20        ftx  2022-11-09T21:36:41.267  16004.00  16038.00  15959.00   \n",
       "21        ftx  2022-11-09T21:36:42.585  16004.00  16038.00  15959.00   \n",
       "22        ftx  2022-11-09T21:36:43.809  16004.00  16038.00  15959.00   \n",
       "23        ftx  2022-11-09T21:36:45.246  16004.00  16038.00  15959.00   \n",
       "24        ftx  2022-11-09T21:36:46.958  16004.00  16038.00  15959.00   \n",
       "25        ftx  2022-11-09T21:36:49.087  16004.00  16038.00  15947.00   \n",
       "26        ftx  2022-11-09T21:36:50.833  16004.00  16038.00  15940.00   \n",
       "27        ftx  2022-11-09T21:36:52.953  16004.00  16038.00  15926.00   \n",
       "28        ftx  2022-11-09T21:36:54.212  16004.00  16038.00  15921.00   \n",
       "29        ftx  2022-11-09T21:36:56.367  16004.00  16038.00  15921.00   \n",
       "30        ftx  2022-11-09T21:36:59.287  16004.00  16038.00  15921.00   \n",
       "31        ftx  2022-11-09T21:37:00.687  16004.00  16038.00  15921.00   \n",
       "32        ftx  2022-11-09T21:37:03.010  15921.00  15921.00  15921.00   \n",
       "33        ftx  2022-11-09T21:37:04.446  15921.00  15921.00  15921.00   \n",
       "34        ftx  2022-11-09T21:37:06.435  15921.00  15955.00  15921.00   \n",
       "35        ftx  2022-11-09T21:37:08.162  15921.00  15955.00  15921.00   \n",
       "36        ftx  2022-11-09T21:37:10.288  15921.00  15955.00  15921.00   \n",
       "37        ftx  2022-11-09T21:37:12.043  15921.00  15955.00  15921.00   \n",
       "38        ftx  2022-11-09T21:37:14.360  15921.00  15955.00  15921.00   \n",
       "39        ftx  2022-11-09T21:37:17.967  15921.00  15970.00  15921.00   \n",
       "40  bytetrade  2022-11-09T21:37:19.866  16088.60  16102.30  16059.70   \n",
       "41  bytetrade  2022-11-09T21:37:21.738  16088.60  16102.30  16049.00   \n",
       "42  bytetrade  2022-11-09T21:37:23.343  16088.60  16102.30  16049.00   \n",
       "43  bytetrade  2022-11-09T21:37:25.151  16088.60  16102.30  16049.00   \n",
       "44  bytetrade  2022-11-09T21:37:26.940  16088.60  16102.30  16049.00   \n",
       "45  bytetrade  2022-11-09T21:37:28.419  16088.60  16102.30  16049.00   \n",
       "46  bytetrade  2022-11-09T21:37:29.912  16088.60  16102.30  16049.00   \n",
       "47  bytetrade  2022-11-09T21:37:31.681  16088.60  16102.30  16049.00   \n",
       "48  bytetrade  2022-11-09T21:37:33.188  16088.60  16102.30  16049.00   \n",
       "49  bytetrade  2022-11-09T21:37:35.020  16088.60  16102.30  16049.00   \n",
       "50  bytetrade  2022-11-09T21:37:36.785  16088.60  16104.40  16049.00   \n",
       "51  bytetrade  2022-11-09T21:37:38.588  16088.60  16104.40  16049.00   \n",
       "52  bytetrade  2022-11-09T21:37:40.367  16088.60  16104.40  16049.00   \n",
       "53  bytetrade  2022-11-09T21:37:42.163  16088.60  16104.40  16049.00   \n",
       "54  bytetrade  2022-11-09T21:37:44.664  16088.60  16104.40  16049.00   \n",
       "55  bytetrade  2022-11-09T21:37:46.411  16088.60  16104.40  16049.00   \n",
       "56  bytetrade  2022-11-09T21:37:47.973  16088.60  16104.40  16049.00   \n",
       "57  bytetrade  2022-11-09T21:37:49.746  16088.60  16104.40  16049.00   \n",
       "58  bytetrade  2022-11-09T21:37:51.336  16088.60  16104.40  16049.00   \n",
       "59  bytetrade  2022-11-09T21:37:53.109  16088.60  16104.40  16049.00   \n",
       "\n",
       "       close       volume  \n",
       "0   16144.06     35.15998  \n",
       "1   16145.33     42.81799  \n",
       "2   16130.13     52.52006  \n",
       "3   16136.16     81.45285  \n",
       "4   16124.26     94.45078  \n",
       "5   16126.04    100.84773  \n",
       "6   16134.93    116.29978  \n",
       "7   16125.42    120.68978  \n",
       "8   16122.34    135.31651  \n",
       "9   16118.80    138.43121  \n",
       "10  16116.23    142.27698  \n",
       "11  16107.08    159.39446  \n",
       "12  16113.13    167.78633  \n",
       "13  16096.36    183.59653  \n",
       "14  16088.55    205.38708  \n",
       "15  16101.51    220.86319  \n",
       "16  16095.97    229.86235  \n",
       "17  16095.65    239.56930  \n",
       "18  16095.59    244.22014  \n",
       "19  16108.83    252.83665  \n",
       "20  15959.00  13587.54200  \n",
       "21  15959.00  13587.54200  \n",
       "22  15959.00  13587.54200  \n",
       "23  15995.00  14524.34640  \n",
       "24  15959.00  16088.32840  \n",
       "25  15947.00  36462.52640  \n",
       "26  15976.00  36813.95540  \n",
       "27  15939.00  36868.14320  \n",
       "28  15970.00  40993.72750  \n",
       "29  15921.00  41019.20110  \n",
       "30  15921.00  41167.62130  \n",
       "31  15921.00  41183.54230  \n",
       "32  15921.00     12.73680  \n",
       "33  15921.00     15.92100  \n",
       "34  15955.00     23.88490  \n",
       "35  15921.00     30.25330  \n",
       "36  15921.00     33.43750  \n",
       "37  15921.00     55.72690  \n",
       "38  15921.00    148.06870  \n",
       "39  15921.00  11776.21420  \n",
       "40  16062.00      0.07029  \n",
       "41  16074.20      0.07602  \n",
       "42  16074.20      0.07602  \n",
       "43  16102.10      0.07637  \n",
       "44  16102.10      0.07637  \n",
       "45  16102.10      0.07637  \n",
       "46  16102.10      0.07637  \n",
       "47  16102.10      0.07637  \n",
       "48  16101.50      0.08557  \n",
       "49  16087.10      0.09173  \n",
       "50  16104.40      0.09469  \n",
       "51  16089.80      0.09973  \n",
       "52  16089.80      0.09973  \n",
       "53  16052.40      0.10808  \n",
       "54  16073.10      0.11893  \n",
       "55  16051.00      0.11932  \n",
       "56  16068.40      0.11995  \n",
       "57  16068.40      0.11995  \n",
       "58  16068.40      0.11995  \n",
       "59  16068.60      0.12068  "
      ]
     },
     "execution_count": 63,
     "metadata": {},
     "output_type": "execute_result"
    }
   ],
   "source": [
    "MSohlcv = fn.concatenate(MS_0[1], MS_1[1], MS_2[1], n)\n",
    "MSohlcv"
   ]
  },
  {
   "cell_type": "code",
   "execution_count": 64,
   "metadata": {},
   "outputs": [
    {
     "data": {
      "text/html": [
       "<div>\n",
       "<style scoped>\n",
       "    .dataframe tbody tr th:only-of-type {\n",
       "        vertical-align: middle;\n",
       "    }\n",
       "\n",
       "    .dataframe tbody tr th {\n",
       "        vertical-align: top;\n",
       "    }\n",
       "\n",
       "    .dataframe thead th {\n",
       "        text-align: right;\n",
       "    }\n",
       "</style>\n",
       "<table border=\"1\" class=\"dataframe\">\n",
       "  <thead>\n",
       "    <tr style=\"text-align: right;\">\n",
       "      <th></th>\n",
       "      <th>exchange</th>\n",
       "      <th>mid_price</th>\n",
       "    </tr>\n",
       "    <tr>\n",
       "      <th>timestamp</th>\n",
       "      <th></th>\n",
       "      <th></th>\n",
       "    </tr>\n",
       "  </thead>\n",
       "  <tbody>\n",
       "    <tr>\n",
       "      <th>2022-11-09 21:36:09.888</th>\n",
       "      <td>binance</td>\n",
       "      <td>16145.545</td>\n",
       "    </tr>\n",
       "    <tr>\n",
       "      <th>2022-11-09 21:36:11.431</th>\n",
       "      <td>binance</td>\n",
       "      <td>16142.890</td>\n",
       "    </tr>\n",
       "    <tr>\n",
       "      <th>2022-11-09 21:36:13.083</th>\n",
       "      <td>binance</td>\n",
       "      <td>16137.950</td>\n",
       "    </tr>\n",
       "    <tr>\n",
       "      <th>2022-11-09 21:36:14.509</th>\n",
       "      <td>binance</td>\n",
       "      <td>16133.380</td>\n",
       "    </tr>\n",
       "    <tr>\n",
       "      <th>2022-11-09 21:36:15.872</th>\n",
       "      <td>binance</td>\n",
       "      <td>16123.580</td>\n",
       "    </tr>\n",
       "  </tbody>\n",
       "</table>\n",
       "</div>"
      ],
      "text/plain": [
       "                        exchange  mid_price\n",
       "timestamp                                  \n",
       "2022-11-09 21:36:09.888  binance  16145.545\n",
       "2022-11-09 21:36:11.431  binance  16142.890\n",
       "2022-11-09 21:36:13.083  binance  16137.950\n",
       "2022-11-09 21:36:14.509  binance  16133.380\n",
       "2022-11-09 21:36:15.872  binance  16123.580"
      ]
     },
     "execution_count": 64,
     "metadata": {},
     "output_type": "execute_result"
    }
   ],
   "source": [
    "p = MSob_df[['exchange', 'mid_price']]\n",
    "p.index =pd.to_datetime(MSob_df['timestamp'])\n",
    "p.head()"
   ]
  },
  {
   "cell_type": "code",
   "execution_count": 65,
   "metadata": {},
   "outputs": [
    {
     "data": {
      "application/vnd.plotly.v1+json": {
       "config": {
        "plotlyServerURL": "https://plot.ly"
       },
       "data": [
        {
         "hovertemplate": "variable=mid_price<br>exchange=binance<br>timestamp=%{x}<br>value=%{y}<extra></extra>",
         "legendgroup": "mid_price",
         "line": {
          "color": "#636efa",
          "dash": "solid"
         },
         "marker": {
          "symbol": "circle"
         },
         "mode": "lines",
         "name": "mid_price",
         "orientation": "v",
         "showlegend": true,
         "type": "scatter",
         "x": [
          "2022-11-09T21:36:09.888000",
          "2022-11-09T21:36:11.431000",
          "2022-11-09T21:36:13.083000",
          "2022-11-09T21:36:14.509000",
          "2022-11-09T21:36:15.872000",
          "2022-11-09T21:36:17.590000",
          "2022-11-09T21:36:19.240000",
          "2022-11-09T21:36:20.746000",
          "2022-11-09T21:36:22.140000",
          "2022-11-09T21:36:23.567000",
          "2022-11-09T21:36:25.084000",
          "2022-11-09T21:36:26.567000",
          "2022-11-09T21:36:28.381000",
          "2022-11-09T21:36:29.746000",
          "2022-11-09T21:36:31.740000",
          "2022-11-09T21:36:33.223000",
          "2022-11-09T21:36:34.908000",
          "2022-11-09T21:36:36.388000",
          "2022-11-09T21:36:37.946000",
          "2022-11-09T21:36:39.421000"
         ],
         "xaxis": "x3",
         "y": [
          16145.545,
          16142.89,
          16137.95,
          16133.380000000001,
          16123.58,
          16125.975,
          16131.92,
          16125.1,
          16120.755000000001,
          16117.685000000001,
          16117.115,
          16109.075,
          16109.665,
          16095.295,
          16088.89,
          16105.04,
          16094.939999999999,
          16098.605,
          16101.785,
          16107.575
         ],
         "yaxis": "y3"
        },
        {
         "hovertemplate": "variable=mid_price<br>exchange=ftx<br>timestamp=%{x}<br>value=%{y}<extra></extra>",
         "legendgroup": "mid_price",
         "line": {
          "color": "#636efa",
          "dash": "solid"
         },
         "marker": {
          "symbol": "circle"
         },
         "mode": "lines",
         "name": "mid_price",
         "orientation": "v",
         "showlegend": false,
         "type": "scatter",
         "x": [
          "2022-11-09T21:36:41.267000",
          "2022-11-09T21:36:42.585000",
          "2022-11-09T21:36:43.809000",
          "2022-11-09T21:36:45.246000",
          "2022-11-09T21:36:46.958000",
          "2022-11-09T21:36:49.087000",
          "2022-11-09T21:36:50.833000",
          "2022-11-09T21:36:52.953000",
          "2022-11-09T21:36:54.212000",
          "2022-11-09T21:36:56.367000",
          "2022-11-09T21:36:59.287000",
          "2022-11-09T21:37:00.687000",
          "2022-11-09T21:37:03.010000",
          "2022-11-09T21:37:04.446000",
          "2022-11-09T21:37:06.435000",
          "2022-11-09T21:37:08.162000",
          "2022-11-09T21:37:10.288000",
          "2022-11-09T21:37:12.043000",
          "2022-11-09T21:37:14.360000",
          "2022-11-09T21:37:17.967000"
         ],
         "xaxis": "x2",
         "y": [
          15981.5,
          15980.5,
          15979,
          15977.5,
          15973,
          15963,
          15958,
          15948,
          15945.5,
          15945.5,
          15940,
          15940,
          15938,
          15938.5,
          15938,
          15938,
          15937,
          15937,
          15937,
          15944.5
         ],
         "yaxis": "y2"
        },
        {
         "hovertemplate": "variable=mid_price<br>exchange=bytetrade<br>timestamp=%{x}<br>value=%{y}<extra></extra>",
         "legendgroup": "mid_price",
         "line": {
          "color": "#636efa",
          "dash": "solid"
         },
         "marker": {
          "symbol": "circle"
         },
         "mode": "lines",
         "name": "mid_price",
         "orientation": "v",
         "showlegend": false,
         "type": "scatter",
         "x": [
          "2022-11-09T21:37:19.866000",
          "2022-11-09T21:37:21.738000",
          "2022-11-09T21:37:23.343000",
          "2022-11-09T21:37:25.151000",
          "2022-11-09T21:37:26.940000",
          "2022-11-09T21:37:28.419000",
          "2022-11-09T21:37:29.912000",
          "2022-11-09T21:37:31.681000",
          "2022-11-09T21:37:33.188000",
          "2022-11-09T21:37:35.020000",
          "2022-11-09T21:37:36.785000",
          "2022-11-09T21:37:38.588000",
          "2022-11-09T21:37:40.367000",
          "2022-11-09T21:37:42.163000",
          "2022-11-09T21:37:44.664000",
          "2022-11-09T21:37:46.411000",
          "2022-11-09T21:37:47.973000",
          "2022-11-09T21:37:49.746000",
          "2022-11-09T21:37:51.336000",
          "2022-11-09T21:37:53.109000"
         ],
         "xaxis": "x",
         "y": [
          16078,
          16078,
          16078,
          16097.15,
          16097.15,
          16097.15,
          16097.15,
          16097.15,
          16097.15,
          16097.15,
          16097.15,
          16097.15,
          16097.15,
          16067.9,
          16067.9,
          16066.5,
          16066.5,
          16096.1,
          16096.1,
          16096.1
         ],
         "yaxis": "y"
        }
       ],
       "layout": {
        "annotations": [
         {
          "font": {},
          "showarrow": false,
          "text": "exchange=bytetrade",
          "x": 0.5,
          "xanchor": "center",
          "xref": "paper",
          "y": 0.2866666666666666,
          "yanchor": "bottom",
          "yref": "paper"
         },
         {
          "font": {},
          "showarrow": false,
          "text": "exchange=ftx",
          "x": 0.5,
          "xanchor": "center",
          "xref": "paper",
          "y": 0.6433333333333333,
          "yanchor": "bottom",
          "yref": "paper"
         },
         {
          "font": {},
          "showarrow": false,
          "text": "exchange=binance",
          "x": 0.5,
          "xanchor": "center",
          "xref": "paper",
          "y": 0.9999999999999999,
          "yanchor": "bottom",
          "yref": "paper"
         }
        ],
        "legend": {
         "title": {
          "text": "variable"
         },
         "tracegroupgap": 0
        },
        "margin": {
         "t": 60
        },
        "template": {
         "data": {
          "bar": [
           {
            "error_x": {
             "color": "#2a3f5f"
            },
            "error_y": {
             "color": "#2a3f5f"
            },
            "marker": {
             "line": {
              "color": "#E5ECF6",
              "width": 0.5
             },
             "pattern": {
              "fillmode": "overlay",
              "size": 10,
              "solidity": 0.2
             }
            },
            "type": "bar"
           }
          ],
          "barpolar": [
           {
            "marker": {
             "line": {
              "color": "#E5ECF6",
              "width": 0.5
             },
             "pattern": {
              "fillmode": "overlay",
              "size": 10,
              "solidity": 0.2
             }
            },
            "type": "barpolar"
           }
          ],
          "carpet": [
           {
            "aaxis": {
             "endlinecolor": "#2a3f5f",
             "gridcolor": "white",
             "linecolor": "white",
             "minorgridcolor": "white",
             "startlinecolor": "#2a3f5f"
            },
            "baxis": {
             "endlinecolor": "#2a3f5f",
             "gridcolor": "white",
             "linecolor": "white",
             "minorgridcolor": "white",
             "startlinecolor": "#2a3f5f"
            },
            "type": "carpet"
           }
          ],
          "choropleth": [
           {
            "colorbar": {
             "outlinewidth": 0,
             "ticks": ""
            },
            "type": "choropleth"
           }
          ],
          "contour": [
           {
            "colorbar": {
             "outlinewidth": 0,
             "ticks": ""
            },
            "colorscale": [
             [
              0,
              "#0d0887"
             ],
             [
              0.1111111111111111,
              "#46039f"
             ],
             [
              0.2222222222222222,
              "#7201a8"
             ],
             [
              0.3333333333333333,
              "#9c179e"
             ],
             [
              0.4444444444444444,
              "#bd3786"
             ],
             [
              0.5555555555555556,
              "#d8576b"
             ],
             [
              0.6666666666666666,
              "#ed7953"
             ],
             [
              0.7777777777777778,
              "#fb9f3a"
             ],
             [
              0.8888888888888888,
              "#fdca26"
             ],
             [
              1,
              "#f0f921"
             ]
            ],
            "type": "contour"
           }
          ],
          "contourcarpet": [
           {
            "colorbar": {
             "outlinewidth": 0,
             "ticks": ""
            },
            "type": "contourcarpet"
           }
          ],
          "heatmap": [
           {
            "colorbar": {
             "outlinewidth": 0,
             "ticks": ""
            },
            "colorscale": [
             [
              0,
              "#0d0887"
             ],
             [
              0.1111111111111111,
              "#46039f"
             ],
             [
              0.2222222222222222,
              "#7201a8"
             ],
             [
              0.3333333333333333,
              "#9c179e"
             ],
             [
              0.4444444444444444,
              "#bd3786"
             ],
             [
              0.5555555555555556,
              "#d8576b"
             ],
             [
              0.6666666666666666,
              "#ed7953"
             ],
             [
              0.7777777777777778,
              "#fb9f3a"
             ],
             [
              0.8888888888888888,
              "#fdca26"
             ],
             [
              1,
              "#f0f921"
             ]
            ],
            "type": "heatmap"
           }
          ],
          "heatmapgl": [
           {
            "colorbar": {
             "outlinewidth": 0,
             "ticks": ""
            },
            "colorscale": [
             [
              0,
              "#0d0887"
             ],
             [
              0.1111111111111111,
              "#46039f"
             ],
             [
              0.2222222222222222,
              "#7201a8"
             ],
             [
              0.3333333333333333,
              "#9c179e"
             ],
             [
              0.4444444444444444,
              "#bd3786"
             ],
             [
              0.5555555555555556,
              "#d8576b"
             ],
             [
              0.6666666666666666,
              "#ed7953"
             ],
             [
              0.7777777777777778,
              "#fb9f3a"
             ],
             [
              0.8888888888888888,
              "#fdca26"
             ],
             [
              1,
              "#f0f921"
             ]
            ],
            "type": "heatmapgl"
           }
          ],
          "histogram": [
           {
            "marker": {
             "pattern": {
              "fillmode": "overlay",
              "size": 10,
              "solidity": 0.2
             }
            },
            "type": "histogram"
           }
          ],
          "histogram2d": [
           {
            "colorbar": {
             "outlinewidth": 0,
             "ticks": ""
            },
            "colorscale": [
             [
              0,
              "#0d0887"
             ],
             [
              0.1111111111111111,
              "#46039f"
             ],
             [
              0.2222222222222222,
              "#7201a8"
             ],
             [
              0.3333333333333333,
              "#9c179e"
             ],
             [
              0.4444444444444444,
              "#bd3786"
             ],
             [
              0.5555555555555556,
              "#d8576b"
             ],
             [
              0.6666666666666666,
              "#ed7953"
             ],
             [
              0.7777777777777778,
              "#fb9f3a"
             ],
             [
              0.8888888888888888,
              "#fdca26"
             ],
             [
              1,
              "#f0f921"
             ]
            ],
            "type": "histogram2d"
           }
          ],
          "histogram2dcontour": [
           {
            "colorbar": {
             "outlinewidth": 0,
             "ticks": ""
            },
            "colorscale": [
             [
              0,
              "#0d0887"
             ],
             [
              0.1111111111111111,
              "#46039f"
             ],
             [
              0.2222222222222222,
              "#7201a8"
             ],
             [
              0.3333333333333333,
              "#9c179e"
             ],
             [
              0.4444444444444444,
              "#bd3786"
             ],
             [
              0.5555555555555556,
              "#d8576b"
             ],
             [
              0.6666666666666666,
              "#ed7953"
             ],
             [
              0.7777777777777778,
              "#fb9f3a"
             ],
             [
              0.8888888888888888,
              "#fdca26"
             ],
             [
              1,
              "#f0f921"
             ]
            ],
            "type": "histogram2dcontour"
           }
          ],
          "mesh3d": [
           {
            "colorbar": {
             "outlinewidth": 0,
             "ticks": ""
            },
            "type": "mesh3d"
           }
          ],
          "parcoords": [
           {
            "line": {
             "colorbar": {
              "outlinewidth": 0,
              "ticks": ""
             }
            },
            "type": "parcoords"
           }
          ],
          "pie": [
           {
            "automargin": true,
            "type": "pie"
           }
          ],
          "scatter": [
           {
            "marker": {
             "colorbar": {
              "outlinewidth": 0,
              "ticks": ""
             }
            },
            "type": "scatter"
           }
          ],
          "scatter3d": [
           {
            "line": {
             "colorbar": {
              "outlinewidth": 0,
              "ticks": ""
             }
            },
            "marker": {
             "colorbar": {
              "outlinewidth": 0,
              "ticks": ""
             }
            },
            "type": "scatter3d"
           }
          ],
          "scattercarpet": [
           {
            "marker": {
             "colorbar": {
              "outlinewidth": 0,
              "ticks": ""
             }
            },
            "type": "scattercarpet"
           }
          ],
          "scattergeo": [
           {
            "marker": {
             "colorbar": {
              "outlinewidth": 0,
              "ticks": ""
             }
            },
            "type": "scattergeo"
           }
          ],
          "scattergl": [
           {
            "marker": {
             "colorbar": {
              "outlinewidth": 0,
              "ticks": ""
             }
            },
            "type": "scattergl"
           }
          ],
          "scattermapbox": [
           {
            "marker": {
             "colorbar": {
              "outlinewidth": 0,
              "ticks": ""
             }
            },
            "type": "scattermapbox"
           }
          ],
          "scatterpolar": [
           {
            "marker": {
             "colorbar": {
              "outlinewidth": 0,
              "ticks": ""
             }
            },
            "type": "scatterpolar"
           }
          ],
          "scatterpolargl": [
           {
            "marker": {
             "colorbar": {
              "outlinewidth": 0,
              "ticks": ""
             }
            },
            "type": "scatterpolargl"
           }
          ],
          "scatterternary": [
           {
            "marker": {
             "colorbar": {
              "outlinewidth": 0,
              "ticks": ""
             }
            },
            "type": "scatterternary"
           }
          ],
          "surface": [
           {
            "colorbar": {
             "outlinewidth": 0,
             "ticks": ""
            },
            "colorscale": [
             [
              0,
              "#0d0887"
             ],
             [
              0.1111111111111111,
              "#46039f"
             ],
             [
              0.2222222222222222,
              "#7201a8"
             ],
             [
              0.3333333333333333,
              "#9c179e"
             ],
             [
              0.4444444444444444,
              "#bd3786"
             ],
             [
              0.5555555555555556,
              "#d8576b"
             ],
             [
              0.6666666666666666,
              "#ed7953"
             ],
             [
              0.7777777777777778,
              "#fb9f3a"
             ],
             [
              0.8888888888888888,
              "#fdca26"
             ],
             [
              1,
              "#f0f921"
             ]
            ],
            "type": "surface"
           }
          ],
          "table": [
           {
            "cells": {
             "fill": {
              "color": "#EBF0F8"
             },
             "line": {
              "color": "white"
             }
            },
            "header": {
             "fill": {
              "color": "#C8D4E3"
             },
             "line": {
              "color": "white"
             }
            },
            "type": "table"
           }
          ]
         },
         "layout": {
          "annotationdefaults": {
           "arrowcolor": "#2a3f5f",
           "arrowhead": 0,
           "arrowwidth": 1
          },
          "autotypenumbers": "strict",
          "coloraxis": {
           "colorbar": {
            "outlinewidth": 0,
            "ticks": ""
           }
          },
          "colorscale": {
           "diverging": [
            [
             0,
             "#8e0152"
            ],
            [
             0.1,
             "#c51b7d"
            ],
            [
             0.2,
             "#de77ae"
            ],
            [
             0.3,
             "#f1b6da"
            ],
            [
             0.4,
             "#fde0ef"
            ],
            [
             0.5,
             "#f7f7f7"
            ],
            [
             0.6,
             "#e6f5d0"
            ],
            [
             0.7,
             "#b8e186"
            ],
            [
             0.8,
             "#7fbc41"
            ],
            [
             0.9,
             "#4d9221"
            ],
            [
             1,
             "#276419"
            ]
           ],
           "sequential": [
            [
             0,
             "#0d0887"
            ],
            [
             0.1111111111111111,
             "#46039f"
            ],
            [
             0.2222222222222222,
             "#7201a8"
            ],
            [
             0.3333333333333333,
             "#9c179e"
            ],
            [
             0.4444444444444444,
             "#bd3786"
            ],
            [
             0.5555555555555556,
             "#d8576b"
            ],
            [
             0.6666666666666666,
             "#ed7953"
            ],
            [
             0.7777777777777778,
             "#fb9f3a"
            ],
            [
             0.8888888888888888,
             "#fdca26"
            ],
            [
             1,
             "#f0f921"
            ]
           ],
           "sequentialminus": [
            [
             0,
             "#0d0887"
            ],
            [
             0.1111111111111111,
             "#46039f"
            ],
            [
             0.2222222222222222,
             "#7201a8"
            ],
            [
             0.3333333333333333,
             "#9c179e"
            ],
            [
             0.4444444444444444,
             "#bd3786"
            ],
            [
             0.5555555555555556,
             "#d8576b"
            ],
            [
             0.6666666666666666,
             "#ed7953"
            ],
            [
             0.7777777777777778,
             "#fb9f3a"
            ],
            [
             0.8888888888888888,
             "#fdca26"
            ],
            [
             1,
             "#f0f921"
            ]
           ]
          },
          "colorway": [
           "#636efa",
           "#EF553B",
           "#00cc96",
           "#ab63fa",
           "#FFA15A",
           "#19d3f3",
           "#FF6692",
           "#B6E880",
           "#FF97FF",
           "#FECB52"
          ],
          "font": {
           "color": "#2a3f5f"
          },
          "geo": {
           "bgcolor": "white",
           "lakecolor": "white",
           "landcolor": "#E5ECF6",
           "showlakes": true,
           "showland": true,
           "subunitcolor": "white"
          },
          "hoverlabel": {
           "align": "left"
          },
          "hovermode": "closest",
          "mapbox": {
           "style": "light"
          },
          "paper_bgcolor": "white",
          "plot_bgcolor": "#E5ECF6",
          "polar": {
           "angularaxis": {
            "gridcolor": "white",
            "linecolor": "white",
            "ticks": ""
           },
           "bgcolor": "#E5ECF6",
           "radialaxis": {
            "gridcolor": "white",
            "linecolor": "white",
            "ticks": ""
           }
          },
          "scene": {
           "xaxis": {
            "backgroundcolor": "#E5ECF6",
            "gridcolor": "white",
            "gridwidth": 2,
            "linecolor": "white",
            "showbackground": true,
            "ticks": "",
            "zerolinecolor": "white"
           },
           "yaxis": {
            "backgroundcolor": "#E5ECF6",
            "gridcolor": "white",
            "gridwidth": 2,
            "linecolor": "white",
            "showbackground": true,
            "ticks": "",
            "zerolinecolor": "white"
           },
           "zaxis": {
            "backgroundcolor": "#E5ECF6",
            "gridcolor": "white",
            "gridwidth": 2,
            "linecolor": "white",
            "showbackground": true,
            "ticks": "",
            "zerolinecolor": "white"
           }
          },
          "shapedefaults": {
           "line": {
            "color": "#2a3f5f"
           }
          },
          "ternary": {
           "aaxis": {
            "gridcolor": "white",
            "linecolor": "white",
            "ticks": ""
           },
           "baxis": {
            "gridcolor": "white",
            "linecolor": "white",
            "ticks": ""
           },
           "bgcolor": "#E5ECF6",
           "caxis": {
            "gridcolor": "white",
            "linecolor": "white",
            "ticks": ""
           }
          },
          "title": {
           "x": 0.05
          },
          "xaxis": {
           "automargin": true,
           "gridcolor": "white",
           "linecolor": "white",
           "ticks": "",
           "title": {
            "standoff": 15
           },
           "zerolinecolor": "white",
           "zerolinewidth": 2
          },
          "yaxis": {
           "automargin": true,
           "gridcolor": "white",
           "linecolor": "white",
           "ticks": "",
           "title": {
            "standoff": 15
           },
           "zerolinecolor": "white",
           "zerolinewidth": 2
          }
         }
        },
        "title": {
         "font": {
          "size": 15
         },
         "text": "Mid-Price of BTC/USDT:"
        },
        "xaxis": {
         "anchor": "y",
         "domain": [
          0,
          1
         ],
         "title": {
          "text": "timestamp"
         }
        },
        "xaxis2": {
         "anchor": "y2",
         "domain": [
          0,
          1
         ],
         "matches": "x",
         "showticklabels": false
        },
        "xaxis3": {
         "anchor": "y3",
         "domain": [
          0,
          1
         ],
         "matches": "x",
         "showticklabels": false
        },
        "yaxis": {
         "anchor": "x",
         "domain": [
          0,
          0.2866666666666666
         ],
         "title": {
          "text": "value"
         }
        },
        "yaxis2": {
         "anchor": "x2",
         "domain": [
          0.35666666666666663,
          0.6433333333333333
         ],
         "matches": "y",
         "title": {
          "text": "value"
         }
        },
        "yaxis3": {
         "anchor": "x3",
         "domain": [
          0.7133333333333333,
          0.9999999999999999
         ],
         "matches": "y",
         "title": {
          "text": "value"
         }
        }
       }
      }
     },
     "metadata": {},
     "output_type": "display_data"
    }
   ],
   "source": [
    "fig = go.Figure(layout_xaxis_range=[0,10])\n",
    "fig = px.line(p, facet_col=\"exchange\", facet_col_wrap=1)\n",
    "fig.update_layout(title_text=\"Mid-Price of \" + str(params0[1]) + str(':'),\n",
    "                title_font_size=15,)\n",
    "fig.show()"
   ]
  },
  {
   "cell_type": "markdown",
   "metadata": {},
   "source": [
    "<font color= orange> <font size = 5> 3. Microstructure Modelling: </font>"
   ]
  },
  {
   "cell_type": "markdown",
   "metadata": {},
   "source": [
    "### <font color= orange> <font size = 5> 4. Bibliography: </font>\n",
    "\n",
    "<font color= lightgray>\n",
    "\n",
    "+ Villalobos, O, 2021. **Python Project Template**. Available at: https://github.com/OmarVillalobos/python-project. \n",
    "(Accessed: November 5, 2022). \n",
    "\n",
    "+ Financial Engineering, **Marketmicrostructure.pptx**. ITESO -  Microstructure and Trading Systems (ITE1731 - DMAF). \n",
    "Available at: https://docs.google.com/presentation/d/1uYyMERKKGeZ0MPqbJ3bcir9lfpzbeAH9ZMmxbYysokQ/edit?usp=sharing (Accessed: November 5, 2022). \n",
    "\n",
    "+ Muñoz E., J **Roll Model** *(spanish)*. ITESO - (ITE1731 - DMAF) Available at: https://github.com/EstebanMqz/MyST_LAB_4/blob/main/Roll%20.pdf (Accessed: November 5, 2022).\n",
    "\n",
    "+ Muñoz E., J **Asset Pricing Theory** *(spanish)*. ITESO - (ITE1731 - DMAF) Available at: https://github.com/EstebanMqz/MyST_LAB_4/blob/main/APT.pdf (Accessed: November 5, 2022). "
   ]
  }
 ],
 "metadata": {
  "kernelspec": {
   "display_name": "base",
   "language": "python",
   "name": "python3"
  },
  "language_info": {
   "codemirror_mode": {
    "name": "ipython",
    "version": 3
   },
   "file_extension": ".py",
   "mimetype": "text/x-python",
   "name": "python",
   "nbconvert_exporter": "python",
   "pygments_lexer": "ipython3",
   "version": "3.8.13"
  },
  "toc": {
   "base_numbering": 1,
   "nav_menu": {},
   "number_sections": true,
   "sideBar": true,
   "skip_h1_title": false,
   "title_cell": "Table of Contents",
   "title_sidebar": "Contents",
   "toc_cell": false,
   "toc_position": {},
   "toc_section_display": true,
   "toc_window_display": false
  },
  "vscode": {
   "interpreter": {
    "hash": "ad2bdc8ecc057115af97d19610ffacc2b4e99fae6737bb82f5d7fb13d2f2c186"
   }
  }
 },
 "nbformat": 4,
 "nbformat_minor": 2
}
