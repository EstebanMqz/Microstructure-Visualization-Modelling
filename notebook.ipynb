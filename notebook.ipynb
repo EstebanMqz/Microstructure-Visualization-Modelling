{
 "cells": [
  {
   "cell_type": "markdown",
   "metadata": {},
   "source": [
    "\n",
    "    \n",
    "    \n",
    "## <H2 align=\"center\"> <font color='white'> **MAF1731B**: Microstructure and Trading Systems </H2>\n",
    "\n",
    "### <H3 align=\"center\"> <font color='white'> **Laboratory 4**: Market Microstructure </H3>\n",
    "\n",
    " <H5 align=\"center\"> <em> Professor: Villalobos Ramos Omar Antonio <em>\n",
    "\n",
    " <p align=\"center\"> <img style=\" margin: 30px 15px 15px 15px;\" src=\"https://pngimage.net/wp-content/uploads/2018/06/logo-iteso-png-5.png\" width=\"350\" height=\"150\" /> \n",
    "\n",
    " <strong> <H5 align=\"left\"> Student:\n",
    "Esteban Márquez Delgado <strong>\n",
    "\n",
    " *Registry*:\n",
    "if700637: https://github.com/EstebanMqz/MyST_LAB_4\n",
    "\n",
    " <center> <font color= #555555> <font size = 4> November 2022 </a> <font color= #555555> <font size = 4> </a></font>"
   ]
  },
  {
   "cell_type": "markdown",
   "metadata": {},
   "source": [
    "<hr style=\"border:0.02in solid gray\"> </hr>"
   ]
  },
  {
   "cell_type": "markdown",
   "metadata": {},
   "source": [
    "<center> <font color= #555555> <font size = 6> Laboratory 4 </font> <br> <br> <font color= #555555> <font size = 5> Market Microstructure  </font>"
   ]
  },
  {
   "cell_type": "markdown",
   "metadata": {},
   "source": [
    "<hr style=\"border:0.02in solid gray\"> </hr>"
   ]
  },
  {
   "cell_type": "markdown",
   "metadata": {},
   "source": [
    "### <font color= #555555> <font size = 4> Abstract </font>"
   ]
  },
  {
   "cell_type": "markdown",
   "metadata": {},
   "source": [
    "This document was prepared as delivery for Laboratory 4 of Microstructure and Trading Systems - MAF1731B class during the Autumn 2022 course at ITESO for the Bachelor of Financial Engineering. In order to analyze the market microstructure in criptocurrencies markets containing the following 3 sections:\n",
    "\n",
    "1. **Consume CCXT data**: Download Criptocurrencies Order Books from exchanges (kraken, ftx, currencycom, coinmate, etc).\n",
    "\n",
    "2. **Microstructure Visualization**: Build Time Series using the Order Books obtained in the previous point from the following elements of the Market Microstructure for each asset and exchange (Levels, Bid Volume, Ask Volume, Total Volume, Mid Price, VWAP.)\n",
    "\n",
    "3. **Microstructure Modeling**: Estimation of Roll Effective Spread using the lagged series at t-5.\n",
    "\n"
   ]
  },
  {
   "cell_type": "markdown",
   "metadata": {},
   "source": [
    "<font color= lightblue> <font size = 4> 0. Libraries and Dependencies: </font>\n",
    "\n",
    "<font color= gray>\n",
    "\n",
    "**Note**: To run this notebook it is necessary to have the following libraries contained in the [requirements.txt](https://github.com/EstebanMqz/MyST_LAB_4/blob/main/requirements.txt) script of this project.\n",
    "\n",
    "To install the libraries in the script run the following cell:"
   ]
  },
  {
   "cell_type": "code",
   "execution_count": 1,
   "metadata": {},
   "outputs": [
    {
     "name": "stderr",
     "output_type": "stream",
     "text": [
      "WARNING: Ignoring invalid distribution -rl (c:\\programdata\\anaconda3\\lib\\site-packages)\n",
      "WARNING: Ignoring invalid distribution -inance (c:\\programdata\\anaconda3\\lib\\site-packages)\n",
      "WARNING: Ignoring invalid distribution -ywinpty (c:\\programdata\\anaconda3\\lib\\site-packages)\n",
      "WARNING: Ignoring invalid distribution -rl (c:\\programdata\\anaconda3\\lib\\site-packages)\n",
      "WARNING: Ignoring invalid distribution -finance (c:\\programdata\\anaconda3\\lib\\site-packages)\n",
      "WARNING: Ignoring invalid distribution - (c:\\programdata\\anaconda3\\lib\\site-packages)\n",
      "WARNING: Ignoring invalid distribution -arl (c:\\programdata\\anaconda3\\lib\\site-packages)\n",
      "ERROR: Invalid requirement: '\"\"\"' (from line 1 of requirements.txt)\n",
      "WARNING: Ignoring invalid distribution -rl (c:\\programdata\\anaconda3\\lib\\site-packages)\n",
      "WARNING: Ignoring invalid distribution -inance (c:\\programdata\\anaconda3\\lib\\site-packages)\n",
      "WARNING: Ignoring invalid distribution -ywinpty (c:\\programdata\\anaconda3\\lib\\site-packages)\n",
      "WARNING: Ignoring invalid distribution -rl (c:\\programdata\\anaconda3\\lib\\site-packages)\n",
      "WARNING: Ignoring invalid distribution -finance (c:\\programdata\\anaconda3\\lib\\site-packages)\n",
      "WARNING: Ignoring invalid distribution - (c:\\programdata\\anaconda3\\lib\\site-packages)\n",
      "WARNING: Ignoring invalid distribution -arl (c:\\programdata\\anaconda3\\lib\\site-packages)\n",
      "WARNING: Ignoring invalid distribution -rl (c:\\programdata\\anaconda3\\lib\\site-packages)\n",
      "WARNING: Ignoring invalid distribution -inance (c:\\programdata\\anaconda3\\lib\\site-packages)\n",
      "WARNING: Ignoring invalid distribution -ywinpty (c:\\programdata\\anaconda3\\lib\\site-packages)\n",
      "WARNING: Ignoring invalid distribution -rl (c:\\programdata\\anaconda3\\lib\\site-packages)\n",
      "WARNING: Ignoring invalid distribution -finance (c:\\programdata\\anaconda3\\lib\\site-packages)\n",
      "WARNING: Ignoring invalid distribution - (c:\\programdata\\anaconda3\\lib\\site-packages)\n",
      "WARNING: Ignoring invalid distribution -arl (c:\\programdata\\anaconda3\\lib\\site-packages)\n",
      "WARNING: Ignoring invalid distribution -rl (c:\\programdata\\anaconda3\\lib\\site-packages)\n",
      "WARNING: Ignoring invalid distribution -inance (c:\\programdata\\anaconda3\\lib\\site-packages)\n",
      "WARNING: Ignoring invalid distribution -ywinpty (c:\\programdata\\anaconda3\\lib\\site-packages)\n",
      "WARNING: Ignoring invalid distribution -rl (c:\\programdata\\anaconda3\\lib\\site-packages)\n",
      "WARNING: Ignoring invalid distribution -finance (c:\\programdata\\anaconda3\\lib\\site-packages)\n",
      "WARNING: Ignoring invalid distribution - (c:\\programdata\\anaconda3\\lib\\site-packages)\n",
      "WARNING: Ignoring invalid distribution -arl (c:\\programdata\\anaconda3\\lib\\site-packages)\n"
     ]
    }
   ],
   "source": [
    "!pip install -r requirements.txt"
   ]
  },
  {
   "cell_type": "markdown",
   "metadata": {},
   "source": [
    "If you prefer, manual installation can be done with the individual installation of the following libraries:\n",
    "\n",
    "<font color= lightblue> <font size = 1> \n",
    "+ pandas >= 1.3.4\n",
    "+ numpy >= 1.19.1\n",
    "+ jupyter >= 1.0.0\n",
    "+ chart_studio >= 1.1\n",
    "+ plotly >= 4.14\n",
    "+ logging >= 3.11\n",
    "+ datetime >= 4.7\n",
    "+ pandas_datareader >= 0.10.0\n",
    "+ tk >= 0.10\n",
    "+ random >= 3.11\n",
    "+ plotly >= 5.60\n",
    "+ yahoofinancials >= 1.60\n",
    "+ scipy >= 1.7.3\n",
    "+ regex >= 2022.3.15\n",
    "+ matplotlib >= 3.5.1\n",
    "+ fire >= 0.4.0\n",
    "+ ccxt >= 2.1.33\n",
    "+ time >= 3.11 \n"
   ]
  },
  {
   "cell_type": "markdown",
   "metadata": {},
   "source": [
    "### <font color= lightblue> <font size = 4> 0.1 Introduction: </font>\n",
    "In this laboratory we will use information from the Cryptocurrency Order Book of various international exchanges, with the primary objective of visualizing and modeling the microstructure of the market through the behavior of the Order Book and its characteristics such as; Matching Engine, Levels, Ask-Bid Volumes, etc.\n",
    "<font color= gray>\n",
    "\n",
    "\n"
   ]
  },
  {
   "cell_type": "markdown",
   "metadata": {},
   "source": [
    "##### *General help:*\n",
    "<font color= lightgreen> **Note**: Progress checks at the end of each section are highlighted. <font color= white>\n",
    "\n",
    "In order, to retrieve specific help from the scripts tree in the project execute the help function on the script or in specific modules from the following:\n",
    "+ [data.py](https://github.com/EstebanMqz/MyST_LAB_4/blob/main/data.py)\n",
    "+ [functions.py](https://github.com/EstebanMqz/MyST_LAB_4/blob/main/functions.py)\n",
    "+ [visualizations.py](https://github.com/EstebanMqz/MyST_LAB_4/blob/main/visualizations.py)"
   ]
  },
  {
   "cell_type": "code",
   "execution_count": 2,
   "metadata": {},
   "outputs": [],
   "source": [
    "## Libraries\n",
    "import pandas as pd # Analysis and data management\n",
    "import pandas_datareader as pdr\n",
    "import pandas_datareader.data as web #Data extraction from the web\n",
    "import numpy as np\n",
    "from datetime import datetime, timedelta, date\n",
    "from tkinter.ttk import Style\n",
    "from tkinter import Y\n",
    "import random as rand\n",
    "import plotly.graph_objects as go #Plotly\n",
    "import plotly.express as px\n",
    "import warnings\n",
    "from yahoofinancials import YahooFinancials # Yfinance \n",
    "import yfinance as yf\n",
    "import ccxt #Criptocurrencies\n",
    "import logging as log #Exchanges \n",
    "from scipy.optimize import minimize # Optimization \n",
    "from collections import Counter #Counter\n",
    "import time\n",
    "import re\n",
    "import io \n",
    "import glob\n",
    "import os\n",
    "#.Py archives in repo\n",
    "import functions as fn \n",
    "import visualizations as vs\n",
    "import data as dt\n",
    "from os import path\n",
    "import fire\n",
    "%matplotlib inline"
   ]
  },
  {
   "cell_type": "markdown",
   "metadata": {},
   "source": [
    "<font color= orange> <font size = 5> 1. Consume CCXT data: </font>"
   ]
  },
  {
   "cell_type": "markdown",
   "metadata": {},
   "source": [
    "In order to know the exchanges avaliable in CCTX module in Python for Criptocurrencies data download, the following getattr function *find_exchanges* is executed:"
   ]
  },
  {
   "cell_type": "code",
   "execution_count": 3,
   "metadata": {},
   "outputs": [
    {
     "name": "stdout",
     "output_type": "stream",
     "text": [
      "Help on function find_exchanges in module functions:\n",
      "\n",
      "find_exchanges(features=None, is_authenticated=False)\n",
      "    Function that returns avaliable cryptocurrencies exchanges in Python for CCTX module.\n",
      "    \n",
      "        Parameters:\n",
      "        ----------\n",
      "        features: None \n",
      "        is_authenticated: None \n",
      "    \n",
      "        Returns:\n",
      "        -------\n",
      "        exchange_names: Array of authenticated exchanges avaliable in CCTX.\n",
      "\n"
     ]
    }
   ],
   "source": [
    "help(fn.find_exchanges)"
   ]
  },
  {
   "cell_type": "markdown",
   "metadata": {},
   "source": [
    "From all the 120 exchanges avaliable we pick **binance**, **ftx** and **bytetrade** because of their fast fetching."
   ]
  },
  {
   "cell_type": "code",
   "execution_count": 4,
   "metadata": {},
   "outputs": [
    {
     "data": {
      "text/plain": [
       "['aax',\n",
       " 'alpaca',\n",
       " 'ascendex',\n",
       " 'bequant',\n",
       " 'bibox',\n",
       " 'bigone',\n",
       " 'binance',\n",
       " 'binancecoinm',\n",
       " 'binanceus',\n",
       " 'binanceusdm',\n",
       " 'bit2c',\n",
       " 'bitbank',\n",
       " 'bitbay',\n",
       " 'bitbns',\n",
       " 'bitcoincom',\n",
       " 'bitfinex',\n",
       " 'bitfinex2',\n",
       " 'bitflyer',\n",
       " 'bitforex',\n",
       " 'bitget',\n",
       " 'bithumb',\n",
       " 'bitmart',\n",
       " 'bitmex',\n",
       " 'bitopro',\n",
       " 'bitpanda',\n",
       " 'bitrue',\n",
       " 'bitso',\n",
       " 'bitstamp',\n",
       " 'bitstamp1',\n",
       " 'bittrex',\n",
       " 'bitvavo',\n",
       " 'bkex',\n",
       " 'bl3p',\n",
       " 'blockchaincom',\n",
       " 'btcalpha',\n",
       " 'btcbox',\n",
       " 'btcex',\n",
       " 'btcmarkets',\n",
       " 'btctradeua',\n",
       " 'btcturk',\n",
       " 'buda',\n",
       " 'bw',\n",
       " 'bybit',\n",
       " 'bytetrade',\n",
       " 'cex',\n",
       " 'coinbase',\n",
       " 'coinbaseprime',\n",
       " 'coinbasepro',\n",
       " 'coincheck',\n",
       " 'coinex',\n",
       " 'coinfalcon',\n",
       " 'coinmate',\n",
       " 'coinone',\n",
       " 'coinspot',\n",
       " 'crex24',\n",
       " 'cryptocom',\n",
       " 'currencycom',\n",
       " 'delta',\n",
       " 'deribit',\n",
       " 'digifinex',\n",
       " 'exmo',\n",
       " 'flowbtc',\n",
       " 'fmfwio',\n",
       " 'ftx',\n",
       " 'ftxus',\n",
       " 'gate',\n",
       " 'gateio',\n",
       " 'gemini',\n",
       " 'hitbtc',\n",
       " 'hitbtc3',\n",
       " 'hollaex',\n",
       " 'huobi',\n",
       " 'huobijp',\n",
       " 'huobipro',\n",
       " 'idex',\n",
       " 'independentreserve',\n",
       " 'indodax',\n",
       " 'itbit',\n",
       " 'kraken',\n",
       " 'kucoin',\n",
       " 'kucoinfutures',\n",
       " 'kuna',\n",
       " 'latoken',\n",
       " 'lbank',\n",
       " 'lbank2',\n",
       " 'liquid',\n",
       " 'luno',\n",
       " 'lykke',\n",
       " 'mercado',\n",
       " 'mexc',\n",
       " 'mexc3',\n",
       " 'ndax',\n",
       " 'novadax',\n",
       " 'oceanex',\n",
       " 'okcoin',\n",
       " 'okex',\n",
       " 'okex5',\n",
       " 'okx',\n",
       " 'paymium',\n",
       " 'phemex',\n",
       " 'poloniex',\n",
       " 'probit',\n",
       " 'qtrade',\n",
       " 'ripio',\n",
       " 'stex',\n",
       " 'therock',\n",
       " 'tidebit',\n",
       " 'tidex',\n",
       " 'timex',\n",
       " 'tokocrypto',\n",
       " 'upbit',\n",
       " 'wavesexchange',\n",
       " 'wazirx',\n",
       " 'whitebit',\n",
       " 'woo',\n",
       " 'yobit',\n",
       " 'zaif',\n",
       " 'zb',\n",
       " 'zipmex',\n",
       " 'zonda']"
      ]
     },
     "execution_count": 4,
     "metadata": {},
     "output_type": "execute_result"
    }
   ],
   "source": [
    "#Available exchanges in CCTX\n",
    "fn.find_exchanges()[:] #len 120"
   ]
  },
  {
   "cell_type": "markdown",
   "metadata": {},
   "source": [
    "Now that we have selected the exchanges, we pick random criptocurrencies and verify that they are all avaliable in their platform."
   ]
  },
  {
   "cell_type": "code",
   "execution_count": 5,
   "metadata": {},
   "outputs": [],
   "source": [
    "exchanges= ['binance','ftx', 'bytetrade'] #Selected exchanges from list (can't modify because of fn and vs .py)\n",
    "criptos = ['BTC/USDT','ETH/USDT','XRP/USDT'] #Criptos OBs (modify tickers here)"
   ]
  },
  {
   "cell_type": "markdown",
   "metadata": {},
   "source": [
    "<font color= lightblue> <font size = 4> Order Book Levels & OHLCV for 3 exchanges and Criptos: </font>"
   ]
  },
  {
   "cell_type": "markdown",
   "metadata": {},
   "source": [
    "Now we proceed to download data from exchanges for all criptocurrencies."
   ]
  },
  {
   "cell_type": "code",
   "execution_count": 6,
   "metadata": {},
   "outputs": [
    {
     "name": "stdout",
     "output_type": "stream",
     "text": [
      "Help on function cctx_download in module visualizations:\n",
      "\n",
      "cctx_download(lvls, cripto, exchange)\n",
      "    Function that returns prices and quantities of given levels (as integer) Bids & Asks in an Orderbook\n",
      "    for the specified criptocurrency ('BTC/USDT','ETH/USDT','XRP/USDT', or others) and\n",
      "    from the following exchanges: binance, ftx or ascendex (as string).\n",
      "    \n",
      "        Parameters:\n",
      "        ----------\n",
      "        lvls: Levels of bids/asks in the Order Book (int).\n",
      "        cripto: Criptocurrency downloadable ticker (str).\n",
      "        exchanges: Criptocurrency downloadable Exchange (str).\n",
      "    \n",
      "        Returns:\n",
      "        -------\n",
      "        levels_ob_bid: Prices and Quantities of Bids (pos [0]) and Asks (pos [1]) as dataframes.\n",
      "\n"
     ]
    }
   ],
   "source": [
    "help(vs.cctx_download)"
   ]
  },
  {
   "cell_type": "markdown",
   "metadata": {},
   "source": [
    "We get n=25 levels for each OB, and proceed to download combinations from criptos and exchanges from their lists [0:2] (9).\n",
    "\n",
    "We will start with binance and BTC/USDT."
   ]
  },
  {
   "cell_type": "code",
   "execution_count": 7,
   "metadata": {},
   "outputs": [
    {
     "data": {
      "text/plain": [
       "(25, 'BTC/USDT', 'binance')"
      ]
     },
     "execution_count": 7,
     "metadata": {},
     "output_type": "execute_result"
    }
   ],
   "source": [
    "params= 25, criptos[0], exchanges[0]\n",
    "params"
   ]
  },
  {
   "cell_type": "markdown",
   "metadata": {},
   "source": [
    "+ <font color= lightgray> <font size = 2> *Bids*: </font>"
   ]
  },
  {
   "cell_type": "code",
   "execution_count": 8,
   "metadata": {},
   "outputs": [
    {
     "data": {
      "text/html": [
       "<div>\n",
       "<style scoped>\n",
       "    .dataframe tbody tr th:only-of-type {\n",
       "        vertical-align: middle;\n",
       "    }\n",
       "\n",
       "    .dataframe tbody tr th {\n",
       "        vertical-align: top;\n",
       "    }\n",
       "\n",
       "    .dataframe thead th {\n",
       "        text-align: right;\n",
       "    }\n",
       "</style>\n",
       "<table border=\"1\" class=\"dataframe\">\n",
       "  <thead>\n",
       "    <tr style=\"text-align: right;\">\n",
       "      <th></th>\n",
       "      <th>price</th>\n",
       "      <th>quantity</th>\n",
       "    </tr>\n",
       "    <tr>\n",
       "      <th>Bid_Lvl</th>\n",
       "      <th></th>\n",
       "      <th></th>\n",
       "    </tr>\n",
       "  </thead>\n",
       "  <tbody>\n",
       "    <tr>\n",
       "      <th>0</th>\n",
       "      <td>18581.78</td>\n",
       "      <td>0.01226</td>\n",
       "    </tr>\n",
       "    <tr>\n",
       "      <th>1</th>\n",
       "      <td>18581.68</td>\n",
       "      <td>0.00336</td>\n",
       "    </tr>\n",
       "    <tr>\n",
       "      <th>2</th>\n",
       "      <td>18581.63</td>\n",
       "      <td>0.02000</td>\n",
       "    </tr>\n",
       "    <tr>\n",
       "      <th>3</th>\n",
       "      <td>18581.45</td>\n",
       "      <td>0.04000</td>\n",
       "    </tr>\n",
       "    <tr>\n",
       "      <th>4</th>\n",
       "      <td>18581.28</td>\n",
       "      <td>0.00483</td>\n",
       "    </tr>\n",
       "  </tbody>\n",
       "</table>\n",
       "</div>"
      ],
      "text/plain": [
       "            price  quantity\n",
       "Bid_Lvl                    \n",
       "0        18581.78   0.01226\n",
       "1        18581.68   0.00336\n",
       "2        18581.63   0.02000\n",
       "3        18581.45   0.04000\n",
       "4        18581.28   0.00483"
      ]
     },
     "execution_count": 8,
     "metadata": {},
     "output_type": "execute_result"
    }
   ],
   "source": [
    "ob_lvls=vs.cctx_download(params[0],params[1], params[2])\n",
    "ob_lvls[0].head()"
   ]
  },
  {
   "cell_type": "markdown",
   "metadata": {},
   "source": [
    "+ <font color= lightgray> <font size = 2> *Asks*: </font>"
   ]
  },
  {
   "cell_type": "code",
   "execution_count": 9,
   "metadata": {},
   "outputs": [
    {
     "data": {
      "text/html": [
       "<div>\n",
       "<style scoped>\n",
       "    .dataframe tbody tr th:only-of-type {\n",
       "        vertical-align: middle;\n",
       "    }\n",
       "\n",
       "    .dataframe tbody tr th {\n",
       "        vertical-align: top;\n",
       "    }\n",
       "\n",
       "    .dataframe thead th {\n",
       "        text-align: right;\n",
       "    }\n",
       "</style>\n",
       "<table border=\"1\" class=\"dataframe\">\n",
       "  <thead>\n",
       "    <tr style=\"text-align: right;\">\n",
       "      <th></th>\n",
       "      <th>price</th>\n",
       "      <th>quantity</th>\n",
       "    </tr>\n",
       "    <tr>\n",
       "      <th>Ask_Lvl</th>\n",
       "      <th></th>\n",
       "      <th></th>\n",
       "    </tr>\n",
       "  </thead>\n",
       "  <tbody>\n",
       "    <tr>\n",
       "      <th>0</th>\n",
       "      <td>18583.07</td>\n",
       "      <td>0.11594</td>\n",
       "    </tr>\n",
       "    <tr>\n",
       "      <th>1</th>\n",
       "      <td>18583.80</td>\n",
       "      <td>0.00688</td>\n",
       "    </tr>\n",
       "    <tr>\n",
       "      <th>2</th>\n",
       "      <td>18583.87</td>\n",
       "      <td>0.03229</td>\n",
       "    </tr>\n",
       "    <tr>\n",
       "      <th>3</th>\n",
       "      <td>18583.96</td>\n",
       "      <td>0.02818</td>\n",
       "    </tr>\n",
       "    <tr>\n",
       "      <th>4</th>\n",
       "      <td>18584.38</td>\n",
       "      <td>0.00694</td>\n",
       "    </tr>\n",
       "  </tbody>\n",
       "</table>\n",
       "</div>"
      ],
      "text/plain": [
       "            price  quantity\n",
       "Ask_Lvl                    \n",
       "0        18583.07   0.11594\n",
       "1        18583.80   0.00688\n",
       "2        18583.87   0.03229\n",
       "3        18583.96   0.02818\n",
       "4        18584.38   0.00694"
      ]
     },
     "execution_count": 9,
     "metadata": {},
     "output_type": "execute_result"
    }
   ],
   "source": [
    "ob_lvls[1].head()"
   ]
  },
  {
   "cell_type": "code",
   "execution_count": 10,
   "metadata": {},
   "outputs": [
    {
     "data": {
      "text/html": [
       "<div>\n",
       "<style scoped>\n",
       "    .dataframe tbody tr th:only-of-type {\n",
       "        vertical-align: middle;\n",
       "    }\n",
       "\n",
       "    .dataframe tbody tr th {\n",
       "        vertical-align: top;\n",
       "    }\n",
       "\n",
       "    .dataframe thead th {\n",
       "        text-align: right;\n",
       "    }\n",
       "</style>\n",
       "<table border=\"1\" class=\"dataframe\">\n",
       "  <thead>\n",
       "    <tr style=\"text-align: right;\">\n",
       "      <th></th>\n",
       "      <th>exchange</th>\n",
       "      <th>timestamp</th>\n",
       "      <th>open</th>\n",
       "      <th>high</th>\n",
       "      <th>low</th>\n",
       "      <th>close</th>\n",
       "      <th>volume</th>\n",
       "    </tr>\n",
       "    <tr>\n",
       "      <th>OHLCV</th>\n",
       "      <th></th>\n",
       "      <th></th>\n",
       "      <th></th>\n",
       "      <th></th>\n",
       "      <th></th>\n",
       "      <th></th>\n",
       "      <th></th>\n",
       "    </tr>\n",
       "  </thead>\n",
       "  <tbody>\n",
       "    <tr>\n",
       "      <th>0</th>\n",
       "      <td>binance</td>\n",
       "      <td>2022-11-08T19:00:02.785Z</td>\n",
       "      <td>18922.9</td>\n",
       "      <td>18929.9</td>\n",
       "      <td>18829.6</td>\n",
       "      <td>18858.96</td>\n",
       "      <td>1183.22717</td>\n",
       "    </tr>\n",
       "  </tbody>\n",
       "</table>\n",
       "</div>"
      ],
      "text/plain": [
       "      exchange                 timestamp     open     high      low     close  \\\n",
       "OHLCV                                                                           \n",
       "0      binance  2022-11-08T19:00:02.785Z  18922.9  18929.9  18829.6  18858.96   \n",
       "\n",
       "           volume  \n",
       "OHLCV              \n",
       "0      1183.22717  "
      ]
     },
     "execution_count": 10,
     "metadata": {},
     "output_type": "execute_result"
    }
   ],
   "source": [
    "ob_lvls[2]"
   ]
  },
  {
   "cell_type": "markdown",
   "metadata": {},
   "source": [
    "We plot the results for the first combination of ticker and exchanges with the visualization *OBLvls*."
   ]
  },
  {
   "cell_type": "code",
   "execution_count": 11,
   "metadata": {},
   "outputs": [
    {
     "name": "stdout",
     "output_type": "stream",
     "text": [
      "Help on function OBLvls_hist in module visualizations:\n",
      "\n",
      "OBLvls_hist(lvls, cripto, exchange)\n",
      "    Function that plots an horizontal histogram in plotly for CriptoCurrencies OB/\n",
      "    \n",
      "        Parameters\n",
      "        ----------\n",
      "        lvls: Levels of bids/asks in the Order Book (int).\n",
      "        cripto: Criptocurrency downloadable ticker (str).\n",
      "        exchanges: Criptocurrency downloadable Exchange (str).\n",
      "    \n",
      "        x: Quantity (col) of the given cripto (str) for given lvls (int) in Order Book.\n",
      "        y: Prices (col) of the given cripto (str) for given lvls (int) in Order Book.\n",
      "    \n",
      "        Returns\n",
      "        -------\n",
      "        Histogram of Order Book prices and quantities for n given lvls.\n",
      "\n"
     ]
    }
   ],
   "source": [
    "help(vs.OBLvls_hist)"
   ]
  },
  {
   "cell_type": "code",
   "execution_count": 12,
   "metadata": {},
   "outputs": [
    {
     "data": {
      "application/vnd.plotly.v1+json": {
       "config": {
        "plotlyServerURL": "https://plot.ly"
       },
       "data": [
        {
         "orientation": "h",
         "type": "bar",
         "x": [
          0.0992,
          0.00107,
          0.93224,
          0.12,
          0.3907,
          0.057,
          0.09387,
          0.00761,
          0.26183,
          0.10763,
          0.01076,
          0.00107,
          0.19832,
          0.00449,
          0.04606,
          0.23395,
          0.0048,
          0.5071,
          0.002,
          0.002,
          0.14746,
          0.25392,
          0.64514,
          0.33287,
          0.13774
         ],
         "y": [
          "18579.18",
          "18580.08",
          "18580.11",
          "18580.22",
          "18580.32",
          "18580.43",
          "18580.88",
          "18580.95",
          "18581.09",
          "18581.24",
          "18581.38",
          "18581.46",
          "18581.48",
          "18582.37",
          "18582.41",
          "18582.42",
          "18582.53",
          "18582.59",
          "18582.73",
          "18582.79",
          "18583.3",
          "18583.45",
          "18583.46",
          "18583.47",
          "18583.5"
         ]
        },
        {
         "orientation": "h",
         "type": "bar",
         "x": [
          0.099,
          0.11077,
          0.03279,
          0.00323,
          0.01793,
          0.18033,
          0.02,
          0.54914,
          0.00505,
          0.0038,
          0.008,
          0.01,
          0.1,
          0.21422,
          0.13635,
          0.05,
          0.00755,
          0.00295,
          0.00538,
          0.00797,
          0.26183,
          0.14746,
          0.00141,
          0.02758,
          0.004
         ],
         "y": [
          "18577.56",
          "18577.45",
          "18577.44",
          "18575.02",
          "18575.0",
          "18574.81",
          "18574.66",
          "18574.53",
          "18573.97",
          "18573.86",
          "18573.64",
          "18573.55",
          "18572.35",
          "18571.34",
          "18570.07",
          "18570.0",
          "18569.97",
          "18569.5",
          "18569.0",
          "18568.71",
          "18568.46",
          "18568.09",
          "18568.0",
          "18567.99",
          "18567.56"
         ]
        }
       ],
       "layout": {
        "template": {
         "data": {
          "bar": [
           {
            "error_x": {
             "color": "#2a3f5f"
            },
            "error_y": {
             "color": "#2a3f5f"
            },
            "marker": {
             "line": {
              "color": "#E5ECF6",
              "width": 0.5
             },
             "pattern": {
              "fillmode": "overlay",
              "size": 10,
              "solidity": 0.2
             }
            },
            "type": "bar"
           }
          ],
          "barpolar": [
           {
            "marker": {
             "line": {
              "color": "#E5ECF6",
              "width": 0.5
             },
             "pattern": {
              "fillmode": "overlay",
              "size": 10,
              "solidity": 0.2
             }
            },
            "type": "barpolar"
           }
          ],
          "carpet": [
           {
            "aaxis": {
             "endlinecolor": "#2a3f5f",
             "gridcolor": "white",
             "linecolor": "white",
             "minorgridcolor": "white",
             "startlinecolor": "#2a3f5f"
            },
            "baxis": {
             "endlinecolor": "#2a3f5f",
             "gridcolor": "white",
             "linecolor": "white",
             "minorgridcolor": "white",
             "startlinecolor": "#2a3f5f"
            },
            "type": "carpet"
           }
          ],
          "choropleth": [
           {
            "colorbar": {
             "outlinewidth": 0,
             "ticks": ""
            },
            "type": "choropleth"
           }
          ],
          "contour": [
           {
            "colorbar": {
             "outlinewidth": 0,
             "ticks": ""
            },
            "colorscale": [
             [
              0,
              "#0d0887"
             ],
             [
              0.1111111111111111,
              "#46039f"
             ],
             [
              0.2222222222222222,
              "#7201a8"
             ],
             [
              0.3333333333333333,
              "#9c179e"
             ],
             [
              0.4444444444444444,
              "#bd3786"
             ],
             [
              0.5555555555555556,
              "#d8576b"
             ],
             [
              0.6666666666666666,
              "#ed7953"
             ],
             [
              0.7777777777777778,
              "#fb9f3a"
             ],
             [
              0.8888888888888888,
              "#fdca26"
             ],
             [
              1,
              "#f0f921"
             ]
            ],
            "type": "contour"
           }
          ],
          "contourcarpet": [
           {
            "colorbar": {
             "outlinewidth": 0,
             "ticks": ""
            },
            "type": "contourcarpet"
           }
          ],
          "heatmap": [
           {
            "colorbar": {
             "outlinewidth": 0,
             "ticks": ""
            },
            "colorscale": [
             [
              0,
              "#0d0887"
             ],
             [
              0.1111111111111111,
              "#46039f"
             ],
             [
              0.2222222222222222,
              "#7201a8"
             ],
             [
              0.3333333333333333,
              "#9c179e"
             ],
             [
              0.4444444444444444,
              "#bd3786"
             ],
             [
              0.5555555555555556,
              "#d8576b"
             ],
             [
              0.6666666666666666,
              "#ed7953"
             ],
             [
              0.7777777777777778,
              "#fb9f3a"
             ],
             [
              0.8888888888888888,
              "#fdca26"
             ],
             [
              1,
              "#f0f921"
             ]
            ],
            "type": "heatmap"
           }
          ],
          "heatmapgl": [
           {
            "colorbar": {
             "outlinewidth": 0,
             "ticks": ""
            },
            "colorscale": [
             [
              0,
              "#0d0887"
             ],
             [
              0.1111111111111111,
              "#46039f"
             ],
             [
              0.2222222222222222,
              "#7201a8"
             ],
             [
              0.3333333333333333,
              "#9c179e"
             ],
             [
              0.4444444444444444,
              "#bd3786"
             ],
             [
              0.5555555555555556,
              "#d8576b"
             ],
             [
              0.6666666666666666,
              "#ed7953"
             ],
             [
              0.7777777777777778,
              "#fb9f3a"
             ],
             [
              0.8888888888888888,
              "#fdca26"
             ],
             [
              1,
              "#f0f921"
             ]
            ],
            "type": "heatmapgl"
           }
          ],
          "histogram": [
           {
            "marker": {
             "pattern": {
              "fillmode": "overlay",
              "size": 10,
              "solidity": 0.2
             }
            },
            "type": "histogram"
           }
          ],
          "histogram2d": [
           {
            "colorbar": {
             "outlinewidth": 0,
             "ticks": ""
            },
            "colorscale": [
             [
              0,
              "#0d0887"
             ],
             [
              0.1111111111111111,
              "#46039f"
             ],
             [
              0.2222222222222222,
              "#7201a8"
             ],
             [
              0.3333333333333333,
              "#9c179e"
             ],
             [
              0.4444444444444444,
              "#bd3786"
             ],
             [
              0.5555555555555556,
              "#d8576b"
             ],
             [
              0.6666666666666666,
              "#ed7953"
             ],
             [
              0.7777777777777778,
              "#fb9f3a"
             ],
             [
              0.8888888888888888,
              "#fdca26"
             ],
             [
              1,
              "#f0f921"
             ]
            ],
            "type": "histogram2d"
           }
          ],
          "histogram2dcontour": [
           {
            "colorbar": {
             "outlinewidth": 0,
             "ticks": ""
            },
            "colorscale": [
             [
              0,
              "#0d0887"
             ],
             [
              0.1111111111111111,
              "#46039f"
             ],
             [
              0.2222222222222222,
              "#7201a8"
             ],
             [
              0.3333333333333333,
              "#9c179e"
             ],
             [
              0.4444444444444444,
              "#bd3786"
             ],
             [
              0.5555555555555556,
              "#d8576b"
             ],
             [
              0.6666666666666666,
              "#ed7953"
             ],
             [
              0.7777777777777778,
              "#fb9f3a"
             ],
             [
              0.8888888888888888,
              "#fdca26"
             ],
             [
              1,
              "#f0f921"
             ]
            ],
            "type": "histogram2dcontour"
           }
          ],
          "mesh3d": [
           {
            "colorbar": {
             "outlinewidth": 0,
             "ticks": ""
            },
            "type": "mesh3d"
           }
          ],
          "parcoords": [
           {
            "line": {
             "colorbar": {
              "outlinewidth": 0,
              "ticks": ""
             }
            },
            "type": "parcoords"
           }
          ],
          "pie": [
           {
            "automargin": true,
            "type": "pie"
           }
          ],
          "scatter": [
           {
            "marker": {
             "colorbar": {
              "outlinewidth": 0,
              "ticks": ""
             }
            },
            "type": "scatter"
           }
          ],
          "scatter3d": [
           {
            "line": {
             "colorbar": {
              "outlinewidth": 0,
              "ticks": ""
             }
            },
            "marker": {
             "colorbar": {
              "outlinewidth": 0,
              "ticks": ""
             }
            },
            "type": "scatter3d"
           }
          ],
          "scattercarpet": [
           {
            "marker": {
             "colorbar": {
              "outlinewidth": 0,
              "ticks": ""
             }
            },
            "type": "scattercarpet"
           }
          ],
          "scattergeo": [
           {
            "marker": {
             "colorbar": {
              "outlinewidth": 0,
              "ticks": ""
             }
            },
            "type": "scattergeo"
           }
          ],
          "scattergl": [
           {
            "marker": {
             "colorbar": {
              "outlinewidth": 0,
              "ticks": ""
             }
            },
            "type": "scattergl"
           }
          ],
          "scattermapbox": [
           {
            "marker": {
             "colorbar": {
              "outlinewidth": 0,
              "ticks": ""
             }
            },
            "type": "scattermapbox"
           }
          ],
          "scatterpolar": [
           {
            "marker": {
             "colorbar": {
              "outlinewidth": 0,
              "ticks": ""
             }
            },
            "type": "scatterpolar"
           }
          ],
          "scatterpolargl": [
           {
            "marker": {
             "colorbar": {
              "outlinewidth": 0,
              "ticks": ""
             }
            },
            "type": "scatterpolargl"
           }
          ],
          "scatterternary": [
           {
            "marker": {
             "colorbar": {
              "outlinewidth": 0,
              "ticks": ""
             }
            },
            "type": "scatterternary"
           }
          ],
          "surface": [
           {
            "colorbar": {
             "outlinewidth": 0,
             "ticks": ""
            },
            "colorscale": [
             [
              0,
              "#0d0887"
             ],
             [
              0.1111111111111111,
              "#46039f"
             ],
             [
              0.2222222222222222,
              "#7201a8"
             ],
             [
              0.3333333333333333,
              "#9c179e"
             ],
             [
              0.4444444444444444,
              "#bd3786"
             ],
             [
              0.5555555555555556,
              "#d8576b"
             ],
             [
              0.6666666666666666,
              "#ed7953"
             ],
             [
              0.7777777777777778,
              "#fb9f3a"
             ],
             [
              0.8888888888888888,
              "#fdca26"
             ],
             [
              1,
              "#f0f921"
             ]
            ],
            "type": "surface"
           }
          ],
          "table": [
           {
            "cells": {
             "fill": {
              "color": "#EBF0F8"
             },
             "line": {
              "color": "white"
             }
            },
            "header": {
             "fill": {
              "color": "#C8D4E3"
             },
             "line": {
              "color": "white"
             }
            },
            "type": "table"
           }
          ]
         },
         "layout": {
          "annotationdefaults": {
           "arrowcolor": "#2a3f5f",
           "arrowhead": 0,
           "arrowwidth": 1
          },
          "autotypenumbers": "strict",
          "coloraxis": {
           "colorbar": {
            "outlinewidth": 0,
            "ticks": ""
           }
          },
          "colorscale": {
           "diverging": [
            [
             0,
             "#8e0152"
            ],
            [
             0.1,
             "#c51b7d"
            ],
            [
             0.2,
             "#de77ae"
            ],
            [
             0.3,
             "#f1b6da"
            ],
            [
             0.4,
             "#fde0ef"
            ],
            [
             0.5,
             "#f7f7f7"
            ],
            [
             0.6,
             "#e6f5d0"
            ],
            [
             0.7,
             "#b8e186"
            ],
            [
             0.8,
             "#7fbc41"
            ],
            [
             0.9,
             "#4d9221"
            ],
            [
             1,
             "#276419"
            ]
           ],
           "sequential": [
            [
             0,
             "#0d0887"
            ],
            [
             0.1111111111111111,
             "#46039f"
            ],
            [
             0.2222222222222222,
             "#7201a8"
            ],
            [
             0.3333333333333333,
             "#9c179e"
            ],
            [
             0.4444444444444444,
             "#bd3786"
            ],
            [
             0.5555555555555556,
             "#d8576b"
            ],
            [
             0.6666666666666666,
             "#ed7953"
            ],
            [
             0.7777777777777778,
             "#fb9f3a"
            ],
            [
             0.8888888888888888,
             "#fdca26"
            ],
            [
             1,
             "#f0f921"
            ]
           ],
           "sequentialminus": [
            [
             0,
             "#0d0887"
            ],
            [
             0.1111111111111111,
             "#46039f"
            ],
            [
             0.2222222222222222,
             "#7201a8"
            ],
            [
             0.3333333333333333,
             "#9c179e"
            ],
            [
             0.4444444444444444,
             "#bd3786"
            ],
            [
             0.5555555555555556,
             "#d8576b"
            ],
            [
             0.6666666666666666,
             "#ed7953"
            ],
            [
             0.7777777777777778,
             "#fb9f3a"
            ],
            [
             0.8888888888888888,
             "#fdca26"
            ],
            [
             1,
             "#f0f921"
            ]
           ]
          },
          "colorway": [
           "#636efa",
           "#EF553B",
           "#00cc96",
           "#ab63fa",
           "#FFA15A",
           "#19d3f3",
           "#FF6692",
           "#B6E880",
           "#FF97FF",
           "#FECB52"
          ],
          "font": {
           "color": "#2a3f5f"
          },
          "geo": {
           "bgcolor": "white",
           "lakecolor": "white",
           "landcolor": "#E5ECF6",
           "showlakes": true,
           "showland": true,
           "subunitcolor": "white"
          },
          "hoverlabel": {
           "align": "left"
          },
          "hovermode": "closest",
          "mapbox": {
           "style": "light"
          },
          "paper_bgcolor": "white",
          "plot_bgcolor": "#E5ECF6",
          "polar": {
           "angularaxis": {
            "gridcolor": "white",
            "linecolor": "white",
            "ticks": ""
           },
           "bgcolor": "#E5ECF6",
           "radialaxis": {
            "gridcolor": "white",
            "linecolor": "white",
            "ticks": ""
           }
          },
          "scene": {
           "xaxis": {
            "backgroundcolor": "#E5ECF6",
            "gridcolor": "white",
            "gridwidth": 2,
            "linecolor": "white",
            "showbackground": true,
            "ticks": "",
            "zerolinecolor": "white"
           },
           "yaxis": {
            "backgroundcolor": "#E5ECF6",
            "gridcolor": "white",
            "gridwidth": 2,
            "linecolor": "white",
            "showbackground": true,
            "ticks": "",
            "zerolinecolor": "white"
           },
           "zaxis": {
            "backgroundcolor": "#E5ECF6",
            "gridcolor": "white",
            "gridwidth": 2,
            "linecolor": "white",
            "showbackground": true,
            "ticks": "",
            "zerolinecolor": "white"
           }
          },
          "shapedefaults": {
           "line": {
            "color": "#2a3f5f"
           }
          },
          "ternary": {
           "aaxis": {
            "gridcolor": "white",
            "linecolor": "white",
            "ticks": ""
           },
           "baxis": {
            "gridcolor": "white",
            "linecolor": "white",
            "ticks": ""
           },
           "bgcolor": "#E5ECF6",
           "caxis": {
            "gridcolor": "white",
            "linecolor": "white",
            "ticks": ""
           }
          },
          "title": {
           "x": 0.05
          },
          "xaxis": {
           "automargin": true,
           "gridcolor": "white",
           "linecolor": "white",
           "ticks": "",
           "title": {
            "standoff": 15
           },
           "zerolinecolor": "white",
           "zerolinewidth": 2
          },
          "yaxis": {
           "automargin": true,
           "gridcolor": "white",
           "linecolor": "white",
           "ticks": "",
           "title": {
            "standoff": 15
           },
           "zerolinecolor": "white",
           "zerolinewidth": 2
          }
         }
        },
        "title": {
         "font": {
          "size": 15
         },
         "text": "OB Asks vs Bids. Mid-Price: 18578.37, binance: BTC/USDT"
        },
        "xaxis": {
         "range": [
          0,
          10
         ]
        }
       }
      }
     },
     "metadata": {},
     "output_type": "display_data"
    }
   ],
   "source": [
    "vs.OBLvls_hist(params[0],params[1], params[2])"
   ]
  },
  {
   "cell_type": "markdown",
   "metadata": {},
   "source": [
    "We will proceed for binance and ETH/USDT."
   ]
  },
  {
   "cell_type": "code",
   "execution_count": 13,
   "metadata": {},
   "outputs": [
    {
     "data": {
      "text/plain": [
       "(25, 'ETH/USDT', 'binance')"
      ]
     },
     "execution_count": 13,
     "metadata": {},
     "output_type": "execute_result"
    }
   ],
   "source": [
    "params= 25, criptos[1], exchanges[0]\n",
    "params"
   ]
  },
  {
   "cell_type": "code",
   "execution_count": 14,
   "metadata": {},
   "outputs": [
    {
     "data": {
      "text/html": [
       "<div>\n",
       "<style scoped>\n",
       "    .dataframe tbody tr th:only-of-type {\n",
       "        vertical-align: middle;\n",
       "    }\n",
       "\n",
       "    .dataframe tbody tr th {\n",
       "        vertical-align: top;\n",
       "    }\n",
       "\n",
       "    .dataframe thead th {\n",
       "        text-align: right;\n",
       "    }\n",
       "</style>\n",
       "<table border=\"1\" class=\"dataframe\">\n",
       "  <thead>\n",
       "    <tr style=\"text-align: right;\">\n",
       "      <th></th>\n",
       "      <th>price</th>\n",
       "      <th>quantity</th>\n",
       "    </tr>\n",
       "    <tr>\n",
       "      <th>Bid_Lvl</th>\n",
       "      <th></th>\n",
       "      <th></th>\n",
       "    </tr>\n",
       "  </thead>\n",
       "  <tbody>\n",
       "    <tr>\n",
       "      <th>0</th>\n",
       "      <td>1342.04</td>\n",
       "      <td>2.5012</td>\n",
       "    </tr>\n",
       "    <tr>\n",
       "      <th>1</th>\n",
       "      <td>1342.02</td>\n",
       "      <td>1.0000</td>\n",
       "    </tr>\n",
       "    <tr>\n",
       "      <th>2</th>\n",
       "      <td>1342.01</td>\n",
       "      <td>1.0000</td>\n",
       "    </tr>\n",
       "    <tr>\n",
       "      <th>3</th>\n",
       "      <td>1342.00</td>\n",
       "      <td>52.9194</td>\n",
       "    </tr>\n",
       "    <tr>\n",
       "      <th>4</th>\n",
       "      <td>1341.99</td>\n",
       "      <td>0.2174</td>\n",
       "    </tr>\n",
       "  </tbody>\n",
       "</table>\n",
       "</div>"
      ],
      "text/plain": [
       "           price  quantity\n",
       "Bid_Lvl                   \n",
       "0        1342.04    2.5012\n",
       "1        1342.02    1.0000\n",
       "2        1342.01    1.0000\n",
       "3        1342.00   52.9194\n",
       "4        1341.99    0.2174"
      ]
     },
     "execution_count": 14,
     "metadata": {},
     "output_type": "execute_result"
    }
   ],
   "source": [
    "ob_lvls=vs.cctx_download(params[0],params[1], params[2])\n",
    "ob_lvls[0].head()"
   ]
  },
  {
   "cell_type": "code",
   "execution_count": 15,
   "metadata": {},
   "outputs": [
    {
     "data": {
      "text/html": [
       "<div>\n",
       "<style scoped>\n",
       "    .dataframe tbody tr th:only-of-type {\n",
       "        vertical-align: middle;\n",
       "    }\n",
       "\n",
       "    .dataframe tbody tr th {\n",
       "        vertical-align: top;\n",
       "    }\n",
       "\n",
       "    .dataframe thead th {\n",
       "        text-align: right;\n",
       "    }\n",
       "</style>\n",
       "<table border=\"1\" class=\"dataframe\">\n",
       "  <thead>\n",
       "    <tr style=\"text-align: right;\">\n",
       "      <th></th>\n",
       "      <th>price</th>\n",
       "      <th>quantity</th>\n",
       "    </tr>\n",
       "    <tr>\n",
       "      <th>Ask_Lvl</th>\n",
       "      <th></th>\n",
       "      <th></th>\n",
       "    </tr>\n",
       "  </thead>\n",
       "  <tbody>\n",
       "    <tr>\n",
       "      <th>0</th>\n",
       "      <td>1342.05</td>\n",
       "      <td>0.2426</td>\n",
       "    </tr>\n",
       "    <tr>\n",
       "      <th>1</th>\n",
       "      <td>1342.12</td>\n",
       "      <td>8.9386</td>\n",
       "    </tr>\n",
       "    <tr>\n",
       "      <th>2</th>\n",
       "      <td>1342.22</td>\n",
       "      <td>0.3234</td>\n",
       "    </tr>\n",
       "    <tr>\n",
       "      <th>3</th>\n",
       "      <td>1342.23</td>\n",
       "      <td>3.1718</td>\n",
       "    </tr>\n",
       "    <tr>\n",
       "      <th>4</th>\n",
       "      <td>1342.26</td>\n",
       "      <td>8.2601</td>\n",
       "    </tr>\n",
       "  </tbody>\n",
       "</table>\n",
       "</div>"
      ],
      "text/plain": [
       "           price  quantity\n",
       "Ask_Lvl                   \n",
       "0        1342.05    0.2426\n",
       "1        1342.12    8.9386\n",
       "2        1342.22    0.3234\n",
       "3        1342.23    3.1718\n",
       "4        1342.26    8.2601"
      ]
     },
     "execution_count": 15,
     "metadata": {},
     "output_type": "execute_result"
    }
   ],
   "source": [
    "ob_lvls[1].head()"
   ]
  },
  {
   "cell_type": "code",
   "execution_count": 16,
   "metadata": {},
   "outputs": [
    {
     "data": {
      "text/html": [
       "<div>\n",
       "<style scoped>\n",
       "    .dataframe tbody tr th:only-of-type {\n",
       "        vertical-align: middle;\n",
       "    }\n",
       "\n",
       "    .dataframe tbody tr th {\n",
       "        vertical-align: top;\n",
       "    }\n",
       "\n",
       "    .dataframe thead th {\n",
       "        text-align: right;\n",
       "    }\n",
       "</style>\n",
       "<table border=\"1\" class=\"dataframe\">\n",
       "  <thead>\n",
       "    <tr style=\"text-align: right;\">\n",
       "      <th></th>\n",
       "      <th>exchange</th>\n",
       "      <th>timestamp</th>\n",
       "      <th>open</th>\n",
       "      <th>high</th>\n",
       "      <th>low</th>\n",
       "      <th>close</th>\n",
       "      <th>volume</th>\n",
       "    </tr>\n",
       "    <tr>\n",
       "      <th>OHLCV</th>\n",
       "      <th></th>\n",
       "      <th></th>\n",
       "      <th></th>\n",
       "      <th></th>\n",
       "      <th></th>\n",
       "      <th></th>\n",
       "      <th></th>\n",
       "    </tr>\n",
       "  </thead>\n",
       "  <tbody>\n",
       "    <tr>\n",
       "      <th>0</th>\n",
       "      <td>binance</td>\n",
       "      <td>2022-11-08T19:00:06.670Z</td>\n",
       "      <td>1386.43</td>\n",
       "      <td>1386.9</td>\n",
       "      <td>1374.17</td>\n",
       "      <td>1378.45</td>\n",
       "      <td>4121.8351</td>\n",
       "    </tr>\n",
       "  </tbody>\n",
       "</table>\n",
       "</div>"
      ],
      "text/plain": [
       "      exchange                 timestamp     open    high      low    close  \\\n",
       "OHLCV                                                                         \n",
       "0      binance  2022-11-08T19:00:06.670Z  1386.43  1386.9  1374.17  1378.45   \n",
       "\n",
       "          volume  \n",
       "OHLCV             \n",
       "0      4121.8351  "
      ]
     },
     "execution_count": 16,
     "metadata": {},
     "output_type": "execute_result"
    }
   ],
   "source": [
    "ob_lvls[2]"
   ]
  },
  {
   "cell_type": "code",
   "execution_count": 17,
   "metadata": {},
   "outputs": [
    {
     "data": {
      "application/vnd.plotly.v1+json": {
       "config": {
        "plotlyServerURL": "https://plot.ly"
       },
       "data": [
        {
         "orientation": "h",
         "type": "bar",
         "x": [
          1.3651,
          14.6105,
          0.7155,
          1.1985,
          1,
          1.7005,
          0.2,
          5.527,
          0.3782,
          0.5999,
          0.7819,
          0.7875,
          1.1011,
          1,
          5.0149,
          0.5,
          0.6449,
          2.7836,
          0.5,
          1.2,
          0.5149,
          0.4985,
          0.5,
          0.084,
          1
         ],
         "y": [
          "1337.89",
          "1337.9",
          "1337.91",
          "1337.93",
          "1338.3",
          "1338.32",
          "1338.38",
          "1338.41",
          "1338.61",
          "1338.72",
          "1338.83",
          "1338.84",
          "1338.93",
          "1339.02",
          "1339.12",
          "1339.24",
          "1339.29",
          "1339.4",
          "1339.44",
          "1339.48",
          "1339.49",
          "1339.6",
          "1339.65",
          "1339.94",
          "1339.98"
         ]
        },
        {
         "orientation": "h",
         "type": "bar",
         "x": [
          1.2989,
          1.2989,
          0.4059,
          2.3527,
          7.2388,
          0.2328,
          0.0145,
          0.0679,
          0.009,
          3.4215,
          0.9262,
          0.05,
          0.3,
          0.015,
          0.0094,
          0.0429,
          0.0408,
          0.0154,
          0.0093,
          0.0249,
          0.1845,
          0.3889,
          0.1074,
          0.0113,
          0.5675
         ],
         "y": [
          "1337.22",
          "1337.02",
          "1337.0",
          "1336.94",
          "1336.7",
          "1336.69",
          "1336.67",
          "1336.66",
          "1336.65",
          "1336.63",
          "1336.62",
          "1336.61",
          "1336.6",
          "1336.58",
          "1336.53",
          "1336.52",
          "1336.51",
          "1336.5",
          "1336.48",
          "1336.47",
          "1336.45",
          "1336.43",
          "1336.42",
          "1336.4",
          "1336.39"
         ]
        }
       ],
       "layout": {
        "template": {
         "data": {
          "bar": [
           {
            "error_x": {
             "color": "#2a3f5f"
            },
            "error_y": {
             "color": "#2a3f5f"
            },
            "marker": {
             "line": {
              "color": "#E5ECF6",
              "width": 0.5
             },
             "pattern": {
              "fillmode": "overlay",
              "size": 10,
              "solidity": 0.2
             }
            },
            "type": "bar"
           }
          ],
          "barpolar": [
           {
            "marker": {
             "line": {
              "color": "#E5ECF6",
              "width": 0.5
             },
             "pattern": {
              "fillmode": "overlay",
              "size": 10,
              "solidity": 0.2
             }
            },
            "type": "barpolar"
           }
          ],
          "carpet": [
           {
            "aaxis": {
             "endlinecolor": "#2a3f5f",
             "gridcolor": "white",
             "linecolor": "white",
             "minorgridcolor": "white",
             "startlinecolor": "#2a3f5f"
            },
            "baxis": {
             "endlinecolor": "#2a3f5f",
             "gridcolor": "white",
             "linecolor": "white",
             "minorgridcolor": "white",
             "startlinecolor": "#2a3f5f"
            },
            "type": "carpet"
           }
          ],
          "choropleth": [
           {
            "colorbar": {
             "outlinewidth": 0,
             "ticks": ""
            },
            "type": "choropleth"
           }
          ],
          "contour": [
           {
            "colorbar": {
             "outlinewidth": 0,
             "ticks": ""
            },
            "colorscale": [
             [
              0,
              "#0d0887"
             ],
             [
              0.1111111111111111,
              "#46039f"
             ],
             [
              0.2222222222222222,
              "#7201a8"
             ],
             [
              0.3333333333333333,
              "#9c179e"
             ],
             [
              0.4444444444444444,
              "#bd3786"
             ],
             [
              0.5555555555555556,
              "#d8576b"
             ],
             [
              0.6666666666666666,
              "#ed7953"
             ],
             [
              0.7777777777777778,
              "#fb9f3a"
             ],
             [
              0.8888888888888888,
              "#fdca26"
             ],
             [
              1,
              "#f0f921"
             ]
            ],
            "type": "contour"
           }
          ],
          "contourcarpet": [
           {
            "colorbar": {
             "outlinewidth": 0,
             "ticks": ""
            },
            "type": "contourcarpet"
           }
          ],
          "heatmap": [
           {
            "colorbar": {
             "outlinewidth": 0,
             "ticks": ""
            },
            "colorscale": [
             [
              0,
              "#0d0887"
             ],
             [
              0.1111111111111111,
              "#46039f"
             ],
             [
              0.2222222222222222,
              "#7201a8"
             ],
             [
              0.3333333333333333,
              "#9c179e"
             ],
             [
              0.4444444444444444,
              "#bd3786"
             ],
             [
              0.5555555555555556,
              "#d8576b"
             ],
             [
              0.6666666666666666,
              "#ed7953"
             ],
             [
              0.7777777777777778,
              "#fb9f3a"
             ],
             [
              0.8888888888888888,
              "#fdca26"
             ],
             [
              1,
              "#f0f921"
             ]
            ],
            "type": "heatmap"
           }
          ],
          "heatmapgl": [
           {
            "colorbar": {
             "outlinewidth": 0,
             "ticks": ""
            },
            "colorscale": [
             [
              0,
              "#0d0887"
             ],
             [
              0.1111111111111111,
              "#46039f"
             ],
             [
              0.2222222222222222,
              "#7201a8"
             ],
             [
              0.3333333333333333,
              "#9c179e"
             ],
             [
              0.4444444444444444,
              "#bd3786"
             ],
             [
              0.5555555555555556,
              "#d8576b"
             ],
             [
              0.6666666666666666,
              "#ed7953"
             ],
             [
              0.7777777777777778,
              "#fb9f3a"
             ],
             [
              0.8888888888888888,
              "#fdca26"
             ],
             [
              1,
              "#f0f921"
             ]
            ],
            "type": "heatmapgl"
           }
          ],
          "histogram": [
           {
            "marker": {
             "pattern": {
              "fillmode": "overlay",
              "size": 10,
              "solidity": 0.2
             }
            },
            "type": "histogram"
           }
          ],
          "histogram2d": [
           {
            "colorbar": {
             "outlinewidth": 0,
             "ticks": ""
            },
            "colorscale": [
             [
              0,
              "#0d0887"
             ],
             [
              0.1111111111111111,
              "#46039f"
             ],
             [
              0.2222222222222222,
              "#7201a8"
             ],
             [
              0.3333333333333333,
              "#9c179e"
             ],
             [
              0.4444444444444444,
              "#bd3786"
             ],
             [
              0.5555555555555556,
              "#d8576b"
             ],
             [
              0.6666666666666666,
              "#ed7953"
             ],
             [
              0.7777777777777778,
              "#fb9f3a"
             ],
             [
              0.8888888888888888,
              "#fdca26"
             ],
             [
              1,
              "#f0f921"
             ]
            ],
            "type": "histogram2d"
           }
          ],
          "histogram2dcontour": [
           {
            "colorbar": {
             "outlinewidth": 0,
             "ticks": ""
            },
            "colorscale": [
             [
              0,
              "#0d0887"
             ],
             [
              0.1111111111111111,
              "#46039f"
             ],
             [
              0.2222222222222222,
              "#7201a8"
             ],
             [
              0.3333333333333333,
              "#9c179e"
             ],
             [
              0.4444444444444444,
              "#bd3786"
             ],
             [
              0.5555555555555556,
              "#d8576b"
             ],
             [
              0.6666666666666666,
              "#ed7953"
             ],
             [
              0.7777777777777778,
              "#fb9f3a"
             ],
             [
              0.8888888888888888,
              "#fdca26"
             ],
             [
              1,
              "#f0f921"
             ]
            ],
            "type": "histogram2dcontour"
           }
          ],
          "mesh3d": [
           {
            "colorbar": {
             "outlinewidth": 0,
             "ticks": ""
            },
            "type": "mesh3d"
           }
          ],
          "parcoords": [
           {
            "line": {
             "colorbar": {
              "outlinewidth": 0,
              "ticks": ""
             }
            },
            "type": "parcoords"
           }
          ],
          "pie": [
           {
            "automargin": true,
            "type": "pie"
           }
          ],
          "scatter": [
           {
            "marker": {
             "colorbar": {
              "outlinewidth": 0,
              "ticks": ""
             }
            },
            "type": "scatter"
           }
          ],
          "scatter3d": [
           {
            "line": {
             "colorbar": {
              "outlinewidth": 0,
              "ticks": ""
             }
            },
            "marker": {
             "colorbar": {
              "outlinewidth": 0,
              "ticks": ""
             }
            },
            "type": "scatter3d"
           }
          ],
          "scattercarpet": [
           {
            "marker": {
             "colorbar": {
              "outlinewidth": 0,
              "ticks": ""
             }
            },
            "type": "scattercarpet"
           }
          ],
          "scattergeo": [
           {
            "marker": {
             "colorbar": {
              "outlinewidth": 0,
              "ticks": ""
             }
            },
            "type": "scattergeo"
           }
          ],
          "scattergl": [
           {
            "marker": {
             "colorbar": {
              "outlinewidth": 0,
              "ticks": ""
             }
            },
            "type": "scattergl"
           }
          ],
          "scattermapbox": [
           {
            "marker": {
             "colorbar": {
              "outlinewidth": 0,
              "ticks": ""
             }
            },
            "type": "scattermapbox"
           }
          ],
          "scatterpolar": [
           {
            "marker": {
             "colorbar": {
              "outlinewidth": 0,
              "ticks": ""
             }
            },
            "type": "scatterpolar"
           }
          ],
          "scatterpolargl": [
           {
            "marker": {
             "colorbar": {
              "outlinewidth": 0,
              "ticks": ""
             }
            },
            "type": "scatterpolargl"
           }
          ],
          "scatterternary": [
           {
            "marker": {
             "colorbar": {
              "outlinewidth": 0,
              "ticks": ""
             }
            },
            "type": "scatterternary"
           }
          ],
          "surface": [
           {
            "colorbar": {
             "outlinewidth": 0,
             "ticks": ""
            },
            "colorscale": [
             [
              0,
              "#0d0887"
             ],
             [
              0.1111111111111111,
              "#46039f"
             ],
             [
              0.2222222222222222,
              "#7201a8"
             ],
             [
              0.3333333333333333,
              "#9c179e"
             ],
             [
              0.4444444444444444,
              "#bd3786"
             ],
             [
              0.5555555555555556,
              "#d8576b"
             ],
             [
              0.6666666666666666,
              "#ed7953"
             ],
             [
              0.7777777777777778,
              "#fb9f3a"
             ],
             [
              0.8888888888888888,
              "#fdca26"
             ],
             [
              1,
              "#f0f921"
             ]
            ],
            "type": "surface"
           }
          ],
          "table": [
           {
            "cells": {
             "fill": {
              "color": "#EBF0F8"
             },
             "line": {
              "color": "white"
             }
            },
            "header": {
             "fill": {
              "color": "#C8D4E3"
             },
             "line": {
              "color": "white"
             }
            },
            "type": "table"
           }
          ]
         },
         "layout": {
          "annotationdefaults": {
           "arrowcolor": "#2a3f5f",
           "arrowhead": 0,
           "arrowwidth": 1
          },
          "autotypenumbers": "strict",
          "coloraxis": {
           "colorbar": {
            "outlinewidth": 0,
            "ticks": ""
           }
          },
          "colorscale": {
           "diverging": [
            [
             0,
             "#8e0152"
            ],
            [
             0.1,
             "#c51b7d"
            ],
            [
             0.2,
             "#de77ae"
            ],
            [
             0.3,
             "#f1b6da"
            ],
            [
             0.4,
             "#fde0ef"
            ],
            [
             0.5,
             "#f7f7f7"
            ],
            [
             0.6,
             "#e6f5d0"
            ],
            [
             0.7,
             "#b8e186"
            ],
            [
             0.8,
             "#7fbc41"
            ],
            [
             0.9,
             "#4d9221"
            ],
            [
             1,
             "#276419"
            ]
           ],
           "sequential": [
            [
             0,
             "#0d0887"
            ],
            [
             0.1111111111111111,
             "#46039f"
            ],
            [
             0.2222222222222222,
             "#7201a8"
            ],
            [
             0.3333333333333333,
             "#9c179e"
            ],
            [
             0.4444444444444444,
             "#bd3786"
            ],
            [
             0.5555555555555556,
             "#d8576b"
            ],
            [
             0.6666666666666666,
             "#ed7953"
            ],
            [
             0.7777777777777778,
             "#fb9f3a"
            ],
            [
             0.8888888888888888,
             "#fdca26"
            ],
            [
             1,
             "#f0f921"
            ]
           ],
           "sequentialminus": [
            [
             0,
             "#0d0887"
            ],
            [
             0.1111111111111111,
             "#46039f"
            ],
            [
             0.2222222222222222,
             "#7201a8"
            ],
            [
             0.3333333333333333,
             "#9c179e"
            ],
            [
             0.4444444444444444,
             "#bd3786"
            ],
            [
             0.5555555555555556,
             "#d8576b"
            ],
            [
             0.6666666666666666,
             "#ed7953"
            ],
            [
             0.7777777777777778,
             "#fb9f3a"
            ],
            [
             0.8888888888888888,
             "#fdca26"
            ],
            [
             1,
             "#f0f921"
            ]
           ]
          },
          "colorway": [
           "#636efa",
           "#EF553B",
           "#00cc96",
           "#ab63fa",
           "#FFA15A",
           "#19d3f3",
           "#FF6692",
           "#B6E880",
           "#FF97FF",
           "#FECB52"
          ],
          "font": {
           "color": "#2a3f5f"
          },
          "geo": {
           "bgcolor": "white",
           "lakecolor": "white",
           "landcolor": "#E5ECF6",
           "showlakes": true,
           "showland": true,
           "subunitcolor": "white"
          },
          "hoverlabel": {
           "align": "left"
          },
          "hovermode": "closest",
          "mapbox": {
           "style": "light"
          },
          "paper_bgcolor": "white",
          "plot_bgcolor": "#E5ECF6",
          "polar": {
           "angularaxis": {
            "gridcolor": "white",
            "linecolor": "white",
            "ticks": ""
           },
           "bgcolor": "#E5ECF6",
           "radialaxis": {
            "gridcolor": "white",
            "linecolor": "white",
            "ticks": ""
           }
          },
          "scene": {
           "xaxis": {
            "backgroundcolor": "#E5ECF6",
            "gridcolor": "white",
            "gridwidth": 2,
            "linecolor": "white",
            "showbackground": true,
            "ticks": "",
            "zerolinecolor": "white"
           },
           "yaxis": {
            "backgroundcolor": "#E5ECF6",
            "gridcolor": "white",
            "gridwidth": 2,
            "linecolor": "white",
            "showbackground": true,
            "ticks": "",
            "zerolinecolor": "white"
           },
           "zaxis": {
            "backgroundcolor": "#E5ECF6",
            "gridcolor": "white",
            "gridwidth": 2,
            "linecolor": "white",
            "showbackground": true,
            "ticks": "",
            "zerolinecolor": "white"
           }
          },
          "shapedefaults": {
           "line": {
            "color": "#2a3f5f"
           }
          },
          "ternary": {
           "aaxis": {
            "gridcolor": "white",
            "linecolor": "white",
            "ticks": ""
           },
           "baxis": {
            "gridcolor": "white",
            "linecolor": "white",
            "ticks": ""
           },
           "bgcolor": "#E5ECF6",
           "caxis": {
            "gridcolor": "white",
            "linecolor": "white",
            "ticks": ""
           }
          },
          "title": {
           "x": 0.05
          },
          "xaxis": {
           "automargin": true,
           "gridcolor": "white",
           "linecolor": "white",
           "ticks": "",
           "title": {
            "standoff": 15
           },
           "zerolinecolor": "white",
           "zerolinewidth": 2
          },
          "yaxis": {
           "automargin": true,
           "gridcolor": "white",
           "linecolor": "white",
           "ticks": "",
           "title": {
            "standoff": 15
           },
           "zerolinecolor": "white",
           "zerolinewidth": 2
          }
         }
        },
        "title": {
         "font": {
          "size": 15
         },
         "text": "OB Asks vs Bids. Mid-Price: 1337.555, binance: ETH/USDT"
        },
        "xaxis": {
         "range": [
          0,
          10
         ]
        }
       }
      }
     },
     "metadata": {},
     "output_type": "display_data"
    }
   ],
   "source": [
    "vs.OBLvls_hist(params[0],params[1], params[2])"
   ]
  },
  {
   "cell_type": "markdown",
   "metadata": {},
   "source": [
    "We continue with the exchange binance and XRP/USDT."
   ]
  },
  {
   "cell_type": "code",
   "execution_count": 18,
   "metadata": {},
   "outputs": [
    {
     "data": {
      "text/plain": [
       "(25, 'XRP/USDT', 'binance')"
      ]
     },
     "execution_count": 18,
     "metadata": {},
     "output_type": "execute_result"
    }
   ],
   "source": [
    "params= 25, criptos[2], exchanges[0]\n",
    "params"
   ]
  },
  {
   "cell_type": "code",
   "execution_count": 19,
   "metadata": {},
   "outputs": [
    {
     "data": {
      "text/html": [
       "<div>\n",
       "<style scoped>\n",
       "    .dataframe tbody tr th:only-of-type {\n",
       "        vertical-align: middle;\n",
       "    }\n",
       "\n",
       "    .dataframe tbody tr th {\n",
       "        vertical-align: top;\n",
       "    }\n",
       "\n",
       "    .dataframe thead th {\n",
       "        text-align: right;\n",
       "    }\n",
       "</style>\n",
       "<table border=\"1\" class=\"dataframe\">\n",
       "  <thead>\n",
       "    <tr style=\"text-align: right;\">\n",
       "      <th></th>\n",
       "      <th>price</th>\n",
       "      <th>quantity</th>\n",
       "    </tr>\n",
       "    <tr>\n",
       "      <th>Bid_Lvl</th>\n",
       "      <th></th>\n",
       "      <th></th>\n",
       "    </tr>\n",
       "  </thead>\n",
       "  <tbody>\n",
       "    <tr>\n",
       "      <th>0</th>\n",
       "      <td>0.4053</td>\n",
       "      <td>9777.0</td>\n",
       "    </tr>\n",
       "    <tr>\n",
       "      <th>1</th>\n",
       "      <td>0.4052</td>\n",
       "      <td>8000.0</td>\n",
       "    </tr>\n",
       "    <tr>\n",
       "      <th>2</th>\n",
       "      <td>0.4051</td>\n",
       "      <td>11751.0</td>\n",
       "    </tr>\n",
       "    <tr>\n",
       "      <th>3</th>\n",
       "      <td>0.4050</td>\n",
       "      <td>4154.0</td>\n",
       "    </tr>\n",
       "    <tr>\n",
       "      <th>4</th>\n",
       "      <td>0.4048</td>\n",
       "      <td>751.0</td>\n",
       "    </tr>\n",
       "  </tbody>\n",
       "</table>\n",
       "</div>"
      ],
      "text/plain": [
       "          price  quantity\n",
       "Bid_Lvl                  \n",
       "0        0.4053    9777.0\n",
       "1        0.4052    8000.0\n",
       "2        0.4051   11751.0\n",
       "3        0.4050    4154.0\n",
       "4        0.4048     751.0"
      ]
     },
     "execution_count": 19,
     "metadata": {},
     "output_type": "execute_result"
    }
   ],
   "source": [
    "ob_lvls=vs.cctx_download(params[0],params[1], params[2])\n",
    "ob_lvls[0].head()"
   ]
  },
  {
   "cell_type": "code",
   "execution_count": 20,
   "metadata": {},
   "outputs": [
    {
     "data": {
      "text/html": [
       "<div>\n",
       "<style scoped>\n",
       "    .dataframe tbody tr th:only-of-type {\n",
       "        vertical-align: middle;\n",
       "    }\n",
       "\n",
       "    .dataframe tbody tr th {\n",
       "        vertical-align: top;\n",
       "    }\n",
       "\n",
       "    .dataframe thead th {\n",
       "        text-align: right;\n",
       "    }\n",
       "</style>\n",
       "<table border=\"1\" class=\"dataframe\">\n",
       "  <thead>\n",
       "    <tr style=\"text-align: right;\">\n",
       "      <th></th>\n",
       "      <th>price</th>\n",
       "      <th>quantity</th>\n",
       "    </tr>\n",
       "    <tr>\n",
       "      <th>Ask_Lvl</th>\n",
       "      <th></th>\n",
       "      <th></th>\n",
       "    </tr>\n",
       "  </thead>\n",
       "  <tbody>\n",
       "    <tr>\n",
       "      <th>0</th>\n",
       "      <td>0.4058</td>\n",
       "      <td>96984.0</td>\n",
       "    </tr>\n",
       "    <tr>\n",
       "      <th>1</th>\n",
       "      <td>0.4059</td>\n",
       "      <td>8883.0</td>\n",
       "    </tr>\n",
       "    <tr>\n",
       "      <th>2</th>\n",
       "      <td>0.4060</td>\n",
       "      <td>78234.0</td>\n",
       "    </tr>\n",
       "    <tr>\n",
       "      <th>3</th>\n",
       "      <td>0.4061</td>\n",
       "      <td>2309.0</td>\n",
       "    </tr>\n",
       "    <tr>\n",
       "      <th>4</th>\n",
       "      <td>0.4062</td>\n",
       "      <td>43312.0</td>\n",
       "    </tr>\n",
       "  </tbody>\n",
       "</table>\n",
       "</div>"
      ],
      "text/plain": [
       "          price  quantity\n",
       "Ask_Lvl                  \n",
       "0        0.4058   96984.0\n",
       "1        0.4059    8883.0\n",
       "2        0.4060   78234.0\n",
       "3        0.4061    2309.0\n",
       "4        0.4062   43312.0"
      ]
     },
     "execution_count": 20,
     "metadata": {},
     "output_type": "execute_result"
    }
   ],
   "source": [
    "ob_lvls[1].head()"
   ]
  },
  {
   "cell_type": "code",
   "execution_count": 21,
   "metadata": {},
   "outputs": [
    {
     "data": {
      "text/html": [
       "<div>\n",
       "<style scoped>\n",
       "    .dataframe tbody tr th:only-of-type {\n",
       "        vertical-align: middle;\n",
       "    }\n",
       "\n",
       "    .dataframe tbody tr th {\n",
       "        vertical-align: top;\n",
       "    }\n",
       "\n",
       "    .dataframe thead th {\n",
       "        text-align: right;\n",
       "    }\n",
       "</style>\n",
       "<table border=\"1\" class=\"dataframe\">\n",
       "  <thead>\n",
       "    <tr style=\"text-align: right;\">\n",
       "      <th></th>\n",
       "      <th>exchange</th>\n",
       "      <th>timestamp</th>\n",
       "      <th>open</th>\n",
       "      <th>high</th>\n",
       "      <th>low</th>\n",
       "      <th>close</th>\n",
       "      <th>volume</th>\n",
       "    </tr>\n",
       "    <tr>\n",
       "      <th>OHLCV</th>\n",
       "      <th></th>\n",
       "      <th></th>\n",
       "      <th></th>\n",
       "      <th></th>\n",
       "      <th></th>\n",
       "      <th></th>\n",
       "      <th></th>\n",
       "    </tr>\n",
       "  </thead>\n",
       "  <tbody>\n",
       "    <tr>\n",
       "      <th>0</th>\n",
       "      <td>binance</td>\n",
       "      <td>2022-11-08T19:00:10.654Z</td>\n",
       "      <td>0.4141</td>\n",
       "      <td>0.4142</td>\n",
       "      <td>0.4117</td>\n",
       "      <td>0.4125</td>\n",
       "      <td>1817854.0</td>\n",
       "    </tr>\n",
       "  </tbody>\n",
       "</table>\n",
       "</div>"
      ],
      "text/plain": [
       "      exchange                 timestamp    open    high     low   close  \\\n",
       "OHLCV                                                                      \n",
       "0      binance  2022-11-08T19:00:10.654Z  0.4141  0.4142  0.4117  0.4125   \n",
       "\n",
       "          volume  \n",
       "OHLCV             \n",
       "0      1817854.0  "
      ]
     },
     "execution_count": 21,
     "metadata": {},
     "output_type": "execute_result"
    }
   ],
   "source": [
    "ob_lvls[2]"
   ]
  },
  {
   "cell_type": "code",
   "execution_count": 22,
   "metadata": {},
   "outputs": [
    {
     "data": {
      "application/vnd.plotly.v1+json": {
       "config": {
        "plotlyServerURL": "https://plot.ly"
       },
       "data": [
        {
         "orientation": "h",
         "type": "bar",
         "x": [
          5453,
          23153,
          923,
          41830,
          1168,
          1912,
          912,
          690,
          7199,
          20051,
          43635,
          593,
          6319,
          17367,
          468,
          16960,
          5154,
          8798,
          73613,
          11411,
          772582,
          2809,
          258981,
          3642,
          1005
         ],
         "y": [
          "0.4067",
          "0.4068",
          "0.4069",
          "0.407",
          "0.4071",
          "0.4072",
          "0.4073",
          "0.4074",
          "0.4075",
          "0.4076",
          "0.4077",
          "0.4078",
          "0.4079",
          "0.408",
          "0.4081",
          "0.4082",
          "0.4083",
          "0.4084",
          "0.4085",
          "0.4086",
          "0.4087",
          "0.4088",
          "0.4089",
          "0.409",
          "0.4091"
         ]
        },
        {
         "orientation": "h",
         "type": "bar",
         "x": [
          6713,
          10100,
          14487,
          10802,
          8000,
          3886,
          4206,
          2100,
          19347,
          3670,
          42678,
          38047,
          20435,
          19007,
          1440,
          37405,
          16914,
          5735,
          5875,
          768,
          25222,
          3063,
          5261,
          1001,
          37059
         ],
         "y": [
          "0.4065",
          "0.4063",
          "0.4062",
          "0.4061",
          "0.406",
          "0.4059",
          "0.4058",
          "0.4057",
          "0.4056",
          "0.4055",
          "0.4054",
          "0.4053",
          "0.4052",
          "0.4051",
          "0.405",
          "0.4049",
          "0.4048",
          "0.4047",
          "0.4046",
          "0.4045",
          "0.4044",
          "0.4043",
          "0.4042",
          "0.4041",
          "0.404"
         ]
        }
       ],
       "layout": {
        "template": {
         "data": {
          "bar": [
           {
            "error_x": {
             "color": "#2a3f5f"
            },
            "error_y": {
             "color": "#2a3f5f"
            },
            "marker": {
             "line": {
              "color": "#E5ECF6",
              "width": 0.5
             },
             "pattern": {
              "fillmode": "overlay",
              "size": 10,
              "solidity": 0.2
             }
            },
            "type": "bar"
           }
          ],
          "barpolar": [
           {
            "marker": {
             "line": {
              "color": "#E5ECF6",
              "width": 0.5
             },
             "pattern": {
              "fillmode": "overlay",
              "size": 10,
              "solidity": 0.2
             }
            },
            "type": "barpolar"
           }
          ],
          "carpet": [
           {
            "aaxis": {
             "endlinecolor": "#2a3f5f",
             "gridcolor": "white",
             "linecolor": "white",
             "minorgridcolor": "white",
             "startlinecolor": "#2a3f5f"
            },
            "baxis": {
             "endlinecolor": "#2a3f5f",
             "gridcolor": "white",
             "linecolor": "white",
             "minorgridcolor": "white",
             "startlinecolor": "#2a3f5f"
            },
            "type": "carpet"
           }
          ],
          "choropleth": [
           {
            "colorbar": {
             "outlinewidth": 0,
             "ticks": ""
            },
            "type": "choropleth"
           }
          ],
          "contour": [
           {
            "colorbar": {
             "outlinewidth": 0,
             "ticks": ""
            },
            "colorscale": [
             [
              0,
              "#0d0887"
             ],
             [
              0.1111111111111111,
              "#46039f"
             ],
             [
              0.2222222222222222,
              "#7201a8"
             ],
             [
              0.3333333333333333,
              "#9c179e"
             ],
             [
              0.4444444444444444,
              "#bd3786"
             ],
             [
              0.5555555555555556,
              "#d8576b"
             ],
             [
              0.6666666666666666,
              "#ed7953"
             ],
             [
              0.7777777777777778,
              "#fb9f3a"
             ],
             [
              0.8888888888888888,
              "#fdca26"
             ],
             [
              1,
              "#f0f921"
             ]
            ],
            "type": "contour"
           }
          ],
          "contourcarpet": [
           {
            "colorbar": {
             "outlinewidth": 0,
             "ticks": ""
            },
            "type": "contourcarpet"
           }
          ],
          "heatmap": [
           {
            "colorbar": {
             "outlinewidth": 0,
             "ticks": ""
            },
            "colorscale": [
             [
              0,
              "#0d0887"
             ],
             [
              0.1111111111111111,
              "#46039f"
             ],
             [
              0.2222222222222222,
              "#7201a8"
             ],
             [
              0.3333333333333333,
              "#9c179e"
             ],
             [
              0.4444444444444444,
              "#bd3786"
             ],
             [
              0.5555555555555556,
              "#d8576b"
             ],
             [
              0.6666666666666666,
              "#ed7953"
             ],
             [
              0.7777777777777778,
              "#fb9f3a"
             ],
             [
              0.8888888888888888,
              "#fdca26"
             ],
             [
              1,
              "#f0f921"
             ]
            ],
            "type": "heatmap"
           }
          ],
          "heatmapgl": [
           {
            "colorbar": {
             "outlinewidth": 0,
             "ticks": ""
            },
            "colorscale": [
             [
              0,
              "#0d0887"
             ],
             [
              0.1111111111111111,
              "#46039f"
             ],
             [
              0.2222222222222222,
              "#7201a8"
             ],
             [
              0.3333333333333333,
              "#9c179e"
             ],
             [
              0.4444444444444444,
              "#bd3786"
             ],
             [
              0.5555555555555556,
              "#d8576b"
             ],
             [
              0.6666666666666666,
              "#ed7953"
             ],
             [
              0.7777777777777778,
              "#fb9f3a"
             ],
             [
              0.8888888888888888,
              "#fdca26"
             ],
             [
              1,
              "#f0f921"
             ]
            ],
            "type": "heatmapgl"
           }
          ],
          "histogram": [
           {
            "marker": {
             "pattern": {
              "fillmode": "overlay",
              "size": 10,
              "solidity": 0.2
             }
            },
            "type": "histogram"
           }
          ],
          "histogram2d": [
           {
            "colorbar": {
             "outlinewidth": 0,
             "ticks": ""
            },
            "colorscale": [
             [
              0,
              "#0d0887"
             ],
             [
              0.1111111111111111,
              "#46039f"
             ],
             [
              0.2222222222222222,
              "#7201a8"
             ],
             [
              0.3333333333333333,
              "#9c179e"
             ],
             [
              0.4444444444444444,
              "#bd3786"
             ],
             [
              0.5555555555555556,
              "#d8576b"
             ],
             [
              0.6666666666666666,
              "#ed7953"
             ],
             [
              0.7777777777777778,
              "#fb9f3a"
             ],
             [
              0.8888888888888888,
              "#fdca26"
             ],
             [
              1,
              "#f0f921"
             ]
            ],
            "type": "histogram2d"
           }
          ],
          "histogram2dcontour": [
           {
            "colorbar": {
             "outlinewidth": 0,
             "ticks": ""
            },
            "colorscale": [
             [
              0,
              "#0d0887"
             ],
             [
              0.1111111111111111,
              "#46039f"
             ],
             [
              0.2222222222222222,
              "#7201a8"
             ],
             [
              0.3333333333333333,
              "#9c179e"
             ],
             [
              0.4444444444444444,
              "#bd3786"
             ],
             [
              0.5555555555555556,
              "#d8576b"
             ],
             [
              0.6666666666666666,
              "#ed7953"
             ],
             [
              0.7777777777777778,
              "#fb9f3a"
             ],
             [
              0.8888888888888888,
              "#fdca26"
             ],
             [
              1,
              "#f0f921"
             ]
            ],
            "type": "histogram2dcontour"
           }
          ],
          "mesh3d": [
           {
            "colorbar": {
             "outlinewidth": 0,
             "ticks": ""
            },
            "type": "mesh3d"
           }
          ],
          "parcoords": [
           {
            "line": {
             "colorbar": {
              "outlinewidth": 0,
              "ticks": ""
             }
            },
            "type": "parcoords"
           }
          ],
          "pie": [
           {
            "automargin": true,
            "type": "pie"
           }
          ],
          "scatter": [
           {
            "marker": {
             "colorbar": {
              "outlinewidth": 0,
              "ticks": ""
             }
            },
            "type": "scatter"
           }
          ],
          "scatter3d": [
           {
            "line": {
             "colorbar": {
              "outlinewidth": 0,
              "ticks": ""
             }
            },
            "marker": {
             "colorbar": {
              "outlinewidth": 0,
              "ticks": ""
             }
            },
            "type": "scatter3d"
           }
          ],
          "scattercarpet": [
           {
            "marker": {
             "colorbar": {
              "outlinewidth": 0,
              "ticks": ""
             }
            },
            "type": "scattercarpet"
           }
          ],
          "scattergeo": [
           {
            "marker": {
             "colorbar": {
              "outlinewidth": 0,
              "ticks": ""
             }
            },
            "type": "scattergeo"
           }
          ],
          "scattergl": [
           {
            "marker": {
             "colorbar": {
              "outlinewidth": 0,
              "ticks": ""
             }
            },
            "type": "scattergl"
           }
          ],
          "scattermapbox": [
           {
            "marker": {
             "colorbar": {
              "outlinewidth": 0,
              "ticks": ""
             }
            },
            "type": "scattermapbox"
           }
          ],
          "scatterpolar": [
           {
            "marker": {
             "colorbar": {
              "outlinewidth": 0,
              "ticks": ""
             }
            },
            "type": "scatterpolar"
           }
          ],
          "scatterpolargl": [
           {
            "marker": {
             "colorbar": {
              "outlinewidth": 0,
              "ticks": ""
             }
            },
            "type": "scatterpolargl"
           }
          ],
          "scatterternary": [
           {
            "marker": {
             "colorbar": {
              "outlinewidth": 0,
              "ticks": ""
             }
            },
            "type": "scatterternary"
           }
          ],
          "surface": [
           {
            "colorbar": {
             "outlinewidth": 0,
             "ticks": ""
            },
            "colorscale": [
             [
              0,
              "#0d0887"
             ],
             [
              0.1111111111111111,
              "#46039f"
             ],
             [
              0.2222222222222222,
              "#7201a8"
             ],
             [
              0.3333333333333333,
              "#9c179e"
             ],
             [
              0.4444444444444444,
              "#bd3786"
             ],
             [
              0.5555555555555556,
              "#d8576b"
             ],
             [
              0.6666666666666666,
              "#ed7953"
             ],
             [
              0.7777777777777778,
              "#fb9f3a"
             ],
             [
              0.8888888888888888,
              "#fdca26"
             ],
             [
              1,
              "#f0f921"
             ]
            ],
            "type": "surface"
           }
          ],
          "table": [
           {
            "cells": {
             "fill": {
              "color": "#EBF0F8"
             },
             "line": {
              "color": "white"
             }
            },
            "header": {
             "fill": {
              "color": "#C8D4E3"
             },
             "line": {
              "color": "white"
             }
            },
            "type": "table"
           }
          ]
         },
         "layout": {
          "annotationdefaults": {
           "arrowcolor": "#2a3f5f",
           "arrowhead": 0,
           "arrowwidth": 1
          },
          "autotypenumbers": "strict",
          "coloraxis": {
           "colorbar": {
            "outlinewidth": 0,
            "ticks": ""
           }
          },
          "colorscale": {
           "diverging": [
            [
             0,
             "#8e0152"
            ],
            [
             0.1,
             "#c51b7d"
            ],
            [
             0.2,
             "#de77ae"
            ],
            [
             0.3,
             "#f1b6da"
            ],
            [
             0.4,
             "#fde0ef"
            ],
            [
             0.5,
             "#f7f7f7"
            ],
            [
             0.6,
             "#e6f5d0"
            ],
            [
             0.7,
             "#b8e186"
            ],
            [
             0.8,
             "#7fbc41"
            ],
            [
             0.9,
             "#4d9221"
            ],
            [
             1,
             "#276419"
            ]
           ],
           "sequential": [
            [
             0,
             "#0d0887"
            ],
            [
             0.1111111111111111,
             "#46039f"
            ],
            [
             0.2222222222222222,
             "#7201a8"
            ],
            [
             0.3333333333333333,
             "#9c179e"
            ],
            [
             0.4444444444444444,
             "#bd3786"
            ],
            [
             0.5555555555555556,
             "#d8576b"
            ],
            [
             0.6666666666666666,
             "#ed7953"
            ],
            [
             0.7777777777777778,
             "#fb9f3a"
            ],
            [
             0.8888888888888888,
             "#fdca26"
            ],
            [
             1,
             "#f0f921"
            ]
           ],
           "sequentialminus": [
            [
             0,
             "#0d0887"
            ],
            [
             0.1111111111111111,
             "#46039f"
            ],
            [
             0.2222222222222222,
             "#7201a8"
            ],
            [
             0.3333333333333333,
             "#9c179e"
            ],
            [
             0.4444444444444444,
             "#bd3786"
            ],
            [
             0.5555555555555556,
             "#d8576b"
            ],
            [
             0.6666666666666666,
             "#ed7953"
            ],
            [
             0.7777777777777778,
             "#fb9f3a"
            ],
            [
             0.8888888888888888,
             "#fdca26"
            ],
            [
             1,
             "#f0f921"
            ]
           ]
          },
          "colorway": [
           "#636efa",
           "#EF553B",
           "#00cc96",
           "#ab63fa",
           "#FFA15A",
           "#19d3f3",
           "#FF6692",
           "#B6E880",
           "#FF97FF",
           "#FECB52"
          ],
          "font": {
           "color": "#2a3f5f"
          },
          "geo": {
           "bgcolor": "white",
           "lakecolor": "white",
           "landcolor": "#E5ECF6",
           "showlakes": true,
           "showland": true,
           "subunitcolor": "white"
          },
          "hoverlabel": {
           "align": "left"
          },
          "hovermode": "closest",
          "mapbox": {
           "style": "light"
          },
          "paper_bgcolor": "white",
          "plot_bgcolor": "#E5ECF6",
          "polar": {
           "angularaxis": {
            "gridcolor": "white",
            "linecolor": "white",
            "ticks": ""
           },
           "bgcolor": "#E5ECF6",
           "radialaxis": {
            "gridcolor": "white",
            "linecolor": "white",
            "ticks": ""
           }
          },
          "scene": {
           "xaxis": {
            "backgroundcolor": "#E5ECF6",
            "gridcolor": "white",
            "gridwidth": 2,
            "linecolor": "white",
            "showbackground": true,
            "ticks": "",
            "zerolinecolor": "white"
           },
           "yaxis": {
            "backgroundcolor": "#E5ECF6",
            "gridcolor": "white",
            "gridwidth": 2,
            "linecolor": "white",
            "showbackground": true,
            "ticks": "",
            "zerolinecolor": "white"
           },
           "zaxis": {
            "backgroundcolor": "#E5ECF6",
            "gridcolor": "white",
            "gridwidth": 2,
            "linecolor": "white",
            "showbackground": true,
            "ticks": "",
            "zerolinecolor": "white"
           }
          },
          "shapedefaults": {
           "line": {
            "color": "#2a3f5f"
           }
          },
          "ternary": {
           "aaxis": {
            "gridcolor": "white",
            "linecolor": "white",
            "ticks": ""
           },
           "baxis": {
            "gridcolor": "white",
            "linecolor": "white",
            "ticks": ""
           },
           "bgcolor": "#E5ECF6",
           "caxis": {
            "gridcolor": "white",
            "linecolor": "white",
            "ticks": ""
           }
          },
          "title": {
           "x": 0.05
          },
          "xaxis": {
           "automargin": true,
           "gridcolor": "white",
           "linecolor": "white",
           "ticks": "",
           "title": {
            "standoff": 15
           },
           "zerolinecolor": "white",
           "zerolinewidth": 2
          },
          "yaxis": {
           "automargin": true,
           "gridcolor": "white",
           "linecolor": "white",
           "ticks": "",
           "title": {
            "standoff": 15
           },
           "zerolinecolor": "white",
           "zerolinewidth": 2
          }
         }
        },
        "title": {
         "font": {
          "size": 15
         },
         "text": "OB Asks vs Bids. Mid-Price: 0.4066, binance: XRP/USDT"
        },
        "xaxis": {
         "range": [
          0,
          10
         ]
        }
       }
      }
     },
     "metadata": {},
     "output_type": "display_data"
    }
   ],
   "source": [
    "vs.OBLvls_hist(params[0],params[1], params[2])"
   ]
  },
  {
   "cell_type": "markdown",
   "metadata": {},
   "source": [
    "We could retrieve criptocurrencies with any of the 3 exchanges declared in our list *exchanges* but to avoid being repetitive we will make one more random example and we will conclude with a dataframe. For section section **2.** *Microstructure Visualization* a dataframe with different cols and plots that allow us to compare differences between exchanges will be created."
   ]
  },
  {
   "cell_type": "code",
   "execution_count": 23,
   "metadata": {},
   "outputs": [
    {
     "data": {
      "text/plain": [
       "(25, 'ETH/USDT', 'binance')"
      ]
     },
     "execution_count": 23,
     "metadata": {},
     "output_type": "execute_result"
    }
   ],
   "source": [
    "params= 25, criptos[rand.randint(0,2)], exchanges[rand.randint(0,2)]\n",
    "params"
   ]
  },
  {
   "cell_type": "code",
   "execution_count": 24,
   "metadata": {},
   "outputs": [],
   "source": [
    "ob_lvls=vs.cctx_download(params[0],params[1], params[2])"
   ]
  },
  {
   "cell_type": "code",
   "execution_count": 25,
   "metadata": {},
   "outputs": [
    {
     "data": {
      "application/vnd.plotly.v1+json": {
       "config": {
        "plotlyServerURL": "https://plot.ly"
       },
       "data": [
        {
         "orientation": "h",
         "type": "bar",
         "x": [
          0.0148,
          2.7762,
          2.7836,
          0.0408,
          0.4,
          0.1481,
          0.0408,
          0.4,
          7.4621,
          0.3893,
          0.1675,
          0.0318,
          0.7909,
          0.0105,
          0.0096,
          0.2,
          0.1346,
          2.4,
          0.0117,
          0.037,
          0.0357,
          0.0531,
          0.0235,
          0.0542,
          1
         ],
         "y": [
          "1347.73",
          "1348.35",
          "1348.44",
          "1348.48",
          "1348.72",
          "1348.74",
          "1348.83",
          "1348.87",
          "1348.99",
          "1349.0",
          "1349.03",
          "1349.04",
          "1349.05",
          "1349.08",
          "1349.11",
          "1349.12",
          "1349.14",
          "1349.15",
          "1349.27",
          "1349.36",
          "1349.37",
          "1349.43",
          "1349.46",
          "1349.57",
          "1349.58"
         ]
        },
        {
         "orientation": "h",
         "type": "bar",
         "x": [
          2,
          0.5,
          3.689,
          0.8013,
          0.0408,
          1.003,
          0.1394,
          4.8038,
          1,
          1,
          0.0357,
          0.756,
          0.3709,
          1,
          5.0149,
          0.5,
          1.003,
          1,
          1.2031,
          0.5371,
          0.2233,
          2,
          1.003,
          5.0149,
          2
         ],
         "y": [
          "1347.72",
          "1347.23",
          "1347.2",
          "1347.15",
          "1347.09",
          "1346.83",
          "1346.75",
          "1346.72",
          "1346.71",
          "1346.69",
          "1346.68",
          "1346.58",
          "1346.56",
          "1346.55",
          "1346.49",
          "1346.46",
          "1346.42",
          "1346.22",
          "1346.17",
          "1346.15",
          "1346.13",
          "1346.12",
          "1346.02",
          "1345.97",
          "1345.95"
         ]
        }
       ],
       "layout": {
        "template": {
         "data": {
          "bar": [
           {
            "error_x": {
             "color": "#2a3f5f"
            },
            "error_y": {
             "color": "#2a3f5f"
            },
            "marker": {
             "line": {
              "color": "#E5ECF6",
              "width": 0.5
             },
             "pattern": {
              "fillmode": "overlay",
              "size": 10,
              "solidity": 0.2
             }
            },
            "type": "bar"
           }
          ],
          "barpolar": [
           {
            "marker": {
             "line": {
              "color": "#E5ECF6",
              "width": 0.5
             },
             "pattern": {
              "fillmode": "overlay",
              "size": 10,
              "solidity": 0.2
             }
            },
            "type": "barpolar"
           }
          ],
          "carpet": [
           {
            "aaxis": {
             "endlinecolor": "#2a3f5f",
             "gridcolor": "white",
             "linecolor": "white",
             "minorgridcolor": "white",
             "startlinecolor": "#2a3f5f"
            },
            "baxis": {
             "endlinecolor": "#2a3f5f",
             "gridcolor": "white",
             "linecolor": "white",
             "minorgridcolor": "white",
             "startlinecolor": "#2a3f5f"
            },
            "type": "carpet"
           }
          ],
          "choropleth": [
           {
            "colorbar": {
             "outlinewidth": 0,
             "ticks": ""
            },
            "type": "choropleth"
           }
          ],
          "contour": [
           {
            "colorbar": {
             "outlinewidth": 0,
             "ticks": ""
            },
            "colorscale": [
             [
              0,
              "#0d0887"
             ],
             [
              0.1111111111111111,
              "#46039f"
             ],
             [
              0.2222222222222222,
              "#7201a8"
             ],
             [
              0.3333333333333333,
              "#9c179e"
             ],
             [
              0.4444444444444444,
              "#bd3786"
             ],
             [
              0.5555555555555556,
              "#d8576b"
             ],
             [
              0.6666666666666666,
              "#ed7953"
             ],
             [
              0.7777777777777778,
              "#fb9f3a"
             ],
             [
              0.8888888888888888,
              "#fdca26"
             ],
             [
              1,
              "#f0f921"
             ]
            ],
            "type": "contour"
           }
          ],
          "contourcarpet": [
           {
            "colorbar": {
             "outlinewidth": 0,
             "ticks": ""
            },
            "type": "contourcarpet"
           }
          ],
          "heatmap": [
           {
            "colorbar": {
             "outlinewidth": 0,
             "ticks": ""
            },
            "colorscale": [
             [
              0,
              "#0d0887"
             ],
             [
              0.1111111111111111,
              "#46039f"
             ],
             [
              0.2222222222222222,
              "#7201a8"
             ],
             [
              0.3333333333333333,
              "#9c179e"
             ],
             [
              0.4444444444444444,
              "#bd3786"
             ],
             [
              0.5555555555555556,
              "#d8576b"
             ],
             [
              0.6666666666666666,
              "#ed7953"
             ],
             [
              0.7777777777777778,
              "#fb9f3a"
             ],
             [
              0.8888888888888888,
              "#fdca26"
             ],
             [
              1,
              "#f0f921"
             ]
            ],
            "type": "heatmap"
           }
          ],
          "heatmapgl": [
           {
            "colorbar": {
             "outlinewidth": 0,
             "ticks": ""
            },
            "colorscale": [
             [
              0,
              "#0d0887"
             ],
             [
              0.1111111111111111,
              "#46039f"
             ],
             [
              0.2222222222222222,
              "#7201a8"
             ],
             [
              0.3333333333333333,
              "#9c179e"
             ],
             [
              0.4444444444444444,
              "#bd3786"
             ],
             [
              0.5555555555555556,
              "#d8576b"
             ],
             [
              0.6666666666666666,
              "#ed7953"
             ],
             [
              0.7777777777777778,
              "#fb9f3a"
             ],
             [
              0.8888888888888888,
              "#fdca26"
             ],
             [
              1,
              "#f0f921"
             ]
            ],
            "type": "heatmapgl"
           }
          ],
          "histogram": [
           {
            "marker": {
             "pattern": {
              "fillmode": "overlay",
              "size": 10,
              "solidity": 0.2
             }
            },
            "type": "histogram"
           }
          ],
          "histogram2d": [
           {
            "colorbar": {
             "outlinewidth": 0,
             "ticks": ""
            },
            "colorscale": [
             [
              0,
              "#0d0887"
             ],
             [
              0.1111111111111111,
              "#46039f"
             ],
             [
              0.2222222222222222,
              "#7201a8"
             ],
             [
              0.3333333333333333,
              "#9c179e"
             ],
             [
              0.4444444444444444,
              "#bd3786"
             ],
             [
              0.5555555555555556,
              "#d8576b"
             ],
             [
              0.6666666666666666,
              "#ed7953"
             ],
             [
              0.7777777777777778,
              "#fb9f3a"
             ],
             [
              0.8888888888888888,
              "#fdca26"
             ],
             [
              1,
              "#f0f921"
             ]
            ],
            "type": "histogram2d"
           }
          ],
          "histogram2dcontour": [
           {
            "colorbar": {
             "outlinewidth": 0,
             "ticks": ""
            },
            "colorscale": [
             [
              0,
              "#0d0887"
             ],
             [
              0.1111111111111111,
              "#46039f"
             ],
             [
              0.2222222222222222,
              "#7201a8"
             ],
             [
              0.3333333333333333,
              "#9c179e"
             ],
             [
              0.4444444444444444,
              "#bd3786"
             ],
             [
              0.5555555555555556,
              "#d8576b"
             ],
             [
              0.6666666666666666,
              "#ed7953"
             ],
             [
              0.7777777777777778,
              "#fb9f3a"
             ],
             [
              0.8888888888888888,
              "#fdca26"
             ],
             [
              1,
              "#f0f921"
             ]
            ],
            "type": "histogram2dcontour"
           }
          ],
          "mesh3d": [
           {
            "colorbar": {
             "outlinewidth": 0,
             "ticks": ""
            },
            "type": "mesh3d"
           }
          ],
          "parcoords": [
           {
            "line": {
             "colorbar": {
              "outlinewidth": 0,
              "ticks": ""
             }
            },
            "type": "parcoords"
           }
          ],
          "pie": [
           {
            "automargin": true,
            "type": "pie"
           }
          ],
          "scatter": [
           {
            "marker": {
             "colorbar": {
              "outlinewidth": 0,
              "ticks": ""
             }
            },
            "type": "scatter"
           }
          ],
          "scatter3d": [
           {
            "line": {
             "colorbar": {
              "outlinewidth": 0,
              "ticks": ""
             }
            },
            "marker": {
             "colorbar": {
              "outlinewidth": 0,
              "ticks": ""
             }
            },
            "type": "scatter3d"
           }
          ],
          "scattercarpet": [
           {
            "marker": {
             "colorbar": {
              "outlinewidth": 0,
              "ticks": ""
             }
            },
            "type": "scattercarpet"
           }
          ],
          "scattergeo": [
           {
            "marker": {
             "colorbar": {
              "outlinewidth": 0,
              "ticks": ""
             }
            },
            "type": "scattergeo"
           }
          ],
          "scattergl": [
           {
            "marker": {
             "colorbar": {
              "outlinewidth": 0,
              "ticks": ""
             }
            },
            "type": "scattergl"
           }
          ],
          "scattermapbox": [
           {
            "marker": {
             "colorbar": {
              "outlinewidth": 0,
              "ticks": ""
             }
            },
            "type": "scattermapbox"
           }
          ],
          "scatterpolar": [
           {
            "marker": {
             "colorbar": {
              "outlinewidth": 0,
              "ticks": ""
             }
            },
            "type": "scatterpolar"
           }
          ],
          "scatterpolargl": [
           {
            "marker": {
             "colorbar": {
              "outlinewidth": 0,
              "ticks": ""
             }
            },
            "type": "scatterpolargl"
           }
          ],
          "scatterternary": [
           {
            "marker": {
             "colorbar": {
              "outlinewidth": 0,
              "ticks": ""
             }
            },
            "type": "scatterternary"
           }
          ],
          "surface": [
           {
            "colorbar": {
             "outlinewidth": 0,
             "ticks": ""
            },
            "colorscale": [
             [
              0,
              "#0d0887"
             ],
             [
              0.1111111111111111,
              "#46039f"
             ],
             [
              0.2222222222222222,
              "#7201a8"
             ],
             [
              0.3333333333333333,
              "#9c179e"
             ],
             [
              0.4444444444444444,
              "#bd3786"
             ],
             [
              0.5555555555555556,
              "#d8576b"
             ],
             [
              0.6666666666666666,
              "#ed7953"
             ],
             [
              0.7777777777777778,
              "#fb9f3a"
             ],
             [
              0.8888888888888888,
              "#fdca26"
             ],
             [
              1,
              "#f0f921"
             ]
            ],
            "type": "surface"
           }
          ],
          "table": [
           {
            "cells": {
             "fill": {
              "color": "#EBF0F8"
             },
             "line": {
              "color": "white"
             }
            },
            "header": {
             "fill": {
              "color": "#C8D4E3"
             },
             "line": {
              "color": "white"
             }
            },
            "type": "table"
           }
          ]
         },
         "layout": {
          "annotationdefaults": {
           "arrowcolor": "#2a3f5f",
           "arrowhead": 0,
           "arrowwidth": 1
          },
          "autotypenumbers": "strict",
          "coloraxis": {
           "colorbar": {
            "outlinewidth": 0,
            "ticks": ""
           }
          },
          "colorscale": {
           "diverging": [
            [
             0,
             "#8e0152"
            ],
            [
             0.1,
             "#c51b7d"
            ],
            [
             0.2,
             "#de77ae"
            ],
            [
             0.3,
             "#f1b6da"
            ],
            [
             0.4,
             "#fde0ef"
            ],
            [
             0.5,
             "#f7f7f7"
            ],
            [
             0.6,
             "#e6f5d0"
            ],
            [
             0.7,
             "#b8e186"
            ],
            [
             0.8,
             "#7fbc41"
            ],
            [
             0.9,
             "#4d9221"
            ],
            [
             1,
             "#276419"
            ]
           ],
           "sequential": [
            [
             0,
             "#0d0887"
            ],
            [
             0.1111111111111111,
             "#46039f"
            ],
            [
             0.2222222222222222,
             "#7201a8"
            ],
            [
             0.3333333333333333,
             "#9c179e"
            ],
            [
             0.4444444444444444,
             "#bd3786"
            ],
            [
             0.5555555555555556,
             "#d8576b"
            ],
            [
             0.6666666666666666,
             "#ed7953"
            ],
            [
             0.7777777777777778,
             "#fb9f3a"
            ],
            [
             0.8888888888888888,
             "#fdca26"
            ],
            [
             1,
             "#f0f921"
            ]
           ],
           "sequentialminus": [
            [
             0,
             "#0d0887"
            ],
            [
             0.1111111111111111,
             "#46039f"
            ],
            [
             0.2222222222222222,
             "#7201a8"
            ],
            [
             0.3333333333333333,
             "#9c179e"
            ],
            [
             0.4444444444444444,
             "#bd3786"
            ],
            [
             0.5555555555555556,
             "#d8576b"
            ],
            [
             0.6666666666666666,
             "#ed7953"
            ],
            [
             0.7777777777777778,
             "#fb9f3a"
            ],
            [
             0.8888888888888888,
             "#fdca26"
            ],
            [
             1,
             "#f0f921"
            ]
           ]
          },
          "colorway": [
           "#636efa",
           "#EF553B",
           "#00cc96",
           "#ab63fa",
           "#FFA15A",
           "#19d3f3",
           "#FF6692",
           "#B6E880",
           "#FF97FF",
           "#FECB52"
          ],
          "font": {
           "color": "#2a3f5f"
          },
          "geo": {
           "bgcolor": "white",
           "lakecolor": "white",
           "landcolor": "#E5ECF6",
           "showlakes": true,
           "showland": true,
           "subunitcolor": "white"
          },
          "hoverlabel": {
           "align": "left"
          },
          "hovermode": "closest",
          "mapbox": {
           "style": "light"
          },
          "paper_bgcolor": "white",
          "plot_bgcolor": "#E5ECF6",
          "polar": {
           "angularaxis": {
            "gridcolor": "white",
            "linecolor": "white",
            "ticks": ""
           },
           "bgcolor": "#E5ECF6",
           "radialaxis": {
            "gridcolor": "white",
            "linecolor": "white",
            "ticks": ""
           }
          },
          "scene": {
           "xaxis": {
            "backgroundcolor": "#E5ECF6",
            "gridcolor": "white",
            "gridwidth": 2,
            "linecolor": "white",
            "showbackground": true,
            "ticks": "",
            "zerolinecolor": "white"
           },
           "yaxis": {
            "backgroundcolor": "#E5ECF6",
            "gridcolor": "white",
            "gridwidth": 2,
            "linecolor": "white",
            "showbackground": true,
            "ticks": "",
            "zerolinecolor": "white"
           },
           "zaxis": {
            "backgroundcolor": "#E5ECF6",
            "gridcolor": "white",
            "gridwidth": 2,
            "linecolor": "white",
            "showbackground": true,
            "ticks": "",
            "zerolinecolor": "white"
           }
          },
          "shapedefaults": {
           "line": {
            "color": "#2a3f5f"
           }
          },
          "ternary": {
           "aaxis": {
            "gridcolor": "white",
            "linecolor": "white",
            "ticks": ""
           },
           "baxis": {
            "gridcolor": "white",
            "linecolor": "white",
            "ticks": ""
           },
           "bgcolor": "#E5ECF6",
           "caxis": {
            "gridcolor": "white",
            "linecolor": "white",
            "ticks": ""
           }
          },
          "title": {
           "x": 0.05
          },
          "xaxis": {
           "automargin": true,
           "gridcolor": "white",
           "linecolor": "white",
           "ticks": "",
           "title": {
            "standoff": 15
           },
           "zerolinecolor": "white",
           "zerolinewidth": 2
          },
          "yaxis": {
           "automargin": true,
           "gridcolor": "white",
           "linecolor": "white",
           "ticks": "",
           "title": {
            "standoff": 15
           },
           "zerolinecolor": "white",
           "zerolinewidth": 2
          }
         }
        },
        "title": {
         "font": {
          "size": 15
         },
         "text": "OB Asks vs Bids. Mid-Price: 1347.725, binance: ETH/USDT"
        },
        "xaxis": {
         "range": [
          0,
          10
         ]
        }
       }
      }
     },
     "metadata": {},
     "output_type": "display_data"
    }
   ],
   "source": [
    "vs.OBLvls_hist(params[0],params[1], params[2])"
   ]
  },
  {
   "cell_type": "code",
   "execution_count": 26,
   "metadata": {},
   "outputs": [
    {
     "data": {
      "text/plain": [
       "((25, 'BTC/USDT', 'binance'),\n",
       " (25, 'BTC/USDT', 'ftx'),\n",
       " (25, 'BTC/USDT', 'bytetrade'))"
      ]
     },
     "execution_count": 26,
     "metadata": {},
     "output_type": "execute_result"
    }
   ],
   "source": [
    "v_params0= 25, criptos[0], exchanges[0]\n",
    "v_params1= 25, criptos[0], exchanges[1]\n",
    "v_params2= 25, criptos[0], exchanges[2]\n",
    "v_params0, v_params1, v_params2"
   ]
  },
  {
   "cell_type": "code",
   "execution_count": 27,
   "metadata": {},
   "outputs": [],
   "source": [
    "n=10\n",
    "verif_0 = vs.verif_ex1(v_params0[0],v_params0[1], v_params0[2], n)\n",
    "verif_1 = vs.verif_ex1(v_params1[0],v_params1[1], v_params1[2], n)\n",
    "verif_2 = vs.verif_ex1(v_params2[0],v_params2[1], v_params2[2], n)"
   ]
  },
  {
   "cell_type": "code",
   "execution_count": 33,
   "metadata": {},
   "outputs": [
    {
     "name": "stdout",
     "output_type": "stream",
     "text": [
      "Help on function verif_ex1 in module visualizations:\n",
      "\n",
      "verif_ex1(lvls, cripto, exchange, n)\n",
      "    Function that returns Verif 1 for i levels (as integer) n times \n",
      "    from specified criptocurrency ('BTC/USDT','ETH/USDT','XRP/USDT', or others) and the \n",
      "    following exchanges: binance, ftx or bytetrade (as string).\n",
      "    \n",
      "    Parameters:\n",
      "    ----------\n",
      "    lvls: Levels of bids/asks in the Order Book (int).\n",
      "    cripto: Criptocurrency downloadable ticker (str).\n",
      "    exchanges: Criptocurrency downloadable Exchange (str).\n",
      "    n: Data retrieval per exchange (int).\n",
      "    \n",
      "    Returns:\n",
      "    -------\n",
      "    df1 = Section 1 Verification.\n",
      "\n"
     ]
    }
   ],
   "source": [
    "help(vs.verif_ex1)"
   ]
  },
  {
   "cell_type": "markdown",
   "metadata": {},
   "source": [
    "<strong> \n",
    "<font color= lightgreen> <font size = 3> Progress check </font>"
   ]
  },
  {
   "cell_type": "markdown",
   "metadata": {},
   "source": [
    "Some differences between criptocurrencies within different exchanges can be appreciated. Now we can realize which exchange can provide us with the lowest spread and best liquidity. Clearly, prices are the most important factor for investments. "
   ]
  },
  {
   "cell_type": "markdown",
   "metadata": {},
   "source": [
    "<font color= lightblue> <font size = 2> Verification </font>"
   ]
  },
  {
   "cell_type": "code",
   "execution_count": 32,
   "metadata": {},
   "outputs": [
    {
     "data": {
      "text/html": [
       "<div>\n",
       "<style scoped>\n",
       "    .dataframe tbody tr th:only-of-type {\n",
       "        vertical-align: middle;\n",
       "    }\n",
       "\n",
       "    .dataframe tbody tr th {\n",
       "        vertical-align: top;\n",
       "    }\n",
       "\n",
       "    .dataframe thead th {\n",
       "        text-align: right;\n",
       "    }\n",
       "</style>\n",
       "<table border=\"1\" class=\"dataframe\">\n",
       "  <thead>\n",
       "    <tr style=\"text-align: right;\">\n",
       "      <th></th>\n",
       "      <th>exchange</th>\n",
       "      <th>timestamp</th>\n",
       "      <th>ask</th>\n",
       "      <th>bid</th>\n",
       "      <th>ask_volume</th>\n",
       "      <th>bid_volume</th>\n",
       "      <th>spread</th>\n",
       "      <th>close_price</th>\n",
       "    </tr>\n",
       "  </thead>\n",
       "  <tbody>\n",
       "    <tr>\n",
       "      <th>0</th>\n",
       "      <td>binance</td>\n",
       "      <td>2022-11-08T19:00:17.509</td>\n",
       "      <td>18644.73</td>\n",
       "      <td>18642.95</td>\n",
       "      <td>2.43243</td>\n",
       "      <td>3.930370</td>\n",
       "      <td>1.78</td>\n",
       "      <td>18642.09</td>\n",
       "    </tr>\n",
       "    <tr>\n",
       "      <th>1</th>\n",
       "      <td>binance</td>\n",
       "      <td>2022-11-08T19:00:19.968</td>\n",
       "      <td>18641.59</td>\n",
       "      <td>18640.43</td>\n",
       "      <td>5.49092</td>\n",
       "      <td>47.371870</td>\n",
       "      <td>1.16</td>\n",
       "      <td>18642.93</td>\n",
       "    </tr>\n",
       "    <tr>\n",
       "      <th>2</th>\n",
       "      <td>binance</td>\n",
       "      <td>2022-11-08T19:00:22.504</td>\n",
       "      <td>18658.42</td>\n",
       "      <td>18657.16</td>\n",
       "      <td>2.75723</td>\n",
       "      <td>4.512060</td>\n",
       "      <td>1.26</td>\n",
       "      <td>18659.01</td>\n",
       "    </tr>\n",
       "    <tr>\n",
       "      <th>3</th>\n",
       "      <td>binance</td>\n",
       "      <td>2022-11-08T19:00:24.974</td>\n",
       "      <td>18681.75</td>\n",
       "      <td>18679.93</td>\n",
       "      <td>0.55864</td>\n",
       "      <td>2.927850</td>\n",
       "      <td>1.82</td>\n",
       "      <td>18680.43</td>\n",
       "    </tr>\n",
       "    <tr>\n",
       "      <th>4</th>\n",
       "      <td>binance</td>\n",
       "      <td>2022-11-08T19:00:27.517</td>\n",
       "      <td>18686.07</td>\n",
       "      <td>18684.36</td>\n",
       "      <td>1.75597</td>\n",
       "      <td>3.012220</td>\n",
       "      <td>1.71</td>\n",
       "      <td>18682.59</td>\n",
       "    </tr>\n",
       "    <tr>\n",
       "      <th>5</th>\n",
       "      <td>binance</td>\n",
       "      <td>2022-11-08T19:00:29.938</td>\n",
       "      <td>18687.16</td>\n",
       "      <td>18687.03</td>\n",
       "      <td>2.23197</td>\n",
       "      <td>1.316340</td>\n",
       "      <td>0.13</td>\n",
       "      <td>18686.88</td>\n",
       "    </tr>\n",
       "    <tr>\n",
       "      <th>6</th>\n",
       "      <td>binance</td>\n",
       "      <td>2022-11-08T19:00:33.268</td>\n",
       "      <td>18681.70</td>\n",
       "      <td>18677.35</td>\n",
       "      <td>2.61967</td>\n",
       "      <td>1.977200</td>\n",
       "      <td>4.35</td>\n",
       "      <td>18679.38</td>\n",
       "    </tr>\n",
       "    <tr>\n",
       "      <th>7</th>\n",
       "      <td>binance</td>\n",
       "      <td>2022-11-08T19:00:35.777</td>\n",
       "      <td>18699.87</td>\n",
       "      <td>18694.68</td>\n",
       "      <td>26.47913</td>\n",
       "      <td>2.668320</td>\n",
       "      <td>5.19</td>\n",
       "      <td>18699.87</td>\n",
       "    </tr>\n",
       "    <tr>\n",
       "      <th>8</th>\n",
       "      <td>binance</td>\n",
       "      <td>2022-11-08T19:00:38.162</td>\n",
       "      <td>18695.94</td>\n",
       "      <td>18692.59</td>\n",
       "      <td>26.71302</td>\n",
       "      <td>1.389890</td>\n",
       "      <td>3.35</td>\n",
       "      <td>18694.20</td>\n",
       "    </tr>\n",
       "    <tr>\n",
       "      <th>9</th>\n",
       "      <td>binance</td>\n",
       "      <td>2022-11-08T19:00:40.562</td>\n",
       "      <td>18714.97</td>\n",
       "      <td>18712.45</td>\n",
       "      <td>1.07039</td>\n",
       "      <td>4.002780</td>\n",
       "      <td>2.52</td>\n",
       "      <td>18714.98</td>\n",
       "    </tr>\n",
       "    <tr>\n",
       "      <th>10</th>\n",
       "      <td>ftx</td>\n",
       "      <td>2022-11-08T19:00:44.192</td>\n",
       "      <td>18680.00</td>\n",
       "      <td>18675.00</td>\n",
       "      <td>5.82790</td>\n",
       "      <td>4.781000</td>\n",
       "      <td>5.00</td>\n",
       "      <td>18681.00</td>\n",
       "    </tr>\n",
       "    <tr>\n",
       "      <th>11</th>\n",
       "      <td>ftx</td>\n",
       "      <td>2022-11-08T19:00:46.743</td>\n",
       "      <td>18682.00</td>\n",
       "      <td>18679.00</td>\n",
       "      <td>5.40490</td>\n",
       "      <td>6.979300</td>\n",
       "      <td>3.00</td>\n",
       "      <td>18683.00</td>\n",
       "    </tr>\n",
       "    <tr>\n",
       "      <th>12</th>\n",
       "      <td>ftx</td>\n",
       "      <td>2022-11-08T19:00:49.762</td>\n",
       "      <td>18676.00</td>\n",
       "      <td>18672.00</td>\n",
       "      <td>7.92090</td>\n",
       "      <td>6.165900</td>\n",
       "      <td>4.00</td>\n",
       "      <td>18672.00</td>\n",
       "    </tr>\n",
       "    <tr>\n",
       "      <th>13</th>\n",
       "      <td>ftx</td>\n",
       "      <td>2022-11-08T19:00:53.399</td>\n",
       "      <td>18681.00</td>\n",
       "      <td>18676.00</td>\n",
       "      <td>5.03400</td>\n",
       "      <td>6.769400</td>\n",
       "      <td>5.00</td>\n",
       "      <td>18679.00</td>\n",
       "    </tr>\n",
       "    <tr>\n",
       "      <th>14</th>\n",
       "      <td>ftx</td>\n",
       "      <td>2022-11-08T19:00:56.155</td>\n",
       "      <td>18687.00</td>\n",
       "      <td>18685.00</td>\n",
       "      <td>4.98090</td>\n",
       "      <td>7.840200</td>\n",
       "      <td>2.00</td>\n",
       "      <td>18682.00</td>\n",
       "    </tr>\n",
       "    <tr>\n",
       "      <th>15</th>\n",
       "      <td>ftx</td>\n",
       "      <td>2022-11-08T19:00:59.710</td>\n",
       "      <td>18685.00</td>\n",
       "      <td>18683.00</td>\n",
       "      <td>8.93890</td>\n",
       "      <td>6.755200</td>\n",
       "      <td>2.00</td>\n",
       "      <td>18684.00</td>\n",
       "    </tr>\n",
       "    <tr>\n",
       "      <th>16</th>\n",
       "      <td>ftx</td>\n",
       "      <td>2022-11-08T19:01:02.169</td>\n",
       "      <td>18688.00</td>\n",
       "      <td>18684.00</td>\n",
       "      <td>6.43220</td>\n",
       "      <td>5.286800</td>\n",
       "      <td>4.00</td>\n",
       "      <td>18688.00</td>\n",
       "    </tr>\n",
       "    <tr>\n",
       "      <th>17</th>\n",
       "      <td>ftx</td>\n",
       "      <td>2022-11-08T19:01:06.083</td>\n",
       "      <td>18686.00</td>\n",
       "      <td>18681.00</td>\n",
       "      <td>3.24310</td>\n",
       "      <td>5.632900</td>\n",
       "      <td>5.00</td>\n",
       "      <td>18682.00</td>\n",
       "    </tr>\n",
       "    <tr>\n",
       "      <th>18</th>\n",
       "      <td>ftx</td>\n",
       "      <td>2022-11-08T19:01:09.229</td>\n",
       "      <td>18692.00</td>\n",
       "      <td>18688.00</td>\n",
       "      <td>4.39760</td>\n",
       "      <td>6.905800</td>\n",
       "      <td>4.00</td>\n",
       "      <td>18691.00</td>\n",
       "    </tr>\n",
       "    <tr>\n",
       "      <th>19</th>\n",
       "      <td>ftx</td>\n",
       "      <td>2022-11-08T19:01:11.815</td>\n",
       "      <td>18692.00</td>\n",
       "      <td>18686.00</td>\n",
       "      <td>4.47210</td>\n",
       "      <td>5.236000</td>\n",
       "      <td>6.00</td>\n",
       "      <td>18691.00</td>\n",
       "    </tr>\n",
       "    <tr>\n",
       "      <th>20</th>\n",
       "      <td>bytetrade</td>\n",
       "      <td>2022-11-08T19:01:14.746</td>\n",
       "      <td>18833.50</td>\n",
       "      <td>18542.20</td>\n",
       "      <td>3.15795</td>\n",
       "      <td>0.941373</td>\n",
       "      <td>291.30</td>\n",
       "      <td>18688.40</td>\n",
       "    </tr>\n",
       "    <tr>\n",
       "      <th>21</th>\n",
       "      <td>bytetrade</td>\n",
       "      <td>2022-11-08T19:01:17.251</td>\n",
       "      <td>18833.50</td>\n",
       "      <td>18542.20</td>\n",
       "      <td>3.15795</td>\n",
       "      <td>0.941373</td>\n",
       "      <td>291.30</td>\n",
       "      <td>18700.60</td>\n",
       "    </tr>\n",
       "    <tr>\n",
       "      <th>22</th>\n",
       "      <td>bytetrade</td>\n",
       "      <td>2022-11-08T19:01:20.892</td>\n",
       "      <td>18833.50</td>\n",
       "      <td>18542.20</td>\n",
       "      <td>3.15795</td>\n",
       "      <td>0.941373</td>\n",
       "      <td>291.30</td>\n",
       "      <td>18681.50</td>\n",
       "    </tr>\n",
       "    <tr>\n",
       "      <th>23</th>\n",
       "      <td>bytetrade</td>\n",
       "      <td>2022-11-08T19:01:23.788</td>\n",
       "      <td>18833.50</td>\n",
       "      <td>18542.20</td>\n",
       "      <td>3.15795</td>\n",
       "      <td>0.941373</td>\n",
       "      <td>291.30</td>\n",
       "      <td>18683.50</td>\n",
       "    </tr>\n",
       "    <tr>\n",
       "      <th>24</th>\n",
       "      <td>bytetrade</td>\n",
       "      <td>2022-11-08T19:01:26.739</td>\n",
       "      <td>18827.40</td>\n",
       "      <td>18542.20</td>\n",
       "      <td>3.16585</td>\n",
       "      <td>0.941373</td>\n",
       "      <td>285.20</td>\n",
       "      <td>18699.70</td>\n",
       "    </tr>\n",
       "    <tr>\n",
       "      <th>25</th>\n",
       "      <td>bytetrade</td>\n",
       "      <td>2022-11-08T19:01:30.579</td>\n",
       "      <td>18731.50</td>\n",
       "      <td>18462.50</td>\n",
       "      <td>2.81425</td>\n",
       "      <td>2.970503</td>\n",
       "      <td>269.00</td>\n",
       "      <td>18699.40</td>\n",
       "    </tr>\n",
       "    <tr>\n",
       "      <th>26</th>\n",
       "      <td>bytetrade</td>\n",
       "      <td>2022-11-08T19:01:33.513</td>\n",
       "      <td>18731.50</td>\n",
       "      <td>18462.50</td>\n",
       "      <td>2.81425</td>\n",
       "      <td>2.970503</td>\n",
       "      <td>269.00</td>\n",
       "      <td>18610.70</td>\n",
       "    </tr>\n",
       "    <tr>\n",
       "      <th>27</th>\n",
       "      <td>bytetrade</td>\n",
       "      <td>2022-11-08T19:01:36.264</td>\n",
       "      <td>18731.50</td>\n",
       "      <td>18462.50</td>\n",
       "      <td>2.81425</td>\n",
       "      <td>2.970503</td>\n",
       "      <td>269.00</td>\n",
       "      <td>18630.30</td>\n",
       "    </tr>\n",
       "    <tr>\n",
       "      <th>28</th>\n",
       "      <td>bytetrade</td>\n",
       "      <td>2022-11-08T19:01:38.990</td>\n",
       "      <td>18756.60</td>\n",
       "      <td>18532.40</td>\n",
       "      <td>2.91117</td>\n",
       "      <td>2.965583</td>\n",
       "      <td>224.20</td>\n",
       "      <td>18591.30</td>\n",
       "    </tr>\n",
       "    <tr>\n",
       "      <th>29</th>\n",
       "      <td>bytetrade</td>\n",
       "      <td>2022-11-08T19:01:41.646</td>\n",
       "      <td>18756.60</td>\n",
       "      <td>18532.40</td>\n",
       "      <td>2.91117</td>\n",
       "      <td>2.965583</td>\n",
       "      <td>224.20</td>\n",
       "      <td>18630.40</td>\n",
       "    </tr>\n",
       "  </tbody>\n",
       "</table>\n",
       "</div>"
      ],
      "text/plain": [
       "     exchange                timestamp       ask       bid  ask_volume  \\\n",
       "0     binance  2022-11-08T19:00:17.509  18644.73  18642.95     2.43243   \n",
       "1     binance  2022-11-08T19:00:19.968  18641.59  18640.43     5.49092   \n",
       "2     binance  2022-11-08T19:00:22.504  18658.42  18657.16     2.75723   \n",
       "3     binance  2022-11-08T19:00:24.974  18681.75  18679.93     0.55864   \n",
       "4     binance  2022-11-08T19:00:27.517  18686.07  18684.36     1.75597   \n",
       "5     binance  2022-11-08T19:00:29.938  18687.16  18687.03     2.23197   \n",
       "6     binance  2022-11-08T19:00:33.268  18681.70  18677.35     2.61967   \n",
       "7     binance  2022-11-08T19:00:35.777  18699.87  18694.68    26.47913   \n",
       "8     binance  2022-11-08T19:00:38.162  18695.94  18692.59    26.71302   \n",
       "9     binance  2022-11-08T19:00:40.562  18714.97  18712.45     1.07039   \n",
       "10        ftx  2022-11-08T19:00:44.192  18680.00  18675.00     5.82790   \n",
       "11        ftx  2022-11-08T19:00:46.743  18682.00  18679.00     5.40490   \n",
       "12        ftx  2022-11-08T19:00:49.762  18676.00  18672.00     7.92090   \n",
       "13        ftx  2022-11-08T19:00:53.399  18681.00  18676.00     5.03400   \n",
       "14        ftx  2022-11-08T19:00:56.155  18687.00  18685.00     4.98090   \n",
       "15        ftx  2022-11-08T19:00:59.710  18685.00  18683.00     8.93890   \n",
       "16        ftx  2022-11-08T19:01:02.169  18688.00  18684.00     6.43220   \n",
       "17        ftx  2022-11-08T19:01:06.083  18686.00  18681.00     3.24310   \n",
       "18        ftx  2022-11-08T19:01:09.229  18692.00  18688.00     4.39760   \n",
       "19        ftx  2022-11-08T19:01:11.815  18692.00  18686.00     4.47210   \n",
       "20  bytetrade  2022-11-08T19:01:14.746  18833.50  18542.20     3.15795   \n",
       "21  bytetrade  2022-11-08T19:01:17.251  18833.50  18542.20     3.15795   \n",
       "22  bytetrade  2022-11-08T19:01:20.892  18833.50  18542.20     3.15795   \n",
       "23  bytetrade  2022-11-08T19:01:23.788  18833.50  18542.20     3.15795   \n",
       "24  bytetrade  2022-11-08T19:01:26.739  18827.40  18542.20     3.16585   \n",
       "25  bytetrade  2022-11-08T19:01:30.579  18731.50  18462.50     2.81425   \n",
       "26  bytetrade  2022-11-08T19:01:33.513  18731.50  18462.50     2.81425   \n",
       "27  bytetrade  2022-11-08T19:01:36.264  18731.50  18462.50     2.81425   \n",
       "28  bytetrade  2022-11-08T19:01:38.990  18756.60  18532.40     2.91117   \n",
       "29  bytetrade  2022-11-08T19:01:41.646  18756.60  18532.40     2.91117   \n",
       "\n",
       "    bid_volume  spread  close_price  \n",
       "0     3.930370    1.78     18642.09  \n",
       "1    47.371870    1.16     18642.93  \n",
       "2     4.512060    1.26     18659.01  \n",
       "3     2.927850    1.82     18680.43  \n",
       "4     3.012220    1.71     18682.59  \n",
       "5     1.316340    0.13     18686.88  \n",
       "6     1.977200    4.35     18679.38  \n",
       "7     2.668320    5.19     18699.87  \n",
       "8     1.389890    3.35     18694.20  \n",
       "9     4.002780    2.52     18714.98  \n",
       "10    4.781000    5.00     18681.00  \n",
       "11    6.979300    3.00     18683.00  \n",
       "12    6.165900    4.00     18672.00  \n",
       "13    6.769400    5.00     18679.00  \n",
       "14    7.840200    2.00     18682.00  \n",
       "15    6.755200    2.00     18684.00  \n",
       "16    5.286800    4.00     18688.00  \n",
       "17    5.632900    5.00     18682.00  \n",
       "18    6.905800    4.00     18691.00  \n",
       "19    5.236000    6.00     18691.00  \n",
       "20    0.941373  291.30     18688.40  \n",
       "21    0.941373  291.30     18700.60  \n",
       "22    0.941373  291.30     18681.50  \n",
       "23    0.941373  291.30     18683.50  \n",
       "24    0.941373  285.20     18699.70  \n",
       "25    2.970503  269.00     18699.40  \n",
       "26    2.970503  269.00     18610.70  \n",
       "27    2.970503  269.00     18630.30  \n",
       "28    2.965583  224.20     18591.30  \n",
       "29    2.965583  224.20     18630.40  "
      ]
     },
     "execution_count": 32,
     "metadata": {},
     "output_type": "execute_result"
    }
   ],
   "source": [
    "verif_df = fn.concatenate(verif_0[0], verif_1[0], verif_2[0], n)\n",
    "verif_df"
   ]
  },
  {
   "cell_type": "markdown",
   "metadata": {},
   "source": [
    "<font color= lightblue> <font size = 2> OHLCV </font>"
   ]
  },
  {
   "cell_type": "markdown",
   "metadata": {},
   "source": [
    "For each timeframe a candle is formed and it illustrates how much Volatility every timestamp shows within exchanges and this is important to know in algorithmic trading. Not to mention the fact that stock exchanges do not provide candle data in ms for many reasons."
   ]
  },
  {
   "cell_type": "code",
   "execution_count": 31,
   "metadata": {},
   "outputs": [
    {
     "data": {
      "text/html": [
       "<div>\n",
       "<style scoped>\n",
       "    .dataframe tbody tr th:only-of-type {\n",
       "        vertical-align: middle;\n",
       "    }\n",
       "\n",
       "    .dataframe tbody tr th {\n",
       "        vertical-align: top;\n",
       "    }\n",
       "\n",
       "    .dataframe thead th {\n",
       "        text-align: right;\n",
       "    }\n",
       "</style>\n",
       "<table border=\"1\" class=\"dataframe\">\n",
       "  <thead>\n",
       "    <tr style=\"text-align: right;\">\n",
       "      <th></th>\n",
       "      <th>exchange</th>\n",
       "      <th>timestamp</th>\n",
       "      <th>open</th>\n",
       "      <th>high</th>\n",
       "      <th>low</th>\n",
       "      <th>close</th>\n",
       "      <th>volume</th>\n",
       "    </tr>\n",
       "  </thead>\n",
       "  <tbody>\n",
       "    <tr>\n",
       "      <th>0</th>\n",
       "      <td>binance</td>\n",
       "      <td>2022-11-08T19:00:17.509</td>\n",
       "      <td>18600.51</td>\n",
       "      <td>18646.86</td>\n",
       "      <td>18557.51</td>\n",
       "      <td>18642.09</td>\n",
       "      <td>508.54262</td>\n",
       "    </tr>\n",
       "    <tr>\n",
       "      <th>1</th>\n",
       "      <td>binance</td>\n",
       "      <td>2022-11-08T19:00:19.968</td>\n",
       "      <td>18600.51</td>\n",
       "      <td>18651.35</td>\n",
       "      <td>18557.51</td>\n",
       "      <td>18642.93</td>\n",
       "      <td>558.92230</td>\n",
       "    </tr>\n",
       "    <tr>\n",
       "      <th>2</th>\n",
       "      <td>binance</td>\n",
       "      <td>2022-11-08T19:00:22.504</td>\n",
       "      <td>18600.51</td>\n",
       "      <td>18663.98</td>\n",
       "      <td>18557.51</td>\n",
       "      <td>18659.01</td>\n",
       "      <td>658.26441</td>\n",
       "    </tr>\n",
       "    <tr>\n",
       "      <th>3</th>\n",
       "      <td>binance</td>\n",
       "      <td>2022-11-08T19:00:24.974</td>\n",
       "      <td>18600.51</td>\n",
       "      <td>18680.98</td>\n",
       "      <td>18557.51</td>\n",
       "      <td>18680.43</td>\n",
       "      <td>741.33661</td>\n",
       "    </tr>\n",
       "    <tr>\n",
       "      <th>4</th>\n",
       "      <td>binance</td>\n",
       "      <td>2022-11-08T19:00:27.517</td>\n",
       "      <td>18600.51</td>\n",
       "      <td>18693.08</td>\n",
       "      <td>18557.51</td>\n",
       "      <td>18682.59</td>\n",
       "      <td>791.59869</td>\n",
       "    </tr>\n",
       "    <tr>\n",
       "      <th>5</th>\n",
       "      <td>binance</td>\n",
       "      <td>2022-11-08T19:00:29.938</td>\n",
       "      <td>18600.51</td>\n",
       "      <td>18694.28</td>\n",
       "      <td>18557.51</td>\n",
       "      <td>18686.88</td>\n",
       "      <td>840.58573</td>\n",
       "    </tr>\n",
       "    <tr>\n",
       "      <th>6</th>\n",
       "      <td>binance</td>\n",
       "      <td>2022-11-08T19:00:33.268</td>\n",
       "      <td>18600.51</td>\n",
       "      <td>18696.97</td>\n",
       "      <td>18557.51</td>\n",
       "      <td>18679.38</td>\n",
       "      <td>925.29398</td>\n",
       "    </tr>\n",
       "    <tr>\n",
       "      <th>7</th>\n",
       "      <td>binance</td>\n",
       "      <td>2022-11-08T19:00:35.777</td>\n",
       "      <td>18600.51</td>\n",
       "      <td>18700.00</td>\n",
       "      <td>18557.51</td>\n",
       "      <td>18699.87</td>\n",
       "      <td>958.32888</td>\n",
       "    </tr>\n",
       "    <tr>\n",
       "      <th>8</th>\n",
       "      <td>binance</td>\n",
       "      <td>2022-11-08T19:00:38.162</td>\n",
       "      <td>18600.51</td>\n",
       "      <td>18700.00</td>\n",
       "      <td>18557.51</td>\n",
       "      <td>18694.20</td>\n",
       "      <td>991.05049</td>\n",
       "    </tr>\n",
       "    <tr>\n",
       "      <th>9</th>\n",
       "      <td>binance</td>\n",
       "      <td>2022-11-08T19:00:40.562</td>\n",
       "      <td>18600.51</td>\n",
       "      <td>18714.98</td>\n",
       "      <td>18557.51</td>\n",
       "      <td>18714.98</td>\n",
       "      <td>1054.61667</td>\n",
       "    </tr>\n",
       "    <tr>\n",
       "      <th>10</th>\n",
       "      <td>ftx</td>\n",
       "      <td>2022-11-08T19:00:44.192</td>\n",
       "      <td>18575.00</td>\n",
       "      <td>18687.00</td>\n",
       "      <td>18543.00</td>\n",
       "      <td>18681.00</td>\n",
       "      <td>330933.77820</td>\n",
       "    </tr>\n",
       "    <tr>\n",
       "      <th>11</th>\n",
       "      <td>ftx</td>\n",
       "      <td>2022-11-08T19:00:46.743</td>\n",
       "      <td>18575.00</td>\n",
       "      <td>18687.00</td>\n",
       "      <td>18543.00</td>\n",
       "      <td>18683.00</td>\n",
       "      <td>354199.88520</td>\n",
       "    </tr>\n",
       "    <tr>\n",
       "      <th>12</th>\n",
       "      <td>ftx</td>\n",
       "      <td>2022-11-08T19:00:49.762</td>\n",
       "      <td>18575.00</td>\n",
       "      <td>18687.00</td>\n",
       "      <td>18543.00</td>\n",
       "      <td>18672.00</td>\n",
       "      <td>358144.29080</td>\n",
       "    </tr>\n",
       "    <tr>\n",
       "      <th>13</th>\n",
       "      <td>ftx</td>\n",
       "      <td>2022-11-08T19:00:53.399</td>\n",
       "      <td>18575.00</td>\n",
       "      <td>18687.00</td>\n",
       "      <td>18543.00</td>\n",
       "      <td>18679.00</td>\n",
       "      <td>372328.16640</td>\n",
       "    </tr>\n",
       "    <tr>\n",
       "      <th>14</th>\n",
       "      <td>ftx</td>\n",
       "      <td>2022-11-08T19:00:56.155</td>\n",
       "      <td>18575.00</td>\n",
       "      <td>18687.00</td>\n",
       "      <td>18543.00</td>\n",
       "      <td>18682.00</td>\n",
       "      <td>383537.36640</td>\n",
       "    </tr>\n",
       "    <tr>\n",
       "      <th>15</th>\n",
       "      <td>ftx</td>\n",
       "      <td>2022-11-08T19:00:59.710</td>\n",
       "      <td>18575.00</td>\n",
       "      <td>18687.00</td>\n",
       "      <td>18543.00</td>\n",
       "      <td>18684.00</td>\n",
       "      <td>384247.31460</td>\n",
       "    </tr>\n",
       "    <tr>\n",
       "      <th>16</th>\n",
       "      <td>ftx</td>\n",
       "      <td>2022-11-08T19:01:02.169</td>\n",
       "      <td>18684.00</td>\n",
       "      <td>18688.00</td>\n",
       "      <td>18682.00</td>\n",
       "      <td>18688.00</td>\n",
       "      <td>4075.09820</td>\n",
       "    </tr>\n",
       "    <tr>\n",
       "      <th>17</th>\n",
       "      <td>ftx</td>\n",
       "      <td>2022-11-08T19:01:06.083</td>\n",
       "      <td>18684.00</td>\n",
       "      <td>18692.00</td>\n",
       "      <td>18682.00</td>\n",
       "      <td>18682.00</td>\n",
       "      <td>9695.25180</td>\n",
       "    </tr>\n",
       "    <tr>\n",
       "      <th>18</th>\n",
       "      <td>ftx</td>\n",
       "      <td>2022-11-08T19:01:09.229</td>\n",
       "      <td>18684.00</td>\n",
       "      <td>18692.00</td>\n",
       "      <td>18682.00</td>\n",
       "      <td>18691.00</td>\n",
       "      <td>9713.94280</td>\n",
       "    </tr>\n",
       "    <tr>\n",
       "      <th>19</th>\n",
       "      <td>ftx</td>\n",
       "      <td>2022-11-08T19:01:11.815</td>\n",
       "      <td>18684.00</td>\n",
       "      <td>18695.00</td>\n",
       "      <td>18682.00</td>\n",
       "      <td>18691.00</td>\n",
       "      <td>13463.75900</td>\n",
       "    </tr>\n",
       "    <tr>\n",
       "      <th>20</th>\n",
       "      <td>bytetrade</td>\n",
       "      <td>2022-11-08T19:01:14.746</td>\n",
       "      <td>18679.60</td>\n",
       "      <td>18694.10</td>\n",
       "      <td>18673.20</td>\n",
       "      <td>18688.40</td>\n",
       "      <td>0.04499</td>\n",
       "    </tr>\n",
       "    <tr>\n",
       "      <th>21</th>\n",
       "      <td>bytetrade</td>\n",
       "      <td>2022-11-08T19:01:17.251</td>\n",
       "      <td>18679.60</td>\n",
       "      <td>18700.60</td>\n",
       "      <td>18673.20</td>\n",
       "      <td>18700.60</td>\n",
       "      <td>0.04954</td>\n",
       "    </tr>\n",
       "    <tr>\n",
       "      <th>22</th>\n",
       "      <td>bytetrade</td>\n",
       "      <td>2022-11-08T19:01:20.892</td>\n",
       "      <td>18679.60</td>\n",
       "      <td>18700.60</td>\n",
       "      <td>18673.20</td>\n",
       "      <td>18681.50</td>\n",
       "      <td>0.06243</td>\n",
       "    </tr>\n",
       "    <tr>\n",
       "      <th>23</th>\n",
       "      <td>bytetrade</td>\n",
       "      <td>2022-11-08T19:01:23.788</td>\n",
       "      <td>18679.60</td>\n",
       "      <td>18700.60</td>\n",
       "      <td>18673.20</td>\n",
       "      <td>18683.50</td>\n",
       "      <td>0.06407</td>\n",
       "    </tr>\n",
       "    <tr>\n",
       "      <th>24</th>\n",
       "      <td>bytetrade</td>\n",
       "      <td>2022-11-08T19:01:26.739</td>\n",
       "      <td>18679.60</td>\n",
       "      <td>18700.60</td>\n",
       "      <td>18673.20</td>\n",
       "      <td>18699.70</td>\n",
       "      <td>0.06487</td>\n",
       "    </tr>\n",
       "    <tr>\n",
       "      <th>25</th>\n",
       "      <td>bytetrade</td>\n",
       "      <td>2022-11-08T19:01:30.579</td>\n",
       "      <td>18679.60</td>\n",
       "      <td>18700.60</td>\n",
       "      <td>18673.20</td>\n",
       "      <td>18699.40</td>\n",
       "      <td>0.06931</td>\n",
       "    </tr>\n",
       "    <tr>\n",
       "      <th>26</th>\n",
       "      <td>bytetrade</td>\n",
       "      <td>2022-11-08T19:01:33.513</td>\n",
       "      <td>18679.60</td>\n",
       "      <td>18700.60</td>\n",
       "      <td>18610.70</td>\n",
       "      <td>18610.70</td>\n",
       "      <td>0.08264</td>\n",
       "    </tr>\n",
       "    <tr>\n",
       "      <th>27</th>\n",
       "      <td>bytetrade</td>\n",
       "      <td>2022-11-08T19:01:36.264</td>\n",
       "      <td>18679.60</td>\n",
       "      <td>18700.60</td>\n",
       "      <td>18610.70</td>\n",
       "      <td>18630.30</td>\n",
       "      <td>0.08426</td>\n",
       "    </tr>\n",
       "    <tr>\n",
       "      <th>28</th>\n",
       "      <td>bytetrade</td>\n",
       "      <td>2022-11-08T19:01:38.990</td>\n",
       "      <td>18679.60</td>\n",
       "      <td>18700.60</td>\n",
       "      <td>18591.30</td>\n",
       "      <td>18591.30</td>\n",
       "      <td>0.08598</td>\n",
       "    </tr>\n",
       "    <tr>\n",
       "      <th>29</th>\n",
       "      <td>bytetrade</td>\n",
       "      <td>2022-11-08T19:01:41.646</td>\n",
       "      <td>18679.60</td>\n",
       "      <td>18700.60</td>\n",
       "      <td>18591.30</td>\n",
       "      <td>18630.40</td>\n",
       "      <td>0.08747</td>\n",
       "    </tr>\n",
       "  </tbody>\n",
       "</table>\n",
       "</div>"
      ],
      "text/plain": [
       "     exchange                timestamp      open      high       low  \\\n",
       "0     binance  2022-11-08T19:00:17.509  18600.51  18646.86  18557.51   \n",
       "1     binance  2022-11-08T19:00:19.968  18600.51  18651.35  18557.51   \n",
       "2     binance  2022-11-08T19:00:22.504  18600.51  18663.98  18557.51   \n",
       "3     binance  2022-11-08T19:00:24.974  18600.51  18680.98  18557.51   \n",
       "4     binance  2022-11-08T19:00:27.517  18600.51  18693.08  18557.51   \n",
       "5     binance  2022-11-08T19:00:29.938  18600.51  18694.28  18557.51   \n",
       "6     binance  2022-11-08T19:00:33.268  18600.51  18696.97  18557.51   \n",
       "7     binance  2022-11-08T19:00:35.777  18600.51  18700.00  18557.51   \n",
       "8     binance  2022-11-08T19:00:38.162  18600.51  18700.00  18557.51   \n",
       "9     binance  2022-11-08T19:00:40.562  18600.51  18714.98  18557.51   \n",
       "10        ftx  2022-11-08T19:00:44.192  18575.00  18687.00  18543.00   \n",
       "11        ftx  2022-11-08T19:00:46.743  18575.00  18687.00  18543.00   \n",
       "12        ftx  2022-11-08T19:00:49.762  18575.00  18687.00  18543.00   \n",
       "13        ftx  2022-11-08T19:00:53.399  18575.00  18687.00  18543.00   \n",
       "14        ftx  2022-11-08T19:00:56.155  18575.00  18687.00  18543.00   \n",
       "15        ftx  2022-11-08T19:00:59.710  18575.00  18687.00  18543.00   \n",
       "16        ftx  2022-11-08T19:01:02.169  18684.00  18688.00  18682.00   \n",
       "17        ftx  2022-11-08T19:01:06.083  18684.00  18692.00  18682.00   \n",
       "18        ftx  2022-11-08T19:01:09.229  18684.00  18692.00  18682.00   \n",
       "19        ftx  2022-11-08T19:01:11.815  18684.00  18695.00  18682.00   \n",
       "20  bytetrade  2022-11-08T19:01:14.746  18679.60  18694.10  18673.20   \n",
       "21  bytetrade  2022-11-08T19:01:17.251  18679.60  18700.60  18673.20   \n",
       "22  bytetrade  2022-11-08T19:01:20.892  18679.60  18700.60  18673.20   \n",
       "23  bytetrade  2022-11-08T19:01:23.788  18679.60  18700.60  18673.20   \n",
       "24  bytetrade  2022-11-08T19:01:26.739  18679.60  18700.60  18673.20   \n",
       "25  bytetrade  2022-11-08T19:01:30.579  18679.60  18700.60  18673.20   \n",
       "26  bytetrade  2022-11-08T19:01:33.513  18679.60  18700.60  18610.70   \n",
       "27  bytetrade  2022-11-08T19:01:36.264  18679.60  18700.60  18610.70   \n",
       "28  bytetrade  2022-11-08T19:01:38.990  18679.60  18700.60  18591.30   \n",
       "29  bytetrade  2022-11-08T19:01:41.646  18679.60  18700.60  18591.30   \n",
       "\n",
       "       close        volume  \n",
       "0   18642.09     508.54262  \n",
       "1   18642.93     558.92230  \n",
       "2   18659.01     658.26441  \n",
       "3   18680.43     741.33661  \n",
       "4   18682.59     791.59869  \n",
       "5   18686.88     840.58573  \n",
       "6   18679.38     925.29398  \n",
       "7   18699.87     958.32888  \n",
       "8   18694.20     991.05049  \n",
       "9   18714.98    1054.61667  \n",
       "10  18681.00  330933.77820  \n",
       "11  18683.00  354199.88520  \n",
       "12  18672.00  358144.29080  \n",
       "13  18679.00  372328.16640  \n",
       "14  18682.00  383537.36640  \n",
       "15  18684.00  384247.31460  \n",
       "16  18688.00    4075.09820  \n",
       "17  18682.00    9695.25180  \n",
       "18  18691.00    9713.94280  \n",
       "19  18691.00   13463.75900  \n",
       "20  18688.40       0.04499  \n",
       "21  18700.60       0.04954  \n",
       "22  18681.50       0.06243  \n",
       "23  18683.50       0.06407  \n",
       "24  18699.70       0.06487  \n",
       "25  18699.40       0.06931  \n",
       "26  18610.70       0.08264  \n",
       "27  18630.30       0.08426  \n",
       "28  18591.30       0.08598  \n",
       "29  18630.40       0.08747  "
      ]
     },
     "execution_count": 31,
     "metadata": {},
     "output_type": "execute_result"
    }
   ],
   "source": [
    "verif_df = fn.concatenate(verif_0[1], verif_1[1], verif_2[1], n)\n",
    "verif_df"
   ]
  },
  {
   "cell_type": "markdown",
   "metadata": {},
   "source": [
    "<font color= orange> <font size = 5> 2. Microstructure Visualization </font>"
   ]
  },
  {
   "cell_type": "code",
   "execution_count": 34,
   "metadata": {},
   "outputs": [
    {
     "name": "stdout",
     "output_type": "stream",
     "text": [
      "Help on function Micro in module visualizations:\n",
      "\n",
      "Micro(lvls, cripto, exchange, n)\n",
      "    Function that returns Microstructure OB and OHLCV for i levels (as integer) n times \n",
      "    from specified criptocurrency ('BTC/USDT','ETH/USDT','XRP/USDT', or others) and the \n",
      "    following exchanges: binance, ftx or bytetrade (as string).\n",
      "    \n",
      "    Parameters:\n",
      "    ----------\n",
      "    lvls: Levels of bids/asks in the Order Book (int).\n",
      "    cripto: Criptocurrency downloadable ticker (str).\n",
      "    exchanges: Criptocurrency downloadable Exchange (str).\n",
      "    n: Data retrieval per exchange (int).\n",
      "    \n",
      "    Returns:\n",
      "    -------\n",
      "    Micro[0]: Order Books Data.\n",
      "    Micro[1]: OHLCV Data.\n",
      "\n"
     ]
    }
   ],
   "source": [
    "help(vs.Micro)"
   ]
  },
  {
   "cell_type": "code",
   "execution_count": 35,
   "metadata": {},
   "outputs": [
    {
     "data": {
      "text/plain": [
       "((25, 'ETH/USDT', 'binance'),\n",
       " (25, 'ETH/USDT', 'ftx'),\n",
       " (25, 'ETH/USDT', 'bytetrade'))"
      ]
     },
     "execution_count": 35,
     "metadata": {},
     "output_type": "execute_result"
    }
   ],
   "source": [
    "params0= 25, criptos[1], exchanges[0]\n",
    "params1= 25, criptos[1], exchanges[1]\n",
    "params2= 25, criptos[1], exchanges[2]\n",
    "params0,params1,params2"
   ]
  },
  {
   "cell_type": "markdown",
   "metadata": {},
   "source": [
    "<strong> \n",
    "<font color= lightgreen> <font size = 3> Progress check 2.1 </font>"
   ]
  },
  {
   "cell_type": "code",
   "execution_count": 40,
   "metadata": {},
   "outputs": [],
   "source": [
    "n=10\n",
    "MS_0 = vs.Micro(params0[0],params0[1], params0[2], n)\n",
    "MS_1 = vs.Micro(params1[0],params1[1], params1[2], n)\n",
    "MS_2 = vs.Micro(params2[0],params2[1], params2[2], n)"
   ]
  },
  {
   "cell_type": "markdown",
   "metadata": {},
   "source": [
    "Bid and Asks Volumes in the Microstructure determine the demand and it's a factor for price movements. This is also true for the VWAP which is a trend detector by reflecting the price adjusted by its volume."
   ]
  },
  {
   "cell_type": "code",
   "execution_count": 41,
   "metadata": {},
   "outputs": [
    {
     "data": {
      "text/html": [
       "<div>\n",
       "<style scoped>\n",
       "    .dataframe tbody tr th:only-of-type {\n",
       "        vertical-align: middle;\n",
       "    }\n",
       "\n",
       "    .dataframe tbody tr th {\n",
       "        vertical-align: top;\n",
       "    }\n",
       "\n",
       "    .dataframe thead th {\n",
       "        text-align: right;\n",
       "    }\n",
       "</style>\n",
       "<table border=\"1\" class=\"dataframe\">\n",
       "  <thead>\n",
       "    <tr style=\"text-align: right;\">\n",
       "      <th></th>\n",
       "      <th>exchange</th>\n",
       "      <th>timestamp</th>\n",
       "      <th>level</th>\n",
       "      <th>ask_volume</th>\n",
       "      <th>bid_volume</th>\n",
       "      <th>total_volume</th>\n",
       "      <th>mid_price</th>\n",
       "      <th>vwap</th>\n",
       "    </tr>\n",
       "  </thead>\n",
       "  <tbody>\n",
       "    <tr>\n",
       "      <th>0</th>\n",
       "      <td>binance</td>\n",
       "      <td>2022-11-08T19:18:10.487</td>\n",
       "      <td>25</td>\n",
       "      <td>19.5926</td>\n",
       "      <td>50.9393</td>\n",
       "      <td>70.5319</td>\n",
       "      <td>1339.565</td>\n",
       "      <td>1358.552399</td>\n",
       "    </tr>\n",
       "    <tr>\n",
       "      <th>1</th>\n",
       "      <td>binance</td>\n",
       "      <td>2022-11-08T19:18:12.938</td>\n",
       "      <td>25</td>\n",
       "      <td>30.6775</td>\n",
       "      <td>27.9697</td>\n",
       "      <td>58.6472</td>\n",
       "      <td>1339.625</td>\n",
       "      <td>1362.462182</td>\n",
       "    </tr>\n",
       "    <tr>\n",
       "      <th>2</th>\n",
       "      <td>binance</td>\n",
       "      <td>2022-11-08T19:18:15.644</td>\n",
       "      <td>25</td>\n",
       "      <td>28.3856</td>\n",
       "      <td>67.8320</td>\n",
       "      <td>96.2176</td>\n",
       "      <td>1338.675</td>\n",
       "      <td>1352.583047</td>\n",
       "    </tr>\n",
       "    <tr>\n",
       "      <th>3</th>\n",
       "      <td>binance</td>\n",
       "      <td>2022-11-08T19:18:18.402</td>\n",
       "      <td>25</td>\n",
       "      <td>38.7466</td>\n",
       "      <td>29.9839</td>\n",
       "      <td>68.7305</td>\n",
       "      <td>1337.295</td>\n",
       "      <td>1356.747155</td>\n",
       "    </tr>\n",
       "    <tr>\n",
       "      <th>4</th>\n",
       "      <td>binance</td>\n",
       "      <td>2022-11-08T19:18:21.020</td>\n",
       "      <td>25</td>\n",
       "      <td>25.0051</td>\n",
       "      <td>61.3410</td>\n",
       "      <td>86.3461</td>\n",
       "      <td>1337.545</td>\n",
       "      <td>1353.030566</td>\n",
       "    </tr>\n",
       "    <tr>\n",
       "      <th>5</th>\n",
       "      <td>binance</td>\n",
       "      <td>2022-11-08T19:18:23.660</td>\n",
       "      <td>25</td>\n",
       "      <td>33.5210</td>\n",
       "      <td>30.0375</td>\n",
       "      <td>63.5585</td>\n",
       "      <td>1338.685</td>\n",
       "      <td>1359.742328</td>\n",
       "    </tr>\n",
       "    <tr>\n",
       "      <th>6</th>\n",
       "      <td>binance</td>\n",
       "      <td>2022-11-08T19:18:26.084</td>\n",
       "      <td>25</td>\n",
       "      <td>28.8938</td>\n",
       "      <td>38.5436</td>\n",
       "      <td>67.4374</td>\n",
       "      <td>1339.245</td>\n",
       "      <td>1359.089307</td>\n",
       "    </tr>\n",
       "    <tr>\n",
       "      <th>7</th>\n",
       "      <td>binance</td>\n",
       "      <td>2022-11-08T19:18:28.552</td>\n",
       "      <td>25</td>\n",
       "      <td>19.8235</td>\n",
       "      <td>24.6813</td>\n",
       "      <td>44.5048</td>\n",
       "      <td>1340.225</td>\n",
       "      <td>1370.334280</td>\n",
       "    </tr>\n",
       "    <tr>\n",
       "      <th>8</th>\n",
       "      <td>binance</td>\n",
       "      <td>2022-11-08T19:18:31.537</td>\n",
       "      <td>25</td>\n",
       "      <td>117.7341</td>\n",
       "      <td>98.2743</td>\n",
       "      <td>216.0084</td>\n",
       "      <td>1340.215</td>\n",
       "      <td>1346.414481</td>\n",
       "    </tr>\n",
       "    <tr>\n",
       "      <th>9</th>\n",
       "      <td>binance</td>\n",
       "      <td>2022-11-08T19:18:34.794</td>\n",
       "      <td>25</td>\n",
       "      <td>11.5378</td>\n",
       "      <td>57.1554</td>\n",
       "      <td>68.6932</td>\n",
       "      <td>1340.625</td>\n",
       "      <td>1360.136197</td>\n",
       "    </tr>\n",
       "    <tr>\n",
       "      <th>10</th>\n",
       "      <td>ftx</td>\n",
       "      <td>2022-11-08T19:18:39.025</td>\n",
       "      <td>25</td>\n",
       "      <td>23.8880</td>\n",
       "      <td>113.5460</td>\n",
       "      <td>137.4340</td>\n",
       "      <td>1340.400</td>\n",
       "      <td>1349.656683</td>\n",
       "    </tr>\n",
       "    <tr>\n",
       "      <th>11</th>\n",
       "      <td>ftx</td>\n",
       "      <td>2022-11-08T19:18:42.179</td>\n",
       "      <td>25</td>\n",
       "      <td>28.6790</td>\n",
       "      <td>96.0500</td>\n",
       "      <td>124.7290</td>\n",
       "      <td>1340.900</td>\n",
       "      <td>1351.352912</td>\n",
       "    </tr>\n",
       "    <tr>\n",
       "      <th>12</th>\n",
       "      <td>ftx</td>\n",
       "      <td>2022-11-08T19:18:44.906</td>\n",
       "      <td>25</td>\n",
       "      <td>30.8890</td>\n",
       "      <td>97.4660</td>\n",
       "      <td>128.3550</td>\n",
       "      <td>1341.200</td>\n",
       "      <td>1351.351482</td>\n",
       "    </tr>\n",
       "    <tr>\n",
       "      <th>13</th>\n",
       "      <td>ftx</td>\n",
       "      <td>2022-11-08T19:18:47.912</td>\n",
       "      <td>25</td>\n",
       "      <td>46.0880</td>\n",
       "      <td>117.4950</td>\n",
       "      <td>163.5830</td>\n",
       "      <td>1341.200</td>\n",
       "      <td>1349.001341</td>\n",
       "    </tr>\n",
       "    <tr>\n",
       "      <th>14</th>\n",
       "      <td>ftx</td>\n",
       "      <td>2022-11-08T19:18:50.495</td>\n",
       "      <td>25</td>\n",
       "      <td>52.7820</td>\n",
       "      <td>116.2760</td>\n",
       "      <td>169.0580</td>\n",
       "      <td>1340.850</td>\n",
       "      <td>1348.333963</td>\n",
       "    </tr>\n",
       "    <tr>\n",
       "      <th>15</th>\n",
       "      <td>ftx</td>\n",
       "      <td>2022-11-08T19:18:53.919</td>\n",
       "      <td>25</td>\n",
       "      <td>51.9090</td>\n",
       "      <td>155.4470</td>\n",
       "      <td>207.3560</td>\n",
       "      <td>1340.350</td>\n",
       "      <td>1346.565210</td>\n",
       "    </tr>\n",
       "    <tr>\n",
       "      <th>16</th>\n",
       "      <td>ftx</td>\n",
       "      <td>2022-11-08T19:18:57.297</td>\n",
       "      <td>25</td>\n",
       "      <td>34.1460</td>\n",
       "      <td>136.9780</td>\n",
       "      <td>171.1240</td>\n",
       "      <td>1340.150</td>\n",
       "      <td>1347.732916</td>\n",
       "    </tr>\n",
       "    <tr>\n",
       "      <th>17</th>\n",
       "      <td>ftx</td>\n",
       "      <td>2022-11-08T19:19:00.149</td>\n",
       "      <td>25</td>\n",
       "      <td>34.3300</td>\n",
       "      <td>93.6150</td>\n",
       "      <td>127.9450</td>\n",
       "      <td>1340.100</td>\n",
       "      <td>1350.375595</td>\n",
       "    </tr>\n",
       "    <tr>\n",
       "      <th>18</th>\n",
       "      <td>ftx</td>\n",
       "      <td>2022-11-08T19:19:03.529</td>\n",
       "      <td>25</td>\n",
       "      <td>37.0150</td>\n",
       "      <td>80.8340</td>\n",
       "      <td>117.8490</td>\n",
       "      <td>1341.150</td>\n",
       "      <td>1352.381514</td>\n",
       "    </tr>\n",
       "    <tr>\n",
       "      <th>19</th>\n",
       "      <td>ftx</td>\n",
       "      <td>2022-11-08T19:19:06.384</td>\n",
       "      <td>25</td>\n",
       "      <td>39.1250</td>\n",
       "      <td>96.4470</td>\n",
       "      <td>135.5720</td>\n",
       "      <td>1340.450</td>\n",
       "      <td>1350.089210</td>\n",
       "    </tr>\n",
       "    <tr>\n",
       "      <th>20</th>\n",
       "      <td>bytetrade</td>\n",
       "      <td>2022-11-08T19:19:10.057</td>\n",
       "      <td>25</td>\n",
       "      <td>17.0197</td>\n",
       "      <td>61.1112</td>\n",
       "      <td>78.1309</td>\n",
       "      <td>1343.010</td>\n",
       "      <td>1351.038005</td>\n",
       "    </tr>\n",
       "    <tr>\n",
       "      <th>21</th>\n",
       "      <td>bytetrade</td>\n",
       "      <td>2022-11-08T19:19:13.797</td>\n",
       "      <td>25</td>\n",
       "      <td>17.0197</td>\n",
       "      <td>61.1112</td>\n",
       "      <td>78.1309</td>\n",
       "      <td>1343.010</td>\n",
       "      <td>1351.038005</td>\n",
       "    </tr>\n",
       "    <tr>\n",
       "      <th>22</th>\n",
       "      <td>bytetrade</td>\n",
       "      <td>2022-11-08T19:19:16.704</td>\n",
       "      <td>25</td>\n",
       "      <td>16.8751</td>\n",
       "      <td>61.1112</td>\n",
       "      <td>77.9863</td>\n",
       "      <td>1343.365</td>\n",
       "      <td>1351.079201</td>\n",
       "    </tr>\n",
       "    <tr>\n",
       "      <th>23</th>\n",
       "      <td>bytetrade</td>\n",
       "      <td>2022-11-08T19:19:20.495</td>\n",
       "      <td>25</td>\n",
       "      <td>17.0911</td>\n",
       "      <td>61.1112</td>\n",
       "      <td>78.2023</td>\n",
       "      <td>1343.365</td>\n",
       "      <td>1351.031281</td>\n",
       "    </tr>\n",
       "    <tr>\n",
       "      <th>24</th>\n",
       "      <td>bytetrade</td>\n",
       "      <td>2022-11-08T19:19:23.295</td>\n",
       "      <td>25</td>\n",
       "      <td>17.0911</td>\n",
       "      <td>61.1112</td>\n",
       "      <td>78.2023</td>\n",
       "      <td>1343.365</td>\n",
       "      <td>1351.031281</td>\n",
       "    </tr>\n",
       "    <tr>\n",
       "      <th>25</th>\n",
       "      <td>bytetrade</td>\n",
       "      <td>2022-11-08T19:19:26.085</td>\n",
       "      <td>25</td>\n",
       "      <td>17.0911</td>\n",
       "      <td>61.1112</td>\n",
       "      <td>78.2023</td>\n",
       "      <td>1343.365</td>\n",
       "      <td>1351.031281</td>\n",
       "    </tr>\n",
       "    <tr>\n",
       "      <th>26</th>\n",
       "      <td>bytetrade</td>\n",
       "      <td>2022-11-08T19:19:29.154</td>\n",
       "      <td>25</td>\n",
       "      <td>17.0911</td>\n",
       "      <td>61.1112</td>\n",
       "      <td>78.2023</td>\n",
       "      <td>1343.365</td>\n",
       "      <td>1351.031281</td>\n",
       "    </tr>\n",
       "    <tr>\n",
       "      <th>27</th>\n",
       "      <td>bytetrade</td>\n",
       "      <td>2022-11-08T19:19:31.975</td>\n",
       "      <td>25</td>\n",
       "      <td>17.0911</td>\n",
       "      <td>61.1112</td>\n",
       "      <td>78.2023</td>\n",
       "      <td>1343.365</td>\n",
       "      <td>1351.031281</td>\n",
       "    </tr>\n",
       "    <tr>\n",
       "      <th>28</th>\n",
       "      <td>bytetrade</td>\n",
       "      <td>2022-11-08T19:19:34.810</td>\n",
       "      <td>25</td>\n",
       "      <td>17.0911</td>\n",
       "      <td>61.1112</td>\n",
       "      <td>78.2023</td>\n",
       "      <td>1343.365</td>\n",
       "      <td>1351.031281</td>\n",
       "    </tr>\n",
       "    <tr>\n",
       "      <th>29</th>\n",
       "      <td>bytetrade</td>\n",
       "      <td>2022-11-08T19:19:37.749</td>\n",
       "      <td>25</td>\n",
       "      <td>16.9202</td>\n",
       "      <td>61.1112</td>\n",
       "      <td>78.0314</td>\n",
       "      <td>1343.055</td>\n",
       "      <td>1351.061228</td>\n",
       "    </tr>\n",
       "  </tbody>\n",
       "</table>\n",
       "</div>"
      ],
      "text/plain": [
       "     exchange                timestamp  level  ask_volume  bid_volume  \\\n",
       "0     binance  2022-11-08T19:18:10.487     25     19.5926     50.9393   \n",
       "1     binance  2022-11-08T19:18:12.938     25     30.6775     27.9697   \n",
       "2     binance  2022-11-08T19:18:15.644     25     28.3856     67.8320   \n",
       "3     binance  2022-11-08T19:18:18.402     25     38.7466     29.9839   \n",
       "4     binance  2022-11-08T19:18:21.020     25     25.0051     61.3410   \n",
       "5     binance  2022-11-08T19:18:23.660     25     33.5210     30.0375   \n",
       "6     binance  2022-11-08T19:18:26.084     25     28.8938     38.5436   \n",
       "7     binance  2022-11-08T19:18:28.552     25     19.8235     24.6813   \n",
       "8     binance  2022-11-08T19:18:31.537     25    117.7341     98.2743   \n",
       "9     binance  2022-11-08T19:18:34.794     25     11.5378     57.1554   \n",
       "10        ftx  2022-11-08T19:18:39.025     25     23.8880    113.5460   \n",
       "11        ftx  2022-11-08T19:18:42.179     25     28.6790     96.0500   \n",
       "12        ftx  2022-11-08T19:18:44.906     25     30.8890     97.4660   \n",
       "13        ftx  2022-11-08T19:18:47.912     25     46.0880    117.4950   \n",
       "14        ftx  2022-11-08T19:18:50.495     25     52.7820    116.2760   \n",
       "15        ftx  2022-11-08T19:18:53.919     25     51.9090    155.4470   \n",
       "16        ftx  2022-11-08T19:18:57.297     25     34.1460    136.9780   \n",
       "17        ftx  2022-11-08T19:19:00.149     25     34.3300     93.6150   \n",
       "18        ftx  2022-11-08T19:19:03.529     25     37.0150     80.8340   \n",
       "19        ftx  2022-11-08T19:19:06.384     25     39.1250     96.4470   \n",
       "20  bytetrade  2022-11-08T19:19:10.057     25     17.0197     61.1112   \n",
       "21  bytetrade  2022-11-08T19:19:13.797     25     17.0197     61.1112   \n",
       "22  bytetrade  2022-11-08T19:19:16.704     25     16.8751     61.1112   \n",
       "23  bytetrade  2022-11-08T19:19:20.495     25     17.0911     61.1112   \n",
       "24  bytetrade  2022-11-08T19:19:23.295     25     17.0911     61.1112   \n",
       "25  bytetrade  2022-11-08T19:19:26.085     25     17.0911     61.1112   \n",
       "26  bytetrade  2022-11-08T19:19:29.154     25     17.0911     61.1112   \n",
       "27  bytetrade  2022-11-08T19:19:31.975     25     17.0911     61.1112   \n",
       "28  bytetrade  2022-11-08T19:19:34.810     25     17.0911     61.1112   \n",
       "29  bytetrade  2022-11-08T19:19:37.749     25     16.9202     61.1112   \n",
       "\n",
       "    total_volume  mid_price         vwap  \n",
       "0        70.5319   1339.565  1358.552399  \n",
       "1        58.6472   1339.625  1362.462182  \n",
       "2        96.2176   1338.675  1352.583047  \n",
       "3        68.7305   1337.295  1356.747155  \n",
       "4        86.3461   1337.545  1353.030566  \n",
       "5        63.5585   1338.685  1359.742328  \n",
       "6        67.4374   1339.245  1359.089307  \n",
       "7        44.5048   1340.225  1370.334280  \n",
       "8       216.0084   1340.215  1346.414481  \n",
       "9        68.6932   1340.625  1360.136197  \n",
       "10      137.4340   1340.400  1349.656683  \n",
       "11      124.7290   1340.900  1351.352912  \n",
       "12      128.3550   1341.200  1351.351482  \n",
       "13      163.5830   1341.200  1349.001341  \n",
       "14      169.0580   1340.850  1348.333963  \n",
       "15      207.3560   1340.350  1346.565210  \n",
       "16      171.1240   1340.150  1347.732916  \n",
       "17      127.9450   1340.100  1350.375595  \n",
       "18      117.8490   1341.150  1352.381514  \n",
       "19      135.5720   1340.450  1350.089210  \n",
       "20       78.1309   1343.010  1351.038005  \n",
       "21       78.1309   1343.010  1351.038005  \n",
       "22       77.9863   1343.365  1351.079201  \n",
       "23       78.2023   1343.365  1351.031281  \n",
       "24       78.2023   1343.365  1351.031281  \n",
       "25       78.2023   1343.365  1351.031281  \n",
       "26       78.2023   1343.365  1351.031281  \n",
       "27       78.2023   1343.365  1351.031281  \n",
       "28       78.2023   1343.365  1351.031281  \n",
       "29       78.0314   1343.055  1351.061228  "
      ]
     },
     "execution_count": 41,
     "metadata": {},
     "output_type": "execute_result"
    }
   ],
   "source": [
    "MSob_df = fn.concatenate(MS_0[0], MS_1[0], MS_2[0], n)\n",
    "MSob_df"
   ]
  },
  {
   "cell_type": "code",
   "execution_count": 42,
   "metadata": {},
   "outputs": [
    {
     "data": {
      "text/html": [
       "<div>\n",
       "<style scoped>\n",
       "    .dataframe tbody tr th:only-of-type {\n",
       "        vertical-align: middle;\n",
       "    }\n",
       "\n",
       "    .dataframe tbody tr th {\n",
       "        vertical-align: top;\n",
       "    }\n",
       "\n",
       "    .dataframe thead th {\n",
       "        text-align: right;\n",
       "    }\n",
       "</style>\n",
       "<table border=\"1\" class=\"dataframe\">\n",
       "  <thead>\n",
       "    <tr style=\"text-align: right;\">\n",
       "      <th></th>\n",
       "      <th>exchange</th>\n",
       "      <th>timestamp</th>\n",
       "      <th>open</th>\n",
       "      <th>high</th>\n",
       "      <th>low</th>\n",
       "      <th>close</th>\n",
       "      <th>volume</th>\n",
       "    </tr>\n",
       "  </thead>\n",
       "  <tbody>\n",
       "    <tr>\n",
       "      <th>0</th>\n",
       "      <td>binance</td>\n",
       "      <td>2022-11-08T19:18:10.487</td>\n",
       "      <td>1337.16</td>\n",
       "      <td>1339.86</td>\n",
       "      <td>1337.15</td>\n",
       "      <td>1339.31</td>\n",
       "      <td>382.8893</td>\n",
       "    </tr>\n",
       "    <tr>\n",
       "      <th>1</th>\n",
       "      <td>binance</td>\n",
       "      <td>2022-11-08T19:18:12.938</td>\n",
       "      <td>1337.16</td>\n",
       "      <td>1340.31</td>\n",
       "      <td>1337.15</td>\n",
       "      <td>1339.86</td>\n",
       "      <td>435.4572</td>\n",
       "    </tr>\n",
       "    <tr>\n",
       "      <th>2</th>\n",
       "      <td>binance</td>\n",
       "      <td>2022-11-08T19:18:15.644</td>\n",
       "      <td>1337.16</td>\n",
       "      <td>1340.31</td>\n",
       "      <td>1337.15</td>\n",
       "      <td>1338.68</td>\n",
       "      <td>486.4650</td>\n",
       "    </tr>\n",
       "    <tr>\n",
       "      <th>3</th>\n",
       "      <td>binance</td>\n",
       "      <td>2022-11-08T19:18:18.402</td>\n",
       "      <td>1337.16</td>\n",
       "      <td>1340.31</td>\n",
       "      <td>1337.15</td>\n",
       "      <td>1337.72</td>\n",
       "      <td>541.0250</td>\n",
       "    </tr>\n",
       "    <tr>\n",
       "      <th>4</th>\n",
       "      <td>binance</td>\n",
       "      <td>2022-11-08T19:18:21.020</td>\n",
       "      <td>1337.16</td>\n",
       "      <td>1340.31</td>\n",
       "      <td>1336.92</td>\n",
       "      <td>1337.21</td>\n",
       "      <td>569.7102</td>\n",
       "    </tr>\n",
       "    <tr>\n",
       "      <th>5</th>\n",
       "      <td>binance</td>\n",
       "      <td>2022-11-08T19:18:23.660</td>\n",
       "      <td>1337.16</td>\n",
       "      <td>1340.31</td>\n",
       "      <td>1336.92</td>\n",
       "      <td>1338.68</td>\n",
       "      <td>613.7200</td>\n",
       "    </tr>\n",
       "    <tr>\n",
       "      <th>6</th>\n",
       "      <td>binance</td>\n",
       "      <td>2022-11-08T19:18:26.084</td>\n",
       "      <td>1337.16</td>\n",
       "      <td>1340.31</td>\n",
       "      <td>1336.92</td>\n",
       "      <td>1339.26</td>\n",
       "      <td>776.5685</td>\n",
       "    </tr>\n",
       "    <tr>\n",
       "      <th>7</th>\n",
       "      <td>binance</td>\n",
       "      <td>2022-11-08T19:18:28.552</td>\n",
       "      <td>1337.16</td>\n",
       "      <td>1340.31</td>\n",
       "      <td>1336.92</td>\n",
       "      <td>1340.22</td>\n",
       "      <td>822.4077</td>\n",
       "    </tr>\n",
       "    <tr>\n",
       "      <th>8</th>\n",
       "      <td>binance</td>\n",
       "      <td>2022-11-08T19:18:31.537</td>\n",
       "      <td>1337.16</td>\n",
       "      <td>1340.50</td>\n",
       "      <td>1336.92</td>\n",
       "      <td>1340.25</td>\n",
       "      <td>971.5789</td>\n",
       "    </tr>\n",
       "    <tr>\n",
       "      <th>9</th>\n",
       "      <td>binance</td>\n",
       "      <td>2022-11-08T19:18:34.794</td>\n",
       "      <td>1337.16</td>\n",
       "      <td>1340.77</td>\n",
       "      <td>1336.92</td>\n",
       "      <td>1340.33</td>\n",
       "      <td>1019.3432</td>\n",
       "    </tr>\n",
       "    <tr>\n",
       "      <th>10</th>\n",
       "      <td>ftx</td>\n",
       "      <td>2022-11-08T19:18:39.025</td>\n",
       "      <td>1335.20</td>\n",
       "      <td>1340.80</td>\n",
       "      <td>1334.60</td>\n",
       "      <td>1340.30</td>\n",
       "      <td>108665.3529</td>\n",
       "    </tr>\n",
       "    <tr>\n",
       "      <th>11</th>\n",
       "      <td>ftx</td>\n",
       "      <td>2022-11-08T19:18:42.179</td>\n",
       "      <td>1335.20</td>\n",
       "      <td>1341.30</td>\n",
       "      <td>1334.60</td>\n",
       "      <td>1341.10</td>\n",
       "      <td>112663.7313</td>\n",
       "    </tr>\n",
       "    <tr>\n",
       "      <th>12</th>\n",
       "      <td>ftx</td>\n",
       "      <td>2022-11-08T19:18:44.906</td>\n",
       "      <td>1335.20</td>\n",
       "      <td>1343.80</td>\n",
       "      <td>1334.60</td>\n",
       "      <td>1341.20</td>\n",
       "      <td>121642.8908</td>\n",
       "    </tr>\n",
       "    <tr>\n",
       "      <th>13</th>\n",
       "      <td>ftx</td>\n",
       "      <td>2022-11-08T19:18:47.912</td>\n",
       "      <td>1335.20</td>\n",
       "      <td>1343.80</td>\n",
       "      <td>1334.60</td>\n",
       "      <td>1341.20</td>\n",
       "      <td>124649.6566</td>\n",
       "    </tr>\n",
       "    <tr>\n",
       "      <th>14</th>\n",
       "      <td>ftx</td>\n",
       "      <td>2022-11-08T19:18:50.495</td>\n",
       "      <td>1335.20</td>\n",
       "      <td>1343.80</td>\n",
       "      <td>1334.60</td>\n",
       "      <td>1340.60</td>\n",
       "      <td>124653.6783</td>\n",
       "    </tr>\n",
       "    <tr>\n",
       "      <th>15</th>\n",
       "      <td>ftx</td>\n",
       "      <td>2022-11-08T19:18:53.919</td>\n",
       "      <td>1335.20</td>\n",
       "      <td>1343.80</td>\n",
       "      <td>1334.60</td>\n",
       "      <td>1340.60</td>\n",
       "      <td>126003.5622</td>\n",
       "    </tr>\n",
       "    <tr>\n",
       "      <th>16</th>\n",
       "      <td>ftx</td>\n",
       "      <td>2022-11-08T19:18:57.297</td>\n",
       "      <td>1335.20</td>\n",
       "      <td>1343.80</td>\n",
       "      <td>1334.60</td>\n",
       "      <td>1340.20</td>\n",
       "      <td>126008.9226</td>\n",
       "    </tr>\n",
       "    <tr>\n",
       "      <th>17</th>\n",
       "      <td>ftx</td>\n",
       "      <td>2022-11-08T19:19:00.149</td>\n",
       "      <td>1335.20</td>\n",
       "      <td>1343.80</td>\n",
       "      <td>1334.60</td>\n",
       "      <td>1339.90</td>\n",
       "      <td>130922.0564</td>\n",
       "    </tr>\n",
       "    <tr>\n",
       "      <th>18</th>\n",
       "      <td>ftx</td>\n",
       "      <td>2022-11-08T19:19:03.529</td>\n",
       "      <td>1339.90</td>\n",
       "      <td>1340.90</td>\n",
       "      <td>1339.90</td>\n",
       "      <td>1340.80</td>\n",
       "      <td>2.6813</td>\n",
       "    </tr>\n",
       "    <tr>\n",
       "      <th>19</th>\n",
       "      <td>ftx</td>\n",
       "      <td>2022-11-08T19:19:06.384</td>\n",
       "      <td>1339.90</td>\n",
       "      <td>1341.20</td>\n",
       "      <td>1339.90</td>\n",
       "      <td>1340.30</td>\n",
       "      <td>3498.4072</td>\n",
       "    </tr>\n",
       "    <tr>\n",
       "      <th>20</th>\n",
       "      <td>bytetrade</td>\n",
       "      <td>2022-11-08T19:19:10.057</td>\n",
       "      <td>1344.05</td>\n",
       "      <td>1344.05</td>\n",
       "      <td>1344.00</td>\n",
       "      <td>1344.00</td>\n",
       "      <td>0.0052</td>\n",
       "    </tr>\n",
       "    <tr>\n",
       "      <th>21</th>\n",
       "      <td>bytetrade</td>\n",
       "      <td>2022-11-08T19:19:13.797</td>\n",
       "      <td>1344.05</td>\n",
       "      <td>1344.05</td>\n",
       "      <td>1343.55</td>\n",
       "      <td>1344.02</td>\n",
       "      <td>0.0137</td>\n",
       "    </tr>\n",
       "    <tr>\n",
       "      <th>22</th>\n",
       "      <td>bytetrade</td>\n",
       "      <td>2022-11-08T19:19:16.704</td>\n",
       "      <td>1344.05</td>\n",
       "      <td>1345.81</td>\n",
       "      <td>1343.55</td>\n",
       "      <td>1345.81</td>\n",
       "      <td>0.0153</td>\n",
       "    </tr>\n",
       "    <tr>\n",
       "      <th>23</th>\n",
       "      <td>bytetrade</td>\n",
       "      <td>2022-11-08T19:19:20.495</td>\n",
       "      <td>1344.05</td>\n",
       "      <td>1345.81</td>\n",
       "      <td>1343.55</td>\n",
       "      <td>1345.81</td>\n",
       "      <td>0.0153</td>\n",
       "    </tr>\n",
       "    <tr>\n",
       "      <th>24</th>\n",
       "      <td>bytetrade</td>\n",
       "      <td>2022-11-08T19:19:23.295</td>\n",
       "      <td>1344.05</td>\n",
       "      <td>1345.81</td>\n",
       "      <td>1342.94</td>\n",
       "      <td>1342.94</td>\n",
       "      <td>0.0166</td>\n",
       "    </tr>\n",
       "    <tr>\n",
       "      <th>25</th>\n",
       "      <td>bytetrade</td>\n",
       "      <td>2022-11-08T19:19:26.085</td>\n",
       "      <td>1344.05</td>\n",
       "      <td>1345.81</td>\n",
       "      <td>1342.94</td>\n",
       "      <td>1344.20</td>\n",
       "      <td>0.0174</td>\n",
       "    </tr>\n",
       "    <tr>\n",
       "      <th>26</th>\n",
       "      <td>bytetrade</td>\n",
       "      <td>2022-11-08T19:19:29.154</td>\n",
       "      <td>1344.05</td>\n",
       "      <td>1345.81</td>\n",
       "      <td>1342.94</td>\n",
       "      <td>1344.20</td>\n",
       "      <td>0.0174</td>\n",
       "    </tr>\n",
       "    <tr>\n",
       "      <th>27</th>\n",
       "      <td>bytetrade</td>\n",
       "      <td>2022-11-08T19:19:31.975</td>\n",
       "      <td>1344.05</td>\n",
       "      <td>1345.81</td>\n",
       "      <td>1342.94</td>\n",
       "      <td>1344.21</td>\n",
       "      <td>0.0235</td>\n",
       "    </tr>\n",
       "    <tr>\n",
       "      <th>28</th>\n",
       "      <td>bytetrade</td>\n",
       "      <td>2022-11-08T19:19:34.810</td>\n",
       "      <td>1344.05</td>\n",
       "      <td>1345.81</td>\n",
       "      <td>1342.94</td>\n",
       "      <td>1344.50</td>\n",
       "      <td>0.0245</td>\n",
       "    </tr>\n",
       "    <tr>\n",
       "      <th>29</th>\n",
       "      <td>bytetrade</td>\n",
       "      <td>2022-11-08T19:19:37.749</td>\n",
       "      <td>1344.05</td>\n",
       "      <td>1345.81</td>\n",
       "      <td>1342.94</td>\n",
       "      <td>1344.50</td>\n",
       "      <td>0.0245</td>\n",
       "    </tr>\n",
       "  </tbody>\n",
       "</table>\n",
       "</div>"
      ],
      "text/plain": [
       "     exchange                timestamp     open     high      low    close  \\\n",
       "0     binance  2022-11-08T19:18:10.487  1337.16  1339.86  1337.15  1339.31   \n",
       "1     binance  2022-11-08T19:18:12.938  1337.16  1340.31  1337.15  1339.86   \n",
       "2     binance  2022-11-08T19:18:15.644  1337.16  1340.31  1337.15  1338.68   \n",
       "3     binance  2022-11-08T19:18:18.402  1337.16  1340.31  1337.15  1337.72   \n",
       "4     binance  2022-11-08T19:18:21.020  1337.16  1340.31  1336.92  1337.21   \n",
       "5     binance  2022-11-08T19:18:23.660  1337.16  1340.31  1336.92  1338.68   \n",
       "6     binance  2022-11-08T19:18:26.084  1337.16  1340.31  1336.92  1339.26   \n",
       "7     binance  2022-11-08T19:18:28.552  1337.16  1340.31  1336.92  1340.22   \n",
       "8     binance  2022-11-08T19:18:31.537  1337.16  1340.50  1336.92  1340.25   \n",
       "9     binance  2022-11-08T19:18:34.794  1337.16  1340.77  1336.92  1340.33   \n",
       "10        ftx  2022-11-08T19:18:39.025  1335.20  1340.80  1334.60  1340.30   \n",
       "11        ftx  2022-11-08T19:18:42.179  1335.20  1341.30  1334.60  1341.10   \n",
       "12        ftx  2022-11-08T19:18:44.906  1335.20  1343.80  1334.60  1341.20   \n",
       "13        ftx  2022-11-08T19:18:47.912  1335.20  1343.80  1334.60  1341.20   \n",
       "14        ftx  2022-11-08T19:18:50.495  1335.20  1343.80  1334.60  1340.60   \n",
       "15        ftx  2022-11-08T19:18:53.919  1335.20  1343.80  1334.60  1340.60   \n",
       "16        ftx  2022-11-08T19:18:57.297  1335.20  1343.80  1334.60  1340.20   \n",
       "17        ftx  2022-11-08T19:19:00.149  1335.20  1343.80  1334.60  1339.90   \n",
       "18        ftx  2022-11-08T19:19:03.529  1339.90  1340.90  1339.90  1340.80   \n",
       "19        ftx  2022-11-08T19:19:06.384  1339.90  1341.20  1339.90  1340.30   \n",
       "20  bytetrade  2022-11-08T19:19:10.057  1344.05  1344.05  1344.00  1344.00   \n",
       "21  bytetrade  2022-11-08T19:19:13.797  1344.05  1344.05  1343.55  1344.02   \n",
       "22  bytetrade  2022-11-08T19:19:16.704  1344.05  1345.81  1343.55  1345.81   \n",
       "23  bytetrade  2022-11-08T19:19:20.495  1344.05  1345.81  1343.55  1345.81   \n",
       "24  bytetrade  2022-11-08T19:19:23.295  1344.05  1345.81  1342.94  1342.94   \n",
       "25  bytetrade  2022-11-08T19:19:26.085  1344.05  1345.81  1342.94  1344.20   \n",
       "26  bytetrade  2022-11-08T19:19:29.154  1344.05  1345.81  1342.94  1344.20   \n",
       "27  bytetrade  2022-11-08T19:19:31.975  1344.05  1345.81  1342.94  1344.21   \n",
       "28  bytetrade  2022-11-08T19:19:34.810  1344.05  1345.81  1342.94  1344.50   \n",
       "29  bytetrade  2022-11-08T19:19:37.749  1344.05  1345.81  1342.94  1344.50   \n",
       "\n",
       "         volume  \n",
       "0      382.8893  \n",
       "1      435.4572  \n",
       "2      486.4650  \n",
       "3      541.0250  \n",
       "4      569.7102  \n",
       "5      613.7200  \n",
       "6      776.5685  \n",
       "7      822.4077  \n",
       "8      971.5789  \n",
       "9     1019.3432  \n",
       "10  108665.3529  \n",
       "11  112663.7313  \n",
       "12  121642.8908  \n",
       "13  124649.6566  \n",
       "14  124653.6783  \n",
       "15  126003.5622  \n",
       "16  126008.9226  \n",
       "17  130922.0564  \n",
       "18       2.6813  \n",
       "19    3498.4072  \n",
       "20       0.0052  \n",
       "21       0.0137  \n",
       "22       0.0153  \n",
       "23       0.0153  \n",
       "24       0.0166  \n",
       "25       0.0174  \n",
       "26       0.0174  \n",
       "27       0.0235  \n",
       "28       0.0245  \n",
       "29       0.0245  "
      ]
     },
     "execution_count": 42,
     "metadata": {},
     "output_type": "execute_result"
    }
   ],
   "source": [
    "MSohlcv = fn.concatenate(MS_0[1], MS_1[1], MS_2[1], n)\n",
    "MSohlcv"
   ]
  },
  {
   "cell_type": "markdown",
   "metadata": {},
   "source": [
    "<font color= orange> <font size = 5> 3. Microstructure Modelling: </font>"
   ]
  },
  {
   "cell_type": "markdown",
   "metadata": {},
   "source": [
    "### <font color= orange> <font size = 5> 4. Bibliography: </font>\n",
    "\n",
    "<font color= lightgray>\n",
    "\n",
    "+ Villalobos, O, 2021. **Python Project Template**. Available at: https://github.com/OmarVillalobos/python-project. \n",
    "(Accessed: November 5, 2022). \n",
    "\n",
    "+ Financial Engineering, **Marketmicrostructure.pptx**. ITESO -  Microstructure and Trading Systems (ITE1731 - DMAF). \n",
    "Available at: https://docs.google.com/presentation/d/1uYyMERKKGeZ0MPqbJ3bcir9lfpzbeAH9ZMmxbYysokQ/edit?usp=sharing (Accessed: November 5, 2022). \n",
    "\n",
    "+ Muñoz E., J **Roll Model** *(spanish)*. ITESO - (ITE1731 - DMAF) Available at: https://github.com/EstebanMqz/MyST_LAB_4/blob/main/Roll%20.pdf (Accessed: November 5, 2022).\n",
    "\n",
    "+ Muñoz E., J **Asset Pricing Theory** *(spanish)*. ITESO - (ITE1731 - DMAF) Available at: https://github.com/EstebanMqz/MyST_LAB_4/blob/main/APT.pdf (Accessed: November 5, 2022). "
   ]
  }
 ],
 "metadata": {
  "kernelspec": {
   "display_name": "base",
   "language": "python",
   "name": "python3"
  },
  "language_info": {
   "codemirror_mode": {
    "name": "ipython",
    "version": 3
   },
   "file_extension": ".py",
   "mimetype": "text/x-python",
   "name": "python",
   "nbconvert_exporter": "python",
   "pygments_lexer": "ipython3",
   "version": "3.8.13"
  },
  "toc": {
   "base_numbering": 1,
   "nav_menu": {},
   "number_sections": true,
   "sideBar": true,
   "skip_h1_title": false,
   "title_cell": "Table of Contents",
   "title_sidebar": "Contents",
   "toc_cell": false,
   "toc_position": {},
   "toc_section_display": true,
   "toc_window_display": false
  },
  "vscode": {
   "interpreter": {
    "hash": "ad2bdc8ecc057115af97d19610ffacc2b4e99fae6737bb82f5d7fb13d2f2c186"
   }
  }
 },
 "nbformat": 4,
 "nbformat_minor": 2
}
