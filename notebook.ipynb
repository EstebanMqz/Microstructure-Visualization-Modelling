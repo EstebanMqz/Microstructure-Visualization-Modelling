{
 "cells": [
  {
   "cell_type": "markdown",
   "metadata": {},
   "source": [
    "\n",
    "    \n",
    "    \n",
    "## <H2 align=\"center\"> <font color='white'> **MAF1731B**: Microstructure and Trading Systems </H2>\n",
    "\n",
    "### <H3 align=\"center\"> <font color='white'> **Laboratory 4**: Market Microstructure </H3>\n",
    "\n",
    " <H5 align=\"center\"> <em> Professor: Villalobos Ramos Omar Antonio <em>\n",
    "\n",
    " <p align=\"center\"> <img style=\" margin: 30px 15px 15px 15px;\" src=\"https://pngimage.net/wp-content/uploads/2018/06/logo-iteso-png-5.png\" width=\"350\" height=\"150\" /> \n",
    "\n",
    " <strong> <H5 align=\"left\"> Student:\n",
    "Esteban Márquez Delgado <strong>\n",
    "\n",
    " *Registry*:\n",
    "if700637: https://github.com/EstebanMqz/MyST_LAB_4\n",
    "\n",
    " <center> <font color= #555555> <font size = 4> November 2022 </a> <font color= #555555> <font size = 4> </a></font>"
   ]
  },
  {
   "cell_type": "markdown",
   "metadata": {},
   "source": [
    "<hr style=\"border:0.02in solid gray\"> </hr>"
   ]
  },
  {
   "cell_type": "markdown",
   "metadata": {},
   "source": [
    "<center> <font color= #555555> <font size = 6> Laboratory 4 </font> <br> <br> <font color= #555555> <font size = 5> Market Microstructure  </font>"
   ]
  },
  {
   "cell_type": "markdown",
   "metadata": {},
   "source": [
    "<hr style=\"border:0.02in solid gray\"> </hr>"
   ]
  },
  {
   "cell_type": "markdown",
   "metadata": {},
   "source": [
    "### <font color= #555555> <font size = 4> Abstract </font>"
   ]
  },
  {
   "cell_type": "markdown",
   "metadata": {},
   "source": [
    "This document was prepared as delivery for Laboratory 4 of Microstructure and Trading Systems - MAF1731B class during the Autumn 2022 course at ITESO for the Bachelor of Financial Engineering. In order to analyze the market microstructure in criptocurrencies markets containing the following 3 sections:\n",
    "\n",
    "1. **Consume CCXT data**: Download Criptocurrencies Order Books from exchanges (kraken, ftx, currencycom, coinmate, etc).\n",
    "\n",
    "2. **Microstructure Visualization**: Build Time Series using the Order Books obtained in the previous point from the following elements of the Market Microstructure for each asset and exchange (Levels, Bid Volume, Ask Volume, Total Volume, Mid Price, VWAP.)\n",
    "\n",
    "3. **Microstructure Modeling**: Estimation of Roll Effective Spread using the lagged series at t-5.\n",
    "\n"
   ]
  },
  {
   "cell_type": "markdown",
   "metadata": {},
   "source": [
    "<font color= lightblue> <font size = 4> 0. Libraries and Dependencies: </font>\n",
    "\n",
    "<font color= gray>\n",
    "\n",
    "**Note**: To run this notebook it is necessary to have the following libraries contained in the [requirements.txt](https://github.com/EstebanMqz/MyST_LAB_4/blob/main/requirements.txt) script of this project.\n",
    "\n",
    "To install the libraries in the script run the following cell:"
   ]
  },
  {
   "cell_type": "code",
   "execution_count": 1,
   "metadata": {},
   "outputs": [
    {
     "name": "stderr",
     "output_type": "stream",
     "text": [
      "WARNING: Ignoring invalid distribution -rl (c:\\programdata\\anaconda3\\lib\\site-packages)\n",
      "WARNING: Ignoring invalid distribution -inance (c:\\programdata\\anaconda3\\lib\\site-packages)\n",
      "WARNING: Ignoring invalid distribution -ywinpty (c:\\programdata\\anaconda3\\lib\\site-packages)\n",
      "WARNING: Ignoring invalid distribution -rl (c:\\programdata\\anaconda3\\lib\\site-packages)\n",
      "WARNING: Ignoring invalid distribution -finance (c:\\programdata\\anaconda3\\lib\\site-packages)\n",
      "WARNING: Ignoring invalid distribution - (c:\\programdata\\anaconda3\\lib\\site-packages)\n",
      "WARNING: Ignoring invalid distribution -arl (c:\\programdata\\anaconda3\\lib\\site-packages)\n",
      "ERROR: Invalid requirement: '\"\"\"' (from line 1 of requirements.txt)\n",
      "WARNING: Ignoring invalid distribution -rl (c:\\programdata\\anaconda3\\lib\\site-packages)\n",
      "WARNING: Ignoring invalid distribution -inance (c:\\programdata\\anaconda3\\lib\\site-packages)\n",
      "WARNING: Ignoring invalid distribution -ywinpty (c:\\programdata\\anaconda3\\lib\\site-packages)\n",
      "WARNING: Ignoring invalid distribution -rl (c:\\programdata\\anaconda3\\lib\\site-packages)\n",
      "WARNING: Ignoring invalid distribution -finance (c:\\programdata\\anaconda3\\lib\\site-packages)\n",
      "WARNING: Ignoring invalid distribution - (c:\\programdata\\anaconda3\\lib\\site-packages)\n",
      "WARNING: Ignoring invalid distribution -arl (c:\\programdata\\anaconda3\\lib\\site-packages)\n",
      "WARNING: Ignoring invalid distribution -rl (c:\\programdata\\anaconda3\\lib\\site-packages)\n",
      "WARNING: Ignoring invalid distribution -inance (c:\\programdata\\anaconda3\\lib\\site-packages)\n",
      "WARNING: Ignoring invalid distribution -ywinpty (c:\\programdata\\anaconda3\\lib\\site-packages)\n",
      "WARNING: Ignoring invalid distribution -rl (c:\\programdata\\anaconda3\\lib\\site-packages)\n",
      "WARNING: Ignoring invalid distribution -finance (c:\\programdata\\anaconda3\\lib\\site-packages)\n",
      "WARNING: Ignoring invalid distribution - (c:\\programdata\\anaconda3\\lib\\site-packages)\n",
      "WARNING: Ignoring invalid distribution -arl (c:\\programdata\\anaconda3\\lib\\site-packages)\n",
      "WARNING: Ignoring invalid distribution -rl (c:\\programdata\\anaconda3\\lib\\site-packages)\n",
      "WARNING: Ignoring invalid distribution -inance (c:\\programdata\\anaconda3\\lib\\site-packages)\n",
      "WARNING: Ignoring invalid distribution -ywinpty (c:\\programdata\\anaconda3\\lib\\site-packages)\n",
      "WARNING: Ignoring invalid distribution -rl (c:\\programdata\\anaconda3\\lib\\site-packages)\n",
      "WARNING: Ignoring invalid distribution -finance (c:\\programdata\\anaconda3\\lib\\site-packages)\n",
      "WARNING: Ignoring invalid distribution - (c:\\programdata\\anaconda3\\lib\\site-packages)\n",
      "WARNING: Ignoring invalid distribution -arl (c:\\programdata\\anaconda3\\lib\\site-packages)\n"
     ]
    }
   ],
   "source": [
    "!pip install -r requirements.txt"
   ]
  },
  {
   "cell_type": "markdown",
   "metadata": {},
   "source": [
    "If you prefer, manual installation can be done with the individual installation of the following libraries:\n",
    "\n",
    "<font color= lightblue> <font size = 1> \n",
    "+ pandas >= 1.3.4\n",
    "+ numpy >= 1.19.1\n",
    "+ jupyter >= 1.0.0\n",
    "+ chart_studio >= 1.1\n",
    "+ plotly >= 4.14\n",
    "+ logging >= 3.11\n",
    "+ datetime >= 4.7\n",
    "+ pandas_datareader >= 0.10.0\n",
    "+ tk >= 0.10\n",
    "+ random >= 3.11\n",
    "+ plotly >= 5.60\n",
    "+ yahoofinancials >= 1.60\n",
    "+ scipy >= 1.7.3\n",
    "+ regex >= 2022.3.15\n",
    "+ matplotlib >= 3.5.1\n",
    "+ fire >= 0.4.0\n",
    "+ ccxt >= 2.1.33\n",
    "+ time >= 3.11 \n"
   ]
  },
  {
   "cell_type": "markdown",
   "metadata": {},
   "source": [
    "### <font color= lightblue> <font size = 4> 0.1 Introduction: </font>\n",
    "In this laboratory we will use information from the Cryptocurrency Order Book of various international exchanges, with the primary objective of visualizing and modeling the microstructure of the market through the behavior of the Order Book and its characteristics such as; Matching Engine, Levels, Ask-Bid Volumes, etc.\n",
    "<font color= gray>\n",
    "\n",
    "\n"
   ]
  },
  {
   "cell_type": "markdown",
   "metadata": {},
   "source": [
    "##### *General help:*\n",
    "<font color= lightgreen> **Note**: Progress checks in sections highlighted. <font color= white>\n",
    "\n",
    "In order, to retrieve specific help from the scripts tree in the project execute the help function on the script or in specific modules from the following:\n",
    "+ [data.py](https://github.com/EstebanMqz/MyST_LAB_4/blob/main/data.py)\n",
    "+ [functions.py](https://github.com/EstebanMqz/MyST_LAB_4/blob/main/functions.py)\n",
    "+ [visualizations.py](https://github.com/EstebanMqz/MyST_LAB_4/blob/main/visualizations.py)"
   ]
  },
  {
   "cell_type": "code",
   "execution_count": 2,
   "metadata": {},
   "outputs": [],
   "source": [
    "## Libraries\n",
    "import pandas as pd # Analysis and data management\n",
    "import pandas_datareader as pdr\n",
    "import pandas_datareader.data as web #Data extraction from the web\n",
    "import numpy as np\n",
    "from datetime import datetime, timedelta, date\n",
    "from tkinter.ttk import Style\n",
    "from tkinter import Y\n",
    "import random as rand\n",
    "import plotly.graph_objects as go #Plotly\n",
    "import plotly.express as px\n",
    "import warnings\n",
    "from yahoofinancials import YahooFinancials # Yfinance \n",
    "import warnings\n",
    "import yfinance as yf\n",
    "import ccxt #Criptocurrencies\n",
    "import logging as log #Exchanges \n",
    "from scipy.optimize import minimize # Optimization \n",
    "from collections import Counter #Counter\n",
    "import time\n",
    "import re\n",
    "import io \n",
    "import glob\n",
    "import os\n",
    "#.Py archives in repo\n",
    "import functions as fn \n",
    "import visualizations as vs\n",
    "import data as dt\n",
    "from os import path\n",
    "import fire\n",
    "%matplotlib inline"
   ]
  },
  {
   "cell_type": "markdown",
   "metadata": {},
   "source": [
    "<font color= orange> <font size = 5> 1. Consume CCXT data: </font>"
   ]
  },
  {
   "cell_type": "markdown",
   "metadata": {},
   "source": [
    "In order to know the exchanges avaliable in CCTX module in Python for Criptocurrencies data download, the following getattr function *find_exchanges* is executed:"
   ]
  },
  {
   "cell_type": "code",
   "execution_count": 3,
   "metadata": {},
   "outputs": [
    {
     "name": "stdout",
     "output_type": "stream",
     "text": [
      "Help on function find_exchanges in module functions:\n",
      "\n",
      "find_exchanges(features=None, is_authenticated=False)\n",
      "    Function that returns avaliable cryptocurrencies exchanges in Python for CCTX module.\n",
      "    \n",
      "        Parameters:\n",
      "        ----------\n",
      "        features: None \n",
      "        is_authenticated: None \n",
      "    \n",
      "        Returns:\n",
      "        -------\n",
      "        exchange_names: Array of authenticated exchanges avaliable in CCTX.\n",
      "\n"
     ]
    }
   ],
   "source": [
    "help(fn.find_exchanges)"
   ]
  },
  {
   "cell_type": "markdown",
   "metadata": {},
   "source": [
    "From all the 120 exchanges avaliable we pick **binance**, **ftx** and **bytetrade** because of their fast fetching."
   ]
  },
  {
   "cell_type": "code",
   "execution_count": 4,
   "metadata": {},
   "outputs": [
    {
     "data": {
      "text/plain": [
       "['aax',\n",
       " 'alpaca',\n",
       " 'ascendex',\n",
       " 'bequant',\n",
       " 'bibox',\n",
       " 'bigone',\n",
       " 'binance',\n",
       " 'binancecoinm',\n",
       " 'binanceus',\n",
       " 'binanceusdm',\n",
       " 'bit2c',\n",
       " 'bitbank',\n",
       " 'bitbay',\n",
       " 'bitbns',\n",
       " 'bitcoincom',\n",
       " 'bitfinex',\n",
       " 'bitfinex2',\n",
       " 'bitflyer',\n",
       " 'bitforex',\n",
       " 'bitget',\n",
       " 'bithumb',\n",
       " 'bitmart',\n",
       " 'bitmex',\n",
       " 'bitopro',\n",
       " 'bitpanda',\n",
       " 'bitrue',\n",
       " 'bitso',\n",
       " 'bitstamp',\n",
       " 'bitstamp1',\n",
       " 'bittrex',\n",
       " 'bitvavo',\n",
       " 'bkex',\n",
       " 'bl3p',\n",
       " 'blockchaincom',\n",
       " 'btcalpha',\n",
       " 'btcbox',\n",
       " 'btcex',\n",
       " 'btcmarkets',\n",
       " 'btctradeua',\n",
       " 'btcturk',\n",
       " 'buda',\n",
       " 'bw',\n",
       " 'bybit',\n",
       " 'bytetrade',\n",
       " 'cex',\n",
       " 'coinbase',\n",
       " 'coinbaseprime',\n",
       " 'coinbasepro',\n",
       " 'coincheck',\n",
       " 'coinex',\n",
       " 'coinfalcon',\n",
       " 'coinmate',\n",
       " 'coinone',\n",
       " 'coinspot',\n",
       " 'crex24',\n",
       " 'cryptocom',\n",
       " 'currencycom',\n",
       " 'delta',\n",
       " 'deribit',\n",
       " 'digifinex',\n",
       " 'exmo',\n",
       " 'flowbtc',\n",
       " 'fmfwio',\n",
       " 'ftx',\n",
       " 'ftxus',\n",
       " 'gate',\n",
       " 'gateio',\n",
       " 'gemini',\n",
       " 'hitbtc',\n",
       " 'hitbtc3',\n",
       " 'hollaex',\n",
       " 'huobi',\n",
       " 'huobijp',\n",
       " 'huobipro',\n",
       " 'idex',\n",
       " 'independentreserve',\n",
       " 'indodax',\n",
       " 'itbit',\n",
       " 'kraken',\n",
       " 'kucoin',\n",
       " 'kucoinfutures',\n",
       " 'kuna',\n",
       " 'latoken',\n",
       " 'lbank',\n",
       " 'lbank2',\n",
       " 'liquid',\n",
       " 'luno',\n",
       " 'lykke',\n",
       " 'mercado',\n",
       " 'mexc',\n",
       " 'mexc3',\n",
       " 'ndax',\n",
       " 'novadax',\n",
       " 'oceanex',\n",
       " 'okcoin',\n",
       " 'okex',\n",
       " 'okex5',\n",
       " 'okx',\n",
       " 'paymium',\n",
       " 'phemex',\n",
       " 'poloniex',\n",
       " 'probit',\n",
       " 'qtrade',\n",
       " 'ripio',\n",
       " 'stex',\n",
       " 'therock',\n",
       " 'tidebit',\n",
       " 'tidex',\n",
       " 'timex',\n",
       " 'tokocrypto',\n",
       " 'upbit',\n",
       " 'wavesexchange',\n",
       " 'wazirx',\n",
       " 'whitebit',\n",
       " 'woo',\n",
       " 'yobit',\n",
       " 'zaif',\n",
       " 'zb',\n",
       " 'zipmex',\n",
       " 'zonda']"
      ]
     },
     "execution_count": 4,
     "metadata": {},
     "output_type": "execute_result"
    }
   ],
   "source": [
    "#Available exchanges in CCTX\n",
    "fn.find_exchanges()[:] #len 120"
   ]
  },
  {
   "cell_type": "markdown",
   "metadata": {},
   "source": [
    "Now that we have selected the exchanges, we pick random criptocurrencies and verify that they are all avaliable in their platform."
   ]
  },
  {
   "cell_type": "code",
   "execution_count": 5,
   "metadata": {},
   "outputs": [],
   "source": [
    "exchanges= ['binance','ftx', 'bytetrade'] #Selected exchanges from list (can't modify because of fn and vs .py)\n",
    "criptos = ['BTC/USDT','ETH/USDT','XRP/USDT'] #Criptos OBs (modify tickers here)"
   ]
  },
  {
   "cell_type": "markdown",
   "metadata": {},
   "source": [
    "<font color= lightblue> <font size = 4> Order Book Levels & OHLCV for 3 exchanges and Criptos: </font>"
   ]
  },
  {
   "cell_type": "markdown",
   "metadata": {},
   "source": [
    "Now we proceed to download Single Order Books from exchanges for criptocurrencies."
   ]
  },
  {
   "cell_type": "code",
   "execution_count": 6,
   "metadata": {},
   "outputs": [
    {
     "name": "stdout",
     "output_type": "stream",
     "text": [
      "Help on function cctx_download in module visualizations:\n",
      "\n",
      "cctx_download(lvls, cripto, exchange)\n",
      "    Function that returns prices and quantities of given levels (as integer) Bids & Asks in an Orderbook\n",
      "    for the specified criptocurrency ('BTC/USDT','ETH/USDT','XRP/USDT', or others) and\n",
      "    from the following exchanges: binance, ftx or ascendex (as string).\n",
      "    \n",
      "        Parameters:\n",
      "        ----------\n",
      "        lvls: Levels of bids/asks in the Order Book (int).\n",
      "        cripto: Criptocurrency downloadable symbol (str).\n",
      "        exchanges: Criptocurrency downloadable Exchange (str).\n",
      "    \n",
      "        Returns:\n",
      "        -------\n",
      "        levels_ob_bid: Prices and Quantities of Bids (pos [0]) and Asks (pos [1]) as dataframes.\n",
      "\n"
     ]
    }
   ],
   "source": [
    "help(vs.cctx_download)"
   ]
  },
  {
   "cell_type": "markdown",
   "metadata": {},
   "source": [
    "We get n=25 levels for each OB, and proceed to download criptos and exchanges from their lists [0:2] (9).\n",
    "\n",
    "We will start with binance and BTC/USDT."
   ]
  },
  {
   "cell_type": "code",
   "execution_count": 7,
   "metadata": {},
   "outputs": [
    {
     "data": {
      "text/plain": [
       "(25, 'BTC/USDT', 'binance')"
      ]
     },
     "execution_count": 7,
     "metadata": {},
     "output_type": "execute_result"
    }
   ],
   "source": [
    "params= 25, criptos[0], exchanges[0]\n",
    "params"
   ]
  },
  {
   "cell_type": "markdown",
   "metadata": {},
   "source": [
    "+ <font color= lightgray> <font size = 2> *Bids*: </font>"
   ]
  },
  {
   "cell_type": "code",
   "execution_count": 8,
   "metadata": {},
   "outputs": [
    {
     "data": {
      "text/html": [
       "<div>\n",
       "<style scoped>\n",
       "    .dataframe tbody tr th:only-of-type {\n",
       "        vertical-align: middle;\n",
       "    }\n",
       "\n",
       "    .dataframe tbody tr th {\n",
       "        vertical-align: top;\n",
       "    }\n",
       "\n",
       "    .dataframe thead th {\n",
       "        text-align: right;\n",
       "    }\n",
       "</style>\n",
       "<table border=\"1\" class=\"dataframe\">\n",
       "  <thead>\n",
       "    <tr style=\"text-align: right;\">\n",
       "      <th></th>\n",
       "      <th>price</th>\n",
       "      <th>quantity</th>\n",
       "    </tr>\n",
       "    <tr>\n",
       "      <th>Bid_Lvl</th>\n",
       "      <th></th>\n",
       "      <th></th>\n",
       "    </tr>\n",
       "  </thead>\n",
       "  <tbody>\n",
       "    <tr>\n",
       "      <th>0</th>\n",
       "      <td>17395.07</td>\n",
       "      <td>0.04000</td>\n",
       "    </tr>\n",
       "    <tr>\n",
       "      <th>1</th>\n",
       "      <td>17395.06</td>\n",
       "      <td>0.00672</td>\n",
       "    </tr>\n",
       "    <tr>\n",
       "      <th>2</th>\n",
       "      <td>17394.68</td>\n",
       "      <td>0.05111</td>\n",
       "    </tr>\n",
       "    <tr>\n",
       "      <th>3</th>\n",
       "      <td>17394.67</td>\n",
       "      <td>0.05000</td>\n",
       "    </tr>\n",
       "    <tr>\n",
       "      <th>4</th>\n",
       "      <td>17394.32</td>\n",
       "      <td>0.01200</td>\n",
       "    </tr>\n",
       "  </tbody>\n",
       "</table>\n",
       "</div>"
      ],
      "text/plain": [
       "            price  quantity\n",
       "Bid_Lvl                    \n",
       "0        17395.07   0.04000\n",
       "1        17395.06   0.00672\n",
       "2        17394.68   0.05111\n",
       "3        17394.67   0.05000\n",
       "4        17394.32   0.01200"
      ]
     },
     "execution_count": 8,
     "metadata": {},
     "output_type": "execute_result"
    }
   ],
   "source": [
    "ob_lvls=vs.cctx_download(params[0],params[1], params[2])\n",
    "ob_lvls[0].head()"
   ]
  },
  {
   "cell_type": "markdown",
   "metadata": {},
   "source": [
    "+ <font color= lightgray> <font size = 2> *Asks*: </font>"
   ]
  },
  {
   "cell_type": "code",
   "execution_count": 9,
   "metadata": {},
   "outputs": [
    {
     "data": {
      "text/html": [
       "<div>\n",
       "<style scoped>\n",
       "    .dataframe tbody tr th:only-of-type {\n",
       "        vertical-align: middle;\n",
       "    }\n",
       "\n",
       "    .dataframe tbody tr th {\n",
       "        vertical-align: top;\n",
       "    }\n",
       "\n",
       "    .dataframe thead th {\n",
       "        text-align: right;\n",
       "    }\n",
       "</style>\n",
       "<table border=\"1\" class=\"dataframe\">\n",
       "  <thead>\n",
       "    <tr style=\"text-align: right;\">\n",
       "      <th></th>\n",
       "      <th>price</th>\n",
       "      <th>quantity</th>\n",
       "    </tr>\n",
       "    <tr>\n",
       "      <th>Ask_Lvl</th>\n",
       "      <th></th>\n",
       "      <th></th>\n",
       "    </tr>\n",
       "  </thead>\n",
       "  <tbody>\n",
       "    <tr>\n",
       "      <th>0</th>\n",
       "      <td>17396.79</td>\n",
       "      <td>0.14378</td>\n",
       "    </tr>\n",
       "    <tr>\n",
       "      <th>1</th>\n",
       "      <td>17396.80</td>\n",
       "      <td>0.00589</td>\n",
       "    </tr>\n",
       "    <tr>\n",
       "      <th>2</th>\n",
       "      <td>17397.18</td>\n",
       "      <td>0.06250</td>\n",
       "    </tr>\n",
       "    <tr>\n",
       "      <th>3</th>\n",
       "      <td>17397.19</td>\n",
       "      <td>0.00600</td>\n",
       "    </tr>\n",
       "    <tr>\n",
       "      <th>4</th>\n",
       "      <td>17397.50</td>\n",
       "      <td>0.00663</td>\n",
       "    </tr>\n",
       "  </tbody>\n",
       "</table>\n",
       "</div>"
      ],
      "text/plain": [
       "            price  quantity\n",
       "Ask_Lvl                    \n",
       "0        17396.79   0.14378\n",
       "1        17396.80   0.00589\n",
       "2        17397.18   0.06250\n",
       "3        17397.19   0.00600\n",
       "4        17397.50   0.00663"
      ]
     },
     "execution_count": 9,
     "metadata": {},
     "output_type": "execute_result"
    }
   ],
   "source": [
    "ob_lvls[1].head()"
   ]
  },
  {
   "cell_type": "code",
   "execution_count": 10,
   "metadata": {},
   "outputs": [
    {
     "data": {
      "text/html": [
       "<div>\n",
       "<style scoped>\n",
       "    .dataframe tbody tr th:only-of-type {\n",
       "        vertical-align: middle;\n",
       "    }\n",
       "\n",
       "    .dataframe tbody tr th {\n",
       "        vertical-align: top;\n",
       "    }\n",
       "\n",
       "    .dataframe thead th {\n",
       "        text-align: right;\n",
       "    }\n",
       "</style>\n",
       "<table border=\"1\" class=\"dataframe\">\n",
       "  <thead>\n",
       "    <tr style=\"text-align: right;\">\n",
       "      <th></th>\n",
       "      <th>exchange</th>\n",
       "      <th>timestamp</th>\n",
       "      <th>open</th>\n",
       "      <th>high</th>\n",
       "      <th>low</th>\n",
       "      <th>close</th>\n",
       "      <th>volume</th>\n",
       "    </tr>\n",
       "    <tr>\n",
       "      <th>OHLCV</th>\n",
       "      <th></th>\n",
       "      <th></th>\n",
       "      <th></th>\n",
       "      <th></th>\n",
       "      <th></th>\n",
       "      <th></th>\n",
       "      <th></th>\n",
       "    </tr>\n",
       "  </thead>\n",
       "  <tbody>\n",
       "    <tr>\n",
       "      <th>0</th>\n",
       "      <td>binance</td>\n",
       "      <td>2022-11-10T18:14:16.194Z</td>\n",
       "      <td>17205.47</td>\n",
       "      <td>17269.0</td>\n",
       "      <td>17190.04</td>\n",
       "      <td>17260.11</td>\n",
       "      <td>612.15596</td>\n",
       "    </tr>\n",
       "  </tbody>\n",
       "</table>\n",
       "</div>"
      ],
      "text/plain": [
       "      exchange                 timestamp      open     high       low  \\\n",
       "OHLCV                                                                   \n",
       "0      binance  2022-11-10T18:14:16.194Z  17205.47  17269.0  17190.04   \n",
       "\n",
       "          close     volume  \n",
       "OHLCV                       \n",
       "0      17260.11  612.15596  "
      ]
     },
     "execution_count": 10,
     "metadata": {},
     "output_type": "execute_result"
    }
   ],
   "source": [
    "ob_lvls[2]"
   ]
  },
  {
   "cell_type": "markdown",
   "metadata": {},
   "source": [
    "We plot an **Order Book** for desired tickers and exchanges the visualization *OBLvls*."
   ]
  },
  {
   "cell_type": "code",
   "execution_count": 11,
   "metadata": {},
   "outputs": [
    {
     "name": "stdout",
     "output_type": "stream",
     "text": [
      "Help on function OBLvls_hist in module visualizations:\n",
      "\n",
      "OBLvls_hist(lvls, cripto, exchange)\n",
      "    Function that plots an horizontal histogram in plotly for CriptoCurrencies OB/\n",
      "    \n",
      "        Parameters\n",
      "        ----------\n",
      "        lvls: Levels of bids/asks in the Order Book (int).\n",
      "        cripto: Criptocurrency downloadable symbol (str).\n",
      "        exchanges: Criptocurrency downloadable Exchange (str).\n",
      "    \n",
      "        x: Quantity (col) of the given cripto (str) for given lvls (int) in Order Book.\n",
      "        y: Prices (col) of the given cripto (str) for given lvls (int) in Order Book.\n",
      "    \n",
      "        Returns\n",
      "        -------\n",
      "        Histogram of Order Book prices and quantities for n given lvls.\n",
      "\n"
     ]
    }
   ],
   "source": [
    "help(vs.OBLvls_hist)"
   ]
  },
  {
   "cell_type": "code",
   "execution_count": 12,
   "metadata": {},
   "outputs": [
    {
     "data": {
      "application/vnd.plotly.v1+json": {
       "config": {
        "plotlyServerURL": "https://plot.ly"
       },
       "data": [
        {
         "orientation": "h",
         "type": "bar",
         "x": [
          0.00743,
          0.00233,
          0.00664,
          0.13144,
          0.00447,
          0.00383,
          0.10385,
          0.03,
          0.00686,
          0.05,
          0.00438,
          0.00176,
          0.2,
          0.17532,
          0.27176,
          0.31371,
          0.04914,
          0.05,
          0.0029,
          0.00355,
          0.09824,
          0.00548,
          0.17238,
          0.17238,
          0.03467
         ],
         "y": [
          "17381.33",
          "17381.34",
          "17382.24",
          "17382.78",
          "17382.79",
          "17382.82",
          "17382.89",
          "17383.42",
          "17383.68",
          "17383.78",
          "17383.92",
          "17383.96",
          "17383.98",
          "17384.02",
          "17384.03",
          "17384.05",
          "17384.06",
          "17384.07",
          "17384.3",
          "17384.31",
          "17384.4",
          "17384.44",
          "17384.76",
          "17385.11",
          "17385.13"
         ]
        },
        {
         "orientation": "h",
         "type": "bar",
         "x": [
          0.0533,
          0.001,
          0.0039,
          0.00095,
          0.00465,
          0.00311,
          0.05,
          0.00123,
          0.00415,
          0.006,
          0.34524,
          0.03118,
          0.00058,
          0.0052,
          0.00235,
          0.08328,
          0.01438,
          0.00304,
          0.00214,
          0.00216,
          0.00061,
          0.00069,
          0.00279,
          0.00136,
          0.00097
         ],
         "y": [
          "17380.0",
          "17379.92",
          "17379.88",
          "17379.78",
          "17379.76",
          "17379.74",
          "17379.67",
          "17379.64",
          "17379.55",
          "17379.41",
          "17379.3",
          "17379.27",
          "17379.26",
          "17379.24",
          "17378.99",
          "17378.74",
          "17378.72",
          "17378.71",
          "17378.35",
          "17378.0",
          "17377.79",
          "17377.78",
          "17377.49",
          "17377.44",
          "17377.28"
         ]
        }
       ],
       "layout": {
        "template": {
         "data": {
          "bar": [
           {
            "error_x": {
             "color": "#2a3f5f"
            },
            "error_y": {
             "color": "#2a3f5f"
            },
            "marker": {
             "line": {
              "color": "#E5ECF6",
              "width": 0.5
             },
             "pattern": {
              "fillmode": "overlay",
              "size": 10,
              "solidity": 0.2
             }
            },
            "type": "bar"
           }
          ],
          "barpolar": [
           {
            "marker": {
             "line": {
              "color": "#E5ECF6",
              "width": 0.5
             },
             "pattern": {
              "fillmode": "overlay",
              "size": 10,
              "solidity": 0.2
             }
            },
            "type": "barpolar"
           }
          ],
          "carpet": [
           {
            "aaxis": {
             "endlinecolor": "#2a3f5f",
             "gridcolor": "white",
             "linecolor": "white",
             "minorgridcolor": "white",
             "startlinecolor": "#2a3f5f"
            },
            "baxis": {
             "endlinecolor": "#2a3f5f",
             "gridcolor": "white",
             "linecolor": "white",
             "minorgridcolor": "white",
             "startlinecolor": "#2a3f5f"
            },
            "type": "carpet"
           }
          ],
          "choropleth": [
           {
            "colorbar": {
             "outlinewidth": 0,
             "ticks": ""
            },
            "type": "choropleth"
           }
          ],
          "contour": [
           {
            "colorbar": {
             "outlinewidth": 0,
             "ticks": ""
            },
            "colorscale": [
             [
              0,
              "#0d0887"
             ],
             [
              0.1111111111111111,
              "#46039f"
             ],
             [
              0.2222222222222222,
              "#7201a8"
             ],
             [
              0.3333333333333333,
              "#9c179e"
             ],
             [
              0.4444444444444444,
              "#bd3786"
             ],
             [
              0.5555555555555556,
              "#d8576b"
             ],
             [
              0.6666666666666666,
              "#ed7953"
             ],
             [
              0.7777777777777778,
              "#fb9f3a"
             ],
             [
              0.8888888888888888,
              "#fdca26"
             ],
             [
              1,
              "#f0f921"
             ]
            ],
            "type": "contour"
           }
          ],
          "contourcarpet": [
           {
            "colorbar": {
             "outlinewidth": 0,
             "ticks": ""
            },
            "type": "contourcarpet"
           }
          ],
          "heatmap": [
           {
            "colorbar": {
             "outlinewidth": 0,
             "ticks": ""
            },
            "colorscale": [
             [
              0,
              "#0d0887"
             ],
             [
              0.1111111111111111,
              "#46039f"
             ],
             [
              0.2222222222222222,
              "#7201a8"
             ],
             [
              0.3333333333333333,
              "#9c179e"
             ],
             [
              0.4444444444444444,
              "#bd3786"
             ],
             [
              0.5555555555555556,
              "#d8576b"
             ],
             [
              0.6666666666666666,
              "#ed7953"
             ],
             [
              0.7777777777777778,
              "#fb9f3a"
             ],
             [
              0.8888888888888888,
              "#fdca26"
             ],
             [
              1,
              "#f0f921"
             ]
            ],
            "type": "heatmap"
           }
          ],
          "heatmapgl": [
           {
            "colorbar": {
             "outlinewidth": 0,
             "ticks": ""
            },
            "colorscale": [
             [
              0,
              "#0d0887"
             ],
             [
              0.1111111111111111,
              "#46039f"
             ],
             [
              0.2222222222222222,
              "#7201a8"
             ],
             [
              0.3333333333333333,
              "#9c179e"
             ],
             [
              0.4444444444444444,
              "#bd3786"
             ],
             [
              0.5555555555555556,
              "#d8576b"
             ],
             [
              0.6666666666666666,
              "#ed7953"
             ],
             [
              0.7777777777777778,
              "#fb9f3a"
             ],
             [
              0.8888888888888888,
              "#fdca26"
             ],
             [
              1,
              "#f0f921"
             ]
            ],
            "type": "heatmapgl"
           }
          ],
          "histogram": [
           {
            "marker": {
             "pattern": {
              "fillmode": "overlay",
              "size": 10,
              "solidity": 0.2
             }
            },
            "type": "histogram"
           }
          ],
          "histogram2d": [
           {
            "colorbar": {
             "outlinewidth": 0,
             "ticks": ""
            },
            "colorscale": [
             [
              0,
              "#0d0887"
             ],
             [
              0.1111111111111111,
              "#46039f"
             ],
             [
              0.2222222222222222,
              "#7201a8"
             ],
             [
              0.3333333333333333,
              "#9c179e"
             ],
             [
              0.4444444444444444,
              "#bd3786"
             ],
             [
              0.5555555555555556,
              "#d8576b"
             ],
             [
              0.6666666666666666,
              "#ed7953"
             ],
             [
              0.7777777777777778,
              "#fb9f3a"
             ],
             [
              0.8888888888888888,
              "#fdca26"
             ],
             [
              1,
              "#f0f921"
             ]
            ],
            "type": "histogram2d"
           }
          ],
          "histogram2dcontour": [
           {
            "colorbar": {
             "outlinewidth": 0,
             "ticks": ""
            },
            "colorscale": [
             [
              0,
              "#0d0887"
             ],
             [
              0.1111111111111111,
              "#46039f"
             ],
             [
              0.2222222222222222,
              "#7201a8"
             ],
             [
              0.3333333333333333,
              "#9c179e"
             ],
             [
              0.4444444444444444,
              "#bd3786"
             ],
             [
              0.5555555555555556,
              "#d8576b"
             ],
             [
              0.6666666666666666,
              "#ed7953"
             ],
             [
              0.7777777777777778,
              "#fb9f3a"
             ],
             [
              0.8888888888888888,
              "#fdca26"
             ],
             [
              1,
              "#f0f921"
             ]
            ],
            "type": "histogram2dcontour"
           }
          ],
          "mesh3d": [
           {
            "colorbar": {
             "outlinewidth": 0,
             "ticks": ""
            },
            "type": "mesh3d"
           }
          ],
          "parcoords": [
           {
            "line": {
             "colorbar": {
              "outlinewidth": 0,
              "ticks": ""
             }
            },
            "type": "parcoords"
           }
          ],
          "pie": [
           {
            "automargin": true,
            "type": "pie"
           }
          ],
          "scatter": [
           {
            "marker": {
             "colorbar": {
              "outlinewidth": 0,
              "ticks": ""
             }
            },
            "type": "scatter"
           }
          ],
          "scatter3d": [
           {
            "line": {
             "colorbar": {
              "outlinewidth": 0,
              "ticks": ""
             }
            },
            "marker": {
             "colorbar": {
              "outlinewidth": 0,
              "ticks": ""
             }
            },
            "type": "scatter3d"
           }
          ],
          "scattercarpet": [
           {
            "marker": {
             "colorbar": {
              "outlinewidth": 0,
              "ticks": ""
             }
            },
            "type": "scattercarpet"
           }
          ],
          "scattergeo": [
           {
            "marker": {
             "colorbar": {
              "outlinewidth": 0,
              "ticks": ""
             }
            },
            "type": "scattergeo"
           }
          ],
          "scattergl": [
           {
            "marker": {
             "colorbar": {
              "outlinewidth": 0,
              "ticks": ""
             }
            },
            "type": "scattergl"
           }
          ],
          "scattermapbox": [
           {
            "marker": {
             "colorbar": {
              "outlinewidth": 0,
              "ticks": ""
             }
            },
            "type": "scattermapbox"
           }
          ],
          "scatterpolar": [
           {
            "marker": {
             "colorbar": {
              "outlinewidth": 0,
              "ticks": ""
             }
            },
            "type": "scatterpolar"
           }
          ],
          "scatterpolargl": [
           {
            "marker": {
             "colorbar": {
              "outlinewidth": 0,
              "ticks": ""
             }
            },
            "type": "scatterpolargl"
           }
          ],
          "scatterternary": [
           {
            "marker": {
             "colorbar": {
              "outlinewidth": 0,
              "ticks": ""
             }
            },
            "type": "scatterternary"
           }
          ],
          "surface": [
           {
            "colorbar": {
             "outlinewidth": 0,
             "ticks": ""
            },
            "colorscale": [
             [
              0,
              "#0d0887"
             ],
             [
              0.1111111111111111,
              "#46039f"
             ],
             [
              0.2222222222222222,
              "#7201a8"
             ],
             [
              0.3333333333333333,
              "#9c179e"
             ],
             [
              0.4444444444444444,
              "#bd3786"
             ],
             [
              0.5555555555555556,
              "#d8576b"
             ],
             [
              0.6666666666666666,
              "#ed7953"
             ],
             [
              0.7777777777777778,
              "#fb9f3a"
             ],
             [
              0.8888888888888888,
              "#fdca26"
             ],
             [
              1,
              "#f0f921"
             ]
            ],
            "type": "surface"
           }
          ],
          "table": [
           {
            "cells": {
             "fill": {
              "color": "#EBF0F8"
             },
             "line": {
              "color": "white"
             }
            },
            "header": {
             "fill": {
              "color": "#C8D4E3"
             },
             "line": {
              "color": "white"
             }
            },
            "type": "table"
           }
          ]
         },
         "layout": {
          "annotationdefaults": {
           "arrowcolor": "#2a3f5f",
           "arrowhead": 0,
           "arrowwidth": 1
          },
          "autotypenumbers": "strict",
          "coloraxis": {
           "colorbar": {
            "outlinewidth": 0,
            "ticks": ""
           }
          },
          "colorscale": {
           "diverging": [
            [
             0,
             "#8e0152"
            ],
            [
             0.1,
             "#c51b7d"
            ],
            [
             0.2,
             "#de77ae"
            ],
            [
             0.3,
             "#f1b6da"
            ],
            [
             0.4,
             "#fde0ef"
            ],
            [
             0.5,
             "#f7f7f7"
            ],
            [
             0.6,
             "#e6f5d0"
            ],
            [
             0.7,
             "#b8e186"
            ],
            [
             0.8,
             "#7fbc41"
            ],
            [
             0.9,
             "#4d9221"
            ],
            [
             1,
             "#276419"
            ]
           ],
           "sequential": [
            [
             0,
             "#0d0887"
            ],
            [
             0.1111111111111111,
             "#46039f"
            ],
            [
             0.2222222222222222,
             "#7201a8"
            ],
            [
             0.3333333333333333,
             "#9c179e"
            ],
            [
             0.4444444444444444,
             "#bd3786"
            ],
            [
             0.5555555555555556,
             "#d8576b"
            ],
            [
             0.6666666666666666,
             "#ed7953"
            ],
            [
             0.7777777777777778,
             "#fb9f3a"
            ],
            [
             0.8888888888888888,
             "#fdca26"
            ],
            [
             1,
             "#f0f921"
            ]
           ],
           "sequentialminus": [
            [
             0,
             "#0d0887"
            ],
            [
             0.1111111111111111,
             "#46039f"
            ],
            [
             0.2222222222222222,
             "#7201a8"
            ],
            [
             0.3333333333333333,
             "#9c179e"
            ],
            [
             0.4444444444444444,
             "#bd3786"
            ],
            [
             0.5555555555555556,
             "#d8576b"
            ],
            [
             0.6666666666666666,
             "#ed7953"
            ],
            [
             0.7777777777777778,
             "#fb9f3a"
            ],
            [
             0.8888888888888888,
             "#fdca26"
            ],
            [
             1,
             "#f0f921"
            ]
           ]
          },
          "colorway": [
           "#636efa",
           "#EF553B",
           "#00cc96",
           "#ab63fa",
           "#FFA15A",
           "#19d3f3",
           "#FF6692",
           "#B6E880",
           "#FF97FF",
           "#FECB52"
          ],
          "font": {
           "color": "#2a3f5f"
          },
          "geo": {
           "bgcolor": "white",
           "lakecolor": "white",
           "landcolor": "#E5ECF6",
           "showlakes": true,
           "showland": true,
           "subunitcolor": "white"
          },
          "hoverlabel": {
           "align": "left"
          },
          "hovermode": "closest",
          "mapbox": {
           "style": "light"
          },
          "paper_bgcolor": "white",
          "plot_bgcolor": "#E5ECF6",
          "polar": {
           "angularaxis": {
            "gridcolor": "white",
            "linecolor": "white",
            "ticks": ""
           },
           "bgcolor": "#E5ECF6",
           "radialaxis": {
            "gridcolor": "white",
            "linecolor": "white",
            "ticks": ""
           }
          },
          "scene": {
           "xaxis": {
            "backgroundcolor": "#E5ECF6",
            "gridcolor": "white",
            "gridwidth": 2,
            "linecolor": "white",
            "showbackground": true,
            "ticks": "",
            "zerolinecolor": "white"
           },
           "yaxis": {
            "backgroundcolor": "#E5ECF6",
            "gridcolor": "white",
            "gridwidth": 2,
            "linecolor": "white",
            "showbackground": true,
            "ticks": "",
            "zerolinecolor": "white"
           },
           "zaxis": {
            "backgroundcolor": "#E5ECF6",
            "gridcolor": "white",
            "gridwidth": 2,
            "linecolor": "white",
            "showbackground": true,
            "ticks": "",
            "zerolinecolor": "white"
           }
          },
          "shapedefaults": {
           "line": {
            "color": "#2a3f5f"
           }
          },
          "ternary": {
           "aaxis": {
            "gridcolor": "white",
            "linecolor": "white",
            "ticks": ""
           },
           "baxis": {
            "gridcolor": "white",
            "linecolor": "white",
            "ticks": ""
           },
           "bgcolor": "#E5ECF6",
           "caxis": {
            "gridcolor": "white",
            "linecolor": "white",
            "ticks": ""
           }
          },
          "title": {
           "x": 0.05
          },
          "xaxis": {
           "automargin": true,
           "gridcolor": "white",
           "linecolor": "white",
           "ticks": "",
           "title": {
            "standoff": 15
           },
           "zerolinecolor": "white",
           "zerolinewidth": 2
          },
          "yaxis": {
           "automargin": true,
           "gridcolor": "white",
           "linecolor": "white",
           "ticks": "",
           "title": {
            "standoff": 15
           },
           "zerolinecolor": "white",
           "zerolinewidth": 2
          }
         }
        },
        "title": {
         "font": {
          "size": 15
         },
         "text": "Single Order Book from binance, BTC/USDT Mid-Price: 17380.665"
        }
       }
      }
     },
     "metadata": {},
     "output_type": "display_data"
    }
   ],
   "source": [
    "vs.OBLvls_hist(params[0],params[1], params[2])"
   ]
  },
  {
   "cell_type": "markdown",
   "metadata": {},
   "source": [
    "We will proceed for binance and ETH/USDT."
   ]
  },
  {
   "cell_type": "code",
   "execution_count": 13,
   "metadata": {},
   "outputs": [
    {
     "data": {
      "text/plain": [
       "(25, 'ETH/USDT', 'binance')"
      ]
     },
     "execution_count": 13,
     "metadata": {},
     "output_type": "execute_result"
    }
   ],
   "source": [
    "params= 25, criptos[1], exchanges[0]\n",
    "params"
   ]
  },
  {
   "cell_type": "code",
   "execution_count": 14,
   "metadata": {},
   "outputs": [
    {
     "data": {
      "text/html": [
       "<div>\n",
       "<style scoped>\n",
       "    .dataframe tbody tr th:only-of-type {\n",
       "        vertical-align: middle;\n",
       "    }\n",
       "\n",
       "    .dataframe tbody tr th {\n",
       "        vertical-align: top;\n",
       "    }\n",
       "\n",
       "    .dataframe thead th {\n",
       "        text-align: right;\n",
       "    }\n",
       "</style>\n",
       "<table border=\"1\" class=\"dataframe\">\n",
       "  <thead>\n",
       "    <tr style=\"text-align: right;\">\n",
       "      <th></th>\n",
       "      <th>price</th>\n",
       "      <th>quantity</th>\n",
       "    </tr>\n",
       "    <tr>\n",
       "      <th>Bid_Lvl</th>\n",
       "      <th></th>\n",
       "      <th></th>\n",
       "    </tr>\n",
       "  </thead>\n",
       "  <tbody>\n",
       "    <tr>\n",
       "      <th>0</th>\n",
       "      <td>1275.97</td>\n",
       "      <td>3.7793</td>\n",
       "    </tr>\n",
       "    <tr>\n",
       "      <th>1</th>\n",
       "      <td>1275.87</td>\n",
       "      <td>0.0500</td>\n",
       "    </tr>\n",
       "    <tr>\n",
       "      <th>2</th>\n",
       "      <td>1275.85</td>\n",
       "      <td>0.0156</td>\n",
       "    </tr>\n",
       "    <tr>\n",
       "      <th>3</th>\n",
       "      <td>1275.70</td>\n",
       "      <td>0.3817</td>\n",
       "    </tr>\n",
       "    <tr>\n",
       "      <th>4</th>\n",
       "      <td>1275.44</td>\n",
       "      <td>1.0732</td>\n",
       "    </tr>\n",
       "  </tbody>\n",
       "</table>\n",
       "</div>"
      ],
      "text/plain": [
       "           price  quantity\n",
       "Bid_Lvl                   \n",
       "0        1275.97    3.7793\n",
       "1        1275.87    0.0500\n",
       "2        1275.85    0.0156\n",
       "3        1275.70    0.3817\n",
       "4        1275.44    1.0732"
      ]
     },
     "execution_count": 14,
     "metadata": {},
     "output_type": "execute_result"
    }
   ],
   "source": [
    "ob_lvls=vs.cctx_download(params[0],params[1], params[2])\n",
    "ob_lvls[0].head()"
   ]
  },
  {
   "cell_type": "code",
   "execution_count": 15,
   "metadata": {},
   "outputs": [
    {
     "data": {
      "text/html": [
       "<div>\n",
       "<style scoped>\n",
       "    .dataframe tbody tr th:only-of-type {\n",
       "        vertical-align: middle;\n",
       "    }\n",
       "\n",
       "    .dataframe tbody tr th {\n",
       "        vertical-align: top;\n",
       "    }\n",
       "\n",
       "    .dataframe thead th {\n",
       "        text-align: right;\n",
       "    }\n",
       "</style>\n",
       "<table border=\"1\" class=\"dataframe\">\n",
       "  <thead>\n",
       "    <tr style=\"text-align: right;\">\n",
       "      <th></th>\n",
       "      <th>price</th>\n",
       "      <th>quantity</th>\n",
       "    </tr>\n",
       "    <tr>\n",
       "      <th>Ask_Lvl</th>\n",
       "      <th></th>\n",
       "      <th></th>\n",
       "    </tr>\n",
       "  </thead>\n",
       "  <tbody>\n",
       "    <tr>\n",
       "      <th>0</th>\n",
       "      <td>1275.98</td>\n",
       "      <td>2.3399</td>\n",
       "    </tr>\n",
       "    <tr>\n",
       "      <th>1</th>\n",
       "      <td>1276.10</td>\n",
       "      <td>0.5000</td>\n",
       "    </tr>\n",
       "    <tr>\n",
       "      <th>2</th>\n",
       "      <td>1276.11</td>\n",
       "      <td>0.5581</td>\n",
       "    </tr>\n",
       "    <tr>\n",
       "      <th>3</th>\n",
       "      <td>1276.13</td>\n",
       "      <td>0.0930</td>\n",
       "    </tr>\n",
       "    <tr>\n",
       "      <th>4</th>\n",
       "      <td>1276.26</td>\n",
       "      <td>0.0432</td>\n",
       "    </tr>\n",
       "  </tbody>\n",
       "</table>\n",
       "</div>"
      ],
      "text/plain": [
       "           price  quantity\n",
       "Ask_Lvl                   \n",
       "0        1275.98    2.3399\n",
       "1        1276.10    0.5000\n",
       "2        1276.11    0.5581\n",
       "3        1276.13    0.0930\n",
       "4        1276.26    0.0432"
      ]
     },
     "execution_count": 15,
     "metadata": {},
     "output_type": "execute_result"
    }
   ],
   "source": [
    "ob_lvls[1].head()"
   ]
  },
  {
   "cell_type": "code",
   "execution_count": 16,
   "metadata": {},
   "outputs": [
    {
     "data": {
      "text/html": [
       "<div>\n",
       "<style scoped>\n",
       "    .dataframe tbody tr th:only-of-type {\n",
       "        vertical-align: middle;\n",
       "    }\n",
       "\n",
       "    .dataframe tbody tr th {\n",
       "        vertical-align: top;\n",
       "    }\n",
       "\n",
       "    .dataframe thead th {\n",
       "        text-align: right;\n",
       "    }\n",
       "</style>\n",
       "<table border=\"1\" class=\"dataframe\">\n",
       "  <thead>\n",
       "    <tr style=\"text-align: right;\">\n",
       "      <th></th>\n",
       "      <th>exchange</th>\n",
       "      <th>timestamp</th>\n",
       "      <th>open</th>\n",
       "      <th>high</th>\n",
       "      <th>low</th>\n",
       "      <th>close</th>\n",
       "      <th>volume</th>\n",
       "    </tr>\n",
       "    <tr>\n",
       "      <th>OHLCV</th>\n",
       "      <th></th>\n",
       "      <th></th>\n",
       "      <th></th>\n",
       "      <th></th>\n",
       "      <th></th>\n",
       "      <th></th>\n",
       "      <th></th>\n",
       "    </tr>\n",
       "  </thead>\n",
       "  <tbody>\n",
       "    <tr>\n",
       "      <th>0</th>\n",
       "      <td>binance</td>\n",
       "      <td>2022-11-10T18:14:20.530Z</td>\n",
       "      <td>1259.74</td>\n",
       "      <td>1267.41</td>\n",
       "      <td>1258.44</td>\n",
       "      <td>1264.93</td>\n",
       "      <td>1680.795</td>\n",
       "    </tr>\n",
       "  </tbody>\n",
       "</table>\n",
       "</div>"
      ],
      "text/plain": [
       "      exchange                 timestamp     open     high      low    close  \\\n",
       "OHLCV                                                                          \n",
       "0      binance  2022-11-10T18:14:20.530Z  1259.74  1267.41  1258.44  1264.93   \n",
       "\n",
       "         volume  \n",
       "OHLCV            \n",
       "0      1680.795  "
      ]
     },
     "execution_count": 16,
     "metadata": {},
     "output_type": "execute_result"
    }
   ],
   "source": [
    "ob_lvls[2]"
   ]
  },
  {
   "cell_type": "code",
   "execution_count": 17,
   "metadata": {},
   "outputs": [
    {
     "data": {
      "application/vnd.plotly.v1+json": {
       "config": {
        "plotlyServerURL": "https://plot.ly"
       },
       "data": [
        {
         "orientation": "h",
         "type": "bar",
         "x": [
          4.0147,
          0.6313,
          0.5,
          0.0086,
          1.9589,
          0.9711,
          0.2577,
          1.2,
          1.5667,
          1.3918,
          0.7203,
          0.4572,
          0.19,
          4.3125,
          5.3117,
          1.9623,
          0.5,
          1.0623,
          2.9776,
          0.4632,
          3.5411,
          2.194,
          0.0432,
          1,
          0.9661
         ],
         "y": [
          "1276.2",
          "1276.29",
          "1276.32",
          "1276.33",
          "1276.36",
          "1276.45",
          "1276.46",
          "1276.47",
          "1276.5",
          "1276.51",
          "1276.53",
          "1276.55",
          "1276.58",
          "1276.61",
          "1276.62",
          "1276.63",
          "1276.64",
          "1276.67",
          "1276.7",
          "1276.74",
          "1276.75",
          "1276.76",
          "1276.77",
          "1276.78",
          "1276.8"
         ]
        },
        {
         "orientation": "h",
         "type": "bar",
         "x": [
          4.2005,
          0.1773,
          0.05,
          0.0156,
          0.3817,
          2.5175,
          6.2735,
          0.0202,
          0.0248,
          3.445,
          4.1479,
          2.6052,
          1.6817,
          3.6828,
          0.2,
          1.0623,
          0.4263,
          0.7,
          0.0432,
          0.949,
          0.9172,
          2.2923,
          1.0623,
          0.7,
          4.914
         ],
         "y": [
          "1276.19",
          "1276.18",
          "1276.08",
          "1275.98",
          "1275.94",
          "1275.88",
          "1275.87",
          "1275.86",
          "1275.8",
          "1275.54",
          "1275.53",
          "1275.52",
          "1275.51",
          "1275.5",
          "1275.49",
          "1275.45",
          "1275.42",
          "1275.38",
          "1275.24",
          "1275.17",
          "1275.16",
          "1275.15",
          "1275.14",
          "1275.06",
          "1275.02"
         ]
        }
       ],
       "layout": {
        "template": {
         "data": {
          "bar": [
           {
            "error_x": {
             "color": "#2a3f5f"
            },
            "error_y": {
             "color": "#2a3f5f"
            },
            "marker": {
             "line": {
              "color": "#E5ECF6",
              "width": 0.5
             },
             "pattern": {
              "fillmode": "overlay",
              "size": 10,
              "solidity": 0.2
             }
            },
            "type": "bar"
           }
          ],
          "barpolar": [
           {
            "marker": {
             "line": {
              "color": "#E5ECF6",
              "width": 0.5
             },
             "pattern": {
              "fillmode": "overlay",
              "size": 10,
              "solidity": 0.2
             }
            },
            "type": "barpolar"
           }
          ],
          "carpet": [
           {
            "aaxis": {
             "endlinecolor": "#2a3f5f",
             "gridcolor": "white",
             "linecolor": "white",
             "minorgridcolor": "white",
             "startlinecolor": "#2a3f5f"
            },
            "baxis": {
             "endlinecolor": "#2a3f5f",
             "gridcolor": "white",
             "linecolor": "white",
             "minorgridcolor": "white",
             "startlinecolor": "#2a3f5f"
            },
            "type": "carpet"
           }
          ],
          "choropleth": [
           {
            "colorbar": {
             "outlinewidth": 0,
             "ticks": ""
            },
            "type": "choropleth"
           }
          ],
          "contour": [
           {
            "colorbar": {
             "outlinewidth": 0,
             "ticks": ""
            },
            "colorscale": [
             [
              0,
              "#0d0887"
             ],
             [
              0.1111111111111111,
              "#46039f"
             ],
             [
              0.2222222222222222,
              "#7201a8"
             ],
             [
              0.3333333333333333,
              "#9c179e"
             ],
             [
              0.4444444444444444,
              "#bd3786"
             ],
             [
              0.5555555555555556,
              "#d8576b"
             ],
             [
              0.6666666666666666,
              "#ed7953"
             ],
             [
              0.7777777777777778,
              "#fb9f3a"
             ],
             [
              0.8888888888888888,
              "#fdca26"
             ],
             [
              1,
              "#f0f921"
             ]
            ],
            "type": "contour"
           }
          ],
          "contourcarpet": [
           {
            "colorbar": {
             "outlinewidth": 0,
             "ticks": ""
            },
            "type": "contourcarpet"
           }
          ],
          "heatmap": [
           {
            "colorbar": {
             "outlinewidth": 0,
             "ticks": ""
            },
            "colorscale": [
             [
              0,
              "#0d0887"
             ],
             [
              0.1111111111111111,
              "#46039f"
             ],
             [
              0.2222222222222222,
              "#7201a8"
             ],
             [
              0.3333333333333333,
              "#9c179e"
             ],
             [
              0.4444444444444444,
              "#bd3786"
             ],
             [
              0.5555555555555556,
              "#d8576b"
             ],
             [
              0.6666666666666666,
              "#ed7953"
             ],
             [
              0.7777777777777778,
              "#fb9f3a"
             ],
             [
              0.8888888888888888,
              "#fdca26"
             ],
             [
              1,
              "#f0f921"
             ]
            ],
            "type": "heatmap"
           }
          ],
          "heatmapgl": [
           {
            "colorbar": {
             "outlinewidth": 0,
             "ticks": ""
            },
            "colorscale": [
             [
              0,
              "#0d0887"
             ],
             [
              0.1111111111111111,
              "#46039f"
             ],
             [
              0.2222222222222222,
              "#7201a8"
             ],
             [
              0.3333333333333333,
              "#9c179e"
             ],
             [
              0.4444444444444444,
              "#bd3786"
             ],
             [
              0.5555555555555556,
              "#d8576b"
             ],
             [
              0.6666666666666666,
              "#ed7953"
             ],
             [
              0.7777777777777778,
              "#fb9f3a"
             ],
             [
              0.8888888888888888,
              "#fdca26"
             ],
             [
              1,
              "#f0f921"
             ]
            ],
            "type": "heatmapgl"
           }
          ],
          "histogram": [
           {
            "marker": {
             "pattern": {
              "fillmode": "overlay",
              "size": 10,
              "solidity": 0.2
             }
            },
            "type": "histogram"
           }
          ],
          "histogram2d": [
           {
            "colorbar": {
             "outlinewidth": 0,
             "ticks": ""
            },
            "colorscale": [
             [
              0,
              "#0d0887"
             ],
             [
              0.1111111111111111,
              "#46039f"
             ],
             [
              0.2222222222222222,
              "#7201a8"
             ],
             [
              0.3333333333333333,
              "#9c179e"
             ],
             [
              0.4444444444444444,
              "#bd3786"
             ],
             [
              0.5555555555555556,
              "#d8576b"
             ],
             [
              0.6666666666666666,
              "#ed7953"
             ],
             [
              0.7777777777777778,
              "#fb9f3a"
             ],
             [
              0.8888888888888888,
              "#fdca26"
             ],
             [
              1,
              "#f0f921"
             ]
            ],
            "type": "histogram2d"
           }
          ],
          "histogram2dcontour": [
           {
            "colorbar": {
             "outlinewidth": 0,
             "ticks": ""
            },
            "colorscale": [
             [
              0,
              "#0d0887"
             ],
             [
              0.1111111111111111,
              "#46039f"
             ],
             [
              0.2222222222222222,
              "#7201a8"
             ],
             [
              0.3333333333333333,
              "#9c179e"
             ],
             [
              0.4444444444444444,
              "#bd3786"
             ],
             [
              0.5555555555555556,
              "#d8576b"
             ],
             [
              0.6666666666666666,
              "#ed7953"
             ],
             [
              0.7777777777777778,
              "#fb9f3a"
             ],
             [
              0.8888888888888888,
              "#fdca26"
             ],
             [
              1,
              "#f0f921"
             ]
            ],
            "type": "histogram2dcontour"
           }
          ],
          "mesh3d": [
           {
            "colorbar": {
             "outlinewidth": 0,
             "ticks": ""
            },
            "type": "mesh3d"
           }
          ],
          "parcoords": [
           {
            "line": {
             "colorbar": {
              "outlinewidth": 0,
              "ticks": ""
             }
            },
            "type": "parcoords"
           }
          ],
          "pie": [
           {
            "automargin": true,
            "type": "pie"
           }
          ],
          "scatter": [
           {
            "marker": {
             "colorbar": {
              "outlinewidth": 0,
              "ticks": ""
             }
            },
            "type": "scatter"
           }
          ],
          "scatter3d": [
           {
            "line": {
             "colorbar": {
              "outlinewidth": 0,
              "ticks": ""
             }
            },
            "marker": {
             "colorbar": {
              "outlinewidth": 0,
              "ticks": ""
             }
            },
            "type": "scatter3d"
           }
          ],
          "scattercarpet": [
           {
            "marker": {
             "colorbar": {
              "outlinewidth": 0,
              "ticks": ""
             }
            },
            "type": "scattercarpet"
           }
          ],
          "scattergeo": [
           {
            "marker": {
             "colorbar": {
              "outlinewidth": 0,
              "ticks": ""
             }
            },
            "type": "scattergeo"
           }
          ],
          "scattergl": [
           {
            "marker": {
             "colorbar": {
              "outlinewidth": 0,
              "ticks": ""
             }
            },
            "type": "scattergl"
           }
          ],
          "scattermapbox": [
           {
            "marker": {
             "colorbar": {
              "outlinewidth": 0,
              "ticks": ""
             }
            },
            "type": "scattermapbox"
           }
          ],
          "scatterpolar": [
           {
            "marker": {
             "colorbar": {
              "outlinewidth": 0,
              "ticks": ""
             }
            },
            "type": "scatterpolar"
           }
          ],
          "scatterpolargl": [
           {
            "marker": {
             "colorbar": {
              "outlinewidth": 0,
              "ticks": ""
             }
            },
            "type": "scatterpolargl"
           }
          ],
          "scatterternary": [
           {
            "marker": {
             "colorbar": {
              "outlinewidth": 0,
              "ticks": ""
             }
            },
            "type": "scatterternary"
           }
          ],
          "surface": [
           {
            "colorbar": {
             "outlinewidth": 0,
             "ticks": ""
            },
            "colorscale": [
             [
              0,
              "#0d0887"
             ],
             [
              0.1111111111111111,
              "#46039f"
             ],
             [
              0.2222222222222222,
              "#7201a8"
             ],
             [
              0.3333333333333333,
              "#9c179e"
             ],
             [
              0.4444444444444444,
              "#bd3786"
             ],
             [
              0.5555555555555556,
              "#d8576b"
             ],
             [
              0.6666666666666666,
              "#ed7953"
             ],
             [
              0.7777777777777778,
              "#fb9f3a"
             ],
             [
              0.8888888888888888,
              "#fdca26"
             ],
             [
              1,
              "#f0f921"
             ]
            ],
            "type": "surface"
           }
          ],
          "table": [
           {
            "cells": {
             "fill": {
              "color": "#EBF0F8"
             },
             "line": {
              "color": "white"
             }
            },
            "header": {
             "fill": {
              "color": "#C8D4E3"
             },
             "line": {
              "color": "white"
             }
            },
            "type": "table"
           }
          ]
         },
         "layout": {
          "annotationdefaults": {
           "arrowcolor": "#2a3f5f",
           "arrowhead": 0,
           "arrowwidth": 1
          },
          "autotypenumbers": "strict",
          "coloraxis": {
           "colorbar": {
            "outlinewidth": 0,
            "ticks": ""
           }
          },
          "colorscale": {
           "diverging": [
            [
             0,
             "#8e0152"
            ],
            [
             0.1,
             "#c51b7d"
            ],
            [
             0.2,
             "#de77ae"
            ],
            [
             0.3,
             "#f1b6da"
            ],
            [
             0.4,
             "#fde0ef"
            ],
            [
             0.5,
             "#f7f7f7"
            ],
            [
             0.6,
             "#e6f5d0"
            ],
            [
             0.7,
             "#b8e186"
            ],
            [
             0.8,
             "#7fbc41"
            ],
            [
             0.9,
             "#4d9221"
            ],
            [
             1,
             "#276419"
            ]
           ],
           "sequential": [
            [
             0,
             "#0d0887"
            ],
            [
             0.1111111111111111,
             "#46039f"
            ],
            [
             0.2222222222222222,
             "#7201a8"
            ],
            [
             0.3333333333333333,
             "#9c179e"
            ],
            [
             0.4444444444444444,
             "#bd3786"
            ],
            [
             0.5555555555555556,
             "#d8576b"
            ],
            [
             0.6666666666666666,
             "#ed7953"
            ],
            [
             0.7777777777777778,
             "#fb9f3a"
            ],
            [
             0.8888888888888888,
             "#fdca26"
            ],
            [
             1,
             "#f0f921"
            ]
           ],
           "sequentialminus": [
            [
             0,
             "#0d0887"
            ],
            [
             0.1111111111111111,
             "#46039f"
            ],
            [
             0.2222222222222222,
             "#7201a8"
            ],
            [
             0.3333333333333333,
             "#9c179e"
            ],
            [
             0.4444444444444444,
             "#bd3786"
            ],
            [
             0.5555555555555556,
             "#d8576b"
            ],
            [
             0.6666666666666666,
             "#ed7953"
            ],
            [
             0.7777777777777778,
             "#fb9f3a"
            ],
            [
             0.8888888888888888,
             "#fdca26"
            ],
            [
             1,
             "#f0f921"
            ]
           ]
          },
          "colorway": [
           "#636efa",
           "#EF553B",
           "#00cc96",
           "#ab63fa",
           "#FFA15A",
           "#19d3f3",
           "#FF6692",
           "#B6E880",
           "#FF97FF",
           "#FECB52"
          ],
          "font": {
           "color": "#2a3f5f"
          },
          "geo": {
           "bgcolor": "white",
           "lakecolor": "white",
           "landcolor": "#E5ECF6",
           "showlakes": true,
           "showland": true,
           "subunitcolor": "white"
          },
          "hoverlabel": {
           "align": "left"
          },
          "hovermode": "closest",
          "mapbox": {
           "style": "light"
          },
          "paper_bgcolor": "white",
          "plot_bgcolor": "#E5ECF6",
          "polar": {
           "angularaxis": {
            "gridcolor": "white",
            "linecolor": "white",
            "ticks": ""
           },
           "bgcolor": "#E5ECF6",
           "radialaxis": {
            "gridcolor": "white",
            "linecolor": "white",
            "ticks": ""
           }
          },
          "scene": {
           "xaxis": {
            "backgroundcolor": "#E5ECF6",
            "gridcolor": "white",
            "gridwidth": 2,
            "linecolor": "white",
            "showbackground": true,
            "ticks": "",
            "zerolinecolor": "white"
           },
           "yaxis": {
            "backgroundcolor": "#E5ECF6",
            "gridcolor": "white",
            "gridwidth": 2,
            "linecolor": "white",
            "showbackground": true,
            "ticks": "",
            "zerolinecolor": "white"
           },
           "zaxis": {
            "backgroundcolor": "#E5ECF6",
            "gridcolor": "white",
            "gridwidth": 2,
            "linecolor": "white",
            "showbackground": true,
            "ticks": "",
            "zerolinecolor": "white"
           }
          },
          "shapedefaults": {
           "line": {
            "color": "#2a3f5f"
           }
          },
          "ternary": {
           "aaxis": {
            "gridcolor": "white",
            "linecolor": "white",
            "ticks": ""
           },
           "baxis": {
            "gridcolor": "white",
            "linecolor": "white",
            "ticks": ""
           },
           "bgcolor": "#E5ECF6",
           "caxis": {
            "gridcolor": "white",
            "linecolor": "white",
            "ticks": ""
           }
          },
          "title": {
           "x": 0.05
          },
          "xaxis": {
           "automargin": true,
           "gridcolor": "white",
           "linecolor": "white",
           "ticks": "",
           "title": {
            "standoff": 15
           },
           "zerolinecolor": "white",
           "zerolinewidth": 2
          },
          "yaxis": {
           "automargin": true,
           "gridcolor": "white",
           "linecolor": "white",
           "ticks": "",
           "title": {
            "standoff": 15
           },
           "zerolinecolor": "white",
           "zerolinewidth": 2
          }
         }
        },
        "title": {
         "font": {
          "size": 15
         },
         "text": "Single Order Book from binance, ETH/USDT Mid-Price: 1276.195"
        }
       }
      }
     },
     "metadata": {},
     "output_type": "display_data"
    }
   ],
   "source": [
    "vs.OBLvls_hist(params[0],params[1], params[2])"
   ]
  },
  {
   "cell_type": "markdown",
   "metadata": {},
   "source": [
    "We continue with the exchange binance and XRP/USDT."
   ]
  },
  {
   "cell_type": "code",
   "execution_count": 18,
   "metadata": {},
   "outputs": [
    {
     "data": {
      "text/plain": [
       "(25, 'XRP/USDT', 'binance')"
      ]
     },
     "execution_count": 18,
     "metadata": {},
     "output_type": "execute_result"
    }
   ],
   "source": [
    "params= 25, criptos[2], exchanges[0]\n",
    "params"
   ]
  },
  {
   "cell_type": "code",
   "execution_count": 19,
   "metadata": {},
   "outputs": [
    {
     "data": {
      "text/html": [
       "<div>\n",
       "<style scoped>\n",
       "    .dataframe tbody tr th:only-of-type {\n",
       "        vertical-align: middle;\n",
       "    }\n",
       "\n",
       "    .dataframe tbody tr th {\n",
       "        vertical-align: top;\n",
       "    }\n",
       "\n",
       "    .dataframe thead th {\n",
       "        text-align: right;\n",
       "    }\n",
       "</style>\n",
       "<table border=\"1\" class=\"dataframe\">\n",
       "  <thead>\n",
       "    <tr style=\"text-align: right;\">\n",
       "      <th></th>\n",
       "      <th>price</th>\n",
       "      <th>quantity</th>\n",
       "    </tr>\n",
       "    <tr>\n",
       "      <th>Bid_Lvl</th>\n",
       "      <th></th>\n",
       "      <th></th>\n",
       "    </tr>\n",
       "  </thead>\n",
       "  <tbody>\n",
       "    <tr>\n",
       "      <th>0</th>\n",
       "      <td>0.3802</td>\n",
       "      <td>8159.0</td>\n",
       "    </tr>\n",
       "    <tr>\n",
       "      <th>1</th>\n",
       "      <td>0.3801</td>\n",
       "      <td>11296.0</td>\n",
       "    </tr>\n",
       "    <tr>\n",
       "      <th>2</th>\n",
       "      <td>0.3800</td>\n",
       "      <td>9849.0</td>\n",
       "    </tr>\n",
       "    <tr>\n",
       "      <th>3</th>\n",
       "      <td>0.3799</td>\n",
       "      <td>27181.0</td>\n",
       "    </tr>\n",
       "    <tr>\n",
       "      <th>4</th>\n",
       "      <td>0.3798</td>\n",
       "      <td>125390.0</td>\n",
       "    </tr>\n",
       "  </tbody>\n",
       "</table>\n",
       "</div>"
      ],
      "text/plain": [
       "          price  quantity\n",
       "Bid_Lvl                  \n",
       "0        0.3802    8159.0\n",
       "1        0.3801   11296.0\n",
       "2        0.3800    9849.0\n",
       "3        0.3799   27181.0\n",
       "4        0.3798  125390.0"
      ]
     },
     "execution_count": 19,
     "metadata": {},
     "output_type": "execute_result"
    }
   ],
   "source": [
    "ob_lvls=vs.cctx_download(params[0],params[1], params[2])\n",
    "ob_lvls[0].head()"
   ]
  },
  {
   "cell_type": "code",
   "execution_count": 20,
   "metadata": {},
   "outputs": [
    {
     "data": {
      "text/html": [
       "<div>\n",
       "<style scoped>\n",
       "    .dataframe tbody tr th:only-of-type {\n",
       "        vertical-align: middle;\n",
       "    }\n",
       "\n",
       "    .dataframe tbody tr th {\n",
       "        vertical-align: top;\n",
       "    }\n",
       "\n",
       "    .dataframe thead th {\n",
       "        text-align: right;\n",
       "    }\n",
       "</style>\n",
       "<table border=\"1\" class=\"dataframe\">\n",
       "  <thead>\n",
       "    <tr style=\"text-align: right;\">\n",
       "      <th></th>\n",
       "      <th>price</th>\n",
       "      <th>quantity</th>\n",
       "    </tr>\n",
       "    <tr>\n",
       "      <th>Ask_Lvl</th>\n",
       "      <th></th>\n",
       "      <th></th>\n",
       "    </tr>\n",
       "  </thead>\n",
       "  <tbody>\n",
       "    <tr>\n",
       "      <th>0</th>\n",
       "      <td>0.3803</td>\n",
       "      <td>3141.0</td>\n",
       "    </tr>\n",
       "    <tr>\n",
       "      <th>1</th>\n",
       "      <td>0.3804</td>\n",
       "      <td>3841.0</td>\n",
       "    </tr>\n",
       "    <tr>\n",
       "      <th>2</th>\n",
       "      <td>0.3805</td>\n",
       "      <td>15137.0</td>\n",
       "    </tr>\n",
       "    <tr>\n",
       "      <th>3</th>\n",
       "      <td>0.3806</td>\n",
       "      <td>27752.0</td>\n",
       "    </tr>\n",
       "    <tr>\n",
       "      <th>4</th>\n",
       "      <td>0.3807</td>\n",
       "      <td>38810.0</td>\n",
       "    </tr>\n",
       "  </tbody>\n",
       "</table>\n",
       "</div>"
      ],
      "text/plain": [
       "          price  quantity\n",
       "Ask_Lvl                  \n",
       "0        0.3803    3141.0\n",
       "1        0.3804    3841.0\n",
       "2        0.3805   15137.0\n",
       "3        0.3806   27752.0\n",
       "4        0.3807   38810.0"
      ]
     },
     "execution_count": 20,
     "metadata": {},
     "output_type": "execute_result"
    }
   ],
   "source": [
    "ob_lvls[1].head()"
   ]
  },
  {
   "cell_type": "code",
   "execution_count": 21,
   "metadata": {},
   "outputs": [
    {
     "data": {
      "text/html": [
       "<div>\n",
       "<style scoped>\n",
       "    .dataframe tbody tr th:only-of-type {\n",
       "        vertical-align: middle;\n",
       "    }\n",
       "\n",
       "    .dataframe tbody tr th {\n",
       "        vertical-align: top;\n",
       "    }\n",
       "\n",
       "    .dataframe thead th {\n",
       "        text-align: right;\n",
       "    }\n",
       "</style>\n",
       "<table border=\"1\" class=\"dataframe\">\n",
       "  <thead>\n",
       "    <tr style=\"text-align: right;\">\n",
       "      <th></th>\n",
       "      <th>exchange</th>\n",
       "      <th>timestamp</th>\n",
       "      <th>open</th>\n",
       "      <th>high</th>\n",
       "      <th>low</th>\n",
       "      <th>close</th>\n",
       "      <th>volume</th>\n",
       "    </tr>\n",
       "    <tr>\n",
       "      <th>OHLCV</th>\n",
       "      <th></th>\n",
       "      <th></th>\n",
       "      <th></th>\n",
       "      <th></th>\n",
       "      <th></th>\n",
       "      <th></th>\n",
       "      <th></th>\n",
       "    </tr>\n",
       "  </thead>\n",
       "  <tbody>\n",
       "    <tr>\n",
       "      <th>0</th>\n",
       "      <td>binance</td>\n",
       "      <td>2022-11-10T18:14:24.563Z</td>\n",
       "      <td>0.377</td>\n",
       "      <td>0.3785</td>\n",
       "      <td>0.3768</td>\n",
       "      <td>0.3784</td>\n",
       "      <td>432692.0</td>\n",
       "    </tr>\n",
       "  </tbody>\n",
       "</table>\n",
       "</div>"
      ],
      "text/plain": [
       "      exchange                 timestamp   open    high     low   close  \\\n",
       "OHLCV                                                                     \n",
       "0      binance  2022-11-10T18:14:24.563Z  0.377  0.3785  0.3768  0.3784   \n",
       "\n",
       "         volume  \n",
       "OHLCV            \n",
       "0      432692.0  "
      ]
     },
     "execution_count": 21,
     "metadata": {},
     "output_type": "execute_result"
    }
   ],
   "source": [
    "ob_lvls[2]"
   ]
  },
  {
   "cell_type": "code",
   "execution_count": 22,
   "metadata": {},
   "outputs": [
    {
     "data": {
      "application/vnd.plotly.v1+json": {
       "config": {
        "plotlyServerURL": "https://plot.ly"
       },
       "data": [
        {
         "orientation": "h",
         "type": "bar",
         "x": [
          3141,
          5158,
          19087,
          27752,
          45559,
          86281,
          63725,
          75019,
          29972,
          28279,
          28056,
          24715,
          18900,
          4696,
          2633,
          1455,
          20828,
          32247,
          2183,
          1358,
          632,
          24725,
          18971,
          29236,
          100
         ],
         "y": [
          "0.3803",
          "0.3804",
          "0.3805",
          "0.3806",
          "0.3807",
          "0.3808",
          "0.3809",
          "0.381",
          "0.3811",
          "0.3812",
          "0.3813",
          "0.3814",
          "0.3816",
          "0.3817",
          "0.3818",
          "0.3819",
          "0.382",
          "0.3821",
          "0.3822",
          "0.3823",
          "0.3824",
          "0.3825",
          "0.3826",
          "0.3827",
          "0.3828"
         ]
        },
        {
         "orientation": "h",
         "type": "bar",
         "x": [
          8159,
          11568,
          13677,
          39998,
          128028,
          160675,
          123071,
          171021,
          41495,
          44779,
          21133,
          92232,
          37891,
          11521,
          2257,
          20786,
          13709,
          22758,
          58,
          553,
          8108,
          147476,
          340058,
          947000,
          27
         ],
         "y": [
          "0.3802",
          "0.3801",
          "0.38",
          "0.3799",
          "0.3798",
          "0.3797",
          "0.3796",
          "0.3795",
          "0.3794",
          "0.3793",
          "0.3792",
          "0.3791",
          "0.379",
          "0.3789",
          "0.3788",
          "0.3787",
          "0.3786",
          "0.3785",
          "0.3784",
          "0.3783",
          "0.3782",
          "0.3781",
          "0.378",
          "0.3779",
          "0.3778"
         ]
        }
       ],
       "layout": {
        "template": {
         "data": {
          "bar": [
           {
            "error_x": {
             "color": "#2a3f5f"
            },
            "error_y": {
             "color": "#2a3f5f"
            },
            "marker": {
             "line": {
              "color": "#E5ECF6",
              "width": 0.5
             },
             "pattern": {
              "fillmode": "overlay",
              "size": 10,
              "solidity": 0.2
             }
            },
            "type": "bar"
           }
          ],
          "barpolar": [
           {
            "marker": {
             "line": {
              "color": "#E5ECF6",
              "width": 0.5
             },
             "pattern": {
              "fillmode": "overlay",
              "size": 10,
              "solidity": 0.2
             }
            },
            "type": "barpolar"
           }
          ],
          "carpet": [
           {
            "aaxis": {
             "endlinecolor": "#2a3f5f",
             "gridcolor": "white",
             "linecolor": "white",
             "minorgridcolor": "white",
             "startlinecolor": "#2a3f5f"
            },
            "baxis": {
             "endlinecolor": "#2a3f5f",
             "gridcolor": "white",
             "linecolor": "white",
             "minorgridcolor": "white",
             "startlinecolor": "#2a3f5f"
            },
            "type": "carpet"
           }
          ],
          "choropleth": [
           {
            "colorbar": {
             "outlinewidth": 0,
             "ticks": ""
            },
            "type": "choropleth"
           }
          ],
          "contour": [
           {
            "colorbar": {
             "outlinewidth": 0,
             "ticks": ""
            },
            "colorscale": [
             [
              0,
              "#0d0887"
             ],
             [
              0.1111111111111111,
              "#46039f"
             ],
             [
              0.2222222222222222,
              "#7201a8"
             ],
             [
              0.3333333333333333,
              "#9c179e"
             ],
             [
              0.4444444444444444,
              "#bd3786"
             ],
             [
              0.5555555555555556,
              "#d8576b"
             ],
             [
              0.6666666666666666,
              "#ed7953"
             ],
             [
              0.7777777777777778,
              "#fb9f3a"
             ],
             [
              0.8888888888888888,
              "#fdca26"
             ],
             [
              1,
              "#f0f921"
             ]
            ],
            "type": "contour"
           }
          ],
          "contourcarpet": [
           {
            "colorbar": {
             "outlinewidth": 0,
             "ticks": ""
            },
            "type": "contourcarpet"
           }
          ],
          "heatmap": [
           {
            "colorbar": {
             "outlinewidth": 0,
             "ticks": ""
            },
            "colorscale": [
             [
              0,
              "#0d0887"
             ],
             [
              0.1111111111111111,
              "#46039f"
             ],
             [
              0.2222222222222222,
              "#7201a8"
             ],
             [
              0.3333333333333333,
              "#9c179e"
             ],
             [
              0.4444444444444444,
              "#bd3786"
             ],
             [
              0.5555555555555556,
              "#d8576b"
             ],
             [
              0.6666666666666666,
              "#ed7953"
             ],
             [
              0.7777777777777778,
              "#fb9f3a"
             ],
             [
              0.8888888888888888,
              "#fdca26"
             ],
             [
              1,
              "#f0f921"
             ]
            ],
            "type": "heatmap"
           }
          ],
          "heatmapgl": [
           {
            "colorbar": {
             "outlinewidth": 0,
             "ticks": ""
            },
            "colorscale": [
             [
              0,
              "#0d0887"
             ],
             [
              0.1111111111111111,
              "#46039f"
             ],
             [
              0.2222222222222222,
              "#7201a8"
             ],
             [
              0.3333333333333333,
              "#9c179e"
             ],
             [
              0.4444444444444444,
              "#bd3786"
             ],
             [
              0.5555555555555556,
              "#d8576b"
             ],
             [
              0.6666666666666666,
              "#ed7953"
             ],
             [
              0.7777777777777778,
              "#fb9f3a"
             ],
             [
              0.8888888888888888,
              "#fdca26"
             ],
             [
              1,
              "#f0f921"
             ]
            ],
            "type": "heatmapgl"
           }
          ],
          "histogram": [
           {
            "marker": {
             "pattern": {
              "fillmode": "overlay",
              "size": 10,
              "solidity": 0.2
             }
            },
            "type": "histogram"
           }
          ],
          "histogram2d": [
           {
            "colorbar": {
             "outlinewidth": 0,
             "ticks": ""
            },
            "colorscale": [
             [
              0,
              "#0d0887"
             ],
             [
              0.1111111111111111,
              "#46039f"
             ],
             [
              0.2222222222222222,
              "#7201a8"
             ],
             [
              0.3333333333333333,
              "#9c179e"
             ],
             [
              0.4444444444444444,
              "#bd3786"
             ],
             [
              0.5555555555555556,
              "#d8576b"
             ],
             [
              0.6666666666666666,
              "#ed7953"
             ],
             [
              0.7777777777777778,
              "#fb9f3a"
             ],
             [
              0.8888888888888888,
              "#fdca26"
             ],
             [
              1,
              "#f0f921"
             ]
            ],
            "type": "histogram2d"
           }
          ],
          "histogram2dcontour": [
           {
            "colorbar": {
             "outlinewidth": 0,
             "ticks": ""
            },
            "colorscale": [
             [
              0,
              "#0d0887"
             ],
             [
              0.1111111111111111,
              "#46039f"
             ],
             [
              0.2222222222222222,
              "#7201a8"
             ],
             [
              0.3333333333333333,
              "#9c179e"
             ],
             [
              0.4444444444444444,
              "#bd3786"
             ],
             [
              0.5555555555555556,
              "#d8576b"
             ],
             [
              0.6666666666666666,
              "#ed7953"
             ],
             [
              0.7777777777777778,
              "#fb9f3a"
             ],
             [
              0.8888888888888888,
              "#fdca26"
             ],
             [
              1,
              "#f0f921"
             ]
            ],
            "type": "histogram2dcontour"
           }
          ],
          "mesh3d": [
           {
            "colorbar": {
             "outlinewidth": 0,
             "ticks": ""
            },
            "type": "mesh3d"
           }
          ],
          "parcoords": [
           {
            "line": {
             "colorbar": {
              "outlinewidth": 0,
              "ticks": ""
             }
            },
            "type": "parcoords"
           }
          ],
          "pie": [
           {
            "automargin": true,
            "type": "pie"
           }
          ],
          "scatter": [
           {
            "marker": {
             "colorbar": {
              "outlinewidth": 0,
              "ticks": ""
             }
            },
            "type": "scatter"
           }
          ],
          "scatter3d": [
           {
            "line": {
             "colorbar": {
              "outlinewidth": 0,
              "ticks": ""
             }
            },
            "marker": {
             "colorbar": {
              "outlinewidth": 0,
              "ticks": ""
             }
            },
            "type": "scatter3d"
           }
          ],
          "scattercarpet": [
           {
            "marker": {
             "colorbar": {
              "outlinewidth": 0,
              "ticks": ""
             }
            },
            "type": "scattercarpet"
           }
          ],
          "scattergeo": [
           {
            "marker": {
             "colorbar": {
              "outlinewidth": 0,
              "ticks": ""
             }
            },
            "type": "scattergeo"
           }
          ],
          "scattergl": [
           {
            "marker": {
             "colorbar": {
              "outlinewidth": 0,
              "ticks": ""
             }
            },
            "type": "scattergl"
           }
          ],
          "scattermapbox": [
           {
            "marker": {
             "colorbar": {
              "outlinewidth": 0,
              "ticks": ""
             }
            },
            "type": "scattermapbox"
           }
          ],
          "scatterpolar": [
           {
            "marker": {
             "colorbar": {
              "outlinewidth": 0,
              "ticks": ""
             }
            },
            "type": "scatterpolar"
           }
          ],
          "scatterpolargl": [
           {
            "marker": {
             "colorbar": {
              "outlinewidth": 0,
              "ticks": ""
             }
            },
            "type": "scatterpolargl"
           }
          ],
          "scatterternary": [
           {
            "marker": {
             "colorbar": {
              "outlinewidth": 0,
              "ticks": ""
             }
            },
            "type": "scatterternary"
           }
          ],
          "surface": [
           {
            "colorbar": {
             "outlinewidth": 0,
             "ticks": ""
            },
            "colorscale": [
             [
              0,
              "#0d0887"
             ],
             [
              0.1111111111111111,
              "#46039f"
             ],
             [
              0.2222222222222222,
              "#7201a8"
             ],
             [
              0.3333333333333333,
              "#9c179e"
             ],
             [
              0.4444444444444444,
              "#bd3786"
             ],
             [
              0.5555555555555556,
              "#d8576b"
             ],
             [
              0.6666666666666666,
              "#ed7953"
             ],
             [
              0.7777777777777778,
              "#fb9f3a"
             ],
             [
              0.8888888888888888,
              "#fdca26"
             ],
             [
              1,
              "#f0f921"
             ]
            ],
            "type": "surface"
           }
          ],
          "table": [
           {
            "cells": {
             "fill": {
              "color": "#EBF0F8"
             },
             "line": {
              "color": "white"
             }
            },
            "header": {
             "fill": {
              "color": "#C8D4E3"
             },
             "line": {
              "color": "white"
             }
            },
            "type": "table"
           }
          ]
         },
         "layout": {
          "annotationdefaults": {
           "arrowcolor": "#2a3f5f",
           "arrowhead": 0,
           "arrowwidth": 1
          },
          "autotypenumbers": "strict",
          "coloraxis": {
           "colorbar": {
            "outlinewidth": 0,
            "ticks": ""
           }
          },
          "colorscale": {
           "diverging": [
            [
             0,
             "#8e0152"
            ],
            [
             0.1,
             "#c51b7d"
            ],
            [
             0.2,
             "#de77ae"
            ],
            [
             0.3,
             "#f1b6da"
            ],
            [
             0.4,
             "#fde0ef"
            ],
            [
             0.5,
             "#f7f7f7"
            ],
            [
             0.6,
             "#e6f5d0"
            ],
            [
             0.7,
             "#b8e186"
            ],
            [
             0.8,
             "#7fbc41"
            ],
            [
             0.9,
             "#4d9221"
            ],
            [
             1,
             "#276419"
            ]
           ],
           "sequential": [
            [
             0,
             "#0d0887"
            ],
            [
             0.1111111111111111,
             "#46039f"
            ],
            [
             0.2222222222222222,
             "#7201a8"
            ],
            [
             0.3333333333333333,
             "#9c179e"
            ],
            [
             0.4444444444444444,
             "#bd3786"
            ],
            [
             0.5555555555555556,
             "#d8576b"
            ],
            [
             0.6666666666666666,
             "#ed7953"
            ],
            [
             0.7777777777777778,
             "#fb9f3a"
            ],
            [
             0.8888888888888888,
             "#fdca26"
            ],
            [
             1,
             "#f0f921"
            ]
           ],
           "sequentialminus": [
            [
             0,
             "#0d0887"
            ],
            [
             0.1111111111111111,
             "#46039f"
            ],
            [
             0.2222222222222222,
             "#7201a8"
            ],
            [
             0.3333333333333333,
             "#9c179e"
            ],
            [
             0.4444444444444444,
             "#bd3786"
            ],
            [
             0.5555555555555556,
             "#d8576b"
            ],
            [
             0.6666666666666666,
             "#ed7953"
            ],
            [
             0.7777777777777778,
             "#fb9f3a"
            ],
            [
             0.8888888888888888,
             "#fdca26"
            ],
            [
             1,
             "#f0f921"
            ]
           ]
          },
          "colorway": [
           "#636efa",
           "#EF553B",
           "#00cc96",
           "#ab63fa",
           "#FFA15A",
           "#19d3f3",
           "#FF6692",
           "#B6E880",
           "#FF97FF",
           "#FECB52"
          ],
          "font": {
           "color": "#2a3f5f"
          },
          "geo": {
           "bgcolor": "white",
           "lakecolor": "white",
           "landcolor": "#E5ECF6",
           "showlakes": true,
           "showland": true,
           "subunitcolor": "white"
          },
          "hoverlabel": {
           "align": "left"
          },
          "hovermode": "closest",
          "mapbox": {
           "style": "light"
          },
          "paper_bgcolor": "white",
          "plot_bgcolor": "#E5ECF6",
          "polar": {
           "angularaxis": {
            "gridcolor": "white",
            "linecolor": "white",
            "ticks": ""
           },
           "bgcolor": "#E5ECF6",
           "radialaxis": {
            "gridcolor": "white",
            "linecolor": "white",
            "ticks": ""
           }
          },
          "scene": {
           "xaxis": {
            "backgroundcolor": "#E5ECF6",
            "gridcolor": "white",
            "gridwidth": 2,
            "linecolor": "white",
            "showbackground": true,
            "ticks": "",
            "zerolinecolor": "white"
           },
           "yaxis": {
            "backgroundcolor": "#E5ECF6",
            "gridcolor": "white",
            "gridwidth": 2,
            "linecolor": "white",
            "showbackground": true,
            "ticks": "",
            "zerolinecolor": "white"
           },
           "zaxis": {
            "backgroundcolor": "#E5ECF6",
            "gridcolor": "white",
            "gridwidth": 2,
            "linecolor": "white",
            "showbackground": true,
            "ticks": "",
            "zerolinecolor": "white"
           }
          },
          "shapedefaults": {
           "line": {
            "color": "#2a3f5f"
           }
          },
          "ternary": {
           "aaxis": {
            "gridcolor": "white",
            "linecolor": "white",
            "ticks": ""
           },
           "baxis": {
            "gridcolor": "white",
            "linecolor": "white",
            "ticks": ""
           },
           "bgcolor": "#E5ECF6",
           "caxis": {
            "gridcolor": "white",
            "linecolor": "white",
            "ticks": ""
           }
          },
          "title": {
           "x": 0.05
          },
          "xaxis": {
           "automargin": true,
           "gridcolor": "white",
           "linecolor": "white",
           "ticks": "",
           "title": {
            "standoff": 15
           },
           "zerolinecolor": "white",
           "zerolinewidth": 2
          },
          "yaxis": {
           "automargin": true,
           "gridcolor": "white",
           "linecolor": "white",
           "ticks": "",
           "title": {
            "standoff": 15
           },
           "zerolinecolor": "white",
           "zerolinewidth": 2
          }
         }
        },
        "title": {
         "font": {
          "size": 15
         },
         "text": "Single Order Book from binance, XRP/USDT Mid-Price: 0.38025"
        }
       }
      }
     },
     "metadata": {},
     "output_type": "display_data"
    }
   ],
   "source": [
    "vs.OBLvls_hist(params[0],params[1], params[2])"
   ]
  },
  {
   "cell_type": "markdown",
   "metadata": {},
   "source": [
    "We could retrieve criptocurrencies with any of the 3 exchanges declared in our list *exchanges* but **to avoid being repetitive we will make one more random example** and we will conclude with their dataframes in progress check. For section section **2.** (*Microstructure Visualization*) a dataframe with different columns and plots that allow us to compare differences between exchanges will be created."
   ]
  },
  {
   "cell_type": "code",
   "execution_count": 71,
   "metadata": {},
   "outputs": [
    {
     "data": {
      "text/plain": [
       "(25, 'XRP/USDT', 'bytetrade')"
      ]
     },
     "execution_count": 71,
     "metadata": {},
     "output_type": "execute_result"
    }
   ],
   "source": [
    "params= 25, criptos[rand.randint(0,2)], exchanges[rand.randint(0,2)]\n",
    "params"
   ]
  },
  {
   "cell_type": "code",
   "execution_count": 72,
   "metadata": {},
   "outputs": [],
   "source": [
    "ob_lvls=vs.cctx_download(params[0],params[1], params[2])"
   ]
  },
  {
   "cell_type": "markdown",
   "metadata": {},
   "source": [
    "As it can be seen, liquidity is a decisive factor between exchanges. This is because there are many levels in OBs for most criptocurrencies that have big volumes due to their inherent volatility and this is also related to market makers participation."
   ]
  },
  {
   "cell_type": "code",
   "execution_count": 73,
   "metadata": {},
   "outputs": [
    {
     "data": {
      "application/vnd.plotly.v1+json": {
       "config": {
        "plotlyServerURL": "https://plot.ly"
       },
       "data": [
        {
         "orientation": "h",
         "type": "bar",
         "x": [
          0.0005,
          0.0012,
          0.0004,
          0.001,
          0.0004,
          0.3003,
          0.2729,
          0.823,
          0.3162,
          0.3508,
          0.3217,
          0.2153,
          0.2264,
          0.1237,
          0.0137,
          0.0446,
          0.0435,
          0.0501,
          0.0645,
          0.0772,
          3.1102,
          0.0383,
          0.0814,
          0.0568,
          113.7413
         ],
         "y": [
          "0.397543",
          "0.401492",
          "0.410387",
          "0.422242",
          "0.428186",
          "0.435955",
          "0.441567",
          "0.44743",
          "0.461085",
          "0.479928",
          "0.498884",
          "0.540428",
          "0.806459",
          "0.932742",
          "0.984066",
          "1.064667",
          "1.122339",
          "1.170575",
          "1.245351",
          "1.344479",
          "1.34664",
          "1.362965",
          "1.370857",
          "1.374761",
          "1.489958"
         ]
        },
        {
         "orientation": "h",
         "type": "bar",
         "x": [
          0.15,
          0.089,
          0.0643,
          0.1281,
          0.0555,
          0.2231,
          54.1044,
          169.9999,
          71.218,
          35.4669,
          30.8723,
          134.4835,
          19.2487,
          34.5233,
          139.1929,
          85.0413,
          121.4419,
          82.9553,
          158.1574,
          1000,
          68.2663,
          63.2478,
          28.1457,
          67.262,
          36.1095
         ],
         "y": [
          "0.360151",
          "0.352452",
          "0.351472",
          "0.351003",
          "0.35052",
          "0.350508",
          "0.346675",
          "0.346484",
          "0.344962",
          "0.323057",
          "0.320823",
          "0.313406",
          "0.307811",
          "0.289859",
          "0.269081",
          "0.254966",
          "0.211733",
          "0.174439",
          "0.159011",
          "0.15",
          "0.1375",
          "0.128003",
          "0.12619",
          "0.1189",
          "0.103733"
         ]
        }
       ],
       "layout": {
        "template": {
         "data": {
          "bar": [
           {
            "error_x": {
             "color": "#2a3f5f"
            },
            "error_y": {
             "color": "#2a3f5f"
            },
            "marker": {
             "line": {
              "color": "#E5ECF6",
              "width": 0.5
             },
             "pattern": {
              "fillmode": "overlay",
              "size": 10,
              "solidity": 0.2
             }
            },
            "type": "bar"
           }
          ],
          "barpolar": [
           {
            "marker": {
             "line": {
              "color": "#E5ECF6",
              "width": 0.5
             },
             "pattern": {
              "fillmode": "overlay",
              "size": 10,
              "solidity": 0.2
             }
            },
            "type": "barpolar"
           }
          ],
          "carpet": [
           {
            "aaxis": {
             "endlinecolor": "#2a3f5f",
             "gridcolor": "white",
             "linecolor": "white",
             "minorgridcolor": "white",
             "startlinecolor": "#2a3f5f"
            },
            "baxis": {
             "endlinecolor": "#2a3f5f",
             "gridcolor": "white",
             "linecolor": "white",
             "minorgridcolor": "white",
             "startlinecolor": "#2a3f5f"
            },
            "type": "carpet"
           }
          ],
          "choropleth": [
           {
            "colorbar": {
             "outlinewidth": 0,
             "ticks": ""
            },
            "type": "choropleth"
           }
          ],
          "contour": [
           {
            "colorbar": {
             "outlinewidth": 0,
             "ticks": ""
            },
            "colorscale": [
             [
              0,
              "#0d0887"
             ],
             [
              0.1111111111111111,
              "#46039f"
             ],
             [
              0.2222222222222222,
              "#7201a8"
             ],
             [
              0.3333333333333333,
              "#9c179e"
             ],
             [
              0.4444444444444444,
              "#bd3786"
             ],
             [
              0.5555555555555556,
              "#d8576b"
             ],
             [
              0.6666666666666666,
              "#ed7953"
             ],
             [
              0.7777777777777778,
              "#fb9f3a"
             ],
             [
              0.8888888888888888,
              "#fdca26"
             ],
             [
              1,
              "#f0f921"
             ]
            ],
            "type": "contour"
           }
          ],
          "contourcarpet": [
           {
            "colorbar": {
             "outlinewidth": 0,
             "ticks": ""
            },
            "type": "contourcarpet"
           }
          ],
          "heatmap": [
           {
            "colorbar": {
             "outlinewidth": 0,
             "ticks": ""
            },
            "colorscale": [
             [
              0,
              "#0d0887"
             ],
             [
              0.1111111111111111,
              "#46039f"
             ],
             [
              0.2222222222222222,
              "#7201a8"
             ],
             [
              0.3333333333333333,
              "#9c179e"
             ],
             [
              0.4444444444444444,
              "#bd3786"
             ],
             [
              0.5555555555555556,
              "#d8576b"
             ],
             [
              0.6666666666666666,
              "#ed7953"
             ],
             [
              0.7777777777777778,
              "#fb9f3a"
             ],
             [
              0.8888888888888888,
              "#fdca26"
             ],
             [
              1,
              "#f0f921"
             ]
            ],
            "type": "heatmap"
           }
          ],
          "heatmapgl": [
           {
            "colorbar": {
             "outlinewidth": 0,
             "ticks": ""
            },
            "colorscale": [
             [
              0,
              "#0d0887"
             ],
             [
              0.1111111111111111,
              "#46039f"
             ],
             [
              0.2222222222222222,
              "#7201a8"
             ],
             [
              0.3333333333333333,
              "#9c179e"
             ],
             [
              0.4444444444444444,
              "#bd3786"
             ],
             [
              0.5555555555555556,
              "#d8576b"
             ],
             [
              0.6666666666666666,
              "#ed7953"
             ],
             [
              0.7777777777777778,
              "#fb9f3a"
             ],
             [
              0.8888888888888888,
              "#fdca26"
             ],
             [
              1,
              "#f0f921"
             ]
            ],
            "type": "heatmapgl"
           }
          ],
          "histogram": [
           {
            "marker": {
             "pattern": {
              "fillmode": "overlay",
              "size": 10,
              "solidity": 0.2
             }
            },
            "type": "histogram"
           }
          ],
          "histogram2d": [
           {
            "colorbar": {
             "outlinewidth": 0,
             "ticks": ""
            },
            "colorscale": [
             [
              0,
              "#0d0887"
             ],
             [
              0.1111111111111111,
              "#46039f"
             ],
             [
              0.2222222222222222,
              "#7201a8"
             ],
             [
              0.3333333333333333,
              "#9c179e"
             ],
             [
              0.4444444444444444,
              "#bd3786"
             ],
             [
              0.5555555555555556,
              "#d8576b"
             ],
             [
              0.6666666666666666,
              "#ed7953"
             ],
             [
              0.7777777777777778,
              "#fb9f3a"
             ],
             [
              0.8888888888888888,
              "#fdca26"
             ],
             [
              1,
              "#f0f921"
             ]
            ],
            "type": "histogram2d"
           }
          ],
          "histogram2dcontour": [
           {
            "colorbar": {
             "outlinewidth": 0,
             "ticks": ""
            },
            "colorscale": [
             [
              0,
              "#0d0887"
             ],
             [
              0.1111111111111111,
              "#46039f"
             ],
             [
              0.2222222222222222,
              "#7201a8"
             ],
             [
              0.3333333333333333,
              "#9c179e"
             ],
             [
              0.4444444444444444,
              "#bd3786"
             ],
             [
              0.5555555555555556,
              "#d8576b"
             ],
             [
              0.6666666666666666,
              "#ed7953"
             ],
             [
              0.7777777777777778,
              "#fb9f3a"
             ],
             [
              0.8888888888888888,
              "#fdca26"
             ],
             [
              1,
              "#f0f921"
             ]
            ],
            "type": "histogram2dcontour"
           }
          ],
          "mesh3d": [
           {
            "colorbar": {
             "outlinewidth": 0,
             "ticks": ""
            },
            "type": "mesh3d"
           }
          ],
          "parcoords": [
           {
            "line": {
             "colorbar": {
              "outlinewidth": 0,
              "ticks": ""
             }
            },
            "type": "parcoords"
           }
          ],
          "pie": [
           {
            "automargin": true,
            "type": "pie"
           }
          ],
          "scatter": [
           {
            "marker": {
             "colorbar": {
              "outlinewidth": 0,
              "ticks": ""
             }
            },
            "type": "scatter"
           }
          ],
          "scatter3d": [
           {
            "line": {
             "colorbar": {
              "outlinewidth": 0,
              "ticks": ""
             }
            },
            "marker": {
             "colorbar": {
              "outlinewidth": 0,
              "ticks": ""
             }
            },
            "type": "scatter3d"
           }
          ],
          "scattercarpet": [
           {
            "marker": {
             "colorbar": {
              "outlinewidth": 0,
              "ticks": ""
             }
            },
            "type": "scattercarpet"
           }
          ],
          "scattergeo": [
           {
            "marker": {
             "colorbar": {
              "outlinewidth": 0,
              "ticks": ""
             }
            },
            "type": "scattergeo"
           }
          ],
          "scattergl": [
           {
            "marker": {
             "colorbar": {
              "outlinewidth": 0,
              "ticks": ""
             }
            },
            "type": "scattergl"
           }
          ],
          "scattermapbox": [
           {
            "marker": {
             "colorbar": {
              "outlinewidth": 0,
              "ticks": ""
             }
            },
            "type": "scattermapbox"
           }
          ],
          "scatterpolar": [
           {
            "marker": {
             "colorbar": {
              "outlinewidth": 0,
              "ticks": ""
             }
            },
            "type": "scatterpolar"
           }
          ],
          "scatterpolargl": [
           {
            "marker": {
             "colorbar": {
              "outlinewidth": 0,
              "ticks": ""
             }
            },
            "type": "scatterpolargl"
           }
          ],
          "scatterternary": [
           {
            "marker": {
             "colorbar": {
              "outlinewidth": 0,
              "ticks": ""
             }
            },
            "type": "scatterternary"
           }
          ],
          "surface": [
           {
            "colorbar": {
             "outlinewidth": 0,
             "ticks": ""
            },
            "colorscale": [
             [
              0,
              "#0d0887"
             ],
             [
              0.1111111111111111,
              "#46039f"
             ],
             [
              0.2222222222222222,
              "#7201a8"
             ],
             [
              0.3333333333333333,
              "#9c179e"
             ],
             [
              0.4444444444444444,
              "#bd3786"
             ],
             [
              0.5555555555555556,
              "#d8576b"
             ],
             [
              0.6666666666666666,
              "#ed7953"
             ],
             [
              0.7777777777777778,
              "#fb9f3a"
             ],
             [
              0.8888888888888888,
              "#fdca26"
             ],
             [
              1,
              "#f0f921"
             ]
            ],
            "type": "surface"
           }
          ],
          "table": [
           {
            "cells": {
             "fill": {
              "color": "#EBF0F8"
             },
             "line": {
              "color": "white"
             }
            },
            "header": {
             "fill": {
              "color": "#C8D4E3"
             },
             "line": {
              "color": "white"
             }
            },
            "type": "table"
           }
          ]
         },
         "layout": {
          "annotationdefaults": {
           "arrowcolor": "#2a3f5f",
           "arrowhead": 0,
           "arrowwidth": 1
          },
          "autotypenumbers": "strict",
          "coloraxis": {
           "colorbar": {
            "outlinewidth": 0,
            "ticks": ""
           }
          },
          "colorscale": {
           "diverging": [
            [
             0,
             "#8e0152"
            ],
            [
             0.1,
             "#c51b7d"
            ],
            [
             0.2,
             "#de77ae"
            ],
            [
             0.3,
             "#f1b6da"
            ],
            [
             0.4,
             "#fde0ef"
            ],
            [
             0.5,
             "#f7f7f7"
            ],
            [
             0.6,
             "#e6f5d0"
            ],
            [
             0.7,
             "#b8e186"
            ],
            [
             0.8,
             "#7fbc41"
            ],
            [
             0.9,
             "#4d9221"
            ],
            [
             1,
             "#276419"
            ]
           ],
           "sequential": [
            [
             0,
             "#0d0887"
            ],
            [
             0.1111111111111111,
             "#46039f"
            ],
            [
             0.2222222222222222,
             "#7201a8"
            ],
            [
             0.3333333333333333,
             "#9c179e"
            ],
            [
             0.4444444444444444,
             "#bd3786"
            ],
            [
             0.5555555555555556,
             "#d8576b"
            ],
            [
             0.6666666666666666,
             "#ed7953"
            ],
            [
             0.7777777777777778,
             "#fb9f3a"
            ],
            [
             0.8888888888888888,
             "#fdca26"
            ],
            [
             1,
             "#f0f921"
            ]
           ],
           "sequentialminus": [
            [
             0,
             "#0d0887"
            ],
            [
             0.1111111111111111,
             "#46039f"
            ],
            [
             0.2222222222222222,
             "#7201a8"
            ],
            [
             0.3333333333333333,
             "#9c179e"
            ],
            [
             0.4444444444444444,
             "#bd3786"
            ],
            [
             0.5555555555555556,
             "#d8576b"
            ],
            [
             0.6666666666666666,
             "#ed7953"
            ],
            [
             0.7777777777777778,
             "#fb9f3a"
            ],
            [
             0.8888888888888888,
             "#fdca26"
            ],
            [
             1,
             "#f0f921"
            ]
           ]
          },
          "colorway": [
           "#636efa",
           "#EF553B",
           "#00cc96",
           "#ab63fa",
           "#FFA15A",
           "#19d3f3",
           "#FF6692",
           "#B6E880",
           "#FF97FF",
           "#FECB52"
          ],
          "font": {
           "color": "#2a3f5f"
          },
          "geo": {
           "bgcolor": "white",
           "lakecolor": "white",
           "landcolor": "#E5ECF6",
           "showlakes": true,
           "showland": true,
           "subunitcolor": "white"
          },
          "hoverlabel": {
           "align": "left"
          },
          "hovermode": "closest",
          "mapbox": {
           "style": "light"
          },
          "paper_bgcolor": "white",
          "plot_bgcolor": "#E5ECF6",
          "polar": {
           "angularaxis": {
            "gridcolor": "white",
            "linecolor": "white",
            "ticks": ""
           },
           "bgcolor": "#E5ECF6",
           "radialaxis": {
            "gridcolor": "white",
            "linecolor": "white",
            "ticks": ""
           }
          },
          "scene": {
           "xaxis": {
            "backgroundcolor": "#E5ECF6",
            "gridcolor": "white",
            "gridwidth": 2,
            "linecolor": "white",
            "showbackground": true,
            "ticks": "",
            "zerolinecolor": "white"
           },
           "yaxis": {
            "backgroundcolor": "#E5ECF6",
            "gridcolor": "white",
            "gridwidth": 2,
            "linecolor": "white",
            "showbackground": true,
            "ticks": "",
            "zerolinecolor": "white"
           },
           "zaxis": {
            "backgroundcolor": "#E5ECF6",
            "gridcolor": "white",
            "gridwidth": 2,
            "linecolor": "white",
            "showbackground": true,
            "ticks": "",
            "zerolinecolor": "white"
           }
          },
          "shapedefaults": {
           "line": {
            "color": "#2a3f5f"
           }
          },
          "ternary": {
           "aaxis": {
            "gridcolor": "white",
            "linecolor": "white",
            "ticks": ""
           },
           "baxis": {
            "gridcolor": "white",
            "linecolor": "white",
            "ticks": ""
           },
           "bgcolor": "#E5ECF6",
           "caxis": {
            "gridcolor": "white",
            "linecolor": "white",
            "ticks": ""
           }
          },
          "title": {
           "x": 0.05
          },
          "xaxis": {
           "automargin": true,
           "gridcolor": "white",
           "linecolor": "white",
           "ticks": "",
           "title": {
            "standoff": 15
           },
           "zerolinecolor": "white",
           "zerolinewidth": 2
          },
          "yaxis": {
           "automargin": true,
           "gridcolor": "white",
           "linecolor": "white",
           "ticks": "",
           "title": {
            "standoff": 15
           },
           "zerolinecolor": "white",
           "zerolinewidth": 2
          }
         }
        },
        "title": {
         "font": {
          "size": 15
         },
         "text": "Single Order Book from bytetrade, XRP/USDT Mid-Price: 0.378847"
        }
       }
      }
     },
     "metadata": {},
     "output_type": "display_data"
    }
   ],
   "source": [
    "vs.OBLvls_hist(params[0],params[1], params[2])"
   ]
  },
  {
   "cell_type": "code",
   "execution_count": 74,
   "metadata": {},
   "outputs": [
    {
     "data": {
      "text/plain": [
       "((25, 'BTC/USDT', 'binance'),\n",
       " (25, 'BTC/USDT', 'ftx'),\n",
       " (25, 'BTC/USDT', 'bytetrade'))"
      ]
     },
     "execution_count": 74,
     "metadata": {},
     "output_type": "execute_result"
    }
   ],
   "source": [
    "v_params0= 25, criptos[0], exchanges[0]\n",
    "v_params1= 25, criptos[0], exchanges[1]\n",
    "v_params2= 25, criptos[0], exchanges[2]\n",
    "v_params0, v_params1, v_params2"
   ]
  },
  {
   "cell_type": "markdown",
   "metadata": {},
   "source": [
    "<strong> \n",
    "<font color= lightgreen> <font size = 3> Progress check 1 </font>"
   ]
  },
  {
   "cell_type": "markdown",
   "metadata": {},
   "source": [
    "<font color= orange> <font size = 1> n = data fetch per exchange </font>"
   ]
  },
  {
   "cell_type": "code",
   "execution_count": 84,
   "metadata": {},
   "outputs": [],
   "source": [
    "n=20 #Iterations "
   ]
  },
  {
   "cell_type": "code",
   "execution_count": 85,
   "metadata": {},
   "outputs": [
    {
     "name": "stdout",
     "output_type": "stream",
     "text": [
      "Help on function verif_ex1 in module visualizations:\n",
      "\n",
      "verif_ex1(lvls, cripto, exchange, n)\n",
      "    Function that returns Verif 1 for i levels (as integer) n times \n",
      "    from specified criptocurrency ('BTC/USDT','ETH/USDT','XRP/USDT', or others) and the \n",
      "    following exchanges: binance, ftx or bytetrade (as string).\n",
      "    \n",
      "    Parameters:\n",
      "    ----------\n",
      "    lvls: Levels of bids/asks in the Order Book (int).\n",
      "    cripto: Criptocurrency downloadable symbol (str).\n",
      "    exchanges: Criptocurrency downloadable Exchange (str).\n",
      "    n: Data retrieval per exchange (int).\n",
      "    \n",
      "    Returns:\n",
      "    -------\n",
      "    df1 = Section 1 Verification.\n",
      "    df2 = OHLCV.\n",
      "\n"
     ]
    }
   ],
   "source": [
    "help(vs.verif_ex1)"
   ]
  },
  {
   "cell_type": "code",
   "execution_count": 87,
   "metadata": {},
   "outputs": [],
   "source": [
    "verif_0_B = vs.verif_ex1(v_params0[0],v_params0[1], v_params0[2], n)\n",
    "verif_1_B = vs.verif_ex1(v_params1[0],v_params1[1], v_params1[2], n)\n",
    "verif_2_B = vs.verif_ex1(v_params2[0],v_params2[1], v_params2[2], n)"
   ]
  },
  {
   "cell_type": "markdown",
   "metadata": {},
   "source": [
    "Some differences between criptocurrencies within exchanges can be appreciated. Now we can realize which exchange from the sample can provide us with the lowest spread and best liquidity, and it is binance in this case. \n",
    "\n",
    "Clearly, prices are the most important factor for investments and that's why Mid-Price is going to be analyzed in the plots of section *2° (Microstructure Visualization)*. "
   ]
  },
  {
   "cell_type": "markdown",
   "metadata": {},
   "source": [
    "<font color= lightblue> <font size = 2> Verification BTC </font>"
   ]
  },
  {
   "cell_type": "markdown",
   "metadata": {},
   "source": [
    "As it can be appreciated lower close prices of exchanges can be associated with bigger bid volumes mainly."
   ]
  },
  {
   "cell_type": "code",
   "execution_count": 88,
   "metadata": {},
   "outputs": [
    {
     "data": {
      "text/html": [
       "<div>\n",
       "<style scoped>\n",
       "    .dataframe tbody tr th:only-of-type {\n",
       "        vertical-align: middle;\n",
       "    }\n",
       "\n",
       "    .dataframe tbody tr th {\n",
       "        vertical-align: top;\n",
       "    }\n",
       "\n",
       "    .dataframe thead th {\n",
       "        text-align: right;\n",
       "    }\n",
       "</style>\n",
       "<table border=\"1\" class=\"dataframe\">\n",
       "  <thead>\n",
       "    <tr style=\"text-align: right;\">\n",
       "      <th></th>\n",
       "      <th>exchange</th>\n",
       "      <th>timestamp</th>\n",
       "      <th>ask</th>\n",
       "      <th>bid</th>\n",
       "      <th>ask_volume</th>\n",
       "      <th>bid_volume</th>\n",
       "      <th>spread</th>\n",
       "      <th>close_price</th>\n",
       "    </tr>\n",
       "  </thead>\n",
       "  <tbody>\n",
       "    <tr>\n",
       "      <th>0</th>\n",
       "      <td>binance</td>\n",
       "      <td>2022-11-10T18:32:22.278</td>\n",
       "      <td>17273.08</td>\n",
       "      <td>17271.25</td>\n",
       "      <td>2.23454</td>\n",
       "      <td>1.09826</td>\n",
       "      <td>1.83</td>\n",
       "      <td>17273.25</td>\n",
       "    </tr>\n",
       "    <tr>\n",
       "      <th>1</th>\n",
       "      <td>binance</td>\n",
       "      <td>2022-11-10T18:32:24.839</td>\n",
       "      <td>17280.22</td>\n",
       "      <td>17277.43</td>\n",
       "      <td>0.62428</td>\n",
       "      <td>1.29755</td>\n",
       "      <td>2.79</td>\n",
       "      <td>17279.33</td>\n",
       "    </tr>\n",
       "    <tr>\n",
       "      <th>2</th>\n",
       "      <td>binance</td>\n",
       "      <td>2022-11-10T18:32:27.867</td>\n",
       "      <td>17277.59</td>\n",
       "      <td>17276.65</td>\n",
       "      <td>0.92037</td>\n",
       "      <td>0.65863</td>\n",
       "      <td>0.94</td>\n",
       "      <td>17276.85</td>\n",
       "    </tr>\n",
       "    <tr>\n",
       "      <th>3</th>\n",
       "      <td>binance</td>\n",
       "      <td>2022-11-10T18:32:30.297</td>\n",
       "      <td>17274.99</td>\n",
       "      <td>17274.06</td>\n",
       "      <td>2.18523</td>\n",
       "      <td>1.11297</td>\n",
       "      <td>0.93</td>\n",
       "      <td>17274.99</td>\n",
       "    </tr>\n",
       "    <tr>\n",
       "      <th>4</th>\n",
       "      <td>binance</td>\n",
       "      <td>2022-11-10T18:32:32.721</td>\n",
       "      <td>17272.27</td>\n",
       "      <td>17270.96</td>\n",
       "      <td>1.43612</td>\n",
       "      <td>0.73102</td>\n",
       "      <td>1.31</td>\n",
       "      <td>17272.00</td>\n",
       "    </tr>\n",
       "    <tr>\n",
       "      <th>5</th>\n",
       "      <td>binance</td>\n",
       "      <td>2022-11-10T18:32:35.140</td>\n",
       "      <td>17273.99</td>\n",
       "      <td>17271.95</td>\n",
       "      <td>1.14332</td>\n",
       "      <td>2.76171</td>\n",
       "      <td>2.04</td>\n",
       "      <td>17272.10</td>\n",
       "    </tr>\n",
       "    <tr>\n",
       "      <th>6</th>\n",
       "      <td>binance</td>\n",
       "      <td>2022-11-10T18:32:37.636</td>\n",
       "      <td>17279.89</td>\n",
       "      <td>17278.61</td>\n",
       "      <td>0.65454</td>\n",
       "      <td>0.50760</td>\n",
       "      <td>1.28</td>\n",
       "      <td>17279.84</td>\n",
       "    </tr>\n",
       "    <tr>\n",
       "      <th>7</th>\n",
       "      <td>binance</td>\n",
       "      <td>2022-11-10T18:32:40.288</td>\n",
       "      <td>17279.28</td>\n",
       "      <td>17278.12</td>\n",
       "      <td>2.78923</td>\n",
       "      <td>0.80427</td>\n",
       "      <td>1.16</td>\n",
       "      <td>17278.12</td>\n",
       "    </tr>\n",
       "    <tr>\n",
       "      <th>8</th>\n",
       "      <td>binance</td>\n",
       "      <td>2022-11-10T18:32:42.753</td>\n",
       "      <td>17279.89</td>\n",
       "      <td>17279.30</td>\n",
       "      <td>0.66569</td>\n",
       "      <td>1.53481</td>\n",
       "      <td>0.59</td>\n",
       "      <td>17279.90</td>\n",
       "    </tr>\n",
       "    <tr>\n",
       "      <th>9</th>\n",
       "      <td>binance</td>\n",
       "      <td>2022-11-10T18:32:45.116</td>\n",
       "      <td>17275.47</td>\n",
       "      <td>17273.85</td>\n",
       "      <td>0.75127</td>\n",
       "      <td>0.60324</td>\n",
       "      <td>1.62</td>\n",
       "      <td>17279.70</td>\n",
       "    </tr>\n",
       "  </tbody>\n",
       "</table>\n",
       "</div>"
      ],
      "text/plain": [
       "  exchange                timestamp       ask       bid  ask_volume  \\\n",
       "0  binance  2022-11-10T18:32:22.278  17273.08  17271.25     2.23454   \n",
       "1  binance  2022-11-10T18:32:24.839  17280.22  17277.43     0.62428   \n",
       "2  binance  2022-11-10T18:32:27.867  17277.59  17276.65     0.92037   \n",
       "3  binance  2022-11-10T18:32:30.297  17274.99  17274.06     2.18523   \n",
       "4  binance  2022-11-10T18:32:32.721  17272.27  17270.96     1.43612   \n",
       "5  binance  2022-11-10T18:32:35.140  17273.99  17271.95     1.14332   \n",
       "6  binance  2022-11-10T18:32:37.636  17279.89  17278.61     0.65454   \n",
       "7  binance  2022-11-10T18:32:40.288  17279.28  17278.12     2.78923   \n",
       "8  binance  2022-11-10T18:32:42.753  17279.89  17279.30     0.66569   \n",
       "9  binance  2022-11-10T18:32:45.116  17275.47  17273.85     0.75127   \n",
       "\n",
       "   bid_volume  spread  close_price  \n",
       "0     1.09826    1.83     17273.25  \n",
       "1     1.29755    2.79     17279.33  \n",
       "2     0.65863    0.94     17276.85  \n",
       "3     1.11297    0.93     17274.99  \n",
       "4     0.73102    1.31     17272.00  \n",
       "5     2.76171    2.04     17272.10  \n",
       "6     0.50760    1.28     17279.84  \n",
       "7     0.80427    1.16     17278.12  \n",
       "8     1.53481    0.59     17279.90  \n",
       "9     0.60324    1.62     17279.70  "
      ]
     },
     "execution_count": 88,
     "metadata": {},
     "output_type": "execute_result"
    }
   ],
   "source": [
    "verif_df1 = fn.concatenate(verif_0_B[0], verif_1_B[0], verif_2_B[0], n)\n",
    "verif_df1.head(10)"
   ]
  },
  {
   "cell_type": "code",
   "execution_count": 89,
   "metadata": {},
   "outputs": [
    {
     "data": {
      "text/html": [
       "<div>\n",
       "<style scoped>\n",
       "    .dataframe tbody tr th:only-of-type {\n",
       "        vertical-align: middle;\n",
       "    }\n",
       "\n",
       "    .dataframe tbody tr th {\n",
       "        vertical-align: top;\n",
       "    }\n",
       "\n",
       "    .dataframe thead th {\n",
       "        text-align: right;\n",
       "    }\n",
       "</style>\n",
       "<table border=\"1\" class=\"dataframe\">\n",
       "  <thead>\n",
       "    <tr style=\"text-align: right;\">\n",
       "      <th></th>\n",
       "      <th>exchange</th>\n",
       "      <th>timestamp</th>\n",
       "      <th>ask</th>\n",
       "      <th>bid</th>\n",
       "      <th>ask_volume</th>\n",
       "      <th>bid_volume</th>\n",
       "      <th>spread</th>\n",
       "      <th>close_price</th>\n",
       "    </tr>\n",
       "  </thead>\n",
       "  <tbody>\n",
       "    <tr>\n",
       "      <th>50</th>\n",
       "      <td>bytetrade</td>\n",
       "      <td>2022-11-10T18:34:48.048</td>\n",
       "      <td>17393.0</td>\n",
       "      <td>17136.3</td>\n",
       "      <td>2.71083</td>\n",
       "      <td>2.836563</td>\n",
       "      <td>256.7</td>\n",
       "      <td>17272.7</td>\n",
       "    </tr>\n",
       "    <tr>\n",
       "      <th>51</th>\n",
       "      <td>bytetrade</td>\n",
       "      <td>2022-11-10T18:34:50.729</td>\n",
       "      <td>17393.0</td>\n",
       "      <td>17136.3</td>\n",
       "      <td>2.71083</td>\n",
       "      <td>2.836563</td>\n",
       "      <td>256.7</td>\n",
       "      <td>17264.8</td>\n",
       "    </tr>\n",
       "    <tr>\n",
       "      <th>52</th>\n",
       "      <td>bytetrade</td>\n",
       "      <td>2022-11-10T18:34:53.407</td>\n",
       "      <td>17393.0</td>\n",
       "      <td>17136.3</td>\n",
       "      <td>2.71083</td>\n",
       "      <td>2.836563</td>\n",
       "      <td>256.7</td>\n",
       "      <td>17271.3</td>\n",
       "    </tr>\n",
       "    <tr>\n",
       "      <th>53</th>\n",
       "      <td>bytetrade</td>\n",
       "      <td>2022-11-10T18:34:56.918</td>\n",
       "      <td>17393.0</td>\n",
       "      <td>17136.3</td>\n",
       "      <td>2.71083</td>\n",
       "      <td>2.836563</td>\n",
       "      <td>256.7</td>\n",
       "      <td>17255.0</td>\n",
       "    </tr>\n",
       "    <tr>\n",
       "      <th>54</th>\n",
       "      <td>bytetrade</td>\n",
       "      <td>2022-11-10T18:34:59.461</td>\n",
       "      <td>17393.0</td>\n",
       "      <td>17136.3</td>\n",
       "      <td>2.71083</td>\n",
       "      <td>2.836563</td>\n",
       "      <td>256.7</td>\n",
       "      <td>17258.4</td>\n",
       "    </tr>\n",
       "    <tr>\n",
       "      <th>55</th>\n",
       "      <td>bytetrade</td>\n",
       "      <td>2022-11-10T18:35:02.243</td>\n",
       "      <td>17393.0</td>\n",
       "      <td>17136.3</td>\n",
       "      <td>2.71083</td>\n",
       "      <td>2.836563</td>\n",
       "      <td>256.7</td>\n",
       "      <td>17261.4</td>\n",
       "    </tr>\n",
       "    <tr>\n",
       "      <th>56</th>\n",
       "      <td>bytetrade</td>\n",
       "      <td>2022-11-10T18:35:04.938</td>\n",
       "      <td>17393.0</td>\n",
       "      <td>17136.3</td>\n",
       "      <td>2.71083</td>\n",
       "      <td>2.836563</td>\n",
       "      <td>256.7</td>\n",
       "      <td>17263.9</td>\n",
       "    </tr>\n",
       "    <tr>\n",
       "      <th>57</th>\n",
       "      <td>bytetrade</td>\n",
       "      <td>2022-11-10T18:35:07.738</td>\n",
       "      <td>17393.0</td>\n",
       "      <td>17136.3</td>\n",
       "      <td>2.71083</td>\n",
       "      <td>2.836563</td>\n",
       "      <td>256.7</td>\n",
       "      <td>17258.2</td>\n",
       "    </tr>\n",
       "    <tr>\n",
       "      <th>58</th>\n",
       "      <td>bytetrade</td>\n",
       "      <td>2022-11-10T18:35:10.427</td>\n",
       "      <td>17393.0</td>\n",
       "      <td>17136.3</td>\n",
       "      <td>2.71083</td>\n",
       "      <td>2.836563</td>\n",
       "      <td>256.7</td>\n",
       "      <td>17269.3</td>\n",
       "    </tr>\n",
       "    <tr>\n",
       "      <th>59</th>\n",
       "      <td>bytetrade</td>\n",
       "      <td>2022-11-10T18:35:12.769</td>\n",
       "      <td>17393.0</td>\n",
       "      <td>17136.3</td>\n",
       "      <td>2.71083</td>\n",
       "      <td>2.836563</td>\n",
       "      <td>256.7</td>\n",
       "      <td>17264.7</td>\n",
       "    </tr>\n",
       "  </tbody>\n",
       "</table>\n",
       "</div>"
      ],
      "text/plain": [
       "     exchange                timestamp      ask      bid  ask_volume  \\\n",
       "50  bytetrade  2022-11-10T18:34:48.048  17393.0  17136.3     2.71083   \n",
       "51  bytetrade  2022-11-10T18:34:50.729  17393.0  17136.3     2.71083   \n",
       "52  bytetrade  2022-11-10T18:34:53.407  17393.0  17136.3     2.71083   \n",
       "53  bytetrade  2022-11-10T18:34:56.918  17393.0  17136.3     2.71083   \n",
       "54  bytetrade  2022-11-10T18:34:59.461  17393.0  17136.3     2.71083   \n",
       "55  bytetrade  2022-11-10T18:35:02.243  17393.0  17136.3     2.71083   \n",
       "56  bytetrade  2022-11-10T18:35:04.938  17393.0  17136.3     2.71083   \n",
       "57  bytetrade  2022-11-10T18:35:07.738  17393.0  17136.3     2.71083   \n",
       "58  bytetrade  2022-11-10T18:35:10.427  17393.0  17136.3     2.71083   \n",
       "59  bytetrade  2022-11-10T18:35:12.769  17393.0  17136.3     2.71083   \n",
       "\n",
       "    bid_volume  spread  close_price  \n",
       "50    2.836563   256.7      17272.7  \n",
       "51    2.836563   256.7      17264.8  \n",
       "52    2.836563   256.7      17271.3  \n",
       "53    2.836563   256.7      17255.0  \n",
       "54    2.836563   256.7      17258.4  \n",
       "55    2.836563   256.7      17261.4  \n",
       "56    2.836563   256.7      17263.9  \n",
       "57    2.836563   256.7      17258.2  \n",
       "58    2.836563   256.7      17269.3  \n",
       "59    2.836563   256.7      17264.7  "
      ]
     },
     "execution_count": 89,
     "metadata": {},
     "output_type": "execute_result"
    }
   ],
   "source": [
    "verif_df1.tail(10)"
   ]
  },
  {
   "cell_type": "markdown",
   "metadata": {},
   "source": [
    "<font color= lightblue> <font size = 2> OHLCV BTC </font>"
   ]
  },
  {
   "cell_type": "markdown",
   "metadata": {},
   "source": [
    "For each timeframe a candle is formed and it illustrates how much Volatility every timestamp shows within exchanges. This is important to know for algorithmic trading, not to mention the fact that stock exchanges do not provide candle data in *ms* for many reasons."
   ]
  },
  {
   "cell_type": "code",
   "execution_count": 90,
   "metadata": {},
   "outputs": [
    {
     "data": {
      "text/html": [
       "<div>\n",
       "<style scoped>\n",
       "    .dataframe tbody tr th:only-of-type {\n",
       "        vertical-align: middle;\n",
       "    }\n",
       "\n",
       "    .dataframe tbody tr th {\n",
       "        vertical-align: top;\n",
       "    }\n",
       "\n",
       "    .dataframe thead th {\n",
       "        text-align: right;\n",
       "    }\n",
       "</style>\n",
       "<table border=\"1\" class=\"dataframe\">\n",
       "  <thead>\n",
       "    <tr style=\"text-align: right;\">\n",
       "      <th></th>\n",
       "      <th>exchange</th>\n",
       "      <th>timestamp</th>\n",
       "      <th>open</th>\n",
       "      <th>high</th>\n",
       "      <th>low</th>\n",
       "      <th>close</th>\n",
       "      <th>volume</th>\n",
       "    </tr>\n",
       "  </thead>\n",
       "  <tbody>\n",
       "    <tr>\n",
       "      <th>0</th>\n",
       "      <td>binance</td>\n",
       "      <td>2022-11-10T18:32:22.278</td>\n",
       "      <td>17257.89</td>\n",
       "      <td>17283.23</td>\n",
       "      <td>17251.9</td>\n",
       "      <td>17273.25</td>\n",
       "      <td>69.41647</td>\n",
       "    </tr>\n",
       "    <tr>\n",
       "      <th>1</th>\n",
       "      <td>binance</td>\n",
       "      <td>2022-11-10T18:32:24.839</td>\n",
       "      <td>17257.89</td>\n",
       "      <td>17283.23</td>\n",
       "      <td>17251.9</td>\n",
       "      <td>17279.33</td>\n",
       "      <td>72.87468</td>\n",
       "    </tr>\n",
       "    <tr>\n",
       "      <th>2</th>\n",
       "      <td>binance</td>\n",
       "      <td>2022-11-10T18:32:27.867</td>\n",
       "      <td>17257.89</td>\n",
       "      <td>17285.14</td>\n",
       "      <td>17251.9</td>\n",
       "      <td>17276.85</td>\n",
       "      <td>88.42610</td>\n",
       "    </tr>\n",
       "    <tr>\n",
       "      <th>3</th>\n",
       "      <td>binance</td>\n",
       "      <td>2022-11-10T18:32:30.297</td>\n",
       "      <td>17257.89</td>\n",
       "      <td>17285.14</td>\n",
       "      <td>17251.9</td>\n",
       "      <td>17274.99</td>\n",
       "      <td>97.14622</td>\n",
       "    </tr>\n",
       "    <tr>\n",
       "      <th>4</th>\n",
       "      <td>binance</td>\n",
       "      <td>2022-11-10T18:32:32.721</td>\n",
       "      <td>17257.89</td>\n",
       "      <td>17285.14</td>\n",
       "      <td>17251.9</td>\n",
       "      <td>17272.00</td>\n",
       "      <td>115.89142</td>\n",
       "    </tr>\n",
       "    <tr>\n",
       "      <th>5</th>\n",
       "      <td>binance</td>\n",
       "      <td>2022-11-10T18:32:35.140</td>\n",
       "      <td>17257.89</td>\n",
       "      <td>17285.14</td>\n",
       "      <td>17251.9</td>\n",
       "      <td>17272.10</td>\n",
       "      <td>122.73878</td>\n",
       "    </tr>\n",
       "    <tr>\n",
       "      <th>6</th>\n",
       "      <td>binance</td>\n",
       "      <td>2022-11-10T18:32:37.636</td>\n",
       "      <td>17257.89</td>\n",
       "      <td>17285.14</td>\n",
       "      <td>17251.9</td>\n",
       "      <td>17279.84</td>\n",
       "      <td>130.06146</td>\n",
       "    </tr>\n",
       "    <tr>\n",
       "      <th>7</th>\n",
       "      <td>binance</td>\n",
       "      <td>2022-11-10T18:32:40.288</td>\n",
       "      <td>17257.89</td>\n",
       "      <td>17285.14</td>\n",
       "      <td>17251.9</td>\n",
       "      <td>17278.12</td>\n",
       "      <td>134.42327</td>\n",
       "    </tr>\n",
       "    <tr>\n",
       "      <th>8</th>\n",
       "      <td>binance</td>\n",
       "      <td>2022-11-10T18:32:42.753</td>\n",
       "      <td>17257.89</td>\n",
       "      <td>17285.32</td>\n",
       "      <td>17251.9</td>\n",
       "      <td>17279.90</td>\n",
       "      <td>141.43061</td>\n",
       "    </tr>\n",
       "    <tr>\n",
       "      <th>9</th>\n",
       "      <td>binance</td>\n",
       "      <td>2022-11-10T18:32:45.116</td>\n",
       "      <td>17257.89</td>\n",
       "      <td>17285.32</td>\n",
       "      <td>17251.9</td>\n",
       "      <td>17279.70</td>\n",
       "      <td>157.82446</td>\n",
       "    </tr>\n",
       "  </tbody>\n",
       "</table>\n",
       "</div>"
      ],
      "text/plain": [
       "  exchange                timestamp      open      high      low     close  \\\n",
       "0  binance  2022-11-10T18:32:22.278  17257.89  17283.23  17251.9  17273.25   \n",
       "1  binance  2022-11-10T18:32:24.839  17257.89  17283.23  17251.9  17279.33   \n",
       "2  binance  2022-11-10T18:32:27.867  17257.89  17285.14  17251.9  17276.85   \n",
       "3  binance  2022-11-10T18:32:30.297  17257.89  17285.14  17251.9  17274.99   \n",
       "4  binance  2022-11-10T18:32:32.721  17257.89  17285.14  17251.9  17272.00   \n",
       "5  binance  2022-11-10T18:32:35.140  17257.89  17285.14  17251.9  17272.10   \n",
       "6  binance  2022-11-10T18:32:37.636  17257.89  17285.14  17251.9  17279.84   \n",
       "7  binance  2022-11-10T18:32:40.288  17257.89  17285.14  17251.9  17278.12   \n",
       "8  binance  2022-11-10T18:32:42.753  17257.89  17285.32  17251.9  17279.90   \n",
       "9  binance  2022-11-10T18:32:45.116  17257.89  17285.32  17251.9  17279.70   \n",
       "\n",
       "      volume  \n",
       "0   69.41647  \n",
       "1   72.87468  \n",
       "2   88.42610  \n",
       "3   97.14622  \n",
       "4  115.89142  \n",
       "5  122.73878  \n",
       "6  130.06146  \n",
       "7  134.42327  \n",
       "8  141.43061  \n",
       "9  157.82446  "
      ]
     },
     "execution_count": 90,
     "metadata": {},
     "output_type": "execute_result"
    }
   ],
   "source": [
    "verif_df1_OH = fn.concatenate(verif_0_B[1], verif_1_B[1], verif_2_B[1], n)\n",
    "verif_df1_OH.head(10)"
   ]
  },
  {
   "cell_type": "code",
   "execution_count": 91,
   "metadata": {},
   "outputs": [
    {
     "data": {
      "text/html": [
       "<div>\n",
       "<style scoped>\n",
       "    .dataframe tbody tr th:only-of-type {\n",
       "        vertical-align: middle;\n",
       "    }\n",
       "\n",
       "    .dataframe tbody tr th {\n",
       "        vertical-align: top;\n",
       "    }\n",
       "\n",
       "    .dataframe thead th {\n",
       "        text-align: right;\n",
       "    }\n",
       "</style>\n",
       "<table border=\"1\" class=\"dataframe\">\n",
       "  <thead>\n",
       "    <tr style=\"text-align: right;\">\n",
       "      <th></th>\n",
       "      <th>exchange</th>\n",
       "      <th>timestamp</th>\n",
       "      <th>open</th>\n",
       "      <th>high</th>\n",
       "      <th>low</th>\n",
       "      <th>close</th>\n",
       "      <th>volume</th>\n",
       "    </tr>\n",
       "  </thead>\n",
       "  <tbody>\n",
       "    <tr>\n",
       "      <th>50</th>\n",
       "      <td>bytetrade</td>\n",
       "      <td>2022-11-10T18:34:48.048</td>\n",
       "      <td>17261.4</td>\n",
       "      <td>17280.7</td>\n",
       "      <td>17247.4</td>\n",
       "      <td>17272.7</td>\n",
       "      <td>0.05994</td>\n",
       "    </tr>\n",
       "    <tr>\n",
       "      <th>51</th>\n",
       "      <td>bytetrade</td>\n",
       "      <td>2022-11-10T18:34:50.729</td>\n",
       "      <td>17261.4</td>\n",
       "      <td>17280.7</td>\n",
       "      <td>17247.4</td>\n",
       "      <td>17264.8</td>\n",
       "      <td>0.06755</td>\n",
       "    </tr>\n",
       "    <tr>\n",
       "      <th>52</th>\n",
       "      <td>bytetrade</td>\n",
       "      <td>2022-11-10T18:34:53.407</td>\n",
       "      <td>17261.4</td>\n",
       "      <td>17280.7</td>\n",
       "      <td>17247.4</td>\n",
       "      <td>17271.3</td>\n",
       "      <td>0.06944</td>\n",
       "    </tr>\n",
       "    <tr>\n",
       "      <th>53</th>\n",
       "      <td>bytetrade</td>\n",
       "      <td>2022-11-10T18:34:56.918</td>\n",
       "      <td>17261.4</td>\n",
       "      <td>17280.7</td>\n",
       "      <td>17247.4</td>\n",
       "      <td>17255.0</td>\n",
       "      <td>0.07494</td>\n",
       "    </tr>\n",
       "    <tr>\n",
       "      <th>54</th>\n",
       "      <td>bytetrade</td>\n",
       "      <td>2022-11-10T18:34:59.461</td>\n",
       "      <td>17261.4</td>\n",
       "      <td>17280.7</td>\n",
       "      <td>17247.4</td>\n",
       "      <td>17258.4</td>\n",
       "      <td>0.08099</td>\n",
       "    </tr>\n",
       "    <tr>\n",
       "      <th>55</th>\n",
       "      <td>bytetrade</td>\n",
       "      <td>2022-11-10T18:35:02.243</td>\n",
       "      <td>17261.4</td>\n",
       "      <td>17261.4</td>\n",
       "      <td>17261.4</td>\n",
       "      <td>17261.4</td>\n",
       "      <td>0.00973</td>\n",
       "    </tr>\n",
       "    <tr>\n",
       "      <th>56</th>\n",
       "      <td>bytetrade</td>\n",
       "      <td>2022-11-10T18:35:04.938</td>\n",
       "      <td>17261.4</td>\n",
       "      <td>17263.9</td>\n",
       "      <td>17261.4</td>\n",
       "      <td>17263.9</td>\n",
       "      <td>0.01852</td>\n",
       "    </tr>\n",
       "    <tr>\n",
       "      <th>57</th>\n",
       "      <td>bytetrade</td>\n",
       "      <td>2022-11-10T18:35:07.738</td>\n",
       "      <td>17261.4</td>\n",
       "      <td>17263.9</td>\n",
       "      <td>17258.2</td>\n",
       "      <td>17258.2</td>\n",
       "      <td>0.02176</td>\n",
       "    </tr>\n",
       "    <tr>\n",
       "      <th>58</th>\n",
       "      <td>bytetrade</td>\n",
       "      <td>2022-11-10T18:35:10.427</td>\n",
       "      <td>17261.4</td>\n",
       "      <td>17269.3</td>\n",
       "      <td>17258.2</td>\n",
       "      <td>17269.3</td>\n",
       "      <td>0.02521</td>\n",
       "    </tr>\n",
       "    <tr>\n",
       "      <th>59</th>\n",
       "      <td>bytetrade</td>\n",
       "      <td>2022-11-10T18:35:12.769</td>\n",
       "      <td>17261.4</td>\n",
       "      <td>17269.3</td>\n",
       "      <td>17258.2</td>\n",
       "      <td>17264.7</td>\n",
       "      <td>0.02905</td>\n",
       "    </tr>\n",
       "  </tbody>\n",
       "</table>\n",
       "</div>"
      ],
      "text/plain": [
       "     exchange                timestamp     open     high      low    close  \\\n",
       "50  bytetrade  2022-11-10T18:34:48.048  17261.4  17280.7  17247.4  17272.7   \n",
       "51  bytetrade  2022-11-10T18:34:50.729  17261.4  17280.7  17247.4  17264.8   \n",
       "52  bytetrade  2022-11-10T18:34:53.407  17261.4  17280.7  17247.4  17271.3   \n",
       "53  bytetrade  2022-11-10T18:34:56.918  17261.4  17280.7  17247.4  17255.0   \n",
       "54  bytetrade  2022-11-10T18:34:59.461  17261.4  17280.7  17247.4  17258.4   \n",
       "55  bytetrade  2022-11-10T18:35:02.243  17261.4  17261.4  17261.4  17261.4   \n",
       "56  bytetrade  2022-11-10T18:35:04.938  17261.4  17263.9  17261.4  17263.9   \n",
       "57  bytetrade  2022-11-10T18:35:07.738  17261.4  17263.9  17258.2  17258.2   \n",
       "58  bytetrade  2022-11-10T18:35:10.427  17261.4  17269.3  17258.2  17269.3   \n",
       "59  bytetrade  2022-11-10T18:35:12.769  17261.4  17269.3  17258.2  17264.7   \n",
       "\n",
       "     volume  \n",
       "50  0.05994  \n",
       "51  0.06755  \n",
       "52  0.06944  \n",
       "53  0.07494  \n",
       "54  0.08099  \n",
       "55  0.00973  \n",
       "56  0.01852  \n",
       "57  0.02176  \n",
       "58  0.02521  \n",
       "59  0.02905  "
      ]
     },
     "execution_count": 91,
     "metadata": {},
     "output_type": "execute_result"
    }
   ],
   "source": [
    "verif_df1_OH.tail(10)"
   ]
  },
  {
   "cell_type": "markdown",
   "metadata": {},
   "source": [
    "<font color= lightblue> <font size = 2> Verification ETH </font>"
   ]
  },
  {
   "cell_type": "code",
   "execution_count": 92,
   "metadata": {},
   "outputs": [
    {
     "data": {
      "text/plain": [
       "((25, 'ETH/USDT', 'binance'),\n",
       " (25, 'ETH/USDT', 'ftx'),\n",
       " (25, 'ETH/USDT', 'bytetrade'))"
      ]
     },
     "execution_count": 92,
     "metadata": {},
     "output_type": "execute_result"
    }
   ],
   "source": [
    "v_params0= 25, criptos[1], exchanges[0]\n",
    "v_params1= 25, criptos[1], exchanges[1]\n",
    "v_params2= 25, criptos[1], exchanges[2]\n",
    "v_params0, v_params1, v_params2"
   ]
  },
  {
   "cell_type": "code",
   "execution_count": 93,
   "metadata": {},
   "outputs": [],
   "source": [
    "verif_0_E = vs.verif_ex1(v_params0[0],v_params0[1], v_params0[2], n)\n",
    "verif_1_E = vs.verif_ex1(v_params1[0],v_params1[1], v_params1[2], n)\n",
    "verif_2_E = vs.verif_ex1(v_params2[0],v_params2[1], v_params2[2], n)"
   ]
  },
  {
   "cell_type": "code",
   "execution_count": 94,
   "metadata": {},
   "outputs": [
    {
     "data": {
      "text/html": [
       "<div>\n",
       "<style scoped>\n",
       "    .dataframe tbody tr th:only-of-type {\n",
       "        vertical-align: middle;\n",
       "    }\n",
       "\n",
       "    .dataframe tbody tr th {\n",
       "        vertical-align: top;\n",
       "    }\n",
       "\n",
       "    .dataframe thead th {\n",
       "        text-align: right;\n",
       "    }\n",
       "</style>\n",
       "<table border=\"1\" class=\"dataframe\">\n",
       "  <thead>\n",
       "    <tr style=\"text-align: right;\">\n",
       "      <th></th>\n",
       "      <th>exchange</th>\n",
       "      <th>timestamp</th>\n",
       "      <th>ask</th>\n",
       "      <th>bid</th>\n",
       "      <th>ask_volume</th>\n",
       "      <th>bid_volume</th>\n",
       "      <th>spread</th>\n",
       "      <th>close_price</th>\n",
       "    </tr>\n",
       "  </thead>\n",
       "  <tbody>\n",
       "    <tr>\n",
       "      <th>0</th>\n",
       "      <td>binance</td>\n",
       "      <td>2022-11-10T18:35:16.488</td>\n",
       "      <td>1260.85</td>\n",
       "      <td>1260.84</td>\n",
       "      <td>68.8534</td>\n",
       "      <td>28.4608</td>\n",
       "      <td>0.01</td>\n",
       "      <td>1260.82</td>\n",
       "    </tr>\n",
       "    <tr>\n",
       "      <th>1</th>\n",
       "      <td>binance</td>\n",
       "      <td>2022-11-10T18:35:19.352</td>\n",
       "      <td>1260.99</td>\n",
       "      <td>1260.98</td>\n",
       "      <td>45.5307</td>\n",
       "      <td>87.7374</td>\n",
       "      <td>0.01</td>\n",
       "      <td>1260.81</td>\n",
       "    </tr>\n",
       "    <tr>\n",
       "      <th>2</th>\n",
       "      <td>binance</td>\n",
       "      <td>2022-11-10T18:35:21.798</td>\n",
       "      <td>1260.71</td>\n",
       "      <td>1260.67</td>\n",
       "      <td>62.1715</td>\n",
       "      <td>32.9065</td>\n",
       "      <td>0.04</td>\n",
       "      <td>1260.70</td>\n",
       "    </tr>\n",
       "    <tr>\n",
       "      <th>3</th>\n",
       "      <td>binance</td>\n",
       "      <td>2022-11-10T18:35:25.257</td>\n",
       "      <td>1260.78</td>\n",
       "      <td>1260.77</td>\n",
       "      <td>327.6291</td>\n",
       "      <td>36.5636</td>\n",
       "      <td>0.01</td>\n",
       "      <td>1260.77</td>\n",
       "    </tr>\n",
       "    <tr>\n",
       "      <th>4</th>\n",
       "      <td>binance</td>\n",
       "      <td>2022-11-10T18:35:27.654</td>\n",
       "      <td>1260.91</td>\n",
       "      <td>1260.90</td>\n",
       "      <td>340.2359</td>\n",
       "      <td>28.8660</td>\n",
       "      <td>0.01</td>\n",
       "      <td>1260.91</td>\n",
       "    </tr>\n",
       "    <tr>\n",
       "      <th>5</th>\n",
       "      <td>binance</td>\n",
       "      <td>2022-11-10T18:35:30.056</td>\n",
       "      <td>1260.87</td>\n",
       "      <td>1260.86</td>\n",
       "      <td>336.8576</td>\n",
       "      <td>30.9022</td>\n",
       "      <td>0.01</td>\n",
       "      <td>1260.86</td>\n",
       "    </tr>\n",
       "    <tr>\n",
       "      <th>6</th>\n",
       "      <td>binance</td>\n",
       "      <td>2022-11-10T18:35:33.453</td>\n",
       "      <td>1260.68</td>\n",
       "      <td>1260.67</td>\n",
       "      <td>332.7970</td>\n",
       "      <td>36.0167</td>\n",
       "      <td>0.01</td>\n",
       "      <td>1260.69</td>\n",
       "    </tr>\n",
       "    <tr>\n",
       "      <th>7</th>\n",
       "      <td>binance</td>\n",
       "      <td>2022-11-10T18:35:36.452</td>\n",
       "      <td>1260.83</td>\n",
       "      <td>1260.82</td>\n",
       "      <td>330.8043</td>\n",
       "      <td>49.8522</td>\n",
       "      <td>0.01</td>\n",
       "      <td>1260.83</td>\n",
       "    </tr>\n",
       "    <tr>\n",
       "      <th>8</th>\n",
       "      <td>binance</td>\n",
       "      <td>2022-11-10T18:35:39.016</td>\n",
       "      <td>1260.68</td>\n",
       "      <td>1260.67</td>\n",
       "      <td>354.6795</td>\n",
       "      <td>37.5509</td>\n",
       "      <td>0.01</td>\n",
       "      <td>1260.68</td>\n",
       "    </tr>\n",
       "    <tr>\n",
       "      <th>9</th>\n",
       "      <td>binance</td>\n",
       "      <td>2022-11-10T18:35:41.404</td>\n",
       "      <td>1260.53</td>\n",
       "      <td>1260.52</td>\n",
       "      <td>338.3205</td>\n",
       "      <td>31.9294</td>\n",
       "      <td>0.01</td>\n",
       "      <td>1260.55</td>\n",
       "    </tr>\n",
       "  </tbody>\n",
       "</table>\n",
       "</div>"
      ],
      "text/plain": [
       "  exchange                timestamp      ask      bid  ask_volume  bid_volume  \\\n",
       "0  binance  2022-11-10T18:35:16.488  1260.85  1260.84     68.8534     28.4608   \n",
       "1  binance  2022-11-10T18:35:19.352  1260.99  1260.98     45.5307     87.7374   \n",
       "2  binance  2022-11-10T18:35:21.798  1260.71  1260.67     62.1715     32.9065   \n",
       "3  binance  2022-11-10T18:35:25.257  1260.78  1260.77    327.6291     36.5636   \n",
       "4  binance  2022-11-10T18:35:27.654  1260.91  1260.90    340.2359     28.8660   \n",
       "5  binance  2022-11-10T18:35:30.056  1260.87  1260.86    336.8576     30.9022   \n",
       "6  binance  2022-11-10T18:35:33.453  1260.68  1260.67    332.7970     36.0167   \n",
       "7  binance  2022-11-10T18:35:36.452  1260.83  1260.82    330.8043     49.8522   \n",
       "8  binance  2022-11-10T18:35:39.016  1260.68  1260.67    354.6795     37.5509   \n",
       "9  binance  2022-11-10T18:35:41.404  1260.53  1260.52    338.3205     31.9294   \n",
       "\n",
       "   spread  close_price  \n",
       "0    0.01      1260.82  \n",
       "1    0.01      1260.81  \n",
       "2    0.04      1260.70  \n",
       "3    0.01      1260.77  \n",
       "4    0.01      1260.91  \n",
       "5    0.01      1260.86  \n",
       "6    0.01      1260.69  \n",
       "7    0.01      1260.83  \n",
       "8    0.01      1260.68  \n",
       "9    0.01      1260.55  "
      ]
     },
     "execution_count": 94,
     "metadata": {},
     "output_type": "execute_result"
    }
   ],
   "source": [
    "verif_df2 = fn.concatenate(verif_0_E[0], verif_1_E[0], verif_2_E[0], n)\n",
    "verif_df2.head(10)"
   ]
  },
  {
   "cell_type": "code",
   "execution_count": 95,
   "metadata": {},
   "outputs": [
    {
     "data": {
      "text/html": [
       "<div>\n",
       "<style scoped>\n",
       "    .dataframe tbody tr th:only-of-type {\n",
       "        vertical-align: middle;\n",
       "    }\n",
       "\n",
       "    .dataframe tbody tr th {\n",
       "        vertical-align: top;\n",
       "    }\n",
       "\n",
       "    .dataframe thead th {\n",
       "        text-align: right;\n",
       "    }\n",
       "</style>\n",
       "<table border=\"1\" class=\"dataframe\">\n",
       "  <thead>\n",
       "    <tr style=\"text-align: right;\">\n",
       "      <th></th>\n",
       "      <th>exchange</th>\n",
       "      <th>timestamp</th>\n",
       "      <th>ask</th>\n",
       "      <th>bid</th>\n",
       "      <th>ask_volume</th>\n",
       "      <th>bid_volume</th>\n",
       "      <th>spread</th>\n",
       "      <th>close_price</th>\n",
       "    </tr>\n",
       "  </thead>\n",
       "  <tbody>\n",
       "    <tr>\n",
       "      <th>50</th>\n",
       "      <td>bytetrade</td>\n",
       "      <td>2022-11-10T18:37:51.755</td>\n",
       "      <td>1268.69</td>\n",
       "      <td>1251.24</td>\n",
       "      <td>16.5507</td>\n",
       "      <td>61.4832</td>\n",
       "      <td>17.45</td>\n",
       "      <td>1259.73</td>\n",
       "    </tr>\n",
       "    <tr>\n",
       "      <th>51</th>\n",
       "      <td>bytetrade</td>\n",
       "      <td>2022-11-10T18:37:54.640</td>\n",
       "      <td>1268.69</td>\n",
       "      <td>1251.24</td>\n",
       "      <td>16.4235</td>\n",
       "      <td>161.4021</td>\n",
       "      <td>17.45</td>\n",
       "      <td>1259.73</td>\n",
       "    </tr>\n",
       "    <tr>\n",
       "      <th>52</th>\n",
       "      <td>bytetrade</td>\n",
       "      <td>2022-11-10T18:37:58.846</td>\n",
       "      <td>1268.69</td>\n",
       "      <td>1251.24</td>\n",
       "      <td>19.5131</td>\n",
       "      <td>61.4834</td>\n",
       "      <td>17.45</td>\n",
       "      <td>1259.40</td>\n",
       "    </tr>\n",
       "    <tr>\n",
       "      <th>53</th>\n",
       "      <td>bytetrade</td>\n",
       "      <td>2022-11-10T18:38:01.451</td>\n",
       "      <td>1268.69</td>\n",
       "      <td>1251.24</td>\n",
       "      <td>19.5131</td>\n",
       "      <td>61.4834</td>\n",
       "      <td>17.45</td>\n",
       "      <td>1260.60</td>\n",
       "    </tr>\n",
       "    <tr>\n",
       "      <th>54</th>\n",
       "      <td>bytetrade</td>\n",
       "      <td>2022-11-10T18:38:04.970</td>\n",
       "      <td>1268.69</td>\n",
       "      <td>1251.24</td>\n",
       "      <td>18.9853</td>\n",
       "      <td>61.4549</td>\n",
       "      <td>17.45</td>\n",
       "      <td>1260.60</td>\n",
       "    </tr>\n",
       "    <tr>\n",
       "      <th>55</th>\n",
       "      <td>bytetrade</td>\n",
       "      <td>2022-11-10T18:38:07.708</td>\n",
       "      <td>1268.69</td>\n",
       "      <td>1251.24</td>\n",
       "      <td>18.9853</td>\n",
       "      <td>61.4549</td>\n",
       "      <td>17.45</td>\n",
       "      <td>1260.24</td>\n",
       "    </tr>\n",
       "    <tr>\n",
       "      <th>56</th>\n",
       "      <td>bytetrade</td>\n",
       "      <td>2022-11-10T18:38:10.964</td>\n",
       "      <td>1268.69</td>\n",
       "      <td>1251.24</td>\n",
       "      <td>18.9853</td>\n",
       "      <td>61.4549</td>\n",
       "      <td>17.45</td>\n",
       "      <td>1260.24</td>\n",
       "    </tr>\n",
       "    <tr>\n",
       "      <th>57</th>\n",
       "      <td>bytetrade</td>\n",
       "      <td>2022-11-10T18:38:13.930</td>\n",
       "      <td>1268.69</td>\n",
       "      <td>1251.24</td>\n",
       "      <td>18.7800</td>\n",
       "      <td>61.4549</td>\n",
       "      <td>17.45</td>\n",
       "      <td>1259.13</td>\n",
       "    </tr>\n",
       "    <tr>\n",
       "      <th>58</th>\n",
       "      <td>bytetrade</td>\n",
       "      <td>2022-11-10T18:38:16.717</td>\n",
       "      <td>1268.69</td>\n",
       "      <td>1251.24</td>\n",
       "      <td>18.7800</td>\n",
       "      <td>61.4549</td>\n",
       "      <td>17.45</td>\n",
       "      <td>1259.09</td>\n",
       "    </tr>\n",
       "    <tr>\n",
       "      <th>59</th>\n",
       "      <td>bytetrade</td>\n",
       "      <td>2022-11-10T18:38:19.472</td>\n",
       "      <td>1268.69</td>\n",
       "      <td>1251.24</td>\n",
       "      <td>18.6384</td>\n",
       "      <td>61.4549</td>\n",
       "      <td>17.45</td>\n",
       "      <td>1260.00</td>\n",
       "    </tr>\n",
       "  </tbody>\n",
       "</table>\n",
       "</div>"
      ],
      "text/plain": [
       "     exchange                timestamp      ask      bid  ask_volume  \\\n",
       "50  bytetrade  2022-11-10T18:37:51.755  1268.69  1251.24     16.5507   \n",
       "51  bytetrade  2022-11-10T18:37:54.640  1268.69  1251.24     16.4235   \n",
       "52  bytetrade  2022-11-10T18:37:58.846  1268.69  1251.24     19.5131   \n",
       "53  bytetrade  2022-11-10T18:38:01.451  1268.69  1251.24     19.5131   \n",
       "54  bytetrade  2022-11-10T18:38:04.970  1268.69  1251.24     18.9853   \n",
       "55  bytetrade  2022-11-10T18:38:07.708  1268.69  1251.24     18.9853   \n",
       "56  bytetrade  2022-11-10T18:38:10.964  1268.69  1251.24     18.9853   \n",
       "57  bytetrade  2022-11-10T18:38:13.930  1268.69  1251.24     18.7800   \n",
       "58  bytetrade  2022-11-10T18:38:16.717  1268.69  1251.24     18.7800   \n",
       "59  bytetrade  2022-11-10T18:38:19.472  1268.69  1251.24     18.6384   \n",
       "\n",
       "    bid_volume  spread  close_price  \n",
       "50     61.4832   17.45      1259.73  \n",
       "51    161.4021   17.45      1259.73  \n",
       "52     61.4834   17.45      1259.40  \n",
       "53     61.4834   17.45      1260.60  \n",
       "54     61.4549   17.45      1260.60  \n",
       "55     61.4549   17.45      1260.24  \n",
       "56     61.4549   17.45      1260.24  \n",
       "57     61.4549   17.45      1259.13  \n",
       "58     61.4549   17.45      1259.09  \n",
       "59     61.4549   17.45      1260.00  "
      ]
     },
     "execution_count": 95,
     "metadata": {},
     "output_type": "execute_result"
    }
   ],
   "source": [
    "verif_df2.tail(10)"
   ]
  },
  {
   "cell_type": "markdown",
   "metadata": {},
   "source": [
    "<font color= lightblue> <font size = 2> OHLCV ETH </font>"
   ]
  },
  {
   "cell_type": "code",
   "execution_count": 96,
   "metadata": {},
   "outputs": [
    {
     "data": {
      "text/html": [
       "<div>\n",
       "<style scoped>\n",
       "    .dataframe tbody tr th:only-of-type {\n",
       "        vertical-align: middle;\n",
       "    }\n",
       "\n",
       "    .dataframe tbody tr th {\n",
       "        vertical-align: top;\n",
       "    }\n",
       "\n",
       "    .dataframe thead th {\n",
       "        text-align: right;\n",
       "    }\n",
       "</style>\n",
       "<table border=\"1\" class=\"dataframe\">\n",
       "  <thead>\n",
       "    <tr style=\"text-align: right;\">\n",
       "      <th></th>\n",
       "      <th>exchange</th>\n",
       "      <th>timestamp</th>\n",
       "      <th>open</th>\n",
       "      <th>high</th>\n",
       "      <th>low</th>\n",
       "      <th>close</th>\n",
       "      <th>volume</th>\n",
       "    </tr>\n",
       "  </thead>\n",
       "  <tbody>\n",
       "    <tr>\n",
       "      <th>0</th>\n",
       "      <td>binance</td>\n",
       "      <td>2022-11-10T18:35:16.488</td>\n",
       "      <td>1260.59</td>\n",
       "      <td>1261.22</td>\n",
       "      <td>1260.55</td>\n",
       "      <td>1260.82</td>\n",
       "      <td>140.8706</td>\n",
       "    </tr>\n",
       "    <tr>\n",
       "      <th>1</th>\n",
       "      <td>binance</td>\n",
       "      <td>2022-11-10T18:35:19.352</td>\n",
       "      <td>1260.59</td>\n",
       "      <td>1261.22</td>\n",
       "      <td>1260.55</td>\n",
       "      <td>1260.81</td>\n",
       "      <td>147.2086</td>\n",
       "    </tr>\n",
       "    <tr>\n",
       "      <th>2</th>\n",
       "      <td>binance</td>\n",
       "      <td>2022-11-10T18:35:21.798</td>\n",
       "      <td>1260.59</td>\n",
       "      <td>1261.22</td>\n",
       "      <td>1260.55</td>\n",
       "      <td>1260.70</td>\n",
       "      <td>157.7518</td>\n",
       "    </tr>\n",
       "    <tr>\n",
       "      <th>3</th>\n",
       "      <td>binance</td>\n",
       "      <td>2022-11-10T18:35:25.257</td>\n",
       "      <td>1260.59</td>\n",
       "      <td>1261.22</td>\n",
       "      <td>1260.55</td>\n",
       "      <td>1260.77</td>\n",
       "      <td>172.9388</td>\n",
       "    </tr>\n",
       "    <tr>\n",
       "      <th>4</th>\n",
       "      <td>binance</td>\n",
       "      <td>2022-11-10T18:35:27.654</td>\n",
       "      <td>1260.59</td>\n",
       "      <td>1261.22</td>\n",
       "      <td>1260.55</td>\n",
       "      <td>1260.91</td>\n",
       "      <td>191.3054</td>\n",
       "    </tr>\n",
       "    <tr>\n",
       "      <th>5</th>\n",
       "      <td>binance</td>\n",
       "      <td>2022-11-10T18:35:30.056</td>\n",
       "      <td>1260.59</td>\n",
       "      <td>1261.22</td>\n",
       "      <td>1260.55</td>\n",
       "      <td>1260.86</td>\n",
       "      <td>200.4385</td>\n",
       "    </tr>\n",
       "    <tr>\n",
       "      <th>6</th>\n",
       "      <td>binance</td>\n",
       "      <td>2022-11-10T18:35:33.453</td>\n",
       "      <td>1260.59</td>\n",
       "      <td>1261.22</td>\n",
       "      <td>1260.55</td>\n",
       "      <td>1260.69</td>\n",
       "      <td>213.9666</td>\n",
       "    </tr>\n",
       "    <tr>\n",
       "      <th>7</th>\n",
       "      <td>binance</td>\n",
       "      <td>2022-11-10T18:35:36.452</td>\n",
       "      <td>1260.59</td>\n",
       "      <td>1261.22</td>\n",
       "      <td>1260.55</td>\n",
       "      <td>1260.83</td>\n",
       "      <td>226.3425</td>\n",
       "    </tr>\n",
       "    <tr>\n",
       "      <th>8</th>\n",
       "      <td>binance</td>\n",
       "      <td>2022-11-10T18:35:39.016</td>\n",
       "      <td>1260.59</td>\n",
       "      <td>1261.22</td>\n",
       "      <td>1260.55</td>\n",
       "      <td>1260.68</td>\n",
       "      <td>239.6662</td>\n",
       "    </tr>\n",
       "    <tr>\n",
       "      <th>9</th>\n",
       "      <td>binance</td>\n",
       "      <td>2022-11-10T18:35:41.404</td>\n",
       "      <td>1260.59</td>\n",
       "      <td>1261.22</td>\n",
       "      <td>1260.40</td>\n",
       "      <td>1260.55</td>\n",
       "      <td>247.9450</td>\n",
       "    </tr>\n",
       "  </tbody>\n",
       "</table>\n",
       "</div>"
      ],
      "text/plain": [
       "  exchange                timestamp     open     high      low    close  \\\n",
       "0  binance  2022-11-10T18:35:16.488  1260.59  1261.22  1260.55  1260.82   \n",
       "1  binance  2022-11-10T18:35:19.352  1260.59  1261.22  1260.55  1260.81   \n",
       "2  binance  2022-11-10T18:35:21.798  1260.59  1261.22  1260.55  1260.70   \n",
       "3  binance  2022-11-10T18:35:25.257  1260.59  1261.22  1260.55  1260.77   \n",
       "4  binance  2022-11-10T18:35:27.654  1260.59  1261.22  1260.55  1260.91   \n",
       "5  binance  2022-11-10T18:35:30.056  1260.59  1261.22  1260.55  1260.86   \n",
       "6  binance  2022-11-10T18:35:33.453  1260.59  1261.22  1260.55  1260.69   \n",
       "7  binance  2022-11-10T18:35:36.452  1260.59  1261.22  1260.55  1260.83   \n",
       "8  binance  2022-11-10T18:35:39.016  1260.59  1261.22  1260.55  1260.68   \n",
       "9  binance  2022-11-10T18:35:41.404  1260.59  1261.22  1260.40  1260.55   \n",
       "\n",
       "     volume  \n",
       "0  140.8706  \n",
       "1  147.2086  \n",
       "2  157.7518  \n",
       "3  172.9388  \n",
       "4  191.3054  \n",
       "5  200.4385  \n",
       "6  213.9666  \n",
       "7  226.3425  \n",
       "8  239.6662  \n",
       "9  247.9450  "
      ]
     },
     "execution_count": 96,
     "metadata": {},
     "output_type": "execute_result"
    }
   ],
   "source": [
    "verif_df2_OH = fn.concatenate(verif_0_E[1], verif_1_E[1], verif_2_E[1], n)\n",
    "verif_df2_OH.head(10)"
   ]
  },
  {
   "cell_type": "code",
   "execution_count": 97,
   "metadata": {},
   "outputs": [
    {
     "data": {
      "text/html": [
       "<div>\n",
       "<style scoped>\n",
       "    .dataframe tbody tr th:only-of-type {\n",
       "        vertical-align: middle;\n",
       "    }\n",
       "\n",
       "    .dataframe tbody tr th {\n",
       "        vertical-align: top;\n",
       "    }\n",
       "\n",
       "    .dataframe thead th {\n",
       "        text-align: right;\n",
       "    }\n",
       "</style>\n",
       "<table border=\"1\" class=\"dataframe\">\n",
       "  <thead>\n",
       "    <tr style=\"text-align: right;\">\n",
       "      <th></th>\n",
       "      <th>exchange</th>\n",
       "      <th>timestamp</th>\n",
       "      <th>open</th>\n",
       "      <th>high</th>\n",
       "      <th>low</th>\n",
       "      <th>close</th>\n",
       "      <th>volume</th>\n",
       "    </tr>\n",
       "  </thead>\n",
       "  <tbody>\n",
       "    <tr>\n",
       "      <th>50</th>\n",
       "      <td>bytetrade</td>\n",
       "      <td>2022-11-10T18:37:51.755</td>\n",
       "      <td>1259.95</td>\n",
       "      <td>1261.27</td>\n",
       "      <td>1258.84</td>\n",
       "      <td>1259.73</td>\n",
       "      <td>0.0447</td>\n",
       "    </tr>\n",
       "    <tr>\n",
       "      <th>51</th>\n",
       "      <td>bytetrade</td>\n",
       "      <td>2022-11-10T18:37:54.640</td>\n",
       "      <td>1259.95</td>\n",
       "      <td>1261.27</td>\n",
       "      <td>1258.84</td>\n",
       "      <td>1259.73</td>\n",
       "      <td>0.0447</td>\n",
       "    </tr>\n",
       "    <tr>\n",
       "      <th>52</th>\n",
       "      <td>bytetrade</td>\n",
       "      <td>2022-11-10T18:37:58.846</td>\n",
       "      <td>1259.95</td>\n",
       "      <td>1261.27</td>\n",
       "      <td>1258.84</td>\n",
       "      <td>1259.40</td>\n",
       "      <td>0.0494</td>\n",
       "    </tr>\n",
       "    <tr>\n",
       "      <th>53</th>\n",
       "      <td>bytetrade</td>\n",
       "      <td>2022-11-10T18:38:01.451</td>\n",
       "      <td>1260.60</td>\n",
       "      <td>1260.60</td>\n",
       "      <td>1260.60</td>\n",
       "      <td>1260.60</td>\n",
       "      <td>0.0000</td>\n",
       "    </tr>\n",
       "    <tr>\n",
       "      <th>54</th>\n",
       "      <td>bytetrade</td>\n",
       "      <td>2022-11-10T18:38:04.970</td>\n",
       "      <td>1260.60</td>\n",
       "      <td>1260.60</td>\n",
       "      <td>1260.60</td>\n",
       "      <td>1260.60</td>\n",
       "      <td>0.0000</td>\n",
       "    </tr>\n",
       "    <tr>\n",
       "      <th>55</th>\n",
       "      <td>bytetrade</td>\n",
       "      <td>2022-11-10T18:38:07.708</td>\n",
       "      <td>1260.24</td>\n",
       "      <td>1260.24</td>\n",
       "      <td>1260.24</td>\n",
       "      <td>1260.24</td>\n",
       "      <td>0.0047</td>\n",
       "    </tr>\n",
       "    <tr>\n",
       "      <th>56</th>\n",
       "      <td>bytetrade</td>\n",
       "      <td>2022-11-10T18:38:10.964</td>\n",
       "      <td>1260.24</td>\n",
       "      <td>1260.24</td>\n",
       "      <td>1260.24</td>\n",
       "      <td>1260.24</td>\n",
       "      <td>0.0047</td>\n",
       "    </tr>\n",
       "    <tr>\n",
       "      <th>57</th>\n",
       "      <td>bytetrade</td>\n",
       "      <td>2022-11-10T18:38:13.930</td>\n",
       "      <td>1260.24</td>\n",
       "      <td>1260.24</td>\n",
       "      <td>1259.13</td>\n",
       "      <td>1259.13</td>\n",
       "      <td>0.0104</td>\n",
       "    </tr>\n",
       "    <tr>\n",
       "      <th>58</th>\n",
       "      <td>bytetrade</td>\n",
       "      <td>2022-11-10T18:38:16.717</td>\n",
       "      <td>1260.24</td>\n",
       "      <td>1260.24</td>\n",
       "      <td>1259.09</td>\n",
       "      <td>1259.09</td>\n",
       "      <td>0.0136</td>\n",
       "    </tr>\n",
       "    <tr>\n",
       "      <th>59</th>\n",
       "      <td>bytetrade</td>\n",
       "      <td>2022-11-10T18:38:19.472</td>\n",
       "      <td>1260.24</td>\n",
       "      <td>1260.24</td>\n",
       "      <td>1259.09</td>\n",
       "      <td>1260.00</td>\n",
       "      <td>0.0160</td>\n",
       "    </tr>\n",
       "  </tbody>\n",
       "</table>\n",
       "</div>"
      ],
      "text/plain": [
       "     exchange                timestamp     open     high      low    close  \\\n",
       "50  bytetrade  2022-11-10T18:37:51.755  1259.95  1261.27  1258.84  1259.73   \n",
       "51  bytetrade  2022-11-10T18:37:54.640  1259.95  1261.27  1258.84  1259.73   \n",
       "52  bytetrade  2022-11-10T18:37:58.846  1259.95  1261.27  1258.84  1259.40   \n",
       "53  bytetrade  2022-11-10T18:38:01.451  1260.60  1260.60  1260.60  1260.60   \n",
       "54  bytetrade  2022-11-10T18:38:04.970  1260.60  1260.60  1260.60  1260.60   \n",
       "55  bytetrade  2022-11-10T18:38:07.708  1260.24  1260.24  1260.24  1260.24   \n",
       "56  bytetrade  2022-11-10T18:38:10.964  1260.24  1260.24  1260.24  1260.24   \n",
       "57  bytetrade  2022-11-10T18:38:13.930  1260.24  1260.24  1259.13  1259.13   \n",
       "58  bytetrade  2022-11-10T18:38:16.717  1260.24  1260.24  1259.09  1259.09   \n",
       "59  bytetrade  2022-11-10T18:38:19.472  1260.24  1260.24  1259.09  1260.00   \n",
       "\n",
       "    volume  \n",
       "50  0.0447  \n",
       "51  0.0447  \n",
       "52  0.0494  \n",
       "53  0.0000  \n",
       "54  0.0000  \n",
       "55  0.0047  \n",
       "56  0.0047  \n",
       "57  0.0104  \n",
       "58  0.0136  \n",
       "59  0.0160  "
      ]
     },
     "execution_count": 97,
     "metadata": {},
     "output_type": "execute_result"
    }
   ],
   "source": [
    "verif_df2_OH.tail(10)"
   ]
  },
  {
   "cell_type": "markdown",
   "metadata": {},
   "source": [
    "<font color= lightblue> <font size = 2> Verification XRP </font>"
   ]
  },
  {
   "cell_type": "code",
   "execution_count": 98,
   "metadata": {},
   "outputs": [
    {
     "data": {
      "text/plain": [
       "((25, 'XRP/USDT', 'binance'),\n",
       " (25, 'XRP/USDT', 'ftx'),\n",
       " (25, 'XRP/USDT', 'bytetrade'))"
      ]
     },
     "execution_count": 98,
     "metadata": {},
     "output_type": "execute_result"
    }
   ],
   "source": [
    "v_params0= 25, criptos[2], exchanges[0]\n",
    "v_params1= 25, criptos[2], exchanges[1]\n",
    "v_params2= 25, criptos[2], exchanges[2]\n",
    "v_params0, v_params1, v_params2"
   ]
  },
  {
   "cell_type": "code",
   "execution_count": 101,
   "metadata": {},
   "outputs": [],
   "source": [
    "verif_0_X = vs.verif_ex1(v_params0[0],v_params0[1], v_params0[2], n)\n",
    "verif_1_X = vs.verif_ex1(v_params1[0],v_params1[1], v_params1[2], n)\n",
    "verif_2_X = vs.verif_ex1(v_params2[0],v_params2[1], v_params2[2], n)"
   ]
  },
  {
   "cell_type": "markdown",
   "metadata": {},
   "source": [
    "In this example, bigger spreads can be detected on bytetrade for XRP. On the contrary, binance has lower spreads and bigger volumes as well."
   ]
  },
  {
   "cell_type": "code",
   "execution_count": 102,
   "metadata": {},
   "outputs": [
    {
     "data": {
      "text/html": [
       "<div>\n",
       "<style scoped>\n",
       "    .dataframe tbody tr th:only-of-type {\n",
       "        vertical-align: middle;\n",
       "    }\n",
       "\n",
       "    .dataframe tbody tr th {\n",
       "        vertical-align: top;\n",
       "    }\n",
       "\n",
       "    .dataframe thead th {\n",
       "        text-align: right;\n",
       "    }\n",
       "</style>\n",
       "<table border=\"1\" class=\"dataframe\">\n",
       "  <thead>\n",
       "    <tr style=\"text-align: right;\">\n",
       "      <th></th>\n",
       "      <th>exchange</th>\n",
       "      <th>timestamp</th>\n",
       "      <th>ask</th>\n",
       "      <th>bid</th>\n",
       "      <th>ask_volume</th>\n",
       "      <th>bid_volume</th>\n",
       "      <th>spread</th>\n",
       "      <th>close_price</th>\n",
       "    </tr>\n",
       "  </thead>\n",
       "  <tbody>\n",
       "    <tr>\n",
       "      <th>0</th>\n",
       "      <td>binance</td>\n",
       "      <td>2022-11-10T18:46:15.105</td>\n",
       "      <td>0.3788</td>\n",
       "      <td>0.3787</td>\n",
       "      <td>2276393.0</td>\n",
       "      <td>1632933.0</td>\n",
       "      <td>0.0001</td>\n",
       "      <td>0.3788</td>\n",
       "    </tr>\n",
       "    <tr>\n",
       "      <th>1</th>\n",
       "      <td>binance</td>\n",
       "      <td>2022-11-10T18:46:17.687</td>\n",
       "      <td>0.3789</td>\n",
       "      <td>0.3788</td>\n",
       "      <td>2266335.0</td>\n",
       "      <td>1613607.0</td>\n",
       "      <td>0.0001</td>\n",
       "      <td>0.3788</td>\n",
       "    </tr>\n",
       "    <tr>\n",
       "      <th>2</th>\n",
       "      <td>binance</td>\n",
       "      <td>2022-11-10T18:46:20.177</td>\n",
       "      <td>0.3789</td>\n",
       "      <td>0.3788</td>\n",
       "      <td>2249896.0</td>\n",
       "      <td>1608963.0</td>\n",
       "      <td>0.0001</td>\n",
       "      <td>0.3788</td>\n",
       "    </tr>\n",
       "    <tr>\n",
       "      <th>3</th>\n",
       "      <td>binance</td>\n",
       "      <td>2022-11-10T18:46:22.755</td>\n",
       "      <td>0.3789</td>\n",
       "      <td>0.3788</td>\n",
       "      <td>2289053.0</td>\n",
       "      <td>1622368.0</td>\n",
       "      <td>0.0001</td>\n",
       "      <td>0.3788</td>\n",
       "    </tr>\n",
       "    <tr>\n",
       "      <th>4</th>\n",
       "      <td>binance</td>\n",
       "      <td>2022-11-10T18:46:25.516</td>\n",
       "      <td>0.3790</td>\n",
       "      <td>0.3789</td>\n",
       "      <td>2240759.0</td>\n",
       "      <td>1625885.0</td>\n",
       "      <td>0.0001</td>\n",
       "      <td>0.3789</td>\n",
       "    </tr>\n",
       "    <tr>\n",
       "      <th>5</th>\n",
       "      <td>binance</td>\n",
       "      <td>2022-11-10T18:46:28.011</td>\n",
       "      <td>0.3790</td>\n",
       "      <td>0.3789</td>\n",
       "      <td>2202227.0</td>\n",
       "      <td>1584276.0</td>\n",
       "      <td>0.0001</td>\n",
       "      <td>0.3790</td>\n",
       "    </tr>\n",
       "    <tr>\n",
       "      <th>6</th>\n",
       "      <td>binance</td>\n",
       "      <td>2022-11-10T18:46:30.564</td>\n",
       "      <td>0.3790</td>\n",
       "      <td>0.3789</td>\n",
       "      <td>2281175.0</td>\n",
       "      <td>1681810.0</td>\n",
       "      <td>0.0001</td>\n",
       "      <td>0.3790</td>\n",
       "    </tr>\n",
       "    <tr>\n",
       "      <th>7</th>\n",
       "      <td>binance</td>\n",
       "      <td>2022-11-10T18:46:33.204</td>\n",
       "      <td>0.3790</td>\n",
       "      <td>0.3789</td>\n",
       "      <td>2077940.0</td>\n",
       "      <td>1643481.0</td>\n",
       "      <td>0.0001</td>\n",
       "      <td>0.3789</td>\n",
       "    </tr>\n",
       "    <tr>\n",
       "      <th>8</th>\n",
       "      <td>binance</td>\n",
       "      <td>2022-11-10T18:46:36.296</td>\n",
       "      <td>0.3792</td>\n",
       "      <td>0.3791</td>\n",
       "      <td>2025475.0</td>\n",
       "      <td>1471723.0</td>\n",
       "      <td>0.0001</td>\n",
       "      <td>0.3792</td>\n",
       "    </tr>\n",
       "    <tr>\n",
       "      <th>9</th>\n",
       "      <td>binance</td>\n",
       "      <td>2022-11-10T18:46:39.125</td>\n",
       "      <td>0.3793</td>\n",
       "      <td>0.3792</td>\n",
       "      <td>2050374.0</td>\n",
       "      <td>1484022.0</td>\n",
       "      <td>0.0001</td>\n",
       "      <td>0.3792</td>\n",
       "    </tr>\n",
       "  </tbody>\n",
       "</table>\n",
       "</div>"
      ],
      "text/plain": [
       "  exchange                timestamp     ask     bid  ask_volume  bid_volume  \\\n",
       "0  binance  2022-11-10T18:46:15.105  0.3788  0.3787   2276393.0   1632933.0   \n",
       "1  binance  2022-11-10T18:46:17.687  0.3789  0.3788   2266335.0   1613607.0   \n",
       "2  binance  2022-11-10T18:46:20.177  0.3789  0.3788   2249896.0   1608963.0   \n",
       "3  binance  2022-11-10T18:46:22.755  0.3789  0.3788   2289053.0   1622368.0   \n",
       "4  binance  2022-11-10T18:46:25.516  0.3790  0.3789   2240759.0   1625885.0   \n",
       "5  binance  2022-11-10T18:46:28.011  0.3790  0.3789   2202227.0   1584276.0   \n",
       "6  binance  2022-11-10T18:46:30.564  0.3790  0.3789   2281175.0   1681810.0   \n",
       "7  binance  2022-11-10T18:46:33.204  0.3790  0.3789   2077940.0   1643481.0   \n",
       "8  binance  2022-11-10T18:46:36.296  0.3792  0.3791   2025475.0   1471723.0   \n",
       "9  binance  2022-11-10T18:46:39.125  0.3793  0.3792   2050374.0   1484022.0   \n",
       "\n",
       "   spread  close_price  \n",
       "0  0.0001       0.3788  \n",
       "1  0.0001       0.3788  \n",
       "2  0.0001       0.3788  \n",
       "3  0.0001       0.3788  \n",
       "4  0.0001       0.3789  \n",
       "5  0.0001       0.3790  \n",
       "6  0.0001       0.3790  \n",
       "7  0.0001       0.3789  \n",
       "8  0.0001       0.3792  \n",
       "9  0.0001       0.3792  "
      ]
     },
     "execution_count": 102,
     "metadata": {},
     "output_type": "execute_result"
    }
   ],
   "source": [
    "verif_df3 = fn.concatenate(verif_0_X[0], verif_1_X[0], verif_2_X[0], n)\n",
    "verif_df3.head(10)"
   ]
  },
  {
   "cell_type": "code",
   "execution_count": 103,
   "metadata": {},
   "outputs": [
    {
     "data": {
      "text/html": [
       "<div>\n",
       "<style scoped>\n",
       "    .dataframe tbody tr th:only-of-type {\n",
       "        vertical-align: middle;\n",
       "    }\n",
       "\n",
       "    .dataframe tbody tr th {\n",
       "        vertical-align: top;\n",
       "    }\n",
       "\n",
       "    .dataframe thead th {\n",
       "        text-align: right;\n",
       "    }\n",
       "</style>\n",
       "<table border=\"1\" class=\"dataframe\">\n",
       "  <thead>\n",
       "    <tr style=\"text-align: right;\">\n",
       "      <th></th>\n",
       "      <th>exchange</th>\n",
       "      <th>timestamp</th>\n",
       "      <th>ask</th>\n",
       "      <th>bid</th>\n",
       "      <th>ask_volume</th>\n",
       "      <th>bid_volume</th>\n",
       "      <th>spread</th>\n",
       "      <th>close_price</th>\n",
       "    </tr>\n",
       "  </thead>\n",
       "  <tbody>\n",
       "    <tr>\n",
       "      <th>50</th>\n",
       "      <td>bytetrade</td>\n",
       "      <td>2022-11-10T18:48:40.582</td>\n",
       "      <td>0.397543</td>\n",
       "      <td>0.357739</td>\n",
       "      <td>7.434</td>\n",
       "      <td>2495.6248</td>\n",
       "      <td>0.039804</td>\n",
       "      <td>0.377465</td>\n",
       "    </tr>\n",
       "    <tr>\n",
       "      <th>51</th>\n",
       "      <td>bytetrade</td>\n",
       "      <td>2022-11-10T18:48:43.308</td>\n",
       "      <td>0.397543</td>\n",
       "      <td>0.357739</td>\n",
       "      <td>7.434</td>\n",
       "      <td>2250.3335</td>\n",
       "      <td>0.039804</td>\n",
       "      <td>0.377732</td>\n",
       "    </tr>\n",
       "    <tr>\n",
       "      <th>52</th>\n",
       "      <td>bytetrade</td>\n",
       "      <td>2022-11-10T18:48:45.752</td>\n",
       "      <td>0.397543</td>\n",
       "      <td>0.357739</td>\n",
       "      <td>7.434</td>\n",
       "      <td>2250.3335</td>\n",
       "      <td>0.039804</td>\n",
       "      <td>0.377732</td>\n",
       "    </tr>\n",
       "    <tr>\n",
       "      <th>53</th>\n",
       "      <td>bytetrade</td>\n",
       "      <td>2022-11-10T18:48:48.677</td>\n",
       "      <td>0.397543</td>\n",
       "      <td>0.357739</td>\n",
       "      <td>7.434</td>\n",
       "      <td>2417.1554</td>\n",
       "      <td>0.039804</td>\n",
       "      <td>0.377732</td>\n",
       "    </tr>\n",
       "    <tr>\n",
       "      <th>54</th>\n",
       "      <td>bytetrade</td>\n",
       "      <td>2022-11-10T18:48:51.801</td>\n",
       "      <td>0.397543</td>\n",
       "      <td>0.357739</td>\n",
       "      <td>7.434</td>\n",
       "      <td>2417.1554</td>\n",
       "      <td>0.039804</td>\n",
       "      <td>0.377990</td>\n",
       "    </tr>\n",
       "    <tr>\n",
       "      <th>55</th>\n",
       "      <td>bytetrade</td>\n",
       "      <td>2022-11-10T18:48:54.450</td>\n",
       "      <td>0.397543</td>\n",
       "      <td>0.357739</td>\n",
       "      <td>7.434</td>\n",
       "      <td>2373.8037</td>\n",
       "      <td>0.039804</td>\n",
       "      <td>0.377971</td>\n",
       "    </tr>\n",
       "    <tr>\n",
       "      <th>56</th>\n",
       "      <td>bytetrade</td>\n",
       "      <td>2022-11-10T18:48:57.144</td>\n",
       "      <td>0.397543</td>\n",
       "      <td>0.357739</td>\n",
       "      <td>7.434</td>\n",
       "      <td>2373.8037</td>\n",
       "      <td>0.039804</td>\n",
       "      <td>0.377271</td>\n",
       "    </tr>\n",
       "    <tr>\n",
       "      <th>57</th>\n",
       "      <td>bytetrade</td>\n",
       "      <td>2022-11-10T18:48:59.544</td>\n",
       "      <td>0.397543</td>\n",
       "      <td>0.357739</td>\n",
       "      <td>7.434</td>\n",
       "      <td>2373.8037</td>\n",
       "      <td>0.039804</td>\n",
       "      <td>0.377271</td>\n",
       "    </tr>\n",
       "    <tr>\n",
       "      <th>58</th>\n",
       "      <td>bytetrade</td>\n",
       "      <td>2022-11-10T18:49:03.211</td>\n",
       "      <td>0.397543</td>\n",
       "      <td>0.357739</td>\n",
       "      <td>7.434</td>\n",
       "      <td>2373.8037</td>\n",
       "      <td>0.039804</td>\n",
       "      <td>0.377590</td>\n",
       "    </tr>\n",
       "    <tr>\n",
       "      <th>59</th>\n",
       "      <td>bytetrade</td>\n",
       "      <td>2022-11-10T18:49:05.701</td>\n",
       "      <td>0.397543</td>\n",
       "      <td>0.357739</td>\n",
       "      <td>7.434</td>\n",
       "      <td>2373.8037</td>\n",
       "      <td>0.039804</td>\n",
       "      <td>0.377692</td>\n",
       "    </tr>\n",
       "  </tbody>\n",
       "</table>\n",
       "</div>"
      ],
      "text/plain": [
       "     exchange                timestamp       ask       bid  ask_volume  \\\n",
       "50  bytetrade  2022-11-10T18:48:40.582  0.397543  0.357739       7.434   \n",
       "51  bytetrade  2022-11-10T18:48:43.308  0.397543  0.357739       7.434   \n",
       "52  bytetrade  2022-11-10T18:48:45.752  0.397543  0.357739       7.434   \n",
       "53  bytetrade  2022-11-10T18:48:48.677  0.397543  0.357739       7.434   \n",
       "54  bytetrade  2022-11-10T18:48:51.801  0.397543  0.357739       7.434   \n",
       "55  bytetrade  2022-11-10T18:48:54.450  0.397543  0.357739       7.434   \n",
       "56  bytetrade  2022-11-10T18:48:57.144  0.397543  0.357739       7.434   \n",
       "57  bytetrade  2022-11-10T18:48:59.544  0.397543  0.357739       7.434   \n",
       "58  bytetrade  2022-11-10T18:49:03.211  0.397543  0.357739       7.434   \n",
       "59  bytetrade  2022-11-10T18:49:05.701  0.397543  0.357739       7.434   \n",
       "\n",
       "    bid_volume    spread  close_price  \n",
       "50   2495.6248  0.039804     0.377465  \n",
       "51   2250.3335  0.039804     0.377732  \n",
       "52   2250.3335  0.039804     0.377732  \n",
       "53   2417.1554  0.039804     0.377732  \n",
       "54   2417.1554  0.039804     0.377990  \n",
       "55   2373.8037  0.039804     0.377971  \n",
       "56   2373.8037  0.039804     0.377271  \n",
       "57   2373.8037  0.039804     0.377271  \n",
       "58   2373.8037  0.039804     0.377590  \n",
       "59   2373.8037  0.039804     0.377692  "
      ]
     },
     "execution_count": 103,
     "metadata": {},
     "output_type": "execute_result"
    }
   ],
   "source": [
    "verif_df3.tail(10)"
   ]
  },
  {
   "cell_type": "markdown",
   "metadata": {},
   "source": [
    "<font color= lightblue> <font size = 2> OHLCV XRP </font>"
   ]
  },
  {
   "cell_type": "markdown",
   "metadata": {},
   "source": [
    "AS it can be seen volume is almost null in certain timestamps for some exchanges and this represent liquidity issues so lower prices shouldn´t be always better but depending on the situation."
   ]
  },
  {
   "cell_type": "code",
   "execution_count": 134,
   "metadata": {},
   "outputs": [
    {
     "data": {
      "text/html": [
       "<div>\n",
       "<style scoped>\n",
       "    .dataframe tbody tr th:only-of-type {\n",
       "        vertical-align: middle;\n",
       "    }\n",
       "\n",
       "    .dataframe tbody tr th {\n",
       "        vertical-align: top;\n",
       "    }\n",
       "\n",
       "    .dataframe thead th {\n",
       "        text-align: right;\n",
       "    }\n",
       "</style>\n",
       "<table border=\"1\" class=\"dataframe\">\n",
       "  <thead>\n",
       "    <tr style=\"text-align: right;\">\n",
       "      <th></th>\n",
       "      <th>exchange</th>\n",
       "      <th>timestamp</th>\n",
       "      <th>open</th>\n",
       "      <th>high</th>\n",
       "      <th>low</th>\n",
       "      <th>close</th>\n",
       "      <th>volume</th>\n",
       "    </tr>\n",
       "  </thead>\n",
       "  <tbody>\n",
       "    <tr>\n",
       "      <th>0</th>\n",
       "      <td>binance</td>\n",
       "      <td>2022-11-10T18:46:15.105</td>\n",
       "      <td>0.3789</td>\n",
       "      <td>0.37900</td>\n",
       "      <td>0.3787</td>\n",
       "      <td>0.37880</td>\n",
       "      <td>31910.0000</td>\n",
       "    </tr>\n",
       "    <tr>\n",
       "      <th>1</th>\n",
       "      <td>binance</td>\n",
       "      <td>2022-11-10T18:46:17.687</td>\n",
       "      <td>0.3789</td>\n",
       "      <td>0.37900</td>\n",
       "      <td>0.3787</td>\n",
       "      <td>0.37880</td>\n",
       "      <td>33876.0000</td>\n",
       "    </tr>\n",
       "    <tr>\n",
       "      <th>2</th>\n",
       "      <td>binance</td>\n",
       "      <td>2022-11-10T18:46:20.177</td>\n",
       "      <td>0.3789</td>\n",
       "      <td>0.37900</td>\n",
       "      <td>0.3787</td>\n",
       "      <td>0.37880</td>\n",
       "      <td>33991.0000</td>\n",
       "    </tr>\n",
       "    <tr>\n",
       "      <th>3</th>\n",
       "      <td>binance</td>\n",
       "      <td>2022-11-10T18:46:22.755</td>\n",
       "      <td>0.3789</td>\n",
       "      <td>0.37900</td>\n",
       "      <td>0.3787</td>\n",
       "      <td>0.37880</td>\n",
       "      <td>35886.0000</td>\n",
       "    </tr>\n",
       "    <tr>\n",
       "      <th>4</th>\n",
       "      <td>binance</td>\n",
       "      <td>2022-11-10T18:46:25.516</td>\n",
       "      <td>0.3789</td>\n",
       "      <td>0.37900</td>\n",
       "      <td>0.3787</td>\n",
       "      <td>0.37890</td>\n",
       "      <td>39507.0000</td>\n",
       "    </tr>\n",
       "    <tr>\n",
       "      <th>5</th>\n",
       "      <td>binance</td>\n",
       "      <td>2022-11-10T18:46:28.011</td>\n",
       "      <td>0.3789</td>\n",
       "      <td>0.37900</td>\n",
       "      <td>0.3787</td>\n",
       "      <td>0.37900</td>\n",
       "      <td>40009.0000</td>\n",
       "    </tr>\n",
       "    <tr>\n",
       "      <th>6</th>\n",
       "      <td>binance</td>\n",
       "      <td>2022-11-10T18:46:30.564</td>\n",
       "      <td>0.3789</td>\n",
       "      <td>0.37900</td>\n",
       "      <td>0.3787</td>\n",
       "      <td>0.37900</td>\n",
       "      <td>40273.0000</td>\n",
       "    </tr>\n",
       "    <tr>\n",
       "      <th>7</th>\n",
       "      <td>binance</td>\n",
       "      <td>2022-11-10T18:46:33.204</td>\n",
       "      <td>0.3789</td>\n",
       "      <td>0.37900</td>\n",
       "      <td>0.3787</td>\n",
       "      <td>0.37890</td>\n",
       "      <td>48323.0000</td>\n",
       "    </tr>\n",
       "    <tr>\n",
       "      <th>8</th>\n",
       "      <td>binance</td>\n",
       "      <td>2022-11-10T18:46:36.296</td>\n",
       "      <td>0.3789</td>\n",
       "      <td>0.37920</td>\n",
       "      <td>0.3787</td>\n",
       "      <td>0.37920</td>\n",
       "      <td>84339.0000</td>\n",
       "    </tr>\n",
       "    <tr>\n",
       "      <th>9</th>\n",
       "      <td>binance</td>\n",
       "      <td>2022-11-10T18:46:39.125</td>\n",
       "      <td>0.3789</td>\n",
       "      <td>0.37920</td>\n",
       "      <td>0.3787</td>\n",
       "      <td>0.37920</td>\n",
       "      <td>84339.0000</td>\n",
       "    </tr>\n",
       "    <tr>\n",
       "      <th>10</th>\n",
       "      <td>binance</td>\n",
       "      <td>2022-11-10T18:46:41.552</td>\n",
       "      <td>0.3789</td>\n",
       "      <td>0.37920</td>\n",
       "      <td>0.3787</td>\n",
       "      <td>0.37920</td>\n",
       "      <td>84339.0000</td>\n",
       "    </tr>\n",
       "    <tr>\n",
       "      <th>11</th>\n",
       "      <td>binance</td>\n",
       "      <td>2022-11-10T18:46:44.021</td>\n",
       "      <td>0.3789</td>\n",
       "      <td>0.37930</td>\n",
       "      <td>0.3787</td>\n",
       "      <td>0.37930</td>\n",
       "      <td>85088.0000</td>\n",
       "    </tr>\n",
       "    <tr>\n",
       "      <th>12</th>\n",
       "      <td>binance</td>\n",
       "      <td>2022-11-10T18:46:46.853</td>\n",
       "      <td>0.3789</td>\n",
       "      <td>0.37930</td>\n",
       "      <td>0.3787</td>\n",
       "      <td>0.37930</td>\n",
       "      <td>86200.0000</td>\n",
       "    </tr>\n",
       "    <tr>\n",
       "      <th>13</th>\n",
       "      <td>binance</td>\n",
       "      <td>2022-11-10T18:46:49.294</td>\n",
       "      <td>0.3789</td>\n",
       "      <td>0.37940</td>\n",
       "      <td>0.3787</td>\n",
       "      <td>0.37930</td>\n",
       "      <td>88109.0000</td>\n",
       "    </tr>\n",
       "    <tr>\n",
       "      <th>14</th>\n",
       "      <td>binance</td>\n",
       "      <td>2022-11-10T18:46:52.011</td>\n",
       "      <td>0.3789</td>\n",
       "      <td>0.37940</td>\n",
       "      <td>0.3787</td>\n",
       "      <td>0.37920</td>\n",
       "      <td>101319.0000</td>\n",
       "    </tr>\n",
       "    <tr>\n",
       "      <th>15</th>\n",
       "      <td>binance</td>\n",
       "      <td>2022-11-10T18:46:54.488</td>\n",
       "      <td>0.3789</td>\n",
       "      <td>0.37940</td>\n",
       "      <td>0.3787</td>\n",
       "      <td>0.37920</td>\n",
       "      <td>108030.0000</td>\n",
       "    </tr>\n",
       "    <tr>\n",
       "      <th>16</th>\n",
       "      <td>binance</td>\n",
       "      <td>2022-11-10T18:46:57.003</td>\n",
       "      <td>0.3789</td>\n",
       "      <td>0.37940</td>\n",
       "      <td>0.3787</td>\n",
       "      <td>0.37920</td>\n",
       "      <td>112793.0000</td>\n",
       "    </tr>\n",
       "    <tr>\n",
       "      <th>17</th>\n",
       "      <td>binance</td>\n",
       "      <td>2022-11-10T18:46:59.550</td>\n",
       "      <td>0.3789</td>\n",
       "      <td>0.37940</td>\n",
       "      <td>0.3787</td>\n",
       "      <td>0.37920</td>\n",
       "      <td>112793.0000</td>\n",
       "    </tr>\n",
       "    <tr>\n",
       "      <th>18</th>\n",
       "      <td>binance</td>\n",
       "      <td>2022-11-10T18:47:02.669</td>\n",
       "      <td>0.3793</td>\n",
       "      <td>0.37930</td>\n",
       "      <td>0.3793</td>\n",
       "      <td>0.37930</td>\n",
       "      <td>122.0000</td>\n",
       "    </tr>\n",
       "    <tr>\n",
       "      <th>19</th>\n",
       "      <td>binance</td>\n",
       "      <td>2022-11-10T18:47:05.130</td>\n",
       "      <td>0.3793</td>\n",
       "      <td>0.37930</td>\n",
       "      <td>0.3792</td>\n",
       "      <td>0.37920</td>\n",
       "      <td>671.0000</td>\n",
       "    </tr>\n",
       "    <tr>\n",
       "      <th>20</th>\n",
       "      <td>ftx</td>\n",
       "      <td>2022-11-10T18:47:08.192</td>\n",
       "      <td>0.3650</td>\n",
       "      <td>0.36500</td>\n",
       "      <td>0.3650</td>\n",
       "      <td>0.36500</td>\n",
       "      <td>0.0000</td>\n",
       "    </tr>\n",
       "    <tr>\n",
       "      <th>21</th>\n",
       "      <td>ftx</td>\n",
       "      <td>2022-11-10T18:47:11.227</td>\n",
       "      <td>0.3650</td>\n",
       "      <td>0.36500</td>\n",
       "      <td>0.3650</td>\n",
       "      <td>0.36500</td>\n",
       "      <td>0.0000</td>\n",
       "    </tr>\n",
       "    <tr>\n",
       "      <th>22</th>\n",
       "      <td>ftx</td>\n",
       "      <td>2022-11-10T18:47:14.266</td>\n",
       "      <td>0.3650</td>\n",
       "      <td>0.36500</td>\n",
       "      <td>0.3650</td>\n",
       "      <td>0.36500</td>\n",
       "      <td>0.0000</td>\n",
       "    </tr>\n",
       "    <tr>\n",
       "      <th>23</th>\n",
       "      <td>ftx</td>\n",
       "      <td>2022-11-10T18:47:17.333</td>\n",
       "      <td>0.3650</td>\n",
       "      <td>0.36515</td>\n",
       "      <td>0.3650</td>\n",
       "      <td>0.36500</td>\n",
       "      <td>15.3363</td>\n",
       "    </tr>\n",
       "    <tr>\n",
       "      <th>24</th>\n",
       "      <td>ftx</td>\n",
       "      <td>2022-11-10T18:47:20.591</td>\n",
       "      <td>0.3650</td>\n",
       "      <td>0.36515</td>\n",
       "      <td>0.3650</td>\n",
       "      <td>0.36515</td>\n",
       "      <td>15.3363</td>\n",
       "    </tr>\n",
       "    <tr>\n",
       "      <th>25</th>\n",
       "      <td>ftx</td>\n",
       "      <td>2022-11-10T18:47:23.808</td>\n",
       "      <td>0.3650</td>\n",
       "      <td>0.36515</td>\n",
       "      <td>0.3650</td>\n",
       "      <td>0.36515</td>\n",
       "      <td>15.3363</td>\n",
       "    </tr>\n",
       "    <tr>\n",
       "      <th>26</th>\n",
       "      <td>ftx</td>\n",
       "      <td>2022-11-10T18:47:27.012</td>\n",
       "      <td>0.3650</td>\n",
       "      <td>0.36515</td>\n",
       "      <td>0.3650</td>\n",
       "      <td>0.36515</td>\n",
       "      <td>15.3363</td>\n",
       "    </tr>\n",
       "    <tr>\n",
       "      <th>27</th>\n",
       "      <td>ftx</td>\n",
       "      <td>2022-11-10T18:47:30.948</td>\n",
       "      <td>0.3650</td>\n",
       "      <td>0.36515</td>\n",
       "      <td>0.3650</td>\n",
       "      <td>0.36515</td>\n",
       "      <td>15.3363</td>\n",
       "    </tr>\n",
       "    <tr>\n",
       "      <th>28</th>\n",
       "      <td>ftx</td>\n",
       "      <td>2022-11-10T18:47:34.948</td>\n",
       "      <td>0.3650</td>\n",
       "      <td>0.36515</td>\n",
       "      <td>0.3650</td>\n",
       "      <td>0.36515</td>\n",
       "      <td>15.3363</td>\n",
       "    </tr>\n",
       "    <tr>\n",
       "      <th>29</th>\n",
       "      <td>ftx</td>\n",
       "      <td>2022-11-10T18:47:37.556</td>\n",
       "      <td>0.3650</td>\n",
       "      <td>0.36515</td>\n",
       "      <td>0.3650</td>\n",
       "      <td>0.36515</td>\n",
       "      <td>15.3363</td>\n",
       "    </tr>\n",
       "  </tbody>\n",
       "</table>\n",
       "</div>"
      ],
      "text/plain": [
       "   exchange                timestamp    open     high     low    close  \\\n",
       "0   binance  2022-11-10T18:46:15.105  0.3789  0.37900  0.3787  0.37880   \n",
       "1   binance  2022-11-10T18:46:17.687  0.3789  0.37900  0.3787  0.37880   \n",
       "2   binance  2022-11-10T18:46:20.177  0.3789  0.37900  0.3787  0.37880   \n",
       "3   binance  2022-11-10T18:46:22.755  0.3789  0.37900  0.3787  0.37880   \n",
       "4   binance  2022-11-10T18:46:25.516  0.3789  0.37900  0.3787  0.37890   \n",
       "5   binance  2022-11-10T18:46:28.011  0.3789  0.37900  0.3787  0.37900   \n",
       "6   binance  2022-11-10T18:46:30.564  0.3789  0.37900  0.3787  0.37900   \n",
       "7   binance  2022-11-10T18:46:33.204  0.3789  0.37900  0.3787  0.37890   \n",
       "8   binance  2022-11-10T18:46:36.296  0.3789  0.37920  0.3787  0.37920   \n",
       "9   binance  2022-11-10T18:46:39.125  0.3789  0.37920  0.3787  0.37920   \n",
       "10  binance  2022-11-10T18:46:41.552  0.3789  0.37920  0.3787  0.37920   \n",
       "11  binance  2022-11-10T18:46:44.021  0.3789  0.37930  0.3787  0.37930   \n",
       "12  binance  2022-11-10T18:46:46.853  0.3789  0.37930  0.3787  0.37930   \n",
       "13  binance  2022-11-10T18:46:49.294  0.3789  0.37940  0.3787  0.37930   \n",
       "14  binance  2022-11-10T18:46:52.011  0.3789  0.37940  0.3787  0.37920   \n",
       "15  binance  2022-11-10T18:46:54.488  0.3789  0.37940  0.3787  0.37920   \n",
       "16  binance  2022-11-10T18:46:57.003  0.3789  0.37940  0.3787  0.37920   \n",
       "17  binance  2022-11-10T18:46:59.550  0.3789  0.37940  0.3787  0.37920   \n",
       "18  binance  2022-11-10T18:47:02.669  0.3793  0.37930  0.3793  0.37930   \n",
       "19  binance  2022-11-10T18:47:05.130  0.3793  0.37930  0.3792  0.37920   \n",
       "20      ftx  2022-11-10T18:47:08.192  0.3650  0.36500  0.3650  0.36500   \n",
       "21      ftx  2022-11-10T18:47:11.227  0.3650  0.36500  0.3650  0.36500   \n",
       "22      ftx  2022-11-10T18:47:14.266  0.3650  0.36500  0.3650  0.36500   \n",
       "23      ftx  2022-11-10T18:47:17.333  0.3650  0.36515  0.3650  0.36500   \n",
       "24      ftx  2022-11-10T18:47:20.591  0.3650  0.36515  0.3650  0.36515   \n",
       "25      ftx  2022-11-10T18:47:23.808  0.3650  0.36515  0.3650  0.36515   \n",
       "26      ftx  2022-11-10T18:47:27.012  0.3650  0.36515  0.3650  0.36515   \n",
       "27      ftx  2022-11-10T18:47:30.948  0.3650  0.36515  0.3650  0.36515   \n",
       "28      ftx  2022-11-10T18:47:34.948  0.3650  0.36515  0.3650  0.36515   \n",
       "29      ftx  2022-11-10T18:47:37.556  0.3650  0.36515  0.3650  0.36515   \n",
       "\n",
       "         volume  \n",
       "0    31910.0000  \n",
       "1    33876.0000  \n",
       "2    33991.0000  \n",
       "3    35886.0000  \n",
       "4    39507.0000  \n",
       "5    40009.0000  \n",
       "6    40273.0000  \n",
       "7    48323.0000  \n",
       "8    84339.0000  \n",
       "9    84339.0000  \n",
       "10   84339.0000  \n",
       "11   85088.0000  \n",
       "12   86200.0000  \n",
       "13   88109.0000  \n",
       "14  101319.0000  \n",
       "15  108030.0000  \n",
       "16  112793.0000  \n",
       "17  112793.0000  \n",
       "18     122.0000  \n",
       "19     671.0000  \n",
       "20       0.0000  \n",
       "21       0.0000  \n",
       "22       0.0000  \n",
       "23      15.3363  \n",
       "24      15.3363  \n",
       "25      15.3363  \n",
       "26      15.3363  \n",
       "27      15.3363  \n",
       "28      15.3363  \n",
       "29      15.3363  "
      ]
     },
     "execution_count": 134,
     "metadata": {},
     "output_type": "execute_result"
    }
   ],
   "source": [
    "verif_df3_OH = fn.concatenate(verif_0_X[1], verif_1_X[1], verif_2_X[1], n)\n",
    "verif_df3_OH.head(30)"
   ]
  },
  {
   "cell_type": "code",
   "execution_count": 105,
   "metadata": {},
   "outputs": [
    {
     "data": {
      "text/html": [
       "<div>\n",
       "<style scoped>\n",
       "    .dataframe tbody tr th:only-of-type {\n",
       "        vertical-align: middle;\n",
       "    }\n",
       "\n",
       "    .dataframe tbody tr th {\n",
       "        vertical-align: top;\n",
       "    }\n",
       "\n",
       "    .dataframe thead th {\n",
       "        text-align: right;\n",
       "    }\n",
       "</style>\n",
       "<table border=\"1\" class=\"dataframe\">\n",
       "  <thead>\n",
       "    <tr style=\"text-align: right;\">\n",
       "      <th></th>\n",
       "      <th>exchange</th>\n",
       "      <th>timestamp</th>\n",
       "      <th>open</th>\n",
       "      <th>high</th>\n",
       "      <th>low</th>\n",
       "      <th>close</th>\n",
       "      <th>volume</th>\n",
       "    </tr>\n",
       "  </thead>\n",
       "  <tbody>\n",
       "    <tr>\n",
       "      <th>50</th>\n",
       "      <td>bytetrade</td>\n",
       "      <td>2022-11-10T18:48:40.582</td>\n",
       "      <td>0.377454</td>\n",
       "      <td>0.377819</td>\n",
       "      <td>0.377444</td>\n",
       "      <td>0.377465</td>\n",
       "      <td>0.2520</td>\n",
       "    </tr>\n",
       "    <tr>\n",
       "      <th>51</th>\n",
       "      <td>bytetrade</td>\n",
       "      <td>2022-11-10T18:48:43.308</td>\n",
       "      <td>0.377454</td>\n",
       "      <td>0.377819</td>\n",
       "      <td>0.377444</td>\n",
       "      <td>0.377732</td>\n",
       "      <td>0.2622</td>\n",
       "    </tr>\n",
       "    <tr>\n",
       "      <th>52</th>\n",
       "      <td>bytetrade</td>\n",
       "      <td>2022-11-10T18:48:45.752</td>\n",
       "      <td>0.377454</td>\n",
       "      <td>0.377819</td>\n",
       "      <td>0.377444</td>\n",
       "      <td>0.377732</td>\n",
       "      <td>0.2622</td>\n",
       "    </tr>\n",
       "    <tr>\n",
       "      <th>53</th>\n",
       "      <td>bytetrade</td>\n",
       "      <td>2022-11-10T18:48:48.677</td>\n",
       "      <td>0.377454</td>\n",
       "      <td>0.377819</td>\n",
       "      <td>0.377444</td>\n",
       "      <td>0.377732</td>\n",
       "      <td>0.2622</td>\n",
       "    </tr>\n",
       "    <tr>\n",
       "      <th>54</th>\n",
       "      <td>bytetrade</td>\n",
       "      <td>2022-11-10T18:48:51.801</td>\n",
       "      <td>0.377454</td>\n",
       "      <td>0.377990</td>\n",
       "      <td>0.377444</td>\n",
       "      <td>0.377990</td>\n",
       "      <td>0.2706</td>\n",
       "    </tr>\n",
       "    <tr>\n",
       "      <th>55</th>\n",
       "      <td>bytetrade</td>\n",
       "      <td>2022-11-10T18:48:54.450</td>\n",
       "      <td>0.377454</td>\n",
       "      <td>0.377990</td>\n",
       "      <td>0.377444</td>\n",
       "      <td>0.377971</td>\n",
       "      <td>0.2905</td>\n",
       "    </tr>\n",
       "    <tr>\n",
       "      <th>56</th>\n",
       "      <td>bytetrade</td>\n",
       "      <td>2022-11-10T18:48:57.144</td>\n",
       "      <td>0.377454</td>\n",
       "      <td>0.377990</td>\n",
       "      <td>0.377271</td>\n",
       "      <td>0.377271</td>\n",
       "      <td>0.3172</td>\n",
       "    </tr>\n",
       "    <tr>\n",
       "      <th>57</th>\n",
       "      <td>bytetrade</td>\n",
       "      <td>2022-11-10T18:48:59.544</td>\n",
       "      <td>0.377454</td>\n",
       "      <td>0.377990</td>\n",
       "      <td>0.377271</td>\n",
       "      <td>0.377271</td>\n",
       "      <td>0.3172</td>\n",
       "    </tr>\n",
       "    <tr>\n",
       "      <th>58</th>\n",
       "      <td>bytetrade</td>\n",
       "      <td>2022-11-10T18:49:03.211</td>\n",
       "      <td>0.377590</td>\n",
       "      <td>0.377590</td>\n",
       "      <td>0.377590</td>\n",
       "      <td>0.377590</td>\n",
       "      <td>0.0300</td>\n",
       "    </tr>\n",
       "    <tr>\n",
       "      <th>59</th>\n",
       "      <td>bytetrade</td>\n",
       "      <td>2022-11-10T18:49:05.701</td>\n",
       "      <td>0.377590</td>\n",
       "      <td>0.377692</td>\n",
       "      <td>0.377590</td>\n",
       "      <td>0.377692</td>\n",
       "      <td>0.0414</td>\n",
       "    </tr>\n",
       "  </tbody>\n",
       "</table>\n",
       "</div>"
      ],
      "text/plain": [
       "     exchange                timestamp      open      high       low  \\\n",
       "50  bytetrade  2022-11-10T18:48:40.582  0.377454  0.377819  0.377444   \n",
       "51  bytetrade  2022-11-10T18:48:43.308  0.377454  0.377819  0.377444   \n",
       "52  bytetrade  2022-11-10T18:48:45.752  0.377454  0.377819  0.377444   \n",
       "53  bytetrade  2022-11-10T18:48:48.677  0.377454  0.377819  0.377444   \n",
       "54  bytetrade  2022-11-10T18:48:51.801  0.377454  0.377990  0.377444   \n",
       "55  bytetrade  2022-11-10T18:48:54.450  0.377454  0.377990  0.377444   \n",
       "56  bytetrade  2022-11-10T18:48:57.144  0.377454  0.377990  0.377271   \n",
       "57  bytetrade  2022-11-10T18:48:59.544  0.377454  0.377990  0.377271   \n",
       "58  bytetrade  2022-11-10T18:49:03.211  0.377590  0.377590  0.377590   \n",
       "59  bytetrade  2022-11-10T18:49:05.701  0.377590  0.377692  0.377590   \n",
       "\n",
       "       close  volume  \n",
       "50  0.377465  0.2520  \n",
       "51  0.377732  0.2622  \n",
       "52  0.377732  0.2622  \n",
       "53  0.377732  0.2622  \n",
       "54  0.377990  0.2706  \n",
       "55  0.377971  0.2905  \n",
       "56  0.377271  0.3172  \n",
       "57  0.377271  0.3172  \n",
       "58  0.377590  0.0300  \n",
       "59  0.377692  0.0414  "
      ]
     },
     "execution_count": 105,
     "metadata": {},
     "output_type": "execute_result"
    }
   ],
   "source": [
    "verif_df3_OH.tail(10)"
   ]
  },
  {
   "cell_type": "markdown",
   "metadata": {},
   "source": [
    "<font color= orange> <font size = 5> 2. Microstructure Visualization </font>"
   ]
  },
  {
   "cell_type": "markdown",
   "metadata": {},
   "source": [
    "Now we are going to obtain total_volumes, mid_prices and VWAP metric for criptocurrencies in every exchange."
   ]
  },
  {
   "cell_type": "code",
   "execution_count": 106,
   "metadata": {},
   "outputs": [
    {
     "name": "stdout",
     "output_type": "stream",
     "text": [
      "Help on function Micro in module visualizations:\n",
      "\n",
      "Micro(lvls, cripto, exchange, n, ts)\n",
      "    Function that returns Microstructure OB and OHLCV for i levels (as integer) n times \n",
      "    from specified criptocurrency ('BTC/USDT','ETH/USDT','XRP/USDT', or others) and the \n",
      "    following exchanges: binance, ftx or bytetrade (as string).\n",
      "    \n",
      "    Parameters:\n",
      "    ----------\n",
      "    lvls: Levels of bids/asks in the Order Book (int).\n",
      "    cripto: Criptocurrency downloadable symbol (str).\n",
      "    exchanges: Criptocurrency downloadable Exchange (str).\n",
      "    n: Data retrieval per exchange (int).\n",
      "    ts: timesleep (s) required in between data retrieval.\n",
      "    \n",
      "    Returns:\n",
      "    -------\n",
      "    Micro[0]: Order Books Data.\n",
      "    Micro[1]: OHLCV Data.\n",
      "\n"
     ]
    }
   ],
   "source": [
    "help(vs.Micro)"
   ]
  },
  {
   "cell_type": "markdown",
   "metadata": {},
   "source": [
    "<strong> \n",
    "<font color= lightgreen> <font size = 3> Progress check 2  </font> <strong>\n",
    "\n",
    "Dataframes"
   ]
  },
  {
   "cell_type": "markdown",
   "metadata": {},
   "source": [
    "<font color= lightblue> <font size = 2> Verification BTC </font>"
   ]
  },
  {
   "cell_type": "code",
   "execution_count": 107,
   "metadata": {},
   "outputs": [
    {
     "data": {
      "text/plain": [
       "((25, 'BTC/USDT', 'binance'),\n",
       " (25, 'BTC/USDT', 'ftx'),\n",
       " (25, 'BTC/USDT', 'bytetrade'))"
      ]
     },
     "execution_count": 107,
     "metadata": {},
     "output_type": "execute_result"
    }
   ],
   "source": [
    "params0= 25, criptos[0], exchanges[0]\n",
    "params1= 25, criptos[0], exchanges[1]\n",
    "params2= 25, criptos[0], exchanges[2]\n",
    "params0,params1,params2"
   ]
  },
  {
   "cell_type": "code",
   "execution_count": 108,
   "metadata": {},
   "outputs": [],
   "source": [
    "MS_0_B = vs.Micro(params0[0],params0[1], params0[2], n, .01)\n",
    "MS_1_B = vs.Micro(params1[0],params1[1], params1[2], n, .01)\n",
    "MS_2_B = vs.Micro(params2[0],params2[1], params2[2], n, .01)"
   ]
  },
  {
   "cell_type": "markdown",
   "metadata": {},
   "source": [
    "Bid and Asks Volumes in the Microstructure determine the demand and it's a factor for price movements. This is also true for the VWAP which is a trend detector by reflecting the price adjusted by its volume."
   ]
  },
  {
   "cell_type": "code",
   "execution_count": 109,
   "metadata": {},
   "outputs": [
    {
     "data": {
      "text/html": [
       "<div>\n",
       "<style scoped>\n",
       "    .dataframe tbody tr th:only-of-type {\n",
       "        vertical-align: middle;\n",
       "    }\n",
       "\n",
       "    .dataframe tbody tr th {\n",
       "        vertical-align: top;\n",
       "    }\n",
       "\n",
       "    .dataframe thead th {\n",
       "        text-align: right;\n",
       "    }\n",
       "</style>\n",
       "<table border=\"1\" class=\"dataframe\">\n",
       "  <thead>\n",
       "    <tr style=\"text-align: right;\">\n",
       "      <th></th>\n",
       "      <th>exchange</th>\n",
       "      <th>timestamp</th>\n",
       "      <th>level</th>\n",
       "      <th>ask_volume</th>\n",
       "      <th>bid_volume</th>\n",
       "      <th>total_volume</th>\n",
       "      <th>mid_price</th>\n",
       "      <th>vwap</th>\n",
       "    </tr>\n",
       "  </thead>\n",
       "  <tbody>\n",
       "    <tr>\n",
       "      <th>0</th>\n",
       "      <td>binance</td>\n",
       "      <td>2022-11-10T18:49:09.439</td>\n",
       "      <td>25</td>\n",
       "      <td>1.73814</td>\n",
       "      <td>2.27489</td>\n",
       "      <td>4.01303</td>\n",
       "      <td>17362.385</td>\n",
       "      <td>21688.230707</td>\n",
       "    </tr>\n",
       "    <tr>\n",
       "      <th>1</th>\n",
       "      <td>binance</td>\n",
       "      <td>2022-11-10T18:49:10.901</td>\n",
       "      <td>25</td>\n",
       "      <td>1.89162</td>\n",
       "      <td>1.98899</td>\n",
       "      <td>3.88061</td>\n",
       "      <td>17362.230</td>\n",
       "      <td>21835.815951</td>\n",
       "    </tr>\n",
       "    <tr>\n",
       "      <th>2</th>\n",
       "      <td>binance</td>\n",
       "      <td>2022-11-10T18:49:12.934</td>\n",
       "      <td>25</td>\n",
       "      <td>1.76857</td>\n",
       "      <td>1.31908</td>\n",
       "      <td>3.08765</td>\n",
       "      <td>17361.630</td>\n",
       "      <td>22984.022679</td>\n",
       "    </tr>\n",
       "    <tr>\n",
       "      <th>3</th>\n",
       "      <td>binance</td>\n",
       "      <td>2022-11-10T18:49:15.033</td>\n",
       "      <td>25</td>\n",
       "      <td>2.24064</td>\n",
       "      <td>2.79038</td>\n",
       "      <td>5.03102</td>\n",
       "      <td>17359.645</td>\n",
       "      <td>20809.602092</td>\n",
       "    </tr>\n",
       "    <tr>\n",
       "      <th>4</th>\n",
       "      <td>binance</td>\n",
       "      <td>2022-11-10T18:49:16.465</td>\n",
       "      <td>25</td>\n",
       "      <td>0.54957</td>\n",
       "      <td>0.98673</td>\n",
       "      <td>1.53630</td>\n",
       "      <td>17357.925</td>\n",
       "      <td>28656.249954</td>\n",
       "    </tr>\n",
       "    <tr>\n",
       "      <th>5</th>\n",
       "      <td>binance</td>\n",
       "      <td>2022-11-10T18:49:18.090</td>\n",
       "      <td>25</td>\n",
       "      <td>3.60847</td>\n",
       "      <td>0.77118</td>\n",
       "      <td>4.37965</td>\n",
       "      <td>17349.465</td>\n",
       "      <td>21310.464640</td>\n",
       "    </tr>\n",
       "    <tr>\n",
       "      <th>6</th>\n",
       "      <td>binance</td>\n",
       "      <td>2022-11-10T18:49:19.480</td>\n",
       "      <td>25</td>\n",
       "      <td>1.92561</td>\n",
       "      <td>11.49867</td>\n",
       "      <td>13.42428</td>\n",
       "      <td>17346.790</td>\n",
       "      <td>18638.402117</td>\n",
       "    </tr>\n",
       "    <tr>\n",
       "      <th>7</th>\n",
       "      <td>binance</td>\n",
       "      <td>2022-11-10T18:49:20.905</td>\n",
       "      <td>25</td>\n",
       "      <td>0.92951</td>\n",
       "      <td>0.80107</td>\n",
       "      <td>1.73058</td>\n",
       "      <td>17343.520</td>\n",
       "      <td>27364.910888</td>\n",
       "    </tr>\n",
       "    <tr>\n",
       "      <th>8</th>\n",
       "      <td>binance</td>\n",
       "      <td>2022-11-10T18:49:22.370</td>\n",
       "      <td>25</td>\n",
       "      <td>0.63150</td>\n",
       "      <td>1.23940</td>\n",
       "      <td>1.87090</td>\n",
       "      <td>17346.875</td>\n",
       "      <td>26618.646405</td>\n",
       "    </tr>\n",
       "    <tr>\n",
       "      <th>9</th>\n",
       "      <td>binance</td>\n",
       "      <td>2022-11-10T18:49:23.917</td>\n",
       "      <td>25</td>\n",
       "      <td>4.05767</td>\n",
       "      <td>0.54448</td>\n",
       "      <td>4.60215</td>\n",
       "      <td>17342.710</td>\n",
       "      <td>21110.774295</td>\n",
       "    </tr>\n",
       "  </tbody>\n",
       "</table>\n",
       "</div>"
      ],
      "text/plain": [
       "  exchange                timestamp  level  ask_volume  bid_volume  \\\n",
       "0  binance  2022-11-10T18:49:09.439     25     1.73814     2.27489   \n",
       "1  binance  2022-11-10T18:49:10.901     25     1.89162     1.98899   \n",
       "2  binance  2022-11-10T18:49:12.934     25     1.76857     1.31908   \n",
       "3  binance  2022-11-10T18:49:15.033     25     2.24064     2.79038   \n",
       "4  binance  2022-11-10T18:49:16.465     25     0.54957     0.98673   \n",
       "5  binance  2022-11-10T18:49:18.090     25     3.60847     0.77118   \n",
       "6  binance  2022-11-10T18:49:19.480     25     1.92561    11.49867   \n",
       "7  binance  2022-11-10T18:49:20.905     25     0.92951     0.80107   \n",
       "8  binance  2022-11-10T18:49:22.370     25     0.63150     1.23940   \n",
       "9  binance  2022-11-10T18:49:23.917     25     4.05767     0.54448   \n",
       "\n",
       "   total_volume  mid_price          vwap  \n",
       "0       4.01303  17362.385  21688.230707  \n",
       "1       3.88061  17362.230  21835.815951  \n",
       "2       3.08765  17361.630  22984.022679  \n",
       "3       5.03102  17359.645  20809.602092  \n",
       "4       1.53630  17357.925  28656.249954  \n",
       "5       4.37965  17349.465  21310.464640  \n",
       "6      13.42428  17346.790  18638.402117  \n",
       "7       1.73058  17343.520  27364.910888  \n",
       "8       1.87090  17346.875  26618.646405  \n",
       "9       4.60215  17342.710  21110.774295  "
      ]
     },
     "execution_count": 109,
     "metadata": {},
     "output_type": "execute_result"
    }
   ],
   "source": [
    "MS_B = fn.concatenate(MS_0_B[0], MS_1_B[0], MS_2_B[0], n)\n",
    "MS_B.head(10)"
   ]
  },
  {
   "cell_type": "markdown",
   "metadata": {},
   "source": [
    "As it will be demonstrated in *progress check (visualizations)* mid_prices vary significantly between exchanges."
   ]
  },
  {
   "cell_type": "code",
   "execution_count": 137,
   "metadata": {},
   "outputs": [
    {
     "data": {
      "text/html": [
       "<div>\n",
       "<style scoped>\n",
       "    .dataframe tbody tr th:only-of-type {\n",
       "        vertical-align: middle;\n",
       "    }\n",
       "\n",
       "    .dataframe tbody tr th {\n",
       "        vertical-align: top;\n",
       "    }\n",
       "\n",
       "    .dataframe thead th {\n",
       "        text-align: right;\n",
       "    }\n",
       "</style>\n",
       "<table border=\"1\" class=\"dataframe\">\n",
       "  <thead>\n",
       "    <tr style=\"text-align: right;\">\n",
       "      <th></th>\n",
       "      <th>exchange</th>\n",
       "      <th>timestamp</th>\n",
       "      <th>level</th>\n",
       "      <th>ask_volume</th>\n",
       "      <th>bid_volume</th>\n",
       "      <th>total_volume</th>\n",
       "      <th>mid_price</th>\n",
       "      <th>vwap</th>\n",
       "    </tr>\n",
       "    <tr>\n",
       "      <th>timestamp</th>\n",
       "      <th></th>\n",
       "      <th></th>\n",
       "      <th></th>\n",
       "      <th></th>\n",
       "      <th></th>\n",
       "      <th></th>\n",
       "      <th></th>\n",
       "      <th></th>\n",
       "    </tr>\n",
       "  </thead>\n",
       "  <tbody>\n",
       "    <tr>\n",
       "      <th>2022-11-10 18:50:41.353</th>\n",
       "      <td>bytetrade</td>\n",
       "      <td>2022-11-10T18:50:41.353</td>\n",
       "      <td>25</td>\n",
       "      <td>3.1563</td>\n",
       "      <td>2.844773</td>\n",
       "      <td>6.001073</td>\n",
       "      <td>17357.9</td>\n",
       "      <td>20138.445395</td>\n",
       "    </tr>\n",
       "    <tr>\n",
       "      <th>2022-11-10 18:50:42.832</th>\n",
       "      <td>bytetrade</td>\n",
       "      <td>2022-11-10T18:50:42.832</td>\n",
       "      <td>25</td>\n",
       "      <td>3.1563</td>\n",
       "      <td>2.844773</td>\n",
       "      <td>6.001073</td>\n",
       "      <td>17357.9</td>\n",
       "      <td>20138.445395</td>\n",
       "    </tr>\n",
       "    <tr>\n",
       "      <th>2022-11-10 18:50:45.402</th>\n",
       "      <td>bytetrade</td>\n",
       "      <td>2022-11-10T18:50:45.402</td>\n",
       "      <td>25</td>\n",
       "      <td>3.1563</td>\n",
       "      <td>2.844773</td>\n",
       "      <td>6.001073</td>\n",
       "      <td>17357.9</td>\n",
       "      <td>20138.445395</td>\n",
       "    </tr>\n",
       "    <tr>\n",
       "      <th>2022-11-10 18:50:47.123</th>\n",
       "      <td>bytetrade</td>\n",
       "      <td>2022-11-10T18:50:47.123</td>\n",
       "      <td>25</td>\n",
       "      <td>3.1563</td>\n",
       "      <td>2.844773</td>\n",
       "      <td>6.001073</td>\n",
       "      <td>17357.9</td>\n",
       "      <td>20138.445395</td>\n",
       "    </tr>\n",
       "    <tr>\n",
       "      <th>2022-11-10 18:50:48.552</th>\n",
       "      <td>bytetrade</td>\n",
       "      <td>2022-11-10T18:50:48.552</td>\n",
       "      <td>25</td>\n",
       "      <td>3.1563</td>\n",
       "      <td>2.844773</td>\n",
       "      <td>6.001073</td>\n",
       "      <td>17357.9</td>\n",
       "      <td>20138.445395</td>\n",
       "    </tr>\n",
       "    <tr>\n",
       "      <th>2022-11-10 18:50:50.173</th>\n",
       "      <td>bytetrade</td>\n",
       "      <td>2022-11-10T18:50:50.173</td>\n",
       "      <td>25</td>\n",
       "      <td>3.1563</td>\n",
       "      <td>2.844773</td>\n",
       "      <td>6.001073</td>\n",
       "      <td>17357.9</td>\n",
       "      <td>20138.445395</td>\n",
       "    </tr>\n",
       "    <tr>\n",
       "      <th>2022-11-10 18:50:51.625</th>\n",
       "      <td>bytetrade</td>\n",
       "      <td>2022-11-10T18:50:51.625</td>\n",
       "      <td>25</td>\n",
       "      <td>3.1563</td>\n",
       "      <td>2.844773</td>\n",
       "      <td>6.001073</td>\n",
       "      <td>17357.9</td>\n",
       "      <td>20138.445395</td>\n",
       "    </tr>\n",
       "    <tr>\n",
       "      <th>2022-11-10 18:50:53.066</th>\n",
       "      <td>bytetrade</td>\n",
       "      <td>2022-11-10T18:50:53.066</td>\n",
       "      <td>25</td>\n",
       "      <td>3.1563</td>\n",
       "      <td>2.844773</td>\n",
       "      <td>6.001073</td>\n",
       "      <td>17357.9</td>\n",
       "      <td>20138.445395</td>\n",
       "    </tr>\n",
       "    <tr>\n",
       "      <th>2022-11-10 18:50:54.736</th>\n",
       "      <td>bytetrade</td>\n",
       "      <td>2022-11-10T18:50:54.736</td>\n",
       "      <td>25</td>\n",
       "      <td>3.1563</td>\n",
       "      <td>2.844773</td>\n",
       "      <td>6.001073</td>\n",
       "      <td>17357.9</td>\n",
       "      <td>20138.445395</td>\n",
       "    </tr>\n",
       "    <tr>\n",
       "      <th>2022-11-10 18:50:56.163</th>\n",
       "      <td>bytetrade</td>\n",
       "      <td>2022-11-10T18:50:56.163</td>\n",
       "      <td>25</td>\n",
       "      <td>3.1563</td>\n",
       "      <td>2.844773</td>\n",
       "      <td>6.001073</td>\n",
       "      <td>17357.9</td>\n",
       "      <td>20138.445395</td>\n",
       "    </tr>\n",
       "  </tbody>\n",
       "</table>\n",
       "</div>"
      ],
      "text/plain": [
       "                          exchange                timestamp  level  \\\n",
       "timestamp                                                            \n",
       "2022-11-10 18:50:41.353  bytetrade  2022-11-10T18:50:41.353     25   \n",
       "2022-11-10 18:50:42.832  bytetrade  2022-11-10T18:50:42.832     25   \n",
       "2022-11-10 18:50:45.402  bytetrade  2022-11-10T18:50:45.402     25   \n",
       "2022-11-10 18:50:47.123  bytetrade  2022-11-10T18:50:47.123     25   \n",
       "2022-11-10 18:50:48.552  bytetrade  2022-11-10T18:50:48.552     25   \n",
       "2022-11-10 18:50:50.173  bytetrade  2022-11-10T18:50:50.173     25   \n",
       "2022-11-10 18:50:51.625  bytetrade  2022-11-10T18:50:51.625     25   \n",
       "2022-11-10 18:50:53.066  bytetrade  2022-11-10T18:50:53.066     25   \n",
       "2022-11-10 18:50:54.736  bytetrade  2022-11-10T18:50:54.736     25   \n",
       "2022-11-10 18:50:56.163  bytetrade  2022-11-10T18:50:56.163     25   \n",
       "\n",
       "                         ask_volume  bid_volume  total_volume  mid_price  \\\n",
       "timestamp                                                                  \n",
       "2022-11-10 18:50:41.353      3.1563    2.844773      6.001073    17357.9   \n",
       "2022-11-10 18:50:42.832      3.1563    2.844773      6.001073    17357.9   \n",
       "2022-11-10 18:50:45.402      3.1563    2.844773      6.001073    17357.9   \n",
       "2022-11-10 18:50:47.123      3.1563    2.844773      6.001073    17357.9   \n",
       "2022-11-10 18:50:48.552      3.1563    2.844773      6.001073    17357.9   \n",
       "2022-11-10 18:50:50.173      3.1563    2.844773      6.001073    17357.9   \n",
       "2022-11-10 18:50:51.625      3.1563    2.844773      6.001073    17357.9   \n",
       "2022-11-10 18:50:53.066      3.1563    2.844773      6.001073    17357.9   \n",
       "2022-11-10 18:50:54.736      3.1563    2.844773      6.001073    17357.9   \n",
       "2022-11-10 18:50:56.163      3.1563    2.844773      6.001073    17357.9   \n",
       "\n",
       "                                 vwap  \n",
       "timestamp                              \n",
       "2022-11-10 18:50:41.353  20138.445395  \n",
       "2022-11-10 18:50:42.832  20138.445395  \n",
       "2022-11-10 18:50:45.402  20138.445395  \n",
       "2022-11-10 18:50:47.123  20138.445395  \n",
       "2022-11-10 18:50:48.552  20138.445395  \n",
       "2022-11-10 18:50:50.173  20138.445395  \n",
       "2022-11-10 18:50:51.625  20138.445395  \n",
       "2022-11-10 18:50:53.066  20138.445395  \n",
       "2022-11-10 18:50:54.736  20138.445395  \n",
       "2022-11-10 18:50:56.163  20138.445395  "
      ]
     },
     "execution_count": 137,
     "metadata": {},
     "output_type": "execute_result"
    }
   ],
   "source": [
    "MS_B.tail(10)"
   ]
  },
  {
   "cell_type": "markdown",
   "metadata": {},
   "source": [
    "<font color= lightblue> <font size = 2> Verification ETH </font>"
   ]
  },
  {
   "cell_type": "code",
   "execution_count": 111,
   "metadata": {},
   "outputs": [
    {
     "data": {
      "text/plain": [
       "((25, 'ETH/USDT', 'binance'),\n",
       " (25, 'ETH/USDT', 'ftx'),\n",
       " (25, 'ETH/USDT', 'bytetrade'))"
      ]
     },
     "execution_count": 111,
     "metadata": {},
     "output_type": "execute_result"
    }
   ],
   "source": [
    "params0= 25, criptos[1], exchanges[0]\n",
    "params1= 25, criptos[1], exchanges[1]\n",
    "params2= 25, criptos[1], exchanges[2]\n",
    "params0,params1,params2"
   ]
  },
  {
   "cell_type": "code",
   "execution_count": 113,
   "metadata": {},
   "outputs": [],
   "source": [
    "MS_0_E = vs.Micro(params0[0],params0[1], params0[2], n, .01)\n",
    "MS_1_E = vs.Micro(params1[0],params1[1], params1[2], n, .01)\n",
    "MS_2_E = vs.Micro(params2[0],params2[1], params2[2], n, .01)"
   ]
  },
  {
   "cell_type": "markdown",
   "metadata": {},
   "source": [
    "mid_prices differences can be attributed to liquidity for this sample. Volumes shouldn't be taken lightly, that's why the vwap is an important metric to measure and estimate prices. "
   ]
  },
  {
   "cell_type": "code",
   "execution_count": 139,
   "metadata": {},
   "outputs": [
    {
     "data": {
      "text/html": [
       "<div>\n",
       "<style scoped>\n",
       "    .dataframe tbody tr th:only-of-type {\n",
       "        vertical-align: middle;\n",
       "    }\n",
       "\n",
       "    .dataframe tbody tr th {\n",
       "        vertical-align: top;\n",
       "    }\n",
       "\n",
       "    .dataframe thead th {\n",
       "        text-align: right;\n",
       "    }\n",
       "</style>\n",
       "<table border=\"1\" class=\"dataframe\">\n",
       "  <thead>\n",
       "    <tr style=\"text-align: right;\">\n",
       "      <th></th>\n",
       "      <th>exchange</th>\n",
       "      <th>timestamp</th>\n",
       "      <th>level</th>\n",
       "      <th>ask_volume</th>\n",
       "      <th>bid_volume</th>\n",
       "      <th>total_volume</th>\n",
       "      <th>mid_price</th>\n",
       "      <th>vwap</th>\n",
       "    </tr>\n",
       "  </thead>\n",
       "  <tbody>\n",
       "    <tr>\n",
       "      <th>0</th>\n",
       "      <td>binance</td>\n",
       "      <td>2022-11-10T18:53:24.596</td>\n",
       "      <td>25</td>\n",
       "      <td>42.7740</td>\n",
       "      <td>64.0866</td>\n",
       "      <td>106.8606</td>\n",
       "      <td>1267.975</td>\n",
       "      <td>1279.835739</td>\n",
       "    </tr>\n",
       "    <tr>\n",
       "      <th>1</th>\n",
       "      <td>binance</td>\n",
       "      <td>2022-11-10T18:53:25.977</td>\n",
       "      <td>25</td>\n",
       "      <td>33.0333</td>\n",
       "      <td>67.4832</td>\n",
       "      <td>100.5165</td>\n",
       "      <td>1267.975</td>\n",
       "      <td>1280.584645</td>\n",
       "    </tr>\n",
       "    <tr>\n",
       "      <th>2</th>\n",
       "      <td>binance</td>\n",
       "      <td>2022-11-10T18:53:27.353</td>\n",
       "      <td>25</td>\n",
       "      <td>46.6031</td>\n",
       "      <td>58.2039</td>\n",
       "      <td>104.8070</td>\n",
       "      <td>1267.995</td>\n",
       "      <td>1280.088429</td>\n",
       "    </tr>\n",
       "    <tr>\n",
       "      <th>3</th>\n",
       "      <td>binance</td>\n",
       "      <td>2022-11-10T18:53:29.384</td>\n",
       "      <td>25</td>\n",
       "      <td>33.4461</td>\n",
       "      <td>63.9716</td>\n",
       "      <td>97.4177</td>\n",
       "      <td>1268.075</td>\n",
       "      <td>1281.086936</td>\n",
       "    </tr>\n",
       "    <tr>\n",
       "      <th>4</th>\n",
       "      <td>binance</td>\n",
       "      <td>2022-11-10T18:53:31.437</td>\n",
       "      <td>25</td>\n",
       "      <td>29.0975</td>\n",
       "      <td>81.9624</td>\n",
       "      <td>111.0599</td>\n",
       "      <td>1268.165</td>\n",
       "      <td>1279.578793</td>\n",
       "    </tr>\n",
       "    <tr>\n",
       "      <th>5</th>\n",
       "      <td>binance</td>\n",
       "      <td>2022-11-10T18:53:32.954</td>\n",
       "      <td>25</td>\n",
       "      <td>52.9999</td>\n",
       "      <td>564.5006</td>\n",
       "      <td>617.5005</td>\n",
       "      <td>1268.185</td>\n",
       "      <td>1270.233747</td>\n",
       "    </tr>\n",
       "    <tr>\n",
       "      <th>6</th>\n",
       "      <td>binance</td>\n",
       "      <td>2022-11-10T18:53:34.810</td>\n",
       "      <td>25</td>\n",
       "      <td>42.7205</td>\n",
       "      <td>68.3068</td>\n",
       "      <td>111.0273</td>\n",
       "      <td>1268.155</td>\n",
       "      <td>1279.572056</td>\n",
       "    </tr>\n",
       "    <tr>\n",
       "      <th>7</th>\n",
       "      <td>binance</td>\n",
       "      <td>2022-11-10T18:53:36.743</td>\n",
       "      <td>25</td>\n",
       "      <td>37.9953</td>\n",
       "      <td>47.0161</td>\n",
       "      <td>85.0114</td>\n",
       "      <td>1268.155</td>\n",
       "      <td>1283.067529</td>\n",
       "    </tr>\n",
       "    <tr>\n",
       "      <th>8</th>\n",
       "      <td>binance</td>\n",
       "      <td>2022-11-10T18:53:38.282</td>\n",
       "      <td>25</td>\n",
       "      <td>92.6565</td>\n",
       "      <td>555.1344</td>\n",
       "      <td>647.7909</td>\n",
       "      <td>1268.075</td>\n",
       "      <td>1270.027545</td>\n",
       "    </tr>\n",
       "    <tr>\n",
       "      <th>9</th>\n",
       "      <td>binance</td>\n",
       "      <td>2022-11-10T18:53:39.726</td>\n",
       "      <td>25</td>\n",
       "      <td>50.4381</td>\n",
       "      <td>561.1970</td>\n",
       "      <td>611.6351</td>\n",
       "      <td>1267.885</td>\n",
       "      <td>1269.952952</td>\n",
       "    </tr>\n",
       "  </tbody>\n",
       "</table>\n",
       "</div>"
      ],
      "text/plain": [
       "  exchange                timestamp  level  ask_volume  bid_volume  \\\n",
       "0  binance  2022-11-10T18:53:24.596     25     42.7740     64.0866   \n",
       "1  binance  2022-11-10T18:53:25.977     25     33.0333     67.4832   \n",
       "2  binance  2022-11-10T18:53:27.353     25     46.6031     58.2039   \n",
       "3  binance  2022-11-10T18:53:29.384     25     33.4461     63.9716   \n",
       "4  binance  2022-11-10T18:53:31.437     25     29.0975     81.9624   \n",
       "5  binance  2022-11-10T18:53:32.954     25     52.9999    564.5006   \n",
       "6  binance  2022-11-10T18:53:34.810     25     42.7205     68.3068   \n",
       "7  binance  2022-11-10T18:53:36.743     25     37.9953     47.0161   \n",
       "8  binance  2022-11-10T18:53:38.282     25     92.6565    555.1344   \n",
       "9  binance  2022-11-10T18:53:39.726     25     50.4381    561.1970   \n",
       "\n",
       "   total_volume  mid_price         vwap  \n",
       "0      106.8606   1267.975  1279.835739  \n",
       "1      100.5165   1267.975  1280.584645  \n",
       "2      104.8070   1267.995  1280.088429  \n",
       "3       97.4177   1268.075  1281.086936  \n",
       "4      111.0599   1268.165  1279.578793  \n",
       "5      617.5005   1268.185  1270.233747  \n",
       "6      111.0273   1268.155  1279.572056  \n",
       "7       85.0114   1268.155  1283.067529  \n",
       "8      647.7909   1268.075  1270.027545  \n",
       "9      611.6351   1267.885  1269.952952  "
      ]
     },
     "execution_count": 139,
     "metadata": {},
     "output_type": "execute_result"
    }
   ],
   "source": [
    "MS_E = fn.concatenate(MS_0_E[0], MS_1_E[0], MS_2_E[0], n)\n",
    "MS_E.head(10)"
   ]
  },
  {
   "cell_type": "code",
   "execution_count": 115,
   "metadata": {},
   "outputs": [
    {
     "data": {
      "text/html": [
       "<div>\n",
       "<style scoped>\n",
       "    .dataframe tbody tr th:only-of-type {\n",
       "        vertical-align: middle;\n",
       "    }\n",
       "\n",
       "    .dataframe tbody tr th {\n",
       "        vertical-align: top;\n",
       "    }\n",
       "\n",
       "    .dataframe thead th {\n",
       "        text-align: right;\n",
       "    }\n",
       "</style>\n",
       "<table border=\"1\" class=\"dataframe\">\n",
       "  <thead>\n",
       "    <tr style=\"text-align: right;\">\n",
       "      <th></th>\n",
       "      <th>exchange</th>\n",
       "      <th>timestamp</th>\n",
       "      <th>level</th>\n",
       "      <th>ask_volume</th>\n",
       "      <th>bid_volume</th>\n",
       "      <th>total_volume</th>\n",
       "      <th>mid_price</th>\n",
       "      <th>vwap</th>\n",
       "    </tr>\n",
       "  </thead>\n",
       "  <tbody>\n",
       "    <tr>\n",
       "      <th>50</th>\n",
       "      <td>bytetrade</td>\n",
       "      <td>2022-11-10T18:55:04.227</td>\n",
       "      <td>25</td>\n",
       "      <td>18.0722</td>\n",
       "      <td>61.3559</td>\n",
       "      <td>79.4281</td>\n",
       "      <td>1268.205</td>\n",
       "      <td>1275.181336</td>\n",
       "    </tr>\n",
       "    <tr>\n",
       "      <th>51</th>\n",
       "      <td>bytetrade</td>\n",
       "      <td>2022-11-10T18:55:05.585</td>\n",
       "      <td>25</td>\n",
       "      <td>18.0722</td>\n",
       "      <td>61.3559</td>\n",
       "      <td>79.4281</td>\n",
       "      <td>1268.205</td>\n",
       "      <td>1275.181336</td>\n",
       "    </tr>\n",
       "    <tr>\n",
       "      <th>52</th>\n",
       "      <td>bytetrade</td>\n",
       "      <td>2022-11-10T18:55:07.218</td>\n",
       "      <td>25</td>\n",
       "      <td>18.0722</td>\n",
       "      <td>61.3559</td>\n",
       "      <td>79.4281</td>\n",
       "      <td>1268.205</td>\n",
       "      <td>1275.181336</td>\n",
       "    </tr>\n",
       "    <tr>\n",
       "      <th>53</th>\n",
       "      <td>bytetrade</td>\n",
       "      <td>2022-11-10T18:55:08.834</td>\n",
       "      <td>25</td>\n",
       "      <td>18.0722</td>\n",
       "      <td>61.3559</td>\n",
       "      <td>79.4281</td>\n",
       "      <td>1268.205</td>\n",
       "      <td>1275.181336</td>\n",
       "    </tr>\n",
       "    <tr>\n",
       "      <th>54</th>\n",
       "      <td>bytetrade</td>\n",
       "      <td>2022-11-10T18:55:10.233</td>\n",
       "      <td>25</td>\n",
       "      <td>18.0722</td>\n",
       "      <td>61.3559</td>\n",
       "      <td>79.4281</td>\n",
       "      <td>1268.205</td>\n",
       "      <td>1275.181336</td>\n",
       "    </tr>\n",
       "    <tr>\n",
       "      <th>55</th>\n",
       "      <td>bytetrade</td>\n",
       "      <td>2022-11-10T18:55:12.878</td>\n",
       "      <td>25</td>\n",
       "      <td>18.0722</td>\n",
       "      <td>61.3559</td>\n",
       "      <td>79.4281</td>\n",
       "      <td>1268.205</td>\n",
       "      <td>1275.181336</td>\n",
       "    </tr>\n",
       "    <tr>\n",
       "      <th>56</th>\n",
       "      <td>bytetrade</td>\n",
       "      <td>2022-11-10T18:55:14.458</td>\n",
       "      <td>25</td>\n",
       "      <td>18.0722</td>\n",
       "      <td>61.3559</td>\n",
       "      <td>79.4281</td>\n",
       "      <td>1268.205</td>\n",
       "      <td>1275.181336</td>\n",
       "    </tr>\n",
       "    <tr>\n",
       "      <th>57</th>\n",
       "      <td>bytetrade</td>\n",
       "      <td>2022-11-10T18:55:15.896</td>\n",
       "      <td>25</td>\n",
       "      <td>18.0722</td>\n",
       "      <td>61.3559</td>\n",
       "      <td>79.4281</td>\n",
       "      <td>1268.205</td>\n",
       "      <td>1275.181336</td>\n",
       "    </tr>\n",
       "    <tr>\n",
       "      <th>58</th>\n",
       "      <td>bytetrade</td>\n",
       "      <td>2022-11-10T18:55:18.099</td>\n",
       "      <td>25</td>\n",
       "      <td>18.0722</td>\n",
       "      <td>61.3559</td>\n",
       "      <td>79.4281</td>\n",
       "      <td>1268.205</td>\n",
       "      <td>1275.181336</td>\n",
       "    </tr>\n",
       "    <tr>\n",
       "      <th>59</th>\n",
       "      <td>bytetrade</td>\n",
       "      <td>2022-11-10T18:55:19.830</td>\n",
       "      <td>25</td>\n",
       "      <td>18.0722</td>\n",
       "      <td>61.3559</td>\n",
       "      <td>79.4281</td>\n",
       "      <td>1268.205</td>\n",
       "      <td>1275.181336</td>\n",
       "    </tr>\n",
       "  </tbody>\n",
       "</table>\n",
       "</div>"
      ],
      "text/plain": [
       "     exchange                timestamp  level  ask_volume  bid_volume  \\\n",
       "50  bytetrade  2022-11-10T18:55:04.227     25     18.0722     61.3559   \n",
       "51  bytetrade  2022-11-10T18:55:05.585     25     18.0722     61.3559   \n",
       "52  bytetrade  2022-11-10T18:55:07.218     25     18.0722     61.3559   \n",
       "53  bytetrade  2022-11-10T18:55:08.834     25     18.0722     61.3559   \n",
       "54  bytetrade  2022-11-10T18:55:10.233     25     18.0722     61.3559   \n",
       "55  bytetrade  2022-11-10T18:55:12.878     25     18.0722     61.3559   \n",
       "56  bytetrade  2022-11-10T18:55:14.458     25     18.0722     61.3559   \n",
       "57  bytetrade  2022-11-10T18:55:15.896     25     18.0722     61.3559   \n",
       "58  bytetrade  2022-11-10T18:55:18.099     25     18.0722     61.3559   \n",
       "59  bytetrade  2022-11-10T18:55:19.830     25     18.0722     61.3559   \n",
       "\n",
       "    total_volume  mid_price         vwap  \n",
       "50       79.4281   1268.205  1275.181336  \n",
       "51       79.4281   1268.205  1275.181336  \n",
       "52       79.4281   1268.205  1275.181336  \n",
       "53       79.4281   1268.205  1275.181336  \n",
       "54       79.4281   1268.205  1275.181336  \n",
       "55       79.4281   1268.205  1275.181336  \n",
       "56       79.4281   1268.205  1275.181336  \n",
       "57       79.4281   1268.205  1275.181336  \n",
       "58       79.4281   1268.205  1275.181336  \n",
       "59       79.4281   1268.205  1275.181336  "
      ]
     },
     "execution_count": 115,
     "metadata": {},
     "output_type": "execute_result"
    }
   ],
   "source": [
    "MS_E.tail(10)"
   ]
  },
  {
   "cell_type": "markdown",
   "metadata": {},
   "source": [
    "<font color= lightblue> <font size = 2> Verification XRP </font>"
   ]
  },
  {
   "cell_type": "code",
   "execution_count": 116,
   "metadata": {},
   "outputs": [
    {
     "data": {
      "text/plain": [
       "((25, 'XRP/USDT', 'binance'),\n",
       " (25, 'XRP/USDT', 'ftx'),\n",
       " (25, 'XRP/USDT', 'bytetrade'))"
      ]
     },
     "execution_count": 116,
     "metadata": {},
     "output_type": "execute_result"
    }
   ],
   "source": [
    "params0= 25, criptos[2], exchanges[0]\n",
    "params1= 25, criptos[2], exchanges[1]\n",
    "params2= 25, criptos[2], exchanges[2]\n",
    "params0,params1,params2"
   ]
  },
  {
   "cell_type": "code",
   "execution_count": 117,
   "metadata": {},
   "outputs": [],
   "source": [
    "MS_0_X = vs.Micro(params0[0],params0[1], params0[2], n, .01)\n",
    "MS_1_X = vs.Micro(params1[0],params1[1], params1[2], n, .01)\n",
    "MS_2_X = vs.Micro(params2[0],params2[1], params2[2], n, .01)"
   ]
  },
  {
   "cell_type": "markdown",
   "metadata": {},
   "source": [
    "Bid or Asks Volumes can actually be non-existent for certain assets in some exchanges but this may not always reduce the vwap significantly."
   ]
  },
  {
   "cell_type": "code",
   "execution_count": 145,
   "metadata": {},
   "outputs": [
    {
     "data": {
      "text/html": [
       "<div>\n",
       "<style scoped>\n",
       "    .dataframe tbody tr th:only-of-type {\n",
       "        vertical-align: middle;\n",
       "    }\n",
       "\n",
       "    .dataframe tbody tr th {\n",
       "        vertical-align: top;\n",
       "    }\n",
       "\n",
       "    .dataframe thead th {\n",
       "        text-align: right;\n",
       "    }\n",
       "</style>\n",
       "<table border=\"1\" class=\"dataframe\">\n",
       "  <thead>\n",
       "    <tr style=\"text-align: right;\">\n",
       "      <th></th>\n",
       "      <th>exchange</th>\n",
       "      <th>timestamp</th>\n",
       "      <th>level</th>\n",
       "      <th>ask_volume</th>\n",
       "      <th>bid_volume</th>\n",
       "      <th>total_volume</th>\n",
       "      <th>mid_price</th>\n",
       "      <th>vwap</th>\n",
       "    </tr>\n",
       "  </thead>\n",
       "  <tbody>\n",
       "    <tr>\n",
       "      <th>0</th>\n",
       "      <td>binance</td>\n",
       "      <td>2022-11-10T18:55:22.240</td>\n",
       "      <td>25</td>\n",
       "      <td>1427432.0</td>\n",
       "      <td>1268289.0</td>\n",
       "      <td>2695721.0</td>\n",
       "      <td>0.37905</td>\n",
       "      <td>0.3790</td>\n",
       "    </tr>\n",
       "    <tr>\n",
       "      <th>1</th>\n",
       "      <td>binance</td>\n",
       "      <td>2022-11-10T18:55:23.695</td>\n",
       "      <td>25</td>\n",
       "      <td>1524708.0</td>\n",
       "      <td>1314789.0</td>\n",
       "      <td>2839497.0</td>\n",
       "      <td>0.37915</td>\n",
       "      <td>0.3791</td>\n",
       "    </tr>\n",
       "    <tr>\n",
       "      <th>2</th>\n",
       "      <td>binance</td>\n",
       "      <td>2022-11-10T18:55:25.096</td>\n",
       "      <td>25</td>\n",
       "      <td>1513576.0</td>\n",
       "      <td>1312371.0</td>\n",
       "      <td>2825947.0</td>\n",
       "      <td>0.37915</td>\n",
       "      <td>0.3791</td>\n",
       "    </tr>\n",
       "    <tr>\n",
       "      <th>3</th>\n",
       "      <td>binance</td>\n",
       "      <td>2022-11-10T18:55:26.549</td>\n",
       "      <td>25</td>\n",
       "      <td>1515657.0</td>\n",
       "      <td>1273988.0</td>\n",
       "      <td>2789645.0</td>\n",
       "      <td>0.37915</td>\n",
       "      <td>0.3791</td>\n",
       "    </tr>\n",
       "    <tr>\n",
       "      <th>4</th>\n",
       "      <td>binance</td>\n",
       "      <td>2022-11-10T18:55:27.944</td>\n",
       "      <td>25</td>\n",
       "      <td>1512580.0</td>\n",
       "      <td>1279561.0</td>\n",
       "      <td>2792141.0</td>\n",
       "      <td>0.37915</td>\n",
       "      <td>0.3791</td>\n",
       "    </tr>\n",
       "    <tr>\n",
       "      <th>5</th>\n",
       "      <td>binance</td>\n",
       "      <td>2022-11-10T18:55:29.365</td>\n",
       "      <td>25</td>\n",
       "      <td>970471.0</td>\n",
       "      <td>1298325.0</td>\n",
       "      <td>2268796.0</td>\n",
       "      <td>0.37955</td>\n",
       "      <td>0.3795</td>\n",
       "    </tr>\n",
       "    <tr>\n",
       "      <th>6</th>\n",
       "      <td>binance</td>\n",
       "      <td>2022-11-10T18:55:30.796</td>\n",
       "      <td>25</td>\n",
       "      <td>995037.0</td>\n",
       "      <td>1296898.0</td>\n",
       "      <td>2291935.0</td>\n",
       "      <td>0.37955</td>\n",
       "      <td>0.3795</td>\n",
       "    </tr>\n",
       "    <tr>\n",
       "      <th>7</th>\n",
       "      <td>binance</td>\n",
       "      <td>2022-11-10T18:55:32.799</td>\n",
       "      <td>25</td>\n",
       "      <td>960952.0</td>\n",
       "      <td>1232979.0</td>\n",
       "      <td>2193931.0</td>\n",
       "      <td>0.37955</td>\n",
       "      <td>0.3795</td>\n",
       "    </tr>\n",
       "    <tr>\n",
       "      <th>8</th>\n",
       "      <td>binance</td>\n",
       "      <td>2022-11-10T18:55:35.673</td>\n",
       "      <td>25</td>\n",
       "      <td>919844.0</td>\n",
       "      <td>1175991.0</td>\n",
       "      <td>2095835.0</td>\n",
       "      <td>0.37975</td>\n",
       "      <td>0.3797</td>\n",
       "    </tr>\n",
       "    <tr>\n",
       "      <th>9</th>\n",
       "      <td>binance</td>\n",
       "      <td>2022-11-10T18:55:37.386</td>\n",
       "      <td>25</td>\n",
       "      <td>953798.0</td>\n",
       "      <td>1172314.0</td>\n",
       "      <td>2126112.0</td>\n",
       "      <td>0.37975</td>\n",
       "      <td>0.3797</td>\n",
       "    </tr>\n",
       "  </tbody>\n",
       "</table>\n",
       "</div>"
      ],
      "text/plain": [
       "  exchange                timestamp  level  ask_volume  bid_volume  \\\n",
       "0  binance  2022-11-10T18:55:22.240     25   1427432.0   1268289.0   \n",
       "1  binance  2022-11-10T18:55:23.695     25   1524708.0   1314789.0   \n",
       "2  binance  2022-11-10T18:55:25.096     25   1513576.0   1312371.0   \n",
       "3  binance  2022-11-10T18:55:26.549     25   1515657.0   1273988.0   \n",
       "4  binance  2022-11-10T18:55:27.944     25   1512580.0   1279561.0   \n",
       "5  binance  2022-11-10T18:55:29.365     25    970471.0   1298325.0   \n",
       "6  binance  2022-11-10T18:55:30.796     25    995037.0   1296898.0   \n",
       "7  binance  2022-11-10T18:55:32.799     25    960952.0   1232979.0   \n",
       "8  binance  2022-11-10T18:55:35.673     25    919844.0   1175991.0   \n",
       "9  binance  2022-11-10T18:55:37.386     25    953798.0   1172314.0   \n",
       "\n",
       "   total_volume  mid_price    vwap  \n",
       "0     2695721.0    0.37905  0.3790  \n",
       "1     2839497.0    0.37915  0.3791  \n",
       "2     2825947.0    0.37915  0.3791  \n",
       "3     2789645.0    0.37915  0.3791  \n",
       "4     2792141.0    0.37915  0.3791  \n",
       "5     2268796.0    0.37955  0.3795  \n",
       "6     2291935.0    0.37955  0.3795  \n",
       "7     2193931.0    0.37955  0.3795  \n",
       "8     2095835.0    0.37975  0.3797  \n",
       "9     2126112.0    0.37975  0.3797  "
      ]
     },
     "execution_count": 145,
     "metadata": {},
     "output_type": "execute_result"
    }
   ],
   "source": [
    "MS_X = fn.concatenate(MS_0_X[0], MS_1_X[0], MS_2_X[0], n)\n",
    "MS_X.head(10)"
   ]
  },
  {
   "cell_type": "code",
   "execution_count": 119,
   "metadata": {},
   "outputs": [
    {
     "data": {
      "text/html": [
       "<div>\n",
       "<style scoped>\n",
       "    .dataframe tbody tr th:only-of-type {\n",
       "        vertical-align: middle;\n",
       "    }\n",
       "\n",
       "    .dataframe tbody tr th {\n",
       "        vertical-align: top;\n",
       "    }\n",
       "\n",
       "    .dataframe thead th {\n",
       "        text-align: right;\n",
       "    }\n",
       "</style>\n",
       "<table border=\"1\" class=\"dataframe\">\n",
       "  <thead>\n",
       "    <tr style=\"text-align: right;\">\n",
       "      <th></th>\n",
       "      <th>exchange</th>\n",
       "      <th>timestamp</th>\n",
       "      <th>level</th>\n",
       "      <th>ask_volume</th>\n",
       "      <th>bid_volume</th>\n",
       "      <th>total_volume</th>\n",
       "      <th>mid_price</th>\n",
       "      <th>vwap</th>\n",
       "    </tr>\n",
       "  </thead>\n",
       "  <tbody>\n",
       "    <tr>\n",
       "      <th>50</th>\n",
       "      <td>bytetrade</td>\n",
       "      <td>2022-11-10T18:56:57.184</td>\n",
       "      <td>25</td>\n",
       "      <td>7.434</td>\n",
       "      <td>2289.945</td>\n",
       "      <td>2297.379</td>\n",
       "      <td>0.377641</td>\n",
       "      <td>0.357912</td>\n",
       "    </tr>\n",
       "    <tr>\n",
       "      <th>51</th>\n",
       "      <td>bytetrade</td>\n",
       "      <td>2022-11-10T18:56:58.821</td>\n",
       "      <td>25</td>\n",
       "      <td>7.434</td>\n",
       "      <td>2289.945</td>\n",
       "      <td>2297.379</td>\n",
       "      <td>0.377641</td>\n",
       "      <td>0.357912</td>\n",
       "    </tr>\n",
       "    <tr>\n",
       "      <th>52</th>\n",
       "      <td>bytetrade</td>\n",
       "      <td>2022-11-10T18:57:00.511</td>\n",
       "      <td>25</td>\n",
       "      <td>7.434</td>\n",
       "      <td>2289.945</td>\n",
       "      <td>2297.379</td>\n",
       "      <td>0.377641</td>\n",
       "      <td>0.357912</td>\n",
       "    </tr>\n",
       "    <tr>\n",
       "      <th>53</th>\n",
       "      <td>bytetrade</td>\n",
       "      <td>2022-11-10T18:57:01.993</td>\n",
       "      <td>25</td>\n",
       "      <td>7.434</td>\n",
       "      <td>2289.945</td>\n",
       "      <td>2297.379</td>\n",
       "      <td>0.377641</td>\n",
       "      <td>0.357912</td>\n",
       "    </tr>\n",
       "    <tr>\n",
       "      <th>54</th>\n",
       "      <td>bytetrade</td>\n",
       "      <td>2022-11-10T18:57:03.729</td>\n",
       "      <td>25</td>\n",
       "      <td>7.434</td>\n",
       "      <td>2289.945</td>\n",
       "      <td>2297.379</td>\n",
       "      <td>0.377641</td>\n",
       "      <td>0.357912</td>\n",
       "    </tr>\n",
       "    <tr>\n",
       "      <th>55</th>\n",
       "      <td>bytetrade</td>\n",
       "      <td>2022-11-10T18:57:05.336</td>\n",
       "      <td>25</td>\n",
       "      <td>7.434</td>\n",
       "      <td>2289.945</td>\n",
       "      <td>2297.379</td>\n",
       "      <td>0.377641</td>\n",
       "      <td>0.357912</td>\n",
       "    </tr>\n",
       "    <tr>\n",
       "      <th>56</th>\n",
       "      <td>bytetrade</td>\n",
       "      <td>2022-11-10T18:57:06.754</td>\n",
       "      <td>25</td>\n",
       "      <td>7.434</td>\n",
       "      <td>2289.945</td>\n",
       "      <td>2297.379</td>\n",
       "      <td>0.377641</td>\n",
       "      <td>0.357912</td>\n",
       "    </tr>\n",
       "    <tr>\n",
       "      <th>57</th>\n",
       "      <td>bytetrade</td>\n",
       "      <td>2022-11-10T18:57:09.345</td>\n",
       "      <td>25</td>\n",
       "      <td>7.434</td>\n",
       "      <td>2289.945</td>\n",
       "      <td>2297.379</td>\n",
       "      <td>0.377641</td>\n",
       "      <td>0.357912</td>\n",
       "    </tr>\n",
       "    <tr>\n",
       "      <th>58</th>\n",
       "      <td>bytetrade</td>\n",
       "      <td>2022-11-10T18:57:10.771</td>\n",
       "      <td>25</td>\n",
       "      <td>7.434</td>\n",
       "      <td>2289.945</td>\n",
       "      <td>2297.379</td>\n",
       "      <td>0.377641</td>\n",
       "      <td>0.357912</td>\n",
       "    </tr>\n",
       "    <tr>\n",
       "      <th>59</th>\n",
       "      <td>bytetrade</td>\n",
       "      <td>2022-11-10T18:57:12.439</td>\n",
       "      <td>25</td>\n",
       "      <td>7.434</td>\n",
       "      <td>2289.945</td>\n",
       "      <td>2297.379</td>\n",
       "      <td>0.377641</td>\n",
       "      <td>0.357912</td>\n",
       "    </tr>\n",
       "  </tbody>\n",
       "</table>\n",
       "</div>"
      ],
      "text/plain": [
       "     exchange                timestamp  level  ask_volume  bid_volume  \\\n",
       "50  bytetrade  2022-11-10T18:56:57.184     25       7.434    2289.945   \n",
       "51  bytetrade  2022-11-10T18:56:58.821     25       7.434    2289.945   \n",
       "52  bytetrade  2022-11-10T18:57:00.511     25       7.434    2289.945   \n",
       "53  bytetrade  2022-11-10T18:57:01.993     25       7.434    2289.945   \n",
       "54  bytetrade  2022-11-10T18:57:03.729     25       7.434    2289.945   \n",
       "55  bytetrade  2022-11-10T18:57:05.336     25       7.434    2289.945   \n",
       "56  bytetrade  2022-11-10T18:57:06.754     25       7.434    2289.945   \n",
       "57  bytetrade  2022-11-10T18:57:09.345     25       7.434    2289.945   \n",
       "58  bytetrade  2022-11-10T18:57:10.771     25       7.434    2289.945   \n",
       "59  bytetrade  2022-11-10T18:57:12.439     25       7.434    2289.945   \n",
       "\n",
       "    total_volume  mid_price      vwap  \n",
       "50      2297.379   0.377641  0.357912  \n",
       "51      2297.379   0.377641  0.357912  \n",
       "52      2297.379   0.377641  0.357912  \n",
       "53      2297.379   0.377641  0.357912  \n",
       "54      2297.379   0.377641  0.357912  \n",
       "55      2297.379   0.377641  0.357912  \n",
       "56      2297.379   0.377641  0.357912  \n",
       "57      2297.379   0.377641  0.357912  \n",
       "58      2297.379   0.377641  0.357912  \n",
       "59      2297.379   0.377641  0.357912  "
      ]
     },
     "execution_count": 119,
     "metadata": {},
     "output_type": "execute_result"
    }
   ],
   "source": [
    "MS_X.tail(10)"
   ]
  },
  {
   "cell_type": "markdown",
   "metadata": {},
   "source": [
    "<strong> \n",
    "<font color= lightgreen> <font size = 3> Progress check 2  </font> <strong>\n",
    "\n",
    "Visualization"
   ]
  },
  {
   "cell_type": "code",
   "execution_count": 120,
   "metadata": {},
   "outputs": [
    {
     "name": "stdout",
     "output_type": "stream",
     "text": [
      "Help on function Plot_line in module visualizations:\n",
      "\n",
      "Plot_line(data_ms, cripto, title)\n",
      "    Function that plots Mid-Prices (y) and timestamps (x) for exchanges in data.\n",
      "    Parameters:\n",
      "    ----------\n",
      "    data_ms: Microstructure data for column extraction ['exchanges', 'Mid_Prices'] and index timestamp as datetime.\n",
      "    cripto: Downloadable cripto symbol.\n",
      "    title: Title of facet_cols plotly lines before criptocurrency symbol (ex: 'Volume of': XRP/USDT)\n",
      "    \n",
      "    Returns:\n",
      "    -------\n",
      "    facet_col plots for Mid-Prices (col) during timestamps of data (index) for exchanges (col).\n",
      "\n"
     ]
    }
   ],
   "source": [
    "help(vs.Plot_line)"
   ]
  },
  {
   "cell_type": "markdown",
   "metadata": {},
   "source": [
    "As it can be appreciated, Mid-Prices have different values in every exchange. Given this fact, there are entities that aim to reduce the spread between exchanges and they intervene creating virtual demand but let's not ignore that this is also traduced into gains for them, and they are also known as market makers."
   ]
  },
  {
   "cell_type": "code",
   "execution_count": 121,
   "metadata": {},
   "outputs": [
    {
     "data": {
      "application/vnd.plotly.v1+json": {
       "config": {
        "plotlyServerURL": "https://plot.ly"
       },
       "data": [
        {
         "hovertemplate": "variable=mid_price<br>exchange=binance<br>timestamp=%{x}<br>value=%{y}<extra></extra>",
         "legendgroup": "mid_price",
         "line": {
          "color": "#636efa",
          "dash": "solid"
         },
         "marker": {
          "symbol": "circle"
         },
         "mode": "lines",
         "name": "mid_price",
         "orientation": "v",
         "showlegend": true,
         "type": "scatter",
         "x": [
          "2022-11-10T18:49:09.439000",
          "2022-11-10T18:49:10.901000",
          "2022-11-10T18:49:12.934000",
          "2022-11-10T18:49:15.033000",
          "2022-11-10T18:49:16.465000",
          "2022-11-10T18:49:18.090000",
          "2022-11-10T18:49:19.480000",
          "2022-11-10T18:49:20.905000",
          "2022-11-10T18:49:22.370000",
          "2022-11-10T18:49:23.917000",
          "2022-11-10T18:49:25.374000",
          "2022-11-10T18:49:27.020000",
          "2022-11-10T18:49:28.492000",
          "2022-11-10T18:49:29.891000",
          "2022-11-10T18:49:31.308000",
          "2022-11-10T18:49:33.192000",
          "2022-11-10T18:49:34.971000",
          "2022-11-10T18:49:37.871000",
          "2022-11-10T18:49:39.896000",
          "2022-11-10T18:49:41.520000"
         ],
         "xaxis": "x3",
         "y": [
          17362.385,
          17362.23,
          17361.629999999997,
          17359.644999999997,
          17357.925,
          17349.465,
          17346.79,
          17343.52,
          17346.875,
          17342.71,
          17343.489999999998,
          17342.89,
          17339.074999999997,
          17340.64,
          17342.78,
          17348.25,
          17350.295,
          17349.77,
          17348.18,
          17346.260000000002
         ],
         "yaxis": "y3"
        },
        {
         "hovertemplate": "variable=mid_price<br>exchange=ftx<br>timestamp=%{x}<br>value=%{y}<extra></extra>",
         "legendgroup": "mid_price",
         "line": {
          "color": "#636efa",
          "dash": "solid"
         },
         "marker": {
          "symbol": "circle"
         },
         "mode": "lines",
         "name": "mid_price",
         "orientation": "v",
         "showlegend": false,
         "type": "scatter",
         "x": [
          "2022-11-10T18:49:43.341000",
          "2022-11-10T18:49:45.330000",
          "2022-11-10T18:49:47.802000",
          "2022-11-10T18:49:49.866000",
          "2022-11-10T18:49:52.169000",
          "2022-11-10T18:49:54.022000",
          "2022-11-10T18:49:55.899000",
          "2022-11-10T18:49:58.753000",
          "2022-11-10T18:50:00.577000",
          "2022-11-10T18:50:02.337000",
          "2022-11-10T18:50:04.210000",
          "2022-11-10T18:50:05.872000",
          "2022-11-10T18:50:07.195000",
          "2022-11-10T18:50:08.960000",
          "2022-11-10T18:50:10.846000",
          "2022-11-10T18:50:12.876000",
          "2022-11-10T18:50:14.445000",
          "2022-11-10T18:50:16.326000",
          "2022-11-10T18:50:18.617000",
          "2022-11-10T18:50:19.966000"
         ],
         "xaxis": "x2",
         "y": [
          16744.5,
          16744.5,
          16744.5,
          16744.5,
          16744.5,
          16744.5,
          16744.5,
          16744.5,
          16744.5,
          16744.5,
          16744,
          16744,
          16744,
          16744,
          16744.5,
          16744.5,
          16744.5,
          16744,
          16744,
          16744
         ],
         "yaxis": "y2"
        },
        {
         "hovertemplate": "variable=mid_price<br>exchange=bytetrade<br>timestamp=%{x}<br>value=%{y}<extra></extra>",
         "legendgroup": "mid_price",
         "line": {
          "color": "#636efa",
          "dash": "solid"
         },
         "marker": {
          "symbol": "circle"
         },
         "mode": "lines",
         "name": "mid_price",
         "orientation": "v",
         "showlegend": false,
         "type": "scatter",
         "x": [
          "2022-11-10T18:50:22.899000",
          "2022-11-10T18:50:25.699000",
          "2022-11-10T18:50:27.139000",
          "2022-11-10T18:50:28.762000",
          "2022-11-10T18:50:30.577000",
          "2022-11-10T18:50:31.965000",
          "2022-11-10T18:50:34.339000",
          "2022-11-10T18:50:36.574000",
          "2022-11-10T18:50:37.954000",
          "2022-11-10T18:50:39.684000",
          "2022-11-10T18:50:41.353000",
          "2022-11-10T18:50:42.832000",
          "2022-11-10T18:50:45.402000",
          "2022-11-10T18:50:47.123000",
          "2022-11-10T18:50:48.552000",
          "2022-11-10T18:50:50.173000",
          "2022-11-10T18:50:51.625000",
          "2022-11-10T18:50:53.066000",
          "2022-11-10T18:50:54.736000",
          "2022-11-10T18:50:56.163000"
         ],
         "xaxis": "x",
         "y": [
          17357.9,
          17357.9,
          17357.9,
          17357.9,
          17357.9,
          17357.9,
          17357.9,
          17357.9,
          17357.9,
          17357.9,
          17357.9,
          17357.9,
          17357.9,
          17357.9,
          17357.9,
          17357.9,
          17357.9,
          17357.9,
          17357.9,
          17357.9
         ],
         "yaxis": "y"
        }
       ],
       "layout": {
        "annotations": [
         {
          "font": {},
          "showarrow": false,
          "text": "exchange=bytetrade",
          "x": 0.5,
          "xanchor": "center",
          "xref": "paper",
          "y": 0.2866666666666666,
          "yanchor": "bottom",
          "yref": "paper"
         },
         {
          "font": {},
          "showarrow": false,
          "text": "exchange=ftx",
          "x": 0.5,
          "xanchor": "center",
          "xref": "paper",
          "y": 0.6433333333333333,
          "yanchor": "bottom",
          "yref": "paper"
         },
         {
          "font": {},
          "showarrow": false,
          "text": "exchange=binance",
          "x": 0.5,
          "xanchor": "center",
          "xref": "paper",
          "y": 0.9999999999999999,
          "yanchor": "bottom",
          "yref": "paper"
         }
        ],
        "legend": {
         "title": {
          "text": "variable"
         },
         "tracegroupgap": 0
        },
        "margin": {
         "t": 60
        },
        "template": {
         "data": {
          "bar": [
           {
            "error_x": {
             "color": "#2a3f5f"
            },
            "error_y": {
             "color": "#2a3f5f"
            },
            "marker": {
             "line": {
              "color": "#E5ECF6",
              "width": 0.5
             },
             "pattern": {
              "fillmode": "overlay",
              "size": 10,
              "solidity": 0.2
             }
            },
            "type": "bar"
           }
          ],
          "barpolar": [
           {
            "marker": {
             "line": {
              "color": "#E5ECF6",
              "width": 0.5
             },
             "pattern": {
              "fillmode": "overlay",
              "size": 10,
              "solidity": 0.2
             }
            },
            "type": "barpolar"
           }
          ],
          "carpet": [
           {
            "aaxis": {
             "endlinecolor": "#2a3f5f",
             "gridcolor": "white",
             "linecolor": "white",
             "minorgridcolor": "white",
             "startlinecolor": "#2a3f5f"
            },
            "baxis": {
             "endlinecolor": "#2a3f5f",
             "gridcolor": "white",
             "linecolor": "white",
             "minorgridcolor": "white",
             "startlinecolor": "#2a3f5f"
            },
            "type": "carpet"
           }
          ],
          "choropleth": [
           {
            "colorbar": {
             "outlinewidth": 0,
             "ticks": ""
            },
            "type": "choropleth"
           }
          ],
          "contour": [
           {
            "colorbar": {
             "outlinewidth": 0,
             "ticks": ""
            },
            "colorscale": [
             [
              0,
              "#0d0887"
             ],
             [
              0.1111111111111111,
              "#46039f"
             ],
             [
              0.2222222222222222,
              "#7201a8"
             ],
             [
              0.3333333333333333,
              "#9c179e"
             ],
             [
              0.4444444444444444,
              "#bd3786"
             ],
             [
              0.5555555555555556,
              "#d8576b"
             ],
             [
              0.6666666666666666,
              "#ed7953"
             ],
             [
              0.7777777777777778,
              "#fb9f3a"
             ],
             [
              0.8888888888888888,
              "#fdca26"
             ],
             [
              1,
              "#f0f921"
             ]
            ],
            "type": "contour"
           }
          ],
          "contourcarpet": [
           {
            "colorbar": {
             "outlinewidth": 0,
             "ticks": ""
            },
            "type": "contourcarpet"
           }
          ],
          "heatmap": [
           {
            "colorbar": {
             "outlinewidth": 0,
             "ticks": ""
            },
            "colorscale": [
             [
              0,
              "#0d0887"
             ],
             [
              0.1111111111111111,
              "#46039f"
             ],
             [
              0.2222222222222222,
              "#7201a8"
             ],
             [
              0.3333333333333333,
              "#9c179e"
             ],
             [
              0.4444444444444444,
              "#bd3786"
             ],
             [
              0.5555555555555556,
              "#d8576b"
             ],
             [
              0.6666666666666666,
              "#ed7953"
             ],
             [
              0.7777777777777778,
              "#fb9f3a"
             ],
             [
              0.8888888888888888,
              "#fdca26"
             ],
             [
              1,
              "#f0f921"
             ]
            ],
            "type": "heatmap"
           }
          ],
          "heatmapgl": [
           {
            "colorbar": {
             "outlinewidth": 0,
             "ticks": ""
            },
            "colorscale": [
             [
              0,
              "#0d0887"
             ],
             [
              0.1111111111111111,
              "#46039f"
             ],
             [
              0.2222222222222222,
              "#7201a8"
             ],
             [
              0.3333333333333333,
              "#9c179e"
             ],
             [
              0.4444444444444444,
              "#bd3786"
             ],
             [
              0.5555555555555556,
              "#d8576b"
             ],
             [
              0.6666666666666666,
              "#ed7953"
             ],
             [
              0.7777777777777778,
              "#fb9f3a"
             ],
             [
              0.8888888888888888,
              "#fdca26"
             ],
             [
              1,
              "#f0f921"
             ]
            ],
            "type": "heatmapgl"
           }
          ],
          "histogram": [
           {
            "marker": {
             "pattern": {
              "fillmode": "overlay",
              "size": 10,
              "solidity": 0.2
             }
            },
            "type": "histogram"
           }
          ],
          "histogram2d": [
           {
            "colorbar": {
             "outlinewidth": 0,
             "ticks": ""
            },
            "colorscale": [
             [
              0,
              "#0d0887"
             ],
             [
              0.1111111111111111,
              "#46039f"
             ],
             [
              0.2222222222222222,
              "#7201a8"
             ],
             [
              0.3333333333333333,
              "#9c179e"
             ],
             [
              0.4444444444444444,
              "#bd3786"
             ],
             [
              0.5555555555555556,
              "#d8576b"
             ],
             [
              0.6666666666666666,
              "#ed7953"
             ],
             [
              0.7777777777777778,
              "#fb9f3a"
             ],
             [
              0.8888888888888888,
              "#fdca26"
             ],
             [
              1,
              "#f0f921"
             ]
            ],
            "type": "histogram2d"
           }
          ],
          "histogram2dcontour": [
           {
            "colorbar": {
             "outlinewidth": 0,
             "ticks": ""
            },
            "colorscale": [
             [
              0,
              "#0d0887"
             ],
             [
              0.1111111111111111,
              "#46039f"
             ],
             [
              0.2222222222222222,
              "#7201a8"
             ],
             [
              0.3333333333333333,
              "#9c179e"
             ],
             [
              0.4444444444444444,
              "#bd3786"
             ],
             [
              0.5555555555555556,
              "#d8576b"
             ],
             [
              0.6666666666666666,
              "#ed7953"
             ],
             [
              0.7777777777777778,
              "#fb9f3a"
             ],
             [
              0.8888888888888888,
              "#fdca26"
             ],
             [
              1,
              "#f0f921"
             ]
            ],
            "type": "histogram2dcontour"
           }
          ],
          "mesh3d": [
           {
            "colorbar": {
             "outlinewidth": 0,
             "ticks": ""
            },
            "type": "mesh3d"
           }
          ],
          "parcoords": [
           {
            "line": {
             "colorbar": {
              "outlinewidth": 0,
              "ticks": ""
             }
            },
            "type": "parcoords"
           }
          ],
          "pie": [
           {
            "automargin": true,
            "type": "pie"
           }
          ],
          "scatter": [
           {
            "marker": {
             "colorbar": {
              "outlinewidth": 0,
              "ticks": ""
             }
            },
            "type": "scatter"
           }
          ],
          "scatter3d": [
           {
            "line": {
             "colorbar": {
              "outlinewidth": 0,
              "ticks": ""
             }
            },
            "marker": {
             "colorbar": {
              "outlinewidth": 0,
              "ticks": ""
             }
            },
            "type": "scatter3d"
           }
          ],
          "scattercarpet": [
           {
            "marker": {
             "colorbar": {
              "outlinewidth": 0,
              "ticks": ""
             }
            },
            "type": "scattercarpet"
           }
          ],
          "scattergeo": [
           {
            "marker": {
             "colorbar": {
              "outlinewidth": 0,
              "ticks": ""
             }
            },
            "type": "scattergeo"
           }
          ],
          "scattergl": [
           {
            "marker": {
             "colorbar": {
              "outlinewidth": 0,
              "ticks": ""
             }
            },
            "type": "scattergl"
           }
          ],
          "scattermapbox": [
           {
            "marker": {
             "colorbar": {
              "outlinewidth": 0,
              "ticks": ""
             }
            },
            "type": "scattermapbox"
           }
          ],
          "scatterpolar": [
           {
            "marker": {
             "colorbar": {
              "outlinewidth": 0,
              "ticks": ""
             }
            },
            "type": "scatterpolar"
           }
          ],
          "scatterpolargl": [
           {
            "marker": {
             "colorbar": {
              "outlinewidth": 0,
              "ticks": ""
             }
            },
            "type": "scatterpolargl"
           }
          ],
          "scatterternary": [
           {
            "marker": {
             "colorbar": {
              "outlinewidth": 0,
              "ticks": ""
             }
            },
            "type": "scatterternary"
           }
          ],
          "surface": [
           {
            "colorbar": {
             "outlinewidth": 0,
             "ticks": ""
            },
            "colorscale": [
             [
              0,
              "#0d0887"
             ],
             [
              0.1111111111111111,
              "#46039f"
             ],
             [
              0.2222222222222222,
              "#7201a8"
             ],
             [
              0.3333333333333333,
              "#9c179e"
             ],
             [
              0.4444444444444444,
              "#bd3786"
             ],
             [
              0.5555555555555556,
              "#d8576b"
             ],
             [
              0.6666666666666666,
              "#ed7953"
             ],
             [
              0.7777777777777778,
              "#fb9f3a"
             ],
             [
              0.8888888888888888,
              "#fdca26"
             ],
             [
              1,
              "#f0f921"
             ]
            ],
            "type": "surface"
           }
          ],
          "table": [
           {
            "cells": {
             "fill": {
              "color": "#EBF0F8"
             },
             "line": {
              "color": "white"
             }
            },
            "header": {
             "fill": {
              "color": "#C8D4E3"
             },
             "line": {
              "color": "white"
             }
            },
            "type": "table"
           }
          ]
         },
         "layout": {
          "annotationdefaults": {
           "arrowcolor": "#2a3f5f",
           "arrowhead": 0,
           "arrowwidth": 1
          },
          "autotypenumbers": "strict",
          "coloraxis": {
           "colorbar": {
            "outlinewidth": 0,
            "ticks": ""
           }
          },
          "colorscale": {
           "diverging": [
            [
             0,
             "#8e0152"
            ],
            [
             0.1,
             "#c51b7d"
            ],
            [
             0.2,
             "#de77ae"
            ],
            [
             0.3,
             "#f1b6da"
            ],
            [
             0.4,
             "#fde0ef"
            ],
            [
             0.5,
             "#f7f7f7"
            ],
            [
             0.6,
             "#e6f5d0"
            ],
            [
             0.7,
             "#b8e186"
            ],
            [
             0.8,
             "#7fbc41"
            ],
            [
             0.9,
             "#4d9221"
            ],
            [
             1,
             "#276419"
            ]
           ],
           "sequential": [
            [
             0,
             "#0d0887"
            ],
            [
             0.1111111111111111,
             "#46039f"
            ],
            [
             0.2222222222222222,
             "#7201a8"
            ],
            [
             0.3333333333333333,
             "#9c179e"
            ],
            [
             0.4444444444444444,
             "#bd3786"
            ],
            [
             0.5555555555555556,
             "#d8576b"
            ],
            [
             0.6666666666666666,
             "#ed7953"
            ],
            [
             0.7777777777777778,
             "#fb9f3a"
            ],
            [
             0.8888888888888888,
             "#fdca26"
            ],
            [
             1,
             "#f0f921"
            ]
           ],
           "sequentialminus": [
            [
             0,
             "#0d0887"
            ],
            [
             0.1111111111111111,
             "#46039f"
            ],
            [
             0.2222222222222222,
             "#7201a8"
            ],
            [
             0.3333333333333333,
             "#9c179e"
            ],
            [
             0.4444444444444444,
             "#bd3786"
            ],
            [
             0.5555555555555556,
             "#d8576b"
            ],
            [
             0.6666666666666666,
             "#ed7953"
            ],
            [
             0.7777777777777778,
             "#fb9f3a"
            ],
            [
             0.8888888888888888,
             "#fdca26"
            ],
            [
             1,
             "#f0f921"
            ]
           ]
          },
          "colorway": [
           "#636efa",
           "#EF553B",
           "#00cc96",
           "#ab63fa",
           "#FFA15A",
           "#19d3f3",
           "#FF6692",
           "#B6E880",
           "#FF97FF",
           "#FECB52"
          ],
          "font": {
           "color": "#2a3f5f"
          },
          "geo": {
           "bgcolor": "white",
           "lakecolor": "white",
           "landcolor": "#E5ECF6",
           "showlakes": true,
           "showland": true,
           "subunitcolor": "white"
          },
          "hoverlabel": {
           "align": "left"
          },
          "hovermode": "closest",
          "mapbox": {
           "style": "light"
          },
          "paper_bgcolor": "white",
          "plot_bgcolor": "#E5ECF6",
          "polar": {
           "angularaxis": {
            "gridcolor": "white",
            "linecolor": "white",
            "ticks": ""
           },
           "bgcolor": "#E5ECF6",
           "radialaxis": {
            "gridcolor": "white",
            "linecolor": "white",
            "ticks": ""
           }
          },
          "scene": {
           "xaxis": {
            "backgroundcolor": "#E5ECF6",
            "gridcolor": "white",
            "gridwidth": 2,
            "linecolor": "white",
            "showbackground": true,
            "ticks": "",
            "zerolinecolor": "white"
           },
           "yaxis": {
            "backgroundcolor": "#E5ECF6",
            "gridcolor": "white",
            "gridwidth": 2,
            "linecolor": "white",
            "showbackground": true,
            "ticks": "",
            "zerolinecolor": "white"
           },
           "zaxis": {
            "backgroundcolor": "#E5ECF6",
            "gridcolor": "white",
            "gridwidth": 2,
            "linecolor": "white",
            "showbackground": true,
            "ticks": "",
            "zerolinecolor": "white"
           }
          },
          "shapedefaults": {
           "line": {
            "color": "#2a3f5f"
           }
          },
          "ternary": {
           "aaxis": {
            "gridcolor": "white",
            "linecolor": "white",
            "ticks": ""
           },
           "baxis": {
            "gridcolor": "white",
            "linecolor": "white",
            "ticks": ""
           },
           "bgcolor": "#E5ECF6",
           "caxis": {
            "gridcolor": "white",
            "linecolor": "white",
            "ticks": ""
           }
          },
          "title": {
           "x": 0.05
          },
          "xaxis": {
           "automargin": true,
           "gridcolor": "white",
           "linecolor": "white",
           "ticks": "",
           "title": {
            "standoff": 15
           },
           "zerolinecolor": "white",
           "zerolinewidth": 2
          },
          "yaxis": {
           "automargin": true,
           "gridcolor": "white",
           "linecolor": "white",
           "ticks": "",
           "title": {
            "standoff": 15
           },
           "zerolinecolor": "white",
           "zerolinewidth": 2
          }
         }
        },
        "title": {
         "font": {
          "size": 15
         },
         "text": "Mid-Price of BTC/USDT:"
        },
        "xaxis": {
         "anchor": "y",
         "domain": [
          0,
          1
         ],
         "title": {
          "text": "timestamp"
         }
        },
        "xaxis2": {
         "anchor": "y2",
         "domain": [
          0,
          1
         ],
         "matches": "x",
         "showticklabels": false
        },
        "xaxis3": {
         "anchor": "y3",
         "domain": [
          0,
          1
         ],
         "matches": "x",
         "showticklabels": false
        },
        "yaxis": {
         "anchor": "x",
         "domain": [
          0,
          0.2866666666666666
         ],
         "title": {
          "text": "value"
         }
        },
        "yaxis2": {
         "anchor": "x2",
         "domain": [
          0.35666666666666663,
          0.6433333333333333
         ],
         "matches": "y",
         "title": {
          "text": "value"
         }
        },
        "yaxis3": {
         "anchor": "x3",
         "domain": [
          0.7133333333333333,
          0.9999999999999999
         ],
         "matches": "y",
         "title": {
          "text": "value"
         }
        }
       }
      }
     },
     "metadata": {},
     "output_type": "display_data"
    }
   ],
   "source": [
    "vs.Plot_line(MS_B, criptos[0], \"Mid-Price of\")"
   ]
  },
  {
   "cell_type": "markdown",
   "metadata": {},
   "source": [
    "Within exchanges with liquidity issues, volatility tends to be higher as well and this fact increases risks even further."
   ]
  },
  {
   "cell_type": "code",
   "execution_count": 122,
   "metadata": {},
   "outputs": [
    {
     "data": {
      "application/vnd.plotly.v1+json": {
       "config": {
        "plotlyServerURL": "https://plot.ly"
       },
       "data": [
        {
         "hovertemplate": "variable=mid_price<br>exchange=binance<br>timestamp=%{x}<br>value=%{y}<extra></extra>",
         "legendgroup": "mid_price",
         "line": {
          "color": "#636efa",
          "dash": "solid"
         },
         "marker": {
          "symbol": "circle"
         },
         "mode": "lines",
         "name": "mid_price",
         "orientation": "v",
         "showlegend": true,
         "type": "scatter",
         "x": [
          "2022-11-10T18:53:24.596000",
          "2022-11-10T18:53:25.977000",
          "2022-11-10T18:53:27.353000",
          "2022-11-10T18:53:29.384000",
          "2022-11-10T18:53:31.437000",
          "2022-11-10T18:53:32.954000",
          "2022-11-10T18:53:34.810000",
          "2022-11-10T18:53:36.743000",
          "2022-11-10T18:53:38.282000",
          "2022-11-10T18:53:39.726000",
          "2022-11-10T18:53:41.484000",
          "2022-11-10T18:53:42.855000",
          "2022-11-10T18:53:44.260000",
          "2022-11-10T18:53:45.657000",
          "2022-11-10T18:53:47.085000",
          "2022-11-10T18:53:48.497000",
          "2022-11-10T18:53:50.535000",
          "2022-11-10T18:53:52.147000",
          "2022-11-10T18:53:53.565000",
          "2022-11-10T18:53:55.060000"
         ],
         "xaxis": "x3",
         "y": [
          1267.975,
          1267.975,
          1267.995,
          1268.0749999999998,
          1268.165,
          1268.185,
          1268.1550000000002,
          1268.1550000000002,
          1268.0749999999998,
          1267.8850000000002,
          1267.9450000000002,
          1267.855,
          1267.9650000000001,
          1267.8049999999998,
          1267.87,
          1267.895,
          1267.625,
          1267.5949999999998,
          1267.5949999999998,
          1267.7350000000001
         ],
         "yaxis": "y3"
        },
        {
         "hovertemplate": "variable=mid_price<br>exchange=ftx<br>timestamp=%{x}<br>value=%{y}<extra></extra>",
         "legendgroup": "mid_price",
         "line": {
          "color": "#636efa",
          "dash": "solid"
         },
         "marker": {
          "symbol": "circle"
         },
         "mode": "lines",
         "name": "mid_price",
         "orientation": "v",
         "showlegend": false,
         "type": "scatter",
         "x": [
          "2022-11-10T18:53:57.427000",
          "2022-11-10T18:53:59.654000",
          "2022-11-10T18:54:02.464000",
          "2022-11-10T18:54:05.187000",
          "2022-11-10T18:54:06.930000",
          "2022-11-10T18:54:09.210000",
          "2022-11-10T18:54:11.591000",
          "2022-11-10T18:54:13.792000",
          "2022-11-10T18:54:17.273000",
          "2022-11-10T18:54:19.518000",
          "2022-11-10T18:54:21.770000",
          "2022-11-10T18:54:23.888000",
          "2022-11-10T18:54:25.992000",
          "2022-11-10T18:54:28.060000",
          "2022-11-10T18:54:30.883000",
          "2022-11-10T18:54:32.498000",
          "2022-11-10T18:54:34.928000",
          "2022-11-10T18:54:36.775000",
          "2022-11-10T18:54:39.210000",
          "2022-11-10T18:54:42.034000"
         ],
         "xaxis": "x2",
         "y": [
          1294.8,
          1295.4,
          1294.65,
          1296.1999999999998,
          1298.15,
          1296.55,
          1294.6,
          1294.75,
          1295.3,
          1293.75,
          1295.4499999999998,
          1296.1999999999998,
          1292,
          1294.9,
          1295.5500000000002,
          1293.7,
          1294.65,
          1294.6,
          1296.65,
          1296.6
         ],
         "yaxis": "y2"
        },
        {
         "hovertemplate": "variable=mid_price<br>exchange=bytetrade<br>timestamp=%{x}<br>value=%{y}<extra></extra>",
         "legendgroup": "mid_price",
         "line": {
          "color": "#636efa",
          "dash": "solid"
         },
         "marker": {
          "symbol": "circle"
         },
         "mode": "lines",
         "name": "mid_price",
         "orientation": "v",
         "showlegend": false,
         "type": "scatter",
         "x": [
          "2022-11-10T18:54:44.482000",
          "2022-11-10T18:54:46.263000",
          "2022-11-10T18:54:47.751000",
          "2022-11-10T18:54:49.495000",
          "2022-11-10T18:54:51.265000",
          "2022-11-10T18:54:53.545000",
          "2022-11-10T18:54:56.125000",
          "2022-11-10T18:54:57.542000",
          "2022-11-10T18:55:00.134000",
          "2022-11-10T18:55:02.590000",
          "2022-11-10T18:55:04.227000",
          "2022-11-10T18:55:05.585000",
          "2022-11-10T18:55:07.218000",
          "2022-11-10T18:55:08.834000",
          "2022-11-10T18:55:10.233000",
          "2022-11-10T18:55:12.878000",
          "2022-11-10T18:55:14.458000",
          "2022-11-10T18:55:15.896000",
          "2022-11-10T18:55:18.099000",
          "2022-11-10T18:55:19.830000"
         ],
         "xaxis": "x",
         "y": [
          1268.205,
          1268.205,
          1268.205,
          1268.205,
          1268.205,
          1268.205,
          1268.205,
          1268.205,
          1268.205,
          1268.205,
          1268.205,
          1268.205,
          1268.205,
          1268.205,
          1268.205,
          1268.205,
          1268.205,
          1268.205,
          1268.205,
          1268.205
         ],
         "yaxis": "y"
        }
       ],
       "layout": {
        "annotations": [
         {
          "font": {},
          "showarrow": false,
          "text": "exchange=bytetrade",
          "x": 0.5,
          "xanchor": "center",
          "xref": "paper",
          "y": 0.2866666666666666,
          "yanchor": "bottom",
          "yref": "paper"
         },
         {
          "font": {},
          "showarrow": false,
          "text": "exchange=ftx",
          "x": 0.5,
          "xanchor": "center",
          "xref": "paper",
          "y": 0.6433333333333333,
          "yanchor": "bottom",
          "yref": "paper"
         },
         {
          "font": {},
          "showarrow": false,
          "text": "exchange=binance",
          "x": 0.5,
          "xanchor": "center",
          "xref": "paper",
          "y": 0.9999999999999999,
          "yanchor": "bottom",
          "yref": "paper"
         }
        ],
        "legend": {
         "title": {
          "text": "variable"
         },
         "tracegroupgap": 0
        },
        "margin": {
         "t": 60
        },
        "template": {
         "data": {
          "bar": [
           {
            "error_x": {
             "color": "#2a3f5f"
            },
            "error_y": {
             "color": "#2a3f5f"
            },
            "marker": {
             "line": {
              "color": "#E5ECF6",
              "width": 0.5
             },
             "pattern": {
              "fillmode": "overlay",
              "size": 10,
              "solidity": 0.2
             }
            },
            "type": "bar"
           }
          ],
          "barpolar": [
           {
            "marker": {
             "line": {
              "color": "#E5ECF6",
              "width": 0.5
             },
             "pattern": {
              "fillmode": "overlay",
              "size": 10,
              "solidity": 0.2
             }
            },
            "type": "barpolar"
           }
          ],
          "carpet": [
           {
            "aaxis": {
             "endlinecolor": "#2a3f5f",
             "gridcolor": "white",
             "linecolor": "white",
             "minorgridcolor": "white",
             "startlinecolor": "#2a3f5f"
            },
            "baxis": {
             "endlinecolor": "#2a3f5f",
             "gridcolor": "white",
             "linecolor": "white",
             "minorgridcolor": "white",
             "startlinecolor": "#2a3f5f"
            },
            "type": "carpet"
           }
          ],
          "choropleth": [
           {
            "colorbar": {
             "outlinewidth": 0,
             "ticks": ""
            },
            "type": "choropleth"
           }
          ],
          "contour": [
           {
            "colorbar": {
             "outlinewidth": 0,
             "ticks": ""
            },
            "colorscale": [
             [
              0,
              "#0d0887"
             ],
             [
              0.1111111111111111,
              "#46039f"
             ],
             [
              0.2222222222222222,
              "#7201a8"
             ],
             [
              0.3333333333333333,
              "#9c179e"
             ],
             [
              0.4444444444444444,
              "#bd3786"
             ],
             [
              0.5555555555555556,
              "#d8576b"
             ],
             [
              0.6666666666666666,
              "#ed7953"
             ],
             [
              0.7777777777777778,
              "#fb9f3a"
             ],
             [
              0.8888888888888888,
              "#fdca26"
             ],
             [
              1,
              "#f0f921"
             ]
            ],
            "type": "contour"
           }
          ],
          "contourcarpet": [
           {
            "colorbar": {
             "outlinewidth": 0,
             "ticks": ""
            },
            "type": "contourcarpet"
           }
          ],
          "heatmap": [
           {
            "colorbar": {
             "outlinewidth": 0,
             "ticks": ""
            },
            "colorscale": [
             [
              0,
              "#0d0887"
             ],
             [
              0.1111111111111111,
              "#46039f"
             ],
             [
              0.2222222222222222,
              "#7201a8"
             ],
             [
              0.3333333333333333,
              "#9c179e"
             ],
             [
              0.4444444444444444,
              "#bd3786"
             ],
             [
              0.5555555555555556,
              "#d8576b"
             ],
             [
              0.6666666666666666,
              "#ed7953"
             ],
             [
              0.7777777777777778,
              "#fb9f3a"
             ],
             [
              0.8888888888888888,
              "#fdca26"
             ],
             [
              1,
              "#f0f921"
             ]
            ],
            "type": "heatmap"
           }
          ],
          "heatmapgl": [
           {
            "colorbar": {
             "outlinewidth": 0,
             "ticks": ""
            },
            "colorscale": [
             [
              0,
              "#0d0887"
             ],
             [
              0.1111111111111111,
              "#46039f"
             ],
             [
              0.2222222222222222,
              "#7201a8"
             ],
             [
              0.3333333333333333,
              "#9c179e"
             ],
             [
              0.4444444444444444,
              "#bd3786"
             ],
             [
              0.5555555555555556,
              "#d8576b"
             ],
             [
              0.6666666666666666,
              "#ed7953"
             ],
             [
              0.7777777777777778,
              "#fb9f3a"
             ],
             [
              0.8888888888888888,
              "#fdca26"
             ],
             [
              1,
              "#f0f921"
             ]
            ],
            "type": "heatmapgl"
           }
          ],
          "histogram": [
           {
            "marker": {
             "pattern": {
              "fillmode": "overlay",
              "size": 10,
              "solidity": 0.2
             }
            },
            "type": "histogram"
           }
          ],
          "histogram2d": [
           {
            "colorbar": {
             "outlinewidth": 0,
             "ticks": ""
            },
            "colorscale": [
             [
              0,
              "#0d0887"
             ],
             [
              0.1111111111111111,
              "#46039f"
             ],
             [
              0.2222222222222222,
              "#7201a8"
             ],
             [
              0.3333333333333333,
              "#9c179e"
             ],
             [
              0.4444444444444444,
              "#bd3786"
             ],
             [
              0.5555555555555556,
              "#d8576b"
             ],
             [
              0.6666666666666666,
              "#ed7953"
             ],
             [
              0.7777777777777778,
              "#fb9f3a"
             ],
             [
              0.8888888888888888,
              "#fdca26"
             ],
             [
              1,
              "#f0f921"
             ]
            ],
            "type": "histogram2d"
           }
          ],
          "histogram2dcontour": [
           {
            "colorbar": {
             "outlinewidth": 0,
             "ticks": ""
            },
            "colorscale": [
             [
              0,
              "#0d0887"
             ],
             [
              0.1111111111111111,
              "#46039f"
             ],
             [
              0.2222222222222222,
              "#7201a8"
             ],
             [
              0.3333333333333333,
              "#9c179e"
             ],
             [
              0.4444444444444444,
              "#bd3786"
             ],
             [
              0.5555555555555556,
              "#d8576b"
             ],
             [
              0.6666666666666666,
              "#ed7953"
             ],
             [
              0.7777777777777778,
              "#fb9f3a"
             ],
             [
              0.8888888888888888,
              "#fdca26"
             ],
             [
              1,
              "#f0f921"
             ]
            ],
            "type": "histogram2dcontour"
           }
          ],
          "mesh3d": [
           {
            "colorbar": {
             "outlinewidth": 0,
             "ticks": ""
            },
            "type": "mesh3d"
           }
          ],
          "parcoords": [
           {
            "line": {
             "colorbar": {
              "outlinewidth": 0,
              "ticks": ""
             }
            },
            "type": "parcoords"
           }
          ],
          "pie": [
           {
            "automargin": true,
            "type": "pie"
           }
          ],
          "scatter": [
           {
            "marker": {
             "colorbar": {
              "outlinewidth": 0,
              "ticks": ""
             }
            },
            "type": "scatter"
           }
          ],
          "scatter3d": [
           {
            "line": {
             "colorbar": {
              "outlinewidth": 0,
              "ticks": ""
             }
            },
            "marker": {
             "colorbar": {
              "outlinewidth": 0,
              "ticks": ""
             }
            },
            "type": "scatter3d"
           }
          ],
          "scattercarpet": [
           {
            "marker": {
             "colorbar": {
              "outlinewidth": 0,
              "ticks": ""
             }
            },
            "type": "scattercarpet"
           }
          ],
          "scattergeo": [
           {
            "marker": {
             "colorbar": {
              "outlinewidth": 0,
              "ticks": ""
             }
            },
            "type": "scattergeo"
           }
          ],
          "scattergl": [
           {
            "marker": {
             "colorbar": {
              "outlinewidth": 0,
              "ticks": ""
             }
            },
            "type": "scattergl"
           }
          ],
          "scattermapbox": [
           {
            "marker": {
             "colorbar": {
              "outlinewidth": 0,
              "ticks": ""
             }
            },
            "type": "scattermapbox"
           }
          ],
          "scatterpolar": [
           {
            "marker": {
             "colorbar": {
              "outlinewidth": 0,
              "ticks": ""
             }
            },
            "type": "scatterpolar"
           }
          ],
          "scatterpolargl": [
           {
            "marker": {
             "colorbar": {
              "outlinewidth": 0,
              "ticks": ""
             }
            },
            "type": "scatterpolargl"
           }
          ],
          "scatterternary": [
           {
            "marker": {
             "colorbar": {
              "outlinewidth": 0,
              "ticks": ""
             }
            },
            "type": "scatterternary"
           }
          ],
          "surface": [
           {
            "colorbar": {
             "outlinewidth": 0,
             "ticks": ""
            },
            "colorscale": [
             [
              0,
              "#0d0887"
             ],
             [
              0.1111111111111111,
              "#46039f"
             ],
             [
              0.2222222222222222,
              "#7201a8"
             ],
             [
              0.3333333333333333,
              "#9c179e"
             ],
             [
              0.4444444444444444,
              "#bd3786"
             ],
             [
              0.5555555555555556,
              "#d8576b"
             ],
             [
              0.6666666666666666,
              "#ed7953"
             ],
             [
              0.7777777777777778,
              "#fb9f3a"
             ],
             [
              0.8888888888888888,
              "#fdca26"
             ],
             [
              1,
              "#f0f921"
             ]
            ],
            "type": "surface"
           }
          ],
          "table": [
           {
            "cells": {
             "fill": {
              "color": "#EBF0F8"
             },
             "line": {
              "color": "white"
             }
            },
            "header": {
             "fill": {
              "color": "#C8D4E3"
             },
             "line": {
              "color": "white"
             }
            },
            "type": "table"
           }
          ]
         },
         "layout": {
          "annotationdefaults": {
           "arrowcolor": "#2a3f5f",
           "arrowhead": 0,
           "arrowwidth": 1
          },
          "autotypenumbers": "strict",
          "coloraxis": {
           "colorbar": {
            "outlinewidth": 0,
            "ticks": ""
           }
          },
          "colorscale": {
           "diverging": [
            [
             0,
             "#8e0152"
            ],
            [
             0.1,
             "#c51b7d"
            ],
            [
             0.2,
             "#de77ae"
            ],
            [
             0.3,
             "#f1b6da"
            ],
            [
             0.4,
             "#fde0ef"
            ],
            [
             0.5,
             "#f7f7f7"
            ],
            [
             0.6,
             "#e6f5d0"
            ],
            [
             0.7,
             "#b8e186"
            ],
            [
             0.8,
             "#7fbc41"
            ],
            [
             0.9,
             "#4d9221"
            ],
            [
             1,
             "#276419"
            ]
           ],
           "sequential": [
            [
             0,
             "#0d0887"
            ],
            [
             0.1111111111111111,
             "#46039f"
            ],
            [
             0.2222222222222222,
             "#7201a8"
            ],
            [
             0.3333333333333333,
             "#9c179e"
            ],
            [
             0.4444444444444444,
             "#bd3786"
            ],
            [
             0.5555555555555556,
             "#d8576b"
            ],
            [
             0.6666666666666666,
             "#ed7953"
            ],
            [
             0.7777777777777778,
             "#fb9f3a"
            ],
            [
             0.8888888888888888,
             "#fdca26"
            ],
            [
             1,
             "#f0f921"
            ]
           ],
           "sequentialminus": [
            [
             0,
             "#0d0887"
            ],
            [
             0.1111111111111111,
             "#46039f"
            ],
            [
             0.2222222222222222,
             "#7201a8"
            ],
            [
             0.3333333333333333,
             "#9c179e"
            ],
            [
             0.4444444444444444,
             "#bd3786"
            ],
            [
             0.5555555555555556,
             "#d8576b"
            ],
            [
             0.6666666666666666,
             "#ed7953"
            ],
            [
             0.7777777777777778,
             "#fb9f3a"
            ],
            [
             0.8888888888888888,
             "#fdca26"
            ],
            [
             1,
             "#f0f921"
            ]
           ]
          },
          "colorway": [
           "#636efa",
           "#EF553B",
           "#00cc96",
           "#ab63fa",
           "#FFA15A",
           "#19d3f3",
           "#FF6692",
           "#B6E880",
           "#FF97FF",
           "#FECB52"
          ],
          "font": {
           "color": "#2a3f5f"
          },
          "geo": {
           "bgcolor": "white",
           "lakecolor": "white",
           "landcolor": "#E5ECF6",
           "showlakes": true,
           "showland": true,
           "subunitcolor": "white"
          },
          "hoverlabel": {
           "align": "left"
          },
          "hovermode": "closest",
          "mapbox": {
           "style": "light"
          },
          "paper_bgcolor": "white",
          "plot_bgcolor": "#E5ECF6",
          "polar": {
           "angularaxis": {
            "gridcolor": "white",
            "linecolor": "white",
            "ticks": ""
           },
           "bgcolor": "#E5ECF6",
           "radialaxis": {
            "gridcolor": "white",
            "linecolor": "white",
            "ticks": ""
           }
          },
          "scene": {
           "xaxis": {
            "backgroundcolor": "#E5ECF6",
            "gridcolor": "white",
            "gridwidth": 2,
            "linecolor": "white",
            "showbackground": true,
            "ticks": "",
            "zerolinecolor": "white"
           },
           "yaxis": {
            "backgroundcolor": "#E5ECF6",
            "gridcolor": "white",
            "gridwidth": 2,
            "linecolor": "white",
            "showbackground": true,
            "ticks": "",
            "zerolinecolor": "white"
           },
           "zaxis": {
            "backgroundcolor": "#E5ECF6",
            "gridcolor": "white",
            "gridwidth": 2,
            "linecolor": "white",
            "showbackground": true,
            "ticks": "",
            "zerolinecolor": "white"
           }
          },
          "shapedefaults": {
           "line": {
            "color": "#2a3f5f"
           }
          },
          "ternary": {
           "aaxis": {
            "gridcolor": "white",
            "linecolor": "white",
            "ticks": ""
           },
           "baxis": {
            "gridcolor": "white",
            "linecolor": "white",
            "ticks": ""
           },
           "bgcolor": "#E5ECF6",
           "caxis": {
            "gridcolor": "white",
            "linecolor": "white",
            "ticks": ""
           }
          },
          "title": {
           "x": 0.05
          },
          "xaxis": {
           "automargin": true,
           "gridcolor": "white",
           "linecolor": "white",
           "ticks": "",
           "title": {
            "standoff": 15
           },
           "zerolinecolor": "white",
           "zerolinewidth": 2
          },
          "yaxis": {
           "automargin": true,
           "gridcolor": "white",
           "linecolor": "white",
           "ticks": "",
           "title": {
            "standoff": 15
           },
           "zerolinecolor": "white",
           "zerolinewidth": 2
          }
         }
        },
        "title": {
         "font": {
          "size": 15
         },
         "text": "Mid-Price of ETH/USDT:"
        },
        "xaxis": {
         "anchor": "y",
         "domain": [
          0,
          1
         ],
         "title": {
          "text": "timestamp"
         }
        },
        "xaxis2": {
         "anchor": "y2",
         "domain": [
          0,
          1
         ],
         "matches": "x",
         "showticklabels": false
        },
        "xaxis3": {
         "anchor": "y3",
         "domain": [
          0,
          1
         ],
         "matches": "x",
         "showticklabels": false
        },
        "yaxis": {
         "anchor": "x",
         "domain": [
          0,
          0.2866666666666666
         ],
         "title": {
          "text": "value"
         }
        },
        "yaxis2": {
         "anchor": "x2",
         "domain": [
          0.35666666666666663,
          0.6433333333333333
         ],
         "matches": "y",
         "title": {
          "text": "value"
         }
        },
        "yaxis3": {
         "anchor": "x3",
         "domain": [
          0.7133333333333333,
          0.9999999999999999
         ],
         "matches": "y",
         "title": {
          "text": "value"
         }
        }
       }
      }
     },
     "metadata": {},
     "output_type": "display_data"
    }
   ],
   "source": [
    "vs.Plot_line(MS_E, criptos[1], \"Mid-Price of\")"
   ]
  },
  {
   "cell_type": "markdown",
   "metadata": {},
   "source": [
    "There are exchanges that have bigger or smaller price differences but they all have them which means that market makers will always be there to reduce them and take this small proportion as their gains but for big participations."
   ]
  },
  {
   "cell_type": "code",
   "execution_count": 123,
   "metadata": {},
   "outputs": [
    {
     "data": {
      "application/vnd.plotly.v1+json": {
       "config": {
        "plotlyServerURL": "https://plot.ly"
       },
       "data": [
        {
         "hovertemplate": "variable=mid_price<br>exchange=binance<br>timestamp=%{x}<br>value=%{y}<extra></extra>",
         "legendgroup": "mid_price",
         "line": {
          "color": "#636efa",
          "dash": "solid"
         },
         "marker": {
          "symbol": "circle"
         },
         "mode": "lines",
         "name": "mid_price",
         "orientation": "v",
         "showlegend": true,
         "type": "scatter",
         "x": [
          "2022-11-10T18:55:22.240000",
          "2022-11-10T18:55:23.695000",
          "2022-11-10T18:55:25.096000",
          "2022-11-10T18:55:26.549000",
          "2022-11-10T18:55:27.944000",
          "2022-11-10T18:55:29.365000",
          "2022-11-10T18:55:30.796000",
          "2022-11-10T18:55:32.799000",
          "2022-11-10T18:55:35.673000",
          "2022-11-10T18:55:37.386000",
          "2022-11-10T18:55:39.847000",
          "2022-11-10T18:55:41.324000",
          "2022-11-10T18:55:42.782000",
          "2022-11-10T18:55:44.626000",
          "2022-11-10T18:55:46.242000",
          "2022-11-10T18:55:48.083000",
          "2022-11-10T18:55:49.502000",
          "2022-11-10T18:55:50.882000",
          "2022-11-10T18:55:52.409000",
          "2022-11-10T18:55:53.829000"
         ],
         "xaxis": "x3",
         "y": [
          0.37905,
          0.37915,
          0.37915,
          0.37915,
          0.37915,
          0.37955,
          0.37955,
          0.37955,
          0.37975000000000003,
          0.37975000000000003,
          0.37985,
          0.37985,
          0.37985,
          0.37975000000000003,
          0.37975000000000003,
          0.37975000000000003,
          0.37975000000000003,
          0.37975000000000003,
          0.37975000000000003,
          0.37975000000000003
         ],
         "yaxis": "y3"
        },
        {
         "hovertemplate": "variable=mid_price<br>exchange=ftx<br>timestamp=%{x}<br>value=%{y}<extra></extra>",
         "legendgroup": "mid_price",
         "line": {
          "color": "#636efa",
          "dash": "solid"
         },
         "marker": {
          "symbol": "circle"
         },
         "mode": "lines",
         "name": "mid_price",
         "orientation": "v",
         "showlegend": false,
         "type": "scatter",
         "x": [
          "2022-11-10T18:55:56.117000",
          "2022-11-10T18:55:58.173000",
          "2022-11-10T18:56:00.434000",
          "2022-11-10T18:56:02.695000",
          "2022-11-10T18:56:04.612000",
          "2022-11-10T18:56:06.172000",
          "2022-11-10T18:56:08.423000",
          "2022-11-10T18:56:10.254000",
          "2022-11-10T18:56:13.705000",
          "2022-11-10T18:56:15.466000",
          "2022-11-10T18:56:17.151000",
          "2022-11-10T18:56:19.651000",
          "2022-11-10T18:56:21.740000",
          "2022-11-10T18:56:24.227000",
          "2022-11-10T18:56:27.046000",
          "2022-11-10T18:56:28.854000",
          "2022-11-10T18:56:30.909000",
          "2022-11-10T18:56:32.603000",
          "2022-11-10T18:56:35.058000",
          "2022-11-10T18:56:37.071000"
         ],
         "xaxis": "x2",
         "y": [
          0.364,
          0.364,
          0.3640125,
          0.36402500000000004,
          0.36402500000000004,
          0.36402500000000004,
          0.36402500000000004,
          0.36402500000000004,
          0.36402500000000004,
          0.36405,
          0.36405,
          0.36405,
          0.36405,
          0.36405,
          0.36405,
          0.36405,
          0.36405,
          0.36405,
          0.36405,
          0.36412500000000003
         ],
         "yaxis": "y2"
        },
        {
         "hovertemplate": "variable=mid_price<br>exchange=bytetrade<br>timestamp=%{x}<br>value=%{y}<extra></extra>",
         "legendgroup": "mid_price",
         "line": {
          "color": "#636efa",
          "dash": "solid"
         },
         "marker": {
          "symbol": "circle"
         },
         "mode": "lines",
         "name": "mid_price",
         "orientation": "v",
         "showlegend": false,
         "type": "scatter",
         "x": [
          "2022-11-10T18:56:39.004000",
          "2022-11-10T18:56:41.636000",
          "2022-11-10T18:56:44.151000",
          "2022-11-10T18:56:45.823000",
          "2022-11-10T18:56:47.450000",
          "2022-11-10T18:56:48.860000",
          "2022-11-10T18:56:50.519000",
          "2022-11-10T18:56:51.966000",
          "2022-11-10T18:56:53.968000",
          "2022-11-10T18:56:55.465000",
          "2022-11-10T18:56:57.184000",
          "2022-11-10T18:56:58.821000",
          "2022-11-10T18:57:00.511000",
          "2022-11-10T18:57:01.993000",
          "2022-11-10T18:57:03.729000",
          "2022-11-10T18:57:05.336000",
          "2022-11-10T18:57:06.754000",
          "2022-11-10T18:57:09.345000",
          "2022-11-10T18:57:10.771000",
          "2022-11-10T18:57:12.439000"
         ],
         "xaxis": "x",
         "y": [
          0.377641,
          0.377641,
          0.377641,
          0.377641,
          0.377641,
          0.377641,
          0.377641,
          0.377641,
          0.377641,
          0.377641,
          0.377641,
          0.377641,
          0.377641,
          0.377641,
          0.377641,
          0.377641,
          0.377641,
          0.377641,
          0.377641,
          0.377641
         ],
         "yaxis": "y"
        }
       ],
       "layout": {
        "annotations": [
         {
          "font": {},
          "showarrow": false,
          "text": "exchange=bytetrade",
          "x": 0.5,
          "xanchor": "center",
          "xref": "paper",
          "y": 0.2866666666666666,
          "yanchor": "bottom",
          "yref": "paper"
         },
         {
          "font": {},
          "showarrow": false,
          "text": "exchange=ftx",
          "x": 0.5,
          "xanchor": "center",
          "xref": "paper",
          "y": 0.6433333333333333,
          "yanchor": "bottom",
          "yref": "paper"
         },
         {
          "font": {},
          "showarrow": false,
          "text": "exchange=binance",
          "x": 0.5,
          "xanchor": "center",
          "xref": "paper",
          "y": 0.9999999999999999,
          "yanchor": "bottom",
          "yref": "paper"
         }
        ],
        "legend": {
         "title": {
          "text": "variable"
         },
         "tracegroupgap": 0
        },
        "margin": {
         "t": 60
        },
        "template": {
         "data": {
          "bar": [
           {
            "error_x": {
             "color": "#2a3f5f"
            },
            "error_y": {
             "color": "#2a3f5f"
            },
            "marker": {
             "line": {
              "color": "#E5ECF6",
              "width": 0.5
             },
             "pattern": {
              "fillmode": "overlay",
              "size": 10,
              "solidity": 0.2
             }
            },
            "type": "bar"
           }
          ],
          "barpolar": [
           {
            "marker": {
             "line": {
              "color": "#E5ECF6",
              "width": 0.5
             },
             "pattern": {
              "fillmode": "overlay",
              "size": 10,
              "solidity": 0.2
             }
            },
            "type": "barpolar"
           }
          ],
          "carpet": [
           {
            "aaxis": {
             "endlinecolor": "#2a3f5f",
             "gridcolor": "white",
             "linecolor": "white",
             "minorgridcolor": "white",
             "startlinecolor": "#2a3f5f"
            },
            "baxis": {
             "endlinecolor": "#2a3f5f",
             "gridcolor": "white",
             "linecolor": "white",
             "minorgridcolor": "white",
             "startlinecolor": "#2a3f5f"
            },
            "type": "carpet"
           }
          ],
          "choropleth": [
           {
            "colorbar": {
             "outlinewidth": 0,
             "ticks": ""
            },
            "type": "choropleth"
           }
          ],
          "contour": [
           {
            "colorbar": {
             "outlinewidth": 0,
             "ticks": ""
            },
            "colorscale": [
             [
              0,
              "#0d0887"
             ],
             [
              0.1111111111111111,
              "#46039f"
             ],
             [
              0.2222222222222222,
              "#7201a8"
             ],
             [
              0.3333333333333333,
              "#9c179e"
             ],
             [
              0.4444444444444444,
              "#bd3786"
             ],
             [
              0.5555555555555556,
              "#d8576b"
             ],
             [
              0.6666666666666666,
              "#ed7953"
             ],
             [
              0.7777777777777778,
              "#fb9f3a"
             ],
             [
              0.8888888888888888,
              "#fdca26"
             ],
             [
              1,
              "#f0f921"
             ]
            ],
            "type": "contour"
           }
          ],
          "contourcarpet": [
           {
            "colorbar": {
             "outlinewidth": 0,
             "ticks": ""
            },
            "type": "contourcarpet"
           }
          ],
          "heatmap": [
           {
            "colorbar": {
             "outlinewidth": 0,
             "ticks": ""
            },
            "colorscale": [
             [
              0,
              "#0d0887"
             ],
             [
              0.1111111111111111,
              "#46039f"
             ],
             [
              0.2222222222222222,
              "#7201a8"
             ],
             [
              0.3333333333333333,
              "#9c179e"
             ],
             [
              0.4444444444444444,
              "#bd3786"
             ],
             [
              0.5555555555555556,
              "#d8576b"
             ],
             [
              0.6666666666666666,
              "#ed7953"
             ],
             [
              0.7777777777777778,
              "#fb9f3a"
             ],
             [
              0.8888888888888888,
              "#fdca26"
             ],
             [
              1,
              "#f0f921"
             ]
            ],
            "type": "heatmap"
           }
          ],
          "heatmapgl": [
           {
            "colorbar": {
             "outlinewidth": 0,
             "ticks": ""
            },
            "colorscale": [
             [
              0,
              "#0d0887"
             ],
             [
              0.1111111111111111,
              "#46039f"
             ],
             [
              0.2222222222222222,
              "#7201a8"
             ],
             [
              0.3333333333333333,
              "#9c179e"
             ],
             [
              0.4444444444444444,
              "#bd3786"
             ],
             [
              0.5555555555555556,
              "#d8576b"
             ],
             [
              0.6666666666666666,
              "#ed7953"
             ],
             [
              0.7777777777777778,
              "#fb9f3a"
             ],
             [
              0.8888888888888888,
              "#fdca26"
             ],
             [
              1,
              "#f0f921"
             ]
            ],
            "type": "heatmapgl"
           }
          ],
          "histogram": [
           {
            "marker": {
             "pattern": {
              "fillmode": "overlay",
              "size": 10,
              "solidity": 0.2
             }
            },
            "type": "histogram"
           }
          ],
          "histogram2d": [
           {
            "colorbar": {
             "outlinewidth": 0,
             "ticks": ""
            },
            "colorscale": [
             [
              0,
              "#0d0887"
             ],
             [
              0.1111111111111111,
              "#46039f"
             ],
             [
              0.2222222222222222,
              "#7201a8"
             ],
             [
              0.3333333333333333,
              "#9c179e"
             ],
             [
              0.4444444444444444,
              "#bd3786"
             ],
             [
              0.5555555555555556,
              "#d8576b"
             ],
             [
              0.6666666666666666,
              "#ed7953"
             ],
             [
              0.7777777777777778,
              "#fb9f3a"
             ],
             [
              0.8888888888888888,
              "#fdca26"
             ],
             [
              1,
              "#f0f921"
             ]
            ],
            "type": "histogram2d"
           }
          ],
          "histogram2dcontour": [
           {
            "colorbar": {
             "outlinewidth": 0,
             "ticks": ""
            },
            "colorscale": [
             [
              0,
              "#0d0887"
             ],
             [
              0.1111111111111111,
              "#46039f"
             ],
             [
              0.2222222222222222,
              "#7201a8"
             ],
             [
              0.3333333333333333,
              "#9c179e"
             ],
             [
              0.4444444444444444,
              "#bd3786"
             ],
             [
              0.5555555555555556,
              "#d8576b"
             ],
             [
              0.6666666666666666,
              "#ed7953"
             ],
             [
              0.7777777777777778,
              "#fb9f3a"
             ],
             [
              0.8888888888888888,
              "#fdca26"
             ],
             [
              1,
              "#f0f921"
             ]
            ],
            "type": "histogram2dcontour"
           }
          ],
          "mesh3d": [
           {
            "colorbar": {
             "outlinewidth": 0,
             "ticks": ""
            },
            "type": "mesh3d"
           }
          ],
          "parcoords": [
           {
            "line": {
             "colorbar": {
              "outlinewidth": 0,
              "ticks": ""
             }
            },
            "type": "parcoords"
           }
          ],
          "pie": [
           {
            "automargin": true,
            "type": "pie"
           }
          ],
          "scatter": [
           {
            "marker": {
             "colorbar": {
              "outlinewidth": 0,
              "ticks": ""
             }
            },
            "type": "scatter"
           }
          ],
          "scatter3d": [
           {
            "line": {
             "colorbar": {
              "outlinewidth": 0,
              "ticks": ""
             }
            },
            "marker": {
             "colorbar": {
              "outlinewidth": 0,
              "ticks": ""
             }
            },
            "type": "scatter3d"
           }
          ],
          "scattercarpet": [
           {
            "marker": {
             "colorbar": {
              "outlinewidth": 0,
              "ticks": ""
             }
            },
            "type": "scattercarpet"
           }
          ],
          "scattergeo": [
           {
            "marker": {
             "colorbar": {
              "outlinewidth": 0,
              "ticks": ""
             }
            },
            "type": "scattergeo"
           }
          ],
          "scattergl": [
           {
            "marker": {
             "colorbar": {
              "outlinewidth": 0,
              "ticks": ""
             }
            },
            "type": "scattergl"
           }
          ],
          "scattermapbox": [
           {
            "marker": {
             "colorbar": {
              "outlinewidth": 0,
              "ticks": ""
             }
            },
            "type": "scattermapbox"
           }
          ],
          "scatterpolar": [
           {
            "marker": {
             "colorbar": {
              "outlinewidth": 0,
              "ticks": ""
             }
            },
            "type": "scatterpolar"
           }
          ],
          "scatterpolargl": [
           {
            "marker": {
             "colorbar": {
              "outlinewidth": 0,
              "ticks": ""
             }
            },
            "type": "scatterpolargl"
           }
          ],
          "scatterternary": [
           {
            "marker": {
             "colorbar": {
              "outlinewidth": 0,
              "ticks": ""
             }
            },
            "type": "scatterternary"
           }
          ],
          "surface": [
           {
            "colorbar": {
             "outlinewidth": 0,
             "ticks": ""
            },
            "colorscale": [
             [
              0,
              "#0d0887"
             ],
             [
              0.1111111111111111,
              "#46039f"
             ],
             [
              0.2222222222222222,
              "#7201a8"
             ],
             [
              0.3333333333333333,
              "#9c179e"
             ],
             [
              0.4444444444444444,
              "#bd3786"
             ],
             [
              0.5555555555555556,
              "#d8576b"
             ],
             [
              0.6666666666666666,
              "#ed7953"
             ],
             [
              0.7777777777777778,
              "#fb9f3a"
             ],
             [
              0.8888888888888888,
              "#fdca26"
             ],
             [
              1,
              "#f0f921"
             ]
            ],
            "type": "surface"
           }
          ],
          "table": [
           {
            "cells": {
             "fill": {
              "color": "#EBF0F8"
             },
             "line": {
              "color": "white"
             }
            },
            "header": {
             "fill": {
              "color": "#C8D4E3"
             },
             "line": {
              "color": "white"
             }
            },
            "type": "table"
           }
          ]
         },
         "layout": {
          "annotationdefaults": {
           "arrowcolor": "#2a3f5f",
           "arrowhead": 0,
           "arrowwidth": 1
          },
          "autotypenumbers": "strict",
          "coloraxis": {
           "colorbar": {
            "outlinewidth": 0,
            "ticks": ""
           }
          },
          "colorscale": {
           "diverging": [
            [
             0,
             "#8e0152"
            ],
            [
             0.1,
             "#c51b7d"
            ],
            [
             0.2,
             "#de77ae"
            ],
            [
             0.3,
             "#f1b6da"
            ],
            [
             0.4,
             "#fde0ef"
            ],
            [
             0.5,
             "#f7f7f7"
            ],
            [
             0.6,
             "#e6f5d0"
            ],
            [
             0.7,
             "#b8e186"
            ],
            [
             0.8,
             "#7fbc41"
            ],
            [
             0.9,
             "#4d9221"
            ],
            [
             1,
             "#276419"
            ]
           ],
           "sequential": [
            [
             0,
             "#0d0887"
            ],
            [
             0.1111111111111111,
             "#46039f"
            ],
            [
             0.2222222222222222,
             "#7201a8"
            ],
            [
             0.3333333333333333,
             "#9c179e"
            ],
            [
             0.4444444444444444,
             "#bd3786"
            ],
            [
             0.5555555555555556,
             "#d8576b"
            ],
            [
             0.6666666666666666,
             "#ed7953"
            ],
            [
             0.7777777777777778,
             "#fb9f3a"
            ],
            [
             0.8888888888888888,
             "#fdca26"
            ],
            [
             1,
             "#f0f921"
            ]
           ],
           "sequentialminus": [
            [
             0,
             "#0d0887"
            ],
            [
             0.1111111111111111,
             "#46039f"
            ],
            [
             0.2222222222222222,
             "#7201a8"
            ],
            [
             0.3333333333333333,
             "#9c179e"
            ],
            [
             0.4444444444444444,
             "#bd3786"
            ],
            [
             0.5555555555555556,
             "#d8576b"
            ],
            [
             0.6666666666666666,
             "#ed7953"
            ],
            [
             0.7777777777777778,
             "#fb9f3a"
            ],
            [
             0.8888888888888888,
             "#fdca26"
            ],
            [
             1,
             "#f0f921"
            ]
           ]
          },
          "colorway": [
           "#636efa",
           "#EF553B",
           "#00cc96",
           "#ab63fa",
           "#FFA15A",
           "#19d3f3",
           "#FF6692",
           "#B6E880",
           "#FF97FF",
           "#FECB52"
          ],
          "font": {
           "color": "#2a3f5f"
          },
          "geo": {
           "bgcolor": "white",
           "lakecolor": "white",
           "landcolor": "#E5ECF6",
           "showlakes": true,
           "showland": true,
           "subunitcolor": "white"
          },
          "hoverlabel": {
           "align": "left"
          },
          "hovermode": "closest",
          "mapbox": {
           "style": "light"
          },
          "paper_bgcolor": "white",
          "plot_bgcolor": "#E5ECF6",
          "polar": {
           "angularaxis": {
            "gridcolor": "white",
            "linecolor": "white",
            "ticks": ""
           },
           "bgcolor": "#E5ECF6",
           "radialaxis": {
            "gridcolor": "white",
            "linecolor": "white",
            "ticks": ""
           }
          },
          "scene": {
           "xaxis": {
            "backgroundcolor": "#E5ECF6",
            "gridcolor": "white",
            "gridwidth": 2,
            "linecolor": "white",
            "showbackground": true,
            "ticks": "",
            "zerolinecolor": "white"
           },
           "yaxis": {
            "backgroundcolor": "#E5ECF6",
            "gridcolor": "white",
            "gridwidth": 2,
            "linecolor": "white",
            "showbackground": true,
            "ticks": "",
            "zerolinecolor": "white"
           },
           "zaxis": {
            "backgroundcolor": "#E5ECF6",
            "gridcolor": "white",
            "gridwidth": 2,
            "linecolor": "white",
            "showbackground": true,
            "ticks": "",
            "zerolinecolor": "white"
           }
          },
          "shapedefaults": {
           "line": {
            "color": "#2a3f5f"
           }
          },
          "ternary": {
           "aaxis": {
            "gridcolor": "white",
            "linecolor": "white",
            "ticks": ""
           },
           "baxis": {
            "gridcolor": "white",
            "linecolor": "white",
            "ticks": ""
           },
           "bgcolor": "#E5ECF6",
           "caxis": {
            "gridcolor": "white",
            "linecolor": "white",
            "ticks": ""
           }
          },
          "title": {
           "x": 0.05
          },
          "xaxis": {
           "automargin": true,
           "gridcolor": "white",
           "linecolor": "white",
           "ticks": "",
           "title": {
            "standoff": 15
           },
           "zerolinecolor": "white",
           "zerolinewidth": 2
          },
          "yaxis": {
           "automargin": true,
           "gridcolor": "white",
           "linecolor": "white",
           "ticks": "",
           "title": {
            "standoff": 15
           },
           "zerolinecolor": "white",
           "zerolinewidth": 2
          }
         }
        },
        "title": {
         "font": {
          "size": 15
         },
         "text": "Mid-Price of XRP/USDT:"
        },
        "xaxis": {
         "anchor": "y",
         "domain": [
          0,
          1
         ],
         "title": {
          "text": "timestamp"
         }
        },
        "xaxis2": {
         "anchor": "y2",
         "domain": [
          0,
          1
         ],
         "matches": "x",
         "showticklabels": false
        },
        "xaxis3": {
         "anchor": "y3",
         "domain": [
          0,
          1
         ],
         "matches": "x",
         "showticklabels": false
        },
        "yaxis": {
         "anchor": "x",
         "domain": [
          0,
          0.2866666666666666
         ],
         "title": {
          "text": "value"
         }
        },
        "yaxis2": {
         "anchor": "x2",
         "domain": [
          0.35666666666666663,
          0.6433333333333333
         ],
         "matches": "y",
         "title": {
          "text": "value"
         }
        },
        "yaxis3": {
         "anchor": "x3",
         "domain": [
          0.7133333333333333,
          0.9999999999999999
         ],
         "matches": "y",
         "title": {
          "text": "value"
         }
        }
       }
      }
     },
     "metadata": {},
     "output_type": "display_data"
    }
   ],
   "source": [
    "vs.Plot_line(MS_X, criptos[2], \"Mid-Price of\")"
   ]
  },
  {
   "cell_type": "markdown",
   "metadata": {},
   "source": [
    "<font color= orange> <font size = 5> 3. Microstructure Modelling: </font>"
   ]
  },
  {
   "cell_type": "markdown",
   "metadata": {},
   "source": [
    "<strong> \n",
    "<font color= lightgreen> <font size = 3> Progress check 3  </font> <strong>"
   ]
  },
  {
   "cell_type": "markdown",
   "metadata": {},
   "source": [
    "<font color= lightblue> <font size = 2> BTC Spreads </font>"
   ]
  },
  {
   "cell_type": "markdown",
   "metadata": {},
   "source": [
    "The effective spread lags number is defined:"
   ]
  },
  {
   "cell_type": "code",
   "execution_count": 124,
   "metadata": {},
   "outputs": [],
   "source": [
    "lags=5"
   ]
  },
  {
   "cell_type": "markdown",
   "metadata": {},
   "source": [
    "As it can be appreciated, spreads and Roll's effective spreads (5 lags) values vary significantly."
   ]
  },
  {
   "cell_type": "code",
   "execution_count": 125,
   "metadata": {},
   "outputs": [
    {
     "data": {
      "text/html": [
       "<div>\n",
       "<style scoped>\n",
       "    .dataframe tbody tr th:only-of-type {\n",
       "        vertical-align: middle;\n",
       "    }\n",
       "\n",
       "    .dataframe tbody tr th {\n",
       "        vertical-align: top;\n",
       "    }\n",
       "\n",
       "    .dataframe thead th {\n",
       "        text-align: right;\n",
       "    }\n",
       "</style>\n",
       "<table border=\"1\" class=\"dataframe\">\n",
       "  <thead>\n",
       "    <tr style=\"text-align: right;\">\n",
       "      <th></th>\n",
       "      <th>exchange</th>\n",
       "      <th>timestamp</th>\n",
       "      <th>close_price</th>\n",
       "      <th>spread</th>\n",
       "      <th>effective_spread</th>\n",
       "    </tr>\n",
       "  </thead>\n",
       "  <tbody>\n",
       "    <tr>\n",
       "      <th>0</th>\n",
       "      <td>binance</td>\n",
       "      <td>2022-11-10T18:32:35.140</td>\n",
       "      <td>17272.10</td>\n",
       "      <td>2.04</td>\n",
       "      <td>3.154378</td>\n",
       "    </tr>\n",
       "    <tr>\n",
       "      <th>1</th>\n",
       "      <td>binance</td>\n",
       "      <td>2022-11-10T18:32:37.636</td>\n",
       "      <td>17279.84</td>\n",
       "      <td>1.28</td>\n",
       "      <td>2.706012</td>\n",
       "    </tr>\n",
       "    <tr>\n",
       "      <th>2</th>\n",
       "      <td>binance</td>\n",
       "      <td>2022-11-10T18:32:40.288</td>\n",
       "      <td>17278.12</td>\n",
       "      <td>1.16</td>\n",
       "      <td>4.626536</td>\n",
       "    </tr>\n",
       "    <tr>\n",
       "      <th>3</th>\n",
       "      <td>binance</td>\n",
       "      <td>2022-11-10T18:32:42.753</td>\n",
       "      <td>17279.90</td>\n",
       "      <td>0.59</td>\n",
       "      <td>3.728793</td>\n",
       "    </tr>\n",
       "    <tr>\n",
       "      <th>4</th>\n",
       "      <td>binance</td>\n",
       "      <td>2022-11-10T18:32:45.116</td>\n",
       "      <td>17279.70</td>\n",
       "      <td>1.62</td>\n",
       "      <td>2.570512</td>\n",
       "    </tr>\n",
       "    <tr>\n",
       "      <th>5</th>\n",
       "      <td>binance</td>\n",
       "      <td>2022-11-10T18:32:47.777</td>\n",
       "      <td>17281.12</td>\n",
       "      <td>1.87</td>\n",
       "      <td>3.183541</td>\n",
       "    </tr>\n",
       "    <tr>\n",
       "      <th>6</th>\n",
       "      <td>binance</td>\n",
       "      <td>2022-11-10T18:32:50.795</td>\n",
       "      <td>17276.59</td>\n",
       "      <td>1.67</td>\n",
       "      <td>2.311825</td>\n",
       "    </tr>\n",
       "    <tr>\n",
       "      <th>7</th>\n",
       "      <td>binance</td>\n",
       "      <td>2022-11-10T18:32:53.215</td>\n",
       "      <td>17276.16</td>\n",
       "      <td>1.60</td>\n",
       "      <td>3.916916</td>\n",
       "    </tr>\n",
       "    <tr>\n",
       "      <th>8</th>\n",
       "      <td>binance</td>\n",
       "      <td>2022-11-10T18:32:55.584</td>\n",
       "      <td>17267.08</td>\n",
       "      <td>1.04</td>\n",
       "      <td>2.475601</td>\n",
       "    </tr>\n",
       "    <tr>\n",
       "      <th>9</th>\n",
       "      <td>binance</td>\n",
       "      <td>2022-11-10T18:32:57.999</td>\n",
       "      <td>17272.40</td>\n",
       "      <td>0.57</td>\n",
       "      <td>4.834425</td>\n",
       "    </tr>\n",
       "  </tbody>\n",
       "</table>\n",
       "</div>"
      ],
      "text/plain": [
       "  exchange                timestamp  close_price  spread  effective_spread\n",
       "0  binance  2022-11-10T18:32:35.140     17272.10    2.04          3.154378\n",
       "1  binance  2022-11-10T18:32:37.636     17279.84    1.28          2.706012\n",
       "2  binance  2022-11-10T18:32:40.288     17278.12    1.16          4.626536\n",
       "3  binance  2022-11-10T18:32:42.753     17279.90    0.59          3.728793\n",
       "4  binance  2022-11-10T18:32:45.116     17279.70    1.62          2.570512\n",
       "5  binance  2022-11-10T18:32:47.777     17281.12    1.87          3.183541\n",
       "6  binance  2022-11-10T18:32:50.795     17276.59    1.67          2.311825\n",
       "7  binance  2022-11-10T18:32:53.215     17276.16    1.60          3.916916\n",
       "8  binance  2022-11-10T18:32:55.584     17267.08    1.04          2.475601\n",
       "9  binance  2022-11-10T18:32:57.999     17272.40    0.57          4.834425"
      ]
     },
     "execution_count": 125,
     "metadata": {},
     "output_type": "execute_result"
    }
   ],
   "source": [
    "Roll_B = vs.roll_model(verif_df1, lags).reset_index(drop=True)\n",
    "Roll_B.head(10)"
   ]
  },
  {
   "cell_type": "code",
   "execution_count": 126,
   "metadata": {},
   "outputs": [
    {
     "data": {
      "text/html": [
       "<div>\n",
       "<style scoped>\n",
       "    .dataframe tbody tr th:only-of-type {\n",
       "        vertical-align: middle;\n",
       "    }\n",
       "\n",
       "    .dataframe tbody tr th {\n",
       "        vertical-align: top;\n",
       "    }\n",
       "\n",
       "    .dataframe thead th {\n",
       "        text-align: right;\n",
       "    }\n",
       "</style>\n",
       "<table border=\"1\" class=\"dataframe\">\n",
       "  <thead>\n",
       "    <tr style=\"text-align: right;\">\n",
       "      <th></th>\n",
       "      <th>exchange</th>\n",
       "      <th>timestamp</th>\n",
       "      <th>close_price</th>\n",
       "      <th>spread</th>\n",
       "      <th>effective_spread</th>\n",
       "    </tr>\n",
       "  </thead>\n",
       "  <tbody>\n",
       "    <tr>\n",
       "      <th>45</th>\n",
       "      <td>bytetrade</td>\n",
       "      <td>2022-11-10T18:34:48.048</td>\n",
       "      <td>17272.7</td>\n",
       "      <td>256.7</td>\n",
       "      <td>4.952104</td>\n",
       "    </tr>\n",
       "    <tr>\n",
       "      <th>46</th>\n",
       "      <td>bytetrade</td>\n",
       "      <td>2022-11-10T18:34:50.729</td>\n",
       "      <td>17264.8</td>\n",
       "      <td>256.7</td>\n",
       "      <td>9.797023</td>\n",
       "    </tr>\n",
       "    <tr>\n",
       "      <th>47</th>\n",
       "      <td>bytetrade</td>\n",
       "      <td>2022-11-10T18:34:53.407</td>\n",
       "      <td>17271.3</td>\n",
       "      <td>256.7</td>\n",
       "      <td>7.886634</td>\n",
       "    </tr>\n",
       "    <tr>\n",
       "      <th>48</th>\n",
       "      <td>bytetrade</td>\n",
       "      <td>2022-11-10T18:34:56.918</td>\n",
       "      <td>17255.0</td>\n",
       "      <td>256.7</td>\n",
       "      <td>6.059785</td>\n",
       "    </tr>\n",
       "    <tr>\n",
       "      <th>49</th>\n",
       "      <td>bytetrade</td>\n",
       "      <td>2022-11-10T18:34:59.461</td>\n",
       "      <td>17258.4</td>\n",
       "      <td>256.7</td>\n",
       "      <td>8.592865</td>\n",
       "    </tr>\n",
       "    <tr>\n",
       "      <th>50</th>\n",
       "      <td>bytetrade</td>\n",
       "      <td>2022-11-10T18:35:02.243</td>\n",
       "      <td>17261.4</td>\n",
       "      <td>256.7</td>\n",
       "      <td>6.401224</td>\n",
       "    </tr>\n",
       "    <tr>\n",
       "      <th>51</th>\n",
       "      <td>bytetrade</td>\n",
       "      <td>2022-11-10T18:35:04.938</td>\n",
       "      <td>17263.9</td>\n",
       "      <td>256.7</td>\n",
       "      <td>1.554992</td>\n",
       "    </tr>\n",
       "    <tr>\n",
       "      <th>52</th>\n",
       "      <td>bytetrade</td>\n",
       "      <td>2022-11-10T18:35:07.738</td>\n",
       "      <td>17258.2</td>\n",
       "      <td>256.7</td>\n",
       "      <td>4.000750</td>\n",
       "    </tr>\n",
       "    <tr>\n",
       "      <th>53</th>\n",
       "      <td>bytetrade</td>\n",
       "      <td>2022-11-10T18:35:10.427</td>\n",
       "      <td>17269.3</td>\n",
       "      <td>256.7</td>\n",
       "      <td>4.658040</td>\n",
       "    </tr>\n",
       "    <tr>\n",
       "      <th>54</th>\n",
       "      <td>bytetrade</td>\n",
       "      <td>2022-11-10T18:35:12.769</td>\n",
       "      <td>17264.7</td>\n",
       "      <td>256.7</td>\n",
       "      <td>5.861143</td>\n",
       "    </tr>\n",
       "  </tbody>\n",
       "</table>\n",
       "</div>"
      ],
      "text/plain": [
       "     exchange                timestamp  close_price  spread  effective_spread\n",
       "45  bytetrade  2022-11-10T18:34:48.048      17272.7   256.7          4.952104\n",
       "46  bytetrade  2022-11-10T18:34:50.729      17264.8   256.7          9.797023\n",
       "47  bytetrade  2022-11-10T18:34:53.407      17271.3   256.7          7.886634\n",
       "48  bytetrade  2022-11-10T18:34:56.918      17255.0   256.7          6.059785\n",
       "49  bytetrade  2022-11-10T18:34:59.461      17258.4   256.7          8.592865\n",
       "50  bytetrade  2022-11-10T18:35:02.243      17261.4   256.7          6.401224\n",
       "51  bytetrade  2022-11-10T18:35:04.938      17263.9   256.7          1.554992\n",
       "52  bytetrade  2022-11-10T18:35:07.738      17258.2   256.7          4.000750\n",
       "53  bytetrade  2022-11-10T18:35:10.427      17269.3   256.7          4.658040\n",
       "54  bytetrade  2022-11-10T18:35:12.769      17264.7   256.7          5.861143"
      ]
     },
     "execution_count": 126,
     "metadata": {},
     "output_type": "execute_result"
    }
   ],
   "source": [
    "Roll_B.tail(10)"
   ]
  },
  {
   "cell_type": "markdown",
   "metadata": {},
   "source": [
    "Some exchanges have bigger spreads but Roll's effective Spread shouldn't be as high, specially if lags no° is increased and the data contains several exchanges."
   ]
  },
  {
   "cell_type": "code",
   "execution_count": 127,
   "metadata": {},
   "outputs": [
    {
     "data": {
      "application/vnd.plotly.v1+json": {
       "config": {
        "plotlyServerURL": "https://plot.ly"
       },
       "data": [
        {
         "hovertemplate": "variable=spread<br>exchange=binance<br>timestamp=%{x}<br>value=%{y}<extra></extra>",
         "legendgroup": "spread",
         "line": {
          "color": "#636efa",
          "dash": "solid"
         },
         "marker": {
          "symbol": "circle"
         },
         "mode": "lines",
         "name": "spread",
         "orientation": "v",
         "showlegend": true,
         "type": "scatter",
         "x": [
          "2022-11-10T18:32:35.140000",
          "2022-11-10T18:32:37.636000",
          "2022-11-10T18:32:40.288000",
          "2022-11-10T18:32:42.753000",
          "2022-11-10T18:32:45.116000",
          "2022-11-10T18:32:47.777000",
          "2022-11-10T18:32:50.795000",
          "2022-11-10T18:32:53.215000",
          "2022-11-10T18:32:55.584000",
          "2022-11-10T18:32:57.999000",
          "2022-11-10T18:33:01.491000",
          "2022-11-10T18:33:03.945000",
          "2022-11-10T18:33:06.547000",
          "2022-11-10T18:33:08.940000",
          "2022-11-10T18:33:11.402000"
         ],
         "xaxis": "x3",
         "y": [
          2.040000000000873,
          1.2799999999988358,
          1.1599999999998545,
          0.5900000000001455,
          1.6200000000026193,
          1.8699999999989814,
          1.6699999999982538,
          1.5999999999985448,
          1.0399999999972351,
          0.569999999999709,
          1.0900000000001455,
          2.1300000000010186,
          1.9399999999986903,
          1.819999999999709,
          1.640000000003056
         ],
         "yaxis": "y3"
        },
        {
         "hovertemplate": "variable=spread<br>exchange=ftx<br>timestamp=%{x}<br>value=%{y}<extra></extra>",
         "legendgroup": "spread",
         "line": {
          "color": "#636efa",
          "dash": "solid"
         },
         "marker": {
          "symbol": "circle"
         },
         "mode": "lines",
         "name": "spread",
         "orientation": "v",
         "showlegend": false,
         "type": "scatter",
         "x": [
          "2022-11-10T18:33:14.659000",
          "2022-11-10T18:33:18.143000",
          "2022-11-10T18:33:21.579000",
          "2022-11-10T18:33:24.692000",
          "2022-11-10T18:33:27.551000",
          "2022-11-10T18:33:31.186000",
          "2022-11-10T18:33:34.181000",
          "2022-11-10T18:33:37.649000",
          "2022-11-10T18:33:41.208000",
          "2022-11-10T18:33:43.477000",
          "2022-11-10T18:33:46.186000",
          "2022-11-10T18:33:49.813000",
          "2022-11-10T18:33:52.425000",
          "2022-11-10T18:33:55.865000",
          "2022-11-10T18:33:58.673000",
          "2022-11-10T18:34:02.163000",
          "2022-11-10T18:34:05.267000",
          "2022-11-10T18:34:08.511000",
          "2022-11-10T18:34:11.565000",
          "2022-11-10T18:34:14.217000"
         ],
         "xaxis": "x2",
         "y": [
          43,
          43,
          42,
          42,
          39,
          42,
          41,
          40,
          39,
          41,
          42,
          42,
          42,
          42,
          42,
          42,
          42,
          42,
          42,
          42
         ],
         "yaxis": "y2"
        },
        {
         "hovertemplate": "variable=spread<br>exchange=bytetrade<br>timestamp=%{x}<br>value=%{y}<extra></extra>",
         "legendgroup": "spread",
         "line": {
          "color": "#636efa",
          "dash": "solid"
         },
         "marker": {
          "symbol": "circle"
         },
         "mode": "lines",
         "name": "spread",
         "orientation": "v",
         "showlegend": false,
         "type": "scatter",
         "x": [
          "2022-11-10T18:34:18.242000",
          "2022-11-10T18:34:21.538000",
          "2022-11-10T18:34:25.027000",
          "2022-11-10T18:34:27.717000",
          "2022-11-10T18:34:30.360000",
          "2022-11-10T18:34:32.825000",
          "2022-11-10T18:34:35.815000",
          "2022-11-10T18:34:39.402000",
          "2022-11-10T18:34:41.983000",
          "2022-11-10T18:34:44.921000",
          "2022-11-10T18:34:48.048000",
          "2022-11-10T18:34:50.729000",
          "2022-11-10T18:34:53.407000",
          "2022-11-10T18:34:56.918000",
          "2022-11-10T18:34:59.461000",
          "2022-11-10T18:35:02.243000",
          "2022-11-10T18:35:04.938000",
          "2022-11-10T18:35:07.738000",
          "2022-11-10T18:35:10.427000",
          "2022-11-10T18:35:12.769000"
         ],
         "xaxis": "x",
         "y": [
          256.7000000000007,
          256.7000000000007,
          256.7000000000007,
          256.7000000000007,
          256.7000000000007,
          256.7000000000007,
          256.7000000000007,
          256.7000000000007,
          256.7000000000007,
          256.7000000000007,
          256.7000000000007,
          256.7000000000007,
          256.7000000000007,
          256.7000000000007,
          256.7000000000007,
          256.7000000000007,
          256.7000000000007,
          256.7000000000007,
          256.7000000000007,
          256.7000000000007
         ],
         "yaxis": "y"
        },
        {
         "hovertemplate": "variable=effective_spread<br>exchange=binance<br>timestamp=%{x}<br>value=%{y}<extra></extra>",
         "legendgroup": "effective_spread",
         "line": {
          "color": "#EF553B",
          "dash": "solid"
         },
         "marker": {
          "symbol": "circle"
         },
         "mode": "lines",
         "name": "effective_spread",
         "orientation": "v",
         "showlegend": true,
         "type": "scatter",
         "x": [
          "2022-11-10T18:32:35.140000",
          "2022-11-10T18:32:37.636000",
          "2022-11-10T18:32:40.288000",
          "2022-11-10T18:32:42.753000",
          "2022-11-10T18:32:45.116000",
          "2022-11-10T18:32:47.777000",
          "2022-11-10T18:32:50.795000",
          "2022-11-10T18:32:53.215000",
          "2022-11-10T18:32:55.584000",
          "2022-11-10T18:32:57.999000",
          "2022-11-10T18:33:01.491000",
          "2022-11-10T18:33:03.945000",
          "2022-11-10T18:33:06.547000",
          "2022-11-10T18:33:08.940000",
          "2022-11-10T18:33:11.402000"
         ],
         "xaxis": "x3",
         "y": [
          3.154378,
          2.706012,
          4.626536,
          3.728793,
          2.570512,
          3.183541,
          2.311825,
          3.916916,
          2.475601,
          4.834425,
          5.65143,
          1.613433,
          1.040048,
          1.005385,
          3.924457
         ],
         "yaxis": "y3"
        },
        {
         "hovertemplate": "variable=effective_spread<br>exchange=ftx<br>timestamp=%{x}<br>value=%{y}<extra></extra>",
         "legendgroup": "effective_spread",
         "line": {
          "color": "#EF553B",
          "dash": "solid"
         },
         "marker": {
          "symbol": "circle"
         },
         "mode": "lines",
         "name": "effective_spread",
         "orientation": "v",
         "showlegend": false,
         "type": "scatter",
         "x": [
          "2022-11-10T18:33:14.659000",
          "2022-11-10T18:33:18.143000",
          "2022-11-10T18:33:21.579000",
          "2022-11-10T18:33:24.692000",
          "2022-11-10T18:33:27.551000",
          "2022-11-10T18:33:31.186000",
          "2022-11-10T18:33:34.181000",
          "2022-11-10T18:33:37.649000",
          "2022-11-10T18:33:41.208000",
          "2022-11-10T18:33:43.477000",
          "2022-11-10T18:33:46.186000",
          "2022-11-10T18:33:49.813000",
          "2022-11-10T18:33:52.425000",
          "2022-11-10T18:33:55.865000",
          "2022-11-10T18:33:58.673000",
          "2022-11-10T18:34:02.163000",
          "2022-11-10T18:34:05.267000",
          "2022-11-10T18:34:08.511000",
          "2022-11-10T18:34:11.565000",
          "2022-11-10T18:34:14.217000"
         ],
         "xaxis": "x2",
         "y": [
          2.92454,
          37.474342,
          29.532951,
          6.357371,
          22.137904,
          1.227464,
          0.909212,
          0.946925,
          10.211595,
          12.898708,
          12.824716,
          14.243712,
          9.751752,
          5.684775,
          6.069047,
          0.946925,
          0,
          0,
          0,
          0
         ],
         "yaxis": "y2"
        },
        {
         "hovertemplate": "variable=effective_spread<br>exchange=bytetrade<br>timestamp=%{x}<br>value=%{y}<extra></extra>",
         "legendgroup": "effective_spread",
         "line": {
          "color": "#EF553B",
          "dash": "solid"
         },
         "marker": {
          "symbol": "circle"
         },
         "mode": "lines",
         "name": "effective_spread",
         "orientation": "v",
         "showlegend": false,
         "type": "scatter",
         "x": [
          "2022-11-10T18:34:18.242000",
          "2022-11-10T18:34:21.538000",
          "2022-11-10T18:34:25.027000",
          "2022-11-10T18:34:27.717000",
          "2022-11-10T18:34:30.360000",
          "2022-11-10T18:34:32.825000",
          "2022-11-10T18:34:35.815000",
          "2022-11-10T18:34:39.402000",
          "2022-11-10T18:34:41.983000",
          "2022-11-10T18:34:44.921000",
          "2022-11-10T18:34:48.048000",
          "2022-11-10T18:34:50.729000",
          "2022-11-10T18:34:53.407000",
          "2022-11-10T18:34:56.918000",
          "2022-11-10T18:34:59.461000",
          "2022-11-10T18:35:02.243000",
          "2022-11-10T18:35:04.938000",
          "2022-11-10T18:35:07.738000",
          "2022-11-10T18:35:10.427000",
          "2022-11-10T18:35:12.769000"
         ],
         "xaxis": "x",
         "y": [
          0,
          37.179318,
          29.887924,
          3.347586,
          22.425261,
          2.339801,
          6.49959,
          6.900266,
          5.53245,
          4.333013,
          4.952104,
          9.797023,
          7.886634,
          6.059785,
          8.592865,
          6.401224,
          1.554992,
          4.00075,
          4.65804,
          5.861143
         ],
         "yaxis": "y"
        }
       ],
       "layout": {
        "annotations": [
         {
          "font": {},
          "showarrow": false,
          "text": "exchange=bytetrade",
          "x": 0.5,
          "xanchor": "center",
          "xref": "paper",
          "y": 0.2866666666666666,
          "yanchor": "bottom",
          "yref": "paper"
         },
         {
          "font": {},
          "showarrow": false,
          "text": "exchange=ftx",
          "x": 0.5,
          "xanchor": "center",
          "xref": "paper",
          "y": 0.6433333333333333,
          "yanchor": "bottom",
          "yref": "paper"
         },
         {
          "font": {},
          "showarrow": false,
          "text": "exchange=binance",
          "x": 0.5,
          "xanchor": "center",
          "xref": "paper",
          "y": 0.9999999999999999,
          "yanchor": "bottom",
          "yref": "paper"
         }
        ],
        "legend": {
         "title": {
          "text": "variable"
         },
         "tracegroupgap": 0
        },
        "margin": {
         "t": 60
        },
        "template": {
         "data": {
          "bar": [
           {
            "error_x": {
             "color": "#2a3f5f"
            },
            "error_y": {
             "color": "#2a3f5f"
            },
            "marker": {
             "line": {
              "color": "#E5ECF6",
              "width": 0.5
             },
             "pattern": {
              "fillmode": "overlay",
              "size": 10,
              "solidity": 0.2
             }
            },
            "type": "bar"
           }
          ],
          "barpolar": [
           {
            "marker": {
             "line": {
              "color": "#E5ECF6",
              "width": 0.5
             },
             "pattern": {
              "fillmode": "overlay",
              "size": 10,
              "solidity": 0.2
             }
            },
            "type": "barpolar"
           }
          ],
          "carpet": [
           {
            "aaxis": {
             "endlinecolor": "#2a3f5f",
             "gridcolor": "white",
             "linecolor": "white",
             "minorgridcolor": "white",
             "startlinecolor": "#2a3f5f"
            },
            "baxis": {
             "endlinecolor": "#2a3f5f",
             "gridcolor": "white",
             "linecolor": "white",
             "minorgridcolor": "white",
             "startlinecolor": "#2a3f5f"
            },
            "type": "carpet"
           }
          ],
          "choropleth": [
           {
            "colorbar": {
             "outlinewidth": 0,
             "ticks": ""
            },
            "type": "choropleth"
           }
          ],
          "contour": [
           {
            "colorbar": {
             "outlinewidth": 0,
             "ticks": ""
            },
            "colorscale": [
             [
              0,
              "#0d0887"
             ],
             [
              0.1111111111111111,
              "#46039f"
             ],
             [
              0.2222222222222222,
              "#7201a8"
             ],
             [
              0.3333333333333333,
              "#9c179e"
             ],
             [
              0.4444444444444444,
              "#bd3786"
             ],
             [
              0.5555555555555556,
              "#d8576b"
             ],
             [
              0.6666666666666666,
              "#ed7953"
             ],
             [
              0.7777777777777778,
              "#fb9f3a"
             ],
             [
              0.8888888888888888,
              "#fdca26"
             ],
             [
              1,
              "#f0f921"
             ]
            ],
            "type": "contour"
           }
          ],
          "contourcarpet": [
           {
            "colorbar": {
             "outlinewidth": 0,
             "ticks": ""
            },
            "type": "contourcarpet"
           }
          ],
          "heatmap": [
           {
            "colorbar": {
             "outlinewidth": 0,
             "ticks": ""
            },
            "colorscale": [
             [
              0,
              "#0d0887"
             ],
             [
              0.1111111111111111,
              "#46039f"
             ],
             [
              0.2222222222222222,
              "#7201a8"
             ],
             [
              0.3333333333333333,
              "#9c179e"
             ],
             [
              0.4444444444444444,
              "#bd3786"
             ],
             [
              0.5555555555555556,
              "#d8576b"
             ],
             [
              0.6666666666666666,
              "#ed7953"
             ],
             [
              0.7777777777777778,
              "#fb9f3a"
             ],
             [
              0.8888888888888888,
              "#fdca26"
             ],
             [
              1,
              "#f0f921"
             ]
            ],
            "type": "heatmap"
           }
          ],
          "heatmapgl": [
           {
            "colorbar": {
             "outlinewidth": 0,
             "ticks": ""
            },
            "colorscale": [
             [
              0,
              "#0d0887"
             ],
             [
              0.1111111111111111,
              "#46039f"
             ],
             [
              0.2222222222222222,
              "#7201a8"
             ],
             [
              0.3333333333333333,
              "#9c179e"
             ],
             [
              0.4444444444444444,
              "#bd3786"
             ],
             [
              0.5555555555555556,
              "#d8576b"
             ],
             [
              0.6666666666666666,
              "#ed7953"
             ],
             [
              0.7777777777777778,
              "#fb9f3a"
             ],
             [
              0.8888888888888888,
              "#fdca26"
             ],
             [
              1,
              "#f0f921"
             ]
            ],
            "type": "heatmapgl"
           }
          ],
          "histogram": [
           {
            "marker": {
             "pattern": {
              "fillmode": "overlay",
              "size": 10,
              "solidity": 0.2
             }
            },
            "type": "histogram"
           }
          ],
          "histogram2d": [
           {
            "colorbar": {
             "outlinewidth": 0,
             "ticks": ""
            },
            "colorscale": [
             [
              0,
              "#0d0887"
             ],
             [
              0.1111111111111111,
              "#46039f"
             ],
             [
              0.2222222222222222,
              "#7201a8"
             ],
             [
              0.3333333333333333,
              "#9c179e"
             ],
             [
              0.4444444444444444,
              "#bd3786"
             ],
             [
              0.5555555555555556,
              "#d8576b"
             ],
             [
              0.6666666666666666,
              "#ed7953"
             ],
             [
              0.7777777777777778,
              "#fb9f3a"
             ],
             [
              0.8888888888888888,
              "#fdca26"
             ],
             [
              1,
              "#f0f921"
             ]
            ],
            "type": "histogram2d"
           }
          ],
          "histogram2dcontour": [
           {
            "colorbar": {
             "outlinewidth": 0,
             "ticks": ""
            },
            "colorscale": [
             [
              0,
              "#0d0887"
             ],
             [
              0.1111111111111111,
              "#46039f"
             ],
             [
              0.2222222222222222,
              "#7201a8"
             ],
             [
              0.3333333333333333,
              "#9c179e"
             ],
             [
              0.4444444444444444,
              "#bd3786"
             ],
             [
              0.5555555555555556,
              "#d8576b"
             ],
             [
              0.6666666666666666,
              "#ed7953"
             ],
             [
              0.7777777777777778,
              "#fb9f3a"
             ],
             [
              0.8888888888888888,
              "#fdca26"
             ],
             [
              1,
              "#f0f921"
             ]
            ],
            "type": "histogram2dcontour"
           }
          ],
          "mesh3d": [
           {
            "colorbar": {
             "outlinewidth": 0,
             "ticks": ""
            },
            "type": "mesh3d"
           }
          ],
          "parcoords": [
           {
            "line": {
             "colorbar": {
              "outlinewidth": 0,
              "ticks": ""
             }
            },
            "type": "parcoords"
           }
          ],
          "pie": [
           {
            "automargin": true,
            "type": "pie"
           }
          ],
          "scatter": [
           {
            "marker": {
             "colorbar": {
              "outlinewidth": 0,
              "ticks": ""
             }
            },
            "type": "scatter"
           }
          ],
          "scatter3d": [
           {
            "line": {
             "colorbar": {
              "outlinewidth": 0,
              "ticks": ""
             }
            },
            "marker": {
             "colorbar": {
              "outlinewidth": 0,
              "ticks": ""
             }
            },
            "type": "scatter3d"
           }
          ],
          "scattercarpet": [
           {
            "marker": {
             "colorbar": {
              "outlinewidth": 0,
              "ticks": ""
             }
            },
            "type": "scattercarpet"
           }
          ],
          "scattergeo": [
           {
            "marker": {
             "colorbar": {
              "outlinewidth": 0,
              "ticks": ""
             }
            },
            "type": "scattergeo"
           }
          ],
          "scattergl": [
           {
            "marker": {
             "colorbar": {
              "outlinewidth": 0,
              "ticks": ""
             }
            },
            "type": "scattergl"
           }
          ],
          "scattermapbox": [
           {
            "marker": {
             "colorbar": {
              "outlinewidth": 0,
              "ticks": ""
             }
            },
            "type": "scattermapbox"
           }
          ],
          "scatterpolar": [
           {
            "marker": {
             "colorbar": {
              "outlinewidth": 0,
              "ticks": ""
             }
            },
            "type": "scatterpolar"
           }
          ],
          "scatterpolargl": [
           {
            "marker": {
             "colorbar": {
              "outlinewidth": 0,
              "ticks": ""
             }
            },
            "type": "scatterpolargl"
           }
          ],
          "scatterternary": [
           {
            "marker": {
             "colorbar": {
              "outlinewidth": 0,
              "ticks": ""
             }
            },
            "type": "scatterternary"
           }
          ],
          "surface": [
           {
            "colorbar": {
             "outlinewidth": 0,
             "ticks": ""
            },
            "colorscale": [
             [
              0,
              "#0d0887"
             ],
             [
              0.1111111111111111,
              "#46039f"
             ],
             [
              0.2222222222222222,
              "#7201a8"
             ],
             [
              0.3333333333333333,
              "#9c179e"
             ],
             [
              0.4444444444444444,
              "#bd3786"
             ],
             [
              0.5555555555555556,
              "#d8576b"
             ],
             [
              0.6666666666666666,
              "#ed7953"
             ],
             [
              0.7777777777777778,
              "#fb9f3a"
             ],
             [
              0.8888888888888888,
              "#fdca26"
             ],
             [
              1,
              "#f0f921"
             ]
            ],
            "type": "surface"
           }
          ],
          "table": [
           {
            "cells": {
             "fill": {
              "color": "#EBF0F8"
             },
             "line": {
              "color": "white"
             }
            },
            "header": {
             "fill": {
              "color": "#C8D4E3"
             },
             "line": {
              "color": "white"
             }
            },
            "type": "table"
           }
          ]
         },
         "layout": {
          "annotationdefaults": {
           "arrowcolor": "#2a3f5f",
           "arrowhead": 0,
           "arrowwidth": 1
          },
          "autotypenumbers": "strict",
          "coloraxis": {
           "colorbar": {
            "outlinewidth": 0,
            "ticks": ""
           }
          },
          "colorscale": {
           "diverging": [
            [
             0,
             "#8e0152"
            ],
            [
             0.1,
             "#c51b7d"
            ],
            [
             0.2,
             "#de77ae"
            ],
            [
             0.3,
             "#f1b6da"
            ],
            [
             0.4,
             "#fde0ef"
            ],
            [
             0.5,
             "#f7f7f7"
            ],
            [
             0.6,
             "#e6f5d0"
            ],
            [
             0.7,
             "#b8e186"
            ],
            [
             0.8,
             "#7fbc41"
            ],
            [
             0.9,
             "#4d9221"
            ],
            [
             1,
             "#276419"
            ]
           ],
           "sequential": [
            [
             0,
             "#0d0887"
            ],
            [
             0.1111111111111111,
             "#46039f"
            ],
            [
             0.2222222222222222,
             "#7201a8"
            ],
            [
             0.3333333333333333,
             "#9c179e"
            ],
            [
             0.4444444444444444,
             "#bd3786"
            ],
            [
             0.5555555555555556,
             "#d8576b"
            ],
            [
             0.6666666666666666,
             "#ed7953"
            ],
            [
             0.7777777777777778,
             "#fb9f3a"
            ],
            [
             0.8888888888888888,
             "#fdca26"
            ],
            [
             1,
             "#f0f921"
            ]
           ],
           "sequentialminus": [
            [
             0,
             "#0d0887"
            ],
            [
             0.1111111111111111,
             "#46039f"
            ],
            [
             0.2222222222222222,
             "#7201a8"
            ],
            [
             0.3333333333333333,
             "#9c179e"
            ],
            [
             0.4444444444444444,
             "#bd3786"
            ],
            [
             0.5555555555555556,
             "#d8576b"
            ],
            [
             0.6666666666666666,
             "#ed7953"
            ],
            [
             0.7777777777777778,
             "#fb9f3a"
            ],
            [
             0.8888888888888888,
             "#fdca26"
            ],
            [
             1,
             "#f0f921"
            ]
           ]
          },
          "colorway": [
           "#636efa",
           "#EF553B",
           "#00cc96",
           "#ab63fa",
           "#FFA15A",
           "#19d3f3",
           "#FF6692",
           "#B6E880",
           "#FF97FF",
           "#FECB52"
          ],
          "font": {
           "color": "#2a3f5f"
          },
          "geo": {
           "bgcolor": "white",
           "lakecolor": "white",
           "landcolor": "#E5ECF6",
           "showlakes": true,
           "showland": true,
           "subunitcolor": "white"
          },
          "hoverlabel": {
           "align": "left"
          },
          "hovermode": "closest",
          "mapbox": {
           "style": "light"
          },
          "paper_bgcolor": "white",
          "plot_bgcolor": "#E5ECF6",
          "polar": {
           "angularaxis": {
            "gridcolor": "white",
            "linecolor": "white",
            "ticks": ""
           },
           "bgcolor": "#E5ECF6",
           "radialaxis": {
            "gridcolor": "white",
            "linecolor": "white",
            "ticks": ""
           }
          },
          "scene": {
           "xaxis": {
            "backgroundcolor": "#E5ECF6",
            "gridcolor": "white",
            "gridwidth": 2,
            "linecolor": "white",
            "showbackground": true,
            "ticks": "",
            "zerolinecolor": "white"
           },
           "yaxis": {
            "backgroundcolor": "#E5ECF6",
            "gridcolor": "white",
            "gridwidth": 2,
            "linecolor": "white",
            "showbackground": true,
            "ticks": "",
            "zerolinecolor": "white"
           },
           "zaxis": {
            "backgroundcolor": "#E5ECF6",
            "gridcolor": "white",
            "gridwidth": 2,
            "linecolor": "white",
            "showbackground": true,
            "ticks": "",
            "zerolinecolor": "white"
           }
          },
          "shapedefaults": {
           "line": {
            "color": "#2a3f5f"
           }
          },
          "ternary": {
           "aaxis": {
            "gridcolor": "white",
            "linecolor": "white",
            "ticks": ""
           },
           "baxis": {
            "gridcolor": "white",
            "linecolor": "white",
            "ticks": ""
           },
           "bgcolor": "#E5ECF6",
           "caxis": {
            "gridcolor": "white",
            "linecolor": "white",
            "ticks": ""
           }
          },
          "title": {
           "x": 0.05
          },
          "xaxis": {
           "automargin": true,
           "gridcolor": "white",
           "linecolor": "white",
           "ticks": "",
           "title": {
            "standoff": 15
           },
           "zerolinecolor": "white",
           "zerolinewidth": 2
          },
          "yaxis": {
           "automargin": true,
           "gridcolor": "white",
           "linecolor": "white",
           "ticks": "",
           "title": {
            "standoff": 15
           },
           "zerolinecolor": "white",
           "zerolinewidth": 2
          }
         }
        },
        "title": {
         "font": {
          "size": 15
         },
         "text": "Spreads of BTC/USDT:"
        },
        "xaxis": {
         "anchor": "y",
         "domain": [
          0,
          1
         ],
         "title": {
          "text": "timestamp"
         }
        },
        "xaxis2": {
         "anchor": "y2",
         "domain": [
          0,
          1
         ],
         "matches": "x",
         "showticklabels": false
        },
        "xaxis3": {
         "anchor": "y3",
         "domain": [
          0,
          1
         ],
         "matches": "x",
         "showticklabels": false
        },
        "yaxis": {
         "anchor": "x",
         "domain": [
          0,
          0.2866666666666666
         ],
         "title": {
          "text": "value"
         }
        },
        "yaxis2": {
         "anchor": "x2",
         "domain": [
          0.35666666666666663,
          0.6433333333333333
         ],
         "matches": "y",
         "title": {
          "text": "value"
         }
        },
        "yaxis3": {
         "anchor": "x3",
         "domain": [
          0.7133333333333333,
          0.9999999999999999
         ],
         "matches": "y",
         "title": {
          "text": "value"
         }
        }
       }
      }
     },
     "metadata": {},
     "output_type": "display_data"
    }
   ],
   "source": [
    "vs.Roll_plot(Roll_B, criptos[0], 'Spreads of')"
   ]
  },
  {
   "cell_type": "markdown",
   "metadata": {},
   "source": [
    "<font color= lightblue> <font size = 2> ETH Spreads </font>"
   ]
  },
  {
   "cell_type": "code",
   "execution_count": 128,
   "metadata": {},
   "outputs": [
    {
     "data": {
      "text/html": [
       "<div>\n",
       "<style scoped>\n",
       "    .dataframe tbody tr th:only-of-type {\n",
       "        vertical-align: middle;\n",
       "    }\n",
       "\n",
       "    .dataframe tbody tr th {\n",
       "        vertical-align: top;\n",
       "    }\n",
       "\n",
       "    .dataframe thead th {\n",
       "        text-align: right;\n",
       "    }\n",
       "</style>\n",
       "<table border=\"1\" class=\"dataframe\">\n",
       "  <thead>\n",
       "    <tr style=\"text-align: right;\">\n",
       "      <th></th>\n",
       "      <th>exchange</th>\n",
       "      <th>timestamp</th>\n",
       "      <th>close_price</th>\n",
       "      <th>spread</th>\n",
       "      <th>effective_spread</th>\n",
       "    </tr>\n",
       "  </thead>\n",
       "  <tbody>\n",
       "    <tr>\n",
       "      <th>0</th>\n",
       "      <td>binance</td>\n",
       "      <td>2022-11-10T18:35:30.056</td>\n",
       "      <td>1260.86</td>\n",
       "      <td>0.01</td>\n",
       "      <td>0.081035</td>\n",
       "    </tr>\n",
       "    <tr>\n",
       "      <th>1</th>\n",
       "      <td>binance</td>\n",
       "      <td>2022-11-10T18:35:33.453</td>\n",
       "      <td>1260.69</td>\n",
       "      <td>0.01</td>\n",
       "      <td>0.226495</td>\n",
       "    </tr>\n",
       "    <tr>\n",
       "      <th>2</th>\n",
       "      <td>binance</td>\n",
       "      <td>2022-11-10T18:35:36.452</td>\n",
       "      <td>1260.83</td>\n",
       "      <td>0.01</td>\n",
       "      <td>0.070475</td>\n",
       "    </tr>\n",
       "    <tr>\n",
       "      <th>3</th>\n",
       "      <td>binance</td>\n",
       "      <td>2022-11-10T18:35:39.016</td>\n",
       "      <td>1260.68</td>\n",
       "      <td>0.01</td>\n",
       "      <td>0.259358</td>\n",
       "    </tr>\n",
       "    <tr>\n",
       "      <th>4</th>\n",
       "      <td>binance</td>\n",
       "      <td>2022-11-10T18:35:41.404</td>\n",
       "      <td>1260.55</td>\n",
       "      <td>0.01</td>\n",
       "      <td>0.177294</td>\n",
       "    </tr>\n",
       "    <tr>\n",
       "      <th>5</th>\n",
       "      <td>binance</td>\n",
       "      <td>2022-11-10T18:35:43.785</td>\n",
       "      <td>1260.46</td>\n",
       "      <td>0.01</td>\n",
       "      <td>0.154380</td>\n",
       "    </tr>\n",
       "    <tr>\n",
       "      <th>6</th>\n",
       "      <td>binance</td>\n",
       "      <td>2022-11-10T18:35:46.602</td>\n",
       "      <td>1260.59</td>\n",
       "      <td>0.01</td>\n",
       "      <td>0.221284</td>\n",
       "    </tr>\n",
       "    <tr>\n",
       "      <th>7</th>\n",
       "      <td>binance</td>\n",
       "      <td>2022-11-10T18:35:49.012</td>\n",
       "      <td>1260.66</td>\n",
       "      <td>0.01</td>\n",
       "      <td>0.107703</td>\n",
       "    </tr>\n",
       "    <tr>\n",
       "      <th>8</th>\n",
       "      <td>binance</td>\n",
       "      <td>2022-11-10T18:35:51.949</td>\n",
       "      <td>1260.71</td>\n",
       "      <td>0.01</td>\n",
       "      <td>0.174929</td>\n",
       "    </tr>\n",
       "    <tr>\n",
       "      <th>9</th>\n",
       "      <td>binance</td>\n",
       "      <td>2022-11-10T18:35:55.773</td>\n",
       "      <td>1261.51</td>\n",
       "      <td>0.01</td>\n",
       "      <td>0.180000</td>\n",
       "    </tr>\n",
       "  </tbody>\n",
       "</table>\n",
       "</div>"
      ],
      "text/plain": [
       "  exchange                timestamp  close_price  spread  effective_spread\n",
       "0  binance  2022-11-10T18:35:30.056      1260.86    0.01          0.081035\n",
       "1  binance  2022-11-10T18:35:33.453      1260.69    0.01          0.226495\n",
       "2  binance  2022-11-10T18:35:36.452      1260.83    0.01          0.070475\n",
       "3  binance  2022-11-10T18:35:39.016      1260.68    0.01          0.259358\n",
       "4  binance  2022-11-10T18:35:41.404      1260.55    0.01          0.177294\n",
       "5  binance  2022-11-10T18:35:43.785      1260.46    0.01          0.154380\n",
       "6  binance  2022-11-10T18:35:46.602      1260.59    0.01          0.221284\n",
       "7  binance  2022-11-10T18:35:49.012      1260.66    0.01          0.107703\n",
       "8  binance  2022-11-10T18:35:51.949      1260.71    0.01          0.174929\n",
       "9  binance  2022-11-10T18:35:55.773      1261.51    0.01          0.180000"
      ]
     },
     "execution_count": 128,
     "metadata": {},
     "output_type": "execute_result"
    }
   ],
   "source": [
    "Roll_E = vs.roll_model(verif_df2, lags).reset_index(drop=True)\n",
    "Roll_E.head(10)"
   ]
  },
  {
   "cell_type": "code",
   "execution_count": 129,
   "metadata": {},
   "outputs": [
    {
     "data": {
      "text/html": [
       "<div>\n",
       "<style scoped>\n",
       "    .dataframe tbody tr th:only-of-type {\n",
       "        vertical-align: middle;\n",
       "    }\n",
       "\n",
       "    .dataframe tbody tr th {\n",
       "        vertical-align: top;\n",
       "    }\n",
       "\n",
       "    .dataframe thead th {\n",
       "        text-align: right;\n",
       "    }\n",
       "</style>\n",
       "<table border=\"1\" class=\"dataframe\">\n",
       "  <thead>\n",
       "    <tr style=\"text-align: right;\">\n",
       "      <th></th>\n",
       "      <th>exchange</th>\n",
       "      <th>timestamp</th>\n",
       "      <th>close_price</th>\n",
       "      <th>spread</th>\n",
       "      <th>effective_spread</th>\n",
       "    </tr>\n",
       "  </thead>\n",
       "  <tbody>\n",
       "    <tr>\n",
       "      <th>45</th>\n",
       "      <td>bytetrade</td>\n",
       "      <td>2022-11-10T18:37:51.755</td>\n",
       "      <td>1259.73</td>\n",
       "      <td>17.45</td>\n",
       "      <td>0.361248</td>\n",
       "    </tr>\n",
       "    <tr>\n",
       "      <th>46</th>\n",
       "      <td>bytetrade</td>\n",
       "      <td>2022-11-10T18:37:54.640</td>\n",
       "      <td>1259.73</td>\n",
       "      <td>17.45</td>\n",
       "      <td>0.580747</td>\n",
       "    </tr>\n",
       "    <tr>\n",
       "      <th>47</th>\n",
       "      <td>bytetrade</td>\n",
       "      <td>2022-11-10T18:37:58.846</td>\n",
       "      <td>1259.40</td>\n",
       "      <td>17.45</td>\n",
       "      <td>0.022361</td>\n",
       "    </tr>\n",
       "    <tr>\n",
       "      <th>48</th>\n",
       "      <td>bytetrade</td>\n",
       "      <td>2022-11-10T18:38:01.451</td>\n",
       "      <td>1260.60</td>\n",
       "      <td>17.45</td>\n",
       "      <td>0.647405</td>\n",
       "    </tr>\n",
       "    <tr>\n",
       "      <th>49</th>\n",
       "      <td>bytetrade</td>\n",
       "      <td>2022-11-10T18:38:04.970</td>\n",
       "      <td>1260.60</td>\n",
       "      <td>17.45</td>\n",
       "      <td>0.549060</td>\n",
       "    </tr>\n",
       "    <tr>\n",
       "      <th>50</th>\n",
       "      <td>bytetrade</td>\n",
       "      <td>2022-11-10T18:38:07.708</td>\n",
       "      <td>1260.24</td>\n",
       "      <td>17.45</td>\n",
       "      <td>0.422729</td>\n",
       "    </tr>\n",
       "    <tr>\n",
       "      <th>51</th>\n",
       "      <td>bytetrade</td>\n",
       "      <td>2022-11-10T18:38:10.964</td>\n",
       "      <td>1260.24</td>\n",
       "      <td>17.45</td>\n",
       "      <td>0.419404</td>\n",
       "    </tr>\n",
       "    <tr>\n",
       "      <th>52</th>\n",
       "      <td>bytetrade</td>\n",
       "      <td>2022-11-10T18:38:13.930</td>\n",
       "      <td>1259.13</td>\n",
       "      <td>17.45</td>\n",
       "      <td>0.507149</td>\n",
       "    </tr>\n",
       "    <tr>\n",
       "      <th>53</th>\n",
       "      <td>bytetrade</td>\n",
       "      <td>2022-11-10T18:38:16.717</td>\n",
       "      <td>1259.09</td>\n",
       "      <td>17.45</td>\n",
       "      <td>0.254755</td>\n",
       "    </tr>\n",
       "    <tr>\n",
       "      <th>54</th>\n",
       "      <td>bytetrade</td>\n",
       "      <td>2022-11-10T18:38:19.472</td>\n",
       "      <td>1260.00</td>\n",
       "      <td>17.45</td>\n",
       "      <td>0.355762</td>\n",
       "    </tr>\n",
       "  </tbody>\n",
       "</table>\n",
       "</div>"
      ],
      "text/plain": [
       "     exchange                timestamp  close_price  spread  effective_spread\n",
       "45  bytetrade  2022-11-10T18:37:51.755      1259.73   17.45          0.361248\n",
       "46  bytetrade  2022-11-10T18:37:54.640      1259.73   17.45          0.580747\n",
       "47  bytetrade  2022-11-10T18:37:58.846      1259.40   17.45          0.022361\n",
       "48  bytetrade  2022-11-10T18:38:01.451      1260.60   17.45          0.647405\n",
       "49  bytetrade  2022-11-10T18:38:04.970      1260.60   17.45          0.549060\n",
       "50  bytetrade  2022-11-10T18:38:07.708      1260.24   17.45          0.422729\n",
       "51  bytetrade  2022-11-10T18:38:10.964      1260.24   17.45          0.419404\n",
       "52  bytetrade  2022-11-10T18:38:13.930      1259.13   17.45          0.507149\n",
       "53  bytetrade  2022-11-10T18:38:16.717      1259.09   17.45          0.254755\n",
       "54  bytetrade  2022-11-10T18:38:19.472      1260.00   17.45          0.355762"
      ]
     },
     "execution_count": 129,
     "metadata": {},
     "output_type": "execute_result"
    }
   ],
   "source": [
    "Roll_E.tail(10)"
   ]
  },
  {
   "cell_type": "markdown",
   "metadata": {},
   "source": [
    "The spreads for exchanges with liquidity issues tend to have bigger movements and volatility. This is reduced by the Roll's Effective Spread with n lags, which means that it's a valuable metric to use when the data is avaliable and the n number of exchanges are greater than just a few because liquidity issues arise inevitably."
   ]
  },
  {
   "cell_type": "code",
   "execution_count": 130,
   "metadata": {},
   "outputs": [
    {
     "data": {
      "application/vnd.plotly.v1+json": {
       "config": {
        "plotlyServerURL": "https://plot.ly"
       },
       "data": [
        {
         "hovertemplate": "variable=spread<br>exchange=binance<br>timestamp=%{x}<br>value=%{y}<extra></extra>",
         "legendgroup": "spread",
         "line": {
          "color": "#636efa",
          "dash": "solid"
         },
         "marker": {
          "symbol": "circle"
         },
         "mode": "lines",
         "name": "spread",
         "orientation": "v",
         "showlegend": true,
         "type": "scatter",
         "x": [
          "2022-11-10T18:35:30.056000",
          "2022-11-10T18:35:33.453000",
          "2022-11-10T18:35:36.452000",
          "2022-11-10T18:35:39.016000",
          "2022-11-10T18:35:41.404000",
          "2022-11-10T18:35:43.785000",
          "2022-11-10T18:35:46.602000",
          "2022-11-10T18:35:49.012000",
          "2022-11-10T18:35:51.949000",
          "2022-11-10T18:35:55.773000",
          "2022-11-10T18:35:58.350000",
          "2022-11-10T18:36:00.960000",
          "2022-11-10T18:36:03.400000",
          "2022-11-10T18:36:05.881000",
          "2022-11-10T18:36:08.232000"
         ],
         "xaxis": "x3",
         "y": [
          0.009999999999990905,
          0.009999999999990905,
          0.009999999999990905,
          0.009999999999990905,
          0.009999999999990905,
          0.009999999999990905,
          0.009999999999990905,
          0.009999999999990905,
          0.009999999999990905,
          0.009999999999990905,
          0.009999999999990905,
          0.009999999999990905,
          0.009999999999990905,
          0.009999999999990905,
          0.009999999999990905
         ],
         "yaxis": "y3"
        },
        {
         "hovertemplate": "variable=spread<br>exchange=ftx<br>timestamp=%{x}<br>value=%{y}<extra></extra>",
         "legendgroup": "spread",
         "line": {
          "color": "#636efa",
          "dash": "solid"
         },
         "marker": {
          "symbol": "circle"
         },
         "mode": "lines",
         "name": "spread",
         "orientation": "v",
         "showlegend": false,
         "type": "scatter",
         "x": [
          "2022-11-10T18:36:11.792000",
          "2022-11-10T18:36:14.762000",
          "2022-11-10T18:36:18.179000",
          "2022-11-10T18:36:21.294000",
          "2022-11-10T18:36:25.281000",
          "2022-11-10T18:36:29.536000",
          "2022-11-10T18:36:33.425000",
          "2022-11-10T18:36:37.448000",
          "2022-11-10T18:36:41.089000",
          "2022-11-10T18:36:44.164000",
          "2022-11-10T18:36:47.718000",
          "2022-11-10T18:36:51.668000",
          "2022-11-10T18:36:55.495000",
          "2022-11-10T18:36:59.018000",
          "2022-11-10T18:37:02.761000",
          "2022-11-10T18:37:06.043000",
          "2022-11-10T18:37:09.963000",
          "2022-11-10T18:37:13.417000",
          "2022-11-10T18:37:17.415000",
          "2022-11-10T18:37:19.910000"
         ],
         "xaxis": "x2",
         "y": [
          6.599999999999909,
          10.700000000000045,
          9.900000000000091,
          1.2000000000000455,
          0.2999999999999545,
          0.2999999999999545,
          0.2999999999999545,
          0.2999999999999545,
          0.2999999999999545,
          0.2999999999999545,
          0.2999999999999545,
          0.2999999999999545,
          0.2999999999999545,
          0.2999999999999545,
          4.2999999999999545,
          4.599999999999909,
          4.399999999999864,
          5.400000000000091,
          5.2999999999999545,
          5.400000000000091
         ],
         "yaxis": "y2"
        },
        {
         "hovertemplate": "variable=spread<br>exchange=bytetrade<br>timestamp=%{x}<br>value=%{y}<extra></extra>",
         "legendgroup": "spread",
         "line": {
          "color": "#636efa",
          "dash": "solid"
         },
         "marker": {
          "symbol": "circle"
         },
         "mode": "lines",
         "name": "spread",
         "orientation": "v",
         "showlegend": false,
         "type": "scatter",
         "x": [
          "2022-11-10T18:37:23.120000",
          "2022-11-10T18:37:25.470000",
          "2022-11-10T18:37:29.051000",
          "2022-11-10T18:37:31.528000",
          "2022-11-10T18:37:34.131000",
          "2022-11-10T18:37:37.306000",
          "2022-11-10T18:37:39.814000",
          "2022-11-10T18:37:43.300000",
          "2022-11-10T18:37:45.694000",
          "2022-11-10T18:37:49.040000",
          "2022-11-10T18:37:51.755000",
          "2022-11-10T18:37:54.640000",
          "2022-11-10T18:37:58.846000",
          "2022-11-10T18:38:01.451000",
          "2022-11-10T18:38:04.970000",
          "2022-11-10T18:38:07.708000",
          "2022-11-10T18:38:10.964000",
          "2022-11-10T18:38:13.930000",
          "2022-11-10T18:38:16.717000",
          "2022-11-10T18:38:19.472000"
         ],
         "xaxis": "x",
         "y": [
          17.340000000000146,
          17.340000000000146,
          17.340000000000146,
          17.340000000000146,
          17.340000000000146,
          17.340000000000146,
          17.340000000000146,
          17.340000000000146,
          17.340000000000146,
          17.450000000000045,
          17.450000000000045,
          17.450000000000045,
          17.450000000000045,
          17.450000000000045,
          17.450000000000045,
          17.450000000000045,
          17.450000000000045,
          17.450000000000045,
          17.450000000000045,
          17.450000000000045
         ],
         "yaxis": "y"
        },
        {
         "hovertemplate": "variable=effective_spread<br>exchange=binance<br>timestamp=%{x}<br>value=%{y}<extra></extra>",
         "legendgroup": "effective_spread",
         "line": {
          "color": "#EF553B",
          "dash": "solid"
         },
         "marker": {
          "symbol": "circle"
         },
         "mode": "lines",
         "name": "effective_spread",
         "orientation": "v",
         "showlegend": true,
         "type": "scatter",
         "x": [
          "2022-11-10T18:35:30.056000",
          "2022-11-10T18:35:33.453000",
          "2022-11-10T18:35:36.452000",
          "2022-11-10T18:35:39.016000",
          "2022-11-10T18:35:41.404000",
          "2022-11-10T18:35:43.785000",
          "2022-11-10T18:35:46.602000",
          "2022-11-10T18:35:49.012000",
          "2022-11-10T18:35:51.949000",
          "2022-11-10T18:35:55.773000",
          "2022-11-10T18:35:58.350000",
          "2022-11-10T18:36:00.960000",
          "2022-11-10T18:36:03.400000",
          "2022-11-10T18:36:05.881000",
          "2022-11-10T18:36:08.232000"
         ],
         "xaxis": "x3",
         "y": [
          0.081035,
          0.226495,
          0.070475,
          0.259358,
          0.177294,
          0.15438,
          0.221284,
          0.107703,
          0.174929,
          0.18,
          0.272091,
          0.216179,
          0.371618,
          0.400292,
          0.416613
         ],
         "yaxis": "y3"
        },
        {
         "hovertemplate": "variable=effective_spread<br>exchange=ftx<br>timestamp=%{x}<br>value=%{y}<extra></extra>",
         "legendgroup": "effective_spread",
         "line": {
          "color": "#EF553B",
          "dash": "solid"
         },
         "marker": {
          "symbol": "circle"
         },
         "mode": "lines",
         "name": "effective_spread",
         "orientation": "v",
         "showlegend": false,
         "type": "scatter",
         "x": [
          "2022-11-10T18:36:11.792000",
          "2022-11-10T18:36:14.762000",
          "2022-11-10T18:36:18.179000",
          "2022-11-10T18:36:21.294000",
          "2022-11-10T18:36:25.281000",
          "2022-11-10T18:36:29.536000",
          "2022-11-10T18:36:33.425000",
          "2022-11-10T18:36:37.448000",
          "2022-11-10T18:36:41.089000",
          "2022-11-10T18:36:44.164000",
          "2022-11-10T18:36:47.718000",
          "2022-11-10T18:36:51.668000",
          "2022-11-10T18:36:55.495000",
          "2022-11-10T18:36:59.018000",
          "2022-11-10T18:37:02.761000",
          "2022-11-10T18:37:06.043000",
          "2022-11-10T18:37:09.963000",
          "2022-11-10T18:37:13.417000",
          "2022-11-10T18:37:17.415000",
          "2022-11-10T18:37:19.910000"
         ],
         "xaxis": "x2",
         "y": [
          0.439621,
          2.168709,
          3.094651,
          2.247621,
          3.377923,
          1.213123,
          1.456365,
          1.409255,
          0.221359,
          0,
          0,
          0,
          0,
          0,
          0,
          0.73598,
          0.892562,
          1.065677,
          0.34641,
          1.529379
         ],
         "yaxis": "y2"
        },
        {
         "hovertemplate": "variable=effective_spread<br>exchange=bytetrade<br>timestamp=%{x}<br>value=%{y}<extra></extra>",
         "legendgroup": "effective_spread",
         "line": {
          "color": "#EF553B",
          "dash": "solid"
         },
         "marker": {
          "symbol": "circle"
         },
         "mode": "lines",
         "name": "effective_spread",
         "orientation": "v",
         "showlegend": false,
         "type": "scatter",
         "x": [
          "2022-11-10T18:37:23.120000",
          "2022-11-10T18:37:25.470000",
          "2022-11-10T18:37:29.051000",
          "2022-11-10T18:37:31.528000",
          "2022-11-10T18:37:34.131000",
          "2022-11-10T18:37:37.306000",
          "2022-11-10T18:37:39.814000",
          "2022-11-10T18:37:43.300000",
          "2022-11-10T18:37:45.694000",
          "2022-11-10T18:37:49.040000",
          "2022-11-10T18:37:51.755000",
          "2022-11-10T18:37:54.640000",
          "2022-11-10T18:37:58.846000",
          "2022-11-10T18:38:01.451000",
          "2022-11-10T18:38:04.970000",
          "2022-11-10T18:38:07.708000",
          "2022-11-10T18:38:10.964000",
          "2022-11-10T18:38:13.930000",
          "2022-11-10T18:38:16.717000",
          "2022-11-10T18:38:19.472000"
         ],
         "xaxis": "x",
         "y": [
          0.132916,
          1.727378,
          3.036879,
          2.080881,
          3.098473,
          0.196638,
          0.292347,
          0.177294,
          0.171659,
          0.276586,
          0.361248,
          0.580747,
          0.022361,
          0.647405,
          0.54906,
          0.422729,
          0.419404,
          0.507149,
          0.254755,
          0.355762
         ],
         "yaxis": "y"
        }
       ],
       "layout": {
        "annotations": [
         {
          "font": {},
          "showarrow": false,
          "text": "exchange=bytetrade",
          "x": 0.5,
          "xanchor": "center",
          "xref": "paper",
          "y": 0.2866666666666666,
          "yanchor": "bottom",
          "yref": "paper"
         },
         {
          "font": {},
          "showarrow": false,
          "text": "exchange=ftx",
          "x": 0.5,
          "xanchor": "center",
          "xref": "paper",
          "y": 0.6433333333333333,
          "yanchor": "bottom",
          "yref": "paper"
         },
         {
          "font": {},
          "showarrow": false,
          "text": "exchange=binance",
          "x": 0.5,
          "xanchor": "center",
          "xref": "paper",
          "y": 0.9999999999999999,
          "yanchor": "bottom",
          "yref": "paper"
         }
        ],
        "legend": {
         "title": {
          "text": "variable"
         },
         "tracegroupgap": 0
        },
        "margin": {
         "t": 60
        },
        "template": {
         "data": {
          "bar": [
           {
            "error_x": {
             "color": "#2a3f5f"
            },
            "error_y": {
             "color": "#2a3f5f"
            },
            "marker": {
             "line": {
              "color": "#E5ECF6",
              "width": 0.5
             },
             "pattern": {
              "fillmode": "overlay",
              "size": 10,
              "solidity": 0.2
             }
            },
            "type": "bar"
           }
          ],
          "barpolar": [
           {
            "marker": {
             "line": {
              "color": "#E5ECF6",
              "width": 0.5
             },
             "pattern": {
              "fillmode": "overlay",
              "size": 10,
              "solidity": 0.2
             }
            },
            "type": "barpolar"
           }
          ],
          "carpet": [
           {
            "aaxis": {
             "endlinecolor": "#2a3f5f",
             "gridcolor": "white",
             "linecolor": "white",
             "minorgridcolor": "white",
             "startlinecolor": "#2a3f5f"
            },
            "baxis": {
             "endlinecolor": "#2a3f5f",
             "gridcolor": "white",
             "linecolor": "white",
             "minorgridcolor": "white",
             "startlinecolor": "#2a3f5f"
            },
            "type": "carpet"
           }
          ],
          "choropleth": [
           {
            "colorbar": {
             "outlinewidth": 0,
             "ticks": ""
            },
            "type": "choropleth"
           }
          ],
          "contour": [
           {
            "colorbar": {
             "outlinewidth": 0,
             "ticks": ""
            },
            "colorscale": [
             [
              0,
              "#0d0887"
             ],
             [
              0.1111111111111111,
              "#46039f"
             ],
             [
              0.2222222222222222,
              "#7201a8"
             ],
             [
              0.3333333333333333,
              "#9c179e"
             ],
             [
              0.4444444444444444,
              "#bd3786"
             ],
             [
              0.5555555555555556,
              "#d8576b"
             ],
             [
              0.6666666666666666,
              "#ed7953"
             ],
             [
              0.7777777777777778,
              "#fb9f3a"
             ],
             [
              0.8888888888888888,
              "#fdca26"
             ],
             [
              1,
              "#f0f921"
             ]
            ],
            "type": "contour"
           }
          ],
          "contourcarpet": [
           {
            "colorbar": {
             "outlinewidth": 0,
             "ticks": ""
            },
            "type": "contourcarpet"
           }
          ],
          "heatmap": [
           {
            "colorbar": {
             "outlinewidth": 0,
             "ticks": ""
            },
            "colorscale": [
             [
              0,
              "#0d0887"
             ],
             [
              0.1111111111111111,
              "#46039f"
             ],
             [
              0.2222222222222222,
              "#7201a8"
             ],
             [
              0.3333333333333333,
              "#9c179e"
             ],
             [
              0.4444444444444444,
              "#bd3786"
             ],
             [
              0.5555555555555556,
              "#d8576b"
             ],
             [
              0.6666666666666666,
              "#ed7953"
             ],
             [
              0.7777777777777778,
              "#fb9f3a"
             ],
             [
              0.8888888888888888,
              "#fdca26"
             ],
             [
              1,
              "#f0f921"
             ]
            ],
            "type": "heatmap"
           }
          ],
          "heatmapgl": [
           {
            "colorbar": {
             "outlinewidth": 0,
             "ticks": ""
            },
            "colorscale": [
             [
              0,
              "#0d0887"
             ],
             [
              0.1111111111111111,
              "#46039f"
             ],
             [
              0.2222222222222222,
              "#7201a8"
             ],
             [
              0.3333333333333333,
              "#9c179e"
             ],
             [
              0.4444444444444444,
              "#bd3786"
             ],
             [
              0.5555555555555556,
              "#d8576b"
             ],
             [
              0.6666666666666666,
              "#ed7953"
             ],
             [
              0.7777777777777778,
              "#fb9f3a"
             ],
             [
              0.8888888888888888,
              "#fdca26"
             ],
             [
              1,
              "#f0f921"
             ]
            ],
            "type": "heatmapgl"
           }
          ],
          "histogram": [
           {
            "marker": {
             "pattern": {
              "fillmode": "overlay",
              "size": 10,
              "solidity": 0.2
             }
            },
            "type": "histogram"
           }
          ],
          "histogram2d": [
           {
            "colorbar": {
             "outlinewidth": 0,
             "ticks": ""
            },
            "colorscale": [
             [
              0,
              "#0d0887"
             ],
             [
              0.1111111111111111,
              "#46039f"
             ],
             [
              0.2222222222222222,
              "#7201a8"
             ],
             [
              0.3333333333333333,
              "#9c179e"
             ],
             [
              0.4444444444444444,
              "#bd3786"
             ],
             [
              0.5555555555555556,
              "#d8576b"
             ],
             [
              0.6666666666666666,
              "#ed7953"
             ],
             [
              0.7777777777777778,
              "#fb9f3a"
             ],
             [
              0.8888888888888888,
              "#fdca26"
             ],
             [
              1,
              "#f0f921"
             ]
            ],
            "type": "histogram2d"
           }
          ],
          "histogram2dcontour": [
           {
            "colorbar": {
             "outlinewidth": 0,
             "ticks": ""
            },
            "colorscale": [
             [
              0,
              "#0d0887"
             ],
             [
              0.1111111111111111,
              "#46039f"
             ],
             [
              0.2222222222222222,
              "#7201a8"
             ],
             [
              0.3333333333333333,
              "#9c179e"
             ],
             [
              0.4444444444444444,
              "#bd3786"
             ],
             [
              0.5555555555555556,
              "#d8576b"
             ],
             [
              0.6666666666666666,
              "#ed7953"
             ],
             [
              0.7777777777777778,
              "#fb9f3a"
             ],
             [
              0.8888888888888888,
              "#fdca26"
             ],
             [
              1,
              "#f0f921"
             ]
            ],
            "type": "histogram2dcontour"
           }
          ],
          "mesh3d": [
           {
            "colorbar": {
             "outlinewidth": 0,
             "ticks": ""
            },
            "type": "mesh3d"
           }
          ],
          "parcoords": [
           {
            "line": {
             "colorbar": {
              "outlinewidth": 0,
              "ticks": ""
             }
            },
            "type": "parcoords"
           }
          ],
          "pie": [
           {
            "automargin": true,
            "type": "pie"
           }
          ],
          "scatter": [
           {
            "marker": {
             "colorbar": {
              "outlinewidth": 0,
              "ticks": ""
             }
            },
            "type": "scatter"
           }
          ],
          "scatter3d": [
           {
            "line": {
             "colorbar": {
              "outlinewidth": 0,
              "ticks": ""
             }
            },
            "marker": {
             "colorbar": {
              "outlinewidth": 0,
              "ticks": ""
             }
            },
            "type": "scatter3d"
           }
          ],
          "scattercarpet": [
           {
            "marker": {
             "colorbar": {
              "outlinewidth": 0,
              "ticks": ""
             }
            },
            "type": "scattercarpet"
           }
          ],
          "scattergeo": [
           {
            "marker": {
             "colorbar": {
              "outlinewidth": 0,
              "ticks": ""
             }
            },
            "type": "scattergeo"
           }
          ],
          "scattergl": [
           {
            "marker": {
             "colorbar": {
              "outlinewidth": 0,
              "ticks": ""
             }
            },
            "type": "scattergl"
           }
          ],
          "scattermapbox": [
           {
            "marker": {
             "colorbar": {
              "outlinewidth": 0,
              "ticks": ""
             }
            },
            "type": "scattermapbox"
           }
          ],
          "scatterpolar": [
           {
            "marker": {
             "colorbar": {
              "outlinewidth": 0,
              "ticks": ""
             }
            },
            "type": "scatterpolar"
           }
          ],
          "scatterpolargl": [
           {
            "marker": {
             "colorbar": {
              "outlinewidth": 0,
              "ticks": ""
             }
            },
            "type": "scatterpolargl"
           }
          ],
          "scatterternary": [
           {
            "marker": {
             "colorbar": {
              "outlinewidth": 0,
              "ticks": ""
             }
            },
            "type": "scatterternary"
           }
          ],
          "surface": [
           {
            "colorbar": {
             "outlinewidth": 0,
             "ticks": ""
            },
            "colorscale": [
             [
              0,
              "#0d0887"
             ],
             [
              0.1111111111111111,
              "#46039f"
             ],
             [
              0.2222222222222222,
              "#7201a8"
             ],
             [
              0.3333333333333333,
              "#9c179e"
             ],
             [
              0.4444444444444444,
              "#bd3786"
             ],
             [
              0.5555555555555556,
              "#d8576b"
             ],
             [
              0.6666666666666666,
              "#ed7953"
             ],
             [
              0.7777777777777778,
              "#fb9f3a"
             ],
             [
              0.8888888888888888,
              "#fdca26"
             ],
             [
              1,
              "#f0f921"
             ]
            ],
            "type": "surface"
           }
          ],
          "table": [
           {
            "cells": {
             "fill": {
              "color": "#EBF0F8"
             },
             "line": {
              "color": "white"
             }
            },
            "header": {
             "fill": {
              "color": "#C8D4E3"
             },
             "line": {
              "color": "white"
             }
            },
            "type": "table"
           }
          ]
         },
         "layout": {
          "annotationdefaults": {
           "arrowcolor": "#2a3f5f",
           "arrowhead": 0,
           "arrowwidth": 1
          },
          "autotypenumbers": "strict",
          "coloraxis": {
           "colorbar": {
            "outlinewidth": 0,
            "ticks": ""
           }
          },
          "colorscale": {
           "diverging": [
            [
             0,
             "#8e0152"
            ],
            [
             0.1,
             "#c51b7d"
            ],
            [
             0.2,
             "#de77ae"
            ],
            [
             0.3,
             "#f1b6da"
            ],
            [
             0.4,
             "#fde0ef"
            ],
            [
             0.5,
             "#f7f7f7"
            ],
            [
             0.6,
             "#e6f5d0"
            ],
            [
             0.7,
             "#b8e186"
            ],
            [
             0.8,
             "#7fbc41"
            ],
            [
             0.9,
             "#4d9221"
            ],
            [
             1,
             "#276419"
            ]
           ],
           "sequential": [
            [
             0,
             "#0d0887"
            ],
            [
             0.1111111111111111,
             "#46039f"
            ],
            [
             0.2222222222222222,
             "#7201a8"
            ],
            [
             0.3333333333333333,
             "#9c179e"
            ],
            [
             0.4444444444444444,
             "#bd3786"
            ],
            [
             0.5555555555555556,
             "#d8576b"
            ],
            [
             0.6666666666666666,
             "#ed7953"
            ],
            [
             0.7777777777777778,
             "#fb9f3a"
            ],
            [
             0.8888888888888888,
             "#fdca26"
            ],
            [
             1,
             "#f0f921"
            ]
           ],
           "sequentialminus": [
            [
             0,
             "#0d0887"
            ],
            [
             0.1111111111111111,
             "#46039f"
            ],
            [
             0.2222222222222222,
             "#7201a8"
            ],
            [
             0.3333333333333333,
             "#9c179e"
            ],
            [
             0.4444444444444444,
             "#bd3786"
            ],
            [
             0.5555555555555556,
             "#d8576b"
            ],
            [
             0.6666666666666666,
             "#ed7953"
            ],
            [
             0.7777777777777778,
             "#fb9f3a"
            ],
            [
             0.8888888888888888,
             "#fdca26"
            ],
            [
             1,
             "#f0f921"
            ]
           ]
          },
          "colorway": [
           "#636efa",
           "#EF553B",
           "#00cc96",
           "#ab63fa",
           "#FFA15A",
           "#19d3f3",
           "#FF6692",
           "#B6E880",
           "#FF97FF",
           "#FECB52"
          ],
          "font": {
           "color": "#2a3f5f"
          },
          "geo": {
           "bgcolor": "white",
           "lakecolor": "white",
           "landcolor": "#E5ECF6",
           "showlakes": true,
           "showland": true,
           "subunitcolor": "white"
          },
          "hoverlabel": {
           "align": "left"
          },
          "hovermode": "closest",
          "mapbox": {
           "style": "light"
          },
          "paper_bgcolor": "white",
          "plot_bgcolor": "#E5ECF6",
          "polar": {
           "angularaxis": {
            "gridcolor": "white",
            "linecolor": "white",
            "ticks": ""
           },
           "bgcolor": "#E5ECF6",
           "radialaxis": {
            "gridcolor": "white",
            "linecolor": "white",
            "ticks": ""
           }
          },
          "scene": {
           "xaxis": {
            "backgroundcolor": "#E5ECF6",
            "gridcolor": "white",
            "gridwidth": 2,
            "linecolor": "white",
            "showbackground": true,
            "ticks": "",
            "zerolinecolor": "white"
           },
           "yaxis": {
            "backgroundcolor": "#E5ECF6",
            "gridcolor": "white",
            "gridwidth": 2,
            "linecolor": "white",
            "showbackground": true,
            "ticks": "",
            "zerolinecolor": "white"
           },
           "zaxis": {
            "backgroundcolor": "#E5ECF6",
            "gridcolor": "white",
            "gridwidth": 2,
            "linecolor": "white",
            "showbackground": true,
            "ticks": "",
            "zerolinecolor": "white"
           }
          },
          "shapedefaults": {
           "line": {
            "color": "#2a3f5f"
           }
          },
          "ternary": {
           "aaxis": {
            "gridcolor": "white",
            "linecolor": "white",
            "ticks": ""
           },
           "baxis": {
            "gridcolor": "white",
            "linecolor": "white",
            "ticks": ""
           },
           "bgcolor": "#E5ECF6",
           "caxis": {
            "gridcolor": "white",
            "linecolor": "white",
            "ticks": ""
           }
          },
          "title": {
           "x": 0.05
          },
          "xaxis": {
           "automargin": true,
           "gridcolor": "white",
           "linecolor": "white",
           "ticks": "",
           "title": {
            "standoff": 15
           },
           "zerolinecolor": "white",
           "zerolinewidth": 2
          },
          "yaxis": {
           "automargin": true,
           "gridcolor": "white",
           "linecolor": "white",
           "ticks": "",
           "title": {
            "standoff": 15
           },
           "zerolinecolor": "white",
           "zerolinewidth": 2
          }
         }
        },
        "title": {
         "font": {
          "size": 15
         },
         "text": "Spreads of ETH/USDT:"
        },
        "xaxis": {
         "anchor": "y",
         "domain": [
          0,
          1
         ],
         "title": {
          "text": "timestamp"
         }
        },
        "xaxis2": {
         "anchor": "y2",
         "domain": [
          0,
          1
         ],
         "matches": "x",
         "showticklabels": false
        },
        "xaxis3": {
         "anchor": "y3",
         "domain": [
          0,
          1
         ],
         "matches": "x",
         "showticklabels": false
        },
        "yaxis": {
         "anchor": "x",
         "domain": [
          0,
          0.2866666666666666
         ],
         "title": {
          "text": "value"
         }
        },
        "yaxis2": {
         "anchor": "x2",
         "domain": [
          0.35666666666666663,
          0.6433333333333333
         ],
         "matches": "y",
         "title": {
          "text": "value"
         }
        },
        "yaxis3": {
         "anchor": "x3",
         "domain": [
          0.7133333333333333,
          0.9999999999999999
         ],
         "matches": "y",
         "title": {
          "text": "value"
         }
        }
       }
      }
     },
     "metadata": {},
     "output_type": "display_data"
    }
   ],
   "source": [
    "vs.Roll_plot(Roll_E, criptos[1], 'Spreads of')"
   ]
  },
  {
   "cell_type": "markdown",
   "metadata": {},
   "source": [
    "<font color= lightblue> <font size = 2> XRP Spreads </font>"
   ]
  },
  {
   "cell_type": "code",
   "execution_count": 131,
   "metadata": {},
   "outputs": [
    {
     "data": {
      "text/html": [
       "<div>\n",
       "<style scoped>\n",
       "    .dataframe tbody tr th:only-of-type {\n",
       "        vertical-align: middle;\n",
       "    }\n",
       "\n",
       "    .dataframe tbody tr th {\n",
       "        vertical-align: top;\n",
       "    }\n",
       "\n",
       "    .dataframe thead th {\n",
       "        text-align: right;\n",
       "    }\n",
       "</style>\n",
       "<table border=\"1\" class=\"dataframe\">\n",
       "  <thead>\n",
       "    <tr style=\"text-align: right;\">\n",
       "      <th></th>\n",
       "      <th>exchange</th>\n",
       "      <th>timestamp</th>\n",
       "      <th>close_price</th>\n",
       "      <th>spread</th>\n",
       "      <th>effective_spread</th>\n",
       "    </tr>\n",
       "  </thead>\n",
       "  <tbody>\n",
       "    <tr>\n",
       "      <th>0</th>\n",
       "      <td>binance</td>\n",
       "      <td>2022-11-10T18:46:28.011</td>\n",
       "      <td>0.3790</td>\n",
       "      <td>0.0001</td>\n",
       "      <td>0.000082</td>\n",
       "    </tr>\n",
       "    <tr>\n",
       "      <th>1</th>\n",
       "      <td>binance</td>\n",
       "      <td>2022-11-10T18:46:30.564</td>\n",
       "      <td>0.3790</td>\n",
       "      <td>0.0001</td>\n",
       "      <td>0.000115</td>\n",
       "    </tr>\n",
       "    <tr>\n",
       "      <th>2</th>\n",
       "      <td>binance</td>\n",
       "      <td>2022-11-10T18:46:33.204</td>\n",
       "      <td>0.3789</td>\n",
       "      <td>0.0001</td>\n",
       "      <td>0.000000</td>\n",
       "    </tr>\n",
       "    <tr>\n",
       "      <th>3</th>\n",
       "      <td>binance</td>\n",
       "      <td>2022-11-10T18:46:36.296</td>\n",
       "      <td>0.3792</td>\n",
       "      <td>0.0001</td>\n",
       "      <td>0.000141</td>\n",
       "    </tr>\n",
       "    <tr>\n",
       "      <th>4</th>\n",
       "      <td>binance</td>\n",
       "      <td>2022-11-10T18:46:39.125</td>\n",
       "      <td>0.3792</td>\n",
       "      <td>0.0001</td>\n",
       "      <td>0.000082</td>\n",
       "    </tr>\n",
       "    <tr>\n",
       "      <th>5</th>\n",
       "      <td>binance</td>\n",
       "      <td>2022-11-10T18:46:41.552</td>\n",
       "      <td>0.3792</td>\n",
       "      <td>0.0001</td>\n",
       "      <td>0.000163</td>\n",
       "    </tr>\n",
       "    <tr>\n",
       "      <th>6</th>\n",
       "      <td>binance</td>\n",
       "      <td>2022-11-10T18:46:44.021</td>\n",
       "      <td>0.3793</td>\n",
       "      <td>0.0001</td>\n",
       "      <td>0.000115</td>\n",
       "    </tr>\n",
       "    <tr>\n",
       "      <th>7</th>\n",
       "      <td>binance</td>\n",
       "      <td>2022-11-10T18:46:46.853</td>\n",
       "      <td>0.3793</td>\n",
       "      <td>0.0001</td>\n",
       "      <td>0.000115</td>\n",
       "    </tr>\n",
       "    <tr>\n",
       "      <th>8</th>\n",
       "      <td>binance</td>\n",
       "      <td>2022-11-10T18:46:49.294</td>\n",
       "      <td>0.3793</td>\n",
       "      <td>0.0001</td>\n",
       "      <td>0.000082</td>\n",
       "    </tr>\n",
       "    <tr>\n",
       "      <th>9</th>\n",
       "      <td>binance</td>\n",
       "      <td>2022-11-10T18:46:52.011</td>\n",
       "      <td>0.3792</td>\n",
       "      <td>0.0001</td>\n",
       "      <td>0.000082</td>\n",
       "    </tr>\n",
       "  </tbody>\n",
       "</table>\n",
       "</div>"
      ],
      "text/plain": [
       "  exchange                timestamp  close_price  spread  effective_spread\n",
       "0  binance  2022-11-10T18:46:28.011       0.3790  0.0001          0.000082\n",
       "1  binance  2022-11-10T18:46:30.564       0.3790  0.0001          0.000115\n",
       "2  binance  2022-11-10T18:46:33.204       0.3789  0.0001          0.000000\n",
       "3  binance  2022-11-10T18:46:36.296       0.3792  0.0001          0.000141\n",
       "4  binance  2022-11-10T18:46:39.125       0.3792  0.0001          0.000082\n",
       "5  binance  2022-11-10T18:46:41.552       0.3792  0.0001          0.000163\n",
       "6  binance  2022-11-10T18:46:44.021       0.3793  0.0001          0.000115\n",
       "7  binance  2022-11-10T18:46:46.853       0.3793  0.0001          0.000115\n",
       "8  binance  2022-11-10T18:46:49.294       0.3793  0.0001          0.000082\n",
       "9  binance  2022-11-10T18:46:52.011       0.3792  0.0001          0.000082"
      ]
     },
     "execution_count": 131,
     "metadata": {},
     "output_type": "execute_result"
    }
   ],
   "source": [
    "Roll_X = vs.roll_model(verif_df3, lags).reset_index(drop=True)\n",
    "Roll_X.head(10)"
   ]
  },
  {
   "cell_type": "code",
   "execution_count": 132,
   "metadata": {},
   "outputs": [
    {
     "data": {
      "text/html": [
       "<div>\n",
       "<style scoped>\n",
       "    .dataframe tbody tr th:only-of-type {\n",
       "        vertical-align: middle;\n",
       "    }\n",
       "\n",
       "    .dataframe tbody tr th {\n",
       "        vertical-align: top;\n",
       "    }\n",
       "\n",
       "    .dataframe thead th {\n",
       "        text-align: right;\n",
       "    }\n",
       "</style>\n",
       "<table border=\"1\" class=\"dataframe\">\n",
       "  <thead>\n",
       "    <tr style=\"text-align: right;\">\n",
       "      <th></th>\n",
       "      <th>exchange</th>\n",
       "      <th>timestamp</th>\n",
       "      <th>close_price</th>\n",
       "      <th>spread</th>\n",
       "      <th>effective_spread</th>\n",
       "    </tr>\n",
       "  </thead>\n",
       "  <tbody>\n",
       "    <tr>\n",
       "      <th>45</th>\n",
       "      <td>bytetrade</td>\n",
       "      <td>2022-11-10T18:48:40.582</td>\n",
       "      <td>0.377465</td>\n",
       "      <td>0.039804</td>\n",
       "      <td>0.000128</td>\n",
       "    </tr>\n",
       "    <tr>\n",
       "      <th>46</th>\n",
       "      <td>bytetrade</td>\n",
       "      <td>2022-11-10T18:48:43.308</td>\n",
       "      <td>0.377732</td>\n",
       "      <td>0.039804</td>\n",
       "      <td>0.000091</td>\n",
       "    </tr>\n",
       "    <tr>\n",
       "      <th>47</th>\n",
       "      <td>bytetrade</td>\n",
       "      <td>2022-11-10T18:48:45.752</td>\n",
       "      <td>0.377732</td>\n",
       "      <td>0.039804</td>\n",
       "      <td>0.000139</td>\n",
       "    </tr>\n",
       "    <tr>\n",
       "      <th>48</th>\n",
       "      <td>bytetrade</td>\n",
       "      <td>2022-11-10T18:48:48.677</td>\n",
       "      <td>0.377732</td>\n",
       "      <td>0.039804</td>\n",
       "      <td>0.000128</td>\n",
       "    </tr>\n",
       "    <tr>\n",
       "      <th>49</th>\n",
       "      <td>bytetrade</td>\n",
       "      <td>2022-11-10T18:48:51.801</td>\n",
       "      <td>0.377990</td>\n",
       "      <td>0.039804</td>\n",
       "      <td>0.000139</td>\n",
       "    </tr>\n",
       "    <tr>\n",
       "      <th>50</th>\n",
       "      <td>bytetrade</td>\n",
       "      <td>2022-11-10T18:48:54.450</td>\n",
       "      <td>0.377971</td>\n",
       "      <td>0.039804</td>\n",
       "      <td>0.000024</td>\n",
       "    </tr>\n",
       "    <tr>\n",
       "      <th>51</th>\n",
       "      <td>bytetrade</td>\n",
       "      <td>2022-11-10T18:48:57.144</td>\n",
       "      <td>0.377271</td>\n",
       "      <td>0.039804</td>\n",
       "      <td>0.000126</td>\n",
       "    </tr>\n",
       "    <tr>\n",
       "      <th>52</th>\n",
       "      <td>bytetrade</td>\n",
       "      <td>2022-11-10T18:48:59.544</td>\n",
       "      <td>0.377271</td>\n",
       "      <td>0.039804</td>\n",
       "      <td>0.000255</td>\n",
       "    </tr>\n",
       "    <tr>\n",
       "      <th>53</th>\n",
       "      <td>bytetrade</td>\n",
       "      <td>2022-11-10T18:49:03.211</td>\n",
       "      <td>0.377590</td>\n",
       "      <td>0.039804</td>\n",
       "      <td>0.000250</td>\n",
       "    </tr>\n",
       "    <tr>\n",
       "      <th>54</th>\n",
       "      <td>bytetrade</td>\n",
       "      <td>2022-11-10T18:49:05.701</td>\n",
       "      <td>0.377692</td>\n",
       "      <td>0.039804</td>\n",
       "      <td>0.000263</td>\n",
       "    </tr>\n",
       "  </tbody>\n",
       "</table>\n",
       "</div>"
      ],
      "text/plain": [
       "     exchange                timestamp  close_price    spread  \\\n",
       "45  bytetrade  2022-11-10T18:48:40.582     0.377465  0.039804   \n",
       "46  bytetrade  2022-11-10T18:48:43.308     0.377732  0.039804   \n",
       "47  bytetrade  2022-11-10T18:48:45.752     0.377732  0.039804   \n",
       "48  bytetrade  2022-11-10T18:48:48.677     0.377732  0.039804   \n",
       "49  bytetrade  2022-11-10T18:48:51.801     0.377990  0.039804   \n",
       "50  bytetrade  2022-11-10T18:48:54.450     0.377971  0.039804   \n",
       "51  bytetrade  2022-11-10T18:48:57.144     0.377271  0.039804   \n",
       "52  bytetrade  2022-11-10T18:48:59.544     0.377271  0.039804   \n",
       "53  bytetrade  2022-11-10T18:49:03.211     0.377590  0.039804   \n",
       "54  bytetrade  2022-11-10T18:49:05.701     0.377692  0.039804   \n",
       "\n",
       "    effective_spread  \n",
       "45          0.000128  \n",
       "46          0.000091  \n",
       "47          0.000139  \n",
       "48          0.000128  \n",
       "49          0.000139  \n",
       "50          0.000024  \n",
       "51          0.000126  \n",
       "52          0.000255  \n",
       "53          0.000250  \n",
       "54          0.000263  "
      ]
     },
     "execution_count": 132,
     "metadata": {},
     "output_type": "execute_result"
    }
   ],
   "source": [
    "Roll_X.tail(10)"
   ]
  },
  {
   "cell_type": "markdown",
   "metadata": {},
   "source": [
    "In some cases, Roll's effective spread values don't vary significatly from actual spreads and this would be a sign of a healthy market but only for average traders."
   ]
  },
  {
   "cell_type": "code",
   "execution_count": 133,
   "metadata": {},
   "outputs": [
    {
     "data": {
      "application/vnd.plotly.v1+json": {
       "config": {
        "plotlyServerURL": "https://plot.ly"
       },
       "data": [
        {
         "hovertemplate": "variable=spread<br>exchange=binance<br>timestamp=%{x}<br>value=%{y}<extra></extra>",
         "legendgroup": "spread",
         "line": {
          "color": "#636efa",
          "dash": "solid"
         },
         "marker": {
          "symbol": "circle"
         },
         "mode": "lines",
         "name": "spread",
         "orientation": "v",
         "showlegend": true,
         "type": "scatter",
         "x": [
          "2022-11-10T18:46:28.011000",
          "2022-11-10T18:46:30.564000",
          "2022-11-10T18:46:33.204000",
          "2022-11-10T18:46:36.296000",
          "2022-11-10T18:46:39.125000",
          "2022-11-10T18:46:41.552000",
          "2022-11-10T18:46:44.021000",
          "2022-11-10T18:46:46.853000",
          "2022-11-10T18:46:49.294000",
          "2022-11-10T18:46:52.011000",
          "2022-11-10T18:46:54.488000",
          "2022-11-10T18:46:57.003000",
          "2022-11-10T18:46:59.550000",
          "2022-11-10T18:47:02.669000",
          "2022-11-10T18:47:05.130000"
         ],
         "xaxis": "x3",
         "y": [
          0.00009999999999998899,
          0.00009999999999998899,
          0.00009999999999998899,
          0.00009999999999998899,
          0.0001000000000000445,
          0.0001000000000000445,
          0.0001000000000000445,
          0.00009999999999998899,
          0.00009999999999998899,
          0.0001000000000000445,
          0.0001000000000000445,
          0.0001000000000000445,
          0.0001000000000000445,
          0.0001000000000000445,
          0.0001000000000000445
         ],
         "yaxis": "y3"
        },
        {
         "hovertemplate": "variable=spread<br>exchange=ftx<br>timestamp=%{x}<br>value=%{y}<extra></extra>",
         "legendgroup": "spread",
         "line": {
          "color": "#636efa",
          "dash": "solid"
         },
         "marker": {
          "symbol": "circle"
         },
         "mode": "lines",
         "name": "spread",
         "orientation": "v",
         "showlegend": false,
         "type": "scatter",
         "x": [
          "2022-11-10T18:47:08.192000",
          "2022-11-10T18:47:11.227000",
          "2022-11-10T18:47:14.266000",
          "2022-11-10T18:47:17.333000",
          "2022-11-10T18:47:20.591000",
          "2022-11-10T18:47:23.808000",
          "2022-11-10T18:47:27.012000",
          "2022-11-10T18:47:30.948000",
          "2022-11-10T18:47:34.948000",
          "2022-11-10T18:47:37.556000",
          "2022-11-10T18:47:40.667000",
          "2022-11-10T18:47:43.674000",
          "2022-11-10T18:47:46.469000",
          "2022-11-10T18:47:49.554000",
          "2022-11-10T18:47:52.594000",
          "2022-11-10T18:47:55.877000",
          "2022-11-10T18:47:59.707000",
          "2022-11-10T18:48:03.221000",
          "2022-11-10T18:48:06.721000",
          "2022-11-10T18:48:09.304000"
         ],
         "xaxis": "x2",
         "y": [
          0.0035499999999999976,
          0.0035499999999999976,
          0.0047499999999999765,
          0.004724999999999979,
          0.002475000000000005,
          0.002475000000000005,
          0.002475000000000005,
          0.002475000000000005,
          0.002475000000000005,
          0.002475000000000005,
          0.0024500000000000077,
          0.0024250000000000105,
          0.0024000000000000132,
          0.0024000000000000132,
          0.0024250000000000105,
          0.0024250000000000105,
          0.0024250000000000105,
          0.0024250000000000105,
          0.0024250000000000105,
          0.0024250000000000105
         ],
         "yaxis": "y2"
        },
        {
         "hovertemplate": "variable=spread<br>exchange=bytetrade<br>timestamp=%{x}<br>value=%{y}<extra></extra>",
         "legendgroup": "spread",
         "line": {
          "color": "#636efa",
          "dash": "solid"
         },
         "marker": {
          "symbol": "circle"
         },
         "mode": "lines",
         "name": "spread",
         "orientation": "v",
         "showlegend": false,
         "type": "scatter",
         "x": [
          "2022-11-10T18:48:12.464000",
          "2022-11-10T18:48:15.085000",
          "2022-11-10T18:48:17.802000",
          "2022-11-10T18:48:20.454000",
          "2022-11-10T18:48:22.964000",
          "2022-11-10T18:48:25.745000",
          "2022-11-10T18:48:28.419000",
          "2022-11-10T18:48:30.823000",
          "2022-11-10T18:48:34.378000",
          "2022-11-10T18:48:38.040000",
          "2022-11-10T18:48:40.582000",
          "2022-11-10T18:48:43.308000",
          "2022-11-10T18:48:45.752000",
          "2022-11-10T18:48:48.677000",
          "2022-11-10T18:48:51.801000",
          "2022-11-10T18:48:54.450000",
          "2022-11-10T18:48:57.144000",
          "2022-11-10T18:48:59.544000",
          "2022-11-10T18:49:03.211000",
          "2022-11-10T18:49:05.701000"
         ],
         "xaxis": "x",
         "y": [
          0.039804000000000006,
          0.039804000000000006,
          0.039804000000000006,
          0.039804000000000006,
          0.039804000000000006,
          0.039804000000000006,
          0.039804000000000006,
          0.039804000000000006,
          0.039804000000000006,
          0.039804000000000006,
          0.039804000000000006,
          0.039804000000000006,
          0.039804000000000006,
          0.039804000000000006,
          0.039804000000000006,
          0.039804000000000006,
          0.039804000000000006,
          0.039804000000000006,
          0.039804000000000006,
          0.039804000000000006
         ],
         "yaxis": "y"
        },
        {
         "hovertemplate": "variable=effective_spread<br>exchange=binance<br>timestamp=%{x}<br>value=%{y}<extra></extra>",
         "legendgroup": "effective_spread",
         "line": {
          "color": "#EF553B",
          "dash": "solid"
         },
         "marker": {
          "symbol": "circle"
         },
         "mode": "lines",
         "name": "effective_spread",
         "orientation": "v",
         "showlegend": true,
         "type": "scatter",
         "x": [
          "2022-11-10T18:46:28.011000",
          "2022-11-10T18:46:30.564000",
          "2022-11-10T18:46:33.204000",
          "2022-11-10T18:46:36.296000",
          "2022-11-10T18:46:39.125000",
          "2022-11-10T18:46:41.552000",
          "2022-11-10T18:46:44.021000",
          "2022-11-10T18:46:46.853000",
          "2022-11-10T18:46:49.294000",
          "2022-11-10T18:46:52.011000",
          "2022-11-10T18:46:54.488000",
          "2022-11-10T18:46:57.003000",
          "2022-11-10T18:46:59.550000",
          "2022-11-10T18:47:02.669000",
          "2022-11-10T18:47:05.130000"
         ],
         "xaxis": "x3",
         "y": [
          0.000082,
          0.000115,
          0,
          0.000141,
          0.000082,
          0.000163,
          0.000115,
          0.000115,
          0.000082,
          0.000082,
          0.000115,
          0.000082,
          0.000082,
          0.000082,
          0.000082
         ],
         "yaxis": "y3"
        },
        {
         "hovertemplate": "variable=effective_spread<br>exchange=ftx<br>timestamp=%{x}<br>value=%{y}<extra></extra>",
         "legendgroup": "effective_spread",
         "line": {
          "color": "#EF553B",
          "dash": "solid"
         },
         "marker": {
          "symbol": "circle"
         },
         "mode": "lines",
         "name": "effective_spread",
         "orientation": "v",
         "showlegend": false,
         "type": "scatter",
         "x": [
          "2022-11-10T18:47:08.192000",
          "2022-11-10T18:47:11.227000",
          "2022-11-10T18:47:14.266000",
          "2022-11-10T18:47:17.333000",
          "2022-11-10T18:47:20.591000",
          "2022-11-10T18:47:23.808000",
          "2022-11-10T18:47:27.012000",
          "2022-11-10T18:47:30.948000",
          "2022-11-10T18:47:34.948000",
          "2022-11-10T18:47:37.556000",
          "2022-11-10T18:47:40.667000",
          "2022-11-10T18:47:43.674000",
          "2022-11-10T18:47:46.469000",
          "2022-11-10T18:47:49.554000",
          "2022-11-10T18:47:52.594000",
          "2022-11-10T18:47:55.877000",
          "2022-11-10T18:47:59.707000",
          "2022-11-10T18:48:03.221000",
          "2022-11-10T18:48:06.721000",
          "2022-11-10T18:48:09.304000"
         ],
         "xaxis": "x2",
         "y": [
          0,
          0.00098,
          0.000973,
          0.000976,
          0.000973,
          0.0001,
          0.0001,
          0.0001,
          0.0001,
          0,
          0,
          0,
          0,
          0,
          0,
          0,
          0,
          0,
          0,
          0
         ],
         "yaxis": "y2"
        },
        {
         "hovertemplate": "variable=effective_spread<br>exchange=bytetrade<br>timestamp=%{x}<br>value=%{y}<extra></extra>",
         "legendgroup": "effective_spread",
         "line": {
          "color": "#EF553B",
          "dash": "solid"
         },
         "marker": {
          "symbol": "circle"
         },
         "mode": "lines",
         "name": "effective_spread",
         "orientation": "v",
         "showlegend": false,
         "type": "scatter",
         "x": [
          "2022-11-10T18:48:12.464000",
          "2022-11-10T18:48:15.085000",
          "2022-11-10T18:48:17.802000",
          "2022-11-10T18:48:20.454000",
          "2022-11-10T18:48:22.964000",
          "2022-11-10T18:48:25.745000",
          "2022-11-10T18:48:28.419000",
          "2022-11-10T18:48:30.823000",
          "2022-11-10T18:48:34.378000",
          "2022-11-10T18:48:38.040000",
          "2022-11-10T18:48:40.582000",
          "2022-11-10T18:48:43.308000",
          "2022-11-10T18:48:45.752000",
          "2022-11-10T18:48:48.677000",
          "2022-11-10T18:48:51.801000",
          "2022-11-10T18:48:54.450000",
          "2022-11-10T18:48:57.144000",
          "2022-11-10T18:48:59.544000",
          "2022-11-10T18:49:03.211000",
          "2022-11-10T18:49:05.701000"
         ],
         "xaxis": "x",
         "y": [
          0,
          0.000915,
          0.000919,
          0.000912,
          0.00092,
          0.000123,
          0.000071,
          0.000029,
          0.000098,
          0.00005,
          0.000128,
          0.000091,
          0.000139,
          0.000128,
          0.000139,
          0.000024,
          0.000126,
          0.000255,
          0.00025,
          0.000263
         ],
         "yaxis": "y"
        }
       ],
       "layout": {
        "annotations": [
         {
          "font": {},
          "showarrow": false,
          "text": "exchange=bytetrade",
          "x": 0.5,
          "xanchor": "center",
          "xref": "paper",
          "y": 0.2866666666666666,
          "yanchor": "bottom",
          "yref": "paper"
         },
         {
          "font": {},
          "showarrow": false,
          "text": "exchange=ftx",
          "x": 0.5,
          "xanchor": "center",
          "xref": "paper",
          "y": 0.6433333333333333,
          "yanchor": "bottom",
          "yref": "paper"
         },
         {
          "font": {},
          "showarrow": false,
          "text": "exchange=binance",
          "x": 0.5,
          "xanchor": "center",
          "xref": "paper",
          "y": 0.9999999999999999,
          "yanchor": "bottom",
          "yref": "paper"
         }
        ],
        "legend": {
         "title": {
          "text": "variable"
         },
         "tracegroupgap": 0
        },
        "margin": {
         "t": 60
        },
        "template": {
         "data": {
          "bar": [
           {
            "error_x": {
             "color": "#2a3f5f"
            },
            "error_y": {
             "color": "#2a3f5f"
            },
            "marker": {
             "line": {
              "color": "#E5ECF6",
              "width": 0.5
             },
             "pattern": {
              "fillmode": "overlay",
              "size": 10,
              "solidity": 0.2
             }
            },
            "type": "bar"
           }
          ],
          "barpolar": [
           {
            "marker": {
             "line": {
              "color": "#E5ECF6",
              "width": 0.5
             },
             "pattern": {
              "fillmode": "overlay",
              "size": 10,
              "solidity": 0.2
             }
            },
            "type": "barpolar"
           }
          ],
          "carpet": [
           {
            "aaxis": {
             "endlinecolor": "#2a3f5f",
             "gridcolor": "white",
             "linecolor": "white",
             "minorgridcolor": "white",
             "startlinecolor": "#2a3f5f"
            },
            "baxis": {
             "endlinecolor": "#2a3f5f",
             "gridcolor": "white",
             "linecolor": "white",
             "minorgridcolor": "white",
             "startlinecolor": "#2a3f5f"
            },
            "type": "carpet"
           }
          ],
          "choropleth": [
           {
            "colorbar": {
             "outlinewidth": 0,
             "ticks": ""
            },
            "type": "choropleth"
           }
          ],
          "contour": [
           {
            "colorbar": {
             "outlinewidth": 0,
             "ticks": ""
            },
            "colorscale": [
             [
              0,
              "#0d0887"
             ],
             [
              0.1111111111111111,
              "#46039f"
             ],
             [
              0.2222222222222222,
              "#7201a8"
             ],
             [
              0.3333333333333333,
              "#9c179e"
             ],
             [
              0.4444444444444444,
              "#bd3786"
             ],
             [
              0.5555555555555556,
              "#d8576b"
             ],
             [
              0.6666666666666666,
              "#ed7953"
             ],
             [
              0.7777777777777778,
              "#fb9f3a"
             ],
             [
              0.8888888888888888,
              "#fdca26"
             ],
             [
              1,
              "#f0f921"
             ]
            ],
            "type": "contour"
           }
          ],
          "contourcarpet": [
           {
            "colorbar": {
             "outlinewidth": 0,
             "ticks": ""
            },
            "type": "contourcarpet"
           }
          ],
          "heatmap": [
           {
            "colorbar": {
             "outlinewidth": 0,
             "ticks": ""
            },
            "colorscale": [
             [
              0,
              "#0d0887"
             ],
             [
              0.1111111111111111,
              "#46039f"
             ],
             [
              0.2222222222222222,
              "#7201a8"
             ],
             [
              0.3333333333333333,
              "#9c179e"
             ],
             [
              0.4444444444444444,
              "#bd3786"
             ],
             [
              0.5555555555555556,
              "#d8576b"
             ],
             [
              0.6666666666666666,
              "#ed7953"
             ],
             [
              0.7777777777777778,
              "#fb9f3a"
             ],
             [
              0.8888888888888888,
              "#fdca26"
             ],
             [
              1,
              "#f0f921"
             ]
            ],
            "type": "heatmap"
           }
          ],
          "heatmapgl": [
           {
            "colorbar": {
             "outlinewidth": 0,
             "ticks": ""
            },
            "colorscale": [
             [
              0,
              "#0d0887"
             ],
             [
              0.1111111111111111,
              "#46039f"
             ],
             [
              0.2222222222222222,
              "#7201a8"
             ],
             [
              0.3333333333333333,
              "#9c179e"
             ],
             [
              0.4444444444444444,
              "#bd3786"
             ],
             [
              0.5555555555555556,
              "#d8576b"
             ],
             [
              0.6666666666666666,
              "#ed7953"
             ],
             [
              0.7777777777777778,
              "#fb9f3a"
             ],
             [
              0.8888888888888888,
              "#fdca26"
             ],
             [
              1,
              "#f0f921"
             ]
            ],
            "type": "heatmapgl"
           }
          ],
          "histogram": [
           {
            "marker": {
             "pattern": {
              "fillmode": "overlay",
              "size": 10,
              "solidity": 0.2
             }
            },
            "type": "histogram"
           }
          ],
          "histogram2d": [
           {
            "colorbar": {
             "outlinewidth": 0,
             "ticks": ""
            },
            "colorscale": [
             [
              0,
              "#0d0887"
             ],
             [
              0.1111111111111111,
              "#46039f"
             ],
             [
              0.2222222222222222,
              "#7201a8"
             ],
             [
              0.3333333333333333,
              "#9c179e"
             ],
             [
              0.4444444444444444,
              "#bd3786"
             ],
             [
              0.5555555555555556,
              "#d8576b"
             ],
             [
              0.6666666666666666,
              "#ed7953"
             ],
             [
              0.7777777777777778,
              "#fb9f3a"
             ],
             [
              0.8888888888888888,
              "#fdca26"
             ],
             [
              1,
              "#f0f921"
             ]
            ],
            "type": "histogram2d"
           }
          ],
          "histogram2dcontour": [
           {
            "colorbar": {
             "outlinewidth": 0,
             "ticks": ""
            },
            "colorscale": [
             [
              0,
              "#0d0887"
             ],
             [
              0.1111111111111111,
              "#46039f"
             ],
             [
              0.2222222222222222,
              "#7201a8"
             ],
             [
              0.3333333333333333,
              "#9c179e"
             ],
             [
              0.4444444444444444,
              "#bd3786"
             ],
             [
              0.5555555555555556,
              "#d8576b"
             ],
             [
              0.6666666666666666,
              "#ed7953"
             ],
             [
              0.7777777777777778,
              "#fb9f3a"
             ],
             [
              0.8888888888888888,
              "#fdca26"
             ],
             [
              1,
              "#f0f921"
             ]
            ],
            "type": "histogram2dcontour"
           }
          ],
          "mesh3d": [
           {
            "colorbar": {
             "outlinewidth": 0,
             "ticks": ""
            },
            "type": "mesh3d"
           }
          ],
          "parcoords": [
           {
            "line": {
             "colorbar": {
              "outlinewidth": 0,
              "ticks": ""
             }
            },
            "type": "parcoords"
           }
          ],
          "pie": [
           {
            "automargin": true,
            "type": "pie"
           }
          ],
          "scatter": [
           {
            "marker": {
             "colorbar": {
              "outlinewidth": 0,
              "ticks": ""
             }
            },
            "type": "scatter"
           }
          ],
          "scatter3d": [
           {
            "line": {
             "colorbar": {
              "outlinewidth": 0,
              "ticks": ""
             }
            },
            "marker": {
             "colorbar": {
              "outlinewidth": 0,
              "ticks": ""
             }
            },
            "type": "scatter3d"
           }
          ],
          "scattercarpet": [
           {
            "marker": {
             "colorbar": {
              "outlinewidth": 0,
              "ticks": ""
             }
            },
            "type": "scattercarpet"
           }
          ],
          "scattergeo": [
           {
            "marker": {
             "colorbar": {
              "outlinewidth": 0,
              "ticks": ""
             }
            },
            "type": "scattergeo"
           }
          ],
          "scattergl": [
           {
            "marker": {
             "colorbar": {
              "outlinewidth": 0,
              "ticks": ""
             }
            },
            "type": "scattergl"
           }
          ],
          "scattermapbox": [
           {
            "marker": {
             "colorbar": {
              "outlinewidth": 0,
              "ticks": ""
             }
            },
            "type": "scattermapbox"
           }
          ],
          "scatterpolar": [
           {
            "marker": {
             "colorbar": {
              "outlinewidth": 0,
              "ticks": ""
             }
            },
            "type": "scatterpolar"
           }
          ],
          "scatterpolargl": [
           {
            "marker": {
             "colorbar": {
              "outlinewidth": 0,
              "ticks": ""
             }
            },
            "type": "scatterpolargl"
           }
          ],
          "scatterternary": [
           {
            "marker": {
             "colorbar": {
              "outlinewidth": 0,
              "ticks": ""
             }
            },
            "type": "scatterternary"
           }
          ],
          "surface": [
           {
            "colorbar": {
             "outlinewidth": 0,
             "ticks": ""
            },
            "colorscale": [
             [
              0,
              "#0d0887"
             ],
             [
              0.1111111111111111,
              "#46039f"
             ],
             [
              0.2222222222222222,
              "#7201a8"
             ],
             [
              0.3333333333333333,
              "#9c179e"
             ],
             [
              0.4444444444444444,
              "#bd3786"
             ],
             [
              0.5555555555555556,
              "#d8576b"
             ],
             [
              0.6666666666666666,
              "#ed7953"
             ],
             [
              0.7777777777777778,
              "#fb9f3a"
             ],
             [
              0.8888888888888888,
              "#fdca26"
             ],
             [
              1,
              "#f0f921"
             ]
            ],
            "type": "surface"
           }
          ],
          "table": [
           {
            "cells": {
             "fill": {
              "color": "#EBF0F8"
             },
             "line": {
              "color": "white"
             }
            },
            "header": {
             "fill": {
              "color": "#C8D4E3"
             },
             "line": {
              "color": "white"
             }
            },
            "type": "table"
           }
          ]
         },
         "layout": {
          "annotationdefaults": {
           "arrowcolor": "#2a3f5f",
           "arrowhead": 0,
           "arrowwidth": 1
          },
          "autotypenumbers": "strict",
          "coloraxis": {
           "colorbar": {
            "outlinewidth": 0,
            "ticks": ""
           }
          },
          "colorscale": {
           "diverging": [
            [
             0,
             "#8e0152"
            ],
            [
             0.1,
             "#c51b7d"
            ],
            [
             0.2,
             "#de77ae"
            ],
            [
             0.3,
             "#f1b6da"
            ],
            [
             0.4,
             "#fde0ef"
            ],
            [
             0.5,
             "#f7f7f7"
            ],
            [
             0.6,
             "#e6f5d0"
            ],
            [
             0.7,
             "#b8e186"
            ],
            [
             0.8,
             "#7fbc41"
            ],
            [
             0.9,
             "#4d9221"
            ],
            [
             1,
             "#276419"
            ]
           ],
           "sequential": [
            [
             0,
             "#0d0887"
            ],
            [
             0.1111111111111111,
             "#46039f"
            ],
            [
             0.2222222222222222,
             "#7201a8"
            ],
            [
             0.3333333333333333,
             "#9c179e"
            ],
            [
             0.4444444444444444,
             "#bd3786"
            ],
            [
             0.5555555555555556,
             "#d8576b"
            ],
            [
             0.6666666666666666,
             "#ed7953"
            ],
            [
             0.7777777777777778,
             "#fb9f3a"
            ],
            [
             0.8888888888888888,
             "#fdca26"
            ],
            [
             1,
             "#f0f921"
            ]
           ],
           "sequentialminus": [
            [
             0,
             "#0d0887"
            ],
            [
             0.1111111111111111,
             "#46039f"
            ],
            [
             0.2222222222222222,
             "#7201a8"
            ],
            [
             0.3333333333333333,
             "#9c179e"
            ],
            [
             0.4444444444444444,
             "#bd3786"
            ],
            [
             0.5555555555555556,
             "#d8576b"
            ],
            [
             0.6666666666666666,
             "#ed7953"
            ],
            [
             0.7777777777777778,
             "#fb9f3a"
            ],
            [
             0.8888888888888888,
             "#fdca26"
            ],
            [
             1,
             "#f0f921"
            ]
           ]
          },
          "colorway": [
           "#636efa",
           "#EF553B",
           "#00cc96",
           "#ab63fa",
           "#FFA15A",
           "#19d3f3",
           "#FF6692",
           "#B6E880",
           "#FF97FF",
           "#FECB52"
          ],
          "font": {
           "color": "#2a3f5f"
          },
          "geo": {
           "bgcolor": "white",
           "lakecolor": "white",
           "landcolor": "#E5ECF6",
           "showlakes": true,
           "showland": true,
           "subunitcolor": "white"
          },
          "hoverlabel": {
           "align": "left"
          },
          "hovermode": "closest",
          "mapbox": {
           "style": "light"
          },
          "paper_bgcolor": "white",
          "plot_bgcolor": "#E5ECF6",
          "polar": {
           "angularaxis": {
            "gridcolor": "white",
            "linecolor": "white",
            "ticks": ""
           },
           "bgcolor": "#E5ECF6",
           "radialaxis": {
            "gridcolor": "white",
            "linecolor": "white",
            "ticks": ""
           }
          },
          "scene": {
           "xaxis": {
            "backgroundcolor": "#E5ECF6",
            "gridcolor": "white",
            "gridwidth": 2,
            "linecolor": "white",
            "showbackground": true,
            "ticks": "",
            "zerolinecolor": "white"
           },
           "yaxis": {
            "backgroundcolor": "#E5ECF6",
            "gridcolor": "white",
            "gridwidth": 2,
            "linecolor": "white",
            "showbackground": true,
            "ticks": "",
            "zerolinecolor": "white"
           },
           "zaxis": {
            "backgroundcolor": "#E5ECF6",
            "gridcolor": "white",
            "gridwidth": 2,
            "linecolor": "white",
            "showbackground": true,
            "ticks": "",
            "zerolinecolor": "white"
           }
          },
          "shapedefaults": {
           "line": {
            "color": "#2a3f5f"
           }
          },
          "ternary": {
           "aaxis": {
            "gridcolor": "white",
            "linecolor": "white",
            "ticks": ""
           },
           "baxis": {
            "gridcolor": "white",
            "linecolor": "white",
            "ticks": ""
           },
           "bgcolor": "#E5ECF6",
           "caxis": {
            "gridcolor": "white",
            "linecolor": "white",
            "ticks": ""
           }
          },
          "title": {
           "x": 0.05
          },
          "xaxis": {
           "automargin": true,
           "gridcolor": "white",
           "linecolor": "white",
           "ticks": "",
           "title": {
            "standoff": 15
           },
           "zerolinecolor": "white",
           "zerolinewidth": 2
          },
          "yaxis": {
           "automargin": true,
           "gridcolor": "white",
           "linecolor": "white",
           "ticks": "",
           "title": {
            "standoff": 15
           },
           "zerolinecolor": "white",
           "zerolinewidth": 2
          }
         }
        },
        "title": {
         "font": {
          "size": 15
         },
         "text": "Spreads of XRP/USDT:"
        },
        "xaxis": {
         "anchor": "y",
         "domain": [
          0,
          1
         ],
         "title": {
          "text": "timestamp"
         }
        },
        "xaxis2": {
         "anchor": "y2",
         "domain": [
          0,
          1
         ],
         "matches": "x",
         "showticklabels": false
        },
        "xaxis3": {
         "anchor": "y3",
         "domain": [
          0,
          1
         ],
         "matches": "x",
         "showticklabels": false
        },
        "yaxis": {
         "anchor": "x",
         "domain": [
          0,
          0.2866666666666666
         ],
         "title": {
          "text": "value"
         }
        },
        "yaxis2": {
         "anchor": "x2",
         "domain": [
          0.35666666666666663,
          0.6433333333333333
         ],
         "matches": "y",
         "title": {
          "text": "value"
         }
        },
        "yaxis3": {
         "anchor": "x3",
         "domain": [
          0.7133333333333333,
          0.9999999999999999
         ],
         "matches": "y",
         "title": {
          "text": "value"
         }
        }
       }
      }
     },
     "metadata": {},
     "output_type": "display_data"
    }
   ],
   "source": [
    "vs.Roll_plot(Roll_X, criptos[2], 'Spreads of')"
   ]
  },
  {
   "cell_type": "markdown",
   "metadata": {},
   "source": [
    "### <font color= orange> <font size = 2> **Note:** *Conclusions contained in dataframes and plot descriptions* </font>\n",
    "\n"
   ]
  },
  {
   "cell_type": "markdown",
   "metadata": {},
   "source": [
    "### <font color= orange> <font size = 5> 5. Bibliography: </font>\n",
    "\n",
    "<font color= lightgray>\n",
    "\n",
    "+ Villalobos, O, 2021. **Python Project Template**. Available at: https://github.com/OmarVillalobos/python-project. \n",
    "(Accessed: November 5, 2022). \n",
    "\n",
    "+ Financial Engineering, **Marketmicrostructure.pptx**. ITESO -  Microstructure and Trading Systems (ITE1731 - DMAF). \n",
    "Available at: https://docs.google.com/presentation/d/1uYyMERKKGeZ0MPqbJ3bcir9lfpzbeAH9ZMmxbYysokQ/edit?usp=sharing (Accessed: November 5, 2022). \n",
    "\n",
    "+ Muñoz E., J **Roll Model** *(spanish)*. ITESO - (ITE1731 - DMAF) Available at: https://github.com/EstebanMqz/MyST_LAB_4/blob/main/Roll%20.pdf (Accessed: November 5, 2022).\n",
    "\n",
    "+ Muñoz E., J **Asset Pricing Theory** *(spanish)*. ITESO - (ITE1731 - DMAF) Available at: https://github.com/EstebanMqz/MyST_LAB_4/blob/main/APT.pdf (Accessed: November 5, 2022). "
   ]
  }
 ],
 "metadata": {
  "kernelspec": {
   "display_name": "base",
   "language": "python",
   "name": "python3"
  },
  "language_info": {
   "codemirror_mode": {
    "name": "ipython",
    "version": 3
   },
   "file_extension": ".py",
   "mimetype": "text/x-python",
   "name": "python",
   "nbconvert_exporter": "python",
   "pygments_lexer": "ipython3",
   "version": "3.8.13"
  },
  "toc": {
   "base_numbering": 1,
   "nav_menu": {},
   "number_sections": true,
   "sideBar": true,
   "skip_h1_title": false,
   "title_cell": "Table of Contents",
   "title_sidebar": "Contents",
   "toc_cell": false,
   "toc_position": {},
   "toc_section_display": true,
   "toc_window_display": false
  },
  "vscode": {
   "interpreter": {
    "hash": "ad2bdc8ecc057115af97d19610ffacc2b4e99fae6737bb82f5d7fb13d2f2c186"
   }
  }
 },
 "nbformat": 4,
 "nbformat_minor": 2
}
