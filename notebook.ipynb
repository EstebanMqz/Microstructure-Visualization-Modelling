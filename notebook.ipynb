{
 "cells": [
  {
   "cell_type": "markdown",
   "metadata": {},
   "source": [
    "\n",
    "    \n",
    "    \n",
    "## <H2 align=\"center\"> <font color='white'> **MAF1731B**: Microstructure and Trading Systems </H2>\n",
    "\n",
    "### <H3 align=\"center\"> <font color='white'> **Laboratory 4**: Market Microstructure </H3>\n",
    "\n",
    " <H5 align=\"center\"> <em> Professor: Villalobos Ramos Omar Antonio <em>\n",
    "\n",
    " <p align=\"center\"> <img style=\" margin: 30px 15px 15px 15px;\" src=\"https://pngimage.net/wp-content/uploads/2018/06/logo-iteso-png-5.png\" width=\"350\" height=\"150\" /> \n",
    "\n",
    " <strong> <H5 align=\"left\"> Student:\n",
    "Esteban Márquez Delgado <strong>\n",
    "\n",
    " *Registry*:\n",
    "if700637: https://github.com/EstebanMqz/MyST_LAB_4\n",
    "\n",
    " <center> <font color= #555555> <font size = 4> November 2022 </a> <font color= #555555> <font size = 4> </a></font>"
   ]
  },
  {
   "cell_type": "markdown",
   "metadata": {},
   "source": [
    "<hr style=\"border:0.02in solid gray\"> </hr>"
   ]
  },
  {
   "cell_type": "markdown",
   "metadata": {},
   "source": [
    "<center> <font color= #555555> <font size = 6> Laboratory 4 </font> <br> <br> <font color= #555555> <font size = 5> Market Microstructure  </font>"
   ]
  },
  {
   "cell_type": "markdown",
   "metadata": {},
   "source": [
    "<hr style=\"border:0.02in solid gray\"> </hr>"
   ]
  },
  {
   "cell_type": "markdown",
   "metadata": {},
   "source": [
    "### <font color= #555555> <font size = 4> Abstract </font>"
   ]
  },
  {
   "cell_type": "markdown",
   "metadata": {},
   "source": [
    "This document was prepared as delivery for Laboratory 4 of Microstructure and Trading Systems - MAF1731B class during the Autumn 2022 course at ITESO for the Bachelor of Financial Engineering. In order to analyze the market microstructure in criptocurrencies markets containing the following 3 sections:\n",
    "\n",
    "1. **Consume CCXT data**: Download Criptocurrencies Order Books from exchanges (kraken, ftx, currencycom, coinmate, etc).\n",
    "\n",
    "2. **Microstructure Visualization**: Build Time Series using the Order Books obtained in the previous point from the following elements of the Market Microstructure for each asset and exchange (Levels, Bid Volume, Ask Volume, Total Volume, Mid Price, VWAP.)\n",
    "\n",
    "3. **Microstructure Modeling**: Estimation of Roll Effective Spread using the lagged series at t-5.\n",
    "\n"
   ]
  },
  {
   "cell_type": "markdown",
   "metadata": {},
   "source": [
    "<font color= lightblue> <font size = 4> 0. Libraries and Dependencies: </font>\n",
    "\n",
    "<font color= gray>\n",
    "\n",
    "**Note**: To run this notebook it is necessary to have the following libraries contained in the [requirements.txt](https://github.com/EstebanMqz/MyST_LAB_4/blob/main/requirements.txt) script of this project.\n",
    "\n",
    "To install the libraries in the script run the following cell:"
   ]
  },
  {
   "cell_type": "code",
   "execution_count": 252,
   "metadata": {},
   "outputs": [
    {
     "name": "stderr",
     "output_type": "stream",
     "text": [
      "WARNING: Ignoring invalid distribution -rl (c:\\programdata\\anaconda3\\lib\\site-packages)\n",
      "WARNING: Ignoring invalid distribution -inance (c:\\programdata\\anaconda3\\lib\\site-packages)\n",
      "WARNING: Ignoring invalid distribution -ywinpty (c:\\programdata\\anaconda3\\lib\\site-packages)\n",
      "WARNING: Ignoring invalid distribution -rl (c:\\programdata\\anaconda3\\lib\\site-packages)\n",
      "WARNING: Ignoring invalid distribution -finance (c:\\programdata\\anaconda3\\lib\\site-packages)\n",
      "WARNING: Ignoring invalid distribution - (c:\\programdata\\anaconda3\\lib\\site-packages)\n",
      "WARNING: Ignoring invalid distribution -arl (c:\\programdata\\anaconda3\\lib\\site-packages)"
     ]
    },
    {
     "name": "stderr",
     "output_type": "stream",
     "text": [
      "\n",
      "ERROR: Invalid requirement: '\"\"\"' (from line 1 of requirements.txt)\n",
      "WARNING: Ignoring invalid distribution -rl (c:\\programdata\\anaconda3\\lib\\site-packages)\n",
      "WARNING: Ignoring invalid distribution -inance (c:\\programdata\\anaconda3\\lib\\site-packages)\n",
      "WARNING: Ignoring invalid distribution -ywinpty (c:\\programdata\\anaconda3\\lib\\site-packages)\n",
      "WARNING: Ignoring invalid distribution -rl (c:\\programdata\\anaconda3\\lib\\site-packages)\n",
      "WARNING: Ignoring invalid distribution -finance (c:\\programdata\\anaconda3\\lib\\site-packages)\n",
      "WARNING: Ignoring invalid distribution - (c:\\programdata\\anaconda3\\lib\\site-packages)\n",
      "WARNING: Ignoring invalid distribution -arl (c:\\programdata\\anaconda3\\lib\\site-packages)\n",
      "WARNING: Ignoring invalid distribution -rl (c:\\programdata\\anaconda3\\lib\\site-packages)\n",
      "WARNING: Ignoring invalid distribution -inance (c:\\programdata\\anaconda3\\lib\\site-packages)\n",
      "WARNING: Ignoring invalid distribution -ywinpty (c:\\programdata\\anaconda3\\lib\\site-packages)\n",
      "WARNING: Ignoring invalid distribution -rl (c:\\programdata\\anaconda3\\lib\\site-packages)\n",
      "WARNING: Ignoring invalid distribution -finance (c:\\programdata\\anaconda3\\lib\\site-packages)\n",
      "WARNING: Ignoring invalid distribution - (c:\\programdata\\anaconda3\\lib\\site-packages)\n",
      "WARNING: Ignoring invalid distribution -arl (c:\\programdata\\anaconda3\\lib\\site-packages)\n",
      "WARNING: Ignoring invalid distribution -rl (c:\\programdata\\anaconda3\\lib\\site-packages)\n",
      "WARNING: Ignoring invalid distribution -inance (c:\\programdata\\anaconda3\\lib\\site-packages)\n",
      "WARNING: Ignoring invalid distribution -ywinpty (c:\\programdata\\anaconda3\\lib\\site-packages)\n",
      "WARNING: Ignoring invalid distribution -rl (c:\\programdata\\anaconda3\\lib\\site-packages)\n",
      "WARNING: Ignoring invalid distribution -finance (c:\\programdata\\anaconda3\\lib\\site-packages)\n",
      "WARNING: Ignoring invalid distribution - (c:\\programdata\\anaconda3\\lib\\site-packages)\n",
      "WARNING: Ignoring invalid distribution -arl (c:\\programdata\\anaconda3\\lib\\site-packages)\n"
     ]
    }
   ],
   "source": [
    "!pip install -r requirements.txt"
   ]
  },
  {
   "cell_type": "markdown",
   "metadata": {},
   "source": [
    "If you prefer, manual installation can be done with the individual installation of the following libraries:\n",
    "\n",
    "<font color= lightblue> <font size = 1> \n",
    "+ pandas >= 1.3.4\n",
    "+ numpy >= 1.19.1\n",
    "+ jupyter >= 1.0.0\n",
    "+ chart_studio >= 1.1\n",
    "+ plotly >= 4.14\n",
    "+ logging >= 3.11\n",
    "+ datetime >= 4.7\n",
    "+ pandas_datareader >= 0.10.0\n",
    "+ tk >= 0.10\n",
    "+ random >= 3.11\n",
    "+ plotly >= 5.60\n",
    "+ yahoofinancials >= 1.60\n",
    "+ scipy >= 1.7.3\n",
    "+ regex >= 2022.3.15\n",
    "+ matplotlib >= 3.5.1\n",
    "+ fire >= 0.4.0\n",
    "+ ccxt >= 2.1.33\n",
    "+ time >= 3.11 \n"
   ]
  },
  {
   "cell_type": "markdown",
   "metadata": {},
   "source": [
    "### <font color= lightblue> <font size = 4> 0.1 Introduction: </font>\n",
    "In this laboratory we will use information from the Cryptocurrency Order Book of various international exchanges, with the primary objective of visualizing and modeling the microstructure of the market through the behavior of the Order Book and its characteristics such as; Matching Engine, Levels, Ask-Bid Volumes, etc.\n",
    "<font color= gray>\n",
    "\n",
    "\n"
   ]
  },
  {
   "cell_type": "markdown",
   "metadata": {},
   "source": [
    "##### *General help:*\n",
    "<font color= lightgreen> **Note**: Progress checks titles in sections highlighted. <font color= white>\n",
    "\n",
    "In order, to retrieve specific help from the scripts tree in the project execute the help function on the script or in specific modules from the following:\n",
    "+ [data.py](https://github.com/EstebanMqz/MyST_LAB_4/blob/main/data.py)\n",
    "+ [functions.py](https://github.com/EstebanMqz/MyST_LAB_4/blob/main/functions.py)\n",
    "+ [visualizations.py](https://github.com/EstebanMqz/MyST_LAB_4/blob/main/visualizations.py)"
   ]
  },
  {
   "cell_type": "code",
   "execution_count": 2,
   "metadata": {},
   "outputs": [],
   "source": [
    "## Libraries\n",
    "import pandas as pd # Analysis and data management\n",
    "import pandas_datareader as pdr\n",
    "import pandas_datareader.data as web #Data extraction from the web\n",
    "import numpy as np\n",
    "from datetime import datetime, timedelta, date\n",
    "from tkinter.ttk import Style\n",
    "from tkinter import Y\n",
    "import random as rand\n",
    "import plotly.graph_objects as go #Plotly\n",
    "import plotly.express as px\n",
    "import warnings\n",
    "from yahoofinancials import YahooFinancials # Yfinance \n",
    "import warnings\n",
    "import yfinance as yf\n",
    "import ccxt #Criptocurrencies\n",
    "import logging as log #Exchanges \n",
    "from scipy.optimize import minimize # Optimization \n",
    "from collections import Counter #Counter\n",
    "import time\n",
    "import re\n",
    "import io \n",
    "import glob\n",
    "import os\n",
    "#.Py archives in repo\n",
    "import functions as fn \n",
    "import visualizations as vs\n",
    "import data as dt\n",
    "from os import path\n",
    "import fire\n",
    "%matplotlib inline"
   ]
  },
  {
   "cell_type": "markdown",
   "metadata": {},
   "source": [
    "<font color= orange> <font size = 5> 1. Consume CCXT data: </font>"
   ]
  },
  {
   "cell_type": "markdown",
   "metadata": {},
   "source": [
    "In order to know the exchanges avaliable in CCTX module in Python for Criptocurrencies data download, the following getattr function *find_exchanges* is executed:"
   ]
  },
  {
   "cell_type": "code",
   "execution_count": 3,
   "metadata": {},
   "outputs": [
    {
     "name": "stdout",
     "output_type": "stream",
     "text": [
      "Help on function find_exchanges in module functions:\n",
      "\n",
      "find_exchanges(features=None, is_authenticated=False)\n",
      "    Function that returns avaliable cryptocurrencies exchanges in Python for CCTX module.\n",
      "    \n",
      "        Parameters:\n",
      "        ----------\n",
      "        features: None \n",
      "        is_authenticated: None \n",
      "    \n",
      "        Returns:\n",
      "        -------\n",
      "        exchange_names: Array of authenticated exchanges avaliable in CCTX.\n",
      "\n"
     ]
    }
   ],
   "source": [
    "help(fn.find_exchanges)"
   ]
  },
  {
   "cell_type": "markdown",
   "metadata": {},
   "source": [
    "From all the 120 exchanges avaliable we pick **binance**, **ftx** and **bytetrade** because of their fast fetching."
   ]
  },
  {
   "cell_type": "code",
   "execution_count": 4,
   "metadata": {},
   "outputs": [
    {
     "data": {
      "text/plain": [
       "['aax',\n",
       " 'alpaca',\n",
       " 'ascendex',\n",
       " 'bequant',\n",
       " 'bibox',\n",
       " 'bigone',\n",
       " 'binance',\n",
       " 'binancecoinm',\n",
       " 'binanceus',\n",
       " 'binanceusdm',\n",
       " 'bit2c',\n",
       " 'bitbank',\n",
       " 'bitbay',\n",
       " 'bitbns',\n",
       " 'bitcoincom',\n",
       " 'bitfinex',\n",
       " 'bitfinex2',\n",
       " 'bitflyer',\n",
       " 'bitforex',\n",
       " 'bitget',\n",
       " 'bithumb',\n",
       " 'bitmart',\n",
       " 'bitmex',\n",
       " 'bitopro',\n",
       " 'bitpanda',\n",
       " 'bitrue',\n",
       " 'bitso',\n",
       " 'bitstamp',\n",
       " 'bitstamp1',\n",
       " 'bittrex',\n",
       " 'bitvavo',\n",
       " 'bkex',\n",
       " 'bl3p',\n",
       " 'blockchaincom',\n",
       " 'btcalpha',\n",
       " 'btcbox',\n",
       " 'btcex',\n",
       " 'btcmarkets',\n",
       " 'btctradeua',\n",
       " 'btcturk',\n",
       " 'buda',\n",
       " 'bw',\n",
       " 'bybit',\n",
       " 'bytetrade',\n",
       " 'cex',\n",
       " 'coinbase',\n",
       " 'coinbaseprime',\n",
       " 'coinbasepro',\n",
       " 'coincheck',\n",
       " 'coinex',\n",
       " 'coinfalcon',\n",
       " 'coinmate',\n",
       " 'coinone',\n",
       " 'coinspot',\n",
       " 'crex24',\n",
       " 'cryptocom',\n",
       " 'currencycom',\n",
       " 'delta',\n",
       " 'deribit',\n",
       " 'digifinex',\n",
       " 'exmo',\n",
       " 'flowbtc',\n",
       " 'fmfwio',\n",
       " 'ftx',\n",
       " 'ftxus',\n",
       " 'gate',\n",
       " 'gateio',\n",
       " 'gemini',\n",
       " 'hitbtc',\n",
       " 'hitbtc3',\n",
       " 'hollaex',\n",
       " 'huobi',\n",
       " 'huobijp',\n",
       " 'huobipro',\n",
       " 'idex',\n",
       " 'independentreserve',\n",
       " 'indodax',\n",
       " 'itbit',\n",
       " 'kraken',\n",
       " 'kucoin',\n",
       " 'kucoinfutures',\n",
       " 'kuna',\n",
       " 'latoken',\n",
       " 'lbank',\n",
       " 'lbank2',\n",
       " 'liquid',\n",
       " 'luno',\n",
       " 'lykke',\n",
       " 'mercado',\n",
       " 'mexc',\n",
       " 'mexc3',\n",
       " 'ndax',\n",
       " 'novadax',\n",
       " 'oceanex',\n",
       " 'okcoin',\n",
       " 'okex',\n",
       " 'okex5',\n",
       " 'okx',\n",
       " 'paymium',\n",
       " 'phemex',\n",
       " 'poloniex',\n",
       " 'probit',\n",
       " 'qtrade',\n",
       " 'ripio',\n",
       " 'stex',\n",
       " 'therock',\n",
       " 'tidebit',\n",
       " 'tidex',\n",
       " 'timex',\n",
       " 'tokocrypto',\n",
       " 'upbit',\n",
       " 'wavesexchange',\n",
       " 'wazirx',\n",
       " 'whitebit',\n",
       " 'woo',\n",
       " 'yobit',\n",
       " 'zaif',\n",
       " 'zb',\n",
       " 'zipmex',\n",
       " 'zonda']"
      ]
     },
     "execution_count": 4,
     "metadata": {},
     "output_type": "execute_result"
    }
   ],
   "source": [
    "#Available exchanges in CCTX\n",
    "fn.find_exchanges()[:] #len 120"
   ]
  },
  {
   "cell_type": "markdown",
   "metadata": {},
   "source": [
    "Now that we have selected the exchanges, we pick random criptocurrencies and verify that they are all avaliable in their platform."
   ]
  },
  {
   "cell_type": "code",
   "execution_count": 5,
   "metadata": {},
   "outputs": [],
   "source": [
    "exchanges= ['binance','ftx', 'bytetrade'] #Selected exchanges from list (can't modify because of fn and vs .py)\n",
    "criptos = ['BTC/USDT','ETH/USDT','XRP/USDT'] #Criptos OBs (modify tickers here)"
   ]
  },
  {
   "cell_type": "markdown",
   "metadata": {},
   "source": [
    "<font color= lightblue> <font size = 4> Order Book Levels & OHLCV for 3 exchanges and Criptos: </font>"
   ]
  },
  {
   "cell_type": "markdown",
   "metadata": {},
   "source": [
    "Now we proceed to download Single Order Books from exchanges for criptocurrencies."
   ]
  },
  {
   "cell_type": "code",
   "execution_count": 6,
   "metadata": {},
   "outputs": [
    {
     "name": "stdout",
     "output_type": "stream",
     "text": [
      "Help on function cctx_download in module visualizations:\n",
      "\n",
      "cctx_download(lvls, cripto, exchange)\n",
      "    Function that returns prices and quantities of given levels (as integer) Bids & Asks in an Orderbook\n",
      "    for the specified criptocurrency ('BTC/USDT','ETH/USDT','XRP/USDT', or others) and\n",
      "    from the following exchanges: binance, ftx or ascendex (as string).\n",
      "    \n",
      "        Parameters:\n",
      "        ----------\n",
      "        lvls: Levels of bids/asks in the Order Book (int).\n",
      "        cripto: Criptocurrency downloadable symbol (str).\n",
      "        exchanges: Criptocurrency downloadable Exchange (str).\n",
      "    \n",
      "        Returns:\n",
      "        -------\n",
      "        levels_ob_bid: Prices and Quantities of Bids (pos [0]) and Asks (pos [1]) as dataframes.\n",
      "\n"
     ]
    }
   ],
   "source": [
    "help(vs.cctx_download)"
   ]
  },
  {
   "cell_type": "markdown",
   "metadata": {},
   "source": [
    "We get n=25 levels for each OB, and proceed to download criptos and exchanges from their lists [0:2] (9).\n",
    "\n",
    "We will start with binance and BTC/USDT."
   ]
  },
  {
   "cell_type": "code",
   "execution_count": 7,
   "metadata": {},
   "outputs": [
    {
     "data": {
      "text/plain": [
       "(25, 'BTC/USDT', 'binance')"
      ]
     },
     "execution_count": 7,
     "metadata": {},
     "output_type": "execute_result"
    }
   ],
   "source": [
    "params= 25, criptos[0], exchanges[0]\n",
    "params"
   ]
  },
  {
   "cell_type": "markdown",
   "metadata": {},
   "source": [
    "+ <font color= lightgray> <font size = 2> *Bids*: </font>"
   ]
  },
  {
   "cell_type": "code",
   "execution_count": 8,
   "metadata": {},
   "outputs": [
    {
     "data": {
      "text/html": [
       "<div>\n",
       "<style scoped>\n",
       "    .dataframe tbody tr th:only-of-type {\n",
       "        vertical-align: middle;\n",
       "    }\n",
       "\n",
       "    .dataframe tbody tr th {\n",
       "        vertical-align: top;\n",
       "    }\n",
       "\n",
       "    .dataframe thead th {\n",
       "        text-align: right;\n",
       "    }\n",
       "</style>\n",
       "<table border=\"1\" class=\"dataframe\">\n",
       "  <thead>\n",
       "    <tr style=\"text-align: right;\">\n",
       "      <th></th>\n",
       "      <th>price</th>\n",
       "      <th>quantity</th>\n",
       "    </tr>\n",
       "    <tr>\n",
       "      <th>Bid_Lvl</th>\n",
       "      <th></th>\n",
       "      <th></th>\n",
       "    </tr>\n",
       "  </thead>\n",
       "  <tbody>\n",
       "    <tr>\n",
       "      <th>0</th>\n",
       "      <td>16731.58</td>\n",
       "      <td>0.00838</td>\n",
       "    </tr>\n",
       "    <tr>\n",
       "      <th>1</th>\n",
       "      <td>16731.42</td>\n",
       "      <td>0.05000</td>\n",
       "    </tr>\n",
       "    <tr>\n",
       "      <th>2</th>\n",
       "      <td>16730.94</td>\n",
       "      <td>0.00903</td>\n",
       "    </tr>\n",
       "    <tr>\n",
       "      <th>3</th>\n",
       "      <td>16730.93</td>\n",
       "      <td>0.00914</td>\n",
       "    </tr>\n",
       "    <tr>\n",
       "      <th>4</th>\n",
       "      <td>16730.88</td>\n",
       "      <td>0.04736</td>\n",
       "    </tr>\n",
       "  </tbody>\n",
       "</table>\n",
       "</div>"
      ],
      "text/plain": [
       "            price  quantity\n",
       "Bid_Lvl                    \n",
       "0        16731.58   0.00838\n",
       "1        16731.42   0.05000\n",
       "2        16730.94   0.00903\n",
       "3        16730.93   0.00914\n",
       "4        16730.88   0.04736"
      ]
     },
     "execution_count": 8,
     "metadata": {},
     "output_type": "execute_result"
    }
   ],
   "source": [
    "ob_lvls=vs.cctx_download(params[0],params[1], params[2])\n",
    "ob_lvls[0].head()"
   ]
  },
  {
   "cell_type": "markdown",
   "metadata": {},
   "source": [
    "+ <font color= lightgray> <font size = 2> *Asks*: </font>"
   ]
  },
  {
   "cell_type": "code",
   "execution_count": 9,
   "metadata": {},
   "outputs": [
    {
     "data": {
      "text/html": [
       "<div>\n",
       "<style scoped>\n",
       "    .dataframe tbody tr th:only-of-type {\n",
       "        vertical-align: middle;\n",
       "    }\n",
       "\n",
       "    .dataframe tbody tr th {\n",
       "        vertical-align: top;\n",
       "    }\n",
       "\n",
       "    .dataframe thead th {\n",
       "        text-align: right;\n",
       "    }\n",
       "</style>\n",
       "<table border=\"1\" class=\"dataframe\">\n",
       "  <thead>\n",
       "    <tr style=\"text-align: right;\">\n",
       "      <th></th>\n",
       "      <th>price</th>\n",
       "      <th>quantity</th>\n",
       "    </tr>\n",
       "    <tr>\n",
       "      <th>Ask_Lvl</th>\n",
       "      <th></th>\n",
       "      <th></th>\n",
       "    </tr>\n",
       "  </thead>\n",
       "  <tbody>\n",
       "    <tr>\n",
       "      <th>0</th>\n",
       "      <td>16732.53</td>\n",
       "      <td>0.09478</td>\n",
       "    </tr>\n",
       "    <tr>\n",
       "      <th>1</th>\n",
       "      <td>16732.63</td>\n",
       "      <td>0.07000</td>\n",
       "    </tr>\n",
       "    <tr>\n",
       "      <th>2</th>\n",
       "      <td>16732.67</td>\n",
       "      <td>0.00634</td>\n",
       "    </tr>\n",
       "    <tr>\n",
       "      <th>3</th>\n",
       "      <td>16732.74</td>\n",
       "      <td>0.07059</td>\n",
       "    </tr>\n",
       "    <tr>\n",
       "      <th>4</th>\n",
       "      <td>16733.00</td>\n",
       "      <td>0.00639</td>\n",
       "    </tr>\n",
       "  </tbody>\n",
       "</table>\n",
       "</div>"
      ],
      "text/plain": [
       "            price  quantity\n",
       "Ask_Lvl                    \n",
       "0        16732.53   0.09478\n",
       "1        16732.63   0.07000\n",
       "2        16732.67   0.00634\n",
       "3        16732.74   0.07059\n",
       "4        16733.00   0.00639"
      ]
     },
     "execution_count": 9,
     "metadata": {},
     "output_type": "execute_result"
    }
   ],
   "source": [
    "ob_lvls[1].head()"
   ]
  },
  {
   "cell_type": "code",
   "execution_count": 10,
   "metadata": {},
   "outputs": [
    {
     "data": {
      "text/html": [
       "<div>\n",
       "<style scoped>\n",
       "    .dataframe tbody tr th:only-of-type {\n",
       "        vertical-align: middle;\n",
       "    }\n",
       "\n",
       "    .dataframe tbody tr th {\n",
       "        vertical-align: top;\n",
       "    }\n",
       "\n",
       "    .dataframe thead th {\n",
       "        text-align: right;\n",
       "    }\n",
       "</style>\n",
       "<table border=\"1\" class=\"dataframe\">\n",
       "  <thead>\n",
       "    <tr style=\"text-align: right;\">\n",
       "      <th></th>\n",
       "      <th>exchange</th>\n",
       "      <th>timestamp</th>\n",
       "      <th>open</th>\n",
       "      <th>high</th>\n",
       "      <th>low</th>\n",
       "      <th>close</th>\n",
       "      <th>volume</th>\n",
       "    </tr>\n",
       "    <tr>\n",
       "      <th>OHLCV</th>\n",
       "      <th></th>\n",
       "      <th></th>\n",
       "      <th></th>\n",
       "      <th></th>\n",
       "      <th></th>\n",
       "      <th></th>\n",
       "      <th></th>\n",
       "    </tr>\n",
       "  </thead>\n",
       "  <tbody>\n",
       "    <tr>\n",
       "      <th>0</th>\n",
       "      <td>binance</td>\n",
       "      <td>2022-11-10T06:05:42.923Z</td>\n",
       "      <td>16658.64</td>\n",
       "      <td>16664.14</td>\n",
       "      <td>16627.35</td>\n",
       "      <td>16639.21</td>\n",
       "      <td>217.47823</td>\n",
       "    </tr>\n",
       "  </tbody>\n",
       "</table>\n",
       "</div>"
      ],
      "text/plain": [
       "      exchange                 timestamp      open      high       low  \\\n",
       "OHLCV                                                                    \n",
       "0      binance  2022-11-10T06:05:42.923Z  16658.64  16664.14  16627.35   \n",
       "\n",
       "          close     volume  \n",
       "OHLCV                       \n",
       "0      16639.21  217.47823  "
      ]
     },
     "execution_count": 10,
     "metadata": {},
     "output_type": "execute_result"
    }
   ],
   "source": [
    "ob_lvls[2]"
   ]
  },
  {
   "cell_type": "markdown",
   "metadata": {},
   "source": [
    "We plot an **Order Book** for desired tickers and exchanges the visualization *OBLvls*."
   ]
  },
  {
   "cell_type": "code",
   "execution_count": 11,
   "metadata": {},
   "outputs": [
    {
     "name": "stdout",
     "output_type": "stream",
     "text": [
      "Help on function OBLvls_hist in module visualizations:\n",
      "\n",
      "OBLvls_hist(lvls, cripto, exchange)\n",
      "    Function that plots an horizontal histogram in plotly for CriptoCurrencies OB/\n",
      "    \n",
      "        Parameters\n",
      "        ----------\n",
      "        lvls: Levels of bids/asks in the Order Book (int).\n",
      "        cripto: Criptocurrency downloadable symbol (str).\n",
      "        exchanges: Criptocurrency downloadable Exchange (str).\n",
      "    \n",
      "        x: Quantity (col) of the given cripto (str) for given lvls (int) in Order Book.\n",
      "        y: Prices (col) of the given cripto (str) for given lvls (int) in Order Book.\n",
      "    \n",
      "        Returns\n",
      "        -------\n",
      "        Histogram of Order Book prices and quantities for n given lvls.\n",
      "\n"
     ]
    }
   ],
   "source": [
    "help(vs.OBLvls_hist)"
   ]
  },
  {
   "cell_type": "code",
   "execution_count": 12,
   "metadata": {},
   "outputs": [
    {
     "data": {
      "application/vnd.plotly.v1+json": {
       "config": {
        "plotlyServerURL": "https://plot.ly"
       },
       "data": [
        {
         "orientation": "h",
         "type": "bar",
         "x": [
          0.04526,
          0.00639,
          0.02371,
          0.00892,
          0.0443,
          0.0807,
          0.00071,
          0.02222,
          0.00683,
          0.16203,
          0.00299,
          0.002,
          0.00666,
          0.00179,
          0.01024,
          0.00299,
          0.001,
          0.014,
          0.002,
          0.006,
          0.00881,
          0.00596,
          0.02592,
          0.54255,
          0.00676
         ],
         "y": [
          "16733.24",
          "16733.25",
          "16733.51",
          "16733.52",
          "16733.54",
          "16733.55",
          "16733.59",
          "16733.66",
          "16733.77",
          "16734.14",
          "16734.16",
          "16734.44",
          "16734.62",
          "16735.03",
          "16735.11",
          "16735.12",
          "16735.13",
          "16735.43",
          "16735.44",
          "16735.58",
          "16735.89",
          "16735.94",
          "16735.95",
          "16735.96",
          "16736.01"
         ]
        },
        {
         "orientation": "h",
         "type": "bar",
         "x": [
          0.00206,
          0.02637,
          0.00667,
          0.04815,
          0.39859,
          0.1,
          0.028,
          0.00682,
          0.03151,
          0.09906,
          0.06507,
          0.01195,
          0.02,
          0.01195,
          0.00072,
          0.02999,
          0.00482,
          0.0109,
          0.0025,
          0.02999,
          0.00861,
          0.01399,
          0.73849,
          0.05,
          0.00434
         ],
         "y": [
          "16731.88",
          "16731.58",
          "16731.57",
          "16731.31",
          "16731.29",
          "16731.28",
          "16731.23",
          "16731.05",
          "16730.93",
          "16730.8",
          "16730.67",
          "16730.62",
          "16730.6",
          "16730.44",
          "16730.42",
          "16730.33",
          "16730.28",
          "16730.2",
          "16730.07",
          "16730.03",
          "16730.02",
          "16729.85",
          "16729.69",
          "16729.68",
          "16729.67"
         ]
        }
       ],
       "layout": {
        "template": {
         "data": {
          "bar": [
           {
            "error_x": {
             "color": "#2a3f5f"
            },
            "error_y": {
             "color": "#2a3f5f"
            },
            "marker": {
             "line": {
              "color": "#E5ECF6",
              "width": 0.5
             },
             "pattern": {
              "fillmode": "overlay",
              "size": 10,
              "solidity": 0.2
             }
            },
            "type": "bar"
           }
          ],
          "barpolar": [
           {
            "marker": {
             "line": {
              "color": "#E5ECF6",
              "width": 0.5
             },
             "pattern": {
              "fillmode": "overlay",
              "size": 10,
              "solidity": 0.2
             }
            },
            "type": "barpolar"
           }
          ],
          "carpet": [
           {
            "aaxis": {
             "endlinecolor": "#2a3f5f",
             "gridcolor": "white",
             "linecolor": "white",
             "minorgridcolor": "white",
             "startlinecolor": "#2a3f5f"
            },
            "baxis": {
             "endlinecolor": "#2a3f5f",
             "gridcolor": "white",
             "linecolor": "white",
             "minorgridcolor": "white",
             "startlinecolor": "#2a3f5f"
            },
            "type": "carpet"
           }
          ],
          "choropleth": [
           {
            "colorbar": {
             "outlinewidth": 0,
             "ticks": ""
            },
            "type": "choropleth"
           }
          ],
          "contour": [
           {
            "colorbar": {
             "outlinewidth": 0,
             "ticks": ""
            },
            "colorscale": [
             [
              0,
              "#0d0887"
             ],
             [
              0.1111111111111111,
              "#46039f"
             ],
             [
              0.2222222222222222,
              "#7201a8"
             ],
             [
              0.3333333333333333,
              "#9c179e"
             ],
             [
              0.4444444444444444,
              "#bd3786"
             ],
             [
              0.5555555555555556,
              "#d8576b"
             ],
             [
              0.6666666666666666,
              "#ed7953"
             ],
             [
              0.7777777777777778,
              "#fb9f3a"
             ],
             [
              0.8888888888888888,
              "#fdca26"
             ],
             [
              1,
              "#f0f921"
             ]
            ],
            "type": "contour"
           }
          ],
          "contourcarpet": [
           {
            "colorbar": {
             "outlinewidth": 0,
             "ticks": ""
            },
            "type": "contourcarpet"
           }
          ],
          "heatmap": [
           {
            "colorbar": {
             "outlinewidth": 0,
             "ticks": ""
            },
            "colorscale": [
             [
              0,
              "#0d0887"
             ],
             [
              0.1111111111111111,
              "#46039f"
             ],
             [
              0.2222222222222222,
              "#7201a8"
             ],
             [
              0.3333333333333333,
              "#9c179e"
             ],
             [
              0.4444444444444444,
              "#bd3786"
             ],
             [
              0.5555555555555556,
              "#d8576b"
             ],
             [
              0.6666666666666666,
              "#ed7953"
             ],
             [
              0.7777777777777778,
              "#fb9f3a"
             ],
             [
              0.8888888888888888,
              "#fdca26"
             ],
             [
              1,
              "#f0f921"
             ]
            ],
            "type": "heatmap"
           }
          ],
          "heatmapgl": [
           {
            "colorbar": {
             "outlinewidth": 0,
             "ticks": ""
            },
            "colorscale": [
             [
              0,
              "#0d0887"
             ],
             [
              0.1111111111111111,
              "#46039f"
             ],
             [
              0.2222222222222222,
              "#7201a8"
             ],
             [
              0.3333333333333333,
              "#9c179e"
             ],
             [
              0.4444444444444444,
              "#bd3786"
             ],
             [
              0.5555555555555556,
              "#d8576b"
             ],
             [
              0.6666666666666666,
              "#ed7953"
             ],
             [
              0.7777777777777778,
              "#fb9f3a"
             ],
             [
              0.8888888888888888,
              "#fdca26"
             ],
             [
              1,
              "#f0f921"
             ]
            ],
            "type": "heatmapgl"
           }
          ],
          "histogram": [
           {
            "marker": {
             "pattern": {
              "fillmode": "overlay",
              "size": 10,
              "solidity": 0.2
             }
            },
            "type": "histogram"
           }
          ],
          "histogram2d": [
           {
            "colorbar": {
             "outlinewidth": 0,
             "ticks": ""
            },
            "colorscale": [
             [
              0,
              "#0d0887"
             ],
             [
              0.1111111111111111,
              "#46039f"
             ],
             [
              0.2222222222222222,
              "#7201a8"
             ],
             [
              0.3333333333333333,
              "#9c179e"
             ],
             [
              0.4444444444444444,
              "#bd3786"
             ],
             [
              0.5555555555555556,
              "#d8576b"
             ],
             [
              0.6666666666666666,
              "#ed7953"
             ],
             [
              0.7777777777777778,
              "#fb9f3a"
             ],
             [
              0.8888888888888888,
              "#fdca26"
             ],
             [
              1,
              "#f0f921"
             ]
            ],
            "type": "histogram2d"
           }
          ],
          "histogram2dcontour": [
           {
            "colorbar": {
             "outlinewidth": 0,
             "ticks": ""
            },
            "colorscale": [
             [
              0,
              "#0d0887"
             ],
             [
              0.1111111111111111,
              "#46039f"
             ],
             [
              0.2222222222222222,
              "#7201a8"
             ],
             [
              0.3333333333333333,
              "#9c179e"
             ],
             [
              0.4444444444444444,
              "#bd3786"
             ],
             [
              0.5555555555555556,
              "#d8576b"
             ],
             [
              0.6666666666666666,
              "#ed7953"
             ],
             [
              0.7777777777777778,
              "#fb9f3a"
             ],
             [
              0.8888888888888888,
              "#fdca26"
             ],
             [
              1,
              "#f0f921"
             ]
            ],
            "type": "histogram2dcontour"
           }
          ],
          "mesh3d": [
           {
            "colorbar": {
             "outlinewidth": 0,
             "ticks": ""
            },
            "type": "mesh3d"
           }
          ],
          "parcoords": [
           {
            "line": {
             "colorbar": {
              "outlinewidth": 0,
              "ticks": ""
             }
            },
            "type": "parcoords"
           }
          ],
          "pie": [
           {
            "automargin": true,
            "type": "pie"
           }
          ],
          "scatter": [
           {
            "marker": {
             "colorbar": {
              "outlinewidth": 0,
              "ticks": ""
             }
            },
            "type": "scatter"
           }
          ],
          "scatter3d": [
           {
            "line": {
             "colorbar": {
              "outlinewidth": 0,
              "ticks": ""
             }
            },
            "marker": {
             "colorbar": {
              "outlinewidth": 0,
              "ticks": ""
             }
            },
            "type": "scatter3d"
           }
          ],
          "scattercarpet": [
           {
            "marker": {
             "colorbar": {
              "outlinewidth": 0,
              "ticks": ""
             }
            },
            "type": "scattercarpet"
           }
          ],
          "scattergeo": [
           {
            "marker": {
             "colorbar": {
              "outlinewidth": 0,
              "ticks": ""
             }
            },
            "type": "scattergeo"
           }
          ],
          "scattergl": [
           {
            "marker": {
             "colorbar": {
              "outlinewidth": 0,
              "ticks": ""
             }
            },
            "type": "scattergl"
           }
          ],
          "scattermapbox": [
           {
            "marker": {
             "colorbar": {
              "outlinewidth": 0,
              "ticks": ""
             }
            },
            "type": "scattermapbox"
           }
          ],
          "scatterpolar": [
           {
            "marker": {
             "colorbar": {
              "outlinewidth": 0,
              "ticks": ""
             }
            },
            "type": "scatterpolar"
           }
          ],
          "scatterpolargl": [
           {
            "marker": {
             "colorbar": {
              "outlinewidth": 0,
              "ticks": ""
             }
            },
            "type": "scatterpolargl"
           }
          ],
          "scatterternary": [
           {
            "marker": {
             "colorbar": {
              "outlinewidth": 0,
              "ticks": ""
             }
            },
            "type": "scatterternary"
           }
          ],
          "surface": [
           {
            "colorbar": {
             "outlinewidth": 0,
             "ticks": ""
            },
            "colorscale": [
             [
              0,
              "#0d0887"
             ],
             [
              0.1111111111111111,
              "#46039f"
             ],
             [
              0.2222222222222222,
              "#7201a8"
             ],
             [
              0.3333333333333333,
              "#9c179e"
             ],
             [
              0.4444444444444444,
              "#bd3786"
             ],
             [
              0.5555555555555556,
              "#d8576b"
             ],
             [
              0.6666666666666666,
              "#ed7953"
             ],
             [
              0.7777777777777778,
              "#fb9f3a"
             ],
             [
              0.8888888888888888,
              "#fdca26"
             ],
             [
              1,
              "#f0f921"
             ]
            ],
            "type": "surface"
           }
          ],
          "table": [
           {
            "cells": {
             "fill": {
              "color": "#EBF0F8"
             },
             "line": {
              "color": "white"
             }
            },
            "header": {
             "fill": {
              "color": "#C8D4E3"
             },
             "line": {
              "color": "white"
             }
            },
            "type": "table"
           }
          ]
         },
         "layout": {
          "annotationdefaults": {
           "arrowcolor": "#2a3f5f",
           "arrowhead": 0,
           "arrowwidth": 1
          },
          "autotypenumbers": "strict",
          "coloraxis": {
           "colorbar": {
            "outlinewidth": 0,
            "ticks": ""
           }
          },
          "colorscale": {
           "diverging": [
            [
             0,
             "#8e0152"
            ],
            [
             0.1,
             "#c51b7d"
            ],
            [
             0.2,
             "#de77ae"
            ],
            [
             0.3,
             "#f1b6da"
            ],
            [
             0.4,
             "#fde0ef"
            ],
            [
             0.5,
             "#f7f7f7"
            ],
            [
             0.6,
             "#e6f5d0"
            ],
            [
             0.7,
             "#b8e186"
            ],
            [
             0.8,
             "#7fbc41"
            ],
            [
             0.9,
             "#4d9221"
            ],
            [
             1,
             "#276419"
            ]
           ],
           "sequential": [
            [
             0,
             "#0d0887"
            ],
            [
             0.1111111111111111,
             "#46039f"
            ],
            [
             0.2222222222222222,
             "#7201a8"
            ],
            [
             0.3333333333333333,
             "#9c179e"
            ],
            [
             0.4444444444444444,
             "#bd3786"
            ],
            [
             0.5555555555555556,
             "#d8576b"
            ],
            [
             0.6666666666666666,
             "#ed7953"
            ],
            [
             0.7777777777777778,
             "#fb9f3a"
            ],
            [
             0.8888888888888888,
             "#fdca26"
            ],
            [
             1,
             "#f0f921"
            ]
           ],
           "sequentialminus": [
            [
             0,
             "#0d0887"
            ],
            [
             0.1111111111111111,
             "#46039f"
            ],
            [
             0.2222222222222222,
             "#7201a8"
            ],
            [
             0.3333333333333333,
             "#9c179e"
            ],
            [
             0.4444444444444444,
             "#bd3786"
            ],
            [
             0.5555555555555556,
             "#d8576b"
            ],
            [
             0.6666666666666666,
             "#ed7953"
            ],
            [
             0.7777777777777778,
             "#fb9f3a"
            ],
            [
             0.8888888888888888,
             "#fdca26"
            ],
            [
             1,
             "#f0f921"
            ]
           ]
          },
          "colorway": [
           "#636efa",
           "#EF553B",
           "#00cc96",
           "#ab63fa",
           "#FFA15A",
           "#19d3f3",
           "#FF6692",
           "#B6E880",
           "#FF97FF",
           "#FECB52"
          ],
          "font": {
           "color": "#2a3f5f"
          },
          "geo": {
           "bgcolor": "white",
           "lakecolor": "white",
           "landcolor": "#E5ECF6",
           "showlakes": true,
           "showland": true,
           "subunitcolor": "white"
          },
          "hoverlabel": {
           "align": "left"
          },
          "hovermode": "closest",
          "mapbox": {
           "style": "light"
          },
          "paper_bgcolor": "white",
          "plot_bgcolor": "#E5ECF6",
          "polar": {
           "angularaxis": {
            "gridcolor": "white",
            "linecolor": "white",
            "ticks": ""
           },
           "bgcolor": "#E5ECF6",
           "radialaxis": {
            "gridcolor": "white",
            "linecolor": "white",
            "ticks": ""
           }
          },
          "scene": {
           "xaxis": {
            "backgroundcolor": "#E5ECF6",
            "gridcolor": "white",
            "gridwidth": 2,
            "linecolor": "white",
            "showbackground": true,
            "ticks": "",
            "zerolinecolor": "white"
           },
           "yaxis": {
            "backgroundcolor": "#E5ECF6",
            "gridcolor": "white",
            "gridwidth": 2,
            "linecolor": "white",
            "showbackground": true,
            "ticks": "",
            "zerolinecolor": "white"
           },
           "zaxis": {
            "backgroundcolor": "#E5ECF6",
            "gridcolor": "white",
            "gridwidth": 2,
            "linecolor": "white",
            "showbackground": true,
            "ticks": "",
            "zerolinecolor": "white"
           }
          },
          "shapedefaults": {
           "line": {
            "color": "#2a3f5f"
           }
          },
          "ternary": {
           "aaxis": {
            "gridcolor": "white",
            "linecolor": "white",
            "ticks": ""
           },
           "baxis": {
            "gridcolor": "white",
            "linecolor": "white",
            "ticks": ""
           },
           "bgcolor": "#E5ECF6",
           "caxis": {
            "gridcolor": "white",
            "linecolor": "white",
            "ticks": ""
           }
          },
          "title": {
           "x": 0.05
          },
          "xaxis": {
           "automargin": true,
           "gridcolor": "white",
           "linecolor": "white",
           "ticks": "",
           "title": {
            "standoff": 15
           },
           "zerolinecolor": "white",
           "zerolinewidth": 2
          },
          "yaxis": {
           "automargin": true,
           "gridcolor": "white",
           "linecolor": "white",
           "ticks": "",
           "title": {
            "standoff": 15
           },
           "zerolinecolor": "white",
           "zerolinewidth": 2
          }
         }
        },
        "title": {
         "font": {
          "size": 15
         },
         "text": "Single Order Book from binance, BTC/USDT Mid-Price: 16732.56"
        }
       }
      }
     },
     "metadata": {},
     "output_type": "display_data"
    }
   ],
   "source": [
    "vs.OBLvls_hist(params[0],params[1], params[2])"
   ]
  },
  {
   "cell_type": "markdown",
   "metadata": {},
   "source": [
    "We will proceed for binance and ETH/USDT."
   ]
  },
  {
   "cell_type": "code",
   "execution_count": 13,
   "metadata": {},
   "outputs": [
    {
     "data": {
      "text/plain": [
       "(25, 'ETH/USDT', 'binance')"
      ]
     },
     "execution_count": 13,
     "metadata": {},
     "output_type": "execute_result"
    }
   ],
   "source": [
    "params= 25, criptos[1], exchanges[0]\n",
    "params"
   ]
  },
  {
   "cell_type": "code",
   "execution_count": 14,
   "metadata": {},
   "outputs": [
    {
     "data": {
      "text/html": [
       "<div>\n",
       "<style scoped>\n",
       "    .dataframe tbody tr th:only-of-type {\n",
       "        vertical-align: middle;\n",
       "    }\n",
       "\n",
       "    .dataframe tbody tr th {\n",
       "        vertical-align: top;\n",
       "    }\n",
       "\n",
       "    .dataframe thead th {\n",
       "        text-align: right;\n",
       "    }\n",
       "</style>\n",
       "<table border=\"1\" class=\"dataframe\">\n",
       "  <thead>\n",
       "    <tr style=\"text-align: right;\">\n",
       "      <th></th>\n",
       "      <th>price</th>\n",
       "      <th>quantity</th>\n",
       "    </tr>\n",
       "    <tr>\n",
       "      <th>Bid_Lvl</th>\n",
       "      <th></th>\n",
       "      <th></th>\n",
       "    </tr>\n",
       "  </thead>\n",
       "  <tbody>\n",
       "    <tr>\n",
       "      <th>0</th>\n",
       "      <td>1187.53</td>\n",
       "      <td>0.1680</td>\n",
       "    </tr>\n",
       "    <tr>\n",
       "      <th>1</th>\n",
       "      <td>1187.52</td>\n",
       "      <td>0.0125</td>\n",
       "    </tr>\n",
       "    <tr>\n",
       "      <th>2</th>\n",
       "      <td>1187.48</td>\n",
       "      <td>0.0421</td>\n",
       "    </tr>\n",
       "    <tr>\n",
       "      <th>3</th>\n",
       "      <td>1187.46</td>\n",
       "      <td>2.1720</td>\n",
       "    </tr>\n",
       "    <tr>\n",
       "      <th>4</th>\n",
       "      <td>1187.42</td>\n",
       "      <td>1.5039</td>\n",
       "    </tr>\n",
       "  </tbody>\n",
       "</table>\n",
       "</div>"
      ],
      "text/plain": [
       "           price  quantity\n",
       "Bid_Lvl                   \n",
       "0        1187.53    0.1680\n",
       "1        1187.52    0.0125\n",
       "2        1187.48    0.0421\n",
       "3        1187.46    2.1720\n",
       "4        1187.42    1.5039"
      ]
     },
     "execution_count": 14,
     "metadata": {},
     "output_type": "execute_result"
    }
   ],
   "source": [
    "ob_lvls=vs.cctx_download(params[0],params[1], params[2])\n",
    "ob_lvls[0].head()"
   ]
  },
  {
   "cell_type": "code",
   "execution_count": 15,
   "metadata": {},
   "outputs": [
    {
     "data": {
      "text/html": [
       "<div>\n",
       "<style scoped>\n",
       "    .dataframe tbody tr th:only-of-type {\n",
       "        vertical-align: middle;\n",
       "    }\n",
       "\n",
       "    .dataframe tbody tr th {\n",
       "        vertical-align: top;\n",
       "    }\n",
       "\n",
       "    .dataframe thead th {\n",
       "        text-align: right;\n",
       "    }\n",
       "</style>\n",
       "<table border=\"1\" class=\"dataframe\">\n",
       "  <thead>\n",
       "    <tr style=\"text-align: right;\">\n",
       "      <th></th>\n",
       "      <th>price</th>\n",
       "      <th>quantity</th>\n",
       "    </tr>\n",
       "    <tr>\n",
       "      <th>Ask_Lvl</th>\n",
       "      <th></th>\n",
       "      <th></th>\n",
       "    </tr>\n",
       "  </thead>\n",
       "  <tbody>\n",
       "    <tr>\n",
       "      <th>0</th>\n",
       "      <td>1187.54</td>\n",
       "      <td>7.7553</td>\n",
       "    </tr>\n",
       "    <tr>\n",
       "      <th>1</th>\n",
       "      <td>1187.56</td>\n",
       "      <td>2.2757</td>\n",
       "    </tr>\n",
       "    <tr>\n",
       "      <th>2</th>\n",
       "      <td>1187.63</td>\n",
       "      <td>4.3436</td>\n",
       "    </tr>\n",
       "    <tr>\n",
       "      <th>3</th>\n",
       "      <td>1187.69</td>\n",
       "      <td>0.0500</td>\n",
       "    </tr>\n",
       "    <tr>\n",
       "      <th>4</th>\n",
       "      <td>1187.74</td>\n",
       "      <td>1.3433</td>\n",
       "    </tr>\n",
       "  </tbody>\n",
       "</table>\n",
       "</div>"
      ],
      "text/plain": [
       "           price  quantity\n",
       "Ask_Lvl                   \n",
       "0        1187.54    7.7553\n",
       "1        1187.56    2.2757\n",
       "2        1187.63    4.3436\n",
       "3        1187.69    0.0500\n",
       "4        1187.74    1.3433"
      ]
     },
     "execution_count": 15,
     "metadata": {},
     "output_type": "execute_result"
    }
   ],
   "source": [
    "ob_lvls[1].head()"
   ]
  },
  {
   "cell_type": "code",
   "execution_count": 16,
   "metadata": {},
   "outputs": [
    {
     "data": {
      "text/html": [
       "<div>\n",
       "<style scoped>\n",
       "    .dataframe tbody tr th:only-of-type {\n",
       "        vertical-align: middle;\n",
       "    }\n",
       "\n",
       "    .dataframe tbody tr th {\n",
       "        vertical-align: top;\n",
       "    }\n",
       "\n",
       "    .dataframe thead th {\n",
       "        text-align: right;\n",
       "    }\n",
       "</style>\n",
       "<table border=\"1\" class=\"dataframe\">\n",
       "  <thead>\n",
       "    <tr style=\"text-align: right;\">\n",
       "      <th></th>\n",
       "      <th>exchange</th>\n",
       "      <th>timestamp</th>\n",
       "      <th>open</th>\n",
       "      <th>high</th>\n",
       "      <th>low</th>\n",
       "      <th>close</th>\n",
       "      <th>volume</th>\n",
       "    </tr>\n",
       "    <tr>\n",
       "      <th>OHLCV</th>\n",
       "      <th></th>\n",
       "      <th></th>\n",
       "      <th></th>\n",
       "      <th></th>\n",
       "      <th></th>\n",
       "      <th></th>\n",
       "      <th></th>\n",
       "    </tr>\n",
       "  </thead>\n",
       "  <tbody>\n",
       "    <tr>\n",
       "      <th>0</th>\n",
       "      <td>binance</td>\n",
       "      <td>2022-11-10T06:05:46.961Z</td>\n",
       "      <td>1185.17</td>\n",
       "      <td>1185.94</td>\n",
       "      <td>1184.41</td>\n",
       "      <td>1185.16</td>\n",
       "      <td>434.1131</td>\n",
       "    </tr>\n",
       "  </tbody>\n",
       "</table>\n",
       "</div>"
      ],
      "text/plain": [
       "      exchange                 timestamp     open     high      low    close  \\\n",
       "OHLCV                                                                          \n",
       "0      binance  2022-11-10T06:05:46.961Z  1185.17  1185.94  1184.41  1185.16   \n",
       "\n",
       "         volume  \n",
       "OHLCV            \n",
       "0      434.1131  "
      ]
     },
     "execution_count": 16,
     "metadata": {},
     "output_type": "execute_result"
    }
   ],
   "source": [
    "ob_lvls[2]"
   ]
  },
  {
   "cell_type": "code",
   "execution_count": 17,
   "metadata": {},
   "outputs": [
    {
     "data": {
      "application/vnd.plotly.v1+json": {
       "config": {
        "plotlyServerURL": "https://plot.ly"
       },
       "data": [
        {
         "orientation": "h",
         "type": "bar",
         "x": [
          1.159,
          3.6743,
          3,
          2.7532,
          0.0125,
          1.6852,
          1.5073,
          1.7271,
          4.802,
          9.05,
          1.3364,
          2.5303,
          0.7326,
          1.3433,
          0.009,
          4,
          6.3251,
          1.3433,
          3.435,
          8.5866,
          0.59,
          1.3433,
          1.1764,
          1.4228,
          1.7853
         ],
         "y": [
          "1187.38",
          "1187.42",
          "1187.54",
          "1187.6",
          "1187.63",
          "1187.65",
          "1187.66",
          "1187.67",
          "1187.68",
          "1187.69",
          "1187.79",
          "1187.82",
          "1187.85",
          "1187.86",
          "1187.89",
          "1187.91",
          "1187.94",
          "1187.96",
          "1187.98",
          "1187.99",
          "1188.0",
          "1188.07",
          "1188.09",
          "1188.13",
          "1188.15"
         ]
        },
        {
         "orientation": "h",
         "type": "bar",
         "x": [
          0.1411,
          0.167,
          0.9079,
          12.6568,
          0.172,
          0.1442,
          11.3755,
          1.3453,
          0.7047,
          2.2647,
          8.2317,
          2.4472,
          0.0086,
          2.7775,
          1.0164,
          0.0283,
          1.3364,
          0.0211,
          0.0169,
          1.1562,
          0.147,
          4.2971,
          1.6851,
          2.9617,
          1.8878
         ],
         "y": [
          "1187.37",
          "1187.36",
          "1187.35",
          "1187.25",
          "1187.23",
          "1187.09",
          "1187.08",
          "1187.06",
          "1187.05",
          "1187.04",
          "1187.03",
          "1187.02",
          "1187.01",
          "1187.0",
          "1186.97",
          "1186.96",
          "1186.94",
          "1186.91",
          "1186.9",
          "1186.88",
          "1186.85",
          "1186.83",
          "1186.81",
          "1186.8",
          "1186.79"
         ]
        }
       ],
       "layout": {
        "template": {
         "data": {
          "bar": [
           {
            "error_x": {
             "color": "#2a3f5f"
            },
            "error_y": {
             "color": "#2a3f5f"
            },
            "marker": {
             "line": {
              "color": "#E5ECF6",
              "width": 0.5
             },
             "pattern": {
              "fillmode": "overlay",
              "size": 10,
              "solidity": 0.2
             }
            },
            "type": "bar"
           }
          ],
          "barpolar": [
           {
            "marker": {
             "line": {
              "color": "#E5ECF6",
              "width": 0.5
             },
             "pattern": {
              "fillmode": "overlay",
              "size": 10,
              "solidity": 0.2
             }
            },
            "type": "barpolar"
           }
          ],
          "carpet": [
           {
            "aaxis": {
             "endlinecolor": "#2a3f5f",
             "gridcolor": "white",
             "linecolor": "white",
             "minorgridcolor": "white",
             "startlinecolor": "#2a3f5f"
            },
            "baxis": {
             "endlinecolor": "#2a3f5f",
             "gridcolor": "white",
             "linecolor": "white",
             "minorgridcolor": "white",
             "startlinecolor": "#2a3f5f"
            },
            "type": "carpet"
           }
          ],
          "choropleth": [
           {
            "colorbar": {
             "outlinewidth": 0,
             "ticks": ""
            },
            "type": "choropleth"
           }
          ],
          "contour": [
           {
            "colorbar": {
             "outlinewidth": 0,
             "ticks": ""
            },
            "colorscale": [
             [
              0,
              "#0d0887"
             ],
             [
              0.1111111111111111,
              "#46039f"
             ],
             [
              0.2222222222222222,
              "#7201a8"
             ],
             [
              0.3333333333333333,
              "#9c179e"
             ],
             [
              0.4444444444444444,
              "#bd3786"
             ],
             [
              0.5555555555555556,
              "#d8576b"
             ],
             [
              0.6666666666666666,
              "#ed7953"
             ],
             [
              0.7777777777777778,
              "#fb9f3a"
             ],
             [
              0.8888888888888888,
              "#fdca26"
             ],
             [
              1,
              "#f0f921"
             ]
            ],
            "type": "contour"
           }
          ],
          "contourcarpet": [
           {
            "colorbar": {
             "outlinewidth": 0,
             "ticks": ""
            },
            "type": "contourcarpet"
           }
          ],
          "heatmap": [
           {
            "colorbar": {
             "outlinewidth": 0,
             "ticks": ""
            },
            "colorscale": [
             [
              0,
              "#0d0887"
             ],
             [
              0.1111111111111111,
              "#46039f"
             ],
             [
              0.2222222222222222,
              "#7201a8"
             ],
             [
              0.3333333333333333,
              "#9c179e"
             ],
             [
              0.4444444444444444,
              "#bd3786"
             ],
             [
              0.5555555555555556,
              "#d8576b"
             ],
             [
              0.6666666666666666,
              "#ed7953"
             ],
             [
              0.7777777777777778,
              "#fb9f3a"
             ],
             [
              0.8888888888888888,
              "#fdca26"
             ],
             [
              1,
              "#f0f921"
             ]
            ],
            "type": "heatmap"
           }
          ],
          "heatmapgl": [
           {
            "colorbar": {
             "outlinewidth": 0,
             "ticks": ""
            },
            "colorscale": [
             [
              0,
              "#0d0887"
             ],
             [
              0.1111111111111111,
              "#46039f"
             ],
             [
              0.2222222222222222,
              "#7201a8"
             ],
             [
              0.3333333333333333,
              "#9c179e"
             ],
             [
              0.4444444444444444,
              "#bd3786"
             ],
             [
              0.5555555555555556,
              "#d8576b"
             ],
             [
              0.6666666666666666,
              "#ed7953"
             ],
             [
              0.7777777777777778,
              "#fb9f3a"
             ],
             [
              0.8888888888888888,
              "#fdca26"
             ],
             [
              1,
              "#f0f921"
             ]
            ],
            "type": "heatmapgl"
           }
          ],
          "histogram": [
           {
            "marker": {
             "pattern": {
              "fillmode": "overlay",
              "size": 10,
              "solidity": 0.2
             }
            },
            "type": "histogram"
           }
          ],
          "histogram2d": [
           {
            "colorbar": {
             "outlinewidth": 0,
             "ticks": ""
            },
            "colorscale": [
             [
              0,
              "#0d0887"
             ],
             [
              0.1111111111111111,
              "#46039f"
             ],
             [
              0.2222222222222222,
              "#7201a8"
             ],
             [
              0.3333333333333333,
              "#9c179e"
             ],
             [
              0.4444444444444444,
              "#bd3786"
             ],
             [
              0.5555555555555556,
              "#d8576b"
             ],
             [
              0.6666666666666666,
              "#ed7953"
             ],
             [
              0.7777777777777778,
              "#fb9f3a"
             ],
             [
              0.8888888888888888,
              "#fdca26"
             ],
             [
              1,
              "#f0f921"
             ]
            ],
            "type": "histogram2d"
           }
          ],
          "histogram2dcontour": [
           {
            "colorbar": {
             "outlinewidth": 0,
             "ticks": ""
            },
            "colorscale": [
             [
              0,
              "#0d0887"
             ],
             [
              0.1111111111111111,
              "#46039f"
             ],
             [
              0.2222222222222222,
              "#7201a8"
             ],
             [
              0.3333333333333333,
              "#9c179e"
             ],
             [
              0.4444444444444444,
              "#bd3786"
             ],
             [
              0.5555555555555556,
              "#d8576b"
             ],
             [
              0.6666666666666666,
              "#ed7953"
             ],
             [
              0.7777777777777778,
              "#fb9f3a"
             ],
             [
              0.8888888888888888,
              "#fdca26"
             ],
             [
              1,
              "#f0f921"
             ]
            ],
            "type": "histogram2dcontour"
           }
          ],
          "mesh3d": [
           {
            "colorbar": {
             "outlinewidth": 0,
             "ticks": ""
            },
            "type": "mesh3d"
           }
          ],
          "parcoords": [
           {
            "line": {
             "colorbar": {
              "outlinewidth": 0,
              "ticks": ""
             }
            },
            "type": "parcoords"
           }
          ],
          "pie": [
           {
            "automargin": true,
            "type": "pie"
           }
          ],
          "scatter": [
           {
            "marker": {
             "colorbar": {
              "outlinewidth": 0,
              "ticks": ""
             }
            },
            "type": "scatter"
           }
          ],
          "scatter3d": [
           {
            "line": {
             "colorbar": {
              "outlinewidth": 0,
              "ticks": ""
             }
            },
            "marker": {
             "colorbar": {
              "outlinewidth": 0,
              "ticks": ""
             }
            },
            "type": "scatter3d"
           }
          ],
          "scattercarpet": [
           {
            "marker": {
             "colorbar": {
              "outlinewidth": 0,
              "ticks": ""
             }
            },
            "type": "scattercarpet"
           }
          ],
          "scattergeo": [
           {
            "marker": {
             "colorbar": {
              "outlinewidth": 0,
              "ticks": ""
             }
            },
            "type": "scattergeo"
           }
          ],
          "scattergl": [
           {
            "marker": {
             "colorbar": {
              "outlinewidth": 0,
              "ticks": ""
             }
            },
            "type": "scattergl"
           }
          ],
          "scattermapbox": [
           {
            "marker": {
             "colorbar": {
              "outlinewidth": 0,
              "ticks": ""
             }
            },
            "type": "scattermapbox"
           }
          ],
          "scatterpolar": [
           {
            "marker": {
             "colorbar": {
              "outlinewidth": 0,
              "ticks": ""
             }
            },
            "type": "scatterpolar"
           }
          ],
          "scatterpolargl": [
           {
            "marker": {
             "colorbar": {
              "outlinewidth": 0,
              "ticks": ""
             }
            },
            "type": "scatterpolargl"
           }
          ],
          "scatterternary": [
           {
            "marker": {
             "colorbar": {
              "outlinewidth": 0,
              "ticks": ""
             }
            },
            "type": "scatterternary"
           }
          ],
          "surface": [
           {
            "colorbar": {
             "outlinewidth": 0,
             "ticks": ""
            },
            "colorscale": [
             [
              0,
              "#0d0887"
             ],
             [
              0.1111111111111111,
              "#46039f"
             ],
             [
              0.2222222222222222,
              "#7201a8"
             ],
             [
              0.3333333333333333,
              "#9c179e"
             ],
             [
              0.4444444444444444,
              "#bd3786"
             ],
             [
              0.5555555555555556,
              "#d8576b"
             ],
             [
              0.6666666666666666,
              "#ed7953"
             ],
             [
              0.7777777777777778,
              "#fb9f3a"
             ],
             [
              0.8888888888888888,
              "#fdca26"
             ],
             [
              1,
              "#f0f921"
             ]
            ],
            "type": "surface"
           }
          ],
          "table": [
           {
            "cells": {
             "fill": {
              "color": "#EBF0F8"
             },
             "line": {
              "color": "white"
             }
            },
            "header": {
             "fill": {
              "color": "#C8D4E3"
             },
             "line": {
              "color": "white"
             }
            },
            "type": "table"
           }
          ]
         },
         "layout": {
          "annotationdefaults": {
           "arrowcolor": "#2a3f5f",
           "arrowhead": 0,
           "arrowwidth": 1
          },
          "autotypenumbers": "strict",
          "coloraxis": {
           "colorbar": {
            "outlinewidth": 0,
            "ticks": ""
           }
          },
          "colorscale": {
           "diverging": [
            [
             0,
             "#8e0152"
            ],
            [
             0.1,
             "#c51b7d"
            ],
            [
             0.2,
             "#de77ae"
            ],
            [
             0.3,
             "#f1b6da"
            ],
            [
             0.4,
             "#fde0ef"
            ],
            [
             0.5,
             "#f7f7f7"
            ],
            [
             0.6,
             "#e6f5d0"
            ],
            [
             0.7,
             "#b8e186"
            ],
            [
             0.8,
             "#7fbc41"
            ],
            [
             0.9,
             "#4d9221"
            ],
            [
             1,
             "#276419"
            ]
           ],
           "sequential": [
            [
             0,
             "#0d0887"
            ],
            [
             0.1111111111111111,
             "#46039f"
            ],
            [
             0.2222222222222222,
             "#7201a8"
            ],
            [
             0.3333333333333333,
             "#9c179e"
            ],
            [
             0.4444444444444444,
             "#bd3786"
            ],
            [
             0.5555555555555556,
             "#d8576b"
            ],
            [
             0.6666666666666666,
             "#ed7953"
            ],
            [
             0.7777777777777778,
             "#fb9f3a"
            ],
            [
             0.8888888888888888,
             "#fdca26"
            ],
            [
             1,
             "#f0f921"
            ]
           ],
           "sequentialminus": [
            [
             0,
             "#0d0887"
            ],
            [
             0.1111111111111111,
             "#46039f"
            ],
            [
             0.2222222222222222,
             "#7201a8"
            ],
            [
             0.3333333333333333,
             "#9c179e"
            ],
            [
             0.4444444444444444,
             "#bd3786"
            ],
            [
             0.5555555555555556,
             "#d8576b"
            ],
            [
             0.6666666666666666,
             "#ed7953"
            ],
            [
             0.7777777777777778,
             "#fb9f3a"
            ],
            [
             0.8888888888888888,
             "#fdca26"
            ],
            [
             1,
             "#f0f921"
            ]
           ]
          },
          "colorway": [
           "#636efa",
           "#EF553B",
           "#00cc96",
           "#ab63fa",
           "#FFA15A",
           "#19d3f3",
           "#FF6692",
           "#B6E880",
           "#FF97FF",
           "#FECB52"
          ],
          "font": {
           "color": "#2a3f5f"
          },
          "geo": {
           "bgcolor": "white",
           "lakecolor": "white",
           "landcolor": "#E5ECF6",
           "showlakes": true,
           "showland": true,
           "subunitcolor": "white"
          },
          "hoverlabel": {
           "align": "left"
          },
          "hovermode": "closest",
          "mapbox": {
           "style": "light"
          },
          "paper_bgcolor": "white",
          "plot_bgcolor": "#E5ECF6",
          "polar": {
           "angularaxis": {
            "gridcolor": "white",
            "linecolor": "white",
            "ticks": ""
           },
           "bgcolor": "#E5ECF6",
           "radialaxis": {
            "gridcolor": "white",
            "linecolor": "white",
            "ticks": ""
           }
          },
          "scene": {
           "xaxis": {
            "backgroundcolor": "#E5ECF6",
            "gridcolor": "white",
            "gridwidth": 2,
            "linecolor": "white",
            "showbackground": true,
            "ticks": "",
            "zerolinecolor": "white"
           },
           "yaxis": {
            "backgroundcolor": "#E5ECF6",
            "gridcolor": "white",
            "gridwidth": 2,
            "linecolor": "white",
            "showbackground": true,
            "ticks": "",
            "zerolinecolor": "white"
           },
           "zaxis": {
            "backgroundcolor": "#E5ECF6",
            "gridcolor": "white",
            "gridwidth": 2,
            "linecolor": "white",
            "showbackground": true,
            "ticks": "",
            "zerolinecolor": "white"
           }
          },
          "shapedefaults": {
           "line": {
            "color": "#2a3f5f"
           }
          },
          "ternary": {
           "aaxis": {
            "gridcolor": "white",
            "linecolor": "white",
            "ticks": ""
           },
           "baxis": {
            "gridcolor": "white",
            "linecolor": "white",
            "ticks": ""
           },
           "bgcolor": "#E5ECF6",
           "caxis": {
            "gridcolor": "white",
            "linecolor": "white",
            "ticks": ""
           }
          },
          "title": {
           "x": 0.05
          },
          "xaxis": {
           "automargin": true,
           "gridcolor": "white",
           "linecolor": "white",
           "ticks": "",
           "title": {
            "standoff": 15
           },
           "zerolinecolor": "white",
           "zerolinewidth": 2
          },
          "yaxis": {
           "automargin": true,
           "gridcolor": "white",
           "linecolor": "white",
           "ticks": "",
           "title": {
            "standoff": 15
           },
           "zerolinecolor": "white",
           "zerolinewidth": 2
          }
         }
        },
        "title": {
         "font": {
          "size": 15
         },
         "text": "Single Order Book from binance, ETH/USDT Mid-Price: 1187.375"
        }
       }
      }
     },
     "metadata": {},
     "output_type": "display_data"
    }
   ],
   "source": [
    "vs.OBLvls_hist(params[0],params[1], params[2])"
   ]
  },
  {
   "cell_type": "markdown",
   "metadata": {},
   "source": [
    "We continue with the exchange binance and XRP/USDT."
   ]
  },
  {
   "cell_type": "code",
   "execution_count": 18,
   "metadata": {},
   "outputs": [
    {
     "data": {
      "text/plain": [
       "(25, 'XRP/USDT', 'binance')"
      ]
     },
     "execution_count": 18,
     "metadata": {},
     "output_type": "execute_result"
    }
   ],
   "source": [
    "params= 25, criptos[2], exchanges[0]\n",
    "params"
   ]
  },
  {
   "cell_type": "code",
   "execution_count": 19,
   "metadata": {},
   "outputs": [
    {
     "data": {
      "text/html": [
       "<div>\n",
       "<style scoped>\n",
       "    .dataframe tbody tr th:only-of-type {\n",
       "        vertical-align: middle;\n",
       "    }\n",
       "\n",
       "    .dataframe tbody tr th {\n",
       "        vertical-align: top;\n",
       "    }\n",
       "\n",
       "    .dataframe thead th {\n",
       "        text-align: right;\n",
       "    }\n",
       "</style>\n",
       "<table border=\"1\" class=\"dataframe\">\n",
       "  <thead>\n",
       "    <tr style=\"text-align: right;\">\n",
       "      <th></th>\n",
       "      <th>price</th>\n",
       "      <th>quantity</th>\n",
       "    </tr>\n",
       "    <tr>\n",
       "      <th>Bid_Lvl</th>\n",
       "      <th></th>\n",
       "      <th></th>\n",
       "    </tr>\n",
       "  </thead>\n",
       "  <tbody>\n",
       "    <tr>\n",
       "      <th>0</th>\n",
       "      <td>0.3709</td>\n",
       "      <td>11342.0</td>\n",
       "    </tr>\n",
       "    <tr>\n",
       "      <th>1</th>\n",
       "      <td>0.3708</td>\n",
       "      <td>28965.0</td>\n",
       "    </tr>\n",
       "    <tr>\n",
       "      <th>2</th>\n",
       "      <td>0.3707</td>\n",
       "      <td>17936.0</td>\n",
       "    </tr>\n",
       "    <tr>\n",
       "      <th>3</th>\n",
       "      <td>0.3706</td>\n",
       "      <td>31045.0</td>\n",
       "    </tr>\n",
       "    <tr>\n",
       "      <th>4</th>\n",
       "      <td>0.3705</td>\n",
       "      <td>19789.0</td>\n",
       "    </tr>\n",
       "  </tbody>\n",
       "</table>\n",
       "</div>"
      ],
      "text/plain": [
       "          price  quantity\n",
       "Bid_Lvl                  \n",
       "0        0.3709   11342.0\n",
       "1        0.3708   28965.0\n",
       "2        0.3707   17936.0\n",
       "3        0.3706   31045.0\n",
       "4        0.3705   19789.0"
      ]
     },
     "execution_count": 19,
     "metadata": {},
     "output_type": "execute_result"
    }
   ],
   "source": [
    "ob_lvls=vs.cctx_download(params[0],params[1], params[2])\n",
    "ob_lvls[0].head()"
   ]
  },
  {
   "cell_type": "code",
   "execution_count": 20,
   "metadata": {},
   "outputs": [
    {
     "data": {
      "text/html": [
       "<div>\n",
       "<style scoped>\n",
       "    .dataframe tbody tr th:only-of-type {\n",
       "        vertical-align: middle;\n",
       "    }\n",
       "\n",
       "    .dataframe tbody tr th {\n",
       "        vertical-align: top;\n",
       "    }\n",
       "\n",
       "    .dataframe thead th {\n",
       "        text-align: right;\n",
       "    }\n",
       "</style>\n",
       "<table border=\"1\" class=\"dataframe\">\n",
       "  <thead>\n",
       "    <tr style=\"text-align: right;\">\n",
       "      <th></th>\n",
       "      <th>price</th>\n",
       "      <th>quantity</th>\n",
       "    </tr>\n",
       "    <tr>\n",
       "      <th>Ask_Lvl</th>\n",
       "      <th></th>\n",
       "      <th></th>\n",
       "    </tr>\n",
       "  </thead>\n",
       "  <tbody>\n",
       "    <tr>\n",
       "      <th>0</th>\n",
       "      <td>0.3710</td>\n",
       "      <td>41065.0</td>\n",
       "    </tr>\n",
       "    <tr>\n",
       "      <th>1</th>\n",
       "      <td>0.3711</td>\n",
       "      <td>26531.0</td>\n",
       "    </tr>\n",
       "    <tr>\n",
       "      <th>2</th>\n",
       "      <td>0.3712</td>\n",
       "      <td>20367.0</td>\n",
       "    </tr>\n",
       "    <tr>\n",
       "      <th>3</th>\n",
       "      <td>0.3713</td>\n",
       "      <td>18447.0</td>\n",
       "    </tr>\n",
       "    <tr>\n",
       "      <th>4</th>\n",
       "      <td>0.3714</td>\n",
       "      <td>30444.0</td>\n",
       "    </tr>\n",
       "  </tbody>\n",
       "</table>\n",
       "</div>"
      ],
      "text/plain": [
       "          price  quantity\n",
       "Ask_Lvl                  \n",
       "0        0.3710   41065.0\n",
       "1        0.3711   26531.0\n",
       "2        0.3712   20367.0\n",
       "3        0.3713   18447.0\n",
       "4        0.3714   30444.0"
      ]
     },
     "execution_count": 20,
     "metadata": {},
     "output_type": "execute_result"
    }
   ],
   "source": [
    "ob_lvls[1].head()"
   ]
  },
  {
   "cell_type": "code",
   "execution_count": 21,
   "metadata": {},
   "outputs": [
    {
     "data": {
      "text/html": [
       "<div>\n",
       "<style scoped>\n",
       "    .dataframe tbody tr th:only-of-type {\n",
       "        vertical-align: middle;\n",
       "    }\n",
       "\n",
       "    .dataframe tbody tr th {\n",
       "        vertical-align: top;\n",
       "    }\n",
       "\n",
       "    .dataframe thead th {\n",
       "        text-align: right;\n",
       "    }\n",
       "</style>\n",
       "<table border=\"1\" class=\"dataframe\">\n",
       "  <thead>\n",
       "    <tr style=\"text-align: right;\">\n",
       "      <th></th>\n",
       "      <th>exchange</th>\n",
       "      <th>timestamp</th>\n",
       "      <th>open</th>\n",
       "      <th>high</th>\n",
       "      <th>low</th>\n",
       "      <th>close</th>\n",
       "      <th>volume</th>\n",
       "    </tr>\n",
       "    <tr>\n",
       "      <th>OHLCV</th>\n",
       "      <th></th>\n",
       "      <th></th>\n",
       "      <th></th>\n",
       "      <th></th>\n",
       "      <th></th>\n",
       "      <th></th>\n",
       "      <th></th>\n",
       "    </tr>\n",
       "  </thead>\n",
       "  <tbody>\n",
       "    <tr>\n",
       "      <th>0</th>\n",
       "      <td>binance</td>\n",
       "      <td>2022-11-10T06:05:50.375Z</td>\n",
       "      <td>0.3691</td>\n",
       "      <td>0.3701</td>\n",
       "      <td>0.3686</td>\n",
       "      <td>0.3692</td>\n",
       "      <td>837143.0</td>\n",
       "    </tr>\n",
       "  </tbody>\n",
       "</table>\n",
       "</div>"
      ],
      "text/plain": [
       "      exchange                 timestamp    open    high     low   close  \\\n",
       "OHLCV                                                                      \n",
       "0      binance  2022-11-10T06:05:50.375Z  0.3691  0.3701  0.3686  0.3692   \n",
       "\n",
       "         volume  \n",
       "OHLCV            \n",
       "0      837143.0  "
      ]
     },
     "execution_count": 21,
     "metadata": {},
     "output_type": "execute_result"
    }
   ],
   "source": [
    "ob_lvls[2]"
   ]
  },
  {
   "cell_type": "code",
   "execution_count": 22,
   "metadata": {},
   "outputs": [
    {
     "data": {
      "application/vnd.plotly.v1+json": {
       "config": {
        "plotlyServerURL": "https://plot.ly"
       },
       "data": [
        {
         "orientation": "h",
         "type": "bar",
         "x": [
          7966,
          9787,
          27706,
          18447,
          30444,
          45690,
          60238,
          21793,
          46045,
          10565,
          16052,
          18778,
          22229,
          4783,
          2678,
          10789,
          38123,
          6134,
          70502,
          5499,
          2744,
          110033,
          16601,
          173739,
          8578
         ],
         "y": [
          "0.371",
          "0.3711",
          "0.3712",
          "0.3713",
          "0.3714",
          "0.3715",
          "0.3716",
          "0.3717",
          "0.3718",
          "0.3719",
          "0.372",
          "0.3721",
          "0.3722",
          "0.3723",
          "0.3724",
          "0.3725",
          "0.3726",
          "0.3727",
          "0.3728",
          "0.3729",
          "0.373",
          "0.3731",
          "0.3732",
          "0.3733",
          "0.3734"
         ]
        },
        {
         "orientation": "h",
         "type": "bar",
         "x": [
          3409,
          19902,
          15247,
          20317,
          25258,
          40949,
          9006,
          63126,
          53518,
          10027,
          85706,
          72502,
          3631,
          22885,
          62440,
          22053,
          34161,
          13084,
          20701,
          919768,
          265795,
          14239,
          2875,
          6152,
          12655
         ],
         "y": [
          "0.3709",
          "0.3708",
          "0.3707",
          "0.3706",
          "0.3705",
          "0.3704",
          "0.3703",
          "0.3702",
          "0.3701",
          "0.37",
          "0.3699",
          "0.3698",
          "0.3697",
          "0.3696",
          "0.3695",
          "0.3694",
          "0.3693",
          "0.3692",
          "0.3691",
          "0.369",
          "0.3689",
          "0.3688",
          "0.3687",
          "0.3686",
          "0.3685"
         ]
        }
       ],
       "layout": {
        "template": {
         "data": {
          "bar": [
           {
            "error_x": {
             "color": "#2a3f5f"
            },
            "error_y": {
             "color": "#2a3f5f"
            },
            "marker": {
             "line": {
              "color": "#E5ECF6",
              "width": 0.5
             },
             "pattern": {
              "fillmode": "overlay",
              "size": 10,
              "solidity": 0.2
             }
            },
            "type": "bar"
           }
          ],
          "barpolar": [
           {
            "marker": {
             "line": {
              "color": "#E5ECF6",
              "width": 0.5
             },
             "pattern": {
              "fillmode": "overlay",
              "size": 10,
              "solidity": 0.2
             }
            },
            "type": "barpolar"
           }
          ],
          "carpet": [
           {
            "aaxis": {
             "endlinecolor": "#2a3f5f",
             "gridcolor": "white",
             "linecolor": "white",
             "minorgridcolor": "white",
             "startlinecolor": "#2a3f5f"
            },
            "baxis": {
             "endlinecolor": "#2a3f5f",
             "gridcolor": "white",
             "linecolor": "white",
             "minorgridcolor": "white",
             "startlinecolor": "#2a3f5f"
            },
            "type": "carpet"
           }
          ],
          "choropleth": [
           {
            "colorbar": {
             "outlinewidth": 0,
             "ticks": ""
            },
            "type": "choropleth"
           }
          ],
          "contour": [
           {
            "colorbar": {
             "outlinewidth": 0,
             "ticks": ""
            },
            "colorscale": [
             [
              0,
              "#0d0887"
             ],
             [
              0.1111111111111111,
              "#46039f"
             ],
             [
              0.2222222222222222,
              "#7201a8"
             ],
             [
              0.3333333333333333,
              "#9c179e"
             ],
             [
              0.4444444444444444,
              "#bd3786"
             ],
             [
              0.5555555555555556,
              "#d8576b"
             ],
             [
              0.6666666666666666,
              "#ed7953"
             ],
             [
              0.7777777777777778,
              "#fb9f3a"
             ],
             [
              0.8888888888888888,
              "#fdca26"
             ],
             [
              1,
              "#f0f921"
             ]
            ],
            "type": "contour"
           }
          ],
          "contourcarpet": [
           {
            "colorbar": {
             "outlinewidth": 0,
             "ticks": ""
            },
            "type": "contourcarpet"
           }
          ],
          "heatmap": [
           {
            "colorbar": {
             "outlinewidth": 0,
             "ticks": ""
            },
            "colorscale": [
             [
              0,
              "#0d0887"
             ],
             [
              0.1111111111111111,
              "#46039f"
             ],
             [
              0.2222222222222222,
              "#7201a8"
             ],
             [
              0.3333333333333333,
              "#9c179e"
             ],
             [
              0.4444444444444444,
              "#bd3786"
             ],
             [
              0.5555555555555556,
              "#d8576b"
             ],
             [
              0.6666666666666666,
              "#ed7953"
             ],
             [
              0.7777777777777778,
              "#fb9f3a"
             ],
             [
              0.8888888888888888,
              "#fdca26"
             ],
             [
              1,
              "#f0f921"
             ]
            ],
            "type": "heatmap"
           }
          ],
          "heatmapgl": [
           {
            "colorbar": {
             "outlinewidth": 0,
             "ticks": ""
            },
            "colorscale": [
             [
              0,
              "#0d0887"
             ],
             [
              0.1111111111111111,
              "#46039f"
             ],
             [
              0.2222222222222222,
              "#7201a8"
             ],
             [
              0.3333333333333333,
              "#9c179e"
             ],
             [
              0.4444444444444444,
              "#bd3786"
             ],
             [
              0.5555555555555556,
              "#d8576b"
             ],
             [
              0.6666666666666666,
              "#ed7953"
             ],
             [
              0.7777777777777778,
              "#fb9f3a"
             ],
             [
              0.8888888888888888,
              "#fdca26"
             ],
             [
              1,
              "#f0f921"
             ]
            ],
            "type": "heatmapgl"
           }
          ],
          "histogram": [
           {
            "marker": {
             "pattern": {
              "fillmode": "overlay",
              "size": 10,
              "solidity": 0.2
             }
            },
            "type": "histogram"
           }
          ],
          "histogram2d": [
           {
            "colorbar": {
             "outlinewidth": 0,
             "ticks": ""
            },
            "colorscale": [
             [
              0,
              "#0d0887"
             ],
             [
              0.1111111111111111,
              "#46039f"
             ],
             [
              0.2222222222222222,
              "#7201a8"
             ],
             [
              0.3333333333333333,
              "#9c179e"
             ],
             [
              0.4444444444444444,
              "#bd3786"
             ],
             [
              0.5555555555555556,
              "#d8576b"
             ],
             [
              0.6666666666666666,
              "#ed7953"
             ],
             [
              0.7777777777777778,
              "#fb9f3a"
             ],
             [
              0.8888888888888888,
              "#fdca26"
             ],
             [
              1,
              "#f0f921"
             ]
            ],
            "type": "histogram2d"
           }
          ],
          "histogram2dcontour": [
           {
            "colorbar": {
             "outlinewidth": 0,
             "ticks": ""
            },
            "colorscale": [
             [
              0,
              "#0d0887"
             ],
             [
              0.1111111111111111,
              "#46039f"
             ],
             [
              0.2222222222222222,
              "#7201a8"
             ],
             [
              0.3333333333333333,
              "#9c179e"
             ],
             [
              0.4444444444444444,
              "#bd3786"
             ],
             [
              0.5555555555555556,
              "#d8576b"
             ],
             [
              0.6666666666666666,
              "#ed7953"
             ],
             [
              0.7777777777777778,
              "#fb9f3a"
             ],
             [
              0.8888888888888888,
              "#fdca26"
             ],
             [
              1,
              "#f0f921"
             ]
            ],
            "type": "histogram2dcontour"
           }
          ],
          "mesh3d": [
           {
            "colorbar": {
             "outlinewidth": 0,
             "ticks": ""
            },
            "type": "mesh3d"
           }
          ],
          "parcoords": [
           {
            "line": {
             "colorbar": {
              "outlinewidth": 0,
              "ticks": ""
             }
            },
            "type": "parcoords"
           }
          ],
          "pie": [
           {
            "automargin": true,
            "type": "pie"
           }
          ],
          "scatter": [
           {
            "marker": {
             "colorbar": {
              "outlinewidth": 0,
              "ticks": ""
             }
            },
            "type": "scatter"
           }
          ],
          "scatter3d": [
           {
            "line": {
             "colorbar": {
              "outlinewidth": 0,
              "ticks": ""
             }
            },
            "marker": {
             "colorbar": {
              "outlinewidth": 0,
              "ticks": ""
             }
            },
            "type": "scatter3d"
           }
          ],
          "scattercarpet": [
           {
            "marker": {
             "colorbar": {
              "outlinewidth": 0,
              "ticks": ""
             }
            },
            "type": "scattercarpet"
           }
          ],
          "scattergeo": [
           {
            "marker": {
             "colorbar": {
              "outlinewidth": 0,
              "ticks": ""
             }
            },
            "type": "scattergeo"
           }
          ],
          "scattergl": [
           {
            "marker": {
             "colorbar": {
              "outlinewidth": 0,
              "ticks": ""
             }
            },
            "type": "scattergl"
           }
          ],
          "scattermapbox": [
           {
            "marker": {
             "colorbar": {
              "outlinewidth": 0,
              "ticks": ""
             }
            },
            "type": "scattermapbox"
           }
          ],
          "scatterpolar": [
           {
            "marker": {
             "colorbar": {
              "outlinewidth": 0,
              "ticks": ""
             }
            },
            "type": "scatterpolar"
           }
          ],
          "scatterpolargl": [
           {
            "marker": {
             "colorbar": {
              "outlinewidth": 0,
              "ticks": ""
             }
            },
            "type": "scatterpolargl"
           }
          ],
          "scatterternary": [
           {
            "marker": {
             "colorbar": {
              "outlinewidth": 0,
              "ticks": ""
             }
            },
            "type": "scatterternary"
           }
          ],
          "surface": [
           {
            "colorbar": {
             "outlinewidth": 0,
             "ticks": ""
            },
            "colorscale": [
             [
              0,
              "#0d0887"
             ],
             [
              0.1111111111111111,
              "#46039f"
             ],
             [
              0.2222222222222222,
              "#7201a8"
             ],
             [
              0.3333333333333333,
              "#9c179e"
             ],
             [
              0.4444444444444444,
              "#bd3786"
             ],
             [
              0.5555555555555556,
              "#d8576b"
             ],
             [
              0.6666666666666666,
              "#ed7953"
             ],
             [
              0.7777777777777778,
              "#fb9f3a"
             ],
             [
              0.8888888888888888,
              "#fdca26"
             ],
             [
              1,
              "#f0f921"
             ]
            ],
            "type": "surface"
           }
          ],
          "table": [
           {
            "cells": {
             "fill": {
              "color": "#EBF0F8"
             },
             "line": {
              "color": "white"
             }
            },
            "header": {
             "fill": {
              "color": "#C8D4E3"
             },
             "line": {
              "color": "white"
             }
            },
            "type": "table"
           }
          ]
         },
         "layout": {
          "annotationdefaults": {
           "arrowcolor": "#2a3f5f",
           "arrowhead": 0,
           "arrowwidth": 1
          },
          "autotypenumbers": "strict",
          "coloraxis": {
           "colorbar": {
            "outlinewidth": 0,
            "ticks": ""
           }
          },
          "colorscale": {
           "diverging": [
            [
             0,
             "#8e0152"
            ],
            [
             0.1,
             "#c51b7d"
            ],
            [
             0.2,
             "#de77ae"
            ],
            [
             0.3,
             "#f1b6da"
            ],
            [
             0.4,
             "#fde0ef"
            ],
            [
             0.5,
             "#f7f7f7"
            ],
            [
             0.6,
             "#e6f5d0"
            ],
            [
             0.7,
             "#b8e186"
            ],
            [
             0.8,
             "#7fbc41"
            ],
            [
             0.9,
             "#4d9221"
            ],
            [
             1,
             "#276419"
            ]
           ],
           "sequential": [
            [
             0,
             "#0d0887"
            ],
            [
             0.1111111111111111,
             "#46039f"
            ],
            [
             0.2222222222222222,
             "#7201a8"
            ],
            [
             0.3333333333333333,
             "#9c179e"
            ],
            [
             0.4444444444444444,
             "#bd3786"
            ],
            [
             0.5555555555555556,
             "#d8576b"
            ],
            [
             0.6666666666666666,
             "#ed7953"
            ],
            [
             0.7777777777777778,
             "#fb9f3a"
            ],
            [
             0.8888888888888888,
             "#fdca26"
            ],
            [
             1,
             "#f0f921"
            ]
           ],
           "sequentialminus": [
            [
             0,
             "#0d0887"
            ],
            [
             0.1111111111111111,
             "#46039f"
            ],
            [
             0.2222222222222222,
             "#7201a8"
            ],
            [
             0.3333333333333333,
             "#9c179e"
            ],
            [
             0.4444444444444444,
             "#bd3786"
            ],
            [
             0.5555555555555556,
             "#d8576b"
            ],
            [
             0.6666666666666666,
             "#ed7953"
            ],
            [
             0.7777777777777778,
             "#fb9f3a"
            ],
            [
             0.8888888888888888,
             "#fdca26"
            ],
            [
             1,
             "#f0f921"
            ]
           ]
          },
          "colorway": [
           "#636efa",
           "#EF553B",
           "#00cc96",
           "#ab63fa",
           "#FFA15A",
           "#19d3f3",
           "#FF6692",
           "#B6E880",
           "#FF97FF",
           "#FECB52"
          ],
          "font": {
           "color": "#2a3f5f"
          },
          "geo": {
           "bgcolor": "white",
           "lakecolor": "white",
           "landcolor": "#E5ECF6",
           "showlakes": true,
           "showland": true,
           "subunitcolor": "white"
          },
          "hoverlabel": {
           "align": "left"
          },
          "hovermode": "closest",
          "mapbox": {
           "style": "light"
          },
          "paper_bgcolor": "white",
          "plot_bgcolor": "#E5ECF6",
          "polar": {
           "angularaxis": {
            "gridcolor": "white",
            "linecolor": "white",
            "ticks": ""
           },
           "bgcolor": "#E5ECF6",
           "radialaxis": {
            "gridcolor": "white",
            "linecolor": "white",
            "ticks": ""
           }
          },
          "scene": {
           "xaxis": {
            "backgroundcolor": "#E5ECF6",
            "gridcolor": "white",
            "gridwidth": 2,
            "linecolor": "white",
            "showbackground": true,
            "ticks": "",
            "zerolinecolor": "white"
           },
           "yaxis": {
            "backgroundcolor": "#E5ECF6",
            "gridcolor": "white",
            "gridwidth": 2,
            "linecolor": "white",
            "showbackground": true,
            "ticks": "",
            "zerolinecolor": "white"
           },
           "zaxis": {
            "backgroundcolor": "#E5ECF6",
            "gridcolor": "white",
            "gridwidth": 2,
            "linecolor": "white",
            "showbackground": true,
            "ticks": "",
            "zerolinecolor": "white"
           }
          },
          "shapedefaults": {
           "line": {
            "color": "#2a3f5f"
           }
          },
          "ternary": {
           "aaxis": {
            "gridcolor": "white",
            "linecolor": "white",
            "ticks": ""
           },
           "baxis": {
            "gridcolor": "white",
            "linecolor": "white",
            "ticks": ""
           },
           "bgcolor": "#E5ECF6",
           "caxis": {
            "gridcolor": "white",
            "linecolor": "white",
            "ticks": ""
           }
          },
          "title": {
           "x": 0.05
          },
          "xaxis": {
           "automargin": true,
           "gridcolor": "white",
           "linecolor": "white",
           "ticks": "",
           "title": {
            "standoff": 15
           },
           "zerolinecolor": "white",
           "zerolinewidth": 2
          },
          "yaxis": {
           "automargin": true,
           "gridcolor": "white",
           "linecolor": "white",
           "ticks": "",
           "title": {
            "standoff": 15
           },
           "zerolinecolor": "white",
           "zerolinewidth": 2
          }
         }
        },
        "title": {
         "font": {
          "size": 15
         },
         "text": "Single Order Book from binance, XRP/USDT Mid-Price: 0.37095"
        }
       }
      }
     },
     "metadata": {},
     "output_type": "display_data"
    }
   ],
   "source": [
    "vs.OBLvls_hist(params[0],params[1], params[2])"
   ]
  },
  {
   "cell_type": "markdown",
   "metadata": {},
   "source": [
    "We could retrieve criptocurrencies with any of the 3 exchanges declared in our list *exchanges* but **to avoid being repetitive we will make one more random example** and we will conclude with their dataframes in progress check. For section section **2.** (*Microstructure Visualization*) a dataframe with different columns and plots that allow us to compare differences between exchanges will be created."
   ]
  },
  {
   "cell_type": "code",
   "execution_count": 23,
   "metadata": {},
   "outputs": [
    {
     "data": {
      "text/plain": [
       "(25, 'BTC/USDT', 'bytetrade')"
      ]
     },
     "execution_count": 23,
     "metadata": {},
     "output_type": "execute_result"
    }
   ],
   "source": [
    "params= 25, criptos[rand.randint(0,2)], exchanges[rand.randint(0,2)]\n",
    "params"
   ]
  },
  {
   "cell_type": "code",
   "execution_count": 24,
   "metadata": {},
   "outputs": [],
   "source": [
    "ob_lvls=vs.cctx_download(params[0],params[1], params[2])"
   ]
  },
  {
   "cell_type": "code",
   "execution_count": 25,
   "metadata": {},
   "outputs": [
    {
     "data": {
      "application/vnd.plotly.v1+json": {
       "config": {
        "plotlyServerURL": "https://plot.ly"
       },
       "data": [
        {
         "orientation": "h",
         "type": "bar",
         "x": [
          0.02424,
          0.00903,
          0.01896,
          0.17366,
          0.12961,
          0.37809,
          0.12199,
          0.13301,
          0.11929,
          0.29433,
          0.26284,
          0.15292,
          0.11859,
          0.17164,
          0.00029,
          0.20094,
          0.26252,
          0.00085,
          0.34003,
          0.00101,
          0.16505,
          0.0846,
          0.0016,
          0.21841,
          0.20565
         ],
         "y": [
          "16832.8",
          "16882.4",
          "16913.1",
          "16990.6",
          "17194.1",
          "17220.4",
          "17296.0",
          "17460.8",
          "17484.8",
          "17693.7",
          "17747.2",
          "18264.6",
          "18442.9",
          "18529.1",
          "19150.0",
          "19215.0",
          "20181.6",
          "22751.8",
          "23907.8",
          "24000.0",
          "24508.7",
          "28346.0",
          "32055.7",
          "34993.3",
          "35740.3"
         ]
        },
        {
         "orientation": "h",
         "type": "bar",
         "x": [
          0.00329,
          0.00345,
          0.00315,
          0.00764,
          0.00257,
          0.00755,
          0.01041,
          0.01708,
          0.04884,
          0.05729,
          0.04301,
          0.08827,
          0.07792,
          0.09788,
          0.01834,
          0.03768,
          0.0422,
          0.02191,
          0.04765,
          0.04542,
          0.02726,
          0.02584,
          0.01593,
          0.000493,
          0.01
         ],
         "y": [
          "16602.2",
          "16590.7",
          "16573.1",
          "16538.5",
          "16531.9",
          "16506.6",
          "16464.2",
          "16415.4",
          "16262.3",
          "15823.4",
          "15666.2",
          "15586.8",
          "15496.0",
          "15195.9",
          "14981.1",
          "14383.3",
          "14371.1",
          "13888.6",
          "11392.5",
          "9347.3",
          "7824.2",
          "6707.3",
          "6269.9",
          "4300.0",
          "1.2"
         ]
        }
       ],
       "layout": {
        "template": {
         "data": {
          "bar": [
           {
            "error_x": {
             "color": "#2a3f5f"
            },
            "error_y": {
             "color": "#2a3f5f"
            },
            "marker": {
             "line": {
              "color": "#E5ECF6",
              "width": 0.5
             },
             "pattern": {
              "fillmode": "overlay",
              "size": 10,
              "solidity": 0.2
             }
            },
            "type": "bar"
           }
          ],
          "barpolar": [
           {
            "marker": {
             "line": {
              "color": "#E5ECF6",
              "width": 0.5
             },
             "pattern": {
              "fillmode": "overlay",
              "size": 10,
              "solidity": 0.2
             }
            },
            "type": "barpolar"
           }
          ],
          "carpet": [
           {
            "aaxis": {
             "endlinecolor": "#2a3f5f",
             "gridcolor": "white",
             "linecolor": "white",
             "minorgridcolor": "white",
             "startlinecolor": "#2a3f5f"
            },
            "baxis": {
             "endlinecolor": "#2a3f5f",
             "gridcolor": "white",
             "linecolor": "white",
             "minorgridcolor": "white",
             "startlinecolor": "#2a3f5f"
            },
            "type": "carpet"
           }
          ],
          "choropleth": [
           {
            "colorbar": {
             "outlinewidth": 0,
             "ticks": ""
            },
            "type": "choropleth"
           }
          ],
          "contour": [
           {
            "colorbar": {
             "outlinewidth": 0,
             "ticks": ""
            },
            "colorscale": [
             [
              0,
              "#0d0887"
             ],
             [
              0.1111111111111111,
              "#46039f"
             ],
             [
              0.2222222222222222,
              "#7201a8"
             ],
             [
              0.3333333333333333,
              "#9c179e"
             ],
             [
              0.4444444444444444,
              "#bd3786"
             ],
             [
              0.5555555555555556,
              "#d8576b"
             ],
             [
              0.6666666666666666,
              "#ed7953"
             ],
             [
              0.7777777777777778,
              "#fb9f3a"
             ],
             [
              0.8888888888888888,
              "#fdca26"
             ],
             [
              1,
              "#f0f921"
             ]
            ],
            "type": "contour"
           }
          ],
          "contourcarpet": [
           {
            "colorbar": {
             "outlinewidth": 0,
             "ticks": ""
            },
            "type": "contourcarpet"
           }
          ],
          "heatmap": [
           {
            "colorbar": {
             "outlinewidth": 0,
             "ticks": ""
            },
            "colorscale": [
             [
              0,
              "#0d0887"
             ],
             [
              0.1111111111111111,
              "#46039f"
             ],
             [
              0.2222222222222222,
              "#7201a8"
             ],
             [
              0.3333333333333333,
              "#9c179e"
             ],
             [
              0.4444444444444444,
              "#bd3786"
             ],
             [
              0.5555555555555556,
              "#d8576b"
             ],
             [
              0.6666666666666666,
              "#ed7953"
             ],
             [
              0.7777777777777778,
              "#fb9f3a"
             ],
             [
              0.8888888888888888,
              "#fdca26"
             ],
             [
              1,
              "#f0f921"
             ]
            ],
            "type": "heatmap"
           }
          ],
          "heatmapgl": [
           {
            "colorbar": {
             "outlinewidth": 0,
             "ticks": ""
            },
            "colorscale": [
             [
              0,
              "#0d0887"
             ],
             [
              0.1111111111111111,
              "#46039f"
             ],
             [
              0.2222222222222222,
              "#7201a8"
             ],
             [
              0.3333333333333333,
              "#9c179e"
             ],
             [
              0.4444444444444444,
              "#bd3786"
             ],
             [
              0.5555555555555556,
              "#d8576b"
             ],
             [
              0.6666666666666666,
              "#ed7953"
             ],
             [
              0.7777777777777778,
              "#fb9f3a"
             ],
             [
              0.8888888888888888,
              "#fdca26"
             ],
             [
              1,
              "#f0f921"
             ]
            ],
            "type": "heatmapgl"
           }
          ],
          "histogram": [
           {
            "marker": {
             "pattern": {
              "fillmode": "overlay",
              "size": 10,
              "solidity": 0.2
             }
            },
            "type": "histogram"
           }
          ],
          "histogram2d": [
           {
            "colorbar": {
             "outlinewidth": 0,
             "ticks": ""
            },
            "colorscale": [
             [
              0,
              "#0d0887"
             ],
             [
              0.1111111111111111,
              "#46039f"
             ],
             [
              0.2222222222222222,
              "#7201a8"
             ],
             [
              0.3333333333333333,
              "#9c179e"
             ],
             [
              0.4444444444444444,
              "#bd3786"
             ],
             [
              0.5555555555555556,
              "#d8576b"
             ],
             [
              0.6666666666666666,
              "#ed7953"
             ],
             [
              0.7777777777777778,
              "#fb9f3a"
             ],
             [
              0.8888888888888888,
              "#fdca26"
             ],
             [
              1,
              "#f0f921"
             ]
            ],
            "type": "histogram2d"
           }
          ],
          "histogram2dcontour": [
           {
            "colorbar": {
             "outlinewidth": 0,
             "ticks": ""
            },
            "colorscale": [
             [
              0,
              "#0d0887"
             ],
             [
              0.1111111111111111,
              "#46039f"
             ],
             [
              0.2222222222222222,
              "#7201a8"
             ],
             [
              0.3333333333333333,
              "#9c179e"
             ],
             [
              0.4444444444444444,
              "#bd3786"
             ],
             [
              0.5555555555555556,
              "#d8576b"
             ],
             [
              0.6666666666666666,
              "#ed7953"
             ],
             [
              0.7777777777777778,
              "#fb9f3a"
             ],
             [
              0.8888888888888888,
              "#fdca26"
             ],
             [
              1,
              "#f0f921"
             ]
            ],
            "type": "histogram2dcontour"
           }
          ],
          "mesh3d": [
           {
            "colorbar": {
             "outlinewidth": 0,
             "ticks": ""
            },
            "type": "mesh3d"
           }
          ],
          "parcoords": [
           {
            "line": {
             "colorbar": {
              "outlinewidth": 0,
              "ticks": ""
             }
            },
            "type": "parcoords"
           }
          ],
          "pie": [
           {
            "automargin": true,
            "type": "pie"
           }
          ],
          "scatter": [
           {
            "marker": {
             "colorbar": {
              "outlinewidth": 0,
              "ticks": ""
             }
            },
            "type": "scatter"
           }
          ],
          "scatter3d": [
           {
            "line": {
             "colorbar": {
              "outlinewidth": 0,
              "ticks": ""
             }
            },
            "marker": {
             "colorbar": {
              "outlinewidth": 0,
              "ticks": ""
             }
            },
            "type": "scatter3d"
           }
          ],
          "scattercarpet": [
           {
            "marker": {
             "colorbar": {
              "outlinewidth": 0,
              "ticks": ""
             }
            },
            "type": "scattercarpet"
           }
          ],
          "scattergeo": [
           {
            "marker": {
             "colorbar": {
              "outlinewidth": 0,
              "ticks": ""
             }
            },
            "type": "scattergeo"
           }
          ],
          "scattergl": [
           {
            "marker": {
             "colorbar": {
              "outlinewidth": 0,
              "ticks": ""
             }
            },
            "type": "scattergl"
           }
          ],
          "scattermapbox": [
           {
            "marker": {
             "colorbar": {
              "outlinewidth": 0,
              "ticks": ""
             }
            },
            "type": "scattermapbox"
           }
          ],
          "scatterpolar": [
           {
            "marker": {
             "colorbar": {
              "outlinewidth": 0,
              "ticks": ""
             }
            },
            "type": "scatterpolar"
           }
          ],
          "scatterpolargl": [
           {
            "marker": {
             "colorbar": {
              "outlinewidth": 0,
              "ticks": ""
             }
            },
            "type": "scatterpolargl"
           }
          ],
          "scatterternary": [
           {
            "marker": {
             "colorbar": {
              "outlinewidth": 0,
              "ticks": ""
             }
            },
            "type": "scatterternary"
           }
          ],
          "surface": [
           {
            "colorbar": {
             "outlinewidth": 0,
             "ticks": ""
            },
            "colorscale": [
             [
              0,
              "#0d0887"
             ],
             [
              0.1111111111111111,
              "#46039f"
             ],
             [
              0.2222222222222222,
              "#7201a8"
             ],
             [
              0.3333333333333333,
              "#9c179e"
             ],
             [
              0.4444444444444444,
              "#bd3786"
             ],
             [
              0.5555555555555556,
              "#d8576b"
             ],
             [
              0.6666666666666666,
              "#ed7953"
             ],
             [
              0.7777777777777778,
              "#fb9f3a"
             ],
             [
              0.8888888888888888,
              "#fdca26"
             ],
             [
              1,
              "#f0f921"
             ]
            ],
            "type": "surface"
           }
          ],
          "table": [
           {
            "cells": {
             "fill": {
              "color": "#EBF0F8"
             },
             "line": {
              "color": "white"
             }
            },
            "header": {
             "fill": {
              "color": "#C8D4E3"
             },
             "line": {
              "color": "white"
             }
            },
            "type": "table"
           }
          ]
         },
         "layout": {
          "annotationdefaults": {
           "arrowcolor": "#2a3f5f",
           "arrowhead": 0,
           "arrowwidth": 1
          },
          "autotypenumbers": "strict",
          "coloraxis": {
           "colorbar": {
            "outlinewidth": 0,
            "ticks": ""
           }
          },
          "colorscale": {
           "diverging": [
            [
             0,
             "#8e0152"
            ],
            [
             0.1,
             "#c51b7d"
            ],
            [
             0.2,
             "#de77ae"
            ],
            [
             0.3,
             "#f1b6da"
            ],
            [
             0.4,
             "#fde0ef"
            ],
            [
             0.5,
             "#f7f7f7"
            ],
            [
             0.6,
             "#e6f5d0"
            ],
            [
             0.7,
             "#b8e186"
            ],
            [
             0.8,
             "#7fbc41"
            ],
            [
             0.9,
             "#4d9221"
            ],
            [
             1,
             "#276419"
            ]
           ],
           "sequential": [
            [
             0,
             "#0d0887"
            ],
            [
             0.1111111111111111,
             "#46039f"
            ],
            [
             0.2222222222222222,
             "#7201a8"
            ],
            [
             0.3333333333333333,
             "#9c179e"
            ],
            [
             0.4444444444444444,
             "#bd3786"
            ],
            [
             0.5555555555555556,
             "#d8576b"
            ],
            [
             0.6666666666666666,
             "#ed7953"
            ],
            [
             0.7777777777777778,
             "#fb9f3a"
            ],
            [
             0.8888888888888888,
             "#fdca26"
            ],
            [
             1,
             "#f0f921"
            ]
           ],
           "sequentialminus": [
            [
             0,
             "#0d0887"
            ],
            [
             0.1111111111111111,
             "#46039f"
            ],
            [
             0.2222222222222222,
             "#7201a8"
            ],
            [
             0.3333333333333333,
             "#9c179e"
            ],
            [
             0.4444444444444444,
             "#bd3786"
            ],
            [
             0.5555555555555556,
             "#d8576b"
            ],
            [
             0.6666666666666666,
             "#ed7953"
            ],
            [
             0.7777777777777778,
             "#fb9f3a"
            ],
            [
             0.8888888888888888,
             "#fdca26"
            ],
            [
             1,
             "#f0f921"
            ]
           ]
          },
          "colorway": [
           "#636efa",
           "#EF553B",
           "#00cc96",
           "#ab63fa",
           "#FFA15A",
           "#19d3f3",
           "#FF6692",
           "#B6E880",
           "#FF97FF",
           "#FECB52"
          ],
          "font": {
           "color": "#2a3f5f"
          },
          "geo": {
           "bgcolor": "white",
           "lakecolor": "white",
           "landcolor": "#E5ECF6",
           "showlakes": true,
           "showland": true,
           "subunitcolor": "white"
          },
          "hoverlabel": {
           "align": "left"
          },
          "hovermode": "closest",
          "mapbox": {
           "style": "light"
          },
          "paper_bgcolor": "white",
          "plot_bgcolor": "#E5ECF6",
          "polar": {
           "angularaxis": {
            "gridcolor": "white",
            "linecolor": "white",
            "ticks": ""
           },
           "bgcolor": "#E5ECF6",
           "radialaxis": {
            "gridcolor": "white",
            "linecolor": "white",
            "ticks": ""
           }
          },
          "scene": {
           "xaxis": {
            "backgroundcolor": "#E5ECF6",
            "gridcolor": "white",
            "gridwidth": 2,
            "linecolor": "white",
            "showbackground": true,
            "ticks": "",
            "zerolinecolor": "white"
           },
           "yaxis": {
            "backgroundcolor": "#E5ECF6",
            "gridcolor": "white",
            "gridwidth": 2,
            "linecolor": "white",
            "showbackground": true,
            "ticks": "",
            "zerolinecolor": "white"
           },
           "zaxis": {
            "backgroundcolor": "#E5ECF6",
            "gridcolor": "white",
            "gridwidth": 2,
            "linecolor": "white",
            "showbackground": true,
            "ticks": "",
            "zerolinecolor": "white"
           }
          },
          "shapedefaults": {
           "line": {
            "color": "#2a3f5f"
           }
          },
          "ternary": {
           "aaxis": {
            "gridcolor": "white",
            "linecolor": "white",
            "ticks": ""
           },
           "baxis": {
            "gridcolor": "white",
            "linecolor": "white",
            "ticks": ""
           },
           "bgcolor": "#E5ECF6",
           "caxis": {
            "gridcolor": "white",
            "linecolor": "white",
            "ticks": ""
           }
          },
          "title": {
           "x": 0.05
          },
          "xaxis": {
           "automargin": true,
           "gridcolor": "white",
           "linecolor": "white",
           "ticks": "",
           "title": {
            "standoff": 15
           },
           "zerolinecolor": "white",
           "zerolinewidth": 2
          },
          "yaxis": {
           "automargin": true,
           "gridcolor": "white",
           "linecolor": "white",
           "ticks": "",
           "title": {
            "standoff": 15
           },
           "zerolinecolor": "white",
           "zerolinewidth": 2
          }
         }
        },
        "title": {
         "font": {
          "size": 15
         },
         "text": "Single Order Book from bytetrade, BTC/USDT Mid-Price: 16717.5"
        }
       }
      }
     },
     "metadata": {},
     "output_type": "display_data"
    }
   ],
   "source": [
    "vs.OBLvls_hist(params[0],params[1], params[2])"
   ]
  },
  {
   "cell_type": "code",
   "execution_count": 26,
   "metadata": {},
   "outputs": [
    {
     "data": {
      "text/plain": [
       "((25, 'BTC/USDT', 'binance'),\n",
       " (25, 'BTC/USDT', 'ftx'),\n",
       " (25, 'BTC/USDT', 'bytetrade'))"
      ]
     },
     "execution_count": 26,
     "metadata": {},
     "output_type": "execute_result"
    }
   ],
   "source": [
    "v_params0= 25, criptos[0], exchanges[0]\n",
    "v_params1= 25, criptos[0], exchanges[1]\n",
    "v_params2= 25, criptos[0], exchanges[2]\n",
    "v_params0, v_params1, v_params2"
   ]
  },
  {
   "cell_type": "markdown",
   "metadata": {},
   "source": [
    "<strong> \n",
    "<font color= lightgreen> <font size = 3> Progress check 1 </font>"
   ]
  },
  {
   "cell_type": "markdown",
   "metadata": {},
   "source": [
    "<font color= orange> <font size = 1> n = data fetch per exchange </font>"
   ]
  },
  {
   "cell_type": "code",
   "execution_count": 27,
   "metadata": {},
   "outputs": [],
   "source": [
    "n=20 #Iterations "
   ]
  },
  {
   "cell_type": "code",
   "execution_count": 28,
   "metadata": {},
   "outputs": [
    {
     "name": "stdout",
     "output_type": "stream",
     "text": [
      "Help on function verif_ex1 in module visualizations:\n",
      "\n",
      "verif_ex1(lvls, cripto, exchange, n)\n",
      "    Function that returns Verif 1 for i levels (as integer) n times \n",
      "    from specified criptocurrency ('BTC/USDT','ETH/USDT','XRP/USDT', or others) and the \n",
      "    following exchanges: binance, ftx or bytetrade (as string).\n",
      "    \n",
      "    Parameters:\n",
      "    ----------\n",
      "    lvls: Levels of bids/asks in the Order Book (int).\n",
      "    cripto: Criptocurrency downloadable symbol (str).\n",
      "    exchanges: Criptocurrency downloadable Exchange (str).\n",
      "    n: Data retrieval per exchange (int).\n",
      "    \n",
      "    Returns:\n",
      "    -------\n",
      "    df1 = Section 1 Verification.\n",
      "    df2 = OHLCV.\n",
      "\n"
     ]
    }
   ],
   "source": [
    "help(vs.verif_ex1)"
   ]
  },
  {
   "cell_type": "code",
   "execution_count": 29,
   "metadata": {},
   "outputs": [],
   "source": [
    "verif_0_B = vs.verif_ex1(v_params0[0],v_params0[1], v_params0[2], n)\n",
    "verif_1_B = vs.verif_ex1(v_params1[0],v_params1[1], v_params1[2], n)\n",
    "verif_2_B = vs.verif_ex1(v_params2[0],v_params2[1], v_params2[2], n)"
   ]
  },
  {
   "cell_type": "markdown",
   "metadata": {},
   "source": [
    "Some differences between criptocurrencies within exchanges can be appreciated. Now we can realize which exchange from the sample can provide us with the lowest spread and best liquidity, and it is binance in this case. \n",
    "\n",
    "Clearly, prices are the most important factor for investments and that's why Mid-Price is going to be analyzed in the plots of section *2° (Microstructure Visualization)*. "
   ]
  },
  {
   "cell_type": "markdown",
   "metadata": {},
   "source": [
    "<font color= lightblue> <font size = 2> Verification BTC </font>"
   ]
  },
  {
   "cell_type": "markdown",
   "metadata": {},
   "source": [
    "As it can be appreciated lower close prices of exchanges can be associated with bigger bid volumes mainly."
   ]
  },
  {
   "cell_type": "code",
   "execution_count": 30,
   "metadata": {},
   "outputs": [
    {
     "data": {
      "text/html": [
       "<div>\n",
       "<style scoped>\n",
       "    .dataframe tbody tr th:only-of-type {\n",
       "        vertical-align: middle;\n",
       "    }\n",
       "\n",
       "    .dataframe tbody tr th {\n",
       "        vertical-align: top;\n",
       "    }\n",
       "\n",
       "    .dataframe thead th {\n",
       "        text-align: right;\n",
       "    }\n",
       "</style>\n",
       "<table border=\"1\" class=\"dataframe\">\n",
       "  <thead>\n",
       "    <tr style=\"text-align: right;\">\n",
       "      <th></th>\n",
       "      <th>exchange</th>\n",
       "      <th>timestamp</th>\n",
       "      <th>ask</th>\n",
       "      <th>bid</th>\n",
       "      <th>ask_volume</th>\n",
       "      <th>bid_volume</th>\n",
       "      <th>spread</th>\n",
       "      <th>close_price</th>\n",
       "    </tr>\n",
       "  </thead>\n",
       "  <tbody>\n",
       "    <tr>\n",
       "      <th>0</th>\n",
       "      <td>binance</td>\n",
       "      <td>2022-11-10T06:05:59.871</td>\n",
       "      <td>16728.60</td>\n",
       "      <td>16728.42</td>\n",
       "      <td>1.00429</td>\n",
       "      <td>2.683860</td>\n",
       "      <td>0.18</td>\n",
       "      <td>16729.02</td>\n",
       "    </tr>\n",
       "    <tr>\n",
       "      <th>1</th>\n",
       "      <td>binance</td>\n",
       "      <td>2022-11-10T06:06:02.317</td>\n",
       "      <td>16730.80</td>\n",
       "      <td>16729.25</td>\n",
       "      <td>1.60794</td>\n",
       "      <td>4.760610</td>\n",
       "      <td>1.55</td>\n",
       "      <td>16732.85</td>\n",
       "    </tr>\n",
       "    <tr>\n",
       "      <th>2</th>\n",
       "      <td>binance</td>\n",
       "      <td>2022-11-10T06:06:05.040</td>\n",
       "      <td>16734.32</td>\n",
       "      <td>16732.71</td>\n",
       "      <td>0.97739</td>\n",
       "      <td>3.548600</td>\n",
       "      <td>1.61</td>\n",
       "      <td>16733.64</td>\n",
       "    </tr>\n",
       "    <tr>\n",
       "      <th>3</th>\n",
       "      <td>binance</td>\n",
       "      <td>2022-11-10T06:06:07.516</td>\n",
       "      <td>16727.99</td>\n",
       "      <td>16726.21</td>\n",
       "      <td>1.59091</td>\n",
       "      <td>23.874280</td>\n",
       "      <td>1.78</td>\n",
       "      <td>16731.62</td>\n",
       "    </tr>\n",
       "    <tr>\n",
       "      <th>4</th>\n",
       "      <td>binance</td>\n",
       "      <td>2022-11-10T06:06:09.998</td>\n",
       "      <td>16730.93</td>\n",
       "      <td>16729.24</td>\n",
       "      <td>1.96328</td>\n",
       "      <td>2.002590</td>\n",
       "      <td>1.69</td>\n",
       "      <td>16728.71</td>\n",
       "    </tr>\n",
       "    <tr>\n",
       "      <th>5</th>\n",
       "      <td>binance</td>\n",
       "      <td>2022-11-10T06:06:12.804</td>\n",
       "      <td>16731.85</td>\n",
       "      <td>16731.65</td>\n",
       "      <td>1.48109</td>\n",
       "      <td>1.594570</td>\n",
       "      <td>0.20</td>\n",
       "      <td>16731.33</td>\n",
       "    </tr>\n",
       "    <tr>\n",
       "      <th>6</th>\n",
       "      <td>binance</td>\n",
       "      <td>2022-11-10T06:06:15.445</td>\n",
       "      <td>16727.10</td>\n",
       "      <td>16726.63</td>\n",
       "      <td>1.01030</td>\n",
       "      <td>17.223460</td>\n",
       "      <td>0.47</td>\n",
       "      <td>16727.13</td>\n",
       "    </tr>\n",
       "    <tr>\n",
       "      <th>7</th>\n",
       "      <td>binance</td>\n",
       "      <td>2022-11-10T06:06:17.897</td>\n",
       "      <td>16727.46</td>\n",
       "      <td>16726.93</td>\n",
       "      <td>0.44989</td>\n",
       "      <td>17.062390</td>\n",
       "      <td>0.53</td>\n",
       "      <td>16726.48</td>\n",
       "    </tr>\n",
       "    <tr>\n",
       "      <th>8</th>\n",
       "      <td>binance</td>\n",
       "      <td>2022-11-10T06:06:20.871</td>\n",
       "      <td>16725.71</td>\n",
       "      <td>16725.18</td>\n",
       "      <td>2.28311</td>\n",
       "      <td>16.466700</td>\n",
       "      <td>0.53</td>\n",
       "      <td>16725.08</td>\n",
       "    </tr>\n",
       "    <tr>\n",
       "      <th>9</th>\n",
       "      <td>binance</td>\n",
       "      <td>2022-11-10T06:06:23.537</td>\n",
       "      <td>16727.23</td>\n",
       "      <td>16725.64</td>\n",
       "      <td>0.62740</td>\n",
       "      <td>19.231930</td>\n",
       "      <td>1.59</td>\n",
       "      <td>16727.82</td>\n",
       "    </tr>\n",
       "    <tr>\n",
       "      <th>10</th>\n",
       "      <td>binance</td>\n",
       "      <td>2022-11-10T06:06:26.200</td>\n",
       "      <td>16728.79</td>\n",
       "      <td>16727.79</td>\n",
       "      <td>1.13576</td>\n",
       "      <td>3.158140</td>\n",
       "      <td>1.00</td>\n",
       "      <td>16728.08</td>\n",
       "    </tr>\n",
       "    <tr>\n",
       "      <th>11</th>\n",
       "      <td>binance</td>\n",
       "      <td>2022-11-10T06:06:29.400</td>\n",
       "      <td>16726.98</td>\n",
       "      <td>16726.24</td>\n",
       "      <td>0.74395</td>\n",
       "      <td>17.683020</td>\n",
       "      <td>0.74</td>\n",
       "      <td>16725.75</td>\n",
       "    </tr>\n",
       "    <tr>\n",
       "      <th>12</th>\n",
       "      <td>binance</td>\n",
       "      <td>2022-11-10T06:06:31.892</td>\n",
       "      <td>16734.16</td>\n",
       "      <td>16733.13</td>\n",
       "      <td>0.63515</td>\n",
       "      <td>1.737380</td>\n",
       "      <td>1.03</td>\n",
       "      <td>16732.71</td>\n",
       "    </tr>\n",
       "    <tr>\n",
       "      <th>13</th>\n",
       "      <td>binance</td>\n",
       "      <td>2022-11-10T06:06:34.739</td>\n",
       "      <td>16727.20</td>\n",
       "      <td>16725.72</td>\n",
       "      <td>2.04343</td>\n",
       "      <td>18.388740</td>\n",
       "      <td>1.48</td>\n",
       "      <td>16725.89</td>\n",
       "    </tr>\n",
       "    <tr>\n",
       "      <th>14</th>\n",
       "      <td>binance</td>\n",
       "      <td>2022-11-10T06:06:37.440</td>\n",
       "      <td>16728.35</td>\n",
       "      <td>16727.24</td>\n",
       "      <td>0.98338</td>\n",
       "      <td>1.184260</td>\n",
       "      <td>1.11</td>\n",
       "      <td>16727.37</td>\n",
       "    </tr>\n",
       "    <tr>\n",
       "      <th>15</th>\n",
       "      <td>binance</td>\n",
       "      <td>2022-11-10T06:06:39.977</td>\n",
       "      <td>16726.48</td>\n",
       "      <td>16726.12</td>\n",
       "      <td>0.85753</td>\n",
       "      <td>17.884920</td>\n",
       "      <td>0.36</td>\n",
       "      <td>16726.59</td>\n",
       "    </tr>\n",
       "    <tr>\n",
       "      <th>16</th>\n",
       "      <td>binance</td>\n",
       "      <td>2022-11-10T06:06:42.435</td>\n",
       "      <td>16725.38</td>\n",
       "      <td>16724.78</td>\n",
       "      <td>1.00962</td>\n",
       "      <td>16.337440</td>\n",
       "      <td>0.60</td>\n",
       "      <td>16724.27</td>\n",
       "    </tr>\n",
       "    <tr>\n",
       "      <th>17</th>\n",
       "      <td>binance</td>\n",
       "      <td>2022-11-10T06:06:44.847</td>\n",
       "      <td>16723.97</td>\n",
       "      <td>16722.02</td>\n",
       "      <td>2.53067</td>\n",
       "      <td>10.391910</td>\n",
       "      <td>1.95</td>\n",
       "      <td>16723.45</td>\n",
       "    </tr>\n",
       "    <tr>\n",
       "      <th>18</th>\n",
       "      <td>binance</td>\n",
       "      <td>2022-11-10T06:06:47.372</td>\n",
       "      <td>16723.50</td>\n",
       "      <td>16722.54</td>\n",
       "      <td>1.86497</td>\n",
       "      <td>8.731540</td>\n",
       "      <td>0.96</td>\n",
       "      <td>16722.09</td>\n",
       "    </tr>\n",
       "    <tr>\n",
       "      <th>19</th>\n",
       "      <td>binance</td>\n",
       "      <td>2022-11-10T06:06:49.956</td>\n",
       "      <td>16734.65</td>\n",
       "      <td>16732.24</td>\n",
       "      <td>2.70232</td>\n",
       "      <td>1.847550</td>\n",
       "      <td>2.41</td>\n",
       "      <td>16731.40</td>\n",
       "    </tr>\n",
       "    <tr>\n",
       "      <th>20</th>\n",
       "      <td>ftx</td>\n",
       "      <td>2022-11-10T06:06:53.414</td>\n",
       "      <td>16364.00</td>\n",
       "      <td>16321.00</td>\n",
       "      <td>6.18740</td>\n",
       "      <td>8.491100</td>\n",
       "      <td>43.00</td>\n",
       "      <td>16336.00</td>\n",
       "    </tr>\n",
       "    <tr>\n",
       "      <th>21</th>\n",
       "      <td>ftx</td>\n",
       "      <td>2022-11-10T06:06:57.463</td>\n",
       "      <td>16364.00</td>\n",
       "      <td>16321.00</td>\n",
       "      <td>6.18720</td>\n",
       "      <td>8.491000</td>\n",
       "      <td>43.00</td>\n",
       "      <td>16321.00</td>\n",
       "    </tr>\n",
       "    <tr>\n",
       "      <th>22</th>\n",
       "      <td>ftx</td>\n",
       "      <td>2022-11-10T06:07:00.431</td>\n",
       "      <td>16360.00</td>\n",
       "      <td>16321.00</td>\n",
       "      <td>4.42530</td>\n",
       "      <td>7.622700</td>\n",
       "      <td>39.00</td>\n",
       "      <td>16321.00</td>\n",
       "    </tr>\n",
       "    <tr>\n",
       "      <th>23</th>\n",
       "      <td>ftx</td>\n",
       "      <td>2022-11-10T06:07:03.324</td>\n",
       "      <td>16360.00</td>\n",
       "      <td>16321.00</td>\n",
       "      <td>4.42530</td>\n",
       "      <td>8.526600</td>\n",
       "      <td>39.00</td>\n",
       "      <td>16321.00</td>\n",
       "    </tr>\n",
       "    <tr>\n",
       "      <th>24</th>\n",
       "      <td>ftx</td>\n",
       "      <td>2022-11-10T06:07:05.627</td>\n",
       "      <td>16360.00</td>\n",
       "      <td>16321.00</td>\n",
       "      <td>4.42530</td>\n",
       "      <td>6.720200</td>\n",
       "      <td>39.00</td>\n",
       "      <td>16321.00</td>\n",
       "    </tr>\n",
       "    <tr>\n",
       "      <th>25</th>\n",
       "      <td>ftx</td>\n",
       "      <td>2022-11-10T06:07:09.043</td>\n",
       "      <td>16364.00</td>\n",
       "      <td>16331.00</td>\n",
       "      <td>12.72660</td>\n",
       "      <td>9.824700</td>\n",
       "      <td>33.00</td>\n",
       "      <td>16331.00</td>\n",
       "    </tr>\n",
       "    <tr>\n",
       "      <th>26</th>\n",
       "      <td>ftx</td>\n",
       "      <td>2022-11-10T06:07:13.929</td>\n",
       "      <td>16348.00</td>\n",
       "      <td>16301.00</td>\n",
       "      <td>5.63920</td>\n",
       "      <td>9.794900</td>\n",
       "      <td>47.00</td>\n",
       "      <td>16348.00</td>\n",
       "    </tr>\n",
       "    <tr>\n",
       "      <th>27</th>\n",
       "      <td>ftx</td>\n",
       "      <td>2022-11-10T06:07:17.483</td>\n",
       "      <td>16363.00</td>\n",
       "      <td>16280.00</td>\n",
       "      <td>2.98270</td>\n",
       "      <td>0.973000</td>\n",
       "      <td>83.00</td>\n",
       "      <td>16301.00</td>\n",
       "    </tr>\n",
       "    <tr>\n",
       "      <th>28</th>\n",
       "      <td>ftx</td>\n",
       "      <td>2022-11-10T06:07:21.431</td>\n",
       "      <td>16362.00</td>\n",
       "      <td>16329.00</td>\n",
       "      <td>2.98050</td>\n",
       "      <td>5.354800</td>\n",
       "      <td>33.00</td>\n",
       "      <td>16362.00</td>\n",
       "    </tr>\n",
       "    <tr>\n",
       "      <th>29</th>\n",
       "      <td>ftx</td>\n",
       "      <td>2022-11-10T06:07:25.429</td>\n",
       "      <td>16360.00</td>\n",
       "      <td>16283.00</td>\n",
       "      <td>8.25740</td>\n",
       "      <td>9.913200</td>\n",
       "      <td>77.00</td>\n",
       "      <td>16308.00</td>\n",
       "    </tr>\n",
       "    <tr>\n",
       "      <th>30</th>\n",
       "      <td>ftx</td>\n",
       "      <td>2022-11-10T06:07:28.392</td>\n",
       "      <td>16353.00</td>\n",
       "      <td>16282.00</td>\n",
       "      <td>12.67320</td>\n",
       "      <td>9.747200</td>\n",
       "      <td>71.00</td>\n",
       "      <td>16282.00</td>\n",
       "    </tr>\n",
       "    <tr>\n",
       "      <th>31</th>\n",
       "      <td>ftx</td>\n",
       "      <td>2022-11-10T06:07:30.984</td>\n",
       "      <td>16334.00</td>\n",
       "      <td>16298.00</td>\n",
       "      <td>12.69090</td>\n",
       "      <td>9.748500</td>\n",
       "      <td>36.00</td>\n",
       "      <td>16330.00</td>\n",
       "    </tr>\n",
       "    <tr>\n",
       "      <th>32</th>\n",
       "      <td>ftx</td>\n",
       "      <td>2022-11-10T06:07:35.194</td>\n",
       "      <td>16333.00</td>\n",
       "      <td>16316.00</td>\n",
       "      <td>11.80340</td>\n",
       "      <td>9.899400</td>\n",
       "      <td>17.00</td>\n",
       "      <td>16317.00</td>\n",
       "    </tr>\n",
       "    <tr>\n",
       "      <th>33</th>\n",
       "      <td>ftx</td>\n",
       "      <td>2022-11-10T06:07:39.152</td>\n",
       "      <td>16333.00</td>\n",
       "      <td>16316.00</td>\n",
       "      <td>11.90550</td>\n",
       "      <td>9.871700</td>\n",
       "      <td>17.00</td>\n",
       "      <td>16316.00</td>\n",
       "    </tr>\n",
       "    <tr>\n",
       "      <th>34</th>\n",
       "      <td>ftx</td>\n",
       "      <td>2022-11-10T06:07:42.611</td>\n",
       "      <td>16333.00</td>\n",
       "      <td>16316.00</td>\n",
       "      <td>11.90680</td>\n",
       "      <td>9.873300</td>\n",
       "      <td>17.00</td>\n",
       "      <td>16333.00</td>\n",
       "    </tr>\n",
       "    <tr>\n",
       "      <th>35</th>\n",
       "      <td>ftx</td>\n",
       "      <td>2022-11-10T06:07:46.622</td>\n",
       "      <td>16333.00</td>\n",
       "      <td>16321.00</td>\n",
       "      <td>11.78570</td>\n",
       "      <td>5.441700</td>\n",
       "      <td>12.00</td>\n",
       "      <td>16321.00</td>\n",
       "    </tr>\n",
       "    <tr>\n",
       "      <th>36</th>\n",
       "      <td>ftx</td>\n",
       "      <td>2022-11-10T06:07:51.255</td>\n",
       "      <td>16338.00</td>\n",
       "      <td>16328.00</td>\n",
       "      <td>11.78330</td>\n",
       "      <td>5.668400</td>\n",
       "      <td>10.00</td>\n",
       "      <td>16338.00</td>\n",
       "    </tr>\n",
       "    <tr>\n",
       "      <th>37</th>\n",
       "      <td>ftx</td>\n",
       "      <td>2022-11-10T06:07:56.182</td>\n",
       "      <td>16348.00</td>\n",
       "      <td>16316.00</td>\n",
       "      <td>12.63180</td>\n",
       "      <td>9.868600</td>\n",
       "      <td>32.00</td>\n",
       "      <td>16335.00</td>\n",
       "    </tr>\n",
       "    <tr>\n",
       "      <th>38</th>\n",
       "      <td>ftx</td>\n",
       "      <td>2022-11-10T06:07:59.602</td>\n",
       "      <td>16350.00</td>\n",
       "      <td>16316.00</td>\n",
       "      <td>12.64990</td>\n",
       "      <td>9.838800</td>\n",
       "      <td>34.00</td>\n",
       "      <td>16350.00</td>\n",
       "    </tr>\n",
       "    <tr>\n",
       "      <th>39</th>\n",
       "      <td>ftx</td>\n",
       "      <td>2022-11-10T06:08:03.114</td>\n",
       "      <td>16357.00</td>\n",
       "      <td>16316.00</td>\n",
       "      <td>12.56260</td>\n",
       "      <td>0.129600</td>\n",
       "      <td>41.00</td>\n",
       "      <td>16357.00</td>\n",
       "    </tr>\n",
       "    <tr>\n",
       "      <th>40</th>\n",
       "      <td>bytetrade</td>\n",
       "      <td>2022-11-10T06:08:05.823</td>\n",
       "      <td>16814.70</td>\n",
       "      <td>16613.60</td>\n",
       "      <td>3.58765</td>\n",
       "      <td>2.723723</td>\n",
       "      <td>201.10</td>\n",
       "      <td>16704.40</td>\n",
       "    </tr>\n",
       "    <tr>\n",
       "      <th>41</th>\n",
       "      <td>bytetrade</td>\n",
       "      <td>2022-11-10T06:08:08.665</td>\n",
       "      <td>16814.70</td>\n",
       "      <td>16613.60</td>\n",
       "      <td>3.58765</td>\n",
       "      <td>2.723723</td>\n",
       "      <td>201.10</td>\n",
       "      <td>16704.40</td>\n",
       "    </tr>\n",
       "    <tr>\n",
       "      <th>42</th>\n",
       "      <td>bytetrade</td>\n",
       "      <td>2022-11-10T06:08:11.330</td>\n",
       "      <td>16814.70</td>\n",
       "      <td>16613.70</td>\n",
       "      <td>3.58765</td>\n",
       "      <td>2.721343</td>\n",
       "      <td>201.00</td>\n",
       "      <td>16715.00</td>\n",
       "    </tr>\n",
       "    <tr>\n",
       "      <th>43</th>\n",
       "      <td>bytetrade</td>\n",
       "      <td>2022-11-10T06:08:14.651</td>\n",
       "      <td>16814.70</td>\n",
       "      <td>16613.70</td>\n",
       "      <td>3.58765</td>\n",
       "      <td>2.721343</td>\n",
       "      <td>201.00</td>\n",
       "      <td>16706.30</td>\n",
       "    </tr>\n",
       "    <tr>\n",
       "      <th>44</th>\n",
       "      <td>bytetrade</td>\n",
       "      <td>2022-11-10T06:08:17.303</td>\n",
       "      <td>16814.70</td>\n",
       "      <td>16613.70</td>\n",
       "      <td>3.58765</td>\n",
       "      <td>2.714043</td>\n",
       "      <td>201.00</td>\n",
       "      <td>16706.30</td>\n",
       "    </tr>\n",
       "    <tr>\n",
       "      <th>45</th>\n",
       "      <td>bytetrade</td>\n",
       "      <td>2022-11-10T06:08:19.800</td>\n",
       "      <td>16814.70</td>\n",
       "      <td>16613.70</td>\n",
       "      <td>3.58765</td>\n",
       "      <td>2.714043</td>\n",
       "      <td>201.00</td>\n",
       "      <td>16724.70</td>\n",
       "    </tr>\n",
       "    <tr>\n",
       "      <th>46</th>\n",
       "      <td>bytetrade</td>\n",
       "      <td>2022-11-10T06:08:22.716</td>\n",
       "      <td>16814.70</td>\n",
       "      <td>16613.70</td>\n",
       "      <td>3.58765</td>\n",
       "      <td>0.734243</td>\n",
       "      <td>201.00</td>\n",
       "      <td>16714.80</td>\n",
       "    </tr>\n",
       "    <tr>\n",
       "      <th>47</th>\n",
       "      <td>bytetrade</td>\n",
       "      <td>2022-11-10T06:08:25.712</td>\n",
       "      <td>16814.70</td>\n",
       "      <td>16613.70</td>\n",
       "      <td>3.58765</td>\n",
       "      <td>0.734243</td>\n",
       "      <td>201.00</td>\n",
       "      <td>16724.20</td>\n",
       "    </tr>\n",
       "    <tr>\n",
       "      <th>48</th>\n",
       "      <td>bytetrade</td>\n",
       "      <td>2022-11-10T06:08:28.202</td>\n",
       "      <td>16814.70</td>\n",
       "      <td>16613.70</td>\n",
       "      <td>3.58765</td>\n",
       "      <td>0.734243</td>\n",
       "      <td>201.00</td>\n",
       "      <td>16709.90</td>\n",
       "    </tr>\n",
       "    <tr>\n",
       "      <th>49</th>\n",
       "      <td>bytetrade</td>\n",
       "      <td>2022-11-10T06:08:30.932</td>\n",
       "      <td>16814.70</td>\n",
       "      <td>16548.00</td>\n",
       "      <td>3.58765</td>\n",
       "      <td>3.401583</td>\n",
       "      <td>266.70</td>\n",
       "      <td>16707.70</td>\n",
       "    </tr>\n",
       "    <tr>\n",
       "      <th>50</th>\n",
       "      <td>bytetrade</td>\n",
       "      <td>2022-11-10T06:08:33.701</td>\n",
       "      <td>16814.70</td>\n",
       "      <td>16548.00</td>\n",
       "      <td>3.58765</td>\n",
       "      <td>3.401583</td>\n",
       "      <td>266.70</td>\n",
       "      <td>16723.70</td>\n",
       "    </tr>\n",
       "    <tr>\n",
       "      <th>51</th>\n",
       "      <td>bytetrade</td>\n",
       "      <td>2022-11-10T06:08:36.378</td>\n",
       "      <td>16814.70</td>\n",
       "      <td>16640.10</td>\n",
       "      <td>3.58765</td>\n",
       "      <td>2.721413</td>\n",
       "      <td>174.60</td>\n",
       "      <td>16677.60</td>\n",
       "    </tr>\n",
       "    <tr>\n",
       "      <th>52</th>\n",
       "      <td>bytetrade</td>\n",
       "      <td>2022-11-10T06:08:39.829</td>\n",
       "      <td>16814.70</td>\n",
       "      <td>16640.10</td>\n",
       "      <td>3.58765</td>\n",
       "      <td>2.721413</td>\n",
       "      <td>174.60</td>\n",
       "      <td>16677.60</td>\n",
       "    </tr>\n",
       "    <tr>\n",
       "      <th>53</th>\n",
       "      <td>bytetrade</td>\n",
       "      <td>2022-11-10T06:08:43.189</td>\n",
       "      <td>16814.70</td>\n",
       "      <td>16640.10</td>\n",
       "      <td>3.58765</td>\n",
       "      <td>2.721413</td>\n",
       "      <td>174.60</td>\n",
       "      <td>16717.40</td>\n",
       "    </tr>\n",
       "    <tr>\n",
       "      <th>54</th>\n",
       "      <td>bytetrade</td>\n",
       "      <td>2022-11-10T06:08:45.929</td>\n",
       "      <td>16814.70</td>\n",
       "      <td>16640.10</td>\n",
       "      <td>3.58765</td>\n",
       "      <td>2.721413</td>\n",
       "      <td>174.60</td>\n",
       "      <td>16740.00</td>\n",
       "    </tr>\n",
       "    <tr>\n",
       "      <th>55</th>\n",
       "      <td>bytetrade</td>\n",
       "      <td>2022-11-10T06:08:48.376</td>\n",
       "      <td>16814.70</td>\n",
       "      <td>16640.10</td>\n",
       "      <td>3.58765</td>\n",
       "      <td>2.721413</td>\n",
       "      <td>174.60</td>\n",
       "      <td>16716.80</td>\n",
       "    </tr>\n",
       "    <tr>\n",
       "      <th>56</th>\n",
       "      <td>bytetrade</td>\n",
       "      <td>2022-11-10T06:08:51.163</td>\n",
       "      <td>16814.70</td>\n",
       "      <td>16640.10</td>\n",
       "      <td>3.58765</td>\n",
       "      <td>2.721413</td>\n",
       "      <td>174.60</td>\n",
       "      <td>16727.40</td>\n",
       "    </tr>\n",
       "    <tr>\n",
       "      <th>57</th>\n",
       "      <td>bytetrade</td>\n",
       "      <td>2022-11-10T06:08:53.661</td>\n",
       "      <td>16814.70</td>\n",
       "      <td>16640.10</td>\n",
       "      <td>3.58765</td>\n",
       "      <td>2.721413</td>\n",
       "      <td>174.60</td>\n",
       "      <td>16717.40</td>\n",
       "    </tr>\n",
       "    <tr>\n",
       "      <th>58</th>\n",
       "      <td>bytetrade</td>\n",
       "      <td>2022-11-10T06:08:56.370</td>\n",
       "      <td>16814.70</td>\n",
       "      <td>16640.10</td>\n",
       "      <td>3.58765</td>\n",
       "      <td>2.721413</td>\n",
       "      <td>174.60</td>\n",
       "      <td>16724.30</td>\n",
       "    </tr>\n",
       "    <tr>\n",
       "      <th>59</th>\n",
       "      <td>bytetrade</td>\n",
       "      <td>2022-11-10T06:08:59.819</td>\n",
       "      <td>16814.70</td>\n",
       "      <td>16640.10</td>\n",
       "      <td>3.58765</td>\n",
       "      <td>2.721413</td>\n",
       "      <td>174.60</td>\n",
       "      <td>16724.30</td>\n",
       "    </tr>\n",
       "  </tbody>\n",
       "</table>\n",
       "</div>"
      ],
      "text/plain": [
       "     exchange                timestamp       ask       bid  ask_volume  \\\n",
       "0     binance  2022-11-10T06:05:59.871  16728.60  16728.42     1.00429   \n",
       "1     binance  2022-11-10T06:06:02.317  16730.80  16729.25     1.60794   \n",
       "2     binance  2022-11-10T06:06:05.040  16734.32  16732.71     0.97739   \n",
       "3     binance  2022-11-10T06:06:07.516  16727.99  16726.21     1.59091   \n",
       "4     binance  2022-11-10T06:06:09.998  16730.93  16729.24     1.96328   \n",
       "5     binance  2022-11-10T06:06:12.804  16731.85  16731.65     1.48109   \n",
       "6     binance  2022-11-10T06:06:15.445  16727.10  16726.63     1.01030   \n",
       "7     binance  2022-11-10T06:06:17.897  16727.46  16726.93     0.44989   \n",
       "8     binance  2022-11-10T06:06:20.871  16725.71  16725.18     2.28311   \n",
       "9     binance  2022-11-10T06:06:23.537  16727.23  16725.64     0.62740   \n",
       "10    binance  2022-11-10T06:06:26.200  16728.79  16727.79     1.13576   \n",
       "11    binance  2022-11-10T06:06:29.400  16726.98  16726.24     0.74395   \n",
       "12    binance  2022-11-10T06:06:31.892  16734.16  16733.13     0.63515   \n",
       "13    binance  2022-11-10T06:06:34.739  16727.20  16725.72     2.04343   \n",
       "14    binance  2022-11-10T06:06:37.440  16728.35  16727.24     0.98338   \n",
       "15    binance  2022-11-10T06:06:39.977  16726.48  16726.12     0.85753   \n",
       "16    binance  2022-11-10T06:06:42.435  16725.38  16724.78     1.00962   \n",
       "17    binance  2022-11-10T06:06:44.847  16723.97  16722.02     2.53067   \n",
       "18    binance  2022-11-10T06:06:47.372  16723.50  16722.54     1.86497   \n",
       "19    binance  2022-11-10T06:06:49.956  16734.65  16732.24     2.70232   \n",
       "20        ftx  2022-11-10T06:06:53.414  16364.00  16321.00     6.18740   \n",
       "21        ftx  2022-11-10T06:06:57.463  16364.00  16321.00     6.18720   \n",
       "22        ftx  2022-11-10T06:07:00.431  16360.00  16321.00     4.42530   \n",
       "23        ftx  2022-11-10T06:07:03.324  16360.00  16321.00     4.42530   \n",
       "24        ftx  2022-11-10T06:07:05.627  16360.00  16321.00     4.42530   \n",
       "25        ftx  2022-11-10T06:07:09.043  16364.00  16331.00    12.72660   \n",
       "26        ftx  2022-11-10T06:07:13.929  16348.00  16301.00     5.63920   \n",
       "27        ftx  2022-11-10T06:07:17.483  16363.00  16280.00     2.98270   \n",
       "28        ftx  2022-11-10T06:07:21.431  16362.00  16329.00     2.98050   \n",
       "29        ftx  2022-11-10T06:07:25.429  16360.00  16283.00     8.25740   \n",
       "30        ftx  2022-11-10T06:07:28.392  16353.00  16282.00    12.67320   \n",
       "31        ftx  2022-11-10T06:07:30.984  16334.00  16298.00    12.69090   \n",
       "32        ftx  2022-11-10T06:07:35.194  16333.00  16316.00    11.80340   \n",
       "33        ftx  2022-11-10T06:07:39.152  16333.00  16316.00    11.90550   \n",
       "34        ftx  2022-11-10T06:07:42.611  16333.00  16316.00    11.90680   \n",
       "35        ftx  2022-11-10T06:07:46.622  16333.00  16321.00    11.78570   \n",
       "36        ftx  2022-11-10T06:07:51.255  16338.00  16328.00    11.78330   \n",
       "37        ftx  2022-11-10T06:07:56.182  16348.00  16316.00    12.63180   \n",
       "38        ftx  2022-11-10T06:07:59.602  16350.00  16316.00    12.64990   \n",
       "39        ftx  2022-11-10T06:08:03.114  16357.00  16316.00    12.56260   \n",
       "40  bytetrade  2022-11-10T06:08:05.823  16814.70  16613.60     3.58765   \n",
       "41  bytetrade  2022-11-10T06:08:08.665  16814.70  16613.60     3.58765   \n",
       "42  bytetrade  2022-11-10T06:08:11.330  16814.70  16613.70     3.58765   \n",
       "43  bytetrade  2022-11-10T06:08:14.651  16814.70  16613.70     3.58765   \n",
       "44  bytetrade  2022-11-10T06:08:17.303  16814.70  16613.70     3.58765   \n",
       "45  bytetrade  2022-11-10T06:08:19.800  16814.70  16613.70     3.58765   \n",
       "46  bytetrade  2022-11-10T06:08:22.716  16814.70  16613.70     3.58765   \n",
       "47  bytetrade  2022-11-10T06:08:25.712  16814.70  16613.70     3.58765   \n",
       "48  bytetrade  2022-11-10T06:08:28.202  16814.70  16613.70     3.58765   \n",
       "49  bytetrade  2022-11-10T06:08:30.932  16814.70  16548.00     3.58765   \n",
       "50  bytetrade  2022-11-10T06:08:33.701  16814.70  16548.00     3.58765   \n",
       "51  bytetrade  2022-11-10T06:08:36.378  16814.70  16640.10     3.58765   \n",
       "52  bytetrade  2022-11-10T06:08:39.829  16814.70  16640.10     3.58765   \n",
       "53  bytetrade  2022-11-10T06:08:43.189  16814.70  16640.10     3.58765   \n",
       "54  bytetrade  2022-11-10T06:08:45.929  16814.70  16640.10     3.58765   \n",
       "55  bytetrade  2022-11-10T06:08:48.376  16814.70  16640.10     3.58765   \n",
       "56  bytetrade  2022-11-10T06:08:51.163  16814.70  16640.10     3.58765   \n",
       "57  bytetrade  2022-11-10T06:08:53.661  16814.70  16640.10     3.58765   \n",
       "58  bytetrade  2022-11-10T06:08:56.370  16814.70  16640.10     3.58765   \n",
       "59  bytetrade  2022-11-10T06:08:59.819  16814.70  16640.10     3.58765   \n",
       "\n",
       "    bid_volume  spread  close_price  \n",
       "0     2.683860    0.18     16729.02  \n",
       "1     4.760610    1.55     16732.85  \n",
       "2     3.548600    1.61     16733.64  \n",
       "3    23.874280    1.78     16731.62  \n",
       "4     2.002590    1.69     16728.71  \n",
       "5     1.594570    0.20     16731.33  \n",
       "6    17.223460    0.47     16727.13  \n",
       "7    17.062390    0.53     16726.48  \n",
       "8    16.466700    0.53     16725.08  \n",
       "9    19.231930    1.59     16727.82  \n",
       "10    3.158140    1.00     16728.08  \n",
       "11   17.683020    0.74     16725.75  \n",
       "12    1.737380    1.03     16732.71  \n",
       "13   18.388740    1.48     16725.89  \n",
       "14    1.184260    1.11     16727.37  \n",
       "15   17.884920    0.36     16726.59  \n",
       "16   16.337440    0.60     16724.27  \n",
       "17   10.391910    1.95     16723.45  \n",
       "18    8.731540    0.96     16722.09  \n",
       "19    1.847550    2.41     16731.40  \n",
       "20    8.491100   43.00     16336.00  \n",
       "21    8.491000   43.00     16321.00  \n",
       "22    7.622700   39.00     16321.00  \n",
       "23    8.526600   39.00     16321.00  \n",
       "24    6.720200   39.00     16321.00  \n",
       "25    9.824700   33.00     16331.00  \n",
       "26    9.794900   47.00     16348.00  \n",
       "27    0.973000   83.00     16301.00  \n",
       "28    5.354800   33.00     16362.00  \n",
       "29    9.913200   77.00     16308.00  \n",
       "30    9.747200   71.00     16282.00  \n",
       "31    9.748500   36.00     16330.00  \n",
       "32    9.899400   17.00     16317.00  \n",
       "33    9.871700   17.00     16316.00  \n",
       "34    9.873300   17.00     16333.00  \n",
       "35    5.441700   12.00     16321.00  \n",
       "36    5.668400   10.00     16338.00  \n",
       "37    9.868600   32.00     16335.00  \n",
       "38    9.838800   34.00     16350.00  \n",
       "39    0.129600   41.00     16357.00  \n",
       "40    2.723723  201.10     16704.40  \n",
       "41    2.723723  201.10     16704.40  \n",
       "42    2.721343  201.00     16715.00  \n",
       "43    2.721343  201.00     16706.30  \n",
       "44    2.714043  201.00     16706.30  \n",
       "45    2.714043  201.00     16724.70  \n",
       "46    0.734243  201.00     16714.80  \n",
       "47    0.734243  201.00     16724.20  \n",
       "48    0.734243  201.00     16709.90  \n",
       "49    3.401583  266.70     16707.70  \n",
       "50    3.401583  266.70     16723.70  \n",
       "51    2.721413  174.60     16677.60  \n",
       "52    2.721413  174.60     16677.60  \n",
       "53    2.721413  174.60     16717.40  \n",
       "54    2.721413  174.60     16740.00  \n",
       "55    2.721413  174.60     16716.80  \n",
       "56    2.721413  174.60     16727.40  \n",
       "57    2.721413  174.60     16717.40  \n",
       "58    2.721413  174.60     16724.30  \n",
       "59    2.721413  174.60     16724.30  "
      ]
     },
     "execution_count": 30,
     "metadata": {},
     "output_type": "execute_result"
    }
   ],
   "source": [
    "verif_df1 = fn.concatenate(verif_0_B[0], verif_1_B[0], verif_2_B[0], n)\n",
    "verif_df1"
   ]
  },
  {
   "cell_type": "markdown",
   "metadata": {},
   "source": [
    "<font color= lightblue> <font size = 2> OHLCV BTC </font>"
   ]
  },
  {
   "cell_type": "markdown",
   "metadata": {},
   "source": [
    "For each timeframe a candle is formed and it illustrates how much Volatility every timestamp shows within exchanges. This is important to know for algorithmic trading, not to mention the fact that stock exchanges do not provide candle data in *ms* for many reasons."
   ]
  },
  {
   "cell_type": "code",
   "execution_count": 31,
   "metadata": {},
   "outputs": [
    {
     "data": {
      "text/html": [
       "<div>\n",
       "<style scoped>\n",
       "    .dataframe tbody tr th:only-of-type {\n",
       "        vertical-align: middle;\n",
       "    }\n",
       "\n",
       "    .dataframe tbody tr th {\n",
       "        vertical-align: top;\n",
       "    }\n",
       "\n",
       "    .dataframe thead th {\n",
       "        text-align: right;\n",
       "    }\n",
       "</style>\n",
       "<table border=\"1\" class=\"dataframe\">\n",
       "  <thead>\n",
       "    <tr style=\"text-align: right;\">\n",
       "      <th></th>\n",
       "      <th>exchange</th>\n",
       "      <th>timestamp</th>\n",
       "      <th>open</th>\n",
       "      <th>high</th>\n",
       "      <th>low</th>\n",
       "      <th>close</th>\n",
       "      <th>volume</th>\n",
       "    </tr>\n",
       "  </thead>\n",
       "  <tbody>\n",
       "    <tr>\n",
       "      <th>0</th>\n",
       "      <td>binance</td>\n",
       "      <td>2022-11-10T06:05:59.871</td>\n",
       "      <td>16781.55</td>\n",
       "      <td>16788.88</td>\n",
       "      <td>16723.12</td>\n",
       "      <td>16729.02</td>\n",
       "      <td>353.35313</td>\n",
       "    </tr>\n",
       "    <tr>\n",
       "      <th>1</th>\n",
       "      <td>binance</td>\n",
       "      <td>2022-11-10T06:06:02.317</td>\n",
       "      <td>16728.43</td>\n",
       "      <td>16736.13</td>\n",
       "      <td>16728.42</td>\n",
       "      <td>16732.85</td>\n",
       "      <td>18.39390</td>\n",
       "    </tr>\n",
       "    <tr>\n",
       "      <th>2</th>\n",
       "      <td>binance</td>\n",
       "      <td>2022-11-10T06:06:05.040</td>\n",
       "      <td>16728.43</td>\n",
       "      <td>16736.13</td>\n",
       "      <td>16726.01</td>\n",
       "      <td>16733.64</td>\n",
       "      <td>36.84977</td>\n",
       "    </tr>\n",
       "    <tr>\n",
       "      <th>3</th>\n",
       "      <td>binance</td>\n",
       "      <td>2022-11-10T06:06:07.516</td>\n",
       "      <td>16728.43</td>\n",
       "      <td>16738.73</td>\n",
       "      <td>16726.01</td>\n",
       "      <td>16731.62</td>\n",
       "      <td>43.96410</td>\n",
       "    </tr>\n",
       "    <tr>\n",
       "      <th>4</th>\n",
       "      <td>binance</td>\n",
       "      <td>2022-11-10T06:06:09.998</td>\n",
       "      <td>16728.43</td>\n",
       "      <td>16738.73</td>\n",
       "      <td>16726.01</td>\n",
       "      <td>16728.71</td>\n",
       "      <td>51.92495</td>\n",
       "    </tr>\n",
       "    <tr>\n",
       "      <th>5</th>\n",
       "      <td>binance</td>\n",
       "      <td>2022-11-10T06:06:12.804</td>\n",
       "      <td>16728.43</td>\n",
       "      <td>16738.73</td>\n",
       "      <td>16726.01</td>\n",
       "      <td>16731.33</td>\n",
       "      <td>58.41361</td>\n",
       "    </tr>\n",
       "    <tr>\n",
       "      <th>6</th>\n",
       "      <td>binance</td>\n",
       "      <td>2022-11-10T06:06:15.445</td>\n",
       "      <td>16728.43</td>\n",
       "      <td>16738.73</td>\n",
       "      <td>16724.00</td>\n",
       "      <td>16727.13</td>\n",
       "      <td>72.97992</td>\n",
       "    </tr>\n",
       "    <tr>\n",
       "      <th>7</th>\n",
       "      <td>binance</td>\n",
       "      <td>2022-11-10T06:06:17.897</td>\n",
       "      <td>16728.43</td>\n",
       "      <td>16738.73</td>\n",
       "      <td>16724.00</td>\n",
       "      <td>16726.48</td>\n",
       "      <td>75.66190</td>\n",
       "    </tr>\n",
       "    <tr>\n",
       "      <th>8</th>\n",
       "      <td>binance</td>\n",
       "      <td>2022-11-10T06:06:20.871</td>\n",
       "      <td>16728.43</td>\n",
       "      <td>16738.73</td>\n",
       "      <td>16724.00</td>\n",
       "      <td>16725.08</td>\n",
       "      <td>79.16868</td>\n",
       "    </tr>\n",
       "    <tr>\n",
       "      <th>9</th>\n",
       "      <td>binance</td>\n",
       "      <td>2022-11-10T06:06:23.537</td>\n",
       "      <td>16728.43</td>\n",
       "      <td>16738.73</td>\n",
       "      <td>16724.00</td>\n",
       "      <td>16727.82</td>\n",
       "      <td>87.25839</td>\n",
       "    </tr>\n",
       "    <tr>\n",
       "      <th>10</th>\n",
       "      <td>binance</td>\n",
       "      <td>2022-11-10T06:06:26.200</td>\n",
       "      <td>16728.43</td>\n",
       "      <td>16738.73</td>\n",
       "      <td>16724.00</td>\n",
       "      <td>16728.08</td>\n",
       "      <td>92.28575</td>\n",
       "    </tr>\n",
       "    <tr>\n",
       "      <th>11</th>\n",
       "      <td>binance</td>\n",
       "      <td>2022-11-10T06:06:29.400</td>\n",
       "      <td>16728.43</td>\n",
       "      <td>16738.73</td>\n",
       "      <td>16724.00</td>\n",
       "      <td>16725.75</td>\n",
       "      <td>96.58534</td>\n",
       "    </tr>\n",
       "    <tr>\n",
       "      <th>12</th>\n",
       "      <td>binance</td>\n",
       "      <td>2022-11-10T06:06:31.892</td>\n",
       "      <td>16728.43</td>\n",
       "      <td>16738.73</td>\n",
       "      <td>16724.00</td>\n",
       "      <td>16732.71</td>\n",
       "      <td>108.12158</td>\n",
       "    </tr>\n",
       "    <tr>\n",
       "      <th>13</th>\n",
       "      <td>binance</td>\n",
       "      <td>2022-11-10T06:06:34.739</td>\n",
       "      <td>16728.43</td>\n",
       "      <td>16738.73</td>\n",
       "      <td>16724.00</td>\n",
       "      <td>16725.89</td>\n",
       "      <td>127.88949</td>\n",
       "    </tr>\n",
       "    <tr>\n",
       "      <th>14</th>\n",
       "      <td>binance</td>\n",
       "      <td>2022-11-10T06:06:37.440</td>\n",
       "      <td>16728.43</td>\n",
       "      <td>16738.73</td>\n",
       "      <td>16724.00</td>\n",
       "      <td>16727.37</td>\n",
       "      <td>133.01625</td>\n",
       "    </tr>\n",
       "    <tr>\n",
       "      <th>15</th>\n",
       "      <td>binance</td>\n",
       "      <td>2022-11-10T06:06:39.977</td>\n",
       "      <td>16728.43</td>\n",
       "      <td>16738.73</td>\n",
       "      <td>16724.00</td>\n",
       "      <td>16726.59</td>\n",
       "      <td>134.81976</td>\n",
       "    </tr>\n",
       "    <tr>\n",
       "      <th>16</th>\n",
       "      <td>binance</td>\n",
       "      <td>2022-11-10T06:06:42.435</td>\n",
       "      <td>16728.43</td>\n",
       "      <td>16738.73</td>\n",
       "      <td>16724.00</td>\n",
       "      <td>16724.27</td>\n",
       "      <td>139.94386</td>\n",
       "    </tr>\n",
       "    <tr>\n",
       "      <th>17</th>\n",
       "      <td>binance</td>\n",
       "      <td>2022-11-10T06:06:44.847</td>\n",
       "      <td>16728.43</td>\n",
       "      <td>16738.73</td>\n",
       "      <td>16720.24</td>\n",
       "      <td>16723.45</td>\n",
       "      <td>162.56202</td>\n",
       "    </tr>\n",
       "    <tr>\n",
       "      <th>18</th>\n",
       "      <td>binance</td>\n",
       "      <td>2022-11-10T06:06:47.372</td>\n",
       "      <td>16728.43</td>\n",
       "      <td>16738.73</td>\n",
       "      <td>16720.24</td>\n",
       "      <td>16722.09</td>\n",
       "      <td>186.30882</td>\n",
       "    </tr>\n",
       "    <tr>\n",
       "      <th>19</th>\n",
       "      <td>binance</td>\n",
       "      <td>2022-11-10T06:06:49.956</td>\n",
       "      <td>16728.43</td>\n",
       "      <td>16738.73</td>\n",
       "      <td>16720.24</td>\n",
       "      <td>16731.40</td>\n",
       "      <td>203.70533</td>\n",
       "    </tr>\n",
       "    <tr>\n",
       "      <th>20</th>\n",
       "      <td>ftx</td>\n",
       "      <td>2022-11-10T06:06:53.414</td>\n",
       "      <td>16327.00</td>\n",
       "      <td>16374.00</td>\n",
       "      <td>16244.00</td>\n",
       "      <td>16336.00</td>\n",
       "      <td>25435.40920</td>\n",
       "    </tr>\n",
       "    <tr>\n",
       "      <th>21</th>\n",
       "      <td>ftx</td>\n",
       "      <td>2022-11-10T06:06:57.463</td>\n",
       "      <td>16327.00</td>\n",
       "      <td>16374.00</td>\n",
       "      <td>16244.00</td>\n",
       "      <td>16321.00</td>\n",
       "      <td>25440.31410</td>\n",
       "    </tr>\n",
       "    <tr>\n",
       "      <th>22</th>\n",
       "      <td>ftx</td>\n",
       "      <td>2022-11-10T06:07:00.431</td>\n",
       "      <td>16327.00</td>\n",
       "      <td>16374.00</td>\n",
       "      <td>16244.00</td>\n",
       "      <td>16321.00</td>\n",
       "      <td>25440.31410</td>\n",
       "    </tr>\n",
       "    <tr>\n",
       "      <th>23</th>\n",
       "      <td>ftx</td>\n",
       "      <td>2022-11-10T06:07:03.324</td>\n",
       "      <td>16321.00</td>\n",
       "      <td>16321.00</td>\n",
       "      <td>16321.00</td>\n",
       "      <td>16321.00</td>\n",
       "      <td>151.78530</td>\n",
       "    </tr>\n",
       "    <tr>\n",
       "      <th>24</th>\n",
       "      <td>ftx</td>\n",
       "      <td>2022-11-10T06:07:05.627</td>\n",
       "      <td>16321.00</td>\n",
       "      <td>16321.00</td>\n",
       "      <td>16321.00</td>\n",
       "      <td>16321.00</td>\n",
       "      <td>153.41740</td>\n",
       "    </tr>\n",
       "    <tr>\n",
       "      <th>25</th>\n",
       "      <td>ftx</td>\n",
       "      <td>2022-11-10T06:07:09.043</td>\n",
       "      <td>16321.00</td>\n",
       "      <td>16415.00</td>\n",
       "      <td>16244.00</td>\n",
       "      <td>16331.00</td>\n",
       "      <td>12133.30350</td>\n",
       "    </tr>\n",
       "    <tr>\n",
       "      <th>26</th>\n",
       "      <td>ftx</td>\n",
       "      <td>2022-11-10T06:07:13.929</td>\n",
       "      <td>16321.00</td>\n",
       "      <td>16415.00</td>\n",
       "      <td>16244.00</td>\n",
       "      <td>16348.00</td>\n",
       "      <td>12452.10680</td>\n",
       "    </tr>\n",
       "    <tr>\n",
       "      <th>27</th>\n",
       "      <td>ftx</td>\n",
       "      <td>2022-11-10T06:07:17.483</td>\n",
       "      <td>16321.00</td>\n",
       "      <td>16415.00</td>\n",
       "      <td>16244.00</td>\n",
       "      <td>16301.00</td>\n",
       "      <td>12468.41420</td>\n",
       "    </tr>\n",
       "    <tr>\n",
       "      <th>28</th>\n",
       "      <td>ftx</td>\n",
       "      <td>2022-11-10T06:07:21.431</td>\n",
       "      <td>16321.00</td>\n",
       "      <td>16415.00</td>\n",
       "      <td>16244.00</td>\n",
       "      <td>16362.00</td>\n",
       "      <td>12488.02770</td>\n",
       "    </tr>\n",
       "    <tr>\n",
       "      <th>29</th>\n",
       "      <td>ftx</td>\n",
       "      <td>2022-11-10T06:07:25.429</td>\n",
       "      <td>16321.00</td>\n",
       "      <td>16415.00</td>\n",
       "      <td>16244.00</td>\n",
       "      <td>16308.00</td>\n",
       "      <td>12499.44880</td>\n",
       "    </tr>\n",
       "    <tr>\n",
       "      <th>30</th>\n",
       "      <td>ftx</td>\n",
       "      <td>2022-11-10T06:07:28.392</td>\n",
       "      <td>16321.00</td>\n",
       "      <td>16415.00</td>\n",
       "      <td>16244.00</td>\n",
       "      <td>16282.00</td>\n",
       "      <td>12507.58990</td>\n",
       "    </tr>\n",
       "    <tr>\n",
       "      <th>31</th>\n",
       "      <td>ftx</td>\n",
       "      <td>2022-11-10T06:07:30.984</td>\n",
       "      <td>16321.00</td>\n",
       "      <td>16415.00</td>\n",
       "      <td>16244.00</td>\n",
       "      <td>16330.00</td>\n",
       "      <td>12556.45070</td>\n",
       "    </tr>\n",
       "    <tr>\n",
       "      <th>32</th>\n",
       "      <td>ftx</td>\n",
       "      <td>2022-11-10T06:07:35.194</td>\n",
       "      <td>16321.00</td>\n",
       "      <td>16415.00</td>\n",
       "      <td>16244.00</td>\n",
       "      <td>16317.00</td>\n",
       "      <td>36336.08180</td>\n",
       "    </tr>\n",
       "    <tr>\n",
       "      <th>33</th>\n",
       "      <td>ftx</td>\n",
       "      <td>2022-11-10T06:07:39.152</td>\n",
       "      <td>16321.00</td>\n",
       "      <td>16415.00</td>\n",
       "      <td>16244.00</td>\n",
       "      <td>16316.00</td>\n",
       "      <td>36389.95770</td>\n",
       "    </tr>\n",
       "    <tr>\n",
       "      <th>34</th>\n",
       "      <td>ftx</td>\n",
       "      <td>2022-11-10T06:07:42.611</td>\n",
       "      <td>16321.00</td>\n",
       "      <td>16415.00</td>\n",
       "      <td>16244.00</td>\n",
       "      <td>16333.00</td>\n",
       "      <td>36481.41910</td>\n",
       "    </tr>\n",
       "    <tr>\n",
       "      <th>35</th>\n",
       "      <td>ftx</td>\n",
       "      <td>2022-11-10T06:07:46.622</td>\n",
       "      <td>16321.00</td>\n",
       "      <td>16415.00</td>\n",
       "      <td>16244.00</td>\n",
       "      <td>16321.00</td>\n",
       "      <td>36837.25620</td>\n",
       "    </tr>\n",
       "    <tr>\n",
       "      <th>36</th>\n",
       "      <td>ftx</td>\n",
       "      <td>2022-11-10T06:07:51.255</td>\n",
       "      <td>16321.00</td>\n",
       "      <td>16415.00</td>\n",
       "      <td>16244.00</td>\n",
       "      <td>16338.00</td>\n",
       "      <td>41358.65590</td>\n",
       "    </tr>\n",
       "    <tr>\n",
       "      <th>37</th>\n",
       "      <td>ftx</td>\n",
       "      <td>2022-11-10T06:07:56.182</td>\n",
       "      <td>16321.00</td>\n",
       "      <td>16415.00</td>\n",
       "      <td>16244.00</td>\n",
       "      <td>16335.00</td>\n",
       "      <td>41517.11940</td>\n",
       "    </tr>\n",
       "    <tr>\n",
       "      <th>38</th>\n",
       "      <td>ftx</td>\n",
       "      <td>2022-11-10T06:07:59.602</td>\n",
       "      <td>16321.00</td>\n",
       "      <td>16415.00</td>\n",
       "      <td>16244.00</td>\n",
       "      <td>16350.00</td>\n",
       "      <td>44114.07940</td>\n",
       "    </tr>\n",
       "    <tr>\n",
       "      <th>39</th>\n",
       "      <td>ftx</td>\n",
       "      <td>2022-11-10T06:08:03.114</td>\n",
       "      <td>16350.00</td>\n",
       "      <td>16357.00</td>\n",
       "      <td>16316.00</td>\n",
       "      <td>16357.00</td>\n",
       "      <td>2152.50260</td>\n",
       "    </tr>\n",
       "    <tr>\n",
       "      <th>40</th>\n",
       "      <td>bytetrade</td>\n",
       "      <td>2022-11-10T06:08:05.823</td>\n",
       "      <td>16703.00</td>\n",
       "      <td>16704.40</td>\n",
       "      <td>16703.00</td>\n",
       "      <td>16704.40</td>\n",
       "      <td>0.00119</td>\n",
       "    </tr>\n",
       "    <tr>\n",
       "      <th>41</th>\n",
       "      <td>bytetrade</td>\n",
       "      <td>2022-11-10T06:08:08.665</td>\n",
       "      <td>16703.00</td>\n",
       "      <td>16704.40</td>\n",
       "      <td>16703.00</td>\n",
       "      <td>16704.40</td>\n",
       "      <td>0.00119</td>\n",
       "    </tr>\n",
       "    <tr>\n",
       "      <th>42</th>\n",
       "      <td>bytetrade</td>\n",
       "      <td>2022-11-10T06:08:11.330</td>\n",
       "      <td>16703.00</td>\n",
       "      <td>16721.90</td>\n",
       "      <td>16703.00</td>\n",
       "      <td>16715.00</td>\n",
       "      <td>0.00209</td>\n",
       "    </tr>\n",
       "    <tr>\n",
       "      <th>43</th>\n",
       "      <td>bytetrade</td>\n",
       "      <td>2022-11-10T06:08:14.651</td>\n",
       "      <td>16703.00</td>\n",
       "      <td>16721.90</td>\n",
       "      <td>16703.00</td>\n",
       "      <td>16706.30</td>\n",
       "      <td>0.00529</td>\n",
       "    </tr>\n",
       "    <tr>\n",
       "      <th>44</th>\n",
       "      <td>bytetrade</td>\n",
       "      <td>2022-11-10T06:08:17.303</td>\n",
       "      <td>16703.00</td>\n",
       "      <td>16721.90</td>\n",
       "      <td>16703.00</td>\n",
       "      <td>16706.30</td>\n",
       "      <td>0.00529</td>\n",
       "    </tr>\n",
       "    <tr>\n",
       "      <th>45</th>\n",
       "      <td>bytetrade</td>\n",
       "      <td>2022-11-10T06:08:19.800</td>\n",
       "      <td>16703.00</td>\n",
       "      <td>16724.70</td>\n",
       "      <td>16703.00</td>\n",
       "      <td>16724.70</td>\n",
       "      <td>0.00627</td>\n",
       "    </tr>\n",
       "    <tr>\n",
       "      <th>46</th>\n",
       "      <td>bytetrade</td>\n",
       "      <td>2022-11-10T06:08:22.716</td>\n",
       "      <td>16703.00</td>\n",
       "      <td>16724.70</td>\n",
       "      <td>16703.00</td>\n",
       "      <td>16714.80</td>\n",
       "      <td>0.00749</td>\n",
       "    </tr>\n",
       "    <tr>\n",
       "      <th>47</th>\n",
       "      <td>bytetrade</td>\n",
       "      <td>2022-11-10T06:08:25.712</td>\n",
       "      <td>16703.00</td>\n",
       "      <td>16724.70</td>\n",
       "      <td>16703.00</td>\n",
       "      <td>16724.20</td>\n",
       "      <td>0.00899</td>\n",
       "    </tr>\n",
       "    <tr>\n",
       "      <th>48</th>\n",
       "      <td>bytetrade</td>\n",
       "      <td>2022-11-10T06:08:28.202</td>\n",
       "      <td>16703.00</td>\n",
       "      <td>16724.70</td>\n",
       "      <td>16703.00</td>\n",
       "      <td>16709.90</td>\n",
       "      <td>0.00936</td>\n",
       "    </tr>\n",
       "    <tr>\n",
       "      <th>49</th>\n",
       "      <td>bytetrade</td>\n",
       "      <td>2022-11-10T06:08:30.932</td>\n",
       "      <td>16703.00</td>\n",
       "      <td>16724.70</td>\n",
       "      <td>16703.00</td>\n",
       "      <td>16707.70</td>\n",
       "      <td>0.00979</td>\n",
       "    </tr>\n",
       "    <tr>\n",
       "      <th>50</th>\n",
       "      <td>bytetrade</td>\n",
       "      <td>2022-11-10T06:08:33.701</td>\n",
       "      <td>16703.00</td>\n",
       "      <td>16724.70</td>\n",
       "      <td>16703.00</td>\n",
       "      <td>16723.70</td>\n",
       "      <td>0.01070</td>\n",
       "    </tr>\n",
       "    <tr>\n",
       "      <th>51</th>\n",
       "      <td>bytetrade</td>\n",
       "      <td>2022-11-10T06:08:36.378</td>\n",
       "      <td>16703.00</td>\n",
       "      <td>16724.70</td>\n",
       "      <td>16677.60</td>\n",
       "      <td>16677.60</td>\n",
       "      <td>0.01462</td>\n",
       "    </tr>\n",
       "    <tr>\n",
       "      <th>52</th>\n",
       "      <td>bytetrade</td>\n",
       "      <td>2022-11-10T06:08:39.829</td>\n",
       "      <td>16703.00</td>\n",
       "      <td>16724.70</td>\n",
       "      <td>16677.60</td>\n",
       "      <td>16677.60</td>\n",
       "      <td>0.01462</td>\n",
       "    </tr>\n",
       "    <tr>\n",
       "      <th>53</th>\n",
       "      <td>bytetrade</td>\n",
       "      <td>2022-11-10T06:08:43.189</td>\n",
       "      <td>16703.00</td>\n",
       "      <td>16725.40</td>\n",
       "      <td>16677.60</td>\n",
       "      <td>16717.40</td>\n",
       "      <td>0.01819</td>\n",
       "    </tr>\n",
       "    <tr>\n",
       "      <th>54</th>\n",
       "      <td>bytetrade</td>\n",
       "      <td>2022-11-10T06:08:45.929</td>\n",
       "      <td>16703.00</td>\n",
       "      <td>16740.00</td>\n",
       "      <td>16677.60</td>\n",
       "      <td>16740.00</td>\n",
       "      <td>0.01901</td>\n",
       "    </tr>\n",
       "    <tr>\n",
       "      <th>55</th>\n",
       "      <td>bytetrade</td>\n",
       "      <td>2022-11-10T06:08:48.376</td>\n",
       "      <td>16703.00</td>\n",
       "      <td>16740.00</td>\n",
       "      <td>16677.60</td>\n",
       "      <td>16716.80</td>\n",
       "      <td>0.02099</td>\n",
       "    </tr>\n",
       "    <tr>\n",
       "      <th>56</th>\n",
       "      <td>bytetrade</td>\n",
       "      <td>2022-11-10T06:08:51.163</td>\n",
       "      <td>16703.00</td>\n",
       "      <td>16740.00</td>\n",
       "      <td>16677.60</td>\n",
       "      <td>16727.40</td>\n",
       "      <td>0.02228</td>\n",
       "    </tr>\n",
       "    <tr>\n",
       "      <th>57</th>\n",
       "      <td>bytetrade</td>\n",
       "      <td>2022-11-10T06:08:53.661</td>\n",
       "      <td>16703.00</td>\n",
       "      <td>16740.00</td>\n",
       "      <td>16677.60</td>\n",
       "      <td>16717.40</td>\n",
       "      <td>0.02369</td>\n",
       "    </tr>\n",
       "    <tr>\n",
       "      <th>58</th>\n",
       "      <td>bytetrade</td>\n",
       "      <td>2022-11-10T06:08:56.370</td>\n",
       "      <td>16703.00</td>\n",
       "      <td>16740.00</td>\n",
       "      <td>16677.60</td>\n",
       "      <td>16724.30</td>\n",
       "      <td>0.02437</td>\n",
       "    </tr>\n",
       "    <tr>\n",
       "      <th>59</th>\n",
       "      <td>bytetrade</td>\n",
       "      <td>2022-11-10T06:08:59.819</td>\n",
       "      <td>16703.00</td>\n",
       "      <td>16740.00</td>\n",
       "      <td>16677.60</td>\n",
       "      <td>16724.30</td>\n",
       "      <td>0.02437</td>\n",
       "    </tr>\n",
       "  </tbody>\n",
       "</table>\n",
       "</div>"
      ],
      "text/plain": [
       "     exchange                timestamp      open      high       low  \\\n",
       "0     binance  2022-11-10T06:05:59.871  16781.55  16788.88  16723.12   \n",
       "1     binance  2022-11-10T06:06:02.317  16728.43  16736.13  16728.42   \n",
       "2     binance  2022-11-10T06:06:05.040  16728.43  16736.13  16726.01   \n",
       "3     binance  2022-11-10T06:06:07.516  16728.43  16738.73  16726.01   \n",
       "4     binance  2022-11-10T06:06:09.998  16728.43  16738.73  16726.01   \n",
       "5     binance  2022-11-10T06:06:12.804  16728.43  16738.73  16726.01   \n",
       "6     binance  2022-11-10T06:06:15.445  16728.43  16738.73  16724.00   \n",
       "7     binance  2022-11-10T06:06:17.897  16728.43  16738.73  16724.00   \n",
       "8     binance  2022-11-10T06:06:20.871  16728.43  16738.73  16724.00   \n",
       "9     binance  2022-11-10T06:06:23.537  16728.43  16738.73  16724.00   \n",
       "10    binance  2022-11-10T06:06:26.200  16728.43  16738.73  16724.00   \n",
       "11    binance  2022-11-10T06:06:29.400  16728.43  16738.73  16724.00   \n",
       "12    binance  2022-11-10T06:06:31.892  16728.43  16738.73  16724.00   \n",
       "13    binance  2022-11-10T06:06:34.739  16728.43  16738.73  16724.00   \n",
       "14    binance  2022-11-10T06:06:37.440  16728.43  16738.73  16724.00   \n",
       "15    binance  2022-11-10T06:06:39.977  16728.43  16738.73  16724.00   \n",
       "16    binance  2022-11-10T06:06:42.435  16728.43  16738.73  16724.00   \n",
       "17    binance  2022-11-10T06:06:44.847  16728.43  16738.73  16720.24   \n",
       "18    binance  2022-11-10T06:06:47.372  16728.43  16738.73  16720.24   \n",
       "19    binance  2022-11-10T06:06:49.956  16728.43  16738.73  16720.24   \n",
       "20        ftx  2022-11-10T06:06:53.414  16327.00  16374.00  16244.00   \n",
       "21        ftx  2022-11-10T06:06:57.463  16327.00  16374.00  16244.00   \n",
       "22        ftx  2022-11-10T06:07:00.431  16327.00  16374.00  16244.00   \n",
       "23        ftx  2022-11-10T06:07:03.324  16321.00  16321.00  16321.00   \n",
       "24        ftx  2022-11-10T06:07:05.627  16321.00  16321.00  16321.00   \n",
       "25        ftx  2022-11-10T06:07:09.043  16321.00  16415.00  16244.00   \n",
       "26        ftx  2022-11-10T06:07:13.929  16321.00  16415.00  16244.00   \n",
       "27        ftx  2022-11-10T06:07:17.483  16321.00  16415.00  16244.00   \n",
       "28        ftx  2022-11-10T06:07:21.431  16321.00  16415.00  16244.00   \n",
       "29        ftx  2022-11-10T06:07:25.429  16321.00  16415.00  16244.00   \n",
       "30        ftx  2022-11-10T06:07:28.392  16321.00  16415.00  16244.00   \n",
       "31        ftx  2022-11-10T06:07:30.984  16321.00  16415.00  16244.00   \n",
       "32        ftx  2022-11-10T06:07:35.194  16321.00  16415.00  16244.00   \n",
       "33        ftx  2022-11-10T06:07:39.152  16321.00  16415.00  16244.00   \n",
       "34        ftx  2022-11-10T06:07:42.611  16321.00  16415.00  16244.00   \n",
       "35        ftx  2022-11-10T06:07:46.622  16321.00  16415.00  16244.00   \n",
       "36        ftx  2022-11-10T06:07:51.255  16321.00  16415.00  16244.00   \n",
       "37        ftx  2022-11-10T06:07:56.182  16321.00  16415.00  16244.00   \n",
       "38        ftx  2022-11-10T06:07:59.602  16321.00  16415.00  16244.00   \n",
       "39        ftx  2022-11-10T06:08:03.114  16350.00  16357.00  16316.00   \n",
       "40  bytetrade  2022-11-10T06:08:05.823  16703.00  16704.40  16703.00   \n",
       "41  bytetrade  2022-11-10T06:08:08.665  16703.00  16704.40  16703.00   \n",
       "42  bytetrade  2022-11-10T06:08:11.330  16703.00  16721.90  16703.00   \n",
       "43  bytetrade  2022-11-10T06:08:14.651  16703.00  16721.90  16703.00   \n",
       "44  bytetrade  2022-11-10T06:08:17.303  16703.00  16721.90  16703.00   \n",
       "45  bytetrade  2022-11-10T06:08:19.800  16703.00  16724.70  16703.00   \n",
       "46  bytetrade  2022-11-10T06:08:22.716  16703.00  16724.70  16703.00   \n",
       "47  bytetrade  2022-11-10T06:08:25.712  16703.00  16724.70  16703.00   \n",
       "48  bytetrade  2022-11-10T06:08:28.202  16703.00  16724.70  16703.00   \n",
       "49  bytetrade  2022-11-10T06:08:30.932  16703.00  16724.70  16703.00   \n",
       "50  bytetrade  2022-11-10T06:08:33.701  16703.00  16724.70  16703.00   \n",
       "51  bytetrade  2022-11-10T06:08:36.378  16703.00  16724.70  16677.60   \n",
       "52  bytetrade  2022-11-10T06:08:39.829  16703.00  16724.70  16677.60   \n",
       "53  bytetrade  2022-11-10T06:08:43.189  16703.00  16725.40  16677.60   \n",
       "54  bytetrade  2022-11-10T06:08:45.929  16703.00  16740.00  16677.60   \n",
       "55  bytetrade  2022-11-10T06:08:48.376  16703.00  16740.00  16677.60   \n",
       "56  bytetrade  2022-11-10T06:08:51.163  16703.00  16740.00  16677.60   \n",
       "57  bytetrade  2022-11-10T06:08:53.661  16703.00  16740.00  16677.60   \n",
       "58  bytetrade  2022-11-10T06:08:56.370  16703.00  16740.00  16677.60   \n",
       "59  bytetrade  2022-11-10T06:08:59.819  16703.00  16740.00  16677.60   \n",
       "\n",
       "       close       volume  \n",
       "0   16729.02    353.35313  \n",
       "1   16732.85     18.39390  \n",
       "2   16733.64     36.84977  \n",
       "3   16731.62     43.96410  \n",
       "4   16728.71     51.92495  \n",
       "5   16731.33     58.41361  \n",
       "6   16727.13     72.97992  \n",
       "7   16726.48     75.66190  \n",
       "8   16725.08     79.16868  \n",
       "9   16727.82     87.25839  \n",
       "10  16728.08     92.28575  \n",
       "11  16725.75     96.58534  \n",
       "12  16732.71    108.12158  \n",
       "13  16725.89    127.88949  \n",
       "14  16727.37    133.01625  \n",
       "15  16726.59    134.81976  \n",
       "16  16724.27    139.94386  \n",
       "17  16723.45    162.56202  \n",
       "18  16722.09    186.30882  \n",
       "19  16731.40    203.70533  \n",
       "20  16336.00  25435.40920  \n",
       "21  16321.00  25440.31410  \n",
       "22  16321.00  25440.31410  \n",
       "23  16321.00    151.78530  \n",
       "24  16321.00    153.41740  \n",
       "25  16331.00  12133.30350  \n",
       "26  16348.00  12452.10680  \n",
       "27  16301.00  12468.41420  \n",
       "28  16362.00  12488.02770  \n",
       "29  16308.00  12499.44880  \n",
       "30  16282.00  12507.58990  \n",
       "31  16330.00  12556.45070  \n",
       "32  16317.00  36336.08180  \n",
       "33  16316.00  36389.95770  \n",
       "34  16333.00  36481.41910  \n",
       "35  16321.00  36837.25620  \n",
       "36  16338.00  41358.65590  \n",
       "37  16335.00  41517.11940  \n",
       "38  16350.00  44114.07940  \n",
       "39  16357.00   2152.50260  \n",
       "40  16704.40      0.00119  \n",
       "41  16704.40      0.00119  \n",
       "42  16715.00      0.00209  \n",
       "43  16706.30      0.00529  \n",
       "44  16706.30      0.00529  \n",
       "45  16724.70      0.00627  \n",
       "46  16714.80      0.00749  \n",
       "47  16724.20      0.00899  \n",
       "48  16709.90      0.00936  \n",
       "49  16707.70      0.00979  \n",
       "50  16723.70      0.01070  \n",
       "51  16677.60      0.01462  \n",
       "52  16677.60      0.01462  \n",
       "53  16717.40      0.01819  \n",
       "54  16740.00      0.01901  \n",
       "55  16716.80      0.02099  \n",
       "56  16727.40      0.02228  \n",
       "57  16717.40      0.02369  \n",
       "58  16724.30      0.02437  \n",
       "59  16724.30      0.02437  "
      ]
     },
     "execution_count": 31,
     "metadata": {},
     "output_type": "execute_result"
    }
   ],
   "source": [
    "verif_df1_OH = fn.concatenate(verif_0_B[1], verif_1_B[1], verif_2_B[1], n)\n",
    "verif_df1_OH"
   ]
  },
  {
   "cell_type": "markdown",
   "metadata": {},
   "source": [
    "<font color= lightblue> <font size = 2> Verification ETH </font>"
   ]
  },
  {
   "cell_type": "code",
   "execution_count": 32,
   "metadata": {},
   "outputs": [
    {
     "data": {
      "text/plain": [
       "((25, 'ETH/USDT', 'binance'),\n",
       " (25, 'ETH/USDT', 'ftx'),\n",
       " (25, 'ETH/USDT', 'bytetrade'))"
      ]
     },
     "execution_count": 32,
     "metadata": {},
     "output_type": "execute_result"
    }
   ],
   "source": [
    "v_params0= 25, criptos[1], exchanges[0]\n",
    "v_params1= 25, criptos[1], exchanges[1]\n",
    "v_params2= 25, criptos[1], exchanges[2]\n",
    "v_params0, v_params1, v_params2"
   ]
  },
  {
   "cell_type": "code",
   "execution_count": 33,
   "metadata": {},
   "outputs": [],
   "source": [
    "verif_0_E = vs.verif_ex1(v_params0[0],v_params0[1], v_params0[2], n)\n",
    "verif_1_E = vs.verif_ex1(v_params1[0],v_params1[1], v_params1[2], n)\n",
    "verif_2_E = vs.verif_ex1(v_params2[0],v_params2[1], v_params2[2], n)"
   ]
  },
  {
   "cell_type": "code",
   "execution_count": 34,
   "metadata": {},
   "outputs": [
    {
     "data": {
      "text/html": [
       "<div>\n",
       "<style scoped>\n",
       "    .dataframe tbody tr th:only-of-type {\n",
       "        vertical-align: middle;\n",
       "    }\n",
       "\n",
       "    .dataframe tbody tr th {\n",
       "        vertical-align: top;\n",
       "    }\n",
       "\n",
       "    .dataframe thead th {\n",
       "        text-align: right;\n",
       "    }\n",
       "</style>\n",
       "<table border=\"1\" class=\"dataframe\">\n",
       "  <thead>\n",
       "    <tr style=\"text-align: right;\">\n",
       "      <th></th>\n",
       "      <th>exchange</th>\n",
       "      <th>timestamp</th>\n",
       "      <th>ask</th>\n",
       "      <th>bid</th>\n",
       "      <th>ask_volume</th>\n",
       "      <th>bid_volume</th>\n",
       "      <th>spread</th>\n",
       "      <th>close_price</th>\n",
       "    </tr>\n",
       "  </thead>\n",
       "  <tbody>\n",
       "    <tr>\n",
       "      <th>0</th>\n",
       "      <td>binance</td>\n",
       "      <td>2022-11-10T06:09:03.590</td>\n",
       "      <td>1186.78</td>\n",
       "      <td>1186.77</td>\n",
       "      <td>133.8192</td>\n",
       "      <td>59.8967</td>\n",
       "      <td>0.01</td>\n",
       "      <td>1186.68</td>\n",
       "    </tr>\n",
       "    <tr>\n",
       "      <th>1</th>\n",
       "      <td>binance</td>\n",
       "      <td>2022-11-10T06:09:06.157</td>\n",
       "      <td>1186.46</td>\n",
       "      <td>1186.45</td>\n",
       "      <td>63.9908</td>\n",
       "      <td>62.4058</td>\n",
       "      <td>0.01</td>\n",
       "      <td>1186.46</td>\n",
       "    </tr>\n",
       "    <tr>\n",
       "      <th>2</th>\n",
       "      <td>binance</td>\n",
       "      <td>2022-11-10T06:09:08.823</td>\n",
       "      <td>1187.83</td>\n",
       "      <td>1187.82</td>\n",
       "      <td>67.8517</td>\n",
       "      <td>63.3495</td>\n",
       "      <td>0.01</td>\n",
       "      <td>1187.81</td>\n",
       "    </tr>\n",
       "    <tr>\n",
       "      <th>3</th>\n",
       "      <td>binance</td>\n",
       "      <td>2022-11-10T06:09:11.685</td>\n",
       "      <td>1187.42</td>\n",
       "      <td>1187.41</td>\n",
       "      <td>118.3054</td>\n",
       "      <td>67.4575</td>\n",
       "      <td>0.01</td>\n",
       "      <td>1187.41</td>\n",
       "    </tr>\n",
       "    <tr>\n",
       "      <th>4</th>\n",
       "      <td>binance</td>\n",
       "      <td>2022-11-10T06:09:14.705</td>\n",
       "      <td>1187.68</td>\n",
       "      <td>1187.67</td>\n",
       "      <td>73.6399</td>\n",
       "      <td>45.8913</td>\n",
       "      <td>0.01</td>\n",
       "      <td>1187.63</td>\n",
       "    </tr>\n",
       "    <tr>\n",
       "      <th>5</th>\n",
       "      <td>binance</td>\n",
       "      <td>2022-11-10T06:09:17.292</td>\n",
       "      <td>1187.98</td>\n",
       "      <td>1187.97</td>\n",
       "      <td>66.3074</td>\n",
       "      <td>60.9237</td>\n",
       "      <td>0.01</td>\n",
       "      <td>1187.97</td>\n",
       "    </tr>\n",
       "    <tr>\n",
       "      <th>6</th>\n",
       "      <td>binance</td>\n",
       "      <td>2022-11-10T06:09:20.154</td>\n",
       "      <td>1187.27</td>\n",
       "      <td>1187.26</td>\n",
       "      <td>54.4637</td>\n",
       "      <td>45.5810</td>\n",
       "      <td>0.01</td>\n",
       "      <td>1187.26</td>\n",
       "    </tr>\n",
       "    <tr>\n",
       "      <th>7</th>\n",
       "      <td>binance</td>\n",
       "      <td>2022-11-10T06:09:22.666</td>\n",
       "      <td>1187.37</td>\n",
       "      <td>1187.36</td>\n",
       "      <td>102.6880</td>\n",
       "      <td>53.5459</td>\n",
       "      <td>0.01</td>\n",
       "      <td>1187.36</td>\n",
       "    </tr>\n",
       "    <tr>\n",
       "      <th>8</th>\n",
       "      <td>binance</td>\n",
       "      <td>2022-11-10T06:09:25.323</td>\n",
       "      <td>1187.37</td>\n",
       "      <td>1187.36</td>\n",
       "      <td>74.1355</td>\n",
       "      <td>47.2142</td>\n",
       "      <td>0.01</td>\n",
       "      <td>1187.36</td>\n",
       "    </tr>\n",
       "    <tr>\n",
       "      <th>9</th>\n",
       "      <td>binance</td>\n",
       "      <td>2022-11-10T06:09:27.925</td>\n",
       "      <td>1187.85</td>\n",
       "      <td>1187.74</td>\n",
       "      <td>79.2262</td>\n",
       "      <td>78.6530</td>\n",
       "      <td>0.11</td>\n",
       "      <td>1187.85</td>\n",
       "    </tr>\n",
       "    <tr>\n",
       "      <th>10</th>\n",
       "      <td>binance</td>\n",
       "      <td>2022-11-10T06:09:30.648</td>\n",
       "      <td>1187.82</td>\n",
       "      <td>1187.81</td>\n",
       "      <td>56.2326</td>\n",
       "      <td>80.3329</td>\n",
       "      <td>0.01</td>\n",
       "      <td>1187.82</td>\n",
       "    </tr>\n",
       "    <tr>\n",
       "      <th>11</th>\n",
       "      <td>binance</td>\n",
       "      <td>2022-11-10T06:09:33.214</td>\n",
       "      <td>1187.53</td>\n",
       "      <td>1187.52</td>\n",
       "      <td>95.1597</td>\n",
       "      <td>39.4232</td>\n",
       "      <td>0.01</td>\n",
       "      <td>1187.52</td>\n",
       "    </tr>\n",
       "    <tr>\n",
       "      <th>12</th>\n",
       "      <td>binance</td>\n",
       "      <td>2022-11-10T06:09:35.773</td>\n",
       "      <td>1187.26</td>\n",
       "      <td>1187.25</td>\n",
       "      <td>80.4066</td>\n",
       "      <td>60.0415</td>\n",
       "      <td>0.01</td>\n",
       "      <td>1187.26</td>\n",
       "    </tr>\n",
       "    <tr>\n",
       "      <th>13</th>\n",
       "      <td>binance</td>\n",
       "      <td>2022-11-10T06:09:38.491</td>\n",
       "      <td>1187.38</td>\n",
       "      <td>1187.37</td>\n",
       "      <td>77.8136</td>\n",
       "      <td>70.2168</td>\n",
       "      <td>0.01</td>\n",
       "      <td>1187.38</td>\n",
       "    </tr>\n",
       "    <tr>\n",
       "      <th>14</th>\n",
       "      <td>binance</td>\n",
       "      <td>2022-11-10T06:09:41.361</td>\n",
       "      <td>1187.01</td>\n",
       "      <td>1187.00</td>\n",
       "      <td>63.3497</td>\n",
       "      <td>104.1113</td>\n",
       "      <td>0.01</td>\n",
       "      <td>1186.97</td>\n",
       "    </tr>\n",
       "    <tr>\n",
       "      <th>15</th>\n",
       "      <td>binance</td>\n",
       "      <td>2022-11-10T06:09:44.345</td>\n",
       "      <td>1186.80</td>\n",
       "      <td>1186.79</td>\n",
       "      <td>112.2279</td>\n",
       "      <td>47.6729</td>\n",
       "      <td>0.01</td>\n",
       "      <td>1186.79</td>\n",
       "    </tr>\n",
       "    <tr>\n",
       "      <th>16</th>\n",
       "      <td>binance</td>\n",
       "      <td>2022-11-10T06:09:47.381</td>\n",
       "      <td>1186.44</td>\n",
       "      <td>1186.41</td>\n",
       "      <td>94.2509</td>\n",
       "      <td>44.5831</td>\n",
       "      <td>0.03</td>\n",
       "      <td>1186.50</td>\n",
       "    </tr>\n",
       "    <tr>\n",
       "      <th>17</th>\n",
       "      <td>binance</td>\n",
       "      <td>2022-11-10T06:09:50.419</td>\n",
       "      <td>1186.08</td>\n",
       "      <td>1186.07</td>\n",
       "      <td>51.3312</td>\n",
       "      <td>127.6522</td>\n",
       "      <td>0.01</td>\n",
       "      <td>1186.20</td>\n",
       "    </tr>\n",
       "    <tr>\n",
       "      <th>18</th>\n",
       "      <td>binance</td>\n",
       "      <td>2022-11-10T06:09:52.963</td>\n",
       "      <td>1186.20</td>\n",
       "      <td>1186.19</td>\n",
       "      <td>68.7728</td>\n",
       "      <td>83.4300</td>\n",
       "      <td>0.01</td>\n",
       "      <td>1186.19</td>\n",
       "    </tr>\n",
       "    <tr>\n",
       "      <th>19</th>\n",
       "      <td>binance</td>\n",
       "      <td>2022-11-10T06:09:55.546</td>\n",
       "      <td>1187.76</td>\n",
       "      <td>1187.75</td>\n",
       "      <td>86.3706</td>\n",
       "      <td>52.7222</td>\n",
       "      <td>0.01</td>\n",
       "      <td>1187.64</td>\n",
       "    </tr>\n",
       "    <tr>\n",
       "      <th>20</th>\n",
       "      <td>ftx</td>\n",
       "      <td>2022-11-10T06:10:00.463</td>\n",
       "      <td>1214.40</td>\n",
       "      <td>1208.00</td>\n",
       "      <td>0.3880</td>\n",
       "      <td>0.6150</td>\n",
       "      <td>6.40</td>\n",
       "      <td>1208.20</td>\n",
       "    </tr>\n",
       "    <tr>\n",
       "      <th>21</th>\n",
       "      <td>ftx</td>\n",
       "      <td>2022-11-10T06:10:04.139</td>\n",
       "      <td>1213.50</td>\n",
       "      <td>1206.80</td>\n",
       "      <td>0.0740</td>\n",
       "      <td>39.2670</td>\n",
       "      <td>6.70</td>\n",
       "      <td>1213.30</td>\n",
       "    </tr>\n",
       "    <tr>\n",
       "      <th>22</th>\n",
       "      <td>ftx</td>\n",
       "      <td>2022-11-10T06:10:07.610</td>\n",
       "      <td>1213.40</td>\n",
       "      <td>1210.00</td>\n",
       "      <td>0.4300</td>\n",
       "      <td>1.7960</td>\n",
       "      <td>3.40</td>\n",
       "      <td>1213.40</td>\n",
       "    </tr>\n",
       "    <tr>\n",
       "      <th>23</th>\n",
       "      <td>ftx</td>\n",
       "      <td>2022-11-10T06:10:11.286</td>\n",
       "      <td>1213.40</td>\n",
       "      <td>1210.00</td>\n",
       "      <td>0.3990</td>\n",
       "      <td>0.4380</td>\n",
       "      <td>3.40</td>\n",
       "      <td>1213.40</td>\n",
       "    </tr>\n",
       "    <tr>\n",
       "      <th>24</th>\n",
       "      <td>ftx</td>\n",
       "      <td>2022-11-10T06:10:15.376</td>\n",
       "      <td>1213.40</td>\n",
       "      <td>1209.00</td>\n",
       "      <td>0.4220</td>\n",
       "      <td>0.4050</td>\n",
       "      <td>4.40</td>\n",
       "      <td>1209.70</td>\n",
       "    </tr>\n",
       "    <tr>\n",
       "      <th>25</th>\n",
       "      <td>ftx</td>\n",
       "      <td>2022-11-10T06:10:18.320</td>\n",
       "      <td>1212.70</td>\n",
       "      <td>1208.00</td>\n",
       "      <td>0.2600</td>\n",
       "      <td>0.4310</td>\n",
       "      <td>4.70</td>\n",
       "      <td>1208.30</td>\n",
       "    </tr>\n",
       "    <tr>\n",
       "      <th>26</th>\n",
       "      <td>ftx</td>\n",
       "      <td>2022-11-10T06:10:21.262</td>\n",
       "      <td>1212.00</td>\n",
       "      <td>1207.80</td>\n",
       "      <td>0.0550</td>\n",
       "      <td>0.1140</td>\n",
       "      <td>4.20</td>\n",
       "      <td>1209.10</td>\n",
       "    </tr>\n",
       "    <tr>\n",
       "      <th>27</th>\n",
       "      <td>ftx</td>\n",
       "      <td>2022-11-10T06:10:24.792</td>\n",
       "      <td>1212.00</td>\n",
       "      <td>1207.80</td>\n",
       "      <td>0.1070</td>\n",
       "      <td>0.1140</td>\n",
       "      <td>4.20</td>\n",
       "      <td>1209.10</td>\n",
       "    </tr>\n",
       "    <tr>\n",
       "      <th>28</th>\n",
       "      <td>ftx</td>\n",
       "      <td>2022-11-10T06:10:27.769</td>\n",
       "      <td>1212.00</td>\n",
       "      <td>1207.90</td>\n",
       "      <td>0.2530</td>\n",
       "      <td>3.0280</td>\n",
       "      <td>4.10</td>\n",
       "      <td>1209.10</td>\n",
       "    </tr>\n",
       "    <tr>\n",
       "      <th>29</th>\n",
       "      <td>ftx</td>\n",
       "      <td>2022-11-10T06:10:31.486</td>\n",
       "      <td>1211.90</td>\n",
       "      <td>1207.90</td>\n",
       "      <td>0.1130</td>\n",
       "      <td>3.0280</td>\n",
       "      <td>4.00</td>\n",
       "      <td>1209.10</td>\n",
       "    </tr>\n",
       "    <tr>\n",
       "      <th>30</th>\n",
       "      <td>ftx</td>\n",
       "      <td>2022-11-10T06:10:35.233</td>\n",
       "      <td>1211.90</td>\n",
       "      <td>1207.90</td>\n",
       "      <td>0.1130</td>\n",
       "      <td>3.0280</td>\n",
       "      <td>4.00</td>\n",
       "      <td>1209.10</td>\n",
       "    </tr>\n",
       "    <tr>\n",
       "      <th>31</th>\n",
       "      <td>ftx</td>\n",
       "      <td>2022-11-10T06:10:38.719</td>\n",
       "      <td>1211.90</td>\n",
       "      <td>1207.90</td>\n",
       "      <td>0.1130</td>\n",
       "      <td>3.0280</td>\n",
       "      <td>4.00</td>\n",
       "      <td>1211.50</td>\n",
       "    </tr>\n",
       "    <tr>\n",
       "      <th>32</th>\n",
       "      <td>ftx</td>\n",
       "      <td>2022-11-10T06:10:41.807</td>\n",
       "      <td>1211.90</td>\n",
       "      <td>1207.90</td>\n",
       "      <td>0.1100</td>\n",
       "      <td>3.0310</td>\n",
       "      <td>4.00</td>\n",
       "      <td>1211.90</td>\n",
       "    </tr>\n",
       "    <tr>\n",
       "      <th>33</th>\n",
       "      <td>ftx</td>\n",
       "      <td>2022-11-10T06:10:45.367</td>\n",
       "      <td>1211.90</td>\n",
       "      <td>1207.90</td>\n",
       "      <td>0.1060</td>\n",
       "      <td>3.0310</td>\n",
       "      <td>4.00</td>\n",
       "      <td>1211.90</td>\n",
       "    </tr>\n",
       "    <tr>\n",
       "      <th>34</th>\n",
       "      <td>ftx</td>\n",
       "      <td>2022-11-10T06:10:48.850</td>\n",
       "      <td>1211.80</td>\n",
       "      <td>1207.80</td>\n",
       "      <td>1.8410</td>\n",
       "      <td>0.4620</td>\n",
       "      <td>4.00</td>\n",
       "      <td>1211.80</td>\n",
       "    </tr>\n",
       "    <tr>\n",
       "      <th>35</th>\n",
       "      <td>ftx</td>\n",
       "      <td>2022-11-10T06:10:53.950</td>\n",
       "      <td>1211.80</td>\n",
       "      <td>1207.80</td>\n",
       "      <td>1.8200</td>\n",
       "      <td>0.1210</td>\n",
       "      <td>4.00</td>\n",
       "      <td>1208.80</td>\n",
       "    </tr>\n",
       "    <tr>\n",
       "      <th>36</th>\n",
       "      <td>ftx</td>\n",
       "      <td>2022-11-10T06:10:57.284</td>\n",
       "      <td>1211.50</td>\n",
       "      <td>1207.80</td>\n",
       "      <td>2.0280</td>\n",
       "      <td>0.1210</td>\n",
       "      <td>3.70</td>\n",
       "      <td>1208.80</td>\n",
       "    </tr>\n",
       "    <tr>\n",
       "      <th>37</th>\n",
       "      <td>ftx</td>\n",
       "      <td>2022-11-10T06:11:01.201</td>\n",
       "      <td>1206.20</td>\n",
       "      <td>1202.10</td>\n",
       "      <td>1.7610</td>\n",
       "      <td>135.9050</td>\n",
       "      <td>4.10</td>\n",
       "      <td>1202.10</td>\n",
       "    </tr>\n",
       "    <tr>\n",
       "      <th>38</th>\n",
       "      <td>ftx</td>\n",
       "      <td>2022-11-10T06:11:04.158</td>\n",
       "      <td>1206.20</td>\n",
       "      <td>1202.00</td>\n",
       "      <td>1.7590</td>\n",
       "      <td>135.9050</td>\n",
       "      <td>4.20</td>\n",
       "      <td>1206.20</td>\n",
       "    </tr>\n",
       "    <tr>\n",
       "      <th>39</th>\n",
       "      <td>ftx</td>\n",
       "      <td>2022-11-10T06:11:07.742</td>\n",
       "      <td>1208.10</td>\n",
       "      <td>1204.90</td>\n",
       "      <td>0.0780</td>\n",
       "      <td>0.1510</td>\n",
       "      <td>3.20</td>\n",
       "      <td>1208.00</td>\n",
       "    </tr>\n",
       "    <tr>\n",
       "      <th>40</th>\n",
       "      <td>bytetrade</td>\n",
       "      <td>2022-11-10T06:11:11.813</td>\n",
       "      <td>1194.60</td>\n",
       "      <td>1175.52</td>\n",
       "      <td>18.0542</td>\n",
       "      <td>161.3722</td>\n",
       "      <td>19.08</td>\n",
       "      <td>1185.89</td>\n",
       "    </tr>\n",
       "    <tr>\n",
       "      <th>41</th>\n",
       "      <td>bytetrade</td>\n",
       "      <td>2022-11-10T06:11:14.788</td>\n",
       "      <td>1194.60</td>\n",
       "      <td>1175.52</td>\n",
       "      <td>18.0542</td>\n",
       "      <td>161.3722</td>\n",
       "      <td>19.08</td>\n",
       "      <td>1184.95</td>\n",
       "    </tr>\n",
       "    <tr>\n",
       "      <th>42</th>\n",
       "      <td>bytetrade</td>\n",
       "      <td>2022-11-10T06:11:17.727</td>\n",
       "      <td>1194.60</td>\n",
       "      <td>1176.53</td>\n",
       "      <td>18.0542</td>\n",
       "      <td>161.5008</td>\n",
       "      <td>18.07</td>\n",
       "      <td>1184.95</td>\n",
       "    </tr>\n",
       "    <tr>\n",
       "      <th>43</th>\n",
       "      <td>bytetrade</td>\n",
       "      <td>2022-11-10T06:11:20.557</td>\n",
       "      <td>1194.60</td>\n",
       "      <td>1176.53</td>\n",
       "      <td>18.0542</td>\n",
       "      <td>161.5008</td>\n",
       "      <td>18.07</td>\n",
       "      <td>1185.71</td>\n",
       "    </tr>\n",
       "    <tr>\n",
       "      <th>44</th>\n",
       "      <td>bytetrade</td>\n",
       "      <td>2022-11-10T06:11:24.208</td>\n",
       "      <td>1194.60</td>\n",
       "      <td>1176.53</td>\n",
       "      <td>18.0542</td>\n",
       "      <td>161.5093</td>\n",
       "      <td>18.07</td>\n",
       "      <td>1185.78</td>\n",
       "    </tr>\n",
       "    <tr>\n",
       "      <th>45</th>\n",
       "      <td>bytetrade</td>\n",
       "      <td>2022-11-10T06:11:27.669</td>\n",
       "      <td>1194.60</td>\n",
       "      <td>1176.53</td>\n",
       "      <td>18.0542</td>\n",
       "      <td>161.5093</td>\n",
       "      <td>18.07</td>\n",
       "      <td>1186.73</td>\n",
       "    </tr>\n",
       "    <tr>\n",
       "      <th>46</th>\n",
       "      <td>bytetrade</td>\n",
       "      <td>2022-11-10T06:11:30.444</td>\n",
       "      <td>1194.60</td>\n",
       "      <td>1180.18</td>\n",
       "      <td>18.0542</td>\n",
       "      <td>161.5069</td>\n",
       "      <td>14.42</td>\n",
       "      <td>1186.73</td>\n",
       "    </tr>\n",
       "    <tr>\n",
       "      <th>47</th>\n",
       "      <td>bytetrade</td>\n",
       "      <td>2022-11-10T06:11:33.274</td>\n",
       "      <td>1194.60</td>\n",
       "      <td>1180.18</td>\n",
       "      <td>18.0542</td>\n",
       "      <td>161.5069</td>\n",
       "      <td>14.42</td>\n",
       "      <td>1186.54</td>\n",
       "    </tr>\n",
       "    <tr>\n",
       "      <th>48</th>\n",
       "      <td>bytetrade</td>\n",
       "      <td>2022-11-10T06:11:35.773</td>\n",
       "      <td>1194.60</td>\n",
       "      <td>1180.18</td>\n",
       "      <td>18.0542</td>\n",
       "      <td>161.5069</td>\n",
       "      <td>14.42</td>\n",
       "      <td>1186.54</td>\n",
       "    </tr>\n",
       "    <tr>\n",
       "      <th>49</th>\n",
       "      <td>bytetrade</td>\n",
       "      <td>2022-11-10T06:11:38.593</td>\n",
       "      <td>1194.60</td>\n",
       "      <td>1176.53</td>\n",
       "      <td>18.0542</td>\n",
       "      <td>161.5071</td>\n",
       "      <td>18.07</td>\n",
       "      <td>1186.30</td>\n",
       "    </tr>\n",
       "    <tr>\n",
       "      <th>50</th>\n",
       "      <td>bytetrade</td>\n",
       "      <td>2022-11-10T06:11:41.847</td>\n",
       "      <td>1194.60</td>\n",
       "      <td>1176.53</td>\n",
       "      <td>18.0542</td>\n",
       "      <td>161.5071</td>\n",
       "      <td>18.07</td>\n",
       "      <td>1184.42</td>\n",
       "    </tr>\n",
       "    <tr>\n",
       "      <th>51</th>\n",
       "      <td>bytetrade</td>\n",
       "      <td>2022-11-10T06:11:44.663</td>\n",
       "      <td>1194.60</td>\n",
       "      <td>1176.53</td>\n",
       "      <td>18.0542</td>\n",
       "      <td>161.5071</td>\n",
       "      <td>18.07</td>\n",
       "      <td>1186.35</td>\n",
       "    </tr>\n",
       "    <tr>\n",
       "      <th>52</th>\n",
       "      <td>bytetrade</td>\n",
       "      <td>2022-11-10T06:11:47.775</td>\n",
       "      <td>1194.60</td>\n",
       "      <td>1176.53</td>\n",
       "      <td>18.0542</td>\n",
       "      <td>161.5071</td>\n",
       "      <td>18.07</td>\n",
       "      <td>1186.35</td>\n",
       "    </tr>\n",
       "    <tr>\n",
       "      <th>53</th>\n",
       "      <td>bytetrade</td>\n",
       "      <td>2022-11-10T06:11:50.540</td>\n",
       "      <td>1194.60</td>\n",
       "      <td>1176.53</td>\n",
       "      <td>18.0542</td>\n",
       "      <td>161.5071</td>\n",
       "      <td>18.07</td>\n",
       "      <td>1186.74</td>\n",
       "    </tr>\n",
       "    <tr>\n",
       "      <th>54</th>\n",
       "      <td>bytetrade</td>\n",
       "      <td>2022-11-10T06:11:53.376</td>\n",
       "      <td>1194.60</td>\n",
       "      <td>1176.53</td>\n",
       "      <td>18.0542</td>\n",
       "      <td>161.5071</td>\n",
       "      <td>18.07</td>\n",
       "      <td>1186.00</td>\n",
       "    </tr>\n",
       "    <tr>\n",
       "      <th>55</th>\n",
       "      <td>bytetrade</td>\n",
       "      <td>2022-11-10T06:11:56.728</td>\n",
       "      <td>1194.60</td>\n",
       "      <td>1176.53</td>\n",
       "      <td>18.0542</td>\n",
       "      <td>161.5071</td>\n",
       "      <td>18.07</td>\n",
       "      <td>1186.00</td>\n",
       "    </tr>\n",
       "    <tr>\n",
       "      <th>56</th>\n",
       "      <td>bytetrade</td>\n",
       "      <td>2022-11-10T06:11:59.502</td>\n",
       "      <td>1194.60</td>\n",
       "      <td>1176.53</td>\n",
       "      <td>18.0542</td>\n",
       "      <td>161.5071</td>\n",
       "      <td>18.07</td>\n",
       "      <td>1186.54</td>\n",
       "    </tr>\n",
       "    <tr>\n",
       "      <th>57</th>\n",
       "      <td>bytetrade</td>\n",
       "      <td>2022-11-10T06:12:02.411</td>\n",
       "      <td>1194.60</td>\n",
       "      <td>1176.53</td>\n",
       "      <td>18.0542</td>\n",
       "      <td>161.5071</td>\n",
       "      <td>18.07</td>\n",
       "      <td>1186.54</td>\n",
       "    </tr>\n",
       "    <tr>\n",
       "      <th>58</th>\n",
       "      <td>bytetrade</td>\n",
       "      <td>2022-11-10T06:12:04.913</td>\n",
       "      <td>1194.60</td>\n",
       "      <td>1176.53</td>\n",
       "      <td>18.0542</td>\n",
       "      <td>161.5071</td>\n",
       "      <td>18.07</td>\n",
       "      <td>1186.27</td>\n",
       "    </tr>\n",
       "    <tr>\n",
       "      <th>59</th>\n",
       "      <td>bytetrade</td>\n",
       "      <td>2022-11-10T06:12:07.672</td>\n",
       "      <td>1194.60</td>\n",
       "      <td>1176.53</td>\n",
       "      <td>18.0542</td>\n",
       "      <td>161.5071</td>\n",
       "      <td>18.07</td>\n",
       "      <td>1184.50</td>\n",
       "    </tr>\n",
       "  </tbody>\n",
       "</table>\n",
       "</div>"
      ],
      "text/plain": [
       "     exchange                timestamp      ask      bid  ask_volume  \\\n",
       "0     binance  2022-11-10T06:09:03.590  1186.78  1186.77    133.8192   \n",
       "1     binance  2022-11-10T06:09:06.157  1186.46  1186.45     63.9908   \n",
       "2     binance  2022-11-10T06:09:08.823  1187.83  1187.82     67.8517   \n",
       "3     binance  2022-11-10T06:09:11.685  1187.42  1187.41    118.3054   \n",
       "4     binance  2022-11-10T06:09:14.705  1187.68  1187.67     73.6399   \n",
       "5     binance  2022-11-10T06:09:17.292  1187.98  1187.97     66.3074   \n",
       "6     binance  2022-11-10T06:09:20.154  1187.27  1187.26     54.4637   \n",
       "7     binance  2022-11-10T06:09:22.666  1187.37  1187.36    102.6880   \n",
       "8     binance  2022-11-10T06:09:25.323  1187.37  1187.36     74.1355   \n",
       "9     binance  2022-11-10T06:09:27.925  1187.85  1187.74     79.2262   \n",
       "10    binance  2022-11-10T06:09:30.648  1187.82  1187.81     56.2326   \n",
       "11    binance  2022-11-10T06:09:33.214  1187.53  1187.52     95.1597   \n",
       "12    binance  2022-11-10T06:09:35.773  1187.26  1187.25     80.4066   \n",
       "13    binance  2022-11-10T06:09:38.491  1187.38  1187.37     77.8136   \n",
       "14    binance  2022-11-10T06:09:41.361  1187.01  1187.00     63.3497   \n",
       "15    binance  2022-11-10T06:09:44.345  1186.80  1186.79    112.2279   \n",
       "16    binance  2022-11-10T06:09:47.381  1186.44  1186.41     94.2509   \n",
       "17    binance  2022-11-10T06:09:50.419  1186.08  1186.07     51.3312   \n",
       "18    binance  2022-11-10T06:09:52.963  1186.20  1186.19     68.7728   \n",
       "19    binance  2022-11-10T06:09:55.546  1187.76  1187.75     86.3706   \n",
       "20        ftx  2022-11-10T06:10:00.463  1214.40  1208.00      0.3880   \n",
       "21        ftx  2022-11-10T06:10:04.139  1213.50  1206.80      0.0740   \n",
       "22        ftx  2022-11-10T06:10:07.610  1213.40  1210.00      0.4300   \n",
       "23        ftx  2022-11-10T06:10:11.286  1213.40  1210.00      0.3990   \n",
       "24        ftx  2022-11-10T06:10:15.376  1213.40  1209.00      0.4220   \n",
       "25        ftx  2022-11-10T06:10:18.320  1212.70  1208.00      0.2600   \n",
       "26        ftx  2022-11-10T06:10:21.262  1212.00  1207.80      0.0550   \n",
       "27        ftx  2022-11-10T06:10:24.792  1212.00  1207.80      0.1070   \n",
       "28        ftx  2022-11-10T06:10:27.769  1212.00  1207.90      0.2530   \n",
       "29        ftx  2022-11-10T06:10:31.486  1211.90  1207.90      0.1130   \n",
       "30        ftx  2022-11-10T06:10:35.233  1211.90  1207.90      0.1130   \n",
       "31        ftx  2022-11-10T06:10:38.719  1211.90  1207.90      0.1130   \n",
       "32        ftx  2022-11-10T06:10:41.807  1211.90  1207.90      0.1100   \n",
       "33        ftx  2022-11-10T06:10:45.367  1211.90  1207.90      0.1060   \n",
       "34        ftx  2022-11-10T06:10:48.850  1211.80  1207.80      1.8410   \n",
       "35        ftx  2022-11-10T06:10:53.950  1211.80  1207.80      1.8200   \n",
       "36        ftx  2022-11-10T06:10:57.284  1211.50  1207.80      2.0280   \n",
       "37        ftx  2022-11-10T06:11:01.201  1206.20  1202.10      1.7610   \n",
       "38        ftx  2022-11-10T06:11:04.158  1206.20  1202.00      1.7590   \n",
       "39        ftx  2022-11-10T06:11:07.742  1208.10  1204.90      0.0780   \n",
       "40  bytetrade  2022-11-10T06:11:11.813  1194.60  1175.52     18.0542   \n",
       "41  bytetrade  2022-11-10T06:11:14.788  1194.60  1175.52     18.0542   \n",
       "42  bytetrade  2022-11-10T06:11:17.727  1194.60  1176.53     18.0542   \n",
       "43  bytetrade  2022-11-10T06:11:20.557  1194.60  1176.53     18.0542   \n",
       "44  bytetrade  2022-11-10T06:11:24.208  1194.60  1176.53     18.0542   \n",
       "45  bytetrade  2022-11-10T06:11:27.669  1194.60  1176.53     18.0542   \n",
       "46  bytetrade  2022-11-10T06:11:30.444  1194.60  1180.18     18.0542   \n",
       "47  bytetrade  2022-11-10T06:11:33.274  1194.60  1180.18     18.0542   \n",
       "48  bytetrade  2022-11-10T06:11:35.773  1194.60  1180.18     18.0542   \n",
       "49  bytetrade  2022-11-10T06:11:38.593  1194.60  1176.53     18.0542   \n",
       "50  bytetrade  2022-11-10T06:11:41.847  1194.60  1176.53     18.0542   \n",
       "51  bytetrade  2022-11-10T06:11:44.663  1194.60  1176.53     18.0542   \n",
       "52  bytetrade  2022-11-10T06:11:47.775  1194.60  1176.53     18.0542   \n",
       "53  bytetrade  2022-11-10T06:11:50.540  1194.60  1176.53     18.0542   \n",
       "54  bytetrade  2022-11-10T06:11:53.376  1194.60  1176.53     18.0542   \n",
       "55  bytetrade  2022-11-10T06:11:56.728  1194.60  1176.53     18.0542   \n",
       "56  bytetrade  2022-11-10T06:11:59.502  1194.60  1176.53     18.0542   \n",
       "57  bytetrade  2022-11-10T06:12:02.411  1194.60  1176.53     18.0542   \n",
       "58  bytetrade  2022-11-10T06:12:04.913  1194.60  1176.53     18.0542   \n",
       "59  bytetrade  2022-11-10T06:12:07.672  1194.60  1176.53     18.0542   \n",
       "\n",
       "    bid_volume  spread  close_price  \n",
       "0      59.8967    0.01      1186.68  \n",
       "1      62.4058    0.01      1186.46  \n",
       "2      63.3495    0.01      1187.81  \n",
       "3      67.4575    0.01      1187.41  \n",
       "4      45.8913    0.01      1187.63  \n",
       "5      60.9237    0.01      1187.97  \n",
       "6      45.5810    0.01      1187.26  \n",
       "7      53.5459    0.01      1187.36  \n",
       "8      47.2142    0.01      1187.36  \n",
       "9      78.6530    0.11      1187.85  \n",
       "10     80.3329    0.01      1187.82  \n",
       "11     39.4232    0.01      1187.52  \n",
       "12     60.0415    0.01      1187.26  \n",
       "13     70.2168    0.01      1187.38  \n",
       "14    104.1113    0.01      1186.97  \n",
       "15     47.6729    0.01      1186.79  \n",
       "16     44.5831    0.03      1186.50  \n",
       "17    127.6522    0.01      1186.20  \n",
       "18     83.4300    0.01      1186.19  \n",
       "19     52.7222    0.01      1187.64  \n",
       "20      0.6150    6.40      1208.20  \n",
       "21     39.2670    6.70      1213.30  \n",
       "22      1.7960    3.40      1213.40  \n",
       "23      0.4380    3.40      1213.40  \n",
       "24      0.4050    4.40      1209.70  \n",
       "25      0.4310    4.70      1208.30  \n",
       "26      0.1140    4.20      1209.10  \n",
       "27      0.1140    4.20      1209.10  \n",
       "28      3.0280    4.10      1209.10  \n",
       "29      3.0280    4.00      1209.10  \n",
       "30      3.0280    4.00      1209.10  \n",
       "31      3.0280    4.00      1211.50  \n",
       "32      3.0310    4.00      1211.90  \n",
       "33      3.0310    4.00      1211.90  \n",
       "34      0.4620    4.00      1211.80  \n",
       "35      0.1210    4.00      1208.80  \n",
       "36      0.1210    3.70      1208.80  \n",
       "37    135.9050    4.10      1202.10  \n",
       "38    135.9050    4.20      1206.20  \n",
       "39      0.1510    3.20      1208.00  \n",
       "40    161.3722   19.08      1185.89  \n",
       "41    161.3722   19.08      1184.95  \n",
       "42    161.5008   18.07      1184.95  \n",
       "43    161.5008   18.07      1185.71  \n",
       "44    161.5093   18.07      1185.78  \n",
       "45    161.5093   18.07      1186.73  \n",
       "46    161.5069   14.42      1186.73  \n",
       "47    161.5069   14.42      1186.54  \n",
       "48    161.5069   14.42      1186.54  \n",
       "49    161.5071   18.07      1186.30  \n",
       "50    161.5071   18.07      1184.42  \n",
       "51    161.5071   18.07      1186.35  \n",
       "52    161.5071   18.07      1186.35  \n",
       "53    161.5071   18.07      1186.74  \n",
       "54    161.5071   18.07      1186.00  \n",
       "55    161.5071   18.07      1186.00  \n",
       "56    161.5071   18.07      1186.54  \n",
       "57    161.5071   18.07      1186.54  \n",
       "58    161.5071   18.07      1186.27  \n",
       "59    161.5071   18.07      1184.50  "
      ]
     },
     "execution_count": 34,
     "metadata": {},
     "output_type": "execute_result"
    }
   ],
   "source": [
    "verif_df2 = fn.concatenate(verif_0_E[0], verif_1_E[0], verif_2_E[0], n)\n",
    "verif_df2"
   ]
  },
  {
   "cell_type": "markdown",
   "metadata": {},
   "source": [
    "<font color= lightblue> <font size = 2> OHLCV ETH </font>"
   ]
  },
  {
   "cell_type": "code",
   "execution_count": 35,
   "metadata": {},
   "outputs": [
    {
     "data": {
      "text/html": [
       "<div>\n",
       "<style scoped>\n",
       "    .dataframe tbody tr th:only-of-type {\n",
       "        vertical-align: middle;\n",
       "    }\n",
       "\n",
       "    .dataframe tbody tr th {\n",
       "        vertical-align: top;\n",
       "    }\n",
       "\n",
       "    .dataframe thead th {\n",
       "        text-align: right;\n",
       "    }\n",
       "</style>\n",
       "<table border=\"1\" class=\"dataframe\">\n",
       "  <thead>\n",
       "    <tr style=\"text-align: right;\">\n",
       "      <th></th>\n",
       "      <th>exchange</th>\n",
       "      <th>timestamp</th>\n",
       "      <th>open</th>\n",
       "      <th>high</th>\n",
       "      <th>low</th>\n",
       "      <th>close</th>\n",
       "      <th>volume</th>\n",
       "    </tr>\n",
       "  </thead>\n",
       "  <tbody>\n",
       "    <tr>\n",
       "      <th>0</th>\n",
       "      <td>binance</td>\n",
       "      <td>2022-11-10T06:09:03.590</td>\n",
       "      <td>1187.14</td>\n",
       "      <td>1187.68</td>\n",
       "      <td>1186.52</td>\n",
       "      <td>1186.68</td>\n",
       "      <td>320.8689</td>\n",
       "    </tr>\n",
       "    <tr>\n",
       "      <th>1</th>\n",
       "      <td>binance</td>\n",
       "      <td>2022-11-10T06:09:06.157</td>\n",
       "      <td>1187.14</td>\n",
       "      <td>1187.68</td>\n",
       "      <td>1186.45</td>\n",
       "      <td>1186.46</td>\n",
       "      <td>329.9121</td>\n",
       "    </tr>\n",
       "    <tr>\n",
       "      <th>2</th>\n",
       "      <td>binance</td>\n",
       "      <td>2022-11-10T06:09:08.823</td>\n",
       "      <td>1187.14</td>\n",
       "      <td>1187.81</td>\n",
       "      <td>1186.29</td>\n",
       "      <td>1187.81</td>\n",
       "      <td>440.6467</td>\n",
       "    </tr>\n",
       "    <tr>\n",
       "      <th>3</th>\n",
       "      <td>binance</td>\n",
       "      <td>2022-11-10T06:09:11.685</td>\n",
       "      <td>1187.14</td>\n",
       "      <td>1187.83</td>\n",
       "      <td>1186.29</td>\n",
       "      <td>1187.41</td>\n",
       "      <td>651.1713</td>\n",
       "    </tr>\n",
       "    <tr>\n",
       "      <th>4</th>\n",
       "      <td>binance</td>\n",
       "      <td>2022-11-10T06:09:14.705</td>\n",
       "      <td>1187.14</td>\n",
       "      <td>1187.83</td>\n",
       "      <td>1186.29</td>\n",
       "      <td>1187.63</td>\n",
       "      <td>657.9066</td>\n",
       "    </tr>\n",
       "    <tr>\n",
       "      <th>5</th>\n",
       "      <td>binance</td>\n",
       "      <td>2022-11-10T06:09:17.292</td>\n",
       "      <td>1187.14</td>\n",
       "      <td>1187.98</td>\n",
       "      <td>1186.29</td>\n",
       "      <td>1187.97</td>\n",
       "      <td>673.0728</td>\n",
       "    </tr>\n",
       "    <tr>\n",
       "      <th>6</th>\n",
       "      <td>binance</td>\n",
       "      <td>2022-11-10T06:09:20.154</td>\n",
       "      <td>1187.14</td>\n",
       "      <td>1187.98</td>\n",
       "      <td>1186.29</td>\n",
       "      <td>1187.26</td>\n",
       "      <td>690.4015</td>\n",
       "    </tr>\n",
       "    <tr>\n",
       "      <th>7</th>\n",
       "      <td>binance</td>\n",
       "      <td>2022-11-10T06:09:22.666</td>\n",
       "      <td>1187.14</td>\n",
       "      <td>1187.98</td>\n",
       "      <td>1186.29</td>\n",
       "      <td>1187.36</td>\n",
       "      <td>707.7800</td>\n",
       "    </tr>\n",
       "    <tr>\n",
       "      <th>8</th>\n",
       "      <td>binance</td>\n",
       "      <td>2022-11-10T06:09:25.323</td>\n",
       "      <td>1187.14</td>\n",
       "      <td>1187.98</td>\n",
       "      <td>1186.29</td>\n",
       "      <td>1187.36</td>\n",
       "      <td>720.7998</td>\n",
       "    </tr>\n",
       "    <tr>\n",
       "      <th>9</th>\n",
       "      <td>binance</td>\n",
       "      <td>2022-11-10T06:09:27.925</td>\n",
       "      <td>1187.14</td>\n",
       "      <td>1187.98</td>\n",
       "      <td>1186.29</td>\n",
       "      <td>1187.85</td>\n",
       "      <td>737.2562</td>\n",
       "    </tr>\n",
       "    <tr>\n",
       "      <th>10</th>\n",
       "      <td>binance</td>\n",
       "      <td>2022-11-10T06:09:30.648</td>\n",
       "      <td>1187.14</td>\n",
       "      <td>1187.98</td>\n",
       "      <td>1186.29</td>\n",
       "      <td>1187.82</td>\n",
       "      <td>759.8487</td>\n",
       "    </tr>\n",
       "    <tr>\n",
       "      <th>11</th>\n",
       "      <td>binance</td>\n",
       "      <td>2022-11-10T06:09:33.214</td>\n",
       "      <td>1187.14</td>\n",
       "      <td>1187.98</td>\n",
       "      <td>1186.29</td>\n",
       "      <td>1187.52</td>\n",
       "      <td>806.0656</td>\n",
       "    </tr>\n",
       "    <tr>\n",
       "      <th>12</th>\n",
       "      <td>binance</td>\n",
       "      <td>2022-11-10T06:09:35.773</td>\n",
       "      <td>1187.14</td>\n",
       "      <td>1187.98</td>\n",
       "      <td>1186.29</td>\n",
       "      <td>1187.26</td>\n",
       "      <td>819.7022</td>\n",
       "    </tr>\n",
       "    <tr>\n",
       "      <th>13</th>\n",
       "      <td>binance</td>\n",
       "      <td>2022-11-10T06:09:38.491</td>\n",
       "      <td>1187.14</td>\n",
       "      <td>1187.98</td>\n",
       "      <td>1186.29</td>\n",
       "      <td>1187.38</td>\n",
       "      <td>875.4632</td>\n",
       "    </tr>\n",
       "    <tr>\n",
       "      <th>14</th>\n",
       "      <td>binance</td>\n",
       "      <td>2022-11-10T06:09:41.361</td>\n",
       "      <td>1187.14</td>\n",
       "      <td>1187.98</td>\n",
       "      <td>1186.29</td>\n",
       "      <td>1186.97</td>\n",
       "      <td>894.2476</td>\n",
       "    </tr>\n",
       "    <tr>\n",
       "      <th>15</th>\n",
       "      <td>binance</td>\n",
       "      <td>2022-11-10T06:09:44.345</td>\n",
       "      <td>1187.14</td>\n",
       "      <td>1187.98</td>\n",
       "      <td>1186.29</td>\n",
       "      <td>1186.79</td>\n",
       "      <td>945.8295</td>\n",
       "    </tr>\n",
       "    <tr>\n",
       "      <th>16</th>\n",
       "      <td>binance</td>\n",
       "      <td>2022-11-10T06:09:47.381</td>\n",
       "      <td>1187.14</td>\n",
       "      <td>1187.98</td>\n",
       "      <td>1186.29</td>\n",
       "      <td>1186.50</td>\n",
       "      <td>955.1147</td>\n",
       "    </tr>\n",
       "    <tr>\n",
       "      <th>17</th>\n",
       "      <td>binance</td>\n",
       "      <td>2022-11-10T06:09:50.419</td>\n",
       "      <td>1187.14</td>\n",
       "      <td>1187.98</td>\n",
       "      <td>1186.00</td>\n",
       "      <td>1186.20</td>\n",
       "      <td>1012.0119</td>\n",
       "    </tr>\n",
       "    <tr>\n",
       "      <th>18</th>\n",
       "      <td>binance</td>\n",
       "      <td>2022-11-10T06:09:52.963</td>\n",
       "      <td>1187.14</td>\n",
       "      <td>1187.98</td>\n",
       "      <td>1186.00</td>\n",
       "      <td>1186.19</td>\n",
       "      <td>1031.2685</td>\n",
       "    </tr>\n",
       "    <tr>\n",
       "      <th>19</th>\n",
       "      <td>binance</td>\n",
       "      <td>2022-11-10T06:09:55.546</td>\n",
       "      <td>1187.14</td>\n",
       "      <td>1187.98</td>\n",
       "      <td>1186.00</td>\n",
       "      <td>1187.64</td>\n",
       "      <td>1238.2048</td>\n",
       "    </tr>\n",
       "    <tr>\n",
       "      <th>20</th>\n",
       "      <td>ftx</td>\n",
       "      <td>2022-11-10T06:10:00.463</td>\n",
       "      <td>1210.20</td>\n",
       "      <td>1222.70</td>\n",
       "      <td>1206.90</td>\n",
       "      <td>1208.20</td>\n",
       "      <td>8082.9180</td>\n",
       "    </tr>\n",
       "    <tr>\n",
       "      <th>21</th>\n",
       "      <td>ftx</td>\n",
       "      <td>2022-11-10T06:10:04.139</td>\n",
       "      <td>1208.20</td>\n",
       "      <td>1213.30</td>\n",
       "      <td>1205.80</td>\n",
       "      <td>1213.30</td>\n",
       "      <td>387.8521</td>\n",
       "    </tr>\n",
       "    <tr>\n",
       "      <th>22</th>\n",
       "      <td>ftx</td>\n",
       "      <td>2022-11-10T06:10:07.610</td>\n",
       "      <td>1208.20</td>\n",
       "      <td>1213.40</td>\n",
       "      <td>1205.80</td>\n",
       "      <td>1213.40</td>\n",
       "      <td>404.8157</td>\n",
       "    </tr>\n",
       "    <tr>\n",
       "      <th>23</th>\n",
       "      <td>ftx</td>\n",
       "      <td>2022-11-10T06:10:11.286</td>\n",
       "      <td>1208.20</td>\n",
       "      <td>1213.40</td>\n",
       "      <td>1205.80</td>\n",
       "      <td>1213.40</td>\n",
       "      <td>420.5741</td>\n",
       "    </tr>\n",
       "    <tr>\n",
       "      <th>24</th>\n",
       "      <td>ftx</td>\n",
       "      <td>2022-11-10T06:10:15.376</td>\n",
       "      <td>1208.20</td>\n",
       "      <td>1213.40</td>\n",
       "      <td>1205.80</td>\n",
       "      <td>1209.70</td>\n",
       "      <td>467.7616</td>\n",
       "    </tr>\n",
       "    <tr>\n",
       "      <th>25</th>\n",
       "      <td>ftx</td>\n",
       "      <td>2022-11-10T06:10:18.320</td>\n",
       "      <td>1208.20</td>\n",
       "      <td>1213.40</td>\n",
       "      <td>1205.80</td>\n",
       "      <td>1208.30</td>\n",
       "      <td>507.6336</td>\n",
       "    </tr>\n",
       "    <tr>\n",
       "      <th>26</th>\n",
       "      <td>ftx</td>\n",
       "      <td>2022-11-10T06:10:21.262</td>\n",
       "      <td>1208.20</td>\n",
       "      <td>1213.40</td>\n",
       "      <td>1205.80</td>\n",
       "      <td>1209.10</td>\n",
       "      <td>511.2609</td>\n",
       "    </tr>\n",
       "    <tr>\n",
       "      <th>27</th>\n",
       "      <td>ftx</td>\n",
       "      <td>2022-11-10T06:10:24.792</td>\n",
       "      <td>1208.20</td>\n",
       "      <td>1213.40</td>\n",
       "      <td>1205.80</td>\n",
       "      <td>1209.10</td>\n",
       "      <td>511.2609</td>\n",
       "    </tr>\n",
       "    <tr>\n",
       "      <th>28</th>\n",
       "      <td>ftx</td>\n",
       "      <td>2022-11-10T06:10:27.769</td>\n",
       "      <td>1208.20</td>\n",
       "      <td>1213.40</td>\n",
       "      <td>1205.80</td>\n",
       "      <td>1209.10</td>\n",
       "      <td>511.2609</td>\n",
       "    </tr>\n",
       "    <tr>\n",
       "      <th>29</th>\n",
       "      <td>ftx</td>\n",
       "      <td>2022-11-10T06:10:31.486</td>\n",
       "      <td>1208.20</td>\n",
       "      <td>1213.40</td>\n",
       "      <td>1205.80</td>\n",
       "      <td>1209.10</td>\n",
       "      <td>511.2609</td>\n",
       "    </tr>\n",
       "    <tr>\n",
       "      <th>30</th>\n",
       "      <td>ftx</td>\n",
       "      <td>2022-11-10T06:10:35.233</td>\n",
       "      <td>1208.20</td>\n",
       "      <td>1213.40</td>\n",
       "      <td>1205.80</td>\n",
       "      <td>1209.10</td>\n",
       "      <td>511.2609</td>\n",
       "    </tr>\n",
       "    <tr>\n",
       "      <th>31</th>\n",
       "      <td>ftx</td>\n",
       "      <td>2022-11-10T06:10:38.719</td>\n",
       "      <td>1208.20</td>\n",
       "      <td>1213.40</td>\n",
       "      <td>1205.80</td>\n",
       "      <td>1211.50</td>\n",
       "      <td>514.8954</td>\n",
       "    </tr>\n",
       "    <tr>\n",
       "      <th>32</th>\n",
       "      <td>ftx</td>\n",
       "      <td>2022-11-10T06:10:41.807</td>\n",
       "      <td>1208.20</td>\n",
       "      <td>1213.40</td>\n",
       "      <td>1205.80</td>\n",
       "      <td>1211.90</td>\n",
       "      <td>518.5311</td>\n",
       "    </tr>\n",
       "    <tr>\n",
       "      <th>33</th>\n",
       "      <td>ftx</td>\n",
       "      <td>2022-11-10T06:10:45.367</td>\n",
       "      <td>1208.20</td>\n",
       "      <td>1213.40</td>\n",
       "      <td>1205.80</td>\n",
       "      <td>1211.90</td>\n",
       "      <td>523.3787</td>\n",
       "    </tr>\n",
       "    <tr>\n",
       "      <th>34</th>\n",
       "      <td>ftx</td>\n",
       "      <td>2022-11-10T06:10:48.850</td>\n",
       "      <td>1208.20</td>\n",
       "      <td>1213.40</td>\n",
       "      <td>1205.80</td>\n",
       "      <td>1211.80</td>\n",
       "      <td>527.0051</td>\n",
       "    </tr>\n",
       "    <tr>\n",
       "      <th>35</th>\n",
       "      <td>ftx</td>\n",
       "      <td>2022-11-10T06:10:53.950</td>\n",
       "      <td>1208.20</td>\n",
       "      <td>1213.40</td>\n",
       "      <td>1205.80</td>\n",
       "      <td>1208.80</td>\n",
       "      <td>527.0051</td>\n",
       "    </tr>\n",
       "    <tr>\n",
       "      <th>36</th>\n",
       "      <td>ftx</td>\n",
       "      <td>2022-11-10T06:10:57.284</td>\n",
       "      <td>1208.20</td>\n",
       "      <td>1213.40</td>\n",
       "      <td>1205.80</td>\n",
       "      <td>1208.80</td>\n",
       "      <td>527.0051</td>\n",
       "    </tr>\n",
       "    <tr>\n",
       "      <th>37</th>\n",
       "      <td>ftx</td>\n",
       "      <td>2022-11-10T06:11:01.201</td>\n",
       "      <td>1202.00</td>\n",
       "      <td>1203.40</td>\n",
       "      <td>1202.00</td>\n",
       "      <td>1202.10</td>\n",
       "      <td>347.3780</td>\n",
       "    </tr>\n",
       "    <tr>\n",
       "      <th>38</th>\n",
       "      <td>ftx</td>\n",
       "      <td>2022-11-10T06:11:04.158</td>\n",
       "      <td>1202.00</td>\n",
       "      <td>1206.20</td>\n",
       "      <td>1202.00</td>\n",
       "      <td>1206.20</td>\n",
       "      <td>1540.3015</td>\n",
       "    </tr>\n",
       "    <tr>\n",
       "      <th>39</th>\n",
       "      <td>ftx</td>\n",
       "      <td>2022-11-10T06:11:07.742</td>\n",
       "      <td>1202.00</td>\n",
       "      <td>1208.10</td>\n",
       "      <td>1202.00</td>\n",
       "      <td>1208.00</td>\n",
       "      <td>1562.0354</td>\n",
       "    </tr>\n",
       "    <tr>\n",
       "      <th>40</th>\n",
       "      <td>bytetrade</td>\n",
       "      <td>2022-11-10T06:11:11.813</td>\n",
       "      <td>1187.61</td>\n",
       "      <td>1187.61</td>\n",
       "      <td>1185.89</td>\n",
       "      <td>1185.89</td>\n",
       "      <td>0.0325</td>\n",
       "    </tr>\n",
       "    <tr>\n",
       "      <th>41</th>\n",
       "      <td>bytetrade</td>\n",
       "      <td>2022-11-10T06:11:14.788</td>\n",
       "      <td>1187.61</td>\n",
       "      <td>1187.61</td>\n",
       "      <td>1184.95</td>\n",
       "      <td>1184.95</td>\n",
       "      <td>0.0363</td>\n",
       "    </tr>\n",
       "    <tr>\n",
       "      <th>42</th>\n",
       "      <td>bytetrade</td>\n",
       "      <td>2022-11-10T06:11:17.727</td>\n",
       "      <td>1187.61</td>\n",
       "      <td>1187.61</td>\n",
       "      <td>1184.95</td>\n",
       "      <td>1184.95</td>\n",
       "      <td>0.0363</td>\n",
       "    </tr>\n",
       "    <tr>\n",
       "      <th>43</th>\n",
       "      <td>bytetrade</td>\n",
       "      <td>2022-11-10T06:11:20.557</td>\n",
       "      <td>1187.61</td>\n",
       "      <td>1187.61</td>\n",
       "      <td>1184.95</td>\n",
       "      <td>1185.71</td>\n",
       "      <td>0.0408</td>\n",
       "    </tr>\n",
       "    <tr>\n",
       "      <th>44</th>\n",
       "      <td>bytetrade</td>\n",
       "      <td>2022-11-10T06:11:24.208</td>\n",
       "      <td>1187.61</td>\n",
       "      <td>1187.61</td>\n",
       "      <td>1184.95</td>\n",
       "      <td>1185.78</td>\n",
       "      <td>0.0463</td>\n",
       "    </tr>\n",
       "    <tr>\n",
       "      <th>45</th>\n",
       "      <td>bytetrade</td>\n",
       "      <td>2022-11-10T06:11:27.669</td>\n",
       "      <td>1187.61</td>\n",
       "      <td>1187.61</td>\n",
       "      <td>1184.95</td>\n",
       "      <td>1186.73</td>\n",
       "      <td>0.0475</td>\n",
       "    </tr>\n",
       "    <tr>\n",
       "      <th>46</th>\n",
       "      <td>bytetrade</td>\n",
       "      <td>2022-11-10T06:11:30.444</td>\n",
       "      <td>1187.61</td>\n",
       "      <td>1187.61</td>\n",
       "      <td>1184.95</td>\n",
       "      <td>1186.73</td>\n",
       "      <td>0.0475</td>\n",
       "    </tr>\n",
       "    <tr>\n",
       "      <th>47</th>\n",
       "      <td>bytetrade</td>\n",
       "      <td>2022-11-10T06:11:33.274</td>\n",
       "      <td>1187.61</td>\n",
       "      <td>1187.61</td>\n",
       "      <td>1184.95</td>\n",
       "      <td>1186.54</td>\n",
       "      <td>0.0493</td>\n",
       "    </tr>\n",
       "    <tr>\n",
       "      <th>48</th>\n",
       "      <td>bytetrade</td>\n",
       "      <td>2022-11-10T06:11:35.773</td>\n",
       "      <td>1187.61</td>\n",
       "      <td>1187.61</td>\n",
       "      <td>1184.95</td>\n",
       "      <td>1186.54</td>\n",
       "      <td>0.0493</td>\n",
       "    </tr>\n",
       "    <tr>\n",
       "      <th>49</th>\n",
       "      <td>bytetrade</td>\n",
       "      <td>2022-11-10T06:11:38.593</td>\n",
       "      <td>1187.61</td>\n",
       "      <td>1187.61</td>\n",
       "      <td>1184.95</td>\n",
       "      <td>1186.30</td>\n",
       "      <td>0.0498</td>\n",
       "    </tr>\n",
       "    <tr>\n",
       "      <th>50</th>\n",
       "      <td>bytetrade</td>\n",
       "      <td>2022-11-10T06:11:41.847</td>\n",
       "      <td>1187.61</td>\n",
       "      <td>1187.61</td>\n",
       "      <td>1184.42</td>\n",
       "      <td>1184.42</td>\n",
       "      <td>0.0512</td>\n",
       "    </tr>\n",
       "    <tr>\n",
       "      <th>51</th>\n",
       "      <td>bytetrade</td>\n",
       "      <td>2022-11-10T06:11:44.663</td>\n",
       "      <td>1187.61</td>\n",
       "      <td>1187.61</td>\n",
       "      <td>1184.42</td>\n",
       "      <td>1186.35</td>\n",
       "      <td>0.0534</td>\n",
       "    </tr>\n",
       "    <tr>\n",
       "      <th>52</th>\n",
       "      <td>bytetrade</td>\n",
       "      <td>2022-11-10T06:11:47.775</td>\n",
       "      <td>1187.61</td>\n",
       "      <td>1187.61</td>\n",
       "      <td>1184.42</td>\n",
       "      <td>1186.35</td>\n",
       "      <td>0.0534</td>\n",
       "    </tr>\n",
       "    <tr>\n",
       "      <th>53</th>\n",
       "      <td>bytetrade</td>\n",
       "      <td>2022-11-10T06:11:50.540</td>\n",
       "      <td>1187.61</td>\n",
       "      <td>1187.61</td>\n",
       "      <td>1184.42</td>\n",
       "      <td>1186.74</td>\n",
       "      <td>0.0540</td>\n",
       "    </tr>\n",
       "    <tr>\n",
       "      <th>54</th>\n",
       "      <td>bytetrade</td>\n",
       "      <td>2022-11-10T06:11:53.376</td>\n",
       "      <td>1187.61</td>\n",
       "      <td>1187.61</td>\n",
       "      <td>1184.42</td>\n",
       "      <td>1186.00</td>\n",
       "      <td>0.0554</td>\n",
       "    </tr>\n",
       "    <tr>\n",
       "      <th>55</th>\n",
       "      <td>bytetrade</td>\n",
       "      <td>2022-11-10T06:11:56.728</td>\n",
       "      <td>1187.61</td>\n",
       "      <td>1187.61</td>\n",
       "      <td>1184.42</td>\n",
       "      <td>1186.00</td>\n",
       "      <td>0.0554</td>\n",
       "    </tr>\n",
       "    <tr>\n",
       "      <th>56</th>\n",
       "      <td>bytetrade</td>\n",
       "      <td>2022-11-10T06:11:59.502</td>\n",
       "      <td>1187.61</td>\n",
       "      <td>1187.61</td>\n",
       "      <td>1184.42</td>\n",
       "      <td>1186.54</td>\n",
       "      <td>0.0573</td>\n",
       "    </tr>\n",
       "    <tr>\n",
       "      <th>57</th>\n",
       "      <td>bytetrade</td>\n",
       "      <td>2022-11-10T06:12:02.411</td>\n",
       "      <td>1186.54</td>\n",
       "      <td>1186.54</td>\n",
       "      <td>1186.54</td>\n",
       "      <td>1186.54</td>\n",
       "      <td>0.0000</td>\n",
       "    </tr>\n",
       "    <tr>\n",
       "      <th>58</th>\n",
       "      <td>bytetrade</td>\n",
       "      <td>2022-11-10T06:12:04.913</td>\n",
       "      <td>1186.27</td>\n",
       "      <td>1186.27</td>\n",
       "      <td>1186.27</td>\n",
       "      <td>1186.27</td>\n",
       "      <td>0.0027</td>\n",
       "    </tr>\n",
       "    <tr>\n",
       "      <th>59</th>\n",
       "      <td>bytetrade</td>\n",
       "      <td>2022-11-10T06:12:07.672</td>\n",
       "      <td>1186.27</td>\n",
       "      <td>1186.27</td>\n",
       "      <td>1184.50</td>\n",
       "      <td>1184.50</td>\n",
       "      <td>0.0070</td>\n",
       "    </tr>\n",
       "  </tbody>\n",
       "</table>\n",
       "</div>"
      ],
      "text/plain": [
       "     exchange                timestamp     open     high      low    close  \\\n",
       "0     binance  2022-11-10T06:09:03.590  1187.14  1187.68  1186.52  1186.68   \n",
       "1     binance  2022-11-10T06:09:06.157  1187.14  1187.68  1186.45  1186.46   \n",
       "2     binance  2022-11-10T06:09:08.823  1187.14  1187.81  1186.29  1187.81   \n",
       "3     binance  2022-11-10T06:09:11.685  1187.14  1187.83  1186.29  1187.41   \n",
       "4     binance  2022-11-10T06:09:14.705  1187.14  1187.83  1186.29  1187.63   \n",
       "5     binance  2022-11-10T06:09:17.292  1187.14  1187.98  1186.29  1187.97   \n",
       "6     binance  2022-11-10T06:09:20.154  1187.14  1187.98  1186.29  1187.26   \n",
       "7     binance  2022-11-10T06:09:22.666  1187.14  1187.98  1186.29  1187.36   \n",
       "8     binance  2022-11-10T06:09:25.323  1187.14  1187.98  1186.29  1187.36   \n",
       "9     binance  2022-11-10T06:09:27.925  1187.14  1187.98  1186.29  1187.85   \n",
       "10    binance  2022-11-10T06:09:30.648  1187.14  1187.98  1186.29  1187.82   \n",
       "11    binance  2022-11-10T06:09:33.214  1187.14  1187.98  1186.29  1187.52   \n",
       "12    binance  2022-11-10T06:09:35.773  1187.14  1187.98  1186.29  1187.26   \n",
       "13    binance  2022-11-10T06:09:38.491  1187.14  1187.98  1186.29  1187.38   \n",
       "14    binance  2022-11-10T06:09:41.361  1187.14  1187.98  1186.29  1186.97   \n",
       "15    binance  2022-11-10T06:09:44.345  1187.14  1187.98  1186.29  1186.79   \n",
       "16    binance  2022-11-10T06:09:47.381  1187.14  1187.98  1186.29  1186.50   \n",
       "17    binance  2022-11-10T06:09:50.419  1187.14  1187.98  1186.00  1186.20   \n",
       "18    binance  2022-11-10T06:09:52.963  1187.14  1187.98  1186.00  1186.19   \n",
       "19    binance  2022-11-10T06:09:55.546  1187.14  1187.98  1186.00  1187.64   \n",
       "20        ftx  2022-11-10T06:10:00.463  1210.20  1222.70  1206.90  1208.20   \n",
       "21        ftx  2022-11-10T06:10:04.139  1208.20  1213.30  1205.80  1213.30   \n",
       "22        ftx  2022-11-10T06:10:07.610  1208.20  1213.40  1205.80  1213.40   \n",
       "23        ftx  2022-11-10T06:10:11.286  1208.20  1213.40  1205.80  1213.40   \n",
       "24        ftx  2022-11-10T06:10:15.376  1208.20  1213.40  1205.80  1209.70   \n",
       "25        ftx  2022-11-10T06:10:18.320  1208.20  1213.40  1205.80  1208.30   \n",
       "26        ftx  2022-11-10T06:10:21.262  1208.20  1213.40  1205.80  1209.10   \n",
       "27        ftx  2022-11-10T06:10:24.792  1208.20  1213.40  1205.80  1209.10   \n",
       "28        ftx  2022-11-10T06:10:27.769  1208.20  1213.40  1205.80  1209.10   \n",
       "29        ftx  2022-11-10T06:10:31.486  1208.20  1213.40  1205.80  1209.10   \n",
       "30        ftx  2022-11-10T06:10:35.233  1208.20  1213.40  1205.80  1209.10   \n",
       "31        ftx  2022-11-10T06:10:38.719  1208.20  1213.40  1205.80  1211.50   \n",
       "32        ftx  2022-11-10T06:10:41.807  1208.20  1213.40  1205.80  1211.90   \n",
       "33        ftx  2022-11-10T06:10:45.367  1208.20  1213.40  1205.80  1211.90   \n",
       "34        ftx  2022-11-10T06:10:48.850  1208.20  1213.40  1205.80  1211.80   \n",
       "35        ftx  2022-11-10T06:10:53.950  1208.20  1213.40  1205.80  1208.80   \n",
       "36        ftx  2022-11-10T06:10:57.284  1208.20  1213.40  1205.80  1208.80   \n",
       "37        ftx  2022-11-10T06:11:01.201  1202.00  1203.40  1202.00  1202.10   \n",
       "38        ftx  2022-11-10T06:11:04.158  1202.00  1206.20  1202.00  1206.20   \n",
       "39        ftx  2022-11-10T06:11:07.742  1202.00  1208.10  1202.00  1208.00   \n",
       "40  bytetrade  2022-11-10T06:11:11.813  1187.61  1187.61  1185.89  1185.89   \n",
       "41  bytetrade  2022-11-10T06:11:14.788  1187.61  1187.61  1184.95  1184.95   \n",
       "42  bytetrade  2022-11-10T06:11:17.727  1187.61  1187.61  1184.95  1184.95   \n",
       "43  bytetrade  2022-11-10T06:11:20.557  1187.61  1187.61  1184.95  1185.71   \n",
       "44  bytetrade  2022-11-10T06:11:24.208  1187.61  1187.61  1184.95  1185.78   \n",
       "45  bytetrade  2022-11-10T06:11:27.669  1187.61  1187.61  1184.95  1186.73   \n",
       "46  bytetrade  2022-11-10T06:11:30.444  1187.61  1187.61  1184.95  1186.73   \n",
       "47  bytetrade  2022-11-10T06:11:33.274  1187.61  1187.61  1184.95  1186.54   \n",
       "48  bytetrade  2022-11-10T06:11:35.773  1187.61  1187.61  1184.95  1186.54   \n",
       "49  bytetrade  2022-11-10T06:11:38.593  1187.61  1187.61  1184.95  1186.30   \n",
       "50  bytetrade  2022-11-10T06:11:41.847  1187.61  1187.61  1184.42  1184.42   \n",
       "51  bytetrade  2022-11-10T06:11:44.663  1187.61  1187.61  1184.42  1186.35   \n",
       "52  bytetrade  2022-11-10T06:11:47.775  1187.61  1187.61  1184.42  1186.35   \n",
       "53  bytetrade  2022-11-10T06:11:50.540  1187.61  1187.61  1184.42  1186.74   \n",
       "54  bytetrade  2022-11-10T06:11:53.376  1187.61  1187.61  1184.42  1186.00   \n",
       "55  bytetrade  2022-11-10T06:11:56.728  1187.61  1187.61  1184.42  1186.00   \n",
       "56  bytetrade  2022-11-10T06:11:59.502  1187.61  1187.61  1184.42  1186.54   \n",
       "57  bytetrade  2022-11-10T06:12:02.411  1186.54  1186.54  1186.54  1186.54   \n",
       "58  bytetrade  2022-11-10T06:12:04.913  1186.27  1186.27  1186.27  1186.27   \n",
       "59  bytetrade  2022-11-10T06:12:07.672  1186.27  1186.27  1184.50  1184.50   \n",
       "\n",
       "       volume  \n",
       "0    320.8689  \n",
       "1    329.9121  \n",
       "2    440.6467  \n",
       "3    651.1713  \n",
       "4    657.9066  \n",
       "5    673.0728  \n",
       "6    690.4015  \n",
       "7    707.7800  \n",
       "8    720.7998  \n",
       "9    737.2562  \n",
       "10   759.8487  \n",
       "11   806.0656  \n",
       "12   819.7022  \n",
       "13   875.4632  \n",
       "14   894.2476  \n",
       "15   945.8295  \n",
       "16   955.1147  \n",
       "17  1012.0119  \n",
       "18  1031.2685  \n",
       "19  1238.2048  \n",
       "20  8082.9180  \n",
       "21   387.8521  \n",
       "22   404.8157  \n",
       "23   420.5741  \n",
       "24   467.7616  \n",
       "25   507.6336  \n",
       "26   511.2609  \n",
       "27   511.2609  \n",
       "28   511.2609  \n",
       "29   511.2609  \n",
       "30   511.2609  \n",
       "31   514.8954  \n",
       "32   518.5311  \n",
       "33   523.3787  \n",
       "34   527.0051  \n",
       "35   527.0051  \n",
       "36   527.0051  \n",
       "37   347.3780  \n",
       "38  1540.3015  \n",
       "39  1562.0354  \n",
       "40     0.0325  \n",
       "41     0.0363  \n",
       "42     0.0363  \n",
       "43     0.0408  \n",
       "44     0.0463  \n",
       "45     0.0475  \n",
       "46     0.0475  \n",
       "47     0.0493  \n",
       "48     0.0493  \n",
       "49     0.0498  \n",
       "50     0.0512  \n",
       "51     0.0534  \n",
       "52     0.0534  \n",
       "53     0.0540  \n",
       "54     0.0554  \n",
       "55     0.0554  \n",
       "56     0.0573  \n",
       "57     0.0000  \n",
       "58     0.0027  \n",
       "59     0.0070  "
      ]
     },
     "execution_count": 35,
     "metadata": {},
     "output_type": "execute_result"
    }
   ],
   "source": [
    "verif_df2_OH = fn.concatenate(verif_0_E[1], verif_1_E[1], verif_2_E[1], n)\n",
    "verif_df2_OH"
   ]
  },
  {
   "cell_type": "markdown",
   "metadata": {},
   "source": [
    "<font color= lightblue> <font size = 2> Verification XRP </font>"
   ]
  },
  {
   "cell_type": "code",
   "execution_count": 36,
   "metadata": {},
   "outputs": [
    {
     "data": {
      "text/plain": [
       "((25, 'XRP/USDT', 'binance'),\n",
       " (25, 'XRP/USDT', 'ftx'),\n",
       " (25, 'XRP/USDT', 'bytetrade'))"
      ]
     },
     "execution_count": 36,
     "metadata": {},
     "output_type": "execute_result"
    }
   ],
   "source": [
    "v_params0= 25, criptos[2], exchanges[0]\n",
    "v_params1= 25, criptos[2], exchanges[1]\n",
    "v_params2= 25, criptos[2], exchanges[2]\n",
    "v_params0, v_params1, v_params2"
   ]
  },
  {
   "cell_type": "code",
   "execution_count": 37,
   "metadata": {},
   "outputs": [],
   "source": [
    "verif_0_X = vs.verif_ex1(v_params0[0],v_params0[1], v_params0[2], n)\n",
    "verif_1_X = vs.verif_ex1(v_params1[0],v_params1[1], v_params1[2], n)\n",
    "verif_2_X = vs.verif_ex1(v_params2[0],v_params2[1], v_params2[2], n)"
   ]
  },
  {
   "cell_type": "markdown",
   "metadata": {},
   "source": [
    "In this example, bigger spreads can be detected on bytetrade for XRP. On the contrary, binance has lower spreads and bigger volumes as well."
   ]
  },
  {
   "cell_type": "code",
   "execution_count": 38,
   "metadata": {},
   "outputs": [
    {
     "data": {
      "text/html": [
       "<div>\n",
       "<style scoped>\n",
       "    .dataframe tbody tr th:only-of-type {\n",
       "        vertical-align: middle;\n",
       "    }\n",
       "\n",
       "    .dataframe tbody tr th {\n",
       "        vertical-align: top;\n",
       "    }\n",
       "\n",
       "    .dataframe thead th {\n",
       "        text-align: right;\n",
       "    }\n",
       "</style>\n",
       "<table border=\"1\" class=\"dataframe\">\n",
       "  <thead>\n",
       "    <tr style=\"text-align: right;\">\n",
       "      <th></th>\n",
       "      <th>exchange</th>\n",
       "      <th>timestamp</th>\n",
       "      <th>ask</th>\n",
       "      <th>bid</th>\n",
       "      <th>ask_volume</th>\n",
       "      <th>bid_volume</th>\n",
       "      <th>spread</th>\n",
       "      <th>close_price</th>\n",
       "    </tr>\n",
       "  </thead>\n",
       "  <tbody>\n",
       "    <tr>\n",
       "      <th>0</th>\n",
       "      <td>binance</td>\n",
       "      <td>2022-11-10T06:12:11.307</td>\n",
       "      <td>0.373100</td>\n",
       "      <td>0.373000</td>\n",
       "      <td>6.053660e+05</td>\n",
       "      <td>8.244020e+05</td>\n",
       "      <td>0.000100</td>\n",
       "      <td>0.373100</td>\n",
       "    </tr>\n",
       "    <tr>\n",
       "      <th>1</th>\n",
       "      <td>binance</td>\n",
       "      <td>2022-11-10T06:12:14.216</td>\n",
       "      <td>0.373500</td>\n",
       "      <td>0.373400</td>\n",
       "      <td>5.816640e+05</td>\n",
       "      <td>6.751680e+05</td>\n",
       "      <td>0.000100</td>\n",
       "      <td>0.373400</td>\n",
       "    </tr>\n",
       "    <tr>\n",
       "      <th>2</th>\n",
       "      <td>binance</td>\n",
       "      <td>2022-11-10T06:12:16.695</td>\n",
       "      <td>0.373700</td>\n",
       "      <td>0.373600</td>\n",
       "      <td>1.467702e+06</td>\n",
       "      <td>6.652810e+05</td>\n",
       "      <td>0.000100</td>\n",
       "      <td>0.373700</td>\n",
       "    </tr>\n",
       "    <tr>\n",
       "      <th>3</th>\n",
       "      <td>binance</td>\n",
       "      <td>2022-11-10T06:12:19.186</td>\n",
       "      <td>0.373300</td>\n",
       "      <td>0.373200</td>\n",
       "      <td>6.703410e+05</td>\n",
       "      <td>5.820930e+05</td>\n",
       "      <td>0.000100</td>\n",
       "      <td>0.373300</td>\n",
       "    </tr>\n",
       "    <tr>\n",
       "      <th>4</th>\n",
       "      <td>binance</td>\n",
       "      <td>2022-11-10T06:12:21.860</td>\n",
       "      <td>0.373400</td>\n",
       "      <td>0.373300</td>\n",
       "      <td>6.819040e+05</td>\n",
       "      <td>6.444780e+05</td>\n",
       "      <td>0.000100</td>\n",
       "      <td>0.373300</td>\n",
       "    </tr>\n",
       "    <tr>\n",
       "      <th>5</th>\n",
       "      <td>binance</td>\n",
       "      <td>2022-11-10T06:12:24.440</td>\n",
       "      <td>0.373300</td>\n",
       "      <td>0.373200</td>\n",
       "      <td>7.095710e+05</td>\n",
       "      <td>8.879170e+05</td>\n",
       "      <td>0.000100</td>\n",
       "      <td>0.373300</td>\n",
       "    </tr>\n",
       "    <tr>\n",
       "      <th>6</th>\n",
       "      <td>binance</td>\n",
       "      <td>2022-11-10T06:12:26.973</td>\n",
       "      <td>0.373300</td>\n",
       "      <td>0.373200</td>\n",
       "      <td>7.138300e+05</td>\n",
       "      <td>9.350910e+05</td>\n",
       "      <td>0.000100</td>\n",
       "      <td>0.373200</td>\n",
       "    </tr>\n",
       "    <tr>\n",
       "      <th>7</th>\n",
       "      <td>binance</td>\n",
       "      <td>2022-11-10T06:12:29.490</td>\n",
       "      <td>0.373300</td>\n",
       "      <td>0.373200</td>\n",
       "      <td>7.344290e+05</td>\n",
       "      <td>1.038295e+06</td>\n",
       "      <td>0.000100</td>\n",
       "      <td>0.373200</td>\n",
       "    </tr>\n",
       "    <tr>\n",
       "      <th>8</th>\n",
       "      <td>binance</td>\n",
       "      <td>2022-11-10T06:12:32.039</td>\n",
       "      <td>0.373000</td>\n",
       "      <td>0.372900</td>\n",
       "      <td>5.326530e+05</td>\n",
       "      <td>8.955100e+05</td>\n",
       "      <td>0.000100</td>\n",
       "      <td>0.372900</td>\n",
       "    </tr>\n",
       "    <tr>\n",
       "      <th>9</th>\n",
       "      <td>binance</td>\n",
       "      <td>2022-11-10T06:12:34.505</td>\n",
       "      <td>0.372900</td>\n",
       "      <td>0.372800</td>\n",
       "      <td>8.052100e+05</td>\n",
       "      <td>9.378020e+05</td>\n",
       "      <td>0.000100</td>\n",
       "      <td>0.372900</td>\n",
       "    </tr>\n",
       "    <tr>\n",
       "      <th>10</th>\n",
       "      <td>binance</td>\n",
       "      <td>2022-11-10T06:12:37.074</td>\n",
       "      <td>0.373300</td>\n",
       "      <td>0.373200</td>\n",
       "      <td>1.856860e+06</td>\n",
       "      <td>1.066261e+06</td>\n",
       "      <td>0.000100</td>\n",
       "      <td>0.373200</td>\n",
       "    </tr>\n",
       "    <tr>\n",
       "      <th>11</th>\n",
       "      <td>binance</td>\n",
       "      <td>2022-11-10T06:12:39.724</td>\n",
       "      <td>0.373600</td>\n",
       "      <td>0.373500</td>\n",
       "      <td>7.621580e+05</td>\n",
       "      <td>6.515090e+05</td>\n",
       "      <td>0.000100</td>\n",
       "      <td>0.373700</td>\n",
       "    </tr>\n",
       "    <tr>\n",
       "      <th>12</th>\n",
       "      <td>binance</td>\n",
       "      <td>2022-11-10T06:12:42.605</td>\n",
       "      <td>0.373400</td>\n",
       "      <td>0.373300</td>\n",
       "      <td>8.259690e+05</td>\n",
       "      <td>8.523050e+05</td>\n",
       "      <td>0.000100</td>\n",
       "      <td>0.373300</td>\n",
       "    </tr>\n",
       "    <tr>\n",
       "      <th>13</th>\n",
       "      <td>binance</td>\n",
       "      <td>2022-11-10T06:12:45.459</td>\n",
       "      <td>0.373000</td>\n",
       "      <td>0.372900</td>\n",
       "      <td>6.697210e+05</td>\n",
       "      <td>9.501120e+05</td>\n",
       "      <td>0.000100</td>\n",
       "      <td>0.373000</td>\n",
       "    </tr>\n",
       "    <tr>\n",
       "      <th>14</th>\n",
       "      <td>binance</td>\n",
       "      <td>2022-11-10T06:12:48.151</td>\n",
       "      <td>0.372800</td>\n",
       "      <td>0.372700</td>\n",
       "      <td>7.797300e+05</td>\n",
       "      <td>9.159100e+05</td>\n",
       "      <td>0.000100</td>\n",
       "      <td>0.372800</td>\n",
       "    </tr>\n",
       "    <tr>\n",
       "      <th>15</th>\n",
       "      <td>binance</td>\n",
       "      <td>2022-11-10T06:12:50.811</td>\n",
       "      <td>0.372700</td>\n",
       "      <td>0.372600</td>\n",
       "      <td>6.487510e+05</td>\n",
       "      <td>8.800370e+05</td>\n",
       "      <td>0.000100</td>\n",
       "      <td>0.372600</td>\n",
       "    </tr>\n",
       "    <tr>\n",
       "      <th>16</th>\n",
       "      <td>binance</td>\n",
       "      <td>2022-11-10T06:12:53.287</td>\n",
       "      <td>0.372700</td>\n",
       "      <td>0.372600</td>\n",
       "      <td>6.026260e+05</td>\n",
       "      <td>1.092983e+06</td>\n",
       "      <td>0.000100</td>\n",
       "      <td>0.372700</td>\n",
       "    </tr>\n",
       "    <tr>\n",
       "      <th>17</th>\n",
       "      <td>binance</td>\n",
       "      <td>2022-11-10T06:12:55.744</td>\n",
       "      <td>0.372600</td>\n",
       "      <td>0.372500</td>\n",
       "      <td>1.080508e+06</td>\n",
       "      <td>1.127407e+06</td>\n",
       "      <td>0.000100</td>\n",
       "      <td>0.372700</td>\n",
       "    </tr>\n",
       "    <tr>\n",
       "      <th>18</th>\n",
       "      <td>binance</td>\n",
       "      <td>2022-11-10T06:12:58.371</td>\n",
       "      <td>0.372800</td>\n",
       "      <td>0.372700</td>\n",
       "      <td>1.101562e+06</td>\n",
       "      <td>8.180330e+05</td>\n",
       "      <td>0.000100</td>\n",
       "      <td>0.372800</td>\n",
       "    </tr>\n",
       "    <tr>\n",
       "      <th>19</th>\n",
       "      <td>binance</td>\n",
       "      <td>2022-11-10T06:13:00.871</td>\n",
       "      <td>0.372800</td>\n",
       "      <td>0.372700</td>\n",
       "      <td>1.111273e+06</td>\n",
       "      <td>8.358810e+05</td>\n",
       "      <td>0.000100</td>\n",
       "      <td>0.372700</td>\n",
       "    </tr>\n",
       "    <tr>\n",
       "      <th>20</th>\n",
       "      <td>ftx</td>\n",
       "      <td>2022-11-10T06:13:04.260</td>\n",
       "      <td>0.353675</td>\n",
       "      <td>0.352675</td>\n",
       "      <td>1.049100e+04</td>\n",
       "      <td>1.082720e+05</td>\n",
       "      <td>0.001000</td>\n",
       "      <td>0.352675</td>\n",
       "    </tr>\n",
       "    <tr>\n",
       "      <th>21</th>\n",
       "      <td>ftx</td>\n",
       "      <td>2022-11-10T06:13:07.710</td>\n",
       "      <td>0.353700</td>\n",
       "      <td>0.352675</td>\n",
       "      <td>9.187000e+03</td>\n",
       "      <td>1.056840e+05</td>\n",
       "      <td>0.001025</td>\n",
       "      <td>0.353700</td>\n",
       "    </tr>\n",
       "    <tr>\n",
       "      <th>22</th>\n",
       "      <td>ftx</td>\n",
       "      <td>2022-11-10T06:13:11.390</td>\n",
       "      <td>0.353700</td>\n",
       "      <td>0.352675</td>\n",
       "      <td>9.187000e+03</td>\n",
       "      <td>1.056000e+05</td>\n",
       "      <td>0.001025</td>\n",
       "      <td>0.353700</td>\n",
       "    </tr>\n",
       "    <tr>\n",
       "      <th>23</th>\n",
       "      <td>ftx</td>\n",
       "      <td>2022-11-10T06:13:14.677</td>\n",
       "      <td>0.353700</td>\n",
       "      <td>0.352675</td>\n",
       "      <td>9.187000e+03</td>\n",
       "      <td>1.054810e+05</td>\n",
       "      <td>0.001025</td>\n",
       "      <td>0.353675</td>\n",
       "    </tr>\n",
       "    <tr>\n",
       "      <th>24</th>\n",
       "      <td>ftx</td>\n",
       "      <td>2022-11-10T06:13:17.772</td>\n",
       "      <td>0.353675</td>\n",
       "      <td>0.352675</td>\n",
       "      <td>1.023200e+04</td>\n",
       "      <td>1.039600e+05</td>\n",
       "      <td>0.001000</td>\n",
       "      <td>0.352675</td>\n",
       "    </tr>\n",
       "    <tr>\n",
       "      <th>25</th>\n",
       "      <td>ftx</td>\n",
       "      <td>2022-11-10T06:13:21.741</td>\n",
       "      <td>0.353800</td>\n",
       "      <td>0.352675</td>\n",
       "      <td>9.188000e+03</td>\n",
       "      <td>1.082340e+05</td>\n",
       "      <td>0.001125</td>\n",
       "      <td>0.352675</td>\n",
       "    </tr>\n",
       "    <tr>\n",
       "      <th>26</th>\n",
       "      <td>ftx</td>\n",
       "      <td>2022-11-10T06:13:25.585</td>\n",
       "      <td>0.353800</td>\n",
       "      <td>0.352675</td>\n",
       "      <td>9.188000e+03</td>\n",
       "      <td>1.076070e+05</td>\n",
       "      <td>0.001125</td>\n",
       "      <td>0.352675</td>\n",
       "    </tr>\n",
       "    <tr>\n",
       "      <th>27</th>\n",
       "      <td>ftx</td>\n",
       "      <td>2022-11-10T06:13:28.794</td>\n",
       "      <td>0.353800</td>\n",
       "      <td>0.353700</td>\n",
       "      <td>9.188000e+03</td>\n",
       "      <td>1.041230e+05</td>\n",
       "      <td>0.000100</td>\n",
       "      <td>0.353700</td>\n",
       "    </tr>\n",
       "    <tr>\n",
       "      <th>28</th>\n",
       "      <td>ftx</td>\n",
       "      <td>2022-11-10T06:13:32.290</td>\n",
       "      <td>0.353800</td>\n",
       "      <td>0.353700</td>\n",
       "      <td>9.357000e+03</td>\n",
       "      <td>1.041230e+05</td>\n",
       "      <td>0.000100</td>\n",
       "      <td>0.353700</td>\n",
       "    </tr>\n",
       "    <tr>\n",
       "      <th>29</th>\n",
       "      <td>ftx</td>\n",
       "      <td>2022-11-10T06:13:35.848</td>\n",
       "      <td>0.354650</td>\n",
       "      <td>0.352100</td>\n",
       "      <td>9.188000e+03</td>\n",
       "      <td>1.038560e+05</td>\n",
       "      <td>0.002550</td>\n",
       "      <td>0.353700</td>\n",
       "    </tr>\n",
       "    <tr>\n",
       "      <th>30</th>\n",
       "      <td>ftx</td>\n",
       "      <td>2022-11-10T06:13:39.131</td>\n",
       "      <td>0.354650</td>\n",
       "      <td>0.352950</td>\n",
       "      <td>9.188000e+03</td>\n",
       "      <td>1.047040e+05</td>\n",
       "      <td>0.001700</td>\n",
       "      <td>0.353700</td>\n",
       "    </tr>\n",
       "    <tr>\n",
       "      <th>31</th>\n",
       "      <td>ftx</td>\n",
       "      <td>2022-11-10T06:13:43.068</td>\n",
       "      <td>0.354650</td>\n",
       "      <td>0.352950</td>\n",
       "      <td>9.354000e+03</td>\n",
       "      <td>1.041420e+05</td>\n",
       "      <td>0.001700</td>\n",
       "      <td>0.353700</td>\n",
       "    </tr>\n",
       "    <tr>\n",
       "      <th>32</th>\n",
       "      <td>ftx</td>\n",
       "      <td>2022-11-10T06:13:46.508</td>\n",
       "      <td>0.354650</td>\n",
       "      <td>0.352950</td>\n",
       "      <td>9.354000e+03</td>\n",
       "      <td>1.041420e+05</td>\n",
       "      <td>0.001700</td>\n",
       "      <td>0.353700</td>\n",
       "    </tr>\n",
       "    <tr>\n",
       "      <th>33</th>\n",
       "      <td>ftx</td>\n",
       "      <td>2022-11-10T06:13:49.328</td>\n",
       "      <td>0.354650</td>\n",
       "      <td>0.352950</td>\n",
       "      <td>9.354000e+03</td>\n",
       "      <td>1.041420e+05</td>\n",
       "      <td>0.001700</td>\n",
       "      <td>0.353700</td>\n",
       "    </tr>\n",
       "    <tr>\n",
       "      <th>34</th>\n",
       "      <td>ftx</td>\n",
       "      <td>2022-11-10T06:13:51.987</td>\n",
       "      <td>0.354650</td>\n",
       "      <td>0.352950</td>\n",
       "      <td>9.354000e+03</td>\n",
       "      <td>1.041420e+05</td>\n",
       "      <td>0.001700</td>\n",
       "      <td>0.353700</td>\n",
       "    </tr>\n",
       "    <tr>\n",
       "      <th>35</th>\n",
       "      <td>ftx</td>\n",
       "      <td>2022-11-10T06:13:55.826</td>\n",
       "      <td>0.354650</td>\n",
       "      <td>0.350850</td>\n",
       "      <td>1.031300e+04</td>\n",
       "      <td>1.040870e+05</td>\n",
       "      <td>0.003800</td>\n",
       "      <td>0.350850</td>\n",
       "    </tr>\n",
       "    <tr>\n",
       "      <th>36</th>\n",
       "      <td>ftx</td>\n",
       "      <td>2022-11-10T06:13:59.259</td>\n",
       "      <td>0.352950</td>\n",
       "      <td>0.350775</td>\n",
       "      <td>9.191000e+03</td>\n",
       "      <td>5.166300e+04</td>\n",
       "      <td>0.002175</td>\n",
       "      <td>0.350850</td>\n",
       "    </tr>\n",
       "    <tr>\n",
       "      <th>37</th>\n",
       "      <td>ftx</td>\n",
       "      <td>2022-11-10T06:14:03.167</td>\n",
       "      <td>0.366250</td>\n",
       "      <td>0.350750</td>\n",
       "      <td>1.462070e+05</td>\n",
       "      <td>1.038380e+05</td>\n",
       "      <td>0.015500</td>\n",
       "      <td>0.364950</td>\n",
       "    </tr>\n",
       "    <tr>\n",
       "      <th>38</th>\n",
       "      <td>ftx</td>\n",
       "      <td>2022-11-10T06:14:06.224</td>\n",
       "      <td>0.357675</td>\n",
       "      <td>0.353175</td>\n",
       "      <td>1.563320e+05</td>\n",
       "      <td>1.037030e+05</td>\n",
       "      <td>0.004500</td>\n",
       "      <td>0.354650</td>\n",
       "    </tr>\n",
       "    <tr>\n",
       "      <th>39</th>\n",
       "      <td>ftx</td>\n",
       "      <td>2022-11-10T06:14:09.191</td>\n",
       "      <td>0.356250</td>\n",
       "      <td>0.353150</td>\n",
       "      <td>1.475990e+05</td>\n",
       "      <td>1.037730e+05</td>\n",
       "      <td>0.003100</td>\n",
       "      <td>0.356250</td>\n",
       "    </tr>\n",
       "    <tr>\n",
       "      <th>40</th>\n",
       "      <td>bytetrade</td>\n",
       "      <td>2022-11-10T06:14:12.361</td>\n",
       "      <td>0.391726</td>\n",
       "      <td>0.354908</td>\n",
       "      <td>1.572814e+02</td>\n",
       "      <td>2.698316e+03</td>\n",
       "      <td>0.036818</td>\n",
       "      <td>0.372960</td>\n",
       "    </tr>\n",
       "    <tr>\n",
       "      <th>41</th>\n",
       "      <td>bytetrade</td>\n",
       "      <td>2022-11-10T06:14:15.102</td>\n",
       "      <td>0.391726</td>\n",
       "      <td>0.354908</td>\n",
       "      <td>1.572814e+02</td>\n",
       "      <td>2.698316e+03</td>\n",
       "      <td>0.036818</td>\n",
       "      <td>0.373099</td>\n",
       "    </tr>\n",
       "    <tr>\n",
       "      <th>42</th>\n",
       "      <td>bytetrade</td>\n",
       "      <td>2022-11-10T06:14:17.895</td>\n",
       "      <td>0.391726</td>\n",
       "      <td>0.354908</td>\n",
       "      <td>1.572814e+02</td>\n",
       "      <td>2.751675e+03</td>\n",
       "      <td>0.036818</td>\n",
       "      <td>0.373099</td>\n",
       "    </tr>\n",
       "    <tr>\n",
       "      <th>43</th>\n",
       "      <td>bytetrade</td>\n",
       "      <td>2022-11-10T06:14:21.671</td>\n",
       "      <td>0.391726</td>\n",
       "      <td>0.354908</td>\n",
       "      <td>1.572814e+02</td>\n",
       "      <td>2.770580e+03</td>\n",
       "      <td>0.036818</td>\n",
       "      <td>0.373195</td>\n",
       "    </tr>\n",
       "    <tr>\n",
       "      <th>44</th>\n",
       "      <td>bytetrade</td>\n",
       "      <td>2022-11-10T06:14:24.204</td>\n",
       "      <td>0.391726</td>\n",
       "      <td>0.354908</td>\n",
       "      <td>1.572814e+02</td>\n",
       "      <td>2.770580e+03</td>\n",
       "      <td>0.036818</td>\n",
       "      <td>0.373195</td>\n",
       "    </tr>\n",
       "    <tr>\n",
       "      <th>45</th>\n",
       "      <td>bytetrade</td>\n",
       "      <td>2022-11-10T06:14:26.936</td>\n",
       "      <td>0.391726</td>\n",
       "      <td>0.354908</td>\n",
       "      <td>1.572814e+02</td>\n",
       "      <td>2.730053e+03</td>\n",
       "      <td>0.036818</td>\n",
       "      <td>0.373113</td>\n",
       "    </tr>\n",
       "    <tr>\n",
       "      <th>46</th>\n",
       "      <td>bytetrade</td>\n",
       "      <td>2022-11-10T06:14:29.770</td>\n",
       "      <td>0.391726</td>\n",
       "      <td>0.354908</td>\n",
       "      <td>1.572814e+02</td>\n",
       "      <td>2.730053e+03</td>\n",
       "      <td>0.036818</td>\n",
       "      <td>0.373072</td>\n",
       "    </tr>\n",
       "    <tr>\n",
       "      <th>47</th>\n",
       "      <td>bytetrade</td>\n",
       "      <td>2022-11-10T06:14:33.120</td>\n",
       "      <td>0.391726</td>\n",
       "      <td>0.354908</td>\n",
       "      <td>1.572814e+02</td>\n",
       "      <td>2.658250e+03</td>\n",
       "      <td>0.036818</td>\n",
       "      <td>0.373072</td>\n",
       "    </tr>\n",
       "    <tr>\n",
       "      <th>48</th>\n",
       "      <td>bytetrade</td>\n",
       "      <td>2022-11-10T06:14:35.979</td>\n",
       "      <td>0.391726</td>\n",
       "      <td>0.354908</td>\n",
       "      <td>1.572814e+02</td>\n",
       "      <td>2.658250e+03</td>\n",
       "      <td>0.036818</td>\n",
       "      <td>0.373310</td>\n",
       "    </tr>\n",
       "    <tr>\n",
       "      <th>49</th>\n",
       "      <td>bytetrade</td>\n",
       "      <td>2022-11-10T06:14:39.619</td>\n",
       "      <td>0.391726</td>\n",
       "      <td>0.354908</td>\n",
       "      <td>1.572814e+02</td>\n",
       "      <td>2.770597e+03</td>\n",
       "      <td>0.036818</td>\n",
       "      <td>0.373620</td>\n",
       "    </tr>\n",
       "    <tr>\n",
       "      <th>50</th>\n",
       "      <td>bytetrade</td>\n",
       "      <td>2022-11-10T06:14:42.122</td>\n",
       "      <td>0.391726</td>\n",
       "      <td>0.354908</td>\n",
       "      <td>1.572814e+02</td>\n",
       "      <td>2.770597e+03</td>\n",
       "      <td>0.036818</td>\n",
       "      <td>0.372983</td>\n",
       "    </tr>\n",
       "    <tr>\n",
       "      <th>51</th>\n",
       "      <td>bytetrade</td>\n",
       "      <td>2022-11-10T06:14:44.891</td>\n",
       "      <td>0.391726</td>\n",
       "      <td>0.355265</td>\n",
       "      <td>1.572814e+02</td>\n",
       "      <td>2.658173e+03</td>\n",
       "      <td>0.036461</td>\n",
       "      <td>0.372983</td>\n",
       "    </tr>\n",
       "    <tr>\n",
       "      <th>52</th>\n",
       "      <td>bytetrade</td>\n",
       "      <td>2022-11-10T06:14:48.623</td>\n",
       "      <td>0.391726</td>\n",
       "      <td>0.355265</td>\n",
       "      <td>1.572814e+02</td>\n",
       "      <td>2.729987e+03</td>\n",
       "      <td>0.036461</td>\n",
       "      <td>0.373348</td>\n",
       "    </tr>\n",
       "    <tr>\n",
       "      <th>53</th>\n",
       "      <td>bytetrade</td>\n",
       "      <td>2022-11-10T06:14:51.815</td>\n",
       "      <td>0.391726</td>\n",
       "      <td>0.355265</td>\n",
       "      <td>1.572814e+02</td>\n",
       "      <td>2.729987e+03</td>\n",
       "      <td>0.036461</td>\n",
       "      <td>0.373747</td>\n",
       "    </tr>\n",
       "    <tr>\n",
       "      <th>54</th>\n",
       "      <td>bytetrade</td>\n",
       "      <td>2022-11-10T06:14:54.726</td>\n",
       "      <td>0.391726</td>\n",
       "      <td>0.355265</td>\n",
       "      <td>1.572814e+02</td>\n",
       "      <td>2.658128e+03</td>\n",
       "      <td>0.036461</td>\n",
       "      <td>0.373747</td>\n",
       "    </tr>\n",
       "    <tr>\n",
       "      <th>55</th>\n",
       "      <td>bytetrade</td>\n",
       "      <td>2022-11-10T06:14:57.464</td>\n",
       "      <td>0.391726</td>\n",
       "      <td>0.355265</td>\n",
       "      <td>1.572814e+02</td>\n",
       "      <td>2.658128e+03</td>\n",
       "      <td>0.036461</td>\n",
       "      <td>0.373747</td>\n",
       "    </tr>\n",
       "    <tr>\n",
       "      <th>56</th>\n",
       "      <td>bytetrade</td>\n",
       "      <td>2022-11-10T06:15:00.308</td>\n",
       "      <td>0.391726</td>\n",
       "      <td>0.355265</td>\n",
       "      <td>1.572814e+02</td>\n",
       "      <td>2.658128e+03</td>\n",
       "      <td>0.036461</td>\n",
       "      <td>0.373268</td>\n",
       "    </tr>\n",
       "    <tr>\n",
       "      <th>57</th>\n",
       "      <td>bytetrade</td>\n",
       "      <td>2022-11-10T06:15:03.979</td>\n",
       "      <td>0.391726</td>\n",
       "      <td>0.355265</td>\n",
       "      <td>1.572814e+02</td>\n",
       "      <td>2.658128e+03</td>\n",
       "      <td>0.036461</td>\n",
       "      <td>0.373498</td>\n",
       "    </tr>\n",
       "    <tr>\n",
       "      <th>58</th>\n",
       "      <td>bytetrade</td>\n",
       "      <td>2022-11-10T06:15:06.557</td>\n",
       "      <td>0.391726</td>\n",
       "      <td>0.355265</td>\n",
       "      <td>1.572814e+02</td>\n",
       "      <td>2.658128e+03</td>\n",
       "      <td>0.036461</td>\n",
       "      <td>0.373352</td>\n",
       "    </tr>\n",
       "    <tr>\n",
       "      <th>59</th>\n",
       "      <td>bytetrade</td>\n",
       "      <td>2022-11-10T06:15:09.398</td>\n",
       "      <td>0.391726</td>\n",
       "      <td>0.344123</td>\n",
       "      <td>1.572814e+02</td>\n",
       "      <td>2.729912e+03</td>\n",
       "      <td>0.047603</td>\n",
       "      <td>0.373352</td>\n",
       "    </tr>\n",
       "  </tbody>\n",
       "</table>\n",
       "</div>"
      ],
      "text/plain": [
       "     exchange                timestamp       ask       bid    ask_volume  \\\n",
       "0     binance  2022-11-10T06:12:11.307  0.373100  0.373000  6.053660e+05   \n",
       "1     binance  2022-11-10T06:12:14.216  0.373500  0.373400  5.816640e+05   \n",
       "2     binance  2022-11-10T06:12:16.695  0.373700  0.373600  1.467702e+06   \n",
       "3     binance  2022-11-10T06:12:19.186  0.373300  0.373200  6.703410e+05   \n",
       "4     binance  2022-11-10T06:12:21.860  0.373400  0.373300  6.819040e+05   \n",
       "5     binance  2022-11-10T06:12:24.440  0.373300  0.373200  7.095710e+05   \n",
       "6     binance  2022-11-10T06:12:26.973  0.373300  0.373200  7.138300e+05   \n",
       "7     binance  2022-11-10T06:12:29.490  0.373300  0.373200  7.344290e+05   \n",
       "8     binance  2022-11-10T06:12:32.039  0.373000  0.372900  5.326530e+05   \n",
       "9     binance  2022-11-10T06:12:34.505  0.372900  0.372800  8.052100e+05   \n",
       "10    binance  2022-11-10T06:12:37.074  0.373300  0.373200  1.856860e+06   \n",
       "11    binance  2022-11-10T06:12:39.724  0.373600  0.373500  7.621580e+05   \n",
       "12    binance  2022-11-10T06:12:42.605  0.373400  0.373300  8.259690e+05   \n",
       "13    binance  2022-11-10T06:12:45.459  0.373000  0.372900  6.697210e+05   \n",
       "14    binance  2022-11-10T06:12:48.151  0.372800  0.372700  7.797300e+05   \n",
       "15    binance  2022-11-10T06:12:50.811  0.372700  0.372600  6.487510e+05   \n",
       "16    binance  2022-11-10T06:12:53.287  0.372700  0.372600  6.026260e+05   \n",
       "17    binance  2022-11-10T06:12:55.744  0.372600  0.372500  1.080508e+06   \n",
       "18    binance  2022-11-10T06:12:58.371  0.372800  0.372700  1.101562e+06   \n",
       "19    binance  2022-11-10T06:13:00.871  0.372800  0.372700  1.111273e+06   \n",
       "20        ftx  2022-11-10T06:13:04.260  0.353675  0.352675  1.049100e+04   \n",
       "21        ftx  2022-11-10T06:13:07.710  0.353700  0.352675  9.187000e+03   \n",
       "22        ftx  2022-11-10T06:13:11.390  0.353700  0.352675  9.187000e+03   \n",
       "23        ftx  2022-11-10T06:13:14.677  0.353700  0.352675  9.187000e+03   \n",
       "24        ftx  2022-11-10T06:13:17.772  0.353675  0.352675  1.023200e+04   \n",
       "25        ftx  2022-11-10T06:13:21.741  0.353800  0.352675  9.188000e+03   \n",
       "26        ftx  2022-11-10T06:13:25.585  0.353800  0.352675  9.188000e+03   \n",
       "27        ftx  2022-11-10T06:13:28.794  0.353800  0.353700  9.188000e+03   \n",
       "28        ftx  2022-11-10T06:13:32.290  0.353800  0.353700  9.357000e+03   \n",
       "29        ftx  2022-11-10T06:13:35.848  0.354650  0.352100  9.188000e+03   \n",
       "30        ftx  2022-11-10T06:13:39.131  0.354650  0.352950  9.188000e+03   \n",
       "31        ftx  2022-11-10T06:13:43.068  0.354650  0.352950  9.354000e+03   \n",
       "32        ftx  2022-11-10T06:13:46.508  0.354650  0.352950  9.354000e+03   \n",
       "33        ftx  2022-11-10T06:13:49.328  0.354650  0.352950  9.354000e+03   \n",
       "34        ftx  2022-11-10T06:13:51.987  0.354650  0.352950  9.354000e+03   \n",
       "35        ftx  2022-11-10T06:13:55.826  0.354650  0.350850  1.031300e+04   \n",
       "36        ftx  2022-11-10T06:13:59.259  0.352950  0.350775  9.191000e+03   \n",
       "37        ftx  2022-11-10T06:14:03.167  0.366250  0.350750  1.462070e+05   \n",
       "38        ftx  2022-11-10T06:14:06.224  0.357675  0.353175  1.563320e+05   \n",
       "39        ftx  2022-11-10T06:14:09.191  0.356250  0.353150  1.475990e+05   \n",
       "40  bytetrade  2022-11-10T06:14:12.361  0.391726  0.354908  1.572814e+02   \n",
       "41  bytetrade  2022-11-10T06:14:15.102  0.391726  0.354908  1.572814e+02   \n",
       "42  bytetrade  2022-11-10T06:14:17.895  0.391726  0.354908  1.572814e+02   \n",
       "43  bytetrade  2022-11-10T06:14:21.671  0.391726  0.354908  1.572814e+02   \n",
       "44  bytetrade  2022-11-10T06:14:24.204  0.391726  0.354908  1.572814e+02   \n",
       "45  bytetrade  2022-11-10T06:14:26.936  0.391726  0.354908  1.572814e+02   \n",
       "46  bytetrade  2022-11-10T06:14:29.770  0.391726  0.354908  1.572814e+02   \n",
       "47  bytetrade  2022-11-10T06:14:33.120  0.391726  0.354908  1.572814e+02   \n",
       "48  bytetrade  2022-11-10T06:14:35.979  0.391726  0.354908  1.572814e+02   \n",
       "49  bytetrade  2022-11-10T06:14:39.619  0.391726  0.354908  1.572814e+02   \n",
       "50  bytetrade  2022-11-10T06:14:42.122  0.391726  0.354908  1.572814e+02   \n",
       "51  bytetrade  2022-11-10T06:14:44.891  0.391726  0.355265  1.572814e+02   \n",
       "52  bytetrade  2022-11-10T06:14:48.623  0.391726  0.355265  1.572814e+02   \n",
       "53  bytetrade  2022-11-10T06:14:51.815  0.391726  0.355265  1.572814e+02   \n",
       "54  bytetrade  2022-11-10T06:14:54.726  0.391726  0.355265  1.572814e+02   \n",
       "55  bytetrade  2022-11-10T06:14:57.464  0.391726  0.355265  1.572814e+02   \n",
       "56  bytetrade  2022-11-10T06:15:00.308  0.391726  0.355265  1.572814e+02   \n",
       "57  bytetrade  2022-11-10T06:15:03.979  0.391726  0.355265  1.572814e+02   \n",
       "58  bytetrade  2022-11-10T06:15:06.557  0.391726  0.355265  1.572814e+02   \n",
       "59  bytetrade  2022-11-10T06:15:09.398  0.391726  0.344123  1.572814e+02   \n",
       "\n",
       "      bid_volume    spread  close_price  \n",
       "0   8.244020e+05  0.000100     0.373100  \n",
       "1   6.751680e+05  0.000100     0.373400  \n",
       "2   6.652810e+05  0.000100     0.373700  \n",
       "3   5.820930e+05  0.000100     0.373300  \n",
       "4   6.444780e+05  0.000100     0.373300  \n",
       "5   8.879170e+05  0.000100     0.373300  \n",
       "6   9.350910e+05  0.000100     0.373200  \n",
       "7   1.038295e+06  0.000100     0.373200  \n",
       "8   8.955100e+05  0.000100     0.372900  \n",
       "9   9.378020e+05  0.000100     0.372900  \n",
       "10  1.066261e+06  0.000100     0.373200  \n",
       "11  6.515090e+05  0.000100     0.373700  \n",
       "12  8.523050e+05  0.000100     0.373300  \n",
       "13  9.501120e+05  0.000100     0.373000  \n",
       "14  9.159100e+05  0.000100     0.372800  \n",
       "15  8.800370e+05  0.000100     0.372600  \n",
       "16  1.092983e+06  0.000100     0.372700  \n",
       "17  1.127407e+06  0.000100     0.372700  \n",
       "18  8.180330e+05  0.000100     0.372800  \n",
       "19  8.358810e+05  0.000100     0.372700  \n",
       "20  1.082720e+05  0.001000     0.352675  \n",
       "21  1.056840e+05  0.001025     0.353700  \n",
       "22  1.056000e+05  0.001025     0.353700  \n",
       "23  1.054810e+05  0.001025     0.353675  \n",
       "24  1.039600e+05  0.001000     0.352675  \n",
       "25  1.082340e+05  0.001125     0.352675  \n",
       "26  1.076070e+05  0.001125     0.352675  \n",
       "27  1.041230e+05  0.000100     0.353700  \n",
       "28  1.041230e+05  0.000100     0.353700  \n",
       "29  1.038560e+05  0.002550     0.353700  \n",
       "30  1.047040e+05  0.001700     0.353700  \n",
       "31  1.041420e+05  0.001700     0.353700  \n",
       "32  1.041420e+05  0.001700     0.353700  \n",
       "33  1.041420e+05  0.001700     0.353700  \n",
       "34  1.041420e+05  0.001700     0.353700  \n",
       "35  1.040870e+05  0.003800     0.350850  \n",
       "36  5.166300e+04  0.002175     0.350850  \n",
       "37  1.038380e+05  0.015500     0.364950  \n",
       "38  1.037030e+05  0.004500     0.354650  \n",
       "39  1.037730e+05  0.003100     0.356250  \n",
       "40  2.698316e+03  0.036818     0.372960  \n",
       "41  2.698316e+03  0.036818     0.373099  \n",
       "42  2.751675e+03  0.036818     0.373099  \n",
       "43  2.770580e+03  0.036818     0.373195  \n",
       "44  2.770580e+03  0.036818     0.373195  \n",
       "45  2.730053e+03  0.036818     0.373113  \n",
       "46  2.730053e+03  0.036818     0.373072  \n",
       "47  2.658250e+03  0.036818     0.373072  \n",
       "48  2.658250e+03  0.036818     0.373310  \n",
       "49  2.770597e+03  0.036818     0.373620  \n",
       "50  2.770597e+03  0.036818     0.372983  \n",
       "51  2.658173e+03  0.036461     0.372983  \n",
       "52  2.729987e+03  0.036461     0.373348  \n",
       "53  2.729987e+03  0.036461     0.373747  \n",
       "54  2.658128e+03  0.036461     0.373747  \n",
       "55  2.658128e+03  0.036461     0.373747  \n",
       "56  2.658128e+03  0.036461     0.373268  \n",
       "57  2.658128e+03  0.036461     0.373498  \n",
       "58  2.658128e+03  0.036461     0.373352  \n",
       "59  2.729912e+03  0.047603     0.373352  "
      ]
     },
     "execution_count": 38,
     "metadata": {},
     "output_type": "execute_result"
    }
   ],
   "source": [
    "verif_df3 = fn.concatenate(verif_0_X[0], verif_1_X[0], verif_2_X[0], n)\n",
    "verif_df3"
   ]
  },
  {
   "cell_type": "markdown",
   "metadata": {},
   "source": [
    "<font color= lightblue> <font size = 2> OHLCV XRP </font>"
   ]
  },
  {
   "cell_type": "code",
   "execution_count": 39,
   "metadata": {},
   "outputs": [
    {
     "data": {
      "text/html": [
       "<div>\n",
       "<style scoped>\n",
       "    .dataframe tbody tr th:only-of-type {\n",
       "        vertical-align: middle;\n",
       "    }\n",
       "\n",
       "    .dataframe tbody tr th {\n",
       "        vertical-align: top;\n",
       "    }\n",
       "\n",
       "    .dataframe thead th {\n",
       "        text-align: right;\n",
       "    }\n",
       "</style>\n",
       "<table border=\"1\" class=\"dataframe\">\n",
       "  <thead>\n",
       "    <tr style=\"text-align: right;\">\n",
       "      <th></th>\n",
       "      <th>exchange</th>\n",
       "      <th>timestamp</th>\n",
       "      <th>open</th>\n",
       "      <th>high</th>\n",
       "      <th>low</th>\n",
       "      <th>close</th>\n",
       "      <th>volume</th>\n",
       "    </tr>\n",
       "  </thead>\n",
       "  <tbody>\n",
       "    <tr>\n",
       "      <th>0</th>\n",
       "      <td>binance</td>\n",
       "      <td>2022-11-10T06:12:11.307</td>\n",
       "      <td>0.372600</td>\n",
       "      <td>0.373100</td>\n",
       "      <td>0.372600</td>\n",
       "      <td>0.373100</td>\n",
       "      <td>18504.000000</td>\n",
       "    </tr>\n",
       "    <tr>\n",
       "      <th>1</th>\n",
       "      <td>binance</td>\n",
       "      <td>2022-11-10T06:12:14.216</td>\n",
       "      <td>0.372600</td>\n",
       "      <td>0.373400</td>\n",
       "      <td>0.372600</td>\n",
       "      <td>0.373400</td>\n",
       "      <td>72064.000000</td>\n",
       "    </tr>\n",
       "    <tr>\n",
       "      <th>2</th>\n",
       "      <td>binance</td>\n",
       "      <td>2022-11-10T06:12:16.695</td>\n",
       "      <td>0.372600</td>\n",
       "      <td>0.373700</td>\n",
       "      <td>0.372600</td>\n",
       "      <td>0.373700</td>\n",
       "      <td>84994.000000</td>\n",
       "    </tr>\n",
       "    <tr>\n",
       "      <th>3</th>\n",
       "      <td>binance</td>\n",
       "      <td>2022-11-10T06:12:19.186</td>\n",
       "      <td>0.372600</td>\n",
       "      <td>0.373700</td>\n",
       "      <td>0.372600</td>\n",
       "      <td>0.373300</td>\n",
       "      <td>175291.000000</td>\n",
       "    </tr>\n",
       "    <tr>\n",
       "      <th>4</th>\n",
       "      <td>binance</td>\n",
       "      <td>2022-11-10T06:12:21.860</td>\n",
       "      <td>0.372600</td>\n",
       "      <td>0.373700</td>\n",
       "      <td>0.372600</td>\n",
       "      <td>0.373300</td>\n",
       "      <td>187730.000000</td>\n",
       "    </tr>\n",
       "    <tr>\n",
       "      <th>5</th>\n",
       "      <td>binance</td>\n",
       "      <td>2022-11-10T06:12:24.440</td>\n",
       "      <td>0.372600</td>\n",
       "      <td>0.373700</td>\n",
       "      <td>0.372600</td>\n",
       "      <td>0.373300</td>\n",
       "      <td>205444.000000</td>\n",
       "    </tr>\n",
       "    <tr>\n",
       "      <th>6</th>\n",
       "      <td>binance</td>\n",
       "      <td>2022-11-10T06:12:26.973</td>\n",
       "      <td>0.372600</td>\n",
       "      <td>0.373700</td>\n",
       "      <td>0.372600</td>\n",
       "      <td>0.373200</td>\n",
       "      <td>205560.000000</td>\n",
       "    </tr>\n",
       "    <tr>\n",
       "      <th>7</th>\n",
       "      <td>binance</td>\n",
       "      <td>2022-11-10T06:12:29.490</td>\n",
       "      <td>0.372600</td>\n",
       "      <td>0.373700</td>\n",
       "      <td>0.372600</td>\n",
       "      <td>0.373200</td>\n",
       "      <td>211031.000000</td>\n",
       "    </tr>\n",
       "    <tr>\n",
       "      <th>8</th>\n",
       "      <td>binance</td>\n",
       "      <td>2022-11-10T06:12:32.039</td>\n",
       "      <td>0.372600</td>\n",
       "      <td>0.373700</td>\n",
       "      <td>0.372600</td>\n",
       "      <td>0.372900</td>\n",
       "      <td>412926.000000</td>\n",
       "    </tr>\n",
       "    <tr>\n",
       "      <th>9</th>\n",
       "      <td>binance</td>\n",
       "      <td>2022-11-10T06:12:34.505</td>\n",
       "      <td>0.372600</td>\n",
       "      <td>0.373700</td>\n",
       "      <td>0.372600</td>\n",
       "      <td>0.372900</td>\n",
       "      <td>423694.000000</td>\n",
       "    </tr>\n",
       "    <tr>\n",
       "      <th>10</th>\n",
       "      <td>binance</td>\n",
       "      <td>2022-11-10T06:12:37.074</td>\n",
       "      <td>0.372600</td>\n",
       "      <td>0.373700</td>\n",
       "      <td>0.372600</td>\n",
       "      <td>0.373200</td>\n",
       "      <td>467016.000000</td>\n",
       "    </tr>\n",
       "    <tr>\n",
       "      <th>11</th>\n",
       "      <td>binance</td>\n",
       "      <td>2022-11-10T06:12:39.724</td>\n",
       "      <td>0.372600</td>\n",
       "      <td>0.373800</td>\n",
       "      <td>0.372600</td>\n",
       "      <td>0.373700</td>\n",
       "      <td>537541.000000</td>\n",
       "    </tr>\n",
       "    <tr>\n",
       "      <th>12</th>\n",
       "      <td>binance</td>\n",
       "      <td>2022-11-10T06:12:42.605</td>\n",
       "      <td>0.372600</td>\n",
       "      <td>0.373800</td>\n",
       "      <td>0.372600</td>\n",
       "      <td>0.373300</td>\n",
       "      <td>616265.000000</td>\n",
       "    </tr>\n",
       "    <tr>\n",
       "      <th>13</th>\n",
       "      <td>binance</td>\n",
       "      <td>2022-11-10T06:12:45.459</td>\n",
       "      <td>0.372600</td>\n",
       "      <td>0.373800</td>\n",
       "      <td>0.372600</td>\n",
       "      <td>0.373000</td>\n",
       "      <td>638722.000000</td>\n",
       "    </tr>\n",
       "    <tr>\n",
       "      <th>14</th>\n",
       "      <td>binance</td>\n",
       "      <td>2022-11-10T06:12:48.151</td>\n",
       "      <td>0.372600</td>\n",
       "      <td>0.373800</td>\n",
       "      <td>0.372600</td>\n",
       "      <td>0.372800</td>\n",
       "      <td>652576.000000</td>\n",
       "    </tr>\n",
       "    <tr>\n",
       "      <th>15</th>\n",
       "      <td>binance</td>\n",
       "      <td>2022-11-10T06:12:50.811</td>\n",
       "      <td>0.372600</td>\n",
       "      <td>0.373800</td>\n",
       "      <td>0.372600</td>\n",
       "      <td>0.372600</td>\n",
       "      <td>654571.000000</td>\n",
       "    </tr>\n",
       "    <tr>\n",
       "      <th>16</th>\n",
       "      <td>binance</td>\n",
       "      <td>2022-11-10T06:12:53.287</td>\n",
       "      <td>0.372600</td>\n",
       "      <td>0.373800</td>\n",
       "      <td>0.372600</td>\n",
       "      <td>0.372700</td>\n",
       "      <td>670674.000000</td>\n",
       "    </tr>\n",
       "    <tr>\n",
       "      <th>17</th>\n",
       "      <td>binance</td>\n",
       "      <td>2022-11-10T06:12:55.744</td>\n",
       "      <td>0.372600</td>\n",
       "      <td>0.373800</td>\n",
       "      <td>0.372600</td>\n",
       "      <td>0.372700</td>\n",
       "      <td>670674.000000</td>\n",
       "    </tr>\n",
       "    <tr>\n",
       "      <th>18</th>\n",
       "      <td>binance</td>\n",
       "      <td>2022-11-10T06:12:58.371</td>\n",
       "      <td>0.372600</td>\n",
       "      <td>0.373800</td>\n",
       "      <td>0.372500</td>\n",
       "      <td>0.372800</td>\n",
       "      <td>699136.000000</td>\n",
       "    </tr>\n",
       "    <tr>\n",
       "      <th>19</th>\n",
       "      <td>binance</td>\n",
       "      <td>2022-11-10T06:13:00.871</td>\n",
       "      <td>0.372700</td>\n",
       "      <td>0.372700</td>\n",
       "      <td>0.372700</td>\n",
       "      <td>0.372700</td>\n",
       "      <td>0.000000</td>\n",
       "    </tr>\n",
       "    <tr>\n",
       "      <th>20</th>\n",
       "      <td>ftx</td>\n",
       "      <td>2022-11-10T06:13:04.260</td>\n",
       "      <td>0.352725</td>\n",
       "      <td>0.352725</td>\n",
       "      <td>0.352675</td>\n",
       "      <td>0.352675</td>\n",
       "      <td>689.479625</td>\n",
       "    </tr>\n",
       "    <tr>\n",
       "      <th>21</th>\n",
       "      <td>ftx</td>\n",
       "      <td>2022-11-10T06:13:07.710</td>\n",
       "      <td>0.352725</td>\n",
       "      <td>0.353700</td>\n",
       "      <td>0.352675</td>\n",
       "      <td>0.353700</td>\n",
       "      <td>1090.824800</td>\n",
       "    </tr>\n",
       "    <tr>\n",
       "      <th>22</th>\n",
       "      <td>ftx</td>\n",
       "      <td>2022-11-10T06:13:11.390</td>\n",
       "      <td>0.352725</td>\n",
       "      <td>0.353700</td>\n",
       "      <td>0.352675</td>\n",
       "      <td>0.353700</td>\n",
       "      <td>1090.824800</td>\n",
       "    </tr>\n",
       "    <tr>\n",
       "      <th>23</th>\n",
       "      <td>ftx</td>\n",
       "      <td>2022-11-10T06:13:14.677</td>\n",
       "      <td>0.352725</td>\n",
       "      <td>0.353700</td>\n",
       "      <td>0.352675</td>\n",
       "      <td>0.353675</td>\n",
       "      <td>1153.659950</td>\n",
       "    </tr>\n",
       "    <tr>\n",
       "      <th>24</th>\n",
       "      <td>ftx</td>\n",
       "      <td>2022-11-10T06:13:17.772</td>\n",
       "      <td>0.352725</td>\n",
       "      <td>0.353700</td>\n",
       "      <td>0.352675</td>\n",
       "      <td>0.352675</td>\n",
       "      <td>1771.645550</td>\n",
       "    </tr>\n",
       "    <tr>\n",
       "      <th>25</th>\n",
       "      <td>ftx</td>\n",
       "      <td>2022-11-10T06:13:21.741</td>\n",
       "      <td>0.352725</td>\n",
       "      <td>0.353700</td>\n",
       "      <td>0.352675</td>\n",
       "      <td>0.352675</td>\n",
       "      <td>2117.283050</td>\n",
       "    </tr>\n",
       "    <tr>\n",
       "      <th>26</th>\n",
       "      <td>ftx</td>\n",
       "      <td>2022-11-10T06:13:25.585</td>\n",
       "      <td>0.352725</td>\n",
       "      <td>0.353700</td>\n",
       "      <td>0.352675</td>\n",
       "      <td>0.352675</td>\n",
       "      <td>2188.876075</td>\n",
       "    </tr>\n",
       "    <tr>\n",
       "      <th>27</th>\n",
       "      <td>ftx</td>\n",
       "      <td>2022-11-10T06:13:28.794</td>\n",
       "      <td>0.352725</td>\n",
       "      <td>0.353700</td>\n",
       "      <td>0.352675</td>\n",
       "      <td>0.353700</td>\n",
       "      <td>2188.876075</td>\n",
       "    </tr>\n",
       "    <tr>\n",
       "      <th>28</th>\n",
       "      <td>ftx</td>\n",
       "      <td>2022-11-10T06:13:32.290</td>\n",
       "      <td>0.352725</td>\n",
       "      <td>0.353800</td>\n",
       "      <td>0.352675</td>\n",
       "      <td>0.353700</td>\n",
       "      <td>2190.998875</td>\n",
       "    </tr>\n",
       "    <tr>\n",
       "      <th>29</th>\n",
       "      <td>ftx</td>\n",
       "      <td>2022-11-10T06:13:35.848</td>\n",
       "      <td>0.352725</td>\n",
       "      <td>0.353800</td>\n",
       "      <td>0.352125</td>\n",
       "      <td>0.353700</td>\n",
       "      <td>2328.493600</td>\n",
       "    </tr>\n",
       "    <tr>\n",
       "      <th>30</th>\n",
       "      <td>ftx</td>\n",
       "      <td>2022-11-10T06:13:39.131</td>\n",
       "      <td>0.352725</td>\n",
       "      <td>0.353800</td>\n",
       "      <td>0.352125</td>\n",
       "      <td>0.353700</td>\n",
       "      <td>2328.493600</td>\n",
       "    </tr>\n",
       "    <tr>\n",
       "      <th>31</th>\n",
       "      <td>ftx</td>\n",
       "      <td>2022-11-10T06:13:43.068</td>\n",
       "      <td>0.352725</td>\n",
       "      <td>0.353800</td>\n",
       "      <td>0.352125</td>\n",
       "      <td>0.353700</td>\n",
       "      <td>2328.493600</td>\n",
       "    </tr>\n",
       "    <tr>\n",
       "      <th>32</th>\n",
       "      <td>ftx</td>\n",
       "      <td>2022-11-10T06:13:46.508</td>\n",
       "      <td>0.352725</td>\n",
       "      <td>0.353800</td>\n",
       "      <td>0.352125</td>\n",
       "      <td>0.353700</td>\n",
       "      <td>2328.493600</td>\n",
       "    </tr>\n",
       "    <tr>\n",
       "      <th>33</th>\n",
       "      <td>ftx</td>\n",
       "      <td>2022-11-10T06:13:49.328</td>\n",
       "      <td>0.352725</td>\n",
       "      <td>0.353800</td>\n",
       "      <td>0.352125</td>\n",
       "      <td>0.353700</td>\n",
       "      <td>2328.493600</td>\n",
       "    </tr>\n",
       "    <tr>\n",
       "      <th>34</th>\n",
       "      <td>ftx</td>\n",
       "      <td>2022-11-10T06:13:51.987</td>\n",
       "      <td>0.352725</td>\n",
       "      <td>0.353800</td>\n",
       "      <td>0.352125</td>\n",
       "      <td>0.353700</td>\n",
       "      <td>2328.493600</td>\n",
       "    </tr>\n",
       "    <tr>\n",
       "      <th>35</th>\n",
       "      <td>ftx</td>\n",
       "      <td>2022-11-10T06:13:55.826</td>\n",
       "      <td>0.352725</td>\n",
       "      <td>0.353800</td>\n",
       "      <td>0.350850</td>\n",
       "      <td>0.350850</td>\n",
       "      <td>2664.825925</td>\n",
       "    </tr>\n",
       "    <tr>\n",
       "      <th>36</th>\n",
       "      <td>ftx</td>\n",
       "      <td>2022-11-10T06:13:59.259</td>\n",
       "      <td>0.352725</td>\n",
       "      <td>0.353800</td>\n",
       "      <td>0.350850</td>\n",
       "      <td>0.350850</td>\n",
       "      <td>2664.825925</td>\n",
       "    </tr>\n",
       "    <tr>\n",
       "      <th>37</th>\n",
       "      <td>ftx</td>\n",
       "      <td>2022-11-10T06:14:03.167</td>\n",
       "      <td>0.350850</td>\n",
       "      <td>0.366250</td>\n",
       "      <td>0.350850</td>\n",
       "      <td>0.364950</td>\n",
       "      <td>204.593025</td>\n",
       "    </tr>\n",
       "    <tr>\n",
       "      <th>38</th>\n",
       "      <td>ftx</td>\n",
       "      <td>2022-11-10T06:14:06.224</td>\n",
       "      <td>0.350850</td>\n",
       "      <td>0.366250</td>\n",
       "      <td>0.350850</td>\n",
       "      <td>0.354650</td>\n",
       "      <td>239.408075</td>\n",
       "    </tr>\n",
       "    <tr>\n",
       "      <th>39</th>\n",
       "      <td>ftx</td>\n",
       "      <td>2022-11-10T06:14:09.191</td>\n",
       "      <td>0.350850</td>\n",
       "      <td>0.366250</td>\n",
       "      <td>0.350850</td>\n",
       "      <td>0.356250</td>\n",
       "      <td>243.318575</td>\n",
       "    </tr>\n",
       "    <tr>\n",
       "      <th>40</th>\n",
       "      <td>bytetrade</td>\n",
       "      <td>2022-11-10T06:14:12.361</td>\n",
       "      <td>0.373316</td>\n",
       "      <td>0.373316</td>\n",
       "      <td>0.372960</td>\n",
       "      <td>0.372960</td>\n",
       "      <td>0.017400</td>\n",
       "    </tr>\n",
       "    <tr>\n",
       "      <th>41</th>\n",
       "      <td>bytetrade</td>\n",
       "      <td>2022-11-10T06:14:15.102</td>\n",
       "      <td>0.373316</td>\n",
       "      <td>0.373316</td>\n",
       "      <td>0.372960</td>\n",
       "      <td>0.373099</td>\n",
       "      <td>0.073300</td>\n",
       "    </tr>\n",
       "    <tr>\n",
       "      <th>42</th>\n",
       "      <td>bytetrade</td>\n",
       "      <td>2022-11-10T06:14:17.895</td>\n",
       "      <td>0.373316</td>\n",
       "      <td>0.373316</td>\n",
       "      <td>0.372960</td>\n",
       "      <td>0.373099</td>\n",
       "      <td>0.073300</td>\n",
       "    </tr>\n",
       "    <tr>\n",
       "      <th>43</th>\n",
       "      <td>bytetrade</td>\n",
       "      <td>2022-11-10T06:14:21.671</td>\n",
       "      <td>0.373316</td>\n",
       "      <td>0.373316</td>\n",
       "      <td>0.372960</td>\n",
       "      <td>0.373195</td>\n",
       "      <td>0.104200</td>\n",
       "    </tr>\n",
       "    <tr>\n",
       "      <th>44</th>\n",
       "      <td>bytetrade</td>\n",
       "      <td>2022-11-10T06:14:24.204</td>\n",
       "      <td>0.373316</td>\n",
       "      <td>0.373316</td>\n",
       "      <td>0.372960</td>\n",
       "      <td>0.373195</td>\n",
       "      <td>0.104200</td>\n",
       "    </tr>\n",
       "    <tr>\n",
       "      <th>45</th>\n",
       "      <td>bytetrade</td>\n",
       "      <td>2022-11-10T06:14:26.936</td>\n",
       "      <td>0.373316</td>\n",
       "      <td>0.373316</td>\n",
       "      <td>0.372960</td>\n",
       "      <td>0.373113</td>\n",
       "      <td>0.143900</td>\n",
       "    </tr>\n",
       "    <tr>\n",
       "      <th>46</th>\n",
       "      <td>bytetrade</td>\n",
       "      <td>2022-11-10T06:14:29.770</td>\n",
       "      <td>0.373316</td>\n",
       "      <td>0.373316</td>\n",
       "      <td>0.372960</td>\n",
       "      <td>0.373072</td>\n",
       "      <td>0.162600</td>\n",
       "    </tr>\n",
       "    <tr>\n",
       "      <th>47</th>\n",
       "      <td>bytetrade</td>\n",
       "      <td>2022-11-10T06:14:33.120</td>\n",
       "      <td>0.373316</td>\n",
       "      <td>0.373316</td>\n",
       "      <td>0.372960</td>\n",
       "      <td>0.373072</td>\n",
       "      <td>0.162600</td>\n",
       "    </tr>\n",
       "    <tr>\n",
       "      <th>48</th>\n",
       "      <td>bytetrade</td>\n",
       "      <td>2022-11-10T06:14:35.979</td>\n",
       "      <td>0.373316</td>\n",
       "      <td>0.373316</td>\n",
       "      <td>0.372960</td>\n",
       "      <td>0.373310</td>\n",
       "      <td>0.169100</td>\n",
       "    </tr>\n",
       "    <tr>\n",
       "      <th>49</th>\n",
       "      <td>bytetrade</td>\n",
       "      <td>2022-11-10T06:14:39.619</td>\n",
       "      <td>0.373316</td>\n",
       "      <td>0.373620</td>\n",
       "      <td>0.372960</td>\n",
       "      <td>0.373620</td>\n",
       "      <td>0.175100</td>\n",
       "    </tr>\n",
       "    <tr>\n",
       "      <th>50</th>\n",
       "      <td>bytetrade</td>\n",
       "      <td>2022-11-10T06:14:42.122</td>\n",
       "      <td>0.373316</td>\n",
       "      <td>0.373620</td>\n",
       "      <td>0.372960</td>\n",
       "      <td>0.372983</td>\n",
       "      <td>0.178800</td>\n",
       "    </tr>\n",
       "    <tr>\n",
       "      <th>51</th>\n",
       "      <td>bytetrade</td>\n",
       "      <td>2022-11-10T06:14:44.891</td>\n",
       "      <td>0.373316</td>\n",
       "      <td>0.373620</td>\n",
       "      <td>0.372960</td>\n",
       "      <td>0.372983</td>\n",
       "      <td>0.178800</td>\n",
       "    </tr>\n",
       "    <tr>\n",
       "      <th>52</th>\n",
       "      <td>bytetrade</td>\n",
       "      <td>2022-11-10T06:14:48.623</td>\n",
       "      <td>0.373316</td>\n",
       "      <td>0.373620</td>\n",
       "      <td>0.372960</td>\n",
       "      <td>0.373348</td>\n",
       "      <td>0.191000</td>\n",
       "    </tr>\n",
       "    <tr>\n",
       "      <th>53</th>\n",
       "      <td>bytetrade</td>\n",
       "      <td>2022-11-10T06:14:51.815</td>\n",
       "      <td>0.373316</td>\n",
       "      <td>0.373747</td>\n",
       "      <td>0.372960</td>\n",
       "      <td>0.373747</td>\n",
       "      <td>0.209400</td>\n",
       "    </tr>\n",
       "    <tr>\n",
       "      <th>54</th>\n",
       "      <td>bytetrade</td>\n",
       "      <td>2022-11-10T06:14:54.726</td>\n",
       "      <td>0.373316</td>\n",
       "      <td>0.373747</td>\n",
       "      <td>0.372960</td>\n",
       "      <td>0.373747</td>\n",
       "      <td>0.209400</td>\n",
       "    </tr>\n",
       "    <tr>\n",
       "      <th>55</th>\n",
       "      <td>bytetrade</td>\n",
       "      <td>2022-11-10T06:14:57.464</td>\n",
       "      <td>0.373316</td>\n",
       "      <td>0.373747</td>\n",
       "      <td>0.372960</td>\n",
       "      <td>0.373747</td>\n",
       "      <td>0.209400</td>\n",
       "    </tr>\n",
       "    <tr>\n",
       "      <th>56</th>\n",
       "      <td>bytetrade</td>\n",
       "      <td>2022-11-10T06:15:00.308</td>\n",
       "      <td>0.373268</td>\n",
       "      <td>0.373268</td>\n",
       "      <td>0.373268</td>\n",
       "      <td>0.373268</td>\n",
       "      <td>0.000000</td>\n",
       "    </tr>\n",
       "    <tr>\n",
       "      <th>57</th>\n",
       "      <td>bytetrade</td>\n",
       "      <td>2022-11-10T06:15:03.979</td>\n",
       "      <td>0.373498</td>\n",
       "      <td>0.373498</td>\n",
       "      <td>0.373498</td>\n",
       "      <td>0.373498</td>\n",
       "      <td>0.009800</td>\n",
       "    </tr>\n",
       "    <tr>\n",
       "      <th>58</th>\n",
       "      <td>bytetrade</td>\n",
       "      <td>2022-11-10T06:15:06.557</td>\n",
       "      <td>0.373498</td>\n",
       "      <td>0.373498</td>\n",
       "      <td>0.373352</td>\n",
       "      <td>0.373352</td>\n",
       "      <td>0.038300</td>\n",
       "    </tr>\n",
       "    <tr>\n",
       "      <th>59</th>\n",
       "      <td>bytetrade</td>\n",
       "      <td>2022-11-10T06:15:09.398</td>\n",
       "      <td>0.373498</td>\n",
       "      <td>0.373498</td>\n",
       "      <td>0.373352</td>\n",
       "      <td>0.373352</td>\n",
       "      <td>0.038300</td>\n",
       "    </tr>\n",
       "  </tbody>\n",
       "</table>\n",
       "</div>"
      ],
      "text/plain": [
       "     exchange                timestamp      open      high       low  \\\n",
       "0     binance  2022-11-10T06:12:11.307  0.372600  0.373100  0.372600   \n",
       "1     binance  2022-11-10T06:12:14.216  0.372600  0.373400  0.372600   \n",
       "2     binance  2022-11-10T06:12:16.695  0.372600  0.373700  0.372600   \n",
       "3     binance  2022-11-10T06:12:19.186  0.372600  0.373700  0.372600   \n",
       "4     binance  2022-11-10T06:12:21.860  0.372600  0.373700  0.372600   \n",
       "5     binance  2022-11-10T06:12:24.440  0.372600  0.373700  0.372600   \n",
       "6     binance  2022-11-10T06:12:26.973  0.372600  0.373700  0.372600   \n",
       "7     binance  2022-11-10T06:12:29.490  0.372600  0.373700  0.372600   \n",
       "8     binance  2022-11-10T06:12:32.039  0.372600  0.373700  0.372600   \n",
       "9     binance  2022-11-10T06:12:34.505  0.372600  0.373700  0.372600   \n",
       "10    binance  2022-11-10T06:12:37.074  0.372600  0.373700  0.372600   \n",
       "11    binance  2022-11-10T06:12:39.724  0.372600  0.373800  0.372600   \n",
       "12    binance  2022-11-10T06:12:42.605  0.372600  0.373800  0.372600   \n",
       "13    binance  2022-11-10T06:12:45.459  0.372600  0.373800  0.372600   \n",
       "14    binance  2022-11-10T06:12:48.151  0.372600  0.373800  0.372600   \n",
       "15    binance  2022-11-10T06:12:50.811  0.372600  0.373800  0.372600   \n",
       "16    binance  2022-11-10T06:12:53.287  0.372600  0.373800  0.372600   \n",
       "17    binance  2022-11-10T06:12:55.744  0.372600  0.373800  0.372600   \n",
       "18    binance  2022-11-10T06:12:58.371  0.372600  0.373800  0.372500   \n",
       "19    binance  2022-11-10T06:13:00.871  0.372700  0.372700  0.372700   \n",
       "20        ftx  2022-11-10T06:13:04.260  0.352725  0.352725  0.352675   \n",
       "21        ftx  2022-11-10T06:13:07.710  0.352725  0.353700  0.352675   \n",
       "22        ftx  2022-11-10T06:13:11.390  0.352725  0.353700  0.352675   \n",
       "23        ftx  2022-11-10T06:13:14.677  0.352725  0.353700  0.352675   \n",
       "24        ftx  2022-11-10T06:13:17.772  0.352725  0.353700  0.352675   \n",
       "25        ftx  2022-11-10T06:13:21.741  0.352725  0.353700  0.352675   \n",
       "26        ftx  2022-11-10T06:13:25.585  0.352725  0.353700  0.352675   \n",
       "27        ftx  2022-11-10T06:13:28.794  0.352725  0.353700  0.352675   \n",
       "28        ftx  2022-11-10T06:13:32.290  0.352725  0.353800  0.352675   \n",
       "29        ftx  2022-11-10T06:13:35.848  0.352725  0.353800  0.352125   \n",
       "30        ftx  2022-11-10T06:13:39.131  0.352725  0.353800  0.352125   \n",
       "31        ftx  2022-11-10T06:13:43.068  0.352725  0.353800  0.352125   \n",
       "32        ftx  2022-11-10T06:13:46.508  0.352725  0.353800  0.352125   \n",
       "33        ftx  2022-11-10T06:13:49.328  0.352725  0.353800  0.352125   \n",
       "34        ftx  2022-11-10T06:13:51.987  0.352725  0.353800  0.352125   \n",
       "35        ftx  2022-11-10T06:13:55.826  0.352725  0.353800  0.350850   \n",
       "36        ftx  2022-11-10T06:13:59.259  0.352725  0.353800  0.350850   \n",
       "37        ftx  2022-11-10T06:14:03.167  0.350850  0.366250  0.350850   \n",
       "38        ftx  2022-11-10T06:14:06.224  0.350850  0.366250  0.350850   \n",
       "39        ftx  2022-11-10T06:14:09.191  0.350850  0.366250  0.350850   \n",
       "40  bytetrade  2022-11-10T06:14:12.361  0.373316  0.373316  0.372960   \n",
       "41  bytetrade  2022-11-10T06:14:15.102  0.373316  0.373316  0.372960   \n",
       "42  bytetrade  2022-11-10T06:14:17.895  0.373316  0.373316  0.372960   \n",
       "43  bytetrade  2022-11-10T06:14:21.671  0.373316  0.373316  0.372960   \n",
       "44  bytetrade  2022-11-10T06:14:24.204  0.373316  0.373316  0.372960   \n",
       "45  bytetrade  2022-11-10T06:14:26.936  0.373316  0.373316  0.372960   \n",
       "46  bytetrade  2022-11-10T06:14:29.770  0.373316  0.373316  0.372960   \n",
       "47  bytetrade  2022-11-10T06:14:33.120  0.373316  0.373316  0.372960   \n",
       "48  bytetrade  2022-11-10T06:14:35.979  0.373316  0.373316  0.372960   \n",
       "49  bytetrade  2022-11-10T06:14:39.619  0.373316  0.373620  0.372960   \n",
       "50  bytetrade  2022-11-10T06:14:42.122  0.373316  0.373620  0.372960   \n",
       "51  bytetrade  2022-11-10T06:14:44.891  0.373316  0.373620  0.372960   \n",
       "52  bytetrade  2022-11-10T06:14:48.623  0.373316  0.373620  0.372960   \n",
       "53  bytetrade  2022-11-10T06:14:51.815  0.373316  0.373747  0.372960   \n",
       "54  bytetrade  2022-11-10T06:14:54.726  0.373316  0.373747  0.372960   \n",
       "55  bytetrade  2022-11-10T06:14:57.464  0.373316  0.373747  0.372960   \n",
       "56  bytetrade  2022-11-10T06:15:00.308  0.373268  0.373268  0.373268   \n",
       "57  bytetrade  2022-11-10T06:15:03.979  0.373498  0.373498  0.373498   \n",
       "58  bytetrade  2022-11-10T06:15:06.557  0.373498  0.373498  0.373352   \n",
       "59  bytetrade  2022-11-10T06:15:09.398  0.373498  0.373498  0.373352   \n",
       "\n",
       "       close         volume  \n",
       "0   0.373100   18504.000000  \n",
       "1   0.373400   72064.000000  \n",
       "2   0.373700   84994.000000  \n",
       "3   0.373300  175291.000000  \n",
       "4   0.373300  187730.000000  \n",
       "5   0.373300  205444.000000  \n",
       "6   0.373200  205560.000000  \n",
       "7   0.373200  211031.000000  \n",
       "8   0.372900  412926.000000  \n",
       "9   0.372900  423694.000000  \n",
       "10  0.373200  467016.000000  \n",
       "11  0.373700  537541.000000  \n",
       "12  0.373300  616265.000000  \n",
       "13  0.373000  638722.000000  \n",
       "14  0.372800  652576.000000  \n",
       "15  0.372600  654571.000000  \n",
       "16  0.372700  670674.000000  \n",
       "17  0.372700  670674.000000  \n",
       "18  0.372800  699136.000000  \n",
       "19  0.372700       0.000000  \n",
       "20  0.352675     689.479625  \n",
       "21  0.353700    1090.824800  \n",
       "22  0.353700    1090.824800  \n",
       "23  0.353675    1153.659950  \n",
       "24  0.352675    1771.645550  \n",
       "25  0.352675    2117.283050  \n",
       "26  0.352675    2188.876075  \n",
       "27  0.353700    2188.876075  \n",
       "28  0.353700    2190.998875  \n",
       "29  0.353700    2328.493600  \n",
       "30  0.353700    2328.493600  \n",
       "31  0.353700    2328.493600  \n",
       "32  0.353700    2328.493600  \n",
       "33  0.353700    2328.493600  \n",
       "34  0.353700    2328.493600  \n",
       "35  0.350850    2664.825925  \n",
       "36  0.350850    2664.825925  \n",
       "37  0.364950     204.593025  \n",
       "38  0.354650     239.408075  \n",
       "39  0.356250     243.318575  \n",
       "40  0.372960       0.017400  \n",
       "41  0.373099       0.073300  \n",
       "42  0.373099       0.073300  \n",
       "43  0.373195       0.104200  \n",
       "44  0.373195       0.104200  \n",
       "45  0.373113       0.143900  \n",
       "46  0.373072       0.162600  \n",
       "47  0.373072       0.162600  \n",
       "48  0.373310       0.169100  \n",
       "49  0.373620       0.175100  \n",
       "50  0.372983       0.178800  \n",
       "51  0.372983       0.178800  \n",
       "52  0.373348       0.191000  \n",
       "53  0.373747       0.209400  \n",
       "54  0.373747       0.209400  \n",
       "55  0.373747       0.209400  \n",
       "56  0.373268       0.000000  \n",
       "57  0.373498       0.009800  \n",
       "58  0.373352       0.038300  \n",
       "59  0.373352       0.038300  "
      ]
     },
     "execution_count": 39,
     "metadata": {},
     "output_type": "execute_result"
    }
   ],
   "source": [
    "verif_df3_OH = fn.concatenate(verif_0_X[1], verif_1_X[1], verif_2_X[1], n)\n",
    "verif_df3_OH"
   ]
  },
  {
   "cell_type": "markdown",
   "metadata": {},
   "source": [
    "<font color= orange> <font size = 5> 2. Microstructure Visualization </font>"
   ]
  },
  {
   "cell_type": "markdown",
   "metadata": {},
   "source": [
    "Now we are going to obtain total_volumes, mid_prices and VWAP metric for criptocurrencies in every exchange."
   ]
  },
  {
   "cell_type": "code",
   "execution_count": 40,
   "metadata": {},
   "outputs": [
    {
     "name": "stdout",
     "output_type": "stream",
     "text": [
      "Help on function Micro in module visualizations:\n",
      "\n",
      "Micro(lvls, cripto, exchange, n, ts)\n",
      "    Function that returns Microstructure OB and OHLCV for i levels (as integer) n times \n",
      "    from specified criptocurrency ('BTC/USDT','ETH/USDT','XRP/USDT', or others) and the \n",
      "    following exchanges: binance, ftx or bytetrade (as string).\n",
      "    \n",
      "    Parameters:\n",
      "    ----------\n",
      "    lvls: Levels of bids/asks in the Order Book (int).\n",
      "    cripto: Criptocurrency downloadable symbol (str).\n",
      "    exchanges: Criptocurrency downloadable Exchange (str).\n",
      "    n: Data retrieval per exchange (int).\n",
      "    ts: timesleep (s) required in between data retrieval.\n",
      "    \n",
      "    Returns:\n",
      "    -------\n",
      "    Micro[0]: Order Books Data.\n",
      "    Micro[1]: OHLCV Data.\n",
      "\n"
     ]
    }
   ],
   "source": [
    "help(vs.Micro)"
   ]
  },
  {
   "cell_type": "markdown",
   "metadata": {},
   "source": [
    "<strong> \n",
    "<font color= lightgreen> <font size = 3> Progress check 2  </font> <strong>\n",
    "\n",
    "Dataframes"
   ]
  },
  {
   "cell_type": "markdown",
   "metadata": {},
   "source": [
    "<font color= lightblue> <font size = 2> Verification BTC </font>"
   ]
  },
  {
   "cell_type": "code",
   "execution_count": 41,
   "metadata": {},
   "outputs": [
    {
     "data": {
      "text/plain": [
       "((25, 'BTC/USDT', 'binance'),\n",
       " (25, 'BTC/USDT', 'ftx'),\n",
       " (25, 'BTC/USDT', 'bytetrade'))"
      ]
     },
     "execution_count": 41,
     "metadata": {},
     "output_type": "execute_result"
    }
   ],
   "source": [
    "params0= 25, criptos[0], exchanges[0]\n",
    "params1= 25, criptos[0], exchanges[1]\n",
    "params2= 25, criptos[0], exchanges[2]\n",
    "params0,params1,params2"
   ]
  },
  {
   "cell_type": "code",
   "execution_count": 42,
   "metadata": {},
   "outputs": [],
   "source": [
    "MS_0_B = vs.Micro(params0[0],params0[1], params0[2], n, .01)\n",
    "MS_1_B = vs.Micro(params1[0],params1[1], params1[2], n, .01)\n",
    "MS_2_B = vs.Micro(params2[0],params2[1], params2[2], n, .01)"
   ]
  },
  {
   "cell_type": "markdown",
   "metadata": {},
   "source": [
    "Bid and Asks Volumes in the Microstructure determine the demand and it's a factor for price movements. This is also true for the VWAP which is a trend detector by reflecting the price adjusted by its volume."
   ]
  },
  {
   "cell_type": "code",
   "execution_count": 43,
   "metadata": {},
   "outputs": [
    {
     "data": {
      "text/html": [
       "<div>\n",
       "<style scoped>\n",
       "    .dataframe tbody tr th:only-of-type {\n",
       "        vertical-align: middle;\n",
       "    }\n",
       "\n",
       "    .dataframe tbody tr th {\n",
       "        vertical-align: top;\n",
       "    }\n",
       "\n",
       "    .dataframe thead th {\n",
       "        text-align: right;\n",
       "    }\n",
       "</style>\n",
       "<table border=\"1\" class=\"dataframe\">\n",
       "  <thead>\n",
       "    <tr style=\"text-align: right;\">\n",
       "      <th></th>\n",
       "      <th>exchange</th>\n",
       "      <th>timestamp</th>\n",
       "      <th>level</th>\n",
       "      <th>ask_volume</th>\n",
       "      <th>bid_volume</th>\n",
       "      <th>total_volume</th>\n",
       "      <th>mid_price</th>\n",
       "      <th>vwap</th>\n",
       "    </tr>\n",
       "  </thead>\n",
       "  <tbody>\n",
       "    <tr>\n",
       "      <th>0</th>\n",
       "      <td>binance</td>\n",
       "      <td>2022-11-10T06:15:12.709</td>\n",
       "      <td>25</td>\n",
       "      <td>0.65634</td>\n",
       "      <td>1.030990</td>\n",
       "      <td>1.687330</td>\n",
       "      <td>16669.445</td>\n",
       "      <td>26548.354906</td>\n",
       "    </tr>\n",
       "    <tr>\n",
       "      <th>1</th>\n",
       "      <td>binance</td>\n",
       "      <td>2022-11-10T06:15:14.111</td>\n",
       "      <td>25</td>\n",
       "      <td>0.79225</td>\n",
       "      <td>2.178790</td>\n",
       "      <td>2.971040</td>\n",
       "      <td>16669.970</td>\n",
       "      <td>22280.484608</td>\n",
       "    </tr>\n",
       "    <tr>\n",
       "      <th>2</th>\n",
       "      <td>binance</td>\n",
       "      <td>2022-11-10T06:15:15.791</td>\n",
       "      <td>25</td>\n",
       "      <td>1.91793</td>\n",
       "      <td>3.751170</td>\n",
       "      <td>5.669100</td>\n",
       "      <td>16664.355</td>\n",
       "      <td>19602.893535</td>\n",
       "    </tr>\n",
       "    <tr>\n",
       "      <th>3</th>\n",
       "      <td>binance</td>\n",
       "      <td>2022-11-10T06:15:17.605</td>\n",
       "      <td>25</td>\n",
       "      <td>0.72454</td>\n",
       "      <td>3.629350</td>\n",
       "      <td>4.353890</td>\n",
       "      <td>16664.510</td>\n",
       "      <td>20491.924352</td>\n",
       "    </tr>\n",
       "    <tr>\n",
       "      <th>4</th>\n",
       "      <td>binance</td>\n",
       "      <td>2022-11-10T06:15:19.634</td>\n",
       "      <td>25</td>\n",
       "      <td>1.15110</td>\n",
       "      <td>2.064200</td>\n",
       "      <td>3.215300</td>\n",
       "      <td>16655.560</td>\n",
       "      <td>21835.152209</td>\n",
       "    </tr>\n",
       "    <tr>\n",
       "      <th>5</th>\n",
       "      <td>binance</td>\n",
       "      <td>2022-11-10T06:15:21.524</td>\n",
       "      <td>25</td>\n",
       "      <td>1.44438</td>\n",
       "      <td>2.146730</td>\n",
       "      <td>3.591110</td>\n",
       "      <td>16655.730</td>\n",
       "      <td>21293.479232</td>\n",
       "    </tr>\n",
       "    <tr>\n",
       "      <th>6</th>\n",
       "      <td>binance</td>\n",
       "      <td>2022-11-10T06:15:23.146</td>\n",
       "      <td>25</td>\n",
       "      <td>0.55711</td>\n",
       "      <td>0.837820</td>\n",
       "      <td>1.394930</td>\n",
       "      <td>16662.220</td>\n",
       "      <td>28607.051786</td>\n",
       "    </tr>\n",
       "    <tr>\n",
       "      <th>7</th>\n",
       "      <td>binance</td>\n",
       "      <td>2022-11-10T06:15:24.935</td>\n",
       "      <td>25</td>\n",
       "      <td>0.49497</td>\n",
       "      <td>2.200090</td>\n",
       "      <td>2.695060</td>\n",
       "      <td>16661.950</td>\n",
       "      <td>22844.284918</td>\n",
       "    </tr>\n",
       "    <tr>\n",
       "      <th>8</th>\n",
       "      <td>binance</td>\n",
       "      <td>2022-11-10T06:15:26.463</td>\n",
       "      <td>25</td>\n",
       "      <td>1.23673</td>\n",
       "      <td>4.275740</td>\n",
       "      <td>5.512470</td>\n",
       "      <td>16653.250</td>\n",
       "      <td>19673.944922</td>\n",
       "    </tr>\n",
       "    <tr>\n",
       "      <th>9</th>\n",
       "      <td>binance</td>\n",
       "      <td>2022-11-10T06:15:28.054</td>\n",
       "      <td>25</td>\n",
       "      <td>1.42952</td>\n",
       "      <td>4.355440</td>\n",
       "      <td>5.784960</td>\n",
       "      <td>16653.560</td>\n",
       "      <td>19531.956180</td>\n",
       "    </tr>\n",
       "    <tr>\n",
       "      <th>10</th>\n",
       "      <td>binance</td>\n",
       "      <td>2022-11-10T06:15:29.598</td>\n",
       "      <td>25</td>\n",
       "      <td>1.98331</td>\n",
       "      <td>7.876960</td>\n",
       "      <td>9.860270</td>\n",
       "      <td>16651.690</td>\n",
       "      <td>18339.845093</td>\n",
       "    </tr>\n",
       "    <tr>\n",
       "      <th>11</th>\n",
       "      <td>binance</td>\n",
       "      <td>2022-11-10T06:15:31.158</td>\n",
       "      <td>25</td>\n",
       "      <td>4.34594</td>\n",
       "      <td>2.801380</td>\n",
       "      <td>7.147320</td>\n",
       "      <td>16645.870</td>\n",
       "      <td>18973.211096</td>\n",
       "    </tr>\n",
       "    <tr>\n",
       "      <th>12</th>\n",
       "      <td>binance</td>\n",
       "      <td>2022-11-10T06:15:32.633</td>\n",
       "      <td>25</td>\n",
       "      <td>1.77234</td>\n",
       "      <td>3.970870</td>\n",
       "      <td>5.743210</td>\n",
       "      <td>16645.935</td>\n",
       "      <td>19543.563648</td>\n",
       "    </tr>\n",
       "    <tr>\n",
       "      <th>13</th>\n",
       "      <td>binance</td>\n",
       "      <td>2022-11-10T06:15:34.193</td>\n",
       "      <td>25</td>\n",
       "      <td>2.36153</td>\n",
       "      <td>1.735000</td>\n",
       "      <td>4.096530</td>\n",
       "      <td>16643.790</td>\n",
       "      <td>20706.115099</td>\n",
       "    </tr>\n",
       "    <tr>\n",
       "      <th>14</th>\n",
       "      <td>binance</td>\n",
       "      <td>2022-11-10T06:15:35.673</td>\n",
       "      <td>25</td>\n",
       "      <td>1.75196</td>\n",
       "      <td>1.128470</td>\n",
       "      <td>2.880430</td>\n",
       "      <td>16642.625</td>\n",
       "      <td>22420.108839</td>\n",
       "    </tr>\n",
       "    <tr>\n",
       "      <th>15</th>\n",
       "      <td>binance</td>\n",
       "      <td>2022-11-10T06:15:37.142</td>\n",
       "      <td>25</td>\n",
       "      <td>1.15060</td>\n",
       "      <td>0.992590</td>\n",
       "      <td>2.143190</td>\n",
       "      <td>16643.025</td>\n",
       "      <td>24408.097023</td>\n",
       "    </tr>\n",
       "    <tr>\n",
       "      <th>16</th>\n",
       "      <td>binance</td>\n",
       "      <td>2022-11-10T06:15:38.665</td>\n",
       "      <td>25</td>\n",
       "      <td>1.80390</td>\n",
       "      <td>0.546110</td>\n",
       "      <td>2.350010</td>\n",
       "      <td>16640.770</td>\n",
       "      <td>23721.401568</td>\n",
       "    </tr>\n",
       "    <tr>\n",
       "      <th>17</th>\n",
       "      <td>binance</td>\n",
       "      <td>2022-11-10T06:15:40.084</td>\n",
       "      <td>25</td>\n",
       "      <td>1.14792</td>\n",
       "      <td>0.520250</td>\n",
       "      <td>1.668170</td>\n",
       "      <td>16640.095</td>\n",
       "      <td>26614.932196</td>\n",
       "    </tr>\n",
       "    <tr>\n",
       "      <th>18</th>\n",
       "      <td>binance</td>\n",
       "      <td>2022-11-10T06:15:41.591</td>\n",
       "      <td>25</td>\n",
       "      <td>0.64474</td>\n",
       "      <td>0.862240</td>\n",
       "      <td>1.506980</td>\n",
       "      <td>16638.930</td>\n",
       "      <td>27679.878737</td>\n",
       "    </tr>\n",
       "    <tr>\n",
       "      <th>19</th>\n",
       "      <td>binance</td>\n",
       "      <td>2022-11-10T06:15:43.181</td>\n",
       "      <td>25</td>\n",
       "      <td>0.38547</td>\n",
       "      <td>1.677260</td>\n",
       "      <td>2.062730</td>\n",
       "      <td>16643.785</td>\n",
       "      <td>24712.354422</td>\n",
       "    </tr>\n",
       "    <tr>\n",
       "      <th>20</th>\n",
       "      <td>ftx</td>\n",
       "      <td>2022-11-10T06:15:45.438</td>\n",
       "      <td>25</td>\n",
       "      <td>4.00570</td>\n",
       "      <td>7.449300</td>\n",
       "      <td>11.455000</td>\n",
       "      <td>16092.000</td>\n",
       "      <td>17482.198167</td>\n",
       "    </tr>\n",
       "    <tr>\n",
       "      <th>21</th>\n",
       "      <td>ftx</td>\n",
       "      <td>2022-11-10T06:15:47.596</td>\n",
       "      <td>25</td>\n",
       "      <td>4.00590</td>\n",
       "      <td>7.436700</td>\n",
       "      <td>11.442600</td>\n",
       "      <td>16092.000</td>\n",
       "      <td>17483.722021</td>\n",
       "    </tr>\n",
       "    <tr>\n",
       "      <th>22</th>\n",
       "      <td>ftx</td>\n",
       "      <td>2022-11-10T06:15:50.071</td>\n",
       "      <td>25</td>\n",
       "      <td>4.00590</td>\n",
       "      <td>7.438600</td>\n",
       "      <td>11.444500</td>\n",
       "      <td>16091.500</td>\n",
       "      <td>17482.488313</td>\n",
       "    </tr>\n",
       "    <tr>\n",
       "      <th>23</th>\n",
       "      <td>ftx</td>\n",
       "      <td>2022-11-10T06:15:52.381</td>\n",
       "      <td>25</td>\n",
       "      <td>3.98290</td>\n",
       "      <td>7.421900</td>\n",
       "      <td>11.404800</td>\n",
       "      <td>16106.500</td>\n",
       "      <td>17497.316779</td>\n",
       "    </tr>\n",
       "    <tr>\n",
       "      <th>24</th>\n",
       "      <td>ftx</td>\n",
       "      <td>2022-11-10T06:15:54.113</td>\n",
       "      <td>25</td>\n",
       "      <td>3.98290</td>\n",
       "      <td>9.434000</td>\n",
       "      <td>13.416900</td>\n",
       "      <td>16115.000</td>\n",
       "      <td>17302.215117</td>\n",
       "    </tr>\n",
       "    <tr>\n",
       "      <th>25</th>\n",
       "      <td>ftx</td>\n",
       "      <td>2022-11-10T06:15:55.823</td>\n",
       "      <td>25</td>\n",
       "      <td>3.98290</td>\n",
       "      <td>9.399000</td>\n",
       "      <td>13.381900</td>\n",
       "      <td>16115.000</td>\n",
       "      <td>17305.359478</td>\n",
       "    </tr>\n",
       "    <tr>\n",
       "      <th>26</th>\n",
       "      <td>ftx</td>\n",
       "      <td>2022-11-10T06:15:57.506</td>\n",
       "      <td>25</td>\n",
       "      <td>3.88570</td>\n",
       "      <td>9.398600</td>\n",
       "      <td>13.284300</td>\n",
       "      <td>16115.000</td>\n",
       "      <td>17314.215277</td>\n",
       "    </tr>\n",
       "    <tr>\n",
       "      <th>27</th>\n",
       "      <td>ftx</td>\n",
       "      <td>2022-11-10T06:15:59.820</td>\n",
       "      <td>25</td>\n",
       "      <td>3.88570</td>\n",
       "      <td>9.396000</td>\n",
       "      <td>13.281700</td>\n",
       "      <td>16115.000</td>\n",
       "      <td>17314.452969</td>\n",
       "    </tr>\n",
       "    <tr>\n",
       "      <th>28</th>\n",
       "      <td>ftx</td>\n",
       "      <td>2022-11-10T06:16:02.303</td>\n",
       "      <td>25</td>\n",
       "      <td>0.08110</td>\n",
       "      <td>1.994100</td>\n",
       "      <td>2.075200</td>\n",
       "      <td>16117.000</td>\n",
       "      <td>23874.672321</td>\n",
       "    </tr>\n",
       "    <tr>\n",
       "      <th>29</th>\n",
       "      <td>ftx</td>\n",
       "      <td>2022-11-10T06:16:04.615</td>\n",
       "      <td>25</td>\n",
       "      <td>0.08110</td>\n",
       "      <td>1.993200</td>\n",
       "      <td>2.074300</td>\n",
       "      <td>16117.500</td>\n",
       "      <td>23879.045606</td>\n",
       "    </tr>\n",
       "    <tr>\n",
       "      <th>30</th>\n",
       "      <td>ftx</td>\n",
       "      <td>2022-11-10T06:16:07.419</td>\n",
       "      <td>25</td>\n",
       "      <td>0.08110</td>\n",
       "      <td>1.992800</td>\n",
       "      <td>2.073900</td>\n",
       "      <td>16117.000</td>\n",
       "      <td>23879.545783</td>\n",
       "    </tr>\n",
       "    <tr>\n",
       "      <th>31</th>\n",
       "      <td>ftx</td>\n",
       "      <td>2022-11-10T06:16:09.220</td>\n",
       "      <td>25</td>\n",
       "      <td>0.08140</td>\n",
       "      <td>1.992700</td>\n",
       "      <td>2.074100</td>\n",
       "      <td>16117.000</td>\n",
       "      <td>23878.795622</td>\n",
       "    </tr>\n",
       "    <tr>\n",
       "      <th>32</th>\n",
       "      <td>ftx</td>\n",
       "      <td>2022-11-10T06:16:12.312</td>\n",
       "      <td>25</td>\n",
       "      <td>0.08030</td>\n",
       "      <td>2.863700</td>\n",
       "      <td>2.944000</td>\n",
       "      <td>16117.000</td>\n",
       "      <td>21580.298913</td>\n",
       "    </tr>\n",
       "    <tr>\n",
       "      <th>33</th>\n",
       "      <td>ftx</td>\n",
       "      <td>2022-11-10T06:16:15.304</td>\n",
       "      <td>25</td>\n",
       "      <td>0.08030</td>\n",
       "      <td>7.221200</td>\n",
       "      <td>7.301500</td>\n",
       "      <td>16117.000</td>\n",
       "      <td>18309.682942</td>\n",
       "    </tr>\n",
       "    <tr>\n",
       "      <th>34</th>\n",
       "      <td>ftx</td>\n",
       "      <td>2022-11-10T06:16:16.680</td>\n",
       "      <td>25</td>\n",
       "      <td>0.07930</td>\n",
       "      <td>9.351600</td>\n",
       "      <td>9.430900</td>\n",
       "      <td>16118.000</td>\n",
       "      <td>17810.971381</td>\n",
       "    </tr>\n",
       "    <tr>\n",
       "      <th>35</th>\n",
       "      <td>ftx</td>\n",
       "      <td>2022-11-10T06:16:19.548</td>\n",
       "      <td>25</td>\n",
       "      <td>5.52620</td>\n",
       "      <td>1.947000</td>\n",
       "      <td>7.473200</td>\n",
       "      <td>16118.500</td>\n",
       "      <td>18260.182144</td>\n",
       "    </tr>\n",
       "    <tr>\n",
       "      <th>36</th>\n",
       "      <td>ftx</td>\n",
       "      <td>2022-11-10T06:16:21.657</td>\n",
       "      <td>25</td>\n",
       "      <td>0.20380</td>\n",
       "      <td>4.590300</td>\n",
       "      <td>4.794100</td>\n",
       "      <td>16118.500</td>\n",
       "      <td>19466.803801</td>\n",
       "    </tr>\n",
       "    <tr>\n",
       "      <th>37</th>\n",
       "      <td>ftx</td>\n",
       "      <td>2022-11-10T06:16:23.750</td>\n",
       "      <td>25</td>\n",
       "      <td>0.20380</td>\n",
       "      <td>9.348600</td>\n",
       "      <td>9.552400</td>\n",
       "      <td>16118.500</td>\n",
       "      <td>17790.208995</td>\n",
       "    </tr>\n",
       "    <tr>\n",
       "      <th>38</th>\n",
       "      <td>ftx</td>\n",
       "      <td>2022-11-10T06:16:25.640</td>\n",
       "      <td>25</td>\n",
       "      <td>0.22800</td>\n",
       "      <td>9.348200</td>\n",
       "      <td>9.576200</td>\n",
       "      <td>16124.000</td>\n",
       "      <td>17786.263862</td>\n",
       "    </tr>\n",
       "    <tr>\n",
       "      <th>39</th>\n",
       "      <td>ftx</td>\n",
       "      <td>2022-11-10T06:16:28.343</td>\n",
       "      <td>25</td>\n",
       "      <td>0.07850</td>\n",
       "      <td>1.945500</td>\n",
       "      <td>2.024000</td>\n",
       "      <td>16117.000</td>\n",
       "      <td>24071.343874</td>\n",
       "    </tr>\n",
       "    <tr>\n",
       "      <th>40</th>\n",
       "      <td>bytetrade</td>\n",
       "      <td>2022-11-10T06:16:31.654</td>\n",
       "      <td>25</td>\n",
       "      <td>3.33557</td>\n",
       "      <td>0.858823</td>\n",
       "      <td>4.194393</td>\n",
       "      <td>16640.750</td>\n",
       "      <td>20534.827087</td>\n",
       "    </tr>\n",
       "    <tr>\n",
       "      <th>41</th>\n",
       "      <td>bytetrade</td>\n",
       "      <td>2022-11-10T06:16:34.366</td>\n",
       "      <td>25</td>\n",
       "      <td>3.33557</td>\n",
       "      <td>0.858823</td>\n",
       "      <td>4.194393</td>\n",
       "      <td>16640.750</td>\n",
       "      <td>20534.827087</td>\n",
       "    </tr>\n",
       "    <tr>\n",
       "      <th>42</th>\n",
       "      <td>bytetrade</td>\n",
       "      <td>2022-11-10T06:16:36.055</td>\n",
       "      <td>25</td>\n",
       "      <td>3.33557</td>\n",
       "      <td>2.855863</td>\n",
       "      <td>6.191433</td>\n",
       "      <td>16609.850</td>\n",
       "      <td>19185.951412</td>\n",
       "    </tr>\n",
       "    <tr>\n",
       "      <th>43</th>\n",
       "      <td>bytetrade</td>\n",
       "      <td>2022-11-10T06:16:37.793</td>\n",
       "      <td>25</td>\n",
       "      <td>3.33557</td>\n",
       "      <td>2.855863</td>\n",
       "      <td>6.191433</td>\n",
       "      <td>16609.850</td>\n",
       "      <td>19185.951412</td>\n",
       "    </tr>\n",
       "    <tr>\n",
       "      <th>44</th>\n",
       "      <td>bytetrade</td>\n",
       "      <td>2022-11-10T06:16:39.643</td>\n",
       "      <td>25</td>\n",
       "      <td>3.33557</td>\n",
       "      <td>2.855863</td>\n",
       "      <td>6.191433</td>\n",
       "      <td>16609.850</td>\n",
       "      <td>19185.951412</td>\n",
       "    </tr>\n",
       "    <tr>\n",
       "      <th>45</th>\n",
       "      <td>bytetrade</td>\n",
       "      <td>2022-11-10T06:16:41.565</td>\n",
       "      <td>25</td>\n",
       "      <td>3.33557</td>\n",
       "      <td>2.855863</td>\n",
       "      <td>6.191433</td>\n",
       "      <td>16609.850</td>\n",
       "      <td>19185.951412</td>\n",
       "    </tr>\n",
       "    <tr>\n",
       "      <th>46</th>\n",
       "      <td>bytetrade</td>\n",
       "      <td>2022-11-10T06:16:43.000</td>\n",
       "      <td>25</td>\n",
       "      <td>3.33557</td>\n",
       "      <td>2.855863</td>\n",
       "      <td>6.191433</td>\n",
       "      <td>16609.850</td>\n",
       "      <td>19185.951412</td>\n",
       "    </tr>\n",
       "    <tr>\n",
       "      <th>47</th>\n",
       "      <td>bytetrade</td>\n",
       "      <td>2022-11-10T06:16:44.878</td>\n",
       "      <td>25</td>\n",
       "      <td>3.33557</td>\n",
       "      <td>2.855863</td>\n",
       "      <td>6.191433</td>\n",
       "      <td>16609.850</td>\n",
       "      <td>19185.951412</td>\n",
       "    </tr>\n",
       "    <tr>\n",
       "      <th>48</th>\n",
       "      <td>bytetrade</td>\n",
       "      <td>2022-11-10T06:16:46.436</td>\n",
       "      <td>25</td>\n",
       "      <td>3.33557</td>\n",
       "      <td>2.855863</td>\n",
       "      <td>6.191433</td>\n",
       "      <td>16609.850</td>\n",
       "      <td>19185.951412</td>\n",
       "    </tr>\n",
       "    <tr>\n",
       "      <th>49</th>\n",
       "      <td>bytetrade</td>\n",
       "      <td>2022-11-10T06:16:49.607</td>\n",
       "      <td>25</td>\n",
       "      <td>3.33557</td>\n",
       "      <td>2.855863</td>\n",
       "      <td>6.191433</td>\n",
       "      <td>16609.850</td>\n",
       "      <td>19185.951412</td>\n",
       "    </tr>\n",
       "    <tr>\n",
       "      <th>50</th>\n",
       "      <td>bytetrade</td>\n",
       "      <td>2022-11-10T06:16:51.247</td>\n",
       "      <td>25</td>\n",
       "      <td>3.33557</td>\n",
       "      <td>2.855863</td>\n",
       "      <td>6.191433</td>\n",
       "      <td>16609.850</td>\n",
       "      <td>19185.951412</td>\n",
       "    </tr>\n",
       "    <tr>\n",
       "      <th>51</th>\n",
       "      <td>bytetrade</td>\n",
       "      <td>2022-11-10T06:16:52.740</td>\n",
       "      <td>25</td>\n",
       "      <td>3.33557</td>\n",
       "      <td>2.855863</td>\n",
       "      <td>6.191433</td>\n",
       "      <td>16609.850</td>\n",
       "      <td>19185.951412</td>\n",
       "    </tr>\n",
       "    <tr>\n",
       "      <th>52</th>\n",
       "      <td>bytetrade</td>\n",
       "      <td>2022-11-10T06:16:54.380</td>\n",
       "      <td>25</td>\n",
       "      <td>3.33557</td>\n",
       "      <td>2.855863</td>\n",
       "      <td>6.191433</td>\n",
       "      <td>16609.850</td>\n",
       "      <td>19185.951412</td>\n",
       "    </tr>\n",
       "    <tr>\n",
       "      <th>53</th>\n",
       "      <td>bytetrade</td>\n",
       "      <td>2022-11-10T06:16:56.011</td>\n",
       "      <td>25</td>\n",
       "      <td>3.33557</td>\n",
       "      <td>2.859853</td>\n",
       "      <td>6.195423</td>\n",
       "      <td>16611.800</td>\n",
       "      <td>19188.110454</td>\n",
       "    </tr>\n",
       "    <tr>\n",
       "      <th>54</th>\n",
       "      <td>bytetrade</td>\n",
       "      <td>2022-11-10T06:16:57.696</td>\n",
       "      <td>25</td>\n",
       "      <td>3.33557</td>\n",
       "      <td>2.859853</td>\n",
       "      <td>6.195423</td>\n",
       "      <td>16611.800</td>\n",
       "      <td>19188.110454</td>\n",
       "    </tr>\n",
       "    <tr>\n",
       "      <th>55</th>\n",
       "      <td>bytetrade</td>\n",
       "      <td>2022-11-10T06:16:59.336</td>\n",
       "      <td>25</td>\n",
       "      <td>3.33557</td>\n",
       "      <td>2.854633</td>\n",
       "      <td>6.190203</td>\n",
       "      <td>16611.800</td>\n",
       "      <td>19190.388551</td>\n",
       "    </tr>\n",
       "    <tr>\n",
       "      <th>56</th>\n",
       "      <td>bytetrade</td>\n",
       "      <td>2022-11-10T06:17:00.704</td>\n",
       "      <td>25</td>\n",
       "      <td>3.33557</td>\n",
       "      <td>2.854633</td>\n",
       "      <td>6.190203</td>\n",
       "      <td>16611.800</td>\n",
       "      <td>19190.388551</td>\n",
       "    </tr>\n",
       "    <tr>\n",
       "      <th>57</th>\n",
       "      <td>bytetrade</td>\n",
       "      <td>2022-11-10T06:17:02.360</td>\n",
       "      <td>25</td>\n",
       "      <td>3.33557</td>\n",
       "      <td>2.854633</td>\n",
       "      <td>6.190203</td>\n",
       "      <td>16611.800</td>\n",
       "      <td>19190.388551</td>\n",
       "    </tr>\n",
       "    <tr>\n",
       "      <th>58</th>\n",
       "      <td>bytetrade</td>\n",
       "      <td>2022-11-10T06:17:04.912</td>\n",
       "      <td>25</td>\n",
       "      <td>3.33557</td>\n",
       "      <td>2.851933</td>\n",
       "      <td>6.187503</td>\n",
       "      <td>16639.900</td>\n",
       "      <td>19247.768385</td>\n",
       "    </tr>\n",
       "    <tr>\n",
       "      <th>59</th>\n",
       "      <td>bytetrade</td>\n",
       "      <td>2022-11-10T06:17:07.793</td>\n",
       "      <td>25</td>\n",
       "      <td>3.33557</td>\n",
       "      <td>2.851933</td>\n",
       "      <td>6.187503</td>\n",
       "      <td>16639.900</td>\n",
       "      <td>19247.768385</td>\n",
       "    </tr>\n",
       "  </tbody>\n",
       "</table>\n",
       "</div>"
      ],
      "text/plain": [
       "     exchange                timestamp  level  ask_volume  bid_volume  \\\n",
       "0     binance  2022-11-10T06:15:12.709     25     0.65634    1.030990   \n",
       "1     binance  2022-11-10T06:15:14.111     25     0.79225    2.178790   \n",
       "2     binance  2022-11-10T06:15:15.791     25     1.91793    3.751170   \n",
       "3     binance  2022-11-10T06:15:17.605     25     0.72454    3.629350   \n",
       "4     binance  2022-11-10T06:15:19.634     25     1.15110    2.064200   \n",
       "5     binance  2022-11-10T06:15:21.524     25     1.44438    2.146730   \n",
       "6     binance  2022-11-10T06:15:23.146     25     0.55711    0.837820   \n",
       "7     binance  2022-11-10T06:15:24.935     25     0.49497    2.200090   \n",
       "8     binance  2022-11-10T06:15:26.463     25     1.23673    4.275740   \n",
       "9     binance  2022-11-10T06:15:28.054     25     1.42952    4.355440   \n",
       "10    binance  2022-11-10T06:15:29.598     25     1.98331    7.876960   \n",
       "11    binance  2022-11-10T06:15:31.158     25     4.34594    2.801380   \n",
       "12    binance  2022-11-10T06:15:32.633     25     1.77234    3.970870   \n",
       "13    binance  2022-11-10T06:15:34.193     25     2.36153    1.735000   \n",
       "14    binance  2022-11-10T06:15:35.673     25     1.75196    1.128470   \n",
       "15    binance  2022-11-10T06:15:37.142     25     1.15060    0.992590   \n",
       "16    binance  2022-11-10T06:15:38.665     25     1.80390    0.546110   \n",
       "17    binance  2022-11-10T06:15:40.084     25     1.14792    0.520250   \n",
       "18    binance  2022-11-10T06:15:41.591     25     0.64474    0.862240   \n",
       "19    binance  2022-11-10T06:15:43.181     25     0.38547    1.677260   \n",
       "20        ftx  2022-11-10T06:15:45.438     25     4.00570    7.449300   \n",
       "21        ftx  2022-11-10T06:15:47.596     25     4.00590    7.436700   \n",
       "22        ftx  2022-11-10T06:15:50.071     25     4.00590    7.438600   \n",
       "23        ftx  2022-11-10T06:15:52.381     25     3.98290    7.421900   \n",
       "24        ftx  2022-11-10T06:15:54.113     25     3.98290    9.434000   \n",
       "25        ftx  2022-11-10T06:15:55.823     25     3.98290    9.399000   \n",
       "26        ftx  2022-11-10T06:15:57.506     25     3.88570    9.398600   \n",
       "27        ftx  2022-11-10T06:15:59.820     25     3.88570    9.396000   \n",
       "28        ftx  2022-11-10T06:16:02.303     25     0.08110    1.994100   \n",
       "29        ftx  2022-11-10T06:16:04.615     25     0.08110    1.993200   \n",
       "30        ftx  2022-11-10T06:16:07.419     25     0.08110    1.992800   \n",
       "31        ftx  2022-11-10T06:16:09.220     25     0.08140    1.992700   \n",
       "32        ftx  2022-11-10T06:16:12.312     25     0.08030    2.863700   \n",
       "33        ftx  2022-11-10T06:16:15.304     25     0.08030    7.221200   \n",
       "34        ftx  2022-11-10T06:16:16.680     25     0.07930    9.351600   \n",
       "35        ftx  2022-11-10T06:16:19.548     25     5.52620    1.947000   \n",
       "36        ftx  2022-11-10T06:16:21.657     25     0.20380    4.590300   \n",
       "37        ftx  2022-11-10T06:16:23.750     25     0.20380    9.348600   \n",
       "38        ftx  2022-11-10T06:16:25.640     25     0.22800    9.348200   \n",
       "39        ftx  2022-11-10T06:16:28.343     25     0.07850    1.945500   \n",
       "40  bytetrade  2022-11-10T06:16:31.654     25     3.33557    0.858823   \n",
       "41  bytetrade  2022-11-10T06:16:34.366     25     3.33557    0.858823   \n",
       "42  bytetrade  2022-11-10T06:16:36.055     25     3.33557    2.855863   \n",
       "43  bytetrade  2022-11-10T06:16:37.793     25     3.33557    2.855863   \n",
       "44  bytetrade  2022-11-10T06:16:39.643     25     3.33557    2.855863   \n",
       "45  bytetrade  2022-11-10T06:16:41.565     25     3.33557    2.855863   \n",
       "46  bytetrade  2022-11-10T06:16:43.000     25     3.33557    2.855863   \n",
       "47  bytetrade  2022-11-10T06:16:44.878     25     3.33557    2.855863   \n",
       "48  bytetrade  2022-11-10T06:16:46.436     25     3.33557    2.855863   \n",
       "49  bytetrade  2022-11-10T06:16:49.607     25     3.33557    2.855863   \n",
       "50  bytetrade  2022-11-10T06:16:51.247     25     3.33557    2.855863   \n",
       "51  bytetrade  2022-11-10T06:16:52.740     25     3.33557    2.855863   \n",
       "52  bytetrade  2022-11-10T06:16:54.380     25     3.33557    2.855863   \n",
       "53  bytetrade  2022-11-10T06:16:56.011     25     3.33557    2.859853   \n",
       "54  bytetrade  2022-11-10T06:16:57.696     25     3.33557    2.859853   \n",
       "55  bytetrade  2022-11-10T06:16:59.336     25     3.33557    2.854633   \n",
       "56  bytetrade  2022-11-10T06:17:00.704     25     3.33557    2.854633   \n",
       "57  bytetrade  2022-11-10T06:17:02.360     25     3.33557    2.854633   \n",
       "58  bytetrade  2022-11-10T06:17:04.912     25     3.33557    2.851933   \n",
       "59  bytetrade  2022-11-10T06:17:07.793     25     3.33557    2.851933   \n",
       "\n",
       "    total_volume  mid_price          vwap  \n",
       "0       1.687330  16669.445  26548.354906  \n",
       "1       2.971040  16669.970  22280.484608  \n",
       "2       5.669100  16664.355  19602.893535  \n",
       "3       4.353890  16664.510  20491.924352  \n",
       "4       3.215300  16655.560  21835.152209  \n",
       "5       3.591110  16655.730  21293.479232  \n",
       "6       1.394930  16662.220  28607.051786  \n",
       "7       2.695060  16661.950  22844.284918  \n",
       "8       5.512470  16653.250  19673.944922  \n",
       "9       5.784960  16653.560  19531.956180  \n",
       "10      9.860270  16651.690  18339.845093  \n",
       "11      7.147320  16645.870  18973.211096  \n",
       "12      5.743210  16645.935  19543.563648  \n",
       "13      4.096530  16643.790  20706.115099  \n",
       "14      2.880430  16642.625  22420.108839  \n",
       "15      2.143190  16643.025  24408.097023  \n",
       "16      2.350010  16640.770  23721.401568  \n",
       "17      1.668170  16640.095  26614.932196  \n",
       "18      1.506980  16638.930  27679.878737  \n",
       "19      2.062730  16643.785  24712.354422  \n",
       "20     11.455000  16092.000  17482.198167  \n",
       "21     11.442600  16092.000  17483.722021  \n",
       "22     11.444500  16091.500  17482.488313  \n",
       "23     11.404800  16106.500  17497.316779  \n",
       "24     13.416900  16115.000  17302.215117  \n",
       "25     13.381900  16115.000  17305.359478  \n",
       "26     13.284300  16115.000  17314.215277  \n",
       "27     13.281700  16115.000  17314.452969  \n",
       "28      2.075200  16117.000  23874.672321  \n",
       "29      2.074300  16117.500  23879.045606  \n",
       "30      2.073900  16117.000  23879.545783  \n",
       "31      2.074100  16117.000  23878.795622  \n",
       "32      2.944000  16117.000  21580.298913  \n",
       "33      7.301500  16117.000  18309.682942  \n",
       "34      9.430900  16118.000  17810.971381  \n",
       "35      7.473200  16118.500  18260.182144  \n",
       "36      4.794100  16118.500  19466.803801  \n",
       "37      9.552400  16118.500  17790.208995  \n",
       "38      9.576200  16124.000  17786.263862  \n",
       "39      2.024000  16117.000  24071.343874  \n",
       "40      4.194393  16640.750  20534.827087  \n",
       "41      4.194393  16640.750  20534.827087  \n",
       "42      6.191433  16609.850  19185.951412  \n",
       "43      6.191433  16609.850  19185.951412  \n",
       "44      6.191433  16609.850  19185.951412  \n",
       "45      6.191433  16609.850  19185.951412  \n",
       "46      6.191433  16609.850  19185.951412  \n",
       "47      6.191433  16609.850  19185.951412  \n",
       "48      6.191433  16609.850  19185.951412  \n",
       "49      6.191433  16609.850  19185.951412  \n",
       "50      6.191433  16609.850  19185.951412  \n",
       "51      6.191433  16609.850  19185.951412  \n",
       "52      6.191433  16609.850  19185.951412  \n",
       "53      6.195423  16611.800  19188.110454  \n",
       "54      6.195423  16611.800  19188.110454  \n",
       "55      6.190203  16611.800  19190.388551  \n",
       "56      6.190203  16611.800  19190.388551  \n",
       "57      6.190203  16611.800  19190.388551  \n",
       "58      6.187503  16639.900  19247.768385  \n",
       "59      6.187503  16639.900  19247.768385  "
      ]
     },
     "execution_count": 43,
     "metadata": {},
     "output_type": "execute_result"
    }
   ],
   "source": [
    "MS_B = fn.concatenate(MS_0_B[0], MS_1_B[0], MS_2_B[0], n)\n",
    "MS_B"
   ]
  },
  {
   "cell_type": "markdown",
   "metadata": {},
   "source": [
    "<font color= lightblue> <font size = 2> Verification ETH </font>"
   ]
  },
  {
   "cell_type": "code",
   "execution_count": 44,
   "metadata": {},
   "outputs": [
    {
     "data": {
      "text/plain": [
       "((25, 'ETH/USDT', 'binance'),\n",
       " (25, 'ETH/USDT', 'ftx'),\n",
       " (25, 'ETH/USDT', 'bytetrade'))"
      ]
     },
     "execution_count": 44,
     "metadata": {},
     "output_type": "execute_result"
    }
   ],
   "source": [
    "params0= 25, criptos[1], exchanges[0]\n",
    "params1= 25, criptos[1], exchanges[1]\n",
    "params2= 25, criptos[1], exchanges[2]\n",
    "params0,params1,params2"
   ]
  },
  {
   "cell_type": "code",
   "execution_count": 45,
   "metadata": {},
   "outputs": [],
   "source": [
    "MS_0_E = vs.Micro(params0[0],params0[1], params0[2], n, .01)\n",
    "MS_1_E = vs.Micro(params1[0],params1[1], params1[2], n, .01)\n",
    "MS_2_E = vs.Micro(params2[0],params2[1], params2[2], n, .01)"
   ]
  },
  {
   "cell_type": "code",
   "execution_count": 46,
   "metadata": {},
   "outputs": [
    {
     "data": {
      "text/html": [
       "<div>\n",
       "<style scoped>\n",
       "    .dataframe tbody tr th:only-of-type {\n",
       "        vertical-align: middle;\n",
       "    }\n",
       "\n",
       "    .dataframe tbody tr th {\n",
       "        vertical-align: top;\n",
       "    }\n",
       "\n",
       "    .dataframe thead th {\n",
       "        text-align: right;\n",
       "    }\n",
       "</style>\n",
       "<table border=\"1\" class=\"dataframe\">\n",
       "  <thead>\n",
       "    <tr style=\"text-align: right;\">\n",
       "      <th></th>\n",
       "      <th>exchange</th>\n",
       "      <th>timestamp</th>\n",
       "      <th>level</th>\n",
       "      <th>ask_volume</th>\n",
       "      <th>bid_volume</th>\n",
       "      <th>total_volume</th>\n",
       "      <th>mid_price</th>\n",
       "      <th>vwap</th>\n",
       "    </tr>\n",
       "  </thead>\n",
       "  <tbody>\n",
       "    <tr>\n",
       "      <th>0</th>\n",
       "      <td>binance</td>\n",
       "      <td>2022-11-10T06:17:10.539</td>\n",
       "      <td>25</td>\n",
       "      <td>48.4213</td>\n",
       "      <td>62.5787</td>\n",
       "      <td>111.0000</td>\n",
       "      <td>1180.285</td>\n",
       "      <td>1190.913243</td>\n",
       "    </tr>\n",
       "    <tr>\n",
       "      <th>1</th>\n",
       "      <td>binance</td>\n",
       "      <td>2022-11-10T06:17:12.067</td>\n",
       "      <td>25</td>\n",
       "      <td>73.9463</td>\n",
       "      <td>85.8430</td>\n",
       "      <td>159.7893</td>\n",
       "      <td>1180.465</td>\n",
       "      <td>1187.847666</td>\n",
       "    </tr>\n",
       "    <tr>\n",
       "      <th>2</th>\n",
       "      <td>binance</td>\n",
       "      <td>2022-11-10T06:17:13.847</td>\n",
       "      <td>25</td>\n",
       "      <td>40.5972</td>\n",
       "      <td>67.7131</td>\n",
       "      <td>108.3103</td>\n",
       "      <td>1180.385</td>\n",
       "      <td>1191.278225</td>\n",
       "    </tr>\n",
       "    <tr>\n",
       "      <th>3</th>\n",
       "      <td>binance</td>\n",
       "      <td>2022-11-10T06:17:15.455</td>\n",
       "      <td>25</td>\n",
       "      <td>50.4541</td>\n",
       "      <td>70.3612</td>\n",
       "      <td>120.8153</td>\n",
       "      <td>1180.195</td>\n",
       "      <td>1189.958630</td>\n",
       "    </tr>\n",
       "    <tr>\n",
       "      <th>4</th>\n",
       "      <td>binance</td>\n",
       "      <td>2022-11-10T06:17:17.408</td>\n",
       "      <td>25</td>\n",
       "      <td>54.9993</td>\n",
       "      <td>91.4939</td>\n",
       "      <td>146.4932</td>\n",
       "      <td>1180.510</td>\n",
       "      <td>1188.548599</td>\n",
       "    </tr>\n",
       "    <tr>\n",
       "      <th>5</th>\n",
       "      <td>binance</td>\n",
       "      <td>2022-11-10T06:17:19.597</td>\n",
       "      <td>25</td>\n",
       "      <td>60.1144</td>\n",
       "      <td>70.1004</td>\n",
       "      <td>130.2148</td>\n",
       "      <td>1180.505</td>\n",
       "      <td>1189.565867</td>\n",
       "    </tr>\n",
       "    <tr>\n",
       "      <th>6</th>\n",
       "      <td>binance</td>\n",
       "      <td>2022-11-10T06:17:21.202</td>\n",
       "      <td>25</td>\n",
       "      <td>74.3735</td>\n",
       "      <td>84.2988</td>\n",
       "      <td>158.6723</td>\n",
       "      <td>1180.855</td>\n",
       "      <td>1188.292131</td>\n",
       "    </tr>\n",
       "    <tr>\n",
       "      <th>7</th>\n",
       "      <td>binance</td>\n",
       "      <td>2022-11-10T06:17:23.345</td>\n",
       "      <td>25</td>\n",
       "      <td>80.3936</td>\n",
       "      <td>83.3824</td>\n",
       "      <td>163.7760</td>\n",
       "      <td>1180.955</td>\n",
       "      <td>1188.160825</td>\n",
       "    </tr>\n",
       "    <tr>\n",
       "      <th>8</th>\n",
       "      <td>binance</td>\n",
       "      <td>2022-11-10T06:17:25.079</td>\n",
       "      <td>25</td>\n",
       "      <td>103.3962</td>\n",
       "      <td>93.2204</td>\n",
       "      <td>196.6166</td>\n",
       "      <td>1180.805</td>\n",
       "      <td>1186.805648</td>\n",
       "    </tr>\n",
       "    <tr>\n",
       "      <th>9</th>\n",
       "      <td>binance</td>\n",
       "      <td>2022-11-10T06:17:26.619</td>\n",
       "      <td>25</td>\n",
       "      <td>128.3629</td>\n",
       "      <td>113.5354</td>\n",
       "      <td>241.8983</td>\n",
       "      <td>1180.765</td>\n",
       "      <td>1185.641266</td>\n",
       "    </tr>\n",
       "    <tr>\n",
       "      <th>10</th>\n",
       "      <td>binance</td>\n",
       "      <td>2022-11-10T06:17:28.258</td>\n",
       "      <td>25</td>\n",
       "      <td>102.9190</td>\n",
       "      <td>74.5859</td>\n",
       "      <td>177.5049</td>\n",
       "      <td>1180.975</td>\n",
       "      <td>1187.623225</td>\n",
       "    </tr>\n",
       "    <tr>\n",
       "      <th>11</th>\n",
       "      <td>binance</td>\n",
       "      <td>2022-11-10T06:17:29.992</td>\n",
       "      <td>25</td>\n",
       "      <td>110.5948</td>\n",
       "      <td>77.1883</td>\n",
       "      <td>187.7831</td>\n",
       "      <td>1180.865</td>\n",
       "      <td>1187.148479</td>\n",
       "    </tr>\n",
       "    <tr>\n",
       "      <th>12</th>\n",
       "      <td>binance</td>\n",
       "      <td>2022-11-10T06:17:31.944</td>\n",
       "      <td>25</td>\n",
       "      <td>93.5322</td>\n",
       "      <td>79.1351</td>\n",
       "      <td>172.6673</td>\n",
       "      <td>1180.535</td>\n",
       "      <td>1187.367079</td>\n",
       "    </tr>\n",
       "    <tr>\n",
       "      <th>13</th>\n",
       "      <td>binance</td>\n",
       "      <td>2022-11-10T06:17:33.678</td>\n",
       "      <td>25</td>\n",
       "      <td>153.5202</td>\n",
       "      <td>64.8081</td>\n",
       "      <td>218.3283</td>\n",
       "      <td>1180.535</td>\n",
       "      <td>1185.937178</td>\n",
       "    </tr>\n",
       "    <tr>\n",
       "      <th>14</th>\n",
       "      <td>binance</td>\n",
       "      <td>2022-11-10T06:17:35.221</td>\n",
       "      <td>25</td>\n",
       "      <td>82.4460</td>\n",
       "      <td>55.6195</td>\n",
       "      <td>138.0655</td>\n",
       "      <td>1180.335</td>\n",
       "      <td>1188.879131</td>\n",
       "    </tr>\n",
       "    <tr>\n",
       "      <th>15</th>\n",
       "      <td>binance</td>\n",
       "      <td>2022-11-10T06:17:36.856</td>\n",
       "      <td>25</td>\n",
       "      <td>102.3553</td>\n",
       "      <td>68.5601</td>\n",
       "      <td>170.9154</td>\n",
       "      <td>1180.165</td>\n",
       "      <td>1187.064995</td>\n",
       "    </tr>\n",
       "    <tr>\n",
       "      <th>16</th>\n",
       "      <td>binance</td>\n",
       "      <td>2022-11-10T06:17:38.593</td>\n",
       "      <td>25</td>\n",
       "      <td>105.8765</td>\n",
       "      <td>54.2010</td>\n",
       "      <td>160.0775</td>\n",
       "      <td>1180.225</td>\n",
       "      <td>1187.592866</td>\n",
       "    </tr>\n",
       "    <tr>\n",
       "      <th>17</th>\n",
       "      <td>binance</td>\n",
       "      <td>2022-11-10T06:17:40.136</td>\n",
       "      <td>25</td>\n",
       "      <td>38.5863</td>\n",
       "      <td>46.0438</td>\n",
       "      <td>84.6301</td>\n",
       "      <td>1179.545</td>\n",
       "      <td>1193.477712</td>\n",
       "    </tr>\n",
       "    <tr>\n",
       "      <th>18</th>\n",
       "      <td>binance</td>\n",
       "      <td>2022-11-10T06:17:41.772</td>\n",
       "      <td>25</td>\n",
       "      <td>57.6610</td>\n",
       "      <td>30.6719</td>\n",
       "      <td>88.3329</td>\n",
       "      <td>1179.905</td>\n",
       "      <td>1193.257537</td>\n",
       "    </tr>\n",
       "    <tr>\n",
       "      <th>19</th>\n",
       "      <td>binance</td>\n",
       "      <td>2022-11-10T06:17:43.295</td>\n",
       "      <td>25</td>\n",
       "      <td>56.9154</td>\n",
       "      <td>42.1058</td>\n",
       "      <td>99.0212</td>\n",
       "      <td>1179.705</td>\n",
       "      <td>1191.613711</td>\n",
       "    </tr>\n",
       "    <tr>\n",
       "      <th>20</th>\n",
       "      <td>ftx</td>\n",
       "      <td>2022-11-10T06:17:45.664</td>\n",
       "      <td>25</td>\n",
       "      <td>0.0710</td>\n",
       "      <td>87.6190</td>\n",
       "      <td>87.6900</td>\n",
       "      <td>1189.750</td>\n",
       "      <td>1201.587638</td>\n",
       "    </tr>\n",
       "    <tr>\n",
       "      <th>21</th>\n",
       "      <td>ftx</td>\n",
       "      <td>2022-11-10T06:17:47.805</td>\n",
       "      <td>25</td>\n",
       "      <td>0.0710</td>\n",
       "      <td>87.6170</td>\n",
       "      <td>87.6880</td>\n",
       "      <td>1189.750</td>\n",
       "      <td>1201.587948</td>\n",
       "    </tr>\n",
       "    <tr>\n",
       "      <th>22</th>\n",
       "      <td>ftx</td>\n",
       "      <td>2022-11-10T06:17:50.479</td>\n",
       "      <td>25</td>\n",
       "      <td>0.0710</td>\n",
       "      <td>87.9510</td>\n",
       "      <td>88.0220</td>\n",
       "      <td>1189.800</td>\n",
       "      <td>1201.636389</td>\n",
       "    </tr>\n",
       "    <tr>\n",
       "      <th>23</th>\n",
       "      <td>ftx</td>\n",
       "      <td>2022-11-10T06:17:52.932</td>\n",
       "      <td>25</td>\n",
       "      <td>0.0840</td>\n",
       "      <td>87.6150</td>\n",
       "      <td>87.6990</td>\n",
       "      <td>1191.000</td>\n",
       "      <td>1203.196506</td>\n",
       "    </tr>\n",
       "    <tr>\n",
       "      <th>24</th>\n",
       "      <td>ftx</td>\n",
       "      <td>2022-11-10T06:17:55.281</td>\n",
       "      <td>25</td>\n",
       "      <td>0.0840</td>\n",
       "      <td>87.6150</td>\n",
       "      <td>87.6990</td>\n",
       "      <td>1191.000</td>\n",
       "      <td>1203.196506</td>\n",
       "    </tr>\n",
       "    <tr>\n",
       "      <th>25</th>\n",
       "      <td>ftx</td>\n",
       "      <td>2022-11-10T06:17:57.531</td>\n",
       "      <td>25</td>\n",
       "      <td>0.0690</td>\n",
       "      <td>86.9530</td>\n",
       "      <td>87.0220</td>\n",
       "      <td>1189.750</td>\n",
       "      <td>1201.691940</td>\n",
       "    </tr>\n",
       "    <tr>\n",
       "      <th>26</th>\n",
       "      <td>ftx</td>\n",
       "      <td>2022-11-10T06:17:59.094</td>\n",
       "      <td>25</td>\n",
       "      <td>0.0690</td>\n",
       "      <td>86.9530</td>\n",
       "      <td>87.0220</td>\n",
       "      <td>1189.750</td>\n",
       "      <td>1201.691940</td>\n",
       "    </tr>\n",
       "    <tr>\n",
       "      <th>27</th>\n",
       "      <td>ftx</td>\n",
       "      <td>2022-11-10T06:18:03.042</td>\n",
       "      <td>25</td>\n",
       "      <td>0.0690</td>\n",
       "      <td>86.9510</td>\n",
       "      <td>87.0200</td>\n",
       "      <td>1189.750</td>\n",
       "      <td>1201.692255</td>\n",
       "    </tr>\n",
       "    <tr>\n",
       "      <th>28</th>\n",
       "      <td>ftx</td>\n",
       "      <td>2022-11-10T06:18:06.036</td>\n",
       "      <td>25</td>\n",
       "      <td>0.0690</td>\n",
       "      <td>86.9430</td>\n",
       "      <td>87.0120</td>\n",
       "      <td>1189.750</td>\n",
       "      <td>1201.693514</td>\n",
       "    </tr>\n",
       "    <tr>\n",
       "      <th>29</th>\n",
       "      <td>ftx</td>\n",
       "      <td>2022-11-10T06:18:07.777</td>\n",
       "      <td>25</td>\n",
       "      <td>0.0690</td>\n",
       "      <td>86.9430</td>\n",
       "      <td>87.0120</td>\n",
       "      <td>1189.750</td>\n",
       "      <td>1201.693514</td>\n",
       "    </tr>\n",
       "    <tr>\n",
       "      <th>30</th>\n",
       "      <td>ftx</td>\n",
       "      <td>2022-11-10T06:18:10.233</td>\n",
       "      <td>25</td>\n",
       "      <td>0.0690</td>\n",
       "      <td>86.9430</td>\n",
       "      <td>87.0120</td>\n",
       "      <td>1189.750</td>\n",
       "      <td>1201.693514</td>\n",
       "    </tr>\n",
       "    <tr>\n",
       "      <th>31</th>\n",
       "      <td>ftx</td>\n",
       "      <td>2022-11-10T06:18:12.140</td>\n",
       "      <td>25</td>\n",
       "      <td>0.0690</td>\n",
       "      <td>86.9410</td>\n",
       "      <td>87.0100</td>\n",
       "      <td>1189.750</td>\n",
       "      <td>1201.693828</td>\n",
       "    </tr>\n",
       "    <tr>\n",
       "      <th>32</th>\n",
       "      <td>ftx</td>\n",
       "      <td>2022-11-10T06:18:14.645</td>\n",
       "      <td>25</td>\n",
       "      <td>0.0690</td>\n",
       "      <td>86.9410</td>\n",
       "      <td>87.0100</td>\n",
       "      <td>1189.750</td>\n",
       "      <td>1201.693828</td>\n",
       "    </tr>\n",
       "    <tr>\n",
       "      <th>33</th>\n",
       "      <td>ftx</td>\n",
       "      <td>2022-11-10T06:18:17.303</td>\n",
       "      <td>25</td>\n",
       "      <td>0.0690</td>\n",
       "      <td>86.9450</td>\n",
       "      <td>87.0140</td>\n",
       "      <td>1190.550</td>\n",
       "      <td>1203.293199</td>\n",
       "    </tr>\n",
       "    <tr>\n",
       "      <th>34</th>\n",
       "      <td>ftx</td>\n",
       "      <td>2022-11-10T06:18:19.964</td>\n",
       "      <td>25</td>\n",
       "      <td>0.0690</td>\n",
       "      <td>86.9450</td>\n",
       "      <td>87.0140</td>\n",
       "      <td>1190.550</td>\n",
       "      <td>1203.293199</td>\n",
       "    </tr>\n",
       "    <tr>\n",
       "      <th>35</th>\n",
       "      <td>ftx</td>\n",
       "      <td>2022-11-10T06:18:22.942</td>\n",
       "      <td>25</td>\n",
       "      <td>0.0690</td>\n",
       "      <td>86.9430</td>\n",
       "      <td>87.0120</td>\n",
       "      <td>1189.750</td>\n",
       "      <td>1201.693514</td>\n",
       "    </tr>\n",
       "    <tr>\n",
       "      <th>36</th>\n",
       "      <td>ftx</td>\n",
       "      <td>2022-11-10T06:18:25.910</td>\n",
       "      <td>25</td>\n",
       "      <td>0.4350</td>\n",
       "      <td>86.9410</td>\n",
       "      <td>87.3760</td>\n",
       "      <td>1190.550</td>\n",
       "      <td>1203.236468</td>\n",
       "    </tr>\n",
       "    <tr>\n",
       "      <th>37</th>\n",
       "      <td>ftx</td>\n",
       "      <td>2022-11-10T06:18:28.353</td>\n",
       "      <td>25</td>\n",
       "      <td>7.8510</td>\n",
       "      <td>86.9420</td>\n",
       "      <td>94.7930</td>\n",
       "      <td>1190.550</td>\n",
       "      <td>1202.169494</td>\n",
       "    </tr>\n",
       "    <tr>\n",
       "      <th>38</th>\n",
       "      <td>ftx</td>\n",
       "      <td>2022-11-10T06:18:30.926</td>\n",
       "      <td>25</td>\n",
       "      <td>7.8510</td>\n",
       "      <td>86.9400</td>\n",
       "      <td>94.7910</td>\n",
       "      <td>1190.550</td>\n",
       "      <td>1202.169759</td>\n",
       "    </tr>\n",
       "    <tr>\n",
       "      <th>39</th>\n",
       "      <td>ftx</td>\n",
       "      <td>2022-11-10T06:18:32.660</td>\n",
       "      <td>25</td>\n",
       "      <td>7.8510</td>\n",
       "      <td>86.9400</td>\n",
       "      <td>94.7910</td>\n",
       "      <td>1190.550</td>\n",
       "      <td>1202.169759</td>\n",
       "    </tr>\n",
       "    <tr>\n",
       "      <th>40</th>\n",
       "      <td>bytetrade</td>\n",
       "      <td>2022-11-10T06:18:34.493</td>\n",
       "      <td>25</td>\n",
       "      <td>18.9754</td>\n",
       "      <td>161.5041</td>\n",
       "      <td>180.4795</td>\n",
       "      <td>1181.185</td>\n",
       "      <td>1179.828726</td>\n",
       "    </tr>\n",
       "    <tr>\n",
       "      <th>41</th>\n",
       "      <td>bytetrade</td>\n",
       "      <td>2022-11-10T06:18:36.212</td>\n",
       "      <td>25</td>\n",
       "      <td>18.9754</td>\n",
       "      <td>161.5041</td>\n",
       "      <td>180.4795</td>\n",
       "      <td>1181.185</td>\n",
       "      <td>1179.828726</td>\n",
       "    </tr>\n",
       "    <tr>\n",
       "      <th>42</th>\n",
       "      <td>bytetrade</td>\n",
       "      <td>2022-11-10T06:18:38.092</td>\n",
       "      <td>25</td>\n",
       "      <td>18.9754</td>\n",
       "      <td>161.5041</td>\n",
       "      <td>180.4795</td>\n",
       "      <td>1181.185</td>\n",
       "      <td>1179.828726</td>\n",
       "    </tr>\n",
       "    <tr>\n",
       "      <th>43</th>\n",
       "      <td>bytetrade</td>\n",
       "      <td>2022-11-10T06:18:40.613</td>\n",
       "      <td>25</td>\n",
       "      <td>18.9754</td>\n",
       "      <td>161.5041</td>\n",
       "      <td>180.4795</td>\n",
       "      <td>1181.185</td>\n",
       "      <td>1179.828726</td>\n",
       "    </tr>\n",
       "    <tr>\n",
       "      <th>44</th>\n",
       "      <td>bytetrade</td>\n",
       "      <td>2022-11-10T06:18:42.393</td>\n",
       "      <td>25</td>\n",
       "      <td>18.9754</td>\n",
       "      <td>161.5041</td>\n",
       "      <td>180.4795</td>\n",
       "      <td>1181.185</td>\n",
       "      <td>1179.828726</td>\n",
       "    </tr>\n",
       "    <tr>\n",
       "      <th>45</th>\n",
       "      <td>bytetrade</td>\n",
       "      <td>2022-11-10T06:18:45.055</td>\n",
       "      <td>25</td>\n",
       "      <td>18.9754</td>\n",
       "      <td>161.5041</td>\n",
       "      <td>180.4795</td>\n",
       "      <td>1181.185</td>\n",
       "      <td>1179.828726</td>\n",
       "    </tr>\n",
       "    <tr>\n",
       "      <th>46</th>\n",
       "      <td>bytetrade</td>\n",
       "      <td>2022-11-10T06:18:46.670</td>\n",
       "      <td>25</td>\n",
       "      <td>18.9754</td>\n",
       "      <td>161.5041</td>\n",
       "      <td>180.4795</td>\n",
       "      <td>1181.185</td>\n",
       "      <td>1179.828726</td>\n",
       "    </tr>\n",
       "    <tr>\n",
       "      <th>47</th>\n",
       "      <td>bytetrade</td>\n",
       "      <td>2022-11-10T06:18:48.702</td>\n",
       "      <td>25</td>\n",
       "      <td>18.9754</td>\n",
       "      <td>161.5041</td>\n",
       "      <td>180.4795</td>\n",
       "      <td>1181.185</td>\n",
       "      <td>1179.828726</td>\n",
       "    </tr>\n",
       "    <tr>\n",
       "      <th>48</th>\n",
       "      <td>bytetrade</td>\n",
       "      <td>2022-11-10T06:18:50.489</td>\n",
       "      <td>25</td>\n",
       "      <td>18.9754</td>\n",
       "      <td>161.5041</td>\n",
       "      <td>180.4795</td>\n",
       "      <td>1181.185</td>\n",
       "      <td>1179.828726</td>\n",
       "    </tr>\n",
       "    <tr>\n",
       "      <th>49</th>\n",
       "      <td>bytetrade</td>\n",
       "      <td>2022-11-10T06:18:52.219</td>\n",
       "      <td>25</td>\n",
       "      <td>18.9754</td>\n",
       "      <td>161.5041</td>\n",
       "      <td>180.4795</td>\n",
       "      <td>1181.185</td>\n",
       "      <td>1179.828726</td>\n",
       "    </tr>\n",
       "    <tr>\n",
       "      <th>50</th>\n",
       "      <td>bytetrade</td>\n",
       "      <td>2022-11-10T06:18:54.268</td>\n",
       "      <td>25</td>\n",
       "      <td>18.9754</td>\n",
       "      <td>161.5041</td>\n",
       "      <td>180.4795</td>\n",
       "      <td>1181.185</td>\n",
       "      <td>1179.828726</td>\n",
       "    </tr>\n",
       "    <tr>\n",
       "      <th>51</th>\n",
       "      <td>bytetrade</td>\n",
       "      <td>2022-11-10T06:18:55.848</td>\n",
       "      <td>25</td>\n",
       "      <td>18.9754</td>\n",
       "      <td>161.5041</td>\n",
       "      <td>180.4795</td>\n",
       "      <td>1181.185</td>\n",
       "      <td>1179.828726</td>\n",
       "    </tr>\n",
       "    <tr>\n",
       "      <th>52</th>\n",
       "      <td>bytetrade</td>\n",
       "      <td>2022-11-10T06:18:57.754</td>\n",
       "      <td>25</td>\n",
       "      <td>18.9754</td>\n",
       "      <td>161.5041</td>\n",
       "      <td>180.4795</td>\n",
       "      <td>1181.185</td>\n",
       "      <td>1179.828726</td>\n",
       "    </tr>\n",
       "    <tr>\n",
       "      <th>53</th>\n",
       "      <td>bytetrade</td>\n",
       "      <td>2022-11-10T06:18:59.489</td>\n",
       "      <td>25</td>\n",
       "      <td>18.9754</td>\n",
       "      <td>161.5041</td>\n",
       "      <td>180.4795</td>\n",
       "      <td>1181.185</td>\n",
       "      <td>1179.828726</td>\n",
       "    </tr>\n",
       "    <tr>\n",
       "      <th>54</th>\n",
       "      <td>bytetrade</td>\n",
       "      <td>2022-11-10T06:19:01.449</td>\n",
       "      <td>25</td>\n",
       "      <td>18.9754</td>\n",
       "      <td>161.5041</td>\n",
       "      <td>180.4795</td>\n",
       "      <td>1181.185</td>\n",
       "      <td>1179.828726</td>\n",
       "    </tr>\n",
       "    <tr>\n",
       "      <th>55</th>\n",
       "      <td>bytetrade</td>\n",
       "      <td>2022-11-10T06:19:04.300</td>\n",
       "      <td>25</td>\n",
       "      <td>18.9754</td>\n",
       "      <td>161.5041</td>\n",
       "      <td>180.4795</td>\n",
       "      <td>1181.185</td>\n",
       "      <td>1179.828726</td>\n",
       "    </tr>\n",
       "    <tr>\n",
       "      <th>56</th>\n",
       "      <td>bytetrade</td>\n",
       "      <td>2022-11-10T06:19:06.243</td>\n",
       "      <td>25</td>\n",
       "      <td>18.9754</td>\n",
       "      <td>161.5041</td>\n",
       "      <td>180.4795</td>\n",
       "      <td>1181.185</td>\n",
       "      <td>1179.828726</td>\n",
       "    </tr>\n",
       "    <tr>\n",
       "      <th>57</th>\n",
       "      <td>bytetrade</td>\n",
       "      <td>2022-11-10T06:19:07.824</td>\n",
       "      <td>25</td>\n",
       "      <td>18.9754</td>\n",
       "      <td>161.5041</td>\n",
       "      <td>180.4795</td>\n",
       "      <td>1181.185</td>\n",
       "      <td>1179.828726</td>\n",
       "    </tr>\n",
       "    <tr>\n",
       "      <th>58</th>\n",
       "      <td>bytetrade</td>\n",
       "      <td>2022-11-10T06:19:10.250</td>\n",
       "      <td>25</td>\n",
       "      <td>18.9754</td>\n",
       "      <td>161.5041</td>\n",
       "      <td>180.4795</td>\n",
       "      <td>1181.185</td>\n",
       "      <td>1179.828726</td>\n",
       "    </tr>\n",
       "    <tr>\n",
       "      <th>59</th>\n",
       "      <td>bytetrade</td>\n",
       "      <td>2022-11-10T06:19:13.015</td>\n",
       "      <td>25</td>\n",
       "      <td>18.9754</td>\n",
       "      <td>161.5041</td>\n",
       "      <td>180.4795</td>\n",
       "      <td>1181.185</td>\n",
       "      <td>1179.828726</td>\n",
       "    </tr>\n",
       "  </tbody>\n",
       "</table>\n",
       "</div>"
      ],
      "text/plain": [
       "     exchange                timestamp  level  ask_volume  bid_volume  \\\n",
       "0     binance  2022-11-10T06:17:10.539     25     48.4213     62.5787   \n",
       "1     binance  2022-11-10T06:17:12.067     25     73.9463     85.8430   \n",
       "2     binance  2022-11-10T06:17:13.847     25     40.5972     67.7131   \n",
       "3     binance  2022-11-10T06:17:15.455     25     50.4541     70.3612   \n",
       "4     binance  2022-11-10T06:17:17.408     25     54.9993     91.4939   \n",
       "5     binance  2022-11-10T06:17:19.597     25     60.1144     70.1004   \n",
       "6     binance  2022-11-10T06:17:21.202     25     74.3735     84.2988   \n",
       "7     binance  2022-11-10T06:17:23.345     25     80.3936     83.3824   \n",
       "8     binance  2022-11-10T06:17:25.079     25    103.3962     93.2204   \n",
       "9     binance  2022-11-10T06:17:26.619     25    128.3629    113.5354   \n",
       "10    binance  2022-11-10T06:17:28.258     25    102.9190     74.5859   \n",
       "11    binance  2022-11-10T06:17:29.992     25    110.5948     77.1883   \n",
       "12    binance  2022-11-10T06:17:31.944     25     93.5322     79.1351   \n",
       "13    binance  2022-11-10T06:17:33.678     25    153.5202     64.8081   \n",
       "14    binance  2022-11-10T06:17:35.221     25     82.4460     55.6195   \n",
       "15    binance  2022-11-10T06:17:36.856     25    102.3553     68.5601   \n",
       "16    binance  2022-11-10T06:17:38.593     25    105.8765     54.2010   \n",
       "17    binance  2022-11-10T06:17:40.136     25     38.5863     46.0438   \n",
       "18    binance  2022-11-10T06:17:41.772     25     57.6610     30.6719   \n",
       "19    binance  2022-11-10T06:17:43.295     25     56.9154     42.1058   \n",
       "20        ftx  2022-11-10T06:17:45.664     25      0.0710     87.6190   \n",
       "21        ftx  2022-11-10T06:17:47.805     25      0.0710     87.6170   \n",
       "22        ftx  2022-11-10T06:17:50.479     25      0.0710     87.9510   \n",
       "23        ftx  2022-11-10T06:17:52.932     25      0.0840     87.6150   \n",
       "24        ftx  2022-11-10T06:17:55.281     25      0.0840     87.6150   \n",
       "25        ftx  2022-11-10T06:17:57.531     25      0.0690     86.9530   \n",
       "26        ftx  2022-11-10T06:17:59.094     25      0.0690     86.9530   \n",
       "27        ftx  2022-11-10T06:18:03.042     25      0.0690     86.9510   \n",
       "28        ftx  2022-11-10T06:18:06.036     25      0.0690     86.9430   \n",
       "29        ftx  2022-11-10T06:18:07.777     25      0.0690     86.9430   \n",
       "30        ftx  2022-11-10T06:18:10.233     25      0.0690     86.9430   \n",
       "31        ftx  2022-11-10T06:18:12.140     25      0.0690     86.9410   \n",
       "32        ftx  2022-11-10T06:18:14.645     25      0.0690     86.9410   \n",
       "33        ftx  2022-11-10T06:18:17.303     25      0.0690     86.9450   \n",
       "34        ftx  2022-11-10T06:18:19.964     25      0.0690     86.9450   \n",
       "35        ftx  2022-11-10T06:18:22.942     25      0.0690     86.9430   \n",
       "36        ftx  2022-11-10T06:18:25.910     25      0.4350     86.9410   \n",
       "37        ftx  2022-11-10T06:18:28.353     25      7.8510     86.9420   \n",
       "38        ftx  2022-11-10T06:18:30.926     25      7.8510     86.9400   \n",
       "39        ftx  2022-11-10T06:18:32.660     25      7.8510     86.9400   \n",
       "40  bytetrade  2022-11-10T06:18:34.493     25     18.9754    161.5041   \n",
       "41  bytetrade  2022-11-10T06:18:36.212     25     18.9754    161.5041   \n",
       "42  bytetrade  2022-11-10T06:18:38.092     25     18.9754    161.5041   \n",
       "43  bytetrade  2022-11-10T06:18:40.613     25     18.9754    161.5041   \n",
       "44  bytetrade  2022-11-10T06:18:42.393     25     18.9754    161.5041   \n",
       "45  bytetrade  2022-11-10T06:18:45.055     25     18.9754    161.5041   \n",
       "46  bytetrade  2022-11-10T06:18:46.670     25     18.9754    161.5041   \n",
       "47  bytetrade  2022-11-10T06:18:48.702     25     18.9754    161.5041   \n",
       "48  bytetrade  2022-11-10T06:18:50.489     25     18.9754    161.5041   \n",
       "49  bytetrade  2022-11-10T06:18:52.219     25     18.9754    161.5041   \n",
       "50  bytetrade  2022-11-10T06:18:54.268     25     18.9754    161.5041   \n",
       "51  bytetrade  2022-11-10T06:18:55.848     25     18.9754    161.5041   \n",
       "52  bytetrade  2022-11-10T06:18:57.754     25     18.9754    161.5041   \n",
       "53  bytetrade  2022-11-10T06:18:59.489     25     18.9754    161.5041   \n",
       "54  bytetrade  2022-11-10T06:19:01.449     25     18.9754    161.5041   \n",
       "55  bytetrade  2022-11-10T06:19:04.300     25     18.9754    161.5041   \n",
       "56  bytetrade  2022-11-10T06:19:06.243     25     18.9754    161.5041   \n",
       "57  bytetrade  2022-11-10T06:19:07.824     25     18.9754    161.5041   \n",
       "58  bytetrade  2022-11-10T06:19:10.250     25     18.9754    161.5041   \n",
       "59  bytetrade  2022-11-10T06:19:13.015     25     18.9754    161.5041   \n",
       "\n",
       "    total_volume  mid_price         vwap  \n",
       "0       111.0000   1180.285  1190.913243  \n",
       "1       159.7893   1180.465  1187.847666  \n",
       "2       108.3103   1180.385  1191.278225  \n",
       "3       120.8153   1180.195  1189.958630  \n",
       "4       146.4932   1180.510  1188.548599  \n",
       "5       130.2148   1180.505  1189.565867  \n",
       "6       158.6723   1180.855  1188.292131  \n",
       "7       163.7760   1180.955  1188.160825  \n",
       "8       196.6166   1180.805  1186.805648  \n",
       "9       241.8983   1180.765  1185.641266  \n",
       "10      177.5049   1180.975  1187.623225  \n",
       "11      187.7831   1180.865  1187.148479  \n",
       "12      172.6673   1180.535  1187.367079  \n",
       "13      218.3283   1180.535  1185.937178  \n",
       "14      138.0655   1180.335  1188.879131  \n",
       "15      170.9154   1180.165  1187.064995  \n",
       "16      160.0775   1180.225  1187.592866  \n",
       "17       84.6301   1179.545  1193.477712  \n",
       "18       88.3329   1179.905  1193.257537  \n",
       "19       99.0212   1179.705  1191.613711  \n",
       "20       87.6900   1189.750  1201.587638  \n",
       "21       87.6880   1189.750  1201.587948  \n",
       "22       88.0220   1189.800  1201.636389  \n",
       "23       87.6990   1191.000  1203.196506  \n",
       "24       87.6990   1191.000  1203.196506  \n",
       "25       87.0220   1189.750  1201.691940  \n",
       "26       87.0220   1189.750  1201.691940  \n",
       "27       87.0200   1189.750  1201.692255  \n",
       "28       87.0120   1189.750  1201.693514  \n",
       "29       87.0120   1189.750  1201.693514  \n",
       "30       87.0120   1189.750  1201.693514  \n",
       "31       87.0100   1189.750  1201.693828  \n",
       "32       87.0100   1189.750  1201.693828  \n",
       "33       87.0140   1190.550  1203.293199  \n",
       "34       87.0140   1190.550  1203.293199  \n",
       "35       87.0120   1189.750  1201.693514  \n",
       "36       87.3760   1190.550  1203.236468  \n",
       "37       94.7930   1190.550  1202.169494  \n",
       "38       94.7910   1190.550  1202.169759  \n",
       "39       94.7910   1190.550  1202.169759  \n",
       "40      180.4795   1181.185  1179.828726  \n",
       "41      180.4795   1181.185  1179.828726  \n",
       "42      180.4795   1181.185  1179.828726  \n",
       "43      180.4795   1181.185  1179.828726  \n",
       "44      180.4795   1181.185  1179.828726  \n",
       "45      180.4795   1181.185  1179.828726  \n",
       "46      180.4795   1181.185  1179.828726  \n",
       "47      180.4795   1181.185  1179.828726  \n",
       "48      180.4795   1181.185  1179.828726  \n",
       "49      180.4795   1181.185  1179.828726  \n",
       "50      180.4795   1181.185  1179.828726  \n",
       "51      180.4795   1181.185  1179.828726  \n",
       "52      180.4795   1181.185  1179.828726  \n",
       "53      180.4795   1181.185  1179.828726  \n",
       "54      180.4795   1181.185  1179.828726  \n",
       "55      180.4795   1181.185  1179.828726  \n",
       "56      180.4795   1181.185  1179.828726  \n",
       "57      180.4795   1181.185  1179.828726  \n",
       "58      180.4795   1181.185  1179.828726  \n",
       "59      180.4795   1181.185  1179.828726  "
      ]
     },
     "execution_count": 46,
     "metadata": {},
     "output_type": "execute_result"
    }
   ],
   "source": [
    "MS_E = fn.concatenate(MS_0_E[0], MS_1_E[0], MS_2_E[0], n)\n",
    "MS_E"
   ]
  },
  {
   "cell_type": "markdown",
   "metadata": {},
   "source": [
    "<font color= lightblue> <font size = 2> Verification XRP </font>"
   ]
  },
  {
   "cell_type": "code",
   "execution_count": 47,
   "metadata": {},
   "outputs": [
    {
     "data": {
      "text/plain": [
       "((25, 'XRP/USDT', 'binance'),\n",
       " (25, 'XRP/USDT', 'ftx'),\n",
       " (25, 'XRP/USDT', 'bytetrade'))"
      ]
     },
     "execution_count": 47,
     "metadata": {},
     "output_type": "execute_result"
    }
   ],
   "source": [
    "params0= 25, criptos[2], exchanges[0]\n",
    "params1= 25, criptos[2], exchanges[1]\n",
    "params2= 25, criptos[2], exchanges[2]\n",
    "params0,params1,params2"
   ]
  },
  {
   "cell_type": "code",
   "execution_count": 48,
   "metadata": {},
   "outputs": [],
   "source": [
    "MS_0_X = vs.Micro(params0[0],params0[1], params0[2], n, .01)\n",
    "MS_1_X = vs.Micro(params1[0],params1[1], params1[2], n, .01)\n",
    "MS_2_X = vs.Micro(params2[0],params2[1], params2[2], n, .01)"
   ]
  },
  {
   "cell_type": "code",
   "execution_count": 49,
   "metadata": {},
   "outputs": [
    {
     "data": {
      "text/html": [
       "<div>\n",
       "<style scoped>\n",
       "    .dataframe tbody tr th:only-of-type {\n",
       "        vertical-align: middle;\n",
       "    }\n",
       "\n",
       "    .dataframe tbody tr th {\n",
       "        vertical-align: top;\n",
       "    }\n",
       "\n",
       "    .dataframe thead th {\n",
       "        text-align: right;\n",
       "    }\n",
       "</style>\n",
       "<table border=\"1\" class=\"dataframe\">\n",
       "  <thead>\n",
       "    <tr style=\"text-align: right;\">\n",
       "      <th></th>\n",
       "      <th>exchange</th>\n",
       "      <th>timestamp</th>\n",
       "      <th>level</th>\n",
       "      <th>ask_volume</th>\n",
       "      <th>bid_volume</th>\n",
       "      <th>total_volume</th>\n",
       "      <th>mid_price</th>\n",
       "      <th>vwap</th>\n",
       "    </tr>\n",
       "  </thead>\n",
       "  <tbody>\n",
       "    <tr>\n",
       "      <th>0</th>\n",
       "      <td>binance</td>\n",
       "      <td>2022-11-10T06:19:15.235</td>\n",
       "      <td>25</td>\n",
       "      <td>659197.000000</td>\n",
       "      <td>2.026060e+06</td>\n",
       "      <td>2.685257e+06</td>\n",
       "      <td>0.368950</td>\n",
       "      <td>0.368900</td>\n",
       "    </tr>\n",
       "    <tr>\n",
       "      <th>1</th>\n",
       "      <td>binance</td>\n",
       "      <td>2022-11-10T06:19:16.795</td>\n",
       "      <td>25</td>\n",
       "      <td>677497.000000</td>\n",
       "      <td>1.904598e+06</td>\n",
       "      <td>2.582095e+06</td>\n",
       "      <td>0.368650</td>\n",
       "      <td>0.368600</td>\n",
       "    </tr>\n",
       "    <tr>\n",
       "      <th>2</th>\n",
       "      <td>binance</td>\n",
       "      <td>2022-11-10T06:19:18.749</td>\n",
       "      <td>25</td>\n",
       "      <td>639580.000000</td>\n",
       "      <td>1.976379e+06</td>\n",
       "      <td>2.615959e+06</td>\n",
       "      <td>0.368750</td>\n",
       "      <td>0.368700</td>\n",
       "    </tr>\n",
       "    <tr>\n",
       "      <th>3</th>\n",
       "      <td>binance</td>\n",
       "      <td>2022-11-10T06:19:20.899</td>\n",
       "      <td>25</td>\n",
       "      <td>629065.000000</td>\n",
       "      <td>2.042268e+06</td>\n",
       "      <td>2.671333e+06</td>\n",
       "      <td>0.368950</td>\n",
       "      <td>0.368900</td>\n",
       "    </tr>\n",
       "    <tr>\n",
       "      <th>4</th>\n",
       "      <td>binance</td>\n",
       "      <td>2022-11-10T06:19:22.838</td>\n",
       "      <td>25</td>\n",
       "      <td>485307.000000</td>\n",
       "      <td>2.016367e+06</td>\n",
       "      <td>2.501674e+06</td>\n",
       "      <td>0.369050</td>\n",
       "      <td>0.369000</td>\n",
       "    </tr>\n",
       "    <tr>\n",
       "      <th>5</th>\n",
       "      <td>binance</td>\n",
       "      <td>2022-11-10T06:19:24.681</td>\n",
       "      <td>25</td>\n",
       "      <td>517734.000000</td>\n",
       "      <td>2.010432e+06</td>\n",
       "      <td>2.528166e+06</td>\n",
       "      <td>0.369050</td>\n",
       "      <td>0.369000</td>\n",
       "    </tr>\n",
       "    <tr>\n",
       "      <th>6</th>\n",
       "      <td>binance</td>\n",
       "      <td>2022-11-10T06:19:26.415</td>\n",
       "      <td>25</td>\n",
       "      <td>533270.000000</td>\n",
       "      <td>2.012094e+06</td>\n",
       "      <td>2.545364e+06</td>\n",
       "      <td>0.369050</td>\n",
       "      <td>0.369000</td>\n",
       "    </tr>\n",
       "    <tr>\n",
       "      <th>7</th>\n",
       "      <td>binance</td>\n",
       "      <td>2022-11-10T06:19:27.958</td>\n",
       "      <td>25</td>\n",
       "      <td>529229.000000</td>\n",
       "      <td>2.026291e+06</td>\n",
       "      <td>2.555520e+06</td>\n",
       "      <td>0.369050</td>\n",
       "      <td>0.369000</td>\n",
       "    </tr>\n",
       "    <tr>\n",
       "      <th>8</th>\n",
       "      <td>binance</td>\n",
       "      <td>2022-11-10T06:19:30.006</td>\n",
       "      <td>25</td>\n",
       "      <td>574062.000000</td>\n",
       "      <td>2.061518e+06</td>\n",
       "      <td>2.635580e+06</td>\n",
       "      <td>0.368850</td>\n",
       "      <td>0.368800</td>\n",
       "    </tr>\n",
       "    <tr>\n",
       "      <th>9</th>\n",
       "      <td>binance</td>\n",
       "      <td>2022-11-10T06:19:31.750</td>\n",
       "      <td>25</td>\n",
       "      <td>565265.000000</td>\n",
       "      <td>2.057429e+06</td>\n",
       "      <td>2.622694e+06</td>\n",
       "      <td>0.368750</td>\n",
       "      <td>0.368700</td>\n",
       "    </tr>\n",
       "    <tr>\n",
       "      <th>10</th>\n",
       "      <td>binance</td>\n",
       "      <td>2022-11-10T06:19:33.216</td>\n",
       "      <td>25</td>\n",
       "      <td>569376.000000</td>\n",
       "      <td>2.060068e+06</td>\n",
       "      <td>2.629444e+06</td>\n",
       "      <td>0.368750</td>\n",
       "      <td>0.368700</td>\n",
       "    </tr>\n",
       "    <tr>\n",
       "      <th>11</th>\n",
       "      <td>binance</td>\n",
       "      <td>2022-11-10T06:19:34.929</td>\n",
       "      <td>25</td>\n",
       "      <td>552249.000000</td>\n",
       "      <td>2.033551e+06</td>\n",
       "      <td>2.585800e+06</td>\n",
       "      <td>0.368750</td>\n",
       "      <td>0.368700</td>\n",
       "    </tr>\n",
       "    <tr>\n",
       "      <th>12</th>\n",
       "      <td>binance</td>\n",
       "      <td>2022-11-10T06:19:37.224</td>\n",
       "      <td>25</td>\n",
       "      <td>536512.000000</td>\n",
       "      <td>2.027666e+06</td>\n",
       "      <td>2.564178e+06</td>\n",
       "      <td>0.368550</td>\n",
       "      <td>0.368500</td>\n",
       "    </tr>\n",
       "    <tr>\n",
       "      <th>13</th>\n",
       "      <td>binance</td>\n",
       "      <td>2022-11-10T06:19:39.937</td>\n",
       "      <td>25</td>\n",
       "      <td>642219.000000</td>\n",
       "      <td>1.079762e+06</td>\n",
       "      <td>1.721981e+06</td>\n",
       "      <td>0.368450</td>\n",
       "      <td>0.368400</td>\n",
       "    </tr>\n",
       "    <tr>\n",
       "      <th>14</th>\n",
       "      <td>binance</td>\n",
       "      <td>2022-11-10T06:19:41.785</td>\n",
       "      <td>25</td>\n",
       "      <td>679287.000000</td>\n",
       "      <td>1.143780e+06</td>\n",
       "      <td>1.823067e+06</td>\n",
       "      <td>0.368450</td>\n",
       "      <td>0.368400</td>\n",
       "    </tr>\n",
       "    <tr>\n",
       "      <th>15</th>\n",
       "      <td>binance</td>\n",
       "      <td>2022-11-10T06:19:43.427</td>\n",
       "      <td>25</td>\n",
       "      <td>539562.000000</td>\n",
       "      <td>8.967140e+05</td>\n",
       "      <td>1.436276e+06</td>\n",
       "      <td>0.368550</td>\n",
       "      <td>0.368500</td>\n",
       "    </tr>\n",
       "    <tr>\n",
       "      <th>16</th>\n",
       "      <td>binance</td>\n",
       "      <td>2022-11-10T06:19:45.177</td>\n",
       "      <td>25</td>\n",
       "      <td>518795.000000</td>\n",
       "      <td>9.485620e+05</td>\n",
       "      <td>1.467357e+06</td>\n",
       "      <td>0.369050</td>\n",
       "      <td>0.369000</td>\n",
       "    </tr>\n",
       "    <tr>\n",
       "      <th>17</th>\n",
       "      <td>binance</td>\n",
       "      <td>2022-11-10T06:19:46.797</td>\n",
       "      <td>25</td>\n",
       "      <td>499711.000000</td>\n",
       "      <td>1.002938e+06</td>\n",
       "      <td>1.502649e+06</td>\n",
       "      <td>0.369050</td>\n",
       "      <td>0.369000</td>\n",
       "    </tr>\n",
       "    <tr>\n",
       "      <th>18</th>\n",
       "      <td>binance</td>\n",
       "      <td>2022-11-10T06:19:48.341</td>\n",
       "      <td>25</td>\n",
       "      <td>475784.000000</td>\n",
       "      <td>8.704860e+05</td>\n",
       "      <td>1.346270e+06</td>\n",
       "      <td>0.369350</td>\n",
       "      <td>0.369300</td>\n",
       "    </tr>\n",
       "    <tr>\n",
       "      <th>19</th>\n",
       "      <td>binance</td>\n",
       "      <td>2022-11-10T06:19:49.852</td>\n",
       "      <td>25</td>\n",
       "      <td>526982.000000</td>\n",
       "      <td>9.206730e+05</td>\n",
       "      <td>1.447655e+06</td>\n",
       "      <td>0.369250</td>\n",
       "      <td>0.369200</td>\n",
       "    </tr>\n",
       "    <tr>\n",
       "      <th>20</th>\n",
       "      <td>ftx</td>\n",
       "      <td>2022-11-10T06:19:51.823</td>\n",
       "      <td>25</td>\n",
       "      <td>9412.000000</td>\n",
       "      <td>1.077940e+05</td>\n",
       "      <td>1.172060e+05</td>\n",
       "      <td>0.350413</td>\n",
       "      <td>0.349578</td>\n",
       "    </tr>\n",
       "    <tr>\n",
       "      <th>21</th>\n",
       "      <td>ftx</td>\n",
       "      <td>2022-11-10T06:19:53.763</td>\n",
       "      <td>25</td>\n",
       "      <td>502.000000</td>\n",
       "      <td>1.072430e+05</td>\n",
       "      <td>1.077450e+05</td>\n",
       "      <td>0.350413</td>\n",
       "      <td>0.349578</td>\n",
       "    </tr>\n",
       "    <tr>\n",
       "      <th>22</th>\n",
       "      <td>ftx</td>\n",
       "      <td>2022-11-10T06:19:57.170</td>\n",
       "      <td>25</td>\n",
       "      <td>9275.000000</td>\n",
       "      <td>1.044060e+05</td>\n",
       "      <td>1.136810e+05</td>\n",
       "      <td>0.351250</td>\n",
       "      <td>0.350403</td>\n",
       "    </tr>\n",
       "    <tr>\n",
       "      <th>23</th>\n",
       "      <td>ftx</td>\n",
       "      <td>2022-11-10T06:19:58.632</td>\n",
       "      <td>25</td>\n",
       "      <td>9275.000000</td>\n",
       "      <td>1.044060e+05</td>\n",
       "      <td>1.136810e+05</td>\n",
       "      <td>0.351250</td>\n",
       "      <td>0.350403</td>\n",
       "    </tr>\n",
       "    <tr>\n",
       "      <th>24</th>\n",
       "      <td>ftx</td>\n",
       "      <td>2022-11-10T06:20:01.873</td>\n",
       "      <td>25</td>\n",
       "      <td>9275.000000</td>\n",
       "      <td>1.044030e+05</td>\n",
       "      <td>1.136780e+05</td>\n",
       "      <td>0.351475</td>\n",
       "      <td>0.350853</td>\n",
       "    </tr>\n",
       "    <tr>\n",
       "      <th>25</th>\n",
       "      <td>ftx</td>\n",
       "      <td>2022-11-10T06:20:05.041</td>\n",
       "      <td>25</td>\n",
       "      <td>403.000000</td>\n",
       "      <td>1.028860e+05</td>\n",
       "      <td>1.032890e+05</td>\n",
       "      <td>0.351475</td>\n",
       "      <td>0.350853</td>\n",
       "    </tr>\n",
       "    <tr>\n",
       "      <th>26</th>\n",
       "      <td>ftx</td>\n",
       "      <td>2022-11-10T06:20:08.313</td>\n",
       "      <td>25</td>\n",
       "      <td>9273.000000</td>\n",
       "      <td>1.028870e+05</td>\n",
       "      <td>1.121600e+05</td>\n",
       "      <td>0.351475</td>\n",
       "      <td>0.350853</td>\n",
       "    </tr>\n",
       "    <tr>\n",
       "      <th>27</th>\n",
       "      <td>ftx</td>\n",
       "      <td>2022-11-10T06:20:10.564</td>\n",
       "      <td>25</td>\n",
       "      <td>570.000000</td>\n",
       "      <td>1.028870e+05</td>\n",
       "      <td>1.034570e+05</td>\n",
       "      <td>0.351475</td>\n",
       "      <td>0.350853</td>\n",
       "    </tr>\n",
       "    <tr>\n",
       "      <th>28</th>\n",
       "      <td>ftx</td>\n",
       "      <td>2022-11-10T06:20:13.137</td>\n",
       "      <td>25</td>\n",
       "      <td>9444.000000</td>\n",
       "      <td>1.036090e+05</td>\n",
       "      <td>1.130530e+05</td>\n",
       "      <td>0.351550</td>\n",
       "      <td>0.350878</td>\n",
       "    </tr>\n",
       "    <tr>\n",
       "      <th>29</th>\n",
       "      <td>ftx</td>\n",
       "      <td>2022-11-10T06:20:15.004</td>\n",
       "      <td>25</td>\n",
       "      <td>9450.000000</td>\n",
       "      <td>1.036100e+05</td>\n",
       "      <td>1.130600e+05</td>\n",
       "      <td>0.351812</td>\n",
       "      <td>0.350878</td>\n",
       "    </tr>\n",
       "    <tr>\n",
       "      <th>30</th>\n",
       "      <td>ftx</td>\n",
       "      <td>2022-11-10T06:20:17.038</td>\n",
       "      <td>25</td>\n",
       "      <td>9450.000000</td>\n",
       "      <td>4.587400e+04</td>\n",
       "      <td>5.532400e+04</td>\n",
       "      <td>0.351800</td>\n",
       "      <td>0.350856</td>\n",
       "    </tr>\n",
       "    <tr>\n",
       "      <th>31</th>\n",
       "      <td>ftx</td>\n",
       "      <td>2022-11-10T06:20:18.714</td>\n",
       "      <td>25</td>\n",
       "      <td>9450.000000</td>\n",
       "      <td>4.587400e+04</td>\n",
       "      <td>5.532400e+04</td>\n",
       "      <td>0.351800</td>\n",
       "      <td>0.350856</td>\n",
       "    </tr>\n",
       "    <tr>\n",
       "      <th>32</th>\n",
       "      <td>ftx</td>\n",
       "      <td>2022-11-10T06:20:20.630</td>\n",
       "      <td>25</td>\n",
       "      <td>9451.000000</td>\n",
       "      <td>4.586000e+04</td>\n",
       "      <td>5.531100e+04</td>\n",
       "      <td>0.352000</td>\n",
       "      <td>0.351256</td>\n",
       "    </tr>\n",
       "    <tr>\n",
       "      <th>33</th>\n",
       "      <td>ftx</td>\n",
       "      <td>2022-11-10T06:20:22.791</td>\n",
       "      <td>25</td>\n",
       "      <td>9451.000000</td>\n",
       "      <td>4.586000e+04</td>\n",
       "      <td>5.531100e+04</td>\n",
       "      <td>0.352000</td>\n",
       "      <td>0.351256</td>\n",
       "    </tr>\n",
       "    <tr>\n",
       "      <th>34</th>\n",
       "      <td>ftx</td>\n",
       "      <td>2022-11-10T06:20:25.699</td>\n",
       "      <td>25</td>\n",
       "      <td>9451.000000</td>\n",
       "      <td>4.585700e+04</td>\n",
       "      <td>5.530800e+04</td>\n",
       "      <td>0.352000</td>\n",
       "      <td>0.351256</td>\n",
       "    </tr>\n",
       "    <tr>\n",
       "      <th>35</th>\n",
       "      <td>ftx</td>\n",
       "      <td>2022-11-10T06:20:27.431</td>\n",
       "      <td>25</td>\n",
       "      <td>1710.000000</td>\n",
       "      <td>1.028840e+05</td>\n",
       "      <td>1.045940e+05</td>\n",
       "      <td>0.351988</td>\n",
       "      <td>0.351253</td>\n",
       "    </tr>\n",
       "    <tr>\n",
       "      <th>36</th>\n",
       "      <td>ftx</td>\n",
       "      <td>2022-11-10T06:20:29.701</td>\n",
       "      <td>25</td>\n",
       "      <td>9480.000000</td>\n",
       "      <td>1.028840e+05</td>\n",
       "      <td>1.123640e+05</td>\n",
       "      <td>0.352000</td>\n",
       "      <td>0.351253</td>\n",
       "    </tr>\n",
       "    <tr>\n",
       "      <th>37</th>\n",
       "      <td>ftx</td>\n",
       "      <td>2022-11-10T06:20:32.069</td>\n",
       "      <td>25</td>\n",
       "      <td>10594.000000</td>\n",
       "      <td>1.028840e+05</td>\n",
       "      <td>1.134780e+05</td>\n",
       "      <td>0.351988</td>\n",
       "      <td>0.351253</td>\n",
       "    </tr>\n",
       "    <tr>\n",
       "      <th>38</th>\n",
       "      <td>ftx</td>\n",
       "      <td>2022-11-10T06:20:34.310</td>\n",
       "      <td>25</td>\n",
       "      <td>9480.000000</td>\n",
       "      <td>1.028840e+05</td>\n",
       "      <td>1.123640e+05</td>\n",
       "      <td>0.352000</td>\n",
       "      <td>0.351253</td>\n",
       "    </tr>\n",
       "    <tr>\n",
       "      <th>39</th>\n",
       "      <td>ftx</td>\n",
       "      <td>2022-11-10T06:20:36.827</td>\n",
       "      <td>25</td>\n",
       "      <td>9480.000000</td>\n",
       "      <td>1.028840e+05</td>\n",
       "      <td>1.123640e+05</td>\n",
       "      <td>0.352000</td>\n",
       "      <td>0.351253</td>\n",
       "    </tr>\n",
       "    <tr>\n",
       "      <th>40</th>\n",
       "      <td>bytetrade</td>\n",
       "      <td>2022-11-10T06:20:38.851</td>\n",
       "      <td>25</td>\n",
       "      <td>157.281353</td>\n",
       "      <td>2.632169e+03</td>\n",
       "      <td>2.789451e+03</td>\n",
       "      <td>0.371863</td>\n",
       "      <td>0.352140</td>\n",
       "    </tr>\n",
       "    <tr>\n",
       "      <th>41</th>\n",
       "      <td>bytetrade</td>\n",
       "      <td>2022-11-10T06:20:41.324</td>\n",
       "      <td>25</td>\n",
       "      <td>157.281353</td>\n",
       "      <td>2.632169e+03</td>\n",
       "      <td>2.789451e+03</td>\n",
       "      <td>0.371863</td>\n",
       "      <td>0.352140</td>\n",
       "    </tr>\n",
       "    <tr>\n",
       "      <th>42</th>\n",
       "      <td>bytetrade</td>\n",
       "      <td>2022-11-10T06:20:43.209</td>\n",
       "      <td>25</td>\n",
       "      <td>157.281353</td>\n",
       "      <td>2.632169e+03</td>\n",
       "      <td>2.789451e+03</td>\n",
       "      <td>0.371863</td>\n",
       "      <td>0.352140</td>\n",
       "    </tr>\n",
       "    <tr>\n",
       "      <th>43</th>\n",
       "      <td>bytetrade</td>\n",
       "      <td>2022-11-10T06:20:44.688</td>\n",
       "      <td>25</td>\n",
       "      <td>157.281353</td>\n",
       "      <td>2.632169e+03</td>\n",
       "      <td>2.789451e+03</td>\n",
       "      <td>0.371863</td>\n",
       "      <td>0.352140</td>\n",
       "    </tr>\n",
       "    <tr>\n",
       "      <th>44</th>\n",
       "      <td>bytetrade</td>\n",
       "      <td>2022-11-10T06:20:46.217</td>\n",
       "      <td>25</td>\n",
       "      <td>157.281353</td>\n",
       "      <td>2.632169e+03</td>\n",
       "      <td>2.789451e+03</td>\n",
       "      <td>0.371863</td>\n",
       "      <td>0.352140</td>\n",
       "    </tr>\n",
       "    <tr>\n",
       "      <th>45</th>\n",
       "      <td>bytetrade</td>\n",
       "      <td>2022-11-10T06:20:48.887</td>\n",
       "      <td>25</td>\n",
       "      <td>157.281353</td>\n",
       "      <td>2.632169e+03</td>\n",
       "      <td>2.789451e+03</td>\n",
       "      <td>0.371863</td>\n",
       "      <td>0.352140</td>\n",
       "    </tr>\n",
       "    <tr>\n",
       "      <th>46</th>\n",
       "      <td>bytetrade</td>\n",
       "      <td>2022-11-10T06:20:51.071</td>\n",
       "      <td>25</td>\n",
       "      <td>157.281353</td>\n",
       "      <td>2.632169e+03</td>\n",
       "      <td>2.789451e+03</td>\n",
       "      <td>0.371863</td>\n",
       "      <td>0.352140</td>\n",
       "    </tr>\n",
       "    <tr>\n",
       "      <th>47</th>\n",
       "      <td>bytetrade</td>\n",
       "      <td>2022-11-10T06:20:52.847</td>\n",
       "      <td>25</td>\n",
       "      <td>157.281353</td>\n",
       "      <td>2.632169e+03</td>\n",
       "      <td>2.789451e+03</td>\n",
       "      <td>0.371863</td>\n",
       "      <td>0.352140</td>\n",
       "    </tr>\n",
       "    <tr>\n",
       "      <th>48</th>\n",
       "      <td>bytetrade</td>\n",
       "      <td>2022-11-10T06:20:54.656</td>\n",
       "      <td>25</td>\n",
       "      <td>157.281353</td>\n",
       "      <td>2.632169e+03</td>\n",
       "      <td>2.789451e+03</td>\n",
       "      <td>0.371863</td>\n",
       "      <td>0.352140</td>\n",
       "    </tr>\n",
       "    <tr>\n",
       "      <th>49</th>\n",
       "      <td>bytetrade</td>\n",
       "      <td>2022-11-10T06:20:56.446</td>\n",
       "      <td>25</td>\n",
       "      <td>157.281353</td>\n",
       "      <td>2.632169e+03</td>\n",
       "      <td>2.789451e+03</td>\n",
       "      <td>0.371863</td>\n",
       "      <td>0.352140</td>\n",
       "    </tr>\n",
       "    <tr>\n",
       "      <th>50</th>\n",
       "      <td>bytetrade</td>\n",
       "      <td>2022-11-10T06:20:58.993</td>\n",
       "      <td>25</td>\n",
       "      <td>157.281353</td>\n",
       "      <td>2.632169e+03</td>\n",
       "      <td>2.789451e+03</td>\n",
       "      <td>0.371863</td>\n",
       "      <td>0.352140</td>\n",
       "    </tr>\n",
       "    <tr>\n",
       "      <th>51</th>\n",
       "      <td>bytetrade</td>\n",
       "      <td>2022-11-10T06:21:00.702</td>\n",
       "      <td>25</td>\n",
       "      <td>157.281353</td>\n",
       "      <td>2.632169e+03</td>\n",
       "      <td>2.789451e+03</td>\n",
       "      <td>0.371863</td>\n",
       "      <td>0.352140</td>\n",
       "    </tr>\n",
       "    <tr>\n",
       "      <th>52</th>\n",
       "      <td>bytetrade</td>\n",
       "      <td>2022-11-10T06:21:02.585</td>\n",
       "      <td>25</td>\n",
       "      <td>157.281353</td>\n",
       "      <td>2.632169e+03</td>\n",
       "      <td>2.789451e+03</td>\n",
       "      <td>0.371863</td>\n",
       "      <td>0.352140</td>\n",
       "    </tr>\n",
       "    <tr>\n",
       "      <th>53</th>\n",
       "      <td>bytetrade</td>\n",
       "      <td>2022-11-10T06:21:04.325</td>\n",
       "      <td>25</td>\n",
       "      <td>157.281353</td>\n",
       "      <td>2.632169e+03</td>\n",
       "      <td>2.789451e+03</td>\n",
       "      <td>0.371863</td>\n",
       "      <td>0.352140</td>\n",
       "    </tr>\n",
       "    <tr>\n",
       "      <th>54</th>\n",
       "      <td>bytetrade</td>\n",
       "      <td>2022-11-10T06:21:05.905</td>\n",
       "      <td>25</td>\n",
       "      <td>157.281353</td>\n",
       "      <td>2.632169e+03</td>\n",
       "      <td>2.789451e+03</td>\n",
       "      <td>0.371863</td>\n",
       "      <td>0.352140</td>\n",
       "    </tr>\n",
       "    <tr>\n",
       "      <th>55</th>\n",
       "      <td>bytetrade</td>\n",
       "      <td>2022-11-10T06:21:08.572</td>\n",
       "      <td>25</td>\n",
       "      <td>157.281353</td>\n",
       "      <td>2.632169e+03</td>\n",
       "      <td>2.789451e+03</td>\n",
       "      <td>0.371863</td>\n",
       "      <td>0.352140</td>\n",
       "    </tr>\n",
       "    <tr>\n",
       "      <th>56</th>\n",
       "      <td>bytetrade</td>\n",
       "      <td>2022-11-10T06:21:10.328</td>\n",
       "      <td>25</td>\n",
       "      <td>157.281353</td>\n",
       "      <td>2.632169e+03</td>\n",
       "      <td>2.789451e+03</td>\n",
       "      <td>0.371863</td>\n",
       "      <td>0.352140</td>\n",
       "    </tr>\n",
       "    <tr>\n",
       "      <th>57</th>\n",
       "      <td>bytetrade</td>\n",
       "      <td>2022-11-10T06:21:11.966</td>\n",
       "      <td>25</td>\n",
       "      <td>157.281353</td>\n",
       "      <td>2.632169e+03</td>\n",
       "      <td>2.789451e+03</td>\n",
       "      <td>0.371863</td>\n",
       "      <td>0.352140</td>\n",
       "    </tr>\n",
       "    <tr>\n",
       "      <th>58</th>\n",
       "      <td>bytetrade</td>\n",
       "      <td>2022-11-10T06:21:13.403</td>\n",
       "      <td>25</td>\n",
       "      <td>157.281353</td>\n",
       "      <td>2.632169e+03</td>\n",
       "      <td>2.789451e+03</td>\n",
       "      <td>0.371863</td>\n",
       "      <td>0.352140</td>\n",
       "    </tr>\n",
       "    <tr>\n",
       "      <th>59</th>\n",
       "      <td>bytetrade</td>\n",
       "      <td>2022-11-10T06:21:15.050</td>\n",
       "      <td>25</td>\n",
       "      <td>157.281353</td>\n",
       "      <td>2.632169e+03</td>\n",
       "      <td>2.789451e+03</td>\n",
       "      <td>0.371863</td>\n",
       "      <td>0.352140</td>\n",
       "    </tr>\n",
       "  </tbody>\n",
       "</table>\n",
       "</div>"
      ],
      "text/plain": [
       "     exchange                timestamp  level     ask_volume    bid_volume  \\\n",
       "0     binance  2022-11-10T06:19:15.235     25  659197.000000  2.026060e+06   \n",
       "1     binance  2022-11-10T06:19:16.795     25  677497.000000  1.904598e+06   \n",
       "2     binance  2022-11-10T06:19:18.749     25  639580.000000  1.976379e+06   \n",
       "3     binance  2022-11-10T06:19:20.899     25  629065.000000  2.042268e+06   \n",
       "4     binance  2022-11-10T06:19:22.838     25  485307.000000  2.016367e+06   \n",
       "5     binance  2022-11-10T06:19:24.681     25  517734.000000  2.010432e+06   \n",
       "6     binance  2022-11-10T06:19:26.415     25  533270.000000  2.012094e+06   \n",
       "7     binance  2022-11-10T06:19:27.958     25  529229.000000  2.026291e+06   \n",
       "8     binance  2022-11-10T06:19:30.006     25  574062.000000  2.061518e+06   \n",
       "9     binance  2022-11-10T06:19:31.750     25  565265.000000  2.057429e+06   \n",
       "10    binance  2022-11-10T06:19:33.216     25  569376.000000  2.060068e+06   \n",
       "11    binance  2022-11-10T06:19:34.929     25  552249.000000  2.033551e+06   \n",
       "12    binance  2022-11-10T06:19:37.224     25  536512.000000  2.027666e+06   \n",
       "13    binance  2022-11-10T06:19:39.937     25  642219.000000  1.079762e+06   \n",
       "14    binance  2022-11-10T06:19:41.785     25  679287.000000  1.143780e+06   \n",
       "15    binance  2022-11-10T06:19:43.427     25  539562.000000  8.967140e+05   \n",
       "16    binance  2022-11-10T06:19:45.177     25  518795.000000  9.485620e+05   \n",
       "17    binance  2022-11-10T06:19:46.797     25  499711.000000  1.002938e+06   \n",
       "18    binance  2022-11-10T06:19:48.341     25  475784.000000  8.704860e+05   \n",
       "19    binance  2022-11-10T06:19:49.852     25  526982.000000  9.206730e+05   \n",
       "20        ftx  2022-11-10T06:19:51.823     25    9412.000000  1.077940e+05   \n",
       "21        ftx  2022-11-10T06:19:53.763     25     502.000000  1.072430e+05   \n",
       "22        ftx  2022-11-10T06:19:57.170     25    9275.000000  1.044060e+05   \n",
       "23        ftx  2022-11-10T06:19:58.632     25    9275.000000  1.044060e+05   \n",
       "24        ftx  2022-11-10T06:20:01.873     25    9275.000000  1.044030e+05   \n",
       "25        ftx  2022-11-10T06:20:05.041     25     403.000000  1.028860e+05   \n",
       "26        ftx  2022-11-10T06:20:08.313     25    9273.000000  1.028870e+05   \n",
       "27        ftx  2022-11-10T06:20:10.564     25     570.000000  1.028870e+05   \n",
       "28        ftx  2022-11-10T06:20:13.137     25    9444.000000  1.036090e+05   \n",
       "29        ftx  2022-11-10T06:20:15.004     25    9450.000000  1.036100e+05   \n",
       "30        ftx  2022-11-10T06:20:17.038     25    9450.000000  4.587400e+04   \n",
       "31        ftx  2022-11-10T06:20:18.714     25    9450.000000  4.587400e+04   \n",
       "32        ftx  2022-11-10T06:20:20.630     25    9451.000000  4.586000e+04   \n",
       "33        ftx  2022-11-10T06:20:22.791     25    9451.000000  4.586000e+04   \n",
       "34        ftx  2022-11-10T06:20:25.699     25    9451.000000  4.585700e+04   \n",
       "35        ftx  2022-11-10T06:20:27.431     25    1710.000000  1.028840e+05   \n",
       "36        ftx  2022-11-10T06:20:29.701     25    9480.000000  1.028840e+05   \n",
       "37        ftx  2022-11-10T06:20:32.069     25   10594.000000  1.028840e+05   \n",
       "38        ftx  2022-11-10T06:20:34.310     25    9480.000000  1.028840e+05   \n",
       "39        ftx  2022-11-10T06:20:36.827     25    9480.000000  1.028840e+05   \n",
       "40  bytetrade  2022-11-10T06:20:38.851     25     157.281353  2.632169e+03   \n",
       "41  bytetrade  2022-11-10T06:20:41.324     25     157.281353  2.632169e+03   \n",
       "42  bytetrade  2022-11-10T06:20:43.209     25     157.281353  2.632169e+03   \n",
       "43  bytetrade  2022-11-10T06:20:44.688     25     157.281353  2.632169e+03   \n",
       "44  bytetrade  2022-11-10T06:20:46.217     25     157.281353  2.632169e+03   \n",
       "45  bytetrade  2022-11-10T06:20:48.887     25     157.281353  2.632169e+03   \n",
       "46  bytetrade  2022-11-10T06:20:51.071     25     157.281353  2.632169e+03   \n",
       "47  bytetrade  2022-11-10T06:20:52.847     25     157.281353  2.632169e+03   \n",
       "48  bytetrade  2022-11-10T06:20:54.656     25     157.281353  2.632169e+03   \n",
       "49  bytetrade  2022-11-10T06:20:56.446     25     157.281353  2.632169e+03   \n",
       "50  bytetrade  2022-11-10T06:20:58.993     25     157.281353  2.632169e+03   \n",
       "51  bytetrade  2022-11-10T06:21:00.702     25     157.281353  2.632169e+03   \n",
       "52  bytetrade  2022-11-10T06:21:02.585     25     157.281353  2.632169e+03   \n",
       "53  bytetrade  2022-11-10T06:21:04.325     25     157.281353  2.632169e+03   \n",
       "54  bytetrade  2022-11-10T06:21:05.905     25     157.281353  2.632169e+03   \n",
       "55  bytetrade  2022-11-10T06:21:08.572     25     157.281353  2.632169e+03   \n",
       "56  bytetrade  2022-11-10T06:21:10.328     25     157.281353  2.632169e+03   \n",
       "57  bytetrade  2022-11-10T06:21:11.966     25     157.281353  2.632169e+03   \n",
       "58  bytetrade  2022-11-10T06:21:13.403     25     157.281353  2.632169e+03   \n",
       "59  bytetrade  2022-11-10T06:21:15.050     25     157.281353  2.632169e+03   \n",
       "\n",
       "    total_volume  mid_price      vwap  \n",
       "0   2.685257e+06   0.368950  0.368900  \n",
       "1   2.582095e+06   0.368650  0.368600  \n",
       "2   2.615959e+06   0.368750  0.368700  \n",
       "3   2.671333e+06   0.368950  0.368900  \n",
       "4   2.501674e+06   0.369050  0.369000  \n",
       "5   2.528166e+06   0.369050  0.369000  \n",
       "6   2.545364e+06   0.369050  0.369000  \n",
       "7   2.555520e+06   0.369050  0.369000  \n",
       "8   2.635580e+06   0.368850  0.368800  \n",
       "9   2.622694e+06   0.368750  0.368700  \n",
       "10  2.629444e+06   0.368750  0.368700  \n",
       "11  2.585800e+06   0.368750  0.368700  \n",
       "12  2.564178e+06   0.368550  0.368500  \n",
       "13  1.721981e+06   0.368450  0.368400  \n",
       "14  1.823067e+06   0.368450  0.368400  \n",
       "15  1.436276e+06   0.368550  0.368500  \n",
       "16  1.467357e+06   0.369050  0.369000  \n",
       "17  1.502649e+06   0.369050  0.369000  \n",
       "18  1.346270e+06   0.369350  0.369300  \n",
       "19  1.447655e+06   0.369250  0.369200  \n",
       "20  1.172060e+05   0.350413  0.349578  \n",
       "21  1.077450e+05   0.350413  0.349578  \n",
       "22  1.136810e+05   0.351250  0.350403  \n",
       "23  1.136810e+05   0.351250  0.350403  \n",
       "24  1.136780e+05   0.351475  0.350853  \n",
       "25  1.032890e+05   0.351475  0.350853  \n",
       "26  1.121600e+05   0.351475  0.350853  \n",
       "27  1.034570e+05   0.351475  0.350853  \n",
       "28  1.130530e+05   0.351550  0.350878  \n",
       "29  1.130600e+05   0.351812  0.350878  \n",
       "30  5.532400e+04   0.351800  0.350856  \n",
       "31  5.532400e+04   0.351800  0.350856  \n",
       "32  5.531100e+04   0.352000  0.351256  \n",
       "33  5.531100e+04   0.352000  0.351256  \n",
       "34  5.530800e+04   0.352000  0.351256  \n",
       "35  1.045940e+05   0.351988  0.351253  \n",
       "36  1.123640e+05   0.352000  0.351253  \n",
       "37  1.134780e+05   0.351988  0.351253  \n",
       "38  1.123640e+05   0.352000  0.351253  \n",
       "39  1.123640e+05   0.352000  0.351253  \n",
       "40  2.789451e+03   0.371863  0.352140  \n",
       "41  2.789451e+03   0.371863  0.352140  \n",
       "42  2.789451e+03   0.371863  0.352140  \n",
       "43  2.789451e+03   0.371863  0.352140  \n",
       "44  2.789451e+03   0.371863  0.352140  \n",
       "45  2.789451e+03   0.371863  0.352140  \n",
       "46  2.789451e+03   0.371863  0.352140  \n",
       "47  2.789451e+03   0.371863  0.352140  \n",
       "48  2.789451e+03   0.371863  0.352140  \n",
       "49  2.789451e+03   0.371863  0.352140  \n",
       "50  2.789451e+03   0.371863  0.352140  \n",
       "51  2.789451e+03   0.371863  0.352140  \n",
       "52  2.789451e+03   0.371863  0.352140  \n",
       "53  2.789451e+03   0.371863  0.352140  \n",
       "54  2.789451e+03   0.371863  0.352140  \n",
       "55  2.789451e+03   0.371863  0.352140  \n",
       "56  2.789451e+03   0.371863  0.352140  \n",
       "57  2.789451e+03   0.371863  0.352140  \n",
       "58  2.789451e+03   0.371863  0.352140  \n",
       "59  2.789451e+03   0.371863  0.352140  "
      ]
     },
     "execution_count": 49,
     "metadata": {},
     "output_type": "execute_result"
    }
   ],
   "source": [
    "MS_X = fn.concatenate(MS_0_X[0], MS_1_X[0], MS_2_X[0], n)\n",
    "MS_X"
   ]
  },
  {
   "cell_type": "markdown",
   "metadata": {},
   "source": [
    "<strong> \n",
    "<font color= lightgreen> <font size = 3> Progress check 2  </font> <strong>\n",
    "\n",
    "Visualization"
   ]
  },
  {
   "cell_type": "code",
   "execution_count": 50,
   "metadata": {},
   "outputs": [
    {
     "name": "stdout",
     "output_type": "stream",
     "text": [
      "Help on function Plot_line in module visualizations:\n",
      "\n",
      "Plot_line(data_ms, cripto, title)\n",
      "    Function that plots Mid-Prices (y) and timestamps (x) for exchanges in data.\n",
      "    Parameters:\n",
      "    ----------\n",
      "    data_ms: Microstructure data for column extraction ['exchanges', 'Mid_Prices'] and index timestamp as datetime.\n",
      "    cripto: Downloadable cripto symbol.\n",
      "    title: Title of facet_cols plotly lines before criptocurrency symbol (ex: 'Volume of': XRP/USDT)\n",
      "    \n",
      "    Returns:\n",
      "    -------\n",
      "    facet_col plots for Mid-Prices (col) during timestamps of data (index) for exchanges (col).\n",
      "\n"
     ]
    }
   ],
   "source": [
    "help(vs.Plot_line)"
   ]
  },
  {
   "cell_type": "code",
   "execution_count": 51,
   "metadata": {},
   "outputs": [
    {
     "data": {
      "application/vnd.plotly.v1+json": {
       "config": {
        "plotlyServerURL": "https://plot.ly"
       },
       "data": [
        {
         "hovertemplate": "variable=mid_price<br>exchange=binance<br>timestamp=%{x}<br>value=%{y}<extra></extra>",
         "legendgroup": "mid_price",
         "line": {
          "color": "#636efa",
          "dash": "solid"
         },
         "marker": {
          "symbol": "circle"
         },
         "mode": "lines",
         "name": "mid_price",
         "orientation": "v",
         "showlegend": true,
         "type": "scatter",
         "x": [
          "2022-11-10T06:15:12.709000",
          "2022-11-10T06:15:14.111000",
          "2022-11-10T06:15:15.791000",
          "2022-11-10T06:15:17.605000",
          "2022-11-10T06:15:19.634000",
          "2022-11-10T06:15:21.524000",
          "2022-11-10T06:15:23.146000",
          "2022-11-10T06:15:24.935000",
          "2022-11-10T06:15:26.463000",
          "2022-11-10T06:15:28.054000",
          "2022-11-10T06:15:29.598000",
          "2022-11-10T06:15:31.158000",
          "2022-11-10T06:15:32.633000",
          "2022-11-10T06:15:34.193000",
          "2022-11-10T06:15:35.673000",
          "2022-11-10T06:15:37.142000",
          "2022-11-10T06:15:38.665000",
          "2022-11-10T06:15:40.084000",
          "2022-11-10T06:15:41.591000",
          "2022-11-10T06:15:43.181000"
         ],
         "xaxis": "x3",
         "y": [
          16669.445,
          16669.97,
          16664.355,
          16664.510000000002,
          16655.56,
          16655.73,
          16662.22,
          16661.95,
          16653.25,
          16653.559999999998,
          16651.69,
          16645.87,
          16645.935,
          16643.79,
          16642.625,
          16643.025,
          16640.769999999997,
          16640.095,
          16638.93,
          16643.785
         ],
         "yaxis": "y3"
        },
        {
         "hovertemplate": "variable=mid_price<br>exchange=ftx<br>timestamp=%{x}<br>value=%{y}<extra></extra>",
         "legendgroup": "mid_price",
         "line": {
          "color": "#636efa",
          "dash": "solid"
         },
         "marker": {
          "symbol": "circle"
         },
         "mode": "lines",
         "name": "mid_price",
         "orientation": "v",
         "showlegend": false,
         "type": "scatter",
         "x": [
          "2022-11-10T06:15:45.438000",
          "2022-11-10T06:15:47.596000",
          "2022-11-10T06:15:50.071000",
          "2022-11-10T06:15:52.381000",
          "2022-11-10T06:15:54.113000",
          "2022-11-10T06:15:55.823000",
          "2022-11-10T06:15:57.506000",
          "2022-11-10T06:15:59.820000",
          "2022-11-10T06:16:02.303000",
          "2022-11-10T06:16:04.615000",
          "2022-11-10T06:16:07.419000",
          "2022-11-10T06:16:09.220000",
          "2022-11-10T06:16:12.312000",
          "2022-11-10T06:16:15.304000",
          "2022-11-10T06:16:16.680000",
          "2022-11-10T06:16:19.548000",
          "2022-11-10T06:16:21.657000",
          "2022-11-10T06:16:23.750000",
          "2022-11-10T06:16:25.640000",
          "2022-11-10T06:16:28.343000"
         ],
         "xaxis": "x2",
         "y": [
          16092,
          16092,
          16091.5,
          16106.5,
          16115,
          16115,
          16115,
          16115,
          16117,
          16117.5,
          16117,
          16117,
          16117,
          16117,
          16118,
          16118.5,
          16118.5,
          16118.5,
          16124,
          16117
         ],
         "yaxis": "y2"
        },
        {
         "hovertemplate": "variable=mid_price<br>exchange=bytetrade<br>timestamp=%{x}<br>value=%{y}<extra></extra>",
         "legendgroup": "mid_price",
         "line": {
          "color": "#636efa",
          "dash": "solid"
         },
         "marker": {
          "symbol": "circle"
         },
         "mode": "lines",
         "name": "mid_price",
         "orientation": "v",
         "showlegend": false,
         "type": "scatter",
         "x": [
          "2022-11-10T06:16:31.654000",
          "2022-11-10T06:16:34.366000",
          "2022-11-10T06:16:36.055000",
          "2022-11-10T06:16:37.793000",
          "2022-11-10T06:16:39.643000",
          "2022-11-10T06:16:41.565000",
          "2022-11-10T06:16:43",
          "2022-11-10T06:16:44.878000",
          "2022-11-10T06:16:46.436000",
          "2022-11-10T06:16:49.607000",
          "2022-11-10T06:16:51.247000",
          "2022-11-10T06:16:52.740000",
          "2022-11-10T06:16:54.380000",
          "2022-11-10T06:16:56.011000",
          "2022-11-10T06:16:57.696000",
          "2022-11-10T06:16:59.336000",
          "2022-11-10T06:17:00.704000",
          "2022-11-10T06:17:02.360000",
          "2022-11-10T06:17:04.912000",
          "2022-11-10T06:17:07.793000"
         ],
         "xaxis": "x",
         "y": [
          16640.75,
          16640.75,
          16609.85,
          16609.85,
          16609.85,
          16609.85,
          16609.85,
          16609.85,
          16609.85,
          16609.85,
          16609.85,
          16609.85,
          16609.85,
          16611.8,
          16611.8,
          16611.8,
          16611.8,
          16611.8,
          16639.9,
          16639.9
         ],
         "yaxis": "y"
        }
       ],
       "layout": {
        "annotations": [
         {
          "font": {},
          "showarrow": false,
          "text": "exchange=bytetrade",
          "x": 0.5,
          "xanchor": "center",
          "xref": "paper",
          "y": 0.2866666666666666,
          "yanchor": "bottom",
          "yref": "paper"
         },
         {
          "font": {},
          "showarrow": false,
          "text": "exchange=ftx",
          "x": 0.5,
          "xanchor": "center",
          "xref": "paper",
          "y": 0.6433333333333333,
          "yanchor": "bottom",
          "yref": "paper"
         },
         {
          "font": {},
          "showarrow": false,
          "text": "exchange=binance",
          "x": 0.5,
          "xanchor": "center",
          "xref": "paper",
          "y": 0.9999999999999999,
          "yanchor": "bottom",
          "yref": "paper"
         }
        ],
        "legend": {
         "title": {
          "text": "variable"
         },
         "tracegroupgap": 0
        },
        "margin": {
         "t": 60
        },
        "template": {
         "data": {
          "bar": [
           {
            "error_x": {
             "color": "#2a3f5f"
            },
            "error_y": {
             "color": "#2a3f5f"
            },
            "marker": {
             "line": {
              "color": "#E5ECF6",
              "width": 0.5
             },
             "pattern": {
              "fillmode": "overlay",
              "size": 10,
              "solidity": 0.2
             }
            },
            "type": "bar"
           }
          ],
          "barpolar": [
           {
            "marker": {
             "line": {
              "color": "#E5ECF6",
              "width": 0.5
             },
             "pattern": {
              "fillmode": "overlay",
              "size": 10,
              "solidity": 0.2
             }
            },
            "type": "barpolar"
           }
          ],
          "carpet": [
           {
            "aaxis": {
             "endlinecolor": "#2a3f5f",
             "gridcolor": "white",
             "linecolor": "white",
             "minorgridcolor": "white",
             "startlinecolor": "#2a3f5f"
            },
            "baxis": {
             "endlinecolor": "#2a3f5f",
             "gridcolor": "white",
             "linecolor": "white",
             "minorgridcolor": "white",
             "startlinecolor": "#2a3f5f"
            },
            "type": "carpet"
           }
          ],
          "choropleth": [
           {
            "colorbar": {
             "outlinewidth": 0,
             "ticks": ""
            },
            "type": "choropleth"
           }
          ],
          "contour": [
           {
            "colorbar": {
             "outlinewidth": 0,
             "ticks": ""
            },
            "colorscale": [
             [
              0,
              "#0d0887"
             ],
             [
              0.1111111111111111,
              "#46039f"
             ],
             [
              0.2222222222222222,
              "#7201a8"
             ],
             [
              0.3333333333333333,
              "#9c179e"
             ],
             [
              0.4444444444444444,
              "#bd3786"
             ],
             [
              0.5555555555555556,
              "#d8576b"
             ],
             [
              0.6666666666666666,
              "#ed7953"
             ],
             [
              0.7777777777777778,
              "#fb9f3a"
             ],
             [
              0.8888888888888888,
              "#fdca26"
             ],
             [
              1,
              "#f0f921"
             ]
            ],
            "type": "contour"
           }
          ],
          "contourcarpet": [
           {
            "colorbar": {
             "outlinewidth": 0,
             "ticks": ""
            },
            "type": "contourcarpet"
           }
          ],
          "heatmap": [
           {
            "colorbar": {
             "outlinewidth": 0,
             "ticks": ""
            },
            "colorscale": [
             [
              0,
              "#0d0887"
             ],
             [
              0.1111111111111111,
              "#46039f"
             ],
             [
              0.2222222222222222,
              "#7201a8"
             ],
             [
              0.3333333333333333,
              "#9c179e"
             ],
             [
              0.4444444444444444,
              "#bd3786"
             ],
             [
              0.5555555555555556,
              "#d8576b"
             ],
             [
              0.6666666666666666,
              "#ed7953"
             ],
             [
              0.7777777777777778,
              "#fb9f3a"
             ],
             [
              0.8888888888888888,
              "#fdca26"
             ],
             [
              1,
              "#f0f921"
             ]
            ],
            "type": "heatmap"
           }
          ],
          "heatmapgl": [
           {
            "colorbar": {
             "outlinewidth": 0,
             "ticks": ""
            },
            "colorscale": [
             [
              0,
              "#0d0887"
             ],
             [
              0.1111111111111111,
              "#46039f"
             ],
             [
              0.2222222222222222,
              "#7201a8"
             ],
             [
              0.3333333333333333,
              "#9c179e"
             ],
             [
              0.4444444444444444,
              "#bd3786"
             ],
             [
              0.5555555555555556,
              "#d8576b"
             ],
             [
              0.6666666666666666,
              "#ed7953"
             ],
             [
              0.7777777777777778,
              "#fb9f3a"
             ],
             [
              0.8888888888888888,
              "#fdca26"
             ],
             [
              1,
              "#f0f921"
             ]
            ],
            "type": "heatmapgl"
           }
          ],
          "histogram": [
           {
            "marker": {
             "pattern": {
              "fillmode": "overlay",
              "size": 10,
              "solidity": 0.2
             }
            },
            "type": "histogram"
           }
          ],
          "histogram2d": [
           {
            "colorbar": {
             "outlinewidth": 0,
             "ticks": ""
            },
            "colorscale": [
             [
              0,
              "#0d0887"
             ],
             [
              0.1111111111111111,
              "#46039f"
             ],
             [
              0.2222222222222222,
              "#7201a8"
             ],
             [
              0.3333333333333333,
              "#9c179e"
             ],
             [
              0.4444444444444444,
              "#bd3786"
             ],
             [
              0.5555555555555556,
              "#d8576b"
             ],
             [
              0.6666666666666666,
              "#ed7953"
             ],
             [
              0.7777777777777778,
              "#fb9f3a"
             ],
             [
              0.8888888888888888,
              "#fdca26"
             ],
             [
              1,
              "#f0f921"
             ]
            ],
            "type": "histogram2d"
           }
          ],
          "histogram2dcontour": [
           {
            "colorbar": {
             "outlinewidth": 0,
             "ticks": ""
            },
            "colorscale": [
             [
              0,
              "#0d0887"
             ],
             [
              0.1111111111111111,
              "#46039f"
             ],
             [
              0.2222222222222222,
              "#7201a8"
             ],
             [
              0.3333333333333333,
              "#9c179e"
             ],
             [
              0.4444444444444444,
              "#bd3786"
             ],
             [
              0.5555555555555556,
              "#d8576b"
             ],
             [
              0.6666666666666666,
              "#ed7953"
             ],
             [
              0.7777777777777778,
              "#fb9f3a"
             ],
             [
              0.8888888888888888,
              "#fdca26"
             ],
             [
              1,
              "#f0f921"
             ]
            ],
            "type": "histogram2dcontour"
           }
          ],
          "mesh3d": [
           {
            "colorbar": {
             "outlinewidth": 0,
             "ticks": ""
            },
            "type": "mesh3d"
           }
          ],
          "parcoords": [
           {
            "line": {
             "colorbar": {
              "outlinewidth": 0,
              "ticks": ""
             }
            },
            "type": "parcoords"
           }
          ],
          "pie": [
           {
            "automargin": true,
            "type": "pie"
           }
          ],
          "scatter": [
           {
            "marker": {
             "colorbar": {
              "outlinewidth": 0,
              "ticks": ""
             }
            },
            "type": "scatter"
           }
          ],
          "scatter3d": [
           {
            "line": {
             "colorbar": {
              "outlinewidth": 0,
              "ticks": ""
             }
            },
            "marker": {
             "colorbar": {
              "outlinewidth": 0,
              "ticks": ""
             }
            },
            "type": "scatter3d"
           }
          ],
          "scattercarpet": [
           {
            "marker": {
             "colorbar": {
              "outlinewidth": 0,
              "ticks": ""
             }
            },
            "type": "scattercarpet"
           }
          ],
          "scattergeo": [
           {
            "marker": {
             "colorbar": {
              "outlinewidth": 0,
              "ticks": ""
             }
            },
            "type": "scattergeo"
           }
          ],
          "scattergl": [
           {
            "marker": {
             "colorbar": {
              "outlinewidth": 0,
              "ticks": ""
             }
            },
            "type": "scattergl"
           }
          ],
          "scattermapbox": [
           {
            "marker": {
             "colorbar": {
              "outlinewidth": 0,
              "ticks": ""
             }
            },
            "type": "scattermapbox"
           }
          ],
          "scatterpolar": [
           {
            "marker": {
             "colorbar": {
              "outlinewidth": 0,
              "ticks": ""
             }
            },
            "type": "scatterpolar"
           }
          ],
          "scatterpolargl": [
           {
            "marker": {
             "colorbar": {
              "outlinewidth": 0,
              "ticks": ""
             }
            },
            "type": "scatterpolargl"
           }
          ],
          "scatterternary": [
           {
            "marker": {
             "colorbar": {
              "outlinewidth": 0,
              "ticks": ""
             }
            },
            "type": "scatterternary"
           }
          ],
          "surface": [
           {
            "colorbar": {
             "outlinewidth": 0,
             "ticks": ""
            },
            "colorscale": [
             [
              0,
              "#0d0887"
             ],
             [
              0.1111111111111111,
              "#46039f"
             ],
             [
              0.2222222222222222,
              "#7201a8"
             ],
             [
              0.3333333333333333,
              "#9c179e"
             ],
             [
              0.4444444444444444,
              "#bd3786"
             ],
             [
              0.5555555555555556,
              "#d8576b"
             ],
             [
              0.6666666666666666,
              "#ed7953"
             ],
             [
              0.7777777777777778,
              "#fb9f3a"
             ],
             [
              0.8888888888888888,
              "#fdca26"
             ],
             [
              1,
              "#f0f921"
             ]
            ],
            "type": "surface"
           }
          ],
          "table": [
           {
            "cells": {
             "fill": {
              "color": "#EBF0F8"
             },
             "line": {
              "color": "white"
             }
            },
            "header": {
             "fill": {
              "color": "#C8D4E3"
             },
             "line": {
              "color": "white"
             }
            },
            "type": "table"
           }
          ]
         },
         "layout": {
          "annotationdefaults": {
           "arrowcolor": "#2a3f5f",
           "arrowhead": 0,
           "arrowwidth": 1
          },
          "autotypenumbers": "strict",
          "coloraxis": {
           "colorbar": {
            "outlinewidth": 0,
            "ticks": ""
           }
          },
          "colorscale": {
           "diverging": [
            [
             0,
             "#8e0152"
            ],
            [
             0.1,
             "#c51b7d"
            ],
            [
             0.2,
             "#de77ae"
            ],
            [
             0.3,
             "#f1b6da"
            ],
            [
             0.4,
             "#fde0ef"
            ],
            [
             0.5,
             "#f7f7f7"
            ],
            [
             0.6,
             "#e6f5d0"
            ],
            [
             0.7,
             "#b8e186"
            ],
            [
             0.8,
             "#7fbc41"
            ],
            [
             0.9,
             "#4d9221"
            ],
            [
             1,
             "#276419"
            ]
           ],
           "sequential": [
            [
             0,
             "#0d0887"
            ],
            [
             0.1111111111111111,
             "#46039f"
            ],
            [
             0.2222222222222222,
             "#7201a8"
            ],
            [
             0.3333333333333333,
             "#9c179e"
            ],
            [
             0.4444444444444444,
             "#bd3786"
            ],
            [
             0.5555555555555556,
             "#d8576b"
            ],
            [
             0.6666666666666666,
             "#ed7953"
            ],
            [
             0.7777777777777778,
             "#fb9f3a"
            ],
            [
             0.8888888888888888,
             "#fdca26"
            ],
            [
             1,
             "#f0f921"
            ]
           ],
           "sequentialminus": [
            [
             0,
             "#0d0887"
            ],
            [
             0.1111111111111111,
             "#46039f"
            ],
            [
             0.2222222222222222,
             "#7201a8"
            ],
            [
             0.3333333333333333,
             "#9c179e"
            ],
            [
             0.4444444444444444,
             "#bd3786"
            ],
            [
             0.5555555555555556,
             "#d8576b"
            ],
            [
             0.6666666666666666,
             "#ed7953"
            ],
            [
             0.7777777777777778,
             "#fb9f3a"
            ],
            [
             0.8888888888888888,
             "#fdca26"
            ],
            [
             1,
             "#f0f921"
            ]
           ]
          },
          "colorway": [
           "#636efa",
           "#EF553B",
           "#00cc96",
           "#ab63fa",
           "#FFA15A",
           "#19d3f3",
           "#FF6692",
           "#B6E880",
           "#FF97FF",
           "#FECB52"
          ],
          "font": {
           "color": "#2a3f5f"
          },
          "geo": {
           "bgcolor": "white",
           "lakecolor": "white",
           "landcolor": "#E5ECF6",
           "showlakes": true,
           "showland": true,
           "subunitcolor": "white"
          },
          "hoverlabel": {
           "align": "left"
          },
          "hovermode": "closest",
          "mapbox": {
           "style": "light"
          },
          "paper_bgcolor": "white",
          "plot_bgcolor": "#E5ECF6",
          "polar": {
           "angularaxis": {
            "gridcolor": "white",
            "linecolor": "white",
            "ticks": ""
           },
           "bgcolor": "#E5ECF6",
           "radialaxis": {
            "gridcolor": "white",
            "linecolor": "white",
            "ticks": ""
           }
          },
          "scene": {
           "xaxis": {
            "backgroundcolor": "#E5ECF6",
            "gridcolor": "white",
            "gridwidth": 2,
            "linecolor": "white",
            "showbackground": true,
            "ticks": "",
            "zerolinecolor": "white"
           },
           "yaxis": {
            "backgroundcolor": "#E5ECF6",
            "gridcolor": "white",
            "gridwidth": 2,
            "linecolor": "white",
            "showbackground": true,
            "ticks": "",
            "zerolinecolor": "white"
           },
           "zaxis": {
            "backgroundcolor": "#E5ECF6",
            "gridcolor": "white",
            "gridwidth": 2,
            "linecolor": "white",
            "showbackground": true,
            "ticks": "",
            "zerolinecolor": "white"
           }
          },
          "shapedefaults": {
           "line": {
            "color": "#2a3f5f"
           }
          },
          "ternary": {
           "aaxis": {
            "gridcolor": "white",
            "linecolor": "white",
            "ticks": ""
           },
           "baxis": {
            "gridcolor": "white",
            "linecolor": "white",
            "ticks": ""
           },
           "bgcolor": "#E5ECF6",
           "caxis": {
            "gridcolor": "white",
            "linecolor": "white",
            "ticks": ""
           }
          },
          "title": {
           "x": 0.05
          },
          "xaxis": {
           "automargin": true,
           "gridcolor": "white",
           "linecolor": "white",
           "ticks": "",
           "title": {
            "standoff": 15
           },
           "zerolinecolor": "white",
           "zerolinewidth": 2
          },
          "yaxis": {
           "automargin": true,
           "gridcolor": "white",
           "linecolor": "white",
           "ticks": "",
           "title": {
            "standoff": 15
           },
           "zerolinecolor": "white",
           "zerolinewidth": 2
          }
         }
        },
        "title": {
         "font": {
          "size": 15
         },
         "text": "Mid-Price of BTC/USDT:"
        },
        "xaxis": {
         "anchor": "y",
         "domain": [
          0,
          1
         ],
         "title": {
          "text": "timestamp"
         }
        },
        "xaxis2": {
         "anchor": "y2",
         "domain": [
          0,
          1
         ],
         "matches": "x",
         "showticklabels": false
        },
        "xaxis3": {
         "anchor": "y3",
         "domain": [
          0,
          1
         ],
         "matches": "x",
         "showticklabels": false
        },
        "yaxis": {
         "anchor": "x",
         "domain": [
          0,
          0.2866666666666666
         ],
         "title": {
          "text": "value"
         }
        },
        "yaxis2": {
         "anchor": "x2",
         "domain": [
          0.35666666666666663,
          0.6433333333333333
         ],
         "matches": "y",
         "title": {
          "text": "value"
         }
        },
        "yaxis3": {
         "anchor": "x3",
         "domain": [
          0.7133333333333333,
          0.9999999999999999
         ],
         "matches": "y",
         "title": {
          "text": "value"
         }
        }
       }
      }
     },
     "metadata": {},
     "output_type": "display_data"
    }
   ],
   "source": [
    "vs.Plot_line(MS_B, criptos[0], \"Mid-Price of\")"
   ]
  },
  {
   "cell_type": "code",
   "execution_count": 52,
   "metadata": {},
   "outputs": [
    {
     "data": {
      "application/vnd.plotly.v1+json": {
       "config": {
        "plotlyServerURL": "https://plot.ly"
       },
       "data": [
        {
         "hovertemplate": "variable=mid_price<br>exchange=binance<br>timestamp=%{x}<br>value=%{y}<extra></extra>",
         "legendgroup": "mid_price",
         "line": {
          "color": "#636efa",
          "dash": "solid"
         },
         "marker": {
          "symbol": "circle"
         },
         "mode": "lines",
         "name": "mid_price",
         "orientation": "v",
         "showlegend": true,
         "type": "scatter",
         "x": [
          "2022-11-10T06:17:10.539000",
          "2022-11-10T06:17:12.067000",
          "2022-11-10T06:17:13.847000",
          "2022-11-10T06:17:15.455000",
          "2022-11-10T06:17:17.408000",
          "2022-11-10T06:17:19.597000",
          "2022-11-10T06:17:21.202000",
          "2022-11-10T06:17:23.345000",
          "2022-11-10T06:17:25.079000",
          "2022-11-10T06:17:26.619000",
          "2022-11-10T06:17:28.258000",
          "2022-11-10T06:17:29.992000",
          "2022-11-10T06:17:31.944000",
          "2022-11-10T06:17:33.678000",
          "2022-11-10T06:17:35.221000",
          "2022-11-10T06:17:36.856000",
          "2022-11-10T06:17:38.593000",
          "2022-11-10T06:17:40.136000",
          "2022-11-10T06:17:41.772000",
          "2022-11-10T06:17:43.295000"
         ],
         "xaxis": "x3",
         "y": [
          1180.2849999999999,
          1180.4650000000001,
          1180.3850000000002,
          1180.1950000000002,
          1180.51,
          1180.505,
          1180.855,
          1180.955,
          1180.8049999999998,
          1180.7649999999999,
          1180.975,
          1180.8649999999998,
          1180.5349999999999,
          1180.5349999999999,
          1180.335,
          1180.165,
          1180.225,
          1179.545,
          1179.9050000000002,
          1179.705
         ],
         "yaxis": "y3"
        },
        {
         "hovertemplate": "variable=mid_price<br>exchange=ftx<br>timestamp=%{x}<br>value=%{y}<extra></extra>",
         "legendgroup": "mid_price",
         "line": {
          "color": "#636efa",
          "dash": "solid"
         },
         "marker": {
          "symbol": "circle"
         },
         "mode": "lines",
         "name": "mid_price",
         "orientation": "v",
         "showlegend": false,
         "type": "scatter",
         "x": [
          "2022-11-10T06:17:45.664000",
          "2022-11-10T06:17:47.805000",
          "2022-11-10T06:17:50.479000",
          "2022-11-10T06:17:52.932000",
          "2022-11-10T06:17:55.281000",
          "2022-11-10T06:17:57.531000",
          "2022-11-10T06:17:59.094000",
          "2022-11-10T06:18:03.042000",
          "2022-11-10T06:18:06.036000",
          "2022-11-10T06:18:07.777000",
          "2022-11-10T06:18:10.233000",
          "2022-11-10T06:18:12.140000",
          "2022-11-10T06:18:14.645000",
          "2022-11-10T06:18:17.303000",
          "2022-11-10T06:18:19.964000",
          "2022-11-10T06:18:22.942000",
          "2022-11-10T06:18:25.910000",
          "2022-11-10T06:18:28.353000",
          "2022-11-10T06:18:30.926000",
          "2022-11-10T06:18:32.660000"
         ],
         "xaxis": "x2",
         "y": [
          1189.75,
          1189.75,
          1189.8,
          1191,
          1191,
          1189.75,
          1189.75,
          1189.75,
          1189.75,
          1189.75,
          1189.75,
          1189.75,
          1189.75,
          1190.55,
          1190.55,
          1189.75,
          1190.55,
          1190.55,
          1190.55,
          1190.55
         ],
         "yaxis": "y2"
        },
        {
         "hovertemplate": "variable=mid_price<br>exchange=bytetrade<br>timestamp=%{x}<br>value=%{y}<extra></extra>",
         "legendgroup": "mid_price",
         "line": {
          "color": "#636efa",
          "dash": "solid"
         },
         "marker": {
          "symbol": "circle"
         },
         "mode": "lines",
         "name": "mid_price",
         "orientation": "v",
         "showlegend": false,
         "type": "scatter",
         "x": [
          "2022-11-10T06:18:34.493000",
          "2022-11-10T06:18:36.212000",
          "2022-11-10T06:18:38.092000",
          "2022-11-10T06:18:40.613000",
          "2022-11-10T06:18:42.393000",
          "2022-11-10T06:18:45.055000",
          "2022-11-10T06:18:46.670000",
          "2022-11-10T06:18:48.702000",
          "2022-11-10T06:18:50.489000",
          "2022-11-10T06:18:52.219000",
          "2022-11-10T06:18:54.268000",
          "2022-11-10T06:18:55.848000",
          "2022-11-10T06:18:57.754000",
          "2022-11-10T06:18:59.489000",
          "2022-11-10T06:19:01.449000",
          "2022-11-10T06:19:04.300000",
          "2022-11-10T06:19:06.243000",
          "2022-11-10T06:19:07.824000",
          "2022-11-10T06:19:10.250000",
          "2022-11-10T06:19:13.015000"
         ],
         "xaxis": "x",
         "y": [
          1181.185,
          1181.185,
          1181.185,
          1181.185,
          1181.185,
          1181.185,
          1181.185,
          1181.185,
          1181.185,
          1181.185,
          1181.185,
          1181.185,
          1181.185,
          1181.185,
          1181.185,
          1181.185,
          1181.185,
          1181.185,
          1181.185,
          1181.185
         ],
         "yaxis": "y"
        }
       ],
       "layout": {
        "annotations": [
         {
          "font": {},
          "showarrow": false,
          "text": "exchange=bytetrade",
          "x": 0.5,
          "xanchor": "center",
          "xref": "paper",
          "y": 0.2866666666666666,
          "yanchor": "bottom",
          "yref": "paper"
         },
         {
          "font": {},
          "showarrow": false,
          "text": "exchange=ftx",
          "x": 0.5,
          "xanchor": "center",
          "xref": "paper",
          "y": 0.6433333333333333,
          "yanchor": "bottom",
          "yref": "paper"
         },
         {
          "font": {},
          "showarrow": false,
          "text": "exchange=binance",
          "x": 0.5,
          "xanchor": "center",
          "xref": "paper",
          "y": 0.9999999999999999,
          "yanchor": "bottom",
          "yref": "paper"
         }
        ],
        "legend": {
         "title": {
          "text": "variable"
         },
         "tracegroupgap": 0
        },
        "margin": {
         "t": 60
        },
        "template": {
         "data": {
          "bar": [
           {
            "error_x": {
             "color": "#2a3f5f"
            },
            "error_y": {
             "color": "#2a3f5f"
            },
            "marker": {
             "line": {
              "color": "#E5ECF6",
              "width": 0.5
             },
             "pattern": {
              "fillmode": "overlay",
              "size": 10,
              "solidity": 0.2
             }
            },
            "type": "bar"
           }
          ],
          "barpolar": [
           {
            "marker": {
             "line": {
              "color": "#E5ECF6",
              "width": 0.5
             },
             "pattern": {
              "fillmode": "overlay",
              "size": 10,
              "solidity": 0.2
             }
            },
            "type": "barpolar"
           }
          ],
          "carpet": [
           {
            "aaxis": {
             "endlinecolor": "#2a3f5f",
             "gridcolor": "white",
             "linecolor": "white",
             "minorgridcolor": "white",
             "startlinecolor": "#2a3f5f"
            },
            "baxis": {
             "endlinecolor": "#2a3f5f",
             "gridcolor": "white",
             "linecolor": "white",
             "minorgridcolor": "white",
             "startlinecolor": "#2a3f5f"
            },
            "type": "carpet"
           }
          ],
          "choropleth": [
           {
            "colorbar": {
             "outlinewidth": 0,
             "ticks": ""
            },
            "type": "choropleth"
           }
          ],
          "contour": [
           {
            "colorbar": {
             "outlinewidth": 0,
             "ticks": ""
            },
            "colorscale": [
             [
              0,
              "#0d0887"
             ],
             [
              0.1111111111111111,
              "#46039f"
             ],
             [
              0.2222222222222222,
              "#7201a8"
             ],
             [
              0.3333333333333333,
              "#9c179e"
             ],
             [
              0.4444444444444444,
              "#bd3786"
             ],
             [
              0.5555555555555556,
              "#d8576b"
             ],
             [
              0.6666666666666666,
              "#ed7953"
             ],
             [
              0.7777777777777778,
              "#fb9f3a"
             ],
             [
              0.8888888888888888,
              "#fdca26"
             ],
             [
              1,
              "#f0f921"
             ]
            ],
            "type": "contour"
           }
          ],
          "contourcarpet": [
           {
            "colorbar": {
             "outlinewidth": 0,
             "ticks": ""
            },
            "type": "contourcarpet"
           }
          ],
          "heatmap": [
           {
            "colorbar": {
             "outlinewidth": 0,
             "ticks": ""
            },
            "colorscale": [
             [
              0,
              "#0d0887"
             ],
             [
              0.1111111111111111,
              "#46039f"
             ],
             [
              0.2222222222222222,
              "#7201a8"
             ],
             [
              0.3333333333333333,
              "#9c179e"
             ],
             [
              0.4444444444444444,
              "#bd3786"
             ],
             [
              0.5555555555555556,
              "#d8576b"
             ],
             [
              0.6666666666666666,
              "#ed7953"
             ],
             [
              0.7777777777777778,
              "#fb9f3a"
             ],
             [
              0.8888888888888888,
              "#fdca26"
             ],
             [
              1,
              "#f0f921"
             ]
            ],
            "type": "heatmap"
           }
          ],
          "heatmapgl": [
           {
            "colorbar": {
             "outlinewidth": 0,
             "ticks": ""
            },
            "colorscale": [
             [
              0,
              "#0d0887"
             ],
             [
              0.1111111111111111,
              "#46039f"
             ],
             [
              0.2222222222222222,
              "#7201a8"
             ],
             [
              0.3333333333333333,
              "#9c179e"
             ],
             [
              0.4444444444444444,
              "#bd3786"
             ],
             [
              0.5555555555555556,
              "#d8576b"
             ],
             [
              0.6666666666666666,
              "#ed7953"
             ],
             [
              0.7777777777777778,
              "#fb9f3a"
             ],
             [
              0.8888888888888888,
              "#fdca26"
             ],
             [
              1,
              "#f0f921"
             ]
            ],
            "type": "heatmapgl"
           }
          ],
          "histogram": [
           {
            "marker": {
             "pattern": {
              "fillmode": "overlay",
              "size": 10,
              "solidity": 0.2
             }
            },
            "type": "histogram"
           }
          ],
          "histogram2d": [
           {
            "colorbar": {
             "outlinewidth": 0,
             "ticks": ""
            },
            "colorscale": [
             [
              0,
              "#0d0887"
             ],
             [
              0.1111111111111111,
              "#46039f"
             ],
             [
              0.2222222222222222,
              "#7201a8"
             ],
             [
              0.3333333333333333,
              "#9c179e"
             ],
             [
              0.4444444444444444,
              "#bd3786"
             ],
             [
              0.5555555555555556,
              "#d8576b"
             ],
             [
              0.6666666666666666,
              "#ed7953"
             ],
             [
              0.7777777777777778,
              "#fb9f3a"
             ],
             [
              0.8888888888888888,
              "#fdca26"
             ],
             [
              1,
              "#f0f921"
             ]
            ],
            "type": "histogram2d"
           }
          ],
          "histogram2dcontour": [
           {
            "colorbar": {
             "outlinewidth": 0,
             "ticks": ""
            },
            "colorscale": [
             [
              0,
              "#0d0887"
             ],
             [
              0.1111111111111111,
              "#46039f"
             ],
             [
              0.2222222222222222,
              "#7201a8"
             ],
             [
              0.3333333333333333,
              "#9c179e"
             ],
             [
              0.4444444444444444,
              "#bd3786"
             ],
             [
              0.5555555555555556,
              "#d8576b"
             ],
             [
              0.6666666666666666,
              "#ed7953"
             ],
             [
              0.7777777777777778,
              "#fb9f3a"
             ],
             [
              0.8888888888888888,
              "#fdca26"
             ],
             [
              1,
              "#f0f921"
             ]
            ],
            "type": "histogram2dcontour"
           }
          ],
          "mesh3d": [
           {
            "colorbar": {
             "outlinewidth": 0,
             "ticks": ""
            },
            "type": "mesh3d"
           }
          ],
          "parcoords": [
           {
            "line": {
             "colorbar": {
              "outlinewidth": 0,
              "ticks": ""
             }
            },
            "type": "parcoords"
           }
          ],
          "pie": [
           {
            "automargin": true,
            "type": "pie"
           }
          ],
          "scatter": [
           {
            "marker": {
             "colorbar": {
              "outlinewidth": 0,
              "ticks": ""
             }
            },
            "type": "scatter"
           }
          ],
          "scatter3d": [
           {
            "line": {
             "colorbar": {
              "outlinewidth": 0,
              "ticks": ""
             }
            },
            "marker": {
             "colorbar": {
              "outlinewidth": 0,
              "ticks": ""
             }
            },
            "type": "scatter3d"
           }
          ],
          "scattercarpet": [
           {
            "marker": {
             "colorbar": {
              "outlinewidth": 0,
              "ticks": ""
             }
            },
            "type": "scattercarpet"
           }
          ],
          "scattergeo": [
           {
            "marker": {
             "colorbar": {
              "outlinewidth": 0,
              "ticks": ""
             }
            },
            "type": "scattergeo"
           }
          ],
          "scattergl": [
           {
            "marker": {
             "colorbar": {
              "outlinewidth": 0,
              "ticks": ""
             }
            },
            "type": "scattergl"
           }
          ],
          "scattermapbox": [
           {
            "marker": {
             "colorbar": {
              "outlinewidth": 0,
              "ticks": ""
             }
            },
            "type": "scattermapbox"
           }
          ],
          "scatterpolar": [
           {
            "marker": {
             "colorbar": {
              "outlinewidth": 0,
              "ticks": ""
             }
            },
            "type": "scatterpolar"
           }
          ],
          "scatterpolargl": [
           {
            "marker": {
             "colorbar": {
              "outlinewidth": 0,
              "ticks": ""
             }
            },
            "type": "scatterpolargl"
           }
          ],
          "scatterternary": [
           {
            "marker": {
             "colorbar": {
              "outlinewidth": 0,
              "ticks": ""
             }
            },
            "type": "scatterternary"
           }
          ],
          "surface": [
           {
            "colorbar": {
             "outlinewidth": 0,
             "ticks": ""
            },
            "colorscale": [
             [
              0,
              "#0d0887"
             ],
             [
              0.1111111111111111,
              "#46039f"
             ],
             [
              0.2222222222222222,
              "#7201a8"
             ],
             [
              0.3333333333333333,
              "#9c179e"
             ],
             [
              0.4444444444444444,
              "#bd3786"
             ],
             [
              0.5555555555555556,
              "#d8576b"
             ],
             [
              0.6666666666666666,
              "#ed7953"
             ],
             [
              0.7777777777777778,
              "#fb9f3a"
             ],
             [
              0.8888888888888888,
              "#fdca26"
             ],
             [
              1,
              "#f0f921"
             ]
            ],
            "type": "surface"
           }
          ],
          "table": [
           {
            "cells": {
             "fill": {
              "color": "#EBF0F8"
             },
             "line": {
              "color": "white"
             }
            },
            "header": {
             "fill": {
              "color": "#C8D4E3"
             },
             "line": {
              "color": "white"
             }
            },
            "type": "table"
           }
          ]
         },
         "layout": {
          "annotationdefaults": {
           "arrowcolor": "#2a3f5f",
           "arrowhead": 0,
           "arrowwidth": 1
          },
          "autotypenumbers": "strict",
          "coloraxis": {
           "colorbar": {
            "outlinewidth": 0,
            "ticks": ""
           }
          },
          "colorscale": {
           "diverging": [
            [
             0,
             "#8e0152"
            ],
            [
             0.1,
             "#c51b7d"
            ],
            [
             0.2,
             "#de77ae"
            ],
            [
             0.3,
             "#f1b6da"
            ],
            [
             0.4,
             "#fde0ef"
            ],
            [
             0.5,
             "#f7f7f7"
            ],
            [
             0.6,
             "#e6f5d0"
            ],
            [
             0.7,
             "#b8e186"
            ],
            [
             0.8,
             "#7fbc41"
            ],
            [
             0.9,
             "#4d9221"
            ],
            [
             1,
             "#276419"
            ]
           ],
           "sequential": [
            [
             0,
             "#0d0887"
            ],
            [
             0.1111111111111111,
             "#46039f"
            ],
            [
             0.2222222222222222,
             "#7201a8"
            ],
            [
             0.3333333333333333,
             "#9c179e"
            ],
            [
             0.4444444444444444,
             "#bd3786"
            ],
            [
             0.5555555555555556,
             "#d8576b"
            ],
            [
             0.6666666666666666,
             "#ed7953"
            ],
            [
             0.7777777777777778,
             "#fb9f3a"
            ],
            [
             0.8888888888888888,
             "#fdca26"
            ],
            [
             1,
             "#f0f921"
            ]
           ],
           "sequentialminus": [
            [
             0,
             "#0d0887"
            ],
            [
             0.1111111111111111,
             "#46039f"
            ],
            [
             0.2222222222222222,
             "#7201a8"
            ],
            [
             0.3333333333333333,
             "#9c179e"
            ],
            [
             0.4444444444444444,
             "#bd3786"
            ],
            [
             0.5555555555555556,
             "#d8576b"
            ],
            [
             0.6666666666666666,
             "#ed7953"
            ],
            [
             0.7777777777777778,
             "#fb9f3a"
            ],
            [
             0.8888888888888888,
             "#fdca26"
            ],
            [
             1,
             "#f0f921"
            ]
           ]
          },
          "colorway": [
           "#636efa",
           "#EF553B",
           "#00cc96",
           "#ab63fa",
           "#FFA15A",
           "#19d3f3",
           "#FF6692",
           "#B6E880",
           "#FF97FF",
           "#FECB52"
          ],
          "font": {
           "color": "#2a3f5f"
          },
          "geo": {
           "bgcolor": "white",
           "lakecolor": "white",
           "landcolor": "#E5ECF6",
           "showlakes": true,
           "showland": true,
           "subunitcolor": "white"
          },
          "hoverlabel": {
           "align": "left"
          },
          "hovermode": "closest",
          "mapbox": {
           "style": "light"
          },
          "paper_bgcolor": "white",
          "plot_bgcolor": "#E5ECF6",
          "polar": {
           "angularaxis": {
            "gridcolor": "white",
            "linecolor": "white",
            "ticks": ""
           },
           "bgcolor": "#E5ECF6",
           "radialaxis": {
            "gridcolor": "white",
            "linecolor": "white",
            "ticks": ""
           }
          },
          "scene": {
           "xaxis": {
            "backgroundcolor": "#E5ECF6",
            "gridcolor": "white",
            "gridwidth": 2,
            "linecolor": "white",
            "showbackground": true,
            "ticks": "",
            "zerolinecolor": "white"
           },
           "yaxis": {
            "backgroundcolor": "#E5ECF6",
            "gridcolor": "white",
            "gridwidth": 2,
            "linecolor": "white",
            "showbackground": true,
            "ticks": "",
            "zerolinecolor": "white"
           },
           "zaxis": {
            "backgroundcolor": "#E5ECF6",
            "gridcolor": "white",
            "gridwidth": 2,
            "linecolor": "white",
            "showbackground": true,
            "ticks": "",
            "zerolinecolor": "white"
           }
          },
          "shapedefaults": {
           "line": {
            "color": "#2a3f5f"
           }
          },
          "ternary": {
           "aaxis": {
            "gridcolor": "white",
            "linecolor": "white",
            "ticks": ""
           },
           "baxis": {
            "gridcolor": "white",
            "linecolor": "white",
            "ticks": ""
           },
           "bgcolor": "#E5ECF6",
           "caxis": {
            "gridcolor": "white",
            "linecolor": "white",
            "ticks": ""
           }
          },
          "title": {
           "x": 0.05
          },
          "xaxis": {
           "automargin": true,
           "gridcolor": "white",
           "linecolor": "white",
           "ticks": "",
           "title": {
            "standoff": 15
           },
           "zerolinecolor": "white",
           "zerolinewidth": 2
          },
          "yaxis": {
           "automargin": true,
           "gridcolor": "white",
           "linecolor": "white",
           "ticks": "",
           "title": {
            "standoff": 15
           },
           "zerolinecolor": "white",
           "zerolinewidth": 2
          }
         }
        },
        "title": {
         "font": {
          "size": 15
         },
         "text": "Mid-Price of ETH/USDT:"
        },
        "xaxis": {
         "anchor": "y",
         "domain": [
          0,
          1
         ],
         "title": {
          "text": "timestamp"
         }
        },
        "xaxis2": {
         "anchor": "y2",
         "domain": [
          0,
          1
         ],
         "matches": "x",
         "showticklabels": false
        },
        "xaxis3": {
         "anchor": "y3",
         "domain": [
          0,
          1
         ],
         "matches": "x",
         "showticklabels": false
        },
        "yaxis": {
         "anchor": "x",
         "domain": [
          0,
          0.2866666666666666
         ],
         "title": {
          "text": "value"
         }
        },
        "yaxis2": {
         "anchor": "x2",
         "domain": [
          0.35666666666666663,
          0.6433333333333333
         ],
         "matches": "y",
         "title": {
          "text": "value"
         }
        },
        "yaxis3": {
         "anchor": "x3",
         "domain": [
          0.7133333333333333,
          0.9999999999999999
         ],
         "matches": "y",
         "title": {
          "text": "value"
         }
        }
       }
      }
     },
     "metadata": {},
     "output_type": "display_data"
    }
   ],
   "source": [
    "vs.Plot_line(MS_E, criptos[1], \"Mid-Price of\")"
   ]
  },
  {
   "cell_type": "code",
   "execution_count": 53,
   "metadata": {},
   "outputs": [
    {
     "data": {
      "application/vnd.plotly.v1+json": {
       "config": {
        "plotlyServerURL": "https://plot.ly"
       },
       "data": [
        {
         "hovertemplate": "variable=mid_price<br>exchange=binance<br>timestamp=%{x}<br>value=%{y}<extra></extra>",
         "legendgroup": "mid_price",
         "line": {
          "color": "#636efa",
          "dash": "solid"
         },
         "marker": {
          "symbol": "circle"
         },
         "mode": "lines",
         "name": "mid_price",
         "orientation": "v",
         "showlegend": true,
         "type": "scatter",
         "x": [
          "2022-11-10T06:19:15.235000",
          "2022-11-10T06:19:16.795000",
          "2022-11-10T06:19:18.749000",
          "2022-11-10T06:19:20.899000",
          "2022-11-10T06:19:22.838000",
          "2022-11-10T06:19:24.681000",
          "2022-11-10T06:19:26.415000",
          "2022-11-10T06:19:27.958000",
          "2022-11-10T06:19:30.006000",
          "2022-11-10T06:19:31.750000",
          "2022-11-10T06:19:33.216000",
          "2022-11-10T06:19:34.929000",
          "2022-11-10T06:19:37.224000",
          "2022-11-10T06:19:39.937000",
          "2022-11-10T06:19:41.785000",
          "2022-11-10T06:19:43.427000",
          "2022-11-10T06:19:45.177000",
          "2022-11-10T06:19:46.797000",
          "2022-11-10T06:19:48.341000",
          "2022-11-10T06:19:49.852000"
         ],
         "xaxis": "x3",
         "y": [
          0.36895,
          0.36865000000000003,
          0.36875,
          0.36895,
          0.36905,
          0.36905,
          0.36905,
          0.36905,
          0.36885,
          0.36875,
          0.36875,
          0.36875,
          0.36855,
          0.36845,
          0.36845,
          0.36855,
          0.36905,
          0.36905,
          0.36935,
          0.36924999999999997
         ],
         "yaxis": "y3"
        },
        {
         "hovertemplate": "variable=mid_price<br>exchange=ftx<br>timestamp=%{x}<br>value=%{y}<extra></extra>",
         "legendgroup": "mid_price",
         "line": {
          "color": "#636efa",
          "dash": "solid"
         },
         "marker": {
          "symbol": "circle"
         },
         "mode": "lines",
         "name": "mid_price",
         "orientation": "v",
         "showlegend": false,
         "type": "scatter",
         "x": [
          "2022-11-10T06:19:51.823000",
          "2022-11-10T06:19:53.763000",
          "2022-11-10T06:19:57.170000",
          "2022-11-10T06:19:58.632000",
          "2022-11-10T06:20:01.873000",
          "2022-11-10T06:20:05.041000",
          "2022-11-10T06:20:08.313000",
          "2022-11-10T06:20:10.564000",
          "2022-11-10T06:20:13.137000",
          "2022-11-10T06:20:15.004000",
          "2022-11-10T06:20:17.038000",
          "2022-11-10T06:20:18.714000",
          "2022-11-10T06:20:20.630000",
          "2022-11-10T06:20:22.791000",
          "2022-11-10T06:20:25.699000",
          "2022-11-10T06:20:27.431000",
          "2022-11-10T06:20:29.701000",
          "2022-11-10T06:20:32.069000",
          "2022-11-10T06:20:34.310000",
          "2022-11-10T06:20:36.827000"
         ],
         "xaxis": "x2",
         "y": [
          0.3504125,
          0.3504125,
          0.35125,
          0.35125,
          0.351475,
          0.351475,
          0.351475,
          0.351475,
          0.35155000000000003,
          0.3518125,
          0.3518,
          0.3518,
          0.352,
          0.352,
          0.352,
          0.3519875,
          0.352,
          0.3519875,
          0.352,
          0.352
         ],
         "yaxis": "y2"
        },
        {
         "hovertemplate": "variable=mid_price<br>exchange=bytetrade<br>timestamp=%{x}<br>value=%{y}<extra></extra>",
         "legendgroup": "mid_price",
         "line": {
          "color": "#636efa",
          "dash": "solid"
         },
         "marker": {
          "symbol": "circle"
         },
         "mode": "lines",
         "name": "mid_price",
         "orientation": "v",
         "showlegend": false,
         "type": "scatter",
         "x": [
          "2022-11-10T06:20:38.851000",
          "2022-11-10T06:20:41.324000",
          "2022-11-10T06:20:43.209000",
          "2022-11-10T06:20:44.688000",
          "2022-11-10T06:20:46.217000",
          "2022-11-10T06:20:48.887000",
          "2022-11-10T06:20:51.071000",
          "2022-11-10T06:20:52.847000",
          "2022-11-10T06:20:54.656000",
          "2022-11-10T06:20:56.446000",
          "2022-11-10T06:20:58.993000",
          "2022-11-10T06:21:00.702000",
          "2022-11-10T06:21:02.585000",
          "2022-11-10T06:21:04.325000",
          "2022-11-10T06:21:05.905000",
          "2022-11-10T06:21:08.572000",
          "2022-11-10T06:21:10.328000",
          "2022-11-10T06:21:11.966000",
          "2022-11-10T06:21:13.403000",
          "2022-11-10T06:21:15.050000"
         ],
         "xaxis": "x",
         "y": [
          0.371863,
          0.371863,
          0.371863,
          0.371863,
          0.371863,
          0.371863,
          0.371863,
          0.371863,
          0.371863,
          0.371863,
          0.371863,
          0.371863,
          0.371863,
          0.371863,
          0.371863,
          0.371863,
          0.371863,
          0.371863,
          0.371863,
          0.371863
         ],
         "yaxis": "y"
        }
       ],
       "layout": {
        "annotations": [
         {
          "font": {},
          "showarrow": false,
          "text": "exchange=bytetrade",
          "x": 0.5,
          "xanchor": "center",
          "xref": "paper",
          "y": 0.2866666666666666,
          "yanchor": "bottom",
          "yref": "paper"
         },
         {
          "font": {},
          "showarrow": false,
          "text": "exchange=ftx",
          "x": 0.5,
          "xanchor": "center",
          "xref": "paper",
          "y": 0.6433333333333333,
          "yanchor": "bottom",
          "yref": "paper"
         },
         {
          "font": {},
          "showarrow": false,
          "text": "exchange=binance",
          "x": 0.5,
          "xanchor": "center",
          "xref": "paper",
          "y": 0.9999999999999999,
          "yanchor": "bottom",
          "yref": "paper"
         }
        ],
        "legend": {
         "title": {
          "text": "variable"
         },
         "tracegroupgap": 0
        },
        "margin": {
         "t": 60
        },
        "template": {
         "data": {
          "bar": [
           {
            "error_x": {
             "color": "#2a3f5f"
            },
            "error_y": {
             "color": "#2a3f5f"
            },
            "marker": {
             "line": {
              "color": "#E5ECF6",
              "width": 0.5
             },
             "pattern": {
              "fillmode": "overlay",
              "size": 10,
              "solidity": 0.2
             }
            },
            "type": "bar"
           }
          ],
          "barpolar": [
           {
            "marker": {
             "line": {
              "color": "#E5ECF6",
              "width": 0.5
             },
             "pattern": {
              "fillmode": "overlay",
              "size": 10,
              "solidity": 0.2
             }
            },
            "type": "barpolar"
           }
          ],
          "carpet": [
           {
            "aaxis": {
             "endlinecolor": "#2a3f5f",
             "gridcolor": "white",
             "linecolor": "white",
             "minorgridcolor": "white",
             "startlinecolor": "#2a3f5f"
            },
            "baxis": {
             "endlinecolor": "#2a3f5f",
             "gridcolor": "white",
             "linecolor": "white",
             "minorgridcolor": "white",
             "startlinecolor": "#2a3f5f"
            },
            "type": "carpet"
           }
          ],
          "choropleth": [
           {
            "colorbar": {
             "outlinewidth": 0,
             "ticks": ""
            },
            "type": "choropleth"
           }
          ],
          "contour": [
           {
            "colorbar": {
             "outlinewidth": 0,
             "ticks": ""
            },
            "colorscale": [
             [
              0,
              "#0d0887"
             ],
             [
              0.1111111111111111,
              "#46039f"
             ],
             [
              0.2222222222222222,
              "#7201a8"
             ],
             [
              0.3333333333333333,
              "#9c179e"
             ],
             [
              0.4444444444444444,
              "#bd3786"
             ],
             [
              0.5555555555555556,
              "#d8576b"
             ],
             [
              0.6666666666666666,
              "#ed7953"
             ],
             [
              0.7777777777777778,
              "#fb9f3a"
             ],
             [
              0.8888888888888888,
              "#fdca26"
             ],
             [
              1,
              "#f0f921"
             ]
            ],
            "type": "contour"
           }
          ],
          "contourcarpet": [
           {
            "colorbar": {
             "outlinewidth": 0,
             "ticks": ""
            },
            "type": "contourcarpet"
           }
          ],
          "heatmap": [
           {
            "colorbar": {
             "outlinewidth": 0,
             "ticks": ""
            },
            "colorscale": [
             [
              0,
              "#0d0887"
             ],
             [
              0.1111111111111111,
              "#46039f"
             ],
             [
              0.2222222222222222,
              "#7201a8"
             ],
             [
              0.3333333333333333,
              "#9c179e"
             ],
             [
              0.4444444444444444,
              "#bd3786"
             ],
             [
              0.5555555555555556,
              "#d8576b"
             ],
             [
              0.6666666666666666,
              "#ed7953"
             ],
             [
              0.7777777777777778,
              "#fb9f3a"
             ],
             [
              0.8888888888888888,
              "#fdca26"
             ],
             [
              1,
              "#f0f921"
             ]
            ],
            "type": "heatmap"
           }
          ],
          "heatmapgl": [
           {
            "colorbar": {
             "outlinewidth": 0,
             "ticks": ""
            },
            "colorscale": [
             [
              0,
              "#0d0887"
             ],
             [
              0.1111111111111111,
              "#46039f"
             ],
             [
              0.2222222222222222,
              "#7201a8"
             ],
             [
              0.3333333333333333,
              "#9c179e"
             ],
             [
              0.4444444444444444,
              "#bd3786"
             ],
             [
              0.5555555555555556,
              "#d8576b"
             ],
             [
              0.6666666666666666,
              "#ed7953"
             ],
             [
              0.7777777777777778,
              "#fb9f3a"
             ],
             [
              0.8888888888888888,
              "#fdca26"
             ],
             [
              1,
              "#f0f921"
             ]
            ],
            "type": "heatmapgl"
           }
          ],
          "histogram": [
           {
            "marker": {
             "pattern": {
              "fillmode": "overlay",
              "size": 10,
              "solidity": 0.2
             }
            },
            "type": "histogram"
           }
          ],
          "histogram2d": [
           {
            "colorbar": {
             "outlinewidth": 0,
             "ticks": ""
            },
            "colorscale": [
             [
              0,
              "#0d0887"
             ],
             [
              0.1111111111111111,
              "#46039f"
             ],
             [
              0.2222222222222222,
              "#7201a8"
             ],
             [
              0.3333333333333333,
              "#9c179e"
             ],
             [
              0.4444444444444444,
              "#bd3786"
             ],
             [
              0.5555555555555556,
              "#d8576b"
             ],
             [
              0.6666666666666666,
              "#ed7953"
             ],
             [
              0.7777777777777778,
              "#fb9f3a"
             ],
             [
              0.8888888888888888,
              "#fdca26"
             ],
             [
              1,
              "#f0f921"
             ]
            ],
            "type": "histogram2d"
           }
          ],
          "histogram2dcontour": [
           {
            "colorbar": {
             "outlinewidth": 0,
             "ticks": ""
            },
            "colorscale": [
             [
              0,
              "#0d0887"
             ],
             [
              0.1111111111111111,
              "#46039f"
             ],
             [
              0.2222222222222222,
              "#7201a8"
             ],
             [
              0.3333333333333333,
              "#9c179e"
             ],
             [
              0.4444444444444444,
              "#bd3786"
             ],
             [
              0.5555555555555556,
              "#d8576b"
             ],
             [
              0.6666666666666666,
              "#ed7953"
             ],
             [
              0.7777777777777778,
              "#fb9f3a"
             ],
             [
              0.8888888888888888,
              "#fdca26"
             ],
             [
              1,
              "#f0f921"
             ]
            ],
            "type": "histogram2dcontour"
           }
          ],
          "mesh3d": [
           {
            "colorbar": {
             "outlinewidth": 0,
             "ticks": ""
            },
            "type": "mesh3d"
           }
          ],
          "parcoords": [
           {
            "line": {
             "colorbar": {
              "outlinewidth": 0,
              "ticks": ""
             }
            },
            "type": "parcoords"
           }
          ],
          "pie": [
           {
            "automargin": true,
            "type": "pie"
           }
          ],
          "scatter": [
           {
            "marker": {
             "colorbar": {
              "outlinewidth": 0,
              "ticks": ""
             }
            },
            "type": "scatter"
           }
          ],
          "scatter3d": [
           {
            "line": {
             "colorbar": {
              "outlinewidth": 0,
              "ticks": ""
             }
            },
            "marker": {
             "colorbar": {
              "outlinewidth": 0,
              "ticks": ""
             }
            },
            "type": "scatter3d"
           }
          ],
          "scattercarpet": [
           {
            "marker": {
             "colorbar": {
              "outlinewidth": 0,
              "ticks": ""
             }
            },
            "type": "scattercarpet"
           }
          ],
          "scattergeo": [
           {
            "marker": {
             "colorbar": {
              "outlinewidth": 0,
              "ticks": ""
             }
            },
            "type": "scattergeo"
           }
          ],
          "scattergl": [
           {
            "marker": {
             "colorbar": {
              "outlinewidth": 0,
              "ticks": ""
             }
            },
            "type": "scattergl"
           }
          ],
          "scattermapbox": [
           {
            "marker": {
             "colorbar": {
              "outlinewidth": 0,
              "ticks": ""
             }
            },
            "type": "scattermapbox"
           }
          ],
          "scatterpolar": [
           {
            "marker": {
             "colorbar": {
              "outlinewidth": 0,
              "ticks": ""
             }
            },
            "type": "scatterpolar"
           }
          ],
          "scatterpolargl": [
           {
            "marker": {
             "colorbar": {
              "outlinewidth": 0,
              "ticks": ""
             }
            },
            "type": "scatterpolargl"
           }
          ],
          "scatterternary": [
           {
            "marker": {
             "colorbar": {
              "outlinewidth": 0,
              "ticks": ""
             }
            },
            "type": "scatterternary"
           }
          ],
          "surface": [
           {
            "colorbar": {
             "outlinewidth": 0,
             "ticks": ""
            },
            "colorscale": [
             [
              0,
              "#0d0887"
             ],
             [
              0.1111111111111111,
              "#46039f"
             ],
             [
              0.2222222222222222,
              "#7201a8"
             ],
             [
              0.3333333333333333,
              "#9c179e"
             ],
             [
              0.4444444444444444,
              "#bd3786"
             ],
             [
              0.5555555555555556,
              "#d8576b"
             ],
             [
              0.6666666666666666,
              "#ed7953"
             ],
             [
              0.7777777777777778,
              "#fb9f3a"
             ],
             [
              0.8888888888888888,
              "#fdca26"
             ],
             [
              1,
              "#f0f921"
             ]
            ],
            "type": "surface"
           }
          ],
          "table": [
           {
            "cells": {
             "fill": {
              "color": "#EBF0F8"
             },
             "line": {
              "color": "white"
             }
            },
            "header": {
             "fill": {
              "color": "#C8D4E3"
             },
             "line": {
              "color": "white"
             }
            },
            "type": "table"
           }
          ]
         },
         "layout": {
          "annotationdefaults": {
           "arrowcolor": "#2a3f5f",
           "arrowhead": 0,
           "arrowwidth": 1
          },
          "autotypenumbers": "strict",
          "coloraxis": {
           "colorbar": {
            "outlinewidth": 0,
            "ticks": ""
           }
          },
          "colorscale": {
           "diverging": [
            [
             0,
             "#8e0152"
            ],
            [
             0.1,
             "#c51b7d"
            ],
            [
             0.2,
             "#de77ae"
            ],
            [
             0.3,
             "#f1b6da"
            ],
            [
             0.4,
             "#fde0ef"
            ],
            [
             0.5,
             "#f7f7f7"
            ],
            [
             0.6,
             "#e6f5d0"
            ],
            [
             0.7,
             "#b8e186"
            ],
            [
             0.8,
             "#7fbc41"
            ],
            [
             0.9,
             "#4d9221"
            ],
            [
             1,
             "#276419"
            ]
           ],
           "sequential": [
            [
             0,
             "#0d0887"
            ],
            [
             0.1111111111111111,
             "#46039f"
            ],
            [
             0.2222222222222222,
             "#7201a8"
            ],
            [
             0.3333333333333333,
             "#9c179e"
            ],
            [
             0.4444444444444444,
             "#bd3786"
            ],
            [
             0.5555555555555556,
             "#d8576b"
            ],
            [
             0.6666666666666666,
             "#ed7953"
            ],
            [
             0.7777777777777778,
             "#fb9f3a"
            ],
            [
             0.8888888888888888,
             "#fdca26"
            ],
            [
             1,
             "#f0f921"
            ]
           ],
           "sequentialminus": [
            [
             0,
             "#0d0887"
            ],
            [
             0.1111111111111111,
             "#46039f"
            ],
            [
             0.2222222222222222,
             "#7201a8"
            ],
            [
             0.3333333333333333,
             "#9c179e"
            ],
            [
             0.4444444444444444,
             "#bd3786"
            ],
            [
             0.5555555555555556,
             "#d8576b"
            ],
            [
             0.6666666666666666,
             "#ed7953"
            ],
            [
             0.7777777777777778,
             "#fb9f3a"
            ],
            [
             0.8888888888888888,
             "#fdca26"
            ],
            [
             1,
             "#f0f921"
            ]
           ]
          },
          "colorway": [
           "#636efa",
           "#EF553B",
           "#00cc96",
           "#ab63fa",
           "#FFA15A",
           "#19d3f3",
           "#FF6692",
           "#B6E880",
           "#FF97FF",
           "#FECB52"
          ],
          "font": {
           "color": "#2a3f5f"
          },
          "geo": {
           "bgcolor": "white",
           "lakecolor": "white",
           "landcolor": "#E5ECF6",
           "showlakes": true,
           "showland": true,
           "subunitcolor": "white"
          },
          "hoverlabel": {
           "align": "left"
          },
          "hovermode": "closest",
          "mapbox": {
           "style": "light"
          },
          "paper_bgcolor": "white",
          "plot_bgcolor": "#E5ECF6",
          "polar": {
           "angularaxis": {
            "gridcolor": "white",
            "linecolor": "white",
            "ticks": ""
           },
           "bgcolor": "#E5ECF6",
           "radialaxis": {
            "gridcolor": "white",
            "linecolor": "white",
            "ticks": ""
           }
          },
          "scene": {
           "xaxis": {
            "backgroundcolor": "#E5ECF6",
            "gridcolor": "white",
            "gridwidth": 2,
            "linecolor": "white",
            "showbackground": true,
            "ticks": "",
            "zerolinecolor": "white"
           },
           "yaxis": {
            "backgroundcolor": "#E5ECF6",
            "gridcolor": "white",
            "gridwidth": 2,
            "linecolor": "white",
            "showbackground": true,
            "ticks": "",
            "zerolinecolor": "white"
           },
           "zaxis": {
            "backgroundcolor": "#E5ECF6",
            "gridcolor": "white",
            "gridwidth": 2,
            "linecolor": "white",
            "showbackground": true,
            "ticks": "",
            "zerolinecolor": "white"
           }
          },
          "shapedefaults": {
           "line": {
            "color": "#2a3f5f"
           }
          },
          "ternary": {
           "aaxis": {
            "gridcolor": "white",
            "linecolor": "white",
            "ticks": ""
           },
           "baxis": {
            "gridcolor": "white",
            "linecolor": "white",
            "ticks": ""
           },
           "bgcolor": "#E5ECF6",
           "caxis": {
            "gridcolor": "white",
            "linecolor": "white",
            "ticks": ""
           }
          },
          "title": {
           "x": 0.05
          },
          "xaxis": {
           "automargin": true,
           "gridcolor": "white",
           "linecolor": "white",
           "ticks": "",
           "title": {
            "standoff": 15
           },
           "zerolinecolor": "white",
           "zerolinewidth": 2
          },
          "yaxis": {
           "automargin": true,
           "gridcolor": "white",
           "linecolor": "white",
           "ticks": "",
           "title": {
            "standoff": 15
           },
           "zerolinecolor": "white",
           "zerolinewidth": 2
          }
         }
        },
        "title": {
         "font": {
          "size": 15
         },
         "text": "Mid-Price of XRP/USDT:"
        },
        "xaxis": {
         "anchor": "y",
         "domain": [
          0,
          1
         ],
         "title": {
          "text": "timestamp"
         }
        },
        "xaxis2": {
         "anchor": "y2",
         "domain": [
          0,
          1
         ],
         "matches": "x",
         "showticklabels": false
        },
        "xaxis3": {
         "anchor": "y3",
         "domain": [
          0,
          1
         ],
         "matches": "x",
         "showticklabels": false
        },
        "yaxis": {
         "anchor": "x",
         "domain": [
          0,
          0.2866666666666666
         ],
         "title": {
          "text": "value"
         }
        },
        "yaxis2": {
         "anchor": "x2",
         "domain": [
          0.35666666666666663,
          0.6433333333333333
         ],
         "matches": "y",
         "title": {
          "text": "value"
         }
        },
        "yaxis3": {
         "anchor": "x3",
         "domain": [
          0.7133333333333333,
          0.9999999999999999
         ],
         "matches": "y",
         "title": {
          "text": "value"
         }
        }
       }
      }
     },
     "metadata": {},
     "output_type": "display_data"
    }
   ],
   "source": [
    "vs.Plot_line(MS_X, criptos[2], \"Mid-Price of\")"
   ]
  },
  {
   "cell_type": "markdown",
   "metadata": {},
   "source": [
    "As it can be appreciated, Mid-Prices have different values in every exchange. Given this fact, there are entities that aim to reduce the spread between exchanges and they intervene creating virtual demand but let's not ignore that this is also traduced into gains for them also known as market makers."
   ]
  },
  {
   "cell_type": "markdown",
   "metadata": {},
   "source": [
    "<font color= orange> <font size = 5> 3. Microstructure Modelling: </font>"
   ]
  },
  {
   "cell_type": "markdown",
   "metadata": {},
   "source": [
    "<strong> \n",
    "<font color= lightgreen> <font size = 3> Progress check 3  </font> <strong>"
   ]
  },
  {
   "cell_type": "markdown",
   "metadata": {},
   "source": [
    "<font color= lightblue> <font size = 2> BTC Spreads </font>"
   ]
  },
  {
   "cell_type": "code",
   "execution_count": 280,
   "metadata": {},
   "outputs": [
    {
     "data": {
      "text/html": [
       "<div>\n",
       "<style scoped>\n",
       "    .dataframe tbody tr th:only-of-type {\n",
       "        vertical-align: middle;\n",
       "    }\n",
       "\n",
       "    .dataframe tbody tr th {\n",
       "        vertical-align: top;\n",
       "    }\n",
       "\n",
       "    .dataframe thead th {\n",
       "        text-align: right;\n",
       "    }\n",
       "</style>\n",
       "<table border=\"1\" class=\"dataframe\">\n",
       "  <thead>\n",
       "    <tr style=\"text-align: right;\">\n",
       "      <th></th>\n",
       "      <th>exchange</th>\n",
       "      <th>timestamp</th>\n",
       "      <th>close_price</th>\n",
       "      <th>spread</th>\n",
       "      <th>effective spread</th>\n",
       "    </tr>\n",
       "  </thead>\n",
       "  <tbody>\n",
       "    <tr>\n",
       "      <th>0</th>\n",
       "      <td>binance</td>\n",
       "      <td>2022-11-10T06:06:12.804</td>\n",
       "      <td>16731.33</td>\n",
       "      <td>0.20</td>\n",
       "      <td>0.760614</td>\n",
       "    </tr>\n",
       "    <tr>\n",
       "      <th>1</th>\n",
       "      <td>binance</td>\n",
       "      <td>2022-11-10T06:06:15.445</td>\n",
       "      <td>16727.13</td>\n",
       "      <td>0.47</td>\n",
       "      <td>5.093709</td>\n",
       "    </tr>\n",
       "    <tr>\n",
       "      <th>2</th>\n",
       "      <td>binance</td>\n",
       "      <td>2022-11-10T06:06:17.897</td>\n",
       "      <td>16726.48</td>\n",
       "      <td>0.53</td>\n",
       "      <td>4.735624</td>\n",
       "    </tr>\n",
       "    <tr>\n",
       "      <th>3</th>\n",
       "      <td>binance</td>\n",
       "      <td>2022-11-10T06:06:20.871</td>\n",
       "      <td>16725.08</td>\n",
       "      <td>0.53</td>\n",
       "      <td>1.139883</td>\n",
       "    </tr>\n",
       "    <tr>\n",
       "      <th>4</th>\n",
       "      <td>binance</td>\n",
       "      <td>2022-11-10T06:06:23.537</td>\n",
       "      <td>16727.82</td>\n",
       "      <td>1.59</td>\n",
       "      <td>3.140679</td>\n",
       "    </tr>\n",
       "    <tr>\n",
       "      <th>5</th>\n",
       "      <td>binance</td>\n",
       "      <td>2022-11-10T06:06:26.200</td>\n",
       "      <td>16728.08</td>\n",
       "      <td>1.00</td>\n",
       "      <td>3.248384</td>\n",
       "    </tr>\n",
       "    <tr>\n",
       "      <th>6</th>\n",
       "      <td>binance</td>\n",
       "      <td>2022-11-10T06:06:29.400</td>\n",
       "      <td>16725.75</td>\n",
       "      <td>0.74</td>\n",
       "      <td>2.481048</td>\n",
       "    </tr>\n",
       "    <tr>\n",
       "      <th>7</th>\n",
       "      <td>binance</td>\n",
       "      <td>2022-11-10T06:06:31.892</td>\n",
       "      <td>16732.71</td>\n",
       "      <td>1.03</td>\n",
       "      <td>4.286319</td>\n",
       "    </tr>\n",
       "    <tr>\n",
       "      <th>8</th>\n",
       "      <td>binance</td>\n",
       "      <td>2022-11-10T06:06:34.739</td>\n",
       "      <td>16725.89</td>\n",
       "      <td>1.48</td>\n",
       "      <td>6.277399</td>\n",
       "    </tr>\n",
       "    <tr>\n",
       "      <th>9</th>\n",
       "      <td>binance</td>\n",
       "      <td>2022-11-10T06:06:37.440</td>\n",
       "      <td>16727.37</td>\n",
       "      <td>1.11</td>\n",
       "      <td>6.727397</td>\n",
       "    </tr>\n",
       "    <tr>\n",
       "      <th>10</th>\n",
       "      <td>binance</td>\n",
       "      <td>2022-11-10T06:06:39.977</td>\n",
       "      <td>16726.59</td>\n",
       "      <td>0.36</td>\n",
       "      <td>3.173662</td>\n",
       "    </tr>\n",
       "    <tr>\n",
       "      <th>11</th>\n",
       "      <td>binance</td>\n",
       "      <td>2022-11-10T06:06:42.435</td>\n",
       "      <td>16724.27</td>\n",
       "      <td>0.60</td>\n",
       "      <td>4.202158</td>\n",
       "    </tr>\n",
       "    <tr>\n",
       "      <th>12</th>\n",
       "      <td>binance</td>\n",
       "      <td>2022-11-10T06:06:44.847</td>\n",
       "      <td>16723.45</td>\n",
       "      <td>1.95</td>\n",
       "      <td>4.530372</td>\n",
       "    </tr>\n",
       "    <tr>\n",
       "      <th>13</th>\n",
       "      <td>binance</td>\n",
       "      <td>2022-11-10T06:06:47.372</td>\n",
       "      <td>16722.09</td>\n",
       "      <td>0.96</td>\n",
       "      <td>2.925839</td>\n",
       "    </tr>\n",
       "    <tr>\n",
       "      <th>14</th>\n",
       "      <td>binance</td>\n",
       "      <td>2022-11-10T06:06:49.956</td>\n",
       "      <td>16731.40</td>\n",
       "      <td>2.41</td>\n",
       "      <td>1.087382</td>\n",
       "    </tr>\n",
       "    <tr>\n",
       "      <th>15</th>\n",
       "      <td>ftx</td>\n",
       "      <td>2022-11-10T06:06:53.414</td>\n",
       "      <td>16336.00</td>\n",
       "      <td>43.00</td>\n",
       "      <td>6.324682</td>\n",
       "    </tr>\n",
       "    <tr>\n",
       "      <th>16</th>\n",
       "      <td>ftx</td>\n",
       "      <td>2022-11-10T06:06:57.463</td>\n",
       "      <td>16321.00</td>\n",
       "      <td>43.00</td>\n",
       "      <td>40.141139</td>\n",
       "    </tr>\n",
       "    <tr>\n",
       "      <th>17</th>\n",
       "      <td>ftx</td>\n",
       "      <td>2022-11-10T06:07:00.431</td>\n",
       "      <td>16321.00</td>\n",
       "      <td>39.00</td>\n",
       "      <td>35.374235</td>\n",
       "    </tr>\n",
       "    <tr>\n",
       "      <th>18</th>\n",
       "      <td>ftx</td>\n",
       "      <td>2022-11-10T06:07:03.324</td>\n",
       "      <td>16321.00</td>\n",
       "      <td>39.00</td>\n",
       "      <td>30.491500</td>\n",
       "    </tr>\n",
       "    <tr>\n",
       "      <th>19</th>\n",
       "      <td>ftx</td>\n",
       "      <td>2022-11-10T06:07:05.627</td>\n",
       "      <td>16321.00</td>\n",
       "      <td>39.00</td>\n",
       "      <td>24.166589</td>\n",
       "    </tr>\n",
       "    <tr>\n",
       "      <th>20</th>\n",
       "      <td>ftx</td>\n",
       "      <td>2022-11-10T06:07:09.043</td>\n",
       "      <td>16331.00</td>\n",
       "      <td>33.00</td>\n",
       "      <td>4.837355</td>\n",
       "    </tr>\n",
       "    <tr>\n",
       "      <th>21</th>\n",
       "      <td>ftx</td>\n",
       "      <td>2022-11-10T06:07:13.929</td>\n",
       "      <td>16348.00</td>\n",
       "      <td>47.00</td>\n",
       "      <td>6.324555</td>\n",
       "    </tr>\n",
       "    <tr>\n",
       "      <th>22</th>\n",
       "      <td>ftx</td>\n",
       "      <td>2022-11-10T06:07:17.483</td>\n",
       "      <td>16301.00</td>\n",
       "      <td>83.00</td>\n",
       "      <td>5.853774</td>\n",
       "    </tr>\n",
       "    <tr>\n",
       "      <th>23</th>\n",
       "      <td>ftx</td>\n",
       "      <td>2022-11-10T06:07:21.431</td>\n",
       "      <td>16362.00</td>\n",
       "      <td>33.00</td>\n",
       "      <td>16.346661</td>\n",
       "    </tr>\n",
       "    <tr>\n",
       "      <th>24</th>\n",
       "      <td>ftx</td>\n",
       "      <td>2022-11-10T06:07:25.429</td>\n",
       "      <td>16308.00</td>\n",
       "      <td>77.00</td>\n",
       "      <td>19.518538</td>\n",
       "    </tr>\n",
       "    <tr>\n",
       "      <th>25</th>\n",
       "      <td>ftx</td>\n",
       "      <td>2022-11-10T06:07:28.392</td>\n",
       "      <td>16282.00</td>\n",
       "      <td>71.00</td>\n",
       "      <td>17.102047</td>\n",
       "    </tr>\n",
       "    <tr>\n",
       "      <th>26</th>\n",
       "      <td>ftx</td>\n",
       "      <td>2022-11-10T06:07:30.984</td>\n",
       "      <td>16330.00</td>\n",
       "      <td>36.00</td>\n",
       "      <td>11.337842</td>\n",
       "    </tr>\n",
       "    <tr>\n",
       "      <th>27</th>\n",
       "      <td>ftx</td>\n",
       "      <td>2022-11-10T06:07:35.194</td>\n",
       "      <td>16317.00</td>\n",
       "      <td>17.00</td>\n",
       "      <td>22.202402</td>\n",
       "    </tr>\n",
       "    <tr>\n",
       "      <th>28</th>\n",
       "      <td>ftx</td>\n",
       "      <td>2022-11-10T06:07:39.152</td>\n",
       "      <td>16316.00</td>\n",
       "      <td>17.00</td>\n",
       "      <td>15.534049</td>\n",
       "    </tr>\n",
       "    <tr>\n",
       "      <th>29</th>\n",
       "      <td>ftx</td>\n",
       "      <td>2022-11-10T06:07:42.611</td>\n",
       "      <td>16333.00</td>\n",
       "      <td>17.00</td>\n",
       "      <td>10.279429</td>\n",
       "    </tr>\n",
       "    <tr>\n",
       "      <th>30</th>\n",
       "      <td>ftx</td>\n",
       "      <td>2022-11-10T06:07:46.622</td>\n",
       "      <td>16321.00</td>\n",
       "      <td>12.00</td>\n",
       "      <td>13.216656</td>\n",
       "    </tr>\n",
       "    <tr>\n",
       "      <th>31</th>\n",
       "      <td>ftx</td>\n",
       "      <td>2022-11-10T06:07:51.255</td>\n",
       "      <td>16338.00</td>\n",
       "      <td>10.00</td>\n",
       "      <td>11.110356</td>\n",
       "    </tr>\n",
       "    <tr>\n",
       "      <th>32</th>\n",
       "      <td>ftx</td>\n",
       "      <td>2022-11-10T06:07:56.182</td>\n",
       "      <td>16335.00</td>\n",
       "      <td>32.00</td>\n",
       "      <td>8.351447</td>\n",
       "    </tr>\n",
       "    <tr>\n",
       "      <th>33</th>\n",
       "      <td>ftx</td>\n",
       "      <td>2022-11-10T06:07:59.602</td>\n",
       "      <td>16350.00</td>\n",
       "      <td>34.00</td>\n",
       "      <td>4.072673</td>\n",
       "    </tr>\n",
       "    <tr>\n",
       "      <th>34</th>\n",
       "      <td>ftx</td>\n",
       "      <td>2022-11-10T06:08:03.114</td>\n",
       "      <td>16357.00</td>\n",
       "      <td>41.00</td>\n",
       "      <td>3.771825</td>\n",
       "    </tr>\n",
       "    <tr>\n",
       "      <th>35</th>\n",
       "      <td>bytetrade</td>\n",
       "      <td>2022-11-10T06:08:05.823</td>\n",
       "      <td>16704.40</td>\n",
       "      <td>201.10</td>\n",
       "      <td>3.237283</td>\n",
       "    </tr>\n",
       "    <tr>\n",
       "      <th>36</th>\n",
       "      <td>bytetrade</td>\n",
       "      <td>2022-11-10T06:08:08.665</td>\n",
       "      <td>16704.40</td>\n",
       "      <td>201.10</td>\n",
       "      <td>36.448685</td>\n",
       "    </tr>\n",
       "    <tr>\n",
       "      <th>37</th>\n",
       "      <td>bytetrade</td>\n",
       "      <td>2022-11-10T06:08:11.330</td>\n",
       "      <td>16715.00</td>\n",
       "      <td>201.00</td>\n",
       "      <td>34.114552</td>\n",
       "    </tr>\n",
       "    <tr>\n",
       "      <th>38</th>\n",
       "      <td>bytetrade</td>\n",
       "      <td>2022-11-10T06:08:14.651</td>\n",
       "      <td>16706.30</td>\n",
       "      <td>201.00</td>\n",
       "      <td>26.576832</td>\n",
       "    </tr>\n",
       "    <tr>\n",
       "      <th>39</th>\n",
       "      <td>bytetrade</td>\n",
       "      <td>2022-11-10T06:08:17.303</td>\n",
       "      <td>16706.30</td>\n",
       "      <td>201.00</td>\n",
       "      <td>21.711441</td>\n",
       "    </tr>\n",
       "    <tr>\n",
       "      <th>40</th>\n",
       "      <td>bytetrade</td>\n",
       "      <td>2022-11-10T06:08:19.800</td>\n",
       "      <td>16724.70</td>\n",
       "      <td>201.00</td>\n",
       "      <td>2.483814</td>\n",
       "    </tr>\n",
       "    <tr>\n",
       "      <th>41</th>\n",
       "      <td>bytetrade</td>\n",
       "      <td>2022-11-10T06:08:22.716</td>\n",
       "      <td>16714.80</td>\n",
       "      <td>201.00</td>\n",
       "      <td>10.447966</td>\n",
       "    </tr>\n",
       "    <tr>\n",
       "      <th>42</th>\n",
       "      <td>bytetrade</td>\n",
       "      <td>2022-11-10T06:08:25.712</td>\n",
       "      <td>16724.20</td>\n",
       "      <td>201.00</td>\n",
       "      <td>10.735052</td>\n",
       "    </tr>\n",
       "    <tr>\n",
       "      <th>43</th>\n",
       "      <td>bytetrade</td>\n",
       "      <td>2022-11-10T06:08:28.202</td>\n",
       "      <td>16709.90</td>\n",
       "      <td>201.00</td>\n",
       "      <td>5.546290</td>\n",
       "    </tr>\n",
       "    <tr>\n",
       "      <th>44</th>\n",
       "      <td>bytetrade</td>\n",
       "      <td>2022-11-10T06:08:30.932</td>\n",
       "      <td>16707.70</td>\n",
       "      <td>266.70</td>\n",
       "      <td>6.209455</td>\n",
       "    </tr>\n",
       "    <tr>\n",
       "      <th>45</th>\n",
       "      <td>bytetrade</td>\n",
       "      <td>2022-11-10T06:08:33.701</td>\n",
       "      <td>16723.70</td>\n",
       "      <td>266.70</td>\n",
       "      <td>1.854724</td>\n",
       "    </tr>\n",
       "    <tr>\n",
       "      <th>46</th>\n",
       "      <td>bytetrade</td>\n",
       "      <td>2022-11-10T06:08:36.378</td>\n",
       "      <td>16677.60</td>\n",
       "      <td>174.60</td>\n",
       "      <td>10.833036</td>\n",
       "    </tr>\n",
       "    <tr>\n",
       "      <th>47</th>\n",
       "      <td>bytetrade</td>\n",
       "      <td>2022-11-10T06:08:39.829</td>\n",
       "      <td>16677.60</td>\n",
       "      <td>174.60</td>\n",
       "      <td>15.995958</td>\n",
       "    </tr>\n",
       "    <tr>\n",
       "      <th>48</th>\n",
       "      <td>bytetrade</td>\n",
       "      <td>2022-11-10T06:08:43.189</td>\n",
       "      <td>16717.40</td>\n",
       "      <td>174.60</td>\n",
       "      <td>10.820906</td>\n",
       "    </tr>\n",
       "    <tr>\n",
       "      <th>49</th>\n",
       "      <td>bytetrade</td>\n",
       "      <td>2022-11-10T06:08:45.929</td>\n",
       "      <td>16740.00</td>\n",
       "      <td>174.60</td>\n",
       "      <td>16.880916</td>\n",
       "    </tr>\n",
       "    <tr>\n",
       "      <th>50</th>\n",
       "      <td>bytetrade</td>\n",
       "      <td>2022-11-10T06:08:48.376</td>\n",
       "      <td>16716.80</td>\n",
       "      <td>174.60</td>\n",
       "      <td>10.759864</td>\n",
       "    </tr>\n",
       "    <tr>\n",
       "      <th>51</th>\n",
       "      <td>bytetrade</td>\n",
       "      <td>2022-11-10T06:08:51.163</td>\n",
       "      <td>16727.40</td>\n",
       "      <td>174.60</td>\n",
       "      <td>16.002083</td>\n",
       "    </tr>\n",
       "    <tr>\n",
       "      <th>52</th>\n",
       "      <td>bytetrade</td>\n",
       "      <td>2022-11-10T06:08:53.661</td>\n",
       "      <td>16717.40</td>\n",
       "      <td>174.60</td>\n",
       "      <td>11.546890</td>\n",
       "    </tr>\n",
       "    <tr>\n",
       "      <th>53</th>\n",
       "      <td>bytetrade</td>\n",
       "      <td>2022-11-10T06:08:56.370</td>\n",
       "      <td>16724.30</td>\n",
       "      <td>174.60</td>\n",
       "      <td>3.198333</td>\n",
       "    </tr>\n",
       "    <tr>\n",
       "      <th>54</th>\n",
       "      <td>bytetrade</td>\n",
       "      <td>2022-11-10T06:08:59.819</td>\n",
       "      <td>16724.30</td>\n",
       "      <td>174.60</td>\n",
       "      <td>1.400952</td>\n",
       "    </tr>\n",
       "  </tbody>\n",
       "</table>\n",
       "</div>"
      ],
      "text/plain": [
       "     exchange                timestamp  close_price  spread  effective spread\n",
       "0     binance  2022-11-10T06:06:12.804     16731.33    0.20          0.760614\n",
       "1     binance  2022-11-10T06:06:15.445     16727.13    0.47          5.093709\n",
       "2     binance  2022-11-10T06:06:17.897     16726.48    0.53          4.735624\n",
       "3     binance  2022-11-10T06:06:20.871     16725.08    0.53          1.139883\n",
       "4     binance  2022-11-10T06:06:23.537     16727.82    1.59          3.140679\n",
       "5     binance  2022-11-10T06:06:26.200     16728.08    1.00          3.248384\n",
       "6     binance  2022-11-10T06:06:29.400     16725.75    0.74          2.481048\n",
       "7     binance  2022-11-10T06:06:31.892     16732.71    1.03          4.286319\n",
       "8     binance  2022-11-10T06:06:34.739     16725.89    1.48          6.277399\n",
       "9     binance  2022-11-10T06:06:37.440     16727.37    1.11          6.727397\n",
       "10    binance  2022-11-10T06:06:39.977     16726.59    0.36          3.173662\n",
       "11    binance  2022-11-10T06:06:42.435     16724.27    0.60          4.202158\n",
       "12    binance  2022-11-10T06:06:44.847     16723.45    1.95          4.530372\n",
       "13    binance  2022-11-10T06:06:47.372     16722.09    0.96          2.925839\n",
       "14    binance  2022-11-10T06:06:49.956     16731.40    2.41          1.087382\n",
       "15        ftx  2022-11-10T06:06:53.414     16336.00   43.00          6.324682\n",
       "16        ftx  2022-11-10T06:06:57.463     16321.00   43.00         40.141139\n",
       "17        ftx  2022-11-10T06:07:00.431     16321.00   39.00         35.374235\n",
       "18        ftx  2022-11-10T06:07:03.324     16321.00   39.00         30.491500\n",
       "19        ftx  2022-11-10T06:07:05.627     16321.00   39.00         24.166589\n",
       "20        ftx  2022-11-10T06:07:09.043     16331.00   33.00          4.837355\n",
       "21        ftx  2022-11-10T06:07:13.929     16348.00   47.00          6.324555\n",
       "22        ftx  2022-11-10T06:07:17.483     16301.00   83.00          5.853774\n",
       "23        ftx  2022-11-10T06:07:21.431     16362.00   33.00         16.346661\n",
       "24        ftx  2022-11-10T06:07:25.429     16308.00   77.00         19.518538\n",
       "25        ftx  2022-11-10T06:07:28.392     16282.00   71.00         17.102047\n",
       "26        ftx  2022-11-10T06:07:30.984     16330.00   36.00         11.337842\n",
       "27        ftx  2022-11-10T06:07:35.194     16317.00   17.00         22.202402\n",
       "28        ftx  2022-11-10T06:07:39.152     16316.00   17.00         15.534049\n",
       "29        ftx  2022-11-10T06:07:42.611     16333.00   17.00         10.279429\n",
       "30        ftx  2022-11-10T06:07:46.622     16321.00   12.00         13.216656\n",
       "31        ftx  2022-11-10T06:07:51.255     16338.00   10.00         11.110356\n",
       "32        ftx  2022-11-10T06:07:56.182     16335.00   32.00          8.351447\n",
       "33        ftx  2022-11-10T06:07:59.602     16350.00   34.00          4.072673\n",
       "34        ftx  2022-11-10T06:08:03.114     16357.00   41.00          3.771825\n",
       "35  bytetrade  2022-11-10T06:08:05.823     16704.40  201.10          3.237283\n",
       "36  bytetrade  2022-11-10T06:08:08.665     16704.40  201.10         36.448685\n",
       "37  bytetrade  2022-11-10T06:08:11.330     16715.00  201.00         34.114552\n",
       "38  bytetrade  2022-11-10T06:08:14.651     16706.30  201.00         26.576832\n",
       "39  bytetrade  2022-11-10T06:08:17.303     16706.30  201.00         21.711441\n",
       "40  bytetrade  2022-11-10T06:08:19.800     16724.70  201.00          2.483814\n",
       "41  bytetrade  2022-11-10T06:08:22.716     16714.80  201.00         10.447966\n",
       "42  bytetrade  2022-11-10T06:08:25.712     16724.20  201.00         10.735052\n",
       "43  bytetrade  2022-11-10T06:08:28.202     16709.90  201.00          5.546290\n",
       "44  bytetrade  2022-11-10T06:08:30.932     16707.70  266.70          6.209455\n",
       "45  bytetrade  2022-11-10T06:08:33.701     16723.70  266.70          1.854724\n",
       "46  bytetrade  2022-11-10T06:08:36.378     16677.60  174.60         10.833036\n",
       "47  bytetrade  2022-11-10T06:08:39.829     16677.60  174.60         15.995958\n",
       "48  bytetrade  2022-11-10T06:08:43.189     16717.40  174.60         10.820906\n",
       "49  bytetrade  2022-11-10T06:08:45.929     16740.00  174.60         16.880916\n",
       "50  bytetrade  2022-11-10T06:08:48.376     16716.80  174.60         10.759864\n",
       "51  bytetrade  2022-11-10T06:08:51.163     16727.40  174.60         16.002083\n",
       "52  bytetrade  2022-11-10T06:08:53.661     16717.40  174.60         11.546890\n",
       "53  bytetrade  2022-11-10T06:08:56.370     16724.30  174.60          3.198333\n",
       "54  bytetrade  2022-11-10T06:08:59.819     16724.30  174.60          1.400952"
      ]
     },
     "execution_count": 280,
     "metadata": {},
     "output_type": "execute_result"
    }
   ],
   "source": [
    "Roll_B=roll_model(verif_df1, 5)\n",
    "Roll_B.reset_index(drop=True)"
   ]
  },
  {
   "cell_type": "markdown",
   "metadata": {},
   "source": [
    "<font color= lightblue> <font size = 2> ETH Spreads </font>"
   ]
  },
  {
   "cell_type": "code",
   "execution_count": 254,
   "metadata": {},
   "outputs": [
    {
     "data": {
      "text/html": [
       "<div>\n",
       "<style scoped>\n",
       "    .dataframe tbody tr th:only-of-type {\n",
       "        vertical-align: middle;\n",
       "    }\n",
       "\n",
       "    .dataframe tbody tr th {\n",
       "        vertical-align: top;\n",
       "    }\n",
       "\n",
       "    .dataframe thead th {\n",
       "        text-align: right;\n",
       "    }\n",
       "</style>\n",
       "<table border=\"1\" class=\"dataframe\">\n",
       "  <thead>\n",
       "    <tr style=\"text-align: right;\">\n",
       "      <th></th>\n",
       "      <th>exchange</th>\n",
       "      <th>timestamp</th>\n",
       "      <th>spread</th>\n",
       "      <th>close_price</th>\n",
       "      <th>effective spread</th>\n",
       "    </tr>\n",
       "  </thead>\n",
       "  <tbody>\n",
       "    <tr>\n",
       "      <th>5</th>\n",
       "      <td>binance</td>\n",
       "      <td>2022-11-10T06:09:17.292</td>\n",
       "      <td>0.01</td>\n",
       "      <td>1187.97</td>\n",
       "      <td>1.269554</td>\n",
       "    </tr>\n",
       "    <tr>\n",
       "      <th>6</th>\n",
       "      <td>binance</td>\n",
       "      <td>2022-11-10T06:09:20.154</td>\n",
       "      <td>0.01</td>\n",
       "      <td>1187.26</td>\n",
       "      <td>1.449816</td>\n",
       "    </tr>\n",
       "    <tr>\n",
       "      <th>7</th>\n",
       "      <td>binance</td>\n",
       "      <td>2022-11-10T06:09:22.666</td>\n",
       "      <td>0.01</td>\n",
       "      <td>1187.36</td>\n",
       "      <td>0.884666</td>\n",
       "    </tr>\n",
       "    <tr>\n",
       "      <th>8</th>\n",
       "      <td>binance</td>\n",
       "      <td>2022-11-10T06:09:25.323</td>\n",
       "      <td>0.01</td>\n",
       "      <td>1187.36</td>\n",
       "      <td>0.277308</td>\n",
       "    </tr>\n",
       "    <tr>\n",
       "      <th>9</th>\n",
       "      <td>binance</td>\n",
       "      <td>2022-11-10T06:09:27.925</td>\n",
       "      <td>0.11</td>\n",
       "      <td>1187.85</td>\n",
       "      <td>1.075128</td>\n",
       "    </tr>\n",
       "    <tr>\n",
       "      <th>10</th>\n",
       "      <td>binance</td>\n",
       "      <td>2022-11-10T06:09:30.648</td>\n",
       "      <td>0.01</td>\n",
       "      <td>1187.82</td>\n",
       "      <td>1.024109</td>\n",
       "    </tr>\n",
       "    <tr>\n",
       "      <th>11</th>\n",
       "      <td>binance</td>\n",
       "      <td>2022-11-10T06:09:33.214</td>\n",
       "      <td>0.01</td>\n",
       "      <td>1187.52</td>\n",
       "      <td>0.168127</td>\n",
       "    </tr>\n",
       "    <tr>\n",
       "      <th>12</th>\n",
       "      <td>binance</td>\n",
       "      <td>2022-11-10T06:09:35.773</td>\n",
       "      <td>0.01</td>\n",
       "      <td>1187.26</td>\n",
       "      <td>0.697615</td>\n",
       "    </tr>\n",
       "    <tr>\n",
       "      <th>13</th>\n",
       "      <td>binance</td>\n",
       "      <td>2022-11-10T06:09:38.491</td>\n",
       "      <td>0.01</td>\n",
       "      <td>1187.38</td>\n",
       "      <td>0.861665</td>\n",
       "    </tr>\n",
       "    <tr>\n",
       "      <th>14</th>\n",
       "      <td>binance</td>\n",
       "      <td>2022-11-10T06:09:41.361</td>\n",
       "      <td>0.01</td>\n",
       "      <td>1186.97</td>\n",
       "      <td>0.566304</td>\n",
       "    </tr>\n",
       "    <tr>\n",
       "      <th>15</th>\n",
       "      <td>binance</td>\n",
       "      <td>2022-11-10T06:09:44.345</td>\n",
       "      <td>0.01</td>\n",
       "      <td>1186.79</td>\n",
       "      <td>0.352373</td>\n",
       "    </tr>\n",
       "    <tr>\n",
       "      <th>16</th>\n",
       "      <td>binance</td>\n",
       "      <td>2022-11-10T06:09:47.381</td>\n",
       "      <td>0.03</td>\n",
       "      <td>1186.50</td>\n",
       "      <td>0.605337</td>\n",
       "    </tr>\n",
       "    <tr>\n",
       "      <th>17</th>\n",
       "      <td>binance</td>\n",
       "      <td>2022-11-10T06:09:50.419</td>\n",
       "      <td>0.01</td>\n",
       "      <td>1186.20</td>\n",
       "      <td>0.795571</td>\n",
       "    </tr>\n",
       "    <tr>\n",
       "      <th>18</th>\n",
       "      <td>binance</td>\n",
       "      <td>2022-11-10T06:09:52.963</td>\n",
       "      <td>0.01</td>\n",
       "      <td>1186.19</td>\n",
       "      <td>0.518781</td>\n",
       "    </tr>\n",
       "    <tr>\n",
       "      <th>19</th>\n",
       "      <td>binance</td>\n",
       "      <td>2022-11-10T06:09:55.546</td>\n",
       "      <td>0.01</td>\n",
       "      <td>1187.64</td>\n",
       "      <td>0.361571</td>\n",
       "    </tr>\n",
       "    <tr>\n",
       "      <th>20</th>\n",
       "      <td>ftx</td>\n",
       "      <td>2022-11-10T06:10:00.463</td>\n",
       "      <td>6.40</td>\n",
       "      <td>1208.20</td>\n",
       "      <td>0.368013</td>\n",
       "    </tr>\n",
       "    <tr>\n",
       "      <th>21</th>\n",
       "      <td>ftx</td>\n",
       "      <td>2022-11-10T06:10:04.139</td>\n",
       "      <td>6.70</td>\n",
       "      <td>1213.30</td>\n",
       "      <td>1.308103</td>\n",
       "    </tr>\n",
       "    <tr>\n",
       "      <th>22</th>\n",
       "      <td>ftx</td>\n",
       "      <td>2022-11-10T06:10:07.610</td>\n",
       "      <td>3.40</td>\n",
       "      <td>1213.40</td>\n",
       "      <td>2.467536</td>\n",
       "    </tr>\n",
       "    <tr>\n",
       "      <th>23</th>\n",
       "      <td>ftx</td>\n",
       "      <td>2022-11-10T06:10:11.286</td>\n",
       "      <td>3.40</td>\n",
       "      <td>1213.40</td>\n",
       "      <td>4.528764</td>\n",
       "    </tr>\n",
       "    <tr>\n",
       "      <th>24</th>\n",
       "      <td>ftx</td>\n",
       "      <td>2022-11-10T06:10:15.376</td>\n",
       "      <td>4.40</td>\n",
       "      <td>1209.70</td>\n",
       "      <td>4.620765</td>\n",
       "    </tr>\n",
       "    <tr>\n",
       "      <th>25</th>\n",
       "      <td>ftx</td>\n",
       "      <td>2022-11-10T06:10:18.320</td>\n",
       "      <td>4.70</td>\n",
       "      <td>1208.30</td>\n",
       "      <td>2.587341</td>\n",
       "    </tr>\n",
       "    <tr>\n",
       "      <th>26</th>\n",
       "      <td>ftx</td>\n",
       "      <td>2022-11-10T06:10:21.262</td>\n",
       "      <td>4.20</td>\n",
       "      <td>1209.10</td>\n",
       "      <td>0.988264</td>\n",
       "    </tr>\n",
       "    <tr>\n",
       "      <th>27</th>\n",
       "      <td>ftx</td>\n",
       "      <td>2022-11-10T06:10:24.792</td>\n",
       "      <td>4.20</td>\n",
       "      <td>1209.10</td>\n",
       "      <td>2.022292</td>\n",
       "    </tr>\n",
       "    <tr>\n",
       "      <th>28</th>\n",
       "      <td>ftx</td>\n",
       "      <td>2022-11-10T06:10:27.769</td>\n",
       "      <td>4.10</td>\n",
       "      <td>1209.10</td>\n",
       "      <td>1.874656</td>\n",
       "    </tr>\n",
       "    <tr>\n",
       "      <th>29</th>\n",
       "      <td>ftx</td>\n",
       "      <td>2022-11-10T06:10:31.486</td>\n",
       "      <td>4.00</td>\n",
       "      <td>1209.10</td>\n",
       "      <td>1.626243</td>\n",
       "    </tr>\n",
       "    <tr>\n",
       "      <th>30</th>\n",
       "      <td>ftx</td>\n",
       "      <td>2022-11-10T06:10:35.233</td>\n",
       "      <td>4.00</td>\n",
       "      <td>1209.10</td>\n",
       "      <td>1.018496</td>\n",
       "    </tr>\n",
       "    <tr>\n",
       "      <th>31</th>\n",
       "      <td>ftx</td>\n",
       "      <td>2022-11-10T06:10:38.719</td>\n",
       "      <td>4.00</td>\n",
       "      <td>1211.50</td>\n",
       "      <td>0.000000</td>\n",
       "    </tr>\n",
       "    <tr>\n",
       "      <th>32</th>\n",
       "      <td>ftx</td>\n",
       "      <td>2022-11-10T06:10:41.807</td>\n",
       "      <td>4.00</td>\n",
       "      <td>1211.90</td>\n",
       "      <td>0.346410</td>\n",
       "    </tr>\n",
       "    <tr>\n",
       "      <th>33</th>\n",
       "      <td>ftx</td>\n",
       "      <td>2022-11-10T06:10:45.367</td>\n",
       "      <td>4.00</td>\n",
       "      <td>1211.90</td>\n",
       "      <td>0.723878</td>\n",
       "    </tr>\n",
       "    <tr>\n",
       "      <th>34</th>\n",
       "      <td>ftx</td>\n",
       "      <td>2022-11-10T06:10:48.850</td>\n",
       "      <td>4.00</td>\n",
       "      <td>1211.80</td>\n",
       "      <td>1.603746</td>\n",
       "    </tr>\n",
       "    <tr>\n",
       "      <th>35</th>\n",
       "      <td>ftx</td>\n",
       "      <td>2022-11-10T06:10:53.950</td>\n",
       "      <td>4.00</td>\n",
       "      <td>1208.80</td>\n",
       "      <td>1.643878</td>\n",
       "    </tr>\n",
       "    <tr>\n",
       "      <th>36</th>\n",
       "      <td>ftx</td>\n",
       "      <td>2022-11-10T06:10:57.284</td>\n",
       "      <td>3.70</td>\n",
       "      <td>1208.80</td>\n",
       "      <td>0.830462</td>\n",
       "    </tr>\n",
       "    <tr>\n",
       "      <th>37</th>\n",
       "      <td>ftx</td>\n",
       "      <td>2022-11-10T06:11:01.201</td>\n",
       "      <td>4.10</td>\n",
       "      <td>1202.10</td>\n",
       "      <td>0.856543</td>\n",
       "    </tr>\n",
       "    <tr>\n",
       "      <th>38</th>\n",
       "      <td>ftx</td>\n",
       "      <td>2022-11-10T06:11:04.158</td>\n",
       "      <td>4.20</td>\n",
       "      <td>1206.20</td>\n",
       "      <td>1.820806</td>\n",
       "    </tr>\n",
       "    <tr>\n",
       "      <th>39</th>\n",
       "      <td>ftx</td>\n",
       "      <td>2022-11-10T06:11:07.742</td>\n",
       "      <td>3.20</td>\n",
       "      <td>1208.00</td>\n",
       "      <td>1.639512</td>\n",
       "    </tr>\n",
       "    <tr>\n",
       "      <th>40</th>\n",
       "      <td>bytetrade</td>\n",
       "      <td>2022-11-10T06:11:11.813</td>\n",
       "      <td>19.08</td>\n",
       "      <td>1185.89</td>\n",
       "      <td>2.448401</td>\n",
       "    </tr>\n",
       "    <tr>\n",
       "      <th>41</th>\n",
       "      <td>bytetrade</td>\n",
       "      <td>2022-11-10T06:11:14.788</td>\n",
       "      <td>19.08</td>\n",
       "      <td>1184.95</td>\n",
       "      <td>3.494353</td>\n",
       "    </tr>\n",
       "    <tr>\n",
       "      <th>42</th>\n",
       "      <td>bytetrade</td>\n",
       "      <td>2022-11-10T06:11:17.727</td>\n",
       "      <td>18.07</td>\n",
       "      <td>1184.95</td>\n",
       "      <td>2.853144</td>\n",
       "    </tr>\n",
       "    <tr>\n",
       "      <th>43</th>\n",
       "      <td>bytetrade</td>\n",
       "      <td>2022-11-10T06:11:20.557</td>\n",
       "      <td>18.07</td>\n",
       "      <td>1185.71</td>\n",
       "      <td>5.045007</td>\n",
       "    </tr>\n",
       "    <tr>\n",
       "      <th>44</th>\n",
       "      <td>bytetrade</td>\n",
       "      <td>2022-11-10T06:11:24.208</td>\n",
       "      <td>18.07</td>\n",
       "      <td>1185.78</td>\n",
       "      <td>5.266197</td>\n",
       "    </tr>\n",
       "    <tr>\n",
       "      <th>45</th>\n",
       "      <td>bytetrade</td>\n",
       "      <td>2022-11-10T06:11:27.669</td>\n",
       "      <td>18.07</td>\n",
       "      <td>1186.73</td>\n",
       "      <td>1.175571</td>\n",
       "    </tr>\n",
       "    <tr>\n",
       "      <th>46</th>\n",
       "      <td>bytetrade</td>\n",
       "      <td>2022-11-10T06:11:30.444</td>\n",
       "      <td>14.42</td>\n",
       "      <td>1186.73</td>\n",
       "      <td>0.921991</td>\n",
       "    </tr>\n",
       "    <tr>\n",
       "      <th>47</th>\n",
       "      <td>bytetrade</td>\n",
       "      <td>2022-11-10T06:11:33.274</td>\n",
       "      <td>14.42</td>\n",
       "      <td>1186.54</td>\n",
       "      <td>0.844630</td>\n",
       "    </tr>\n",
       "    <tr>\n",
       "      <th>48</th>\n",
       "      <td>bytetrade</td>\n",
       "      <td>2022-11-10T06:11:35.773</td>\n",
       "      <td>14.42</td>\n",
       "      <td>1186.54</td>\n",
       "      <td>0.940514</td>\n",
       "    </tr>\n",
       "    <tr>\n",
       "      <th>49</th>\n",
       "      <td>bytetrade</td>\n",
       "      <td>2022-11-10T06:11:38.593</td>\n",
       "      <td>18.07</td>\n",
       "      <td>1186.30</td>\n",
       "      <td>1.127712</td>\n",
       "    </tr>\n",
       "    <tr>\n",
       "      <th>50</th>\n",
       "      <td>bytetrade</td>\n",
       "      <td>2022-11-10T06:11:41.847</td>\n",
       "      <td>18.07</td>\n",
       "      <td>1184.42</td>\n",
       "      <td>0.457129</td>\n",
       "    </tr>\n",
       "    <tr>\n",
       "      <th>51</th>\n",
       "      <td>bytetrade</td>\n",
       "      <td>2022-11-10T06:11:44.663</td>\n",
       "      <td>18.07</td>\n",
       "      <td>1186.35</td>\n",
       "      <td>0.319322</td>\n",
       "    </tr>\n",
       "    <tr>\n",
       "      <th>52</th>\n",
       "      <td>bytetrade</td>\n",
       "      <td>2022-11-10T06:11:47.775</td>\n",
       "      <td>18.07</td>\n",
       "      <td>1186.35</td>\n",
       "      <td>0.739662</td>\n",
       "    </tr>\n",
       "    <tr>\n",
       "      <th>53</th>\n",
       "      <td>bytetrade</td>\n",
       "      <td>2022-11-10T06:11:50.540</td>\n",
       "      <td>18.07</td>\n",
       "      <td>1186.74</td>\n",
       "      <td>1.110150</td>\n",
       "    </tr>\n",
       "    <tr>\n",
       "      <th>54</th>\n",
       "      <td>bytetrade</td>\n",
       "      <td>2022-11-10T06:11:53.376</td>\n",
       "      <td>18.07</td>\n",
       "      <td>1186.00</td>\n",
       "      <td>2.111398</td>\n",
       "    </tr>\n",
       "    <tr>\n",
       "      <th>55</th>\n",
       "      <td>bytetrade</td>\n",
       "      <td>2022-11-10T06:11:56.728</td>\n",
       "      <td>18.07</td>\n",
       "      <td>1186.00</td>\n",
       "      <td>1.567695</td>\n",
       "    </tr>\n",
       "    <tr>\n",
       "      <th>56</th>\n",
       "      <td>bytetrade</td>\n",
       "      <td>2022-11-10T06:11:59.502</td>\n",
       "      <td>18.07</td>\n",
       "      <td>1186.54</td>\n",
       "      <td>0.498899</td>\n",
       "    </tr>\n",
       "    <tr>\n",
       "      <th>57</th>\n",
       "      <td>bytetrade</td>\n",
       "      <td>2022-11-10T06:12:02.411</td>\n",
       "      <td>18.07</td>\n",
       "      <td>1186.54</td>\n",
       "      <td>1.116169</td>\n",
       "    </tr>\n",
       "    <tr>\n",
       "      <th>58</th>\n",
       "      <td>bytetrade</td>\n",
       "      <td>2022-11-10T06:12:04.913</td>\n",
       "      <td>18.07</td>\n",
       "      <td>1186.27</td>\n",
       "      <td>1.035825</td>\n",
       "    </tr>\n",
       "    <tr>\n",
       "      <th>59</th>\n",
       "      <td>bytetrade</td>\n",
       "      <td>2022-11-10T06:12:07.672</td>\n",
       "      <td>18.07</td>\n",
       "      <td>1184.50</td>\n",
       "      <td>0.739121</td>\n",
       "    </tr>\n",
       "  </tbody>\n",
       "</table>\n",
       "</div>"
      ],
      "text/plain": [
       "     exchange                timestamp  spread  close_price  effective spread\n",
       "5     binance  2022-11-10T06:09:17.292    0.01      1187.97          1.269554\n",
       "6     binance  2022-11-10T06:09:20.154    0.01      1187.26          1.449816\n",
       "7     binance  2022-11-10T06:09:22.666    0.01      1187.36          0.884666\n",
       "8     binance  2022-11-10T06:09:25.323    0.01      1187.36          0.277308\n",
       "9     binance  2022-11-10T06:09:27.925    0.11      1187.85          1.075128\n",
       "10    binance  2022-11-10T06:09:30.648    0.01      1187.82          1.024109\n",
       "11    binance  2022-11-10T06:09:33.214    0.01      1187.52          0.168127\n",
       "12    binance  2022-11-10T06:09:35.773    0.01      1187.26          0.697615\n",
       "13    binance  2022-11-10T06:09:38.491    0.01      1187.38          0.861665\n",
       "14    binance  2022-11-10T06:09:41.361    0.01      1186.97          0.566304\n",
       "15    binance  2022-11-10T06:09:44.345    0.01      1186.79          0.352373\n",
       "16    binance  2022-11-10T06:09:47.381    0.03      1186.50          0.605337\n",
       "17    binance  2022-11-10T06:09:50.419    0.01      1186.20          0.795571\n",
       "18    binance  2022-11-10T06:09:52.963    0.01      1186.19          0.518781\n",
       "19    binance  2022-11-10T06:09:55.546    0.01      1187.64          0.361571\n",
       "20        ftx  2022-11-10T06:10:00.463    6.40      1208.20          0.368013\n",
       "21        ftx  2022-11-10T06:10:04.139    6.70      1213.30          1.308103\n",
       "22        ftx  2022-11-10T06:10:07.610    3.40      1213.40          2.467536\n",
       "23        ftx  2022-11-10T06:10:11.286    3.40      1213.40          4.528764\n",
       "24        ftx  2022-11-10T06:10:15.376    4.40      1209.70          4.620765\n",
       "25        ftx  2022-11-10T06:10:18.320    4.70      1208.30          2.587341\n",
       "26        ftx  2022-11-10T06:10:21.262    4.20      1209.10          0.988264\n",
       "27        ftx  2022-11-10T06:10:24.792    4.20      1209.10          2.022292\n",
       "28        ftx  2022-11-10T06:10:27.769    4.10      1209.10          1.874656\n",
       "29        ftx  2022-11-10T06:10:31.486    4.00      1209.10          1.626243\n",
       "30        ftx  2022-11-10T06:10:35.233    4.00      1209.10          1.018496\n",
       "31        ftx  2022-11-10T06:10:38.719    4.00      1211.50          0.000000\n",
       "32        ftx  2022-11-10T06:10:41.807    4.00      1211.90          0.346410\n",
       "33        ftx  2022-11-10T06:10:45.367    4.00      1211.90          0.723878\n",
       "34        ftx  2022-11-10T06:10:48.850    4.00      1211.80          1.603746\n",
       "35        ftx  2022-11-10T06:10:53.950    4.00      1208.80          1.643878\n",
       "36        ftx  2022-11-10T06:10:57.284    3.70      1208.80          0.830462\n",
       "37        ftx  2022-11-10T06:11:01.201    4.10      1202.10          0.856543\n",
       "38        ftx  2022-11-10T06:11:04.158    4.20      1206.20          1.820806\n",
       "39        ftx  2022-11-10T06:11:07.742    3.20      1208.00          1.639512\n",
       "40  bytetrade  2022-11-10T06:11:11.813   19.08      1185.89          2.448401\n",
       "41  bytetrade  2022-11-10T06:11:14.788   19.08      1184.95          3.494353\n",
       "42  bytetrade  2022-11-10T06:11:17.727   18.07      1184.95          2.853144\n",
       "43  bytetrade  2022-11-10T06:11:20.557   18.07      1185.71          5.045007\n",
       "44  bytetrade  2022-11-10T06:11:24.208   18.07      1185.78          5.266197\n",
       "45  bytetrade  2022-11-10T06:11:27.669   18.07      1186.73          1.175571\n",
       "46  bytetrade  2022-11-10T06:11:30.444   14.42      1186.73          0.921991\n",
       "47  bytetrade  2022-11-10T06:11:33.274   14.42      1186.54          0.844630\n",
       "48  bytetrade  2022-11-10T06:11:35.773   14.42      1186.54          0.940514\n",
       "49  bytetrade  2022-11-10T06:11:38.593   18.07      1186.30          1.127712\n",
       "50  bytetrade  2022-11-10T06:11:41.847   18.07      1184.42          0.457129\n",
       "51  bytetrade  2022-11-10T06:11:44.663   18.07      1186.35          0.319322\n",
       "52  bytetrade  2022-11-10T06:11:47.775   18.07      1186.35          0.739662\n",
       "53  bytetrade  2022-11-10T06:11:50.540   18.07      1186.74          1.110150\n",
       "54  bytetrade  2022-11-10T06:11:53.376   18.07      1186.00          2.111398\n",
       "55  bytetrade  2022-11-10T06:11:56.728   18.07      1186.00          1.567695\n",
       "56  bytetrade  2022-11-10T06:11:59.502   18.07      1186.54          0.498899\n",
       "57  bytetrade  2022-11-10T06:12:02.411   18.07      1186.54          1.116169\n",
       "58  bytetrade  2022-11-10T06:12:04.913   18.07      1186.27          1.035825\n",
       "59  bytetrade  2022-11-10T06:12:07.672   18.07      1184.50          0.739121"
      ]
     },
     "execution_count": 254,
     "metadata": {},
     "output_type": "execute_result"
    }
   ],
   "source": [
    "roll_model(verif_df2, 5)\n"
   ]
  },
  {
   "cell_type": "markdown",
   "metadata": {},
   "source": [
    "<font color= lightblue> <font size = 2> XRP Spreads </font>"
   ]
  },
  {
   "cell_type": "code",
   "execution_count": 260,
   "metadata": {},
   "outputs": [
    {
     "data": {
      "text/html": [
       "<div>\n",
       "<style scoped>\n",
       "    .dataframe tbody tr th:only-of-type {\n",
       "        vertical-align: middle;\n",
       "    }\n",
       "\n",
       "    .dataframe tbody tr th {\n",
       "        vertical-align: top;\n",
       "    }\n",
       "\n",
       "    .dataframe thead th {\n",
       "        text-align: right;\n",
       "    }\n",
       "</style>\n",
       "<table border=\"1\" class=\"dataframe\">\n",
       "  <thead>\n",
       "    <tr style=\"text-align: right;\">\n",
       "      <th></th>\n",
       "      <th>exchange</th>\n",
       "      <th>timestamp</th>\n",
       "      <th>spread</th>\n",
       "      <th>close_price</th>\n",
       "      <th>effective spread</th>\n",
       "    </tr>\n",
       "  </thead>\n",
       "  <tbody>\n",
       "    <tr>\n",
       "      <th>5</th>\n",
       "      <td>binance</td>\n",
       "      <td>2022-11-10T06:12:24.440</td>\n",
       "      <td>0.000100</td>\n",
       "      <td>0.373300</td>\n",
       "      <td>0.000183</td>\n",
       "    </tr>\n",
       "    <tr>\n",
       "      <th>6</th>\n",
       "      <td>binance</td>\n",
       "      <td>2022-11-10T06:12:26.973</td>\n",
       "      <td>0.000100</td>\n",
       "      <td>0.373200</td>\n",
       "      <td>0.000574</td>\n",
       "    </tr>\n",
       "    <tr>\n",
       "      <th>7</th>\n",
       "      <td>binance</td>\n",
       "      <td>2022-11-10T06:12:29.490</td>\n",
       "      <td>0.000100</td>\n",
       "      <td>0.373200</td>\n",
       "      <td>0.000420</td>\n",
       "    </tr>\n",
       "    <tr>\n",
       "      <th>8</th>\n",
       "      <td>binance</td>\n",
       "      <td>2022-11-10T06:12:32.039</td>\n",
       "      <td>0.000100</td>\n",
       "      <td>0.372900</td>\n",
       "      <td>0.000058</td>\n",
       "    </tr>\n",
       "    <tr>\n",
       "      <th>9</th>\n",
       "      <td>binance</td>\n",
       "      <td>2022-11-10T06:12:34.505</td>\n",
       "      <td>0.000100</td>\n",
       "      <td>0.372900</td>\n",
       "      <td>0.000200</td>\n",
       "    </tr>\n",
       "    <tr>\n",
       "      <th>10</th>\n",
       "      <td>binance</td>\n",
       "      <td>2022-11-10T06:12:37.074</td>\n",
       "      <td>0.000100</td>\n",
       "      <td>0.373200</td>\n",
       "      <td>0.000231</td>\n",
       "    </tr>\n",
       "    <tr>\n",
       "      <th>11</th>\n",
       "      <td>binance</td>\n",
       "      <td>2022-11-10T06:12:39.724</td>\n",
       "      <td>0.000100</td>\n",
       "      <td>0.373700</td>\n",
       "      <td>0.000400</td>\n",
       "    </tr>\n",
       "    <tr>\n",
       "      <th>12</th>\n",
       "      <td>binance</td>\n",
       "      <td>2022-11-10T06:12:42.605</td>\n",
       "      <td>0.000100</td>\n",
       "      <td>0.373300</td>\n",
       "      <td>0.000321</td>\n",
       "    </tr>\n",
       "    <tr>\n",
       "      <th>13</th>\n",
       "      <td>binance</td>\n",
       "      <td>2022-11-10T06:12:45.459</td>\n",
       "      <td>0.000100</td>\n",
       "      <td>0.373000</td>\n",
       "      <td>0.000383</td>\n",
       "    </tr>\n",
       "    <tr>\n",
       "      <th>14</th>\n",
       "      <td>binance</td>\n",
       "      <td>2022-11-10T06:12:48.151</td>\n",
       "      <td>0.000100</td>\n",
       "      <td>0.372800</td>\n",
       "      <td>0.000379</td>\n",
       "    </tr>\n",
       "    <tr>\n",
       "      <th>15</th>\n",
       "      <td>binance</td>\n",
       "      <td>2022-11-10T06:12:50.811</td>\n",
       "      <td>0.000100</td>\n",
       "      <td>0.372600</td>\n",
       "      <td>0.000632</td>\n",
       "    </tr>\n",
       "    <tr>\n",
       "      <th>16</th>\n",
       "      <td>binance</td>\n",
       "      <td>2022-11-10T06:12:53.287</td>\n",
       "      <td>0.000100</td>\n",
       "      <td>0.372700</td>\n",
       "      <td>0.000191</td>\n",
       "    </tr>\n",
       "    <tr>\n",
       "      <th>17</th>\n",
       "      <td>binance</td>\n",
       "      <td>2022-11-10T06:12:55.744</td>\n",
       "      <td>0.000100</td>\n",
       "      <td>0.372700</td>\n",
       "      <td>0.000183</td>\n",
       "    </tr>\n",
       "    <tr>\n",
       "      <th>18</th>\n",
       "      <td>binance</td>\n",
       "      <td>2022-11-10T06:12:58.371</td>\n",
       "      <td>0.000100</td>\n",
       "      <td>0.372800</td>\n",
       "      <td>0.000129</td>\n",
       "    </tr>\n",
       "    <tr>\n",
       "      <th>19</th>\n",
       "      <td>binance</td>\n",
       "      <td>2022-11-10T06:13:00.871</td>\n",
       "      <td>0.000100</td>\n",
       "      <td>0.372700</td>\n",
       "      <td>0.000365</td>\n",
       "    </tr>\n",
       "    <tr>\n",
       "      <th>20</th>\n",
       "      <td>ftx</td>\n",
       "      <td>2022-11-10T06:13:04.260</td>\n",
       "      <td>0.001000</td>\n",
       "      <td>0.352675</td>\n",
       "      <td>0.000208</td>\n",
       "    </tr>\n",
       "    <tr>\n",
       "      <th>21</th>\n",
       "      <td>ftx</td>\n",
       "      <td>2022-11-10T06:13:07.710</td>\n",
       "      <td>0.001025</td>\n",
       "      <td>0.353700</td>\n",
       "      <td>0.000849</td>\n",
       "    </tr>\n",
       "    <tr>\n",
       "      <th>22</th>\n",
       "      <td>ftx</td>\n",
       "      <td>2022-11-10T06:13:11.390</td>\n",
       "      <td>0.001025</td>\n",
       "      <td>0.353700</td>\n",
       "      <td>0.000735</td>\n",
       "    </tr>\n",
       "    <tr>\n",
       "      <th>23</th>\n",
       "      <td>ftx</td>\n",
       "      <td>2022-11-10T06:13:14.677</td>\n",
       "      <td>0.001025</td>\n",
       "      <td>0.353675</td>\n",
       "      <td>0.003163</td>\n",
       "    </tr>\n",
       "    <tr>\n",
       "      <th>24</th>\n",
       "      <td>ftx</td>\n",
       "      <td>2022-11-10T06:13:17.772</td>\n",
       "      <td>0.001000</td>\n",
       "      <td>0.352675</td>\n",
       "      <td>0.003032</td>\n",
       "    </tr>\n",
       "    <tr>\n",
       "      <th>25</th>\n",
       "      <td>ftx</td>\n",
       "      <td>2022-11-10T06:13:21.741</td>\n",
       "      <td>0.001125</td>\n",
       "      <td>0.352675</td>\n",
       "      <td>0.000640</td>\n",
       "    </tr>\n",
       "    <tr>\n",
       "      <th>26</th>\n",
       "      <td>ftx</td>\n",
       "      <td>2022-11-10T06:13:25.585</td>\n",
       "      <td>0.001125</td>\n",
       "      <td>0.352675</td>\n",
       "      <td>0.000144</td>\n",
       "    </tr>\n",
       "    <tr>\n",
       "      <th>27</th>\n",
       "      <td>ftx</td>\n",
       "      <td>2022-11-10T06:13:28.794</td>\n",
       "      <td>0.000100</td>\n",
       "      <td>0.353700</td>\n",
       "      <td>0.000699</td>\n",
       "    </tr>\n",
       "    <tr>\n",
       "      <th>28</th>\n",
       "      <td>ftx</td>\n",
       "      <td>2022-11-10T06:13:32.290</td>\n",
       "      <td>0.000100</td>\n",
       "      <td>0.353700</td>\n",
       "      <td>0.000632</td>\n",
       "    </tr>\n",
       "    <tr>\n",
       "      <th>29</th>\n",
       "      <td>ftx</td>\n",
       "      <td>2022-11-10T06:13:35.848</td>\n",
       "      <td>0.002550</td>\n",
       "      <td>0.353700</td>\n",
       "      <td>0.000185</td>\n",
       "    </tr>\n",
       "    <tr>\n",
       "      <th>30</th>\n",
       "      <td>ftx</td>\n",
       "      <td>2022-11-10T06:13:39.131</td>\n",
       "      <td>0.001700</td>\n",
       "      <td>0.353700</td>\n",
       "      <td>0.000716</td>\n",
       "    </tr>\n",
       "    <tr>\n",
       "      <th>31</th>\n",
       "      <td>ftx</td>\n",
       "      <td>2022-11-10T06:13:43.068</td>\n",
       "      <td>0.001700</td>\n",
       "      <td>0.353700</td>\n",
       "      <td>0.000666</td>\n",
       "    </tr>\n",
       "    <tr>\n",
       "      <th>32</th>\n",
       "      <td>ftx</td>\n",
       "      <td>2022-11-10T06:13:46.508</td>\n",
       "      <td>0.001700</td>\n",
       "      <td>0.353700</td>\n",
       "      <td>0.000000</td>\n",
       "    </tr>\n",
       "    <tr>\n",
       "      <th>33</th>\n",
       "      <td>ftx</td>\n",
       "      <td>2022-11-10T06:13:49.328</td>\n",
       "      <td>0.001700</td>\n",
       "      <td>0.353700</td>\n",
       "      <td>0.000000</td>\n",
       "    </tr>\n",
       "    <tr>\n",
       "      <th>34</th>\n",
       "      <td>ftx</td>\n",
       "      <td>2022-11-10T06:13:51.987</td>\n",
       "      <td>0.001700</td>\n",
       "      <td>0.353700</td>\n",
       "      <td>0.000000</td>\n",
       "    </tr>\n",
       "    <tr>\n",
       "      <th>35</th>\n",
       "      <td>ftx</td>\n",
       "      <td>2022-11-10T06:13:55.826</td>\n",
       "      <td>0.003800</td>\n",
       "      <td>0.350850</td>\n",
       "      <td>0.000000</td>\n",
       "    </tr>\n",
       "    <tr>\n",
       "      <th>36</th>\n",
       "      <td>ftx</td>\n",
       "      <td>2022-11-10T06:13:59.259</td>\n",
       "      <td>0.002175</td>\n",
       "      <td>0.350850</td>\n",
       "      <td>0.000308</td>\n",
       "    </tr>\n",
       "    <tr>\n",
       "      <th>37</th>\n",
       "      <td>ftx</td>\n",
       "      <td>2022-11-10T06:14:03.167</td>\n",
       "      <td>0.015500</td>\n",
       "      <td>0.364950</td>\n",
       "      <td>0.000308</td>\n",
       "    </tr>\n",
       "    <tr>\n",
       "      <th>38</th>\n",
       "      <td>ftx</td>\n",
       "      <td>2022-11-10T06:14:06.224</td>\n",
       "      <td>0.004500</td>\n",
       "      <td>0.354650</td>\n",
       "      <td>0.001377</td>\n",
       "    </tr>\n",
       "    <tr>\n",
       "      <th>39</th>\n",
       "      <td>ftx</td>\n",
       "      <td>2022-11-10T06:14:09.191</td>\n",
       "      <td>0.003100</td>\n",
       "      <td>0.356250</td>\n",
       "      <td>0.001053</td>\n",
       "    </tr>\n",
       "    <tr>\n",
       "      <th>40</th>\n",
       "      <td>bytetrade</td>\n",
       "      <td>2022-11-10T06:14:12.361</td>\n",
       "      <td>0.036818</td>\n",
       "      <td>0.372960</td>\n",
       "      <td>0.002709</td>\n",
       "    </tr>\n",
       "    <tr>\n",
       "      <th>41</th>\n",
       "      <td>bytetrade</td>\n",
       "      <td>2022-11-10T06:14:15.102</td>\n",
       "      <td>0.036818</td>\n",
       "      <td>0.373099</td>\n",
       "      <td>0.003445</td>\n",
       "    </tr>\n",
       "    <tr>\n",
       "      <th>42</th>\n",
       "      <td>bytetrade</td>\n",
       "      <td>2022-11-10T06:14:17.895</td>\n",
       "      <td>0.036818</td>\n",
       "      <td>0.373099</td>\n",
       "      <td>0.002168</td>\n",
       "    </tr>\n",
       "    <tr>\n",
       "      <th>43</th>\n",
       "      <td>bytetrade</td>\n",
       "      <td>2022-11-10T06:14:21.671</td>\n",
       "      <td>0.036818</td>\n",
       "      <td>0.373195</td>\n",
       "      <td>0.002767</td>\n",
       "    </tr>\n",
       "    <tr>\n",
       "      <th>44</th>\n",
       "      <td>bytetrade</td>\n",
       "      <td>2022-11-10T06:14:24.204</td>\n",
       "      <td>0.036818</td>\n",
       "      <td>0.373195</td>\n",
       "      <td>0.002679</td>\n",
       "    </tr>\n",
       "    <tr>\n",
       "      <th>45</th>\n",
       "      <td>bytetrade</td>\n",
       "      <td>2022-11-10T06:14:26.936</td>\n",
       "      <td>0.036818</td>\n",
       "      <td>0.373113</td>\n",
       "      <td>0.000252</td>\n",
       "    </tr>\n",
       "    <tr>\n",
       "      <th>46</th>\n",
       "      <td>bytetrade</td>\n",
       "      <td>2022-11-10T06:14:29.770</td>\n",
       "      <td>0.036818</td>\n",
       "      <td>0.373072</td>\n",
       "      <td>0.000225</td>\n",
       "    </tr>\n",
       "    <tr>\n",
       "      <th>47</th>\n",
       "      <td>bytetrade</td>\n",
       "      <td>2022-11-10T06:14:33.120</td>\n",
       "      <td>0.036818</td>\n",
       "      <td>0.373072</td>\n",
       "      <td>0.000194</td>\n",
       "    </tr>\n",
       "    <tr>\n",
       "      <th>48</th>\n",
       "      <td>bytetrade</td>\n",
       "      <td>2022-11-10T06:14:35.979</td>\n",
       "      <td>0.036818</td>\n",
       "      <td>0.373310</td>\n",
       "      <td>0.000199</td>\n",
       "    </tr>\n",
       "    <tr>\n",
       "      <th>49</th>\n",
       "      <td>bytetrade</td>\n",
       "      <td>2022-11-10T06:14:39.619</td>\n",
       "      <td>0.036818</td>\n",
       "      <td>0.373620</td>\n",
       "      <td>0.000084</td>\n",
       "    </tr>\n",
       "    <tr>\n",
       "      <th>50</th>\n",
       "      <td>bytetrade</td>\n",
       "      <td>2022-11-10T06:14:42.122</td>\n",
       "      <td>0.036818</td>\n",
       "      <td>0.372983</td>\n",
       "      <td>0.000022</td>\n",
       "    </tr>\n",
       "    <tr>\n",
       "      <th>51</th>\n",
       "      <td>bytetrade</td>\n",
       "      <td>2022-11-10T06:14:44.891</td>\n",
       "      <td>0.036461</td>\n",
       "      <td>0.372983</td>\n",
       "      <td>0.000360</td>\n",
       "    </tr>\n",
       "    <tr>\n",
       "      <th>52</th>\n",
       "      <td>bytetrade</td>\n",
       "      <td>2022-11-10T06:14:48.623</td>\n",
       "      <td>0.036461</td>\n",
       "      <td>0.373348</td>\n",
       "      <td>0.000270</td>\n",
       "    </tr>\n",
       "    <tr>\n",
       "      <th>53</th>\n",
       "      <td>bytetrade</td>\n",
       "      <td>2022-11-10T06:14:51.815</td>\n",
       "      <td>0.036461</td>\n",
       "      <td>0.373747</td>\n",
       "      <td>0.000682</td>\n",
       "    </tr>\n",
       "    <tr>\n",
       "      <th>54</th>\n",
       "      <td>bytetrade</td>\n",
       "      <td>2022-11-10T06:14:54.726</td>\n",
       "      <td>0.036461</td>\n",
       "      <td>0.373747</td>\n",
       "      <td>0.000501</td>\n",
       "    </tr>\n",
       "    <tr>\n",
       "      <th>55</th>\n",
       "      <td>bytetrade</td>\n",
       "      <td>2022-11-10T06:14:57.464</td>\n",
       "      <td>0.036461</td>\n",
       "      <td>0.373747</td>\n",
       "      <td>0.000411</td>\n",
       "    </tr>\n",
       "    <tr>\n",
       "      <th>56</th>\n",
       "      <td>bytetrade</td>\n",
       "      <td>2022-11-10T06:15:00.308</td>\n",
       "      <td>0.036461</td>\n",
       "      <td>0.373268</td>\n",
       "      <td>0.000203</td>\n",
       "    </tr>\n",
       "    <tr>\n",
       "      <th>57</th>\n",
       "      <td>bytetrade</td>\n",
       "      <td>2022-11-10T06:15:03.979</td>\n",
       "      <td>0.036461</td>\n",
       "      <td>0.373498</td>\n",
       "      <td>0.000396</td>\n",
       "    </tr>\n",
       "    <tr>\n",
       "      <th>58</th>\n",
       "      <td>bytetrade</td>\n",
       "      <td>2022-11-10T06:15:06.557</td>\n",
       "      <td>0.036461</td>\n",
       "      <td>0.373352</td>\n",
       "      <td>0.000091</td>\n",
       "    </tr>\n",
       "    <tr>\n",
       "      <th>59</th>\n",
       "      <td>bytetrade</td>\n",
       "      <td>2022-11-10T06:15:09.398</td>\n",
       "      <td>0.047603</td>\n",
       "      <td>0.373352</td>\n",
       "      <td>0.000492</td>\n",
       "    </tr>\n",
       "  </tbody>\n",
       "</table>\n",
       "</div>"
      ],
      "text/plain": [
       "     exchange                timestamp    spread  close_price  \\\n",
       "5     binance  2022-11-10T06:12:24.440  0.000100     0.373300   \n",
       "6     binance  2022-11-10T06:12:26.973  0.000100     0.373200   \n",
       "7     binance  2022-11-10T06:12:29.490  0.000100     0.373200   \n",
       "8     binance  2022-11-10T06:12:32.039  0.000100     0.372900   \n",
       "9     binance  2022-11-10T06:12:34.505  0.000100     0.372900   \n",
       "10    binance  2022-11-10T06:12:37.074  0.000100     0.373200   \n",
       "11    binance  2022-11-10T06:12:39.724  0.000100     0.373700   \n",
       "12    binance  2022-11-10T06:12:42.605  0.000100     0.373300   \n",
       "13    binance  2022-11-10T06:12:45.459  0.000100     0.373000   \n",
       "14    binance  2022-11-10T06:12:48.151  0.000100     0.372800   \n",
       "15    binance  2022-11-10T06:12:50.811  0.000100     0.372600   \n",
       "16    binance  2022-11-10T06:12:53.287  0.000100     0.372700   \n",
       "17    binance  2022-11-10T06:12:55.744  0.000100     0.372700   \n",
       "18    binance  2022-11-10T06:12:58.371  0.000100     0.372800   \n",
       "19    binance  2022-11-10T06:13:00.871  0.000100     0.372700   \n",
       "20        ftx  2022-11-10T06:13:04.260  0.001000     0.352675   \n",
       "21        ftx  2022-11-10T06:13:07.710  0.001025     0.353700   \n",
       "22        ftx  2022-11-10T06:13:11.390  0.001025     0.353700   \n",
       "23        ftx  2022-11-10T06:13:14.677  0.001025     0.353675   \n",
       "24        ftx  2022-11-10T06:13:17.772  0.001000     0.352675   \n",
       "25        ftx  2022-11-10T06:13:21.741  0.001125     0.352675   \n",
       "26        ftx  2022-11-10T06:13:25.585  0.001125     0.352675   \n",
       "27        ftx  2022-11-10T06:13:28.794  0.000100     0.353700   \n",
       "28        ftx  2022-11-10T06:13:32.290  0.000100     0.353700   \n",
       "29        ftx  2022-11-10T06:13:35.848  0.002550     0.353700   \n",
       "30        ftx  2022-11-10T06:13:39.131  0.001700     0.353700   \n",
       "31        ftx  2022-11-10T06:13:43.068  0.001700     0.353700   \n",
       "32        ftx  2022-11-10T06:13:46.508  0.001700     0.353700   \n",
       "33        ftx  2022-11-10T06:13:49.328  0.001700     0.353700   \n",
       "34        ftx  2022-11-10T06:13:51.987  0.001700     0.353700   \n",
       "35        ftx  2022-11-10T06:13:55.826  0.003800     0.350850   \n",
       "36        ftx  2022-11-10T06:13:59.259  0.002175     0.350850   \n",
       "37        ftx  2022-11-10T06:14:03.167  0.015500     0.364950   \n",
       "38        ftx  2022-11-10T06:14:06.224  0.004500     0.354650   \n",
       "39        ftx  2022-11-10T06:14:09.191  0.003100     0.356250   \n",
       "40  bytetrade  2022-11-10T06:14:12.361  0.036818     0.372960   \n",
       "41  bytetrade  2022-11-10T06:14:15.102  0.036818     0.373099   \n",
       "42  bytetrade  2022-11-10T06:14:17.895  0.036818     0.373099   \n",
       "43  bytetrade  2022-11-10T06:14:21.671  0.036818     0.373195   \n",
       "44  bytetrade  2022-11-10T06:14:24.204  0.036818     0.373195   \n",
       "45  bytetrade  2022-11-10T06:14:26.936  0.036818     0.373113   \n",
       "46  bytetrade  2022-11-10T06:14:29.770  0.036818     0.373072   \n",
       "47  bytetrade  2022-11-10T06:14:33.120  0.036818     0.373072   \n",
       "48  bytetrade  2022-11-10T06:14:35.979  0.036818     0.373310   \n",
       "49  bytetrade  2022-11-10T06:14:39.619  0.036818     0.373620   \n",
       "50  bytetrade  2022-11-10T06:14:42.122  0.036818     0.372983   \n",
       "51  bytetrade  2022-11-10T06:14:44.891  0.036461     0.372983   \n",
       "52  bytetrade  2022-11-10T06:14:48.623  0.036461     0.373348   \n",
       "53  bytetrade  2022-11-10T06:14:51.815  0.036461     0.373747   \n",
       "54  bytetrade  2022-11-10T06:14:54.726  0.036461     0.373747   \n",
       "55  bytetrade  2022-11-10T06:14:57.464  0.036461     0.373747   \n",
       "56  bytetrade  2022-11-10T06:15:00.308  0.036461     0.373268   \n",
       "57  bytetrade  2022-11-10T06:15:03.979  0.036461     0.373498   \n",
       "58  bytetrade  2022-11-10T06:15:06.557  0.036461     0.373352   \n",
       "59  bytetrade  2022-11-10T06:15:09.398  0.047603     0.373352   \n",
       "\n",
       "    effective spread  \n",
       "5           0.000183  \n",
       "6           0.000574  \n",
       "7           0.000420  \n",
       "8           0.000058  \n",
       "9           0.000200  \n",
       "10          0.000231  \n",
       "11          0.000400  \n",
       "12          0.000321  \n",
       "13          0.000383  \n",
       "14          0.000379  \n",
       "15          0.000632  \n",
       "16          0.000191  \n",
       "17          0.000183  \n",
       "18          0.000129  \n",
       "19          0.000365  \n",
       "20          0.000208  \n",
       "21          0.000849  \n",
       "22          0.000735  \n",
       "23          0.003163  \n",
       "24          0.003032  \n",
       "25          0.000640  \n",
       "26          0.000144  \n",
       "27          0.000699  \n",
       "28          0.000632  \n",
       "29          0.000185  \n",
       "30          0.000716  \n",
       "31          0.000666  \n",
       "32          0.000000  \n",
       "33          0.000000  \n",
       "34          0.000000  \n",
       "35          0.000000  \n",
       "36          0.000308  \n",
       "37          0.000308  \n",
       "38          0.001377  \n",
       "39          0.001053  \n",
       "40          0.002709  \n",
       "41          0.003445  \n",
       "42          0.002168  \n",
       "43          0.002767  \n",
       "44          0.002679  \n",
       "45          0.000252  \n",
       "46          0.000225  \n",
       "47          0.000194  \n",
       "48          0.000199  \n",
       "49          0.000084  \n",
       "50          0.000022  \n",
       "51          0.000360  \n",
       "52          0.000270  \n",
       "53          0.000682  \n",
       "54          0.000501  \n",
       "55          0.000411  \n",
       "56          0.000203  \n",
       "57          0.000396  \n",
       "58          0.000091  \n",
       "59          0.000492  "
      ]
     },
     "execution_count": 260,
     "metadata": {},
     "output_type": "execute_result"
    }
   ],
   "source": [
    "roll_model(verif_df3, 5)\n"
   ]
  },
  {
   "cell_type": "markdown",
   "metadata": {},
   "source": [
    "### <font color= orange> <font size = 5> 4. Conclusions: </font>\n",
    "\n",
    "<font color= lightgray>"
   ]
  },
  {
   "cell_type": "markdown",
   "metadata": {},
   "source": [
    "### <font color= orange> <font size = 5> 5. Bibliography: </font>\n",
    "\n",
    "<font color= lightgray>\n",
    "\n",
    "+ Villalobos, O, 2021. **Python Project Template**. Available at: https://github.com/OmarVillalobos/python-project. \n",
    "(Accessed: November 5, 2022). \n",
    "\n",
    "+ Financial Engineering, **Marketmicrostructure.pptx**. ITESO -  Microstructure and Trading Systems (ITE1731 - DMAF). \n",
    "Available at: https://docs.google.com/presentation/d/1uYyMERKKGeZ0MPqbJ3bcir9lfpzbeAH9ZMmxbYysokQ/edit?usp=sharing (Accessed: November 5, 2022). \n",
    "\n",
    "+ Muñoz E., J **Roll Model** *(spanish)*. ITESO - (ITE1731 - DMAF) Available at: https://github.com/EstebanMqz/MyST_LAB_4/blob/main/Roll%20.pdf (Accessed: November 5, 2022).\n",
    "\n",
    "+ Muñoz E., J **Asset Pricing Theory** *(spanish)*. ITESO - (ITE1731 - DMAF) Available at: https://github.com/EstebanMqz/MyST_LAB_4/blob/main/APT.pdf (Accessed: November 5, 2022). "
   ]
  }
 ],
 "metadata": {
  "kernelspec": {
   "display_name": "base",
   "language": "python",
   "name": "python3"
  },
  "language_info": {
   "codemirror_mode": {
    "name": "ipython",
    "version": 3
   },
   "file_extension": ".py",
   "mimetype": "text/x-python",
   "name": "python",
   "nbconvert_exporter": "python",
   "pygments_lexer": "ipython3",
   "version": "3.8.13"
  },
  "toc": {
   "base_numbering": 1,
   "nav_menu": {},
   "number_sections": true,
   "sideBar": true,
   "skip_h1_title": false,
   "title_cell": "Table of Contents",
   "title_sidebar": "Contents",
   "toc_cell": false,
   "toc_position": {},
   "toc_section_display": true,
   "toc_window_display": false
  },
  "vscode": {
   "interpreter": {
    "hash": "ad2bdc8ecc057115af97d19610ffacc2b4e99fae6737bb82f5d7fb13d2f2c186"
   }
  }
 },
 "nbformat": 4,
 "nbformat_minor": 2
}
